{
 "cells": [
  {
   "cell_type": "markdown",
   "id": "fixed-maple",
   "metadata": {},
   "source": [
    "### Import libraries "
   ]
  },
  {
   "cell_type": "code",
   "execution_count": 1,
   "id": "republican-electron",
   "metadata": {
    "scrolled": false
   },
   "outputs": [
    {
     "name": "stderr",
     "output_type": "stream",
     "text": [
      "C:\\Users\\david\\AppData\\Local\\Programs\\Python\\Python310\\lib\\site-packages\\tqdm\\auto.py:22: TqdmWarning: IProgress not found. Please update jupyter and ipywidgets. See https://ipywidgets.readthedocs.io/en/stable/user_install.html\n",
      "  from .autonotebook import tqdm as notebook_tqdm\n"
     ]
    },
    {
     "name": "stdout",
     "output_type": "stream",
     "text": [
      "Note: to be able to use all crisp methods, you need to install some additional packages:  {'wurlitzer', 'graph_tool', 'karateclub'}\n",
      "Note: to be able to use all overlapping methods, you need to install some additional packages:  {'ASLPAw', 'karateclub'}\n",
      "Note: to be able to use all bipartite methods, you need to install some additional packages:  {'wurlitzer'}\n"
     ]
    }
   ],
   "source": [
    "#per creare rete\n",
    "import pandas as pd\n",
    "from extract import Count, SocialETL, SocialDB\n",
    "from rich import print\n",
    "import networkx as nx\n",
    "import networkx.algorithms as nx\n",
    "import pandas as pd\n",
    "import matplotlib.pyplot as plt\n",
    "from networkx.utils import np_random_state\n",
    "\n",
    "#per la task\n",
    "import networkx as nx\n",
    "import cdlib\n",
    "from cdlib import evaluation\n",
    "from cdlib import algorithms\n",
    "from cdlib import viz\n",
    "from cdlib import NodeClustering\n",
    "from networkx.generators.community import LFR_benchmark_graph\n",
    "\n",
    "#altre\n",
    "import seaborn as sns\n",
    "import numpy as np\n",
    "import math\n",
    "import warnings\n",
    "from collections import Counter\n",
    "import numpy as np\n",
    "warnings.filterwarnings('ignore')"
   ]
  },
  {
   "cell_type": "code",
   "execution_count": 4,
   "id": "pregnant-loading",
   "metadata": {
    "scrolled": true
   },
   "outputs": [],
   "source": [
    "m = SocialDB(placeholder=True)"
   ]
  },
  {
   "cell_type": "code",
   "execution_count": 5,
   "id": "1f570592",
   "metadata": {},
   "outputs": [],
   "source": [
    "m.df.to_csv('df_SocialDB')"
   ]
  },
  {
   "cell_type": "code",
   "execution_count": 3,
   "id": "corporate-indonesian",
   "metadata": {},
   "outputs": [
    {
     "data": {
      "text/html": [
       "<div>\n",
       "<style scoped>\n",
       "    .dataframe tbody tr th:only-of-type {\n",
       "        vertical-align: middle;\n",
       "    }\n",
       "\n",
       "    .dataframe tbody tr th {\n",
       "        vertical-align: top;\n",
       "    }\n",
       "\n",
       "    .dataframe thead th {\n",
       "        text-align: right;\n",
       "    }\n",
       "</style>\n",
       "<table border=\"1\" class=\"dataframe\">\n",
       "  <thead>\n",
       "    <tr style=\"text-align: right;\">\n",
       "      <th></th>\n",
       "      <th>tweet_classes</th>\n",
       "      <th>class</th>\n",
       "    </tr>\n",
       "    <tr>\n",
       "      <th>author_id</th>\n",
       "      <th></th>\n",
       "      <th></th>\n",
       "    </tr>\n",
       "  </thead>\n",
       "  <tbody>\n",
       "    <tr>\n",
       "      <th>1004068718614368256</th>\n",
       "      <td>[proukr]</td>\n",
       "      <td>proukr</td>\n",
       "    </tr>\n",
       "    <tr>\n",
       "      <th>100487717</th>\n",
       "      <td>[proukr]</td>\n",
       "      <td>proukr</td>\n",
       "    </tr>\n",
       "    <tr>\n",
       "      <th>1010627649155280896</th>\n",
       "      <td>[proukr]</td>\n",
       "      <td>proukr</td>\n",
       "    </tr>\n",
       "    <tr>\n",
       "      <th>1011099800</th>\n",
       "      <td>[proukr]</td>\n",
       "      <td>proukr</td>\n",
       "    </tr>\n",
       "    <tr>\n",
       "      <th>1011308525807693829</th>\n",
       "      <td>[pax]</td>\n",
       "      <td>pax</td>\n",
       "    </tr>\n",
       "    <tr>\n",
       "      <th>...</th>\n",
       "      <td>...</td>\n",
       "      <td>...</td>\n",
       "    </tr>\n",
       "    <tr>\n",
       "      <th>988818565523484673</th>\n",
       "      <td>[proukr]</td>\n",
       "      <td>proukr</td>\n",
       "    </tr>\n",
       "    <tr>\n",
       "      <th>991008167688581120</th>\n",
       "      <td>[proukr, proukr, proukr, proukr]</td>\n",
       "      <td>proukr</td>\n",
       "    </tr>\n",
       "    <tr>\n",
       "      <th>993927457</th>\n",
       "      <td>[proukr, proukr, proukr]</td>\n",
       "      <td>proukr</td>\n",
       "    </tr>\n",
       "    <tr>\n",
       "      <th>995795143038038018</th>\n",
       "      <td>[proukr]</td>\n",
       "      <td>proukr</td>\n",
       "    </tr>\n",
       "    <tr>\n",
       "      <th>99579978</th>\n",
       "      <td>[proukr]</td>\n",
       "      <td>proukr</td>\n",
       "    </tr>\n",
       "  </tbody>\n",
       "</table>\n",
       "<p>412 rows × 2 columns</p>\n",
       "</div>"
      ],
      "text/plain": [
       "                                        tweet_classes   class\n",
       "author_id                                                    \n",
       "1004068718614368256                          [proukr]  proukr\n",
       "100487717                                    [proukr]  proukr\n",
       "1010627649155280896                          [proukr]  proukr\n",
       "1011099800                                   [proukr]  proukr\n",
       "1011308525807693829                             [pax]     pax\n",
       "...                                               ...     ...\n",
       "988818565523484673                           [proukr]  proukr\n",
       "991008167688581120   [proukr, proukr, proukr, proukr]  proukr\n",
       "993927457                    [proukr, proukr, proukr]  proukr\n",
       "995795143038038018                           [proukr]  proukr\n",
       "99579978                                     [proukr]  proukr\n",
       "\n",
       "[412 rows x 2 columns]"
      ]
     },
     "execution_count": 3,
     "metadata": {},
     "output_type": "execute_result"
    }
   ],
   "source": [
    "m.df"
   ]
  },
  {
   "cell_type": "code",
   "execution_count": null,
   "id": "injured-machinery",
   "metadata": {},
   "outputs": [],
   "source": [
    "m.df[\"id\"] = m.df.index\n",
    "m.df[\"class\"]"
   ]
  },
  {
   "cell_type": "code",
   "execution_count": null,
   "id": "professional-blanket",
   "metadata": {},
   "outputs": [],
   "source": []
  },
  {
   "cell_type": "code",
   "execution_count": null,
   "id": "catholic-external",
   "metadata": {},
   "outputs": [],
   "source": [
    "id_user=[]\n",
    "cat=[]\n",
    "for e in m.df.iterrows():\n",
    "    id_user.append(e[0])\n",
    "for c in m.df['class']:\n",
    "    cat.append((c))"
   ]
  },
  {
   "cell_type": "code",
   "execution_count": null,
   "id": "italic-commonwealth",
   "metadata": {},
   "outputs": [],
   "source": [
    "df_nodes=pd.DataFrame({'id': id_user,\n",
    "                      'cat': cat})\n",
    "df_nodes"
   ]
  },
  {
   "cell_type": "code",
   "execution_count": null,
   "id": "incomplete-possible",
   "metadata": {},
   "outputs": [],
   "source": [
    "G = nx.Graph()"
   ]
  },
  {
   "cell_type": "code",
   "execution_count": null,
   "id": "attempted-large",
   "metadata": {},
   "outputs": [],
   "source": [
    "#categoria, 'author.location', 'author.verified', \n",
    "for i, e in enumerate(df_nodes['id']):\n",
    "    G.add_node(e, cat=df_nodes['cat'][i])"
   ]
  },
  {
   "cell_type": "code",
   "execution_count": null,
   "id": "broke-costume",
   "metadata": {},
   "outputs": [],
   "source": [
    "list(G.nodes.data()) #we can use all the operation about dictionary on these attributes"
   ]
  },
  {
   "cell_type": "code",
   "execution_count": null,
   "id": "disturbed-publisher",
   "metadata": {},
   "outputs": [],
   "source": [
    "#m.edges"
   ]
  },
  {
   "cell_type": "code",
   "execution_count": null,
   "id": "humanitarian-bradford",
   "metadata": {},
   "outputs": [],
   "source": [
    "#edges = [(x[\"from\"], x[\"to\"]) for x in m.edges]\n",
    "#print(edges)"
   ]
  },
  {
   "cell_type": "code",
   "execution_count": null,
   "id": "a194e689",
   "metadata": {},
   "outputs": [],
   "source": [
    "import random\n",
    "for i in range(300):\n",
    "    u = random.choice(id_user)\n",
    "    v = random.choice(id_user)\n",
    "    G.add_edge(u, v)"
   ]
  },
  {
   "cell_type": "code",
   "execution_count": null,
   "id": "absent-depression",
   "metadata": {},
   "outputs": [],
   "source": [
    "#G.add_edges_from(edges)"
   ]
  },
  {
   "cell_type": "code",
   "execution_count": null,
   "id": "wicked-christmas",
   "metadata": {},
   "outputs": [],
   "source": [
    "G.number_of_edges()"
   ]
  },
  {
   "cell_type": "code",
   "execution_count": null,
   "id": "macro-africa",
   "metadata": {},
   "outputs": [],
   "source": [
    "G.number_of_nodes()"
   ]
  },
  {
   "cell_type": "code",
   "execution_count": null,
   "id": "antique-climate",
   "metadata": {},
   "outputs": [],
   "source": [
    "G.remove_nodes_from(list(nx.isolates(G)))"
   ]
  },
  {
   "cell_type": "code",
   "execution_count": null,
   "id": "sealed-forth",
   "metadata": {},
   "outputs": [],
   "source": [
    "nx.draw(G)"
   ]
  },
  {
   "cell_type": "code",
   "execution_count": null,
   "id": "suitable-excellence",
   "metadata": {},
   "outputs": [],
   "source": [
    "list(G.nodes.data())"
   ]
  },
  {
   "cell_type": "markdown",
   "id": "israeli-secretary",
   "metadata": {},
   "source": [
    "# Community discovery algorithms"
   ]
  },
  {
   "cell_type": "markdown",
   "id": "weighted-glossary",
   "metadata": {},
   "source": [
    "# Label Propagation"
   ]
  },
  {
   "cell_type": "code",
   "execution_count": null,
   "id": "virtual-circumstances",
   "metadata": {},
   "outputs": [],
   "source": [
    "label_prop = algorithms.label_propagation(G)\n",
    "label_prop.method_name"
   ]
  },
  {
   "cell_type": "code",
   "execution_count": null,
   "id": "usual-arbitration",
   "metadata": {},
   "outputs": [],
   "source": [
    "label_prop_com=label_prop.communities\n",
    "communities=[]\n",
    "\n",
    "for i, c in enumerate(label_prop_com):\n",
    "    cat_value={}\n",
    "    pax={}\n",
    "    proukr={}\n",
    "    nocare={}\n",
    "    prorus={}\n",
    "    c_pax=0\n",
    "    c_proukr=0\n",
    "    c_nocare=0\n",
    "    c_prorus=0\n",
    "    for e in c:\n",
    "        if (df_nodes.loc[df_nodes['id']==e,'cat'] =='pax').any()==True:\n",
    "            c_pax += 1\n",
    "        elif (df_nodes.loc[df_nodes['id']==e,'cat'] =='proukr').any()==True:\n",
    "            c_proukr += 1\n",
    "        elif (df_nodes.loc[df_nodes['id']==e,'cat'] =='prorus').any()==True:\n",
    "            c_prorus += 1\n",
    "        elif (df_nodes.loc[df_nodes['id']==e,'cat'] =='nocare').any()==True:\n",
    "            c_nocare +=1\n",
    "        pax['pax']=c_pax\n",
    "        proukr['proukr']=c_proukr\n",
    "        nocare['nocare']=c_nocare\n",
    "        prorus['prorus']=c_prorus\n",
    "        cat_value[i]=pax,proukr,nocare,prorus\n",
    "    communities.append(cat_value)\n",
    "communities"
   ]
  },
  {
   "cell_type": "code",
   "execution_count": null,
   "id": "nonprofit-chicago",
   "metadata": {},
   "outputs": [],
   "source": [
    "print(len(label_prop.communities))"
   ]
  },
  {
   "cell_type": "code",
   "execution_count": null,
   "id": "chemical-radiation",
   "metadata": {},
   "outputs": [],
   "source": [
    "label_prop.overlap"
   ]
  },
  {
   "cell_type": "code",
   "execution_count": null,
   "id": "initial-premises",
   "metadata": {},
   "outputs": [],
   "source": [
    "label_prop.node_coverage"
   ]
  },
  {
   "cell_type": "code",
   "execution_count": null,
   "id": "ideal-somerset",
   "metadata": {},
   "outputs": [],
   "source": [
    "label_prop.to_json()"
   ]
  },
  {
   "cell_type": "markdown",
   "id": "sustainable-capacity",
   "metadata": {},
   "source": [
    "# Louvain "
   ]
  },
  {
   "cell_type": "code",
   "execution_count": null,
   "id": "champion-horror",
   "metadata": {},
   "outputs": [],
   "source": [
    "#Leiden algorithm is an improvement of the Louvain algorithm\n",
    "louvain = algorithms.leiden(G)\n",
    "louvain.method_name "
   ]
  },
  {
   "cell_type": "code",
   "execution_count": null,
   "id": "thrown-romance",
   "metadata": {},
   "outputs": [],
   "source": [
    "#Clustering parameters\n",
    "louvain.method_parameters "
   ]
  },
  {
   "cell_type": "code",
   "execution_count": null,
   "id": "cellular-valuation",
   "metadata": {},
   "outputs": [],
   "source": [
    "louvain_com=louvain.communities\n",
    "communities=[]\n",
    "\n",
    "for i, c in enumerate(louvain_com):\n",
    "    cat_value={}\n",
    "    pax={}\n",
    "    proukr={}\n",
    "    nocare={}\n",
    "    prorus={}\n",
    "    c_pax=0\n",
    "    c_proukr=0\n",
    "    c_nocare=0\n",
    "    c_prorus=0\n",
    "    for e in c:\n",
    "        if (df_nodes.loc[df_nodes['id']==e,'cat'] =='pax').any()==True:\n",
    "            c_pax += 1\n",
    "        elif (df_nodes.loc[df_nodes['id']==e,'cat'] =='proukr').any()==True:\n",
    "            c_proukr += 1\n",
    "        elif (df_nodes.loc[df_nodes['id']==e,'cat'] =='prorus').any()==True:\n",
    "            c_prorus += 1\n",
    "        elif (df_nodes.loc[df_nodes['id']==e,'cat'] =='nocare').any()==True:\n",
    "            c_nocare +=1\n",
    "        pax['pax']=c_pax\n",
    "        proukr['proukr']=c_proukr\n",
    "        nocare['nocare']=c_nocare\n",
    "        prorus['prorus']=c_prorus\n",
    "        cat_value[i]=pax,proukr,nocare,prorus\n",
    "    communities.append(cat_value)\n",
    "communities"
   ]
  },
  {
   "cell_type": "code",
   "execution_count": null,
   "id": "multiple-aquarium",
   "metadata": {},
   "outputs": [],
   "source": [
    "#veirfy if the clustering overlap or not\n",
    "louvain.overlap "
   ]
  },
  {
   "cell_type": "code",
   "execution_count": null,
   "id": "still-chassis",
   "metadata": {},
   "outputs": [],
   "source": [
    "#percentage of node covered by the clustering\n",
    "louvain.node_coverage "
   ]
  },
  {
   "cell_type": "code",
   "execution_count": null,
   "id": "hairy-google",
   "metadata": {},
   "outputs": [],
   "source": [
    "#json representation of the results\n",
    "louvain.to_json()"
   ]
  },
  {
   "cell_type": "markdown",
   "id": "needed-vatican",
   "metadata": {},
   "source": [
    "# Girvan Newman"
   ]
  },
  {
   "cell_type": "code",
   "execution_count": null,
   "id": "endangered-formula",
   "metadata": {},
   "outputs": [],
   "source": [
    "girvan_newman=algorithms.girvan_newman(G, level=4)"
   ]
  },
  {
   "cell_type": "code",
   "execution_count": null,
   "id": "first-capacity",
   "metadata": {},
   "outputs": [],
   "source": [
    "girvan_com=girvan_newman.communities\n",
    "communities=[]\n",
    "\n",
    "for i, c in enumerate(girvan_com):\n",
    "    cat_value={}\n",
    "    pax={}\n",
    "    proukr={}\n",
    "    nocare={}\n",
    "    prorus={}\n",
    "    c_pax=0\n",
    "    c_proukr=0\n",
    "    c_nocare=0\n",
    "    c_prorus=0\n",
    "    for e in c:\n",
    "        if (df_nodes.loc[df_nodes['id']==e,'cat'] =='pax').any()==True:\n",
    "            c_pax += 1\n",
    "        elif (df_nodes.loc[df_nodes['id']==e,'cat'] =='proukr').any()==True:\n",
    "            c_proukr += 1\n",
    "        elif (df_nodes.loc[df_nodes['id']==e,'cat'] =='prorus').any()==True:\n",
    "            c_prorus += 1\n",
    "        elif (df_nodes.loc[df_nodes['id']==e,'cat'] =='nocare').any()==True:\n",
    "            c_nocare +=1\n",
    "        pax['pax']=c_pax\n",
    "        proukr['proukr']=c_proukr\n",
    "        nocare['nocare']=c_nocare\n",
    "        prorus['prorus']=c_prorus\n",
    "        cat_value[i]=pax,proukr,nocare,prorus\n",
    "    communities.append(cat_value)\n",
    "communities"
   ]
  },
  {
   "cell_type": "code",
   "execution_count": null,
   "id": "hollywood-horse",
   "metadata": {},
   "outputs": [],
   "source": [
    "girvan_newman.overlap"
   ]
  },
  {
   "cell_type": "code",
   "execution_count": null,
   "id": "moral-slovak",
   "metadata": {},
   "outputs": [],
   "source": [
    "girvan_newman.node_coverage"
   ]
  },
  {
   "cell_type": "code",
   "execution_count": null,
   "id": "accredited-august",
   "metadata": {},
   "outputs": [],
   "source": [
    "girvan_newman.to_json()"
   ]
  },
  {
   "cell_type": "markdown",
   "id": "antique-question",
   "metadata": {},
   "source": [
    "# Angel "
   ]
  },
  {
   "cell_type": "code",
   "execution_count": null,
   "id": "acting-panama",
   "metadata": {},
   "outputs": [],
   "source": [
    "angel= algorithms.angel(G, threshold=0)#min_com_size=3"
   ]
  },
  {
   "cell_type": "code",
   "execution_count": null,
   "id": "stopped-reception",
   "metadata": {},
   "outputs": [],
   "source": [
    "angel.method_parameters"
   ]
  },
  {
   "cell_type": "code",
   "execution_count": null,
   "id": "brazilian-album",
   "metadata": {},
   "outputs": [],
   "source": [
    "angel_com=angel.communities\n",
    "communities=[]\n",
    "\n",
    "for i, c in enumerate(angel_com):\n",
    "    cat_value={}\n",
    "    pax={}\n",
    "    proukr={}\n",
    "    nocare={}\n",
    "    prorus={}\n",
    "    c_pax=0\n",
    "    c_proukr=0\n",
    "    c_nocare=0\n",
    "    c_prorus=0\n",
    "    for e in c:\n",
    "        if (df_nodes.loc[df_nodes['id']==e,'cat'] =='pax').any()==True:\n",
    "            c_pax += 1\n",
    "        elif (df_nodes.loc[df_nodes['id']==e,'cat'] =='proukr').any()==True:\n",
    "            c_proukr += 1\n",
    "        elif (df_nodes.loc[df_nodes['id']==e,'cat'] =='prorus').any()==True:\n",
    "            c_prorus += 1\n",
    "        elif (df_nodes.loc[df_nodes['id']==e,'cat'] =='nocare').any()==True:\n",
    "            c_nocare +=1\n",
    "        pax['pax']=c_pax\n",
    "        proukr['proukr']=c_proukr\n",
    "        nocare['nocare']=c_nocare\n",
    "        prorus['prorus']=c_prorus\n",
    "        cat_value[i]=pax,proukr,nocare,prorus\n",
    "    communities.append(cat_value)\n",
    "communities"
   ]
  },
  {
   "cell_type": "code",
   "execution_count": null,
   "id": "desperate-contemporary",
   "metadata": {},
   "outputs": [],
   "source": [
    "angel.overlap"
   ]
  },
  {
   "cell_type": "code",
   "execution_count": null,
   "id": "mental-graphics",
   "metadata": {},
   "outputs": [],
   "source": [
    "angel.node_coverage"
   ]
  },
  {
   "cell_type": "code",
   "execution_count": null,
   "id": "brief-reserve",
   "metadata": {},
   "outputs": [],
   "source": [
    "angel.to_json()"
   ]
  },
  {
   "cell_type": "markdown",
   "id": "large-underground",
   "metadata": {},
   "source": [
    "# Community Visualization"
   ]
  },
  {
   "cell_type": "code",
   "execution_count": null,
   "id": "political-penny",
   "metadata": {},
   "outputs": [],
   "source": [
    "pos = nx.spring_layout(G)"
   ]
  },
  {
   "cell_type": "code",
   "execution_count": null,
   "id": "sexual-script",
   "metadata": {},
   "outputs": [],
   "source": [
    "viz.plot_network_clusters(G, louvain, pos, figsize=(10, 10), plot_labels=True)\n",
    "#viz.plot_network_clusters(G,louvain, pos) visualizzazione alternativa"
   ]
  },
  {
   "cell_type": "code",
   "execution_count": null,
   "id": "advised-pierre",
   "metadata": {},
   "outputs": [],
   "source": [
    "viz.plot_network_clusters(G, label_prop, pos, figsize=(10, 10), plot_labels=True)"
   ]
  },
  {
   "cell_type": "code",
   "execution_count": null,
   "id": "comic-knife",
   "metadata": {},
   "outputs": [],
   "source": [
    "viz.plot_network_clusters(G, angel, pos, figsize=(10, 10), plot_labels=True)"
   ]
  },
  {
   "cell_type": "code",
   "execution_count": null,
   "id": "touched-workstation",
   "metadata": {},
   "outputs": [],
   "source": [
    "viz.plot_network_clusters(G, girvan_newman, pos, figsize=(10, 10), plot_labels=True)"
   ]
  },
  {
   "cell_type": "raw",
   "id": "associate-knock",
   "metadata": {},
   "source": [
    "partition=[louvain,label_prop,angel,girvan_newman]\n",
    "for e in partition:\n",
    "    #provare a mettere titolo, visualizzazione non riuscita (libreria di merda)\n",
    "    viz.plot_community_graph(G,e, figsize=(5,5)) #.set(title=('community',e))"
   ]
  },
  {
   "cell_type": "code",
   "execution_count": null,
   "id": "gross-investor",
   "metadata": {},
   "outputs": [],
   "source": [
    "viz.plot_community_graph(G, louvain, figsize=(5, 5))"
   ]
  },
  {
   "cell_type": "code",
   "execution_count": null,
   "id": "enhanced-union",
   "metadata": {},
   "outputs": [],
   "source": [
    "viz.plot_community_graph(G, label_prop, figsize=(5, 5))"
   ]
  },
  {
   "cell_type": "code",
   "execution_count": null,
   "id": "chemical-paint",
   "metadata": {},
   "outputs": [],
   "source": [
    "viz.plot_community_graph(G, angel, figsize=(5, 5))"
   ]
  },
  {
   "cell_type": "code",
   "execution_count": null,
   "id": "altered-split",
   "metadata": {},
   "outputs": [],
   "source": [
    "viz.plot_community_graph(G, girvan_newman, figsize=(5, 5))"
   ]
  },
  {
   "cell_type": "markdown",
   "id": "annoying-review",
   "metadata": {},
   "source": [
    "# Community Internal Evaluation"
   ]
  },
  {
   "cell_type": "code",
   "execution_count": null,
   "id": "drawn-brown",
   "metadata": {},
   "outputs": [],
   "source": [
    "print('Average Node Degree:\\n'\n",
    "     'Louvain = {} \\n'\n",
    "     'Label Propagation = {}\\n'\n",
    "     'Girvan Newman = {} \\n'\n",
    "     'Angel = {}'.format(louvain.average_internal_degree(),label_prop.average_internal_degree(),girvan_newman.average_internal_degree(),angel.average_internal_degree()))\n",
    "print('Internal Edge Density:\\n'\n",
    "     'Louvain = {} \\n'\n",
    "     'Label Propagation = {}\\n'\n",
    "     'Girvan Newman = {} \\n'\n",
    "     'Angel = {}'.format(louvain.internal_edge_density(),label_prop.internal_edge_density(),girvan_newman.internal_edge_density(),angel.internal_edge_density()))\n",
    "print('Modularity:\\n'\n",
    "     'Louvain = {} \\n'\n",
    "     'Label Propagation = {}\\n'\n",
    "     'Girvan Newman = {} \\n'\n",
    "     'Angel = {}'.format(louvain.modularity_density(),label_prop.modularity_density(),girvan_newman.modularity_density(),angel.modularity_density()))\n",
    "print('Conductance:\\n'\n",
    "     'Louvain = {} \\n'\n",
    "     'Label Propagation = {}\\n'\n",
    "     'Girvan Newman = {} \\n'\n",
    "     'Angel = {}'.format(louvain.conductance(),label_prop.conductance(),girvan_newman.conductance(), angel.conductance()))\n"
   ]
  },
  {
   "cell_type": "markdown",
   "id": "sorted-study",
   "metadata": {},
   "source": [
    "### Community fitness/comparison visualization"
   ]
  },
  {
   "cell_type": "code",
   "execution_count": null,
   "id": "154d70fc",
   "metadata": {},
   "outputs": [],
   "source": [
    "viz.plot_com_stat([louvain, label_prop, angel, girvan_newman], evaluation.average_internal_degree)"
   ]
  },
  {
   "cell_type": "code",
   "execution_count": null,
   "id": "arbitrary-flower",
   "metadata": {},
   "outputs": [],
   "source": [
    "viz.plot_com_stat([louvain, label_prop, angel, girvan_newman], evaluation.internal_edge_density)"
   ]
  },
  {
   "cell_type": "code",
   "execution_count": null,
   "id": "8f6243b1",
   "metadata": {},
   "outputs": [],
   "source": [
    "viz.plot_com_stat([louvain, label_prop, angel, girvan_newman], evaluation.modularity_density)"
   ]
  },
  {
   "cell_type": "code",
   "execution_count": null,
   "id": "774e32d6",
   "metadata": {},
   "outputs": [],
   "source": [
    "viz.plot_com_stat([louvain, label_prop, angel, girvan_newman], evaluation.conductance)"
   ]
  },
  {
   "cell_type": "code",
   "execution_count": null,
   "id": "531f10ca",
   "metadata": {},
   "outputs": [],
   "source": [
    "viz.plot_com_properties_relation([louvain, label_prop, angel, girvan_newman], evaluation.size, evaluation.average_internal_degree)"
   ]
  },
  {
   "cell_type": "code",
   "execution_count": null,
   "id": "altered-mirror",
   "metadata": {},
   "outputs": [],
   "source": [
    "viz.plot_com_properties_relation([louvain, label_prop, angel, girvan_newman], evaluation.size, evaluation.internal_edge_density)"
   ]
  },
  {
   "cell_type": "code",
   "execution_count": null,
   "id": "14ed913e",
   "metadata": {},
   "outputs": [],
   "source": [
    "viz.plot_com_properties_relation([louvain, label_prop, angel, girvan_newman], evaluation.size, evaluation.modularity_density)"
   ]
  },
  {
   "cell_type": "code",
   "execution_count": null,
   "id": "36e3e20a",
   "metadata": {},
   "outputs": [],
   "source": [
    "viz.plot_com_properties_relation([louvain, label_prop, angel, girvan_newman], evaluation.size, evaluation.conductance)"
   ]
  },
  {
   "cell_type": "code",
   "execution_count": null,
   "id": "complimentary-difference",
   "metadata": {},
   "outputs": [],
   "source": [
    "### Qualitative evaluation: da rivedere"
   ]
  },
  {
   "cell_type": "markdown",
   "id": "surprised-philip",
   "metadata": {},
   "source": [
    "# Community Comparison"
   ]
  },
  {
   "cell_type": "code",
   "execution_count": null,
   "id": "subjective-elevation",
   "metadata": {},
   "outputs": [],
   "source": [
    "louvain.normalized_mutual_information(label_prop)"
   ]
  },
  {
   "cell_type": "code",
   "execution_count": null,
   "id": "polar-radius",
   "metadata": {},
   "outputs": [],
   "source": [
    "girvan_newman.normalized_mutual_information(label_prop)"
   ]
  },
  {
   "cell_type": "code",
   "execution_count": null,
   "id": "communist-removal",
   "metadata": {},
   "outputs": [],
   "source": [
    "evaluation.normalized_mutual_information(louvain, girvan_newman)"
   ]
  },
  {
   "cell_type": "code",
   "execution_count": null,
   "id": "rural-gabriel",
   "metadata": {},
   "outputs": [],
   "source": [
    "evaluation.normalized_mutual_information(louvain, label_prop)"
   ]
  },
  {
   "cell_type": "code",
   "execution_count": null,
   "id": "baking-seafood",
   "metadata": {},
   "outputs": [],
   "source": [
    "evaluation.normalized_mutual_information(girvan_newman, label_prop)"
   ]
  },
  {
   "cell_type": "raw",
   "id": "crucial-powder",
   "metadata": {},
   "source": [
    "comparazione angel con louvaine label_prop:errore.\n",
    "Both partitions should cover the same node set"
   ]
  },
  {
   "cell_type": "markdown",
   "id": "offshore-possible",
   "metadata": {},
   "source": [
    "# Ground Truth (External) evaluation"
   ]
  },
  {
   "cell_type": "code",
   "execution_count": null,
   "id": "daily-banks",
   "metadata": {},
   "outputs": [],
   "source": [
    "g1 = LFR_benchmark_graph(1000, 3, 1.5, 0.5, min_community=20, average_degree=5)\n",
    "g2 = LFR_benchmark_graph(1000, 3, 1.5, 0.6, min_community=20, average_degree=5)\n",
    "g3 = LFR_benchmark_graph(1000, 3, 1.5, 0.7, min_community=20, average_degree=5)\n",
    "\n",
    "names = [\"g1\", \"g2\", \"g3\"]\n",
    "graphs = [g1, g2, g3]\n",
    "references = []\n",
    "\n",
    "# building the NodeClustering ground truth for the graphs\n",
    "for G in graphs:\n",
    "    ground_truth = NodeClustering(communities={frozenset(G.nodes[v]['community']) for v in G}, graph=G, method_name=\"reference\")\n",
    "    references.append(ground_truth)\n",
    "    \n",
    "algos = [algorithms.leiden, algorithms.label_propagation]\n",
    "\n",
    "# Computing the visualization (2 execution per method, NMI as scoring for ground truth resemblance)\n",
    "viz.plot_scoring(graphs, references, names, algos, scoring=evaluation.adjusted_mutual_information, nbRuns=2)"
   ]
  },
  {
   "cell_type": "code",
   "execution_count": null,
   "id": "noticed-burlington",
   "metadata": {},
   "outputs": [],
   "source": [
    "lp_coms = algorithms.label_propagation(G)\n",
    "leiden_coms = algorithms.leiden(G)\n",
    "wp_coms = algorithms.walktrap(G)\n",
    "infomap_coms = algorithms.infomap(G)\n",
    "\n",
    "viz.plot_sim_matrix([leiden_coms, lp_coms, wp_coms, infomap_coms],evaluation.adjusted_mutual_information)"
   ]
  },
  {
   "cell_type": "code",
   "execution_count": null,
   "id": "inside-gasoline",
   "metadata": {},
   "outputs": [],
   "source": []
  },
  {
   "cell_type": "code",
   "execution_count": null,
   "id": "c31b4f21",
   "metadata": {},
   "outputs": [],
   "source": []
  }
 ],
 "metadata": {
  "kernelspec": {
   "display_name": "Python 3 (ipykernel)",
   "language": "python",
   "name": "python3"
  },
  "language_info": {
   "codemirror_mode": {
    "name": "ipython",
    "version": 3
   },
   "file_extension": ".py",
   "mimetype": "text/x-python",
   "name": "python",
   "nbconvert_exporter": "python",
   "pygments_lexer": "ipython3",
   "version": "3.10.5"
  }
 },
 "nbformat": 4,
 "nbformat_minor": 5
}
