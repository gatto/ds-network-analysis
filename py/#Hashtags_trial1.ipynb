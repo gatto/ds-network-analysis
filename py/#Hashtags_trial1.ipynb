{
 "cells": [
  {
   "cell_type": "code",
   "execution_count": 4,
   "id": "fourth-window",
   "metadata": {},
   "outputs": [],
   "source": [
    "import pandas as pd\n",
    "from extract import Count, SocialETL\n",
    "from rich import print"
   ]
  },
  {
   "cell_type": "code",
   "execution_count": 5,
   "id": "refined-jimmy",
   "metadata": {},
   "outputs": [],
   "source": [
    "def extract_tags(value):\n",
    "    results = []\n",
    "    for my_dict in value:\n",
    "        results.append(my_dict[\"tag\"].lower())\n",
    "    return results"
   ]
  },
  {
   "cell_type": "code",
   "execution_count": 6,
   "id": "amended-oliver",
   "metadata": {},
   "outputs": [
    {
     "data": {
      "application/vnd.jupyter.widget-view+json": {
       "model_id": "118f07ae3f244d0d9b5aded838eef307",
       "version_major": 2,
       "version_minor": 0
      },
      "text/plain": [
       "Output()"
      ]
     },
     "metadata": {},
     "output_type": "display_data"
    },
    {
     "name": "stdout",
     "output_type": "stream",
     "text": [
      "Reading secret from C:\\Users\\david\\Documents\\GitHub\\ds-network-analysis\\data\\my_secrets.yaml…\n"
     ]
    },
    {
     "data": {
      "text/html": [
       "<pre style=\"white-space:pre;overflow-x:auto;line-height:normal;font-family:Menlo,'DejaVu Sans Mono',consolas,'Courier New',monospace\"></pre>\n"
      ],
      "text/plain": []
     },
     "metadata": {},
     "output_type": "display_data"
    },
    {
     "data": {
      "text/html": [
       "<pre style=\"white-space:pre;overflow-x:auto;line-height:normal;font-family:Menlo,'DejaVu Sans Mono',consolas,'Courier New',monospace\">\n",
       "</pre>\n"
      ],
      "text/plain": [
       "\n"
      ]
     },
     "metadata": {},
     "output_type": "display_data"
    },
    {
     "data": {
      "text/html": [
       "<pre style=\"white-space:pre;overflow-x:auto;line-height:normal;font-family:Menlo,'DejaVu Sans Mono',consolas,'Courier New',monospace\"><span style=\"color: #008080; text-decoration-color: #008080; font-weight: bold\">5000</span> tweets retrieved.\n",
       "</pre>\n"
      ],
      "text/plain": [
       "\u001b[1;36m5000\u001b[0m tweets retrieved.\n"
      ]
     },
     "metadata": {},
     "output_type": "display_data"
    },
    {
     "data": {
      "text/html": [
       "<pre style=\"white-space:pre;overflow-x:auto;line-height:normal;font-family:Menlo,'DejaVu Sans Mono',consolas,'Courier New',monospace\"><span style=\"color: #008080; text-decoration-color: #008080; font-weight: bold\">0</span>       <span style=\"font-weight: bold\">[{</span><span style=\"color: #008000; text-decoration-color: #008000\">\"start\"</span>: <span style=\"color: #008080; text-decoration-color: #008080; font-weight: bold\">161</span>, <span style=\"color: #008000; text-decoration-color: #008000\">\"end\"</span>: <span style=\"color: #008080; text-decoration-color: #008080; font-weight: bold\">174</span>, <span style=\"color: #008000; text-decoration-color: #008000\">\"tag\"</span>: \"SlavaUkrai<span style=\"color: #808000; text-decoration-color: #808000\">...</span>\n",
       "<span style=\"color: #008080; text-decoration-color: #008080; font-weight: bold\">1</span>       <span style=\"font-weight: bold\">[{</span><span style=\"color: #008000; text-decoration-color: #008000\">\"start\"</span>: <span style=\"color: #008080; text-decoration-color: #008080; font-weight: bold\">219</span>, <span style=\"color: #008000; text-decoration-color: #008000\">\"end\"</span>: <span style=\"color: #008080; text-decoration-color: #008080; font-weight: bold\">232</span>, <span style=\"color: #008000; text-decoration-color: #008000\">\"tag\"</span>: \"SlavaUkrai<span style=\"color: #808000; text-decoration-color: #808000\">...</span>\n",
       "<span style=\"color: #008080; text-decoration-color: #008080; font-weight: bold\">2</span>       <span style=\"font-weight: bold\">[{</span><span style=\"color: #008000; text-decoration-color: #008000\">\"start\"</span>: <span style=\"color: #008080; text-decoration-color: #008080; font-weight: bold\">219</span>, <span style=\"color: #008000; text-decoration-color: #008000\">\"end\"</span>: <span style=\"color: #008080; text-decoration-color: #008080; font-weight: bold\">232</span>, <span style=\"color: #008000; text-decoration-color: #008000\">\"tag\"</span>: \"SlavaUkrai<span style=\"color: #808000; text-decoration-color: #808000\">...</span>\n",
       "<span style=\"color: #008080; text-decoration-color: #008080; font-weight: bold\">3</span>       <span style=\"font-weight: bold\">[{</span><span style=\"color: #008000; text-decoration-color: #008000\">\"start\"</span>: <span style=\"color: #008080; text-decoration-color: #008080; font-weight: bold\">231</span>, <span style=\"color: #008000; text-decoration-color: #008000\">\"end\"</span>: <span style=\"color: #008080; text-decoration-color: #008080; font-weight: bold\">244</span>, <span style=\"color: #008000; text-decoration-color: #008000\">\"tag\"</span>: \"SlavaUkrai<span style=\"color: #808000; text-decoration-color: #808000\">...</span>\n",
       "<span style=\"color: #008080; text-decoration-color: #008080; font-weight: bold\">4</span>       <span style=\"font-weight: bold\">[{</span><span style=\"color: #008000; text-decoration-color: #008000\">\"start\"</span>: <span style=\"color: #008080; text-decoration-color: #008080; font-weight: bold\">101</span>, <span style=\"color: #008000; text-decoration-color: #008000\">\"end\"</span>: <span style=\"color: #008080; text-decoration-color: #008080; font-weight: bold\">109</span>, <span style=\"color: #008000; text-decoration-color: #008000\">\"tag\"</span>: <span style=\"color: #008000; text-decoration-color: #008000\">\"Ukraine\"</span><span style=\"font-weight: bold\">}</span>,<span style=\"color: #808000; text-decoration-color: #808000\">...</span>\n",
       "                              <span style=\"color: #808000; text-decoration-color: #808000\">...</span>                        \n",
       "<span style=\"color: #008080; text-decoration-color: #008080; font-weight: bold\">4995</span>    <span style=\"font-weight: bold\">[{</span><span style=\"color: #008000; text-decoration-color: #008000\">\"start\"</span>: <span style=\"color: #008080; text-decoration-color: #008080; font-weight: bold\">0</span>, <span style=\"color: #008000; text-decoration-color: #008000\">\"end\"</span>: <span style=\"color: #008080; text-decoration-color: #008080; font-weight: bold\">6</span>, <span style=\"color: #008000; text-decoration-color: #008000\">\"tag\"</span>: <span style=\"color: #008000; text-decoration-color: #008000\">\"OSINT\"</span><span style=\"font-weight: bold\">}</span>, <span style=\"font-weight: bold\">{</span>\"sta<span style=\"color: #808000; text-decoration-color: #808000\">...</span>\n",
       "<span style=\"color: #008080; text-decoration-color: #008080; font-weight: bold\">4996</span>    <span style=\"font-weight: bold\">[{</span><span style=\"color: #008000; text-decoration-color: #008000\">\"start\"</span>: <span style=\"color: #008080; text-decoration-color: #008080; font-weight: bold\">0</span>, <span style=\"color: #008000; text-decoration-color: #008000\">\"end\"</span>: <span style=\"color: #008080; text-decoration-color: #008080; font-weight: bold\">14</span>, <span style=\"color: #008000; text-decoration-color: #008000\">\"tag\"</span>: \"ArmUkraineNow<span style=\"color: #808000; text-decoration-color: #808000\">...</span>\n",
       "<span style=\"color: #008080; text-decoration-color: #008080; font-weight: bold\">4997</span>    <span style=\"font-weight: bold\">[{</span><span style=\"color: #008000; text-decoration-color: #008000\">\"start\"</span>: <span style=\"color: #008080; text-decoration-color: #008080; font-weight: bold\">86</span>, <span style=\"color: #008000; text-decoration-color: #008000\">\"end\"</span>: <span style=\"color: #008080; text-decoration-color: #008080; font-weight: bold\">99</span>, <span style=\"color: #008000; text-decoration-color: #008000\">\"tag\"</span>: \"SlavaUkra\\u0<span style=\"color: #808000; text-decoration-color: #808000\">...</span>\n",
       "<span style=\"color: #008080; text-decoration-color: #008080; font-weight: bold\">4998</span>    <span style=\"font-weight: bold\">[{</span><span style=\"color: #008000; text-decoration-color: #008000\">\"start\"</span>: <span style=\"color: #008080; text-decoration-color: #008080; font-weight: bold\">87</span>, <span style=\"color: #008000; text-decoration-color: #008000\">\"end\"</span>: <span style=\"color: #008080; text-decoration-color: #008080; font-weight: bold\">100</span>, <span style=\"color: #008000; text-decoration-color: #008000\">\"tag\"</span>: \"StopPutinNO<span style=\"color: #808000; text-decoration-color: #808000\">...</span>\n",
       "<span style=\"color: #008080; text-decoration-color: #008080; font-weight: bold\">4999</span>    <span style=\"font-weight: bold\">[{</span><span style=\"color: #008000; text-decoration-color: #008000\">\"start\"</span>: <span style=\"color: #008080; text-decoration-color: #008080; font-weight: bold\">0</span>, <span style=\"color: #008000; text-decoration-color: #008000\">\"end\"</span>: <span style=\"color: #008080; text-decoration-color: #008080; font-weight: bold\">6</span>, <span style=\"color: #008000; text-decoration-color: #008000\">\"tag\"</span>: <span style=\"color: #008000; text-decoration-color: #008000\">\"OSINT\"</span><span style=\"font-weight: bold\">}</span>, <span style=\"font-weight: bold\">{</span>\"sta<span style=\"color: #808000; text-decoration-color: #808000\">...</span>\n",
       "Name: entities.hashtags, Length: <span style=\"color: #008080; text-decoration-color: #008080; font-weight: bold\">5000</span>, dtype: object tweets with at least <span style=\"color: #008080; text-decoration-color: #008080; font-weight: bold\">1</span> hashtag.\n",
       "</pre>\n"
      ],
      "text/plain": [
       "\u001b[1;36m0\u001b[0m       \u001b[1m[\u001b[0m\u001b[1m{\u001b[0m\u001b[32m\"start\"\u001b[0m: \u001b[1;36m161\u001b[0m, \u001b[32m\"end\"\u001b[0m: \u001b[1;36m174\u001b[0m, \u001b[32m\"tag\"\u001b[0m: \"SlavaUkrai\u001b[33m...\u001b[0m\n",
       "\u001b[1;36m1\u001b[0m       \u001b[1m[\u001b[0m\u001b[1m{\u001b[0m\u001b[32m\"start\"\u001b[0m: \u001b[1;36m219\u001b[0m, \u001b[32m\"end\"\u001b[0m: \u001b[1;36m232\u001b[0m, \u001b[32m\"tag\"\u001b[0m: \"SlavaUkrai\u001b[33m...\u001b[0m\n",
       "\u001b[1;36m2\u001b[0m       \u001b[1m[\u001b[0m\u001b[1m{\u001b[0m\u001b[32m\"start\"\u001b[0m: \u001b[1;36m219\u001b[0m, \u001b[32m\"end\"\u001b[0m: \u001b[1;36m232\u001b[0m, \u001b[32m\"tag\"\u001b[0m: \"SlavaUkrai\u001b[33m...\u001b[0m\n",
       "\u001b[1;36m3\u001b[0m       \u001b[1m[\u001b[0m\u001b[1m{\u001b[0m\u001b[32m\"start\"\u001b[0m: \u001b[1;36m231\u001b[0m, \u001b[32m\"end\"\u001b[0m: \u001b[1;36m244\u001b[0m, \u001b[32m\"tag\"\u001b[0m: \"SlavaUkrai\u001b[33m...\u001b[0m\n",
       "\u001b[1;36m4\u001b[0m       \u001b[1m[\u001b[0m\u001b[1m{\u001b[0m\u001b[32m\"start\"\u001b[0m: \u001b[1;36m101\u001b[0m, \u001b[32m\"end\"\u001b[0m: \u001b[1;36m109\u001b[0m, \u001b[32m\"tag\"\u001b[0m: \u001b[32m\"Ukraine\"\u001b[0m\u001b[1m}\u001b[0m,\u001b[33m...\u001b[0m\n",
       "                              \u001b[33m...\u001b[0m                        \n",
       "\u001b[1;36m4995\u001b[0m    \u001b[1m[\u001b[0m\u001b[1m{\u001b[0m\u001b[32m\"start\"\u001b[0m: \u001b[1;36m0\u001b[0m, \u001b[32m\"end\"\u001b[0m: \u001b[1;36m6\u001b[0m, \u001b[32m\"tag\"\u001b[0m: \u001b[32m\"OSINT\"\u001b[0m\u001b[1m}\u001b[0m, \u001b[1m{\u001b[0m\"sta\u001b[33m...\u001b[0m\n",
       "\u001b[1;36m4996\u001b[0m    \u001b[1m[\u001b[0m\u001b[1m{\u001b[0m\u001b[32m\"start\"\u001b[0m: \u001b[1;36m0\u001b[0m, \u001b[32m\"end\"\u001b[0m: \u001b[1;36m14\u001b[0m, \u001b[32m\"tag\"\u001b[0m: \"ArmUkraineNow\u001b[33m...\u001b[0m\n",
       "\u001b[1;36m4997\u001b[0m    \u001b[1m[\u001b[0m\u001b[1m{\u001b[0m\u001b[32m\"start\"\u001b[0m: \u001b[1;36m86\u001b[0m, \u001b[32m\"end\"\u001b[0m: \u001b[1;36m99\u001b[0m, \u001b[32m\"tag\"\u001b[0m: \"SlavaUkra\\u0\u001b[33m...\u001b[0m\n",
       "\u001b[1;36m4998\u001b[0m    \u001b[1m[\u001b[0m\u001b[1m{\u001b[0m\u001b[32m\"start\"\u001b[0m: \u001b[1;36m87\u001b[0m, \u001b[32m\"end\"\u001b[0m: \u001b[1;36m100\u001b[0m, \u001b[32m\"tag\"\u001b[0m: \"StopPutinNO\u001b[33m...\u001b[0m\n",
       "\u001b[1;36m4999\u001b[0m    \u001b[1m[\u001b[0m\u001b[1m{\u001b[0m\u001b[32m\"start\"\u001b[0m: \u001b[1;36m0\u001b[0m, \u001b[32m\"end\"\u001b[0m: \u001b[1;36m6\u001b[0m, \u001b[32m\"tag\"\u001b[0m: \u001b[32m\"OSINT\"\u001b[0m\u001b[1m}\u001b[0m, \u001b[1m{\u001b[0m\"sta\u001b[33m...\u001b[0m\n",
       "Name: entities.hashtags, Length: \u001b[1;36m5000\u001b[0m, dtype: object tweets with at least \u001b[1;36m1\u001b[0m hashtag.\n"
      ]
     },
     "metadata": {},
     "output_type": "display_data"
    }
   ],
   "source": [
    "m = SocialETL(query=\"(#slavaukraini OR #istandwithputin OR #stopwarinukraine) lang:en\", pages=50, recent=False)\n",
    "print(f\"{m.df['entities.hashtags'].count()} tweets retrieved.\")\n",
    "\n",
    "miao = m.df[[\"id\", \"entities.hashtags\"]].dropna()\n",
    "print(f\"{miao['entities.hashtags']} tweets with at least 1 hashtag.\")\n",
    "\n",
    "miao[\"entities.hashtags\"] = miao[\"entities.hashtags\"].map(eval)\n",
    "\n",
    "miao[\"tags\"] = miao[\"entities.hashtags\"].map(extract_tags)\n",
    "\n",
    "my_results = []\n",
    "\n",
    "tagmadre = {\n",
    "    \"proukr\": \"slavaukraini\",\n",
    "    \"prorus\": \"istandwithputin\",\n",
    "    \"pax\": \"stopwarinukraine\",\n",
    "}\n",
    "results = {\"proukr\": [], \"prorus\": [], \"pax\": []}\n",
    "miaone = {}"
   ]
  },
  {
   "cell_type": "code",
   "execution_count": 7,
   "id": "psychological-algeria",
   "metadata": {},
   "outputs": [
    {
     "data": {
      "text/html": [
       "<pre style=\"white-space:pre;overflow-x:auto;line-height:normal;font-family:Menlo,'DejaVu Sans Mono',consolas,'Courier New',monospace\"><span style=\"color: #008080; text-decoration-color: #008080; font-weight: bold\">0</span>          slavaukraini\n",
       "<span style=\"color: #008080; text-decoration-color: #008080; font-weight: bold\">1</span>        boycottreuters\n",
       "<span style=\"color: #008080; text-decoration-color: #008080; font-weight: bold\">2</span>          slavaukraini\n",
       "<span style=\"color: #008080; text-decoration-color: #008080; font-weight: bold\">3</span>          slavaukraini\n",
       "<span style=\"color: #008080; text-decoration-color: #008080; font-weight: bold\">4</span>          slavaukraini\n",
       "              <span style=\"color: #808000; text-decoration-color: #808000\">...</span>      \n",
       "<span style=\"color: #008080; text-decoration-color: #008080; font-weight: bold\">16420</span>        ukrainewar\n",
       "<span style=\"color: #008080; text-decoration-color: #008080; font-weight: bold\">16421</span>       geopolitics\n",
       "<span style=\"color: #008080; text-decoration-color: #008080; font-weight: bold\">16422</span>      osintukraine\n",
       "<span style=\"color: #008080; text-decoration-color: #008080; font-weight: bold\">16423</span>           avgeeks\n",
       "<span style=\"color: #008080; text-decoration-color: #008080; font-weight: bold\">16424</span>         worldnews\n",
       "Name: proukr, Length: <span style=\"color: #008080; text-decoration-color: #008080; font-weight: bold\">16425</span>, dtype: object\n",
       "</pre>\n"
      ],
      "text/plain": [
       "\u001b[1;36m0\u001b[0m          slavaukraini\n",
       "\u001b[1;36m1\u001b[0m        boycottreuters\n",
       "\u001b[1;36m2\u001b[0m          slavaukraini\n",
       "\u001b[1;36m3\u001b[0m          slavaukraini\n",
       "\u001b[1;36m4\u001b[0m          slavaukraini\n",
       "              \u001b[33m...\u001b[0m      \n",
       "\u001b[1;36m16420\u001b[0m        ukrainewar\n",
       "\u001b[1;36m16421\u001b[0m       geopolitics\n",
       "\u001b[1;36m16422\u001b[0m      osintukraine\n",
       "\u001b[1;36m16423\u001b[0m           avgeeks\n",
       "\u001b[1;36m16424\u001b[0m         worldnews\n",
       "Name: proukr, Length: \u001b[1;36m16425\u001b[0m, dtype: object\n"
      ]
     },
     "metadata": {},
     "output_type": "display_data"
    },
    {
     "data": {
      "text/html": [
       "<pre style=\"white-space:pre;overflow-x:auto;line-height:normal;font-family:Menlo,'DejaVu Sans Mono',consolas,'Courier New',monospace\">slavaukraini            <span style=\"color: #008080; text-decoration-color: #008080; font-weight: bold\">3713</span>\n",
       "standwithukraine        <span style=\"color: #008080; text-decoration-color: #008080; font-weight: bold\">1056</span>\n",
       "ukraine                  <span style=\"color: #008080; text-decoration-color: #008080; font-weight: bold\">802</span>\n",
       "ukrainian                <span style=\"color: #008080; text-decoration-color: #008080; font-weight: bold\">362</span>\n",
       "russiainvadedukraine     <span style=\"color: #008080; text-decoration-color: #008080; font-weight: bold\">334</span>\n",
       "                        <span style=\"color: #808000; text-decoration-color: #808000\">...</span> \n",
       "putinlies                  <span style=\"color: #008080; text-decoration-color: #008080; font-weight: bold\">1</span>\n",
       "dentalhygiene              <span style=\"color: #008080; text-decoration-color: #008080; font-weight: bold\">1</span>\n",
       "deadelephant               <span style=\"color: #008080; text-decoration-color: #008080; font-weight: bold\">1</span>\n",
       "natoinukrainenoww          <span style=\"color: #008080; text-decoration-color: #008080; font-weight: bold\">1</span>\n",
       "resilience                 <span style=\"color: #008080; text-decoration-color: #008080; font-weight: bold\">1</span>\n",
       "Name: proukr, Length: <span style=\"color: #008080; text-decoration-color: #008080; font-weight: bold\">913</span>, dtype: int64\n",
       "</pre>\n"
      ],
      "text/plain": [
       "slavaukraini            \u001b[1;36m3713\u001b[0m\n",
       "standwithukraine        \u001b[1;36m1056\u001b[0m\n",
       "ukraine                  \u001b[1;36m802\u001b[0m\n",
       "ukrainian                \u001b[1;36m362\u001b[0m\n",
       "russiainvadedukraine     \u001b[1;36m334\u001b[0m\n",
       "                        \u001b[33m...\u001b[0m \n",
       "putinlies                  \u001b[1;36m1\u001b[0m\n",
       "dentalhygiene              \u001b[1;36m1\u001b[0m\n",
       "deadelephant               \u001b[1;36m1\u001b[0m\n",
       "natoinukrainenoww          \u001b[1;36m1\u001b[0m\n",
       "resilience                 \u001b[1;36m1\u001b[0m\n",
       "Name: proukr, Length: \u001b[1;36m913\u001b[0m, dtype: int64\n"
      ]
     },
     "metadata": {},
     "output_type": "display_data"
    },
    {
     "data": {
      "text/html": [
       "<pre style=\"white-space:pre;overflow-x:auto;line-height:normal;font-family:Menlo,'DejaVu Sans Mono',consolas,'Courier New',monospace\"><span style=\"color: #008080; text-decoration-color: #008080; font-weight: bold\">0</span>                 putin\n",
       "<span style=\"color: #008080; text-decoration-color: #008080; font-weight: bold\">1</span>       istandwithputin\n",
       "<span style=\"color: #008080; text-decoration-color: #008080; font-weight: bold\">2</span>      istandwithrussia\n",
       "<span style=\"color: #008080; text-decoration-color: #008080; font-weight: bold\">3</span>           naziukraine\n",
       "<span style=\"color: #008080; text-decoration-color: #008080; font-weight: bold\">4</span>               russian\n",
       "             <span style=\"color: #808000; text-decoration-color: #808000\">...</span>       \n",
       "<span style=\"color: #008080; text-decoration-color: #008080; font-weight: bold\">566</span>     istandwithputin\n",
       "<span style=\"color: #008080; text-decoration-color: #008080; font-weight: bold\">567</span>    ukrainerussiawar\n",
       "<span style=\"color: #008080; text-decoration-color: #008080; font-weight: bold\">568</span>     istandwithputin\n",
       "<span style=\"color: #008080; text-decoration-color: #008080; font-weight: bold\">569</span>     istandwithputin\n",
       "<span style=\"color: #008080; text-decoration-color: #008080; font-weight: bold\">570</span>     istandwithputin\n",
       "Name: prorus, Length: <span style=\"color: #008080; text-decoration-color: #008080; font-weight: bold\">571</span>, dtype: object\n",
       "</pre>\n"
      ],
      "text/plain": [
       "\u001b[1;36m0\u001b[0m                 putin\n",
       "\u001b[1;36m1\u001b[0m       istandwithputin\n",
       "\u001b[1;36m2\u001b[0m      istandwithrussia\n",
       "\u001b[1;36m3\u001b[0m           naziukraine\n",
       "\u001b[1;36m4\u001b[0m               russian\n",
       "             \u001b[33m...\u001b[0m       \n",
       "\u001b[1;36m566\u001b[0m     istandwithputin\n",
       "\u001b[1;36m567\u001b[0m    ukrainerussiawar\n",
       "\u001b[1;36m568\u001b[0m     istandwithputin\n",
       "\u001b[1;36m569\u001b[0m     istandwithputin\n",
       "\u001b[1;36m570\u001b[0m     istandwithputin\n",
       "Name: prorus, Length: \u001b[1;36m571\u001b[0m, dtype: object\n"
      ]
     },
     "metadata": {},
     "output_type": "display_data"
    },
    {
     "data": {
      "text/html": [
       "<pre style=\"white-space:pre;overflow-x:auto;line-height:normal;font-family:Menlo,'DejaVu Sans Mono',consolas,'Courier New',monospace\">istandwithputin        <span style=\"color: #008080; text-decoration-color: #008080; font-weight: bold\">66</span>\n",
       "istandwithrussia       <span style=\"color: #008080; text-decoration-color: #008080; font-weight: bold\">47</span>\n",
       "putin                  <span style=\"color: #008080; text-decoration-color: #008080; font-weight: bold\">38</span>\n",
       "russia                 <span style=\"color: #008080; text-decoration-color: #008080; font-weight: bold\">36</span>\n",
       "ukraine                <span style=\"color: #008080; text-decoration-color: #008080; font-weight: bold\">36</span>\n",
       "stopputinnow           <span style=\"color: #008080; text-decoration-color: #008080; font-weight: bold\">31</span>\n",
       "russianukrainianwar    <span style=\"color: #008080; text-decoration-color: #008080; font-weight: bold\">31</span>\n",
       "ukrainewar             <span style=\"color: #008080; text-decoration-color: #008080; font-weight: bold\">29</span>\n",
       "stpetersburg           <span style=\"color: #008080; text-decoration-color: #008080; font-weight: bold\">29</span>\n",
       "stopputin              <span style=\"color: #008080; text-decoration-color: #008080; font-weight: bold\">29</span>\n",
       "zelenskyy              <span style=\"color: #008080; text-decoration-color: #008080; font-weight: bold\">29</span>\n",
       "ukrainekrieg           <span style=\"color: #008080; text-decoration-color: #008080; font-weight: bold\">29</span>\n",
       "oprussia               <span style=\"color: #008080; text-decoration-color: #008080; font-weight: bold\">29</span>\n",
       "standwithukraine️      <span style=\"color: #008080; text-decoration-color: #008080; font-weight: bold\">29</span>\n",
       "zelenskywarcriminal     <span style=\"color: #008080; text-decoration-color: #008080; font-weight: bold\">9</span>\n",
       "russian                 <span style=\"color: #008080; text-decoration-color: #008080; font-weight: bold\">7</span>\n",
       "naziukraine             <span style=\"color: #008080; text-decoration-color: #008080; font-weight: bold\">7</span>\n",
       "azov                    <span style=\"color: #008080; text-decoration-color: #008080; font-weight: bold\">4</span>\n",
       "bidenflation            <span style=\"color: #008080; text-decoration-color: #008080; font-weight: bold\">4</span>\n",
       "bidencrimefamily        <span style=\"color: #008080; text-decoration-color: #008080; font-weight: bold\">4</span>\n",
       "russians                <span style=\"color: #008080; text-decoration-color: #008080; font-weight: bold\">4</span>\n",
       "brics                   <span style=\"color: #008080; text-decoration-color: #008080; font-weight: bold\">4</span>\n",
       "china                   <span style=\"color: #008080; text-decoration-color: #008080; font-weight: bold\">4</span>\n",
       "europe                  <span style=\"color: #008080; text-decoration-color: #008080; font-weight: bold\">4</span>\n",
       "bidensucks              <span style=\"color: #008080; text-decoration-color: #008080; font-weight: bold\">4</span>\n",
       "eu                      <span style=\"color: #008080; text-decoration-color: #008080; font-weight: bold\">4</span>\n",
       "usa                     <span style=\"color: #008080; text-decoration-color: #008080; font-weight: bold\">4</span>\n",
       "russianfederation       <span style=\"color: #008080; text-decoration-color: #008080; font-weight: bold\">4</span>\n",
       "z                       <span style=\"color: #008080; text-decoration-color: #008080; font-weight: bold\">2</span>\n",
       "oilban                  <span style=\"color: #008080; text-decoration-color: #008080; font-weight: bold\">1</span>\n",
       "ukraineunderattaсk      <span style=\"color: #008080; text-decoration-color: #008080; font-weight: bold\">1</span>\n",
       "clownworld              <span style=\"color: #008080; text-decoration-color: #008080; font-weight: bold\">1</span>\n",
       "greatreset              <span style=\"color: #008080; text-decoration-color: #008080; font-weight: bold\">1</span>\n",
       "greennewdeal            <span style=\"color: #008080; text-decoration-color: #008080; font-weight: bold\">1</span>\n",
       "ukranians               <span style=\"color: #008080; text-decoration-color: #008080; font-weight: bold\">1</span>\n",
       "timhayward              <span style=\"color: #008080; text-decoration-color: #008080; font-weight: bold\">1</span>\n",
       "zelensky                <span style=\"color: #008080; text-decoration-color: #008080; font-weight: bold\">1</span>\n",
       "ukronazis               <span style=\"color: #008080; text-decoration-color: #008080; font-weight: bold\">1</span>\n",
       "stop                    <span style=\"color: #008080; text-decoration-color: #008080; font-weight: bold\">1</span>\n",
       "warcrimes               <span style=\"color: #008080; text-decoration-color: #008080; font-weight: bold\">1</span>\n",
       "usawarcrimes            <span style=\"color: #008080; text-decoration-color: #008080; font-weight: bold\">1</span>\n",
       "ukrainerussianwar       <span style=\"color: #008080; text-decoration-color: #008080; font-weight: bold\">1</span>\n",
       "ukrainerussiawar        <span style=\"color: #008080; text-decoration-color: #008080; font-weight: bold\">1</span>\n",
       "Name: prorus, dtype: int64\n",
       "</pre>\n"
      ],
      "text/plain": [
       "istandwithputin        \u001b[1;36m66\u001b[0m\n",
       "istandwithrussia       \u001b[1;36m47\u001b[0m\n",
       "putin                  \u001b[1;36m38\u001b[0m\n",
       "russia                 \u001b[1;36m36\u001b[0m\n",
       "ukraine                \u001b[1;36m36\u001b[0m\n",
       "stopputinnow           \u001b[1;36m31\u001b[0m\n",
       "russianukrainianwar    \u001b[1;36m31\u001b[0m\n",
       "ukrainewar             \u001b[1;36m29\u001b[0m\n",
       "stpetersburg           \u001b[1;36m29\u001b[0m\n",
       "stopputin              \u001b[1;36m29\u001b[0m\n",
       "zelenskyy              \u001b[1;36m29\u001b[0m\n",
       "ukrainekrieg           \u001b[1;36m29\u001b[0m\n",
       "oprussia               \u001b[1;36m29\u001b[0m\n",
       "standwithukraine️      \u001b[1;36m29\u001b[0m\n",
       "zelenskywarcriminal     \u001b[1;36m9\u001b[0m\n",
       "russian                 \u001b[1;36m7\u001b[0m\n",
       "naziukraine             \u001b[1;36m7\u001b[0m\n",
       "azov                    \u001b[1;36m4\u001b[0m\n",
       "bidenflation            \u001b[1;36m4\u001b[0m\n",
       "bidencrimefamily        \u001b[1;36m4\u001b[0m\n",
       "russians                \u001b[1;36m4\u001b[0m\n",
       "brics                   \u001b[1;36m4\u001b[0m\n",
       "china                   \u001b[1;36m4\u001b[0m\n",
       "europe                  \u001b[1;36m4\u001b[0m\n",
       "bidensucks              \u001b[1;36m4\u001b[0m\n",
       "eu                      \u001b[1;36m4\u001b[0m\n",
       "usa                     \u001b[1;36m4\u001b[0m\n",
       "russianfederation       \u001b[1;36m4\u001b[0m\n",
       "z                       \u001b[1;36m2\u001b[0m\n",
       "oilban                  \u001b[1;36m1\u001b[0m\n",
       "ukraineunderattaсk      \u001b[1;36m1\u001b[0m\n",
       "clownworld              \u001b[1;36m1\u001b[0m\n",
       "greatreset              \u001b[1;36m1\u001b[0m\n",
       "greennewdeal            \u001b[1;36m1\u001b[0m\n",
       "ukranians               \u001b[1;36m1\u001b[0m\n",
       "timhayward              \u001b[1;36m1\u001b[0m\n",
       "zelensky                \u001b[1;36m1\u001b[0m\n",
       "ukronazis               \u001b[1;36m1\u001b[0m\n",
       "stop                    \u001b[1;36m1\u001b[0m\n",
       "warcrimes               \u001b[1;36m1\u001b[0m\n",
       "usawarcrimes            \u001b[1;36m1\u001b[0m\n",
       "ukrainerussianwar       \u001b[1;36m1\u001b[0m\n",
       "ukrainerussiawar        \u001b[1;36m1\u001b[0m\n",
       "Name: prorus, dtype: int64\n"
      ]
     },
     "metadata": {},
     "output_type": "display_data"
    },
    {
     "data": {
      "text/html": [
       "<pre style=\"white-space:pre;overflow-x:auto;line-height:normal;font-family:Menlo,'DejaVu Sans Mono',consolas,'Courier New',monospace\"><span style=\"color: #008080; text-decoration-color: #008080; font-weight: bold\">0</span>                 ukraine\n",
       "<span style=\"color: #008080; text-decoration-color: #008080; font-weight: bold\">1</span>        stopwarinukraine\n",
       "<span style=\"color: #008080; text-decoration-color: #008080; font-weight: bold\">2</span>                 stopwar\n",
       "<span style=\"color: #008080; text-decoration-color: #008080; font-weight: bold\">3</span>                     nft\n",
       "<span style=\"color: #008080; text-decoration-color: #008080; font-weight: bold\">4</span>                    nfts\n",
       "              <span style=\"color: #808000; text-decoration-color: #808000\">...</span>        \n",
       "<span style=\"color: #008080; text-decoration-color: #008080; font-weight: bold\">5627</span>         putinukraine\n",
       "<span style=\"color: #008080; text-decoration-color: #008080; font-weight: bold\">5628</span>       stoprussianwar\n",
       "<span style=\"color: #008080; text-decoration-color: #008080; font-weight: bold\">5629</span>          stoprashizm\n",
       "<span style=\"color: #008080; text-decoration-color: #008080; font-weight: bold\">5630</span>          saveukraine\n",
       "<span style=\"color: #008080; text-decoration-color: #008080; font-weight: bold\">5631</span>    saveukrainiankids\n",
       "Name: pax, Length: <span style=\"color: #008080; text-decoration-color: #008080; font-weight: bold\">5632</span>, dtype: object\n",
       "</pre>\n"
      ],
      "text/plain": [
       "\u001b[1;36m0\u001b[0m                 ukraine\n",
       "\u001b[1;36m1\u001b[0m        stopwarinukraine\n",
       "\u001b[1;36m2\u001b[0m                 stopwar\n",
       "\u001b[1;36m3\u001b[0m                     nft\n",
       "\u001b[1;36m4\u001b[0m                    nfts\n",
       "              \u001b[33m...\u001b[0m        \n",
       "\u001b[1;36m5627\u001b[0m         putinukraine\n",
       "\u001b[1;36m5628\u001b[0m       stoprussianwar\n",
       "\u001b[1;36m5629\u001b[0m          stoprashizm\n",
       "\u001b[1;36m5630\u001b[0m          saveukraine\n",
       "\u001b[1;36m5631\u001b[0m    saveukrainiankids\n",
       "Name: pax, Length: \u001b[1;36m5632\u001b[0m, dtype: object\n"
      ]
     },
     "metadata": {},
     "output_type": "display_data"
    },
    {
     "data": {
      "text/html": [
       "<pre style=\"white-space:pre;overflow-x:auto;line-height:normal;font-family:Menlo,'DejaVu Sans Mono',consolas,'Courier New',monospace\">stopwarinukraine        <span style=\"color: #008080; text-decoration-color: #008080; font-weight: bold\">833</span>\n",
       "ukraine                 <span style=\"color: #008080; text-decoration-color: #008080; font-weight: bold\">308</span>\n",
       "helpukraine             <span style=\"color: #008080; text-decoration-color: #008080; font-weight: bold\">236</span>\n",
       "nfts                    <span style=\"color: #008080; text-decoration-color: #008080; font-weight: bold\">226</span>\n",
       "stopputin               <span style=\"color: #008080; text-decoration-color: #008080; font-weight: bold\">208</span>\n",
       "                       <span style=\"color: #808000; text-decoration-color: #808000\">...</span> \n",
       "mermay                    <span style=\"color: #008080; text-decoration-color: #008080; font-weight: bold\">1</span>\n",
       "artist                    <span style=\"color: #008080; text-decoration-color: #008080; font-weight: bold\">1</span>\n",
       "saitama                   <span style=\"color: #008080; text-decoration-color: #008080; font-weight: bold\">1</span>\n",
       "japan                     <span style=\"color: #008080; text-decoration-color: #008080; font-weight: bold\">1</span>\n",
       "bosniaandherzegovina      <span style=\"color: #008080; text-decoration-color: #008080; font-weight: bold\">1</span>\n",
       "Name: pax, Length: <span style=\"color: #008080; text-decoration-color: #008080; font-weight: bold\">299</span>, dtype: int64\n",
       "</pre>\n"
      ],
      "text/plain": [
       "stopwarinukraine        \u001b[1;36m833\u001b[0m\n",
       "ukraine                 \u001b[1;36m308\u001b[0m\n",
       "helpukraine             \u001b[1;36m236\u001b[0m\n",
       "nfts                    \u001b[1;36m226\u001b[0m\n",
       "stopputin               \u001b[1;36m208\u001b[0m\n",
       "                       \u001b[33m...\u001b[0m \n",
       "mermay                    \u001b[1;36m1\u001b[0m\n",
       "artist                    \u001b[1;36m1\u001b[0m\n",
       "saitama                   \u001b[1;36m1\u001b[0m\n",
       "japan                     \u001b[1;36m1\u001b[0m\n",
       "bosniaandherzegovina      \u001b[1;36m1\u001b[0m\n",
       "Name: pax, Length: \u001b[1;36m299\u001b[0m, dtype: int64\n"
      ]
     },
     "metadata": {},
     "output_type": "display_data"
    }
   ],
   "source": [
    "for _, riga in miao.iterrows():\n",
    "    if tagmadre[\"proukr\"] in riga[\"tags\"]:\n",
    "        #        results = [tag for tag in riga[\"tags\"]]\n",
    "        #        for tag in riga[\"tags\"]:\n",
    "        #            results.append(tag)\n",
    "        results[\"proukr\"].extend([tag for tag in riga[\"tags\"]])\n",
    "    elif tagmadre[\"prorus\"] in riga[\"tags\"]:\n",
    "        results[\"prorus\"].extend([tag for tag in riga[\"tags\"]])\n",
    "    elif tagmadre[\"pax\"] in riga[\"tags\"]:\n",
    "        results[\"pax\"].extend([tag for tag in riga[\"tags\"]])\n",
    "for category, value in results.items():\n",
    "    miaone[category] = pd.Series(value, name=category)\n",
    "    print(miaone[category])\n",
    "    print(miaone[category].value_counts())"
   ]
  },
  {
   "cell_type": "code",
   "execution_count": null,
   "id": "dedicated-craps",
   "metadata": {},
   "outputs": [],
   "source": []
  },
  {
   "cell_type": "code",
   "execution_count": null,
   "id": "consecutive-handy",
   "metadata": {},
   "outputs": [],
   "source": []
  }
 ],
 "metadata": {
  "kernelspec": {
   "display_name": "Python 3",
   "language": "python",
   "name": "python3"
  },
  "language_info": {
   "codemirror_mode": {
    "name": "ipython",
    "version": 3
   },
   "file_extension": ".py",
   "mimetype": "text/x-python",
   "name": "python",
   "nbconvert_exporter": "python",
   "pygments_lexer": "ipython3",
   "version": "3.8.5"
  }
 },
 "nbformat": 4,
 "nbformat_minor": 5
}
