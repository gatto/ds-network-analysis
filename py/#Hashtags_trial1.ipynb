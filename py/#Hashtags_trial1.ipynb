{
 "cells": [
  {
   "cell_type": "code",
   "execution_count": 1,
   "id": "fourth-window",
   "metadata": {},
   "outputs": [],
   "source": [
    "import pandas as pd\n",
    "from extract import Count, SocialETL\n",
    "from rich import print"
   ]
  },
  {
   "cell_type": "code",
   "execution_count": 2,
   "id": "refined-jimmy",
   "metadata": {},
   "outputs": [],
   "source": [
    "def extract_tags(value):\n",
    "    results = []\n",
    "    for my_dict in value:\n",
    "        results.append(my_dict[\"tag\"].lower())\n",
    "    return results"
   ]
  },
  {
   "cell_type": "code",
   "execution_count": 3,
   "id": "amended-oliver",
   "metadata": {},
   "outputs": [
    {
     "data": {
      "application/vnd.jupyter.widget-view+json": {
       "model_id": "443b0c16695c4a2da0a012458f7e819c",
       "version_major": 2,
       "version_minor": 0
      },
      "text/plain": [
       "Output()"
      ]
     },
     "metadata": {},
     "output_type": "display_data"
    },
    {
     "data": {
      "text/html": [
       "<pre style=\"white-space:pre;overflow-x:auto;line-height:normal;font-family:Menlo,'DejaVu Sans Mono',consolas,'Courier New',monospace\"></pre>\n"
      ],
      "text/plain": []
     },
     "metadata": {},
     "output_type": "display_data"
    },
    {
     "data": {
      "text/html": [
       "<pre style=\"white-space:pre;overflow-x:auto;line-height:normal;font-family:Menlo,'DejaVu Sans Mono',consolas,'Courier New',monospace\">\n",
       "</pre>\n"
      ],
      "text/plain": [
       "\n"
      ]
     },
     "metadata": {},
     "output_type": "display_data"
    },
    {
     "data": {
      "text/html": [
       "<pre style=\"white-space:pre;overflow-x:auto;line-height:normal;font-family:Menlo,'DejaVu Sans Mono',consolas,'Courier New',monospace\"><span style=\"color: #008080; text-decoration-color: #008080; font-weight: bold\">500</span> tweets retrieved.\n",
       "</pre>\n"
      ],
      "text/plain": [
       "\u001b[1;36m500\u001b[0m tweets retrieved.\n"
      ]
     },
     "metadata": {},
     "output_type": "display_data"
    },
    {
     "data": {
      "text/html": [
       "<pre style=\"white-space:pre;overflow-x:auto;line-height:normal;font-family:Menlo,'DejaVu Sans Mono',consolas,'Courier New',monospace\"><span style=\"color: #008080; text-decoration-color: #008080; font-weight: bold\">0</span>      <span style=\"font-weight: bold\">[{</span><span style=\"color: #008000; text-decoration-color: #008000\">\"start\"</span>: <span style=\"color: #008080; text-decoration-color: #008080; font-weight: bold\">14</span>, <span style=\"color: #008000; text-decoration-color: #008000\">\"end\"</span>: <span style=\"color: #008080; text-decoration-color: #008080; font-weight: bold\">27</span>, <span style=\"color: #008000; text-decoration-color: #008000\">\"tag\"</span>: <span style=\"color: #008000; text-decoration-color: #008000\">\"SlavaUkraini\"</span><span style=\"font-weight: bold\">}]</span>\n",
       "<span style=\"color: #008080; text-decoration-color: #008080; font-weight: bold\">1</span>      <span style=\"font-weight: bold\">[{</span><span style=\"color: #008000; text-decoration-color: #008000\">\"start\"</span>: <span style=\"color: #008080; text-decoration-color: #008080; font-weight: bold\">14</span>, <span style=\"color: #008000; text-decoration-color: #008000\">\"end\"</span>: <span style=\"color: #008080; text-decoration-color: #008080; font-weight: bold\">27</span>, <span style=\"color: #008000; text-decoration-color: #008000\">\"tag\"</span>: <span style=\"color: #008000; text-decoration-color: #008000\">\"SlavaUkraini\"</span><span style=\"font-weight: bold\">}]</span>\n",
       "<span style=\"color: #008080; text-decoration-color: #008080; font-weight: bold\">2</span>      <span style=\"font-weight: bold\">[{</span><span style=\"color: #008000; text-decoration-color: #008000\">\"start\"</span>: <span style=\"color: #008080; text-decoration-color: #008080; font-weight: bold\">0</span>, <span style=\"color: #008000; text-decoration-color: #008000\">\"end\"</span>: <span style=\"color: #008080; text-decoration-color: #008080; font-weight: bold\">8</span>, <span style=\"color: #008000; text-decoration-color: #008000\">\"tag\"</span>: <span style=\"color: #008000; text-decoration-color: #008000\">\"YouTube\"</span><span style=\"font-weight: bold\">}</span>, <span style=\"font-weight: bold\">{</span>\"s<span style=\"color: #808000; text-decoration-color: #808000\">...</span>\n",
       "<span style=\"color: #008080; text-decoration-color: #008080; font-weight: bold\">3</span>      <span style=\"font-weight: bold\">[{</span><span style=\"color: #008000; text-decoration-color: #008000\">\"start\"</span>: <span style=\"color: #008080; text-decoration-color: #008080; font-weight: bold\">201</span>, <span style=\"color: #008000; text-decoration-color: #008000\">\"end\"</span>: <span style=\"color: #008080; text-decoration-color: #008080; font-weight: bold\">214</span>, <span style=\"color: #008000; text-decoration-color: #008000\">\"tag\"</span>: \"SlavaUkrai<span style=\"color: #808000; text-decoration-color: #808000\">...</span>\n",
       "<span style=\"color: #008080; text-decoration-color: #008080; font-weight: bold\">4</span>      <span style=\"font-weight: bold\">[{</span><span style=\"color: #008000; text-decoration-color: #008000\">\"start\"</span>: <span style=\"color: #008080; text-decoration-color: #008080; font-weight: bold\">0</span>, <span style=\"color: #008000; text-decoration-color: #008000\">\"end\"</span>: <span style=\"color: #008080; text-decoration-color: #008080; font-weight: bold\">8</span>, <span style=\"color: #008000; text-decoration-color: #008000\">\"tag\"</span>: <span style=\"color: #008000; text-decoration-color: #008000\">\"YouTube\"</span><span style=\"font-weight: bold\">}</span>, <span style=\"font-weight: bold\">{</span>\"s<span style=\"color: #808000; text-decoration-color: #808000\">...</span>\n",
       "                             <span style=\"color: #808000; text-decoration-color: #808000\">...</span>                        \n",
       "<span style=\"color: #008080; text-decoration-color: #008080; font-weight: bold\">495</span>    <span style=\"font-weight: bold\">[{</span><span style=\"color: #008000; text-decoration-color: #008000\">\"start\"</span>: <span style=\"color: #008080; text-decoration-color: #008080; font-weight: bold\">36</span>, <span style=\"color: #008000; text-decoration-color: #008000\">\"end\"</span>: <span style=\"color: #008080; text-decoration-color: #008080; font-weight: bold\">49</span>, <span style=\"color: #008000; text-decoration-color: #008000\">\"tag\"</span>: <span style=\"color: #008000; text-decoration-color: #008000\">\"SlavaUkraini\"</span><span style=\"font-weight: bold\">}]</span>\n",
       "<span style=\"color: #008080; text-decoration-color: #008080; font-weight: bold\">496</span>    <span style=\"font-weight: bold\">[{</span><span style=\"color: #008000; text-decoration-color: #008000\">\"start\"</span>: <span style=\"color: #008080; text-decoration-color: #008080; font-weight: bold\">59</span>, <span style=\"color: #008000; text-decoration-color: #008000\">\"end\"</span>: <span style=\"color: #008080; text-decoration-color: #008080; font-weight: bold\">67</span>, <span style=\"color: #008000; text-decoration-color: #008000\">\"tag\"</span>: <span style=\"color: #008000; text-decoration-color: #008000\">\"ukraine\"</span><span style=\"font-weight: bold\">}</span>, <span style=\"font-weight: bold\">{</span><span style=\"color: #808000; text-decoration-color: #808000\">...</span>\n",
       "<span style=\"color: #008080; text-decoration-color: #008080; font-weight: bold\">497</span>    <span style=\"font-weight: bold\">[{</span><span style=\"color: #008000; text-decoration-color: #008000\">\"start\"</span>: <span style=\"color: #008080; text-decoration-color: #008080; font-weight: bold\">89</span>, <span style=\"color: #008000; text-decoration-color: #008000\">\"end\"</span>: <span style=\"color: #008080; text-decoration-color: #008080; font-weight: bold\">102</span>, <span style=\"color: #008000; text-decoration-color: #008000\">\"tag\"</span>: \"SlavaUkrain<span style=\"color: #808000; text-decoration-color: #808000\">...</span>\n",
       "<span style=\"color: #008080; text-decoration-color: #008080; font-weight: bold\">498</span>    <span style=\"font-weight: bold\">[{</span><span style=\"color: #008000; text-decoration-color: #008000\">\"start\"</span>: <span style=\"color: #008080; text-decoration-color: #008080; font-weight: bold\">66</span>, <span style=\"color: #008000; text-decoration-color: #008000\">\"end\"</span>: <span style=\"color: #008080; text-decoration-color: #008080; font-weight: bold\">79</span>, <span style=\"color: #008000; text-decoration-color: #008000\">\"tag\"</span>: <span style=\"color: #008000; text-decoration-color: #008000\">\"SlavaUkraini\"</span><span style=\"font-weight: bold\">}]</span>\n",
       "<span style=\"color: #008080; text-decoration-color: #008080; font-weight: bold\">499</span>    <span style=\"font-weight: bold\">[{</span><span style=\"color: #008000; text-decoration-color: #008000\">\"start\"</span>: <span style=\"color: #008080; text-decoration-color: #008080; font-weight: bold\">14</span>, <span style=\"color: #008000; text-decoration-color: #008000\">\"end\"</span>: <span style=\"color: #008080; text-decoration-color: #008080; font-weight: bold\">27</span>, <span style=\"color: #008000; text-decoration-color: #008000\">\"tag\"</span>: <span style=\"color: #008000; text-decoration-color: #008000\">\"SlavaUkraini\"</span><span style=\"font-weight: bold\">}]</span>\n",
       "Name: entities.hashtags, Length: <span style=\"color: #008080; text-decoration-color: #008080; font-weight: bold\">500</span>, dtype: object tweets with at least <span style=\"color: #008080; text-decoration-color: #008080; font-weight: bold\">1</span> hashtag.\n",
       "</pre>\n"
      ],
      "text/plain": [
       "\u001b[1;36m0\u001b[0m      \u001b[1m[\u001b[0m\u001b[1m{\u001b[0m\u001b[32m\"start\"\u001b[0m: \u001b[1;36m14\u001b[0m, \u001b[32m\"end\"\u001b[0m: \u001b[1;36m27\u001b[0m, \u001b[32m\"tag\"\u001b[0m: \u001b[32m\"SlavaUkraini\"\u001b[0m\u001b[1m}\u001b[0m\u001b[1m]\u001b[0m\n",
       "\u001b[1;36m1\u001b[0m      \u001b[1m[\u001b[0m\u001b[1m{\u001b[0m\u001b[32m\"start\"\u001b[0m: \u001b[1;36m14\u001b[0m, \u001b[32m\"end\"\u001b[0m: \u001b[1;36m27\u001b[0m, \u001b[32m\"tag\"\u001b[0m: \u001b[32m\"SlavaUkraini\"\u001b[0m\u001b[1m}\u001b[0m\u001b[1m]\u001b[0m\n",
       "\u001b[1;36m2\u001b[0m      \u001b[1m[\u001b[0m\u001b[1m{\u001b[0m\u001b[32m\"start\"\u001b[0m: \u001b[1;36m0\u001b[0m, \u001b[32m\"end\"\u001b[0m: \u001b[1;36m8\u001b[0m, \u001b[32m\"tag\"\u001b[0m: \u001b[32m\"YouTube\"\u001b[0m\u001b[1m}\u001b[0m, \u001b[1m{\u001b[0m\"s\u001b[33m...\u001b[0m\n",
       "\u001b[1;36m3\u001b[0m      \u001b[1m[\u001b[0m\u001b[1m{\u001b[0m\u001b[32m\"start\"\u001b[0m: \u001b[1;36m201\u001b[0m, \u001b[32m\"end\"\u001b[0m: \u001b[1;36m214\u001b[0m, \u001b[32m\"tag\"\u001b[0m: \"SlavaUkrai\u001b[33m...\u001b[0m\n",
       "\u001b[1;36m4\u001b[0m      \u001b[1m[\u001b[0m\u001b[1m{\u001b[0m\u001b[32m\"start\"\u001b[0m: \u001b[1;36m0\u001b[0m, \u001b[32m\"end\"\u001b[0m: \u001b[1;36m8\u001b[0m, \u001b[32m\"tag\"\u001b[0m: \u001b[32m\"YouTube\"\u001b[0m\u001b[1m}\u001b[0m, \u001b[1m{\u001b[0m\"s\u001b[33m...\u001b[0m\n",
       "                             \u001b[33m...\u001b[0m                        \n",
       "\u001b[1;36m495\u001b[0m    \u001b[1m[\u001b[0m\u001b[1m{\u001b[0m\u001b[32m\"start\"\u001b[0m: \u001b[1;36m36\u001b[0m, \u001b[32m\"end\"\u001b[0m: \u001b[1;36m49\u001b[0m, \u001b[32m\"tag\"\u001b[0m: \u001b[32m\"SlavaUkraini\"\u001b[0m\u001b[1m}\u001b[0m\u001b[1m]\u001b[0m\n",
       "\u001b[1;36m496\u001b[0m    \u001b[1m[\u001b[0m\u001b[1m{\u001b[0m\u001b[32m\"start\"\u001b[0m: \u001b[1;36m59\u001b[0m, \u001b[32m\"end\"\u001b[0m: \u001b[1;36m67\u001b[0m, \u001b[32m\"tag\"\u001b[0m: \u001b[32m\"ukraine\"\u001b[0m\u001b[1m}\u001b[0m, \u001b[1m{\u001b[0m\u001b[33m...\u001b[0m\n",
       "\u001b[1;36m497\u001b[0m    \u001b[1m[\u001b[0m\u001b[1m{\u001b[0m\u001b[32m\"start\"\u001b[0m: \u001b[1;36m89\u001b[0m, \u001b[32m\"end\"\u001b[0m: \u001b[1;36m102\u001b[0m, \u001b[32m\"tag\"\u001b[0m: \"SlavaUkrain\u001b[33m...\u001b[0m\n",
       "\u001b[1;36m498\u001b[0m    \u001b[1m[\u001b[0m\u001b[1m{\u001b[0m\u001b[32m\"start\"\u001b[0m: \u001b[1;36m66\u001b[0m, \u001b[32m\"end\"\u001b[0m: \u001b[1;36m79\u001b[0m, \u001b[32m\"tag\"\u001b[0m: \u001b[32m\"SlavaUkraini\"\u001b[0m\u001b[1m}\u001b[0m\u001b[1m]\u001b[0m\n",
       "\u001b[1;36m499\u001b[0m    \u001b[1m[\u001b[0m\u001b[1m{\u001b[0m\u001b[32m\"start\"\u001b[0m: \u001b[1;36m14\u001b[0m, \u001b[32m\"end\"\u001b[0m: \u001b[1;36m27\u001b[0m, \u001b[32m\"tag\"\u001b[0m: \u001b[32m\"SlavaUkraini\"\u001b[0m\u001b[1m}\u001b[0m\u001b[1m]\u001b[0m\n",
       "Name: entities.hashtags, Length: \u001b[1;36m500\u001b[0m, dtype: object tweets with at least \u001b[1;36m1\u001b[0m hashtag.\n"
      ]
     },
     "metadata": {},
     "output_type": "display_data"
    }
   ],
   "source": [
    "m = SocialETL(query=\"(#slavaukraini OR #istandwithputin OR #stopwarinukraine) lang:en\", pages=5, recent=False)\n",
    "print(f\"{m.df['entities.hashtags'].count()} tweets retrieved.\")\n",
    "\n",
    "miao = m.df[[\"id\", \"entities.hashtags\"]].dropna()\n",
    "print(f\"{miao['entities.hashtags']} tweets with at least 1 hashtag.\")\n",
    "\n",
    "miao[\"entities.hashtags\"] = miao[\"entities.hashtags\"].map(eval)\n",
    "\n",
    "miao[\"tags\"] = miao[\"entities.hashtags\"].map(extract_tags)\n",
    "\n",
    "my_results = []\n",
    "\n",
    "tagmadre = {\n",
    "    \"proukr\": \"slavaukraini\",\n",
    "    \"prorus\": \"istandwithputin\",\n",
    "    \"pax\": \"stopwarinukraine\",\n",
    "}\n",
    "results = {\"proukr\": [], \"prorus\": [], \"pax\": []}\n",
    "miaone = {}"
   ]
  },
  {
   "cell_type": "code",
   "execution_count": 4,
   "id": "psychological-algeria",
   "metadata": {},
   "outputs": [
    {
     "data": {
      "text/html": [
       "<pre style=\"white-space:pre;overflow-x:auto;line-height:normal;font-family:Menlo,'DejaVu Sans Mono',consolas,'Courier New',monospace\"><span style=\"color: #008080; text-decoration-color: #008080; font-weight: bold\">0</span>          slavaukraini\n",
       "<span style=\"color: #008080; text-decoration-color: #008080; font-weight: bold\">1</span>          slavaukraini\n",
       "<span style=\"color: #008080; text-decoration-color: #008080; font-weight: bold\">2</span>               youtube\n",
       "<span style=\"color: #008080; text-decoration-color: #008080; font-weight: bold\">3</span>            ukrainians\n",
       "<span style=\"color: #008080; text-decoration-color: #008080; font-weight: bold\">4</span>              homeland\n",
       "             <span style=\"color: #808000; text-decoration-color: #808000\">...</span>       \n",
       "<span style=\"color: #008080; text-decoration-color: #008080; font-weight: bold\">1887</span>    contemporaryart\n",
       "<span style=\"color: #008080; text-decoration-color: #008080; font-weight: bold\">1888</span>              putin\n",
       "<span style=\"color: #008080; text-decoration-color: #008080; font-weight: bold\">1889</span>       slavaukraini\n",
       "<span style=\"color: #008080; text-decoration-color: #008080; font-weight: bold\">1890</span>       slavaukraini\n",
       "<span style=\"color: #008080; text-decoration-color: #008080; font-weight: bold\">1891</span>       slavaukraini\n",
       "Name: proukr, Length: <span style=\"color: #008080; text-decoration-color: #008080; font-weight: bold\">1892</span>, dtype: object\n",
       "</pre>\n"
      ],
      "text/plain": [
       "\u001b[1;36m0\u001b[0m          slavaukraini\n",
       "\u001b[1;36m1\u001b[0m          slavaukraini\n",
       "\u001b[1;36m2\u001b[0m               youtube\n",
       "\u001b[1;36m3\u001b[0m            ukrainians\n",
       "\u001b[1;36m4\u001b[0m              homeland\n",
       "             \u001b[33m...\u001b[0m       \n",
       "\u001b[1;36m1887\u001b[0m    contemporaryart\n",
       "\u001b[1;36m1888\u001b[0m              putin\n",
       "\u001b[1;36m1889\u001b[0m       slavaukraini\n",
       "\u001b[1;36m1890\u001b[0m       slavaukraini\n",
       "\u001b[1;36m1891\u001b[0m       slavaukraini\n",
       "Name: proukr, Length: \u001b[1;36m1892\u001b[0m, dtype: object\n"
      ]
     },
     "metadata": {},
     "output_type": "display_data"
    },
    {
     "data": {
      "text/html": [
       "<pre style=\"white-space:pre;overflow-x:auto;line-height:normal;font-family:Menlo,'DejaVu Sans Mono',consolas,'Courier New',monospace\">slavaukraini         <span style=\"color: #008080; text-decoration-color: #008080; font-weight: bold\">426</span>\n",
       "ukraine              <span style=\"color: #008080; text-decoration-color: #008080; font-weight: bold\">172</span>\n",
       "stopputin            <span style=\"color: #008080; text-decoration-color: #008080; font-weight: bold\">115</span>\n",
       "putin                <span style=\"color: #008080; text-decoration-color: #008080; font-weight: bold\">114</span>\n",
       "art                  <span style=\"color: #008080; text-decoration-color: #008080; font-weight: bold\">112</span>\n",
       "                    <span style=\"color: #808000; text-decoration-color: #808000\">...</span> \n",
       "chechnya               <span style=\"color: #008080; text-decoration-color: #008080; font-weight: bold\">1</span>\n",
       "russianaggression      <span style=\"color: #008080; text-decoration-color: #008080; font-weight: bold\">1</span>\n",
       "zelenskyy              <span style=\"color: #008080; text-decoration-color: #008080; font-weight: bold\">1</span>\n",
       "russianarmy            <span style=\"color: #008080; text-decoration-color: #008080; font-weight: bold\">1</span>\n",
       "saveukraine            <span style=\"color: #008080; text-decoration-color: #008080; font-weight: bold\">1</span>\n",
       "Name: proukr, Length: <span style=\"color: #008080; text-decoration-color: #008080; font-weight: bold\">162</span>, dtype: int64\n",
       "</pre>\n"
      ],
      "text/plain": [
       "slavaukraini         \u001b[1;36m426\u001b[0m\n",
       "ukraine              \u001b[1;36m172\u001b[0m\n",
       "stopputin            \u001b[1;36m115\u001b[0m\n",
       "putin                \u001b[1;36m114\u001b[0m\n",
       "art                  \u001b[1;36m112\u001b[0m\n",
       "                    \u001b[33m...\u001b[0m \n",
       "chechnya               \u001b[1;36m1\u001b[0m\n",
       "russianaggression      \u001b[1;36m1\u001b[0m\n",
       "zelenskyy              \u001b[1;36m1\u001b[0m\n",
       "russianarmy            \u001b[1;36m1\u001b[0m\n",
       "saveukraine            \u001b[1;36m1\u001b[0m\n",
       "Name: proukr, Length: \u001b[1;36m162\u001b[0m, dtype: int64\n"
      ]
     },
     "metadata": {},
     "output_type": "display_data"
    },
    {
     "data": {
      "text/html": [
       "<pre style=\"white-space:pre;overflow-x:auto;line-height:normal;font-family:Menlo,'DejaVu Sans Mono',consolas,'Courier New',monospace\"><span style=\"color: #008080; text-decoration-color: #008080; font-weight: bold\">0</span>         istandwithputin\n",
       "<span style=\"color: #008080; text-decoration-color: #008080; font-weight: bold\">1</span>        istandwithrussia\n",
       "<span style=\"color: #008080; text-decoration-color: #008080; font-weight: bold\">2</span>         istandwithputin\n",
       "<span style=\"color: #008080; text-decoration-color: #008080; font-weight: bold\">3</span>                   putin\n",
       "<span style=\"color: #008080; text-decoration-color: #008080; font-weight: bold\">4</span>                   putin\n",
       "<span style=\"color: #008080; text-decoration-color: #008080; font-weight: bold\">5</span>         istandwithputin\n",
       "<span style=\"color: #008080; text-decoration-color: #008080; font-weight: bold\">6</span>                  elites\n",
       "<span style=\"color: #008080; text-decoration-color: #008080; font-weight: bold\">7</span>         istandwithputin\n",
       "<span style=\"color: #008080; text-decoration-color: #008080; font-weight: bold\">8</span>     russianukrainianwar\n",
       "<span style=\"color: #008080; text-decoration-color: #008080; font-weight: bold\">9</span>         istandwithputin\n",
       "<span style=\"color: #008080; text-decoration-color: #008080; font-weight: bold\">10</span>        istandwithputin\n",
       "<span style=\"color: #008080; text-decoration-color: #008080; font-weight: bold\">11</span>        istandwithputin\n",
       "<span style=\"color: #008080; text-decoration-color: #008080; font-weight: bold\">12</span>       istandwithrussia\n",
       "Name: prorus, dtype: object\n",
       "</pre>\n"
      ],
      "text/plain": [
       "\u001b[1;36m0\u001b[0m         istandwithputin\n",
       "\u001b[1;36m1\u001b[0m        istandwithrussia\n",
       "\u001b[1;36m2\u001b[0m         istandwithputin\n",
       "\u001b[1;36m3\u001b[0m                   putin\n",
       "\u001b[1;36m4\u001b[0m                   putin\n",
       "\u001b[1;36m5\u001b[0m         istandwithputin\n",
       "\u001b[1;36m6\u001b[0m                  elites\n",
       "\u001b[1;36m7\u001b[0m         istandwithputin\n",
       "\u001b[1;36m8\u001b[0m     russianukrainianwar\n",
       "\u001b[1;36m9\u001b[0m         istandwithputin\n",
       "\u001b[1;36m10\u001b[0m        istandwithputin\n",
       "\u001b[1;36m11\u001b[0m        istandwithputin\n",
       "\u001b[1;36m12\u001b[0m       istandwithrussia\n",
       "Name: prorus, dtype: object\n"
      ]
     },
     "metadata": {},
     "output_type": "display_data"
    },
    {
     "data": {
      "text/html": [
       "<pre style=\"white-space:pre;overflow-x:auto;line-height:normal;font-family:Menlo,'DejaVu Sans Mono',consolas,'Courier New',monospace\">istandwithputin        <span style=\"color: #008080; text-decoration-color: #008080; font-weight: bold\">7</span>\n",
       "istandwithrussia       <span style=\"color: #008080; text-decoration-color: #008080; font-weight: bold\">2</span>\n",
       "putin                  <span style=\"color: #008080; text-decoration-color: #008080; font-weight: bold\">2</span>\n",
       "elites                 <span style=\"color: #008080; text-decoration-color: #008080; font-weight: bold\">1</span>\n",
       "russianukrainianwar    <span style=\"color: #008080; text-decoration-color: #008080; font-weight: bold\">1</span>\n",
       "Name: prorus, dtype: int64\n",
       "</pre>\n"
      ],
      "text/plain": [
       "istandwithputin        \u001b[1;36m7\u001b[0m\n",
       "istandwithrussia       \u001b[1;36m2\u001b[0m\n",
       "putin                  \u001b[1;36m2\u001b[0m\n",
       "elites                 \u001b[1;36m1\u001b[0m\n",
       "russianukrainianwar    \u001b[1;36m1\u001b[0m\n",
       "Name: prorus, dtype: int64\n"
      ]
     },
     "metadata": {},
     "output_type": "display_data"
    },
    {
     "data": {
      "text/html": [
       "<pre style=\"white-space:pre;overflow-x:auto;line-height:normal;font-family:Menlo,'DejaVu Sans Mono',consolas,'Courier New',monospace\"><span style=\"color: #008080; text-decoration-color: #008080; font-weight: bold\">0</span>               ukraine\n",
       "<span style=\"color: #008080; text-decoration-color: #008080; font-weight: bold\">1</span>                russia\n",
       "<span style=\"color: #008080; text-decoration-color: #008080; font-weight: bold\">2</span>           putinhitler\n",
       "<span style=\"color: #008080; text-decoration-color: #008080; font-weight: bold\">3</span>      stopwarinukraine\n",
       "<span style=\"color: #008080; text-decoration-color: #008080; font-weight: bold\">4</span>            putinhuilo\n",
       "             <span style=\"color: #808000; text-decoration-color: #808000\">...</span>       \n",
       "<span style=\"color: #008080; text-decoration-color: #008080; font-weight: bold\">291</span>          polygonnft\n",
       "<span style=\"color: #008080; text-decoration-color: #008080; font-weight: bold\">292</span>                 eth\n",
       "<span style=\"color: #008080; text-decoration-color: #008080; font-weight: bold\">293</span>                 art\n",
       "<span style=\"color: #008080; text-decoration-color: #008080; font-weight: bold\">294</span>        nftcollector\n",
       "<span style=\"color: #008080; text-decoration-color: #008080; font-weight: bold\">295</span>    stopwarinukraine\n",
       "Name: pax, Length: <span style=\"color: #008080; text-decoration-color: #008080; font-weight: bold\">296</span>, dtype: object\n",
       "</pre>\n"
      ],
      "text/plain": [
       "\u001b[1;36m0\u001b[0m               ukraine\n",
       "\u001b[1;36m1\u001b[0m                russia\n",
       "\u001b[1;36m2\u001b[0m           putinhitler\n",
       "\u001b[1;36m3\u001b[0m      stopwarinukraine\n",
       "\u001b[1;36m4\u001b[0m            putinhuilo\n",
       "             \u001b[33m...\u001b[0m       \n",
       "\u001b[1;36m291\u001b[0m          polygonnft\n",
       "\u001b[1;36m292\u001b[0m                 eth\n",
       "\u001b[1;36m293\u001b[0m                 art\n",
       "\u001b[1;36m294\u001b[0m        nftcollector\n",
       "\u001b[1;36m295\u001b[0m    stopwarinukraine\n",
       "Name: pax, Length: \u001b[1;36m296\u001b[0m, dtype: object\n"
      ]
     },
     "metadata": {},
     "output_type": "display_data"
    },
    {
     "data": {
      "text/html": [
       "<pre style=\"white-space:pre;overflow-x:auto;line-height:normal;font-family:Menlo,'DejaVu Sans Mono',consolas,'Courier New',monospace\">stopwarinukraine    <span style=\"color: #008080; text-decoration-color: #008080; font-weight: bold\">51</span>\n",
       "ukraine             <span style=\"color: #008080; text-decoration-color: #008080; font-weight: bold\">28</span>\n",
       "stoprussia          <span style=\"color: #008080; text-decoration-color: #008080; font-weight: bold\">17</span>\n",
       "ukrainerussiawar    <span style=\"color: #008080; text-decoration-color: #008080; font-weight: bold\">14</span>\n",
       "russiaukrainewar    <span style=\"color: #008080; text-decoration-color: #008080; font-weight: bold\">11</span>\n",
       "                    ..\n",
       "savekharkiv          <span style=\"color: #008080; text-decoration-color: #008080; font-weight: bold\">1</span>\n",
       "humanitarianaid      <span style=\"color: #008080; text-decoration-color: #008080; font-weight: bold\">1</span>\n",
       "stopputinswar        <span style=\"color: #008080; text-decoration-color: #008080; font-weight: bold\">1</span>\n",
       "standwithukriane     <span style=\"color: #008080; text-decoration-color: #008080; font-weight: bold\">1</span>\n",
       "prayforukraine       <span style=\"color: #008080; text-decoration-color: #008080; font-weight: bold\">1</span>\n",
       "Name: pax, Length: <span style=\"color: #008080; text-decoration-color: #008080; font-weight: bold\">76</span>, dtype: int64\n",
       "</pre>\n"
      ],
      "text/plain": [
       "stopwarinukraine    \u001b[1;36m51\u001b[0m\n",
       "ukraine             \u001b[1;36m28\u001b[0m\n",
       "stoprussia          \u001b[1;36m17\u001b[0m\n",
       "ukrainerussiawar    \u001b[1;36m14\u001b[0m\n",
       "russiaukrainewar    \u001b[1;36m11\u001b[0m\n",
       "                    ..\n",
       "savekharkiv          \u001b[1;36m1\u001b[0m\n",
       "humanitarianaid      \u001b[1;36m1\u001b[0m\n",
       "stopputinswar        \u001b[1;36m1\u001b[0m\n",
       "standwithukriane     \u001b[1;36m1\u001b[0m\n",
       "prayforukraine       \u001b[1;36m1\u001b[0m\n",
       "Name: pax, Length: \u001b[1;36m76\u001b[0m, dtype: int64\n"
      ]
     },
     "metadata": {},
     "output_type": "display_data"
    }
   ],
   "source": [
    "for _, riga in miao.iterrows():\n",
    "    if tagmadre[\"proukr\"] in riga[\"tags\"]:\n",
    "        #        results = [tag for tag in riga[\"tags\"]]\n",
    "        #        for tag in riga[\"tags\"]:\n",
    "        #            results.append(tag)\n",
    "        results[\"proukr\"].extend([tag for tag in riga[\"tags\"]])\n",
    "    elif tagmadre[\"prorus\"] in riga[\"tags\"]:\n",
    "        results[\"prorus\"].extend([tag for tag in riga[\"tags\"]])\n",
    "    elif tagmadre[\"pax\"] in riga[\"tags\"]:\n",
    "        results[\"pax\"].extend([tag for tag in riga[\"tags\"]])\n",
    "for category, value in results.items():\n",
    "    miaone[category] = pd.Series(value, name=category)\n",
    "    print(miaone[category])\n",
    "    print(miaone[category].value_counts())"
   ]
  },
  {
   "cell_type": "code",
   "execution_count": null,
   "id": "dedicated-craps",
   "metadata": {},
   "outputs": [],
   "source": []
  }
 ],
 "metadata": {
  "kernelspec": {
   "display_name": "Python 3",
   "language": "python",
   "name": "python3"
  },
  "language_info": {
   "codemirror_mode": {
    "name": "ipython",
    "version": 3
   },
   "file_extension": ".py",
   "mimetype": "text/x-python",
   "name": "python",
   "nbconvert_exporter": "python",
   "pygments_lexer": "ipython3",
   "version": "3.8.5"
  }
 },
 "nbformat": 4,
 "nbformat_minor": 5
}
