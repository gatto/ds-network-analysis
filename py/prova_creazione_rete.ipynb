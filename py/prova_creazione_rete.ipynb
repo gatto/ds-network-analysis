{
 "cells": [
  {
   "cell_type": "code",
   "execution_count": 1,
   "id": "c32c2469",
   "metadata": {},
   "outputs": [],
   "source": [
    "import json\n",
    "import keyword\n",
    "import unicodedata\n",
    "from collections import defaultdict\n",
    "import pandas as pd\n",
    "from extract import SocialETL, construct_query_for_twarc, extract_tags, SocialDB\n",
    "from rich import print\n",
    "from rich.console import Console\n",
    "from rich.progress import track\n",
    "from rich.table import Table\n",
    "#import warnings \n",
    "#warnings.filterwarnings('always')   #suppresses all warnings\n",
    "#warnings.filterwarnings('ignore')"
   ]
  },
  {
   "cell_type": "markdown",
   "id": "fcb62e4a",
   "metadata": {},
   "source": [
    "## 1 parte: categorizzazione hashtags per prorus, proukr, pax"
   ]
  },
  {
   "cell_type": "code",
   "execution_count": 2,
   "id": "cbacac27",
   "metadata": {},
   "outputs": [
    {
     "data": {
      "text/html": [
       "<pre style=\"white-space:pre;overflow-x:auto;line-height:normal;font-family:Menlo,'DejaVu Sans Mono',consolas,'Courier New',monospace\">Reading secret from C:\\Users\\david\\Documents\\GitHub\\ds-network-analysis\\data\\my_secrets.yaml…\n",
       "</pre>\n"
      ],
      "text/plain": [
       "<rich.jupyter.JupyterRenderable at 0x1d245063f10>"
      ]
     },
     "metadata": {},
     "output_type": "display_data"
    },
    {
     "data": {
      "application/vnd.jupyter.widget-view+json": {
       "model_id": "be4c79cf070e44abb5c1eae04aef2c0b",
       "version_major": 2,
       "version_minor": 0
      },
      "text/plain": [
       "Output()"
      ]
     },
     "metadata": {},
     "output_type": "display_data"
    },
    {
     "name": "stderr",
     "output_type": "stream",
     "text": [
      "rate limit exceeded: sleeping 62.1423225402832 secs\n",
      "rate limit exceeded: sleeping 67.4985761642456 secs\n",
      "rate limit exceeded: sleeping 62.186952114105225 secs\n",
      "rate limit exceeded: sleeping 71.96235036849976 secs\n",
      "rate limit exceeded: sleeping 87.73055481910706 secs\n",
      "rate limit exceeded: sleeping 77.09677290916443 secs\n",
      "rate limit exceeded: sleeping 73.452321767807 secs\n",
      "rate limit exceeded: sleeping 64.49164414405823 secs\n",
      "rate limit exceeded: sleeping 77.71235728263855 secs\n",
      "rate limit exceeded: sleeping 68.8911452293396 secs\n",
      "rate limit exceeded: sleeping 110.91895866394043 secs\n",
      "rate limit exceeded: sleeping 116.71228313446045 secs\n",
      "rate limit exceeded: sleeping 112.2099621295929 secs\n",
      "rate limit exceeded: sleeping 81.93051266670227 secs\n",
      "rate limit exceeded: sleeping 71.5556812286377 secs\n",
      "rate limit exceeded: sleeping 84.66341042518616 secs\n",
      "rate limit exceeded: sleeping 76.75438499450684 secs\n",
      "rate limit exceeded: sleeping 68.89814400672913 secs\n",
      "rate limit exceeded: sleeping 54.32510471343994 secs\n",
      "rate limit exceeded: sleeping 60.88267922401428 secs\n",
      "rate limit exceeded: sleeping 78.03200364112854 secs\n",
      "rate limit exceeded: sleeping 109.26265096664429 secs\n",
      "rate limit exceeded: sleeping 69.06955647468567 secs\n",
      "rate limit exceeded: sleeping 77.16929173469543 secs\n",
      "rate limit exceeded: sleeping 77.9447271823883 secs\n",
      "rate limit exceeded: sleeping 85.30442309379578 secs\n",
      "rate limit exceeded: sleeping 89.33145833015442 secs\n",
      "rate limit exceeded: sleeping 95.82246780395508 secs\n",
      "rate limit exceeded: sleeping 91.29544305801392 secs\n",
      "rate limit exceeded: sleeping 100.7299485206604 secs\n",
      "rate limit exceeded: sleeping 101.16025710105896 secs\n",
      "rate limit exceeded: sleeping 90.48199605941772 secs\n",
      "caught 503 from Twitter API, sleeping 1\n",
      "rate limit exceeded: sleeping 99.92429399490356 secs\n"
     ]
    },
    {
     "data": {
      "text/html": [
       "<pre style=\"white-space:pre;overflow-x:auto;line-height:normal;font-family:Menlo,'DejaVu Sans Mono',consolas,'Courier New',monospace\"><span style=\"color: #000080; font-weight: bold\">980380</span> tweets retrieved\n",
       "with query <span style=\"color: #008000\">'#slavaukraini OR #istandwithputin OR #stopwarinukraine'</span>\n",
       "of which <span style=\"color: #000080; font-weight: bold\">980317</span> tweets with at least <span style=\"color: #000080; font-weight: bold\">1</span> hashtag.\n",
       "</pre>\n"
      ],
      "text/plain": [
       "<rich.jupyter.JupyterRenderable at 0x1d24508b910>"
      ]
     },
     "metadata": {},
     "output_type": "display_data"
    },
    {
     "data": {
      "text/html": [
       "<pre style=\"white-space:pre;overflow-x:auto;line-height:normal;font-family:Menlo,'DejaVu Sans Mono',consolas,'Courier New',monospace\">We have <span style=\"color: #000080; font-weight: bold\">45728</span> unique hashtags.\n",
       "</pre>\n"
      ],
      "text/plain": [
       "<rich.jupyter.JupyterRenderable at 0x1d245023ca0>"
      ]
     },
     "metadata": {},
     "output_type": "display_data"
    },
    {
     "ename": "MemoryError",
     "evalue": "Unable to allocate 334. GiB for an array with shape (45728, 980317) and data type object",
     "output_type": "error",
     "traceback": [
      "\u001b[1;31m---------------------------------------------------------------------------\u001b[0m",
      "\u001b[1;31mMemoryError\u001b[0m                               Traceback (most recent call last)",
      "\u001b[1;32m~\\AppData\\Local\\Temp\\ipykernel_16868\\1440296165.py\u001b[0m in \u001b[0;36m<cell line: 115>\u001b[1;34m()\u001b[0m\n\u001b[0;32m    127\u001b[0m     \u001b[1;31m# code\u001b[0m\u001b[1;33m\u001b[0m\u001b[1;33m\u001b[0m\u001b[0m\n\u001b[0;32m    128\u001b[0m     \u001b[1;31m# first run\u001b[0m\u001b[1;33m\u001b[0m\u001b[1;33m\u001b[0m\u001b[0m\n\u001b[1;32m--> 129\u001b[1;33m     \u001b[0mdo_search\u001b[0m\u001b[1;33m(\u001b[0m\u001b[0mtag_madre\u001b[0m\u001b[1;33m,\u001b[0m \u001b[0mpages_to_do\u001b[0m\u001b[1;33m)\u001b[0m\u001b[1;33m\u001b[0m\u001b[1;33m\u001b[0m\u001b[0m\n\u001b[0m",
      "\u001b[1;32m~\\AppData\\Local\\Temp\\ipykernel_16868\\1440296165.py\u001b[0m in \u001b[0;36mdo_search\u001b[1;34m(tagmadre, pages)\u001b[0m\n\u001b[0;32m     93\u001b[0m     \u001b[0mcol_h\u001b[0m \u001b[1;33m=\u001b[0m \u001b[0msorted\u001b[0m\u001b[1;33m(\u001b[0m\u001b[0mlist\u001b[0m\u001b[1;33m(\u001b[0m\u001b[0mall_hashtags\u001b[0m\u001b[1;33m)\u001b[0m\u001b[1;33m)\u001b[0m\u001b[1;33m\u001b[0m\u001b[1;33m\u001b[0m\u001b[0m\n\u001b[0;32m     94\u001b[0m     \u001b[0mdf_h\u001b[0m \u001b[1;33m=\u001b[0m \u001b[0mpd\u001b[0m\u001b[1;33m.\u001b[0m\u001b[0mDataFrame\u001b[0m\u001b[1;33m(\u001b[0m\u001b[0mcolumns\u001b[0m\u001b[1;33m=\u001b[0m\u001b[0mcol_h\u001b[0m\u001b[1;33m)\u001b[0m\u001b[1;33m\u001b[0m\u001b[1;33m\u001b[0m\u001b[0m\n\u001b[1;32m---> 95\u001b[1;33m     \u001b[0mtweets_with_hashtag\u001b[0m \u001b[1;33m=\u001b[0m \u001b[0mpd\u001b[0m\u001b[1;33m.\u001b[0m\u001b[0mconcat\u001b[0m\u001b[1;33m(\u001b[0m\u001b[1;33m[\u001b[0m\u001b[0mtweets_with_hashtag\u001b[0m\u001b[1;33m,\u001b[0m \u001b[0mdf_h\u001b[0m\u001b[1;33m]\u001b[0m\u001b[1;33m,\u001b[0m \u001b[0maxis\u001b[0m\u001b[1;33m=\u001b[0m\u001b[1;36m1\u001b[0m\u001b[1;33m)\u001b[0m\u001b[1;33m\u001b[0m\u001b[1;33m\u001b[0m\u001b[0m\n\u001b[0m\u001b[0;32m     96\u001b[0m     \u001b[0mtweets_with_hashtag\u001b[0m \u001b[1;33m=\u001b[0m \u001b[0mtweets_with_hashtag\u001b[0m\u001b[1;33m.\u001b[0m\u001b[0mfillna\u001b[0m\u001b[1;33m(\u001b[0m\u001b[1;32mFalse\u001b[0m\u001b[1;33m)\u001b[0m\u001b[1;33m\u001b[0m\u001b[1;33m\u001b[0m\u001b[0m\n\u001b[0;32m     97\u001b[0m \u001b[1;33m\u001b[0m\u001b[0m\n",
      "\u001b[1;32m~\\AppData\\Local\\Programs\\Python\\Python310\\lib\\site-packages\\pandas\\util\\_decorators.py\u001b[0m in \u001b[0;36mwrapper\u001b[1;34m(*args, **kwargs)\u001b[0m\n\u001b[0;32m    309\u001b[0m                     \u001b[0mstacklevel\u001b[0m\u001b[1;33m=\u001b[0m\u001b[0mstacklevel\u001b[0m\u001b[1;33m,\u001b[0m\u001b[1;33m\u001b[0m\u001b[1;33m\u001b[0m\u001b[0m\n\u001b[0;32m    310\u001b[0m                 )\n\u001b[1;32m--> 311\u001b[1;33m             \u001b[1;32mreturn\u001b[0m \u001b[0mfunc\u001b[0m\u001b[1;33m(\u001b[0m\u001b[1;33m*\u001b[0m\u001b[0margs\u001b[0m\u001b[1;33m,\u001b[0m \u001b[1;33m**\u001b[0m\u001b[0mkwargs\u001b[0m\u001b[1;33m)\u001b[0m\u001b[1;33m\u001b[0m\u001b[1;33m\u001b[0m\u001b[0m\n\u001b[0m\u001b[0;32m    312\u001b[0m \u001b[1;33m\u001b[0m\u001b[0m\n\u001b[0;32m    313\u001b[0m         \u001b[1;32mreturn\u001b[0m \u001b[0mwrapper\u001b[0m\u001b[1;33m\u001b[0m\u001b[1;33m\u001b[0m\u001b[0m\n",
      "\u001b[1;32m~\\AppData\\Local\\Programs\\Python\\Python310\\lib\\site-packages\\pandas\\core\\reshape\\concat.py\u001b[0m in \u001b[0;36mconcat\u001b[1;34m(objs, axis, join, ignore_index, keys, levels, names, verify_integrity, sort, copy)\u001b[0m\n\u001b[0;32m    305\u001b[0m     )\n\u001b[0;32m    306\u001b[0m \u001b[1;33m\u001b[0m\u001b[0m\n\u001b[1;32m--> 307\u001b[1;33m     \u001b[1;32mreturn\u001b[0m \u001b[0mop\u001b[0m\u001b[1;33m.\u001b[0m\u001b[0mget_result\u001b[0m\u001b[1;33m(\u001b[0m\u001b[1;33m)\u001b[0m\u001b[1;33m\u001b[0m\u001b[1;33m\u001b[0m\u001b[0m\n\u001b[0m\u001b[0;32m    308\u001b[0m \u001b[1;33m\u001b[0m\u001b[0m\n\u001b[0;32m    309\u001b[0m \u001b[1;33m\u001b[0m\u001b[0m\n",
      "\u001b[1;32m~\\AppData\\Local\\Programs\\Python\\Python310\\lib\\site-packages\\pandas\\core\\reshape\\concat.py\u001b[0m in \u001b[0;36mget_result\u001b[1;34m(self)\u001b[0m\n\u001b[0;32m    530\u001b[0m                 \u001b[0mmgrs_indexers\u001b[0m\u001b[1;33m.\u001b[0m\u001b[0mappend\u001b[0m\u001b[1;33m(\u001b[0m\u001b[1;33m(\u001b[0m\u001b[0mobj\u001b[0m\u001b[1;33m.\u001b[0m\u001b[0m_mgr\u001b[0m\u001b[1;33m,\u001b[0m \u001b[0mindexers\u001b[0m\u001b[1;33m)\u001b[0m\u001b[1;33m)\u001b[0m\u001b[1;33m\u001b[0m\u001b[1;33m\u001b[0m\u001b[0m\n\u001b[0;32m    531\u001b[0m \u001b[1;33m\u001b[0m\u001b[0m\n\u001b[1;32m--> 532\u001b[1;33m             new_data = concatenate_managers(\n\u001b[0m\u001b[0;32m    533\u001b[0m                 \u001b[0mmgrs_indexers\u001b[0m\u001b[1;33m,\u001b[0m \u001b[0mself\u001b[0m\u001b[1;33m.\u001b[0m\u001b[0mnew_axes\u001b[0m\u001b[1;33m,\u001b[0m \u001b[0mconcat_axis\u001b[0m\u001b[1;33m=\u001b[0m\u001b[0mself\u001b[0m\u001b[1;33m.\u001b[0m\u001b[0mbm_axis\u001b[0m\u001b[1;33m,\u001b[0m \u001b[0mcopy\u001b[0m\u001b[1;33m=\u001b[0m\u001b[0mself\u001b[0m\u001b[1;33m.\u001b[0m\u001b[0mcopy\u001b[0m\u001b[1;33m\u001b[0m\u001b[1;33m\u001b[0m\u001b[0m\n\u001b[0;32m    534\u001b[0m             )\n",
      "\u001b[1;32m~\\AppData\\Local\\Programs\\Python\\Python310\\lib\\site-packages\\pandas\\core\\internals\\concat.py\u001b[0m in \u001b[0;36mconcatenate_managers\u001b[1;34m(mgrs_indexers, axes, concat_axis, copy)\u001b[0m\n\u001b[0;32m    224\u001b[0m             \u001b[0mfastpath\u001b[0m \u001b[1;33m=\u001b[0m \u001b[0mblk\u001b[0m\u001b[1;33m.\u001b[0m\u001b[0mvalues\u001b[0m\u001b[1;33m.\u001b[0m\u001b[0mdtype\u001b[0m \u001b[1;33m==\u001b[0m \u001b[0mvalues\u001b[0m\u001b[1;33m.\u001b[0m\u001b[0mdtype\u001b[0m\u001b[1;33m\u001b[0m\u001b[1;33m\u001b[0m\u001b[0m\n\u001b[0;32m    225\u001b[0m         \u001b[1;32melse\u001b[0m\u001b[1;33m:\u001b[0m\u001b[1;33m\u001b[0m\u001b[1;33m\u001b[0m\u001b[0m\n\u001b[1;32m--> 226\u001b[1;33m             \u001b[0mvalues\u001b[0m \u001b[1;33m=\u001b[0m \u001b[0m_concatenate_join_units\u001b[0m\u001b[1;33m(\u001b[0m\u001b[0mjoin_units\u001b[0m\u001b[1;33m,\u001b[0m \u001b[0mconcat_axis\u001b[0m\u001b[1;33m,\u001b[0m \u001b[0mcopy\u001b[0m\u001b[1;33m=\u001b[0m\u001b[0mcopy\u001b[0m\u001b[1;33m)\u001b[0m\u001b[1;33m\u001b[0m\u001b[1;33m\u001b[0m\u001b[0m\n\u001b[0m\u001b[0;32m    227\u001b[0m             \u001b[0mfastpath\u001b[0m \u001b[1;33m=\u001b[0m \u001b[1;32mFalse\u001b[0m\u001b[1;33m\u001b[0m\u001b[1;33m\u001b[0m\u001b[0m\n\u001b[0;32m    228\u001b[0m \u001b[1;33m\u001b[0m\u001b[0m\n",
      "\u001b[1;32m~\\AppData\\Local\\Programs\\Python\\Python310\\lib\\site-packages\\pandas\\core\\internals\\concat.py\u001b[0m in \u001b[0;36m_concatenate_join_units\u001b[1;34m(join_units, concat_axis, copy)\u001b[0m\n\u001b[0;32m    488\u001b[0m     \u001b[0mupcasted_na\u001b[0m \u001b[1;33m=\u001b[0m \u001b[0m_dtype_to_na_value\u001b[0m\u001b[1;33m(\u001b[0m\u001b[0mempty_dtype\u001b[0m\u001b[1;33m,\u001b[0m \u001b[0mhas_none_blocks\u001b[0m\u001b[1;33m)\u001b[0m\u001b[1;33m\u001b[0m\u001b[1;33m\u001b[0m\u001b[0m\n\u001b[0;32m    489\u001b[0m \u001b[1;33m\u001b[0m\u001b[0m\n\u001b[1;32m--> 490\u001b[1;33m     to_concat = [\n\u001b[0m\u001b[0;32m    491\u001b[0m         \u001b[0mju\u001b[0m\u001b[1;33m.\u001b[0m\u001b[0mget_reindexed_values\u001b[0m\u001b[1;33m(\u001b[0m\u001b[0mempty_dtype\u001b[0m\u001b[1;33m=\u001b[0m\u001b[0mempty_dtype\u001b[0m\u001b[1;33m,\u001b[0m \u001b[0mupcasted_na\u001b[0m\u001b[1;33m=\u001b[0m\u001b[0mupcasted_na\u001b[0m\u001b[1;33m)\u001b[0m\u001b[1;33m\u001b[0m\u001b[1;33m\u001b[0m\u001b[0m\n\u001b[0;32m    492\u001b[0m         \u001b[1;32mfor\u001b[0m \u001b[0mju\u001b[0m \u001b[1;32min\u001b[0m \u001b[0mjoin_units\u001b[0m\u001b[1;33m\u001b[0m\u001b[1;33m\u001b[0m\u001b[0m\n",
      "\u001b[1;32m~\\AppData\\Local\\Programs\\Python\\Python310\\lib\\site-packages\\pandas\\core\\internals\\concat.py\u001b[0m in \u001b[0;36m<listcomp>\u001b[1;34m(.0)\u001b[0m\n\u001b[0;32m    489\u001b[0m \u001b[1;33m\u001b[0m\u001b[0m\n\u001b[0;32m    490\u001b[0m     to_concat = [\n\u001b[1;32m--> 491\u001b[1;33m         \u001b[0mju\u001b[0m\u001b[1;33m.\u001b[0m\u001b[0mget_reindexed_values\u001b[0m\u001b[1;33m(\u001b[0m\u001b[0mempty_dtype\u001b[0m\u001b[1;33m=\u001b[0m\u001b[0mempty_dtype\u001b[0m\u001b[1;33m,\u001b[0m \u001b[0mupcasted_na\u001b[0m\u001b[1;33m=\u001b[0m\u001b[0mupcasted_na\u001b[0m\u001b[1;33m)\u001b[0m\u001b[1;33m\u001b[0m\u001b[1;33m\u001b[0m\u001b[0m\n\u001b[0m\u001b[0;32m    492\u001b[0m         \u001b[1;32mfor\u001b[0m \u001b[0mju\u001b[0m \u001b[1;32min\u001b[0m \u001b[0mjoin_units\u001b[0m\u001b[1;33m\u001b[0m\u001b[1;33m\u001b[0m\u001b[0m\n\u001b[0;32m    493\u001b[0m     ]\n",
      "\u001b[1;32m~\\AppData\\Local\\Programs\\Python\\Python310\\lib\\site-packages\\pandas\\core\\internals\\concat.py\u001b[0m in \u001b[0;36mget_reindexed_values\u001b[1;34m(self, empty_dtype, upcasted_na)\u001b[0m\n\u001b[0;32m    443\u001b[0m                     \u001b[0mempty_dtype\u001b[0m \u001b[1;33m=\u001b[0m \u001b[0mcast\u001b[0m\u001b[1;33m(\u001b[0m\u001b[0mnp\u001b[0m\u001b[1;33m.\u001b[0m\u001b[0mdtype\u001b[0m\u001b[1;33m,\u001b[0m \u001b[0mempty_dtype\u001b[0m\u001b[1;33m)\u001b[0m\u001b[1;33m\u001b[0m\u001b[1;33m\u001b[0m\u001b[0m\n\u001b[0;32m    444\u001b[0m \u001b[1;33m\u001b[0m\u001b[0m\n\u001b[1;32m--> 445\u001b[1;33m                     \u001b[0mmissing_arr\u001b[0m \u001b[1;33m=\u001b[0m \u001b[0mnp\u001b[0m\u001b[1;33m.\u001b[0m\u001b[0mempty\u001b[0m\u001b[1;33m(\u001b[0m\u001b[0mself\u001b[0m\u001b[1;33m.\u001b[0m\u001b[0mshape\u001b[0m\u001b[1;33m,\u001b[0m \u001b[0mdtype\u001b[0m\u001b[1;33m=\u001b[0m\u001b[0mempty_dtype\u001b[0m\u001b[1;33m)\u001b[0m\u001b[1;33m\u001b[0m\u001b[1;33m\u001b[0m\u001b[0m\n\u001b[0m\u001b[0;32m    446\u001b[0m                     \u001b[0mmissing_arr\u001b[0m\u001b[1;33m.\u001b[0m\u001b[0mfill\u001b[0m\u001b[1;33m(\u001b[0m\u001b[0mfill_value\u001b[0m\u001b[1;33m)\u001b[0m\u001b[1;33m\u001b[0m\u001b[1;33m\u001b[0m\u001b[0m\n\u001b[0;32m    447\u001b[0m                     \u001b[1;32mreturn\u001b[0m \u001b[0mmissing_arr\u001b[0m\u001b[1;33m\u001b[0m\u001b[1;33m\u001b[0m\u001b[0m\n",
      "\u001b[1;31mMemoryError\u001b[0m: Unable to allocate 334. GiB for an array with shape (45728, 980317) and data type object"
     ]
    }
   ],
   "source": [
    "def ensure_latin(s):\n",
    "    return (\n",
    "        unicodedata.normalize(\"NFKD\", s).encode(\"latin-1\", \"ignore\").decode(\"latin-1\")\n",
    "    )\n",
    "\n",
    "\n",
    "def construct_query_for_pandas(root_tags: list) -> str:\n",
    "    my_query = \" or \".join(root_tags)\n",
    "    return my_query\n",
    "\n",
    "\n",
    "def create_score(df: pd.DataFrame, one_hashtag: str, root_tags: dict) -> list:\n",
    "    # takes a df of all tweets, each row is a tweet, each column is\n",
    "    # a hashtag either [True | False] depending on whether the hashtag\n",
    "    # is in the tweet. Takes one_hashtag, the hashtag to score, and\n",
    "    # root_tags, a dict of {category: [hashtags]}\n",
    "    # TODO: make it so it accepts a list of {category: [hashtags]} instead of just one\n",
    "    threshold_support = 0.5 * len(df) / 10000  # set the threshold_support here!!\n",
    "\n",
    "    if threshold_support < 1:\n",
    "        threshold_support = 1\n",
    "    # print(f\"Looking for {one_hashtag} with support {threshold_support}…\")\n",
    "    mask = df[one_hashtag]\n",
    "    df = df[mask]\n",
    "    # print(f\"I found {len(df)} tweets with {one_hashtag}\")\n",
    "    if len(df) < threshold_support:\n",
    "        return False\n",
    "    \"\"\"for col in df:\n",
    "        if df[col].any():\n",
    "            print(f\"We have {col} hashtag\")\"\"\"\n",
    "    results = []\n",
    "    # START OF TESTING:\n",
    "    \"\"\"    print(df.info())\n",
    "    print(df.describe())\n",
    "    print(df.head())\n",
    "    print(f\"[purple]Dude, here's the breakdown:\")\n",
    "    for tag in root_tags.values():\n",
    "        print(f\"[blue]This is {tag[0]}:\")\n",
    "        print(df[tag[0]])\"\"\"\n",
    "    for category, tag_madre in root_tags.items():\n",
    "        try:\n",
    "            my_query = construct_query_for_pandas(tag_madre)\n",
    "            # print(f\"The pandas query is: [red]{my_query}\")\n",
    "            temp_df = df.query(my_query)\n",
    "            # print(f\"Holy jezuz: {len(temp_df)} and {len(df)}\")\n",
    "            results.append(round(len(temp_df) / len(df), 4))\n",
    "        except KeyError:\n",
    "            results.append(0)\n",
    "\n",
    "    # print(results)\n",
    "    return (results, len(df))\n",
    "\n",
    "\n",
    "def do_search(tagmadre, pages):\n",
    "    # construct the initial query to Twarc\n",
    "    query_madre = construct_query_for_twarc(tagmadre)\n",
    "    m = SocialETL(\n",
    "        query=f\"({query_madre})\",\n",
    "        pages=pages,\n",
    "        recent=False,\n",
    "    )\n",
    "\n",
    "    # dropping any tweets with no hashtags (I think)\n",
    "    tweets_with_hashtag = m.df[[\"id\", \"entities.hashtags\"]].dropna()\n",
    "    print(\n",
    "        f\"{len(m.df)} tweets retrieved\\nwith query '{query_madre}'\\nof which {len(tweets_with_hashtag)} tweets with at least 1 hashtag.\"\n",
    "    )\n",
    "\n",
    "    # evaluate the string in \"entities.hashtags\" to an actual list of dicts\n",
    "    tweets_with_hashtag[\"entities.hashtags\"] = tweets_with_hashtag[\n",
    "        \"entities.hashtags\"\n",
    "    ].map(eval)\n",
    "\n",
    "    # make a simple list of strings, one hashtag is one string, into column \"tags\"\n",
    "    tweets_with_hashtag[\"tags\"] = tweets_with_hashtag[\"entities.hashtags\"].map(\n",
    "        extract_tags\n",
    "    )\n",
    "    tweets_with_hashtag = tweets_with_hashtag.drop(columns=\"entities.hashtags\")\n",
    "\n",
    "    # hashtags: EXPLODE *musica dei power ranger*\n",
    "    all_hashtags = set(tweets_with_hashtag[\"tags\"].explode())\n",
    "\n",
    "    # keyword level: eliminate all python keywords from columns because otherwise we are in no man's land\n",
    "    keywordsss = keyword.kwlist\n",
    "    keywordsss.extend(keyword.softkwlist)\n",
    "    all_hashtags = all_hashtags.difference(keywordsss)\n",
    "    all_hashtags = all_hashtags.difference(set((\"\",)))\n",
    "\n",
    "    print(f\"We have {len(all_hashtags)} unique hashtags.\")\n",
    "\n",
    "    tweets_with_hashtag.set_index(\"id\", inplace=True)\n",
    "\n",
    "    col_h = sorted(list(all_hashtags))\n",
    "    df_h = pd.DataFrame(columns=col_h)\n",
    "    tweets_with_hashtag = pd.concat([tweets_with_hashtag, df_h], axis=1)\n",
    "    tweets_with_hashtag = tweets_with_hashtag.fillna(False)\n",
    "\n",
    "    def assign_hashtag_to_tweet(row: pd.Series) -> pd.Series:\n",
    "        for tag in row[\"tags\"]:\n",
    "            if tag in all_hashtags:\n",
    "                row.loc[tag] = True\n",
    "        return row\n",
    "\n",
    "    tweets_with_hashtag = tweets_with_hashtag.apply(assign_hashtag_to_tweet, axis=1)\n",
    "    tweets_with_hashtag = tweets_with_hashtag.drop(columns=[\"tags\"])\n",
    "\n",
    "    for madre in tagmadre.values():\n",
    "        print(f\"[red]Let's write the describe of column '{madre[0]}'\")\n",
    "        print(tweets_with_hashtag[madre[0]].describe())\n",
    "\n",
    "    tweets_with_hashtag.to_csv(f\"twee_hash_{pages}.csv\")\n",
    "    print(\"[green]All done.\")\n",
    "\n",
    "\n",
    "if __name__ == \"__main__\":\n",
    "    # params\n",
    "    top_results_to_take = 3\n",
    "    pages_to_do = 10000\n",
    "\n",
    "    # set the initial \"parent\" hashtags for each category\n",
    "    tag_madre = {\n",
    "        \"proukr\": [\"slavaukraini\"],\n",
    "        \"prorus\": [\"istandwithputin\"],\n",
    "        \"pax\": [\"stopwarinukraine\"],\n",
    "    }\n",
    "\n",
    "    # code\n",
    "    # first run\n",
    "    do_search(tag_madre, pages_to_do)\n"
   ]
  },
  {
   "cell_type": "markdown",
   "id": "6c8ada0f",
   "metadata": {},
   "source": [
    "## 2 parte: scaricare df e distinzione 4 cat (no care) dalle altre"
   ]
  },
  {
   "cell_type": "code",
   "execution_count": 14,
   "id": "809c8c5c",
   "metadata": {},
   "outputs": [],
   "source": [
    "m=SocialDB(placeholder=True)"
   ]
  },
  {
   "cell_type": "code",
   "execution_count": 9,
   "id": "46ecb5ed",
   "metadata": {},
   "outputs": [
    {
     "data": {
      "text/html": [
       "<pre style=\"white-space:pre;overflow-x:auto;line-height:normal;font-family:Menlo,'DejaVu Sans Mono',consolas,'Courier New',monospace\">Reading secret from C:\\Users\\david\\Documents\\GitHub\\ds-network-analysis\\data\\my_secrets.yaml…\n",
       "</pre>\n"
      ],
      "text/plain": [
       "<rich.jupyter.JupyterRenderable at 0x21feafa65c0>"
      ]
     },
     "metadata": {},
     "output_type": "display_data"
    },
    {
     "data": {
      "application/vnd.jupyter.widget-view+json": {
       "model_id": "08034d9da50849b791816a0ff379b62b",
       "version_major": 2,
       "version_minor": 0
      },
      "text/plain": [
       "Output()"
      ]
     },
     "metadata": {},
     "output_type": "display_data"
    }
   ],
   "source": [
    "#modifiche: cambiare data e togliere lang eng\n",
    "m = SocialETL(query=\"(#eurovision OR #covid OR #pridemonth OR #grammys OR #justiceforjohnnydepp OR #oscars OR #elonmusk OR #putin OR #russia OR #onepiece OR #ukraine OR #war)\", pages=1, recent=False) #strangerthings4 OR onepiece"
   ]
  },
  {
   "cell_type": "code",
   "execution_count": 15,
   "id": "f65762b5",
   "metadata": {},
   "outputs": [
    {
     "name": "stdout",
     "output_type": "stream",
     "text": [
      "<class 'pandas.core.frame.DataFrame'>\n",
      "Int64Index: 100 entries, 586581 to 980024\n",
      "Data columns (total 1 columns):\n",
      " #   Column  Non-Null Count  Dtype   \n",
      "---  ------  --------------  -----   \n",
      " 0   class   100 non-null    category\n",
      "dtypes: category(1)\n",
      "memory usage: 1.1 KB\n"
     ]
    }
   ],
   "source": [
    "m.df.info()"
   ]
  },
  {
   "cell_type": "code",
   "execution_count": 16,
   "id": "0e7a0f80",
   "metadata": {},
   "outputs": [
    {
     "ename": "KeyError",
     "evalue": "'author.verified'",
     "output_type": "error",
     "traceback": [
      "\u001b[1;31m---------------------------------------------------------------------------\u001b[0m",
      "\u001b[1;31mKeyError\u001b[0m                                  Traceback (most recent call last)",
      "\u001b[1;32m~\\AppData\\Local\\Programs\\Python\\Python310\\lib\\site-packages\\pandas\\core\\indexes\\base.py\u001b[0m in \u001b[0;36mget_loc\u001b[1;34m(self, key, method, tolerance)\u001b[0m\n\u001b[0;32m   3360\u001b[0m             \u001b[1;32mtry\u001b[0m\u001b[1;33m:\u001b[0m\u001b[1;33m\u001b[0m\u001b[1;33m\u001b[0m\u001b[0m\n\u001b[1;32m-> 3361\u001b[1;33m                 \u001b[1;32mreturn\u001b[0m \u001b[0mself\u001b[0m\u001b[1;33m.\u001b[0m\u001b[0m_engine\u001b[0m\u001b[1;33m.\u001b[0m\u001b[0mget_loc\u001b[0m\u001b[1;33m(\u001b[0m\u001b[0mcasted_key\u001b[0m\u001b[1;33m)\u001b[0m\u001b[1;33m\u001b[0m\u001b[1;33m\u001b[0m\u001b[0m\n\u001b[0m\u001b[0;32m   3362\u001b[0m             \u001b[1;32mexcept\u001b[0m \u001b[0mKeyError\u001b[0m \u001b[1;32mas\u001b[0m \u001b[0merr\u001b[0m\u001b[1;33m:\u001b[0m\u001b[1;33m\u001b[0m\u001b[1;33m\u001b[0m\u001b[0m\n",
      "\u001b[1;32m~\\AppData\\Local\\Programs\\Python\\Python310\\lib\\site-packages\\pandas\\_libs\\index.pyx\u001b[0m in \u001b[0;36mpandas._libs.index.IndexEngine.get_loc\u001b[1;34m()\u001b[0m\n",
      "\u001b[1;32m~\\AppData\\Local\\Programs\\Python\\Python310\\lib\\site-packages\\pandas\\_libs\\index.pyx\u001b[0m in \u001b[0;36mpandas._libs.index.IndexEngine.get_loc\u001b[1;34m()\u001b[0m\n",
      "\u001b[1;32mpandas\\_libs\\hashtable_class_helper.pxi\u001b[0m in \u001b[0;36mpandas._libs.hashtable.PyObjectHashTable.get_item\u001b[1;34m()\u001b[0m\n",
      "\u001b[1;32mpandas\\_libs\\hashtable_class_helper.pxi\u001b[0m in \u001b[0;36mpandas._libs.hashtable.PyObjectHashTable.get_item\u001b[1;34m()\u001b[0m\n",
      "\u001b[1;31mKeyError\u001b[0m: 'author.verified'",
      "\nThe above exception was the direct cause of the following exception:\n",
      "\u001b[1;31mKeyError\u001b[0m                                  Traceback (most recent call last)",
      "\u001b[1;32m~\\AppData\\Local\\Temp\\ipykernel_1572\\2359471144.py\u001b[0m in \u001b[0;36m<cell line: 1>\u001b[1;34m()\u001b[0m\n\u001b[1;32m----> 1\u001b[1;33m \u001b[0mm\u001b[0m\u001b[1;33m.\u001b[0m\u001b[0mdf\u001b[0m\u001b[1;33m[\u001b[0m\u001b[1;34m'author.verified'\u001b[0m\u001b[1;33m]\u001b[0m\u001b[1;33m.\u001b[0m\u001b[0mvalue_counts\u001b[0m\u001b[1;33m(\u001b[0m\u001b[1;33m)\u001b[0m\u001b[1;33m\u001b[0m\u001b[1;33m\u001b[0m\u001b[0m\n\u001b[0m",
      "\u001b[1;32m~\\AppData\\Local\\Programs\\Python\\Python310\\lib\\site-packages\\pandas\\core\\frame.py\u001b[0m in \u001b[0;36m__getitem__\u001b[1;34m(self, key)\u001b[0m\n\u001b[0;32m   3456\u001b[0m             \u001b[1;32mif\u001b[0m \u001b[0mself\u001b[0m\u001b[1;33m.\u001b[0m\u001b[0mcolumns\u001b[0m\u001b[1;33m.\u001b[0m\u001b[0mnlevels\u001b[0m \u001b[1;33m>\u001b[0m \u001b[1;36m1\u001b[0m\u001b[1;33m:\u001b[0m\u001b[1;33m\u001b[0m\u001b[1;33m\u001b[0m\u001b[0m\n\u001b[0;32m   3457\u001b[0m                 \u001b[1;32mreturn\u001b[0m \u001b[0mself\u001b[0m\u001b[1;33m.\u001b[0m\u001b[0m_getitem_multilevel\u001b[0m\u001b[1;33m(\u001b[0m\u001b[0mkey\u001b[0m\u001b[1;33m)\u001b[0m\u001b[1;33m\u001b[0m\u001b[1;33m\u001b[0m\u001b[0m\n\u001b[1;32m-> 3458\u001b[1;33m             \u001b[0mindexer\u001b[0m \u001b[1;33m=\u001b[0m \u001b[0mself\u001b[0m\u001b[1;33m.\u001b[0m\u001b[0mcolumns\u001b[0m\u001b[1;33m.\u001b[0m\u001b[0mget_loc\u001b[0m\u001b[1;33m(\u001b[0m\u001b[0mkey\u001b[0m\u001b[1;33m)\u001b[0m\u001b[1;33m\u001b[0m\u001b[1;33m\u001b[0m\u001b[0m\n\u001b[0m\u001b[0;32m   3459\u001b[0m             \u001b[1;32mif\u001b[0m \u001b[0mis_integer\u001b[0m\u001b[1;33m(\u001b[0m\u001b[0mindexer\u001b[0m\u001b[1;33m)\u001b[0m\u001b[1;33m:\u001b[0m\u001b[1;33m\u001b[0m\u001b[1;33m\u001b[0m\u001b[0m\n\u001b[0;32m   3460\u001b[0m                 \u001b[0mindexer\u001b[0m \u001b[1;33m=\u001b[0m \u001b[1;33m[\u001b[0m\u001b[0mindexer\u001b[0m\u001b[1;33m]\u001b[0m\u001b[1;33m\u001b[0m\u001b[1;33m\u001b[0m\u001b[0m\n",
      "\u001b[1;32m~\\AppData\\Local\\Programs\\Python\\Python310\\lib\\site-packages\\pandas\\core\\indexes\\base.py\u001b[0m in \u001b[0;36mget_loc\u001b[1;34m(self, key, method, tolerance)\u001b[0m\n\u001b[0;32m   3361\u001b[0m                 \u001b[1;32mreturn\u001b[0m \u001b[0mself\u001b[0m\u001b[1;33m.\u001b[0m\u001b[0m_engine\u001b[0m\u001b[1;33m.\u001b[0m\u001b[0mget_loc\u001b[0m\u001b[1;33m(\u001b[0m\u001b[0mcasted_key\u001b[0m\u001b[1;33m)\u001b[0m\u001b[1;33m\u001b[0m\u001b[1;33m\u001b[0m\u001b[0m\n\u001b[0;32m   3362\u001b[0m             \u001b[1;32mexcept\u001b[0m \u001b[0mKeyError\u001b[0m \u001b[1;32mas\u001b[0m \u001b[0merr\u001b[0m\u001b[1;33m:\u001b[0m\u001b[1;33m\u001b[0m\u001b[1;33m\u001b[0m\u001b[0m\n\u001b[1;32m-> 3363\u001b[1;33m                 \u001b[1;32mraise\u001b[0m \u001b[0mKeyError\u001b[0m\u001b[1;33m(\u001b[0m\u001b[0mkey\u001b[0m\u001b[1;33m)\u001b[0m \u001b[1;32mfrom\u001b[0m \u001b[0merr\u001b[0m\u001b[1;33m\u001b[0m\u001b[1;33m\u001b[0m\u001b[0m\n\u001b[0m\u001b[0;32m   3364\u001b[0m \u001b[1;33m\u001b[0m\u001b[0m\n\u001b[0;32m   3365\u001b[0m         \u001b[1;32mif\u001b[0m \u001b[0mis_scalar\u001b[0m\u001b[1;33m(\u001b[0m\u001b[0mkey\u001b[0m\u001b[1;33m)\u001b[0m \u001b[1;32mand\u001b[0m \u001b[0misna\u001b[0m\u001b[1;33m(\u001b[0m\u001b[0mkey\u001b[0m\u001b[1;33m)\u001b[0m \u001b[1;32mand\u001b[0m \u001b[1;32mnot\u001b[0m \u001b[0mself\u001b[0m\u001b[1;33m.\u001b[0m\u001b[0mhasnans\u001b[0m\u001b[1;33m:\u001b[0m\u001b[1;33m\u001b[0m\u001b[1;33m\u001b[0m\u001b[0m\n",
      "\u001b[1;31mKeyError\u001b[0m: 'author.verified'"
     ]
    }
   ],
   "source": [
    "m.df['author.verified'].value_counts()"
   ]
  },
  {
   "cell_type": "code",
   "execution_count": 8,
   "id": "9b8a0762",
   "metadata": {},
   "outputs": [
    {
     "ename": "KeyError",
     "evalue": "'author.location'",
     "output_type": "error",
     "traceback": [
      "\u001b[1;31m---------------------------------------------------------------------------\u001b[0m",
      "\u001b[1;31mKeyError\u001b[0m                                  Traceback (most recent call last)",
      "\u001b[1;32m~\\AppData\\Local\\Programs\\Python\\Python310\\lib\\site-packages\\pandas\\core\\indexes\\base.py\u001b[0m in \u001b[0;36mget_loc\u001b[1;34m(self, key, method, tolerance)\u001b[0m\n\u001b[0;32m   3360\u001b[0m             \u001b[1;32mtry\u001b[0m\u001b[1;33m:\u001b[0m\u001b[1;33m\u001b[0m\u001b[1;33m\u001b[0m\u001b[0m\n\u001b[1;32m-> 3361\u001b[1;33m                 \u001b[1;32mreturn\u001b[0m \u001b[0mself\u001b[0m\u001b[1;33m.\u001b[0m\u001b[0m_engine\u001b[0m\u001b[1;33m.\u001b[0m\u001b[0mget_loc\u001b[0m\u001b[1;33m(\u001b[0m\u001b[0mcasted_key\u001b[0m\u001b[1;33m)\u001b[0m\u001b[1;33m\u001b[0m\u001b[1;33m\u001b[0m\u001b[0m\n\u001b[0m\u001b[0;32m   3362\u001b[0m             \u001b[1;32mexcept\u001b[0m \u001b[0mKeyError\u001b[0m \u001b[1;32mas\u001b[0m \u001b[0merr\u001b[0m\u001b[1;33m:\u001b[0m\u001b[1;33m\u001b[0m\u001b[1;33m\u001b[0m\u001b[0m\n",
      "\u001b[1;32m~\\AppData\\Local\\Programs\\Python\\Python310\\lib\\site-packages\\pandas\\_libs\\index.pyx\u001b[0m in \u001b[0;36mpandas._libs.index.IndexEngine.get_loc\u001b[1;34m()\u001b[0m\n",
      "\u001b[1;32m~\\AppData\\Local\\Programs\\Python\\Python310\\lib\\site-packages\\pandas\\_libs\\index.pyx\u001b[0m in \u001b[0;36mpandas._libs.index.IndexEngine.get_loc\u001b[1;34m()\u001b[0m\n",
      "\u001b[1;32mpandas\\_libs\\hashtable_class_helper.pxi\u001b[0m in \u001b[0;36mpandas._libs.hashtable.PyObjectHashTable.get_item\u001b[1;34m()\u001b[0m\n",
      "\u001b[1;32mpandas\\_libs\\hashtable_class_helper.pxi\u001b[0m in \u001b[0;36mpandas._libs.hashtable.PyObjectHashTable.get_item\u001b[1;34m()\u001b[0m\n",
      "\u001b[1;31mKeyError\u001b[0m: 'author.location'",
      "\nThe above exception was the direct cause of the following exception:\n",
      "\u001b[1;31mKeyError\u001b[0m                                  Traceback (most recent call last)",
      "\u001b[1;32m~\\AppData\\Local\\Temp\\ipykernel_1572\\1363505603.py\u001b[0m in \u001b[0;36m<cell line: 1>\u001b[1;34m()\u001b[0m\n\u001b[1;32m----> 1\u001b[1;33m \u001b[0mm\u001b[0m\u001b[1;33m.\u001b[0m\u001b[0mdf\u001b[0m\u001b[1;33m[\u001b[0m\u001b[1;34m'author.location'\u001b[0m\u001b[1;33m]\u001b[0m\u001b[1;33m.\u001b[0m\u001b[0misna\u001b[0m\u001b[1;33m(\u001b[0m\u001b[1;33m)\u001b[0m\u001b[1;33m.\u001b[0m\u001b[0mvalue_counts\u001b[0m\u001b[1;33m(\u001b[0m\u001b[1;33m)\u001b[0m\u001b[1;33m\u001b[0m\u001b[1;33m\u001b[0m\u001b[0m\n\u001b[0m",
      "\u001b[1;32m~\\AppData\\Local\\Programs\\Python\\Python310\\lib\\site-packages\\pandas\\core\\frame.py\u001b[0m in \u001b[0;36m__getitem__\u001b[1;34m(self, key)\u001b[0m\n\u001b[0;32m   3456\u001b[0m             \u001b[1;32mif\u001b[0m \u001b[0mself\u001b[0m\u001b[1;33m.\u001b[0m\u001b[0mcolumns\u001b[0m\u001b[1;33m.\u001b[0m\u001b[0mnlevels\u001b[0m \u001b[1;33m>\u001b[0m \u001b[1;36m1\u001b[0m\u001b[1;33m:\u001b[0m\u001b[1;33m\u001b[0m\u001b[1;33m\u001b[0m\u001b[0m\n\u001b[0;32m   3457\u001b[0m                 \u001b[1;32mreturn\u001b[0m \u001b[0mself\u001b[0m\u001b[1;33m.\u001b[0m\u001b[0m_getitem_multilevel\u001b[0m\u001b[1;33m(\u001b[0m\u001b[0mkey\u001b[0m\u001b[1;33m)\u001b[0m\u001b[1;33m\u001b[0m\u001b[1;33m\u001b[0m\u001b[0m\n\u001b[1;32m-> 3458\u001b[1;33m             \u001b[0mindexer\u001b[0m \u001b[1;33m=\u001b[0m \u001b[0mself\u001b[0m\u001b[1;33m.\u001b[0m\u001b[0mcolumns\u001b[0m\u001b[1;33m.\u001b[0m\u001b[0mget_loc\u001b[0m\u001b[1;33m(\u001b[0m\u001b[0mkey\u001b[0m\u001b[1;33m)\u001b[0m\u001b[1;33m\u001b[0m\u001b[1;33m\u001b[0m\u001b[0m\n\u001b[0m\u001b[0;32m   3459\u001b[0m             \u001b[1;32mif\u001b[0m \u001b[0mis_integer\u001b[0m\u001b[1;33m(\u001b[0m\u001b[0mindexer\u001b[0m\u001b[1;33m)\u001b[0m\u001b[1;33m:\u001b[0m\u001b[1;33m\u001b[0m\u001b[1;33m\u001b[0m\u001b[0m\n\u001b[0;32m   3460\u001b[0m                 \u001b[0mindexer\u001b[0m \u001b[1;33m=\u001b[0m \u001b[1;33m[\u001b[0m\u001b[0mindexer\u001b[0m\u001b[1;33m]\u001b[0m\u001b[1;33m\u001b[0m\u001b[1;33m\u001b[0m\u001b[0m\n",
      "\u001b[1;32m~\\AppData\\Local\\Programs\\Python\\Python310\\lib\\site-packages\\pandas\\core\\indexes\\base.py\u001b[0m in \u001b[0;36mget_loc\u001b[1;34m(self, key, method, tolerance)\u001b[0m\n\u001b[0;32m   3361\u001b[0m                 \u001b[1;32mreturn\u001b[0m \u001b[0mself\u001b[0m\u001b[1;33m.\u001b[0m\u001b[0m_engine\u001b[0m\u001b[1;33m.\u001b[0m\u001b[0mget_loc\u001b[0m\u001b[1;33m(\u001b[0m\u001b[0mcasted_key\u001b[0m\u001b[1;33m)\u001b[0m\u001b[1;33m\u001b[0m\u001b[1;33m\u001b[0m\u001b[0m\n\u001b[0;32m   3362\u001b[0m             \u001b[1;32mexcept\u001b[0m \u001b[0mKeyError\u001b[0m \u001b[1;32mas\u001b[0m \u001b[0merr\u001b[0m\u001b[1;33m:\u001b[0m\u001b[1;33m\u001b[0m\u001b[1;33m\u001b[0m\u001b[0m\n\u001b[1;32m-> 3363\u001b[1;33m                 \u001b[1;32mraise\u001b[0m \u001b[0mKeyError\u001b[0m\u001b[1;33m(\u001b[0m\u001b[0mkey\u001b[0m\u001b[1;33m)\u001b[0m \u001b[1;32mfrom\u001b[0m \u001b[0merr\u001b[0m\u001b[1;33m\u001b[0m\u001b[1;33m\u001b[0m\u001b[0m\n\u001b[0m\u001b[0;32m   3364\u001b[0m \u001b[1;33m\u001b[0m\u001b[0m\n\u001b[0;32m   3365\u001b[0m         \u001b[1;32mif\u001b[0m \u001b[0mis_scalar\u001b[0m\u001b[1;33m(\u001b[0m\u001b[0mkey\u001b[0m\u001b[1;33m)\u001b[0m \u001b[1;32mand\u001b[0m \u001b[0misna\u001b[0m\u001b[1;33m(\u001b[0m\u001b[0mkey\u001b[0m\u001b[1;33m)\u001b[0m \u001b[1;32mand\u001b[0m \u001b[1;32mnot\u001b[0m \u001b[0mself\u001b[0m\u001b[1;33m.\u001b[0m\u001b[0mhasnans\u001b[0m\u001b[1;33m:\u001b[0m\u001b[1;33m\u001b[0m\u001b[1;33m\u001b[0m\u001b[0m\n",
      "\u001b[1;31mKeyError\u001b[0m: 'author.location'"
     ]
    }
   ],
   "source": [
    "m.df['author.location'].isna().value_counts()"
   ]
  },
  {
   "cell_type": "code",
   "execution_count": 23,
   "id": "83e8869b",
   "metadata": {},
   "outputs": [
    {
     "data": {
      "text/plain": [
       "True     19976\n",
       "False       22\n",
       "Name: geo.coordinates.coordinates, dtype: int64"
      ]
     },
     "execution_count": 23,
     "metadata": {},
     "output_type": "execute_result"
    }
   ],
   "source": [
    "m.df['geo.coordinates.coordinates'].isna().value_counts()"
   ]
  },
  {
   "cell_type": "code",
   "execution_count": 24,
   "id": "370e4f94",
   "metadata": {},
   "outputs": [
    {
     "data": {
      "text/plain": [
       "True     19909\n",
       "False       89\n",
       "Name: geo.country_code, dtype: int64"
      ]
     },
     "execution_count": 24,
     "metadata": {},
     "output_type": "execute_result"
    }
   ],
   "source": [
    "m.df['geo.country_code'].isna().value_counts()"
   ]
  },
  {
   "cell_type": "code",
   "execution_count": null,
   "id": "c9f33dc5",
   "metadata": {},
   "outputs": [],
   "source": [
    "m.df['']"
   ]
  },
  {
   "cell_type": "code",
   "execution_count": 13,
   "id": "b562e6e3",
   "metadata": {},
   "outputs": [
    {
     "data": {
      "text/html": [
       "<pre style=\"white-space:pre;overflow-x:auto;line-height:normal;font-family:Menlo,'DejaVu Sans Mono',consolas,'Courier New',monospace\"><span style=\"color: #000080; font-weight: bold\">14653</span>\n",
       "</pre>\n"
      ],
      "text/plain": [
       "<rich.jupyter.JupyterRenderable at 0x23998c14190>"
      ]
     },
     "metadata": {},
     "output_type": "display_data"
    }
   ],
   "source": [
    "user_id=m.df['author_id']\n",
    "set_user=set(user_id)\n",
    "#un utente può aver fatto più di un tweet, in questo modo andiamo a vedere i suoi ultimi tweet solo una volta.\n",
    "print(len(set_user))"
   ]
  },
  {
   "cell_type": "code",
   "execution_count": 5,
   "id": "433bf8e4",
   "metadata": {
    "scrolled": true
   },
   "outputs": [
    {
     "data": {
      "text/html": [
       "<pre style=\"white-space:pre;overflow-x:auto;line-height:normal;font-family:Menlo,'DejaVu Sans Mono',consolas,'Courier New',monospace\">Reading secret from C:\\Users\\david\\Documents\\GitHub\\ds-network-analysis\\data\\my_secrets.yaml…\n",
       "</pre>\n"
      ],
      "text/plain": [
       "Reading secret from C:\\Users\\david\\Documents\\GitHub\\ds-network-analysis\\data\\my_secrets.yaml…\n"
      ]
     },
     "metadata": {},
     "output_type": "display_data"
    },
    {
     "data": {
      "text/html": [
       "<pre style=\"white-space:pre;overflow-x:auto;line-height:normal;font-family:Menlo,'DejaVu Sans Mono',consolas,'Courier New',monospace\"></pre>\n"
      ],
      "text/plain": []
     },
     "metadata": {},
     "output_type": "display_data"
    },
    {
     "data": {
      "text/html": [
       "<pre style=\"white-space:pre;overflow-x:auto;line-height:normal;font-family:Menlo,'DejaVu Sans Mono',consolas,'Courier New',monospace\">\n",
       "</pre>\n"
      ],
      "text/plain": [
       "\n"
      ]
     },
     "metadata": {},
     "output_type": "display_data"
    },
    {
     "data": {
      "text/html": [
       "<pre style=\"white-space:pre;overflow-x:auto;line-height:normal;font-family:Menlo,'DejaVu Sans Mono',consolas,'Courier New',monospace\">Reading secret from C:\\Users\\david\\Documents\\GitHub\\ds-network-analysis\\data\\my_secrets.yaml…\n",
       "</pre>\n"
      ],
      "text/plain": [
       "Reading secret from C:\\Users\\david\\Documents\\GitHub\\ds-network-analysis\\data\\my_secrets.yaml…\n"
      ]
     },
     "metadata": {},
     "output_type": "display_data"
    },
    {
     "data": {
      "text/html": [
       "<pre style=\"white-space:pre;overflow-x:auto;line-height:normal;font-family:Menlo,'DejaVu Sans Mono',consolas,'Courier New',monospace\"></pre>\n"
      ],
      "text/plain": []
     },
     "metadata": {},
     "output_type": "display_data"
    },
    {
     "data": {
      "text/html": [
       "<pre style=\"white-space:pre;overflow-x:auto;line-height:normal;font-family:Menlo,'DejaVu Sans Mono',consolas,'Courier New',monospace\">\n",
       "</pre>\n"
      ],
      "text/plain": [
       "\n"
      ]
     },
     "metadata": {},
     "output_type": "display_data"
    },
    {
     "data": {
      "text/html": [
       "<pre style=\"white-space:pre;overflow-x:auto;line-height:normal;font-family:Menlo,'DejaVu Sans Mono',consolas,'Courier New',monospace\">Reading secret from C:\\Users\\david\\Documents\\GitHub\\ds-network-analysis\\data\\my_secrets.yaml…\n",
       "</pre>\n"
      ],
      "text/plain": [
       "Reading secret from C:\\Users\\david\\Documents\\GitHub\\ds-network-analysis\\data\\my_secrets.yaml…\n"
      ]
     },
     "metadata": {},
     "output_type": "display_data"
    },
    {
     "data": {
      "text/html": [
       "<pre style=\"white-space:pre;overflow-x:auto;line-height:normal;font-family:Menlo,'DejaVu Sans Mono',consolas,'Courier New',monospace\"></pre>\n"
      ],
      "text/plain": []
     },
     "metadata": {},
     "output_type": "display_data"
    },
    {
     "data": {
      "text/html": [
       "<pre style=\"white-space:pre;overflow-x:auto;line-height:normal;font-family:Menlo,'DejaVu Sans Mono',consolas,'Courier New',monospace\">\n",
       "</pre>\n"
      ],
      "text/plain": [
       "\n"
      ]
     },
     "metadata": {},
     "output_type": "display_data"
    },
    {
     "data": {
      "text/html": [
       "<pre style=\"white-space:pre;overflow-x:auto;line-height:normal;font-family:Menlo,'DejaVu Sans Mono',consolas,'Courier New',monospace\">Reading secret from C:\\Users\\david\\Documents\\GitHub\\ds-network-analysis\\data\\my_secrets.yaml…\n",
       "</pre>\n"
      ],
      "text/plain": [
       "Reading secret from C:\\Users\\david\\Documents\\GitHub\\ds-network-analysis\\data\\my_secrets.yaml…\n"
      ]
     },
     "metadata": {},
     "output_type": "display_data"
    },
    {
     "data": {
      "text/html": [
       "<pre style=\"white-space:pre;overflow-x:auto;line-height:normal;font-family:Menlo,'DejaVu Sans Mono',consolas,'Courier New',monospace\"></pre>\n"
      ],
      "text/plain": []
     },
     "metadata": {},
     "output_type": "display_data"
    },
    {
     "data": {
      "text/html": [
       "<pre style=\"white-space:pre;overflow-x:auto;line-height:normal;font-family:Menlo,'DejaVu Sans Mono',consolas,'Courier New',monospace\">\n",
       "</pre>\n"
      ],
      "text/plain": [
       "\n"
      ]
     },
     "metadata": {},
     "output_type": "display_data"
    },
    {
     "data": {
      "text/html": [
       "<pre style=\"white-space:pre;overflow-x:auto;line-height:normal;font-family:Menlo,'DejaVu Sans Mono',consolas,'Courier New',monospace\">Reading secret from C:\\Users\\david\\Documents\\GitHub\\ds-network-analysis\\data\\my_secrets.yaml…\n",
       "</pre>\n"
      ],
      "text/plain": [
       "Reading secret from C:\\Users\\david\\Documents\\GitHub\\ds-network-analysis\\data\\my_secrets.yaml…\n"
      ]
     },
     "metadata": {},
     "output_type": "display_data"
    },
    {
     "data": {
      "text/html": [
       "<pre style=\"white-space:pre;overflow-x:auto;line-height:normal;font-family:Menlo,'DejaVu Sans Mono',consolas,'Courier New',monospace\"></pre>\n"
      ],
      "text/plain": []
     },
     "metadata": {},
     "output_type": "display_data"
    },
    {
     "data": {
      "text/html": [
       "<pre style=\"white-space:pre;overflow-x:auto;line-height:normal;font-family:Menlo,'DejaVu Sans Mono',consolas,'Courier New',monospace\">\n",
       "</pre>\n"
      ],
      "text/plain": [
       "\n"
      ]
     },
     "metadata": {},
     "output_type": "display_data"
    },
    {
     "data": {
      "text/html": [
       "<pre style=\"white-space:pre;overflow-x:auto;line-height:normal;font-family:Menlo,'DejaVu Sans Mono',consolas,'Courier New',monospace\">Reading secret from C:\\Users\\david\\Documents\\GitHub\\ds-network-analysis\\data\\my_secrets.yaml…\n",
       "</pre>\n"
      ],
      "text/plain": [
       "Reading secret from C:\\Users\\david\\Documents\\GitHub\\ds-network-analysis\\data\\my_secrets.yaml…\n"
      ]
     },
     "metadata": {},
     "output_type": "display_data"
    },
    {
     "data": {
      "text/html": [
       "<pre style=\"white-space:pre;overflow-x:auto;line-height:normal;font-family:Menlo,'DejaVu Sans Mono',consolas,'Courier New',monospace\"></pre>\n"
      ],
      "text/plain": []
     },
     "metadata": {},
     "output_type": "display_data"
    },
    {
     "data": {
      "text/html": [
       "<pre style=\"white-space:pre;overflow-x:auto;line-height:normal;font-family:Menlo,'DejaVu Sans Mono',consolas,'Courier New',monospace\">\n",
       "</pre>\n"
      ],
      "text/plain": [
       "\n"
      ]
     },
     "metadata": {},
     "output_type": "display_data"
    },
    {
     "data": {
      "text/html": [
       "<pre style=\"white-space:pre;overflow-x:auto;line-height:normal;font-family:Menlo,'DejaVu Sans Mono',consolas,'Courier New',monospace\">Reading secret from C:\\Users\\david\\Documents\\GitHub\\ds-network-analysis\\data\\my_secrets.yaml…\n",
       "</pre>\n"
      ],
      "text/plain": [
       "Reading secret from C:\\Users\\david\\Documents\\GitHub\\ds-network-analysis\\data\\my_secrets.yaml…\n"
      ]
     },
     "metadata": {},
     "output_type": "display_data"
    },
    {
     "data": {
      "text/html": [
       "<pre style=\"white-space:pre;overflow-x:auto;line-height:normal;font-family:Menlo,'DejaVu Sans Mono',consolas,'Courier New',monospace\"></pre>\n"
      ],
      "text/plain": []
     },
     "metadata": {},
     "output_type": "display_data"
    },
    {
     "data": {
      "text/html": [
       "<pre style=\"white-space:pre;overflow-x:auto;line-height:normal;font-family:Menlo,'DejaVu Sans Mono',consolas,'Courier New',monospace\">\n",
       "</pre>\n"
      ],
      "text/plain": [
       "\n"
      ]
     },
     "metadata": {},
     "output_type": "display_data"
    },
    {
     "data": {
      "text/html": [
       "<pre style=\"white-space:pre;overflow-x:auto;line-height:normal;font-family:Menlo,'DejaVu Sans Mono',consolas,'Courier New',monospace\">Reading secret from C:\\Users\\david\\Documents\\GitHub\\ds-network-analysis\\data\\my_secrets.yaml…\n",
       "</pre>\n"
      ],
      "text/plain": [
       "Reading secret from C:\\Users\\david\\Documents\\GitHub\\ds-network-analysis\\data\\my_secrets.yaml…\n"
      ]
     },
     "metadata": {},
     "output_type": "display_data"
    },
    {
     "data": {
      "text/html": [
       "<pre style=\"white-space:pre;overflow-x:auto;line-height:normal;font-family:Menlo,'DejaVu Sans Mono',consolas,'Courier New',monospace\"></pre>\n"
      ],
      "text/plain": []
     },
     "metadata": {},
     "output_type": "display_data"
    },
    {
     "data": {
      "text/html": [
       "<pre style=\"white-space:pre;overflow-x:auto;line-height:normal;font-family:Menlo,'DejaVu Sans Mono',consolas,'Courier New',monospace\">\n",
       "</pre>\n"
      ],
      "text/plain": [
       "\n"
      ]
     },
     "metadata": {},
     "output_type": "display_data"
    },
    {
     "data": {
      "text/html": [
       "<pre style=\"white-space:pre;overflow-x:auto;line-height:normal;font-family:Menlo,'DejaVu Sans Mono',consolas,'Courier New',monospace\">Reading secret from C:\\Users\\david\\Documents\\GitHub\\ds-network-analysis\\data\\my_secrets.yaml…\n",
       "</pre>\n"
      ],
      "text/plain": [
       "Reading secret from C:\\Users\\david\\Documents\\GitHub\\ds-network-analysis\\data\\my_secrets.yaml…\n"
      ]
     },
     "metadata": {},
     "output_type": "display_data"
    },
    {
     "data": {
      "text/html": [
       "<pre style=\"white-space:pre;overflow-x:auto;line-height:normal;font-family:Menlo,'DejaVu Sans Mono',consolas,'Courier New',monospace\"></pre>\n"
      ],
      "text/plain": []
     },
     "metadata": {},
     "output_type": "display_data"
    },
    {
     "data": {
      "text/html": [
       "<pre style=\"white-space:pre;overflow-x:auto;line-height:normal;font-family:Menlo,'DejaVu Sans Mono',consolas,'Courier New',monospace\">\n",
       "</pre>\n"
      ],
      "text/plain": [
       "\n"
      ]
     },
     "metadata": {},
     "output_type": "display_data"
    },
    {
     "data": {
      "text/html": [
       "<pre style=\"white-space:pre;overflow-x:auto;line-height:normal;font-family:Menlo,'DejaVu Sans Mono',consolas,'Courier New',monospace\">Reading secret from C:\\Users\\david\\Documents\\GitHub\\ds-network-analysis\\data\\my_secrets.yaml…\n",
       "</pre>\n"
      ],
      "text/plain": [
       "Reading secret from C:\\Users\\david\\Documents\\GitHub\\ds-network-analysis\\data\\my_secrets.yaml…\n"
      ]
     },
     "metadata": {},
     "output_type": "display_data"
    },
    {
     "data": {
      "text/html": [
       "<pre style=\"white-space:pre;overflow-x:auto;line-height:normal;font-family:Menlo,'DejaVu Sans Mono',consolas,'Courier New',monospace\"></pre>\n"
      ],
      "text/plain": []
     },
     "metadata": {},
     "output_type": "display_data"
    },
    {
     "data": {
      "text/html": [
       "<pre style=\"white-space:pre;overflow-x:auto;line-height:normal;font-family:Menlo,'DejaVu Sans Mono',consolas,'Courier New',monospace\">\n",
       "</pre>\n"
      ],
      "text/plain": [
       "\n"
      ]
     },
     "metadata": {},
     "output_type": "display_data"
    },
    {
     "data": {
      "text/html": [
       "<pre style=\"white-space:pre;overflow-x:auto;line-height:normal;font-family:Menlo,'DejaVu Sans Mono',consolas,'Courier New',monospace\">Reading secret from C:\\Users\\david\\Documents\\GitHub\\ds-network-analysis\\data\\my_secrets.yaml…\n",
       "</pre>\n"
      ],
      "text/plain": [
       "Reading secret from C:\\Users\\david\\Documents\\GitHub\\ds-network-analysis\\data\\my_secrets.yaml…\n"
      ]
     },
     "metadata": {},
     "output_type": "display_data"
    },
    {
     "data": {
      "text/html": [
       "<pre style=\"white-space:pre;overflow-x:auto;line-height:normal;font-family:Menlo,'DejaVu Sans Mono',consolas,'Courier New',monospace\"></pre>\n"
      ],
      "text/plain": []
     },
     "metadata": {},
     "output_type": "display_data"
    },
    {
     "data": {
      "text/html": [
       "<pre style=\"white-space:pre;overflow-x:auto;line-height:normal;font-family:Menlo,'DejaVu Sans Mono',consolas,'Courier New',monospace\">\n",
       "</pre>\n"
      ],
      "text/plain": [
       "\n"
      ]
     },
     "metadata": {},
     "output_type": "display_data"
    },
    {
     "data": {
      "text/html": [
       "<pre style=\"white-space:pre;overflow-x:auto;line-height:normal;font-family:Menlo,'DejaVu Sans Mono',consolas,'Courier New',monospace\">Reading secret from C:\\Users\\david\\Documents\\GitHub\\ds-network-analysis\\data\\my_secrets.yaml…\n",
       "</pre>\n"
      ],
      "text/plain": [
       "Reading secret from C:\\Users\\david\\Documents\\GitHub\\ds-network-analysis\\data\\my_secrets.yaml…\n"
      ]
     },
     "metadata": {},
     "output_type": "display_data"
    },
    {
     "data": {
      "text/html": [
       "<pre style=\"white-space:pre;overflow-x:auto;line-height:normal;font-family:Menlo,'DejaVu Sans Mono',consolas,'Courier New',monospace\"></pre>\n"
      ],
      "text/plain": []
     },
     "metadata": {},
     "output_type": "display_data"
    },
    {
     "data": {
      "text/html": [
       "<pre style=\"white-space:pre;overflow-x:auto;line-height:normal;font-family:Menlo,'DejaVu Sans Mono',consolas,'Courier New',monospace\">\n",
       "</pre>\n"
      ],
      "text/plain": [
       "\n"
      ]
     },
     "metadata": {},
     "output_type": "display_data"
    },
    {
     "data": {
      "text/html": [
       "<pre style=\"white-space:pre;overflow-x:auto;line-height:normal;font-family:Menlo,'DejaVu Sans Mono',consolas,'Courier New',monospace\">Reading secret from C:\\Users\\david\\Documents\\GitHub\\ds-network-analysis\\data\\my_secrets.yaml…\n",
       "</pre>\n"
      ],
      "text/plain": [
       "Reading secret from C:\\Users\\david\\Documents\\GitHub\\ds-network-analysis\\data\\my_secrets.yaml…\n"
      ]
     },
     "metadata": {},
     "output_type": "display_data"
    },
    {
     "data": {
      "text/html": [
       "<pre style=\"white-space:pre;overflow-x:auto;line-height:normal;font-family:Menlo,'DejaVu Sans Mono',consolas,'Courier New',monospace\"></pre>\n"
      ],
      "text/plain": []
     },
     "metadata": {},
     "output_type": "display_data"
    },
    {
     "data": {
      "text/html": [
       "<pre style=\"white-space:pre;overflow-x:auto;line-height:normal;font-family:Menlo,'DejaVu Sans Mono',consolas,'Courier New',monospace\">\n",
       "</pre>\n"
      ],
      "text/plain": [
       "\n"
      ]
     },
     "metadata": {},
     "output_type": "display_data"
    },
    {
     "data": {
      "text/html": [
       "<pre style=\"white-space:pre;overflow-x:auto;line-height:normal;font-family:Menlo,'DejaVu Sans Mono',consolas,'Courier New',monospace\">Reading secret from C:\\Users\\david\\Documents\\GitHub\\ds-network-analysis\\data\\my_secrets.yaml…\n",
       "</pre>\n"
      ],
      "text/plain": [
       "Reading secret from C:\\Users\\david\\Documents\\GitHub\\ds-network-analysis\\data\\my_secrets.yaml…\n"
      ]
     },
     "metadata": {},
     "output_type": "display_data"
    },
    {
     "data": {
      "text/html": [
       "<pre style=\"white-space:pre;overflow-x:auto;line-height:normal;font-family:Menlo,'DejaVu Sans Mono',consolas,'Courier New',monospace\"></pre>\n"
      ],
      "text/plain": []
     },
     "metadata": {},
     "output_type": "display_data"
    },
    {
     "data": {
      "text/html": [
       "<pre style=\"white-space:pre;overflow-x:auto;line-height:normal;font-family:Menlo,'DejaVu Sans Mono',consolas,'Courier New',monospace\">\n",
       "</pre>\n"
      ],
      "text/plain": [
       "\n"
      ]
     },
     "metadata": {},
     "output_type": "display_data"
    },
    {
     "data": {
      "text/html": [
       "<pre style=\"white-space:pre;overflow-x:auto;line-height:normal;font-family:Menlo,'DejaVu Sans Mono',consolas,'Courier New',monospace\">Reading secret from C:\\Users\\david\\Documents\\GitHub\\ds-network-analysis\\data\\my_secrets.yaml…\n",
       "</pre>\n"
      ],
      "text/plain": [
       "Reading secret from C:\\Users\\david\\Documents\\GitHub\\ds-network-analysis\\data\\my_secrets.yaml…\n"
      ]
     },
     "metadata": {},
     "output_type": "display_data"
    },
    {
     "data": {
      "text/html": [
       "<pre style=\"white-space:pre;overflow-x:auto;line-height:normal;font-family:Menlo,'DejaVu Sans Mono',consolas,'Courier New',monospace\"></pre>\n"
      ],
      "text/plain": []
     },
     "metadata": {},
     "output_type": "display_data"
    },
    {
     "data": {
      "text/html": [
       "<pre style=\"white-space:pre;overflow-x:auto;line-height:normal;font-family:Menlo,'DejaVu Sans Mono',consolas,'Courier New',monospace\">\n",
       "</pre>\n"
      ],
      "text/plain": [
       "\n"
      ]
     },
     "metadata": {},
     "output_type": "display_data"
    },
    {
     "data": {
      "text/html": [
       "<pre style=\"white-space:pre;overflow-x:auto;line-height:normal;font-family:Menlo,'DejaVu Sans Mono',consolas,'Courier New',monospace\">Reading secret from C:\\Users\\david\\Documents\\GitHub\\ds-network-analysis\\data\\my_secrets.yaml…\n",
       "</pre>\n"
      ],
      "text/plain": [
       "Reading secret from C:\\Users\\david\\Documents\\GitHub\\ds-network-analysis\\data\\my_secrets.yaml…\n"
      ]
     },
     "metadata": {},
     "output_type": "display_data"
    },
    {
     "data": {
      "text/html": [
       "<pre style=\"white-space:pre;overflow-x:auto;line-height:normal;font-family:Menlo,'DejaVu Sans Mono',consolas,'Courier New',monospace\"></pre>\n"
      ],
      "text/plain": []
     },
     "metadata": {},
     "output_type": "display_data"
    },
    {
     "data": {
      "text/html": [
       "<pre style=\"white-space:pre;overflow-x:auto;line-height:normal;font-family:Menlo,'DejaVu Sans Mono',consolas,'Courier New',monospace\">\n",
       "</pre>\n"
      ],
      "text/plain": [
       "\n"
      ]
     },
     "metadata": {},
     "output_type": "display_data"
    },
    {
     "data": {
      "text/html": [
       "<pre style=\"white-space:pre;overflow-x:auto;line-height:normal;font-family:Menlo,'DejaVu Sans Mono',consolas,'Courier New',monospace\">Reading secret from C:\\Users\\david\\Documents\\GitHub\\ds-network-analysis\\data\\my_secrets.yaml…\n",
       "</pre>\n"
      ],
      "text/plain": [
       "Reading secret from C:\\Users\\david\\Documents\\GitHub\\ds-network-analysis\\data\\my_secrets.yaml…\n"
      ]
     },
     "metadata": {},
     "output_type": "display_data"
    },
    {
     "data": {
      "text/html": [
       "<pre style=\"white-space:pre;overflow-x:auto;line-height:normal;font-family:Menlo,'DejaVu Sans Mono',consolas,'Courier New',monospace\"></pre>\n"
      ],
      "text/plain": []
     },
     "metadata": {},
     "output_type": "display_data"
    },
    {
     "data": {
      "text/html": [
       "<pre style=\"white-space:pre;overflow-x:auto;line-height:normal;font-family:Menlo,'DejaVu Sans Mono',consolas,'Courier New',monospace\">\n",
       "</pre>\n"
      ],
      "text/plain": [
       "\n"
      ]
     },
     "metadata": {},
     "output_type": "display_data"
    },
    {
     "data": {
      "text/html": [
       "<pre style=\"white-space:pre;overflow-x:auto;line-height:normal;font-family:Menlo,'DejaVu Sans Mono',consolas,'Courier New',monospace\">Reading secret from C:\\Users\\david\\Documents\\GitHub\\ds-network-analysis\\data\\my_secrets.yaml…\n",
       "</pre>\n"
      ],
      "text/plain": [
       "Reading secret from C:\\Users\\david\\Documents\\GitHub\\ds-network-analysis\\data\\my_secrets.yaml…\n"
      ]
     },
     "metadata": {},
     "output_type": "display_data"
    },
    {
     "data": {
      "text/html": [
       "<pre style=\"white-space:pre;overflow-x:auto;line-height:normal;font-family:Menlo,'DejaVu Sans Mono',consolas,'Courier New',monospace\"></pre>\n"
      ],
      "text/plain": []
     },
     "metadata": {},
     "output_type": "display_data"
    },
    {
     "data": {
      "text/html": [
       "<pre style=\"white-space:pre;overflow-x:auto;line-height:normal;font-family:Menlo,'DejaVu Sans Mono',consolas,'Courier New',monospace\">\n",
       "</pre>\n"
      ],
      "text/plain": [
       "\n"
      ]
     },
     "metadata": {},
     "output_type": "display_data"
    },
    {
     "data": {
      "text/html": [
       "<pre style=\"white-space:pre;overflow-x:auto;line-height:normal;font-family:Menlo,'DejaVu Sans Mono',consolas,'Courier New',monospace\">Reading secret from C:\\Users\\david\\Documents\\GitHub\\ds-network-analysis\\data\\my_secrets.yaml…\n",
       "</pre>\n"
      ],
      "text/plain": [
       "Reading secret from C:\\Users\\david\\Documents\\GitHub\\ds-network-analysis\\data\\my_secrets.yaml…\n"
      ]
     },
     "metadata": {},
     "output_type": "display_data"
    },
    {
     "data": {
      "text/html": [
       "<pre style=\"white-space:pre;overflow-x:auto;line-height:normal;font-family:Menlo,'DejaVu Sans Mono',consolas,'Courier New',monospace\"></pre>\n"
      ],
      "text/plain": []
     },
     "metadata": {},
     "output_type": "display_data"
    },
    {
     "data": {
      "text/html": [
       "<pre style=\"white-space:pre;overflow-x:auto;line-height:normal;font-family:Menlo,'DejaVu Sans Mono',consolas,'Courier New',monospace\">\n",
       "</pre>\n"
      ],
      "text/plain": [
       "\n"
      ]
     },
     "metadata": {},
     "output_type": "display_data"
    },
    {
     "data": {
      "text/html": [
       "<pre style=\"white-space:pre;overflow-x:auto;line-height:normal;font-family:Menlo,'DejaVu Sans Mono',consolas,'Courier New',monospace\">Reading secret from C:\\Users\\david\\Documents\\GitHub\\ds-network-analysis\\data\\my_secrets.yaml…\n",
       "</pre>\n"
      ],
      "text/plain": [
       "Reading secret from C:\\Users\\david\\Documents\\GitHub\\ds-network-analysis\\data\\my_secrets.yaml…\n"
      ]
     },
     "metadata": {},
     "output_type": "display_data"
    },
    {
     "data": {
      "text/html": [
       "<pre style=\"white-space:pre;overflow-x:auto;line-height:normal;font-family:Menlo,'DejaVu Sans Mono',consolas,'Courier New',monospace\"></pre>\n"
      ],
      "text/plain": []
     },
     "metadata": {},
     "output_type": "display_data"
    },
    {
     "data": {
      "text/html": [
       "<pre style=\"white-space:pre;overflow-x:auto;line-height:normal;font-family:Menlo,'DejaVu Sans Mono',consolas,'Courier New',monospace\">\n",
       "</pre>\n"
      ],
      "text/plain": [
       "\n"
      ]
     },
     "metadata": {},
     "output_type": "display_data"
    },
    {
     "data": {
      "text/html": [
       "<pre style=\"white-space:pre;overflow-x:auto;line-height:normal;font-family:Menlo,'DejaVu Sans Mono',consolas,'Courier New',monospace\">Reading secret from C:\\Users\\david\\Documents\\GitHub\\ds-network-analysis\\data\\my_secrets.yaml…\n",
       "</pre>\n"
      ],
      "text/plain": [
       "Reading secret from C:\\Users\\david\\Documents\\GitHub\\ds-network-analysis\\data\\my_secrets.yaml…\n"
      ]
     },
     "metadata": {},
     "output_type": "display_data"
    },
    {
     "data": {
      "text/html": [
       "<pre style=\"white-space:pre;overflow-x:auto;line-height:normal;font-family:Menlo,'DejaVu Sans Mono',consolas,'Courier New',monospace\"></pre>\n"
      ],
      "text/plain": []
     },
     "metadata": {},
     "output_type": "display_data"
    },
    {
     "data": {
      "text/html": [
       "<pre style=\"white-space:pre;overflow-x:auto;line-height:normal;font-family:Menlo,'DejaVu Sans Mono',consolas,'Courier New',monospace\">\n",
       "</pre>\n"
      ],
      "text/plain": [
       "\n"
      ]
     },
     "metadata": {},
     "output_type": "display_data"
    },
    {
     "data": {
      "text/html": [
       "<pre style=\"white-space:pre;overflow-x:auto;line-height:normal;font-family:Menlo,'DejaVu Sans Mono',consolas,'Courier New',monospace\">Reading secret from C:\\Users\\david\\Documents\\GitHub\\ds-network-analysis\\data\\my_secrets.yaml…\n",
       "</pre>\n"
      ],
      "text/plain": [
       "Reading secret from C:\\Users\\david\\Documents\\GitHub\\ds-network-analysis\\data\\my_secrets.yaml…\n"
      ]
     },
     "metadata": {},
     "output_type": "display_data"
    },
    {
     "data": {
      "text/html": [
       "<pre style=\"white-space:pre;overflow-x:auto;line-height:normal;font-family:Menlo,'DejaVu Sans Mono',consolas,'Courier New',monospace\"></pre>\n"
      ],
      "text/plain": []
     },
     "metadata": {},
     "output_type": "display_data"
    },
    {
     "data": {
      "text/html": [
       "<pre style=\"white-space:pre;overflow-x:auto;line-height:normal;font-family:Menlo,'DejaVu Sans Mono',consolas,'Courier New',monospace\">\n",
       "</pre>\n"
      ],
      "text/plain": [
       "\n"
      ]
     },
     "metadata": {},
     "output_type": "display_data"
    },
    {
     "data": {
      "text/html": [
       "<pre style=\"white-space:pre;overflow-x:auto;line-height:normal;font-family:Menlo,'DejaVu Sans Mono',consolas,'Courier New',monospace\">Reading secret from C:\\Users\\david\\Documents\\GitHub\\ds-network-analysis\\data\\my_secrets.yaml…\n",
       "</pre>\n"
      ],
      "text/plain": [
       "Reading secret from C:\\Users\\david\\Documents\\GitHub\\ds-network-analysis\\data\\my_secrets.yaml…\n"
      ]
     },
     "metadata": {},
     "output_type": "display_data"
    },
    {
     "data": {
      "text/html": [
       "<pre style=\"white-space:pre;overflow-x:auto;line-height:normal;font-family:Menlo,'DejaVu Sans Mono',consolas,'Courier New',monospace\"></pre>\n"
      ],
      "text/plain": []
     },
     "metadata": {},
     "output_type": "display_data"
    },
    {
     "data": {
      "text/html": [
       "<pre style=\"white-space:pre;overflow-x:auto;line-height:normal;font-family:Menlo,'DejaVu Sans Mono',consolas,'Courier New',monospace\">\n",
       "</pre>\n"
      ],
      "text/plain": [
       "\n"
      ]
     },
     "metadata": {},
     "output_type": "display_data"
    },
    {
     "data": {
      "text/html": [
       "<pre style=\"white-space:pre;overflow-x:auto;line-height:normal;font-family:Menlo,'DejaVu Sans Mono',consolas,'Courier New',monospace\">Reading secret from C:\\Users\\david\\Documents\\GitHub\\ds-network-analysis\\data\\my_secrets.yaml…\n",
       "</pre>\n"
      ],
      "text/plain": [
       "Reading secret from C:\\Users\\david\\Documents\\GitHub\\ds-network-analysis\\data\\my_secrets.yaml…\n"
      ]
     },
     "metadata": {},
     "output_type": "display_data"
    },
    {
     "data": {
      "text/html": [
       "<pre style=\"white-space:pre;overflow-x:auto;line-height:normal;font-family:Menlo,'DejaVu Sans Mono',consolas,'Courier New',monospace\"></pre>\n"
      ],
      "text/plain": []
     },
     "metadata": {},
     "output_type": "display_data"
    },
    {
     "data": {
      "text/html": [
       "<pre style=\"white-space:pre;overflow-x:auto;line-height:normal;font-family:Menlo,'DejaVu Sans Mono',consolas,'Courier New',monospace\">\n",
       "</pre>\n"
      ],
      "text/plain": [
       "\n"
      ]
     },
     "metadata": {},
     "output_type": "display_data"
    },
    {
     "data": {
      "text/html": [
       "<pre style=\"white-space:pre;overflow-x:auto;line-height:normal;font-family:Menlo,'DejaVu Sans Mono',consolas,'Courier New',monospace\">Reading secret from C:\\Users\\david\\Documents\\GitHub\\ds-network-analysis\\data\\my_secrets.yaml…\n",
       "</pre>\n"
      ],
      "text/plain": [
       "Reading secret from C:\\Users\\david\\Documents\\GitHub\\ds-network-analysis\\data\\my_secrets.yaml…\n"
      ]
     },
     "metadata": {},
     "output_type": "display_data"
    },
    {
     "data": {
      "text/html": [
       "<pre style=\"white-space:pre;overflow-x:auto;line-height:normal;font-family:Menlo,'DejaVu Sans Mono',consolas,'Courier New',monospace\"></pre>\n"
      ],
      "text/plain": []
     },
     "metadata": {},
     "output_type": "display_data"
    },
    {
     "data": {
      "text/html": [
       "<pre style=\"white-space:pre;overflow-x:auto;line-height:normal;font-family:Menlo,'DejaVu Sans Mono',consolas,'Courier New',monospace\">\n",
       "</pre>\n"
      ],
      "text/plain": [
       "\n"
      ]
     },
     "metadata": {},
     "output_type": "display_data"
    },
    {
     "data": {
      "text/html": [
       "<pre style=\"white-space:pre;overflow-x:auto;line-height:normal;font-family:Menlo,'DejaVu Sans Mono',consolas,'Courier New',monospace\">Reading secret from C:\\Users\\david\\Documents\\GitHub\\ds-network-analysis\\data\\my_secrets.yaml…\n",
       "</pre>\n"
      ],
      "text/plain": [
       "Reading secret from C:\\Users\\david\\Documents\\GitHub\\ds-network-analysis\\data\\my_secrets.yaml…\n"
      ]
     },
     "metadata": {},
     "output_type": "display_data"
    },
    {
     "data": {
      "text/html": [
       "<pre style=\"white-space:pre;overflow-x:auto;line-height:normal;font-family:Menlo,'DejaVu Sans Mono',consolas,'Courier New',monospace\"></pre>\n"
      ],
      "text/plain": []
     },
     "metadata": {},
     "output_type": "display_data"
    },
    {
     "data": {
      "text/html": [
       "<pre style=\"white-space:pre;overflow-x:auto;line-height:normal;font-family:Menlo,'DejaVu Sans Mono',consolas,'Courier New',monospace\">\n",
       "</pre>\n"
      ],
      "text/plain": [
       "\n"
      ]
     },
     "metadata": {},
     "output_type": "display_data"
    },
    {
     "data": {
      "text/html": [
       "<pre style=\"white-space:pre;overflow-x:auto;line-height:normal;font-family:Menlo,'DejaVu Sans Mono',consolas,'Courier New',monospace\">Reading secret from C:\\Users\\david\\Documents\\GitHub\\ds-network-analysis\\data\\my_secrets.yaml…\n",
       "</pre>\n"
      ],
      "text/plain": [
       "Reading secret from C:\\Users\\david\\Documents\\GitHub\\ds-network-analysis\\data\\my_secrets.yaml…\n"
      ]
     },
     "metadata": {},
     "output_type": "display_data"
    },
    {
     "data": {
      "text/html": [
       "<pre style=\"white-space:pre;overflow-x:auto;line-height:normal;font-family:Menlo,'DejaVu Sans Mono',consolas,'Courier New',monospace\"></pre>\n"
      ],
      "text/plain": []
     },
     "metadata": {},
     "output_type": "display_data"
    },
    {
     "data": {
      "text/html": [
       "<pre style=\"white-space:pre;overflow-x:auto;line-height:normal;font-family:Menlo,'DejaVu Sans Mono',consolas,'Courier New',monospace\">\n",
       "</pre>\n"
      ],
      "text/plain": [
       "\n"
      ]
     },
     "metadata": {},
     "output_type": "display_data"
    },
    {
     "data": {
      "text/html": [
       "<pre style=\"white-space:pre;overflow-x:auto;line-height:normal;font-family:Menlo,'DejaVu Sans Mono',consolas,'Courier New',monospace\">Reading secret from C:\\Users\\david\\Documents\\GitHub\\ds-network-analysis\\data\\my_secrets.yaml…\n",
       "</pre>\n"
      ],
      "text/plain": [
       "Reading secret from C:\\Users\\david\\Documents\\GitHub\\ds-network-analysis\\data\\my_secrets.yaml…\n"
      ]
     },
     "metadata": {},
     "output_type": "display_data"
    },
    {
     "data": {
      "text/html": [
       "<pre style=\"white-space:pre;overflow-x:auto;line-height:normal;font-family:Menlo,'DejaVu Sans Mono',consolas,'Courier New',monospace\"></pre>\n"
      ],
      "text/plain": []
     },
     "metadata": {},
     "output_type": "display_data"
    },
    {
     "data": {
      "text/html": [
       "<pre style=\"white-space:pre;overflow-x:auto;line-height:normal;font-family:Menlo,'DejaVu Sans Mono',consolas,'Courier New',monospace\">\n",
       "</pre>\n"
      ],
      "text/plain": [
       "\n"
      ]
     },
     "metadata": {},
     "output_type": "display_data"
    },
    {
     "data": {
      "text/html": [
       "<pre style=\"white-space:pre;overflow-x:auto;line-height:normal;font-family:Menlo,'DejaVu Sans Mono',consolas,'Courier New',monospace\">Reading secret from C:\\Users\\david\\Documents\\GitHub\\ds-network-analysis\\data\\my_secrets.yaml…\n",
       "</pre>\n"
      ],
      "text/plain": [
       "Reading secret from C:\\Users\\david\\Documents\\GitHub\\ds-network-analysis\\data\\my_secrets.yaml…\n"
      ]
     },
     "metadata": {},
     "output_type": "display_data"
    },
    {
     "data": {
      "text/html": [
       "<pre style=\"white-space:pre;overflow-x:auto;line-height:normal;font-family:Menlo,'DejaVu Sans Mono',consolas,'Courier New',monospace\"></pre>\n"
      ],
      "text/plain": []
     },
     "metadata": {},
     "output_type": "display_data"
    },
    {
     "data": {
      "text/html": [
       "<pre style=\"white-space:pre;overflow-x:auto;line-height:normal;font-family:Menlo,'DejaVu Sans Mono',consolas,'Courier New',monospace\">\n",
       "</pre>\n"
      ],
      "text/plain": [
       "\n"
      ]
     },
     "metadata": {},
     "output_type": "display_data"
    },
    {
     "data": {
      "text/html": [
       "<pre style=\"white-space:pre;overflow-x:auto;line-height:normal;font-family:Menlo,'DejaVu Sans Mono',consolas,'Courier New',monospace\">Reading secret from C:\\Users\\david\\Documents\\GitHub\\ds-network-analysis\\data\\my_secrets.yaml…\n",
       "</pre>\n"
      ],
      "text/plain": [
       "Reading secret from C:\\Users\\david\\Documents\\GitHub\\ds-network-analysis\\data\\my_secrets.yaml…\n"
      ]
     },
     "metadata": {},
     "output_type": "display_data"
    },
    {
     "data": {
      "text/html": [
       "<pre style=\"white-space:pre;overflow-x:auto;line-height:normal;font-family:Menlo,'DejaVu Sans Mono',consolas,'Courier New',monospace\"></pre>\n"
      ],
      "text/plain": []
     },
     "metadata": {},
     "output_type": "display_data"
    },
    {
     "data": {
      "text/html": [
       "<pre style=\"white-space:pre;overflow-x:auto;line-height:normal;font-family:Menlo,'DejaVu Sans Mono',consolas,'Courier New',monospace\">\n",
       "</pre>\n"
      ],
      "text/plain": [
       "\n"
      ]
     },
     "metadata": {},
     "output_type": "display_data"
    },
    {
     "data": {
      "text/html": [
       "<pre style=\"white-space:pre;overflow-x:auto;line-height:normal;font-family:Menlo,'DejaVu Sans Mono',consolas,'Courier New',monospace\">Reading secret from C:\\Users\\david\\Documents\\GitHub\\ds-network-analysis\\data\\my_secrets.yaml…\n",
       "</pre>\n"
      ],
      "text/plain": [
       "Reading secret from C:\\Users\\david\\Documents\\GitHub\\ds-network-analysis\\data\\my_secrets.yaml…\n"
      ]
     },
     "metadata": {},
     "output_type": "display_data"
    },
    {
     "data": {
      "text/html": [
       "<pre style=\"white-space:pre;overflow-x:auto;line-height:normal;font-family:Menlo,'DejaVu Sans Mono',consolas,'Courier New',monospace\"></pre>\n"
      ],
      "text/plain": []
     },
     "metadata": {},
     "output_type": "display_data"
    },
    {
     "data": {
      "text/html": [
       "<pre style=\"white-space:pre;overflow-x:auto;line-height:normal;font-family:Menlo,'DejaVu Sans Mono',consolas,'Courier New',monospace\">\n",
       "</pre>\n"
      ],
      "text/plain": [
       "\n"
      ]
     },
     "metadata": {},
     "output_type": "display_data"
    },
    {
     "data": {
      "text/html": [
       "<pre style=\"white-space:pre;overflow-x:auto;line-height:normal;font-family:Menlo,'DejaVu Sans Mono',consolas,'Courier New',monospace\">Reading secret from C:\\Users\\david\\Documents\\GitHub\\ds-network-analysis\\data\\my_secrets.yaml…\n",
       "</pre>\n"
      ],
      "text/plain": [
       "Reading secret from C:\\Users\\david\\Documents\\GitHub\\ds-network-analysis\\data\\my_secrets.yaml…\n"
      ]
     },
     "metadata": {},
     "output_type": "display_data"
    },
    {
     "data": {
      "text/html": [
       "<pre style=\"white-space:pre;overflow-x:auto;line-height:normal;font-family:Menlo,'DejaVu Sans Mono',consolas,'Courier New',monospace\"></pre>\n"
      ],
      "text/plain": []
     },
     "metadata": {},
     "output_type": "display_data"
    },
    {
     "data": {
      "text/html": [
       "<pre style=\"white-space:pre;overflow-x:auto;line-height:normal;font-family:Menlo,'DejaVu Sans Mono',consolas,'Courier New',monospace\">\n",
       "</pre>\n"
      ],
      "text/plain": [
       "\n"
      ]
     },
     "metadata": {},
     "output_type": "display_data"
    },
    {
     "data": {
      "text/html": [
       "<pre style=\"white-space:pre;overflow-x:auto;line-height:normal;font-family:Menlo,'DejaVu Sans Mono',consolas,'Courier New',monospace\">Reading secret from C:\\Users\\david\\Documents\\GitHub\\ds-network-analysis\\data\\my_secrets.yaml…\n",
       "</pre>\n"
      ],
      "text/plain": [
       "Reading secret from C:\\Users\\david\\Documents\\GitHub\\ds-network-analysis\\data\\my_secrets.yaml…\n"
      ]
     },
     "metadata": {},
     "output_type": "display_data"
    },
    {
     "data": {
      "text/html": [
       "<pre style=\"white-space:pre;overflow-x:auto;line-height:normal;font-family:Menlo,'DejaVu Sans Mono',consolas,'Courier New',monospace\"></pre>\n"
      ],
      "text/plain": []
     },
     "metadata": {},
     "output_type": "display_data"
    },
    {
     "data": {
      "text/html": [
       "<pre style=\"white-space:pre;overflow-x:auto;line-height:normal;font-family:Menlo,'DejaVu Sans Mono',consolas,'Courier New',monospace\">\n",
       "</pre>\n"
      ],
      "text/plain": [
       "\n"
      ]
     },
     "metadata": {},
     "output_type": "display_data"
    },
    {
     "data": {
      "text/html": [
       "<pre style=\"white-space:pre;overflow-x:auto;line-height:normal;font-family:Menlo,'DejaVu Sans Mono',consolas,'Courier New',monospace\">Reading secret from C:\\Users\\david\\Documents\\GitHub\\ds-network-analysis\\data\\my_secrets.yaml…\n",
       "</pre>\n"
      ],
      "text/plain": [
       "Reading secret from C:\\Users\\david\\Documents\\GitHub\\ds-network-analysis\\data\\my_secrets.yaml…\n"
      ]
     },
     "metadata": {},
     "output_type": "display_data"
    },
    {
     "data": {
      "text/html": [
       "<pre style=\"white-space:pre;overflow-x:auto;line-height:normal;font-family:Menlo,'DejaVu Sans Mono',consolas,'Courier New',monospace\"></pre>\n"
      ],
      "text/plain": []
     },
     "metadata": {},
     "output_type": "display_data"
    },
    {
     "data": {
      "text/html": [
       "<pre style=\"white-space:pre;overflow-x:auto;line-height:normal;font-family:Menlo,'DejaVu Sans Mono',consolas,'Courier New',monospace\">\n",
       "</pre>\n"
      ],
      "text/plain": [
       "\n"
      ]
     },
     "metadata": {},
     "output_type": "display_data"
    },
    {
     "data": {
      "text/html": [
       "<pre style=\"white-space:pre;overflow-x:auto;line-height:normal;font-family:Menlo,'DejaVu Sans Mono',consolas,'Courier New',monospace\">Reading secret from C:\\Users\\david\\Documents\\GitHub\\ds-network-analysis\\data\\my_secrets.yaml…\n",
       "</pre>\n"
      ],
      "text/plain": [
       "Reading secret from C:\\Users\\david\\Documents\\GitHub\\ds-network-analysis\\data\\my_secrets.yaml…\n"
      ]
     },
     "metadata": {},
     "output_type": "display_data"
    },
    {
     "data": {
      "text/html": [
       "<pre style=\"white-space:pre;overflow-x:auto;line-height:normal;font-family:Menlo,'DejaVu Sans Mono',consolas,'Courier New',monospace\"></pre>\n"
      ],
      "text/plain": []
     },
     "metadata": {},
     "output_type": "display_data"
    },
    {
     "data": {
      "text/html": [
       "<pre style=\"white-space:pre;overflow-x:auto;line-height:normal;font-family:Menlo,'DejaVu Sans Mono',consolas,'Courier New',monospace\">\n",
       "</pre>\n"
      ],
      "text/plain": [
       "\n"
      ]
     },
     "metadata": {},
     "output_type": "display_data"
    },
    {
     "data": {
      "text/html": [
       "<pre style=\"white-space:pre;overflow-x:auto;line-height:normal;font-family:Menlo,'DejaVu Sans Mono',consolas,'Courier New',monospace\">Reading secret from C:\\Users\\david\\Documents\\GitHub\\ds-network-analysis\\data\\my_secrets.yaml…\n",
       "</pre>\n"
      ],
      "text/plain": [
       "Reading secret from C:\\Users\\david\\Documents\\GitHub\\ds-network-analysis\\data\\my_secrets.yaml…\n"
      ]
     },
     "metadata": {},
     "output_type": "display_data"
    },
    {
     "data": {
      "text/html": [
       "<pre style=\"white-space:pre;overflow-x:auto;line-height:normal;font-family:Menlo,'DejaVu Sans Mono',consolas,'Courier New',monospace\"></pre>\n"
      ],
      "text/plain": []
     },
     "metadata": {},
     "output_type": "display_data"
    },
    {
     "data": {
      "text/html": [
       "<pre style=\"white-space:pre;overflow-x:auto;line-height:normal;font-family:Menlo,'DejaVu Sans Mono',consolas,'Courier New',monospace\">\n",
       "</pre>\n"
      ],
      "text/plain": [
       "\n"
      ]
     },
     "metadata": {},
     "output_type": "display_data"
    },
    {
     "data": {
      "text/html": [
       "<pre style=\"white-space:pre;overflow-x:auto;line-height:normal;font-family:Menlo,'DejaVu Sans Mono',consolas,'Courier New',monospace\">Reading secret from C:\\Users\\david\\Documents\\GitHub\\ds-network-analysis\\data\\my_secrets.yaml…\n",
       "</pre>\n"
      ],
      "text/plain": [
       "Reading secret from C:\\Users\\david\\Documents\\GitHub\\ds-network-analysis\\data\\my_secrets.yaml…\n"
      ]
     },
     "metadata": {},
     "output_type": "display_data"
    },
    {
     "data": {
      "text/html": [
       "<pre style=\"white-space:pre;overflow-x:auto;line-height:normal;font-family:Menlo,'DejaVu Sans Mono',consolas,'Courier New',monospace\"></pre>\n"
      ],
      "text/plain": []
     },
     "metadata": {},
     "output_type": "display_data"
    },
    {
     "data": {
      "text/html": [
       "<pre style=\"white-space:pre;overflow-x:auto;line-height:normal;font-family:Menlo,'DejaVu Sans Mono',consolas,'Courier New',monospace\">\n",
       "</pre>\n"
      ],
      "text/plain": [
       "\n"
      ]
     },
     "metadata": {},
     "output_type": "display_data"
    },
    {
     "data": {
      "text/html": [
       "<pre style=\"white-space:pre;overflow-x:auto;line-height:normal;font-family:Menlo,'DejaVu Sans Mono',consolas,'Courier New',monospace\">Reading secret from C:\\Users\\david\\Documents\\GitHub\\ds-network-analysis\\data\\my_secrets.yaml…\n",
       "</pre>\n"
      ],
      "text/plain": [
       "Reading secret from C:\\Users\\david\\Documents\\GitHub\\ds-network-analysis\\data\\my_secrets.yaml…\n"
      ]
     },
     "metadata": {},
     "output_type": "display_data"
    },
    {
     "data": {
      "text/html": [
       "<pre style=\"white-space:pre;overflow-x:auto;line-height:normal;font-family:Menlo,'DejaVu Sans Mono',consolas,'Courier New',monospace\"></pre>\n"
      ],
      "text/plain": []
     },
     "metadata": {},
     "output_type": "display_data"
    },
    {
     "data": {
      "text/html": [
       "<pre style=\"white-space:pre;overflow-x:auto;line-height:normal;font-family:Menlo,'DejaVu Sans Mono',consolas,'Courier New',monospace\">\n",
       "</pre>\n"
      ],
      "text/plain": [
       "\n"
      ]
     },
     "metadata": {},
     "output_type": "display_data"
    },
    {
     "data": {
      "text/html": [
       "<pre style=\"white-space:pre;overflow-x:auto;line-height:normal;font-family:Menlo,'DejaVu Sans Mono',consolas,'Courier New',monospace\">Reading secret from C:\\Users\\david\\Documents\\GitHub\\ds-network-analysis\\data\\my_secrets.yaml…\n",
       "</pre>\n"
      ],
      "text/plain": [
       "Reading secret from C:\\Users\\david\\Documents\\GitHub\\ds-network-analysis\\data\\my_secrets.yaml…\n"
      ]
     },
     "metadata": {},
     "output_type": "display_data"
    },
    {
     "data": {
      "text/html": [
       "<pre style=\"white-space:pre;overflow-x:auto;line-height:normal;font-family:Menlo,'DejaVu Sans Mono',consolas,'Courier New',monospace\"></pre>\n"
      ],
      "text/plain": []
     },
     "metadata": {},
     "output_type": "display_data"
    },
    {
     "data": {
      "text/html": [
       "<pre style=\"white-space:pre;overflow-x:auto;line-height:normal;font-family:Menlo,'DejaVu Sans Mono',consolas,'Courier New',monospace\">\n",
       "</pre>\n"
      ],
      "text/plain": [
       "\n"
      ]
     },
     "metadata": {},
     "output_type": "display_data"
    },
    {
     "data": {
      "text/html": [
       "<pre style=\"white-space:pre;overflow-x:auto;line-height:normal;font-family:Menlo,'DejaVu Sans Mono',consolas,'Courier New',monospace\">Reading secret from C:\\Users\\david\\Documents\\GitHub\\ds-network-analysis\\data\\my_secrets.yaml…\n",
       "</pre>\n"
      ],
      "text/plain": [
       "Reading secret from C:\\Users\\david\\Documents\\GitHub\\ds-network-analysis\\data\\my_secrets.yaml…\n"
      ]
     },
     "metadata": {},
     "output_type": "display_data"
    },
    {
     "data": {
      "text/html": [
       "<pre style=\"white-space:pre;overflow-x:auto;line-height:normal;font-family:Menlo,'DejaVu Sans Mono',consolas,'Courier New',monospace\"></pre>\n"
      ],
      "text/plain": []
     },
     "metadata": {},
     "output_type": "display_data"
    },
    {
     "data": {
      "text/html": [
       "<pre style=\"white-space:pre;overflow-x:auto;line-height:normal;font-family:Menlo,'DejaVu Sans Mono',consolas,'Courier New',monospace\">\n",
       "</pre>\n"
      ],
      "text/plain": [
       "\n"
      ]
     },
     "metadata": {},
     "output_type": "display_data"
    },
    {
     "data": {
      "text/html": [
       "<pre style=\"white-space:pre;overflow-x:auto;line-height:normal;font-family:Menlo,'DejaVu Sans Mono',consolas,'Courier New',monospace\">Reading secret from C:\\Users\\david\\Documents\\GitHub\\ds-network-analysis\\data\\my_secrets.yaml…\n",
       "</pre>\n"
      ],
      "text/plain": [
       "Reading secret from C:\\Users\\david\\Documents\\GitHub\\ds-network-analysis\\data\\my_secrets.yaml…\n"
      ]
     },
     "metadata": {},
     "output_type": "display_data"
    },
    {
     "data": {
      "text/html": [
       "<pre style=\"white-space:pre;overflow-x:auto;line-height:normal;font-family:Menlo,'DejaVu Sans Mono',consolas,'Courier New',monospace\"></pre>\n"
      ],
      "text/plain": []
     },
     "metadata": {},
     "output_type": "display_data"
    },
    {
     "data": {
      "text/html": [
       "<pre style=\"white-space:pre;overflow-x:auto;line-height:normal;font-family:Menlo,'DejaVu Sans Mono',consolas,'Courier New',monospace\">\n",
       "</pre>\n"
      ],
      "text/plain": [
       "\n"
      ]
     },
     "metadata": {},
     "output_type": "display_data"
    },
    {
     "data": {
      "text/html": [
       "<pre style=\"white-space:pre;overflow-x:auto;line-height:normal;font-family:Menlo,'DejaVu Sans Mono',consolas,'Courier New',monospace\">Reading secret from C:\\Users\\david\\Documents\\GitHub\\ds-network-analysis\\data\\my_secrets.yaml…\n",
       "</pre>\n"
      ],
      "text/plain": [
       "Reading secret from C:\\Users\\david\\Documents\\GitHub\\ds-network-analysis\\data\\my_secrets.yaml…\n"
      ]
     },
     "metadata": {},
     "output_type": "display_data"
    },
    {
     "data": {
      "text/html": [
       "<pre style=\"white-space:pre;overflow-x:auto;line-height:normal;font-family:Menlo,'DejaVu Sans Mono',consolas,'Courier New',monospace\"></pre>\n"
      ],
      "text/plain": []
     },
     "metadata": {},
     "output_type": "display_data"
    },
    {
     "data": {
      "text/html": [
       "<pre style=\"white-space:pre;overflow-x:auto;line-height:normal;font-family:Menlo,'DejaVu Sans Mono',consolas,'Courier New',monospace\">\n",
       "</pre>\n"
      ],
      "text/plain": [
       "\n"
      ]
     },
     "metadata": {},
     "output_type": "display_data"
    },
    {
     "data": {
      "text/html": [
       "<pre style=\"white-space:pre;overflow-x:auto;line-height:normal;font-family:Menlo,'DejaVu Sans Mono',consolas,'Courier New',monospace\">Reading secret from C:\\Users\\david\\Documents\\GitHub\\ds-network-analysis\\data\\my_secrets.yaml…\n",
       "</pre>\n"
      ],
      "text/plain": [
       "Reading secret from C:\\Users\\david\\Documents\\GitHub\\ds-network-analysis\\data\\my_secrets.yaml…\n"
      ]
     },
     "metadata": {},
     "output_type": "display_data"
    },
    {
     "data": {
      "text/html": [
       "<pre style=\"white-space:pre;overflow-x:auto;line-height:normal;font-family:Menlo,'DejaVu Sans Mono',consolas,'Courier New',monospace\"></pre>\n"
      ],
      "text/plain": []
     },
     "metadata": {},
     "output_type": "display_data"
    },
    {
     "data": {
      "text/html": [
       "<pre style=\"white-space:pre;overflow-x:auto;line-height:normal;font-family:Menlo,'DejaVu Sans Mono',consolas,'Courier New',monospace\">\n",
       "</pre>\n"
      ],
      "text/plain": [
       "\n"
      ]
     },
     "metadata": {},
     "output_type": "display_data"
    },
    {
     "data": {
      "text/html": [
       "<pre style=\"white-space:pre;overflow-x:auto;line-height:normal;font-family:Menlo,'DejaVu Sans Mono',consolas,'Courier New',monospace\">Reading secret from C:\\Users\\david\\Documents\\GitHub\\ds-network-analysis\\data\\my_secrets.yaml…\n",
       "</pre>\n"
      ],
      "text/plain": [
       "Reading secret from C:\\Users\\david\\Documents\\GitHub\\ds-network-analysis\\data\\my_secrets.yaml…\n"
      ]
     },
     "metadata": {},
     "output_type": "display_data"
    },
    {
     "data": {
      "text/html": [
       "<pre style=\"white-space:pre;overflow-x:auto;line-height:normal;font-family:Menlo,'DejaVu Sans Mono',consolas,'Courier New',monospace\"></pre>\n"
      ],
      "text/plain": []
     },
     "metadata": {},
     "output_type": "display_data"
    },
    {
     "data": {
      "text/html": [
       "<pre style=\"white-space:pre;overflow-x:auto;line-height:normal;font-family:Menlo,'DejaVu Sans Mono',consolas,'Courier New',monospace\">\n",
       "</pre>\n"
      ],
      "text/plain": [
       "\n"
      ]
     },
     "metadata": {},
     "output_type": "display_data"
    },
    {
     "data": {
      "text/html": [
       "<pre style=\"white-space:pre;overflow-x:auto;line-height:normal;font-family:Menlo,'DejaVu Sans Mono',consolas,'Courier New',monospace\">Reading secret from C:\\Users\\david\\Documents\\GitHub\\ds-network-analysis\\data\\my_secrets.yaml…\n",
       "</pre>\n"
      ],
      "text/plain": [
       "Reading secret from C:\\Users\\david\\Documents\\GitHub\\ds-network-analysis\\data\\my_secrets.yaml…\n"
      ]
     },
     "metadata": {},
     "output_type": "display_data"
    },
    {
     "data": {
      "text/html": [
       "<pre style=\"white-space:pre;overflow-x:auto;line-height:normal;font-family:Menlo,'DejaVu Sans Mono',consolas,'Courier New',monospace\"></pre>\n"
      ],
      "text/plain": []
     },
     "metadata": {},
     "output_type": "display_data"
    },
    {
     "data": {
      "text/html": [
       "<pre style=\"white-space:pre;overflow-x:auto;line-height:normal;font-family:Menlo,'DejaVu Sans Mono',consolas,'Courier New',monospace\">\n",
       "</pre>\n"
      ],
      "text/plain": [
       "\n"
      ]
     },
     "metadata": {},
     "output_type": "display_data"
    },
    {
     "data": {
      "text/html": [
       "<pre style=\"white-space:pre;overflow-x:auto;line-height:normal;font-family:Menlo,'DejaVu Sans Mono',consolas,'Courier New',monospace\">Reading secret from C:\\Users\\david\\Documents\\GitHub\\ds-network-analysis\\data\\my_secrets.yaml…\n",
       "</pre>\n"
      ],
      "text/plain": [
       "Reading secret from C:\\Users\\david\\Documents\\GitHub\\ds-network-analysis\\data\\my_secrets.yaml…\n"
      ]
     },
     "metadata": {},
     "output_type": "display_data"
    },
    {
     "data": {
      "text/html": [
       "<pre style=\"white-space:pre;overflow-x:auto;line-height:normal;font-family:Menlo,'DejaVu Sans Mono',consolas,'Courier New',monospace\"></pre>\n"
      ],
      "text/plain": []
     },
     "metadata": {},
     "output_type": "display_data"
    },
    {
     "data": {
      "text/html": [
       "<pre style=\"white-space:pre;overflow-x:auto;line-height:normal;font-family:Menlo,'DejaVu Sans Mono',consolas,'Courier New',monospace\">\n",
       "</pre>\n"
      ],
      "text/plain": [
       "\n"
      ]
     },
     "metadata": {},
     "output_type": "display_data"
    },
    {
     "data": {
      "text/html": [
       "<pre style=\"white-space:pre;overflow-x:auto;line-height:normal;font-family:Menlo,'DejaVu Sans Mono',consolas,'Courier New',monospace\">Reading secret from C:\\Users\\david\\Documents\\GitHub\\ds-network-analysis\\data\\my_secrets.yaml…\n",
       "</pre>\n"
      ],
      "text/plain": [
       "Reading secret from C:\\Users\\david\\Documents\\GitHub\\ds-network-analysis\\data\\my_secrets.yaml…\n"
      ]
     },
     "metadata": {},
     "output_type": "display_data"
    },
    {
     "data": {
      "text/html": [
       "<pre style=\"white-space:pre;overflow-x:auto;line-height:normal;font-family:Menlo,'DejaVu Sans Mono',consolas,'Courier New',monospace\"></pre>\n"
      ],
      "text/plain": []
     },
     "metadata": {},
     "output_type": "display_data"
    },
    {
     "data": {
      "text/html": [
       "<pre style=\"white-space:pre;overflow-x:auto;line-height:normal;font-family:Menlo,'DejaVu Sans Mono',consolas,'Courier New',monospace\">\n",
       "</pre>\n"
      ],
      "text/plain": [
       "\n"
      ]
     },
     "metadata": {},
     "output_type": "display_data"
    },
    {
     "data": {
      "text/html": [
       "<pre style=\"white-space:pre;overflow-x:auto;line-height:normal;font-family:Menlo,'DejaVu Sans Mono',consolas,'Courier New',monospace\">Reading secret from C:\\Users\\david\\Documents\\GitHub\\ds-network-analysis\\data\\my_secrets.yaml…\n",
       "</pre>\n"
      ],
      "text/plain": [
       "Reading secret from C:\\Users\\david\\Documents\\GitHub\\ds-network-analysis\\data\\my_secrets.yaml…\n"
      ]
     },
     "metadata": {},
     "output_type": "display_data"
    },
    {
     "data": {
      "text/html": [
       "<pre style=\"white-space:pre;overflow-x:auto;line-height:normal;font-family:Menlo,'DejaVu Sans Mono',consolas,'Courier New',monospace\"></pre>\n"
      ],
      "text/plain": []
     },
     "metadata": {},
     "output_type": "display_data"
    },
    {
     "data": {
      "text/html": [
       "<pre style=\"white-space:pre;overflow-x:auto;line-height:normal;font-family:Menlo,'DejaVu Sans Mono',consolas,'Courier New',monospace\">\n",
       "</pre>\n"
      ],
      "text/plain": [
       "\n"
      ]
     },
     "metadata": {},
     "output_type": "display_data"
    },
    {
     "data": {
      "text/html": [
       "<pre style=\"white-space:pre;overflow-x:auto;line-height:normal;font-family:Menlo,'DejaVu Sans Mono',consolas,'Courier New',monospace\">Reading secret from C:\\Users\\david\\Documents\\GitHub\\ds-network-analysis\\data\\my_secrets.yaml…\n",
       "</pre>\n"
      ],
      "text/plain": [
       "Reading secret from C:\\Users\\david\\Documents\\GitHub\\ds-network-analysis\\data\\my_secrets.yaml…\n"
      ]
     },
     "metadata": {},
     "output_type": "display_data"
    },
    {
     "data": {
      "text/html": [
       "<pre style=\"white-space:pre;overflow-x:auto;line-height:normal;font-family:Menlo,'DejaVu Sans Mono',consolas,'Courier New',monospace\"></pre>\n"
      ],
      "text/plain": []
     },
     "metadata": {},
     "output_type": "display_data"
    },
    {
     "data": {
      "text/html": [
       "<pre style=\"white-space:pre;overflow-x:auto;line-height:normal;font-family:Menlo,'DejaVu Sans Mono',consolas,'Courier New',monospace\">\n",
       "</pre>\n"
      ],
      "text/plain": [
       "\n"
      ]
     },
     "metadata": {},
     "output_type": "display_data"
    },
    {
     "data": {
      "text/html": [
       "<pre style=\"white-space:pre;overflow-x:auto;line-height:normal;font-family:Menlo,'DejaVu Sans Mono',consolas,'Courier New',monospace\">Reading secret from C:\\Users\\david\\Documents\\GitHub\\ds-network-analysis\\data\\my_secrets.yaml…\n",
       "</pre>\n"
      ],
      "text/plain": [
       "Reading secret from C:\\Users\\david\\Documents\\GitHub\\ds-network-analysis\\data\\my_secrets.yaml…\n"
      ]
     },
     "metadata": {},
     "output_type": "display_data"
    },
    {
     "data": {
      "text/html": [
       "<pre style=\"white-space:pre;overflow-x:auto;line-height:normal;font-family:Menlo,'DejaVu Sans Mono',consolas,'Courier New',monospace\"></pre>\n"
      ],
      "text/plain": []
     },
     "metadata": {},
     "output_type": "display_data"
    },
    {
     "data": {
      "text/html": [
       "<pre style=\"white-space:pre;overflow-x:auto;line-height:normal;font-family:Menlo,'DejaVu Sans Mono',consolas,'Courier New',monospace\">\n",
       "</pre>\n"
      ],
      "text/plain": [
       "\n"
      ]
     },
     "metadata": {},
     "output_type": "display_data"
    },
    {
     "data": {
      "text/html": [
       "<pre style=\"white-space:pre;overflow-x:auto;line-height:normal;font-family:Menlo,'DejaVu Sans Mono',consolas,'Courier New',monospace\">Reading secret from C:\\Users\\david\\Documents\\GitHub\\ds-network-analysis\\data\\my_secrets.yaml…\n",
       "</pre>\n"
      ],
      "text/plain": [
       "Reading secret from C:\\Users\\david\\Documents\\GitHub\\ds-network-analysis\\data\\my_secrets.yaml…\n"
      ]
     },
     "metadata": {},
     "output_type": "display_data"
    },
    {
     "data": {
      "text/html": [
       "<pre style=\"white-space:pre;overflow-x:auto;line-height:normal;font-family:Menlo,'DejaVu Sans Mono',consolas,'Courier New',monospace\"></pre>\n"
      ],
      "text/plain": []
     },
     "metadata": {},
     "output_type": "display_data"
    },
    {
     "data": {
      "text/html": [
       "<pre style=\"white-space:pre;overflow-x:auto;line-height:normal;font-family:Menlo,'DejaVu Sans Mono',consolas,'Courier New',monospace\">\n",
       "</pre>\n"
      ],
      "text/plain": [
       "\n"
      ]
     },
     "metadata": {},
     "output_type": "display_data"
    },
    {
     "data": {
      "text/html": [
       "<pre style=\"white-space:pre;overflow-x:auto;line-height:normal;font-family:Menlo,'DejaVu Sans Mono',consolas,'Courier New',monospace\">Reading secret from C:\\Users\\david\\Documents\\GitHub\\ds-network-analysis\\data\\my_secrets.yaml…\n",
       "</pre>\n"
      ],
      "text/plain": [
       "Reading secret from C:\\Users\\david\\Documents\\GitHub\\ds-network-analysis\\data\\my_secrets.yaml…\n"
      ]
     },
     "metadata": {},
     "output_type": "display_data"
    },
    {
     "data": {
      "text/html": [
       "<pre style=\"white-space:pre;overflow-x:auto;line-height:normal;font-family:Menlo,'DejaVu Sans Mono',consolas,'Courier New',monospace\"></pre>\n"
      ],
      "text/plain": []
     },
     "metadata": {},
     "output_type": "display_data"
    },
    {
     "data": {
      "text/html": [
       "<pre style=\"white-space:pre;overflow-x:auto;line-height:normal;font-family:Menlo,'DejaVu Sans Mono',consolas,'Courier New',monospace\">\n",
       "</pre>\n"
      ],
      "text/plain": [
       "\n"
      ]
     },
     "metadata": {},
     "output_type": "display_data"
    },
    {
     "data": {
      "text/html": [
       "<pre style=\"white-space:pre;overflow-x:auto;line-height:normal;font-family:Menlo,'DejaVu Sans Mono',consolas,'Courier New',monospace\">Reading secret from C:\\Users\\david\\Documents\\GitHub\\ds-network-analysis\\data\\my_secrets.yaml…\n",
       "</pre>\n"
      ],
      "text/plain": [
       "Reading secret from C:\\Users\\david\\Documents\\GitHub\\ds-network-analysis\\data\\my_secrets.yaml…\n"
      ]
     },
     "metadata": {},
     "output_type": "display_data"
    },
    {
     "data": {
      "text/html": [
       "<pre style=\"white-space:pre;overflow-x:auto;line-height:normal;font-family:Menlo,'DejaVu Sans Mono',consolas,'Courier New',monospace\"></pre>\n"
      ],
      "text/plain": []
     },
     "metadata": {},
     "output_type": "display_data"
    },
    {
     "data": {
      "text/html": [
       "<pre style=\"white-space:pre;overflow-x:auto;line-height:normal;font-family:Menlo,'DejaVu Sans Mono',consolas,'Courier New',monospace\">\n",
       "</pre>\n"
      ],
      "text/plain": [
       "\n"
      ]
     },
     "metadata": {},
     "output_type": "display_data"
    },
    {
     "data": {
      "text/html": [
       "<pre style=\"white-space:pre;overflow-x:auto;line-height:normal;font-family:Menlo,'DejaVu Sans Mono',consolas,'Courier New',monospace\">Reading secret from C:\\Users\\david\\Documents\\GitHub\\ds-network-analysis\\data\\my_secrets.yaml…\n",
       "</pre>\n"
      ],
      "text/plain": [
       "Reading secret from C:\\Users\\david\\Documents\\GitHub\\ds-network-analysis\\data\\my_secrets.yaml…\n"
      ]
     },
     "metadata": {},
     "output_type": "display_data"
    },
    {
     "data": {
      "text/html": [
       "<pre style=\"white-space:pre;overflow-x:auto;line-height:normal;font-family:Menlo,'DejaVu Sans Mono',consolas,'Courier New',monospace\"></pre>\n"
      ],
      "text/plain": []
     },
     "metadata": {},
     "output_type": "display_data"
    },
    {
     "data": {
      "text/html": [
       "<pre style=\"white-space:pre;overflow-x:auto;line-height:normal;font-family:Menlo,'DejaVu Sans Mono',consolas,'Courier New',monospace\">\n",
       "</pre>\n"
      ],
      "text/plain": [
       "\n"
      ]
     },
     "metadata": {},
     "output_type": "display_data"
    },
    {
     "data": {
      "text/html": [
       "<pre style=\"white-space:pre;overflow-x:auto;line-height:normal;font-family:Menlo,'DejaVu Sans Mono',consolas,'Courier New',monospace\">Reading secret from C:\\Users\\david\\Documents\\GitHub\\ds-network-analysis\\data\\my_secrets.yaml…\n",
       "</pre>\n"
      ],
      "text/plain": [
       "Reading secret from C:\\Users\\david\\Documents\\GitHub\\ds-network-analysis\\data\\my_secrets.yaml…\n"
      ]
     },
     "metadata": {},
     "output_type": "display_data"
    },
    {
     "data": {
      "text/html": [
       "<pre style=\"white-space:pre;overflow-x:auto;line-height:normal;font-family:Menlo,'DejaVu Sans Mono',consolas,'Courier New',monospace\"></pre>\n"
      ],
      "text/plain": []
     },
     "metadata": {},
     "output_type": "display_data"
    },
    {
     "data": {
      "text/html": [
       "<pre style=\"white-space:pre;overflow-x:auto;line-height:normal;font-family:Menlo,'DejaVu Sans Mono',consolas,'Courier New',monospace\">\n",
       "</pre>\n"
      ],
      "text/plain": [
       "\n"
      ]
     },
     "metadata": {},
     "output_type": "display_data"
    },
    {
     "data": {
      "text/html": [
       "<pre style=\"white-space:pre;overflow-x:auto;line-height:normal;font-family:Menlo,'DejaVu Sans Mono',consolas,'Courier New',monospace\">Reading secret from C:\\Users\\david\\Documents\\GitHub\\ds-network-analysis\\data\\my_secrets.yaml…\n",
       "</pre>\n"
      ],
      "text/plain": [
       "Reading secret from C:\\Users\\david\\Documents\\GitHub\\ds-network-analysis\\data\\my_secrets.yaml…\n"
      ]
     },
     "metadata": {},
     "output_type": "display_data"
    },
    {
     "data": {
      "text/html": [
       "<pre style=\"white-space:pre;overflow-x:auto;line-height:normal;font-family:Menlo,'DejaVu Sans Mono',consolas,'Courier New',monospace\"></pre>\n"
      ],
      "text/plain": []
     },
     "metadata": {},
     "output_type": "display_data"
    },
    {
     "data": {
      "text/html": [
       "<pre style=\"white-space:pre;overflow-x:auto;line-height:normal;font-family:Menlo,'DejaVu Sans Mono',consolas,'Courier New',monospace\">\n",
       "</pre>\n"
      ],
      "text/plain": [
       "\n"
      ]
     },
     "metadata": {},
     "output_type": "display_data"
    },
    {
     "data": {
      "text/html": [
       "<pre style=\"white-space:pre;overflow-x:auto;line-height:normal;font-family:Menlo,'DejaVu Sans Mono',consolas,'Courier New',monospace\">Reading secret from C:\\Users\\david\\Documents\\GitHub\\ds-network-analysis\\data\\my_secrets.yaml…\n",
       "</pre>\n"
      ],
      "text/plain": [
       "Reading secret from C:\\Users\\david\\Documents\\GitHub\\ds-network-analysis\\data\\my_secrets.yaml…\n"
      ]
     },
     "metadata": {},
     "output_type": "display_data"
    },
    {
     "data": {
      "text/html": [
       "<pre style=\"white-space:pre;overflow-x:auto;line-height:normal;font-family:Menlo,'DejaVu Sans Mono',consolas,'Courier New',monospace\"></pre>\n"
      ],
      "text/plain": []
     },
     "metadata": {},
     "output_type": "display_data"
    },
    {
     "data": {
      "text/html": [
       "<pre style=\"white-space:pre;overflow-x:auto;line-height:normal;font-family:Menlo,'DejaVu Sans Mono',consolas,'Courier New',monospace\">\n",
       "</pre>\n"
      ],
      "text/plain": [
       "\n"
      ]
     },
     "metadata": {},
     "output_type": "display_data"
    },
    {
     "data": {
      "text/html": [
       "<pre style=\"white-space:pre;overflow-x:auto;line-height:normal;font-family:Menlo,'DejaVu Sans Mono',consolas,'Courier New',monospace\">Reading secret from C:\\Users\\david\\Documents\\GitHub\\ds-network-analysis\\data\\my_secrets.yaml…\n",
       "</pre>\n"
      ],
      "text/plain": [
       "Reading secret from C:\\Users\\david\\Documents\\GitHub\\ds-network-analysis\\data\\my_secrets.yaml…\n"
      ]
     },
     "metadata": {},
     "output_type": "display_data"
    },
    {
     "data": {
      "text/html": [
       "<pre style=\"white-space:pre;overflow-x:auto;line-height:normal;font-family:Menlo,'DejaVu Sans Mono',consolas,'Courier New',monospace\"></pre>\n"
      ],
      "text/plain": []
     },
     "metadata": {},
     "output_type": "display_data"
    },
    {
     "data": {
      "text/html": [
       "<pre style=\"white-space:pre;overflow-x:auto;line-height:normal;font-family:Menlo,'DejaVu Sans Mono',consolas,'Courier New',monospace\">\n",
       "</pre>\n"
      ],
      "text/plain": [
       "\n"
      ]
     },
     "metadata": {},
     "output_type": "display_data"
    },
    {
     "data": {
      "text/html": [
       "<pre style=\"white-space:pre;overflow-x:auto;line-height:normal;font-family:Menlo,'DejaVu Sans Mono',consolas,'Courier New',monospace\">Reading secret from C:\\Users\\david\\Documents\\GitHub\\ds-network-analysis\\data\\my_secrets.yaml…\n",
       "</pre>\n"
      ],
      "text/plain": [
       "Reading secret from C:\\Users\\david\\Documents\\GitHub\\ds-network-analysis\\data\\my_secrets.yaml…\n"
      ]
     },
     "metadata": {},
     "output_type": "display_data"
    },
    {
     "data": {
      "text/html": [
       "<pre style=\"white-space:pre;overflow-x:auto;line-height:normal;font-family:Menlo,'DejaVu Sans Mono',consolas,'Courier New',monospace\"></pre>\n"
      ],
      "text/plain": []
     },
     "metadata": {},
     "output_type": "display_data"
    },
    {
     "data": {
      "text/html": [
       "<pre style=\"white-space:pre;overflow-x:auto;line-height:normal;font-family:Menlo,'DejaVu Sans Mono',consolas,'Courier New',monospace\">\n",
       "</pre>\n"
      ],
      "text/plain": [
       "\n"
      ]
     },
     "metadata": {},
     "output_type": "display_data"
    },
    {
     "data": {
      "text/html": [
       "<pre style=\"white-space:pre;overflow-x:auto;line-height:normal;font-family:Menlo,'DejaVu Sans Mono',consolas,'Courier New',monospace\">Reading secret from C:\\Users\\david\\Documents\\GitHub\\ds-network-analysis\\data\\my_secrets.yaml…\n",
       "</pre>\n"
      ],
      "text/plain": [
       "Reading secret from C:\\Users\\david\\Documents\\GitHub\\ds-network-analysis\\data\\my_secrets.yaml…\n"
      ]
     },
     "metadata": {},
     "output_type": "display_data"
    },
    {
     "data": {
      "text/html": [
       "<pre style=\"white-space:pre;overflow-x:auto;line-height:normal;font-family:Menlo,'DejaVu Sans Mono',consolas,'Courier New',monospace\"></pre>\n"
      ],
      "text/plain": []
     },
     "metadata": {},
     "output_type": "display_data"
    },
    {
     "data": {
      "text/html": [
       "<pre style=\"white-space:pre;overflow-x:auto;line-height:normal;font-family:Menlo,'DejaVu Sans Mono',consolas,'Courier New',monospace\">\n",
       "</pre>\n"
      ],
      "text/plain": [
       "\n"
      ]
     },
     "metadata": {},
     "output_type": "display_data"
    },
    {
     "data": {
      "text/html": [
       "<pre style=\"white-space:pre;overflow-x:auto;line-height:normal;font-family:Menlo,'DejaVu Sans Mono',consolas,'Courier New',monospace\">Reading secret from C:\\Users\\david\\Documents\\GitHub\\ds-network-analysis\\data\\my_secrets.yaml…\n",
       "</pre>\n"
      ],
      "text/plain": [
       "Reading secret from C:\\Users\\david\\Documents\\GitHub\\ds-network-analysis\\data\\my_secrets.yaml…\n"
      ]
     },
     "metadata": {},
     "output_type": "display_data"
    },
    {
     "data": {
      "text/html": [
       "<pre style=\"white-space:pre;overflow-x:auto;line-height:normal;font-family:Menlo,'DejaVu Sans Mono',consolas,'Courier New',monospace\"></pre>\n"
      ],
      "text/plain": []
     },
     "metadata": {},
     "output_type": "display_data"
    },
    {
     "data": {
      "text/html": [
       "<pre style=\"white-space:pre;overflow-x:auto;line-height:normal;font-family:Menlo,'DejaVu Sans Mono',consolas,'Courier New',monospace\">\n",
       "</pre>\n"
      ],
      "text/plain": [
       "\n"
      ]
     },
     "metadata": {},
     "output_type": "display_data"
    },
    {
     "data": {
      "text/html": [
       "<pre style=\"white-space:pre;overflow-x:auto;line-height:normal;font-family:Menlo,'DejaVu Sans Mono',consolas,'Courier New',monospace\">Reading secret from C:\\Users\\david\\Documents\\GitHub\\ds-network-analysis\\data\\my_secrets.yaml…\n",
       "</pre>\n"
      ],
      "text/plain": [
       "Reading secret from C:\\Users\\david\\Documents\\GitHub\\ds-network-analysis\\data\\my_secrets.yaml…\n"
      ]
     },
     "metadata": {},
     "output_type": "display_data"
    },
    {
     "data": {
      "text/html": [
       "<pre style=\"white-space:pre;overflow-x:auto;line-height:normal;font-family:Menlo,'DejaVu Sans Mono',consolas,'Courier New',monospace\"></pre>\n"
      ],
      "text/plain": []
     },
     "metadata": {},
     "output_type": "display_data"
    },
    {
     "data": {
      "text/html": [
       "<pre style=\"white-space:pre;overflow-x:auto;line-height:normal;font-family:Menlo,'DejaVu Sans Mono',consolas,'Courier New',monospace\">\n",
       "</pre>\n"
      ],
      "text/plain": [
       "\n"
      ]
     },
     "metadata": {},
     "output_type": "display_data"
    },
    {
     "data": {
      "text/html": [
       "<pre style=\"white-space:pre;overflow-x:auto;line-height:normal;font-family:Menlo,'DejaVu Sans Mono',consolas,'Courier New',monospace\">Reading secret from C:\\Users\\david\\Documents\\GitHub\\ds-network-analysis\\data\\my_secrets.yaml…\n",
       "</pre>\n"
      ],
      "text/plain": [
       "Reading secret from C:\\Users\\david\\Documents\\GitHub\\ds-network-analysis\\data\\my_secrets.yaml…\n"
      ]
     },
     "metadata": {},
     "output_type": "display_data"
    },
    {
     "data": {
      "text/html": [
       "<pre style=\"white-space:pre;overflow-x:auto;line-height:normal;font-family:Menlo,'DejaVu Sans Mono',consolas,'Courier New',monospace\"></pre>\n"
      ],
      "text/plain": []
     },
     "metadata": {},
     "output_type": "display_data"
    },
    {
     "data": {
      "text/html": [
       "<pre style=\"white-space:pre;overflow-x:auto;line-height:normal;font-family:Menlo,'DejaVu Sans Mono',consolas,'Courier New',monospace\">\n",
       "</pre>\n"
      ],
      "text/plain": [
       "\n"
      ]
     },
     "metadata": {},
     "output_type": "display_data"
    },
    {
     "data": {
      "text/html": [
       "<pre style=\"white-space:pre;overflow-x:auto;line-height:normal;font-family:Menlo,'DejaVu Sans Mono',consolas,'Courier New',monospace\">Reading secret from C:\\Users\\david\\Documents\\GitHub\\ds-network-analysis\\data\\my_secrets.yaml…\n",
       "</pre>\n"
      ],
      "text/plain": [
       "Reading secret from C:\\Users\\david\\Documents\\GitHub\\ds-network-analysis\\data\\my_secrets.yaml…\n"
      ]
     },
     "metadata": {},
     "output_type": "display_data"
    },
    {
     "data": {
      "text/html": [
       "<pre style=\"white-space:pre;overflow-x:auto;line-height:normal;font-family:Menlo,'DejaVu Sans Mono',consolas,'Courier New',monospace\"></pre>\n"
      ],
      "text/plain": []
     },
     "metadata": {},
     "output_type": "display_data"
    },
    {
     "data": {
      "text/html": [
       "<pre style=\"white-space:pre;overflow-x:auto;line-height:normal;font-family:Menlo,'DejaVu Sans Mono',consolas,'Courier New',monospace\">\n",
       "</pre>\n"
      ],
      "text/plain": [
       "\n"
      ]
     },
     "metadata": {},
     "output_type": "display_data"
    },
    {
     "data": {
      "text/html": [
       "<pre style=\"white-space:pre;overflow-x:auto;line-height:normal;font-family:Menlo,'DejaVu Sans Mono',consolas,'Courier New',monospace\">Reading secret from C:\\Users\\david\\Documents\\GitHub\\ds-network-analysis\\data\\my_secrets.yaml…\n",
       "</pre>\n"
      ],
      "text/plain": [
       "Reading secret from C:\\Users\\david\\Documents\\GitHub\\ds-network-analysis\\data\\my_secrets.yaml…\n"
      ]
     },
     "metadata": {},
     "output_type": "display_data"
    },
    {
     "data": {
      "text/html": [
       "<pre style=\"white-space:pre;overflow-x:auto;line-height:normal;font-family:Menlo,'DejaVu Sans Mono',consolas,'Courier New',monospace\"></pre>\n"
      ],
      "text/plain": []
     },
     "metadata": {},
     "output_type": "display_data"
    },
    {
     "data": {
      "text/html": [
       "<pre style=\"white-space:pre;overflow-x:auto;line-height:normal;font-family:Menlo,'DejaVu Sans Mono',consolas,'Courier New',monospace\">\n",
       "</pre>\n"
      ],
      "text/plain": [
       "\n"
      ]
     },
     "metadata": {},
     "output_type": "display_data"
    },
    {
     "data": {
      "text/html": [
       "<pre style=\"white-space:pre;overflow-x:auto;line-height:normal;font-family:Menlo,'DejaVu Sans Mono',consolas,'Courier New',monospace\">Reading secret from C:\\Users\\david\\Documents\\GitHub\\ds-network-analysis\\data\\my_secrets.yaml…\n",
       "</pre>\n"
      ],
      "text/plain": [
       "Reading secret from C:\\Users\\david\\Documents\\GitHub\\ds-network-analysis\\data\\my_secrets.yaml…\n"
      ]
     },
     "metadata": {},
     "output_type": "display_data"
    },
    {
     "data": {
      "text/html": [
       "<pre style=\"white-space:pre;overflow-x:auto;line-height:normal;font-family:Menlo,'DejaVu Sans Mono',consolas,'Courier New',monospace\"></pre>\n"
      ],
      "text/plain": []
     },
     "metadata": {},
     "output_type": "display_data"
    },
    {
     "data": {
      "text/html": [
       "<pre style=\"white-space:pre;overflow-x:auto;line-height:normal;font-family:Menlo,'DejaVu Sans Mono',consolas,'Courier New',monospace\">\n",
       "</pre>\n"
      ],
      "text/plain": [
       "\n"
      ]
     },
     "metadata": {},
     "output_type": "display_data"
    },
    {
     "data": {
      "text/html": [
       "<pre style=\"white-space:pre;overflow-x:auto;line-height:normal;font-family:Menlo,'DejaVu Sans Mono',consolas,'Courier New',monospace\">Reading secret from C:\\Users\\david\\Documents\\GitHub\\ds-network-analysis\\data\\my_secrets.yaml…\n",
       "</pre>\n"
      ],
      "text/plain": [
       "Reading secret from C:\\Users\\david\\Documents\\GitHub\\ds-network-analysis\\data\\my_secrets.yaml…\n"
      ]
     },
     "metadata": {},
     "output_type": "display_data"
    },
    {
     "data": {
      "text/html": [
       "<pre style=\"white-space:pre;overflow-x:auto;line-height:normal;font-family:Menlo,'DejaVu Sans Mono',consolas,'Courier New',monospace\"></pre>\n"
      ],
      "text/plain": []
     },
     "metadata": {},
     "output_type": "display_data"
    },
    {
     "data": {
      "text/html": [
       "<pre style=\"white-space:pre;overflow-x:auto;line-height:normal;font-family:Menlo,'DejaVu Sans Mono',consolas,'Courier New',monospace\">\n",
       "</pre>\n"
      ],
      "text/plain": [
       "\n"
      ]
     },
     "metadata": {},
     "output_type": "display_data"
    },
    {
     "data": {
      "text/html": [
       "<pre style=\"white-space:pre;overflow-x:auto;line-height:normal;font-family:Menlo,'DejaVu Sans Mono',consolas,'Courier New',monospace\">Reading secret from C:\\Users\\david\\Documents\\GitHub\\ds-network-analysis\\data\\my_secrets.yaml…\n",
       "</pre>\n"
      ],
      "text/plain": [
       "Reading secret from C:\\Users\\david\\Documents\\GitHub\\ds-network-analysis\\data\\my_secrets.yaml…\n"
      ]
     },
     "metadata": {},
     "output_type": "display_data"
    },
    {
     "data": {
      "text/html": [
       "<pre style=\"white-space:pre;overflow-x:auto;line-height:normal;font-family:Menlo,'DejaVu Sans Mono',consolas,'Courier New',monospace\"></pre>\n"
      ],
      "text/plain": []
     },
     "metadata": {},
     "output_type": "display_data"
    },
    {
     "data": {
      "text/html": [
       "<pre style=\"white-space:pre;overflow-x:auto;line-height:normal;font-family:Menlo,'DejaVu Sans Mono',consolas,'Courier New',monospace\">\n",
       "</pre>\n"
      ],
      "text/plain": [
       "\n"
      ]
     },
     "metadata": {},
     "output_type": "display_data"
    },
    {
     "data": {
      "text/html": [
       "<pre style=\"white-space:pre;overflow-x:auto;line-height:normal;font-family:Menlo,'DejaVu Sans Mono',consolas,'Courier New',monospace\">Reading secret from C:\\Users\\david\\Documents\\GitHub\\ds-network-analysis\\data\\my_secrets.yaml…\n",
       "</pre>\n"
      ],
      "text/plain": [
       "Reading secret from C:\\Users\\david\\Documents\\GitHub\\ds-network-analysis\\data\\my_secrets.yaml…\n"
      ]
     },
     "metadata": {},
     "output_type": "display_data"
    },
    {
     "data": {
      "text/html": [
       "<pre style=\"white-space:pre;overflow-x:auto;line-height:normal;font-family:Menlo,'DejaVu Sans Mono',consolas,'Courier New',monospace\"></pre>\n"
      ],
      "text/plain": []
     },
     "metadata": {},
     "output_type": "display_data"
    },
    {
     "data": {
      "text/html": [
       "<pre style=\"white-space:pre;overflow-x:auto;line-height:normal;font-family:Menlo,'DejaVu Sans Mono',consolas,'Courier New',monospace\">\n",
       "</pre>\n"
      ],
      "text/plain": [
       "\n"
      ]
     },
     "metadata": {},
     "output_type": "display_data"
    },
    {
     "data": {
      "text/html": [
       "<pre style=\"white-space:pre;overflow-x:auto;line-height:normal;font-family:Menlo,'DejaVu Sans Mono',consolas,'Courier New',monospace\">Reading secret from C:\\Users\\david\\Documents\\GitHub\\ds-network-analysis\\data\\my_secrets.yaml…\n",
       "</pre>\n"
      ],
      "text/plain": [
       "Reading secret from C:\\Users\\david\\Documents\\GitHub\\ds-network-analysis\\data\\my_secrets.yaml…\n"
      ]
     },
     "metadata": {},
     "output_type": "display_data"
    },
    {
     "data": {
      "text/html": [
       "<pre style=\"white-space:pre;overflow-x:auto;line-height:normal;font-family:Menlo,'DejaVu Sans Mono',consolas,'Courier New',monospace\"></pre>\n"
      ],
      "text/plain": []
     },
     "metadata": {},
     "output_type": "display_data"
    },
    {
     "data": {
      "text/html": [
       "<pre style=\"white-space:pre;overflow-x:auto;line-height:normal;font-family:Menlo,'DejaVu Sans Mono',consolas,'Courier New',monospace\">\n",
       "</pre>\n"
      ],
      "text/plain": [
       "\n"
      ]
     },
     "metadata": {},
     "output_type": "display_data"
    },
    {
     "data": {
      "text/html": [
       "<pre style=\"white-space:pre;overflow-x:auto;line-height:normal;font-family:Menlo,'DejaVu Sans Mono',consolas,'Courier New',monospace\">Reading secret from C:\\Users\\david\\Documents\\GitHub\\ds-network-analysis\\data\\my_secrets.yaml…\n",
       "</pre>\n"
      ],
      "text/plain": [
       "Reading secret from C:\\Users\\david\\Documents\\GitHub\\ds-network-analysis\\data\\my_secrets.yaml…\n"
      ]
     },
     "metadata": {},
     "output_type": "display_data"
    },
    {
     "data": {
      "text/html": [
       "<pre style=\"white-space:pre;overflow-x:auto;line-height:normal;font-family:Menlo,'DejaVu Sans Mono',consolas,'Courier New',monospace\"></pre>\n"
      ],
      "text/plain": []
     },
     "metadata": {},
     "output_type": "display_data"
    },
    {
     "data": {
      "text/html": [
       "<pre style=\"white-space:pre;overflow-x:auto;line-height:normal;font-family:Menlo,'DejaVu Sans Mono',consolas,'Courier New',monospace\">\n",
       "</pre>\n"
      ],
      "text/plain": [
       "\n"
      ]
     },
     "metadata": {},
     "output_type": "display_data"
    },
    {
     "data": {
      "text/html": [
       "<pre style=\"white-space:pre;overflow-x:auto;line-height:normal;font-family:Menlo,'DejaVu Sans Mono',consolas,'Courier New',monospace\">Reading secret from C:\\Users\\david\\Documents\\GitHub\\ds-network-analysis\\data\\my_secrets.yaml…\n",
       "</pre>\n"
      ],
      "text/plain": [
       "Reading secret from C:\\Users\\david\\Documents\\GitHub\\ds-network-analysis\\data\\my_secrets.yaml…\n"
      ]
     },
     "metadata": {},
     "output_type": "display_data"
    },
    {
     "data": {
      "text/html": [
       "<pre style=\"white-space:pre;overflow-x:auto;line-height:normal;font-family:Menlo,'DejaVu Sans Mono',consolas,'Courier New',monospace\"></pre>\n"
      ],
      "text/plain": []
     },
     "metadata": {},
     "output_type": "display_data"
    },
    {
     "data": {
      "text/html": [
       "<pre style=\"white-space:pre;overflow-x:auto;line-height:normal;font-family:Menlo,'DejaVu Sans Mono',consolas,'Courier New',monospace\">\n",
       "</pre>\n"
      ],
      "text/plain": [
       "\n"
      ]
     },
     "metadata": {},
     "output_type": "display_data"
    },
    {
     "data": {
      "text/html": [
       "<pre style=\"white-space:pre;overflow-x:auto;line-height:normal;font-family:Menlo,'DejaVu Sans Mono',consolas,'Courier New',monospace\">Reading secret from C:\\Users\\david\\Documents\\GitHub\\ds-network-analysis\\data\\my_secrets.yaml…\n",
       "</pre>\n"
      ],
      "text/plain": [
       "Reading secret from C:\\Users\\david\\Documents\\GitHub\\ds-network-analysis\\data\\my_secrets.yaml…\n"
      ]
     },
     "metadata": {},
     "output_type": "display_data"
    },
    {
     "data": {
      "text/html": [
       "<pre style=\"white-space:pre;overflow-x:auto;line-height:normal;font-family:Menlo,'DejaVu Sans Mono',consolas,'Courier New',monospace\"></pre>\n"
      ],
      "text/plain": []
     },
     "metadata": {},
     "output_type": "display_data"
    },
    {
     "data": {
      "text/html": [
       "<pre style=\"white-space:pre;overflow-x:auto;line-height:normal;font-family:Menlo,'DejaVu Sans Mono',consolas,'Courier New',monospace\">\n",
       "</pre>\n"
      ],
      "text/plain": [
       "\n"
      ]
     },
     "metadata": {},
     "output_type": "display_data"
    },
    {
     "data": {
      "text/html": [
       "<pre style=\"white-space:pre;overflow-x:auto;line-height:normal;font-family:Menlo,'DejaVu Sans Mono',consolas,'Courier New',monospace\">Reading secret from C:\\Users\\david\\Documents\\GitHub\\ds-network-analysis\\data\\my_secrets.yaml…\n",
       "</pre>\n"
      ],
      "text/plain": [
       "Reading secret from C:\\Users\\david\\Documents\\GitHub\\ds-network-analysis\\data\\my_secrets.yaml…\n"
      ]
     },
     "metadata": {},
     "output_type": "display_data"
    },
    {
     "data": {
      "text/html": [
       "<pre style=\"white-space:pre;overflow-x:auto;line-height:normal;font-family:Menlo,'DejaVu Sans Mono',consolas,'Courier New',monospace\"></pre>\n"
      ],
      "text/plain": []
     },
     "metadata": {},
     "output_type": "display_data"
    },
    {
     "data": {
      "text/html": [
       "<pre style=\"white-space:pre;overflow-x:auto;line-height:normal;font-family:Menlo,'DejaVu Sans Mono',consolas,'Courier New',monospace\">\n",
       "</pre>\n"
      ],
      "text/plain": [
       "\n"
      ]
     },
     "metadata": {},
     "output_type": "display_data"
    },
    {
     "data": {
      "text/html": [
       "<pre style=\"white-space:pre;overflow-x:auto;line-height:normal;font-family:Menlo,'DejaVu Sans Mono',consolas,'Courier New',monospace\">Reading secret from C:\\Users\\david\\Documents\\GitHub\\ds-network-analysis\\data\\my_secrets.yaml…\n",
       "</pre>\n"
      ],
      "text/plain": [
       "Reading secret from C:\\Users\\david\\Documents\\GitHub\\ds-network-analysis\\data\\my_secrets.yaml…\n"
      ]
     },
     "metadata": {},
     "output_type": "display_data"
    },
    {
     "data": {
      "text/html": [
       "<pre style=\"white-space:pre;overflow-x:auto;line-height:normal;font-family:Menlo,'DejaVu Sans Mono',consolas,'Courier New',monospace\"></pre>\n"
      ],
      "text/plain": []
     },
     "metadata": {},
     "output_type": "display_data"
    },
    {
     "data": {
      "text/html": [
       "<pre style=\"white-space:pre;overflow-x:auto;line-height:normal;font-family:Menlo,'DejaVu Sans Mono',consolas,'Courier New',monospace\">\n",
       "</pre>\n"
      ],
      "text/plain": [
       "\n"
      ]
     },
     "metadata": {},
     "output_type": "display_data"
    },
    {
     "data": {
      "text/html": [
       "<pre style=\"white-space:pre;overflow-x:auto;line-height:normal;font-family:Menlo,'DejaVu Sans Mono',consolas,'Courier New',monospace\">Reading secret from C:\\Users\\david\\Documents\\GitHub\\ds-network-analysis\\data\\my_secrets.yaml…\n",
       "</pre>\n"
      ],
      "text/plain": [
       "Reading secret from C:\\Users\\david\\Documents\\GitHub\\ds-network-analysis\\data\\my_secrets.yaml…\n"
      ]
     },
     "metadata": {},
     "output_type": "display_data"
    },
    {
     "data": {
      "text/html": [
       "<pre style=\"white-space:pre;overflow-x:auto;line-height:normal;font-family:Menlo,'DejaVu Sans Mono',consolas,'Courier New',monospace\"></pre>\n"
      ],
      "text/plain": []
     },
     "metadata": {},
     "output_type": "display_data"
    },
    {
     "data": {
      "text/html": [
       "<pre style=\"white-space:pre;overflow-x:auto;line-height:normal;font-family:Menlo,'DejaVu Sans Mono',consolas,'Courier New',monospace\">\n",
       "</pre>\n"
      ],
      "text/plain": [
       "\n"
      ]
     },
     "metadata": {},
     "output_type": "display_data"
    },
    {
     "data": {
      "text/html": [
       "<pre style=\"white-space:pre;overflow-x:auto;line-height:normal;font-family:Menlo,'DejaVu Sans Mono',consolas,'Courier New',monospace\">Reading secret from C:\\Users\\david\\Documents\\GitHub\\ds-network-analysis\\data\\my_secrets.yaml…\n",
       "</pre>\n"
      ],
      "text/plain": [
       "Reading secret from C:\\Users\\david\\Documents\\GitHub\\ds-network-analysis\\data\\my_secrets.yaml…\n"
      ]
     },
     "metadata": {},
     "output_type": "display_data"
    },
    {
     "data": {
      "text/html": [
       "<pre style=\"white-space:pre;overflow-x:auto;line-height:normal;font-family:Menlo,'DejaVu Sans Mono',consolas,'Courier New',monospace\"></pre>\n"
      ],
      "text/plain": []
     },
     "metadata": {},
     "output_type": "display_data"
    },
    {
     "data": {
      "text/html": [
       "<pre style=\"white-space:pre;overflow-x:auto;line-height:normal;font-family:Menlo,'DejaVu Sans Mono',consolas,'Courier New',monospace\">\n",
       "</pre>\n"
      ],
      "text/plain": [
       "\n"
      ]
     },
     "metadata": {},
     "output_type": "display_data"
    },
    {
     "data": {
      "text/html": [
       "<pre style=\"white-space:pre;overflow-x:auto;line-height:normal;font-family:Menlo,'DejaVu Sans Mono',consolas,'Courier New',monospace\">Reading secret from C:\\Users\\david\\Documents\\GitHub\\ds-network-analysis\\data\\my_secrets.yaml…\n",
       "</pre>\n"
      ],
      "text/plain": [
       "Reading secret from C:\\Users\\david\\Documents\\GitHub\\ds-network-analysis\\data\\my_secrets.yaml…\n"
      ]
     },
     "metadata": {},
     "output_type": "display_data"
    },
    {
     "data": {
      "text/html": [
       "<pre style=\"white-space:pre;overflow-x:auto;line-height:normal;font-family:Menlo,'DejaVu Sans Mono',consolas,'Courier New',monospace\"></pre>\n"
      ],
      "text/plain": []
     },
     "metadata": {},
     "output_type": "display_data"
    },
    {
     "data": {
      "text/html": [
       "<pre style=\"white-space:pre;overflow-x:auto;line-height:normal;font-family:Menlo,'DejaVu Sans Mono',consolas,'Courier New',monospace\">\n",
       "</pre>\n"
      ],
      "text/plain": [
       "\n"
      ]
     },
     "metadata": {},
     "output_type": "display_data"
    },
    {
     "data": {
      "text/html": [
       "<pre style=\"white-space:pre;overflow-x:auto;line-height:normal;font-family:Menlo,'DejaVu Sans Mono',consolas,'Courier New',monospace\">Reading secret from C:\\Users\\david\\Documents\\GitHub\\ds-network-analysis\\data\\my_secrets.yaml…\n",
       "</pre>\n"
      ],
      "text/plain": [
       "Reading secret from C:\\Users\\david\\Documents\\GitHub\\ds-network-analysis\\data\\my_secrets.yaml…\n"
      ]
     },
     "metadata": {},
     "output_type": "display_data"
    },
    {
     "data": {
      "text/html": [
       "<pre style=\"white-space:pre;overflow-x:auto;line-height:normal;font-family:Menlo,'DejaVu Sans Mono',consolas,'Courier New',monospace\"></pre>\n"
      ],
      "text/plain": []
     },
     "metadata": {},
     "output_type": "display_data"
    },
    {
     "data": {
      "text/html": [
       "<pre style=\"white-space:pre;overflow-x:auto;line-height:normal;font-family:Menlo,'DejaVu Sans Mono',consolas,'Courier New',monospace\">\n",
       "</pre>\n"
      ],
      "text/plain": [
       "\n"
      ]
     },
     "metadata": {},
     "output_type": "display_data"
    },
    {
     "data": {
      "text/html": [
       "<pre style=\"white-space:pre;overflow-x:auto;line-height:normal;font-family:Menlo,'DejaVu Sans Mono',consolas,'Courier New',monospace\">Reading secret from C:\\Users\\david\\Documents\\GitHub\\ds-network-analysis\\data\\my_secrets.yaml…\n",
       "</pre>\n"
      ],
      "text/plain": [
       "Reading secret from C:\\Users\\david\\Documents\\GitHub\\ds-network-analysis\\data\\my_secrets.yaml…\n"
      ]
     },
     "metadata": {},
     "output_type": "display_data"
    },
    {
     "data": {
      "text/html": [
       "<pre style=\"white-space:pre;overflow-x:auto;line-height:normal;font-family:Menlo,'DejaVu Sans Mono',consolas,'Courier New',monospace\"></pre>\n"
      ],
      "text/plain": []
     },
     "metadata": {},
     "output_type": "display_data"
    },
    {
     "data": {
      "text/html": [
       "<pre style=\"white-space:pre;overflow-x:auto;line-height:normal;font-family:Menlo,'DejaVu Sans Mono',consolas,'Courier New',monospace\">\n",
       "</pre>\n"
      ],
      "text/plain": [
       "\n"
      ]
     },
     "metadata": {},
     "output_type": "display_data"
    },
    {
     "data": {
      "text/html": [
       "<pre style=\"white-space:pre;overflow-x:auto;line-height:normal;font-family:Menlo,'DejaVu Sans Mono',consolas,'Courier New',monospace\">Reading secret from C:\\Users\\david\\Documents\\GitHub\\ds-network-analysis\\data\\my_secrets.yaml…\n",
       "</pre>\n"
      ],
      "text/plain": [
       "Reading secret from C:\\Users\\david\\Documents\\GitHub\\ds-network-analysis\\data\\my_secrets.yaml…\n"
      ]
     },
     "metadata": {},
     "output_type": "display_data"
    },
    {
     "data": {
      "text/html": [
       "<pre style=\"white-space:pre;overflow-x:auto;line-height:normal;font-family:Menlo,'DejaVu Sans Mono',consolas,'Courier New',monospace\"></pre>\n"
      ],
      "text/plain": []
     },
     "metadata": {},
     "output_type": "display_data"
    },
    {
     "data": {
      "text/html": [
       "<pre style=\"white-space:pre;overflow-x:auto;line-height:normal;font-family:Menlo,'DejaVu Sans Mono',consolas,'Courier New',monospace\">\n",
       "</pre>\n"
      ],
      "text/plain": [
       "\n"
      ]
     },
     "metadata": {},
     "output_type": "display_data"
    },
    {
     "data": {
      "text/html": [
       "<pre style=\"white-space:pre;overflow-x:auto;line-height:normal;font-family:Menlo,'DejaVu Sans Mono',consolas,'Courier New',monospace\">Reading secret from C:\\Users\\david\\Documents\\GitHub\\ds-network-analysis\\data\\my_secrets.yaml…\n",
       "</pre>\n"
      ],
      "text/plain": [
       "Reading secret from C:\\Users\\david\\Documents\\GitHub\\ds-network-analysis\\data\\my_secrets.yaml…\n"
      ]
     },
     "metadata": {},
     "output_type": "display_data"
    },
    {
     "data": {
      "text/html": [
       "<pre style=\"white-space:pre;overflow-x:auto;line-height:normal;font-family:Menlo,'DejaVu Sans Mono',consolas,'Courier New',monospace\"></pre>\n"
      ],
      "text/plain": []
     },
     "metadata": {},
     "output_type": "display_data"
    },
    {
     "data": {
      "text/html": [
       "<pre style=\"white-space:pre;overflow-x:auto;line-height:normal;font-family:Menlo,'DejaVu Sans Mono',consolas,'Courier New',monospace\">\n",
       "</pre>\n"
      ],
      "text/plain": [
       "\n"
      ]
     },
     "metadata": {},
     "output_type": "display_data"
    },
    {
     "data": {
      "text/html": [
       "<pre style=\"white-space:pre;overflow-x:auto;line-height:normal;font-family:Menlo,'DejaVu Sans Mono',consolas,'Courier New',monospace\">Reading secret from C:\\Users\\david\\Documents\\GitHub\\ds-network-analysis\\data\\my_secrets.yaml…\n",
       "</pre>\n"
      ],
      "text/plain": [
       "Reading secret from C:\\Users\\david\\Documents\\GitHub\\ds-network-analysis\\data\\my_secrets.yaml…\n"
      ]
     },
     "metadata": {},
     "output_type": "display_data"
    },
    {
     "data": {
      "text/html": [
       "<pre style=\"white-space:pre;overflow-x:auto;line-height:normal;font-family:Menlo,'DejaVu Sans Mono',consolas,'Courier New',monospace\"></pre>\n"
      ],
      "text/plain": []
     },
     "metadata": {},
     "output_type": "display_data"
    },
    {
     "data": {
      "text/html": [
       "<pre style=\"white-space:pre;overflow-x:auto;line-height:normal;font-family:Menlo,'DejaVu Sans Mono',consolas,'Courier New',monospace\">\n",
       "</pre>\n"
      ],
      "text/plain": [
       "\n"
      ]
     },
     "metadata": {},
     "output_type": "display_data"
    },
    {
     "data": {
      "text/html": [
       "<pre style=\"white-space:pre;overflow-x:auto;line-height:normal;font-family:Menlo,'DejaVu Sans Mono',consolas,'Courier New',monospace\">Reading secret from C:\\Users\\david\\Documents\\GitHub\\ds-network-analysis\\data\\my_secrets.yaml…\n",
       "</pre>\n"
      ],
      "text/plain": [
       "Reading secret from C:\\Users\\david\\Documents\\GitHub\\ds-network-analysis\\data\\my_secrets.yaml…\n"
      ]
     },
     "metadata": {},
     "output_type": "display_data"
    },
    {
     "data": {
      "text/html": [
       "<pre style=\"white-space:pre;overflow-x:auto;line-height:normal;font-family:Menlo,'DejaVu Sans Mono',consolas,'Courier New',monospace\"></pre>\n"
      ],
      "text/plain": []
     },
     "metadata": {},
     "output_type": "display_data"
    },
    {
     "data": {
      "text/html": [
       "<pre style=\"white-space:pre;overflow-x:auto;line-height:normal;font-family:Menlo,'DejaVu Sans Mono',consolas,'Courier New',monospace\">\n",
       "</pre>\n"
      ],
      "text/plain": [
       "\n"
      ]
     },
     "metadata": {},
     "output_type": "display_data"
    },
    {
     "data": {
      "text/html": [
       "<pre style=\"white-space:pre;overflow-x:auto;line-height:normal;font-family:Menlo,'DejaVu Sans Mono',consolas,'Courier New',monospace\">Reading secret from C:\\Users\\david\\Documents\\GitHub\\ds-network-analysis\\data\\my_secrets.yaml…\n",
       "</pre>\n"
      ],
      "text/plain": [
       "Reading secret from C:\\Users\\david\\Documents\\GitHub\\ds-network-analysis\\data\\my_secrets.yaml…\n"
      ]
     },
     "metadata": {},
     "output_type": "display_data"
    },
    {
     "data": {
      "text/html": [
       "<pre style=\"white-space:pre;overflow-x:auto;line-height:normal;font-family:Menlo,'DejaVu Sans Mono',consolas,'Courier New',monospace\"></pre>\n"
      ],
      "text/plain": []
     },
     "metadata": {},
     "output_type": "display_data"
    },
    {
     "data": {
      "text/html": [
       "<pre style=\"white-space:pre;overflow-x:auto;line-height:normal;font-family:Menlo,'DejaVu Sans Mono',consolas,'Courier New',monospace\">\n",
       "</pre>\n"
      ],
      "text/plain": [
       "\n"
      ]
     },
     "metadata": {},
     "output_type": "display_data"
    },
    {
     "data": {
      "text/html": [
       "<pre style=\"white-space:pre;overflow-x:auto;line-height:normal;font-family:Menlo,'DejaVu Sans Mono',consolas,'Courier New',monospace\">Reading secret from C:\\Users\\david\\Documents\\GitHub\\ds-network-analysis\\data\\my_secrets.yaml…\n",
       "</pre>\n"
      ],
      "text/plain": [
       "Reading secret from C:\\Users\\david\\Documents\\GitHub\\ds-network-analysis\\data\\my_secrets.yaml…\n"
      ]
     },
     "metadata": {},
     "output_type": "display_data"
    },
    {
     "data": {
      "text/html": [
       "<pre style=\"white-space:pre;overflow-x:auto;line-height:normal;font-family:Menlo,'DejaVu Sans Mono',consolas,'Courier New',monospace\"></pre>\n"
      ],
      "text/plain": []
     },
     "metadata": {},
     "output_type": "display_data"
    },
    {
     "data": {
      "text/html": [
       "<pre style=\"white-space:pre;overflow-x:auto;line-height:normal;font-family:Menlo,'DejaVu Sans Mono',consolas,'Courier New',monospace\">\n",
       "</pre>\n"
      ],
      "text/plain": [
       "\n"
      ]
     },
     "metadata": {},
     "output_type": "display_data"
    },
    {
     "data": {
      "text/html": [
       "<pre style=\"white-space:pre;overflow-x:auto;line-height:normal;font-family:Menlo,'DejaVu Sans Mono',consolas,'Courier New',monospace\">Reading secret from C:\\Users\\david\\Documents\\GitHub\\ds-network-analysis\\data\\my_secrets.yaml…\n",
       "</pre>\n"
      ],
      "text/plain": [
       "Reading secret from C:\\Users\\david\\Documents\\GitHub\\ds-network-analysis\\data\\my_secrets.yaml…\n"
      ]
     },
     "metadata": {},
     "output_type": "display_data"
    },
    {
     "data": {
      "text/html": [
       "<pre style=\"white-space:pre;overflow-x:auto;line-height:normal;font-family:Menlo,'DejaVu Sans Mono',consolas,'Courier New',monospace\"></pre>\n"
      ],
      "text/plain": []
     },
     "metadata": {},
     "output_type": "display_data"
    },
    {
     "data": {
      "text/html": [
       "<pre style=\"white-space:pre;overflow-x:auto;line-height:normal;font-family:Menlo,'DejaVu Sans Mono',consolas,'Courier New',monospace\">\n",
       "</pre>\n"
      ],
      "text/plain": [
       "\n"
      ]
     },
     "metadata": {},
     "output_type": "display_data"
    },
    {
     "data": {
      "text/html": [
       "<pre style=\"white-space:pre;overflow-x:auto;line-height:normal;font-family:Menlo,'DejaVu Sans Mono',consolas,'Courier New',monospace\">Reading secret from C:\\Users\\david\\Documents\\GitHub\\ds-network-analysis\\data\\my_secrets.yaml…\n",
       "</pre>\n"
      ],
      "text/plain": [
       "Reading secret from C:\\Users\\david\\Documents\\GitHub\\ds-network-analysis\\data\\my_secrets.yaml…\n"
      ]
     },
     "metadata": {},
     "output_type": "display_data"
    },
    {
     "data": {
      "text/html": [
       "<pre style=\"white-space:pre;overflow-x:auto;line-height:normal;font-family:Menlo,'DejaVu Sans Mono',consolas,'Courier New',monospace\"></pre>\n"
      ],
      "text/plain": []
     },
     "metadata": {},
     "output_type": "display_data"
    },
    {
     "data": {
      "text/html": [
       "<pre style=\"white-space:pre;overflow-x:auto;line-height:normal;font-family:Menlo,'DejaVu Sans Mono',consolas,'Courier New',monospace\">\n",
       "</pre>\n"
      ],
      "text/plain": [
       "\n"
      ]
     },
     "metadata": {},
     "output_type": "display_data"
    },
    {
     "data": {
      "text/html": [
       "<pre style=\"white-space:pre;overflow-x:auto;line-height:normal;font-family:Menlo,'DejaVu Sans Mono',consolas,'Courier New',monospace\">Reading secret from C:\\Users\\david\\Documents\\GitHub\\ds-network-analysis\\data\\my_secrets.yaml…\n",
       "</pre>\n"
      ],
      "text/plain": [
       "Reading secret from C:\\Users\\david\\Documents\\GitHub\\ds-network-analysis\\data\\my_secrets.yaml…\n"
      ]
     },
     "metadata": {},
     "output_type": "display_data"
    },
    {
     "data": {
      "text/html": [
       "<pre style=\"white-space:pre;overflow-x:auto;line-height:normal;font-family:Menlo,'DejaVu Sans Mono',consolas,'Courier New',monospace\"></pre>\n"
      ],
      "text/plain": []
     },
     "metadata": {},
     "output_type": "display_data"
    },
    {
     "data": {
      "text/html": [
       "<pre style=\"white-space:pre;overflow-x:auto;line-height:normal;font-family:Menlo,'DejaVu Sans Mono',consolas,'Courier New',monospace\">\n",
       "</pre>\n"
      ],
      "text/plain": [
       "\n"
      ]
     },
     "metadata": {},
     "output_type": "display_data"
    },
    {
     "data": {
      "text/html": [
       "<pre style=\"white-space:pre;overflow-x:auto;line-height:normal;font-family:Menlo,'DejaVu Sans Mono',consolas,'Courier New',monospace\">Reading secret from C:\\Users\\david\\Documents\\GitHub\\ds-network-analysis\\data\\my_secrets.yaml…\n",
       "</pre>\n"
      ],
      "text/plain": [
       "Reading secret from C:\\Users\\david\\Documents\\GitHub\\ds-network-analysis\\data\\my_secrets.yaml…\n"
      ]
     },
     "metadata": {},
     "output_type": "display_data"
    },
    {
     "data": {
      "text/html": [
       "<pre style=\"white-space:pre;overflow-x:auto;line-height:normal;font-family:Menlo,'DejaVu Sans Mono',consolas,'Courier New',monospace\"></pre>\n"
      ],
      "text/plain": []
     },
     "metadata": {},
     "output_type": "display_data"
    },
    {
     "data": {
      "text/html": [
       "<pre style=\"white-space:pre;overflow-x:auto;line-height:normal;font-family:Menlo,'DejaVu Sans Mono',consolas,'Courier New',monospace\">\n",
       "</pre>\n"
      ],
      "text/plain": [
       "\n"
      ]
     },
     "metadata": {},
     "output_type": "display_data"
    },
    {
     "data": {
      "text/html": [
       "<pre style=\"white-space:pre;overflow-x:auto;line-height:normal;font-family:Menlo,'DejaVu Sans Mono',consolas,'Courier New',monospace\">Reading secret from C:\\Users\\david\\Documents\\GitHub\\ds-network-analysis\\data\\my_secrets.yaml…\n",
       "</pre>\n"
      ],
      "text/plain": [
       "Reading secret from C:\\Users\\david\\Documents\\GitHub\\ds-network-analysis\\data\\my_secrets.yaml…\n"
      ]
     },
     "metadata": {},
     "output_type": "display_data"
    },
    {
     "data": {
      "text/html": [
       "<pre style=\"white-space:pre;overflow-x:auto;line-height:normal;font-family:Menlo,'DejaVu Sans Mono',consolas,'Courier New',monospace\"></pre>\n"
      ],
      "text/plain": []
     },
     "metadata": {},
     "output_type": "display_data"
    },
    {
     "data": {
      "text/html": [
       "<pre style=\"white-space:pre;overflow-x:auto;line-height:normal;font-family:Menlo,'DejaVu Sans Mono',consolas,'Courier New',monospace\">\n",
       "</pre>\n"
      ],
      "text/plain": [
       "\n"
      ]
     },
     "metadata": {},
     "output_type": "display_data"
    },
    {
     "data": {
      "text/html": [
       "<pre style=\"white-space:pre;overflow-x:auto;line-height:normal;font-family:Menlo,'DejaVu Sans Mono',consolas,'Courier New',monospace\">Reading secret from C:\\Users\\david\\Documents\\GitHub\\ds-network-analysis\\data\\my_secrets.yaml…\n",
       "</pre>\n"
      ],
      "text/plain": [
       "Reading secret from C:\\Users\\david\\Documents\\GitHub\\ds-network-analysis\\data\\my_secrets.yaml…\n"
      ]
     },
     "metadata": {},
     "output_type": "display_data"
    },
    {
     "data": {
      "text/html": [
       "<pre style=\"white-space:pre;overflow-x:auto;line-height:normal;font-family:Menlo,'DejaVu Sans Mono',consolas,'Courier New',monospace\"></pre>\n"
      ],
      "text/plain": []
     },
     "metadata": {},
     "output_type": "display_data"
    },
    {
     "data": {
      "text/html": [
       "<pre style=\"white-space:pre;overflow-x:auto;line-height:normal;font-family:Menlo,'DejaVu Sans Mono',consolas,'Courier New',monospace\">\n",
       "</pre>\n"
      ],
      "text/plain": [
       "\n"
      ]
     },
     "metadata": {},
     "output_type": "display_data"
    },
    {
     "data": {
      "text/html": [
       "<pre style=\"white-space:pre;overflow-x:auto;line-height:normal;font-family:Menlo,'DejaVu Sans Mono',consolas,'Courier New',monospace\">Reading secret from C:\\Users\\david\\Documents\\GitHub\\ds-network-analysis\\data\\my_secrets.yaml…\n",
       "</pre>\n"
      ],
      "text/plain": [
       "Reading secret from C:\\Users\\david\\Documents\\GitHub\\ds-network-analysis\\data\\my_secrets.yaml…\n"
      ]
     },
     "metadata": {},
     "output_type": "display_data"
    },
    {
     "data": {
      "text/html": [
       "<pre style=\"white-space:pre;overflow-x:auto;line-height:normal;font-family:Menlo,'DejaVu Sans Mono',consolas,'Courier New',monospace\"></pre>\n"
      ],
      "text/plain": []
     },
     "metadata": {},
     "output_type": "display_data"
    },
    {
     "data": {
      "text/html": [
       "<pre style=\"white-space:pre;overflow-x:auto;line-height:normal;font-family:Menlo,'DejaVu Sans Mono',consolas,'Courier New',monospace\">\n",
       "</pre>\n"
      ],
      "text/plain": [
       "\n"
      ]
     },
     "metadata": {},
     "output_type": "display_data"
    },
    {
     "data": {
      "text/html": [
       "<pre style=\"white-space:pre;overflow-x:auto;line-height:normal;font-family:Menlo,'DejaVu Sans Mono',consolas,'Courier New',monospace\">Reading secret from C:\\Users\\david\\Documents\\GitHub\\ds-network-analysis\\data\\my_secrets.yaml…\n",
       "</pre>\n"
      ],
      "text/plain": [
       "Reading secret from C:\\Users\\david\\Documents\\GitHub\\ds-network-analysis\\data\\my_secrets.yaml…\n"
      ]
     },
     "metadata": {},
     "output_type": "display_data"
    },
    {
     "data": {
      "text/html": [
       "<pre style=\"white-space:pre;overflow-x:auto;line-height:normal;font-family:Menlo,'DejaVu Sans Mono',consolas,'Courier New',monospace\"></pre>\n"
      ],
      "text/plain": []
     },
     "metadata": {},
     "output_type": "display_data"
    },
    {
     "data": {
      "text/html": [
       "<pre style=\"white-space:pre;overflow-x:auto;line-height:normal;font-family:Menlo,'DejaVu Sans Mono',consolas,'Courier New',monospace\">\n",
       "</pre>\n"
      ],
      "text/plain": [
       "\n"
      ]
     },
     "metadata": {},
     "output_type": "display_data"
    },
    {
     "data": {
      "text/html": [
       "<pre style=\"white-space:pre;overflow-x:auto;line-height:normal;font-family:Menlo,'DejaVu Sans Mono',consolas,'Courier New',monospace\">Reading secret from C:\\Users\\david\\Documents\\GitHub\\ds-network-analysis\\data\\my_secrets.yaml…\n",
       "</pre>\n"
      ],
      "text/plain": [
       "Reading secret from C:\\Users\\david\\Documents\\GitHub\\ds-network-analysis\\data\\my_secrets.yaml…\n"
      ]
     },
     "metadata": {},
     "output_type": "display_data"
    },
    {
     "data": {
      "text/html": [
       "<pre style=\"white-space:pre;overflow-x:auto;line-height:normal;font-family:Menlo,'DejaVu Sans Mono',consolas,'Courier New',monospace\"></pre>\n"
      ],
      "text/plain": []
     },
     "metadata": {},
     "output_type": "display_data"
    },
    {
     "data": {
      "text/html": [
       "<pre style=\"white-space:pre;overflow-x:auto;line-height:normal;font-family:Menlo,'DejaVu Sans Mono',consolas,'Courier New',monospace\">\n",
       "</pre>\n"
      ],
      "text/plain": [
       "\n"
      ]
     },
     "metadata": {},
     "output_type": "display_data"
    },
    {
     "data": {
      "text/html": [
       "<pre style=\"white-space:pre;overflow-x:auto;line-height:normal;font-family:Menlo,'DejaVu Sans Mono',consolas,'Courier New',monospace\">Reading secret from C:\\Users\\david\\Documents\\GitHub\\ds-network-analysis\\data\\my_secrets.yaml…\n",
       "</pre>\n"
      ],
      "text/plain": [
       "Reading secret from C:\\Users\\david\\Documents\\GitHub\\ds-network-analysis\\data\\my_secrets.yaml…\n"
      ]
     },
     "metadata": {},
     "output_type": "display_data"
    },
    {
     "data": {
      "text/html": [
       "<pre style=\"white-space:pre;overflow-x:auto;line-height:normal;font-family:Menlo,'DejaVu Sans Mono',consolas,'Courier New',monospace\"></pre>\n"
      ],
      "text/plain": []
     },
     "metadata": {},
     "output_type": "display_data"
    },
    {
     "data": {
      "text/html": [
       "<pre style=\"white-space:pre;overflow-x:auto;line-height:normal;font-family:Menlo,'DejaVu Sans Mono',consolas,'Courier New',monospace\">\n",
       "</pre>\n"
      ],
      "text/plain": [
       "\n"
      ]
     },
     "metadata": {},
     "output_type": "display_data"
    },
    {
     "data": {
      "text/html": [
       "<pre style=\"white-space:pre;overflow-x:auto;line-height:normal;font-family:Menlo,'DejaVu Sans Mono',consolas,'Courier New',monospace\">Reading secret from C:\\Users\\david\\Documents\\GitHub\\ds-network-analysis\\data\\my_secrets.yaml…\n",
       "</pre>\n"
      ],
      "text/plain": [
       "Reading secret from C:\\Users\\david\\Documents\\GitHub\\ds-network-analysis\\data\\my_secrets.yaml…\n"
      ]
     },
     "metadata": {},
     "output_type": "display_data"
    },
    {
     "data": {
      "text/html": [
       "<pre style=\"white-space:pre;overflow-x:auto;line-height:normal;font-family:Menlo,'DejaVu Sans Mono',consolas,'Courier New',monospace\"></pre>\n"
      ],
      "text/plain": []
     },
     "metadata": {},
     "output_type": "display_data"
    },
    {
     "data": {
      "text/html": [
       "<pre style=\"white-space:pre;overflow-x:auto;line-height:normal;font-family:Menlo,'DejaVu Sans Mono',consolas,'Courier New',monospace\">\n",
       "</pre>\n"
      ],
      "text/plain": [
       "\n"
      ]
     },
     "metadata": {},
     "output_type": "display_data"
    },
    {
     "data": {
      "text/html": [
       "<pre style=\"white-space:pre;overflow-x:auto;line-height:normal;font-family:Menlo,'DejaVu Sans Mono',consolas,'Courier New',monospace\">Reading secret from C:\\Users\\david\\Documents\\GitHub\\ds-network-analysis\\data\\my_secrets.yaml…\n",
       "</pre>\n"
      ],
      "text/plain": [
       "Reading secret from C:\\Users\\david\\Documents\\GitHub\\ds-network-analysis\\data\\my_secrets.yaml…\n"
      ]
     },
     "metadata": {},
     "output_type": "display_data"
    },
    {
     "data": {
      "text/html": [
       "<pre style=\"white-space:pre;overflow-x:auto;line-height:normal;font-family:Menlo,'DejaVu Sans Mono',consolas,'Courier New',monospace\"></pre>\n"
      ],
      "text/plain": []
     },
     "metadata": {},
     "output_type": "display_data"
    },
    {
     "data": {
      "text/html": [
       "<pre style=\"white-space:pre;overflow-x:auto;line-height:normal;font-family:Menlo,'DejaVu Sans Mono',consolas,'Courier New',monospace\">\n",
       "</pre>\n"
      ],
      "text/plain": [
       "\n"
      ]
     },
     "metadata": {},
     "output_type": "display_data"
    },
    {
     "data": {
      "text/html": [
       "<pre style=\"white-space:pre;overflow-x:auto;line-height:normal;font-family:Menlo,'DejaVu Sans Mono',consolas,'Courier New',monospace\">Reading secret from C:\\Users\\david\\Documents\\GitHub\\ds-network-analysis\\data\\my_secrets.yaml…\n",
       "</pre>\n"
      ],
      "text/plain": [
       "Reading secret from C:\\Users\\david\\Documents\\GitHub\\ds-network-analysis\\data\\my_secrets.yaml…\n"
      ]
     },
     "metadata": {},
     "output_type": "display_data"
    },
    {
     "data": {
      "text/html": [
       "<pre style=\"white-space:pre;overflow-x:auto;line-height:normal;font-family:Menlo,'DejaVu Sans Mono',consolas,'Courier New',monospace\"></pre>\n"
      ],
      "text/plain": []
     },
     "metadata": {},
     "output_type": "display_data"
    },
    {
     "data": {
      "text/html": [
       "<pre style=\"white-space:pre;overflow-x:auto;line-height:normal;font-family:Menlo,'DejaVu Sans Mono',consolas,'Courier New',monospace\">\n",
       "</pre>\n"
      ],
      "text/plain": [
       "\n"
      ]
     },
     "metadata": {},
     "output_type": "display_data"
    },
    {
     "data": {
      "text/html": [
       "<pre style=\"white-space:pre;overflow-x:auto;line-height:normal;font-family:Menlo,'DejaVu Sans Mono',consolas,'Courier New',monospace\">Reading secret from C:\\Users\\david\\Documents\\GitHub\\ds-network-analysis\\data\\my_secrets.yaml…\n",
       "</pre>\n"
      ],
      "text/plain": [
       "Reading secret from C:\\Users\\david\\Documents\\GitHub\\ds-network-analysis\\data\\my_secrets.yaml…\n"
      ]
     },
     "metadata": {},
     "output_type": "display_data"
    },
    {
     "data": {
      "text/html": [
       "<pre style=\"white-space:pre;overflow-x:auto;line-height:normal;font-family:Menlo,'DejaVu Sans Mono',consolas,'Courier New',monospace\"></pre>\n"
      ],
      "text/plain": []
     },
     "metadata": {},
     "output_type": "display_data"
    },
    {
     "data": {
      "text/html": [
       "<pre style=\"white-space:pre;overflow-x:auto;line-height:normal;font-family:Menlo,'DejaVu Sans Mono',consolas,'Courier New',monospace\">\n",
       "</pre>\n"
      ],
      "text/plain": [
       "\n"
      ]
     },
     "metadata": {},
     "output_type": "display_data"
    }
   ],
   "source": [
    "#estarre pure retweeted_user_id per edge\n",
    "hashtag_for_user={}\n",
    "retweet_for_user={}\n",
    "verified_for_user={}\n",
    "location_for_user={}\n",
    "#name_for_user={}\n",
    "#username_for_user={}\n",
    "\n",
    "for e in set_user:                                                             #1 pages=20 tweet   \n",
    "    u=UserETL(e,pages=5)                                                       #aggiungere più pagine (1pag=20)\n",
    "    #preprocessing hashtag\n",
    "    u.df=u.df.dropna(subset=['entities.hashtags'])                             #drop nan values on column hashtags\n",
    "    u.df.reset_index()\n",
    "    u.df['entities.hashtags']=u.df['entities.hashtags'].apply(eval)            #convert into dict\n",
    "    u.df[\"entities.hashtags\"] = u.df[\"entities.hashtags\"].map(h.extract_tags)  #extract tags\n",
    "    hashtag_for_user[e]=u.df[\"entities.hashtags\"].tolist()                     #convert pandas series into a list\n",
    "    #preprocessing retweet\n",
    "    u.df=u.df.dropna(subset=['retweeted_user_id'])\n",
    "    retweet_for_user[e]=u.df['retweeted_user_id'].tolist()\n",
    "    #saving other attributes (to assigne it to a nodes as property)\n",
    "    verified_for_user[e]=u.df['author.verified']\n",
    "    location_for_user[e]=u.df['author.location'].tolist()\n",
    "   # name_for_user[e]=u.df['author.name']\n",
    "   # username_for_user[e]=u.df['author.username']\n",
    "    \n",
    "    \n",
    "    "
   ]
  },
  {
   "cell_type": "code",
   "execution_count": 15,
   "id": "45a4171e",
   "metadata": {},
   "outputs": [],
   "source": [
    "user_id=[]\n",
    "name=[]\n",
    "hashtag=[]\n",
    "retweet=[]\n",
    "location=[]\n",
    "verified=[]\n",
    "for u,h in hashtag_for_user.items():\n",
    "    user_id.append(u)\n",
    "    hashtag.append(h)\n",
    "for u,r in retweet_for_user.items():\n",
    "    retweet.append(r)\n",
    "for u,n in name_for_user.items():\n",
    "    name.append(n)\n",
    "for u,l in location_for_user.items():\n",
    "    location.append(l)\n",
    "for u,v in verified_for_user.items():\n",
    "    verified.append(v)"
   ]
  },
  {
   "cell_type": "code",
   "execution_count": 20,
   "id": "a38659f2",
   "metadata": {},
   "outputs": [
    {
     "name": "stdout",
     "output_type": "stream",
     "text": [
      "77\n"
     ]
    }
   ],
   "source": [
    "print(len(verified))"
   ]
  },
  {
   "cell_type": "code",
   "execution_count": 28,
   "id": "d8022c8a",
   "metadata": {},
   "outputs": [
    {
     "data": {
      "text/html": [
       "<div>\n",
       "<style scoped>\n",
       "    .dataframe tbody tr th:only-of-type {\n",
       "        vertical-align: middle;\n",
       "    }\n",
       "\n",
       "    .dataframe tbody tr th {\n",
       "        vertical-align: top;\n",
       "    }\n",
       "\n",
       "    .dataframe thead th {\n",
       "        text-align: right;\n",
       "    }\n",
       "</style>\n",
       "<table border=\"1\" class=\"dataframe\">\n",
       "  <thead>\n",
       "    <tr style=\"text-align: right;\">\n",
       "      <th></th>\n",
       "      <th>user_id</th>\n",
       "      <th>name</th>\n",
       "      <th>retweet</th>\n",
       "      <th>hashtag</th>\n",
       "      <th>location</th>\n",
       "      <th>verified</th>\n",
       "    </tr>\n",
       "  </thead>\n",
       "  <tbody>\n",
       "    <tr>\n",
       "      <th>0</th>\n",
       "      <td>1357718765941710848</td>\n",
       "      <td>0    PeterJohnKing4\n",
       "Name: author.username, dty...</td>\n",
       "      <td>[1219232377605644289]</td>\n",
       "      <td>[[ukraine, russia]]</td>\n",
       "      <td>[Somewhere]</td>\n",
       "      <td>0    False\n",
       "Name: author.verified, dtype: bool</td>\n",
       "    </tr>\n",
       "    <tr>\n",
       "      <th>1</th>\n",
       "      <td>1151202637582348294</td>\n",
       "      <td>0     hephaistos_ai\n",
       "1     hephaistos_ai\n",
       "2     ...</td>\n",
       "      <td>[1246042405561872384, 1533187263156432896, 116...</td>\n",
       "      <td>[[covid, gouvernementdelahonte, nouvelordremon...</td>\n",
       "      <td>[Paris, Paris, Paris, Paris, Paris, Paris, Par...</td>\n",
       "      <td>0     False\n",
       "1     False\n",
       "2     False\n",
       "3     Fals...</td>\n",
       "    </tr>\n",
       "    <tr>\n",
       "      <th>2</th>\n",
       "      <td>1466835011454189571</td>\n",
       "      <td>0     RightAndFree_\n",
       "5     RightAndFree_\n",
       "6     ...</td>\n",
       "      <td>[1219232377605644289, 172377413, 1219232377605...</td>\n",
       "      <td>[[ukraine, russia], [ny19], [russia, ukraine],...</td>\n",
       "      <td>[nan, nan, nan, nan]</td>\n",
       "      <td>0     False\n",
       "5     False\n",
       "6     False\n",
       "16    Fals...</td>\n",
       "    </tr>\n",
       "    <tr>\n",
       "      <th>3</th>\n",
       "      <td>4813333392</td>\n",
       "      <td>0     PansareKetan\n",
       "8     PansareKetan\n",
       "13    Pa...</td>\n",
       "      <td>[81386285, 576533046, 849006404, 19897138]</td>\n",
       "      <td>[[shivsena, covid], [bjpjawabdo], [sanjaypande...</td>\n",
       "      <td>[nan, nan, nan, nan]</td>\n",
       "      <td>0     False\n",
       "8     False\n",
       "13    False\n",
       "19    Fals...</td>\n",
       "    </tr>\n",
       "    <tr>\n",
       "      <th>4</th>\n",
       "      <td>2471461255</td>\n",
       "      <td>0     CanadaRomania\n",
       "2     CanadaRomania\n",
       "4     ...</td>\n",
       "      <td>[121514648, 157981564, 14353202, 14353202, 410...</td>\n",
       "      <td>[[russia, ukraine, indonesia], [foodsecurity],...</td>\n",
       "      <td>[Bucharest, Romania, Bucharest, Romania, Bucha...</td>\n",
       "      <td>0     True\n",
       "2     True\n",
       "4     True\n",
       "5     True\n",
       "6 ...</td>\n",
       "    </tr>\n",
       "    <tr>\n",
       "      <th>...</th>\n",
       "      <td>...</td>\n",
       "      <td>...</td>\n",
       "      <td>...</td>\n",
       "      <td>...</td>\n",
       "      <td>...</td>\n",
       "      <td>...</td>\n",
       "    </tr>\n",
       "    <tr>\n",
       "      <th>72</th>\n",
       "      <td>47941897</td>\n",
       "      <td>0     ma000111\n",
       "1     ma000111\n",
       "2     ma000111\n",
       "3...</td>\n",
       "      <td>[47941897, 1167016822027112449, 47941897, 4794...</td>\n",
       "      <td>[[zelenskyy, warcrimes, donetsk, ukraine, ukra...</td>\n",
       "      <td>[England , England , England , England , Engla...</td>\n",
       "      <td>0     False\n",
       "1     False\n",
       "2     False\n",
       "3     Fals...</td>\n",
       "    </tr>\n",
       "    <tr>\n",
       "      <th>73</th>\n",
       "      <td>2865524457</td>\n",
       "      <td>0     michelangela_K\n",
       "2     michelangela_K\n",
       "5   ...</td>\n",
       "      <td>[23372297, 1364378809, 1091395730307190785, 33...</td>\n",
       "      <td>[[ukraine], [affenpocken, rki], [shinzoabe], [...</td>\n",
       "      <td>[Buxtehude, Buxtehude, Buxtehude, Buxtehude, B...</td>\n",
       "      <td>0     False\n",
       "2     False\n",
       "5     False\n",
       "13    Fals...</td>\n",
       "    </tr>\n",
       "    <tr>\n",
       "      <th>74</th>\n",
       "      <td>1056303825995337730</td>\n",
       "      <td>1     MesarutF\n",
       "4     MesarutF\n",
       "12    MesarutF\n",
       "1...</td>\n",
       "      <td>[1496161188077621251, 1505481949854502915, 100...</td>\n",
       "      <td>[[donbas, ukraine, ukrainewarnews, stoprussia]...</td>\n",
       "      <td>[nan, nan, nan, nan, nan]</td>\n",
       "      <td>1     False\n",
       "4     False\n",
       "12    False\n",
       "13    Fals...</td>\n",
       "    </tr>\n",
       "    <tr>\n",
       "      <th>75</th>\n",
       "      <td>3245630026</td>\n",
       "      <td>0     VerachikaV\n",
       "2     VerachikaV\n",
       "3     Verach...</td>\n",
       "      <td>[191145819, 23372297, 1231514832479948802, 206...</td>\n",
       "      <td>[[forgottensoulshour, rescuedog, rehomehour, r...</td>\n",
       "      <td>[nan, nan, nan, nan, nan, nan, nan, nan, nan]</td>\n",
       "      <td>0     False\n",
       "2     False\n",
       "3     False\n",
       "4     Fals...</td>\n",
       "    </tr>\n",
       "    <tr>\n",
       "      <th>76</th>\n",
       "      <td>4186147403</td>\n",
       "      <td>Series([], Name: author.username, dtype: object)</td>\n",
       "      <td>[]</td>\n",
       "      <td>[[truth, justice, russia, putin], [truth, just...</td>\n",
       "      <td>[]</td>\n",
       "      <td>Series([], Name: author.verified, dtype: bool)</td>\n",
       "    </tr>\n",
       "  </tbody>\n",
       "</table>\n",
       "<p>77 rows × 6 columns</p>\n",
       "</div>"
      ],
      "text/plain": [
       "                user_id                                               name  \\\n",
       "0   1357718765941710848  0    PeterJohnKing4\n",
       "Name: author.username, dty...   \n",
       "1   1151202637582348294  0     hephaistos_ai\n",
       "1     hephaistos_ai\n",
       "2     ...   \n",
       "2   1466835011454189571  0     RightAndFree_\n",
       "5     RightAndFree_\n",
       "6     ...   \n",
       "3            4813333392  0     PansareKetan\n",
       "8     PansareKetan\n",
       "13    Pa...   \n",
       "4            2471461255  0     CanadaRomania\n",
       "2     CanadaRomania\n",
       "4     ...   \n",
       "..                  ...                                                ...   \n",
       "72             47941897  0     ma000111\n",
       "1     ma000111\n",
       "2     ma000111\n",
       "3...   \n",
       "73           2865524457  0     michelangela_K\n",
       "2     michelangela_K\n",
       "5   ...   \n",
       "74  1056303825995337730  1     MesarutF\n",
       "4     MesarutF\n",
       "12    MesarutF\n",
       "1...   \n",
       "75           3245630026  0     VerachikaV\n",
       "2     VerachikaV\n",
       "3     Verach...   \n",
       "76           4186147403   Series([], Name: author.username, dtype: object)   \n",
       "\n",
       "                                              retweet  \\\n",
       "0                               [1219232377605644289]   \n",
       "1   [1246042405561872384, 1533187263156432896, 116...   \n",
       "2   [1219232377605644289, 172377413, 1219232377605...   \n",
       "3          [81386285, 576533046, 849006404, 19897138]   \n",
       "4   [121514648, 157981564, 14353202, 14353202, 410...   \n",
       "..                                                ...   \n",
       "72  [47941897, 1167016822027112449, 47941897, 4794...   \n",
       "73  [23372297, 1364378809, 1091395730307190785, 33...   \n",
       "74  [1496161188077621251, 1505481949854502915, 100...   \n",
       "75  [191145819, 23372297, 1231514832479948802, 206...   \n",
       "76                                                 []   \n",
       "\n",
       "                                              hashtag  \\\n",
       "0                                 [[ukraine, russia]]   \n",
       "1   [[covid, gouvernementdelahonte, nouvelordremon...   \n",
       "2   [[ukraine, russia], [ny19], [russia, ukraine],...   \n",
       "3   [[shivsena, covid], [bjpjawabdo], [sanjaypande...   \n",
       "4   [[russia, ukraine, indonesia], [foodsecurity],...   \n",
       "..                                                ...   \n",
       "72  [[zelenskyy, warcrimes, donetsk, ukraine, ukra...   \n",
       "73  [[ukraine], [affenpocken, rki], [shinzoabe], [...   \n",
       "74  [[donbas, ukraine, ukrainewarnews, stoprussia]...   \n",
       "75  [[forgottensoulshour, rescuedog, rehomehour, r...   \n",
       "76  [[truth, justice, russia, putin], [truth, just...   \n",
       "\n",
       "                                             location  \\\n",
       "0                                         [Somewhere]   \n",
       "1   [Paris, Paris, Paris, Paris, Paris, Paris, Par...   \n",
       "2                                [nan, nan, nan, nan]   \n",
       "3                                [nan, nan, nan, nan]   \n",
       "4   [Bucharest, Romania, Bucharest, Romania, Bucha...   \n",
       "..                                                ...   \n",
       "72  [England , England , England , England , Engla...   \n",
       "73  [Buxtehude, Buxtehude, Buxtehude, Buxtehude, B...   \n",
       "74                          [nan, nan, nan, nan, nan]   \n",
       "75      [nan, nan, nan, nan, nan, nan, nan, nan, nan]   \n",
       "76                                                 []   \n",
       "\n",
       "                                             verified  \n",
       "0       0    False\n",
       "Name: author.verified, dtype: bool  \n",
       "1   0     False\n",
       "1     False\n",
       "2     False\n",
       "3     Fals...  \n",
       "2   0     False\n",
       "5     False\n",
       "6     False\n",
       "16    Fals...  \n",
       "3   0     False\n",
       "8     False\n",
       "13    False\n",
       "19    Fals...  \n",
       "4   0     True\n",
       "2     True\n",
       "4     True\n",
       "5     True\n",
       "6 ...  \n",
       "..                                                ...  \n",
       "72  0     False\n",
       "1     False\n",
       "2     False\n",
       "3     Fals...  \n",
       "73  0     False\n",
       "2     False\n",
       "5     False\n",
       "13    Fals...  \n",
       "74  1     False\n",
       "4     False\n",
       "12    False\n",
       "13    Fals...  \n",
       "75  0     False\n",
       "2     False\n",
       "3     False\n",
       "4     Fals...  \n",
       "76     Series([], Name: author.verified, dtype: bool)  \n",
       "\n",
       "[77 rows x 6 columns]"
      ]
     },
     "execution_count": 28,
     "metadata": {},
     "output_type": "execute_result"
    }
   ],
   "source": [
    "#create a pandas dataframe\n",
    "df_nodes=pd.DataFrame({\"user_id\":user_id,\n",
    "                      'name': name,\n",
    "                      'retweet': retweet,\n",
    "                      \"hashtag\":hashtag,\n",
    "                     'location':location,\n",
    "                     'verified':verified})\n",
    "df_nodes"
   ]
  },
  {
   "cell_type": "code",
   "execution_count": 29,
   "id": "271f9874",
   "metadata": {},
   "outputs": [],
   "source": [
    "#convert nested lists on set\n",
    "outer_list = [] \n",
    "def lists_to_list(nested_lists): \n",
    "    for el in nested_lists: \n",
    "        if type(el) == list: \n",
    "            lists_to_list(el) \n",
    "        else: \n",
    "            outer_list.append(el)\n",
    "    return set(outer_list)"
   ]
  },
  {
   "cell_type": "code",
   "execution_count": 30,
   "id": "b11deee9",
   "metadata": {},
   "outputs": [],
   "source": [
    "outer_list = [] \n",
    "df_nodes['hashtag']=df_nodes['hashtag'].map(lists_to_list)\n",
    "outer_list = [] \n",
    "df_nodes['retweet']=df_nodes['retweet'].map(lists_to_list)\n",
    "outer_list = [] \n",
    "df_nodes['name']=df_nodes['name'].map(lists_to_list)\n",
    "outer_list = [] \n",
    "df_nodes['location']=df_nodes['location'].map(lists_to_list)\n",
    "outer_list = [] \n",
    "df_nodes['verified']=df_nodes['verified'].map(lists_to_list)"
   ]
  },
  {
   "cell_type": "code",
   "execution_count": 45,
   "id": "68463fd5",
   "metadata": {},
   "outputs": [
    {
     "name": "stdout",
     "output_type": "stream",
     "text": [
      "set()\n",
      "set()\n",
      "set()\n",
      "set()\n",
      "set()\n",
      "set()\n",
      "set()\n",
      "set()\n",
      "set()\n",
      "set()\n",
      "set()\n",
      "set()\n",
      "set()\n",
      "set()\n",
      "set()\n",
      "set()\n",
      "set()\n",
      "set()\n",
      "set()\n",
      "set()\n",
      "set()\n",
      "set()\n",
      "set()\n",
      "set()\n",
      "set()\n",
      "set()\n",
      "set()\n",
      "set()\n",
      "set()\n",
      "set()\n",
      "set()\n",
      "set()\n",
      "set()\n",
      "set()\n",
      "set()\n",
      "set()\n",
      "set()\n",
      "set()\n",
      "set()\n",
      "set()\n",
      "set()\n",
      "set()\n",
      "set()\n",
      "set()\n",
      "set()\n",
      "set()\n",
      "set()\n",
      "set()\n",
      "set()\n",
      "set()\n",
      "set()\n",
      "set()\n",
      "set()\n",
      "set()\n",
      "set()\n",
      "set()\n",
      "set()\n",
      "set()\n",
      "set()\n",
      "set()\n",
      "set()\n",
      "set()\n",
      "set()\n",
      "set()\n",
      "set()\n",
      "set()\n",
      "set()\n",
      "set()\n",
      "set()\n",
      "set()\n",
      "set()\n",
      "set()\n",
      "set()\n",
      "set()\n",
      "set()\n",
      "set()\n",
      "set()\n"
     ]
    }
   ],
   "source": [
    "boolean={'True','False'}\n",
    "for b in df_nodes['verified']:\n",
    "    print(b.intersection(boolean)) #=={'True','False'}:\n",
    "       # b=='True'"
   ]
  },
  {
   "cell_type": "code",
   "execution_count": 46,
   "id": "a4fff9fd",
   "metadata": {},
   "outputs": [
    {
     "data": {
      "text/html": [
       "<div>\n",
       "<style scoped>\n",
       "    .dataframe tbody tr th:only-of-type {\n",
       "        vertical-align: middle;\n",
       "    }\n",
       "\n",
       "    .dataframe tbody tr th {\n",
       "        vertical-align: top;\n",
       "    }\n",
       "\n",
       "    .dataframe thead th {\n",
       "        text-align: right;\n",
       "    }\n",
       "</style>\n",
       "<table border=\"1\" class=\"dataframe\">\n",
       "  <thead>\n",
       "    <tr style=\"text-align: right;\">\n",
       "      <th></th>\n",
       "      <th>user_id</th>\n",
       "      <th>name</th>\n",
       "      <th>retweet</th>\n",
       "      <th>hashtag</th>\n",
       "      <th>location</th>\n",
       "      <th>verified</th>\n",
       "    </tr>\n",
       "  </thead>\n",
       "  <tbody>\n",
       "    <tr>\n",
       "      <th>0</th>\n",
       "      <td>1357718765941710848</td>\n",
       "      <td>{PeterJohnKing4}</td>\n",
       "      <td>{1219232377605644289}</td>\n",
       "      <td>{ukraine, russia}</td>\n",
       "      <td>{Somewhere}</td>\n",
       "      <td>{False}</td>\n",
       "    </tr>\n",
       "    <tr>\n",
       "      <th>1</th>\n",
       "      <td>1151202637582348294</td>\n",
       "      <td>{PeterJohnKing4, hephaistos_ai}</td>\n",
       "      <td>{1533187263156432896, 24343635, 15422873631492...</td>\n",
       "      <td>{plandemic, staycovidsafe, vote, vacci, republ...</td>\n",
       "      <td>{Paris, Somewhere}</td>\n",
       "      <td>{False}</td>\n",
       "    </tr>\n",
       "    <tr>\n",
       "      <th>2</th>\n",
       "      <td>1466835011454189571</td>\n",
       "      <td>{PeterJohnKing4, RightAndFree_, hephaistos_ai}</td>\n",
       "      <td>{1533187263156432896, 24343635, 15422873631492...</td>\n",
       "      <td>{plandemic, staycovidsafe, vote, trumpisatrait...</td>\n",
       "      <td>{Paris, nan, Somewhere, nan, nan, nan}</td>\n",
       "      <td>{False}</td>\n",
       "    </tr>\n",
       "    <tr>\n",
       "      <th>3</th>\n",
       "      <td>4813333392</td>\n",
       "      <td>{PeterJohnKing4, RightAndFree_, PansareKetan, ...</td>\n",
       "      <td>{1533187263156432896, 24343635, 15422873631492...</td>\n",
       "      <td>{plandemic, staycovidsafe, vote, trumpisatrait...</td>\n",
       "      <td>{Paris, nan, nan, nan, Somewhere, nan, nan, na...</td>\n",
       "      <td>{False}</td>\n",
       "    </tr>\n",
       "    <tr>\n",
       "      <th>4</th>\n",
       "      <td>2471461255</td>\n",
       "      <td>{PeterJohnKing4, CanadaRomania, RightAndFree_,...</td>\n",
       "      <td>{1533187263156432896, 33285177, 24343635, 4105...</td>\n",
       "      <td>{trumpisatraitor, republican, covidvaccine, tr...</td>\n",
       "      <td>{Bucharest, Romania, Paris, nan, nan, nan, Som...</td>\n",
       "      <td>{False, True}</td>\n",
       "    </tr>\n",
       "    <tr>\n",
       "      <th>...</th>\n",
       "      <td>...</td>\n",
       "      <td>...</td>\n",
       "      <td>...</td>\n",
       "      <td>...</td>\n",
       "      <td>...</td>\n",
       "      <td>...</td>\n",
       "    </tr>\n",
       "    <tr>\n",
       "      <th>72</th>\n",
       "      <td>47941897</td>\n",
       "      <td>{PeterJohnKing4, Douglas17569801, CanadaRomani...</td>\n",
       "      <td>{791612573531668481, 2932618967, 1342474419944...</td>\n",
       "      <td>{, buckwheat, nutrition, trumpisatraitor, majo...</td>\n",
       "      <td>{nan, DCEU Earth 666, MCU Earth 616, nan, Repu...</td>\n",
       "      <td>{False, True}</td>\n",
       "    </tr>\n",
       "    <tr>\n",
       "      <th>73</th>\n",
       "      <td>2865524457</td>\n",
       "      <td>{PeterJohnKing4, Douglas17569801, CanadaRomani...</td>\n",
       "      <td>{791612573531668481, 2932618967, 3315313691, 1...</td>\n",
       "      <td>{, buckwheat, nutrition, trumpisatraitor, majo...</td>\n",
       "      <td>{nan, DCEU Earth 666, MCU Earth 616, nan, Repu...</td>\n",
       "      <td>{False, True}</td>\n",
       "    </tr>\n",
       "    <tr>\n",
       "      <th>74</th>\n",
       "      <td>1056303825995337730</td>\n",
       "      <td>{PeterJohnKing4, Douglas17569801, CanadaRomani...</td>\n",
       "      <td>{791612573531668481, 2932618967, 3315313691, 1...</td>\n",
       "      <td>{, buckwheat, nutrition, trumpisatraitor, majo...</td>\n",
       "      <td>{nan, DCEU Earth 666, MCU Earth 616, nan, Repu...</td>\n",
       "      <td>{False, True}</td>\n",
       "    </tr>\n",
       "    <tr>\n",
       "      <th>75</th>\n",
       "      <td>3245630026</td>\n",
       "      <td>{PeterJohnKing4, Douglas17569801, CanadaRomani...</td>\n",
       "      <td>{791612573531668481, 2932618967, 3315313691, 1...</td>\n",
       "      <td>{, buckwheat, nutrition, trumpisatraitor, majo...</td>\n",
       "      <td>{nan, DCEU Earth 666, MCU Earth 616, nan, nan,...</td>\n",
       "      <td>{False, True}</td>\n",
       "    </tr>\n",
       "    <tr>\n",
       "      <th>76</th>\n",
       "      <td>4186147403</td>\n",
       "      <td>{PeterJohnKing4, Douglas17569801, CanadaRomani...</td>\n",
       "      <td>{791612573531668481, 2932618967, 3315313691, 1...</td>\n",
       "      <td>{, buckwheat, sponsorsofterrorism, nutrition, ...</td>\n",
       "      <td>{nan, DCEU Earth 666, MCU Earth 616, nan, nan,...</td>\n",
       "      <td>{False, True}</td>\n",
       "    </tr>\n",
       "  </tbody>\n",
       "</table>\n",
       "<p>77 rows × 6 columns</p>\n",
       "</div>"
      ],
      "text/plain": [
       "                user_id                                               name  \\\n",
       "0   1357718765941710848                                   {PeterJohnKing4}   \n",
       "1   1151202637582348294                    {PeterJohnKing4, hephaistos_ai}   \n",
       "2   1466835011454189571     {PeterJohnKing4, RightAndFree_, hephaistos_ai}   \n",
       "3            4813333392  {PeterJohnKing4, RightAndFree_, PansareKetan, ...   \n",
       "4            2471461255  {PeterJohnKing4, CanadaRomania, RightAndFree_,...   \n",
       "..                  ...                                                ...   \n",
       "72             47941897  {PeterJohnKing4, Douglas17569801, CanadaRomani...   \n",
       "73           2865524457  {PeterJohnKing4, Douglas17569801, CanadaRomani...   \n",
       "74  1056303825995337730  {PeterJohnKing4, Douglas17569801, CanadaRomani...   \n",
       "75           3245630026  {PeterJohnKing4, Douglas17569801, CanadaRomani...   \n",
       "76           4186147403  {PeterJohnKing4, Douglas17569801, CanadaRomani...   \n",
       "\n",
       "                                              retweet  \\\n",
       "0                               {1219232377605644289}   \n",
       "1   {1533187263156432896, 24343635, 15422873631492...   \n",
       "2   {1533187263156432896, 24343635, 15422873631492...   \n",
       "3   {1533187263156432896, 24343635, 15422873631492...   \n",
       "4   {1533187263156432896, 33285177, 24343635, 4105...   \n",
       "..                                                ...   \n",
       "72  {791612573531668481, 2932618967, 1342474419944...   \n",
       "73  {791612573531668481, 2932618967, 3315313691, 1...   \n",
       "74  {791612573531668481, 2932618967, 3315313691, 1...   \n",
       "75  {791612573531668481, 2932618967, 3315313691, 1...   \n",
       "76  {791612573531668481, 2932618967, 3315313691, 1...   \n",
       "\n",
       "                                              hashtag  \\\n",
       "0                                   {ukraine, russia}   \n",
       "1   {plandemic, staycovidsafe, vote, vacci, republ...   \n",
       "2   {plandemic, staycovidsafe, vote, trumpisatrait...   \n",
       "3   {plandemic, staycovidsafe, vote, trumpisatrait...   \n",
       "4   {trumpisatraitor, republican, covidvaccine, tr...   \n",
       "..                                                ...   \n",
       "72  {, buckwheat, nutrition, trumpisatraitor, majo...   \n",
       "73  {, buckwheat, nutrition, trumpisatraitor, majo...   \n",
       "74  {, buckwheat, nutrition, trumpisatraitor, majo...   \n",
       "75  {, buckwheat, nutrition, trumpisatraitor, majo...   \n",
       "76  {, buckwheat, sponsorsofterrorism, nutrition, ...   \n",
       "\n",
       "                                             location       verified  \n",
       "0                                         {Somewhere}        {False}  \n",
       "1                                  {Paris, Somewhere}        {False}  \n",
       "2              {Paris, nan, Somewhere, nan, nan, nan}        {False}  \n",
       "3   {Paris, nan, nan, nan, Somewhere, nan, nan, na...        {False}  \n",
       "4   {Bucharest, Romania, Paris, nan, nan, nan, Som...  {False, True}  \n",
       "..                                                ...            ...  \n",
       "72  {nan, DCEU Earth 666, MCU Earth 616, nan, Repu...  {False, True}  \n",
       "73  {nan, DCEU Earth 666, MCU Earth 616, nan, Repu...  {False, True}  \n",
       "74  {nan, DCEU Earth 666, MCU Earth 616, nan, Repu...  {False, True}  \n",
       "75  {nan, DCEU Earth 666, MCU Earth 616, nan, nan,...  {False, True}  \n",
       "76  {nan, DCEU Earth 666, MCU Earth 616, nan, nan,...  {False, True}  \n",
       "\n",
       "[77 rows x 6 columns]"
      ]
     },
     "execution_count": 46,
     "metadata": {},
     "output_type": "execute_result"
    }
   ],
   "source": [
    "df_nodes"
   ]
  },
  {
   "cell_type": "code",
   "execution_count": 37,
   "id": "9d6486e1",
   "metadata": {},
   "outputs": [
    {
     "name": "stdout",
     "output_type": "stream",
     "text": [
      "l'utente 28 non  appartiene alla 4 categoria perchè usa {'slavaukraini'}\n",
      "l'utente 29 non  appartiene alla 4 categoria perchè usa {'slavaukraini'}\n",
      "l'utente 30 non  appartiene alla 4 categoria perchè usa {'slavaukraini'}\n",
      "l'utente 31 non  appartiene alla 4 categoria perchè usa {'slavaukraini'}\n",
      "l'utente 32 non  appartiene alla 4 categoria perchè usa {'slavaukraini'}\n",
      "l'utente 33 non  appartiene alla 4 categoria perchè usa {'slavaukraini'}\n",
      "l'utente 34 non  appartiene alla 4 categoria perchè usa {'slavaukraini'}\n",
      "l'utente 35 non  appartiene alla 4 categoria perchè usa {'slavaukraini'}\n",
      "l'utente 36 non  appartiene alla 4 categoria perchè usa {'slavaukraini'}\n",
      "l'utente 37 non  appartiene alla 4 categoria perchè usa {'slavaukraini'}\n",
      "l'utente 38 non  appartiene alla 4 categoria perchè usa {'slavaukraini'}\n",
      "l'utente 39 non  appartiene alla 4 categoria perchè usa {'slavaukraini'}\n",
      "l'utente 40 non  appartiene alla 4 categoria perchè usa {'slavaukraini'}\n",
      "l'utente 41 non  appartiene alla 4 categoria perchè usa {'slavaukraini', 'stopwarinukraine'}\n",
      "l'utente 42 non  appartiene alla 4 categoria perchè usa {'slavaukraini', 'stopwarinukraine'}\n",
      "l'utente 43 non  appartiene alla 4 categoria perchè usa {'slavaukraini', 'stopwarinukraine'}\n",
      "l'utente 44 non  appartiene alla 4 categoria perchè usa {'slavaukraini', 'stopwarinukraine'}\n",
      "l'utente 45 non  appartiene alla 4 categoria perchè usa {'slavaukraini', 'stopwarinukraine'}\n",
      "l'utente 46 non  appartiene alla 4 categoria perchè usa {'slavaukraini', 'stopwarinukraine'}\n",
      "l'utente 47 non  appartiene alla 4 categoria perchè usa {'slavaukraini', 'stopwarinukraine'}\n",
      "l'utente 48 non  appartiene alla 4 categoria perchè usa {'slavaukraini', 'stopwarinukraine'}\n",
      "l'utente 49 non  appartiene alla 4 categoria perchè usa {'slavaukraini', 'stopwarinukraine'}\n",
      "l'utente 50 non  appartiene alla 4 categoria perchè usa {'slavaukraini', 'stopwarinukraine'}\n",
      "l'utente 51 non  appartiene alla 4 categoria perchè usa {'slavaukraini', 'stopwarinukraine'}\n",
      "l'utente 52 non  appartiene alla 4 categoria perchè usa {'slavaukraini', 'stopwarinukraine'}\n",
      "l'utente 53 non  appartiene alla 4 categoria perchè usa {'slavaukraini', 'stopwarinukraine'}\n",
      "l'utente 54 non  appartiene alla 4 categoria perchè usa {'slavaukraini', 'stopwarinukraine'}\n",
      "l'utente 55 non  appartiene alla 4 categoria perchè usa {'slavaukraini', 'stopwarinukraine'}\n",
      "l'utente 56 non  appartiene alla 4 categoria perchè usa {'slavaukraini', 'stopwarinukraine'}\n",
      "l'utente 57 non  appartiene alla 4 categoria perchè usa {'slavaukraini', 'stopwarinukraine'}\n",
      "l'utente 58 non  appartiene alla 4 categoria perchè usa {'slavaukraini', 'stopwarinukraine'}\n",
      "l'utente 59 non  appartiene alla 4 categoria perchè usa {'slavaukraini', 'stopwarinukraine'}\n",
      "l'utente 60 non  appartiene alla 4 categoria perchè usa {'slavaukraini', 'stopwarinukraine'}\n",
      "l'utente 61 non  appartiene alla 4 categoria perchè usa {'slavaukraini', 'stopwarinukraine'}\n",
      "l'utente 62 non  appartiene alla 4 categoria perchè usa {'slavaukraini', 'stopwarinukraine'}\n",
      "l'utente 63 non  appartiene alla 4 categoria perchè usa {'slavaukraini', 'stopwarinukraine'}\n",
      "l'utente 64 non  appartiene alla 4 categoria perchè usa {'slavaukraini', 'stopwarinukraine'}\n",
      "l'utente 65 non  appartiene alla 4 categoria perchè usa {'slavaukraini', 'stopwarinukraine'}\n",
      "l'utente 66 non  appartiene alla 4 categoria perchè usa {'slavaukraini', 'stopwarinukraine'}\n",
      "l'utente 67 non  appartiene alla 4 categoria perchè usa {'slavaukraini', 'stopwarinukraine'}\n",
      "l'utente 68 non  appartiene alla 4 categoria perchè usa {'slavaukraini', 'stopwarinukraine'}\n",
      "l'utente 69 non  appartiene alla 4 categoria perchè usa {'slavaukraini', 'stopwarinukraine'}\n",
      "l'utente 70 non  appartiene alla 4 categoria perchè usa {'slavaukraini', 'stopwarinukraine'}\n",
      "l'utente 71 non  appartiene alla 4 categoria perchè usa {'slavaukraini', 'stopwarinukraine'}\n",
      "l'utente 72 non  appartiene alla 4 categoria perchè usa {'slavaukraini', 'stopwarinukraine'}\n",
      "l'utente 73 non  appartiene alla 4 categoria perchè usa {'slavaukraini', 'stopwarinukraine'}\n",
      "l'utente 74 non  appartiene alla 4 categoria perchè usa {'slavaukraini', 'stopwarinukraine'}\n",
      "l'utente 75 non  appartiene alla 4 categoria perchè usa {'slavaukraini', 'stopwarinukraine'}\n",
      "l'utente 76 non  appartiene alla 4 categoria perchè usa {'slavaukraini', 'stopwarinukraine'}\n",
      "l'utente 77 non  appartiene alla 4 categoria perchè usa {'slavaukraini', 'stopwarinukraine'}\n",
      "l'utente 78 non  appartiene alla 4 categoria perchè usa {'slavaukraini', 'stopwarinukraine'}\n",
      "l'utente 79 non  appartiene alla 4 categoria perchè usa {'slavaukraini', 'stopwarinukraine'}\n",
      "l'utente 80 non  appartiene alla 4 categoria perchè usa {'slavaukraini', 'stopwarinukraine'}\n",
      "l'utente 81 non  appartiene alla 4 categoria perchè usa {'slavaukraini', 'stopwarinukraine'}\n",
      "l'utente 82 non  appartiene alla 4 categoria perchè usa {'slavaukraini', 'stopwarinukraine'}\n",
      "l'utente 83 non  appartiene alla 4 categoria perchè usa {'slavaukraini', 'stopwarinukraine'}\n",
      "l'utente 84 non  appartiene alla 4 categoria perchè usa {'slavaukraini', 'stopwarinukraine'}\n",
      "l'utente 85 non  appartiene alla 4 categoria perchè usa {'slavaukraini', 'stopwarinukraine'}\n",
      "l'utente 86 non  appartiene alla 4 categoria perchè usa {'slavaukraini', 'stopwarinukraine'}\n",
      "l'utente 87 non  appartiene alla 4 categoria perchè usa {'slavaukraini', 'stopwarinukraine'}\n",
      "l'utente 88 non  appartiene alla 4 categoria perchè usa {'slavaukraini', 'stopwarinukraine'}\n",
      "l'utente 89 non  appartiene alla 4 categoria perchè usa {'slavaukraini', 'stopwarinukraine'}\n",
      "l'utente 90 non  appartiene alla 4 categoria perchè usa {'slavaukraini', 'stopwarinukraine'}\n",
      "l'utente 91 non  appartiene alla 4 categoria perchè usa {'slavaukraini', 'stopwarinukraine'}\n",
      "l'utente 92 non  appartiene alla 4 categoria perchè usa {'slavaukraini', 'stopwarinukraine'}\n",
      "l'utente 93 non  appartiene alla 4 categoria perchè usa {'slavaukraini', 'stopwarinukraine'}\n",
      "l'utente 94 non  appartiene alla 4 categoria perchè usa {'slavaukraini', 'stopwarinukraine'}\n",
      "l'utente 95 non  appartiene alla 4 categoria perchè usa {'slavaukraini', 'stopwarinukraine'}\n",
      "l'utente 96 non  appartiene alla 4 categoria perchè usa {'slavaukraini', 'stopwarinukraine'}\n",
      "l'utente 97 non  appartiene alla 4 categoria perchè usa {'slavaukraini', 'stopwarinukraine'}\n",
      "l'utente 98 non  appartiene alla 4 categoria perchè usa {'slavaukraini', 'stopwarinukraine'}\n",
      "l'utente 99 non  appartiene alla 4 categoria perchè usa {'slavaukraini', 'stopwarinukraine'}\n",
      "l'utente 100 non  appartiene alla 4 categoria perchè usa {'slavaukraini', 'stopwarinukraine'}\n",
      "l'utente 101 non  appartiene alla 4 categoria perchè usa {'slavaukraini', 'stopwarinukraine'}\n",
      "l'utente 102 non  appartiene alla 4 categoria perchè usa {'slavaukraini', 'stopwarinukraine'}\n",
      "l'utente 103 non  appartiene alla 4 categoria perchè usa {'slavaukraini', 'stopwarinukraine'}\n",
      "l'utente 104 non  appartiene alla 4 categoria perchè usa {'slavaukraini', 'stopwarinukraine'}\n",
      "l'utente 105 non  appartiene alla 4 categoria perchè usa {'slavaukraini', 'stopwarinukraine'}\n",
      "l'utente 106 non  appartiene alla 4 categoria perchè usa {'slavaukraini', 'stopwarinukraine'}\n",
      "l'utente 107 non  appartiene alla 4 categoria perchè usa {'slavaukraini', 'stopwarinukraine'}\n",
      "l'utente 108 non  appartiene alla 4 categoria perchè usa {'slavaukraini', 'stopwarinukraine'}\n",
      "l'utente 109 non  appartiene alla 4 categoria perchè usa {'slavaukraini', 'stopwarinukraine'}\n",
      "l'utente 110 non  appartiene alla 4 categoria perchè usa {'slavaukraini', 'stopwarinukraine'}\n",
      "l'utente 111 non  appartiene alla 4 categoria perchè usa {'slavaukraini', 'stopwarinukraine'}\n",
      "l'utente 112 non  appartiene alla 4 categoria perchè usa {'slavaukraini', 'stopwarinukraine'}\n",
      "l'utente 113 non  appartiene alla 4 categoria perchè usa {'slavaukraini', 'stopwarinukraine'}\n",
      "l'utente 114 non  appartiene alla 4 categoria perchè usa {'slavaukraini', 'stopwarinukraine'}\n",
      "l'utente 115 non  appartiene alla 4 categoria perchè usa {'slavaukraini', 'stopwarinukraine'}\n",
      "l'utente 116 non  appartiene alla 4 categoria perchè usa {'slavaukraini', 'stopwarinukraine'}\n",
      "l'utente 117 non  appartiene alla 4 categoria perchè usa {'slavaukraini', 'stopwarinukraine'}\n",
      "l'utente 118 non  appartiene alla 4 categoria perchè usa {'slavaukraini', 'stopwarinukraine'}\n",
      "l'utente 119 non  appartiene alla 4 categoria perchè usa {'slavaukraini', 'stopwarinukraine'}\n",
      "l'utente 120 non  appartiene alla 4 categoria perchè usa {'slavaukraini', 'stopwarinukraine'}\n",
      "l'utente 121 non  appartiene alla 4 categoria perchè usa {'slavaukraini', 'stopwarinukraine'}\n",
      "l'utente 122 non  appartiene alla 4 categoria perchè usa {'slavaukraini', 'stopwarinukraine'}\n",
      "l'utente 123 non  appartiene alla 4 categoria perchè usa {'slavaukraini', 'stopwarinukraine'}\n",
      "l'utente 124 non  appartiene alla 4 categoria perchè usa {'slavaukraini', 'stopwarinukraine'}\n",
      "l'utente 125 non  appartiene alla 4 categoria perchè usa {'slavaukraini', 'stopwarinukraine'}\n",
      "l'utente 126 non  appartiene alla 4 categoria perchè usa {'slavaukraini', 'stopwarinukraine'}\n",
      "l'utente 127 non  appartiene alla 4 categoria perchè usa {'slavaukraini', 'stopwarinukraine'}\n",
      "l'utente 128 non  appartiene alla 4 categoria perchè usa {'slavaukraini', 'stopwarinukraine'}\n",
      "l'utente 129 non  appartiene alla 4 categoria perchè usa {'slavaukraini', 'stopwarinukraine'}\n",
      "l'utente 130 non  appartiene alla 4 categoria perchè usa {'slavaukraini', 'stopwarinukraine'}\n",
      "l'utente 131 non  appartiene alla 4 categoria perchè usa {'slavaukraini', 'stopwarinukraine'}\n",
      "l'utente 132 non  appartiene alla 4 categoria perchè usa {'slavaukraini', 'stopwarinukraine'}\n",
      "l'utente 133 non  appartiene alla 4 categoria perchè usa {'slavaukraini', 'stopwarinukraine'}\n",
      "l'utente 134 non  appartiene alla 4 categoria perchè usa {'slavaukraini', 'stopwarinukraine'}\n",
      "l'utente 135 non  appartiene alla 4 categoria perchè usa {'slavaukraini', 'stopwarinukraine'}\n",
      "l'utente 136 non  appartiene alla 4 categoria perchè usa {'slavaukraini', 'stopwarinukraine'}\n",
      "l'utente 137 non  appartiene alla 4 categoria perchè usa {'slavaukraini', 'stopwarinukraine'}\n",
      "l'utente 138 non  appartiene alla 4 categoria perchè usa {'slavaukraini', 'stopwarinukraine'}\n",
      "l'utente 139 non  appartiene alla 4 categoria perchè usa {'slavaukraini', 'stopwarinukraine'}\n",
      "l'utente 140 non  appartiene alla 4 categoria perchè usa {'slavaukraini', 'stopwarinukraine'}\n",
      "l'utente 141 non  appartiene alla 4 categoria perchè usa {'slavaukraini', 'stopwarinukraine'}\n",
      "l'utente 142 non  appartiene alla 4 categoria perchè usa {'slavaukraini', 'stopwarinukraine'}\n",
      "l'utente 143 non  appartiene alla 4 categoria perchè usa {'slavaukraini', 'stopwarinukraine'}\n",
      "l'utente 144 non  appartiene alla 4 categoria perchè usa {'slavaukraini', 'stopwarinukraine'}\n",
      "l'utente 145 non  appartiene alla 4 categoria perchè usa {'slavaukraini', 'stopwarinukraine'}\n",
      "l'utente 146 non  appartiene alla 4 categoria perchè usa {'slavaukraini', 'stopwarinukraine'}\n",
      "l'utente 147 non  appartiene alla 4 categoria perchè usa {'slavaukraini', 'stopwarinukraine'}\n",
      "l'utente 148 non  appartiene alla 4 categoria perchè usa {'slavaukraini', 'stopwarinukraine'}\n",
      "l'utente 149 non  appartiene alla 4 categoria perchè usa {'slavaukraini', 'stopwarinukraine'}\n",
      "l'utente 150 non  appartiene alla 4 categoria perchè usa {'slavaukraini', 'stopwarinukraine'}\n",
      "l'utente 151 non  appartiene alla 4 categoria perchè usa {'slavaukraini', 'stopwarinukraine'}\n",
      "l'utente 152 non  appartiene alla 4 categoria perchè usa {'slavaukraini', 'stopwarinukraine'}\n",
      "l'utente 153 non  appartiene alla 4 categoria perchè usa {'slavaukraini', 'stopwarinukraine'}\n",
      "l'utente 154 non  appartiene alla 4 categoria perchè usa {'slavaukraini', 'stopwarinukraine'}\n",
      "l'utente 155 non  appartiene alla 4 categoria perchè usa {'slavaukraini', 'stopwarinukraine'}\n",
      "l'utente 156 non  appartiene alla 4 categoria perchè usa {'slavaukraini', 'stopwarinukraine'}\n",
      "l'utente 157 non  appartiene alla 4 categoria perchè usa {'slavaukraini', 'stopwarinukraine'}\n",
      "l'utente 158 non  appartiene alla 4 categoria perchè usa {'slavaukraini', 'stopwarinukraine'}\n",
      "l'utente 159 non  appartiene alla 4 categoria perchè usa {'slavaukraini', 'stopwarinukraine'}\n",
      "l'utente 160 non  appartiene alla 4 categoria perchè usa {'slavaukraini', 'stopwarinukraine'}\n",
      "l'utente 161 non  appartiene alla 4 categoria perchè usa {'slavaukraini', 'stopwarinukraine'}\n",
      "l'utente 162 non  appartiene alla 4 categoria perchè usa {'slavaukraini', 'stopwarinukraine'}\n",
      "l'utente 163 non  appartiene alla 4 categoria perchè usa {'slavaukraini', 'stopwarinukraine'}\n",
      "l'utente 164 non  appartiene alla 4 categoria perchè usa {'slavaukraini', 'stopwarinukraine'}\n",
      "l'utente 165 non  appartiene alla 4 categoria perchè usa {'slavaukraini', 'stopwarinukraine'}\n",
      "l'utente 166 non  appartiene alla 4 categoria perchè usa {'slavaukraini', 'stopwarinukraine'}\n",
      "l'utente 167 non  appartiene alla 4 categoria perchè usa {'slavaukraini', 'stopwarinukraine'}\n",
      "l'utente 168 non  appartiene alla 4 categoria perchè usa {'slavaukraini', 'stopwarinukraine'}\n",
      "l'utente 169 non  appartiene alla 4 categoria perchè usa {'slavaukraini', 'stopwarinukraine'}\n",
      "l'utente 170 non  appartiene alla 4 categoria perchè usa {'slavaukraini', 'stopwarinukraine'}\n",
      "l'utente 171 non  appartiene alla 4 categoria perchè usa {'slavaukraini', 'stopwarinukraine'}\n",
      "l'utente 172 non  appartiene alla 4 categoria perchè usa {'slavaukraini', 'stopwarinukraine'}\n",
      "l'utente 173 non  appartiene alla 4 categoria perchè usa {'slavaukraini', 'stopwarinukraine'}\n",
      "l'utente 174 non  appartiene alla 4 categoria perchè usa {'slavaukraini', 'stopwarinukraine'}\n",
      "l'utente 175 non  appartiene alla 4 categoria perchè usa {'slavaukraini', 'stopwarinukraine'}\n",
      "l'utente 176 non  appartiene alla 4 categoria perchè usa {'slavaukraini', 'stopwarinukraine'}\n",
      "l'utente 177 non  appartiene alla 4 categoria perchè usa {'slavaukraini', 'stopwarinukraine'}\n",
      "l'utente 178 non  appartiene alla 4 categoria perchè usa {'slavaukraini', 'stopwarinukraine'}\n",
      "l'utente 179 non  appartiene alla 4 categoria perchè usa {'slavaukraini', 'stopwarinukraine'}\n",
      "l'utente 180 non  appartiene alla 4 categoria perchè usa {'slavaukraini', 'stopwarinukraine'}\n",
      "l'utente 181 non  appartiene alla 4 categoria perchè usa {'slavaukraini', 'stopwarinukraine'}\n",
      "l'utente 182 non  appartiene alla 4 categoria perchè usa {'slavaukraini', 'stopwarinukraine'}\n",
      "l'utente 183 non  appartiene alla 4 categoria perchè usa {'slavaukraini', 'stopwarinukraine'}\n",
      "l'utente 184 non  appartiene alla 4 categoria perchè usa {'slavaukraini', 'stopwarinukraine'}\n",
      "l'utente 185 non  appartiene alla 4 categoria perchè usa {'slavaukraini', 'stopwarinukraine'}\n",
      "l'utente 186 non  appartiene alla 4 categoria perchè usa {'slavaukraini', 'stopwarinukraine'}\n",
      "l'utente 187 non  appartiene alla 4 categoria perchè usa {'slavaukraini', 'stopwarinukraine'}\n",
      "l'utente 188 non  appartiene alla 4 categoria perchè usa {'slavaukraini', 'stopwarinukraine'}\n",
      "l'utente 189 non  appartiene alla 4 categoria perchè usa {'slavaukraini', 'stopwarinukraine'}\n",
      "l'utente 190 non  appartiene alla 4 categoria perchè usa {'slavaukraini', 'stopwarinukraine'}\n",
      "l'utente 191 non  appartiene alla 4 categoria perchè usa {'slavaukraini', 'stopwarinukraine'}\n",
      "l'utente 192 non  appartiene alla 4 categoria perchè usa {'slavaukraini', 'stopwarinukraine'}\n",
      "l'utente 193 non  appartiene alla 4 categoria perchè usa {'slavaukraini', 'stopwarinukraine'}\n",
      "l'utente 194 non  appartiene alla 4 categoria perchè usa {'slavaukraini', 'stopwarinukraine'}\n",
      "l'utente 195 non  appartiene alla 4 categoria perchè usa {'slavaukraini', 'stopwarinukraine'}\n",
      "l'utente 196 non  appartiene alla 4 categoria perchè usa {'slavaukraini', 'stopwarinukraine'}\n",
      "l'utente 197 non  appartiene alla 4 categoria perchè usa {'slavaukraini', 'stopwarinukraine'}\n",
      "l'utente 198 non  appartiene alla 4 categoria perchè usa {'slavaukraini', 'stopwarinukraine'}\n",
      "l'utente 199 non  appartiene alla 4 categoria perchè usa {'slavaukraini', 'stopwarinukraine'}\n",
      "l'utente 200 non  appartiene alla 4 categoria perchè usa {'slavaukraini', 'stopwarinukraine'}\n",
      "l'utente 201 non  appartiene alla 4 categoria perchè usa {'slavaukraini', 'stopwarinukraine'}\n",
      "l'utente 202 non  appartiene alla 4 categoria perchè usa {'slavaukraini', 'stopwarinukraine'}\n",
      "l'utente 203 non  appartiene alla 4 categoria perchè usa {'slavaukraini', 'stopwarinukraine'}\n",
      "l'utente 204 non  appartiene alla 4 categoria perchè usa {'slavaukraini', 'stopwarinukraine'}\n",
      "l'utente 205 non  appartiene alla 4 categoria perchè usa {'slavaukraini', 'stopwarinukraine'}\n",
      "l'utente 206 non  appartiene alla 4 categoria perchè usa {'slavaukraini', 'stopwarinukraine'}\n",
      "l'utente 207 non  appartiene alla 4 categoria perchè usa {'slavaukraini', 'stopwarinukraine'}\n",
      "l'utente 208 non  appartiene alla 4 categoria perchè usa {'slavaukraini', 'stopwarinukraine'}\n",
      "l'utente 209 non  appartiene alla 4 categoria perchè usa {'slavaukraini', 'stopwarinukraine'}\n",
      "l'utente 210 non  appartiene alla 4 categoria perchè usa {'slavaukraini', 'stopwarinukraine'}\n",
      "l'utente 211 non  appartiene alla 4 categoria perchè usa {'slavaukraini', 'stopwarinukraine'}\n",
      "l'utente 212 non  appartiene alla 4 categoria perchè usa {'slavaukraini', 'stopwarinukraine'}\n",
      "l'utente 213 non  appartiene alla 4 categoria perchè usa {'slavaukraini', 'stopwarinukraine'}\n",
      "l'utente 214 non  appartiene alla 4 categoria perchè usa {'slavaukraini', 'istandwithrussia', 'stopwarinukraine'}\n",
      "l'utente 215 non  appartiene alla 4 categoria perchè usa {'slavaukraini', 'istandwithrussia', 'stopwarinukraine'}\n",
      "l'utente 216 non  appartiene alla 4 categoria perchè usa {'slavaukraini', 'istandwithrussia', 'stopwarinukraine'}\n",
      "l'utente 217 non  appartiene alla 4 categoria perchè usa {'slavaukraini', 'istandwithrussia', 'stopwarinukraine'}\n",
      "l'utente 218 non  appartiene alla 4 categoria perchè usa {'slavaukraini', 'istandwithrussia', 'stopwarinukraine'}\n",
      "l'utente 219 non  appartiene alla 4 categoria perchè usa {'slavaukraini', 'istandwithrussia', 'stopwarinukraine'}\n",
      "l'utente 220 non  appartiene alla 4 categoria perchè usa {'slavaukraini', 'istandwithrussia', 'stopwarinukraine'}\n",
      "l'utente 221 non  appartiene alla 4 categoria perchè usa {'slavaukraini', 'istandwithrussia', 'stopwarinukraine'}\n",
      "l'utente 222 non  appartiene alla 4 categoria perchè usa {'slavaukraini', 'istandwithrussia', 'stopwarinukraine'}\n",
      "l'utente 223 non  appartiene alla 4 categoria perchè usa {'slavaukraini', 'istandwithrussia', 'stopwarinukraine'}\n",
      "l'utente 224 non  appartiene alla 4 categoria perchè usa {'slavaukraini', 'istandwithrussia', 'stopwarinukraine'}\n",
      "l'utente 225 non  appartiene alla 4 categoria perchè usa {'slavaukraini', 'istandwithrussia', 'stopwarinukraine'}\n",
      "l'utente 226 non  appartiene alla 4 categoria perchè usa {'slavaukraini', 'istandwithrussia', 'stopwarinukraine'}\n",
      "l'utente 227 non  appartiene alla 4 categoria perchè usa {'slavaukraini', 'istandwithrussia', 'stopwarinukraine'}\n",
      "l'utente 228 non  appartiene alla 4 categoria perchè usa {'slavaukraini', 'istandwithrussia', 'stopwarinukraine'}\n",
      "l'utente 229 non  appartiene alla 4 categoria perchè usa {'slavaukraini', 'istandwithrussia', 'stopwarinukraine'}\n",
      "l'utente 230 non  appartiene alla 4 categoria perchè usa {'slavaukraini', 'istandwithrussia', 'stopwarinukraine'}\n",
      "l'utente 231 non  appartiene alla 4 categoria perchè usa {'slavaukraini', 'istandwithrussia', 'stopwarinukraine'}\n",
      "l'utente 232 non  appartiene alla 4 categoria perchè usa {'slavaukraini', 'istandwithrussia', 'stopwarinukraine'}\n",
      "l'utente 233 non  appartiene alla 4 categoria perchè usa {'slavaukraini', 'istandwithrussia', 'stopwarinukraine'}\n",
      "l'utente 234 non  appartiene alla 4 categoria perchè usa {'slavaukraini', 'istandwithrussia', 'stopwarinukraine'}\n",
      "l'utente 235 non  appartiene alla 4 categoria perchè usa {'slavaukraini', 'istandwithrussia', 'stopwarinukraine'}\n",
      "l'utente 236 non  appartiene alla 4 categoria perchè usa {'slavaukraini', 'istandwithrussia', 'stopwarinukraine'}\n",
      "l'utente 237 non  appartiene alla 4 categoria perchè usa {'slavaukraini', 'istandwithrussia', 'stopwarinukraine'}\n",
      "l'utente 238 non  appartiene alla 4 categoria perchè usa {'slavaukraini', 'istandwithrussia', 'stopwarinukraine'}\n",
      "l'utente 239 non  appartiene alla 4 categoria perchè usa {'slavaukraini', 'istandwithrussia', 'stopwarinukraine'}\n",
      "l'utente 240 non  appartiene alla 4 categoria perchè usa {'slavaukraini', 'istandwithrussia', 'stopwarinukraine'}\n",
      "l'utente 241 non  appartiene alla 4 categoria perchè usa {'slavaukraini', 'istandwithrussia', 'stopwarinukraine'}\n",
      "l'utente 242 non  appartiene alla 4 categoria perchè usa {'slavaukraini', 'istandwithrussia', 'stopwarinukraine'}\n",
      "l'utente 243 non  appartiene alla 4 categoria perchè usa {'slavaukraini', 'istandwithrussia', 'stopwarinukraine'}\n",
      "l'utente 244 non  appartiene alla 4 categoria perchè usa {'slavaukraini', 'istandwithrussia', 'stopwarinukraine'}\n",
      "l'utente 245 non  appartiene alla 4 categoria perchè usa {'slavaukraini', 'istandwithrussia', 'stopwarinukraine'}\n",
      "l'utente 246 non  appartiene alla 4 categoria perchè usa {'slavaukraini', 'istandwithrussia', 'stopwarinukraine'}\n",
      "l'utente 247 non  appartiene alla 4 categoria perchè usa {'slavaukraini', 'istandwithrussia', 'stopwarinukraine'}\n",
      "l'utente 248 non  appartiene alla 4 categoria perchè usa {'slavaukraini', 'istandwithrussia', 'stopwarinukraine'}\n",
      "l'utente 249 non  appartiene alla 4 categoria perchè usa {'slavaukraini', 'istandwithrussia', 'stopwarinukraine'}\n",
      "l'utente 250 non  appartiene alla 4 categoria perchè usa {'slavaukraini', 'istandwithrussia', 'stopwarinukraine'}\n",
      "l'utente 251 non  appartiene alla 4 categoria perchè usa {'slavaukraini', 'istandwithrussia', 'stopwarinukraine'}\n",
      "l'utente 252 non  appartiene alla 4 categoria perchè usa {'slavaukraini', 'istandwithrussia', 'stopwarinukraine'}\n",
      "l'utente 253 non  appartiene alla 4 categoria perchè usa {'slavaukraini', 'istandwithrussia', 'stopwarinukraine'}\n",
      "l'utente 254 non  appartiene alla 4 categoria perchè usa {'slavaukraini', 'istandwithrussia', 'stopwarinukraine'}\n",
      "l'utente 255 non  appartiene alla 4 categoria perchè usa {'slavaukraini', 'istandwithrussia', 'stopwarinukraine'}\n",
      "l'utente 256 non  appartiene alla 4 categoria perchè usa {'slavaukraini', 'istandwithrussia', 'stopwarinukraine'}\n",
      "l'utente 257 non  appartiene alla 4 categoria perchè usa {'slavaukraini', 'istandwithrussia', 'stopwarinukraine'}\n",
      "l'utente 258 non  appartiene alla 4 categoria perchè usa {'slavaukraini', 'istandwithrussia', 'stopwarinukraine'}\n",
      "l'utente 259 non  appartiene alla 4 categoria perchè usa {'slavaukraini', 'istandwithrussia', 'stopwarinukraine'}\n",
      "l'utente 260 non  appartiene alla 4 categoria perchè usa {'slavaukraini', 'istandwithrussia', 'stopwarinukraine'}\n",
      "l'utente 261 non  appartiene alla 4 categoria perchè usa {'slavaukraini', 'istandwithrussia', 'stopwarinukraine'}\n",
      "l'utente 262 non  appartiene alla 4 categoria perchè usa {'slavaukraini', 'istandwithrussia', 'stopwarinukraine'}\n",
      "l'utente 263 non  appartiene alla 4 categoria perchè usa {'slavaukraini', 'istandwithrussia', 'stopwarinukraine'}\n",
      "l'utente 264 non  appartiene alla 4 categoria perchè usa {'slavaukraini', 'istandwithrussia', 'stopwarinukraine'}\n",
      "l'utente 265 non  appartiene alla 4 categoria perchè usa {'slavaukraini', 'istandwithrussia', 'stopwarinukraine'}\n",
      "l'utente 266 non  appartiene alla 4 categoria perchè usa {'slavaukraini', 'istandwithrussia', 'stopwarinukraine'}\n",
      "l'utente 267 non  appartiene alla 4 categoria perchè usa {'slavaukraini', 'istandwithrussia', 'stopwarinukraine'}\n",
      "l'utente 268 non  appartiene alla 4 categoria perchè usa {'slavaukraini', 'istandwithrussia', 'stopwarinukraine'}\n",
      "l'utente 269 non  appartiene alla 4 categoria perchè usa {'slavaukraini', 'istandwithrussia', 'stopwarinukraine'}\n",
      "l'utente 270 non  appartiene alla 4 categoria perchè usa {'slavaukraini', 'istandwithrussia', 'stopwarinukraine'}\n",
      "l'utente 271 non  appartiene alla 4 categoria perchè usa {'slavaukraini', 'istandwithrussia', 'stopwarinukraine'}\n",
      "l'utente 272 non  appartiene alla 4 categoria perchè usa {'slavaukraini', 'istandwithrussia', 'stopwarinukraine'}\n",
      "l'utente 273 non  appartiene alla 4 categoria perchè usa {'slavaukraini', 'istandwithrussia', 'stopwarinukraine'}\n",
      "l'utente 274 non  appartiene alla 4 categoria perchè usa {'slavaukraini', 'istandwithrussia', 'stopwarinukraine'}\n",
      "l'utente 275 non  appartiene alla 4 categoria perchè usa {'slavaukraini', 'istandwithrussia', 'stopwarinukraine'}\n",
      "l'utente 276 non  appartiene alla 4 categoria perchè usa {'slavaukraini', 'istandwithrussia', 'stopwarinukraine'}\n",
      "l'utente 277 non  appartiene alla 4 categoria perchè usa {'slavaukraini', 'istandwithrussia', 'stopwarinukraine'}\n",
      "l'utente 278 non  appartiene alla 4 categoria perchè usa {'slavaukraini', 'istandwithrussia', 'stopwarinukraine'}\n",
      "l'utente 279 non  appartiene alla 4 categoria perchè usa {'slavaukraini', 'istandwithrussia', 'stopwarinukraine'}\n",
      "l'utente 280 non  appartiene alla 4 categoria perchè usa {'slavaukraini', 'istandwithrussia', 'stopwarinukraine'}\n",
      "l'utente 281 non  appartiene alla 4 categoria perchè usa {'slavaukraini', 'istandwithrussia', 'stopwarinukraine'}\n",
      "l'utente 282 non  appartiene alla 4 categoria perchè usa {'slavaukraini', 'istandwithrussia', 'stopwarinukraine'}\n",
      "l'utente 283 non  appartiene alla 4 categoria perchè usa {'slavaukraini', 'istandwithrussia', 'stopwarinukraine'}\n",
      "l'utente 284 non  appartiene alla 4 categoria perchè usa {'slavaukraini', 'istandwithrussia', 'stopwarinukraine'}\n",
      "l'utente 285 non  appartiene alla 4 categoria perchè usa {'slavaukraini', 'istandwithrussia', 'stopwarinukraine'}\n",
      "l'utente 286 non  appartiene alla 4 categoria perchè usa {'slavaukraini', 'istandwithrussia', 'stopwarinukraine'}\n",
      "l'utente 287 non  appartiene alla 4 categoria perchè usa {'slavaukraini', 'istandwithrussia', 'stopwarinukraine'}\n",
      "l'utente 288 non  appartiene alla 4 categoria perchè usa {'slavaukraini', 'istandwithrussia', 'stopwarinukraine'}\n",
      "l'utente 289 non  appartiene alla 4 categoria perchè usa {'slavaukraini', 'istandwithrussia', 'stopwarinukraine'}\n",
      "l'utente 290 non  appartiene alla 4 categoria perchè usa {'slavaukraini', 'istandwithrussia', 'stopwarinukraine'}\n",
      "l'utente 291 non  appartiene alla 4 categoria perchè usa {'slavaukraini', 'istandwithrussia', 'stopwarinukraine'}\n",
      "l'utente 292 non  appartiene alla 4 categoria perchè usa {'slavaukraini', 'istandwithrussia', 'stopwarinukraine'}\n",
      "l'utente 293 non  appartiene alla 4 categoria perchè usa {'slavaukraini', 'istandwithrussia', 'stopwarinukraine'}\n",
      "l'utente 294 non  appartiene alla 4 categoria perchè usa {'slavaukraini', 'istandwithrussia', 'stopwarinukraine'}\n",
      "l'utente 295 non  appartiene alla 4 categoria perchè usa {'slavaukraini', 'istandwithrussia', 'stopwarinukraine'}\n",
      "l'utente 296 non  appartiene alla 4 categoria perchè usa {'slavaukraini', 'istandwithrussia', 'stopwarinukraine'}\n",
      "l'utente 297 non  appartiene alla 4 categoria perchè usa {'slavaukraini', 'istandwithrussia', 'stopwarinukraine'}\n",
      "l'utente 298 non  appartiene alla 4 categoria perchè usa {'slavaukraini', 'istandwithrussia', 'stopwarinukraine'}\n",
      "l'utente 299 non  appartiene alla 4 categoria perchè usa {'slavaukraini', 'istandwithrussia', 'stopwarinukraine'}\n",
      "l'utente 300 non  appartiene alla 4 categoria perchè usa {'slavaukraini', 'istandwithrussia', 'stopwarinukraine'}\n",
      "l'utente 301 non  appartiene alla 4 categoria perchè usa {'slavaukraini', 'istandwithrussia', 'stopwarinukraine'}\n",
      "l'utente 302 non  appartiene alla 4 categoria perchè usa {'slavaukraini', 'istandwithrussia', 'stopwarinukraine'}\n",
      "l'utente 303 non  appartiene alla 4 categoria perchè usa {'slavaukraini', 'istandwithrussia', 'stopwarinukraine'}\n",
      "l'utente 304 non  appartiene alla 4 categoria perchè usa {'slavaukraini', 'istandwithrussia', 'stopwarinukraine'}\n",
      "l'utente 305 non  appartiene alla 4 categoria perchè usa {'slavaukraini', 'istandwithrussia', 'stopwarinukraine'}\n",
      "l'utente 306 non  appartiene alla 4 categoria perchè usa {'slavaukraini', 'istandwithrussia', 'stopwarinukraine'}\n",
      "l'utente 307 non  appartiene alla 4 categoria perchè usa {'slavaukraini', 'istandwithrussia', 'stopwarinukraine'}\n",
      "l'utente 308 non  appartiene alla 4 categoria perchè usa {'slavaukraini', 'istandwithrussia', 'stopwarinukraine'}\n",
      "l'utente 309 non  appartiene alla 4 categoria perchè usa {'slavaukraini', 'istandwithrussia', 'stopwarinukraine'}\n",
      "l'utente 310 non  appartiene alla 4 categoria perchè usa {'slavaukraini', 'istandwithrussia', 'stopwarinukraine'}\n",
      "l'utente 311 non  appartiene alla 4 categoria perchè usa {'slavaukraini', 'istandwithrussia', 'stopwarinukraine'}\n",
      "l'utente 312 non  appartiene alla 4 categoria perchè usa {'slavaukraini', 'istandwithrussia', 'stopwarinukraine'}\n",
      "l'utente 313 non  appartiene alla 4 categoria perchè usa {'slavaukraini', 'istandwithrussia', 'stopwarinukraine'}\n",
      "l'utente 314 non  appartiene alla 4 categoria perchè usa {'slavaukraini', 'istandwithrussia', 'stopwarinukraine'}\n",
      "l'utente 315 non  appartiene alla 4 categoria perchè usa {'slavaukraini', 'istandwithrussia', 'stopwarinukraine'}\n",
      "l'utente 316 non  appartiene alla 4 categoria perchè usa {'slavaukraini', 'istandwithrussia', 'stopwarinukraine'}\n",
      "l'utente 317 non  appartiene alla 4 categoria perchè usa {'slavaukraini', 'istandwithrussia', 'stopwarinukraine'}\n",
      "l'utente 318 non  appartiene alla 4 categoria perchè usa {'slavaukraini', 'istandwithrussia', 'stopwarinukraine'}\n",
      "l'utente 319 non  appartiene alla 4 categoria perchè usa {'slavaukraini', 'istandwithrussia', 'stopwarinukraine'}\n",
      "l'utente 320 non  appartiene alla 4 categoria perchè usa {'slavaukraini', 'istandwithrussia', 'stopwarinukraine'}\n",
      "l'utente 321 non  appartiene alla 4 categoria perchè usa {'slavaukraini', 'istandwithrussia', 'stopwarinukraine'}\n",
      "l'utente 322 non  appartiene alla 4 categoria perchè usa {'slavaukraini', 'istandwithrussia', 'stopwarinukraine'}\n",
      "l'utente 323 non  appartiene alla 4 categoria perchè usa {'slavaukraini', 'istandwithrussia', 'stopwarinukraine'}\n",
      "l'utente 324 non  appartiene alla 4 categoria perchè usa {'slavaukraini', 'istandwithrussia', 'stopwarinukraine'}\n",
      "l'utente 325 non  appartiene alla 4 categoria perchè usa {'slavaukraini', 'istandwithrussia', 'stopwarinukraine'}\n",
      "l'utente 326 non  appartiene alla 4 categoria perchè usa {'slavaukraini', 'istandwithrussia', 'stopwarinukraine'}\n",
      "l'utente 327 non  appartiene alla 4 categoria perchè usa {'slavaukraini', 'istandwithrussia', 'stopwarinukraine'}\n",
      "l'utente 328 non  appartiene alla 4 categoria perchè usa {'slavaukraini', 'istandwithrussia', 'stopwarinukraine'}\n",
      "l'utente 329 non  appartiene alla 4 categoria perchè usa {'slavaukraini', 'istandwithrussia', 'stopwarinukraine'}\n",
      "l'utente 330 non  appartiene alla 4 categoria perchè usa {'slavaukraini', 'istandwithrussia', 'stopwarinukraine'}\n",
      "l'utente 331 non  appartiene alla 4 categoria perchè usa {'slavaukraini', 'istandwithrussia', 'stopwarinukraine'}\n",
      "l'utente 332 non  appartiene alla 4 categoria perchè usa {'slavaukraini', 'istandwithrussia', 'stopwarinukraine'}\n",
      "l'utente 333 non  appartiene alla 4 categoria perchè usa {'slavaukraini', 'istandwithrussia', 'stopwarinukraine'}\n",
      "l'utente 334 non  appartiene alla 4 categoria perchè usa {'slavaukraini', 'istandwithrussia', 'stopwarinukraine'}\n",
      "l'utente 335 non  appartiene alla 4 categoria perchè usa {'slavaukraini', 'istandwithrussia', 'stopwarinukraine'}\n",
      "l'utente 336 non  appartiene alla 4 categoria perchè usa {'slavaukraini', 'istandwithrussia', 'stopwarinukraine'}\n",
      "l'utente 337 non  appartiene alla 4 categoria perchè usa {'slavaukraini', 'istandwithrussia', 'stopwarinukraine'}\n",
      "l'utente 338 non  appartiene alla 4 categoria perchè usa {'slavaukraini', 'istandwithrussia', 'stopwarinukraine'}\n",
      "l'utente 339 non  appartiene alla 4 categoria perchè usa {'slavaukraini', 'istandwithrussia', 'stopwarinukraine'}\n",
      "l'utente 340 non  appartiene alla 4 categoria perchè usa {'slavaukraini', 'istandwithrussia', 'stopwarinukraine'}\n",
      "l'utente 341 non  appartiene alla 4 categoria perchè usa {'slavaukraini', 'istandwithrussia', 'stopwarinukraine'}\n",
      "l'utente 342 non  appartiene alla 4 categoria perchè usa {'slavaukraini', 'istandwithrussia', 'stopwarinukraine'}\n",
      "l'utente 343 non  appartiene alla 4 categoria perchè usa {'slavaukraini', 'istandwithrussia', 'stopwarinukraine'}\n",
      "l'utente 344 non  appartiene alla 4 categoria perchè usa {'slavaukraini', 'istandwithrussia', 'stopwarinukraine'}\n",
      "l'utente 345 non  appartiene alla 4 categoria perchè usa {'slavaukraini', 'istandwithrussia', 'stopwarinukraine'}\n",
      "l'utente 346 non  appartiene alla 4 categoria perchè usa {'slavaukraini', 'istandwithrussia', 'stopwarinukraine'}\n",
      "l'utente 347 non  appartiene alla 4 categoria perchè usa {'slavaukraini', 'istandwithrussia', 'stopwarinukraine'}\n",
      "l'utente 348 non  appartiene alla 4 categoria perchè usa {'slavaukraini', 'istandwithrussia', 'stopwarinukraine'}\n",
      "l'utente 349 non  appartiene alla 4 categoria perchè usa {'slavaukraini', 'istandwithrussia', 'stopwarinukraine'}\n",
      "l'utente 350 non  appartiene alla 4 categoria perchè usa {'slavaukraini', 'istandwithrussia', 'stopwarinukraine'}\n",
      "l'utente 351 non  appartiene alla 4 categoria perchè usa {'slavaukraini', 'istandwithrussia', 'stopwarinukraine'}\n",
      "l'utente 352 non  appartiene alla 4 categoria perchè usa {'slavaukraini', 'istandwithrussia', 'stopwarinukraine'}\n",
      "l'utente 353 non  appartiene alla 4 categoria perchè usa {'slavaukraini', 'istandwithrussia', 'stopwarinukraine'}\n",
      "l'utente 354 non  appartiene alla 4 categoria perchè usa {'slavaukraini', 'istandwithrussia', 'stopwarinukraine'}\n",
      "l'utente 355 non  appartiene alla 4 categoria perchè usa {'slavaukraini', 'istandwithrussia', 'stopwarinukraine'}\n",
      "l'utente 356 non  appartiene alla 4 categoria perchè usa {'slavaukraini', 'istandwithrussia', 'stopwarinukraine'}\n",
      "l'utente 357 non  appartiene alla 4 categoria perchè usa {'slavaukraini', 'istandwithrussia', 'stopwarinukraine'}\n",
      "l'utente 358 non  appartiene alla 4 categoria perchè usa {'slavaukraini', 'istandwithrussia', 'stopwarinukraine'}\n",
      "l'utente 359 non  appartiene alla 4 categoria perchè usa {'slavaukraini', 'istandwithrussia', 'stopwarinukraine'}\n",
      "l'utente 360 non  appartiene alla 4 categoria perchè usa {'slavaukraini', 'istandwithrussia', 'stopwarinukraine'}\n",
      "l'utente 361 non  appartiene alla 4 categoria perchè usa {'slavaukraini', 'istandwithrussia', 'stopwarinukraine'}\n",
      "l'utente 362 non  appartiene alla 4 categoria perchè usa {'slavaukraini', 'istandwithrussia', 'stopwarinukraine'}\n",
      "l'utente 363 non  appartiene alla 4 categoria perchè usa {'slavaukraini', 'istandwithrussia', 'stopwarinukraine'}\n",
      "l'utente 364 non  appartiene alla 4 categoria perchè usa {'slavaukraini', 'istandwithrussia', 'stopwarinukraine'}\n",
      "l'utente 365 non  appartiene alla 4 categoria perchè usa {'slavaukraini', 'istandwithrussia', 'stopwarinukraine'}\n",
      "l'utente 366 non  appartiene alla 4 categoria perchè usa {'slavaukraini', 'istandwithrussia', 'stopwarinukraine'}\n",
      "l'utente 367 non  appartiene alla 4 categoria perchè usa {'slavaukraini', 'istandwithrussia', 'stopwarinukraine'}\n",
      "l'utente 368 non  appartiene alla 4 categoria perchè usa {'slavaukraini', 'istandwithrussia', 'stopwarinukraine'}\n",
      "l'utente 369 non  appartiene alla 4 categoria perchè usa {'slavaukraini', 'istandwithrussia', 'stopwarinukraine'}\n",
      "l'utente 370 non  appartiene alla 4 categoria perchè usa {'slavaukraini', 'istandwithrussia', 'stopwarinukraine'}\n",
      "l'utente 371 non  appartiene alla 4 categoria perchè usa {'slavaukraini', 'istandwithrussia', 'stopwarinukraine'}\n",
      "l'utente 372 non  appartiene alla 4 categoria perchè usa {'slavaukraini', 'istandwithrussia', 'stopwarinukraine'}\n",
      "l'utente 373 non  appartiene alla 4 categoria perchè usa {'slavaukraini', 'istandwithrussia', 'stopwarinukraine'}\n",
      "l'utente 374 non  appartiene alla 4 categoria perchè usa {'slavaukraini', 'istandwithrussia', 'stopwarinukraine'}\n",
      "l'utente 375 non  appartiene alla 4 categoria perchè usa {'slavaukraini', 'istandwithrussia', 'stopwarinukraine'}\n",
      "l'utente 376 non  appartiene alla 4 categoria perchè usa {'slavaukraini', 'istandwithrussia', 'stopwarinukraine'}\n",
      "l'utente 377 non  appartiene alla 4 categoria perchè usa {'slavaukraini', 'istandwithrussia', 'stopwarinukraine'}\n",
      "l'utente 378 non  appartiene alla 4 categoria perchè usa {'slavaukraini', 'istandwithrussia', 'stopwarinukraine'}\n",
      "l'utente 379 non  appartiene alla 4 categoria perchè usa {'slavaukraini', 'istandwithrussia', 'stopwarinukraine'}\n",
      "l'utente 380 non  appartiene alla 4 categoria perchè usa {'slavaukraini', 'istandwithrussia', 'stopwarinukraine'}\n",
      "l'utente 381 non  appartiene alla 4 categoria perchè usa {'slavaukraini', 'istandwithrussia', 'stopwarinukraine'}\n",
      "l'utente 382 non  appartiene alla 4 categoria perchè usa {'slavaukraini', 'istandwithrussia', 'stopwarinukraine'}\n",
      "l'utente 383 non  appartiene alla 4 categoria perchè usa {'slavaukraini', 'istandwithrussia', 'stopwarinukraine'}\n",
      "l'utente 384 non  appartiene alla 4 categoria perchè usa {'slavaukraini', 'istandwithrussia', 'stopwarinukraine'}\n",
      "l'utente 385 non  appartiene alla 4 categoria perchè usa {'slavaukraini', 'istandwithrussia', 'stopwarinukraine'}\n",
      "l'utente 386 non  appartiene alla 4 categoria perchè usa {'slavaukraini', 'istandwithrussia', 'stopwarinukraine'}\n",
      "l'utente 387 non  appartiene alla 4 categoria perchè usa {'slavaukraini', 'istandwithrussia', 'stopwarinukraine'}\n",
      "l'utente 388 non  appartiene alla 4 categoria perchè usa {'slavaukraini', 'istandwithrussia', 'stopwarinukraine'}\n",
      "l'utente 389 non  appartiene alla 4 categoria perchè usa {'slavaukraini', 'istandwithrussia', 'stopwarinukraine'}\n",
      "l'utente 390 non  appartiene alla 4 categoria perchè usa {'slavaukraini', 'istandwithrussia', 'stopwarinukraine'}\n",
      "l'utente 391 non  appartiene alla 4 categoria perchè usa {'slavaukraini', 'istandwithrussia', 'stopwarinukraine'}\n",
      "l'utente 392 non  appartiene alla 4 categoria perchè usa {'slavaukraini', 'istandwithrussia', 'stopwarinukraine'}\n",
      "l'utente 393 non  appartiene alla 4 categoria perchè usa {'slavaukraini', 'istandwithrussia', 'stopwarinukraine'}\n",
      "l'utente 394 non  appartiene alla 4 categoria perchè usa {'slavaukraini', 'istandwithrussia', 'stopwarinukraine'}\n",
      "l'utente 395 non  appartiene alla 4 categoria perchè usa {'slavaukraini', 'istandwithrussia', 'stopwarinukraine'}\n",
      "l'utente 396 non  appartiene alla 4 categoria perchè usa {'slavaukraini', 'istandwithrussia', 'stopwarinukraine'}\n",
      "l'utente 397 non  appartiene alla 4 categoria perchè usa {'slavaukraini', 'istandwithrussia', 'stopwarinukraine'}\n",
      "l'utente 398 non  appartiene alla 4 categoria perchè usa {'slavaukraini', 'istandwithrussia', 'stopwarinukraine'}\n",
      "l'utente 399 non  appartiene alla 4 categoria perchè usa {'slavaukraini', 'istandwithrussia', 'stopwarinukraine'}\n",
      "l'utente 400 non  appartiene alla 4 categoria perchè usa {'slavaukraini', 'istandwithrussia', 'stopwarinukraine'}\n",
      "l'utente 401 non  appartiene alla 4 categoria perchè usa {'slavaukraini', 'istandwithrussia', 'stopwarinukraine'}\n",
      "l'utente 402 non  appartiene alla 4 categoria perchè usa {'slavaukraini', 'istandwithrussia', 'stopwarinukraine'}\n",
      "l'utente 403 non  appartiene alla 4 categoria perchè usa {'slavaukraini', 'istandwithrussia', 'stopwarinukraine'}\n",
      "l'utente 404 non  appartiene alla 4 categoria perchè usa {'slavaukraini', 'istandwithrussia', 'stopwarinukraine'}\n",
      "l'utente 405 non  appartiene alla 4 categoria perchè usa {'slavaukraini', 'istandwithrussia', 'stopwarinukraine'}\n",
      "l'utente 406 non  appartiene alla 4 categoria perchè usa {'slavaukraini', 'istandwithrussia', 'stopwarinukraine'}\n",
      "l'utente 407 non  appartiene alla 4 categoria perchè usa {'slavaukraini', 'istandwithrussia', 'stopwarinukraine'}\n",
      "l'utente 408 non  appartiene alla 4 categoria perchè usa {'slavaukraini', 'istandwithrussia', 'stopwarinukraine'}\n",
      "l'utente 409 non  appartiene alla 4 categoria perchè usa {'slavaukraini', 'istandwithrussia', 'stopwarinukraine'}\n",
      "l'utente 410 non  appartiene alla 4 categoria perchè usa {'slavaukraini', 'istandwithrussia', 'stopwarinukraine'}\n",
      "l'utente 411 non  appartiene alla 4 categoria perchè usa {'slavaukraini', 'istandwithrussia', 'stopwarinukraine'}\n",
      "l'utente 412 non  appartiene alla 4 categoria perchè usa {'slavaukraini', 'istandwithrussia', 'stopwarinukraine'}\n",
      "l'utente 413 non  appartiene alla 4 categoria perchè usa {'slavaukraini', 'istandwithrussia', 'stopwarinukraine'}\n",
      "l'utente 414 non  appartiene alla 4 categoria perchè usa {'slavaukraini', 'istandwithrussia', 'stopwarinukraine'}\n",
      "l'utente 415 non  appartiene alla 4 categoria perchè usa {'slavaukraini', 'istandwithrussia', 'stopwarinukraine'}\n",
      "l'utente 416 non  appartiene alla 4 categoria perchè usa {'slavaukraini', 'istandwithrussia', 'stopwarinukraine'}\n",
      "l'utente 417 non  appartiene alla 4 categoria perchè usa {'slavaukraini', 'istandwithrussia', 'stopwarinukraine'}\n",
      "l'utente 418 non  appartiene alla 4 categoria perchè usa {'slavaukraini', 'istandwithrussia', 'stopwarinukraine'}\n"
     ]
    }
   ],
   "source": [
    "proukr=set([\"slavaukraini\"]) #1 cat\n",
    "prorus=set([\"istandwithputin\", \"istandwithrussia\"]) #2 cat\n",
    "pax=set([\"stopwarinukraine\"]) #3 cat\n",
    "cat=set.union(proukr,prorus,pax)\n",
    "count1=0\n",
    "#count2=0\n",
    "#count3=0\n",
    "count4=0\n",
    "index1=[]\n",
    "#index2=[]\n",
    "#index3=[]\n",
    "index4=[]\n",
    "\n",
    "for i, row in enumerate(df_IDK1['hashtag']): \n",
    "    if row.intersection(cat)==set():#no intersezione   \n",
    "        #print(row.intersectionn(cat))\n",
    "        #print(\"l'utente {}  appartiene alla 4 categoria\".format(row.intersection(cat)))\n",
    "        #print(\"4 categoria\", row)\n",
    "        count4 += 1\n",
    "        index4.append(i)\n",
    "        \n",
    "    else: #c'è intersezione: uno della 3 categorie\n",
    "        #print(\"non è la 4 categoria perchè contiene\",row.intersection(cat))\n",
    "       # if row.intersection(proukr)!=set(): #c'è intersez con proukr\n",
    "           # count1 += 1\n",
    "            index1.append(i) #aggiungo alle rige da tgliere\n",
    "            print(\"l'utente {} non  appartiene alla 4 categoria perchè usa {}\".format(i,row.intersection(cat)))\n",
    "       # elif row.intersection(prorus)!=set():\n",
    "          #  count2 += 1\n",
    "           # index2.append(i)\n",
    "        #elif row.intersection(pax)!=set():\n",
    "           # count3 += 1\n",
    "           #index3.append(i)"
   ]
  },
  {
   "cell_type": "code",
   "execution_count": 29,
   "id": "a314a189",
   "metadata": {},
   "outputs": [
    {
     "name": "stdout",
     "output_type": "stream",
     "text": [
      "proukr = 391 \n",
      "prourus = 0 \n",
      "pax = 0 \n",
      "nocare = 28 \n"
     ]
    }
   ],
   "source": [
    "print('proukr = {} \\n'\n",
    "     'prourus = {} \\n'\n",
    "     'pax = {} \\n'\n",
    "     'nocare = {} '.format(count1,count2,count3,count4))"
   ]
  },
  {
   "cell_type": "markdown",
   "id": "ee7704f6",
   "metadata": {},
   "source": [
    "## 3 parte categorizzazione tweet e utenti di proukr, prorus, pax"
   ]
  },
  {
   "cell_type": "markdown",
   "id": "4b9d4124",
   "metadata": {},
   "source": [
    "## 4 parte: edge tra utenti nel dataset"
   ]
  },
  {
   "cell_type": "code",
   "execution_count": 67,
   "id": "e9cb58fc",
   "metadata": {},
   "outputs": [
    {
     "data": {
      "text/plain": [
       "0     {1498176452084256772, 1219232377605644289, 135...\n",
       "1     {1359617172033724416, 14106476, 14981764520842...\n",
       "2     {1521787270260719616, 923231030160400384, 1359...\n",
       "3     {1521787270260719616, 923231030160400384, 1359...\n",
       "4     {1521787270260719616, 923231030160400384, 1359...\n",
       "                            ...                        \n",
       "73    {720139699, 14106476, 1458038317619073044, 316...\n",
       "74    {720139699, 14106476, 1458038317619073044, 316...\n",
       "75    {720139699, 14106476, 1458038317619073044, 316...\n",
       "76    {720139699, 14106476, 1458038317619073044, 316...\n",
       "77    {720139699, 14106476, 1458038317619073044, 316...\n",
       "Name: retweet, Length: 78, dtype: object"
      ]
     },
     "execution_count": 67,
     "metadata": {},
     "output_type": "execute_result"
    }
   ],
   "source": [
    "df_IDK1['retweet']"
   ]
  },
  {
   "cell_type": "code",
   "execution_count": null,
   "id": "6fa3365a",
   "metadata": {},
   "outputs": [],
   "source": []
  }
 ],
 "metadata": {
  "kernelspec": {
   "display_name": "Python 3 (ipykernel)",
   "language": "python",
   "name": "python3"
  },
  "language_info": {
   "codemirror_mode": {
    "name": "ipython",
    "version": 3
   },
   "file_extension": ".py",
   "mimetype": "text/x-python",
   "name": "python",
   "nbconvert_exporter": "python",
   "pygments_lexer": "ipython3",
   "version": "3.10.5"
  }
 },
 "nbformat": 4,
 "nbformat_minor": 5
}
