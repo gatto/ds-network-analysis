{
 "cells": [
  {
   "cell_type": "code",
   "execution_count": 3,
   "id": "c32c2469",
   "metadata": {},
   "outputs": [],
   "source": [
    "from extract import SocialETL, Count, UserETL\n",
    "import hashtags as h\n",
    "import pandas as pd\n",
    "import warnings \n",
    "warnings.filterwarnings('always')   #suppresses all warnings\n",
    "warnings.filterwarnings('ignore')"
   ]
  },
  {
   "cell_type": "markdown",
   "id": "fcb62e4a",
   "metadata": {},
   "source": [
    "## 1 parte: categorizzazione hashtags per prorus, proukr, pax"
   ]
  },
  {
   "cell_type": "raw",
   "id": "b2d80831",
   "metadata": {},
   "source": [
    "incollare lavoro Fabio "
   ]
  },
  {
   "cell_type": "markdown",
   "id": "6c8ada0f",
   "metadata": {},
   "source": [
    "## 2 parte: scaricare df e distinzione 4 cat (no care) dalle altre"
   ]
  },
  {
   "cell_type": "code",
   "execution_count": 38,
   "id": "46ecb5ed",
   "metadata": {},
   "outputs": [
    {
     "data": {
      "text/html": [
       "<pre style=\"white-space:pre;overflow-x:auto;line-height:normal;font-family:Menlo,'DejaVu Sans Mono',consolas,'Courier New',monospace\">Reading secret from C:\\Users\\david\\Documents\\GitHub\\ds-network-analysis\\data\\my_secrets.yaml…\n",
       "</pre>\n"
      ],
      "text/plain": [
       "Reading secret from C:\\Users\\david\\Documents\\GitHub\\ds-network-analysis\\data\\my_secrets.yaml…\n"
      ]
     },
     "metadata": {},
     "output_type": "display_data"
    },
    {
     "data": {
      "text/html": [
       "<pre style=\"white-space:pre;overflow-x:auto;line-height:normal;font-family:Menlo,'DejaVu Sans Mono',consolas,'Courier New',monospace\"></pre>\n"
      ],
      "text/plain": []
     },
     "metadata": {},
     "output_type": "display_data"
    },
    {
     "data": {
      "text/html": [
       "<pre style=\"white-space:pre;overflow-x:auto;line-height:normal;font-family:Menlo,'DejaVu Sans Mono',consolas,'Courier New',monospace\">\n",
       "</pre>\n"
      ],
      "text/plain": [
       "\n"
      ]
     },
     "metadata": {},
     "output_type": "display_data"
    }
   ],
   "source": [
    "#scarcare df\n",
    "m = SocialETL(query=\"(#eurovision OR #covid OR #pridemonth OR #grammys OR #justiceforjohnnydepp OR #oscars OR #elonmusk OR #putin OR #russia OR #ukraine OR #war)  lang:en\", pages=1, recent=False)#strangerthings4 OR onepiece"
   ]
  },
  {
   "cell_type": "code",
   "execution_count": 39,
   "id": "f65762b5",
   "metadata": {},
   "outputs": [
    {
     "data": {
      "text/html": [
       "<div>\n",
       "<style scoped>\n",
       "    .dataframe tbody tr th:only-of-type {\n",
       "        vertical-align: middle;\n",
       "    }\n",
       "\n",
       "    .dataframe tbody tr th {\n",
       "        vertical-align: top;\n",
       "    }\n",
       "\n",
       "    .dataframe thead th {\n",
       "        text-align: right;\n",
       "    }\n",
       "</style>\n",
       "<table border=\"1\" class=\"dataframe\">\n",
       "  <thead>\n",
       "    <tr style=\"text-align: right;\">\n",
       "      <th></th>\n",
       "      <th>id</th>\n",
       "      <th>conversation_id</th>\n",
       "      <th>referenced_tweets.replied_to.id</th>\n",
       "      <th>referenced_tweets.retweeted.id</th>\n",
       "      <th>referenced_tweets.quoted.id</th>\n",
       "      <th>author_id</th>\n",
       "      <th>in_reply_to_user_id</th>\n",
       "      <th>retweeted_user_id</th>\n",
       "      <th>quoted_user_id</th>\n",
       "      <th>created_at</th>\n",
       "      <th>...</th>\n",
       "      <th>geo.geo.bbox</th>\n",
       "      <th>geo.geo.type</th>\n",
       "      <th>geo.id</th>\n",
       "      <th>geo.name</th>\n",
       "      <th>geo.place_id</th>\n",
       "      <th>geo.place_type</th>\n",
       "      <th>__twarc.retrieved_at</th>\n",
       "      <th>__twarc.url</th>\n",
       "      <th>__twarc.version</th>\n",
       "      <th></th>\n",
       "    </tr>\n",
       "  </thead>\n",
       "  <tbody>\n",
       "    <tr>\n",
       "      <th>0</th>\n",
       "      <td>1544992379815399424</td>\n",
       "      <td>1544992379815399424</td>\n",
       "      <td>NaN</td>\n",
       "      <td>1544982839434903552</td>\n",
       "      <td>NaN</td>\n",
       "      <td>2312810112</td>\n",
       "      <td>NaN</td>\n",
       "      <td>14106476</td>\n",
       "      <td>NaN</td>\n",
       "      <td>2022-07-07T10:31:02.000Z</td>\n",
       "      <td>...</td>\n",
       "      <td>NaN</td>\n",
       "      <td>NaN</td>\n",
       "      <td>NaN</td>\n",
       "      <td>NaN</td>\n",
       "      <td>NaN</td>\n",
       "      <td>NaN</td>\n",
       "      <td>2022-07-07T10:31:14+00:00</td>\n",
       "      <td>https://api.twitter.com/2/tweets/search/all?ex...</td>\n",
       "      <td>2.11.0</td>\n",
       "      <td>NaN</td>\n",
       "    </tr>\n",
       "    <tr>\n",
       "      <th>1</th>\n",
       "      <td>1544992377860804608</td>\n",
       "      <td>1544992377860804608</td>\n",
       "      <td>NaN</td>\n",
       "      <td>1544883547709718528</td>\n",
       "      <td>NaN</td>\n",
       "      <td>1386674395511287816</td>\n",
       "      <td>NaN</td>\n",
       "      <td>582941136</td>\n",
       "      <td>NaN</td>\n",
       "      <td>2022-07-07T10:31:02.000Z</td>\n",
       "      <td>...</td>\n",
       "      <td>NaN</td>\n",
       "      <td>NaN</td>\n",
       "      <td>NaN</td>\n",
       "      <td>NaN</td>\n",
       "      <td>NaN</td>\n",
       "      <td>NaN</td>\n",
       "      <td>2022-07-07T10:31:14+00:00</td>\n",
       "      <td>https://api.twitter.com/2/tweets/search/all?ex...</td>\n",
       "      <td>2.11.0</td>\n",
       "      <td>NaN</td>\n",
       "    </tr>\n",
       "    <tr>\n",
       "      <th>2</th>\n",
       "      <td>1544992373347958784</td>\n",
       "      <td>1544992373347958784</td>\n",
       "      <td>NaN</td>\n",
       "      <td>NaN</td>\n",
       "      <td>NaN</td>\n",
       "      <td>47941897</td>\n",
       "      <td>NaN</td>\n",
       "      <td>NaN</td>\n",
       "      <td>NaN</td>\n",
       "      <td>2022-07-07T10:31:01.000Z</td>\n",
       "      <td>...</td>\n",
       "      <td>NaN</td>\n",
       "      <td>NaN</td>\n",
       "      <td>NaN</td>\n",
       "      <td>NaN</td>\n",
       "      <td>NaN</td>\n",
       "      <td>NaN</td>\n",
       "      <td>2022-07-07T10:31:14+00:00</td>\n",
       "      <td>https://api.twitter.com/2/tweets/search/all?ex...</td>\n",
       "      <td>2.11.0</td>\n",
       "      <td>NaN</td>\n",
       "    </tr>\n",
       "    <tr>\n",
       "      <th>3</th>\n",
       "      <td>1544992370965377024</td>\n",
       "      <td>1544992370965377024</td>\n",
       "      <td>NaN</td>\n",
       "      <td>NaN</td>\n",
       "      <td>NaN</td>\n",
       "      <td>1544985126068977665</td>\n",
       "      <td>NaN</td>\n",
       "      <td>NaN</td>\n",
       "      <td>NaN</td>\n",
       "      <td>2022-07-07T10:31:00.000Z</td>\n",
       "      <td>...</td>\n",
       "      <td>NaN</td>\n",
       "      <td>NaN</td>\n",
       "      <td>NaN</td>\n",
       "      <td>NaN</td>\n",
       "      <td>NaN</td>\n",
       "      <td>NaN</td>\n",
       "      <td>2022-07-07T10:31:14+00:00</td>\n",
       "      <td>https://api.twitter.com/2/tweets/search/all?ex...</td>\n",
       "      <td>2.11.0</td>\n",
       "      <td>NaN</td>\n",
       "    </tr>\n",
       "    <tr>\n",
       "      <th>4</th>\n",
       "      <td>1544992370139078656</td>\n",
       "      <td>1544992370139078656</td>\n",
       "      <td>NaN</td>\n",
       "      <td>NaN</td>\n",
       "      <td>NaN</td>\n",
       "      <td>78576733</td>\n",
       "      <td>NaN</td>\n",
       "      <td>NaN</td>\n",
       "      <td>NaN</td>\n",
       "      <td>2022-07-07T10:31:00.000Z</td>\n",
       "      <td>...</td>\n",
       "      <td>NaN</td>\n",
       "      <td>NaN</td>\n",
       "      <td>NaN</td>\n",
       "      <td>NaN</td>\n",
       "      <td>NaN</td>\n",
       "      <td>NaN</td>\n",
       "      <td>2022-07-07T10:31:14+00:00</td>\n",
       "      <td>https://api.twitter.com/2/tweets/search/all?ex...</td>\n",
       "      <td>2.11.0</td>\n",
       "      <td>NaN</td>\n",
       "    </tr>\n",
       "    <tr>\n",
       "      <th>...</th>\n",
       "      <td>...</td>\n",
       "      <td>...</td>\n",
       "      <td>...</td>\n",
       "      <td>...</td>\n",
       "      <td>...</td>\n",
       "      <td>...</td>\n",
       "      <td>...</td>\n",
       "      <td>...</td>\n",
       "      <td>...</td>\n",
       "      <td>...</td>\n",
       "      <td>...</td>\n",
       "      <td>...</td>\n",
       "      <td>...</td>\n",
       "      <td>...</td>\n",
       "      <td>...</td>\n",
       "      <td>...</td>\n",
       "      <td>...</td>\n",
       "      <td>...</td>\n",
       "      <td>...</td>\n",
       "      <td>...</td>\n",
       "      <td>...</td>\n",
       "    </tr>\n",
       "    <tr>\n",
       "      <th>95</th>\n",
       "      <td>1544991970460057601</td>\n",
       "      <td>1544991970460057601</td>\n",
       "      <td>NaN</td>\n",
       "      <td>NaN</td>\n",
       "      <td>1544983822713978882</td>\n",
       "      <td>1456228393234493446</td>\n",
       "      <td>NaN</td>\n",
       "      <td>NaN</td>\n",
       "      <td>1295405245011460096</td>\n",
       "      <td>2022-07-07T10:29:24.000Z</td>\n",
       "      <td>...</td>\n",
       "      <td>NaN</td>\n",
       "      <td>NaN</td>\n",
       "      <td>NaN</td>\n",
       "      <td>NaN</td>\n",
       "      <td>NaN</td>\n",
       "      <td>NaN</td>\n",
       "      <td>2022-07-07T10:31:14+00:00</td>\n",
       "      <td>https://api.twitter.com/2/tweets/search/all?ex...</td>\n",
       "      <td>2.11.0</td>\n",
       "      <td>NaN</td>\n",
       "    </tr>\n",
       "    <tr>\n",
       "      <th>96</th>\n",
       "      <td>1544991965745336320</td>\n",
       "      <td>1544991965745336320</td>\n",
       "      <td>NaN</td>\n",
       "      <td>1539899508879986688</td>\n",
       "      <td>NaN</td>\n",
       "      <td>1522455425471328256</td>\n",
       "      <td>NaN</td>\n",
       "      <td>1519982389971152896</td>\n",
       "      <td>NaN</td>\n",
       "      <td>2022-07-07T10:29:23.000Z</td>\n",
       "      <td>...</td>\n",
       "      <td>NaN</td>\n",
       "      <td>NaN</td>\n",
       "      <td>NaN</td>\n",
       "      <td>NaN</td>\n",
       "      <td>NaN</td>\n",
       "      <td>NaN</td>\n",
       "      <td>2022-07-07T10:31:14+00:00</td>\n",
       "      <td>https://api.twitter.com/2/tweets/search/all?ex...</td>\n",
       "      <td>2.11.0</td>\n",
       "      <td>NaN</td>\n",
       "    </tr>\n",
       "    <tr>\n",
       "      <th>97</th>\n",
       "      <td>1544991959399501829</td>\n",
       "      <td>1544991959399501829</td>\n",
       "      <td>NaN</td>\n",
       "      <td>NaN</td>\n",
       "      <td>NaN</td>\n",
       "      <td>19734484</td>\n",
       "      <td>NaN</td>\n",
       "      <td>NaN</td>\n",
       "      <td>NaN</td>\n",
       "      <td>2022-07-07T10:29:22.000Z</td>\n",
       "      <td>...</td>\n",
       "      <td>NaN</td>\n",
       "      <td>NaN</td>\n",
       "      <td>NaN</td>\n",
       "      <td>NaN</td>\n",
       "      <td>NaN</td>\n",
       "      <td>NaN</td>\n",
       "      <td>2022-07-07T10:31:14+00:00</td>\n",
       "      <td>https://api.twitter.com/2/tweets/search/all?ex...</td>\n",
       "      <td>2.11.0</td>\n",
       "      <td>NaN</td>\n",
       "    </tr>\n",
       "    <tr>\n",
       "      <th>98</th>\n",
       "      <td>1544991957940076544</td>\n",
       "      <td>1544991957940076544</td>\n",
       "      <td>NaN</td>\n",
       "      <td>1544971395528097795</td>\n",
       "      <td>NaN</td>\n",
       "      <td>2988731651</td>\n",
       "      <td>NaN</td>\n",
       "      <td>1495480590572961792</td>\n",
       "      <td>NaN</td>\n",
       "      <td>2022-07-07T10:29:21.000Z</td>\n",
       "      <td>...</td>\n",
       "      <td>NaN</td>\n",
       "      <td>NaN</td>\n",
       "      <td>NaN</td>\n",
       "      <td>NaN</td>\n",
       "      <td>NaN</td>\n",
       "      <td>NaN</td>\n",
       "      <td>2022-07-07T10:31:14+00:00</td>\n",
       "      <td>https://api.twitter.com/2/tweets/search/all?ex...</td>\n",
       "      <td>2.11.0</td>\n",
       "      <td>NaN</td>\n",
       "    </tr>\n",
       "    <tr>\n",
       "      <th>99</th>\n",
       "      <td>1544991953972232198</td>\n",
       "      <td>1544991953972232198</td>\n",
       "      <td>NaN</td>\n",
       "      <td>1544990755529318401</td>\n",
       "      <td>NaN</td>\n",
       "      <td>82502558</td>\n",
       "      <td>NaN</td>\n",
       "      <td>1450539057633800194</td>\n",
       "      <td>NaN</td>\n",
       "      <td>2022-07-07T10:29:21.000Z</td>\n",
       "      <td>...</td>\n",
       "      <td>NaN</td>\n",
       "      <td>NaN</td>\n",
       "      <td>NaN</td>\n",
       "      <td>NaN</td>\n",
       "      <td>NaN</td>\n",
       "      <td>NaN</td>\n",
       "      <td>2022-07-07T10:31:14+00:00</td>\n",
       "      <td>https://api.twitter.com/2/tweets/search/all?ex...</td>\n",
       "      <td>2.11.0</td>\n",
       "      <td>NaN</td>\n",
       "    </tr>\n",
       "  </tbody>\n",
       "</table>\n",
       "<p>100 rows × 74 columns</p>\n",
       "</div>"
      ],
      "text/plain": [
       "                     id      conversation_id referenced_tweets.replied_to.id  \\\n",
       "0   1544992379815399424  1544992379815399424                             NaN   \n",
       "1   1544992377860804608  1544992377860804608                             NaN   \n",
       "2   1544992373347958784  1544992373347958784                             NaN   \n",
       "3   1544992370965377024  1544992370965377024                             NaN   \n",
       "4   1544992370139078656  1544992370139078656                             NaN   \n",
       "..                  ...                  ...                             ...   \n",
       "95  1544991970460057601  1544991970460057601                             NaN   \n",
       "96  1544991965745336320  1544991965745336320                             NaN   \n",
       "97  1544991959399501829  1544991959399501829                             NaN   \n",
       "98  1544991957940076544  1544991957940076544                             NaN   \n",
       "99  1544991953972232198  1544991953972232198                             NaN   \n",
       "\n",
       "   referenced_tweets.retweeted.id referenced_tweets.quoted.id  \\\n",
       "0             1544982839434903552                         NaN   \n",
       "1             1544883547709718528                         NaN   \n",
       "2                             NaN                         NaN   \n",
       "3                             NaN                         NaN   \n",
       "4                             NaN                         NaN   \n",
       "..                            ...                         ...   \n",
       "95                            NaN         1544983822713978882   \n",
       "96            1539899508879986688                         NaN   \n",
       "97                            NaN                         NaN   \n",
       "98            1544971395528097795                         NaN   \n",
       "99            1544990755529318401                         NaN   \n",
       "\n",
       "              author_id in_reply_to_user_id    retweeted_user_id  \\\n",
       "0            2312810112                 NaN             14106476   \n",
       "1   1386674395511287816                 NaN            582941136   \n",
       "2              47941897                 NaN                  NaN   \n",
       "3   1544985126068977665                 NaN                  NaN   \n",
       "4              78576733                 NaN                  NaN   \n",
       "..                  ...                 ...                  ...   \n",
       "95  1456228393234493446                 NaN                  NaN   \n",
       "96  1522455425471328256                 NaN  1519982389971152896   \n",
       "97             19734484                 NaN                  NaN   \n",
       "98           2988731651                 NaN  1495480590572961792   \n",
       "99             82502558                 NaN  1450539057633800194   \n",
       "\n",
       "         quoted_user_id                created_at  ... geo.geo.bbox  \\\n",
       "0                   NaN  2022-07-07T10:31:02.000Z  ...          NaN   \n",
       "1                   NaN  2022-07-07T10:31:02.000Z  ...          NaN   \n",
       "2                   NaN  2022-07-07T10:31:01.000Z  ...          NaN   \n",
       "3                   NaN  2022-07-07T10:31:00.000Z  ...          NaN   \n",
       "4                   NaN  2022-07-07T10:31:00.000Z  ...          NaN   \n",
       "..                  ...                       ...  ...          ...   \n",
       "95  1295405245011460096  2022-07-07T10:29:24.000Z  ...          NaN   \n",
       "96                  NaN  2022-07-07T10:29:23.000Z  ...          NaN   \n",
       "97                  NaN  2022-07-07T10:29:22.000Z  ...          NaN   \n",
       "98                  NaN  2022-07-07T10:29:21.000Z  ...          NaN   \n",
       "99                  NaN  2022-07-07T10:29:21.000Z  ...          NaN   \n",
       "\n",
       "   geo.geo.type geo.id  geo.name  geo.place_id  geo.place_type  \\\n",
       "0           NaN    NaN       NaN           NaN             NaN   \n",
       "1           NaN    NaN       NaN           NaN             NaN   \n",
       "2           NaN    NaN       NaN           NaN             NaN   \n",
       "3           NaN    NaN       NaN           NaN             NaN   \n",
       "4           NaN    NaN       NaN           NaN             NaN   \n",
       "..          ...    ...       ...           ...             ...   \n",
       "95          NaN    NaN       NaN           NaN             NaN   \n",
       "96          NaN    NaN       NaN           NaN             NaN   \n",
       "97          NaN    NaN       NaN           NaN             NaN   \n",
       "98          NaN    NaN       NaN           NaN             NaN   \n",
       "99          NaN    NaN       NaN           NaN             NaN   \n",
       "\n",
       "         __twarc.retrieved_at  \\\n",
       "0   2022-07-07T10:31:14+00:00   \n",
       "1   2022-07-07T10:31:14+00:00   \n",
       "2   2022-07-07T10:31:14+00:00   \n",
       "3   2022-07-07T10:31:14+00:00   \n",
       "4   2022-07-07T10:31:14+00:00   \n",
       "..                        ...   \n",
       "95  2022-07-07T10:31:14+00:00   \n",
       "96  2022-07-07T10:31:14+00:00   \n",
       "97  2022-07-07T10:31:14+00:00   \n",
       "98  2022-07-07T10:31:14+00:00   \n",
       "99  2022-07-07T10:31:14+00:00   \n",
       "\n",
       "                                          __twarc.url  __twarc.version      \n",
       "0   https://api.twitter.com/2/tweets/search/all?ex...           2.11.0 NaN  \n",
       "1   https://api.twitter.com/2/tweets/search/all?ex...           2.11.0 NaN  \n",
       "2   https://api.twitter.com/2/tweets/search/all?ex...           2.11.0 NaN  \n",
       "3   https://api.twitter.com/2/tweets/search/all?ex...           2.11.0 NaN  \n",
       "4   https://api.twitter.com/2/tweets/search/all?ex...           2.11.0 NaN  \n",
       "..                                                ...              ...  ..  \n",
       "95  https://api.twitter.com/2/tweets/search/all?ex...           2.11.0 NaN  \n",
       "96  https://api.twitter.com/2/tweets/search/all?ex...           2.11.0 NaN  \n",
       "97  https://api.twitter.com/2/tweets/search/all?ex...           2.11.0 NaN  \n",
       "98  https://api.twitter.com/2/tweets/search/all?ex...           2.11.0 NaN  \n",
       "99  https://api.twitter.com/2/tweets/search/all?ex...           2.11.0 NaN  \n",
       "\n",
       "[100 rows x 74 columns]"
      ]
     },
     "execution_count": 39,
     "metadata": {},
     "output_type": "execute_result"
    }
   ],
   "source": [
    "m.df"
   ]
  },
  {
   "cell_type": "code",
   "execution_count": 40,
   "id": "b562e6e3",
   "metadata": {},
   "outputs": [
    {
     "name": "stdout",
     "output_type": "stream",
     "text": [
      "0              2312810112\n",
      "1     1386674395511287816\n",
      "2                47941897\n",
      "3     1544985126068977665\n",
      "4                78576733\n",
      "             ...         \n",
      "95    1456228393234493446\n",
      "96    1522455425471328256\n",
      "97               19734484\n",
      "98             2988731651\n",
      "99               82502558\n",
      "Name: author_id, Length: 100, dtype: object\n"
     ]
    }
   ],
   "source": [
    "user_id=m.df['author_id']\n",
    "\n",
    "print(user_id)"
   ]
  },
  {
   "cell_type": "code",
   "execution_count": 42,
   "id": "433bf8e4",
   "metadata": {},
   "outputs": [
    {
     "data": {
      "text/html": [
       "<pre style=\"white-space:pre;overflow-x:auto;line-height:normal;font-family:Menlo,'DejaVu Sans Mono',consolas,'Courier New',monospace\">Reading secret from C:\\Users\\david\\Documents\\GitHub\\ds-network-analysis\\data\\my_secrets.yaml…\n",
       "</pre>\n"
      ],
      "text/plain": [
       "Reading secret from C:\\Users\\david\\Documents\\GitHub\\ds-network-analysis\\data\\my_secrets.yaml…\n"
      ]
     },
     "metadata": {},
     "output_type": "display_data"
    },
    {
     "data": {
      "text/html": [
       "<pre style=\"white-space:pre;overflow-x:auto;line-height:normal;font-family:Menlo,'DejaVu Sans Mono',consolas,'Courier New',monospace\"></pre>\n"
      ],
      "text/plain": []
     },
     "metadata": {},
     "output_type": "display_data"
    },
    {
     "data": {
      "text/html": [
       "<pre style=\"white-space:pre;overflow-x:auto;line-height:normal;font-family:Menlo,'DejaVu Sans Mono',consolas,'Courier New',monospace\">\n",
       "</pre>\n"
      ],
      "text/plain": [
       "\n"
      ]
     },
     "metadata": {},
     "output_type": "display_data"
    },
    {
     "data": {
      "text/html": [
       "<pre style=\"white-space:pre;overflow-x:auto;line-height:normal;font-family:Menlo,'DejaVu Sans Mono',consolas,'Courier New',monospace\">Reading secret from C:\\Users\\david\\Documents\\GitHub\\ds-network-analysis\\data\\my_secrets.yaml…\n",
       "</pre>\n"
      ],
      "text/plain": [
       "Reading secret from C:\\Users\\david\\Documents\\GitHub\\ds-network-analysis\\data\\my_secrets.yaml…\n"
      ]
     },
     "metadata": {},
     "output_type": "display_data"
    },
    {
     "data": {
      "text/html": [
       "<pre style=\"white-space:pre;overflow-x:auto;line-height:normal;font-family:Menlo,'DejaVu Sans Mono',consolas,'Courier New',monospace\"></pre>\n"
      ],
      "text/plain": []
     },
     "metadata": {},
     "output_type": "display_data"
    },
    {
     "data": {
      "text/html": [
       "<pre style=\"white-space:pre;overflow-x:auto;line-height:normal;font-family:Menlo,'DejaVu Sans Mono',consolas,'Courier New',monospace\">\n",
       "</pre>\n"
      ],
      "text/plain": [
       "\n"
      ]
     },
     "metadata": {},
     "output_type": "display_data"
    },
    {
     "data": {
      "text/html": [
       "<pre style=\"white-space:pre;overflow-x:auto;line-height:normal;font-family:Menlo,'DejaVu Sans Mono',consolas,'Courier New',monospace\">Reading secret from C:\\Users\\david\\Documents\\GitHub\\ds-network-analysis\\data\\my_secrets.yaml…\n",
       "</pre>\n"
      ],
      "text/plain": [
       "Reading secret from C:\\Users\\david\\Documents\\GitHub\\ds-network-analysis\\data\\my_secrets.yaml…\n"
      ]
     },
     "metadata": {},
     "output_type": "display_data"
    },
    {
     "data": {
      "text/html": [
       "<pre style=\"white-space:pre;overflow-x:auto;line-height:normal;font-family:Menlo,'DejaVu Sans Mono',consolas,'Courier New',monospace\"></pre>\n"
      ],
      "text/plain": []
     },
     "metadata": {},
     "output_type": "display_data"
    },
    {
     "data": {
      "text/html": [
       "<pre style=\"white-space:pre;overflow-x:auto;line-height:normal;font-family:Menlo,'DejaVu Sans Mono',consolas,'Courier New',monospace\">\n",
       "</pre>\n"
      ],
      "text/plain": [
       "\n"
      ]
     },
     "metadata": {},
     "output_type": "display_data"
    },
    {
     "data": {
      "text/html": [
       "<pre style=\"white-space:pre;overflow-x:auto;line-height:normal;font-family:Menlo,'DejaVu Sans Mono',consolas,'Courier New',monospace\">Reading secret from C:\\Users\\david\\Documents\\GitHub\\ds-network-analysis\\data\\my_secrets.yaml…\n",
       "</pre>\n"
      ],
      "text/plain": [
       "Reading secret from C:\\Users\\david\\Documents\\GitHub\\ds-network-analysis\\data\\my_secrets.yaml…\n"
      ]
     },
     "metadata": {},
     "output_type": "display_data"
    },
    {
     "data": {
      "text/html": [
       "<pre style=\"white-space:pre;overflow-x:auto;line-height:normal;font-family:Menlo,'DejaVu Sans Mono',consolas,'Courier New',monospace\"></pre>\n"
      ],
      "text/plain": []
     },
     "metadata": {},
     "output_type": "display_data"
    },
    {
     "data": {
      "text/html": [
       "<pre style=\"white-space:pre;overflow-x:auto;line-height:normal;font-family:Menlo,'DejaVu Sans Mono',consolas,'Courier New',monospace\">\n",
       "</pre>\n"
      ],
      "text/plain": [
       "\n"
      ]
     },
     "metadata": {},
     "output_type": "display_data"
    },
    {
     "data": {
      "text/html": [
       "<pre style=\"white-space:pre;overflow-x:auto;line-height:normal;font-family:Menlo,'DejaVu Sans Mono',consolas,'Courier New',monospace\">Reading secret from C:\\Users\\david\\Documents\\GitHub\\ds-network-analysis\\data\\my_secrets.yaml…\n",
       "</pre>\n"
      ],
      "text/plain": [
       "Reading secret from C:\\Users\\david\\Documents\\GitHub\\ds-network-analysis\\data\\my_secrets.yaml…\n"
      ]
     },
     "metadata": {},
     "output_type": "display_data"
    },
    {
     "data": {
      "text/html": [
       "<pre style=\"white-space:pre;overflow-x:auto;line-height:normal;font-family:Menlo,'DejaVu Sans Mono',consolas,'Courier New',monospace\"></pre>\n"
      ],
      "text/plain": []
     },
     "metadata": {},
     "output_type": "display_data"
    },
    {
     "data": {
      "text/html": [
       "<pre style=\"white-space:pre;overflow-x:auto;line-height:normal;font-family:Menlo,'DejaVu Sans Mono',consolas,'Courier New',monospace\">\n",
       "</pre>\n"
      ],
      "text/plain": [
       "\n"
      ]
     },
     "metadata": {},
     "output_type": "display_data"
    },
    {
     "data": {
      "text/html": [
       "<pre style=\"white-space:pre;overflow-x:auto;line-height:normal;font-family:Menlo,'DejaVu Sans Mono',consolas,'Courier New',monospace\">Reading secret from C:\\Users\\david\\Documents\\GitHub\\ds-network-analysis\\data\\my_secrets.yaml…\n",
       "</pre>\n"
      ],
      "text/plain": [
       "Reading secret from C:\\Users\\david\\Documents\\GitHub\\ds-network-analysis\\data\\my_secrets.yaml…\n"
      ]
     },
     "metadata": {},
     "output_type": "display_data"
    },
    {
     "data": {
      "text/html": [
       "<pre style=\"white-space:pre;overflow-x:auto;line-height:normal;font-family:Menlo,'DejaVu Sans Mono',consolas,'Courier New',monospace\"></pre>\n"
      ],
      "text/plain": []
     },
     "metadata": {},
     "output_type": "display_data"
    },
    {
     "data": {
      "text/html": [
       "<pre style=\"white-space:pre;overflow-x:auto;line-height:normal;font-family:Menlo,'DejaVu Sans Mono',consolas,'Courier New',monospace\">\n",
       "</pre>\n"
      ],
      "text/plain": [
       "\n"
      ]
     },
     "metadata": {},
     "output_type": "display_data"
    },
    {
     "data": {
      "text/html": [
       "<pre style=\"white-space:pre;overflow-x:auto;line-height:normal;font-family:Menlo,'DejaVu Sans Mono',consolas,'Courier New',monospace\">Reading secret from C:\\Users\\david\\Documents\\GitHub\\ds-network-analysis\\data\\my_secrets.yaml…\n",
       "</pre>\n"
      ],
      "text/plain": [
       "Reading secret from C:\\Users\\david\\Documents\\GitHub\\ds-network-analysis\\data\\my_secrets.yaml…\n"
      ]
     },
     "metadata": {},
     "output_type": "display_data"
    },
    {
     "data": {
      "text/html": [
       "<pre style=\"white-space:pre;overflow-x:auto;line-height:normal;font-family:Menlo,'DejaVu Sans Mono',consolas,'Courier New',monospace\"></pre>\n"
      ],
      "text/plain": []
     },
     "metadata": {},
     "output_type": "display_data"
    },
    {
     "data": {
      "text/html": [
       "<pre style=\"white-space:pre;overflow-x:auto;line-height:normal;font-family:Menlo,'DejaVu Sans Mono',consolas,'Courier New',monospace\">\n",
       "</pre>\n"
      ],
      "text/plain": [
       "\n"
      ]
     },
     "metadata": {},
     "output_type": "display_data"
    },
    {
     "data": {
      "text/html": [
       "<pre style=\"white-space:pre;overflow-x:auto;line-height:normal;font-family:Menlo,'DejaVu Sans Mono',consolas,'Courier New',monospace\">Reading secret from C:\\Users\\david\\Documents\\GitHub\\ds-network-analysis\\data\\my_secrets.yaml…\n",
       "</pre>\n"
      ],
      "text/plain": [
       "Reading secret from C:\\Users\\david\\Documents\\GitHub\\ds-network-analysis\\data\\my_secrets.yaml…\n"
      ]
     },
     "metadata": {},
     "output_type": "display_data"
    },
    {
     "data": {
      "text/html": [
       "<pre style=\"white-space:pre;overflow-x:auto;line-height:normal;font-family:Menlo,'DejaVu Sans Mono',consolas,'Courier New',monospace\"></pre>\n"
      ],
      "text/plain": []
     },
     "metadata": {},
     "output_type": "display_data"
    },
    {
     "data": {
      "text/html": [
       "<pre style=\"white-space:pre;overflow-x:auto;line-height:normal;font-family:Menlo,'DejaVu Sans Mono',consolas,'Courier New',monospace\">\n",
       "</pre>\n"
      ],
      "text/plain": [
       "\n"
      ]
     },
     "metadata": {},
     "output_type": "display_data"
    },
    {
     "data": {
      "text/html": [
       "<pre style=\"white-space:pre;overflow-x:auto;line-height:normal;font-family:Menlo,'DejaVu Sans Mono',consolas,'Courier New',monospace\">Reading secret from C:\\Users\\david\\Documents\\GitHub\\ds-network-analysis\\data\\my_secrets.yaml…\n",
       "</pre>\n"
      ],
      "text/plain": [
       "Reading secret from C:\\Users\\david\\Documents\\GitHub\\ds-network-analysis\\data\\my_secrets.yaml…\n"
      ]
     },
     "metadata": {},
     "output_type": "display_data"
    },
    {
     "data": {
      "text/html": [
       "<pre style=\"white-space:pre;overflow-x:auto;line-height:normal;font-family:Menlo,'DejaVu Sans Mono',consolas,'Courier New',monospace\"></pre>\n"
      ],
      "text/plain": []
     },
     "metadata": {},
     "output_type": "display_data"
    },
    {
     "data": {
      "text/html": [
       "<pre style=\"white-space:pre;overflow-x:auto;line-height:normal;font-family:Menlo,'DejaVu Sans Mono',consolas,'Courier New',monospace\">\n",
       "</pre>\n"
      ],
      "text/plain": [
       "\n"
      ]
     },
     "metadata": {},
     "output_type": "display_data"
    },
    {
     "data": {
      "text/html": [
       "<pre style=\"white-space:pre;overflow-x:auto;line-height:normal;font-family:Menlo,'DejaVu Sans Mono',consolas,'Courier New',monospace\">Reading secret from C:\\Users\\david\\Documents\\GitHub\\ds-network-analysis\\data\\my_secrets.yaml…\n",
       "</pre>\n"
      ],
      "text/plain": [
       "Reading secret from C:\\Users\\david\\Documents\\GitHub\\ds-network-analysis\\data\\my_secrets.yaml…\n"
      ]
     },
     "metadata": {},
     "output_type": "display_data"
    },
    {
     "data": {
      "text/html": [
       "<pre style=\"white-space:pre;overflow-x:auto;line-height:normal;font-family:Menlo,'DejaVu Sans Mono',consolas,'Courier New',monospace\"></pre>\n"
      ],
      "text/plain": []
     },
     "metadata": {},
     "output_type": "display_data"
    },
    {
     "data": {
      "text/html": [
       "<pre style=\"white-space:pre;overflow-x:auto;line-height:normal;font-family:Menlo,'DejaVu Sans Mono',consolas,'Courier New',monospace\">\n",
       "</pre>\n"
      ],
      "text/plain": [
       "\n"
      ]
     },
     "metadata": {},
     "output_type": "display_data"
    },
    {
     "data": {
      "text/html": [
       "<pre style=\"white-space:pre;overflow-x:auto;line-height:normal;font-family:Menlo,'DejaVu Sans Mono',consolas,'Courier New',monospace\">Reading secret from C:\\Users\\david\\Documents\\GitHub\\ds-network-analysis\\data\\my_secrets.yaml…\n",
       "</pre>\n"
      ],
      "text/plain": [
       "Reading secret from C:\\Users\\david\\Documents\\GitHub\\ds-network-analysis\\data\\my_secrets.yaml…\n"
      ]
     },
     "metadata": {},
     "output_type": "display_data"
    },
    {
     "data": {
      "text/html": [
       "<pre style=\"white-space:pre;overflow-x:auto;line-height:normal;font-family:Menlo,'DejaVu Sans Mono',consolas,'Courier New',monospace\"></pre>\n"
      ],
      "text/plain": []
     },
     "metadata": {},
     "output_type": "display_data"
    },
    {
     "data": {
      "text/html": [
       "<pre style=\"white-space:pre;overflow-x:auto;line-height:normal;font-family:Menlo,'DejaVu Sans Mono',consolas,'Courier New',monospace\">\n",
       "</pre>\n"
      ],
      "text/plain": [
       "\n"
      ]
     },
     "metadata": {},
     "output_type": "display_data"
    },
    {
     "data": {
      "text/html": [
       "<pre style=\"white-space:pre;overflow-x:auto;line-height:normal;font-family:Menlo,'DejaVu Sans Mono',consolas,'Courier New',monospace\">Reading secret from C:\\Users\\david\\Documents\\GitHub\\ds-network-analysis\\data\\my_secrets.yaml…\n",
       "</pre>\n"
      ],
      "text/plain": [
       "Reading secret from C:\\Users\\david\\Documents\\GitHub\\ds-network-analysis\\data\\my_secrets.yaml…\n"
      ]
     },
     "metadata": {},
     "output_type": "display_data"
    },
    {
     "data": {
      "text/html": [
       "<pre style=\"white-space:pre;overflow-x:auto;line-height:normal;font-family:Menlo,'DejaVu Sans Mono',consolas,'Courier New',monospace\"></pre>\n"
      ],
      "text/plain": []
     },
     "metadata": {},
     "output_type": "display_data"
    },
    {
     "data": {
      "text/html": [
       "<pre style=\"white-space:pre;overflow-x:auto;line-height:normal;font-family:Menlo,'DejaVu Sans Mono',consolas,'Courier New',monospace\">\n",
       "</pre>\n"
      ],
      "text/plain": [
       "\n"
      ]
     },
     "metadata": {},
     "output_type": "display_data"
    },
    {
     "data": {
      "text/html": [
       "<pre style=\"white-space:pre;overflow-x:auto;line-height:normal;font-family:Menlo,'DejaVu Sans Mono',consolas,'Courier New',monospace\">Reading secret from C:\\Users\\david\\Documents\\GitHub\\ds-network-analysis\\data\\my_secrets.yaml…\n",
       "</pre>\n"
      ],
      "text/plain": [
       "Reading secret from C:\\Users\\david\\Documents\\GitHub\\ds-network-analysis\\data\\my_secrets.yaml…\n"
      ]
     },
     "metadata": {},
     "output_type": "display_data"
    },
    {
     "data": {
      "text/html": [
       "<pre style=\"white-space:pre;overflow-x:auto;line-height:normal;font-family:Menlo,'DejaVu Sans Mono',consolas,'Courier New',monospace\"></pre>\n"
      ],
      "text/plain": []
     },
     "metadata": {},
     "output_type": "display_data"
    },
    {
     "data": {
      "text/html": [
       "<pre style=\"white-space:pre;overflow-x:auto;line-height:normal;font-family:Menlo,'DejaVu Sans Mono',consolas,'Courier New',monospace\">\n",
       "</pre>\n"
      ],
      "text/plain": [
       "\n"
      ]
     },
     "metadata": {},
     "output_type": "display_data"
    },
    {
     "data": {
      "text/html": [
       "<pre style=\"white-space:pre;overflow-x:auto;line-height:normal;font-family:Menlo,'DejaVu Sans Mono',consolas,'Courier New',monospace\">Reading secret from C:\\Users\\david\\Documents\\GitHub\\ds-network-analysis\\data\\my_secrets.yaml…\n",
       "</pre>\n"
      ],
      "text/plain": [
       "Reading secret from C:\\Users\\david\\Documents\\GitHub\\ds-network-analysis\\data\\my_secrets.yaml…\n"
      ]
     },
     "metadata": {},
     "output_type": "display_data"
    },
    {
     "data": {
      "text/html": [
       "<pre style=\"white-space:pre;overflow-x:auto;line-height:normal;font-family:Menlo,'DejaVu Sans Mono',consolas,'Courier New',monospace\"></pre>\n"
      ],
      "text/plain": []
     },
     "metadata": {},
     "output_type": "display_data"
    },
    {
     "data": {
      "text/html": [
       "<pre style=\"white-space:pre;overflow-x:auto;line-height:normal;font-family:Menlo,'DejaVu Sans Mono',consolas,'Courier New',monospace\">\n",
       "</pre>\n"
      ],
      "text/plain": [
       "\n"
      ]
     },
     "metadata": {},
     "output_type": "display_data"
    },
    {
     "data": {
      "text/html": [
       "<pre style=\"white-space:pre;overflow-x:auto;line-height:normal;font-family:Menlo,'DejaVu Sans Mono',consolas,'Courier New',monospace\">Reading secret from C:\\Users\\david\\Documents\\GitHub\\ds-network-analysis\\data\\my_secrets.yaml…\n",
       "</pre>\n"
      ],
      "text/plain": [
       "Reading secret from C:\\Users\\david\\Documents\\GitHub\\ds-network-analysis\\data\\my_secrets.yaml…\n"
      ]
     },
     "metadata": {},
     "output_type": "display_data"
    },
    {
     "data": {
      "text/html": [
       "<pre style=\"white-space:pre;overflow-x:auto;line-height:normal;font-family:Menlo,'DejaVu Sans Mono',consolas,'Courier New',monospace\"></pre>\n"
      ],
      "text/plain": []
     },
     "metadata": {},
     "output_type": "display_data"
    },
    {
     "data": {
      "text/html": [
       "<pre style=\"white-space:pre;overflow-x:auto;line-height:normal;font-family:Menlo,'DejaVu Sans Mono',consolas,'Courier New',monospace\">\n",
       "</pre>\n"
      ],
      "text/plain": [
       "\n"
      ]
     },
     "metadata": {},
     "output_type": "display_data"
    },
    {
     "data": {
      "text/html": [
       "<pre style=\"white-space:pre;overflow-x:auto;line-height:normal;font-family:Menlo,'DejaVu Sans Mono',consolas,'Courier New',monospace\">Reading secret from C:\\Users\\david\\Documents\\GitHub\\ds-network-analysis\\data\\my_secrets.yaml…\n",
       "</pre>\n"
      ],
      "text/plain": [
       "Reading secret from C:\\Users\\david\\Documents\\GitHub\\ds-network-analysis\\data\\my_secrets.yaml…\n"
      ]
     },
     "metadata": {},
     "output_type": "display_data"
    },
    {
     "data": {
      "text/html": [
       "<pre style=\"white-space:pre;overflow-x:auto;line-height:normal;font-family:Menlo,'DejaVu Sans Mono',consolas,'Courier New',monospace\"></pre>\n"
      ],
      "text/plain": []
     },
     "metadata": {},
     "output_type": "display_data"
    },
    {
     "data": {
      "text/html": [
       "<pre style=\"white-space:pre;overflow-x:auto;line-height:normal;font-family:Menlo,'DejaVu Sans Mono',consolas,'Courier New',monospace\">\n",
       "</pre>\n"
      ],
      "text/plain": [
       "\n"
      ]
     },
     "metadata": {},
     "output_type": "display_data"
    },
    {
     "data": {
      "text/html": [
       "<pre style=\"white-space:pre;overflow-x:auto;line-height:normal;font-family:Menlo,'DejaVu Sans Mono',consolas,'Courier New',monospace\">Reading secret from C:\\Users\\david\\Documents\\GitHub\\ds-network-analysis\\data\\my_secrets.yaml…\n",
       "</pre>\n"
      ],
      "text/plain": [
       "Reading secret from C:\\Users\\david\\Documents\\GitHub\\ds-network-analysis\\data\\my_secrets.yaml…\n"
      ]
     },
     "metadata": {},
     "output_type": "display_data"
    },
    {
     "data": {
      "text/html": [
       "<pre style=\"white-space:pre;overflow-x:auto;line-height:normal;font-family:Menlo,'DejaVu Sans Mono',consolas,'Courier New',monospace\"></pre>\n"
      ],
      "text/plain": []
     },
     "metadata": {},
     "output_type": "display_data"
    },
    {
     "data": {
      "text/html": [
       "<pre style=\"white-space:pre;overflow-x:auto;line-height:normal;font-family:Menlo,'DejaVu Sans Mono',consolas,'Courier New',monospace\">\n",
       "</pre>\n"
      ],
      "text/plain": [
       "\n"
      ]
     },
     "metadata": {},
     "output_type": "display_data"
    },
    {
     "data": {
      "text/html": [
       "<pre style=\"white-space:pre;overflow-x:auto;line-height:normal;font-family:Menlo,'DejaVu Sans Mono',consolas,'Courier New',monospace\">Reading secret from C:\\Users\\david\\Documents\\GitHub\\ds-network-analysis\\data\\my_secrets.yaml…\n",
       "</pre>\n"
      ],
      "text/plain": [
       "Reading secret from C:\\Users\\david\\Documents\\GitHub\\ds-network-analysis\\data\\my_secrets.yaml…\n"
      ]
     },
     "metadata": {},
     "output_type": "display_data"
    },
    {
     "data": {
      "text/html": [
       "<pre style=\"white-space:pre;overflow-x:auto;line-height:normal;font-family:Menlo,'DejaVu Sans Mono',consolas,'Courier New',monospace\"></pre>\n"
      ],
      "text/plain": []
     },
     "metadata": {},
     "output_type": "display_data"
    },
    {
     "data": {
      "text/html": [
       "<pre style=\"white-space:pre;overflow-x:auto;line-height:normal;font-family:Menlo,'DejaVu Sans Mono',consolas,'Courier New',monospace\">\n",
       "</pre>\n"
      ],
      "text/plain": [
       "\n"
      ]
     },
     "metadata": {},
     "output_type": "display_data"
    },
    {
     "data": {
      "text/html": [
       "<pre style=\"white-space:pre;overflow-x:auto;line-height:normal;font-family:Menlo,'DejaVu Sans Mono',consolas,'Courier New',monospace\">Reading secret from C:\\Users\\david\\Documents\\GitHub\\ds-network-analysis\\data\\my_secrets.yaml…\n",
       "</pre>\n"
      ],
      "text/plain": [
       "Reading secret from C:\\Users\\david\\Documents\\GitHub\\ds-network-analysis\\data\\my_secrets.yaml…\n"
      ]
     },
     "metadata": {},
     "output_type": "display_data"
    },
    {
     "data": {
      "text/html": [
       "<pre style=\"white-space:pre;overflow-x:auto;line-height:normal;font-family:Menlo,'DejaVu Sans Mono',consolas,'Courier New',monospace\"></pre>\n"
      ],
      "text/plain": []
     },
     "metadata": {},
     "output_type": "display_data"
    },
    {
     "data": {
      "text/html": [
       "<pre style=\"white-space:pre;overflow-x:auto;line-height:normal;font-family:Menlo,'DejaVu Sans Mono',consolas,'Courier New',monospace\">\n",
       "</pre>\n"
      ],
      "text/plain": [
       "\n"
      ]
     },
     "metadata": {},
     "output_type": "display_data"
    },
    {
     "data": {
      "text/html": [
       "<pre style=\"white-space:pre;overflow-x:auto;line-height:normal;font-family:Menlo,'DejaVu Sans Mono',consolas,'Courier New',monospace\">Reading secret from C:\\Users\\david\\Documents\\GitHub\\ds-network-analysis\\data\\my_secrets.yaml…\n",
       "</pre>\n"
      ],
      "text/plain": [
       "Reading secret from C:\\Users\\david\\Documents\\GitHub\\ds-network-analysis\\data\\my_secrets.yaml…\n"
      ]
     },
     "metadata": {},
     "output_type": "display_data"
    },
    {
     "data": {
      "text/html": [
       "<pre style=\"white-space:pre;overflow-x:auto;line-height:normal;font-family:Menlo,'DejaVu Sans Mono',consolas,'Courier New',monospace\"></pre>\n"
      ],
      "text/plain": []
     },
     "metadata": {},
     "output_type": "display_data"
    },
    {
     "data": {
      "text/html": [
       "<pre style=\"white-space:pre;overflow-x:auto;line-height:normal;font-family:Menlo,'DejaVu Sans Mono',consolas,'Courier New',monospace\">\n",
       "</pre>\n"
      ],
      "text/plain": [
       "\n"
      ]
     },
     "metadata": {},
     "output_type": "display_data"
    },
    {
     "data": {
      "text/html": [
       "<pre style=\"white-space:pre;overflow-x:auto;line-height:normal;font-family:Menlo,'DejaVu Sans Mono',consolas,'Courier New',monospace\">Reading secret from C:\\Users\\david\\Documents\\GitHub\\ds-network-analysis\\data\\my_secrets.yaml…\n",
       "</pre>\n"
      ],
      "text/plain": [
       "Reading secret from C:\\Users\\david\\Documents\\GitHub\\ds-network-analysis\\data\\my_secrets.yaml…\n"
      ]
     },
     "metadata": {},
     "output_type": "display_data"
    },
    {
     "data": {
      "text/html": [
       "<pre style=\"white-space:pre;overflow-x:auto;line-height:normal;font-family:Menlo,'DejaVu Sans Mono',consolas,'Courier New',monospace\"></pre>\n"
      ],
      "text/plain": []
     },
     "metadata": {},
     "output_type": "display_data"
    },
    {
     "data": {
      "text/html": [
       "<pre style=\"white-space:pre;overflow-x:auto;line-height:normal;font-family:Menlo,'DejaVu Sans Mono',consolas,'Courier New',monospace\">\n",
       "</pre>\n"
      ],
      "text/plain": [
       "\n"
      ]
     },
     "metadata": {},
     "output_type": "display_data"
    },
    {
     "data": {
      "text/html": [
       "<pre style=\"white-space:pre;overflow-x:auto;line-height:normal;font-family:Menlo,'DejaVu Sans Mono',consolas,'Courier New',monospace\">Reading secret from C:\\Users\\david\\Documents\\GitHub\\ds-network-analysis\\data\\my_secrets.yaml…\n",
       "</pre>\n"
      ],
      "text/plain": [
       "Reading secret from C:\\Users\\david\\Documents\\GitHub\\ds-network-analysis\\data\\my_secrets.yaml…\n"
      ]
     },
     "metadata": {},
     "output_type": "display_data"
    },
    {
     "data": {
      "text/html": [
       "<pre style=\"white-space:pre;overflow-x:auto;line-height:normal;font-family:Menlo,'DejaVu Sans Mono',consolas,'Courier New',monospace\"></pre>\n"
      ],
      "text/plain": []
     },
     "metadata": {},
     "output_type": "display_data"
    },
    {
     "data": {
      "text/html": [
       "<pre style=\"white-space:pre;overflow-x:auto;line-height:normal;font-family:Menlo,'DejaVu Sans Mono',consolas,'Courier New',monospace\">\n",
       "</pre>\n"
      ],
      "text/plain": [
       "\n"
      ]
     },
     "metadata": {},
     "output_type": "display_data"
    },
    {
     "data": {
      "text/html": [
       "<pre style=\"white-space:pre;overflow-x:auto;line-height:normal;font-family:Menlo,'DejaVu Sans Mono',consolas,'Courier New',monospace\">Reading secret from C:\\Users\\david\\Documents\\GitHub\\ds-network-analysis\\data\\my_secrets.yaml…\n",
       "</pre>\n"
      ],
      "text/plain": [
       "Reading secret from C:\\Users\\david\\Documents\\GitHub\\ds-network-analysis\\data\\my_secrets.yaml…\n"
      ]
     },
     "metadata": {},
     "output_type": "display_data"
    },
    {
     "data": {
      "text/html": [
       "<pre style=\"white-space:pre;overflow-x:auto;line-height:normal;font-family:Menlo,'DejaVu Sans Mono',consolas,'Courier New',monospace\"></pre>\n"
      ],
      "text/plain": []
     },
     "metadata": {},
     "output_type": "display_data"
    },
    {
     "data": {
      "text/html": [
       "<pre style=\"white-space:pre;overflow-x:auto;line-height:normal;font-family:Menlo,'DejaVu Sans Mono',consolas,'Courier New',monospace\">\n",
       "</pre>\n"
      ],
      "text/plain": [
       "\n"
      ]
     },
     "metadata": {},
     "output_type": "display_data"
    },
    {
     "data": {
      "text/html": [
       "<pre style=\"white-space:pre;overflow-x:auto;line-height:normal;font-family:Menlo,'DejaVu Sans Mono',consolas,'Courier New',monospace\">Reading secret from C:\\Users\\david\\Documents\\GitHub\\ds-network-analysis\\data\\my_secrets.yaml…\n",
       "</pre>\n"
      ],
      "text/plain": [
       "Reading secret from C:\\Users\\david\\Documents\\GitHub\\ds-network-analysis\\data\\my_secrets.yaml…\n"
      ]
     },
     "metadata": {},
     "output_type": "display_data"
    },
    {
     "data": {
      "text/html": [
       "<pre style=\"white-space:pre;overflow-x:auto;line-height:normal;font-family:Menlo,'DejaVu Sans Mono',consolas,'Courier New',monospace\"></pre>\n"
      ],
      "text/plain": []
     },
     "metadata": {},
     "output_type": "display_data"
    },
    {
     "data": {
      "text/html": [
       "<pre style=\"white-space:pre;overflow-x:auto;line-height:normal;font-family:Menlo,'DejaVu Sans Mono',consolas,'Courier New',monospace\">\n",
       "</pre>\n"
      ],
      "text/plain": [
       "\n"
      ]
     },
     "metadata": {},
     "output_type": "display_data"
    },
    {
     "data": {
      "text/html": [
       "<pre style=\"white-space:pre;overflow-x:auto;line-height:normal;font-family:Menlo,'DejaVu Sans Mono',consolas,'Courier New',monospace\">Reading secret from C:\\Users\\david\\Documents\\GitHub\\ds-network-analysis\\data\\my_secrets.yaml…\n",
       "</pre>\n"
      ],
      "text/plain": [
       "Reading secret from C:\\Users\\david\\Documents\\GitHub\\ds-network-analysis\\data\\my_secrets.yaml…\n"
      ]
     },
     "metadata": {},
     "output_type": "display_data"
    },
    {
     "data": {
      "text/html": [
       "<pre style=\"white-space:pre;overflow-x:auto;line-height:normal;font-family:Menlo,'DejaVu Sans Mono',consolas,'Courier New',monospace\"></pre>\n"
      ],
      "text/plain": []
     },
     "metadata": {},
     "output_type": "display_data"
    },
    {
     "data": {
      "text/html": [
       "<pre style=\"white-space:pre;overflow-x:auto;line-height:normal;font-family:Menlo,'DejaVu Sans Mono',consolas,'Courier New',monospace\">\n",
       "</pre>\n"
      ],
      "text/plain": [
       "\n"
      ]
     },
     "metadata": {},
     "output_type": "display_data"
    },
    {
     "data": {
      "text/html": [
       "<pre style=\"white-space:pre;overflow-x:auto;line-height:normal;font-family:Menlo,'DejaVu Sans Mono',consolas,'Courier New',monospace\">Reading secret from C:\\Users\\david\\Documents\\GitHub\\ds-network-analysis\\data\\my_secrets.yaml…\n",
       "</pre>\n"
      ],
      "text/plain": [
       "Reading secret from C:\\Users\\david\\Documents\\GitHub\\ds-network-analysis\\data\\my_secrets.yaml…\n"
      ]
     },
     "metadata": {},
     "output_type": "display_data"
    },
    {
     "data": {
      "text/html": [
       "<pre style=\"white-space:pre;overflow-x:auto;line-height:normal;font-family:Menlo,'DejaVu Sans Mono',consolas,'Courier New',monospace\"></pre>\n"
      ],
      "text/plain": []
     },
     "metadata": {},
     "output_type": "display_data"
    },
    {
     "data": {
      "text/html": [
       "<pre style=\"white-space:pre;overflow-x:auto;line-height:normal;font-family:Menlo,'DejaVu Sans Mono',consolas,'Courier New',monospace\">\n",
       "</pre>\n"
      ],
      "text/plain": [
       "\n"
      ]
     },
     "metadata": {},
     "output_type": "display_data"
    },
    {
     "data": {
      "text/html": [
       "<pre style=\"white-space:pre;overflow-x:auto;line-height:normal;font-family:Menlo,'DejaVu Sans Mono',consolas,'Courier New',monospace\">Reading secret from C:\\Users\\david\\Documents\\GitHub\\ds-network-analysis\\data\\my_secrets.yaml…\n",
       "</pre>\n"
      ],
      "text/plain": [
       "Reading secret from C:\\Users\\david\\Documents\\GitHub\\ds-network-analysis\\data\\my_secrets.yaml…\n"
      ]
     },
     "metadata": {},
     "output_type": "display_data"
    },
    {
     "data": {
      "text/html": [
       "<pre style=\"white-space:pre;overflow-x:auto;line-height:normal;font-family:Menlo,'DejaVu Sans Mono',consolas,'Courier New',monospace\"></pre>\n"
      ],
      "text/plain": []
     },
     "metadata": {},
     "output_type": "display_data"
    },
    {
     "data": {
      "text/html": [
       "<pre style=\"white-space:pre;overflow-x:auto;line-height:normal;font-family:Menlo,'DejaVu Sans Mono',consolas,'Courier New',monospace\">\n",
       "</pre>\n"
      ],
      "text/plain": [
       "\n"
      ]
     },
     "metadata": {},
     "output_type": "display_data"
    },
    {
     "data": {
      "text/html": [
       "<pre style=\"white-space:pre;overflow-x:auto;line-height:normal;font-family:Menlo,'DejaVu Sans Mono',consolas,'Courier New',monospace\">Reading secret from C:\\Users\\david\\Documents\\GitHub\\ds-network-analysis\\data\\my_secrets.yaml…\n",
       "</pre>\n"
      ],
      "text/plain": [
       "Reading secret from C:\\Users\\david\\Documents\\GitHub\\ds-network-analysis\\data\\my_secrets.yaml…\n"
      ]
     },
     "metadata": {},
     "output_type": "display_data"
    },
    {
     "data": {
      "text/html": [
       "<pre style=\"white-space:pre;overflow-x:auto;line-height:normal;font-family:Menlo,'DejaVu Sans Mono',consolas,'Courier New',monospace\"></pre>\n"
      ],
      "text/plain": []
     },
     "metadata": {},
     "output_type": "display_data"
    },
    {
     "data": {
      "text/html": [
       "<pre style=\"white-space:pre;overflow-x:auto;line-height:normal;font-family:Menlo,'DejaVu Sans Mono',consolas,'Courier New',monospace\">\n",
       "</pre>\n"
      ],
      "text/plain": [
       "\n"
      ]
     },
     "metadata": {},
     "output_type": "display_data"
    },
    {
     "data": {
      "text/html": [
       "<pre style=\"white-space:pre;overflow-x:auto;line-height:normal;font-family:Menlo,'DejaVu Sans Mono',consolas,'Courier New',monospace\">Reading secret from C:\\Users\\david\\Documents\\GitHub\\ds-network-analysis\\data\\my_secrets.yaml…\n",
       "</pre>\n"
      ],
      "text/plain": [
       "Reading secret from C:\\Users\\david\\Documents\\GitHub\\ds-network-analysis\\data\\my_secrets.yaml…\n"
      ]
     },
     "metadata": {},
     "output_type": "display_data"
    },
    {
     "data": {
      "text/html": [
       "<pre style=\"white-space:pre;overflow-x:auto;line-height:normal;font-family:Menlo,'DejaVu Sans Mono',consolas,'Courier New',monospace\"></pre>\n"
      ],
      "text/plain": []
     },
     "metadata": {},
     "output_type": "display_data"
    },
    {
     "data": {
      "text/html": [
       "<pre style=\"white-space:pre;overflow-x:auto;line-height:normal;font-family:Menlo,'DejaVu Sans Mono',consolas,'Courier New',monospace\">\n",
       "</pre>\n"
      ],
      "text/plain": [
       "\n"
      ]
     },
     "metadata": {},
     "output_type": "display_data"
    },
    {
     "data": {
      "text/html": [
       "<pre style=\"white-space:pre;overflow-x:auto;line-height:normal;font-family:Menlo,'DejaVu Sans Mono',consolas,'Courier New',monospace\">Reading secret from C:\\Users\\david\\Documents\\GitHub\\ds-network-analysis\\data\\my_secrets.yaml…\n",
       "</pre>\n"
      ],
      "text/plain": [
       "Reading secret from C:\\Users\\david\\Documents\\GitHub\\ds-network-analysis\\data\\my_secrets.yaml…\n"
      ]
     },
     "metadata": {},
     "output_type": "display_data"
    },
    {
     "data": {
      "text/html": [
       "<pre style=\"white-space:pre;overflow-x:auto;line-height:normal;font-family:Menlo,'DejaVu Sans Mono',consolas,'Courier New',monospace\"></pre>\n"
      ],
      "text/plain": []
     },
     "metadata": {},
     "output_type": "display_data"
    },
    {
     "data": {
      "text/html": [
       "<pre style=\"white-space:pre;overflow-x:auto;line-height:normal;font-family:Menlo,'DejaVu Sans Mono',consolas,'Courier New',monospace\">\n",
       "</pre>\n"
      ],
      "text/plain": [
       "\n"
      ]
     },
     "metadata": {},
     "output_type": "display_data"
    },
    {
     "data": {
      "text/html": [
       "<pre style=\"white-space:pre;overflow-x:auto;line-height:normal;font-family:Menlo,'DejaVu Sans Mono',consolas,'Courier New',monospace\">Reading secret from C:\\Users\\david\\Documents\\GitHub\\ds-network-analysis\\data\\my_secrets.yaml…\n",
       "</pre>\n"
      ],
      "text/plain": [
       "Reading secret from C:\\Users\\david\\Documents\\GitHub\\ds-network-analysis\\data\\my_secrets.yaml…\n"
      ]
     },
     "metadata": {},
     "output_type": "display_data"
    },
    {
     "data": {
      "text/html": [
       "<pre style=\"white-space:pre;overflow-x:auto;line-height:normal;font-family:Menlo,'DejaVu Sans Mono',consolas,'Courier New',monospace\"></pre>\n"
      ],
      "text/plain": []
     },
     "metadata": {},
     "output_type": "display_data"
    },
    {
     "data": {
      "text/html": [
       "<pre style=\"white-space:pre;overflow-x:auto;line-height:normal;font-family:Menlo,'DejaVu Sans Mono',consolas,'Courier New',monospace\">\n",
       "</pre>\n"
      ],
      "text/plain": [
       "\n"
      ]
     },
     "metadata": {},
     "output_type": "display_data"
    },
    {
     "data": {
      "text/html": [
       "<pre style=\"white-space:pre;overflow-x:auto;line-height:normal;font-family:Menlo,'DejaVu Sans Mono',consolas,'Courier New',monospace\">Reading secret from C:\\Users\\david\\Documents\\GitHub\\ds-network-analysis\\data\\my_secrets.yaml…\n",
       "</pre>\n"
      ],
      "text/plain": [
       "Reading secret from C:\\Users\\david\\Documents\\GitHub\\ds-network-analysis\\data\\my_secrets.yaml…\n"
      ]
     },
     "metadata": {},
     "output_type": "display_data"
    },
    {
     "data": {
      "text/html": [
       "<pre style=\"white-space:pre;overflow-x:auto;line-height:normal;font-family:Menlo,'DejaVu Sans Mono',consolas,'Courier New',monospace\"></pre>\n"
      ],
      "text/plain": []
     },
     "metadata": {},
     "output_type": "display_data"
    },
    {
     "data": {
      "text/html": [
       "<pre style=\"white-space:pre;overflow-x:auto;line-height:normal;font-family:Menlo,'DejaVu Sans Mono',consolas,'Courier New',monospace\">\n",
       "</pre>\n"
      ],
      "text/plain": [
       "\n"
      ]
     },
     "metadata": {},
     "output_type": "display_data"
    },
    {
     "data": {
      "text/html": [
       "<pre style=\"white-space:pre;overflow-x:auto;line-height:normal;font-family:Menlo,'DejaVu Sans Mono',consolas,'Courier New',monospace\">Reading secret from C:\\Users\\david\\Documents\\GitHub\\ds-network-analysis\\data\\my_secrets.yaml…\n",
       "</pre>\n"
      ],
      "text/plain": [
       "Reading secret from C:\\Users\\david\\Documents\\GitHub\\ds-network-analysis\\data\\my_secrets.yaml…\n"
      ]
     },
     "metadata": {},
     "output_type": "display_data"
    },
    {
     "data": {
      "text/html": [
       "<pre style=\"white-space:pre;overflow-x:auto;line-height:normal;font-family:Menlo,'DejaVu Sans Mono',consolas,'Courier New',monospace\"></pre>\n"
      ],
      "text/plain": []
     },
     "metadata": {},
     "output_type": "display_data"
    },
    {
     "data": {
      "text/html": [
       "<pre style=\"white-space:pre;overflow-x:auto;line-height:normal;font-family:Menlo,'DejaVu Sans Mono',consolas,'Courier New',monospace\">\n",
       "</pre>\n"
      ],
      "text/plain": [
       "\n"
      ]
     },
     "metadata": {},
     "output_type": "display_data"
    },
    {
     "data": {
      "text/html": [
       "<pre style=\"white-space:pre;overflow-x:auto;line-height:normal;font-family:Menlo,'DejaVu Sans Mono',consolas,'Courier New',monospace\">Reading secret from C:\\Users\\david\\Documents\\GitHub\\ds-network-analysis\\data\\my_secrets.yaml…\n",
       "</pre>\n"
      ],
      "text/plain": [
       "Reading secret from C:\\Users\\david\\Documents\\GitHub\\ds-network-analysis\\data\\my_secrets.yaml…\n"
      ]
     },
     "metadata": {},
     "output_type": "display_data"
    },
    {
     "data": {
      "text/html": [
       "<pre style=\"white-space:pre;overflow-x:auto;line-height:normal;font-family:Menlo,'DejaVu Sans Mono',consolas,'Courier New',monospace\"></pre>\n"
      ],
      "text/plain": []
     },
     "metadata": {},
     "output_type": "display_data"
    },
    {
     "data": {
      "text/html": [
       "<pre style=\"white-space:pre;overflow-x:auto;line-height:normal;font-family:Menlo,'DejaVu Sans Mono',consolas,'Courier New',monospace\">\n",
       "</pre>\n"
      ],
      "text/plain": [
       "\n"
      ]
     },
     "metadata": {},
     "output_type": "display_data"
    },
    {
     "data": {
      "text/html": [
       "<pre style=\"white-space:pre;overflow-x:auto;line-height:normal;font-family:Menlo,'DejaVu Sans Mono',consolas,'Courier New',monospace\">Reading secret from C:\\Users\\david\\Documents\\GitHub\\ds-network-analysis\\data\\my_secrets.yaml…\n",
       "</pre>\n"
      ],
      "text/plain": [
       "Reading secret from C:\\Users\\david\\Documents\\GitHub\\ds-network-analysis\\data\\my_secrets.yaml…\n"
      ]
     },
     "metadata": {},
     "output_type": "display_data"
    },
    {
     "data": {
      "text/html": [
       "<pre style=\"white-space:pre;overflow-x:auto;line-height:normal;font-family:Menlo,'DejaVu Sans Mono',consolas,'Courier New',monospace\"></pre>\n"
      ],
      "text/plain": []
     },
     "metadata": {},
     "output_type": "display_data"
    },
    {
     "data": {
      "text/html": [
       "<pre style=\"white-space:pre;overflow-x:auto;line-height:normal;font-family:Menlo,'DejaVu Sans Mono',consolas,'Courier New',monospace\">\n",
       "</pre>\n"
      ],
      "text/plain": [
       "\n"
      ]
     },
     "metadata": {},
     "output_type": "display_data"
    },
    {
     "data": {
      "text/html": [
       "<pre style=\"white-space:pre;overflow-x:auto;line-height:normal;font-family:Menlo,'DejaVu Sans Mono',consolas,'Courier New',monospace\">Reading secret from C:\\Users\\david\\Documents\\GitHub\\ds-network-analysis\\data\\my_secrets.yaml…\n",
       "</pre>\n"
      ],
      "text/plain": [
       "Reading secret from C:\\Users\\david\\Documents\\GitHub\\ds-network-analysis\\data\\my_secrets.yaml…\n"
      ]
     },
     "metadata": {},
     "output_type": "display_data"
    },
    {
     "data": {
      "text/html": [
       "<pre style=\"white-space:pre;overflow-x:auto;line-height:normal;font-family:Menlo,'DejaVu Sans Mono',consolas,'Courier New',monospace\"></pre>\n"
      ],
      "text/plain": []
     },
     "metadata": {},
     "output_type": "display_data"
    },
    {
     "data": {
      "text/html": [
       "<pre style=\"white-space:pre;overflow-x:auto;line-height:normal;font-family:Menlo,'DejaVu Sans Mono',consolas,'Courier New',monospace\">\n",
       "</pre>\n"
      ],
      "text/plain": [
       "\n"
      ]
     },
     "metadata": {},
     "output_type": "display_data"
    },
    {
     "data": {
      "text/html": [
       "<pre style=\"white-space:pre;overflow-x:auto;line-height:normal;font-family:Menlo,'DejaVu Sans Mono',consolas,'Courier New',monospace\">Reading secret from C:\\Users\\david\\Documents\\GitHub\\ds-network-analysis\\data\\my_secrets.yaml…\n",
       "</pre>\n"
      ],
      "text/plain": [
       "Reading secret from C:\\Users\\david\\Documents\\GitHub\\ds-network-analysis\\data\\my_secrets.yaml…\n"
      ]
     },
     "metadata": {},
     "output_type": "display_data"
    },
    {
     "data": {
      "text/html": [
       "<pre style=\"white-space:pre;overflow-x:auto;line-height:normal;font-family:Menlo,'DejaVu Sans Mono',consolas,'Courier New',monospace\"></pre>\n"
      ],
      "text/plain": []
     },
     "metadata": {},
     "output_type": "display_data"
    },
    {
     "data": {
      "text/html": [
       "<pre style=\"white-space:pre;overflow-x:auto;line-height:normal;font-family:Menlo,'DejaVu Sans Mono',consolas,'Courier New',monospace\">\n",
       "</pre>\n"
      ],
      "text/plain": [
       "\n"
      ]
     },
     "metadata": {},
     "output_type": "display_data"
    },
    {
     "data": {
      "text/html": [
       "<pre style=\"white-space:pre;overflow-x:auto;line-height:normal;font-family:Menlo,'DejaVu Sans Mono',consolas,'Courier New',monospace\">Reading secret from C:\\Users\\david\\Documents\\GitHub\\ds-network-analysis\\data\\my_secrets.yaml…\n",
       "</pre>\n"
      ],
      "text/plain": [
       "Reading secret from C:\\Users\\david\\Documents\\GitHub\\ds-network-analysis\\data\\my_secrets.yaml…\n"
      ]
     },
     "metadata": {},
     "output_type": "display_data"
    },
    {
     "data": {
      "text/html": [
       "<pre style=\"white-space:pre;overflow-x:auto;line-height:normal;font-family:Menlo,'DejaVu Sans Mono',consolas,'Courier New',monospace\"></pre>\n"
      ],
      "text/plain": []
     },
     "metadata": {},
     "output_type": "display_data"
    },
    {
     "data": {
      "text/html": [
       "<pre style=\"white-space:pre;overflow-x:auto;line-height:normal;font-family:Menlo,'DejaVu Sans Mono',consolas,'Courier New',monospace\">\n",
       "</pre>\n"
      ],
      "text/plain": [
       "\n"
      ]
     },
     "metadata": {},
     "output_type": "display_data"
    },
    {
     "data": {
      "text/html": [
       "<pre style=\"white-space:pre;overflow-x:auto;line-height:normal;font-family:Menlo,'DejaVu Sans Mono',consolas,'Courier New',monospace\">Reading secret from C:\\Users\\david\\Documents\\GitHub\\ds-network-analysis\\data\\my_secrets.yaml…\n",
       "</pre>\n"
      ],
      "text/plain": [
       "Reading secret from C:\\Users\\david\\Documents\\GitHub\\ds-network-analysis\\data\\my_secrets.yaml…\n"
      ]
     },
     "metadata": {},
     "output_type": "display_data"
    },
    {
     "data": {
      "text/html": [
       "<pre style=\"white-space:pre;overflow-x:auto;line-height:normal;font-family:Menlo,'DejaVu Sans Mono',consolas,'Courier New',monospace\"></pre>\n"
      ],
      "text/plain": []
     },
     "metadata": {},
     "output_type": "display_data"
    },
    {
     "data": {
      "text/html": [
       "<pre style=\"white-space:pre;overflow-x:auto;line-height:normal;font-family:Menlo,'DejaVu Sans Mono',consolas,'Courier New',monospace\">\n",
       "</pre>\n"
      ],
      "text/plain": [
       "\n"
      ]
     },
     "metadata": {},
     "output_type": "display_data"
    },
    {
     "data": {
      "text/html": [
       "<pre style=\"white-space:pre;overflow-x:auto;line-height:normal;font-family:Menlo,'DejaVu Sans Mono',consolas,'Courier New',monospace\">Reading secret from C:\\Users\\david\\Documents\\GitHub\\ds-network-analysis\\data\\my_secrets.yaml…\n",
       "</pre>\n"
      ],
      "text/plain": [
       "Reading secret from C:\\Users\\david\\Documents\\GitHub\\ds-network-analysis\\data\\my_secrets.yaml…\n"
      ]
     },
     "metadata": {},
     "output_type": "display_data"
    },
    {
     "data": {
      "text/html": [
       "<pre style=\"white-space:pre;overflow-x:auto;line-height:normal;font-family:Menlo,'DejaVu Sans Mono',consolas,'Courier New',monospace\"></pre>\n"
      ],
      "text/plain": []
     },
     "metadata": {},
     "output_type": "display_data"
    },
    {
     "data": {
      "text/html": [
       "<pre style=\"white-space:pre;overflow-x:auto;line-height:normal;font-family:Menlo,'DejaVu Sans Mono',consolas,'Courier New',monospace\">\n",
       "</pre>\n"
      ],
      "text/plain": [
       "\n"
      ]
     },
     "metadata": {},
     "output_type": "display_data"
    },
    {
     "data": {
      "text/html": [
       "<pre style=\"white-space:pre;overflow-x:auto;line-height:normal;font-family:Menlo,'DejaVu Sans Mono',consolas,'Courier New',monospace\">Reading secret from C:\\Users\\david\\Documents\\GitHub\\ds-network-analysis\\data\\my_secrets.yaml…\n",
       "</pre>\n"
      ],
      "text/plain": [
       "Reading secret from C:\\Users\\david\\Documents\\GitHub\\ds-network-analysis\\data\\my_secrets.yaml…\n"
      ]
     },
     "metadata": {},
     "output_type": "display_data"
    },
    {
     "data": {
      "text/html": [
       "<pre style=\"white-space:pre;overflow-x:auto;line-height:normal;font-family:Menlo,'DejaVu Sans Mono',consolas,'Courier New',monospace\"></pre>\n"
      ],
      "text/plain": []
     },
     "metadata": {},
     "output_type": "display_data"
    },
    {
     "data": {
      "text/html": [
       "<pre style=\"white-space:pre;overflow-x:auto;line-height:normal;font-family:Menlo,'DejaVu Sans Mono',consolas,'Courier New',monospace\">\n",
       "</pre>\n"
      ],
      "text/plain": [
       "\n"
      ]
     },
     "metadata": {},
     "output_type": "display_data"
    },
    {
     "data": {
      "text/html": [
       "<pre style=\"white-space:pre;overflow-x:auto;line-height:normal;font-family:Menlo,'DejaVu Sans Mono',consolas,'Courier New',monospace\">Reading secret from C:\\Users\\david\\Documents\\GitHub\\ds-network-analysis\\data\\my_secrets.yaml…\n",
       "</pre>\n"
      ],
      "text/plain": [
       "Reading secret from C:\\Users\\david\\Documents\\GitHub\\ds-network-analysis\\data\\my_secrets.yaml…\n"
      ]
     },
     "metadata": {},
     "output_type": "display_data"
    },
    {
     "data": {
      "text/html": [
       "<pre style=\"white-space:pre;overflow-x:auto;line-height:normal;font-family:Menlo,'DejaVu Sans Mono',consolas,'Courier New',monospace\"></pre>\n"
      ],
      "text/plain": []
     },
     "metadata": {},
     "output_type": "display_data"
    },
    {
     "data": {
      "text/html": [
       "<pre style=\"white-space:pre;overflow-x:auto;line-height:normal;font-family:Menlo,'DejaVu Sans Mono',consolas,'Courier New',monospace\">\n",
       "</pre>\n"
      ],
      "text/plain": [
       "\n"
      ]
     },
     "metadata": {},
     "output_type": "display_data"
    },
    {
     "data": {
      "text/html": [
       "<pre style=\"white-space:pre;overflow-x:auto;line-height:normal;font-family:Menlo,'DejaVu Sans Mono',consolas,'Courier New',monospace\">Reading secret from C:\\Users\\david\\Documents\\GitHub\\ds-network-analysis\\data\\my_secrets.yaml…\n",
       "</pre>\n"
      ],
      "text/plain": [
       "Reading secret from C:\\Users\\david\\Documents\\GitHub\\ds-network-analysis\\data\\my_secrets.yaml…\n"
      ]
     },
     "metadata": {},
     "output_type": "display_data"
    },
    {
     "data": {
      "text/html": [
       "<pre style=\"white-space:pre;overflow-x:auto;line-height:normal;font-family:Menlo,'DejaVu Sans Mono',consolas,'Courier New',monospace\"></pre>\n"
      ],
      "text/plain": []
     },
     "metadata": {},
     "output_type": "display_data"
    },
    {
     "data": {
      "text/html": [
       "<pre style=\"white-space:pre;overflow-x:auto;line-height:normal;font-family:Menlo,'DejaVu Sans Mono',consolas,'Courier New',monospace\">\n",
       "</pre>\n"
      ],
      "text/plain": [
       "\n"
      ]
     },
     "metadata": {},
     "output_type": "display_data"
    },
    {
     "data": {
      "text/html": [
       "<pre style=\"white-space:pre;overflow-x:auto;line-height:normal;font-family:Menlo,'DejaVu Sans Mono',consolas,'Courier New',monospace\">Reading secret from C:\\Users\\david\\Documents\\GitHub\\ds-network-analysis\\data\\my_secrets.yaml…\n",
       "</pre>\n"
      ],
      "text/plain": [
       "Reading secret from C:\\Users\\david\\Documents\\GitHub\\ds-network-analysis\\data\\my_secrets.yaml…\n"
      ]
     },
     "metadata": {},
     "output_type": "display_data"
    },
    {
     "data": {
      "text/html": [
       "<pre style=\"white-space:pre;overflow-x:auto;line-height:normal;font-family:Menlo,'DejaVu Sans Mono',consolas,'Courier New',monospace\"></pre>\n"
      ],
      "text/plain": []
     },
     "metadata": {},
     "output_type": "display_data"
    },
    {
     "data": {
      "text/html": [
       "<pre style=\"white-space:pre;overflow-x:auto;line-height:normal;font-family:Menlo,'DejaVu Sans Mono',consolas,'Courier New',monospace\">\n",
       "</pre>\n"
      ],
      "text/plain": [
       "\n"
      ]
     },
     "metadata": {},
     "output_type": "display_data"
    },
    {
     "data": {
      "text/html": [
       "<pre style=\"white-space:pre;overflow-x:auto;line-height:normal;font-family:Menlo,'DejaVu Sans Mono',consolas,'Courier New',monospace\">Reading secret from C:\\Users\\david\\Documents\\GitHub\\ds-network-analysis\\data\\my_secrets.yaml…\n",
       "</pre>\n"
      ],
      "text/plain": [
       "Reading secret from C:\\Users\\david\\Documents\\GitHub\\ds-network-analysis\\data\\my_secrets.yaml…\n"
      ]
     },
     "metadata": {},
     "output_type": "display_data"
    },
    {
     "data": {
      "text/html": [
       "<pre style=\"white-space:pre;overflow-x:auto;line-height:normal;font-family:Menlo,'DejaVu Sans Mono',consolas,'Courier New',monospace\"></pre>\n"
      ],
      "text/plain": []
     },
     "metadata": {},
     "output_type": "display_data"
    },
    {
     "data": {
      "text/html": [
       "<pre style=\"white-space:pre;overflow-x:auto;line-height:normal;font-family:Menlo,'DejaVu Sans Mono',consolas,'Courier New',monospace\">\n",
       "</pre>\n"
      ],
      "text/plain": [
       "\n"
      ]
     },
     "metadata": {},
     "output_type": "display_data"
    },
    {
     "data": {
      "text/html": [
       "<pre style=\"white-space:pre;overflow-x:auto;line-height:normal;font-family:Menlo,'DejaVu Sans Mono',consolas,'Courier New',monospace\">Reading secret from C:\\Users\\david\\Documents\\GitHub\\ds-network-analysis\\data\\my_secrets.yaml…\n",
       "</pre>\n"
      ],
      "text/plain": [
       "Reading secret from C:\\Users\\david\\Documents\\GitHub\\ds-network-analysis\\data\\my_secrets.yaml…\n"
      ]
     },
     "metadata": {},
     "output_type": "display_data"
    },
    {
     "data": {
      "text/html": [
       "<pre style=\"white-space:pre;overflow-x:auto;line-height:normal;font-family:Menlo,'DejaVu Sans Mono',consolas,'Courier New',monospace\"></pre>\n"
      ],
      "text/plain": []
     },
     "metadata": {},
     "output_type": "display_data"
    },
    {
     "data": {
      "text/html": [
       "<pre style=\"white-space:pre;overflow-x:auto;line-height:normal;font-family:Menlo,'DejaVu Sans Mono',consolas,'Courier New',monospace\">\n",
       "</pre>\n"
      ],
      "text/plain": [
       "\n"
      ]
     },
     "metadata": {},
     "output_type": "display_data"
    },
    {
     "data": {
      "text/html": [
       "<pre style=\"white-space:pre;overflow-x:auto;line-height:normal;font-family:Menlo,'DejaVu Sans Mono',consolas,'Courier New',monospace\">Reading secret from C:\\Users\\david\\Documents\\GitHub\\ds-network-analysis\\data\\my_secrets.yaml…\n",
       "</pre>\n"
      ],
      "text/plain": [
       "Reading secret from C:\\Users\\david\\Documents\\GitHub\\ds-network-analysis\\data\\my_secrets.yaml…\n"
      ]
     },
     "metadata": {},
     "output_type": "display_data"
    },
    {
     "data": {
      "text/html": [
       "<pre style=\"white-space:pre;overflow-x:auto;line-height:normal;font-family:Menlo,'DejaVu Sans Mono',consolas,'Courier New',monospace\"></pre>\n"
      ],
      "text/plain": []
     },
     "metadata": {},
     "output_type": "display_data"
    },
    {
     "data": {
      "text/html": [
       "<pre style=\"white-space:pre;overflow-x:auto;line-height:normal;font-family:Menlo,'DejaVu Sans Mono',consolas,'Courier New',monospace\">\n",
       "</pre>\n"
      ],
      "text/plain": [
       "\n"
      ]
     },
     "metadata": {},
     "output_type": "display_data"
    },
    {
     "data": {
      "text/html": [
       "<pre style=\"white-space:pre;overflow-x:auto;line-height:normal;font-family:Menlo,'DejaVu Sans Mono',consolas,'Courier New',monospace\">Reading secret from C:\\Users\\david\\Documents\\GitHub\\ds-network-analysis\\data\\my_secrets.yaml…\n",
       "</pre>\n"
      ],
      "text/plain": [
       "Reading secret from C:\\Users\\david\\Documents\\GitHub\\ds-network-analysis\\data\\my_secrets.yaml…\n"
      ]
     },
     "metadata": {},
     "output_type": "display_data"
    },
    {
     "data": {
      "text/html": [
       "<pre style=\"white-space:pre;overflow-x:auto;line-height:normal;font-family:Menlo,'DejaVu Sans Mono',consolas,'Courier New',monospace\"></pre>\n"
      ],
      "text/plain": []
     },
     "metadata": {},
     "output_type": "display_data"
    },
    {
     "data": {
      "text/html": [
       "<pre style=\"white-space:pre;overflow-x:auto;line-height:normal;font-family:Menlo,'DejaVu Sans Mono',consolas,'Courier New',monospace\">\n",
       "</pre>\n"
      ],
      "text/plain": [
       "\n"
      ]
     },
     "metadata": {},
     "output_type": "display_data"
    },
    {
     "data": {
      "text/html": [
       "<pre style=\"white-space:pre;overflow-x:auto;line-height:normal;font-family:Menlo,'DejaVu Sans Mono',consolas,'Courier New',monospace\">Reading secret from C:\\Users\\david\\Documents\\GitHub\\ds-network-analysis\\data\\my_secrets.yaml…\n",
       "</pre>\n"
      ],
      "text/plain": [
       "Reading secret from C:\\Users\\david\\Documents\\GitHub\\ds-network-analysis\\data\\my_secrets.yaml…\n"
      ]
     },
     "metadata": {},
     "output_type": "display_data"
    },
    {
     "data": {
      "text/html": [
       "<pre style=\"white-space:pre;overflow-x:auto;line-height:normal;font-family:Menlo,'DejaVu Sans Mono',consolas,'Courier New',monospace\"></pre>\n"
      ],
      "text/plain": []
     },
     "metadata": {},
     "output_type": "display_data"
    },
    {
     "data": {
      "text/html": [
       "<pre style=\"white-space:pre;overflow-x:auto;line-height:normal;font-family:Menlo,'DejaVu Sans Mono',consolas,'Courier New',monospace\">\n",
       "</pre>\n"
      ],
      "text/plain": [
       "\n"
      ]
     },
     "metadata": {},
     "output_type": "display_data"
    },
    {
     "data": {
      "text/html": [
       "<pre style=\"white-space:pre;overflow-x:auto;line-height:normal;font-family:Menlo,'DejaVu Sans Mono',consolas,'Courier New',monospace\">Reading secret from C:\\Users\\david\\Documents\\GitHub\\ds-network-analysis\\data\\my_secrets.yaml…\n",
       "</pre>\n"
      ],
      "text/plain": [
       "Reading secret from C:\\Users\\david\\Documents\\GitHub\\ds-network-analysis\\data\\my_secrets.yaml…\n"
      ]
     },
     "metadata": {},
     "output_type": "display_data"
    },
    {
     "data": {
      "text/html": [
       "<pre style=\"white-space:pre;overflow-x:auto;line-height:normal;font-family:Menlo,'DejaVu Sans Mono',consolas,'Courier New',monospace\"></pre>\n"
      ],
      "text/plain": []
     },
     "metadata": {},
     "output_type": "display_data"
    },
    {
     "data": {
      "text/html": [
       "<pre style=\"white-space:pre;overflow-x:auto;line-height:normal;font-family:Menlo,'DejaVu Sans Mono',consolas,'Courier New',monospace\">\n",
       "</pre>\n"
      ],
      "text/plain": [
       "\n"
      ]
     },
     "metadata": {},
     "output_type": "display_data"
    },
    {
     "data": {
      "text/html": [
       "<pre style=\"white-space:pre;overflow-x:auto;line-height:normal;font-family:Menlo,'DejaVu Sans Mono',consolas,'Courier New',monospace\">Reading secret from C:\\Users\\david\\Documents\\GitHub\\ds-network-analysis\\data\\my_secrets.yaml…\n",
       "</pre>\n"
      ],
      "text/plain": [
       "Reading secret from C:\\Users\\david\\Documents\\GitHub\\ds-network-analysis\\data\\my_secrets.yaml…\n"
      ]
     },
     "metadata": {},
     "output_type": "display_data"
    },
    {
     "data": {
      "text/html": [
       "<pre style=\"white-space:pre;overflow-x:auto;line-height:normal;font-family:Menlo,'DejaVu Sans Mono',consolas,'Courier New',monospace\"></pre>\n"
      ],
      "text/plain": []
     },
     "metadata": {},
     "output_type": "display_data"
    },
    {
     "data": {
      "text/html": [
       "<pre style=\"white-space:pre;overflow-x:auto;line-height:normal;font-family:Menlo,'DejaVu Sans Mono',consolas,'Courier New',monospace\">\n",
       "</pre>\n"
      ],
      "text/plain": [
       "\n"
      ]
     },
     "metadata": {},
     "output_type": "display_data"
    },
    {
     "data": {
      "text/html": [
       "<pre style=\"white-space:pre;overflow-x:auto;line-height:normal;font-family:Menlo,'DejaVu Sans Mono',consolas,'Courier New',monospace\">Reading secret from C:\\Users\\david\\Documents\\GitHub\\ds-network-analysis\\data\\my_secrets.yaml…\n",
       "</pre>\n"
      ],
      "text/plain": [
       "Reading secret from C:\\Users\\david\\Documents\\GitHub\\ds-network-analysis\\data\\my_secrets.yaml…\n"
      ]
     },
     "metadata": {},
     "output_type": "display_data"
    },
    {
     "data": {
      "text/html": [
       "<pre style=\"white-space:pre;overflow-x:auto;line-height:normal;font-family:Menlo,'DejaVu Sans Mono',consolas,'Courier New',monospace\"></pre>\n"
      ],
      "text/plain": []
     },
     "metadata": {},
     "output_type": "display_data"
    },
    {
     "data": {
      "text/html": [
       "<pre style=\"white-space:pre;overflow-x:auto;line-height:normal;font-family:Menlo,'DejaVu Sans Mono',consolas,'Courier New',monospace\">\n",
       "</pre>\n"
      ],
      "text/plain": [
       "\n"
      ]
     },
     "metadata": {},
     "output_type": "display_data"
    },
    {
     "data": {
      "text/html": [
       "<pre style=\"white-space:pre;overflow-x:auto;line-height:normal;font-family:Menlo,'DejaVu Sans Mono',consolas,'Courier New',monospace\">Reading secret from C:\\Users\\david\\Documents\\GitHub\\ds-network-analysis\\data\\my_secrets.yaml…\n",
       "</pre>\n"
      ],
      "text/plain": [
       "Reading secret from C:\\Users\\david\\Documents\\GitHub\\ds-network-analysis\\data\\my_secrets.yaml…\n"
      ]
     },
     "metadata": {},
     "output_type": "display_data"
    },
    {
     "data": {
      "text/html": [
       "<pre style=\"white-space:pre;overflow-x:auto;line-height:normal;font-family:Menlo,'DejaVu Sans Mono',consolas,'Courier New',monospace\"></pre>\n"
      ],
      "text/plain": []
     },
     "metadata": {},
     "output_type": "display_data"
    },
    {
     "data": {
      "text/html": [
       "<pre style=\"white-space:pre;overflow-x:auto;line-height:normal;font-family:Menlo,'DejaVu Sans Mono',consolas,'Courier New',monospace\">\n",
       "</pre>\n"
      ],
      "text/plain": [
       "\n"
      ]
     },
     "metadata": {},
     "output_type": "display_data"
    },
    {
     "data": {
      "text/html": [
       "<pre style=\"white-space:pre;overflow-x:auto;line-height:normal;font-family:Menlo,'DejaVu Sans Mono',consolas,'Courier New',monospace\">Reading secret from C:\\Users\\david\\Documents\\GitHub\\ds-network-analysis\\data\\my_secrets.yaml…\n",
       "</pre>\n"
      ],
      "text/plain": [
       "Reading secret from C:\\Users\\david\\Documents\\GitHub\\ds-network-analysis\\data\\my_secrets.yaml…\n"
      ]
     },
     "metadata": {},
     "output_type": "display_data"
    },
    {
     "data": {
      "text/html": [
       "<pre style=\"white-space:pre;overflow-x:auto;line-height:normal;font-family:Menlo,'DejaVu Sans Mono',consolas,'Courier New',monospace\"></pre>\n"
      ],
      "text/plain": []
     },
     "metadata": {},
     "output_type": "display_data"
    },
    {
     "data": {
      "text/html": [
       "<pre style=\"white-space:pre;overflow-x:auto;line-height:normal;font-family:Menlo,'DejaVu Sans Mono',consolas,'Courier New',monospace\">\n",
       "</pre>\n"
      ],
      "text/plain": [
       "\n"
      ]
     },
     "metadata": {},
     "output_type": "display_data"
    },
    {
     "data": {
      "text/html": [
       "<pre style=\"white-space:pre;overflow-x:auto;line-height:normal;font-family:Menlo,'DejaVu Sans Mono',consolas,'Courier New',monospace\">Reading secret from C:\\Users\\david\\Documents\\GitHub\\ds-network-analysis\\data\\my_secrets.yaml…\n",
       "</pre>\n"
      ],
      "text/plain": [
       "Reading secret from C:\\Users\\david\\Documents\\GitHub\\ds-network-analysis\\data\\my_secrets.yaml…\n"
      ]
     },
     "metadata": {},
     "output_type": "display_data"
    },
    {
     "data": {
      "text/html": [
       "<pre style=\"white-space:pre;overflow-x:auto;line-height:normal;font-family:Menlo,'DejaVu Sans Mono',consolas,'Courier New',monospace\"></pre>\n"
      ],
      "text/plain": []
     },
     "metadata": {},
     "output_type": "display_data"
    },
    {
     "data": {
      "text/html": [
       "<pre style=\"white-space:pre;overflow-x:auto;line-height:normal;font-family:Menlo,'DejaVu Sans Mono',consolas,'Courier New',monospace\">\n",
       "</pre>\n"
      ],
      "text/plain": [
       "\n"
      ]
     },
     "metadata": {},
     "output_type": "display_data"
    },
    {
     "data": {
      "text/html": [
       "<pre style=\"white-space:pre;overflow-x:auto;line-height:normal;font-family:Menlo,'DejaVu Sans Mono',consolas,'Courier New',monospace\">Reading secret from C:\\Users\\david\\Documents\\GitHub\\ds-network-analysis\\data\\my_secrets.yaml…\n",
       "</pre>\n"
      ],
      "text/plain": [
       "Reading secret from C:\\Users\\david\\Documents\\GitHub\\ds-network-analysis\\data\\my_secrets.yaml…\n"
      ]
     },
     "metadata": {},
     "output_type": "display_data"
    },
    {
     "data": {
      "text/html": [
       "<pre style=\"white-space:pre;overflow-x:auto;line-height:normal;font-family:Menlo,'DejaVu Sans Mono',consolas,'Courier New',monospace\"></pre>\n"
      ],
      "text/plain": []
     },
     "metadata": {},
     "output_type": "display_data"
    },
    {
     "data": {
      "text/html": [
       "<pre style=\"white-space:pre;overflow-x:auto;line-height:normal;font-family:Menlo,'DejaVu Sans Mono',consolas,'Courier New',monospace\">\n",
       "</pre>\n"
      ],
      "text/plain": [
       "\n"
      ]
     },
     "metadata": {},
     "output_type": "display_data"
    },
    {
     "data": {
      "text/html": [
       "<pre style=\"white-space:pre;overflow-x:auto;line-height:normal;font-family:Menlo,'DejaVu Sans Mono',consolas,'Courier New',monospace\">Reading secret from C:\\Users\\david\\Documents\\GitHub\\ds-network-analysis\\data\\my_secrets.yaml…\n",
       "</pre>\n"
      ],
      "text/plain": [
       "Reading secret from C:\\Users\\david\\Documents\\GitHub\\ds-network-analysis\\data\\my_secrets.yaml…\n"
      ]
     },
     "metadata": {},
     "output_type": "display_data"
    },
    {
     "data": {
      "text/html": [
       "<pre style=\"white-space:pre;overflow-x:auto;line-height:normal;font-family:Menlo,'DejaVu Sans Mono',consolas,'Courier New',monospace\"></pre>\n"
      ],
      "text/plain": []
     },
     "metadata": {},
     "output_type": "display_data"
    },
    {
     "data": {
      "text/html": [
       "<pre style=\"white-space:pre;overflow-x:auto;line-height:normal;font-family:Menlo,'DejaVu Sans Mono',consolas,'Courier New',monospace\">\n",
       "</pre>\n"
      ],
      "text/plain": [
       "\n"
      ]
     },
     "metadata": {},
     "output_type": "display_data"
    },
    {
     "data": {
      "text/html": [
       "<pre style=\"white-space:pre;overflow-x:auto;line-height:normal;font-family:Menlo,'DejaVu Sans Mono',consolas,'Courier New',monospace\">Reading secret from C:\\Users\\david\\Documents\\GitHub\\ds-network-analysis\\data\\my_secrets.yaml…\n",
       "</pre>\n"
      ],
      "text/plain": [
       "Reading secret from C:\\Users\\david\\Documents\\GitHub\\ds-network-analysis\\data\\my_secrets.yaml…\n"
      ]
     },
     "metadata": {},
     "output_type": "display_data"
    },
    {
     "data": {
      "text/html": [
       "<pre style=\"white-space:pre;overflow-x:auto;line-height:normal;font-family:Menlo,'DejaVu Sans Mono',consolas,'Courier New',monospace\"></pre>\n"
      ],
      "text/plain": []
     },
     "metadata": {},
     "output_type": "display_data"
    },
    {
     "data": {
      "text/html": [
       "<pre style=\"white-space:pre;overflow-x:auto;line-height:normal;font-family:Menlo,'DejaVu Sans Mono',consolas,'Courier New',monospace\">\n",
       "</pre>\n"
      ],
      "text/plain": [
       "\n"
      ]
     },
     "metadata": {},
     "output_type": "display_data"
    },
    {
     "data": {
      "text/html": [
       "<pre style=\"white-space:pre;overflow-x:auto;line-height:normal;font-family:Menlo,'DejaVu Sans Mono',consolas,'Courier New',monospace\">Reading secret from C:\\Users\\david\\Documents\\GitHub\\ds-network-analysis\\data\\my_secrets.yaml…\n",
       "</pre>\n"
      ],
      "text/plain": [
       "Reading secret from C:\\Users\\david\\Documents\\GitHub\\ds-network-analysis\\data\\my_secrets.yaml…\n"
      ]
     },
     "metadata": {},
     "output_type": "display_data"
    },
    {
     "data": {
      "text/html": [
       "<pre style=\"white-space:pre;overflow-x:auto;line-height:normal;font-family:Menlo,'DejaVu Sans Mono',consolas,'Courier New',monospace\"></pre>\n"
      ],
      "text/plain": []
     },
     "metadata": {},
     "output_type": "display_data"
    },
    {
     "data": {
      "text/html": [
       "<pre style=\"white-space:pre;overflow-x:auto;line-height:normal;font-family:Menlo,'DejaVu Sans Mono',consolas,'Courier New',monospace\">\n",
       "</pre>\n"
      ],
      "text/plain": [
       "\n"
      ]
     },
     "metadata": {},
     "output_type": "display_data"
    },
    {
     "data": {
      "text/html": [
       "<pre style=\"white-space:pre;overflow-x:auto;line-height:normal;font-family:Menlo,'DejaVu Sans Mono',consolas,'Courier New',monospace\">Reading secret from C:\\Users\\david\\Documents\\GitHub\\ds-network-analysis\\data\\my_secrets.yaml…\n",
       "</pre>\n"
      ],
      "text/plain": [
       "Reading secret from C:\\Users\\david\\Documents\\GitHub\\ds-network-analysis\\data\\my_secrets.yaml…\n"
      ]
     },
     "metadata": {},
     "output_type": "display_data"
    },
    {
     "data": {
      "text/html": [
       "<pre style=\"white-space:pre;overflow-x:auto;line-height:normal;font-family:Menlo,'DejaVu Sans Mono',consolas,'Courier New',monospace\"></pre>\n"
      ],
      "text/plain": []
     },
     "metadata": {},
     "output_type": "display_data"
    },
    {
     "data": {
      "text/html": [
       "<pre style=\"white-space:pre;overflow-x:auto;line-height:normal;font-family:Menlo,'DejaVu Sans Mono',consolas,'Courier New',monospace\">\n",
       "</pre>\n"
      ],
      "text/plain": [
       "\n"
      ]
     },
     "metadata": {},
     "output_type": "display_data"
    },
    {
     "data": {
      "text/html": [
       "<pre style=\"white-space:pre;overflow-x:auto;line-height:normal;font-family:Menlo,'DejaVu Sans Mono',consolas,'Courier New',monospace\">Reading secret from C:\\Users\\david\\Documents\\GitHub\\ds-network-analysis\\data\\my_secrets.yaml…\n",
       "</pre>\n"
      ],
      "text/plain": [
       "Reading secret from C:\\Users\\david\\Documents\\GitHub\\ds-network-analysis\\data\\my_secrets.yaml…\n"
      ]
     },
     "metadata": {},
     "output_type": "display_data"
    },
    {
     "data": {
      "text/html": [
       "<pre style=\"white-space:pre;overflow-x:auto;line-height:normal;font-family:Menlo,'DejaVu Sans Mono',consolas,'Courier New',monospace\"></pre>\n"
      ],
      "text/plain": []
     },
     "metadata": {},
     "output_type": "display_data"
    },
    {
     "data": {
      "text/html": [
       "<pre style=\"white-space:pre;overflow-x:auto;line-height:normal;font-family:Menlo,'DejaVu Sans Mono',consolas,'Courier New',monospace\">\n",
       "</pre>\n"
      ],
      "text/plain": [
       "\n"
      ]
     },
     "metadata": {},
     "output_type": "display_data"
    },
    {
     "data": {
      "text/html": [
       "<pre style=\"white-space:pre;overflow-x:auto;line-height:normal;font-family:Menlo,'DejaVu Sans Mono',consolas,'Courier New',monospace\">Reading secret from C:\\Users\\david\\Documents\\GitHub\\ds-network-analysis\\data\\my_secrets.yaml…\n",
       "</pre>\n"
      ],
      "text/plain": [
       "Reading secret from C:\\Users\\david\\Documents\\GitHub\\ds-network-analysis\\data\\my_secrets.yaml…\n"
      ]
     },
     "metadata": {},
     "output_type": "display_data"
    },
    {
     "data": {
      "text/html": [
       "<pre style=\"white-space:pre;overflow-x:auto;line-height:normal;font-family:Menlo,'DejaVu Sans Mono',consolas,'Courier New',monospace\"></pre>\n"
      ],
      "text/plain": []
     },
     "metadata": {},
     "output_type": "display_data"
    },
    {
     "data": {
      "text/html": [
       "<pre style=\"white-space:pre;overflow-x:auto;line-height:normal;font-family:Menlo,'DejaVu Sans Mono',consolas,'Courier New',monospace\">\n",
       "</pre>\n"
      ],
      "text/plain": [
       "\n"
      ]
     },
     "metadata": {},
     "output_type": "display_data"
    },
    {
     "data": {
      "text/html": [
       "<pre style=\"white-space:pre;overflow-x:auto;line-height:normal;font-family:Menlo,'DejaVu Sans Mono',consolas,'Courier New',monospace\">Reading secret from C:\\Users\\david\\Documents\\GitHub\\ds-network-analysis\\data\\my_secrets.yaml…\n",
       "</pre>\n"
      ],
      "text/plain": [
       "Reading secret from C:\\Users\\david\\Documents\\GitHub\\ds-network-analysis\\data\\my_secrets.yaml…\n"
      ]
     },
     "metadata": {},
     "output_type": "display_data"
    },
    {
     "data": {
      "text/html": [
       "<pre style=\"white-space:pre;overflow-x:auto;line-height:normal;font-family:Menlo,'DejaVu Sans Mono',consolas,'Courier New',monospace\"></pre>\n"
      ],
      "text/plain": []
     },
     "metadata": {},
     "output_type": "display_data"
    },
    {
     "data": {
      "text/html": [
       "<pre style=\"white-space:pre;overflow-x:auto;line-height:normal;font-family:Menlo,'DejaVu Sans Mono',consolas,'Courier New',monospace\">\n",
       "</pre>\n"
      ],
      "text/plain": [
       "\n"
      ]
     },
     "metadata": {},
     "output_type": "display_data"
    },
    {
     "data": {
      "text/html": [
       "<pre style=\"white-space:pre;overflow-x:auto;line-height:normal;font-family:Menlo,'DejaVu Sans Mono',consolas,'Courier New',monospace\">Reading secret from C:\\Users\\david\\Documents\\GitHub\\ds-network-analysis\\data\\my_secrets.yaml…\n",
       "</pre>\n"
      ],
      "text/plain": [
       "Reading secret from C:\\Users\\david\\Documents\\GitHub\\ds-network-analysis\\data\\my_secrets.yaml…\n"
      ]
     },
     "metadata": {},
     "output_type": "display_data"
    },
    {
     "data": {
      "text/html": [
       "<pre style=\"white-space:pre;overflow-x:auto;line-height:normal;font-family:Menlo,'DejaVu Sans Mono',consolas,'Courier New',monospace\"></pre>\n"
      ],
      "text/plain": []
     },
     "metadata": {},
     "output_type": "display_data"
    },
    {
     "data": {
      "text/html": [
       "<pre style=\"white-space:pre;overflow-x:auto;line-height:normal;font-family:Menlo,'DejaVu Sans Mono',consolas,'Courier New',monospace\">\n",
       "</pre>\n"
      ],
      "text/plain": [
       "\n"
      ]
     },
     "metadata": {},
     "output_type": "display_data"
    },
    {
     "data": {
      "text/html": [
       "<pre style=\"white-space:pre;overflow-x:auto;line-height:normal;font-family:Menlo,'DejaVu Sans Mono',consolas,'Courier New',monospace\">Reading secret from C:\\Users\\david\\Documents\\GitHub\\ds-network-analysis\\data\\my_secrets.yaml…\n",
       "</pre>\n"
      ],
      "text/plain": [
       "Reading secret from C:\\Users\\david\\Documents\\GitHub\\ds-network-analysis\\data\\my_secrets.yaml…\n"
      ]
     },
     "metadata": {},
     "output_type": "display_data"
    },
    {
     "data": {
      "text/html": [
       "<pre style=\"white-space:pre;overflow-x:auto;line-height:normal;font-family:Menlo,'DejaVu Sans Mono',consolas,'Courier New',monospace\"></pre>\n"
      ],
      "text/plain": []
     },
     "metadata": {},
     "output_type": "display_data"
    },
    {
     "data": {
      "text/html": [
       "<pre style=\"white-space:pre;overflow-x:auto;line-height:normal;font-family:Menlo,'DejaVu Sans Mono',consolas,'Courier New',monospace\">\n",
       "</pre>\n"
      ],
      "text/plain": [
       "\n"
      ]
     },
     "metadata": {},
     "output_type": "display_data"
    },
    {
     "data": {
      "text/html": [
       "<pre style=\"white-space:pre;overflow-x:auto;line-height:normal;font-family:Menlo,'DejaVu Sans Mono',consolas,'Courier New',monospace\">Reading secret from C:\\Users\\david\\Documents\\GitHub\\ds-network-analysis\\data\\my_secrets.yaml…\n",
       "</pre>\n"
      ],
      "text/plain": [
       "Reading secret from C:\\Users\\david\\Documents\\GitHub\\ds-network-analysis\\data\\my_secrets.yaml…\n"
      ]
     },
     "metadata": {},
     "output_type": "display_data"
    },
    {
     "data": {
      "text/html": [
       "<pre style=\"white-space:pre;overflow-x:auto;line-height:normal;font-family:Menlo,'DejaVu Sans Mono',consolas,'Courier New',monospace\"></pre>\n"
      ],
      "text/plain": []
     },
     "metadata": {},
     "output_type": "display_data"
    },
    {
     "data": {
      "text/html": [
       "<pre style=\"white-space:pre;overflow-x:auto;line-height:normal;font-family:Menlo,'DejaVu Sans Mono',consolas,'Courier New',monospace\">\n",
       "</pre>\n"
      ],
      "text/plain": [
       "\n"
      ]
     },
     "metadata": {},
     "output_type": "display_data"
    },
    {
     "data": {
      "text/html": [
       "<pre style=\"white-space:pre;overflow-x:auto;line-height:normal;font-family:Menlo,'DejaVu Sans Mono',consolas,'Courier New',monospace\">Reading secret from C:\\Users\\david\\Documents\\GitHub\\ds-network-analysis\\data\\my_secrets.yaml…\n",
       "</pre>\n"
      ],
      "text/plain": [
       "Reading secret from C:\\Users\\david\\Documents\\GitHub\\ds-network-analysis\\data\\my_secrets.yaml…\n"
      ]
     },
     "metadata": {},
     "output_type": "display_data"
    },
    {
     "data": {
      "text/html": [
       "<pre style=\"white-space:pre;overflow-x:auto;line-height:normal;font-family:Menlo,'DejaVu Sans Mono',consolas,'Courier New',monospace\"></pre>\n"
      ],
      "text/plain": []
     },
     "metadata": {},
     "output_type": "display_data"
    },
    {
     "data": {
      "text/html": [
       "<pre style=\"white-space:pre;overflow-x:auto;line-height:normal;font-family:Menlo,'DejaVu Sans Mono',consolas,'Courier New',monospace\">\n",
       "</pre>\n"
      ],
      "text/plain": [
       "\n"
      ]
     },
     "metadata": {},
     "output_type": "display_data"
    },
    {
     "data": {
      "text/html": [
       "<pre style=\"white-space:pre;overflow-x:auto;line-height:normal;font-family:Menlo,'DejaVu Sans Mono',consolas,'Courier New',monospace\">Reading secret from C:\\Users\\david\\Documents\\GitHub\\ds-network-analysis\\data\\my_secrets.yaml…\n",
       "</pre>\n"
      ],
      "text/plain": [
       "Reading secret from C:\\Users\\david\\Documents\\GitHub\\ds-network-analysis\\data\\my_secrets.yaml…\n"
      ]
     },
     "metadata": {},
     "output_type": "display_data"
    },
    {
     "data": {
      "text/html": [
       "<pre style=\"white-space:pre;overflow-x:auto;line-height:normal;font-family:Menlo,'DejaVu Sans Mono',consolas,'Courier New',monospace\"></pre>\n"
      ],
      "text/plain": []
     },
     "metadata": {},
     "output_type": "display_data"
    },
    {
     "data": {
      "text/html": [
       "<pre style=\"white-space:pre;overflow-x:auto;line-height:normal;font-family:Menlo,'DejaVu Sans Mono',consolas,'Courier New',monospace\">\n",
       "</pre>\n"
      ],
      "text/plain": [
       "\n"
      ]
     },
     "metadata": {},
     "output_type": "display_data"
    },
    {
     "data": {
      "text/html": [
       "<pre style=\"white-space:pre;overflow-x:auto;line-height:normal;font-family:Menlo,'DejaVu Sans Mono',consolas,'Courier New',monospace\">Reading secret from C:\\Users\\david\\Documents\\GitHub\\ds-network-analysis\\data\\my_secrets.yaml…\n",
       "</pre>\n"
      ],
      "text/plain": [
       "Reading secret from C:\\Users\\david\\Documents\\GitHub\\ds-network-analysis\\data\\my_secrets.yaml…\n"
      ]
     },
     "metadata": {},
     "output_type": "display_data"
    },
    {
     "data": {
      "text/html": [
       "<pre style=\"white-space:pre;overflow-x:auto;line-height:normal;font-family:Menlo,'DejaVu Sans Mono',consolas,'Courier New',monospace\"></pre>\n"
      ],
      "text/plain": []
     },
     "metadata": {},
     "output_type": "display_data"
    },
    {
     "data": {
      "text/html": [
       "<pre style=\"white-space:pre;overflow-x:auto;line-height:normal;font-family:Menlo,'DejaVu Sans Mono',consolas,'Courier New',monospace\">\n",
       "</pre>\n"
      ],
      "text/plain": [
       "\n"
      ]
     },
     "metadata": {},
     "output_type": "display_data"
    },
    {
     "data": {
      "text/html": [
       "<pre style=\"white-space:pre;overflow-x:auto;line-height:normal;font-family:Menlo,'DejaVu Sans Mono',consolas,'Courier New',monospace\">Reading secret from C:\\Users\\david\\Documents\\GitHub\\ds-network-analysis\\data\\my_secrets.yaml…\n",
       "</pre>\n"
      ],
      "text/plain": [
       "Reading secret from C:\\Users\\david\\Documents\\GitHub\\ds-network-analysis\\data\\my_secrets.yaml…\n"
      ]
     },
     "metadata": {},
     "output_type": "display_data"
    },
    {
     "data": {
      "text/html": [
       "<pre style=\"white-space:pre;overflow-x:auto;line-height:normal;font-family:Menlo,'DejaVu Sans Mono',consolas,'Courier New',monospace\"></pre>\n"
      ],
      "text/plain": []
     },
     "metadata": {},
     "output_type": "display_data"
    },
    {
     "data": {
      "text/html": [
       "<pre style=\"white-space:pre;overflow-x:auto;line-height:normal;font-family:Menlo,'DejaVu Sans Mono',consolas,'Courier New',monospace\">\n",
       "</pre>\n"
      ],
      "text/plain": [
       "\n"
      ]
     },
     "metadata": {},
     "output_type": "display_data"
    },
    {
     "data": {
      "text/html": [
       "<pre style=\"white-space:pre;overflow-x:auto;line-height:normal;font-family:Menlo,'DejaVu Sans Mono',consolas,'Courier New',monospace\">Reading secret from C:\\Users\\david\\Documents\\GitHub\\ds-network-analysis\\data\\my_secrets.yaml…\n",
       "</pre>\n"
      ],
      "text/plain": [
       "Reading secret from C:\\Users\\david\\Documents\\GitHub\\ds-network-analysis\\data\\my_secrets.yaml…\n"
      ]
     },
     "metadata": {},
     "output_type": "display_data"
    },
    {
     "data": {
      "text/html": [
       "<pre style=\"white-space:pre;overflow-x:auto;line-height:normal;font-family:Menlo,'DejaVu Sans Mono',consolas,'Courier New',monospace\"></pre>\n"
      ],
      "text/plain": []
     },
     "metadata": {},
     "output_type": "display_data"
    },
    {
     "data": {
      "text/html": [
       "<pre style=\"white-space:pre;overflow-x:auto;line-height:normal;font-family:Menlo,'DejaVu Sans Mono',consolas,'Courier New',monospace\">\n",
       "</pre>\n"
      ],
      "text/plain": [
       "\n"
      ]
     },
     "metadata": {},
     "output_type": "display_data"
    },
    {
     "data": {
      "text/html": [
       "<pre style=\"white-space:pre;overflow-x:auto;line-height:normal;font-family:Menlo,'DejaVu Sans Mono',consolas,'Courier New',monospace\">Reading secret from C:\\Users\\david\\Documents\\GitHub\\ds-network-analysis\\data\\my_secrets.yaml…\n",
       "</pre>\n"
      ],
      "text/plain": [
       "Reading secret from C:\\Users\\david\\Documents\\GitHub\\ds-network-analysis\\data\\my_secrets.yaml…\n"
      ]
     },
     "metadata": {},
     "output_type": "display_data"
    },
    {
     "data": {
      "text/html": [
       "<pre style=\"white-space:pre;overflow-x:auto;line-height:normal;font-family:Menlo,'DejaVu Sans Mono',consolas,'Courier New',monospace\"></pre>\n"
      ],
      "text/plain": []
     },
     "metadata": {},
     "output_type": "display_data"
    },
    {
     "data": {
      "text/html": [
       "<pre style=\"white-space:pre;overflow-x:auto;line-height:normal;font-family:Menlo,'DejaVu Sans Mono',consolas,'Courier New',monospace\">\n",
       "</pre>\n"
      ],
      "text/plain": [
       "\n"
      ]
     },
     "metadata": {},
     "output_type": "display_data"
    },
    {
     "data": {
      "text/html": [
       "<pre style=\"white-space:pre;overflow-x:auto;line-height:normal;font-family:Menlo,'DejaVu Sans Mono',consolas,'Courier New',monospace\">Reading secret from C:\\Users\\david\\Documents\\GitHub\\ds-network-analysis\\data\\my_secrets.yaml…\n",
       "</pre>\n"
      ],
      "text/plain": [
       "Reading secret from C:\\Users\\david\\Documents\\GitHub\\ds-network-analysis\\data\\my_secrets.yaml…\n"
      ]
     },
     "metadata": {},
     "output_type": "display_data"
    },
    {
     "data": {
      "text/html": [
       "<pre style=\"white-space:pre;overflow-x:auto;line-height:normal;font-family:Menlo,'DejaVu Sans Mono',consolas,'Courier New',monospace\"></pre>\n"
      ],
      "text/plain": []
     },
     "metadata": {},
     "output_type": "display_data"
    },
    {
     "data": {
      "text/html": [
       "<pre style=\"white-space:pre;overflow-x:auto;line-height:normal;font-family:Menlo,'DejaVu Sans Mono',consolas,'Courier New',monospace\">\n",
       "</pre>\n"
      ],
      "text/plain": [
       "\n"
      ]
     },
     "metadata": {},
     "output_type": "display_data"
    },
    {
     "data": {
      "text/html": [
       "<pre style=\"white-space:pre;overflow-x:auto;line-height:normal;font-family:Menlo,'DejaVu Sans Mono',consolas,'Courier New',monospace\">Reading secret from C:\\Users\\david\\Documents\\GitHub\\ds-network-analysis\\data\\my_secrets.yaml…\n",
       "</pre>\n"
      ],
      "text/plain": [
       "Reading secret from C:\\Users\\david\\Documents\\GitHub\\ds-network-analysis\\data\\my_secrets.yaml…\n"
      ]
     },
     "metadata": {},
     "output_type": "display_data"
    },
    {
     "data": {
      "text/html": [
       "<pre style=\"white-space:pre;overflow-x:auto;line-height:normal;font-family:Menlo,'DejaVu Sans Mono',consolas,'Courier New',monospace\"></pre>\n"
      ],
      "text/plain": []
     },
     "metadata": {},
     "output_type": "display_data"
    },
    {
     "data": {
      "text/html": [
       "<pre style=\"white-space:pre;overflow-x:auto;line-height:normal;font-family:Menlo,'DejaVu Sans Mono',consolas,'Courier New',monospace\">\n",
       "</pre>\n"
      ],
      "text/plain": [
       "\n"
      ]
     },
     "metadata": {},
     "output_type": "display_data"
    },
    {
     "data": {
      "text/html": [
       "<pre style=\"white-space:pre;overflow-x:auto;line-height:normal;font-family:Menlo,'DejaVu Sans Mono',consolas,'Courier New',monospace\">Reading secret from C:\\Users\\david\\Documents\\GitHub\\ds-network-analysis\\data\\my_secrets.yaml…\n",
       "</pre>\n"
      ],
      "text/plain": [
       "Reading secret from C:\\Users\\david\\Documents\\GitHub\\ds-network-analysis\\data\\my_secrets.yaml…\n"
      ]
     },
     "metadata": {},
     "output_type": "display_data"
    },
    {
     "data": {
      "text/html": [
       "<pre style=\"white-space:pre;overflow-x:auto;line-height:normal;font-family:Menlo,'DejaVu Sans Mono',consolas,'Courier New',monospace\"></pre>\n"
      ],
      "text/plain": []
     },
     "metadata": {},
     "output_type": "display_data"
    },
    {
     "data": {
      "text/html": [
       "<pre style=\"white-space:pre;overflow-x:auto;line-height:normal;font-family:Menlo,'DejaVu Sans Mono',consolas,'Courier New',monospace\">\n",
       "</pre>\n"
      ],
      "text/plain": [
       "\n"
      ]
     },
     "metadata": {},
     "output_type": "display_data"
    },
    {
     "data": {
      "text/html": [
       "<pre style=\"white-space:pre;overflow-x:auto;line-height:normal;font-family:Menlo,'DejaVu Sans Mono',consolas,'Courier New',monospace\">Reading secret from C:\\Users\\david\\Documents\\GitHub\\ds-network-analysis\\data\\my_secrets.yaml…\n",
       "</pre>\n"
      ],
      "text/plain": [
       "Reading secret from C:\\Users\\david\\Documents\\GitHub\\ds-network-analysis\\data\\my_secrets.yaml…\n"
      ]
     },
     "metadata": {},
     "output_type": "display_data"
    },
    {
     "data": {
      "text/html": [
       "<pre style=\"white-space:pre;overflow-x:auto;line-height:normal;font-family:Menlo,'DejaVu Sans Mono',consolas,'Courier New',monospace\"></pre>\n"
      ],
      "text/plain": []
     },
     "metadata": {},
     "output_type": "display_data"
    },
    {
     "data": {
      "text/html": [
       "<pre style=\"white-space:pre;overflow-x:auto;line-height:normal;font-family:Menlo,'DejaVu Sans Mono',consolas,'Courier New',monospace\">\n",
       "</pre>\n"
      ],
      "text/plain": [
       "\n"
      ]
     },
     "metadata": {},
     "output_type": "display_data"
    },
    {
     "data": {
      "text/html": [
       "<pre style=\"white-space:pre;overflow-x:auto;line-height:normal;font-family:Menlo,'DejaVu Sans Mono',consolas,'Courier New',monospace\">Reading secret from C:\\Users\\david\\Documents\\GitHub\\ds-network-analysis\\data\\my_secrets.yaml…\n",
       "</pre>\n"
      ],
      "text/plain": [
       "Reading secret from C:\\Users\\david\\Documents\\GitHub\\ds-network-analysis\\data\\my_secrets.yaml…\n"
      ]
     },
     "metadata": {},
     "output_type": "display_data"
    },
    {
     "data": {
      "text/html": [
       "<pre style=\"white-space:pre;overflow-x:auto;line-height:normal;font-family:Menlo,'DejaVu Sans Mono',consolas,'Courier New',monospace\"></pre>\n"
      ],
      "text/plain": []
     },
     "metadata": {},
     "output_type": "display_data"
    },
    {
     "data": {
      "text/html": [
       "<pre style=\"white-space:pre;overflow-x:auto;line-height:normal;font-family:Menlo,'DejaVu Sans Mono',consolas,'Courier New',monospace\">\n",
       "</pre>\n"
      ],
      "text/plain": [
       "\n"
      ]
     },
     "metadata": {},
     "output_type": "display_data"
    },
    {
     "data": {
      "text/html": [
       "<pre style=\"white-space:pre;overflow-x:auto;line-height:normal;font-family:Menlo,'DejaVu Sans Mono',consolas,'Courier New',monospace\">Reading secret from C:\\Users\\david\\Documents\\GitHub\\ds-network-analysis\\data\\my_secrets.yaml…\n",
       "</pre>\n"
      ],
      "text/plain": [
       "Reading secret from C:\\Users\\david\\Documents\\GitHub\\ds-network-analysis\\data\\my_secrets.yaml…\n"
      ]
     },
     "metadata": {},
     "output_type": "display_data"
    },
    {
     "data": {
      "text/html": [
       "<pre style=\"white-space:pre;overflow-x:auto;line-height:normal;font-family:Menlo,'DejaVu Sans Mono',consolas,'Courier New',monospace\"></pre>\n"
      ],
      "text/plain": []
     },
     "metadata": {},
     "output_type": "display_data"
    },
    {
     "data": {
      "text/html": [
       "<pre style=\"white-space:pre;overflow-x:auto;line-height:normal;font-family:Menlo,'DejaVu Sans Mono',consolas,'Courier New',monospace\">\n",
       "</pre>\n"
      ],
      "text/plain": [
       "\n"
      ]
     },
     "metadata": {},
     "output_type": "display_data"
    },
    {
     "data": {
      "text/html": [
       "<pre style=\"white-space:pre;overflow-x:auto;line-height:normal;font-family:Menlo,'DejaVu Sans Mono',consolas,'Courier New',monospace\">Reading secret from C:\\Users\\david\\Documents\\GitHub\\ds-network-analysis\\data\\my_secrets.yaml…\n",
       "</pre>\n"
      ],
      "text/plain": [
       "Reading secret from C:\\Users\\david\\Documents\\GitHub\\ds-network-analysis\\data\\my_secrets.yaml…\n"
      ]
     },
     "metadata": {},
     "output_type": "display_data"
    },
    {
     "data": {
      "text/html": [
       "<pre style=\"white-space:pre;overflow-x:auto;line-height:normal;font-family:Menlo,'DejaVu Sans Mono',consolas,'Courier New',monospace\"></pre>\n"
      ],
      "text/plain": []
     },
     "metadata": {},
     "output_type": "display_data"
    },
    {
     "data": {
      "text/html": [
       "<pre style=\"white-space:pre;overflow-x:auto;line-height:normal;font-family:Menlo,'DejaVu Sans Mono',consolas,'Courier New',monospace\">\n",
       "</pre>\n"
      ],
      "text/plain": [
       "\n"
      ]
     },
     "metadata": {},
     "output_type": "display_data"
    },
    {
     "data": {
      "text/html": [
       "<pre style=\"white-space:pre;overflow-x:auto;line-height:normal;font-family:Menlo,'DejaVu Sans Mono',consolas,'Courier New',monospace\">Reading secret from C:\\Users\\david\\Documents\\GitHub\\ds-network-analysis\\data\\my_secrets.yaml…\n",
       "</pre>\n"
      ],
      "text/plain": [
       "Reading secret from C:\\Users\\david\\Documents\\GitHub\\ds-network-analysis\\data\\my_secrets.yaml…\n"
      ]
     },
     "metadata": {},
     "output_type": "display_data"
    },
    {
     "data": {
      "text/html": [
       "<pre style=\"white-space:pre;overflow-x:auto;line-height:normal;font-family:Menlo,'DejaVu Sans Mono',consolas,'Courier New',monospace\"></pre>\n"
      ],
      "text/plain": []
     },
     "metadata": {},
     "output_type": "display_data"
    },
    {
     "data": {
      "text/html": [
       "<pre style=\"white-space:pre;overflow-x:auto;line-height:normal;font-family:Menlo,'DejaVu Sans Mono',consolas,'Courier New',monospace\">\n",
       "</pre>\n"
      ],
      "text/plain": [
       "\n"
      ]
     },
     "metadata": {},
     "output_type": "display_data"
    },
    {
     "data": {
      "text/html": [
       "<pre style=\"white-space:pre;overflow-x:auto;line-height:normal;font-family:Menlo,'DejaVu Sans Mono',consolas,'Courier New',monospace\">Reading secret from C:\\Users\\david\\Documents\\GitHub\\ds-network-analysis\\data\\my_secrets.yaml…\n",
       "</pre>\n"
      ],
      "text/plain": [
       "Reading secret from C:\\Users\\david\\Documents\\GitHub\\ds-network-analysis\\data\\my_secrets.yaml…\n"
      ]
     },
     "metadata": {},
     "output_type": "display_data"
    },
    {
     "data": {
      "text/html": [
       "<pre style=\"white-space:pre;overflow-x:auto;line-height:normal;font-family:Menlo,'DejaVu Sans Mono',consolas,'Courier New',monospace\"></pre>\n"
      ],
      "text/plain": []
     },
     "metadata": {},
     "output_type": "display_data"
    },
    {
     "data": {
      "text/html": [
       "<pre style=\"white-space:pre;overflow-x:auto;line-height:normal;font-family:Menlo,'DejaVu Sans Mono',consolas,'Courier New',monospace\">\n",
       "</pre>\n"
      ],
      "text/plain": [
       "\n"
      ]
     },
     "metadata": {},
     "output_type": "display_data"
    },
    {
     "data": {
      "text/html": [
       "<pre style=\"white-space:pre;overflow-x:auto;line-height:normal;font-family:Menlo,'DejaVu Sans Mono',consolas,'Courier New',monospace\">Reading secret from C:\\Users\\david\\Documents\\GitHub\\ds-network-analysis\\data\\my_secrets.yaml…\n",
       "</pre>\n"
      ],
      "text/plain": [
       "Reading secret from C:\\Users\\david\\Documents\\GitHub\\ds-network-analysis\\data\\my_secrets.yaml…\n"
      ]
     },
     "metadata": {},
     "output_type": "display_data"
    },
    {
     "data": {
      "text/html": [
       "<pre style=\"white-space:pre;overflow-x:auto;line-height:normal;font-family:Menlo,'DejaVu Sans Mono',consolas,'Courier New',monospace\"></pre>\n"
      ],
      "text/plain": []
     },
     "metadata": {},
     "output_type": "display_data"
    },
    {
     "data": {
      "text/html": [
       "<pre style=\"white-space:pre;overflow-x:auto;line-height:normal;font-family:Menlo,'DejaVu Sans Mono',consolas,'Courier New',monospace\">\n",
       "</pre>\n"
      ],
      "text/plain": [
       "\n"
      ]
     },
     "metadata": {},
     "output_type": "display_data"
    },
    {
     "data": {
      "text/html": [
       "<pre style=\"white-space:pre;overflow-x:auto;line-height:normal;font-family:Menlo,'DejaVu Sans Mono',consolas,'Courier New',monospace\">Reading secret from C:\\Users\\david\\Documents\\GitHub\\ds-network-analysis\\data\\my_secrets.yaml…\n",
       "</pre>\n"
      ],
      "text/plain": [
       "Reading secret from C:\\Users\\david\\Documents\\GitHub\\ds-network-analysis\\data\\my_secrets.yaml…\n"
      ]
     },
     "metadata": {},
     "output_type": "display_data"
    },
    {
     "data": {
      "text/html": [
       "<pre style=\"white-space:pre;overflow-x:auto;line-height:normal;font-family:Menlo,'DejaVu Sans Mono',consolas,'Courier New',monospace\"></pre>\n"
      ],
      "text/plain": []
     },
     "metadata": {},
     "output_type": "display_data"
    },
    {
     "data": {
      "text/html": [
       "<pre style=\"white-space:pre;overflow-x:auto;line-height:normal;font-family:Menlo,'DejaVu Sans Mono',consolas,'Courier New',monospace\">\n",
       "</pre>\n"
      ],
      "text/plain": [
       "\n"
      ]
     },
     "metadata": {},
     "output_type": "display_data"
    },
    {
     "data": {
      "text/html": [
       "<pre style=\"white-space:pre;overflow-x:auto;line-height:normal;font-family:Menlo,'DejaVu Sans Mono',consolas,'Courier New',monospace\">Reading secret from C:\\Users\\david\\Documents\\GitHub\\ds-network-analysis\\data\\my_secrets.yaml…\n",
       "</pre>\n"
      ],
      "text/plain": [
       "Reading secret from C:\\Users\\david\\Documents\\GitHub\\ds-network-analysis\\data\\my_secrets.yaml…\n"
      ]
     },
     "metadata": {},
     "output_type": "display_data"
    },
    {
     "data": {
      "text/html": [
       "<pre style=\"white-space:pre;overflow-x:auto;line-height:normal;font-family:Menlo,'DejaVu Sans Mono',consolas,'Courier New',monospace\"></pre>\n"
      ],
      "text/plain": []
     },
     "metadata": {},
     "output_type": "display_data"
    },
    {
     "data": {
      "text/html": [
       "<pre style=\"white-space:pre;overflow-x:auto;line-height:normal;font-family:Menlo,'DejaVu Sans Mono',consolas,'Courier New',monospace\">\n",
       "</pre>\n"
      ],
      "text/plain": [
       "\n"
      ]
     },
     "metadata": {},
     "output_type": "display_data"
    },
    {
     "data": {
      "text/html": [
       "<pre style=\"white-space:pre;overflow-x:auto;line-height:normal;font-family:Menlo,'DejaVu Sans Mono',consolas,'Courier New',monospace\">Reading secret from C:\\Users\\david\\Documents\\GitHub\\ds-network-analysis\\data\\my_secrets.yaml…\n",
       "</pre>\n"
      ],
      "text/plain": [
       "Reading secret from C:\\Users\\david\\Documents\\GitHub\\ds-network-analysis\\data\\my_secrets.yaml…\n"
      ]
     },
     "metadata": {},
     "output_type": "display_data"
    },
    {
     "data": {
      "text/html": [
       "<pre style=\"white-space:pre;overflow-x:auto;line-height:normal;font-family:Menlo,'DejaVu Sans Mono',consolas,'Courier New',monospace\"></pre>\n"
      ],
      "text/plain": []
     },
     "metadata": {},
     "output_type": "display_data"
    },
    {
     "data": {
      "text/html": [
       "<pre style=\"white-space:pre;overflow-x:auto;line-height:normal;font-family:Menlo,'DejaVu Sans Mono',consolas,'Courier New',monospace\">\n",
       "</pre>\n"
      ],
      "text/plain": [
       "\n"
      ]
     },
     "metadata": {},
     "output_type": "display_data"
    },
    {
     "data": {
      "text/html": [
       "<pre style=\"white-space:pre;overflow-x:auto;line-height:normal;font-family:Menlo,'DejaVu Sans Mono',consolas,'Courier New',monospace\">Reading secret from C:\\Users\\david\\Documents\\GitHub\\ds-network-analysis\\data\\my_secrets.yaml…\n",
       "</pre>\n"
      ],
      "text/plain": [
       "Reading secret from C:\\Users\\david\\Documents\\GitHub\\ds-network-analysis\\data\\my_secrets.yaml…\n"
      ]
     },
     "metadata": {},
     "output_type": "display_data"
    },
    {
     "data": {
      "text/html": [
       "<pre style=\"white-space:pre;overflow-x:auto;line-height:normal;font-family:Menlo,'DejaVu Sans Mono',consolas,'Courier New',monospace\"></pre>\n"
      ],
      "text/plain": []
     },
     "metadata": {},
     "output_type": "display_data"
    },
    {
     "data": {
      "text/html": [
       "<pre style=\"white-space:pre;overflow-x:auto;line-height:normal;font-family:Menlo,'DejaVu Sans Mono',consolas,'Courier New',monospace\">\n",
       "</pre>\n"
      ],
      "text/plain": [
       "\n"
      ]
     },
     "metadata": {},
     "output_type": "display_data"
    },
    {
     "data": {
      "text/html": [
       "<pre style=\"white-space:pre;overflow-x:auto;line-height:normal;font-family:Menlo,'DejaVu Sans Mono',consolas,'Courier New',monospace\">Reading secret from C:\\Users\\david\\Documents\\GitHub\\ds-network-analysis\\data\\my_secrets.yaml…\n",
       "</pre>\n"
      ],
      "text/plain": [
       "Reading secret from C:\\Users\\david\\Documents\\GitHub\\ds-network-analysis\\data\\my_secrets.yaml…\n"
      ]
     },
     "metadata": {},
     "output_type": "display_data"
    },
    {
     "data": {
      "text/html": [
       "<pre style=\"white-space:pre;overflow-x:auto;line-height:normal;font-family:Menlo,'DejaVu Sans Mono',consolas,'Courier New',monospace\"></pre>\n"
      ],
      "text/plain": []
     },
     "metadata": {},
     "output_type": "display_data"
    },
    {
     "data": {
      "text/html": [
       "<pre style=\"white-space:pre;overflow-x:auto;line-height:normal;font-family:Menlo,'DejaVu Sans Mono',consolas,'Courier New',monospace\">\n",
       "</pre>\n"
      ],
      "text/plain": [
       "\n"
      ]
     },
     "metadata": {},
     "output_type": "display_data"
    },
    {
     "data": {
      "text/html": [
       "<pre style=\"white-space:pre;overflow-x:auto;line-height:normal;font-family:Menlo,'DejaVu Sans Mono',consolas,'Courier New',monospace\">Reading secret from C:\\Users\\david\\Documents\\GitHub\\ds-network-analysis\\data\\my_secrets.yaml…\n",
       "</pre>\n"
      ],
      "text/plain": [
       "Reading secret from C:\\Users\\david\\Documents\\GitHub\\ds-network-analysis\\data\\my_secrets.yaml…\n"
      ]
     },
     "metadata": {},
     "output_type": "display_data"
    },
    {
     "data": {
      "text/html": [
       "<pre style=\"white-space:pre;overflow-x:auto;line-height:normal;font-family:Menlo,'DejaVu Sans Mono',consolas,'Courier New',monospace\"></pre>\n"
      ],
      "text/plain": []
     },
     "metadata": {},
     "output_type": "display_data"
    },
    {
     "data": {
      "text/html": [
       "<pre style=\"white-space:pre;overflow-x:auto;line-height:normal;font-family:Menlo,'DejaVu Sans Mono',consolas,'Courier New',monospace\">\n",
       "</pre>\n"
      ],
      "text/plain": [
       "\n"
      ]
     },
     "metadata": {},
     "output_type": "display_data"
    },
    {
     "data": {
      "text/html": [
       "<pre style=\"white-space:pre;overflow-x:auto;line-height:normal;font-family:Menlo,'DejaVu Sans Mono',consolas,'Courier New',monospace\">Reading secret from C:\\Users\\david\\Documents\\GitHub\\ds-network-analysis\\data\\my_secrets.yaml…\n",
       "</pre>\n"
      ],
      "text/plain": [
       "Reading secret from C:\\Users\\david\\Documents\\GitHub\\ds-network-analysis\\data\\my_secrets.yaml…\n"
      ]
     },
     "metadata": {},
     "output_type": "display_data"
    },
    {
     "data": {
      "text/html": [
       "<pre style=\"white-space:pre;overflow-x:auto;line-height:normal;font-family:Menlo,'DejaVu Sans Mono',consolas,'Courier New',monospace\"></pre>\n"
      ],
      "text/plain": []
     },
     "metadata": {},
     "output_type": "display_data"
    },
    {
     "data": {
      "text/html": [
       "<pre style=\"white-space:pre;overflow-x:auto;line-height:normal;font-family:Menlo,'DejaVu Sans Mono',consolas,'Courier New',monospace\">\n",
       "</pre>\n"
      ],
      "text/plain": [
       "\n"
      ]
     },
     "metadata": {},
     "output_type": "display_data"
    },
    {
     "data": {
      "text/html": [
       "<pre style=\"white-space:pre;overflow-x:auto;line-height:normal;font-family:Menlo,'DejaVu Sans Mono',consolas,'Courier New',monospace\">Reading secret from C:\\Users\\david\\Documents\\GitHub\\ds-network-analysis\\data\\my_secrets.yaml…\n",
       "</pre>\n"
      ],
      "text/plain": [
       "Reading secret from C:\\Users\\david\\Documents\\GitHub\\ds-network-analysis\\data\\my_secrets.yaml…\n"
      ]
     },
     "metadata": {},
     "output_type": "display_data"
    },
    {
     "data": {
      "text/html": [
       "<pre style=\"white-space:pre;overflow-x:auto;line-height:normal;font-family:Menlo,'DejaVu Sans Mono',consolas,'Courier New',monospace\"></pre>\n"
      ],
      "text/plain": []
     },
     "metadata": {},
     "output_type": "display_data"
    },
    {
     "data": {
      "text/html": [
       "<pre style=\"white-space:pre;overflow-x:auto;line-height:normal;font-family:Menlo,'DejaVu Sans Mono',consolas,'Courier New',monospace\">\n",
       "</pre>\n"
      ],
      "text/plain": [
       "\n"
      ]
     },
     "metadata": {},
     "output_type": "display_data"
    },
    {
     "data": {
      "text/html": [
       "<pre style=\"white-space:pre;overflow-x:auto;line-height:normal;font-family:Menlo,'DejaVu Sans Mono',consolas,'Courier New',monospace\">Reading secret from C:\\Users\\david\\Documents\\GitHub\\ds-network-analysis\\data\\my_secrets.yaml…\n",
       "</pre>\n"
      ],
      "text/plain": [
       "Reading secret from C:\\Users\\david\\Documents\\GitHub\\ds-network-analysis\\data\\my_secrets.yaml…\n"
      ]
     },
     "metadata": {},
     "output_type": "display_data"
    },
    {
     "data": {
      "text/html": [
       "<pre style=\"white-space:pre;overflow-x:auto;line-height:normal;font-family:Menlo,'DejaVu Sans Mono',consolas,'Courier New',monospace\"></pre>\n"
      ],
      "text/plain": []
     },
     "metadata": {},
     "output_type": "display_data"
    },
    {
     "data": {
      "text/html": [
       "<pre style=\"white-space:pre;overflow-x:auto;line-height:normal;font-family:Menlo,'DejaVu Sans Mono',consolas,'Courier New',monospace\">\n",
       "</pre>\n"
      ],
      "text/plain": [
       "\n"
      ]
     },
     "metadata": {},
     "output_type": "display_data"
    },
    {
     "data": {
      "text/html": [
       "<pre style=\"white-space:pre;overflow-x:auto;line-height:normal;font-family:Menlo,'DejaVu Sans Mono',consolas,'Courier New',monospace\">Reading secret from C:\\Users\\david\\Documents\\GitHub\\ds-network-analysis\\data\\my_secrets.yaml…\n",
       "</pre>\n"
      ],
      "text/plain": [
       "Reading secret from C:\\Users\\david\\Documents\\GitHub\\ds-network-analysis\\data\\my_secrets.yaml…\n"
      ]
     },
     "metadata": {},
     "output_type": "display_data"
    },
    {
     "data": {
      "text/html": [
       "<pre style=\"white-space:pre;overflow-x:auto;line-height:normal;font-family:Menlo,'DejaVu Sans Mono',consolas,'Courier New',monospace\"></pre>\n"
      ],
      "text/plain": []
     },
     "metadata": {},
     "output_type": "display_data"
    },
    {
     "data": {
      "text/html": [
       "<pre style=\"white-space:pre;overflow-x:auto;line-height:normal;font-family:Menlo,'DejaVu Sans Mono',consolas,'Courier New',monospace\">\n",
       "</pre>\n"
      ],
      "text/plain": [
       "\n"
      ]
     },
     "metadata": {},
     "output_type": "display_data"
    },
    {
     "data": {
      "text/html": [
       "<pre style=\"white-space:pre;overflow-x:auto;line-height:normal;font-family:Menlo,'DejaVu Sans Mono',consolas,'Courier New',monospace\">Reading secret from C:\\Users\\david\\Documents\\GitHub\\ds-network-analysis\\data\\my_secrets.yaml…\n",
       "</pre>\n"
      ],
      "text/plain": [
       "Reading secret from C:\\Users\\david\\Documents\\GitHub\\ds-network-analysis\\data\\my_secrets.yaml…\n"
      ]
     },
     "metadata": {},
     "output_type": "display_data"
    },
    {
     "data": {
      "text/html": [
       "<pre style=\"white-space:pre;overflow-x:auto;line-height:normal;font-family:Menlo,'DejaVu Sans Mono',consolas,'Courier New',monospace\"></pre>\n"
      ],
      "text/plain": []
     },
     "metadata": {},
     "output_type": "display_data"
    },
    {
     "data": {
      "text/html": [
       "<pre style=\"white-space:pre;overflow-x:auto;line-height:normal;font-family:Menlo,'DejaVu Sans Mono',consolas,'Courier New',monospace\">\n",
       "</pre>\n"
      ],
      "text/plain": [
       "\n"
      ]
     },
     "metadata": {},
     "output_type": "display_data"
    },
    {
     "data": {
      "text/html": [
       "<pre style=\"white-space:pre;overflow-x:auto;line-height:normal;font-family:Menlo,'DejaVu Sans Mono',consolas,'Courier New',monospace\">Reading secret from C:\\Users\\david\\Documents\\GitHub\\ds-network-analysis\\data\\my_secrets.yaml…\n",
       "</pre>\n"
      ],
      "text/plain": [
       "Reading secret from C:\\Users\\david\\Documents\\GitHub\\ds-network-analysis\\data\\my_secrets.yaml…\n"
      ]
     },
     "metadata": {},
     "output_type": "display_data"
    },
    {
     "data": {
      "text/html": [
       "<pre style=\"white-space:pre;overflow-x:auto;line-height:normal;font-family:Menlo,'DejaVu Sans Mono',consolas,'Courier New',monospace\"></pre>\n"
      ],
      "text/plain": []
     },
     "metadata": {},
     "output_type": "display_data"
    },
    {
     "data": {
      "text/html": [
       "<pre style=\"white-space:pre;overflow-x:auto;line-height:normal;font-family:Menlo,'DejaVu Sans Mono',consolas,'Courier New',monospace\">\n",
       "</pre>\n"
      ],
      "text/plain": [
       "\n"
      ]
     },
     "metadata": {},
     "output_type": "display_data"
    },
    {
     "data": {
      "text/html": [
       "<pre style=\"white-space:pre;overflow-x:auto;line-height:normal;font-family:Menlo,'DejaVu Sans Mono',consolas,'Courier New',monospace\">Reading secret from C:\\Users\\david\\Documents\\GitHub\\ds-network-analysis\\data\\my_secrets.yaml…\n",
       "</pre>\n"
      ],
      "text/plain": [
       "Reading secret from C:\\Users\\david\\Documents\\GitHub\\ds-network-analysis\\data\\my_secrets.yaml…\n"
      ]
     },
     "metadata": {},
     "output_type": "display_data"
    },
    {
     "data": {
      "text/html": [
       "<pre style=\"white-space:pre;overflow-x:auto;line-height:normal;font-family:Menlo,'DejaVu Sans Mono',consolas,'Courier New',monospace\"></pre>\n"
      ],
      "text/plain": []
     },
     "metadata": {},
     "output_type": "display_data"
    },
    {
     "data": {
      "text/html": [
       "<pre style=\"white-space:pre;overflow-x:auto;line-height:normal;font-family:Menlo,'DejaVu Sans Mono',consolas,'Courier New',monospace\">\n",
       "</pre>\n"
      ],
      "text/plain": [
       "\n"
      ]
     },
     "metadata": {},
     "output_type": "display_data"
    },
    {
     "data": {
      "text/html": [
       "<pre style=\"white-space:pre;overflow-x:auto;line-height:normal;font-family:Menlo,'DejaVu Sans Mono',consolas,'Courier New',monospace\">Reading secret from C:\\Users\\david\\Documents\\GitHub\\ds-network-analysis\\data\\my_secrets.yaml…\n",
       "</pre>\n"
      ],
      "text/plain": [
       "Reading secret from C:\\Users\\david\\Documents\\GitHub\\ds-network-analysis\\data\\my_secrets.yaml…\n"
      ]
     },
     "metadata": {},
     "output_type": "display_data"
    },
    {
     "data": {
      "text/html": [
       "<pre style=\"white-space:pre;overflow-x:auto;line-height:normal;font-family:Menlo,'DejaVu Sans Mono',consolas,'Courier New',monospace\"></pre>\n"
      ],
      "text/plain": []
     },
     "metadata": {},
     "output_type": "display_data"
    },
    {
     "data": {
      "text/html": [
       "<pre style=\"white-space:pre;overflow-x:auto;line-height:normal;font-family:Menlo,'DejaVu Sans Mono',consolas,'Courier New',monospace\">\n",
       "</pre>\n"
      ],
      "text/plain": [
       "\n"
      ]
     },
     "metadata": {},
     "output_type": "display_data"
    },
    {
     "data": {
      "text/html": [
       "<pre style=\"white-space:pre;overflow-x:auto;line-height:normal;font-family:Menlo,'DejaVu Sans Mono',consolas,'Courier New',monospace\">Reading secret from C:\\Users\\david\\Documents\\GitHub\\ds-network-analysis\\data\\my_secrets.yaml…\n",
       "</pre>\n"
      ],
      "text/plain": [
       "Reading secret from C:\\Users\\david\\Documents\\GitHub\\ds-network-analysis\\data\\my_secrets.yaml…\n"
      ]
     },
     "metadata": {},
     "output_type": "display_data"
    },
    {
     "data": {
      "text/html": [
       "<pre style=\"white-space:pre;overflow-x:auto;line-height:normal;font-family:Menlo,'DejaVu Sans Mono',consolas,'Courier New',monospace\"></pre>\n"
      ],
      "text/plain": []
     },
     "metadata": {},
     "output_type": "display_data"
    },
    {
     "data": {
      "text/html": [
       "<pre style=\"white-space:pre;overflow-x:auto;line-height:normal;font-family:Menlo,'DejaVu Sans Mono',consolas,'Courier New',monospace\">\n",
       "</pre>\n"
      ],
      "text/plain": [
       "\n"
      ]
     },
     "metadata": {},
     "output_type": "display_data"
    },
    {
     "data": {
      "text/html": [
       "<pre style=\"white-space:pre;overflow-x:auto;line-height:normal;font-family:Menlo,'DejaVu Sans Mono',consolas,'Courier New',monospace\">Reading secret from C:\\Users\\david\\Documents\\GitHub\\ds-network-analysis\\data\\my_secrets.yaml…\n",
       "</pre>\n"
      ],
      "text/plain": [
       "Reading secret from C:\\Users\\david\\Documents\\GitHub\\ds-network-analysis\\data\\my_secrets.yaml…\n"
      ]
     },
     "metadata": {},
     "output_type": "display_data"
    },
    {
     "data": {
      "text/html": [
       "<pre style=\"white-space:pre;overflow-x:auto;line-height:normal;font-family:Menlo,'DejaVu Sans Mono',consolas,'Courier New',monospace\"></pre>\n"
      ],
      "text/plain": []
     },
     "metadata": {},
     "output_type": "display_data"
    },
    {
     "data": {
      "text/html": [
       "<pre style=\"white-space:pre;overflow-x:auto;line-height:normal;font-family:Menlo,'DejaVu Sans Mono',consolas,'Courier New',monospace\">\n",
       "</pre>\n"
      ],
      "text/plain": [
       "\n"
      ]
     },
     "metadata": {},
     "output_type": "display_data"
    },
    {
     "data": {
      "text/html": [
       "<pre style=\"white-space:pre;overflow-x:auto;line-height:normal;font-family:Menlo,'DejaVu Sans Mono',consolas,'Courier New',monospace\">Reading secret from C:\\Users\\david\\Documents\\GitHub\\ds-network-analysis\\data\\my_secrets.yaml…\n",
       "</pre>\n"
      ],
      "text/plain": [
       "Reading secret from C:\\Users\\david\\Documents\\GitHub\\ds-network-analysis\\data\\my_secrets.yaml…\n"
      ]
     },
     "metadata": {},
     "output_type": "display_data"
    },
    {
     "data": {
      "text/html": [
       "<pre style=\"white-space:pre;overflow-x:auto;line-height:normal;font-family:Menlo,'DejaVu Sans Mono',consolas,'Courier New',monospace\"></pre>\n"
      ],
      "text/plain": []
     },
     "metadata": {},
     "output_type": "display_data"
    },
    {
     "data": {
      "text/html": [
       "<pre style=\"white-space:pre;overflow-x:auto;line-height:normal;font-family:Menlo,'DejaVu Sans Mono',consolas,'Courier New',monospace\">\n",
       "</pre>\n"
      ],
      "text/plain": [
       "\n"
      ]
     },
     "metadata": {},
     "output_type": "display_data"
    },
    {
     "data": {
      "text/html": [
       "<pre style=\"white-space:pre;overflow-x:auto;line-height:normal;font-family:Menlo,'DejaVu Sans Mono',consolas,'Courier New',monospace\">Reading secret from C:\\Users\\david\\Documents\\GitHub\\ds-network-analysis\\data\\my_secrets.yaml…\n",
       "</pre>\n"
      ],
      "text/plain": [
       "Reading secret from C:\\Users\\david\\Documents\\GitHub\\ds-network-analysis\\data\\my_secrets.yaml…\n"
      ]
     },
     "metadata": {},
     "output_type": "display_data"
    },
    {
     "data": {
      "text/html": [
       "<pre style=\"white-space:pre;overflow-x:auto;line-height:normal;font-family:Menlo,'DejaVu Sans Mono',consolas,'Courier New',monospace\"></pre>\n"
      ],
      "text/plain": []
     },
     "metadata": {},
     "output_type": "display_data"
    },
    {
     "data": {
      "text/html": [
       "<pre style=\"white-space:pre;overflow-x:auto;line-height:normal;font-family:Menlo,'DejaVu Sans Mono',consolas,'Courier New',monospace\">\n",
       "</pre>\n"
      ],
      "text/plain": [
       "\n"
      ]
     },
     "metadata": {},
     "output_type": "display_data"
    }
   ],
   "source": [
    "#estarre pure retweeted_user_id per edge\n",
    "hashtag_for_user={}\n",
    "retweet_for_user={}\n",
    "verified_for_user={}\n",
    "location_for_user={}\n",
    "name_for_user={}\n",
    "username_for_user={}\n",
    "\n",
    "for e in user_id:\n",
    "    u=UserETL(e,pages=1)                                                       #aggiungere più pagine (1pag=20)\n",
    "    #preprocessing hashtag\n",
    "    u.df=u.df.dropna(subset=['entities.hashtags'])                             #drop nan values on column hashtags\n",
    "    u.df.reset_index()\n",
    "    u.df['entities.hashtags']=u.df['entities.hashtags'].apply(eval)            #convert into dict\n",
    "    u.df[\"entities.hashtags\"] = u.df[\"entities.hashtags\"].map(h.extract_tags)  #extract tags\n",
    "    hashtag_for_user[e]=u.df[\"entities.hashtags\"].tolist()                     #convert pandas series into a list\n",
    "    #preprocessing retweet\n",
    "    u.df=u.df.dropna(subset=['retweeted_user_id'])\n",
    "    retweet_for_user[e]=u.df['retweeted_user_id'].tolist()\n",
    "    #saving other attributes (to assigne it to a nodes as property)\n",
    "    verified_for_user[e]=u.df['author.verified']\n",
    "    location_for_user[e]=u.df['author.location'].tolist()\n",
    "    name_for_user[e]=u.df['author.name']\n",
    "    name_for_user[e]=u.df['author.username']\n",
    "    \n",
    "    \n",
    "    "
   ]
  },
  {
   "cell_type": "code",
   "execution_count": 55,
   "id": "45a4171e",
   "metadata": {},
   "outputs": [],
   "source": [
    "user=[]\n",
    "hashtag=[]\n",
    "retweet=[]\n",
    "for u,h in hashtag_for_user.items():\n",
    "    user.append(u)\n",
    "    hashtag.append(h)\n",
    "for u,r in retweet_for_user.items():\n",
    "    retweet_list.append(r)\n"
   ]
  },
  {
   "cell_type": "code",
   "execution_count": 63,
   "id": "d8022c8a",
   "metadata": {},
   "outputs": [
    {
     "data": {
      "text/html": [
       "<div>\n",
       "<style scoped>\n",
       "    .dataframe tbody tr th:only-of-type {\n",
       "        vertical-align: middle;\n",
       "    }\n",
       "\n",
       "    .dataframe tbody tr th {\n",
       "        vertical-align: top;\n",
       "    }\n",
       "\n",
       "    .dataframe thead th {\n",
       "        text-align: right;\n",
       "    }\n",
       "</style>\n",
       "<table border=\"1\" class=\"dataframe\">\n",
       "  <thead>\n",
       "    <tr style=\"text-align: right;\">\n",
       "      <th></th>\n",
       "      <th>user_id</th>\n",
       "      <th>retweet</th>\n",
       "      <th>hashtag</th>\n",
       "    </tr>\n",
       "  </thead>\n",
       "  <tbody>\n",
       "    <tr>\n",
       "      <th>0</th>\n",
       "      <td>2312810112</td>\n",
       "      <td>[14106476, 1219232377605644289, 14981764520842...</td>\n",
       "      <td>[[sweden, ukraine], [kharkiv, russia, ukraine]...</td>\n",
       "    </tr>\n",
       "    <tr>\n",
       "      <th>1</th>\n",
       "      <td>1386674395511287816</td>\n",
       "      <td>[1394110787023560707, 1394110787023560707, 582...</td>\n",
       "      <td>[[kashmirdiaries, womenempowerment, indianarmy...</td>\n",
       "    </tr>\n",
       "    <tr>\n",
       "      <th>2</th>\n",
       "      <td>47941897</td>\n",
       "      <td>[385326089, 923231030160400384, 92323103016040...</td>\n",
       "      <td>[[russia], [assange, afghanistan], [donbass], ...</td>\n",
       "    </tr>\n",
       "    <tr>\n",
       "      <th>3</th>\n",
       "      <td>1544985126068977665</td>\n",
       "      <td>[]</td>\n",
       "      <td>[[covid19, covid, covid, omicron], [covid19, c...</td>\n",
       "    </tr>\n",
       "    <tr>\n",
       "      <th>4</th>\n",
       "      <td>78576733</td>\n",
       "      <td>[16973333, 267855388]</td>\n",
       "      <td>[[ukraine], [edinburgh, books], [jkrowling, ma...</td>\n",
       "    </tr>\n",
       "    <tr>\n",
       "      <th>...</th>\n",
       "      <td>...</td>\n",
       "      <td>...</td>\n",
       "      <td>...</td>\n",
       "    </tr>\n",
       "    <tr>\n",
       "      <th>73</th>\n",
       "      <td>23820751</td>\n",
       "      <td>[1219232377605644289, 1219232377605644289, 121...</td>\n",
       "      <td>[[russia], [dnipro, russia, putin], [russia, u...</td>\n",
       "    </tr>\n",
       "    <tr>\n",
       "      <th>74</th>\n",
       "      <td>1522455425471328256</td>\n",
       "      <td>[1519982389971152896, 1519982389971152896, 151...</td>\n",
       "      <td>[[pulwama, kashmir, kashmiragainstterror, fatf...</td>\n",
       "    </tr>\n",
       "    <tr>\n",
       "      <th>75</th>\n",
       "      <td>19734484</td>\n",
       "      <td>[]</td>\n",
       "      <td>[[ukraine], [traitors], [toryscum]]</td>\n",
       "    </tr>\n",
       "    <tr>\n",
       "      <th>76</th>\n",
       "      <td>2988731651</td>\n",
       "      <td>[1134075064276606976, 1137742952195735553, 324...</td>\n",
       "      <td>[[], [500, , ], [], [ukraine, sumy], [, , 112]...</td>\n",
       "    </tr>\n",
       "    <tr>\n",
       "      <th>77</th>\n",
       "      <td>82502558</td>\n",
       "      <td>[1450539057633800194, 1450539057633800194, 139...</td>\n",
       "      <td>[[elonmusk, squidgame, bitcoin, dogecoin, sgt,...</td>\n",
       "    </tr>\n",
       "  </tbody>\n",
       "</table>\n",
       "<p>78 rows × 3 columns</p>\n",
       "</div>"
      ],
      "text/plain": [
       "                user_id                                            retweet  \\\n",
       "0            2312810112  [14106476, 1219232377605644289, 14981764520842...   \n",
       "1   1386674395511287816  [1394110787023560707, 1394110787023560707, 582...   \n",
       "2              47941897  [385326089, 923231030160400384, 92323103016040...   \n",
       "3   1544985126068977665                                                 []   \n",
       "4              78576733                              [16973333, 267855388]   \n",
       "..                  ...                                                ...   \n",
       "73             23820751  [1219232377605644289, 1219232377605644289, 121...   \n",
       "74  1522455425471328256  [1519982389971152896, 1519982389971152896, 151...   \n",
       "75             19734484                                                 []   \n",
       "76           2988731651  [1134075064276606976, 1137742952195735553, 324...   \n",
       "77             82502558  [1450539057633800194, 1450539057633800194, 139...   \n",
       "\n",
       "                                              hashtag  \n",
       "0   [[sweden, ukraine], [kharkiv, russia, ukraine]...  \n",
       "1   [[kashmirdiaries, womenempowerment, indianarmy...  \n",
       "2   [[russia], [assange, afghanistan], [donbass], ...  \n",
       "3   [[covid19, covid, covid, omicron], [covid19, c...  \n",
       "4   [[ukraine], [edinburgh, books], [jkrowling, ma...  \n",
       "..                                                ...  \n",
       "73  [[russia], [dnipro, russia, putin], [russia, u...  \n",
       "74  [[pulwama, kashmir, kashmiragainstterror, fatf...  \n",
       "75                [[ukraine], [traitors], [toryscum]]  \n",
       "76  [[], [500, , ], [], [ukraine, sumy], [, , 112]...  \n",
       "77  [[elonmusk, squidgame, bitcoin, dogecoin, sgt,...  \n",
       "\n",
       "[78 rows x 3 columns]"
      ]
     },
     "execution_count": 63,
     "metadata": {},
     "output_type": "execute_result"
    }
   ],
   "source": [
    "#create a pandas dataframe\n",
    "df_IDK1=pd.DataFrame({\"user_id\":user,\n",
    "                      'retweet': retweet,\n",
    "                        \"hashtag\":hashtag})\n",
    "df_IDK1"
   ]
  },
  {
   "cell_type": "code",
   "execution_count": 64,
   "id": "271f9874",
   "metadata": {},
   "outputs": [],
   "source": [
    "#convert nested lists on set\n",
    "outer_list = [] \n",
    "def lists_to_list(nested_lists): \n",
    "    for el in nested_lists: \n",
    "        if type(el) == list: \n",
    "            lists_to_list(el) \n",
    "        else: \n",
    "            outer_list.append(el)\n",
    "    return set(outer_list)"
   ]
  },
  {
   "cell_type": "code",
   "execution_count": 65,
   "id": "b11deee9",
   "metadata": {},
   "outputs": [
    {
     "data": {
      "text/html": [
       "<div>\n",
       "<style scoped>\n",
       "    .dataframe tbody tr th:only-of-type {\n",
       "        vertical-align: middle;\n",
       "    }\n",
       "\n",
       "    .dataframe tbody tr th {\n",
       "        vertical-align: top;\n",
       "    }\n",
       "\n",
       "    .dataframe thead th {\n",
       "        text-align: right;\n",
       "    }\n",
       "</style>\n",
       "<table border=\"1\" class=\"dataframe\">\n",
       "  <thead>\n",
       "    <tr style=\"text-align: right;\">\n",
       "      <th></th>\n",
       "      <th>user_id</th>\n",
       "      <th>retweet</th>\n",
       "      <th>hashtag</th>\n",
       "    </tr>\n",
       "  </thead>\n",
       "  <tbody>\n",
       "    <tr>\n",
       "      <th>0</th>\n",
       "      <td>2312810112</td>\n",
       "      <td>[14106476, 1219232377605644289, 14981764520842...</td>\n",
       "      <td>{russiancolonialism, kharkiv, ukraine, sweden,...</td>\n",
       "    </tr>\n",
       "    <tr>\n",
       "      <th>1</th>\n",
       "      <td>1386674395511287816</td>\n",
       "      <td>[1394110787023560707, 1394110787023560707, 582...</td>\n",
       "      <td>{saudi, ukraine, badaltajammukashmir, russia, ...</td>\n",
       "    </tr>\n",
       "    <tr>\n",
       "      <th>2</th>\n",
       "      <td>47941897</td>\n",
       "      <td>[385326089, 923231030160400384, 92323103016040...</td>\n",
       "      <td>{saudi, slovyansk, russian, ukraine, badaltaja...</td>\n",
       "    </tr>\n",
       "    <tr>\n",
       "      <th>3</th>\n",
       "      <td>1544985126068977665</td>\n",
       "      <td>[]</td>\n",
       "      <td>{saudi, slovyansk, russian, ukraine, badaltaja...</td>\n",
       "    </tr>\n",
       "    <tr>\n",
       "      <th>4</th>\n",
       "      <td>78576733</td>\n",
       "      <td>[16973333, 267855388]</td>\n",
       "      <td>{saudi, slovyansk, russian, ukraine, badaltaja...</td>\n",
       "    </tr>\n",
       "    <tr>\n",
       "      <th>...</th>\n",
       "      <td>...</td>\n",
       "      <td>...</td>\n",
       "      <td>...</td>\n",
       "    </tr>\n",
       "    <tr>\n",
       "      <th>73</th>\n",
       "      <td>23820751</td>\n",
       "      <td>[1219232377605644289, 1219232377605644289, 121...</td>\n",
       "      <td>{linke, , healthyeating, adayinthelife, maga, ...</td>\n",
       "    </tr>\n",
       "    <tr>\n",
       "      <th>74</th>\n",
       "      <td>1522455425471328256</td>\n",
       "      <td>[1519982389971152896, 1519982389971152896, 151...</td>\n",
       "      <td>{linke, , healthyeating, adayinthelife, maga, ...</td>\n",
       "    </tr>\n",
       "    <tr>\n",
       "      <th>75</th>\n",
       "      <td>19734484</td>\n",
       "      <td>[]</td>\n",
       "      <td>{linke, , healthyeating, adayinthelife, maga, ...</td>\n",
       "    </tr>\n",
       "    <tr>\n",
       "      <th>76</th>\n",
       "      <td>2988731651</td>\n",
       "      <td>[1134075064276606976, 1137742952195735553, 324...</td>\n",
       "      <td>{linke, , healthyeating, adayinthelife, maga, ...</td>\n",
       "    </tr>\n",
       "    <tr>\n",
       "      <th>77</th>\n",
       "      <td>82502558</td>\n",
       "      <td>[1450539057633800194, 1450539057633800194, 139...</td>\n",
       "      <td>{linke, , healthyeating, adayinthelife, maga, ...</td>\n",
       "    </tr>\n",
       "  </tbody>\n",
       "</table>\n",
       "<p>78 rows × 3 columns</p>\n",
       "</div>"
      ],
      "text/plain": [
       "                user_id                                            retweet  \\\n",
       "0            2312810112  [14106476, 1219232377605644289, 14981764520842...   \n",
       "1   1386674395511287816  [1394110787023560707, 1394110787023560707, 582...   \n",
       "2              47941897  [385326089, 923231030160400384, 92323103016040...   \n",
       "3   1544985126068977665                                                 []   \n",
       "4              78576733                              [16973333, 267855388]   \n",
       "..                  ...                                                ...   \n",
       "73             23820751  [1219232377605644289, 1219232377605644289, 121...   \n",
       "74  1522455425471328256  [1519982389971152896, 1519982389971152896, 151...   \n",
       "75             19734484                                                 []   \n",
       "76           2988731651  [1134075064276606976, 1137742952195735553, 324...   \n",
       "77             82502558  [1450539057633800194, 1450539057633800194, 139...   \n",
       "\n",
       "                                              hashtag  \n",
       "0   {russiancolonialism, kharkiv, ukraine, sweden,...  \n",
       "1   {saudi, ukraine, badaltajammukashmir, russia, ...  \n",
       "2   {saudi, slovyansk, russian, ukraine, badaltaja...  \n",
       "3   {saudi, slovyansk, russian, ukraine, badaltaja...  \n",
       "4   {saudi, slovyansk, russian, ukraine, badaltaja...  \n",
       "..                                                ...  \n",
       "73  {linke, , healthyeating, adayinthelife, maga, ...  \n",
       "74  {linke, , healthyeating, adayinthelife, maga, ...  \n",
       "75  {linke, , healthyeating, adayinthelife, maga, ...  \n",
       "76  {linke, , healthyeating, adayinthelife, maga, ...  \n",
       "77  {linke, , healthyeating, adayinthelife, maga, ...  \n",
       "\n",
       "[78 rows x 3 columns]"
      ]
     },
     "execution_count": 65,
     "metadata": {},
     "output_type": "execute_result"
    }
   ],
   "source": [
    "outer_list = [] \n",
    "df_IDK1['hashtag']=df_IDK1['hashtag'].map(lists_to_list)\n",
    "df_IDK1"
   ]
  },
  {
   "cell_type": "code",
   "execution_count": 66,
   "id": "68463fd5",
   "metadata": {},
   "outputs": [
    {
     "data": {
      "text/html": [
       "<div>\n",
       "<style scoped>\n",
       "    .dataframe tbody tr th:only-of-type {\n",
       "        vertical-align: middle;\n",
       "    }\n",
       "\n",
       "    .dataframe tbody tr th {\n",
       "        vertical-align: top;\n",
       "    }\n",
       "\n",
       "    .dataframe thead th {\n",
       "        text-align: right;\n",
       "    }\n",
       "</style>\n",
       "<table border=\"1\" class=\"dataframe\">\n",
       "  <thead>\n",
       "    <tr style=\"text-align: right;\">\n",
       "      <th></th>\n",
       "      <th>user_id</th>\n",
       "      <th>retweet</th>\n",
       "      <th>hashtag</th>\n",
       "    </tr>\n",
       "  </thead>\n",
       "  <tbody>\n",
       "    <tr>\n",
       "      <th>0</th>\n",
       "      <td>2312810112</td>\n",
       "      <td>{1498176452084256772, 1219232377605644289, 135...</td>\n",
       "      <td>{russiancolonialism, kharkiv, ukraine, sweden,...</td>\n",
       "    </tr>\n",
       "    <tr>\n",
       "      <th>1</th>\n",
       "      <td>1386674395511287816</td>\n",
       "      <td>{1359617172033724416, 14106476, 14981764520842...</td>\n",
       "      <td>{saudi, ukraine, badaltajammukashmir, russia, ...</td>\n",
       "    </tr>\n",
       "    <tr>\n",
       "      <th>2</th>\n",
       "      <td>47941897</td>\n",
       "      <td>{1521787270260719616, 923231030160400384, 1359...</td>\n",
       "      <td>{saudi, slovyansk, russian, ukraine, badaltaja...</td>\n",
       "    </tr>\n",
       "    <tr>\n",
       "      <th>3</th>\n",
       "      <td>1544985126068977665</td>\n",
       "      <td>{1521787270260719616, 923231030160400384, 1359...</td>\n",
       "      <td>{saudi, slovyansk, russian, ukraine, badaltaja...</td>\n",
       "    </tr>\n",
       "    <tr>\n",
       "      <th>4</th>\n",
       "      <td>78576733</td>\n",
       "      <td>{1521787270260719616, 923231030160400384, 1359...</td>\n",
       "      <td>{saudi, slovyansk, russian, ukraine, badaltaja...</td>\n",
       "    </tr>\n",
       "    <tr>\n",
       "      <th>...</th>\n",
       "      <td>...</td>\n",
       "      <td>...</td>\n",
       "      <td>...</td>\n",
       "    </tr>\n",
       "    <tr>\n",
       "      <th>73</th>\n",
       "      <td>23820751</td>\n",
       "      <td>{720139699, 14106476, 1458038317619073044, 316...</td>\n",
       "      <td>{linke, , healthyeating, adayinthelife, maga, ...</td>\n",
       "    </tr>\n",
       "    <tr>\n",
       "      <th>74</th>\n",
       "      <td>1522455425471328256</td>\n",
       "      <td>{720139699, 14106476, 1458038317619073044, 316...</td>\n",
       "      <td>{linke, , healthyeating, adayinthelife, maga, ...</td>\n",
       "    </tr>\n",
       "    <tr>\n",
       "      <th>75</th>\n",
       "      <td>19734484</td>\n",
       "      <td>{720139699, 14106476, 1458038317619073044, 316...</td>\n",
       "      <td>{linke, , healthyeating, adayinthelife, maga, ...</td>\n",
       "    </tr>\n",
       "    <tr>\n",
       "      <th>76</th>\n",
       "      <td>2988731651</td>\n",
       "      <td>{720139699, 14106476, 1458038317619073044, 316...</td>\n",
       "      <td>{linke, , healthyeating, adayinthelife, maga, ...</td>\n",
       "    </tr>\n",
       "    <tr>\n",
       "      <th>77</th>\n",
       "      <td>82502558</td>\n",
       "      <td>{720139699, 14106476, 1458038317619073044, 316...</td>\n",
       "      <td>{linke, , healthyeating, adayinthelife, maga, ...</td>\n",
       "    </tr>\n",
       "  </tbody>\n",
       "</table>\n",
       "<p>78 rows × 3 columns</p>\n",
       "</div>"
      ],
      "text/plain": [
       "                user_id                                            retweet  \\\n",
       "0            2312810112  {1498176452084256772, 1219232377605644289, 135...   \n",
       "1   1386674395511287816  {1359617172033724416, 14106476, 14981764520842...   \n",
       "2              47941897  {1521787270260719616, 923231030160400384, 1359...   \n",
       "3   1544985126068977665  {1521787270260719616, 923231030160400384, 1359...   \n",
       "4              78576733  {1521787270260719616, 923231030160400384, 1359...   \n",
       "..                  ...                                                ...   \n",
       "73             23820751  {720139699, 14106476, 1458038317619073044, 316...   \n",
       "74  1522455425471328256  {720139699, 14106476, 1458038317619073044, 316...   \n",
       "75             19734484  {720139699, 14106476, 1458038317619073044, 316...   \n",
       "76           2988731651  {720139699, 14106476, 1458038317619073044, 316...   \n",
       "77             82502558  {720139699, 14106476, 1458038317619073044, 316...   \n",
       "\n",
       "                                              hashtag  \n",
       "0   {russiancolonialism, kharkiv, ukraine, sweden,...  \n",
       "1   {saudi, ukraine, badaltajammukashmir, russia, ...  \n",
       "2   {saudi, slovyansk, russian, ukraine, badaltaja...  \n",
       "3   {saudi, slovyansk, russian, ukraine, badaltaja...  \n",
       "4   {saudi, slovyansk, russian, ukraine, badaltaja...  \n",
       "..                                                ...  \n",
       "73  {linke, , healthyeating, adayinthelife, maga, ...  \n",
       "74  {linke, , healthyeating, adayinthelife, maga, ...  \n",
       "75  {linke, , healthyeating, adayinthelife, maga, ...  \n",
       "76  {linke, , healthyeating, adayinthelife, maga, ...  \n",
       "77  {linke, , healthyeating, adayinthelife, maga, ...  \n",
       "\n",
       "[78 rows x 3 columns]"
      ]
     },
     "execution_count": 66,
     "metadata": {},
     "output_type": "execute_result"
    }
   ],
   "source": [
    "outer_list = [] \n",
    "df_IDK1['retweet']=df_IDK1['retweet'].map(lists_to_list)\n",
    "df_IDK1"
   ]
  },
  {
   "cell_type": "code",
   "execution_count": 46,
   "id": "a4fff9fd",
   "metadata": {},
   "outputs": [
    {
     "data": {
      "text/html": [
       "<div>\n",
       "<style scoped>\n",
       "    .dataframe tbody tr th:only-of-type {\n",
       "        vertical-align: middle;\n",
       "    }\n",
       "\n",
       "    .dataframe tbody tr th {\n",
       "        vertical-align: top;\n",
       "    }\n",
       "\n",
       "    .dataframe thead th {\n",
       "        text-align: right;\n",
       "    }\n",
       "</style>\n",
       "<table border=\"1\" class=\"dataframe\">\n",
       "  <thead>\n",
       "    <tr style=\"text-align: right;\">\n",
       "      <th></th>\n",
       "      <th>user_id</th>\n",
       "      <th>retweet</th>\n",
       "      <th>hashtag</th>\n",
       "    </tr>\n",
       "  </thead>\n",
       "  <tbody>\n",
       "    <tr>\n",
       "      <th>0</th>\n",
       "      <td>2312810112</td>\n",
       "      <td>{linke, , healthyeating, adayinthelife, maga, ...</td>\n",
       "      <td>{russiancolonialism, kharkiv, ukraine, sweden,...</td>\n",
       "    </tr>\n",
       "    <tr>\n",
       "      <th>1</th>\n",
       "      <td>1386674395511287816</td>\n",
       "      <td>{linke, , healthyeating, adayinthelife, maga, ...</td>\n",
       "      <td>{saudi, ukraine, badaltajammukashmir, russia, ...</td>\n",
       "    </tr>\n",
       "    <tr>\n",
       "      <th>2</th>\n",
       "      <td>47941897</td>\n",
       "      <td>{linke, , healthyeating, adayinthelife, maga, ...</td>\n",
       "      <td>{saudi, slovyansk, russian, ukraine, badaltaja...</td>\n",
       "    </tr>\n",
       "    <tr>\n",
       "      <th>3</th>\n",
       "      <td>1544985126068977665</td>\n",
       "      <td>{linke, , healthyeating, adayinthelife, maga, ...</td>\n",
       "      <td>{saudi, slovyansk, russian, ukraine, badaltaja...</td>\n",
       "    </tr>\n",
       "    <tr>\n",
       "      <th>4</th>\n",
       "      <td>78576733</td>\n",
       "      <td>{linke, , healthyeating, adayinthelife, maga, ...</td>\n",
       "      <td>{saudi, slovyansk, russian, ukraine, badaltaja...</td>\n",
       "    </tr>\n",
       "    <tr>\n",
       "      <th>...</th>\n",
       "      <td>...</td>\n",
       "      <td>...</td>\n",
       "      <td>...</td>\n",
       "    </tr>\n",
       "    <tr>\n",
       "      <th>73</th>\n",
       "      <td>23820751</td>\n",
       "      <td>{linke, , healthyeating, adayinthelife, maga, ...</td>\n",
       "      <td>{linke, , healthyeating, adayinthelife, maga, ...</td>\n",
       "    </tr>\n",
       "    <tr>\n",
       "      <th>74</th>\n",
       "      <td>1522455425471328256</td>\n",
       "      <td>{linke, , healthyeating, adayinthelife, maga, ...</td>\n",
       "      <td>{linke, , healthyeating, adayinthelife, maga, ...</td>\n",
       "    </tr>\n",
       "    <tr>\n",
       "      <th>75</th>\n",
       "      <td>19734484</td>\n",
       "      <td>{linke, , healthyeating, adayinthelife, maga, ...</td>\n",
       "      <td>{linke, , healthyeating, adayinthelife, maga, ...</td>\n",
       "    </tr>\n",
       "    <tr>\n",
       "      <th>76</th>\n",
       "      <td>2988731651</td>\n",
       "      <td>{linke, , healthyeating, adayinthelife, maga, ...</td>\n",
       "      <td>{linke, , healthyeating, adayinthelife, maga, ...</td>\n",
       "    </tr>\n",
       "    <tr>\n",
       "      <th>77</th>\n",
       "      <td>82502558</td>\n",
       "      <td>{linke, , healthyeating, adayinthelife, maga, ...</td>\n",
       "      <td>{linke, , healthyeating, adayinthelife, maga, ...</td>\n",
       "    </tr>\n",
       "  </tbody>\n",
       "</table>\n",
       "<p>78 rows × 3 columns</p>\n",
       "</div>"
      ],
      "text/plain": [
       "                user_id                                            retweet  \\\n",
       "0            2312810112  {linke, , healthyeating, adayinthelife, maga, ...   \n",
       "1   1386674395511287816  {linke, , healthyeating, adayinthelife, maga, ...   \n",
       "2              47941897  {linke, , healthyeating, adayinthelife, maga, ...   \n",
       "3   1544985126068977665  {linke, , healthyeating, adayinthelife, maga, ...   \n",
       "4              78576733  {linke, , healthyeating, adayinthelife, maga, ...   \n",
       "..                  ...                                                ...   \n",
       "73             23820751  {linke, , healthyeating, adayinthelife, maga, ...   \n",
       "74  1522455425471328256  {linke, , healthyeating, adayinthelife, maga, ...   \n",
       "75             19734484  {linke, , healthyeating, adayinthelife, maga, ...   \n",
       "76           2988731651  {linke, , healthyeating, adayinthelife, maga, ...   \n",
       "77             82502558  {linke, , healthyeating, adayinthelife, maga, ...   \n",
       "\n",
       "                                              hashtag  \n",
       "0   {russiancolonialism, kharkiv, ukraine, sweden,...  \n",
       "1   {saudi, ukraine, badaltajammukashmir, russia, ...  \n",
       "2   {saudi, slovyansk, russian, ukraine, badaltaja...  \n",
       "3   {saudi, slovyansk, russian, ukraine, badaltaja...  \n",
       "4   {saudi, slovyansk, russian, ukraine, badaltaja...  \n",
       "..                                                ...  \n",
       "73  {linke, , healthyeating, adayinthelife, maga, ...  \n",
       "74  {linke, , healthyeating, adayinthelife, maga, ...  \n",
       "75  {linke, , healthyeating, adayinthelife, maga, ...  \n",
       "76  {linke, , healthyeating, adayinthelife, maga, ...  \n",
       "77  {linke, , healthyeating, adayinthelife, maga, ...  \n",
       "\n",
       "[78 rows x 3 columns]"
      ]
     },
     "execution_count": 46,
     "metadata": {},
     "output_type": "execute_result"
    }
   ],
   "source": [
    "df_IDK1"
   ]
  },
  {
   "cell_type": "code",
   "execution_count": 37,
   "id": "9d6486e1",
   "metadata": {},
   "outputs": [
    {
     "name": "stdout",
     "output_type": "stream",
     "text": [
      "l'utente 28 non  appartiene alla 4 categoria perchè usa {'slavaukraini'}\n",
      "l'utente 29 non  appartiene alla 4 categoria perchè usa {'slavaukraini'}\n",
      "l'utente 30 non  appartiene alla 4 categoria perchè usa {'slavaukraini'}\n",
      "l'utente 31 non  appartiene alla 4 categoria perchè usa {'slavaukraini'}\n",
      "l'utente 32 non  appartiene alla 4 categoria perchè usa {'slavaukraini'}\n",
      "l'utente 33 non  appartiene alla 4 categoria perchè usa {'slavaukraini'}\n",
      "l'utente 34 non  appartiene alla 4 categoria perchè usa {'slavaukraini'}\n",
      "l'utente 35 non  appartiene alla 4 categoria perchè usa {'slavaukraini'}\n",
      "l'utente 36 non  appartiene alla 4 categoria perchè usa {'slavaukraini'}\n",
      "l'utente 37 non  appartiene alla 4 categoria perchè usa {'slavaukraini'}\n",
      "l'utente 38 non  appartiene alla 4 categoria perchè usa {'slavaukraini'}\n",
      "l'utente 39 non  appartiene alla 4 categoria perchè usa {'slavaukraini'}\n",
      "l'utente 40 non  appartiene alla 4 categoria perchè usa {'slavaukraini'}\n",
      "l'utente 41 non  appartiene alla 4 categoria perchè usa {'slavaukraini', 'stopwarinukraine'}\n",
      "l'utente 42 non  appartiene alla 4 categoria perchè usa {'slavaukraini', 'stopwarinukraine'}\n",
      "l'utente 43 non  appartiene alla 4 categoria perchè usa {'slavaukraini', 'stopwarinukraine'}\n",
      "l'utente 44 non  appartiene alla 4 categoria perchè usa {'slavaukraini', 'stopwarinukraine'}\n",
      "l'utente 45 non  appartiene alla 4 categoria perchè usa {'slavaukraini', 'stopwarinukraine'}\n",
      "l'utente 46 non  appartiene alla 4 categoria perchè usa {'slavaukraini', 'stopwarinukraine'}\n",
      "l'utente 47 non  appartiene alla 4 categoria perchè usa {'slavaukraini', 'stopwarinukraine'}\n",
      "l'utente 48 non  appartiene alla 4 categoria perchè usa {'slavaukraini', 'stopwarinukraine'}\n",
      "l'utente 49 non  appartiene alla 4 categoria perchè usa {'slavaukraini', 'stopwarinukraine'}\n",
      "l'utente 50 non  appartiene alla 4 categoria perchè usa {'slavaukraini', 'stopwarinukraine'}\n",
      "l'utente 51 non  appartiene alla 4 categoria perchè usa {'slavaukraini', 'stopwarinukraine'}\n",
      "l'utente 52 non  appartiene alla 4 categoria perchè usa {'slavaukraini', 'stopwarinukraine'}\n",
      "l'utente 53 non  appartiene alla 4 categoria perchè usa {'slavaukraini', 'stopwarinukraine'}\n",
      "l'utente 54 non  appartiene alla 4 categoria perchè usa {'slavaukraini', 'stopwarinukraine'}\n",
      "l'utente 55 non  appartiene alla 4 categoria perchè usa {'slavaukraini', 'stopwarinukraine'}\n",
      "l'utente 56 non  appartiene alla 4 categoria perchè usa {'slavaukraini', 'stopwarinukraine'}\n",
      "l'utente 57 non  appartiene alla 4 categoria perchè usa {'slavaukraini', 'stopwarinukraine'}\n",
      "l'utente 58 non  appartiene alla 4 categoria perchè usa {'slavaukraini', 'stopwarinukraine'}\n",
      "l'utente 59 non  appartiene alla 4 categoria perchè usa {'slavaukraini', 'stopwarinukraine'}\n",
      "l'utente 60 non  appartiene alla 4 categoria perchè usa {'slavaukraini', 'stopwarinukraine'}\n",
      "l'utente 61 non  appartiene alla 4 categoria perchè usa {'slavaukraini', 'stopwarinukraine'}\n",
      "l'utente 62 non  appartiene alla 4 categoria perchè usa {'slavaukraini', 'stopwarinukraine'}\n",
      "l'utente 63 non  appartiene alla 4 categoria perchè usa {'slavaukraini', 'stopwarinukraine'}\n",
      "l'utente 64 non  appartiene alla 4 categoria perchè usa {'slavaukraini', 'stopwarinukraine'}\n",
      "l'utente 65 non  appartiene alla 4 categoria perchè usa {'slavaukraini', 'stopwarinukraine'}\n",
      "l'utente 66 non  appartiene alla 4 categoria perchè usa {'slavaukraini', 'stopwarinukraine'}\n",
      "l'utente 67 non  appartiene alla 4 categoria perchè usa {'slavaukraini', 'stopwarinukraine'}\n",
      "l'utente 68 non  appartiene alla 4 categoria perchè usa {'slavaukraini', 'stopwarinukraine'}\n",
      "l'utente 69 non  appartiene alla 4 categoria perchè usa {'slavaukraini', 'stopwarinukraine'}\n",
      "l'utente 70 non  appartiene alla 4 categoria perchè usa {'slavaukraini', 'stopwarinukraine'}\n",
      "l'utente 71 non  appartiene alla 4 categoria perchè usa {'slavaukraini', 'stopwarinukraine'}\n",
      "l'utente 72 non  appartiene alla 4 categoria perchè usa {'slavaukraini', 'stopwarinukraine'}\n",
      "l'utente 73 non  appartiene alla 4 categoria perchè usa {'slavaukraini', 'stopwarinukraine'}\n",
      "l'utente 74 non  appartiene alla 4 categoria perchè usa {'slavaukraini', 'stopwarinukraine'}\n",
      "l'utente 75 non  appartiene alla 4 categoria perchè usa {'slavaukraini', 'stopwarinukraine'}\n",
      "l'utente 76 non  appartiene alla 4 categoria perchè usa {'slavaukraini', 'stopwarinukraine'}\n",
      "l'utente 77 non  appartiene alla 4 categoria perchè usa {'slavaukraini', 'stopwarinukraine'}\n",
      "l'utente 78 non  appartiene alla 4 categoria perchè usa {'slavaukraini', 'stopwarinukraine'}\n",
      "l'utente 79 non  appartiene alla 4 categoria perchè usa {'slavaukraini', 'stopwarinukraine'}\n",
      "l'utente 80 non  appartiene alla 4 categoria perchè usa {'slavaukraini', 'stopwarinukraine'}\n",
      "l'utente 81 non  appartiene alla 4 categoria perchè usa {'slavaukraini', 'stopwarinukraine'}\n",
      "l'utente 82 non  appartiene alla 4 categoria perchè usa {'slavaukraini', 'stopwarinukraine'}\n",
      "l'utente 83 non  appartiene alla 4 categoria perchè usa {'slavaukraini', 'stopwarinukraine'}\n",
      "l'utente 84 non  appartiene alla 4 categoria perchè usa {'slavaukraini', 'stopwarinukraine'}\n",
      "l'utente 85 non  appartiene alla 4 categoria perchè usa {'slavaukraini', 'stopwarinukraine'}\n",
      "l'utente 86 non  appartiene alla 4 categoria perchè usa {'slavaukraini', 'stopwarinukraine'}\n",
      "l'utente 87 non  appartiene alla 4 categoria perchè usa {'slavaukraini', 'stopwarinukraine'}\n",
      "l'utente 88 non  appartiene alla 4 categoria perchè usa {'slavaukraini', 'stopwarinukraine'}\n",
      "l'utente 89 non  appartiene alla 4 categoria perchè usa {'slavaukraini', 'stopwarinukraine'}\n",
      "l'utente 90 non  appartiene alla 4 categoria perchè usa {'slavaukraini', 'stopwarinukraine'}\n",
      "l'utente 91 non  appartiene alla 4 categoria perchè usa {'slavaukraini', 'stopwarinukraine'}\n",
      "l'utente 92 non  appartiene alla 4 categoria perchè usa {'slavaukraini', 'stopwarinukraine'}\n",
      "l'utente 93 non  appartiene alla 4 categoria perchè usa {'slavaukraini', 'stopwarinukraine'}\n",
      "l'utente 94 non  appartiene alla 4 categoria perchè usa {'slavaukraini', 'stopwarinukraine'}\n",
      "l'utente 95 non  appartiene alla 4 categoria perchè usa {'slavaukraini', 'stopwarinukraine'}\n",
      "l'utente 96 non  appartiene alla 4 categoria perchè usa {'slavaukraini', 'stopwarinukraine'}\n",
      "l'utente 97 non  appartiene alla 4 categoria perchè usa {'slavaukraini', 'stopwarinukraine'}\n",
      "l'utente 98 non  appartiene alla 4 categoria perchè usa {'slavaukraini', 'stopwarinukraine'}\n",
      "l'utente 99 non  appartiene alla 4 categoria perchè usa {'slavaukraini', 'stopwarinukraine'}\n",
      "l'utente 100 non  appartiene alla 4 categoria perchè usa {'slavaukraini', 'stopwarinukraine'}\n",
      "l'utente 101 non  appartiene alla 4 categoria perchè usa {'slavaukraini', 'stopwarinukraine'}\n",
      "l'utente 102 non  appartiene alla 4 categoria perchè usa {'slavaukraini', 'stopwarinukraine'}\n",
      "l'utente 103 non  appartiene alla 4 categoria perchè usa {'slavaukraini', 'stopwarinukraine'}\n",
      "l'utente 104 non  appartiene alla 4 categoria perchè usa {'slavaukraini', 'stopwarinukraine'}\n",
      "l'utente 105 non  appartiene alla 4 categoria perchè usa {'slavaukraini', 'stopwarinukraine'}\n",
      "l'utente 106 non  appartiene alla 4 categoria perchè usa {'slavaukraini', 'stopwarinukraine'}\n",
      "l'utente 107 non  appartiene alla 4 categoria perchè usa {'slavaukraini', 'stopwarinukraine'}\n",
      "l'utente 108 non  appartiene alla 4 categoria perchè usa {'slavaukraini', 'stopwarinukraine'}\n",
      "l'utente 109 non  appartiene alla 4 categoria perchè usa {'slavaukraini', 'stopwarinukraine'}\n",
      "l'utente 110 non  appartiene alla 4 categoria perchè usa {'slavaukraini', 'stopwarinukraine'}\n",
      "l'utente 111 non  appartiene alla 4 categoria perchè usa {'slavaukraini', 'stopwarinukraine'}\n",
      "l'utente 112 non  appartiene alla 4 categoria perchè usa {'slavaukraini', 'stopwarinukraine'}\n",
      "l'utente 113 non  appartiene alla 4 categoria perchè usa {'slavaukraini', 'stopwarinukraine'}\n",
      "l'utente 114 non  appartiene alla 4 categoria perchè usa {'slavaukraini', 'stopwarinukraine'}\n",
      "l'utente 115 non  appartiene alla 4 categoria perchè usa {'slavaukraini', 'stopwarinukraine'}\n",
      "l'utente 116 non  appartiene alla 4 categoria perchè usa {'slavaukraini', 'stopwarinukraine'}\n",
      "l'utente 117 non  appartiene alla 4 categoria perchè usa {'slavaukraini', 'stopwarinukraine'}\n",
      "l'utente 118 non  appartiene alla 4 categoria perchè usa {'slavaukraini', 'stopwarinukraine'}\n",
      "l'utente 119 non  appartiene alla 4 categoria perchè usa {'slavaukraini', 'stopwarinukraine'}\n",
      "l'utente 120 non  appartiene alla 4 categoria perchè usa {'slavaukraini', 'stopwarinukraine'}\n",
      "l'utente 121 non  appartiene alla 4 categoria perchè usa {'slavaukraini', 'stopwarinukraine'}\n",
      "l'utente 122 non  appartiene alla 4 categoria perchè usa {'slavaukraini', 'stopwarinukraine'}\n",
      "l'utente 123 non  appartiene alla 4 categoria perchè usa {'slavaukraini', 'stopwarinukraine'}\n",
      "l'utente 124 non  appartiene alla 4 categoria perchè usa {'slavaukraini', 'stopwarinukraine'}\n",
      "l'utente 125 non  appartiene alla 4 categoria perchè usa {'slavaukraini', 'stopwarinukraine'}\n",
      "l'utente 126 non  appartiene alla 4 categoria perchè usa {'slavaukraini', 'stopwarinukraine'}\n",
      "l'utente 127 non  appartiene alla 4 categoria perchè usa {'slavaukraini', 'stopwarinukraine'}\n",
      "l'utente 128 non  appartiene alla 4 categoria perchè usa {'slavaukraini', 'stopwarinukraine'}\n",
      "l'utente 129 non  appartiene alla 4 categoria perchè usa {'slavaukraini', 'stopwarinukraine'}\n",
      "l'utente 130 non  appartiene alla 4 categoria perchè usa {'slavaukraini', 'stopwarinukraine'}\n",
      "l'utente 131 non  appartiene alla 4 categoria perchè usa {'slavaukraini', 'stopwarinukraine'}\n",
      "l'utente 132 non  appartiene alla 4 categoria perchè usa {'slavaukraini', 'stopwarinukraine'}\n",
      "l'utente 133 non  appartiene alla 4 categoria perchè usa {'slavaukraini', 'stopwarinukraine'}\n",
      "l'utente 134 non  appartiene alla 4 categoria perchè usa {'slavaukraini', 'stopwarinukraine'}\n",
      "l'utente 135 non  appartiene alla 4 categoria perchè usa {'slavaukraini', 'stopwarinukraine'}\n",
      "l'utente 136 non  appartiene alla 4 categoria perchè usa {'slavaukraini', 'stopwarinukraine'}\n",
      "l'utente 137 non  appartiene alla 4 categoria perchè usa {'slavaukraini', 'stopwarinukraine'}\n",
      "l'utente 138 non  appartiene alla 4 categoria perchè usa {'slavaukraini', 'stopwarinukraine'}\n",
      "l'utente 139 non  appartiene alla 4 categoria perchè usa {'slavaukraini', 'stopwarinukraine'}\n",
      "l'utente 140 non  appartiene alla 4 categoria perchè usa {'slavaukraini', 'stopwarinukraine'}\n",
      "l'utente 141 non  appartiene alla 4 categoria perchè usa {'slavaukraini', 'stopwarinukraine'}\n",
      "l'utente 142 non  appartiene alla 4 categoria perchè usa {'slavaukraini', 'stopwarinukraine'}\n",
      "l'utente 143 non  appartiene alla 4 categoria perchè usa {'slavaukraini', 'stopwarinukraine'}\n",
      "l'utente 144 non  appartiene alla 4 categoria perchè usa {'slavaukraini', 'stopwarinukraine'}\n",
      "l'utente 145 non  appartiene alla 4 categoria perchè usa {'slavaukraini', 'stopwarinukraine'}\n",
      "l'utente 146 non  appartiene alla 4 categoria perchè usa {'slavaukraini', 'stopwarinukraine'}\n",
      "l'utente 147 non  appartiene alla 4 categoria perchè usa {'slavaukraini', 'stopwarinukraine'}\n",
      "l'utente 148 non  appartiene alla 4 categoria perchè usa {'slavaukraini', 'stopwarinukraine'}\n",
      "l'utente 149 non  appartiene alla 4 categoria perchè usa {'slavaukraini', 'stopwarinukraine'}\n",
      "l'utente 150 non  appartiene alla 4 categoria perchè usa {'slavaukraini', 'stopwarinukraine'}\n",
      "l'utente 151 non  appartiene alla 4 categoria perchè usa {'slavaukraini', 'stopwarinukraine'}\n",
      "l'utente 152 non  appartiene alla 4 categoria perchè usa {'slavaukraini', 'stopwarinukraine'}\n",
      "l'utente 153 non  appartiene alla 4 categoria perchè usa {'slavaukraini', 'stopwarinukraine'}\n",
      "l'utente 154 non  appartiene alla 4 categoria perchè usa {'slavaukraini', 'stopwarinukraine'}\n",
      "l'utente 155 non  appartiene alla 4 categoria perchè usa {'slavaukraini', 'stopwarinukraine'}\n",
      "l'utente 156 non  appartiene alla 4 categoria perchè usa {'slavaukraini', 'stopwarinukraine'}\n",
      "l'utente 157 non  appartiene alla 4 categoria perchè usa {'slavaukraini', 'stopwarinukraine'}\n",
      "l'utente 158 non  appartiene alla 4 categoria perchè usa {'slavaukraini', 'stopwarinukraine'}\n",
      "l'utente 159 non  appartiene alla 4 categoria perchè usa {'slavaukraini', 'stopwarinukraine'}\n",
      "l'utente 160 non  appartiene alla 4 categoria perchè usa {'slavaukraini', 'stopwarinukraine'}\n",
      "l'utente 161 non  appartiene alla 4 categoria perchè usa {'slavaukraini', 'stopwarinukraine'}\n",
      "l'utente 162 non  appartiene alla 4 categoria perchè usa {'slavaukraini', 'stopwarinukraine'}\n",
      "l'utente 163 non  appartiene alla 4 categoria perchè usa {'slavaukraini', 'stopwarinukraine'}\n",
      "l'utente 164 non  appartiene alla 4 categoria perchè usa {'slavaukraini', 'stopwarinukraine'}\n",
      "l'utente 165 non  appartiene alla 4 categoria perchè usa {'slavaukraini', 'stopwarinukraine'}\n",
      "l'utente 166 non  appartiene alla 4 categoria perchè usa {'slavaukraini', 'stopwarinukraine'}\n",
      "l'utente 167 non  appartiene alla 4 categoria perchè usa {'slavaukraini', 'stopwarinukraine'}\n",
      "l'utente 168 non  appartiene alla 4 categoria perchè usa {'slavaukraini', 'stopwarinukraine'}\n",
      "l'utente 169 non  appartiene alla 4 categoria perchè usa {'slavaukraini', 'stopwarinukraine'}\n",
      "l'utente 170 non  appartiene alla 4 categoria perchè usa {'slavaukraini', 'stopwarinukraine'}\n",
      "l'utente 171 non  appartiene alla 4 categoria perchè usa {'slavaukraini', 'stopwarinukraine'}\n",
      "l'utente 172 non  appartiene alla 4 categoria perchè usa {'slavaukraini', 'stopwarinukraine'}\n",
      "l'utente 173 non  appartiene alla 4 categoria perchè usa {'slavaukraini', 'stopwarinukraine'}\n",
      "l'utente 174 non  appartiene alla 4 categoria perchè usa {'slavaukraini', 'stopwarinukraine'}\n",
      "l'utente 175 non  appartiene alla 4 categoria perchè usa {'slavaukraini', 'stopwarinukraine'}\n",
      "l'utente 176 non  appartiene alla 4 categoria perchè usa {'slavaukraini', 'stopwarinukraine'}\n",
      "l'utente 177 non  appartiene alla 4 categoria perchè usa {'slavaukraini', 'stopwarinukraine'}\n",
      "l'utente 178 non  appartiene alla 4 categoria perchè usa {'slavaukraini', 'stopwarinukraine'}\n",
      "l'utente 179 non  appartiene alla 4 categoria perchè usa {'slavaukraini', 'stopwarinukraine'}\n",
      "l'utente 180 non  appartiene alla 4 categoria perchè usa {'slavaukraini', 'stopwarinukraine'}\n",
      "l'utente 181 non  appartiene alla 4 categoria perchè usa {'slavaukraini', 'stopwarinukraine'}\n",
      "l'utente 182 non  appartiene alla 4 categoria perchè usa {'slavaukraini', 'stopwarinukraine'}\n",
      "l'utente 183 non  appartiene alla 4 categoria perchè usa {'slavaukraini', 'stopwarinukraine'}\n",
      "l'utente 184 non  appartiene alla 4 categoria perchè usa {'slavaukraini', 'stopwarinukraine'}\n",
      "l'utente 185 non  appartiene alla 4 categoria perchè usa {'slavaukraini', 'stopwarinukraine'}\n",
      "l'utente 186 non  appartiene alla 4 categoria perchè usa {'slavaukraini', 'stopwarinukraine'}\n",
      "l'utente 187 non  appartiene alla 4 categoria perchè usa {'slavaukraini', 'stopwarinukraine'}\n",
      "l'utente 188 non  appartiene alla 4 categoria perchè usa {'slavaukraini', 'stopwarinukraine'}\n",
      "l'utente 189 non  appartiene alla 4 categoria perchè usa {'slavaukraini', 'stopwarinukraine'}\n",
      "l'utente 190 non  appartiene alla 4 categoria perchè usa {'slavaukraini', 'stopwarinukraine'}\n",
      "l'utente 191 non  appartiene alla 4 categoria perchè usa {'slavaukraini', 'stopwarinukraine'}\n",
      "l'utente 192 non  appartiene alla 4 categoria perchè usa {'slavaukraini', 'stopwarinukraine'}\n",
      "l'utente 193 non  appartiene alla 4 categoria perchè usa {'slavaukraini', 'stopwarinukraine'}\n",
      "l'utente 194 non  appartiene alla 4 categoria perchè usa {'slavaukraini', 'stopwarinukraine'}\n",
      "l'utente 195 non  appartiene alla 4 categoria perchè usa {'slavaukraini', 'stopwarinukraine'}\n",
      "l'utente 196 non  appartiene alla 4 categoria perchè usa {'slavaukraini', 'stopwarinukraine'}\n",
      "l'utente 197 non  appartiene alla 4 categoria perchè usa {'slavaukraini', 'stopwarinukraine'}\n",
      "l'utente 198 non  appartiene alla 4 categoria perchè usa {'slavaukraini', 'stopwarinukraine'}\n",
      "l'utente 199 non  appartiene alla 4 categoria perchè usa {'slavaukraini', 'stopwarinukraine'}\n",
      "l'utente 200 non  appartiene alla 4 categoria perchè usa {'slavaukraini', 'stopwarinukraine'}\n",
      "l'utente 201 non  appartiene alla 4 categoria perchè usa {'slavaukraini', 'stopwarinukraine'}\n",
      "l'utente 202 non  appartiene alla 4 categoria perchè usa {'slavaukraini', 'stopwarinukraine'}\n",
      "l'utente 203 non  appartiene alla 4 categoria perchè usa {'slavaukraini', 'stopwarinukraine'}\n",
      "l'utente 204 non  appartiene alla 4 categoria perchè usa {'slavaukraini', 'stopwarinukraine'}\n",
      "l'utente 205 non  appartiene alla 4 categoria perchè usa {'slavaukraini', 'stopwarinukraine'}\n",
      "l'utente 206 non  appartiene alla 4 categoria perchè usa {'slavaukraini', 'stopwarinukraine'}\n",
      "l'utente 207 non  appartiene alla 4 categoria perchè usa {'slavaukraini', 'stopwarinukraine'}\n",
      "l'utente 208 non  appartiene alla 4 categoria perchè usa {'slavaukraini', 'stopwarinukraine'}\n",
      "l'utente 209 non  appartiene alla 4 categoria perchè usa {'slavaukraini', 'stopwarinukraine'}\n",
      "l'utente 210 non  appartiene alla 4 categoria perchè usa {'slavaukraini', 'stopwarinukraine'}\n",
      "l'utente 211 non  appartiene alla 4 categoria perchè usa {'slavaukraini', 'stopwarinukraine'}\n",
      "l'utente 212 non  appartiene alla 4 categoria perchè usa {'slavaukraini', 'stopwarinukraine'}\n",
      "l'utente 213 non  appartiene alla 4 categoria perchè usa {'slavaukraini', 'stopwarinukraine'}\n",
      "l'utente 214 non  appartiene alla 4 categoria perchè usa {'slavaukraini', 'istandwithrussia', 'stopwarinukraine'}\n",
      "l'utente 215 non  appartiene alla 4 categoria perchè usa {'slavaukraini', 'istandwithrussia', 'stopwarinukraine'}\n",
      "l'utente 216 non  appartiene alla 4 categoria perchè usa {'slavaukraini', 'istandwithrussia', 'stopwarinukraine'}\n",
      "l'utente 217 non  appartiene alla 4 categoria perchè usa {'slavaukraini', 'istandwithrussia', 'stopwarinukraine'}\n",
      "l'utente 218 non  appartiene alla 4 categoria perchè usa {'slavaukraini', 'istandwithrussia', 'stopwarinukraine'}\n",
      "l'utente 219 non  appartiene alla 4 categoria perchè usa {'slavaukraini', 'istandwithrussia', 'stopwarinukraine'}\n",
      "l'utente 220 non  appartiene alla 4 categoria perchè usa {'slavaukraini', 'istandwithrussia', 'stopwarinukraine'}\n",
      "l'utente 221 non  appartiene alla 4 categoria perchè usa {'slavaukraini', 'istandwithrussia', 'stopwarinukraine'}\n",
      "l'utente 222 non  appartiene alla 4 categoria perchè usa {'slavaukraini', 'istandwithrussia', 'stopwarinukraine'}\n",
      "l'utente 223 non  appartiene alla 4 categoria perchè usa {'slavaukraini', 'istandwithrussia', 'stopwarinukraine'}\n",
      "l'utente 224 non  appartiene alla 4 categoria perchè usa {'slavaukraini', 'istandwithrussia', 'stopwarinukraine'}\n",
      "l'utente 225 non  appartiene alla 4 categoria perchè usa {'slavaukraini', 'istandwithrussia', 'stopwarinukraine'}\n",
      "l'utente 226 non  appartiene alla 4 categoria perchè usa {'slavaukraini', 'istandwithrussia', 'stopwarinukraine'}\n",
      "l'utente 227 non  appartiene alla 4 categoria perchè usa {'slavaukraini', 'istandwithrussia', 'stopwarinukraine'}\n",
      "l'utente 228 non  appartiene alla 4 categoria perchè usa {'slavaukraini', 'istandwithrussia', 'stopwarinukraine'}\n",
      "l'utente 229 non  appartiene alla 4 categoria perchè usa {'slavaukraini', 'istandwithrussia', 'stopwarinukraine'}\n",
      "l'utente 230 non  appartiene alla 4 categoria perchè usa {'slavaukraini', 'istandwithrussia', 'stopwarinukraine'}\n",
      "l'utente 231 non  appartiene alla 4 categoria perchè usa {'slavaukraini', 'istandwithrussia', 'stopwarinukraine'}\n",
      "l'utente 232 non  appartiene alla 4 categoria perchè usa {'slavaukraini', 'istandwithrussia', 'stopwarinukraine'}\n",
      "l'utente 233 non  appartiene alla 4 categoria perchè usa {'slavaukraini', 'istandwithrussia', 'stopwarinukraine'}\n",
      "l'utente 234 non  appartiene alla 4 categoria perchè usa {'slavaukraini', 'istandwithrussia', 'stopwarinukraine'}\n",
      "l'utente 235 non  appartiene alla 4 categoria perchè usa {'slavaukraini', 'istandwithrussia', 'stopwarinukraine'}\n",
      "l'utente 236 non  appartiene alla 4 categoria perchè usa {'slavaukraini', 'istandwithrussia', 'stopwarinukraine'}\n",
      "l'utente 237 non  appartiene alla 4 categoria perchè usa {'slavaukraini', 'istandwithrussia', 'stopwarinukraine'}\n",
      "l'utente 238 non  appartiene alla 4 categoria perchè usa {'slavaukraini', 'istandwithrussia', 'stopwarinukraine'}\n",
      "l'utente 239 non  appartiene alla 4 categoria perchè usa {'slavaukraini', 'istandwithrussia', 'stopwarinukraine'}\n",
      "l'utente 240 non  appartiene alla 4 categoria perchè usa {'slavaukraini', 'istandwithrussia', 'stopwarinukraine'}\n",
      "l'utente 241 non  appartiene alla 4 categoria perchè usa {'slavaukraini', 'istandwithrussia', 'stopwarinukraine'}\n",
      "l'utente 242 non  appartiene alla 4 categoria perchè usa {'slavaukraini', 'istandwithrussia', 'stopwarinukraine'}\n",
      "l'utente 243 non  appartiene alla 4 categoria perchè usa {'slavaukraini', 'istandwithrussia', 'stopwarinukraine'}\n",
      "l'utente 244 non  appartiene alla 4 categoria perchè usa {'slavaukraini', 'istandwithrussia', 'stopwarinukraine'}\n",
      "l'utente 245 non  appartiene alla 4 categoria perchè usa {'slavaukraini', 'istandwithrussia', 'stopwarinukraine'}\n",
      "l'utente 246 non  appartiene alla 4 categoria perchè usa {'slavaukraini', 'istandwithrussia', 'stopwarinukraine'}\n",
      "l'utente 247 non  appartiene alla 4 categoria perchè usa {'slavaukraini', 'istandwithrussia', 'stopwarinukraine'}\n",
      "l'utente 248 non  appartiene alla 4 categoria perchè usa {'slavaukraini', 'istandwithrussia', 'stopwarinukraine'}\n",
      "l'utente 249 non  appartiene alla 4 categoria perchè usa {'slavaukraini', 'istandwithrussia', 'stopwarinukraine'}\n",
      "l'utente 250 non  appartiene alla 4 categoria perchè usa {'slavaukraini', 'istandwithrussia', 'stopwarinukraine'}\n",
      "l'utente 251 non  appartiene alla 4 categoria perchè usa {'slavaukraini', 'istandwithrussia', 'stopwarinukraine'}\n",
      "l'utente 252 non  appartiene alla 4 categoria perchè usa {'slavaukraini', 'istandwithrussia', 'stopwarinukraine'}\n",
      "l'utente 253 non  appartiene alla 4 categoria perchè usa {'slavaukraini', 'istandwithrussia', 'stopwarinukraine'}\n",
      "l'utente 254 non  appartiene alla 4 categoria perchè usa {'slavaukraini', 'istandwithrussia', 'stopwarinukraine'}\n",
      "l'utente 255 non  appartiene alla 4 categoria perchè usa {'slavaukraini', 'istandwithrussia', 'stopwarinukraine'}\n",
      "l'utente 256 non  appartiene alla 4 categoria perchè usa {'slavaukraini', 'istandwithrussia', 'stopwarinukraine'}\n",
      "l'utente 257 non  appartiene alla 4 categoria perchè usa {'slavaukraini', 'istandwithrussia', 'stopwarinukraine'}\n",
      "l'utente 258 non  appartiene alla 4 categoria perchè usa {'slavaukraini', 'istandwithrussia', 'stopwarinukraine'}\n",
      "l'utente 259 non  appartiene alla 4 categoria perchè usa {'slavaukraini', 'istandwithrussia', 'stopwarinukraine'}\n",
      "l'utente 260 non  appartiene alla 4 categoria perchè usa {'slavaukraini', 'istandwithrussia', 'stopwarinukraine'}\n",
      "l'utente 261 non  appartiene alla 4 categoria perchè usa {'slavaukraini', 'istandwithrussia', 'stopwarinukraine'}\n",
      "l'utente 262 non  appartiene alla 4 categoria perchè usa {'slavaukraini', 'istandwithrussia', 'stopwarinukraine'}\n",
      "l'utente 263 non  appartiene alla 4 categoria perchè usa {'slavaukraini', 'istandwithrussia', 'stopwarinukraine'}\n",
      "l'utente 264 non  appartiene alla 4 categoria perchè usa {'slavaukraini', 'istandwithrussia', 'stopwarinukraine'}\n",
      "l'utente 265 non  appartiene alla 4 categoria perchè usa {'slavaukraini', 'istandwithrussia', 'stopwarinukraine'}\n",
      "l'utente 266 non  appartiene alla 4 categoria perchè usa {'slavaukraini', 'istandwithrussia', 'stopwarinukraine'}\n",
      "l'utente 267 non  appartiene alla 4 categoria perchè usa {'slavaukraini', 'istandwithrussia', 'stopwarinukraine'}\n",
      "l'utente 268 non  appartiene alla 4 categoria perchè usa {'slavaukraini', 'istandwithrussia', 'stopwarinukraine'}\n",
      "l'utente 269 non  appartiene alla 4 categoria perchè usa {'slavaukraini', 'istandwithrussia', 'stopwarinukraine'}\n",
      "l'utente 270 non  appartiene alla 4 categoria perchè usa {'slavaukraini', 'istandwithrussia', 'stopwarinukraine'}\n",
      "l'utente 271 non  appartiene alla 4 categoria perchè usa {'slavaukraini', 'istandwithrussia', 'stopwarinukraine'}\n",
      "l'utente 272 non  appartiene alla 4 categoria perchè usa {'slavaukraini', 'istandwithrussia', 'stopwarinukraine'}\n",
      "l'utente 273 non  appartiene alla 4 categoria perchè usa {'slavaukraini', 'istandwithrussia', 'stopwarinukraine'}\n",
      "l'utente 274 non  appartiene alla 4 categoria perchè usa {'slavaukraini', 'istandwithrussia', 'stopwarinukraine'}\n",
      "l'utente 275 non  appartiene alla 4 categoria perchè usa {'slavaukraini', 'istandwithrussia', 'stopwarinukraine'}\n",
      "l'utente 276 non  appartiene alla 4 categoria perchè usa {'slavaukraini', 'istandwithrussia', 'stopwarinukraine'}\n",
      "l'utente 277 non  appartiene alla 4 categoria perchè usa {'slavaukraini', 'istandwithrussia', 'stopwarinukraine'}\n",
      "l'utente 278 non  appartiene alla 4 categoria perchè usa {'slavaukraini', 'istandwithrussia', 'stopwarinukraine'}\n",
      "l'utente 279 non  appartiene alla 4 categoria perchè usa {'slavaukraini', 'istandwithrussia', 'stopwarinukraine'}\n",
      "l'utente 280 non  appartiene alla 4 categoria perchè usa {'slavaukraini', 'istandwithrussia', 'stopwarinukraine'}\n",
      "l'utente 281 non  appartiene alla 4 categoria perchè usa {'slavaukraini', 'istandwithrussia', 'stopwarinukraine'}\n",
      "l'utente 282 non  appartiene alla 4 categoria perchè usa {'slavaukraini', 'istandwithrussia', 'stopwarinukraine'}\n",
      "l'utente 283 non  appartiene alla 4 categoria perchè usa {'slavaukraini', 'istandwithrussia', 'stopwarinukraine'}\n",
      "l'utente 284 non  appartiene alla 4 categoria perchè usa {'slavaukraini', 'istandwithrussia', 'stopwarinukraine'}\n",
      "l'utente 285 non  appartiene alla 4 categoria perchè usa {'slavaukraini', 'istandwithrussia', 'stopwarinukraine'}\n",
      "l'utente 286 non  appartiene alla 4 categoria perchè usa {'slavaukraini', 'istandwithrussia', 'stopwarinukraine'}\n",
      "l'utente 287 non  appartiene alla 4 categoria perchè usa {'slavaukraini', 'istandwithrussia', 'stopwarinukraine'}\n",
      "l'utente 288 non  appartiene alla 4 categoria perchè usa {'slavaukraini', 'istandwithrussia', 'stopwarinukraine'}\n",
      "l'utente 289 non  appartiene alla 4 categoria perchè usa {'slavaukraini', 'istandwithrussia', 'stopwarinukraine'}\n",
      "l'utente 290 non  appartiene alla 4 categoria perchè usa {'slavaukraini', 'istandwithrussia', 'stopwarinukraine'}\n",
      "l'utente 291 non  appartiene alla 4 categoria perchè usa {'slavaukraini', 'istandwithrussia', 'stopwarinukraine'}\n",
      "l'utente 292 non  appartiene alla 4 categoria perchè usa {'slavaukraini', 'istandwithrussia', 'stopwarinukraine'}\n",
      "l'utente 293 non  appartiene alla 4 categoria perchè usa {'slavaukraini', 'istandwithrussia', 'stopwarinukraine'}\n",
      "l'utente 294 non  appartiene alla 4 categoria perchè usa {'slavaukraini', 'istandwithrussia', 'stopwarinukraine'}\n",
      "l'utente 295 non  appartiene alla 4 categoria perchè usa {'slavaukraini', 'istandwithrussia', 'stopwarinukraine'}\n",
      "l'utente 296 non  appartiene alla 4 categoria perchè usa {'slavaukraini', 'istandwithrussia', 'stopwarinukraine'}\n",
      "l'utente 297 non  appartiene alla 4 categoria perchè usa {'slavaukraini', 'istandwithrussia', 'stopwarinukraine'}\n",
      "l'utente 298 non  appartiene alla 4 categoria perchè usa {'slavaukraini', 'istandwithrussia', 'stopwarinukraine'}\n",
      "l'utente 299 non  appartiene alla 4 categoria perchè usa {'slavaukraini', 'istandwithrussia', 'stopwarinukraine'}\n",
      "l'utente 300 non  appartiene alla 4 categoria perchè usa {'slavaukraini', 'istandwithrussia', 'stopwarinukraine'}\n",
      "l'utente 301 non  appartiene alla 4 categoria perchè usa {'slavaukraini', 'istandwithrussia', 'stopwarinukraine'}\n",
      "l'utente 302 non  appartiene alla 4 categoria perchè usa {'slavaukraini', 'istandwithrussia', 'stopwarinukraine'}\n",
      "l'utente 303 non  appartiene alla 4 categoria perchè usa {'slavaukraini', 'istandwithrussia', 'stopwarinukraine'}\n",
      "l'utente 304 non  appartiene alla 4 categoria perchè usa {'slavaukraini', 'istandwithrussia', 'stopwarinukraine'}\n",
      "l'utente 305 non  appartiene alla 4 categoria perchè usa {'slavaukraini', 'istandwithrussia', 'stopwarinukraine'}\n",
      "l'utente 306 non  appartiene alla 4 categoria perchè usa {'slavaukraini', 'istandwithrussia', 'stopwarinukraine'}\n",
      "l'utente 307 non  appartiene alla 4 categoria perchè usa {'slavaukraini', 'istandwithrussia', 'stopwarinukraine'}\n",
      "l'utente 308 non  appartiene alla 4 categoria perchè usa {'slavaukraini', 'istandwithrussia', 'stopwarinukraine'}\n",
      "l'utente 309 non  appartiene alla 4 categoria perchè usa {'slavaukraini', 'istandwithrussia', 'stopwarinukraine'}\n",
      "l'utente 310 non  appartiene alla 4 categoria perchè usa {'slavaukraini', 'istandwithrussia', 'stopwarinukraine'}\n",
      "l'utente 311 non  appartiene alla 4 categoria perchè usa {'slavaukraini', 'istandwithrussia', 'stopwarinukraine'}\n",
      "l'utente 312 non  appartiene alla 4 categoria perchè usa {'slavaukraini', 'istandwithrussia', 'stopwarinukraine'}\n",
      "l'utente 313 non  appartiene alla 4 categoria perchè usa {'slavaukraini', 'istandwithrussia', 'stopwarinukraine'}\n",
      "l'utente 314 non  appartiene alla 4 categoria perchè usa {'slavaukraini', 'istandwithrussia', 'stopwarinukraine'}\n",
      "l'utente 315 non  appartiene alla 4 categoria perchè usa {'slavaukraini', 'istandwithrussia', 'stopwarinukraine'}\n",
      "l'utente 316 non  appartiene alla 4 categoria perchè usa {'slavaukraini', 'istandwithrussia', 'stopwarinukraine'}\n",
      "l'utente 317 non  appartiene alla 4 categoria perchè usa {'slavaukraini', 'istandwithrussia', 'stopwarinukraine'}\n",
      "l'utente 318 non  appartiene alla 4 categoria perchè usa {'slavaukraini', 'istandwithrussia', 'stopwarinukraine'}\n",
      "l'utente 319 non  appartiene alla 4 categoria perchè usa {'slavaukraini', 'istandwithrussia', 'stopwarinukraine'}\n",
      "l'utente 320 non  appartiene alla 4 categoria perchè usa {'slavaukraini', 'istandwithrussia', 'stopwarinukraine'}\n",
      "l'utente 321 non  appartiene alla 4 categoria perchè usa {'slavaukraini', 'istandwithrussia', 'stopwarinukraine'}\n",
      "l'utente 322 non  appartiene alla 4 categoria perchè usa {'slavaukraini', 'istandwithrussia', 'stopwarinukraine'}\n",
      "l'utente 323 non  appartiene alla 4 categoria perchè usa {'slavaukraini', 'istandwithrussia', 'stopwarinukraine'}\n",
      "l'utente 324 non  appartiene alla 4 categoria perchè usa {'slavaukraini', 'istandwithrussia', 'stopwarinukraine'}\n",
      "l'utente 325 non  appartiene alla 4 categoria perchè usa {'slavaukraini', 'istandwithrussia', 'stopwarinukraine'}\n",
      "l'utente 326 non  appartiene alla 4 categoria perchè usa {'slavaukraini', 'istandwithrussia', 'stopwarinukraine'}\n",
      "l'utente 327 non  appartiene alla 4 categoria perchè usa {'slavaukraini', 'istandwithrussia', 'stopwarinukraine'}\n",
      "l'utente 328 non  appartiene alla 4 categoria perchè usa {'slavaukraini', 'istandwithrussia', 'stopwarinukraine'}\n",
      "l'utente 329 non  appartiene alla 4 categoria perchè usa {'slavaukraini', 'istandwithrussia', 'stopwarinukraine'}\n",
      "l'utente 330 non  appartiene alla 4 categoria perchè usa {'slavaukraini', 'istandwithrussia', 'stopwarinukraine'}\n",
      "l'utente 331 non  appartiene alla 4 categoria perchè usa {'slavaukraini', 'istandwithrussia', 'stopwarinukraine'}\n",
      "l'utente 332 non  appartiene alla 4 categoria perchè usa {'slavaukraini', 'istandwithrussia', 'stopwarinukraine'}\n",
      "l'utente 333 non  appartiene alla 4 categoria perchè usa {'slavaukraini', 'istandwithrussia', 'stopwarinukraine'}\n",
      "l'utente 334 non  appartiene alla 4 categoria perchè usa {'slavaukraini', 'istandwithrussia', 'stopwarinukraine'}\n",
      "l'utente 335 non  appartiene alla 4 categoria perchè usa {'slavaukraini', 'istandwithrussia', 'stopwarinukraine'}\n",
      "l'utente 336 non  appartiene alla 4 categoria perchè usa {'slavaukraini', 'istandwithrussia', 'stopwarinukraine'}\n",
      "l'utente 337 non  appartiene alla 4 categoria perchè usa {'slavaukraini', 'istandwithrussia', 'stopwarinukraine'}\n",
      "l'utente 338 non  appartiene alla 4 categoria perchè usa {'slavaukraini', 'istandwithrussia', 'stopwarinukraine'}\n",
      "l'utente 339 non  appartiene alla 4 categoria perchè usa {'slavaukraini', 'istandwithrussia', 'stopwarinukraine'}\n",
      "l'utente 340 non  appartiene alla 4 categoria perchè usa {'slavaukraini', 'istandwithrussia', 'stopwarinukraine'}\n",
      "l'utente 341 non  appartiene alla 4 categoria perchè usa {'slavaukraini', 'istandwithrussia', 'stopwarinukraine'}\n",
      "l'utente 342 non  appartiene alla 4 categoria perchè usa {'slavaukraini', 'istandwithrussia', 'stopwarinukraine'}\n",
      "l'utente 343 non  appartiene alla 4 categoria perchè usa {'slavaukraini', 'istandwithrussia', 'stopwarinukraine'}\n",
      "l'utente 344 non  appartiene alla 4 categoria perchè usa {'slavaukraini', 'istandwithrussia', 'stopwarinukraine'}\n",
      "l'utente 345 non  appartiene alla 4 categoria perchè usa {'slavaukraini', 'istandwithrussia', 'stopwarinukraine'}\n",
      "l'utente 346 non  appartiene alla 4 categoria perchè usa {'slavaukraini', 'istandwithrussia', 'stopwarinukraine'}\n",
      "l'utente 347 non  appartiene alla 4 categoria perchè usa {'slavaukraini', 'istandwithrussia', 'stopwarinukraine'}\n",
      "l'utente 348 non  appartiene alla 4 categoria perchè usa {'slavaukraini', 'istandwithrussia', 'stopwarinukraine'}\n",
      "l'utente 349 non  appartiene alla 4 categoria perchè usa {'slavaukraini', 'istandwithrussia', 'stopwarinukraine'}\n",
      "l'utente 350 non  appartiene alla 4 categoria perchè usa {'slavaukraini', 'istandwithrussia', 'stopwarinukraine'}\n",
      "l'utente 351 non  appartiene alla 4 categoria perchè usa {'slavaukraini', 'istandwithrussia', 'stopwarinukraine'}\n",
      "l'utente 352 non  appartiene alla 4 categoria perchè usa {'slavaukraini', 'istandwithrussia', 'stopwarinukraine'}\n",
      "l'utente 353 non  appartiene alla 4 categoria perchè usa {'slavaukraini', 'istandwithrussia', 'stopwarinukraine'}\n",
      "l'utente 354 non  appartiene alla 4 categoria perchè usa {'slavaukraini', 'istandwithrussia', 'stopwarinukraine'}\n",
      "l'utente 355 non  appartiene alla 4 categoria perchè usa {'slavaukraini', 'istandwithrussia', 'stopwarinukraine'}\n",
      "l'utente 356 non  appartiene alla 4 categoria perchè usa {'slavaukraini', 'istandwithrussia', 'stopwarinukraine'}\n",
      "l'utente 357 non  appartiene alla 4 categoria perchè usa {'slavaukraini', 'istandwithrussia', 'stopwarinukraine'}\n",
      "l'utente 358 non  appartiene alla 4 categoria perchè usa {'slavaukraini', 'istandwithrussia', 'stopwarinukraine'}\n",
      "l'utente 359 non  appartiene alla 4 categoria perchè usa {'slavaukraini', 'istandwithrussia', 'stopwarinukraine'}\n",
      "l'utente 360 non  appartiene alla 4 categoria perchè usa {'slavaukraini', 'istandwithrussia', 'stopwarinukraine'}\n",
      "l'utente 361 non  appartiene alla 4 categoria perchè usa {'slavaukraini', 'istandwithrussia', 'stopwarinukraine'}\n",
      "l'utente 362 non  appartiene alla 4 categoria perchè usa {'slavaukraini', 'istandwithrussia', 'stopwarinukraine'}\n",
      "l'utente 363 non  appartiene alla 4 categoria perchè usa {'slavaukraini', 'istandwithrussia', 'stopwarinukraine'}\n",
      "l'utente 364 non  appartiene alla 4 categoria perchè usa {'slavaukraini', 'istandwithrussia', 'stopwarinukraine'}\n",
      "l'utente 365 non  appartiene alla 4 categoria perchè usa {'slavaukraini', 'istandwithrussia', 'stopwarinukraine'}\n",
      "l'utente 366 non  appartiene alla 4 categoria perchè usa {'slavaukraini', 'istandwithrussia', 'stopwarinukraine'}\n",
      "l'utente 367 non  appartiene alla 4 categoria perchè usa {'slavaukraini', 'istandwithrussia', 'stopwarinukraine'}\n",
      "l'utente 368 non  appartiene alla 4 categoria perchè usa {'slavaukraini', 'istandwithrussia', 'stopwarinukraine'}\n",
      "l'utente 369 non  appartiene alla 4 categoria perchè usa {'slavaukraini', 'istandwithrussia', 'stopwarinukraine'}\n",
      "l'utente 370 non  appartiene alla 4 categoria perchè usa {'slavaukraini', 'istandwithrussia', 'stopwarinukraine'}\n",
      "l'utente 371 non  appartiene alla 4 categoria perchè usa {'slavaukraini', 'istandwithrussia', 'stopwarinukraine'}\n",
      "l'utente 372 non  appartiene alla 4 categoria perchè usa {'slavaukraini', 'istandwithrussia', 'stopwarinukraine'}\n",
      "l'utente 373 non  appartiene alla 4 categoria perchè usa {'slavaukraini', 'istandwithrussia', 'stopwarinukraine'}\n",
      "l'utente 374 non  appartiene alla 4 categoria perchè usa {'slavaukraini', 'istandwithrussia', 'stopwarinukraine'}\n",
      "l'utente 375 non  appartiene alla 4 categoria perchè usa {'slavaukraini', 'istandwithrussia', 'stopwarinukraine'}\n",
      "l'utente 376 non  appartiene alla 4 categoria perchè usa {'slavaukraini', 'istandwithrussia', 'stopwarinukraine'}\n",
      "l'utente 377 non  appartiene alla 4 categoria perchè usa {'slavaukraini', 'istandwithrussia', 'stopwarinukraine'}\n",
      "l'utente 378 non  appartiene alla 4 categoria perchè usa {'slavaukraini', 'istandwithrussia', 'stopwarinukraine'}\n",
      "l'utente 379 non  appartiene alla 4 categoria perchè usa {'slavaukraini', 'istandwithrussia', 'stopwarinukraine'}\n",
      "l'utente 380 non  appartiene alla 4 categoria perchè usa {'slavaukraini', 'istandwithrussia', 'stopwarinukraine'}\n",
      "l'utente 381 non  appartiene alla 4 categoria perchè usa {'slavaukraini', 'istandwithrussia', 'stopwarinukraine'}\n",
      "l'utente 382 non  appartiene alla 4 categoria perchè usa {'slavaukraini', 'istandwithrussia', 'stopwarinukraine'}\n",
      "l'utente 383 non  appartiene alla 4 categoria perchè usa {'slavaukraini', 'istandwithrussia', 'stopwarinukraine'}\n",
      "l'utente 384 non  appartiene alla 4 categoria perchè usa {'slavaukraini', 'istandwithrussia', 'stopwarinukraine'}\n",
      "l'utente 385 non  appartiene alla 4 categoria perchè usa {'slavaukraini', 'istandwithrussia', 'stopwarinukraine'}\n",
      "l'utente 386 non  appartiene alla 4 categoria perchè usa {'slavaukraini', 'istandwithrussia', 'stopwarinukraine'}\n",
      "l'utente 387 non  appartiene alla 4 categoria perchè usa {'slavaukraini', 'istandwithrussia', 'stopwarinukraine'}\n",
      "l'utente 388 non  appartiene alla 4 categoria perchè usa {'slavaukraini', 'istandwithrussia', 'stopwarinukraine'}\n",
      "l'utente 389 non  appartiene alla 4 categoria perchè usa {'slavaukraini', 'istandwithrussia', 'stopwarinukraine'}\n",
      "l'utente 390 non  appartiene alla 4 categoria perchè usa {'slavaukraini', 'istandwithrussia', 'stopwarinukraine'}\n",
      "l'utente 391 non  appartiene alla 4 categoria perchè usa {'slavaukraini', 'istandwithrussia', 'stopwarinukraine'}\n",
      "l'utente 392 non  appartiene alla 4 categoria perchè usa {'slavaukraini', 'istandwithrussia', 'stopwarinukraine'}\n",
      "l'utente 393 non  appartiene alla 4 categoria perchè usa {'slavaukraini', 'istandwithrussia', 'stopwarinukraine'}\n",
      "l'utente 394 non  appartiene alla 4 categoria perchè usa {'slavaukraini', 'istandwithrussia', 'stopwarinukraine'}\n",
      "l'utente 395 non  appartiene alla 4 categoria perchè usa {'slavaukraini', 'istandwithrussia', 'stopwarinukraine'}\n",
      "l'utente 396 non  appartiene alla 4 categoria perchè usa {'slavaukraini', 'istandwithrussia', 'stopwarinukraine'}\n",
      "l'utente 397 non  appartiene alla 4 categoria perchè usa {'slavaukraini', 'istandwithrussia', 'stopwarinukraine'}\n",
      "l'utente 398 non  appartiene alla 4 categoria perchè usa {'slavaukraini', 'istandwithrussia', 'stopwarinukraine'}\n",
      "l'utente 399 non  appartiene alla 4 categoria perchè usa {'slavaukraini', 'istandwithrussia', 'stopwarinukraine'}\n",
      "l'utente 400 non  appartiene alla 4 categoria perchè usa {'slavaukraini', 'istandwithrussia', 'stopwarinukraine'}\n",
      "l'utente 401 non  appartiene alla 4 categoria perchè usa {'slavaukraini', 'istandwithrussia', 'stopwarinukraine'}\n",
      "l'utente 402 non  appartiene alla 4 categoria perchè usa {'slavaukraini', 'istandwithrussia', 'stopwarinukraine'}\n",
      "l'utente 403 non  appartiene alla 4 categoria perchè usa {'slavaukraini', 'istandwithrussia', 'stopwarinukraine'}\n",
      "l'utente 404 non  appartiene alla 4 categoria perchè usa {'slavaukraini', 'istandwithrussia', 'stopwarinukraine'}\n",
      "l'utente 405 non  appartiene alla 4 categoria perchè usa {'slavaukraini', 'istandwithrussia', 'stopwarinukraine'}\n",
      "l'utente 406 non  appartiene alla 4 categoria perchè usa {'slavaukraini', 'istandwithrussia', 'stopwarinukraine'}\n",
      "l'utente 407 non  appartiene alla 4 categoria perchè usa {'slavaukraini', 'istandwithrussia', 'stopwarinukraine'}\n",
      "l'utente 408 non  appartiene alla 4 categoria perchè usa {'slavaukraini', 'istandwithrussia', 'stopwarinukraine'}\n",
      "l'utente 409 non  appartiene alla 4 categoria perchè usa {'slavaukraini', 'istandwithrussia', 'stopwarinukraine'}\n",
      "l'utente 410 non  appartiene alla 4 categoria perchè usa {'slavaukraini', 'istandwithrussia', 'stopwarinukraine'}\n",
      "l'utente 411 non  appartiene alla 4 categoria perchè usa {'slavaukraini', 'istandwithrussia', 'stopwarinukraine'}\n",
      "l'utente 412 non  appartiene alla 4 categoria perchè usa {'slavaukraini', 'istandwithrussia', 'stopwarinukraine'}\n",
      "l'utente 413 non  appartiene alla 4 categoria perchè usa {'slavaukraini', 'istandwithrussia', 'stopwarinukraine'}\n",
      "l'utente 414 non  appartiene alla 4 categoria perchè usa {'slavaukraini', 'istandwithrussia', 'stopwarinukraine'}\n",
      "l'utente 415 non  appartiene alla 4 categoria perchè usa {'slavaukraini', 'istandwithrussia', 'stopwarinukraine'}\n",
      "l'utente 416 non  appartiene alla 4 categoria perchè usa {'slavaukraini', 'istandwithrussia', 'stopwarinukraine'}\n",
      "l'utente 417 non  appartiene alla 4 categoria perchè usa {'slavaukraini', 'istandwithrussia', 'stopwarinukraine'}\n",
      "l'utente 418 non  appartiene alla 4 categoria perchè usa {'slavaukraini', 'istandwithrussia', 'stopwarinukraine'}\n"
     ]
    }
   ],
   "source": [
    "proukr=set([\"slavaukraini\"]) #1 cat\n",
    "prorus=set([\"istandwithputin\", \"istandwithrussia\"]) #2 cat\n",
    "pax=set([\"stopwarinukraine\"]) #3 cat\n",
    "cat=set.union(proukr,prorus,pax)\n",
    "count1=0\n",
    "#count2=0\n",
    "#count3=0\n",
    "count4=0\n",
    "index1=[]\n",
    "#index2=[]\n",
    "#index3=[]\n",
    "index4=[]\n",
    "\n",
    "for i, row in enumerate(df_IDK1['hashtag']): \n",
    "    if row.intersection(cat)==set():#no intersezione   \n",
    "        #print(row.intersectionn(cat))\n",
    "        #print(\"l'utente {}  appartiene alla 4 categoria\".format(row.intersection(cat)))\n",
    "        #print(\"4 categoria\", row)\n",
    "        count4 += 1\n",
    "        index4.append(i)\n",
    "        \n",
    "    else: #c'è intersezione: uno della 3 categorie\n",
    "        #print(\"non è la 4 categoria perchè contiene\",row.intersection(cat))\n",
    "       # if row.intersection(proukr)!=set(): #c'è intersez con proukr\n",
    "           # count1 += 1\n",
    "            index1.append(i) #aggiungo alle rige da tgliere\n",
    "            print(\"l'utente {} non  appartiene alla 4 categoria perchè usa {}\".format(i,row.intersection(cat)))\n",
    "       # elif row.intersection(prorus)!=set():\n",
    "          #  count2 += 1\n",
    "           # index2.append(i)\n",
    "        #elif row.intersection(pax)!=set():\n",
    "           # count3 += 1\n",
    "           #index3.append(i)"
   ]
  },
  {
   "cell_type": "code",
   "execution_count": 29,
   "id": "a314a189",
   "metadata": {},
   "outputs": [
    {
     "name": "stdout",
     "output_type": "stream",
     "text": [
      "proukr = 391 \n",
      "prourus = 0 \n",
      "pax = 0 \n",
      "nocare = 28 \n"
     ]
    }
   ],
   "source": [
    "print('proukr = {} \\n'\n",
    "     'prourus = {} \\n'\n",
    "     'pax = {} \\n'\n",
    "     'nocare = {} '.format(count1,count2,count3,count4))"
   ]
  },
  {
   "cell_type": "markdown",
   "id": "ee7704f6",
   "metadata": {},
   "source": [
    "## 3 parte categorizzazione tweet e utenti di proukr, prorus, pax"
   ]
  },
  {
   "cell_type": "markdown",
   "id": "4b9d4124",
   "metadata": {},
   "source": [
    "## 4 parte: edge tra utenti nel dataset"
   ]
  },
  {
   "cell_type": "code",
   "execution_count": 67,
   "id": "e9cb58fc",
   "metadata": {},
   "outputs": [
    {
     "data": {
      "text/plain": [
       "0     {1498176452084256772, 1219232377605644289, 135...\n",
       "1     {1359617172033724416, 14106476, 14981764520842...\n",
       "2     {1521787270260719616, 923231030160400384, 1359...\n",
       "3     {1521787270260719616, 923231030160400384, 1359...\n",
       "4     {1521787270260719616, 923231030160400384, 1359...\n",
       "                            ...                        \n",
       "73    {720139699, 14106476, 1458038317619073044, 316...\n",
       "74    {720139699, 14106476, 1458038317619073044, 316...\n",
       "75    {720139699, 14106476, 1458038317619073044, 316...\n",
       "76    {720139699, 14106476, 1458038317619073044, 316...\n",
       "77    {720139699, 14106476, 1458038317619073044, 316...\n",
       "Name: retweet, Length: 78, dtype: object"
      ]
     },
     "execution_count": 67,
     "metadata": {},
     "output_type": "execute_result"
    }
   ],
   "source": [
    "df_IDK1['retweet']"
   ]
  },
  {
   "cell_type": "code",
   "execution_count": null,
   "id": "6fa3365a",
   "metadata": {},
   "outputs": [],
   "source": []
  }
 ],
 "metadata": {
  "kernelspec": {
   "display_name": "Python 3 (ipykernel)",
   "language": "python",
   "name": "python3"
  },
  "language_info": {
   "codemirror_mode": {
    "name": "ipython",
    "version": 3
   },
   "file_extension": ".py",
   "mimetype": "text/x-python",
   "name": "python",
   "nbconvert_exporter": "python",
   "pygments_lexer": "ipython3",
   "version": "3.10.5"
  }
 },
 "nbformat": 4,
 "nbformat_minor": 5
}
