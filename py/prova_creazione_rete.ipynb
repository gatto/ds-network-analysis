{
 "cells": [
  {
   "cell_type": "code",
   "execution_count": 1,
   "id": "c32c2469",
   "metadata": {},
   "outputs": [
    {
     "name": "stderr",
     "output_type": "stream",
     "text": [
      "C:\\Users\\david\\AppData\\Local\\Programs\\Python\\Python310\\lib\\site-packages\\tqdm\\auto.py:22: TqdmWarning: IProgress not found. Please update jupyter and ipywidgets. See https://ipywidgets.readthedocs.io/en/stable/user_install.html\n",
      "  from .autonotebook import tqdm as notebook_tqdm\n"
     ]
    }
   ],
   "source": [
    "from extract import SocialETL, Count, UserETL\n",
    "import hashtags as h\n",
    "import pandas as pd\n",
    "import warnings \n",
    "warnings.filterwarnings('always')   #suppresses all warnings\n",
    "warnings.filterwarnings('ignore')"
   ]
  },
  {
   "cell_type": "markdown",
   "id": "fcb62e4a",
   "metadata": {},
   "source": [
    "## 1 parte: categorizzazione hashtags per prorus, proukr, pax"
   ]
  },
  {
   "cell_type": "raw",
   "id": "b2d80831",
   "metadata": {},
   "source": [
    "incollare lavoro Fabio "
   ]
  },
  {
   "cell_type": "markdown",
   "id": "6c8ada0f",
   "metadata": {},
   "source": [
    "## 2 parte: scaricare df e distinzione 4 cat (no care) dalle altre"
   ]
  },
  {
   "cell_type": "code",
   "execution_count": 2,
   "id": "46ecb5ed",
   "metadata": {},
   "outputs": [
    {
     "data": {
      "text/html": [
       "<pre style=\"white-space:pre;overflow-x:auto;line-height:normal;font-family:Menlo,'DejaVu Sans Mono',consolas,'Courier New',monospace\">Reading secret from C:\\Users\\david\\Documents\\GitHub\\ds-network-analysis\\data\\my_secrets.yaml…\n",
       "</pre>\n"
      ],
      "text/plain": [
       "Reading secret from C:\\Users\\david\\Documents\\GitHub\\ds-network-analysis\\data\\my_secrets.yaml…\n"
      ]
     },
     "metadata": {},
     "output_type": "display_data"
    },
    {
     "data": {
      "text/html": [
       "<pre style=\"white-space:pre;overflow-x:auto;line-height:normal;font-family:Menlo,'DejaVu Sans Mono',consolas,'Courier New',monospace\"></pre>\n"
      ],
      "text/plain": []
     },
     "metadata": {},
     "output_type": "display_data"
    },
    {
     "data": {
      "text/html": [
       "<pre style=\"white-space:pre;overflow-x:auto;line-height:normal;font-family:Menlo,'DejaVu Sans Mono',consolas,'Courier New',monospace\">\n",
       "</pre>\n"
      ],
      "text/plain": [
       "\n"
      ]
     },
     "metadata": {},
     "output_type": "display_data"
    }
   ],
   "source": [
    "#scarcare df#24-02 al 24-03\n",
    "m = SocialETL(query=\"(#eurovision OR #covid OR #pridemonth OR #grammys OR #justiceforjohnnydepp OR #oscars OR #elonmusk OR #putin OR #russia OR #ukraine OR #war)  lang:en\", pages=1, recent=False)#strangerthings4 OR onepiece"
   ]
  },
  {
   "cell_type": "code",
   "execution_count": 3,
   "id": "f65762b5",
   "metadata": {},
   "outputs": [
    {
     "data": {
      "text/html": [
       "<div>\n",
       "<style scoped>\n",
       "    .dataframe tbody tr th:only-of-type {\n",
       "        vertical-align: middle;\n",
       "    }\n",
       "\n",
       "    .dataframe tbody tr th {\n",
       "        vertical-align: top;\n",
       "    }\n",
       "\n",
       "    .dataframe thead th {\n",
       "        text-align: right;\n",
       "    }\n",
       "</style>\n",
       "<table border=\"1\" class=\"dataframe\">\n",
       "  <thead>\n",
       "    <tr style=\"text-align: right;\">\n",
       "      <th></th>\n",
       "      <th>id</th>\n",
       "      <th>conversation_id</th>\n",
       "      <th>referenced_tweets.replied_to.id</th>\n",
       "      <th>referenced_tweets.retweeted.id</th>\n",
       "      <th>referenced_tweets.quoted.id</th>\n",
       "      <th>author_id</th>\n",
       "      <th>in_reply_to_user_id</th>\n",
       "      <th>retweeted_user_id</th>\n",
       "      <th>quoted_user_id</th>\n",
       "      <th>created_at</th>\n",
       "      <th>...</th>\n",
       "      <th>geo.geo.bbox</th>\n",
       "      <th>geo.geo.type</th>\n",
       "      <th>geo.id</th>\n",
       "      <th>geo.name</th>\n",
       "      <th>geo.place_id</th>\n",
       "      <th>geo.place_type</th>\n",
       "      <th>__twarc.retrieved_at</th>\n",
       "      <th>__twarc.url</th>\n",
       "      <th>__twarc.version</th>\n",
       "      <th></th>\n",
       "    </tr>\n",
       "  </thead>\n",
       "  <tbody>\n",
       "    <tr>\n",
       "      <th>0</th>\n",
       "      <td>1545404597023432704</td>\n",
       "      <td>1545404597023432704</td>\n",
       "      <td>NaN</td>\n",
       "      <td>1545369454330126336</td>\n",
       "      <td>NaN</td>\n",
       "      <td>1357718765941710848</td>\n",
       "      <td>NaN</td>\n",
       "      <td>1219232377605644289</td>\n",
       "      <td>NaN</td>\n",
       "      <td>2022-07-08T13:49:02.000Z</td>\n",
       "      <td>...</td>\n",
       "      <td>NaN</td>\n",
       "      <td>NaN</td>\n",
       "      <td>NaN</td>\n",
       "      <td>NaN</td>\n",
       "      <td>NaN</td>\n",
       "      <td>NaN</td>\n",
       "      <td>2022-07-08T13:49:15+00:00</td>\n",
       "      <td>https://api.twitter.com/2/tweets/search/all?ex...</td>\n",
       "      <td>2.11.0</td>\n",
       "      <td>NaN</td>\n",
       "    </tr>\n",
       "    <tr>\n",
       "      <th>1</th>\n",
       "      <td>1545404594611707908</td>\n",
       "      <td>1545404594611707908</td>\n",
       "      <td>NaN</td>\n",
       "      <td>1545404572780400640</td>\n",
       "      <td>NaN</td>\n",
       "      <td>1151202637582348294</td>\n",
       "      <td>NaN</td>\n",
       "      <td>251637411</td>\n",
       "      <td>NaN</td>\n",
       "      <td>2022-07-08T13:49:02.000Z</td>\n",
       "      <td>...</td>\n",
       "      <td>NaN</td>\n",
       "      <td>NaN</td>\n",
       "      <td>NaN</td>\n",
       "      <td>NaN</td>\n",
       "      <td>NaN</td>\n",
       "      <td>NaN</td>\n",
       "      <td>2022-07-08T13:49:15+00:00</td>\n",
       "      <td>https://api.twitter.com/2/tweets/search/all?ex...</td>\n",
       "      <td>2.11.0</td>\n",
       "      <td>NaN</td>\n",
       "    </tr>\n",
       "    <tr>\n",
       "      <th>2</th>\n",
       "      <td>1545404588366278657</td>\n",
       "      <td>1545404588366278657</td>\n",
       "      <td>NaN</td>\n",
       "      <td>1545369454330126336</td>\n",
       "      <td>NaN</td>\n",
       "      <td>1466835011454189571</td>\n",
       "      <td>NaN</td>\n",
       "      <td>1219232377605644289</td>\n",
       "      <td>NaN</td>\n",
       "      <td>2022-07-08T13:49:00.000Z</td>\n",
       "      <td>...</td>\n",
       "      <td>NaN</td>\n",
       "      <td>NaN</td>\n",
       "      <td>NaN</td>\n",
       "      <td>NaN</td>\n",
       "      <td>NaN</td>\n",
       "      <td>NaN</td>\n",
       "      <td>2022-07-08T13:49:15+00:00</td>\n",
       "      <td>https://api.twitter.com/2/tweets/search/all?ex...</td>\n",
       "      <td>2.11.0</td>\n",
       "      <td>NaN</td>\n",
       "    </tr>\n",
       "    <tr>\n",
       "      <th>3</th>\n",
       "      <td>1545404588223877123</td>\n",
       "      <td>1545404588223877123</td>\n",
       "      <td>NaN</td>\n",
       "      <td>1539792654820552704</td>\n",
       "      <td>NaN</td>\n",
       "      <td>4813333392</td>\n",
       "      <td>NaN</td>\n",
       "      <td>81386285</td>\n",
       "      <td>NaN</td>\n",
       "      <td>2022-07-08T13:49:00.000Z</td>\n",
       "      <td>...</td>\n",
       "      <td>NaN</td>\n",
       "      <td>NaN</td>\n",
       "      <td>NaN</td>\n",
       "      <td>NaN</td>\n",
       "      <td>NaN</td>\n",
       "      <td>NaN</td>\n",
       "      <td>2022-07-08T13:49:15+00:00</td>\n",
       "      <td>https://api.twitter.com/2/tweets/search/all?ex...</td>\n",
       "      <td>2.11.0</td>\n",
       "      <td>NaN</td>\n",
       "    </tr>\n",
       "    <tr>\n",
       "      <th>4</th>\n",
       "      <td>1545404587695382529</td>\n",
       "      <td>1545404587695382529</td>\n",
       "      <td>NaN</td>\n",
       "      <td>1545385132751814666</td>\n",
       "      <td>NaN</td>\n",
       "      <td>2471461255</td>\n",
       "      <td>NaN</td>\n",
       "      <td>121514648</td>\n",
       "      <td>NaN</td>\n",
       "      <td>2022-07-08T13:49:00.000Z</td>\n",
       "      <td>...</td>\n",
       "      <td>NaN</td>\n",
       "      <td>NaN</td>\n",
       "      <td>NaN</td>\n",
       "      <td>NaN</td>\n",
       "      <td>NaN</td>\n",
       "      <td>NaN</td>\n",
       "      <td>2022-07-08T13:49:15+00:00</td>\n",
       "      <td>https://api.twitter.com/2/tweets/search/all?ex...</td>\n",
       "      <td>2.11.0</td>\n",
       "      <td>NaN</td>\n",
       "    </tr>\n",
       "    <tr>\n",
       "      <th>...</th>\n",
       "      <td>...</td>\n",
       "      <td>...</td>\n",
       "      <td>...</td>\n",
       "      <td>...</td>\n",
       "      <td>...</td>\n",
       "      <td>...</td>\n",
       "      <td>...</td>\n",
       "      <td>...</td>\n",
       "      <td>...</td>\n",
       "      <td>...</td>\n",
       "      <td>...</td>\n",
       "      <td>...</td>\n",
       "      <td>...</td>\n",
       "      <td>...</td>\n",
       "      <td>...</td>\n",
       "      <td>...</td>\n",
       "      <td>...</td>\n",
       "      <td>...</td>\n",
       "      <td>...</td>\n",
       "      <td>...</td>\n",
       "      <td>...</td>\n",
       "    </tr>\n",
       "    <tr>\n",
       "      <th>95</th>\n",
       "      <td>1545404380148547585</td>\n",
       "      <td>1545404380148547585</td>\n",
       "      <td>NaN</td>\n",
       "      <td>1545334544437493760</td>\n",
       "      <td>NaN</td>\n",
       "      <td>1056303825995337730</td>\n",
       "      <td>NaN</td>\n",
       "      <td>1496161188077621251</td>\n",
       "      <td>NaN</td>\n",
       "      <td>2022-07-08T13:48:11.000Z</td>\n",
       "      <td>...</td>\n",
       "      <td>NaN</td>\n",
       "      <td>NaN</td>\n",
       "      <td>NaN</td>\n",
       "      <td>NaN</td>\n",
       "      <td>NaN</td>\n",
       "      <td>NaN</td>\n",
       "      <td>2022-07-08T13:49:15+00:00</td>\n",
       "      <td>https://api.twitter.com/2/tweets/search/all?ex...</td>\n",
       "      <td>2.11.0</td>\n",
       "      <td>NaN</td>\n",
       "    </tr>\n",
       "    <tr>\n",
       "      <th>96</th>\n",
       "      <td>1545404379825586179</td>\n",
       "      <td>1545404379825586179</td>\n",
       "      <td>NaN</td>\n",
       "      <td>NaN</td>\n",
       "      <td>NaN</td>\n",
       "      <td>1512362469389447180</td>\n",
       "      <td>NaN</td>\n",
       "      <td>NaN</td>\n",
       "      <td>NaN</td>\n",
       "      <td>2022-07-08T13:48:11.000Z</td>\n",
       "      <td>...</td>\n",
       "      <td>NaN</td>\n",
       "      <td>NaN</td>\n",
       "      <td>NaN</td>\n",
       "      <td>NaN</td>\n",
       "      <td>NaN</td>\n",
       "      <td>NaN</td>\n",
       "      <td>2022-07-08T13:49:15+00:00</td>\n",
       "      <td>https://api.twitter.com/2/tweets/search/all?ex...</td>\n",
       "      <td>2.11.0</td>\n",
       "      <td>NaN</td>\n",
       "    </tr>\n",
       "    <tr>\n",
       "      <th>97</th>\n",
       "      <td>1545404378131185669</td>\n",
       "      <td>1545404378131185669</td>\n",
       "      <td>NaN</td>\n",
       "      <td>1545387894952583169</td>\n",
       "      <td>NaN</td>\n",
       "      <td>3245630026</td>\n",
       "      <td>NaN</td>\n",
       "      <td>23372297</td>\n",
       "      <td>NaN</td>\n",
       "      <td>2022-07-08T13:48:10.000Z</td>\n",
       "      <td>...</td>\n",
       "      <td>NaN</td>\n",
       "      <td>NaN</td>\n",
       "      <td>NaN</td>\n",
       "      <td>NaN</td>\n",
       "      <td>NaN</td>\n",
       "      <td>NaN</td>\n",
       "      <td>2022-07-08T13:49:15+00:00</td>\n",
       "      <td>https://api.twitter.com/2/tweets/search/all?ex...</td>\n",
       "      <td>2.11.0</td>\n",
       "      <td>NaN</td>\n",
       "    </tr>\n",
       "    <tr>\n",
       "      <th>98</th>\n",
       "      <td>1545404377984270336</td>\n",
       "      <td>1545404377984270336</td>\n",
       "      <td>NaN</td>\n",
       "      <td>NaN</td>\n",
       "      <td>NaN</td>\n",
       "      <td>4186147403</td>\n",
       "      <td>NaN</td>\n",
       "      <td>NaN</td>\n",
       "      <td>NaN</td>\n",
       "      <td>2022-07-08T13:48:10.000Z</td>\n",
       "      <td>...</td>\n",
       "      <td>NaN</td>\n",
       "      <td>NaN</td>\n",
       "      <td>NaN</td>\n",
       "      <td>NaN</td>\n",
       "      <td>NaN</td>\n",
       "      <td>NaN</td>\n",
       "      <td>2022-07-08T13:49:15+00:00</td>\n",
       "      <td>https://api.twitter.com/2/tweets/search/all?ex...</td>\n",
       "      <td>2.11.0</td>\n",
       "      <td>NaN</td>\n",
       "    </tr>\n",
       "    <tr>\n",
       "      <th>99</th>\n",
       "      <td>1545404376457650176</td>\n",
       "      <td>1545404376457650176</td>\n",
       "      <td>NaN</td>\n",
       "      <td>1545404354185859072</td>\n",
       "      <td>NaN</td>\n",
       "      <td>1151202637582348294</td>\n",
       "      <td>NaN</td>\n",
       "      <td>1488140411080265736</td>\n",
       "      <td>NaN</td>\n",
       "      <td>2022-07-08T13:48:10.000Z</td>\n",
       "      <td>...</td>\n",
       "      <td>NaN</td>\n",
       "      <td>NaN</td>\n",
       "      <td>NaN</td>\n",
       "      <td>NaN</td>\n",
       "      <td>NaN</td>\n",
       "      <td>NaN</td>\n",
       "      <td>2022-07-08T13:49:15+00:00</td>\n",
       "      <td>https://api.twitter.com/2/tweets/search/all?ex...</td>\n",
       "      <td>2.11.0</td>\n",
       "      <td>NaN</td>\n",
       "    </tr>\n",
       "  </tbody>\n",
       "</table>\n",
       "<p>100 rows × 74 columns</p>\n",
       "</div>"
      ],
      "text/plain": [
       "                     id      conversation_id referenced_tweets.replied_to.id  \\\n",
       "0   1545404597023432704  1545404597023432704                             NaN   \n",
       "1   1545404594611707908  1545404594611707908                             NaN   \n",
       "2   1545404588366278657  1545404588366278657                             NaN   \n",
       "3   1545404588223877123  1545404588223877123                             NaN   \n",
       "4   1545404587695382529  1545404587695382529                             NaN   \n",
       "..                  ...                  ...                             ...   \n",
       "95  1545404380148547585  1545404380148547585                             NaN   \n",
       "96  1545404379825586179  1545404379825586179                             NaN   \n",
       "97  1545404378131185669  1545404378131185669                             NaN   \n",
       "98  1545404377984270336  1545404377984270336                             NaN   \n",
       "99  1545404376457650176  1545404376457650176                             NaN   \n",
       "\n",
       "   referenced_tweets.retweeted.id referenced_tweets.quoted.id  \\\n",
       "0             1545369454330126336                         NaN   \n",
       "1             1545404572780400640                         NaN   \n",
       "2             1545369454330126336                         NaN   \n",
       "3             1539792654820552704                         NaN   \n",
       "4             1545385132751814666                         NaN   \n",
       "..                            ...                         ...   \n",
       "95            1545334544437493760                         NaN   \n",
       "96                            NaN                         NaN   \n",
       "97            1545387894952583169                         NaN   \n",
       "98                            NaN                         NaN   \n",
       "99            1545404354185859072                         NaN   \n",
       "\n",
       "              author_id in_reply_to_user_id    retweeted_user_id  \\\n",
       "0   1357718765941710848                 NaN  1219232377605644289   \n",
       "1   1151202637582348294                 NaN            251637411   \n",
       "2   1466835011454189571                 NaN  1219232377605644289   \n",
       "3            4813333392                 NaN             81386285   \n",
       "4            2471461255                 NaN            121514648   \n",
       "..                  ...                 ...                  ...   \n",
       "95  1056303825995337730                 NaN  1496161188077621251   \n",
       "96  1512362469389447180                 NaN                  NaN   \n",
       "97           3245630026                 NaN             23372297   \n",
       "98           4186147403                 NaN                  NaN   \n",
       "99  1151202637582348294                 NaN  1488140411080265736   \n",
       "\n",
       "   quoted_user_id                created_at  ... geo.geo.bbox geo.geo.type  \\\n",
       "0             NaN  2022-07-08T13:49:02.000Z  ...          NaN          NaN   \n",
       "1             NaN  2022-07-08T13:49:02.000Z  ...          NaN          NaN   \n",
       "2             NaN  2022-07-08T13:49:00.000Z  ...          NaN          NaN   \n",
       "3             NaN  2022-07-08T13:49:00.000Z  ...          NaN          NaN   \n",
       "4             NaN  2022-07-08T13:49:00.000Z  ...          NaN          NaN   \n",
       "..            ...                       ...  ...          ...          ...   \n",
       "95            NaN  2022-07-08T13:48:11.000Z  ...          NaN          NaN   \n",
       "96            NaN  2022-07-08T13:48:11.000Z  ...          NaN          NaN   \n",
       "97            NaN  2022-07-08T13:48:10.000Z  ...          NaN          NaN   \n",
       "98            NaN  2022-07-08T13:48:10.000Z  ...          NaN          NaN   \n",
       "99            NaN  2022-07-08T13:48:10.000Z  ...          NaN          NaN   \n",
       "\n",
       "   geo.id  geo.name  geo.place_id  geo.place_type       __twarc.retrieved_at  \\\n",
       "0     NaN       NaN           NaN             NaN  2022-07-08T13:49:15+00:00   \n",
       "1     NaN       NaN           NaN             NaN  2022-07-08T13:49:15+00:00   \n",
       "2     NaN       NaN           NaN             NaN  2022-07-08T13:49:15+00:00   \n",
       "3     NaN       NaN           NaN             NaN  2022-07-08T13:49:15+00:00   \n",
       "4     NaN       NaN           NaN             NaN  2022-07-08T13:49:15+00:00   \n",
       "..    ...       ...           ...             ...                        ...   \n",
       "95    NaN       NaN           NaN             NaN  2022-07-08T13:49:15+00:00   \n",
       "96    NaN       NaN           NaN             NaN  2022-07-08T13:49:15+00:00   \n",
       "97    NaN       NaN           NaN             NaN  2022-07-08T13:49:15+00:00   \n",
       "98    NaN       NaN           NaN             NaN  2022-07-08T13:49:15+00:00   \n",
       "99    NaN       NaN           NaN             NaN  2022-07-08T13:49:15+00:00   \n",
       "\n",
       "                                          __twarc.url  __twarc.version      \n",
       "0   https://api.twitter.com/2/tweets/search/all?ex...           2.11.0 NaN  \n",
       "1   https://api.twitter.com/2/tweets/search/all?ex...           2.11.0 NaN  \n",
       "2   https://api.twitter.com/2/tweets/search/all?ex...           2.11.0 NaN  \n",
       "3   https://api.twitter.com/2/tweets/search/all?ex...           2.11.0 NaN  \n",
       "4   https://api.twitter.com/2/tweets/search/all?ex...           2.11.0 NaN  \n",
       "..                                                ...              ...  ..  \n",
       "95  https://api.twitter.com/2/tweets/search/all?ex...           2.11.0 NaN  \n",
       "96  https://api.twitter.com/2/tweets/search/all?ex...           2.11.0 NaN  \n",
       "97  https://api.twitter.com/2/tweets/search/all?ex...           2.11.0 NaN  \n",
       "98  https://api.twitter.com/2/tweets/search/all?ex...           2.11.0 NaN  \n",
       "99  https://api.twitter.com/2/tweets/search/all?ex...           2.11.0 NaN  \n",
       "\n",
       "[100 rows x 74 columns]"
      ]
     },
     "execution_count": 3,
     "metadata": {},
     "output_type": "execute_result"
    }
   ],
   "source": [
    "m.df"
   ]
  },
  {
   "cell_type": "code",
   "execution_count": 4,
   "id": "b562e6e3",
   "metadata": {},
   "outputs": [
    {
     "name": "stdout",
     "output_type": "stream",
     "text": [
      "0     1357718765941710848\n",
      "1     1151202637582348294\n",
      "2     1466835011454189571\n",
      "3              4813333392\n",
      "4              2471461255\n",
      "             ...         \n",
      "95    1056303825995337730\n",
      "96    1512362469389447180\n",
      "97             3245630026\n",
      "98             4186147403\n",
      "99    1151202637582348294\n",
      "Name: author_id, Length: 100, dtype: object\n"
     ]
    }
   ],
   "source": [
    "user_id=m.df['author_id']\n",
    "\n",
    "print(user_id)"
   ]
  },
  {
   "cell_type": "code",
   "execution_count": 5,
   "id": "433bf8e4",
   "metadata": {
    "scrolled": true
   },
   "outputs": [
    {
     "data": {
      "text/html": [
       "<pre style=\"white-space:pre;overflow-x:auto;line-height:normal;font-family:Menlo,'DejaVu Sans Mono',consolas,'Courier New',monospace\">Reading secret from C:\\Users\\david\\Documents\\GitHub\\ds-network-analysis\\data\\my_secrets.yaml…\n",
       "</pre>\n"
      ],
      "text/plain": [
       "Reading secret from C:\\Users\\david\\Documents\\GitHub\\ds-network-analysis\\data\\my_secrets.yaml…\n"
      ]
     },
     "metadata": {},
     "output_type": "display_data"
    },
    {
     "data": {
      "text/html": [
       "<pre style=\"white-space:pre;overflow-x:auto;line-height:normal;font-family:Menlo,'DejaVu Sans Mono',consolas,'Courier New',monospace\"></pre>\n"
      ],
      "text/plain": []
     },
     "metadata": {},
     "output_type": "display_data"
    },
    {
     "data": {
      "text/html": [
       "<pre style=\"white-space:pre;overflow-x:auto;line-height:normal;font-family:Menlo,'DejaVu Sans Mono',consolas,'Courier New',monospace\">\n",
       "</pre>\n"
      ],
      "text/plain": [
       "\n"
      ]
     },
     "metadata": {},
     "output_type": "display_data"
    },
    {
     "data": {
      "text/html": [
       "<pre style=\"white-space:pre;overflow-x:auto;line-height:normal;font-family:Menlo,'DejaVu Sans Mono',consolas,'Courier New',monospace\">Reading secret from C:\\Users\\david\\Documents\\GitHub\\ds-network-analysis\\data\\my_secrets.yaml…\n",
       "</pre>\n"
      ],
      "text/plain": [
       "Reading secret from C:\\Users\\david\\Documents\\GitHub\\ds-network-analysis\\data\\my_secrets.yaml…\n"
      ]
     },
     "metadata": {},
     "output_type": "display_data"
    },
    {
     "data": {
      "text/html": [
       "<pre style=\"white-space:pre;overflow-x:auto;line-height:normal;font-family:Menlo,'DejaVu Sans Mono',consolas,'Courier New',monospace\"></pre>\n"
      ],
      "text/plain": []
     },
     "metadata": {},
     "output_type": "display_data"
    },
    {
     "data": {
      "text/html": [
       "<pre style=\"white-space:pre;overflow-x:auto;line-height:normal;font-family:Menlo,'DejaVu Sans Mono',consolas,'Courier New',monospace\">\n",
       "</pre>\n"
      ],
      "text/plain": [
       "\n"
      ]
     },
     "metadata": {},
     "output_type": "display_data"
    },
    {
     "data": {
      "text/html": [
       "<pre style=\"white-space:pre;overflow-x:auto;line-height:normal;font-family:Menlo,'DejaVu Sans Mono',consolas,'Courier New',monospace\">Reading secret from C:\\Users\\david\\Documents\\GitHub\\ds-network-analysis\\data\\my_secrets.yaml…\n",
       "</pre>\n"
      ],
      "text/plain": [
       "Reading secret from C:\\Users\\david\\Documents\\GitHub\\ds-network-analysis\\data\\my_secrets.yaml…\n"
      ]
     },
     "metadata": {},
     "output_type": "display_data"
    },
    {
     "data": {
      "text/html": [
       "<pre style=\"white-space:pre;overflow-x:auto;line-height:normal;font-family:Menlo,'DejaVu Sans Mono',consolas,'Courier New',monospace\"></pre>\n"
      ],
      "text/plain": []
     },
     "metadata": {},
     "output_type": "display_data"
    },
    {
     "data": {
      "text/html": [
       "<pre style=\"white-space:pre;overflow-x:auto;line-height:normal;font-family:Menlo,'DejaVu Sans Mono',consolas,'Courier New',monospace\">\n",
       "</pre>\n"
      ],
      "text/plain": [
       "\n"
      ]
     },
     "metadata": {},
     "output_type": "display_data"
    },
    {
     "data": {
      "text/html": [
       "<pre style=\"white-space:pre;overflow-x:auto;line-height:normal;font-family:Menlo,'DejaVu Sans Mono',consolas,'Courier New',monospace\">Reading secret from C:\\Users\\david\\Documents\\GitHub\\ds-network-analysis\\data\\my_secrets.yaml…\n",
       "</pre>\n"
      ],
      "text/plain": [
       "Reading secret from C:\\Users\\david\\Documents\\GitHub\\ds-network-analysis\\data\\my_secrets.yaml…\n"
      ]
     },
     "metadata": {},
     "output_type": "display_data"
    },
    {
     "data": {
      "text/html": [
       "<pre style=\"white-space:pre;overflow-x:auto;line-height:normal;font-family:Menlo,'DejaVu Sans Mono',consolas,'Courier New',monospace\"></pre>\n"
      ],
      "text/plain": []
     },
     "metadata": {},
     "output_type": "display_data"
    },
    {
     "data": {
      "text/html": [
       "<pre style=\"white-space:pre;overflow-x:auto;line-height:normal;font-family:Menlo,'DejaVu Sans Mono',consolas,'Courier New',monospace\">\n",
       "</pre>\n"
      ],
      "text/plain": [
       "\n"
      ]
     },
     "metadata": {},
     "output_type": "display_data"
    },
    {
     "data": {
      "text/html": [
       "<pre style=\"white-space:pre;overflow-x:auto;line-height:normal;font-family:Menlo,'DejaVu Sans Mono',consolas,'Courier New',monospace\">Reading secret from C:\\Users\\david\\Documents\\GitHub\\ds-network-analysis\\data\\my_secrets.yaml…\n",
       "</pre>\n"
      ],
      "text/plain": [
       "Reading secret from C:\\Users\\david\\Documents\\GitHub\\ds-network-analysis\\data\\my_secrets.yaml…\n"
      ]
     },
     "metadata": {},
     "output_type": "display_data"
    },
    {
     "data": {
      "text/html": [
       "<pre style=\"white-space:pre;overflow-x:auto;line-height:normal;font-family:Menlo,'DejaVu Sans Mono',consolas,'Courier New',monospace\"></pre>\n"
      ],
      "text/plain": []
     },
     "metadata": {},
     "output_type": "display_data"
    },
    {
     "data": {
      "text/html": [
       "<pre style=\"white-space:pre;overflow-x:auto;line-height:normal;font-family:Menlo,'DejaVu Sans Mono',consolas,'Courier New',monospace\">\n",
       "</pre>\n"
      ],
      "text/plain": [
       "\n"
      ]
     },
     "metadata": {},
     "output_type": "display_data"
    },
    {
     "data": {
      "text/html": [
       "<pre style=\"white-space:pre;overflow-x:auto;line-height:normal;font-family:Menlo,'DejaVu Sans Mono',consolas,'Courier New',monospace\">Reading secret from C:\\Users\\david\\Documents\\GitHub\\ds-network-analysis\\data\\my_secrets.yaml…\n",
       "</pre>\n"
      ],
      "text/plain": [
       "Reading secret from C:\\Users\\david\\Documents\\GitHub\\ds-network-analysis\\data\\my_secrets.yaml…\n"
      ]
     },
     "metadata": {},
     "output_type": "display_data"
    },
    {
     "data": {
      "text/html": [
       "<pre style=\"white-space:pre;overflow-x:auto;line-height:normal;font-family:Menlo,'DejaVu Sans Mono',consolas,'Courier New',monospace\"></pre>\n"
      ],
      "text/plain": []
     },
     "metadata": {},
     "output_type": "display_data"
    },
    {
     "data": {
      "text/html": [
       "<pre style=\"white-space:pre;overflow-x:auto;line-height:normal;font-family:Menlo,'DejaVu Sans Mono',consolas,'Courier New',monospace\">\n",
       "</pre>\n"
      ],
      "text/plain": [
       "\n"
      ]
     },
     "metadata": {},
     "output_type": "display_data"
    },
    {
     "data": {
      "text/html": [
       "<pre style=\"white-space:pre;overflow-x:auto;line-height:normal;font-family:Menlo,'DejaVu Sans Mono',consolas,'Courier New',monospace\">Reading secret from C:\\Users\\david\\Documents\\GitHub\\ds-network-analysis\\data\\my_secrets.yaml…\n",
       "</pre>\n"
      ],
      "text/plain": [
       "Reading secret from C:\\Users\\david\\Documents\\GitHub\\ds-network-analysis\\data\\my_secrets.yaml…\n"
      ]
     },
     "metadata": {},
     "output_type": "display_data"
    },
    {
     "data": {
      "text/html": [
       "<pre style=\"white-space:pre;overflow-x:auto;line-height:normal;font-family:Menlo,'DejaVu Sans Mono',consolas,'Courier New',monospace\"></pre>\n"
      ],
      "text/plain": []
     },
     "metadata": {},
     "output_type": "display_data"
    },
    {
     "data": {
      "text/html": [
       "<pre style=\"white-space:pre;overflow-x:auto;line-height:normal;font-family:Menlo,'DejaVu Sans Mono',consolas,'Courier New',monospace\">\n",
       "</pre>\n"
      ],
      "text/plain": [
       "\n"
      ]
     },
     "metadata": {},
     "output_type": "display_data"
    },
    {
     "data": {
      "text/html": [
       "<pre style=\"white-space:pre;overflow-x:auto;line-height:normal;font-family:Menlo,'DejaVu Sans Mono',consolas,'Courier New',monospace\">Reading secret from C:\\Users\\david\\Documents\\GitHub\\ds-network-analysis\\data\\my_secrets.yaml…\n",
       "</pre>\n"
      ],
      "text/plain": [
       "Reading secret from C:\\Users\\david\\Documents\\GitHub\\ds-network-analysis\\data\\my_secrets.yaml…\n"
      ]
     },
     "metadata": {},
     "output_type": "display_data"
    },
    {
     "data": {
      "text/html": [
       "<pre style=\"white-space:pre;overflow-x:auto;line-height:normal;font-family:Menlo,'DejaVu Sans Mono',consolas,'Courier New',monospace\"></pre>\n"
      ],
      "text/plain": []
     },
     "metadata": {},
     "output_type": "display_data"
    },
    {
     "data": {
      "text/html": [
       "<pre style=\"white-space:pre;overflow-x:auto;line-height:normal;font-family:Menlo,'DejaVu Sans Mono',consolas,'Courier New',monospace\">\n",
       "</pre>\n"
      ],
      "text/plain": [
       "\n"
      ]
     },
     "metadata": {},
     "output_type": "display_data"
    },
    {
     "data": {
      "text/html": [
       "<pre style=\"white-space:pre;overflow-x:auto;line-height:normal;font-family:Menlo,'DejaVu Sans Mono',consolas,'Courier New',monospace\">Reading secret from C:\\Users\\david\\Documents\\GitHub\\ds-network-analysis\\data\\my_secrets.yaml…\n",
       "</pre>\n"
      ],
      "text/plain": [
       "Reading secret from C:\\Users\\david\\Documents\\GitHub\\ds-network-analysis\\data\\my_secrets.yaml…\n"
      ]
     },
     "metadata": {},
     "output_type": "display_data"
    },
    {
     "data": {
      "text/html": [
       "<pre style=\"white-space:pre;overflow-x:auto;line-height:normal;font-family:Menlo,'DejaVu Sans Mono',consolas,'Courier New',monospace\"></pre>\n"
      ],
      "text/plain": []
     },
     "metadata": {},
     "output_type": "display_data"
    },
    {
     "data": {
      "text/html": [
       "<pre style=\"white-space:pre;overflow-x:auto;line-height:normal;font-family:Menlo,'DejaVu Sans Mono',consolas,'Courier New',monospace\">\n",
       "</pre>\n"
      ],
      "text/plain": [
       "\n"
      ]
     },
     "metadata": {},
     "output_type": "display_data"
    },
    {
     "data": {
      "text/html": [
       "<pre style=\"white-space:pre;overflow-x:auto;line-height:normal;font-family:Menlo,'DejaVu Sans Mono',consolas,'Courier New',monospace\">Reading secret from C:\\Users\\david\\Documents\\GitHub\\ds-network-analysis\\data\\my_secrets.yaml…\n",
       "</pre>\n"
      ],
      "text/plain": [
       "Reading secret from C:\\Users\\david\\Documents\\GitHub\\ds-network-analysis\\data\\my_secrets.yaml…\n"
      ]
     },
     "metadata": {},
     "output_type": "display_data"
    },
    {
     "data": {
      "text/html": [
       "<pre style=\"white-space:pre;overflow-x:auto;line-height:normal;font-family:Menlo,'DejaVu Sans Mono',consolas,'Courier New',monospace\"></pre>\n"
      ],
      "text/plain": []
     },
     "metadata": {},
     "output_type": "display_data"
    },
    {
     "data": {
      "text/html": [
       "<pre style=\"white-space:pre;overflow-x:auto;line-height:normal;font-family:Menlo,'DejaVu Sans Mono',consolas,'Courier New',monospace\">\n",
       "</pre>\n"
      ],
      "text/plain": [
       "\n"
      ]
     },
     "metadata": {},
     "output_type": "display_data"
    },
    {
     "data": {
      "text/html": [
       "<pre style=\"white-space:pre;overflow-x:auto;line-height:normal;font-family:Menlo,'DejaVu Sans Mono',consolas,'Courier New',monospace\">Reading secret from C:\\Users\\david\\Documents\\GitHub\\ds-network-analysis\\data\\my_secrets.yaml…\n",
       "</pre>\n"
      ],
      "text/plain": [
       "Reading secret from C:\\Users\\david\\Documents\\GitHub\\ds-network-analysis\\data\\my_secrets.yaml…\n"
      ]
     },
     "metadata": {},
     "output_type": "display_data"
    },
    {
     "data": {
      "text/html": [
       "<pre style=\"white-space:pre;overflow-x:auto;line-height:normal;font-family:Menlo,'DejaVu Sans Mono',consolas,'Courier New',monospace\"></pre>\n"
      ],
      "text/plain": []
     },
     "metadata": {},
     "output_type": "display_data"
    },
    {
     "data": {
      "text/html": [
       "<pre style=\"white-space:pre;overflow-x:auto;line-height:normal;font-family:Menlo,'DejaVu Sans Mono',consolas,'Courier New',monospace\">\n",
       "</pre>\n"
      ],
      "text/plain": [
       "\n"
      ]
     },
     "metadata": {},
     "output_type": "display_data"
    },
    {
     "data": {
      "text/html": [
       "<pre style=\"white-space:pre;overflow-x:auto;line-height:normal;font-family:Menlo,'DejaVu Sans Mono',consolas,'Courier New',monospace\">Reading secret from C:\\Users\\david\\Documents\\GitHub\\ds-network-analysis\\data\\my_secrets.yaml…\n",
       "</pre>\n"
      ],
      "text/plain": [
       "Reading secret from C:\\Users\\david\\Documents\\GitHub\\ds-network-analysis\\data\\my_secrets.yaml…\n"
      ]
     },
     "metadata": {},
     "output_type": "display_data"
    },
    {
     "data": {
      "text/html": [
       "<pre style=\"white-space:pre;overflow-x:auto;line-height:normal;font-family:Menlo,'DejaVu Sans Mono',consolas,'Courier New',monospace\"></pre>\n"
      ],
      "text/plain": []
     },
     "metadata": {},
     "output_type": "display_data"
    },
    {
     "data": {
      "text/html": [
       "<pre style=\"white-space:pre;overflow-x:auto;line-height:normal;font-family:Menlo,'DejaVu Sans Mono',consolas,'Courier New',monospace\">\n",
       "</pre>\n"
      ],
      "text/plain": [
       "\n"
      ]
     },
     "metadata": {},
     "output_type": "display_data"
    },
    {
     "data": {
      "text/html": [
       "<pre style=\"white-space:pre;overflow-x:auto;line-height:normal;font-family:Menlo,'DejaVu Sans Mono',consolas,'Courier New',monospace\">Reading secret from C:\\Users\\david\\Documents\\GitHub\\ds-network-analysis\\data\\my_secrets.yaml…\n",
       "</pre>\n"
      ],
      "text/plain": [
       "Reading secret from C:\\Users\\david\\Documents\\GitHub\\ds-network-analysis\\data\\my_secrets.yaml…\n"
      ]
     },
     "metadata": {},
     "output_type": "display_data"
    },
    {
     "data": {
      "text/html": [
       "<pre style=\"white-space:pre;overflow-x:auto;line-height:normal;font-family:Menlo,'DejaVu Sans Mono',consolas,'Courier New',monospace\"></pre>\n"
      ],
      "text/plain": []
     },
     "metadata": {},
     "output_type": "display_data"
    },
    {
     "data": {
      "text/html": [
       "<pre style=\"white-space:pre;overflow-x:auto;line-height:normal;font-family:Menlo,'DejaVu Sans Mono',consolas,'Courier New',monospace\">\n",
       "</pre>\n"
      ],
      "text/plain": [
       "\n"
      ]
     },
     "metadata": {},
     "output_type": "display_data"
    },
    {
     "data": {
      "text/html": [
       "<pre style=\"white-space:pre;overflow-x:auto;line-height:normal;font-family:Menlo,'DejaVu Sans Mono',consolas,'Courier New',monospace\">Reading secret from C:\\Users\\david\\Documents\\GitHub\\ds-network-analysis\\data\\my_secrets.yaml…\n",
       "</pre>\n"
      ],
      "text/plain": [
       "Reading secret from C:\\Users\\david\\Documents\\GitHub\\ds-network-analysis\\data\\my_secrets.yaml…\n"
      ]
     },
     "metadata": {},
     "output_type": "display_data"
    },
    {
     "data": {
      "text/html": [
       "<pre style=\"white-space:pre;overflow-x:auto;line-height:normal;font-family:Menlo,'DejaVu Sans Mono',consolas,'Courier New',monospace\"></pre>\n"
      ],
      "text/plain": []
     },
     "metadata": {},
     "output_type": "display_data"
    },
    {
     "data": {
      "text/html": [
       "<pre style=\"white-space:pre;overflow-x:auto;line-height:normal;font-family:Menlo,'DejaVu Sans Mono',consolas,'Courier New',monospace\">\n",
       "</pre>\n"
      ],
      "text/plain": [
       "\n"
      ]
     },
     "metadata": {},
     "output_type": "display_data"
    },
    {
     "data": {
      "text/html": [
       "<pre style=\"white-space:pre;overflow-x:auto;line-height:normal;font-family:Menlo,'DejaVu Sans Mono',consolas,'Courier New',monospace\">Reading secret from C:\\Users\\david\\Documents\\GitHub\\ds-network-analysis\\data\\my_secrets.yaml…\n",
       "</pre>\n"
      ],
      "text/plain": [
       "Reading secret from C:\\Users\\david\\Documents\\GitHub\\ds-network-analysis\\data\\my_secrets.yaml…\n"
      ]
     },
     "metadata": {},
     "output_type": "display_data"
    },
    {
     "data": {
      "text/html": [
       "<pre style=\"white-space:pre;overflow-x:auto;line-height:normal;font-family:Menlo,'DejaVu Sans Mono',consolas,'Courier New',monospace\"></pre>\n"
      ],
      "text/plain": []
     },
     "metadata": {},
     "output_type": "display_data"
    },
    {
     "data": {
      "text/html": [
       "<pre style=\"white-space:pre;overflow-x:auto;line-height:normal;font-family:Menlo,'DejaVu Sans Mono',consolas,'Courier New',monospace\">\n",
       "</pre>\n"
      ],
      "text/plain": [
       "\n"
      ]
     },
     "metadata": {},
     "output_type": "display_data"
    },
    {
     "data": {
      "text/html": [
       "<pre style=\"white-space:pre;overflow-x:auto;line-height:normal;font-family:Menlo,'DejaVu Sans Mono',consolas,'Courier New',monospace\">Reading secret from C:\\Users\\david\\Documents\\GitHub\\ds-network-analysis\\data\\my_secrets.yaml…\n",
       "</pre>\n"
      ],
      "text/plain": [
       "Reading secret from C:\\Users\\david\\Documents\\GitHub\\ds-network-analysis\\data\\my_secrets.yaml…\n"
      ]
     },
     "metadata": {},
     "output_type": "display_data"
    },
    {
     "data": {
      "text/html": [
       "<pre style=\"white-space:pre;overflow-x:auto;line-height:normal;font-family:Menlo,'DejaVu Sans Mono',consolas,'Courier New',monospace\"></pre>\n"
      ],
      "text/plain": []
     },
     "metadata": {},
     "output_type": "display_data"
    },
    {
     "data": {
      "text/html": [
       "<pre style=\"white-space:pre;overflow-x:auto;line-height:normal;font-family:Menlo,'DejaVu Sans Mono',consolas,'Courier New',monospace\">\n",
       "</pre>\n"
      ],
      "text/plain": [
       "\n"
      ]
     },
     "metadata": {},
     "output_type": "display_data"
    },
    {
     "data": {
      "text/html": [
       "<pre style=\"white-space:pre;overflow-x:auto;line-height:normal;font-family:Menlo,'DejaVu Sans Mono',consolas,'Courier New',monospace\">Reading secret from C:\\Users\\david\\Documents\\GitHub\\ds-network-analysis\\data\\my_secrets.yaml…\n",
       "</pre>\n"
      ],
      "text/plain": [
       "Reading secret from C:\\Users\\david\\Documents\\GitHub\\ds-network-analysis\\data\\my_secrets.yaml…\n"
      ]
     },
     "metadata": {},
     "output_type": "display_data"
    },
    {
     "data": {
      "text/html": [
       "<pre style=\"white-space:pre;overflow-x:auto;line-height:normal;font-family:Menlo,'DejaVu Sans Mono',consolas,'Courier New',monospace\"></pre>\n"
      ],
      "text/plain": []
     },
     "metadata": {},
     "output_type": "display_data"
    },
    {
     "data": {
      "text/html": [
       "<pre style=\"white-space:pre;overflow-x:auto;line-height:normal;font-family:Menlo,'DejaVu Sans Mono',consolas,'Courier New',monospace\">\n",
       "</pre>\n"
      ],
      "text/plain": [
       "\n"
      ]
     },
     "metadata": {},
     "output_type": "display_data"
    },
    {
     "data": {
      "text/html": [
       "<pre style=\"white-space:pre;overflow-x:auto;line-height:normal;font-family:Menlo,'DejaVu Sans Mono',consolas,'Courier New',monospace\">Reading secret from C:\\Users\\david\\Documents\\GitHub\\ds-network-analysis\\data\\my_secrets.yaml…\n",
       "</pre>\n"
      ],
      "text/plain": [
       "Reading secret from C:\\Users\\david\\Documents\\GitHub\\ds-network-analysis\\data\\my_secrets.yaml…\n"
      ]
     },
     "metadata": {},
     "output_type": "display_data"
    },
    {
     "data": {
      "text/html": [
       "<pre style=\"white-space:pre;overflow-x:auto;line-height:normal;font-family:Menlo,'DejaVu Sans Mono',consolas,'Courier New',monospace\"></pre>\n"
      ],
      "text/plain": []
     },
     "metadata": {},
     "output_type": "display_data"
    },
    {
     "data": {
      "text/html": [
       "<pre style=\"white-space:pre;overflow-x:auto;line-height:normal;font-family:Menlo,'DejaVu Sans Mono',consolas,'Courier New',monospace\">\n",
       "</pre>\n"
      ],
      "text/plain": [
       "\n"
      ]
     },
     "metadata": {},
     "output_type": "display_data"
    },
    {
     "data": {
      "text/html": [
       "<pre style=\"white-space:pre;overflow-x:auto;line-height:normal;font-family:Menlo,'DejaVu Sans Mono',consolas,'Courier New',monospace\">Reading secret from C:\\Users\\david\\Documents\\GitHub\\ds-network-analysis\\data\\my_secrets.yaml…\n",
       "</pre>\n"
      ],
      "text/plain": [
       "Reading secret from C:\\Users\\david\\Documents\\GitHub\\ds-network-analysis\\data\\my_secrets.yaml…\n"
      ]
     },
     "metadata": {},
     "output_type": "display_data"
    },
    {
     "data": {
      "text/html": [
       "<pre style=\"white-space:pre;overflow-x:auto;line-height:normal;font-family:Menlo,'DejaVu Sans Mono',consolas,'Courier New',monospace\"></pre>\n"
      ],
      "text/plain": []
     },
     "metadata": {},
     "output_type": "display_data"
    },
    {
     "data": {
      "text/html": [
       "<pre style=\"white-space:pre;overflow-x:auto;line-height:normal;font-family:Menlo,'DejaVu Sans Mono',consolas,'Courier New',monospace\">\n",
       "</pre>\n"
      ],
      "text/plain": [
       "\n"
      ]
     },
     "metadata": {},
     "output_type": "display_data"
    },
    {
     "data": {
      "text/html": [
       "<pre style=\"white-space:pre;overflow-x:auto;line-height:normal;font-family:Menlo,'DejaVu Sans Mono',consolas,'Courier New',monospace\">Reading secret from C:\\Users\\david\\Documents\\GitHub\\ds-network-analysis\\data\\my_secrets.yaml…\n",
       "</pre>\n"
      ],
      "text/plain": [
       "Reading secret from C:\\Users\\david\\Documents\\GitHub\\ds-network-analysis\\data\\my_secrets.yaml…\n"
      ]
     },
     "metadata": {},
     "output_type": "display_data"
    },
    {
     "data": {
      "text/html": [
       "<pre style=\"white-space:pre;overflow-x:auto;line-height:normal;font-family:Menlo,'DejaVu Sans Mono',consolas,'Courier New',monospace\"></pre>\n"
      ],
      "text/plain": []
     },
     "metadata": {},
     "output_type": "display_data"
    },
    {
     "data": {
      "text/html": [
       "<pre style=\"white-space:pre;overflow-x:auto;line-height:normal;font-family:Menlo,'DejaVu Sans Mono',consolas,'Courier New',monospace\">\n",
       "</pre>\n"
      ],
      "text/plain": [
       "\n"
      ]
     },
     "metadata": {},
     "output_type": "display_data"
    },
    {
     "data": {
      "text/html": [
       "<pre style=\"white-space:pre;overflow-x:auto;line-height:normal;font-family:Menlo,'DejaVu Sans Mono',consolas,'Courier New',monospace\">Reading secret from C:\\Users\\david\\Documents\\GitHub\\ds-network-analysis\\data\\my_secrets.yaml…\n",
       "</pre>\n"
      ],
      "text/plain": [
       "Reading secret from C:\\Users\\david\\Documents\\GitHub\\ds-network-analysis\\data\\my_secrets.yaml…\n"
      ]
     },
     "metadata": {},
     "output_type": "display_data"
    },
    {
     "data": {
      "text/html": [
       "<pre style=\"white-space:pre;overflow-x:auto;line-height:normal;font-family:Menlo,'DejaVu Sans Mono',consolas,'Courier New',monospace\"></pre>\n"
      ],
      "text/plain": []
     },
     "metadata": {},
     "output_type": "display_data"
    },
    {
     "data": {
      "text/html": [
       "<pre style=\"white-space:pre;overflow-x:auto;line-height:normal;font-family:Menlo,'DejaVu Sans Mono',consolas,'Courier New',monospace\">\n",
       "</pre>\n"
      ],
      "text/plain": [
       "\n"
      ]
     },
     "metadata": {},
     "output_type": "display_data"
    },
    {
     "data": {
      "text/html": [
       "<pre style=\"white-space:pre;overflow-x:auto;line-height:normal;font-family:Menlo,'DejaVu Sans Mono',consolas,'Courier New',monospace\">Reading secret from C:\\Users\\david\\Documents\\GitHub\\ds-network-analysis\\data\\my_secrets.yaml…\n",
       "</pre>\n"
      ],
      "text/plain": [
       "Reading secret from C:\\Users\\david\\Documents\\GitHub\\ds-network-analysis\\data\\my_secrets.yaml…\n"
      ]
     },
     "metadata": {},
     "output_type": "display_data"
    },
    {
     "data": {
      "text/html": [
       "<pre style=\"white-space:pre;overflow-x:auto;line-height:normal;font-family:Menlo,'DejaVu Sans Mono',consolas,'Courier New',monospace\"></pre>\n"
      ],
      "text/plain": []
     },
     "metadata": {},
     "output_type": "display_data"
    },
    {
     "data": {
      "text/html": [
       "<pre style=\"white-space:pre;overflow-x:auto;line-height:normal;font-family:Menlo,'DejaVu Sans Mono',consolas,'Courier New',monospace\">\n",
       "</pre>\n"
      ],
      "text/plain": [
       "\n"
      ]
     },
     "metadata": {},
     "output_type": "display_data"
    },
    {
     "data": {
      "text/html": [
       "<pre style=\"white-space:pre;overflow-x:auto;line-height:normal;font-family:Menlo,'DejaVu Sans Mono',consolas,'Courier New',monospace\">Reading secret from C:\\Users\\david\\Documents\\GitHub\\ds-network-analysis\\data\\my_secrets.yaml…\n",
       "</pre>\n"
      ],
      "text/plain": [
       "Reading secret from C:\\Users\\david\\Documents\\GitHub\\ds-network-analysis\\data\\my_secrets.yaml…\n"
      ]
     },
     "metadata": {},
     "output_type": "display_data"
    },
    {
     "data": {
      "text/html": [
       "<pre style=\"white-space:pre;overflow-x:auto;line-height:normal;font-family:Menlo,'DejaVu Sans Mono',consolas,'Courier New',monospace\"></pre>\n"
      ],
      "text/plain": []
     },
     "metadata": {},
     "output_type": "display_data"
    },
    {
     "data": {
      "text/html": [
       "<pre style=\"white-space:pre;overflow-x:auto;line-height:normal;font-family:Menlo,'DejaVu Sans Mono',consolas,'Courier New',monospace\">\n",
       "</pre>\n"
      ],
      "text/plain": [
       "\n"
      ]
     },
     "metadata": {},
     "output_type": "display_data"
    },
    {
     "data": {
      "text/html": [
       "<pre style=\"white-space:pre;overflow-x:auto;line-height:normal;font-family:Menlo,'DejaVu Sans Mono',consolas,'Courier New',monospace\">Reading secret from C:\\Users\\david\\Documents\\GitHub\\ds-network-analysis\\data\\my_secrets.yaml…\n",
       "</pre>\n"
      ],
      "text/plain": [
       "Reading secret from C:\\Users\\david\\Documents\\GitHub\\ds-network-analysis\\data\\my_secrets.yaml…\n"
      ]
     },
     "metadata": {},
     "output_type": "display_data"
    },
    {
     "data": {
      "text/html": [
       "<pre style=\"white-space:pre;overflow-x:auto;line-height:normal;font-family:Menlo,'DejaVu Sans Mono',consolas,'Courier New',monospace\"></pre>\n"
      ],
      "text/plain": []
     },
     "metadata": {},
     "output_type": "display_data"
    },
    {
     "data": {
      "text/html": [
       "<pre style=\"white-space:pre;overflow-x:auto;line-height:normal;font-family:Menlo,'DejaVu Sans Mono',consolas,'Courier New',monospace\">\n",
       "</pre>\n"
      ],
      "text/plain": [
       "\n"
      ]
     },
     "metadata": {},
     "output_type": "display_data"
    },
    {
     "data": {
      "text/html": [
       "<pre style=\"white-space:pre;overflow-x:auto;line-height:normal;font-family:Menlo,'DejaVu Sans Mono',consolas,'Courier New',monospace\">Reading secret from C:\\Users\\david\\Documents\\GitHub\\ds-network-analysis\\data\\my_secrets.yaml…\n",
       "</pre>\n"
      ],
      "text/plain": [
       "Reading secret from C:\\Users\\david\\Documents\\GitHub\\ds-network-analysis\\data\\my_secrets.yaml…\n"
      ]
     },
     "metadata": {},
     "output_type": "display_data"
    },
    {
     "data": {
      "text/html": [
       "<pre style=\"white-space:pre;overflow-x:auto;line-height:normal;font-family:Menlo,'DejaVu Sans Mono',consolas,'Courier New',monospace\"></pre>\n"
      ],
      "text/plain": []
     },
     "metadata": {},
     "output_type": "display_data"
    },
    {
     "data": {
      "text/html": [
       "<pre style=\"white-space:pre;overflow-x:auto;line-height:normal;font-family:Menlo,'DejaVu Sans Mono',consolas,'Courier New',monospace\">\n",
       "</pre>\n"
      ],
      "text/plain": [
       "\n"
      ]
     },
     "metadata": {},
     "output_type": "display_data"
    },
    {
     "data": {
      "text/html": [
       "<pre style=\"white-space:pre;overflow-x:auto;line-height:normal;font-family:Menlo,'DejaVu Sans Mono',consolas,'Courier New',monospace\">Reading secret from C:\\Users\\david\\Documents\\GitHub\\ds-network-analysis\\data\\my_secrets.yaml…\n",
       "</pre>\n"
      ],
      "text/plain": [
       "Reading secret from C:\\Users\\david\\Documents\\GitHub\\ds-network-analysis\\data\\my_secrets.yaml…\n"
      ]
     },
     "metadata": {},
     "output_type": "display_data"
    },
    {
     "data": {
      "text/html": [
       "<pre style=\"white-space:pre;overflow-x:auto;line-height:normal;font-family:Menlo,'DejaVu Sans Mono',consolas,'Courier New',monospace\"></pre>\n"
      ],
      "text/plain": []
     },
     "metadata": {},
     "output_type": "display_data"
    },
    {
     "data": {
      "text/html": [
       "<pre style=\"white-space:pre;overflow-x:auto;line-height:normal;font-family:Menlo,'DejaVu Sans Mono',consolas,'Courier New',monospace\">\n",
       "</pre>\n"
      ],
      "text/plain": [
       "\n"
      ]
     },
     "metadata": {},
     "output_type": "display_data"
    },
    {
     "data": {
      "text/html": [
       "<pre style=\"white-space:pre;overflow-x:auto;line-height:normal;font-family:Menlo,'DejaVu Sans Mono',consolas,'Courier New',monospace\">Reading secret from C:\\Users\\david\\Documents\\GitHub\\ds-network-analysis\\data\\my_secrets.yaml…\n",
       "</pre>\n"
      ],
      "text/plain": [
       "Reading secret from C:\\Users\\david\\Documents\\GitHub\\ds-network-analysis\\data\\my_secrets.yaml…\n"
      ]
     },
     "metadata": {},
     "output_type": "display_data"
    },
    {
     "data": {
      "text/html": [
       "<pre style=\"white-space:pre;overflow-x:auto;line-height:normal;font-family:Menlo,'DejaVu Sans Mono',consolas,'Courier New',monospace\"></pre>\n"
      ],
      "text/plain": []
     },
     "metadata": {},
     "output_type": "display_data"
    },
    {
     "data": {
      "text/html": [
       "<pre style=\"white-space:pre;overflow-x:auto;line-height:normal;font-family:Menlo,'DejaVu Sans Mono',consolas,'Courier New',monospace\">\n",
       "</pre>\n"
      ],
      "text/plain": [
       "\n"
      ]
     },
     "metadata": {},
     "output_type": "display_data"
    },
    {
     "data": {
      "text/html": [
       "<pre style=\"white-space:pre;overflow-x:auto;line-height:normal;font-family:Menlo,'DejaVu Sans Mono',consolas,'Courier New',monospace\">Reading secret from C:\\Users\\david\\Documents\\GitHub\\ds-network-analysis\\data\\my_secrets.yaml…\n",
       "</pre>\n"
      ],
      "text/plain": [
       "Reading secret from C:\\Users\\david\\Documents\\GitHub\\ds-network-analysis\\data\\my_secrets.yaml…\n"
      ]
     },
     "metadata": {},
     "output_type": "display_data"
    },
    {
     "data": {
      "text/html": [
       "<pre style=\"white-space:pre;overflow-x:auto;line-height:normal;font-family:Menlo,'DejaVu Sans Mono',consolas,'Courier New',monospace\"></pre>\n"
      ],
      "text/plain": []
     },
     "metadata": {},
     "output_type": "display_data"
    },
    {
     "data": {
      "text/html": [
       "<pre style=\"white-space:pre;overflow-x:auto;line-height:normal;font-family:Menlo,'DejaVu Sans Mono',consolas,'Courier New',monospace\">\n",
       "</pre>\n"
      ],
      "text/plain": [
       "\n"
      ]
     },
     "metadata": {},
     "output_type": "display_data"
    },
    {
     "data": {
      "text/html": [
       "<pre style=\"white-space:pre;overflow-x:auto;line-height:normal;font-family:Menlo,'DejaVu Sans Mono',consolas,'Courier New',monospace\">Reading secret from C:\\Users\\david\\Documents\\GitHub\\ds-network-analysis\\data\\my_secrets.yaml…\n",
       "</pre>\n"
      ],
      "text/plain": [
       "Reading secret from C:\\Users\\david\\Documents\\GitHub\\ds-network-analysis\\data\\my_secrets.yaml…\n"
      ]
     },
     "metadata": {},
     "output_type": "display_data"
    },
    {
     "data": {
      "text/html": [
       "<pre style=\"white-space:pre;overflow-x:auto;line-height:normal;font-family:Menlo,'DejaVu Sans Mono',consolas,'Courier New',monospace\"></pre>\n"
      ],
      "text/plain": []
     },
     "metadata": {},
     "output_type": "display_data"
    },
    {
     "data": {
      "text/html": [
       "<pre style=\"white-space:pre;overflow-x:auto;line-height:normal;font-family:Menlo,'DejaVu Sans Mono',consolas,'Courier New',monospace\">\n",
       "</pre>\n"
      ],
      "text/plain": [
       "\n"
      ]
     },
     "metadata": {},
     "output_type": "display_data"
    },
    {
     "data": {
      "text/html": [
       "<pre style=\"white-space:pre;overflow-x:auto;line-height:normal;font-family:Menlo,'DejaVu Sans Mono',consolas,'Courier New',monospace\">Reading secret from C:\\Users\\david\\Documents\\GitHub\\ds-network-analysis\\data\\my_secrets.yaml…\n",
       "</pre>\n"
      ],
      "text/plain": [
       "Reading secret from C:\\Users\\david\\Documents\\GitHub\\ds-network-analysis\\data\\my_secrets.yaml…\n"
      ]
     },
     "metadata": {},
     "output_type": "display_data"
    },
    {
     "data": {
      "text/html": [
       "<pre style=\"white-space:pre;overflow-x:auto;line-height:normal;font-family:Menlo,'DejaVu Sans Mono',consolas,'Courier New',monospace\"></pre>\n"
      ],
      "text/plain": []
     },
     "metadata": {},
     "output_type": "display_data"
    },
    {
     "data": {
      "text/html": [
       "<pre style=\"white-space:pre;overflow-x:auto;line-height:normal;font-family:Menlo,'DejaVu Sans Mono',consolas,'Courier New',monospace\">\n",
       "</pre>\n"
      ],
      "text/plain": [
       "\n"
      ]
     },
     "metadata": {},
     "output_type": "display_data"
    },
    {
     "data": {
      "text/html": [
       "<pre style=\"white-space:pre;overflow-x:auto;line-height:normal;font-family:Menlo,'DejaVu Sans Mono',consolas,'Courier New',monospace\">Reading secret from C:\\Users\\david\\Documents\\GitHub\\ds-network-analysis\\data\\my_secrets.yaml…\n",
       "</pre>\n"
      ],
      "text/plain": [
       "Reading secret from C:\\Users\\david\\Documents\\GitHub\\ds-network-analysis\\data\\my_secrets.yaml…\n"
      ]
     },
     "metadata": {},
     "output_type": "display_data"
    },
    {
     "data": {
      "text/html": [
       "<pre style=\"white-space:pre;overflow-x:auto;line-height:normal;font-family:Menlo,'DejaVu Sans Mono',consolas,'Courier New',monospace\"></pre>\n"
      ],
      "text/plain": []
     },
     "metadata": {},
     "output_type": "display_data"
    },
    {
     "data": {
      "text/html": [
       "<pre style=\"white-space:pre;overflow-x:auto;line-height:normal;font-family:Menlo,'DejaVu Sans Mono',consolas,'Courier New',monospace\">\n",
       "</pre>\n"
      ],
      "text/plain": [
       "\n"
      ]
     },
     "metadata": {},
     "output_type": "display_data"
    },
    {
     "data": {
      "text/html": [
       "<pre style=\"white-space:pre;overflow-x:auto;line-height:normal;font-family:Menlo,'DejaVu Sans Mono',consolas,'Courier New',monospace\">Reading secret from C:\\Users\\david\\Documents\\GitHub\\ds-network-analysis\\data\\my_secrets.yaml…\n",
       "</pre>\n"
      ],
      "text/plain": [
       "Reading secret from C:\\Users\\david\\Documents\\GitHub\\ds-network-analysis\\data\\my_secrets.yaml…\n"
      ]
     },
     "metadata": {},
     "output_type": "display_data"
    },
    {
     "data": {
      "text/html": [
       "<pre style=\"white-space:pre;overflow-x:auto;line-height:normal;font-family:Menlo,'DejaVu Sans Mono',consolas,'Courier New',monospace\"></pre>\n"
      ],
      "text/plain": []
     },
     "metadata": {},
     "output_type": "display_data"
    },
    {
     "data": {
      "text/html": [
       "<pre style=\"white-space:pre;overflow-x:auto;line-height:normal;font-family:Menlo,'DejaVu Sans Mono',consolas,'Courier New',monospace\">\n",
       "</pre>\n"
      ],
      "text/plain": [
       "\n"
      ]
     },
     "metadata": {},
     "output_type": "display_data"
    },
    {
     "data": {
      "text/html": [
       "<pre style=\"white-space:pre;overflow-x:auto;line-height:normal;font-family:Menlo,'DejaVu Sans Mono',consolas,'Courier New',monospace\">Reading secret from C:\\Users\\david\\Documents\\GitHub\\ds-network-analysis\\data\\my_secrets.yaml…\n",
       "</pre>\n"
      ],
      "text/plain": [
       "Reading secret from C:\\Users\\david\\Documents\\GitHub\\ds-network-analysis\\data\\my_secrets.yaml…\n"
      ]
     },
     "metadata": {},
     "output_type": "display_data"
    },
    {
     "data": {
      "text/html": [
       "<pre style=\"white-space:pre;overflow-x:auto;line-height:normal;font-family:Menlo,'DejaVu Sans Mono',consolas,'Courier New',monospace\"></pre>\n"
      ],
      "text/plain": []
     },
     "metadata": {},
     "output_type": "display_data"
    },
    {
     "data": {
      "text/html": [
       "<pre style=\"white-space:pre;overflow-x:auto;line-height:normal;font-family:Menlo,'DejaVu Sans Mono',consolas,'Courier New',monospace\">\n",
       "</pre>\n"
      ],
      "text/plain": [
       "\n"
      ]
     },
     "metadata": {},
     "output_type": "display_data"
    },
    {
     "data": {
      "text/html": [
       "<pre style=\"white-space:pre;overflow-x:auto;line-height:normal;font-family:Menlo,'DejaVu Sans Mono',consolas,'Courier New',monospace\">Reading secret from C:\\Users\\david\\Documents\\GitHub\\ds-network-analysis\\data\\my_secrets.yaml…\n",
       "</pre>\n"
      ],
      "text/plain": [
       "Reading secret from C:\\Users\\david\\Documents\\GitHub\\ds-network-analysis\\data\\my_secrets.yaml…\n"
      ]
     },
     "metadata": {},
     "output_type": "display_data"
    },
    {
     "data": {
      "text/html": [
       "<pre style=\"white-space:pre;overflow-x:auto;line-height:normal;font-family:Menlo,'DejaVu Sans Mono',consolas,'Courier New',monospace\"></pre>\n"
      ],
      "text/plain": []
     },
     "metadata": {},
     "output_type": "display_data"
    },
    {
     "data": {
      "text/html": [
       "<pre style=\"white-space:pre;overflow-x:auto;line-height:normal;font-family:Menlo,'DejaVu Sans Mono',consolas,'Courier New',monospace\">\n",
       "</pre>\n"
      ],
      "text/plain": [
       "\n"
      ]
     },
     "metadata": {},
     "output_type": "display_data"
    },
    {
     "data": {
      "text/html": [
       "<pre style=\"white-space:pre;overflow-x:auto;line-height:normal;font-family:Menlo,'DejaVu Sans Mono',consolas,'Courier New',monospace\">Reading secret from C:\\Users\\david\\Documents\\GitHub\\ds-network-analysis\\data\\my_secrets.yaml…\n",
       "</pre>\n"
      ],
      "text/plain": [
       "Reading secret from C:\\Users\\david\\Documents\\GitHub\\ds-network-analysis\\data\\my_secrets.yaml…\n"
      ]
     },
     "metadata": {},
     "output_type": "display_data"
    },
    {
     "data": {
      "text/html": [
       "<pre style=\"white-space:pre;overflow-x:auto;line-height:normal;font-family:Menlo,'DejaVu Sans Mono',consolas,'Courier New',monospace\"></pre>\n"
      ],
      "text/plain": []
     },
     "metadata": {},
     "output_type": "display_data"
    },
    {
     "data": {
      "text/html": [
       "<pre style=\"white-space:pre;overflow-x:auto;line-height:normal;font-family:Menlo,'DejaVu Sans Mono',consolas,'Courier New',monospace\">\n",
       "</pre>\n"
      ],
      "text/plain": [
       "\n"
      ]
     },
     "metadata": {},
     "output_type": "display_data"
    },
    {
     "data": {
      "text/html": [
       "<pre style=\"white-space:pre;overflow-x:auto;line-height:normal;font-family:Menlo,'DejaVu Sans Mono',consolas,'Courier New',monospace\">Reading secret from C:\\Users\\david\\Documents\\GitHub\\ds-network-analysis\\data\\my_secrets.yaml…\n",
       "</pre>\n"
      ],
      "text/plain": [
       "Reading secret from C:\\Users\\david\\Documents\\GitHub\\ds-network-analysis\\data\\my_secrets.yaml…\n"
      ]
     },
     "metadata": {},
     "output_type": "display_data"
    },
    {
     "data": {
      "text/html": [
       "<pre style=\"white-space:pre;overflow-x:auto;line-height:normal;font-family:Menlo,'DejaVu Sans Mono',consolas,'Courier New',monospace\"></pre>\n"
      ],
      "text/plain": []
     },
     "metadata": {},
     "output_type": "display_data"
    },
    {
     "data": {
      "text/html": [
       "<pre style=\"white-space:pre;overflow-x:auto;line-height:normal;font-family:Menlo,'DejaVu Sans Mono',consolas,'Courier New',monospace\">\n",
       "</pre>\n"
      ],
      "text/plain": [
       "\n"
      ]
     },
     "metadata": {},
     "output_type": "display_data"
    },
    {
     "data": {
      "text/html": [
       "<pre style=\"white-space:pre;overflow-x:auto;line-height:normal;font-family:Menlo,'DejaVu Sans Mono',consolas,'Courier New',monospace\">Reading secret from C:\\Users\\david\\Documents\\GitHub\\ds-network-analysis\\data\\my_secrets.yaml…\n",
       "</pre>\n"
      ],
      "text/plain": [
       "Reading secret from C:\\Users\\david\\Documents\\GitHub\\ds-network-analysis\\data\\my_secrets.yaml…\n"
      ]
     },
     "metadata": {},
     "output_type": "display_data"
    },
    {
     "data": {
      "text/html": [
       "<pre style=\"white-space:pre;overflow-x:auto;line-height:normal;font-family:Menlo,'DejaVu Sans Mono',consolas,'Courier New',monospace\"></pre>\n"
      ],
      "text/plain": []
     },
     "metadata": {},
     "output_type": "display_data"
    },
    {
     "data": {
      "text/html": [
       "<pre style=\"white-space:pre;overflow-x:auto;line-height:normal;font-family:Menlo,'DejaVu Sans Mono',consolas,'Courier New',monospace\">\n",
       "</pre>\n"
      ],
      "text/plain": [
       "\n"
      ]
     },
     "metadata": {},
     "output_type": "display_data"
    },
    {
     "data": {
      "text/html": [
       "<pre style=\"white-space:pre;overflow-x:auto;line-height:normal;font-family:Menlo,'DejaVu Sans Mono',consolas,'Courier New',monospace\">Reading secret from C:\\Users\\david\\Documents\\GitHub\\ds-network-analysis\\data\\my_secrets.yaml…\n",
       "</pre>\n"
      ],
      "text/plain": [
       "Reading secret from C:\\Users\\david\\Documents\\GitHub\\ds-network-analysis\\data\\my_secrets.yaml…\n"
      ]
     },
     "metadata": {},
     "output_type": "display_data"
    },
    {
     "data": {
      "text/html": [
       "<pre style=\"white-space:pre;overflow-x:auto;line-height:normal;font-family:Menlo,'DejaVu Sans Mono',consolas,'Courier New',monospace\"></pre>\n"
      ],
      "text/plain": []
     },
     "metadata": {},
     "output_type": "display_data"
    },
    {
     "data": {
      "text/html": [
       "<pre style=\"white-space:pre;overflow-x:auto;line-height:normal;font-family:Menlo,'DejaVu Sans Mono',consolas,'Courier New',monospace\">\n",
       "</pre>\n"
      ],
      "text/plain": [
       "\n"
      ]
     },
     "metadata": {},
     "output_type": "display_data"
    },
    {
     "data": {
      "text/html": [
       "<pre style=\"white-space:pre;overflow-x:auto;line-height:normal;font-family:Menlo,'DejaVu Sans Mono',consolas,'Courier New',monospace\">Reading secret from C:\\Users\\david\\Documents\\GitHub\\ds-network-analysis\\data\\my_secrets.yaml…\n",
       "</pre>\n"
      ],
      "text/plain": [
       "Reading secret from C:\\Users\\david\\Documents\\GitHub\\ds-network-analysis\\data\\my_secrets.yaml…\n"
      ]
     },
     "metadata": {},
     "output_type": "display_data"
    },
    {
     "data": {
      "text/html": [
       "<pre style=\"white-space:pre;overflow-x:auto;line-height:normal;font-family:Menlo,'DejaVu Sans Mono',consolas,'Courier New',monospace\"></pre>\n"
      ],
      "text/plain": []
     },
     "metadata": {},
     "output_type": "display_data"
    },
    {
     "data": {
      "text/html": [
       "<pre style=\"white-space:pre;overflow-x:auto;line-height:normal;font-family:Menlo,'DejaVu Sans Mono',consolas,'Courier New',monospace\">\n",
       "</pre>\n"
      ],
      "text/plain": [
       "\n"
      ]
     },
     "metadata": {},
     "output_type": "display_data"
    },
    {
     "data": {
      "text/html": [
       "<pre style=\"white-space:pre;overflow-x:auto;line-height:normal;font-family:Menlo,'DejaVu Sans Mono',consolas,'Courier New',monospace\">Reading secret from C:\\Users\\david\\Documents\\GitHub\\ds-network-analysis\\data\\my_secrets.yaml…\n",
       "</pre>\n"
      ],
      "text/plain": [
       "Reading secret from C:\\Users\\david\\Documents\\GitHub\\ds-network-analysis\\data\\my_secrets.yaml…\n"
      ]
     },
     "metadata": {},
     "output_type": "display_data"
    },
    {
     "data": {
      "text/html": [
       "<pre style=\"white-space:pre;overflow-x:auto;line-height:normal;font-family:Menlo,'DejaVu Sans Mono',consolas,'Courier New',monospace\"></pre>\n"
      ],
      "text/plain": []
     },
     "metadata": {},
     "output_type": "display_data"
    },
    {
     "data": {
      "text/html": [
       "<pre style=\"white-space:pre;overflow-x:auto;line-height:normal;font-family:Menlo,'DejaVu Sans Mono',consolas,'Courier New',monospace\">\n",
       "</pre>\n"
      ],
      "text/plain": [
       "\n"
      ]
     },
     "metadata": {},
     "output_type": "display_data"
    },
    {
     "data": {
      "text/html": [
       "<pre style=\"white-space:pre;overflow-x:auto;line-height:normal;font-family:Menlo,'DejaVu Sans Mono',consolas,'Courier New',monospace\">Reading secret from C:\\Users\\david\\Documents\\GitHub\\ds-network-analysis\\data\\my_secrets.yaml…\n",
       "</pre>\n"
      ],
      "text/plain": [
       "Reading secret from C:\\Users\\david\\Documents\\GitHub\\ds-network-analysis\\data\\my_secrets.yaml…\n"
      ]
     },
     "metadata": {},
     "output_type": "display_data"
    },
    {
     "data": {
      "text/html": [
       "<pre style=\"white-space:pre;overflow-x:auto;line-height:normal;font-family:Menlo,'DejaVu Sans Mono',consolas,'Courier New',monospace\"></pre>\n"
      ],
      "text/plain": []
     },
     "metadata": {},
     "output_type": "display_data"
    },
    {
     "data": {
      "text/html": [
       "<pre style=\"white-space:pre;overflow-x:auto;line-height:normal;font-family:Menlo,'DejaVu Sans Mono',consolas,'Courier New',monospace\">\n",
       "</pre>\n"
      ],
      "text/plain": [
       "\n"
      ]
     },
     "metadata": {},
     "output_type": "display_data"
    },
    {
     "data": {
      "text/html": [
       "<pre style=\"white-space:pre;overflow-x:auto;line-height:normal;font-family:Menlo,'DejaVu Sans Mono',consolas,'Courier New',monospace\">Reading secret from C:\\Users\\david\\Documents\\GitHub\\ds-network-analysis\\data\\my_secrets.yaml…\n",
       "</pre>\n"
      ],
      "text/plain": [
       "Reading secret from C:\\Users\\david\\Documents\\GitHub\\ds-network-analysis\\data\\my_secrets.yaml…\n"
      ]
     },
     "metadata": {},
     "output_type": "display_data"
    },
    {
     "data": {
      "text/html": [
       "<pre style=\"white-space:pre;overflow-x:auto;line-height:normal;font-family:Menlo,'DejaVu Sans Mono',consolas,'Courier New',monospace\"></pre>\n"
      ],
      "text/plain": []
     },
     "metadata": {},
     "output_type": "display_data"
    },
    {
     "data": {
      "text/html": [
       "<pre style=\"white-space:pre;overflow-x:auto;line-height:normal;font-family:Menlo,'DejaVu Sans Mono',consolas,'Courier New',monospace\">\n",
       "</pre>\n"
      ],
      "text/plain": [
       "\n"
      ]
     },
     "metadata": {},
     "output_type": "display_data"
    },
    {
     "data": {
      "text/html": [
       "<pre style=\"white-space:pre;overflow-x:auto;line-height:normal;font-family:Menlo,'DejaVu Sans Mono',consolas,'Courier New',monospace\">Reading secret from C:\\Users\\david\\Documents\\GitHub\\ds-network-analysis\\data\\my_secrets.yaml…\n",
       "</pre>\n"
      ],
      "text/plain": [
       "Reading secret from C:\\Users\\david\\Documents\\GitHub\\ds-network-analysis\\data\\my_secrets.yaml…\n"
      ]
     },
     "metadata": {},
     "output_type": "display_data"
    },
    {
     "data": {
      "text/html": [
       "<pre style=\"white-space:pre;overflow-x:auto;line-height:normal;font-family:Menlo,'DejaVu Sans Mono',consolas,'Courier New',monospace\"></pre>\n"
      ],
      "text/plain": []
     },
     "metadata": {},
     "output_type": "display_data"
    },
    {
     "data": {
      "text/html": [
       "<pre style=\"white-space:pre;overflow-x:auto;line-height:normal;font-family:Menlo,'DejaVu Sans Mono',consolas,'Courier New',monospace\">\n",
       "</pre>\n"
      ],
      "text/plain": [
       "\n"
      ]
     },
     "metadata": {},
     "output_type": "display_data"
    },
    {
     "data": {
      "text/html": [
       "<pre style=\"white-space:pre;overflow-x:auto;line-height:normal;font-family:Menlo,'DejaVu Sans Mono',consolas,'Courier New',monospace\">Reading secret from C:\\Users\\david\\Documents\\GitHub\\ds-network-analysis\\data\\my_secrets.yaml…\n",
       "</pre>\n"
      ],
      "text/plain": [
       "Reading secret from C:\\Users\\david\\Documents\\GitHub\\ds-network-analysis\\data\\my_secrets.yaml…\n"
      ]
     },
     "metadata": {},
     "output_type": "display_data"
    },
    {
     "data": {
      "text/html": [
       "<pre style=\"white-space:pre;overflow-x:auto;line-height:normal;font-family:Menlo,'DejaVu Sans Mono',consolas,'Courier New',monospace\"></pre>\n"
      ],
      "text/plain": []
     },
     "metadata": {},
     "output_type": "display_data"
    },
    {
     "data": {
      "text/html": [
       "<pre style=\"white-space:pre;overflow-x:auto;line-height:normal;font-family:Menlo,'DejaVu Sans Mono',consolas,'Courier New',monospace\">\n",
       "</pre>\n"
      ],
      "text/plain": [
       "\n"
      ]
     },
     "metadata": {},
     "output_type": "display_data"
    },
    {
     "data": {
      "text/html": [
       "<pre style=\"white-space:pre;overflow-x:auto;line-height:normal;font-family:Menlo,'DejaVu Sans Mono',consolas,'Courier New',monospace\">Reading secret from C:\\Users\\david\\Documents\\GitHub\\ds-network-analysis\\data\\my_secrets.yaml…\n",
       "</pre>\n"
      ],
      "text/plain": [
       "Reading secret from C:\\Users\\david\\Documents\\GitHub\\ds-network-analysis\\data\\my_secrets.yaml…\n"
      ]
     },
     "metadata": {},
     "output_type": "display_data"
    },
    {
     "data": {
      "text/html": [
       "<pre style=\"white-space:pre;overflow-x:auto;line-height:normal;font-family:Menlo,'DejaVu Sans Mono',consolas,'Courier New',monospace\"></pre>\n"
      ],
      "text/plain": []
     },
     "metadata": {},
     "output_type": "display_data"
    },
    {
     "data": {
      "text/html": [
       "<pre style=\"white-space:pre;overflow-x:auto;line-height:normal;font-family:Menlo,'DejaVu Sans Mono',consolas,'Courier New',monospace\">\n",
       "</pre>\n"
      ],
      "text/plain": [
       "\n"
      ]
     },
     "metadata": {},
     "output_type": "display_data"
    },
    {
     "data": {
      "text/html": [
       "<pre style=\"white-space:pre;overflow-x:auto;line-height:normal;font-family:Menlo,'DejaVu Sans Mono',consolas,'Courier New',monospace\">Reading secret from C:\\Users\\david\\Documents\\GitHub\\ds-network-analysis\\data\\my_secrets.yaml…\n",
       "</pre>\n"
      ],
      "text/plain": [
       "Reading secret from C:\\Users\\david\\Documents\\GitHub\\ds-network-analysis\\data\\my_secrets.yaml…\n"
      ]
     },
     "metadata": {},
     "output_type": "display_data"
    },
    {
     "data": {
      "text/html": [
       "<pre style=\"white-space:pre;overflow-x:auto;line-height:normal;font-family:Menlo,'DejaVu Sans Mono',consolas,'Courier New',monospace\"></pre>\n"
      ],
      "text/plain": []
     },
     "metadata": {},
     "output_type": "display_data"
    },
    {
     "data": {
      "text/html": [
       "<pre style=\"white-space:pre;overflow-x:auto;line-height:normal;font-family:Menlo,'DejaVu Sans Mono',consolas,'Courier New',monospace\">\n",
       "</pre>\n"
      ],
      "text/plain": [
       "\n"
      ]
     },
     "metadata": {},
     "output_type": "display_data"
    },
    {
     "data": {
      "text/html": [
       "<pre style=\"white-space:pre;overflow-x:auto;line-height:normal;font-family:Menlo,'DejaVu Sans Mono',consolas,'Courier New',monospace\">Reading secret from C:\\Users\\david\\Documents\\GitHub\\ds-network-analysis\\data\\my_secrets.yaml…\n",
       "</pre>\n"
      ],
      "text/plain": [
       "Reading secret from C:\\Users\\david\\Documents\\GitHub\\ds-network-analysis\\data\\my_secrets.yaml…\n"
      ]
     },
     "metadata": {},
     "output_type": "display_data"
    },
    {
     "data": {
      "text/html": [
       "<pre style=\"white-space:pre;overflow-x:auto;line-height:normal;font-family:Menlo,'DejaVu Sans Mono',consolas,'Courier New',monospace\"></pre>\n"
      ],
      "text/plain": []
     },
     "metadata": {},
     "output_type": "display_data"
    },
    {
     "data": {
      "text/html": [
       "<pre style=\"white-space:pre;overflow-x:auto;line-height:normal;font-family:Menlo,'DejaVu Sans Mono',consolas,'Courier New',monospace\">\n",
       "</pre>\n"
      ],
      "text/plain": [
       "\n"
      ]
     },
     "metadata": {},
     "output_type": "display_data"
    },
    {
     "data": {
      "text/html": [
       "<pre style=\"white-space:pre;overflow-x:auto;line-height:normal;font-family:Menlo,'DejaVu Sans Mono',consolas,'Courier New',monospace\">Reading secret from C:\\Users\\david\\Documents\\GitHub\\ds-network-analysis\\data\\my_secrets.yaml…\n",
       "</pre>\n"
      ],
      "text/plain": [
       "Reading secret from C:\\Users\\david\\Documents\\GitHub\\ds-network-analysis\\data\\my_secrets.yaml…\n"
      ]
     },
     "metadata": {},
     "output_type": "display_data"
    },
    {
     "data": {
      "text/html": [
       "<pre style=\"white-space:pre;overflow-x:auto;line-height:normal;font-family:Menlo,'DejaVu Sans Mono',consolas,'Courier New',monospace\"></pre>\n"
      ],
      "text/plain": []
     },
     "metadata": {},
     "output_type": "display_data"
    },
    {
     "data": {
      "text/html": [
       "<pre style=\"white-space:pre;overflow-x:auto;line-height:normal;font-family:Menlo,'DejaVu Sans Mono',consolas,'Courier New',monospace\">\n",
       "</pre>\n"
      ],
      "text/plain": [
       "\n"
      ]
     },
     "metadata": {},
     "output_type": "display_data"
    },
    {
     "data": {
      "text/html": [
       "<pre style=\"white-space:pre;overflow-x:auto;line-height:normal;font-family:Menlo,'DejaVu Sans Mono',consolas,'Courier New',monospace\">Reading secret from C:\\Users\\david\\Documents\\GitHub\\ds-network-analysis\\data\\my_secrets.yaml…\n",
       "</pre>\n"
      ],
      "text/plain": [
       "Reading secret from C:\\Users\\david\\Documents\\GitHub\\ds-network-analysis\\data\\my_secrets.yaml…\n"
      ]
     },
     "metadata": {},
     "output_type": "display_data"
    },
    {
     "data": {
      "text/html": [
       "<pre style=\"white-space:pre;overflow-x:auto;line-height:normal;font-family:Menlo,'DejaVu Sans Mono',consolas,'Courier New',monospace\"></pre>\n"
      ],
      "text/plain": []
     },
     "metadata": {},
     "output_type": "display_data"
    },
    {
     "data": {
      "text/html": [
       "<pre style=\"white-space:pre;overflow-x:auto;line-height:normal;font-family:Menlo,'DejaVu Sans Mono',consolas,'Courier New',monospace\">\n",
       "</pre>\n"
      ],
      "text/plain": [
       "\n"
      ]
     },
     "metadata": {},
     "output_type": "display_data"
    },
    {
     "data": {
      "text/html": [
       "<pre style=\"white-space:pre;overflow-x:auto;line-height:normal;font-family:Menlo,'DejaVu Sans Mono',consolas,'Courier New',monospace\">Reading secret from C:\\Users\\david\\Documents\\GitHub\\ds-network-analysis\\data\\my_secrets.yaml…\n",
       "</pre>\n"
      ],
      "text/plain": [
       "Reading secret from C:\\Users\\david\\Documents\\GitHub\\ds-network-analysis\\data\\my_secrets.yaml…\n"
      ]
     },
     "metadata": {},
     "output_type": "display_data"
    },
    {
     "data": {
      "text/html": [
       "<pre style=\"white-space:pre;overflow-x:auto;line-height:normal;font-family:Menlo,'DejaVu Sans Mono',consolas,'Courier New',monospace\"></pre>\n"
      ],
      "text/plain": []
     },
     "metadata": {},
     "output_type": "display_data"
    },
    {
     "data": {
      "text/html": [
       "<pre style=\"white-space:pre;overflow-x:auto;line-height:normal;font-family:Menlo,'DejaVu Sans Mono',consolas,'Courier New',monospace\">\n",
       "</pre>\n"
      ],
      "text/plain": [
       "\n"
      ]
     },
     "metadata": {},
     "output_type": "display_data"
    },
    {
     "data": {
      "text/html": [
       "<pre style=\"white-space:pre;overflow-x:auto;line-height:normal;font-family:Menlo,'DejaVu Sans Mono',consolas,'Courier New',monospace\">Reading secret from C:\\Users\\david\\Documents\\GitHub\\ds-network-analysis\\data\\my_secrets.yaml…\n",
       "</pre>\n"
      ],
      "text/plain": [
       "Reading secret from C:\\Users\\david\\Documents\\GitHub\\ds-network-analysis\\data\\my_secrets.yaml…\n"
      ]
     },
     "metadata": {},
     "output_type": "display_data"
    },
    {
     "data": {
      "text/html": [
       "<pre style=\"white-space:pre;overflow-x:auto;line-height:normal;font-family:Menlo,'DejaVu Sans Mono',consolas,'Courier New',monospace\"></pre>\n"
      ],
      "text/plain": []
     },
     "metadata": {},
     "output_type": "display_data"
    },
    {
     "data": {
      "text/html": [
       "<pre style=\"white-space:pre;overflow-x:auto;line-height:normal;font-family:Menlo,'DejaVu Sans Mono',consolas,'Courier New',monospace\">\n",
       "</pre>\n"
      ],
      "text/plain": [
       "\n"
      ]
     },
     "metadata": {},
     "output_type": "display_data"
    },
    {
     "data": {
      "text/html": [
       "<pre style=\"white-space:pre;overflow-x:auto;line-height:normal;font-family:Menlo,'DejaVu Sans Mono',consolas,'Courier New',monospace\">Reading secret from C:\\Users\\david\\Documents\\GitHub\\ds-network-analysis\\data\\my_secrets.yaml…\n",
       "</pre>\n"
      ],
      "text/plain": [
       "Reading secret from C:\\Users\\david\\Documents\\GitHub\\ds-network-analysis\\data\\my_secrets.yaml…\n"
      ]
     },
     "metadata": {},
     "output_type": "display_data"
    },
    {
     "data": {
      "text/html": [
       "<pre style=\"white-space:pre;overflow-x:auto;line-height:normal;font-family:Menlo,'DejaVu Sans Mono',consolas,'Courier New',monospace\"></pre>\n"
      ],
      "text/plain": []
     },
     "metadata": {},
     "output_type": "display_data"
    },
    {
     "data": {
      "text/html": [
       "<pre style=\"white-space:pre;overflow-x:auto;line-height:normal;font-family:Menlo,'DejaVu Sans Mono',consolas,'Courier New',monospace\">\n",
       "</pre>\n"
      ],
      "text/plain": [
       "\n"
      ]
     },
     "metadata": {},
     "output_type": "display_data"
    },
    {
     "data": {
      "text/html": [
       "<pre style=\"white-space:pre;overflow-x:auto;line-height:normal;font-family:Menlo,'DejaVu Sans Mono',consolas,'Courier New',monospace\">Reading secret from C:\\Users\\david\\Documents\\GitHub\\ds-network-analysis\\data\\my_secrets.yaml…\n",
       "</pre>\n"
      ],
      "text/plain": [
       "Reading secret from C:\\Users\\david\\Documents\\GitHub\\ds-network-analysis\\data\\my_secrets.yaml…\n"
      ]
     },
     "metadata": {},
     "output_type": "display_data"
    },
    {
     "data": {
      "text/html": [
       "<pre style=\"white-space:pre;overflow-x:auto;line-height:normal;font-family:Menlo,'DejaVu Sans Mono',consolas,'Courier New',monospace\"></pre>\n"
      ],
      "text/plain": []
     },
     "metadata": {},
     "output_type": "display_data"
    },
    {
     "data": {
      "text/html": [
       "<pre style=\"white-space:pre;overflow-x:auto;line-height:normal;font-family:Menlo,'DejaVu Sans Mono',consolas,'Courier New',monospace\">\n",
       "</pre>\n"
      ],
      "text/plain": [
       "\n"
      ]
     },
     "metadata": {},
     "output_type": "display_data"
    },
    {
     "data": {
      "text/html": [
       "<pre style=\"white-space:pre;overflow-x:auto;line-height:normal;font-family:Menlo,'DejaVu Sans Mono',consolas,'Courier New',monospace\">Reading secret from C:\\Users\\david\\Documents\\GitHub\\ds-network-analysis\\data\\my_secrets.yaml…\n",
       "</pre>\n"
      ],
      "text/plain": [
       "Reading secret from C:\\Users\\david\\Documents\\GitHub\\ds-network-analysis\\data\\my_secrets.yaml…\n"
      ]
     },
     "metadata": {},
     "output_type": "display_data"
    },
    {
     "data": {
      "text/html": [
       "<pre style=\"white-space:pre;overflow-x:auto;line-height:normal;font-family:Menlo,'DejaVu Sans Mono',consolas,'Courier New',monospace\"></pre>\n"
      ],
      "text/plain": []
     },
     "metadata": {},
     "output_type": "display_data"
    },
    {
     "data": {
      "text/html": [
       "<pre style=\"white-space:pre;overflow-x:auto;line-height:normal;font-family:Menlo,'DejaVu Sans Mono',consolas,'Courier New',monospace\">\n",
       "</pre>\n"
      ],
      "text/plain": [
       "\n"
      ]
     },
     "metadata": {},
     "output_type": "display_data"
    },
    {
     "data": {
      "text/html": [
       "<pre style=\"white-space:pre;overflow-x:auto;line-height:normal;font-family:Menlo,'DejaVu Sans Mono',consolas,'Courier New',monospace\">Reading secret from C:\\Users\\david\\Documents\\GitHub\\ds-network-analysis\\data\\my_secrets.yaml…\n",
       "</pre>\n"
      ],
      "text/plain": [
       "Reading secret from C:\\Users\\david\\Documents\\GitHub\\ds-network-analysis\\data\\my_secrets.yaml…\n"
      ]
     },
     "metadata": {},
     "output_type": "display_data"
    },
    {
     "data": {
      "text/html": [
       "<pre style=\"white-space:pre;overflow-x:auto;line-height:normal;font-family:Menlo,'DejaVu Sans Mono',consolas,'Courier New',monospace\"></pre>\n"
      ],
      "text/plain": []
     },
     "metadata": {},
     "output_type": "display_data"
    },
    {
     "data": {
      "text/html": [
       "<pre style=\"white-space:pre;overflow-x:auto;line-height:normal;font-family:Menlo,'DejaVu Sans Mono',consolas,'Courier New',monospace\">\n",
       "</pre>\n"
      ],
      "text/plain": [
       "\n"
      ]
     },
     "metadata": {},
     "output_type": "display_data"
    },
    {
     "data": {
      "text/html": [
       "<pre style=\"white-space:pre;overflow-x:auto;line-height:normal;font-family:Menlo,'DejaVu Sans Mono',consolas,'Courier New',monospace\">Reading secret from C:\\Users\\david\\Documents\\GitHub\\ds-network-analysis\\data\\my_secrets.yaml…\n",
       "</pre>\n"
      ],
      "text/plain": [
       "Reading secret from C:\\Users\\david\\Documents\\GitHub\\ds-network-analysis\\data\\my_secrets.yaml…\n"
      ]
     },
     "metadata": {},
     "output_type": "display_data"
    },
    {
     "data": {
      "text/html": [
       "<pre style=\"white-space:pre;overflow-x:auto;line-height:normal;font-family:Menlo,'DejaVu Sans Mono',consolas,'Courier New',monospace\"></pre>\n"
      ],
      "text/plain": []
     },
     "metadata": {},
     "output_type": "display_data"
    },
    {
     "data": {
      "text/html": [
       "<pre style=\"white-space:pre;overflow-x:auto;line-height:normal;font-family:Menlo,'DejaVu Sans Mono',consolas,'Courier New',monospace\">\n",
       "</pre>\n"
      ],
      "text/plain": [
       "\n"
      ]
     },
     "metadata": {},
     "output_type": "display_data"
    },
    {
     "data": {
      "text/html": [
       "<pre style=\"white-space:pre;overflow-x:auto;line-height:normal;font-family:Menlo,'DejaVu Sans Mono',consolas,'Courier New',monospace\">Reading secret from C:\\Users\\david\\Documents\\GitHub\\ds-network-analysis\\data\\my_secrets.yaml…\n",
       "</pre>\n"
      ],
      "text/plain": [
       "Reading secret from C:\\Users\\david\\Documents\\GitHub\\ds-network-analysis\\data\\my_secrets.yaml…\n"
      ]
     },
     "metadata": {},
     "output_type": "display_data"
    },
    {
     "data": {
      "text/html": [
       "<pre style=\"white-space:pre;overflow-x:auto;line-height:normal;font-family:Menlo,'DejaVu Sans Mono',consolas,'Courier New',monospace\"></pre>\n"
      ],
      "text/plain": []
     },
     "metadata": {},
     "output_type": "display_data"
    },
    {
     "data": {
      "text/html": [
       "<pre style=\"white-space:pre;overflow-x:auto;line-height:normal;font-family:Menlo,'DejaVu Sans Mono',consolas,'Courier New',monospace\">\n",
       "</pre>\n"
      ],
      "text/plain": [
       "\n"
      ]
     },
     "metadata": {},
     "output_type": "display_data"
    },
    {
     "data": {
      "text/html": [
       "<pre style=\"white-space:pre;overflow-x:auto;line-height:normal;font-family:Menlo,'DejaVu Sans Mono',consolas,'Courier New',monospace\">Reading secret from C:\\Users\\david\\Documents\\GitHub\\ds-network-analysis\\data\\my_secrets.yaml…\n",
       "</pre>\n"
      ],
      "text/plain": [
       "Reading secret from C:\\Users\\david\\Documents\\GitHub\\ds-network-analysis\\data\\my_secrets.yaml…\n"
      ]
     },
     "metadata": {},
     "output_type": "display_data"
    },
    {
     "data": {
      "text/html": [
       "<pre style=\"white-space:pre;overflow-x:auto;line-height:normal;font-family:Menlo,'DejaVu Sans Mono',consolas,'Courier New',monospace\"></pre>\n"
      ],
      "text/plain": []
     },
     "metadata": {},
     "output_type": "display_data"
    },
    {
     "data": {
      "text/html": [
       "<pre style=\"white-space:pre;overflow-x:auto;line-height:normal;font-family:Menlo,'DejaVu Sans Mono',consolas,'Courier New',monospace\">\n",
       "</pre>\n"
      ],
      "text/plain": [
       "\n"
      ]
     },
     "metadata": {},
     "output_type": "display_data"
    },
    {
     "data": {
      "text/html": [
       "<pre style=\"white-space:pre;overflow-x:auto;line-height:normal;font-family:Menlo,'DejaVu Sans Mono',consolas,'Courier New',monospace\">Reading secret from C:\\Users\\david\\Documents\\GitHub\\ds-network-analysis\\data\\my_secrets.yaml…\n",
       "</pre>\n"
      ],
      "text/plain": [
       "Reading secret from C:\\Users\\david\\Documents\\GitHub\\ds-network-analysis\\data\\my_secrets.yaml…\n"
      ]
     },
     "metadata": {},
     "output_type": "display_data"
    },
    {
     "data": {
      "text/html": [
       "<pre style=\"white-space:pre;overflow-x:auto;line-height:normal;font-family:Menlo,'DejaVu Sans Mono',consolas,'Courier New',monospace\"></pre>\n"
      ],
      "text/plain": []
     },
     "metadata": {},
     "output_type": "display_data"
    },
    {
     "data": {
      "text/html": [
       "<pre style=\"white-space:pre;overflow-x:auto;line-height:normal;font-family:Menlo,'DejaVu Sans Mono',consolas,'Courier New',monospace\">\n",
       "</pre>\n"
      ],
      "text/plain": [
       "\n"
      ]
     },
     "metadata": {},
     "output_type": "display_data"
    },
    {
     "data": {
      "text/html": [
       "<pre style=\"white-space:pre;overflow-x:auto;line-height:normal;font-family:Menlo,'DejaVu Sans Mono',consolas,'Courier New',monospace\">Reading secret from C:\\Users\\david\\Documents\\GitHub\\ds-network-analysis\\data\\my_secrets.yaml…\n",
       "</pre>\n"
      ],
      "text/plain": [
       "Reading secret from C:\\Users\\david\\Documents\\GitHub\\ds-network-analysis\\data\\my_secrets.yaml…\n"
      ]
     },
     "metadata": {},
     "output_type": "display_data"
    },
    {
     "data": {
      "text/html": [
       "<pre style=\"white-space:pre;overflow-x:auto;line-height:normal;font-family:Menlo,'DejaVu Sans Mono',consolas,'Courier New',monospace\"></pre>\n"
      ],
      "text/plain": []
     },
     "metadata": {},
     "output_type": "display_data"
    },
    {
     "data": {
      "text/html": [
       "<pre style=\"white-space:pre;overflow-x:auto;line-height:normal;font-family:Menlo,'DejaVu Sans Mono',consolas,'Courier New',monospace\">\n",
       "</pre>\n"
      ],
      "text/plain": [
       "\n"
      ]
     },
     "metadata": {},
     "output_type": "display_data"
    },
    {
     "data": {
      "text/html": [
       "<pre style=\"white-space:pre;overflow-x:auto;line-height:normal;font-family:Menlo,'DejaVu Sans Mono',consolas,'Courier New',monospace\">Reading secret from C:\\Users\\david\\Documents\\GitHub\\ds-network-analysis\\data\\my_secrets.yaml…\n",
       "</pre>\n"
      ],
      "text/plain": [
       "Reading secret from C:\\Users\\david\\Documents\\GitHub\\ds-network-analysis\\data\\my_secrets.yaml…\n"
      ]
     },
     "metadata": {},
     "output_type": "display_data"
    },
    {
     "data": {
      "text/html": [
       "<pre style=\"white-space:pre;overflow-x:auto;line-height:normal;font-family:Menlo,'DejaVu Sans Mono',consolas,'Courier New',monospace\"></pre>\n"
      ],
      "text/plain": []
     },
     "metadata": {},
     "output_type": "display_data"
    },
    {
     "data": {
      "text/html": [
       "<pre style=\"white-space:pre;overflow-x:auto;line-height:normal;font-family:Menlo,'DejaVu Sans Mono',consolas,'Courier New',monospace\">\n",
       "</pre>\n"
      ],
      "text/plain": [
       "\n"
      ]
     },
     "metadata": {},
     "output_type": "display_data"
    },
    {
     "data": {
      "text/html": [
       "<pre style=\"white-space:pre;overflow-x:auto;line-height:normal;font-family:Menlo,'DejaVu Sans Mono',consolas,'Courier New',monospace\">Reading secret from C:\\Users\\david\\Documents\\GitHub\\ds-network-analysis\\data\\my_secrets.yaml…\n",
       "</pre>\n"
      ],
      "text/plain": [
       "Reading secret from C:\\Users\\david\\Documents\\GitHub\\ds-network-analysis\\data\\my_secrets.yaml…\n"
      ]
     },
     "metadata": {},
     "output_type": "display_data"
    },
    {
     "data": {
      "text/html": [
       "<pre style=\"white-space:pre;overflow-x:auto;line-height:normal;font-family:Menlo,'DejaVu Sans Mono',consolas,'Courier New',monospace\"></pre>\n"
      ],
      "text/plain": []
     },
     "metadata": {},
     "output_type": "display_data"
    },
    {
     "data": {
      "text/html": [
       "<pre style=\"white-space:pre;overflow-x:auto;line-height:normal;font-family:Menlo,'DejaVu Sans Mono',consolas,'Courier New',monospace\">\n",
       "</pre>\n"
      ],
      "text/plain": [
       "\n"
      ]
     },
     "metadata": {},
     "output_type": "display_data"
    },
    {
     "data": {
      "text/html": [
       "<pre style=\"white-space:pre;overflow-x:auto;line-height:normal;font-family:Menlo,'DejaVu Sans Mono',consolas,'Courier New',monospace\">Reading secret from C:\\Users\\david\\Documents\\GitHub\\ds-network-analysis\\data\\my_secrets.yaml…\n",
       "</pre>\n"
      ],
      "text/plain": [
       "Reading secret from C:\\Users\\david\\Documents\\GitHub\\ds-network-analysis\\data\\my_secrets.yaml…\n"
      ]
     },
     "metadata": {},
     "output_type": "display_data"
    },
    {
     "data": {
      "text/html": [
       "<pre style=\"white-space:pre;overflow-x:auto;line-height:normal;font-family:Menlo,'DejaVu Sans Mono',consolas,'Courier New',monospace\"></pre>\n"
      ],
      "text/plain": []
     },
     "metadata": {},
     "output_type": "display_data"
    },
    {
     "data": {
      "text/html": [
       "<pre style=\"white-space:pre;overflow-x:auto;line-height:normal;font-family:Menlo,'DejaVu Sans Mono',consolas,'Courier New',monospace\">\n",
       "</pre>\n"
      ],
      "text/plain": [
       "\n"
      ]
     },
     "metadata": {},
     "output_type": "display_data"
    },
    {
     "data": {
      "text/html": [
       "<pre style=\"white-space:pre;overflow-x:auto;line-height:normal;font-family:Menlo,'DejaVu Sans Mono',consolas,'Courier New',monospace\">Reading secret from C:\\Users\\david\\Documents\\GitHub\\ds-network-analysis\\data\\my_secrets.yaml…\n",
       "</pre>\n"
      ],
      "text/plain": [
       "Reading secret from C:\\Users\\david\\Documents\\GitHub\\ds-network-analysis\\data\\my_secrets.yaml…\n"
      ]
     },
     "metadata": {},
     "output_type": "display_data"
    },
    {
     "data": {
      "text/html": [
       "<pre style=\"white-space:pre;overflow-x:auto;line-height:normal;font-family:Menlo,'DejaVu Sans Mono',consolas,'Courier New',monospace\"></pre>\n"
      ],
      "text/plain": []
     },
     "metadata": {},
     "output_type": "display_data"
    },
    {
     "data": {
      "text/html": [
       "<pre style=\"white-space:pre;overflow-x:auto;line-height:normal;font-family:Menlo,'DejaVu Sans Mono',consolas,'Courier New',monospace\">\n",
       "</pre>\n"
      ],
      "text/plain": [
       "\n"
      ]
     },
     "metadata": {},
     "output_type": "display_data"
    },
    {
     "data": {
      "text/html": [
       "<pre style=\"white-space:pre;overflow-x:auto;line-height:normal;font-family:Menlo,'DejaVu Sans Mono',consolas,'Courier New',monospace\">Reading secret from C:\\Users\\david\\Documents\\GitHub\\ds-network-analysis\\data\\my_secrets.yaml…\n",
       "</pre>\n"
      ],
      "text/plain": [
       "Reading secret from C:\\Users\\david\\Documents\\GitHub\\ds-network-analysis\\data\\my_secrets.yaml…\n"
      ]
     },
     "metadata": {},
     "output_type": "display_data"
    },
    {
     "data": {
      "text/html": [
       "<pre style=\"white-space:pre;overflow-x:auto;line-height:normal;font-family:Menlo,'DejaVu Sans Mono',consolas,'Courier New',monospace\"></pre>\n"
      ],
      "text/plain": []
     },
     "metadata": {},
     "output_type": "display_data"
    },
    {
     "data": {
      "text/html": [
       "<pre style=\"white-space:pre;overflow-x:auto;line-height:normal;font-family:Menlo,'DejaVu Sans Mono',consolas,'Courier New',monospace\">\n",
       "</pre>\n"
      ],
      "text/plain": [
       "\n"
      ]
     },
     "metadata": {},
     "output_type": "display_data"
    },
    {
     "data": {
      "text/html": [
       "<pre style=\"white-space:pre;overflow-x:auto;line-height:normal;font-family:Menlo,'DejaVu Sans Mono',consolas,'Courier New',monospace\">Reading secret from C:\\Users\\david\\Documents\\GitHub\\ds-network-analysis\\data\\my_secrets.yaml…\n",
       "</pre>\n"
      ],
      "text/plain": [
       "Reading secret from C:\\Users\\david\\Documents\\GitHub\\ds-network-analysis\\data\\my_secrets.yaml…\n"
      ]
     },
     "metadata": {},
     "output_type": "display_data"
    },
    {
     "data": {
      "text/html": [
       "<pre style=\"white-space:pre;overflow-x:auto;line-height:normal;font-family:Menlo,'DejaVu Sans Mono',consolas,'Courier New',monospace\"></pre>\n"
      ],
      "text/plain": []
     },
     "metadata": {},
     "output_type": "display_data"
    },
    {
     "data": {
      "text/html": [
       "<pre style=\"white-space:pre;overflow-x:auto;line-height:normal;font-family:Menlo,'DejaVu Sans Mono',consolas,'Courier New',monospace\">\n",
       "</pre>\n"
      ],
      "text/plain": [
       "\n"
      ]
     },
     "metadata": {},
     "output_type": "display_data"
    },
    {
     "data": {
      "text/html": [
       "<pre style=\"white-space:pre;overflow-x:auto;line-height:normal;font-family:Menlo,'DejaVu Sans Mono',consolas,'Courier New',monospace\">Reading secret from C:\\Users\\david\\Documents\\GitHub\\ds-network-analysis\\data\\my_secrets.yaml…\n",
       "</pre>\n"
      ],
      "text/plain": [
       "Reading secret from C:\\Users\\david\\Documents\\GitHub\\ds-network-analysis\\data\\my_secrets.yaml…\n"
      ]
     },
     "metadata": {},
     "output_type": "display_data"
    },
    {
     "data": {
      "text/html": [
       "<pre style=\"white-space:pre;overflow-x:auto;line-height:normal;font-family:Menlo,'DejaVu Sans Mono',consolas,'Courier New',monospace\"></pre>\n"
      ],
      "text/plain": []
     },
     "metadata": {},
     "output_type": "display_data"
    },
    {
     "data": {
      "text/html": [
       "<pre style=\"white-space:pre;overflow-x:auto;line-height:normal;font-family:Menlo,'DejaVu Sans Mono',consolas,'Courier New',monospace\">\n",
       "</pre>\n"
      ],
      "text/plain": [
       "\n"
      ]
     },
     "metadata": {},
     "output_type": "display_data"
    },
    {
     "data": {
      "text/html": [
       "<pre style=\"white-space:pre;overflow-x:auto;line-height:normal;font-family:Menlo,'DejaVu Sans Mono',consolas,'Courier New',monospace\">Reading secret from C:\\Users\\david\\Documents\\GitHub\\ds-network-analysis\\data\\my_secrets.yaml…\n",
       "</pre>\n"
      ],
      "text/plain": [
       "Reading secret from C:\\Users\\david\\Documents\\GitHub\\ds-network-analysis\\data\\my_secrets.yaml…\n"
      ]
     },
     "metadata": {},
     "output_type": "display_data"
    },
    {
     "data": {
      "text/html": [
       "<pre style=\"white-space:pre;overflow-x:auto;line-height:normal;font-family:Menlo,'DejaVu Sans Mono',consolas,'Courier New',monospace\"></pre>\n"
      ],
      "text/plain": []
     },
     "metadata": {},
     "output_type": "display_data"
    },
    {
     "data": {
      "text/html": [
       "<pre style=\"white-space:pre;overflow-x:auto;line-height:normal;font-family:Menlo,'DejaVu Sans Mono',consolas,'Courier New',monospace\">\n",
       "</pre>\n"
      ],
      "text/plain": [
       "\n"
      ]
     },
     "metadata": {},
     "output_type": "display_data"
    },
    {
     "data": {
      "text/html": [
       "<pre style=\"white-space:pre;overflow-x:auto;line-height:normal;font-family:Menlo,'DejaVu Sans Mono',consolas,'Courier New',monospace\">Reading secret from C:\\Users\\david\\Documents\\GitHub\\ds-network-analysis\\data\\my_secrets.yaml…\n",
       "</pre>\n"
      ],
      "text/plain": [
       "Reading secret from C:\\Users\\david\\Documents\\GitHub\\ds-network-analysis\\data\\my_secrets.yaml…\n"
      ]
     },
     "metadata": {},
     "output_type": "display_data"
    },
    {
     "data": {
      "text/html": [
       "<pre style=\"white-space:pre;overflow-x:auto;line-height:normal;font-family:Menlo,'DejaVu Sans Mono',consolas,'Courier New',monospace\"></pre>\n"
      ],
      "text/plain": []
     },
     "metadata": {},
     "output_type": "display_data"
    },
    {
     "data": {
      "text/html": [
       "<pre style=\"white-space:pre;overflow-x:auto;line-height:normal;font-family:Menlo,'DejaVu Sans Mono',consolas,'Courier New',monospace\">\n",
       "</pre>\n"
      ],
      "text/plain": [
       "\n"
      ]
     },
     "metadata": {},
     "output_type": "display_data"
    },
    {
     "data": {
      "text/html": [
       "<pre style=\"white-space:pre;overflow-x:auto;line-height:normal;font-family:Menlo,'DejaVu Sans Mono',consolas,'Courier New',monospace\">Reading secret from C:\\Users\\david\\Documents\\GitHub\\ds-network-analysis\\data\\my_secrets.yaml…\n",
       "</pre>\n"
      ],
      "text/plain": [
       "Reading secret from C:\\Users\\david\\Documents\\GitHub\\ds-network-analysis\\data\\my_secrets.yaml…\n"
      ]
     },
     "metadata": {},
     "output_type": "display_data"
    },
    {
     "data": {
      "text/html": [
       "<pre style=\"white-space:pre;overflow-x:auto;line-height:normal;font-family:Menlo,'DejaVu Sans Mono',consolas,'Courier New',monospace\"></pre>\n"
      ],
      "text/plain": []
     },
     "metadata": {},
     "output_type": "display_data"
    },
    {
     "data": {
      "text/html": [
       "<pre style=\"white-space:pre;overflow-x:auto;line-height:normal;font-family:Menlo,'DejaVu Sans Mono',consolas,'Courier New',monospace\">\n",
       "</pre>\n"
      ],
      "text/plain": [
       "\n"
      ]
     },
     "metadata": {},
     "output_type": "display_data"
    },
    {
     "data": {
      "text/html": [
       "<pre style=\"white-space:pre;overflow-x:auto;line-height:normal;font-family:Menlo,'DejaVu Sans Mono',consolas,'Courier New',monospace\">Reading secret from C:\\Users\\david\\Documents\\GitHub\\ds-network-analysis\\data\\my_secrets.yaml…\n",
       "</pre>\n"
      ],
      "text/plain": [
       "Reading secret from C:\\Users\\david\\Documents\\GitHub\\ds-network-analysis\\data\\my_secrets.yaml…\n"
      ]
     },
     "metadata": {},
     "output_type": "display_data"
    },
    {
     "data": {
      "text/html": [
       "<pre style=\"white-space:pre;overflow-x:auto;line-height:normal;font-family:Menlo,'DejaVu Sans Mono',consolas,'Courier New',monospace\"></pre>\n"
      ],
      "text/plain": []
     },
     "metadata": {},
     "output_type": "display_data"
    },
    {
     "data": {
      "text/html": [
       "<pre style=\"white-space:pre;overflow-x:auto;line-height:normal;font-family:Menlo,'DejaVu Sans Mono',consolas,'Courier New',monospace\">\n",
       "</pre>\n"
      ],
      "text/plain": [
       "\n"
      ]
     },
     "metadata": {},
     "output_type": "display_data"
    },
    {
     "data": {
      "text/html": [
       "<pre style=\"white-space:pre;overflow-x:auto;line-height:normal;font-family:Menlo,'DejaVu Sans Mono',consolas,'Courier New',monospace\">Reading secret from C:\\Users\\david\\Documents\\GitHub\\ds-network-analysis\\data\\my_secrets.yaml…\n",
       "</pre>\n"
      ],
      "text/plain": [
       "Reading secret from C:\\Users\\david\\Documents\\GitHub\\ds-network-analysis\\data\\my_secrets.yaml…\n"
      ]
     },
     "metadata": {},
     "output_type": "display_data"
    },
    {
     "data": {
      "text/html": [
       "<pre style=\"white-space:pre;overflow-x:auto;line-height:normal;font-family:Menlo,'DejaVu Sans Mono',consolas,'Courier New',monospace\"></pre>\n"
      ],
      "text/plain": []
     },
     "metadata": {},
     "output_type": "display_data"
    },
    {
     "data": {
      "text/html": [
       "<pre style=\"white-space:pre;overflow-x:auto;line-height:normal;font-family:Menlo,'DejaVu Sans Mono',consolas,'Courier New',monospace\">\n",
       "</pre>\n"
      ],
      "text/plain": [
       "\n"
      ]
     },
     "metadata": {},
     "output_type": "display_data"
    },
    {
     "data": {
      "text/html": [
       "<pre style=\"white-space:pre;overflow-x:auto;line-height:normal;font-family:Menlo,'DejaVu Sans Mono',consolas,'Courier New',monospace\">Reading secret from C:\\Users\\david\\Documents\\GitHub\\ds-network-analysis\\data\\my_secrets.yaml…\n",
       "</pre>\n"
      ],
      "text/plain": [
       "Reading secret from C:\\Users\\david\\Documents\\GitHub\\ds-network-analysis\\data\\my_secrets.yaml…\n"
      ]
     },
     "metadata": {},
     "output_type": "display_data"
    },
    {
     "data": {
      "text/html": [
       "<pre style=\"white-space:pre;overflow-x:auto;line-height:normal;font-family:Menlo,'DejaVu Sans Mono',consolas,'Courier New',monospace\"></pre>\n"
      ],
      "text/plain": []
     },
     "metadata": {},
     "output_type": "display_data"
    },
    {
     "data": {
      "text/html": [
       "<pre style=\"white-space:pre;overflow-x:auto;line-height:normal;font-family:Menlo,'DejaVu Sans Mono',consolas,'Courier New',monospace\">\n",
       "</pre>\n"
      ],
      "text/plain": [
       "\n"
      ]
     },
     "metadata": {},
     "output_type": "display_data"
    },
    {
     "data": {
      "text/html": [
       "<pre style=\"white-space:pre;overflow-x:auto;line-height:normal;font-family:Menlo,'DejaVu Sans Mono',consolas,'Courier New',monospace\">Reading secret from C:\\Users\\david\\Documents\\GitHub\\ds-network-analysis\\data\\my_secrets.yaml…\n",
       "</pre>\n"
      ],
      "text/plain": [
       "Reading secret from C:\\Users\\david\\Documents\\GitHub\\ds-network-analysis\\data\\my_secrets.yaml…\n"
      ]
     },
     "metadata": {},
     "output_type": "display_data"
    },
    {
     "data": {
      "text/html": [
       "<pre style=\"white-space:pre;overflow-x:auto;line-height:normal;font-family:Menlo,'DejaVu Sans Mono',consolas,'Courier New',monospace\"></pre>\n"
      ],
      "text/plain": []
     },
     "metadata": {},
     "output_type": "display_data"
    },
    {
     "data": {
      "text/html": [
       "<pre style=\"white-space:pre;overflow-x:auto;line-height:normal;font-family:Menlo,'DejaVu Sans Mono',consolas,'Courier New',monospace\">\n",
       "</pre>\n"
      ],
      "text/plain": [
       "\n"
      ]
     },
     "metadata": {},
     "output_type": "display_data"
    },
    {
     "data": {
      "text/html": [
       "<pre style=\"white-space:pre;overflow-x:auto;line-height:normal;font-family:Menlo,'DejaVu Sans Mono',consolas,'Courier New',monospace\">Reading secret from C:\\Users\\david\\Documents\\GitHub\\ds-network-analysis\\data\\my_secrets.yaml…\n",
       "</pre>\n"
      ],
      "text/plain": [
       "Reading secret from C:\\Users\\david\\Documents\\GitHub\\ds-network-analysis\\data\\my_secrets.yaml…\n"
      ]
     },
     "metadata": {},
     "output_type": "display_data"
    },
    {
     "data": {
      "text/html": [
       "<pre style=\"white-space:pre;overflow-x:auto;line-height:normal;font-family:Menlo,'DejaVu Sans Mono',consolas,'Courier New',monospace\"></pre>\n"
      ],
      "text/plain": []
     },
     "metadata": {},
     "output_type": "display_data"
    },
    {
     "data": {
      "text/html": [
       "<pre style=\"white-space:pre;overflow-x:auto;line-height:normal;font-family:Menlo,'DejaVu Sans Mono',consolas,'Courier New',monospace\">\n",
       "</pre>\n"
      ],
      "text/plain": [
       "\n"
      ]
     },
     "metadata": {},
     "output_type": "display_data"
    },
    {
     "data": {
      "text/html": [
       "<pre style=\"white-space:pre;overflow-x:auto;line-height:normal;font-family:Menlo,'DejaVu Sans Mono',consolas,'Courier New',monospace\">Reading secret from C:\\Users\\david\\Documents\\GitHub\\ds-network-analysis\\data\\my_secrets.yaml…\n",
       "</pre>\n"
      ],
      "text/plain": [
       "Reading secret from C:\\Users\\david\\Documents\\GitHub\\ds-network-analysis\\data\\my_secrets.yaml…\n"
      ]
     },
     "metadata": {},
     "output_type": "display_data"
    },
    {
     "data": {
      "text/html": [
       "<pre style=\"white-space:pre;overflow-x:auto;line-height:normal;font-family:Menlo,'DejaVu Sans Mono',consolas,'Courier New',monospace\"></pre>\n"
      ],
      "text/plain": []
     },
     "metadata": {},
     "output_type": "display_data"
    },
    {
     "data": {
      "text/html": [
       "<pre style=\"white-space:pre;overflow-x:auto;line-height:normal;font-family:Menlo,'DejaVu Sans Mono',consolas,'Courier New',monospace\">\n",
       "</pre>\n"
      ],
      "text/plain": [
       "\n"
      ]
     },
     "metadata": {},
     "output_type": "display_data"
    },
    {
     "data": {
      "text/html": [
       "<pre style=\"white-space:pre;overflow-x:auto;line-height:normal;font-family:Menlo,'DejaVu Sans Mono',consolas,'Courier New',monospace\">Reading secret from C:\\Users\\david\\Documents\\GitHub\\ds-network-analysis\\data\\my_secrets.yaml…\n",
       "</pre>\n"
      ],
      "text/plain": [
       "Reading secret from C:\\Users\\david\\Documents\\GitHub\\ds-network-analysis\\data\\my_secrets.yaml…\n"
      ]
     },
     "metadata": {},
     "output_type": "display_data"
    },
    {
     "data": {
      "text/html": [
       "<pre style=\"white-space:pre;overflow-x:auto;line-height:normal;font-family:Menlo,'DejaVu Sans Mono',consolas,'Courier New',monospace\"></pre>\n"
      ],
      "text/plain": []
     },
     "metadata": {},
     "output_type": "display_data"
    },
    {
     "data": {
      "text/html": [
       "<pre style=\"white-space:pre;overflow-x:auto;line-height:normal;font-family:Menlo,'DejaVu Sans Mono',consolas,'Courier New',monospace\">\n",
       "</pre>\n"
      ],
      "text/plain": [
       "\n"
      ]
     },
     "metadata": {},
     "output_type": "display_data"
    },
    {
     "data": {
      "text/html": [
       "<pre style=\"white-space:pre;overflow-x:auto;line-height:normal;font-family:Menlo,'DejaVu Sans Mono',consolas,'Courier New',monospace\">Reading secret from C:\\Users\\david\\Documents\\GitHub\\ds-network-analysis\\data\\my_secrets.yaml…\n",
       "</pre>\n"
      ],
      "text/plain": [
       "Reading secret from C:\\Users\\david\\Documents\\GitHub\\ds-network-analysis\\data\\my_secrets.yaml…\n"
      ]
     },
     "metadata": {},
     "output_type": "display_data"
    },
    {
     "data": {
      "text/html": [
       "<pre style=\"white-space:pre;overflow-x:auto;line-height:normal;font-family:Menlo,'DejaVu Sans Mono',consolas,'Courier New',monospace\"></pre>\n"
      ],
      "text/plain": []
     },
     "metadata": {},
     "output_type": "display_data"
    },
    {
     "data": {
      "text/html": [
       "<pre style=\"white-space:pre;overflow-x:auto;line-height:normal;font-family:Menlo,'DejaVu Sans Mono',consolas,'Courier New',monospace\">\n",
       "</pre>\n"
      ],
      "text/plain": [
       "\n"
      ]
     },
     "metadata": {},
     "output_type": "display_data"
    },
    {
     "data": {
      "text/html": [
       "<pre style=\"white-space:pre;overflow-x:auto;line-height:normal;font-family:Menlo,'DejaVu Sans Mono',consolas,'Courier New',monospace\">Reading secret from C:\\Users\\david\\Documents\\GitHub\\ds-network-analysis\\data\\my_secrets.yaml…\n",
       "</pre>\n"
      ],
      "text/plain": [
       "Reading secret from C:\\Users\\david\\Documents\\GitHub\\ds-network-analysis\\data\\my_secrets.yaml…\n"
      ]
     },
     "metadata": {},
     "output_type": "display_data"
    },
    {
     "data": {
      "text/html": [
       "<pre style=\"white-space:pre;overflow-x:auto;line-height:normal;font-family:Menlo,'DejaVu Sans Mono',consolas,'Courier New',monospace\"></pre>\n"
      ],
      "text/plain": []
     },
     "metadata": {},
     "output_type": "display_data"
    },
    {
     "data": {
      "text/html": [
       "<pre style=\"white-space:pre;overflow-x:auto;line-height:normal;font-family:Menlo,'DejaVu Sans Mono',consolas,'Courier New',monospace\">\n",
       "</pre>\n"
      ],
      "text/plain": [
       "\n"
      ]
     },
     "metadata": {},
     "output_type": "display_data"
    },
    {
     "data": {
      "text/html": [
       "<pre style=\"white-space:pre;overflow-x:auto;line-height:normal;font-family:Menlo,'DejaVu Sans Mono',consolas,'Courier New',monospace\">Reading secret from C:\\Users\\david\\Documents\\GitHub\\ds-network-analysis\\data\\my_secrets.yaml…\n",
       "</pre>\n"
      ],
      "text/plain": [
       "Reading secret from C:\\Users\\david\\Documents\\GitHub\\ds-network-analysis\\data\\my_secrets.yaml…\n"
      ]
     },
     "metadata": {},
     "output_type": "display_data"
    },
    {
     "data": {
      "text/html": [
       "<pre style=\"white-space:pre;overflow-x:auto;line-height:normal;font-family:Menlo,'DejaVu Sans Mono',consolas,'Courier New',monospace\"></pre>\n"
      ],
      "text/plain": []
     },
     "metadata": {},
     "output_type": "display_data"
    },
    {
     "data": {
      "text/html": [
       "<pre style=\"white-space:pre;overflow-x:auto;line-height:normal;font-family:Menlo,'DejaVu Sans Mono',consolas,'Courier New',monospace\">\n",
       "</pre>\n"
      ],
      "text/plain": [
       "\n"
      ]
     },
     "metadata": {},
     "output_type": "display_data"
    },
    {
     "data": {
      "text/html": [
       "<pre style=\"white-space:pre;overflow-x:auto;line-height:normal;font-family:Menlo,'DejaVu Sans Mono',consolas,'Courier New',monospace\">Reading secret from C:\\Users\\david\\Documents\\GitHub\\ds-network-analysis\\data\\my_secrets.yaml…\n",
       "</pre>\n"
      ],
      "text/plain": [
       "Reading secret from C:\\Users\\david\\Documents\\GitHub\\ds-network-analysis\\data\\my_secrets.yaml…\n"
      ]
     },
     "metadata": {},
     "output_type": "display_data"
    },
    {
     "data": {
      "text/html": [
       "<pre style=\"white-space:pre;overflow-x:auto;line-height:normal;font-family:Menlo,'DejaVu Sans Mono',consolas,'Courier New',monospace\"></pre>\n"
      ],
      "text/plain": []
     },
     "metadata": {},
     "output_type": "display_data"
    },
    {
     "data": {
      "text/html": [
       "<pre style=\"white-space:pre;overflow-x:auto;line-height:normal;font-family:Menlo,'DejaVu Sans Mono',consolas,'Courier New',monospace\">\n",
       "</pre>\n"
      ],
      "text/plain": [
       "\n"
      ]
     },
     "metadata": {},
     "output_type": "display_data"
    },
    {
     "data": {
      "text/html": [
       "<pre style=\"white-space:pre;overflow-x:auto;line-height:normal;font-family:Menlo,'DejaVu Sans Mono',consolas,'Courier New',monospace\">Reading secret from C:\\Users\\david\\Documents\\GitHub\\ds-network-analysis\\data\\my_secrets.yaml…\n",
       "</pre>\n"
      ],
      "text/plain": [
       "Reading secret from C:\\Users\\david\\Documents\\GitHub\\ds-network-analysis\\data\\my_secrets.yaml…\n"
      ]
     },
     "metadata": {},
     "output_type": "display_data"
    },
    {
     "data": {
      "text/html": [
       "<pre style=\"white-space:pre;overflow-x:auto;line-height:normal;font-family:Menlo,'DejaVu Sans Mono',consolas,'Courier New',monospace\"></pre>\n"
      ],
      "text/plain": []
     },
     "metadata": {},
     "output_type": "display_data"
    },
    {
     "data": {
      "text/html": [
       "<pre style=\"white-space:pre;overflow-x:auto;line-height:normal;font-family:Menlo,'DejaVu Sans Mono',consolas,'Courier New',monospace\">\n",
       "</pre>\n"
      ],
      "text/plain": [
       "\n"
      ]
     },
     "metadata": {},
     "output_type": "display_data"
    },
    {
     "data": {
      "text/html": [
       "<pre style=\"white-space:pre;overflow-x:auto;line-height:normal;font-family:Menlo,'DejaVu Sans Mono',consolas,'Courier New',monospace\">Reading secret from C:\\Users\\david\\Documents\\GitHub\\ds-network-analysis\\data\\my_secrets.yaml…\n",
       "</pre>\n"
      ],
      "text/plain": [
       "Reading secret from C:\\Users\\david\\Documents\\GitHub\\ds-network-analysis\\data\\my_secrets.yaml…\n"
      ]
     },
     "metadata": {},
     "output_type": "display_data"
    },
    {
     "data": {
      "text/html": [
       "<pre style=\"white-space:pre;overflow-x:auto;line-height:normal;font-family:Menlo,'DejaVu Sans Mono',consolas,'Courier New',monospace\"></pre>\n"
      ],
      "text/plain": []
     },
     "metadata": {},
     "output_type": "display_data"
    },
    {
     "data": {
      "text/html": [
       "<pre style=\"white-space:pre;overflow-x:auto;line-height:normal;font-family:Menlo,'DejaVu Sans Mono',consolas,'Courier New',monospace\">\n",
       "</pre>\n"
      ],
      "text/plain": [
       "\n"
      ]
     },
     "metadata": {},
     "output_type": "display_data"
    },
    {
     "data": {
      "text/html": [
       "<pre style=\"white-space:pre;overflow-x:auto;line-height:normal;font-family:Menlo,'DejaVu Sans Mono',consolas,'Courier New',monospace\">Reading secret from C:\\Users\\david\\Documents\\GitHub\\ds-network-analysis\\data\\my_secrets.yaml…\n",
       "</pre>\n"
      ],
      "text/plain": [
       "Reading secret from C:\\Users\\david\\Documents\\GitHub\\ds-network-analysis\\data\\my_secrets.yaml…\n"
      ]
     },
     "metadata": {},
     "output_type": "display_data"
    },
    {
     "data": {
      "text/html": [
       "<pre style=\"white-space:pre;overflow-x:auto;line-height:normal;font-family:Menlo,'DejaVu Sans Mono',consolas,'Courier New',monospace\"></pre>\n"
      ],
      "text/plain": []
     },
     "metadata": {},
     "output_type": "display_data"
    },
    {
     "data": {
      "text/html": [
       "<pre style=\"white-space:pre;overflow-x:auto;line-height:normal;font-family:Menlo,'DejaVu Sans Mono',consolas,'Courier New',monospace\">\n",
       "</pre>\n"
      ],
      "text/plain": [
       "\n"
      ]
     },
     "metadata": {},
     "output_type": "display_data"
    },
    {
     "data": {
      "text/html": [
       "<pre style=\"white-space:pre;overflow-x:auto;line-height:normal;font-family:Menlo,'DejaVu Sans Mono',consolas,'Courier New',monospace\">Reading secret from C:\\Users\\david\\Documents\\GitHub\\ds-network-analysis\\data\\my_secrets.yaml…\n",
       "</pre>\n"
      ],
      "text/plain": [
       "Reading secret from C:\\Users\\david\\Documents\\GitHub\\ds-network-analysis\\data\\my_secrets.yaml…\n"
      ]
     },
     "metadata": {},
     "output_type": "display_data"
    },
    {
     "data": {
      "text/html": [
       "<pre style=\"white-space:pre;overflow-x:auto;line-height:normal;font-family:Menlo,'DejaVu Sans Mono',consolas,'Courier New',monospace\"></pre>\n"
      ],
      "text/plain": []
     },
     "metadata": {},
     "output_type": "display_data"
    },
    {
     "data": {
      "text/html": [
       "<pre style=\"white-space:pre;overflow-x:auto;line-height:normal;font-family:Menlo,'DejaVu Sans Mono',consolas,'Courier New',monospace\">\n",
       "</pre>\n"
      ],
      "text/plain": [
       "\n"
      ]
     },
     "metadata": {},
     "output_type": "display_data"
    },
    {
     "data": {
      "text/html": [
       "<pre style=\"white-space:pre;overflow-x:auto;line-height:normal;font-family:Menlo,'DejaVu Sans Mono',consolas,'Courier New',monospace\">Reading secret from C:\\Users\\david\\Documents\\GitHub\\ds-network-analysis\\data\\my_secrets.yaml…\n",
       "</pre>\n"
      ],
      "text/plain": [
       "Reading secret from C:\\Users\\david\\Documents\\GitHub\\ds-network-analysis\\data\\my_secrets.yaml…\n"
      ]
     },
     "metadata": {},
     "output_type": "display_data"
    },
    {
     "data": {
      "text/html": [
       "<pre style=\"white-space:pre;overflow-x:auto;line-height:normal;font-family:Menlo,'DejaVu Sans Mono',consolas,'Courier New',monospace\"></pre>\n"
      ],
      "text/plain": []
     },
     "metadata": {},
     "output_type": "display_data"
    },
    {
     "data": {
      "text/html": [
       "<pre style=\"white-space:pre;overflow-x:auto;line-height:normal;font-family:Menlo,'DejaVu Sans Mono',consolas,'Courier New',monospace\">\n",
       "</pre>\n"
      ],
      "text/plain": [
       "\n"
      ]
     },
     "metadata": {},
     "output_type": "display_data"
    },
    {
     "data": {
      "text/html": [
       "<pre style=\"white-space:pre;overflow-x:auto;line-height:normal;font-family:Menlo,'DejaVu Sans Mono',consolas,'Courier New',monospace\">Reading secret from C:\\Users\\david\\Documents\\GitHub\\ds-network-analysis\\data\\my_secrets.yaml…\n",
       "</pre>\n"
      ],
      "text/plain": [
       "Reading secret from C:\\Users\\david\\Documents\\GitHub\\ds-network-analysis\\data\\my_secrets.yaml…\n"
      ]
     },
     "metadata": {},
     "output_type": "display_data"
    },
    {
     "data": {
      "text/html": [
       "<pre style=\"white-space:pre;overflow-x:auto;line-height:normal;font-family:Menlo,'DejaVu Sans Mono',consolas,'Courier New',monospace\"></pre>\n"
      ],
      "text/plain": []
     },
     "metadata": {},
     "output_type": "display_data"
    },
    {
     "data": {
      "text/html": [
       "<pre style=\"white-space:pre;overflow-x:auto;line-height:normal;font-family:Menlo,'DejaVu Sans Mono',consolas,'Courier New',monospace\">\n",
       "</pre>\n"
      ],
      "text/plain": [
       "\n"
      ]
     },
     "metadata": {},
     "output_type": "display_data"
    },
    {
     "data": {
      "text/html": [
       "<pre style=\"white-space:pre;overflow-x:auto;line-height:normal;font-family:Menlo,'DejaVu Sans Mono',consolas,'Courier New',monospace\">Reading secret from C:\\Users\\david\\Documents\\GitHub\\ds-network-analysis\\data\\my_secrets.yaml…\n",
       "</pre>\n"
      ],
      "text/plain": [
       "Reading secret from C:\\Users\\david\\Documents\\GitHub\\ds-network-analysis\\data\\my_secrets.yaml…\n"
      ]
     },
     "metadata": {},
     "output_type": "display_data"
    },
    {
     "data": {
      "text/html": [
       "<pre style=\"white-space:pre;overflow-x:auto;line-height:normal;font-family:Menlo,'DejaVu Sans Mono',consolas,'Courier New',monospace\"></pre>\n"
      ],
      "text/plain": []
     },
     "metadata": {},
     "output_type": "display_data"
    },
    {
     "data": {
      "text/html": [
       "<pre style=\"white-space:pre;overflow-x:auto;line-height:normal;font-family:Menlo,'DejaVu Sans Mono',consolas,'Courier New',monospace\">\n",
       "</pre>\n"
      ],
      "text/plain": [
       "\n"
      ]
     },
     "metadata": {},
     "output_type": "display_data"
    },
    {
     "data": {
      "text/html": [
       "<pre style=\"white-space:pre;overflow-x:auto;line-height:normal;font-family:Menlo,'DejaVu Sans Mono',consolas,'Courier New',monospace\">Reading secret from C:\\Users\\david\\Documents\\GitHub\\ds-network-analysis\\data\\my_secrets.yaml…\n",
       "</pre>\n"
      ],
      "text/plain": [
       "Reading secret from C:\\Users\\david\\Documents\\GitHub\\ds-network-analysis\\data\\my_secrets.yaml…\n"
      ]
     },
     "metadata": {},
     "output_type": "display_data"
    },
    {
     "data": {
      "text/html": [
       "<pre style=\"white-space:pre;overflow-x:auto;line-height:normal;font-family:Menlo,'DejaVu Sans Mono',consolas,'Courier New',monospace\"></pre>\n"
      ],
      "text/plain": []
     },
     "metadata": {},
     "output_type": "display_data"
    },
    {
     "data": {
      "text/html": [
       "<pre style=\"white-space:pre;overflow-x:auto;line-height:normal;font-family:Menlo,'DejaVu Sans Mono',consolas,'Courier New',monospace\">\n",
       "</pre>\n"
      ],
      "text/plain": [
       "\n"
      ]
     },
     "metadata": {},
     "output_type": "display_data"
    },
    {
     "data": {
      "text/html": [
       "<pre style=\"white-space:pre;overflow-x:auto;line-height:normal;font-family:Menlo,'DejaVu Sans Mono',consolas,'Courier New',monospace\">Reading secret from C:\\Users\\david\\Documents\\GitHub\\ds-network-analysis\\data\\my_secrets.yaml…\n",
       "</pre>\n"
      ],
      "text/plain": [
       "Reading secret from C:\\Users\\david\\Documents\\GitHub\\ds-network-analysis\\data\\my_secrets.yaml…\n"
      ]
     },
     "metadata": {},
     "output_type": "display_data"
    },
    {
     "data": {
      "text/html": [
       "<pre style=\"white-space:pre;overflow-x:auto;line-height:normal;font-family:Menlo,'DejaVu Sans Mono',consolas,'Courier New',monospace\"></pre>\n"
      ],
      "text/plain": []
     },
     "metadata": {},
     "output_type": "display_data"
    },
    {
     "data": {
      "text/html": [
       "<pre style=\"white-space:pre;overflow-x:auto;line-height:normal;font-family:Menlo,'DejaVu Sans Mono',consolas,'Courier New',monospace\">\n",
       "</pre>\n"
      ],
      "text/plain": [
       "\n"
      ]
     },
     "metadata": {},
     "output_type": "display_data"
    },
    {
     "data": {
      "text/html": [
       "<pre style=\"white-space:pre;overflow-x:auto;line-height:normal;font-family:Menlo,'DejaVu Sans Mono',consolas,'Courier New',monospace\">Reading secret from C:\\Users\\david\\Documents\\GitHub\\ds-network-analysis\\data\\my_secrets.yaml…\n",
       "</pre>\n"
      ],
      "text/plain": [
       "Reading secret from C:\\Users\\david\\Documents\\GitHub\\ds-network-analysis\\data\\my_secrets.yaml…\n"
      ]
     },
     "metadata": {},
     "output_type": "display_data"
    },
    {
     "data": {
      "text/html": [
       "<pre style=\"white-space:pre;overflow-x:auto;line-height:normal;font-family:Menlo,'DejaVu Sans Mono',consolas,'Courier New',monospace\"></pre>\n"
      ],
      "text/plain": []
     },
     "metadata": {},
     "output_type": "display_data"
    },
    {
     "data": {
      "text/html": [
       "<pre style=\"white-space:pre;overflow-x:auto;line-height:normal;font-family:Menlo,'DejaVu Sans Mono',consolas,'Courier New',monospace\">\n",
       "</pre>\n"
      ],
      "text/plain": [
       "\n"
      ]
     },
     "metadata": {},
     "output_type": "display_data"
    },
    {
     "data": {
      "text/html": [
       "<pre style=\"white-space:pre;overflow-x:auto;line-height:normal;font-family:Menlo,'DejaVu Sans Mono',consolas,'Courier New',monospace\">Reading secret from C:\\Users\\david\\Documents\\GitHub\\ds-network-analysis\\data\\my_secrets.yaml…\n",
       "</pre>\n"
      ],
      "text/plain": [
       "Reading secret from C:\\Users\\david\\Documents\\GitHub\\ds-network-analysis\\data\\my_secrets.yaml…\n"
      ]
     },
     "metadata": {},
     "output_type": "display_data"
    },
    {
     "data": {
      "text/html": [
       "<pre style=\"white-space:pre;overflow-x:auto;line-height:normal;font-family:Menlo,'DejaVu Sans Mono',consolas,'Courier New',monospace\"></pre>\n"
      ],
      "text/plain": []
     },
     "metadata": {},
     "output_type": "display_data"
    },
    {
     "data": {
      "text/html": [
       "<pre style=\"white-space:pre;overflow-x:auto;line-height:normal;font-family:Menlo,'DejaVu Sans Mono',consolas,'Courier New',monospace\">\n",
       "</pre>\n"
      ],
      "text/plain": [
       "\n"
      ]
     },
     "metadata": {},
     "output_type": "display_data"
    },
    {
     "data": {
      "text/html": [
       "<pre style=\"white-space:pre;overflow-x:auto;line-height:normal;font-family:Menlo,'DejaVu Sans Mono',consolas,'Courier New',monospace\">Reading secret from C:\\Users\\david\\Documents\\GitHub\\ds-network-analysis\\data\\my_secrets.yaml…\n",
       "</pre>\n"
      ],
      "text/plain": [
       "Reading secret from C:\\Users\\david\\Documents\\GitHub\\ds-network-analysis\\data\\my_secrets.yaml…\n"
      ]
     },
     "metadata": {},
     "output_type": "display_data"
    },
    {
     "data": {
      "text/html": [
       "<pre style=\"white-space:pre;overflow-x:auto;line-height:normal;font-family:Menlo,'DejaVu Sans Mono',consolas,'Courier New',monospace\"></pre>\n"
      ],
      "text/plain": []
     },
     "metadata": {},
     "output_type": "display_data"
    },
    {
     "data": {
      "text/html": [
       "<pre style=\"white-space:pre;overflow-x:auto;line-height:normal;font-family:Menlo,'DejaVu Sans Mono',consolas,'Courier New',monospace\">\n",
       "</pre>\n"
      ],
      "text/plain": [
       "\n"
      ]
     },
     "metadata": {},
     "output_type": "display_data"
    },
    {
     "data": {
      "text/html": [
       "<pre style=\"white-space:pre;overflow-x:auto;line-height:normal;font-family:Menlo,'DejaVu Sans Mono',consolas,'Courier New',monospace\">Reading secret from C:\\Users\\david\\Documents\\GitHub\\ds-network-analysis\\data\\my_secrets.yaml…\n",
       "</pre>\n"
      ],
      "text/plain": [
       "Reading secret from C:\\Users\\david\\Documents\\GitHub\\ds-network-analysis\\data\\my_secrets.yaml…\n"
      ]
     },
     "metadata": {},
     "output_type": "display_data"
    },
    {
     "data": {
      "text/html": [
       "<pre style=\"white-space:pre;overflow-x:auto;line-height:normal;font-family:Menlo,'DejaVu Sans Mono',consolas,'Courier New',monospace\"></pre>\n"
      ],
      "text/plain": []
     },
     "metadata": {},
     "output_type": "display_data"
    },
    {
     "data": {
      "text/html": [
       "<pre style=\"white-space:pre;overflow-x:auto;line-height:normal;font-family:Menlo,'DejaVu Sans Mono',consolas,'Courier New',monospace\">\n",
       "</pre>\n"
      ],
      "text/plain": [
       "\n"
      ]
     },
     "metadata": {},
     "output_type": "display_data"
    },
    {
     "data": {
      "text/html": [
       "<pre style=\"white-space:pre;overflow-x:auto;line-height:normal;font-family:Menlo,'DejaVu Sans Mono',consolas,'Courier New',monospace\">Reading secret from C:\\Users\\david\\Documents\\GitHub\\ds-network-analysis\\data\\my_secrets.yaml…\n",
       "</pre>\n"
      ],
      "text/plain": [
       "Reading secret from C:\\Users\\david\\Documents\\GitHub\\ds-network-analysis\\data\\my_secrets.yaml…\n"
      ]
     },
     "metadata": {},
     "output_type": "display_data"
    },
    {
     "data": {
      "text/html": [
       "<pre style=\"white-space:pre;overflow-x:auto;line-height:normal;font-family:Menlo,'DejaVu Sans Mono',consolas,'Courier New',monospace\"></pre>\n"
      ],
      "text/plain": []
     },
     "metadata": {},
     "output_type": "display_data"
    },
    {
     "data": {
      "text/html": [
       "<pre style=\"white-space:pre;overflow-x:auto;line-height:normal;font-family:Menlo,'DejaVu Sans Mono',consolas,'Courier New',monospace\">\n",
       "</pre>\n"
      ],
      "text/plain": [
       "\n"
      ]
     },
     "metadata": {},
     "output_type": "display_data"
    },
    {
     "data": {
      "text/html": [
       "<pre style=\"white-space:pre;overflow-x:auto;line-height:normal;font-family:Menlo,'DejaVu Sans Mono',consolas,'Courier New',monospace\">Reading secret from C:\\Users\\david\\Documents\\GitHub\\ds-network-analysis\\data\\my_secrets.yaml…\n",
       "</pre>\n"
      ],
      "text/plain": [
       "Reading secret from C:\\Users\\david\\Documents\\GitHub\\ds-network-analysis\\data\\my_secrets.yaml…\n"
      ]
     },
     "metadata": {},
     "output_type": "display_data"
    },
    {
     "data": {
      "text/html": [
       "<pre style=\"white-space:pre;overflow-x:auto;line-height:normal;font-family:Menlo,'DejaVu Sans Mono',consolas,'Courier New',monospace\"></pre>\n"
      ],
      "text/plain": []
     },
     "metadata": {},
     "output_type": "display_data"
    },
    {
     "data": {
      "text/html": [
       "<pre style=\"white-space:pre;overflow-x:auto;line-height:normal;font-family:Menlo,'DejaVu Sans Mono',consolas,'Courier New',monospace\">\n",
       "</pre>\n"
      ],
      "text/plain": [
       "\n"
      ]
     },
     "metadata": {},
     "output_type": "display_data"
    },
    {
     "data": {
      "text/html": [
       "<pre style=\"white-space:pre;overflow-x:auto;line-height:normal;font-family:Menlo,'DejaVu Sans Mono',consolas,'Courier New',monospace\">Reading secret from C:\\Users\\david\\Documents\\GitHub\\ds-network-analysis\\data\\my_secrets.yaml…\n",
       "</pre>\n"
      ],
      "text/plain": [
       "Reading secret from C:\\Users\\david\\Documents\\GitHub\\ds-network-analysis\\data\\my_secrets.yaml…\n"
      ]
     },
     "metadata": {},
     "output_type": "display_data"
    },
    {
     "data": {
      "text/html": [
       "<pre style=\"white-space:pre;overflow-x:auto;line-height:normal;font-family:Menlo,'DejaVu Sans Mono',consolas,'Courier New',monospace\"></pre>\n"
      ],
      "text/plain": []
     },
     "metadata": {},
     "output_type": "display_data"
    },
    {
     "data": {
      "text/html": [
       "<pre style=\"white-space:pre;overflow-x:auto;line-height:normal;font-family:Menlo,'DejaVu Sans Mono',consolas,'Courier New',monospace\">\n",
       "</pre>\n"
      ],
      "text/plain": [
       "\n"
      ]
     },
     "metadata": {},
     "output_type": "display_data"
    },
    {
     "data": {
      "text/html": [
       "<pre style=\"white-space:pre;overflow-x:auto;line-height:normal;font-family:Menlo,'DejaVu Sans Mono',consolas,'Courier New',monospace\">Reading secret from C:\\Users\\david\\Documents\\GitHub\\ds-network-analysis\\data\\my_secrets.yaml…\n",
       "</pre>\n"
      ],
      "text/plain": [
       "Reading secret from C:\\Users\\david\\Documents\\GitHub\\ds-network-analysis\\data\\my_secrets.yaml…\n"
      ]
     },
     "metadata": {},
     "output_type": "display_data"
    },
    {
     "data": {
      "text/html": [
       "<pre style=\"white-space:pre;overflow-x:auto;line-height:normal;font-family:Menlo,'DejaVu Sans Mono',consolas,'Courier New',monospace\"></pre>\n"
      ],
      "text/plain": []
     },
     "metadata": {},
     "output_type": "display_data"
    },
    {
     "data": {
      "text/html": [
       "<pre style=\"white-space:pre;overflow-x:auto;line-height:normal;font-family:Menlo,'DejaVu Sans Mono',consolas,'Courier New',monospace\">\n",
       "</pre>\n"
      ],
      "text/plain": [
       "\n"
      ]
     },
     "metadata": {},
     "output_type": "display_data"
    },
    {
     "data": {
      "text/html": [
       "<pre style=\"white-space:pre;overflow-x:auto;line-height:normal;font-family:Menlo,'DejaVu Sans Mono',consolas,'Courier New',monospace\">Reading secret from C:\\Users\\david\\Documents\\GitHub\\ds-network-analysis\\data\\my_secrets.yaml…\n",
       "</pre>\n"
      ],
      "text/plain": [
       "Reading secret from C:\\Users\\david\\Documents\\GitHub\\ds-network-analysis\\data\\my_secrets.yaml…\n"
      ]
     },
     "metadata": {},
     "output_type": "display_data"
    },
    {
     "data": {
      "text/html": [
       "<pre style=\"white-space:pre;overflow-x:auto;line-height:normal;font-family:Menlo,'DejaVu Sans Mono',consolas,'Courier New',monospace\"></pre>\n"
      ],
      "text/plain": []
     },
     "metadata": {},
     "output_type": "display_data"
    },
    {
     "data": {
      "text/html": [
       "<pre style=\"white-space:pre;overflow-x:auto;line-height:normal;font-family:Menlo,'DejaVu Sans Mono',consolas,'Courier New',monospace\">\n",
       "</pre>\n"
      ],
      "text/plain": [
       "\n"
      ]
     },
     "metadata": {},
     "output_type": "display_data"
    },
    {
     "data": {
      "text/html": [
       "<pre style=\"white-space:pre;overflow-x:auto;line-height:normal;font-family:Menlo,'DejaVu Sans Mono',consolas,'Courier New',monospace\">Reading secret from C:\\Users\\david\\Documents\\GitHub\\ds-network-analysis\\data\\my_secrets.yaml…\n",
       "</pre>\n"
      ],
      "text/plain": [
       "Reading secret from C:\\Users\\david\\Documents\\GitHub\\ds-network-analysis\\data\\my_secrets.yaml…\n"
      ]
     },
     "metadata": {},
     "output_type": "display_data"
    },
    {
     "data": {
      "text/html": [
       "<pre style=\"white-space:pre;overflow-x:auto;line-height:normal;font-family:Menlo,'DejaVu Sans Mono',consolas,'Courier New',monospace\"></pre>\n"
      ],
      "text/plain": []
     },
     "metadata": {},
     "output_type": "display_data"
    },
    {
     "data": {
      "text/html": [
       "<pre style=\"white-space:pre;overflow-x:auto;line-height:normal;font-family:Menlo,'DejaVu Sans Mono',consolas,'Courier New',monospace\">\n",
       "</pre>\n"
      ],
      "text/plain": [
       "\n"
      ]
     },
     "metadata": {},
     "output_type": "display_data"
    }
   ],
   "source": [
    "#estarre pure retweeted_user_id per edge\n",
    "hashtag_for_user={}\n",
    "retweet_for_user={}\n",
    "verified_for_user={}\n",
    "location_for_user={}\n",
    "name_for_user={}\n",
    "username_for_user={}\n",
    "\n",
    "for e in user_id:\n",
    "    u=UserETL(e,pages=1)                                                       #aggiungere più pagine (1pag=20)\n",
    "    #preprocessing hashtag\n",
    "    u.df=u.df.dropna(subset=['entities.hashtags'])                             #drop nan values on column hashtags\n",
    "    u.df.reset_index()\n",
    "    u.df['entities.hashtags']=u.df['entities.hashtags'].apply(eval)            #convert into dict\n",
    "    u.df[\"entities.hashtags\"] = u.df[\"entities.hashtags\"].map(h.extract_tags)  #extract tags\n",
    "    hashtag_for_user[e]=u.df[\"entities.hashtags\"].tolist()                     #convert pandas series into a list\n",
    "    #preprocessing retweet\n",
    "    u.df=u.df.dropna(subset=['retweeted_user_id'])\n",
    "    retweet_for_user[e]=u.df['retweeted_user_id'].tolist()\n",
    "    #saving other attributes (to assigne it to a nodes as property)\n",
    "    verified_for_user[e]=u.df['author.verified']\n",
    "    location_for_user[e]=u.df['author.location'].tolist()\n",
    "    name_for_user[e]=u.df['author.name']\n",
    "   # name_for_user[e]=u.df['author.username']\n",
    "    \n",
    "    \n",
    "    "
   ]
  },
  {
   "cell_type": "code",
   "execution_count": 15,
   "id": "45a4171e",
   "metadata": {},
   "outputs": [],
   "source": [
    "user_id=[]\n",
    "name=[]\n",
    "hashtag=[]\n",
    "retweet=[]\n",
    "location=[]\n",
    "verified=[]\n",
    "for u,h in hashtag_for_user.items():\n",
    "    user_id.append(u)\n",
    "    hashtag.append(h)\n",
    "for u,r in retweet_for_user.items():\n",
    "    retweet.append(r)\n",
    "for u,n in name_for_user.items():\n",
    "    name.append(n)\n",
    "for u,l in location_for_user.items():\n",
    "    location.append(l)\n",
    "for u,v in verified_for_user.items():\n",
    "    verified.append(v)"
   ]
  },
  {
   "cell_type": "code",
   "execution_count": 20,
   "id": "a38659f2",
   "metadata": {},
   "outputs": [
    {
     "name": "stdout",
     "output_type": "stream",
     "text": [
      "77\n"
     ]
    }
   ],
   "source": [
    "print(len(verified))"
   ]
  },
  {
   "cell_type": "code",
   "execution_count": 28,
   "id": "d8022c8a",
   "metadata": {},
   "outputs": [
    {
     "data": {
      "text/html": [
       "<div>\n",
       "<style scoped>\n",
       "    .dataframe tbody tr th:only-of-type {\n",
       "        vertical-align: middle;\n",
       "    }\n",
       "\n",
       "    .dataframe tbody tr th {\n",
       "        vertical-align: top;\n",
       "    }\n",
       "\n",
       "    .dataframe thead th {\n",
       "        text-align: right;\n",
       "    }\n",
       "</style>\n",
       "<table border=\"1\" class=\"dataframe\">\n",
       "  <thead>\n",
       "    <tr style=\"text-align: right;\">\n",
       "      <th></th>\n",
       "      <th>user_id</th>\n",
       "      <th>name</th>\n",
       "      <th>retweet</th>\n",
       "      <th>hashtag</th>\n",
       "      <th>location</th>\n",
       "      <th>verified</th>\n",
       "    </tr>\n",
       "  </thead>\n",
       "  <tbody>\n",
       "    <tr>\n",
       "      <th>0</th>\n",
       "      <td>1357718765941710848</td>\n",
       "      <td>0    PeterJohnKing4\n",
       "Name: author.username, dty...</td>\n",
       "      <td>[1219232377605644289]</td>\n",
       "      <td>[[ukraine, russia]]</td>\n",
       "      <td>[Somewhere]</td>\n",
       "      <td>0    False\n",
       "Name: author.verified, dtype: bool</td>\n",
       "    </tr>\n",
       "    <tr>\n",
       "      <th>1</th>\n",
       "      <td>1151202637582348294</td>\n",
       "      <td>0     hephaistos_ai\n",
       "1     hephaistos_ai\n",
       "2     ...</td>\n",
       "      <td>[1246042405561872384, 1533187263156432896, 116...</td>\n",
       "      <td>[[covid, gouvernementdelahonte, nouvelordremon...</td>\n",
       "      <td>[Paris, Paris, Paris, Paris, Paris, Paris, Par...</td>\n",
       "      <td>0     False\n",
       "1     False\n",
       "2     False\n",
       "3     Fals...</td>\n",
       "    </tr>\n",
       "    <tr>\n",
       "      <th>2</th>\n",
       "      <td>1466835011454189571</td>\n",
       "      <td>0     RightAndFree_\n",
       "5     RightAndFree_\n",
       "6     ...</td>\n",
       "      <td>[1219232377605644289, 172377413, 1219232377605...</td>\n",
       "      <td>[[ukraine, russia], [ny19], [russia, ukraine],...</td>\n",
       "      <td>[nan, nan, nan, nan]</td>\n",
       "      <td>0     False\n",
       "5     False\n",
       "6     False\n",
       "16    Fals...</td>\n",
       "    </tr>\n",
       "    <tr>\n",
       "      <th>3</th>\n",
       "      <td>4813333392</td>\n",
       "      <td>0     PansareKetan\n",
       "8     PansareKetan\n",
       "13    Pa...</td>\n",
       "      <td>[81386285, 576533046, 849006404, 19897138]</td>\n",
       "      <td>[[shivsena, covid], [bjpjawabdo], [sanjaypande...</td>\n",
       "      <td>[nan, nan, nan, nan]</td>\n",
       "      <td>0     False\n",
       "8     False\n",
       "13    False\n",
       "19    Fals...</td>\n",
       "    </tr>\n",
       "    <tr>\n",
       "      <th>4</th>\n",
       "      <td>2471461255</td>\n",
       "      <td>0     CanadaRomania\n",
       "2     CanadaRomania\n",
       "4     ...</td>\n",
       "      <td>[121514648, 157981564, 14353202, 14353202, 410...</td>\n",
       "      <td>[[russia, ukraine, indonesia], [foodsecurity],...</td>\n",
       "      <td>[Bucharest, Romania, Bucharest, Romania, Bucha...</td>\n",
       "      <td>0     True\n",
       "2     True\n",
       "4     True\n",
       "5     True\n",
       "6 ...</td>\n",
       "    </tr>\n",
       "    <tr>\n",
       "      <th>...</th>\n",
       "      <td>...</td>\n",
       "      <td>...</td>\n",
       "      <td>...</td>\n",
       "      <td>...</td>\n",
       "      <td>...</td>\n",
       "      <td>...</td>\n",
       "    </tr>\n",
       "    <tr>\n",
       "      <th>72</th>\n",
       "      <td>47941897</td>\n",
       "      <td>0     ma000111\n",
       "1     ma000111\n",
       "2     ma000111\n",
       "3...</td>\n",
       "      <td>[47941897, 1167016822027112449, 47941897, 4794...</td>\n",
       "      <td>[[zelenskyy, warcrimes, donetsk, ukraine, ukra...</td>\n",
       "      <td>[England , England , England , England , Engla...</td>\n",
       "      <td>0     False\n",
       "1     False\n",
       "2     False\n",
       "3     Fals...</td>\n",
       "    </tr>\n",
       "    <tr>\n",
       "      <th>73</th>\n",
       "      <td>2865524457</td>\n",
       "      <td>0     michelangela_K\n",
       "2     michelangela_K\n",
       "5   ...</td>\n",
       "      <td>[23372297, 1364378809, 1091395730307190785, 33...</td>\n",
       "      <td>[[ukraine], [affenpocken, rki], [shinzoabe], [...</td>\n",
       "      <td>[Buxtehude, Buxtehude, Buxtehude, Buxtehude, B...</td>\n",
       "      <td>0     False\n",
       "2     False\n",
       "5     False\n",
       "13    Fals...</td>\n",
       "    </tr>\n",
       "    <tr>\n",
       "      <th>74</th>\n",
       "      <td>1056303825995337730</td>\n",
       "      <td>1     MesarutF\n",
       "4     MesarutF\n",
       "12    MesarutF\n",
       "1...</td>\n",
       "      <td>[1496161188077621251, 1505481949854502915, 100...</td>\n",
       "      <td>[[donbas, ukraine, ukrainewarnews, stoprussia]...</td>\n",
       "      <td>[nan, nan, nan, nan, nan]</td>\n",
       "      <td>1     False\n",
       "4     False\n",
       "12    False\n",
       "13    Fals...</td>\n",
       "    </tr>\n",
       "    <tr>\n",
       "      <th>75</th>\n",
       "      <td>3245630026</td>\n",
       "      <td>0     VerachikaV\n",
       "2     VerachikaV\n",
       "3     Verach...</td>\n",
       "      <td>[191145819, 23372297, 1231514832479948802, 206...</td>\n",
       "      <td>[[forgottensoulshour, rescuedog, rehomehour, r...</td>\n",
       "      <td>[nan, nan, nan, nan, nan, nan, nan, nan, nan]</td>\n",
       "      <td>0     False\n",
       "2     False\n",
       "3     False\n",
       "4     Fals...</td>\n",
       "    </tr>\n",
       "    <tr>\n",
       "      <th>76</th>\n",
       "      <td>4186147403</td>\n",
       "      <td>Series([], Name: author.username, dtype: object)</td>\n",
       "      <td>[]</td>\n",
       "      <td>[[truth, justice, russia, putin], [truth, just...</td>\n",
       "      <td>[]</td>\n",
       "      <td>Series([], Name: author.verified, dtype: bool)</td>\n",
       "    </tr>\n",
       "  </tbody>\n",
       "</table>\n",
       "<p>77 rows × 6 columns</p>\n",
       "</div>"
      ],
      "text/plain": [
       "                user_id                                               name  \\\n",
       "0   1357718765941710848  0    PeterJohnKing4\n",
       "Name: author.username, dty...   \n",
       "1   1151202637582348294  0     hephaistos_ai\n",
       "1     hephaistos_ai\n",
       "2     ...   \n",
       "2   1466835011454189571  0     RightAndFree_\n",
       "5     RightAndFree_\n",
       "6     ...   \n",
       "3            4813333392  0     PansareKetan\n",
       "8     PansareKetan\n",
       "13    Pa...   \n",
       "4            2471461255  0     CanadaRomania\n",
       "2     CanadaRomania\n",
       "4     ...   \n",
       "..                  ...                                                ...   \n",
       "72             47941897  0     ma000111\n",
       "1     ma000111\n",
       "2     ma000111\n",
       "3...   \n",
       "73           2865524457  0     michelangela_K\n",
       "2     michelangela_K\n",
       "5   ...   \n",
       "74  1056303825995337730  1     MesarutF\n",
       "4     MesarutF\n",
       "12    MesarutF\n",
       "1...   \n",
       "75           3245630026  0     VerachikaV\n",
       "2     VerachikaV\n",
       "3     Verach...   \n",
       "76           4186147403   Series([], Name: author.username, dtype: object)   \n",
       "\n",
       "                                              retweet  \\\n",
       "0                               [1219232377605644289]   \n",
       "1   [1246042405561872384, 1533187263156432896, 116...   \n",
       "2   [1219232377605644289, 172377413, 1219232377605...   \n",
       "3          [81386285, 576533046, 849006404, 19897138]   \n",
       "4   [121514648, 157981564, 14353202, 14353202, 410...   \n",
       "..                                                ...   \n",
       "72  [47941897, 1167016822027112449, 47941897, 4794...   \n",
       "73  [23372297, 1364378809, 1091395730307190785, 33...   \n",
       "74  [1496161188077621251, 1505481949854502915, 100...   \n",
       "75  [191145819, 23372297, 1231514832479948802, 206...   \n",
       "76                                                 []   \n",
       "\n",
       "                                              hashtag  \\\n",
       "0                                 [[ukraine, russia]]   \n",
       "1   [[covid, gouvernementdelahonte, nouvelordremon...   \n",
       "2   [[ukraine, russia], [ny19], [russia, ukraine],...   \n",
       "3   [[shivsena, covid], [bjpjawabdo], [sanjaypande...   \n",
       "4   [[russia, ukraine, indonesia], [foodsecurity],...   \n",
       "..                                                ...   \n",
       "72  [[zelenskyy, warcrimes, donetsk, ukraine, ukra...   \n",
       "73  [[ukraine], [affenpocken, rki], [shinzoabe], [...   \n",
       "74  [[donbas, ukraine, ukrainewarnews, stoprussia]...   \n",
       "75  [[forgottensoulshour, rescuedog, rehomehour, r...   \n",
       "76  [[truth, justice, russia, putin], [truth, just...   \n",
       "\n",
       "                                             location  \\\n",
       "0                                         [Somewhere]   \n",
       "1   [Paris, Paris, Paris, Paris, Paris, Paris, Par...   \n",
       "2                                [nan, nan, nan, nan]   \n",
       "3                                [nan, nan, nan, nan]   \n",
       "4   [Bucharest, Romania, Bucharest, Romania, Bucha...   \n",
       "..                                                ...   \n",
       "72  [England , England , England , England , Engla...   \n",
       "73  [Buxtehude, Buxtehude, Buxtehude, Buxtehude, B...   \n",
       "74                          [nan, nan, nan, nan, nan]   \n",
       "75      [nan, nan, nan, nan, nan, nan, nan, nan, nan]   \n",
       "76                                                 []   \n",
       "\n",
       "                                             verified  \n",
       "0       0    False\n",
       "Name: author.verified, dtype: bool  \n",
       "1   0     False\n",
       "1     False\n",
       "2     False\n",
       "3     Fals...  \n",
       "2   0     False\n",
       "5     False\n",
       "6     False\n",
       "16    Fals...  \n",
       "3   0     False\n",
       "8     False\n",
       "13    False\n",
       "19    Fals...  \n",
       "4   0     True\n",
       "2     True\n",
       "4     True\n",
       "5     True\n",
       "6 ...  \n",
       "..                                                ...  \n",
       "72  0     False\n",
       "1     False\n",
       "2     False\n",
       "3     Fals...  \n",
       "73  0     False\n",
       "2     False\n",
       "5     False\n",
       "13    Fals...  \n",
       "74  1     False\n",
       "4     False\n",
       "12    False\n",
       "13    Fals...  \n",
       "75  0     False\n",
       "2     False\n",
       "3     False\n",
       "4     Fals...  \n",
       "76     Series([], Name: author.verified, dtype: bool)  \n",
       "\n",
       "[77 rows x 6 columns]"
      ]
     },
     "execution_count": 28,
     "metadata": {},
     "output_type": "execute_result"
    }
   ],
   "source": [
    "#create a pandas dataframe\n",
    "df_nodes=pd.DataFrame({\"user_id\":user_id,\n",
    "                      'name': name,\n",
    "                      'retweet': retweet,\n",
    "                      \"hashtag\":hashtag,\n",
    "                     'location':location,\n",
    "                     'verified':verified})\n",
    "df_nodes"
   ]
  },
  {
   "cell_type": "code",
   "execution_count": 29,
   "id": "271f9874",
   "metadata": {},
   "outputs": [],
   "source": [
    "#convert nested lists on set\n",
    "outer_list = [] \n",
    "def lists_to_list(nested_lists): \n",
    "    for el in nested_lists: \n",
    "        if type(el) == list: \n",
    "            lists_to_list(el) \n",
    "        else: \n",
    "            outer_list.append(el)\n",
    "    return set(outer_list)"
   ]
  },
  {
   "cell_type": "code",
   "execution_count": 30,
   "id": "b11deee9",
   "metadata": {},
   "outputs": [],
   "source": [
    "outer_list = [] \n",
    "df_nodes['hashtag']=df_nodes['hashtag'].map(lists_to_list)\n",
    "outer_list = [] \n",
    "df_nodes['retweet']=df_nodes['retweet'].map(lists_to_list)\n",
    "outer_list = [] \n",
    "df_nodes['name']=df_nodes['name'].map(lists_to_list)\n",
    "outer_list = [] \n",
    "df_nodes['location']=df_nodes['location'].map(lists_to_list)\n",
    "outer_list = [] \n",
    "df_nodes['verified']=df_nodes['verified'].map(lists_to_list)"
   ]
  },
  {
   "cell_type": "code",
   "execution_count": 45,
   "id": "68463fd5",
   "metadata": {},
   "outputs": [
    {
     "name": "stdout",
     "output_type": "stream",
     "text": [
      "set()\n",
      "set()\n",
      "set()\n",
      "set()\n",
      "set()\n",
      "set()\n",
      "set()\n",
      "set()\n",
      "set()\n",
      "set()\n",
      "set()\n",
      "set()\n",
      "set()\n",
      "set()\n",
      "set()\n",
      "set()\n",
      "set()\n",
      "set()\n",
      "set()\n",
      "set()\n",
      "set()\n",
      "set()\n",
      "set()\n",
      "set()\n",
      "set()\n",
      "set()\n",
      "set()\n",
      "set()\n",
      "set()\n",
      "set()\n",
      "set()\n",
      "set()\n",
      "set()\n",
      "set()\n",
      "set()\n",
      "set()\n",
      "set()\n",
      "set()\n",
      "set()\n",
      "set()\n",
      "set()\n",
      "set()\n",
      "set()\n",
      "set()\n",
      "set()\n",
      "set()\n",
      "set()\n",
      "set()\n",
      "set()\n",
      "set()\n",
      "set()\n",
      "set()\n",
      "set()\n",
      "set()\n",
      "set()\n",
      "set()\n",
      "set()\n",
      "set()\n",
      "set()\n",
      "set()\n",
      "set()\n",
      "set()\n",
      "set()\n",
      "set()\n",
      "set()\n",
      "set()\n",
      "set()\n",
      "set()\n",
      "set()\n",
      "set()\n",
      "set()\n",
      "set()\n",
      "set()\n",
      "set()\n",
      "set()\n",
      "set()\n",
      "set()\n"
     ]
    }
   ],
   "source": [
    "boolean={'True','False'}\n",
    "for b in df_nodes['verified']:\n",
    "    print(b.intersection(boolean)) #=={'True','False'}:\n",
    "       # b=='True'"
   ]
  },
  {
   "cell_type": "code",
   "execution_count": 46,
   "id": "a4fff9fd",
   "metadata": {},
   "outputs": [
    {
     "data": {
      "text/html": [
       "<div>\n",
       "<style scoped>\n",
       "    .dataframe tbody tr th:only-of-type {\n",
       "        vertical-align: middle;\n",
       "    }\n",
       "\n",
       "    .dataframe tbody tr th {\n",
       "        vertical-align: top;\n",
       "    }\n",
       "\n",
       "    .dataframe thead th {\n",
       "        text-align: right;\n",
       "    }\n",
       "</style>\n",
       "<table border=\"1\" class=\"dataframe\">\n",
       "  <thead>\n",
       "    <tr style=\"text-align: right;\">\n",
       "      <th></th>\n",
       "      <th>user_id</th>\n",
       "      <th>name</th>\n",
       "      <th>retweet</th>\n",
       "      <th>hashtag</th>\n",
       "      <th>location</th>\n",
       "      <th>verified</th>\n",
       "    </tr>\n",
       "  </thead>\n",
       "  <tbody>\n",
       "    <tr>\n",
       "      <th>0</th>\n",
       "      <td>1357718765941710848</td>\n",
       "      <td>{PeterJohnKing4}</td>\n",
       "      <td>{1219232377605644289}</td>\n",
       "      <td>{ukraine, russia}</td>\n",
       "      <td>{Somewhere}</td>\n",
       "      <td>{False}</td>\n",
       "    </tr>\n",
       "    <tr>\n",
       "      <th>1</th>\n",
       "      <td>1151202637582348294</td>\n",
       "      <td>{PeterJohnKing4, hephaistos_ai}</td>\n",
       "      <td>{1533187263156432896, 24343635, 15422873631492...</td>\n",
       "      <td>{plandemic, staycovidsafe, vote, vacci, republ...</td>\n",
       "      <td>{Paris, Somewhere}</td>\n",
       "      <td>{False}</td>\n",
       "    </tr>\n",
       "    <tr>\n",
       "      <th>2</th>\n",
       "      <td>1466835011454189571</td>\n",
       "      <td>{PeterJohnKing4, RightAndFree_, hephaistos_ai}</td>\n",
       "      <td>{1533187263156432896, 24343635, 15422873631492...</td>\n",
       "      <td>{plandemic, staycovidsafe, vote, trumpisatrait...</td>\n",
       "      <td>{Paris, nan, Somewhere, nan, nan, nan}</td>\n",
       "      <td>{False}</td>\n",
       "    </tr>\n",
       "    <tr>\n",
       "      <th>3</th>\n",
       "      <td>4813333392</td>\n",
       "      <td>{PeterJohnKing4, RightAndFree_, PansareKetan, ...</td>\n",
       "      <td>{1533187263156432896, 24343635, 15422873631492...</td>\n",
       "      <td>{plandemic, staycovidsafe, vote, trumpisatrait...</td>\n",
       "      <td>{Paris, nan, nan, nan, Somewhere, nan, nan, na...</td>\n",
       "      <td>{False}</td>\n",
       "    </tr>\n",
       "    <tr>\n",
       "      <th>4</th>\n",
       "      <td>2471461255</td>\n",
       "      <td>{PeterJohnKing4, CanadaRomania, RightAndFree_,...</td>\n",
       "      <td>{1533187263156432896, 33285177, 24343635, 4105...</td>\n",
       "      <td>{trumpisatraitor, republican, covidvaccine, tr...</td>\n",
       "      <td>{Bucharest, Romania, Paris, nan, nan, nan, Som...</td>\n",
       "      <td>{False, True}</td>\n",
       "    </tr>\n",
       "    <tr>\n",
       "      <th>...</th>\n",
       "      <td>...</td>\n",
       "      <td>...</td>\n",
       "      <td>...</td>\n",
       "      <td>...</td>\n",
       "      <td>...</td>\n",
       "      <td>...</td>\n",
       "    </tr>\n",
       "    <tr>\n",
       "      <th>72</th>\n",
       "      <td>47941897</td>\n",
       "      <td>{PeterJohnKing4, Douglas17569801, CanadaRomani...</td>\n",
       "      <td>{791612573531668481, 2932618967, 1342474419944...</td>\n",
       "      <td>{, buckwheat, nutrition, trumpisatraitor, majo...</td>\n",
       "      <td>{nan, DCEU Earth 666, MCU Earth 616, nan, Repu...</td>\n",
       "      <td>{False, True}</td>\n",
       "    </tr>\n",
       "    <tr>\n",
       "      <th>73</th>\n",
       "      <td>2865524457</td>\n",
       "      <td>{PeterJohnKing4, Douglas17569801, CanadaRomani...</td>\n",
       "      <td>{791612573531668481, 2932618967, 3315313691, 1...</td>\n",
       "      <td>{, buckwheat, nutrition, trumpisatraitor, majo...</td>\n",
       "      <td>{nan, DCEU Earth 666, MCU Earth 616, nan, Repu...</td>\n",
       "      <td>{False, True}</td>\n",
       "    </tr>\n",
       "    <tr>\n",
       "      <th>74</th>\n",
       "      <td>1056303825995337730</td>\n",
       "      <td>{PeterJohnKing4, Douglas17569801, CanadaRomani...</td>\n",
       "      <td>{791612573531668481, 2932618967, 3315313691, 1...</td>\n",
       "      <td>{, buckwheat, nutrition, trumpisatraitor, majo...</td>\n",
       "      <td>{nan, DCEU Earth 666, MCU Earth 616, nan, Repu...</td>\n",
       "      <td>{False, True}</td>\n",
       "    </tr>\n",
       "    <tr>\n",
       "      <th>75</th>\n",
       "      <td>3245630026</td>\n",
       "      <td>{PeterJohnKing4, Douglas17569801, CanadaRomani...</td>\n",
       "      <td>{791612573531668481, 2932618967, 3315313691, 1...</td>\n",
       "      <td>{, buckwheat, nutrition, trumpisatraitor, majo...</td>\n",
       "      <td>{nan, DCEU Earth 666, MCU Earth 616, nan, nan,...</td>\n",
       "      <td>{False, True}</td>\n",
       "    </tr>\n",
       "    <tr>\n",
       "      <th>76</th>\n",
       "      <td>4186147403</td>\n",
       "      <td>{PeterJohnKing4, Douglas17569801, CanadaRomani...</td>\n",
       "      <td>{791612573531668481, 2932618967, 3315313691, 1...</td>\n",
       "      <td>{, buckwheat, sponsorsofterrorism, nutrition, ...</td>\n",
       "      <td>{nan, DCEU Earth 666, MCU Earth 616, nan, nan,...</td>\n",
       "      <td>{False, True}</td>\n",
       "    </tr>\n",
       "  </tbody>\n",
       "</table>\n",
       "<p>77 rows × 6 columns</p>\n",
       "</div>"
      ],
      "text/plain": [
       "                user_id                                               name  \\\n",
       "0   1357718765941710848                                   {PeterJohnKing4}   \n",
       "1   1151202637582348294                    {PeterJohnKing4, hephaistos_ai}   \n",
       "2   1466835011454189571     {PeterJohnKing4, RightAndFree_, hephaistos_ai}   \n",
       "3            4813333392  {PeterJohnKing4, RightAndFree_, PansareKetan, ...   \n",
       "4            2471461255  {PeterJohnKing4, CanadaRomania, RightAndFree_,...   \n",
       "..                  ...                                                ...   \n",
       "72             47941897  {PeterJohnKing4, Douglas17569801, CanadaRomani...   \n",
       "73           2865524457  {PeterJohnKing4, Douglas17569801, CanadaRomani...   \n",
       "74  1056303825995337730  {PeterJohnKing4, Douglas17569801, CanadaRomani...   \n",
       "75           3245630026  {PeterJohnKing4, Douglas17569801, CanadaRomani...   \n",
       "76           4186147403  {PeterJohnKing4, Douglas17569801, CanadaRomani...   \n",
       "\n",
       "                                              retweet  \\\n",
       "0                               {1219232377605644289}   \n",
       "1   {1533187263156432896, 24343635, 15422873631492...   \n",
       "2   {1533187263156432896, 24343635, 15422873631492...   \n",
       "3   {1533187263156432896, 24343635, 15422873631492...   \n",
       "4   {1533187263156432896, 33285177, 24343635, 4105...   \n",
       "..                                                ...   \n",
       "72  {791612573531668481, 2932618967, 1342474419944...   \n",
       "73  {791612573531668481, 2932618967, 3315313691, 1...   \n",
       "74  {791612573531668481, 2932618967, 3315313691, 1...   \n",
       "75  {791612573531668481, 2932618967, 3315313691, 1...   \n",
       "76  {791612573531668481, 2932618967, 3315313691, 1...   \n",
       "\n",
       "                                              hashtag  \\\n",
       "0                                   {ukraine, russia}   \n",
       "1   {plandemic, staycovidsafe, vote, vacci, republ...   \n",
       "2   {plandemic, staycovidsafe, vote, trumpisatrait...   \n",
       "3   {plandemic, staycovidsafe, vote, trumpisatrait...   \n",
       "4   {trumpisatraitor, republican, covidvaccine, tr...   \n",
       "..                                                ...   \n",
       "72  {, buckwheat, nutrition, trumpisatraitor, majo...   \n",
       "73  {, buckwheat, nutrition, trumpisatraitor, majo...   \n",
       "74  {, buckwheat, nutrition, trumpisatraitor, majo...   \n",
       "75  {, buckwheat, nutrition, trumpisatraitor, majo...   \n",
       "76  {, buckwheat, sponsorsofterrorism, nutrition, ...   \n",
       "\n",
       "                                             location       verified  \n",
       "0                                         {Somewhere}        {False}  \n",
       "1                                  {Paris, Somewhere}        {False}  \n",
       "2              {Paris, nan, Somewhere, nan, nan, nan}        {False}  \n",
       "3   {Paris, nan, nan, nan, Somewhere, nan, nan, na...        {False}  \n",
       "4   {Bucharest, Romania, Paris, nan, nan, nan, Som...  {False, True}  \n",
       "..                                                ...            ...  \n",
       "72  {nan, DCEU Earth 666, MCU Earth 616, nan, Repu...  {False, True}  \n",
       "73  {nan, DCEU Earth 666, MCU Earth 616, nan, Repu...  {False, True}  \n",
       "74  {nan, DCEU Earth 666, MCU Earth 616, nan, Repu...  {False, True}  \n",
       "75  {nan, DCEU Earth 666, MCU Earth 616, nan, nan,...  {False, True}  \n",
       "76  {nan, DCEU Earth 666, MCU Earth 616, nan, nan,...  {False, True}  \n",
       "\n",
       "[77 rows x 6 columns]"
      ]
     },
     "execution_count": 46,
     "metadata": {},
     "output_type": "execute_result"
    }
   ],
   "source": [
    "df_nodes"
   ]
  },
  {
   "cell_type": "code",
   "execution_count": 37,
   "id": "9d6486e1",
   "metadata": {},
   "outputs": [
    {
     "name": "stdout",
     "output_type": "stream",
     "text": [
      "l'utente 28 non  appartiene alla 4 categoria perchè usa {'slavaukraini'}\n",
      "l'utente 29 non  appartiene alla 4 categoria perchè usa {'slavaukraini'}\n",
      "l'utente 30 non  appartiene alla 4 categoria perchè usa {'slavaukraini'}\n",
      "l'utente 31 non  appartiene alla 4 categoria perchè usa {'slavaukraini'}\n",
      "l'utente 32 non  appartiene alla 4 categoria perchè usa {'slavaukraini'}\n",
      "l'utente 33 non  appartiene alla 4 categoria perchè usa {'slavaukraini'}\n",
      "l'utente 34 non  appartiene alla 4 categoria perchè usa {'slavaukraini'}\n",
      "l'utente 35 non  appartiene alla 4 categoria perchè usa {'slavaukraini'}\n",
      "l'utente 36 non  appartiene alla 4 categoria perchè usa {'slavaukraini'}\n",
      "l'utente 37 non  appartiene alla 4 categoria perchè usa {'slavaukraini'}\n",
      "l'utente 38 non  appartiene alla 4 categoria perchè usa {'slavaukraini'}\n",
      "l'utente 39 non  appartiene alla 4 categoria perchè usa {'slavaukraini'}\n",
      "l'utente 40 non  appartiene alla 4 categoria perchè usa {'slavaukraini'}\n",
      "l'utente 41 non  appartiene alla 4 categoria perchè usa {'slavaukraini', 'stopwarinukraine'}\n",
      "l'utente 42 non  appartiene alla 4 categoria perchè usa {'slavaukraini', 'stopwarinukraine'}\n",
      "l'utente 43 non  appartiene alla 4 categoria perchè usa {'slavaukraini', 'stopwarinukraine'}\n",
      "l'utente 44 non  appartiene alla 4 categoria perchè usa {'slavaukraini', 'stopwarinukraine'}\n",
      "l'utente 45 non  appartiene alla 4 categoria perchè usa {'slavaukraini', 'stopwarinukraine'}\n",
      "l'utente 46 non  appartiene alla 4 categoria perchè usa {'slavaukraini', 'stopwarinukraine'}\n",
      "l'utente 47 non  appartiene alla 4 categoria perchè usa {'slavaukraini', 'stopwarinukraine'}\n",
      "l'utente 48 non  appartiene alla 4 categoria perchè usa {'slavaukraini', 'stopwarinukraine'}\n",
      "l'utente 49 non  appartiene alla 4 categoria perchè usa {'slavaukraini', 'stopwarinukraine'}\n",
      "l'utente 50 non  appartiene alla 4 categoria perchè usa {'slavaukraini', 'stopwarinukraine'}\n",
      "l'utente 51 non  appartiene alla 4 categoria perchè usa {'slavaukraini', 'stopwarinukraine'}\n",
      "l'utente 52 non  appartiene alla 4 categoria perchè usa {'slavaukraini', 'stopwarinukraine'}\n",
      "l'utente 53 non  appartiene alla 4 categoria perchè usa {'slavaukraini', 'stopwarinukraine'}\n",
      "l'utente 54 non  appartiene alla 4 categoria perchè usa {'slavaukraini', 'stopwarinukraine'}\n",
      "l'utente 55 non  appartiene alla 4 categoria perchè usa {'slavaukraini', 'stopwarinukraine'}\n",
      "l'utente 56 non  appartiene alla 4 categoria perchè usa {'slavaukraini', 'stopwarinukraine'}\n",
      "l'utente 57 non  appartiene alla 4 categoria perchè usa {'slavaukraini', 'stopwarinukraine'}\n",
      "l'utente 58 non  appartiene alla 4 categoria perchè usa {'slavaukraini', 'stopwarinukraine'}\n",
      "l'utente 59 non  appartiene alla 4 categoria perchè usa {'slavaukraini', 'stopwarinukraine'}\n",
      "l'utente 60 non  appartiene alla 4 categoria perchè usa {'slavaukraini', 'stopwarinukraine'}\n",
      "l'utente 61 non  appartiene alla 4 categoria perchè usa {'slavaukraini', 'stopwarinukraine'}\n",
      "l'utente 62 non  appartiene alla 4 categoria perchè usa {'slavaukraini', 'stopwarinukraine'}\n",
      "l'utente 63 non  appartiene alla 4 categoria perchè usa {'slavaukraini', 'stopwarinukraine'}\n",
      "l'utente 64 non  appartiene alla 4 categoria perchè usa {'slavaukraini', 'stopwarinukraine'}\n",
      "l'utente 65 non  appartiene alla 4 categoria perchè usa {'slavaukraini', 'stopwarinukraine'}\n",
      "l'utente 66 non  appartiene alla 4 categoria perchè usa {'slavaukraini', 'stopwarinukraine'}\n",
      "l'utente 67 non  appartiene alla 4 categoria perchè usa {'slavaukraini', 'stopwarinukraine'}\n",
      "l'utente 68 non  appartiene alla 4 categoria perchè usa {'slavaukraini', 'stopwarinukraine'}\n",
      "l'utente 69 non  appartiene alla 4 categoria perchè usa {'slavaukraini', 'stopwarinukraine'}\n",
      "l'utente 70 non  appartiene alla 4 categoria perchè usa {'slavaukraini', 'stopwarinukraine'}\n",
      "l'utente 71 non  appartiene alla 4 categoria perchè usa {'slavaukraini', 'stopwarinukraine'}\n",
      "l'utente 72 non  appartiene alla 4 categoria perchè usa {'slavaukraini', 'stopwarinukraine'}\n",
      "l'utente 73 non  appartiene alla 4 categoria perchè usa {'slavaukraini', 'stopwarinukraine'}\n",
      "l'utente 74 non  appartiene alla 4 categoria perchè usa {'slavaukraini', 'stopwarinukraine'}\n",
      "l'utente 75 non  appartiene alla 4 categoria perchè usa {'slavaukraini', 'stopwarinukraine'}\n",
      "l'utente 76 non  appartiene alla 4 categoria perchè usa {'slavaukraini', 'stopwarinukraine'}\n",
      "l'utente 77 non  appartiene alla 4 categoria perchè usa {'slavaukraini', 'stopwarinukraine'}\n",
      "l'utente 78 non  appartiene alla 4 categoria perchè usa {'slavaukraini', 'stopwarinukraine'}\n",
      "l'utente 79 non  appartiene alla 4 categoria perchè usa {'slavaukraini', 'stopwarinukraine'}\n",
      "l'utente 80 non  appartiene alla 4 categoria perchè usa {'slavaukraini', 'stopwarinukraine'}\n",
      "l'utente 81 non  appartiene alla 4 categoria perchè usa {'slavaukraini', 'stopwarinukraine'}\n",
      "l'utente 82 non  appartiene alla 4 categoria perchè usa {'slavaukraini', 'stopwarinukraine'}\n",
      "l'utente 83 non  appartiene alla 4 categoria perchè usa {'slavaukraini', 'stopwarinukraine'}\n",
      "l'utente 84 non  appartiene alla 4 categoria perchè usa {'slavaukraini', 'stopwarinukraine'}\n",
      "l'utente 85 non  appartiene alla 4 categoria perchè usa {'slavaukraini', 'stopwarinukraine'}\n",
      "l'utente 86 non  appartiene alla 4 categoria perchè usa {'slavaukraini', 'stopwarinukraine'}\n",
      "l'utente 87 non  appartiene alla 4 categoria perchè usa {'slavaukraini', 'stopwarinukraine'}\n",
      "l'utente 88 non  appartiene alla 4 categoria perchè usa {'slavaukraini', 'stopwarinukraine'}\n",
      "l'utente 89 non  appartiene alla 4 categoria perchè usa {'slavaukraini', 'stopwarinukraine'}\n",
      "l'utente 90 non  appartiene alla 4 categoria perchè usa {'slavaukraini', 'stopwarinukraine'}\n",
      "l'utente 91 non  appartiene alla 4 categoria perchè usa {'slavaukraini', 'stopwarinukraine'}\n",
      "l'utente 92 non  appartiene alla 4 categoria perchè usa {'slavaukraini', 'stopwarinukraine'}\n",
      "l'utente 93 non  appartiene alla 4 categoria perchè usa {'slavaukraini', 'stopwarinukraine'}\n",
      "l'utente 94 non  appartiene alla 4 categoria perchè usa {'slavaukraini', 'stopwarinukraine'}\n",
      "l'utente 95 non  appartiene alla 4 categoria perchè usa {'slavaukraini', 'stopwarinukraine'}\n",
      "l'utente 96 non  appartiene alla 4 categoria perchè usa {'slavaukraini', 'stopwarinukraine'}\n",
      "l'utente 97 non  appartiene alla 4 categoria perchè usa {'slavaukraini', 'stopwarinukraine'}\n",
      "l'utente 98 non  appartiene alla 4 categoria perchè usa {'slavaukraini', 'stopwarinukraine'}\n",
      "l'utente 99 non  appartiene alla 4 categoria perchè usa {'slavaukraini', 'stopwarinukraine'}\n",
      "l'utente 100 non  appartiene alla 4 categoria perchè usa {'slavaukraini', 'stopwarinukraine'}\n",
      "l'utente 101 non  appartiene alla 4 categoria perchè usa {'slavaukraini', 'stopwarinukraine'}\n",
      "l'utente 102 non  appartiene alla 4 categoria perchè usa {'slavaukraini', 'stopwarinukraine'}\n",
      "l'utente 103 non  appartiene alla 4 categoria perchè usa {'slavaukraini', 'stopwarinukraine'}\n",
      "l'utente 104 non  appartiene alla 4 categoria perchè usa {'slavaukraini', 'stopwarinukraine'}\n",
      "l'utente 105 non  appartiene alla 4 categoria perchè usa {'slavaukraini', 'stopwarinukraine'}\n",
      "l'utente 106 non  appartiene alla 4 categoria perchè usa {'slavaukraini', 'stopwarinukraine'}\n",
      "l'utente 107 non  appartiene alla 4 categoria perchè usa {'slavaukraini', 'stopwarinukraine'}\n",
      "l'utente 108 non  appartiene alla 4 categoria perchè usa {'slavaukraini', 'stopwarinukraine'}\n",
      "l'utente 109 non  appartiene alla 4 categoria perchè usa {'slavaukraini', 'stopwarinukraine'}\n",
      "l'utente 110 non  appartiene alla 4 categoria perchè usa {'slavaukraini', 'stopwarinukraine'}\n",
      "l'utente 111 non  appartiene alla 4 categoria perchè usa {'slavaukraini', 'stopwarinukraine'}\n",
      "l'utente 112 non  appartiene alla 4 categoria perchè usa {'slavaukraini', 'stopwarinukraine'}\n",
      "l'utente 113 non  appartiene alla 4 categoria perchè usa {'slavaukraini', 'stopwarinukraine'}\n",
      "l'utente 114 non  appartiene alla 4 categoria perchè usa {'slavaukraini', 'stopwarinukraine'}\n",
      "l'utente 115 non  appartiene alla 4 categoria perchè usa {'slavaukraini', 'stopwarinukraine'}\n",
      "l'utente 116 non  appartiene alla 4 categoria perchè usa {'slavaukraini', 'stopwarinukraine'}\n",
      "l'utente 117 non  appartiene alla 4 categoria perchè usa {'slavaukraini', 'stopwarinukraine'}\n",
      "l'utente 118 non  appartiene alla 4 categoria perchè usa {'slavaukraini', 'stopwarinukraine'}\n",
      "l'utente 119 non  appartiene alla 4 categoria perchè usa {'slavaukraini', 'stopwarinukraine'}\n",
      "l'utente 120 non  appartiene alla 4 categoria perchè usa {'slavaukraini', 'stopwarinukraine'}\n",
      "l'utente 121 non  appartiene alla 4 categoria perchè usa {'slavaukraini', 'stopwarinukraine'}\n",
      "l'utente 122 non  appartiene alla 4 categoria perchè usa {'slavaukraini', 'stopwarinukraine'}\n",
      "l'utente 123 non  appartiene alla 4 categoria perchè usa {'slavaukraini', 'stopwarinukraine'}\n",
      "l'utente 124 non  appartiene alla 4 categoria perchè usa {'slavaukraini', 'stopwarinukraine'}\n",
      "l'utente 125 non  appartiene alla 4 categoria perchè usa {'slavaukraini', 'stopwarinukraine'}\n",
      "l'utente 126 non  appartiene alla 4 categoria perchè usa {'slavaukraini', 'stopwarinukraine'}\n",
      "l'utente 127 non  appartiene alla 4 categoria perchè usa {'slavaukraini', 'stopwarinukraine'}\n",
      "l'utente 128 non  appartiene alla 4 categoria perchè usa {'slavaukraini', 'stopwarinukraine'}\n",
      "l'utente 129 non  appartiene alla 4 categoria perchè usa {'slavaukraini', 'stopwarinukraine'}\n",
      "l'utente 130 non  appartiene alla 4 categoria perchè usa {'slavaukraini', 'stopwarinukraine'}\n",
      "l'utente 131 non  appartiene alla 4 categoria perchè usa {'slavaukraini', 'stopwarinukraine'}\n",
      "l'utente 132 non  appartiene alla 4 categoria perchè usa {'slavaukraini', 'stopwarinukraine'}\n",
      "l'utente 133 non  appartiene alla 4 categoria perchè usa {'slavaukraini', 'stopwarinukraine'}\n",
      "l'utente 134 non  appartiene alla 4 categoria perchè usa {'slavaukraini', 'stopwarinukraine'}\n",
      "l'utente 135 non  appartiene alla 4 categoria perchè usa {'slavaukraini', 'stopwarinukraine'}\n",
      "l'utente 136 non  appartiene alla 4 categoria perchè usa {'slavaukraini', 'stopwarinukraine'}\n",
      "l'utente 137 non  appartiene alla 4 categoria perchè usa {'slavaukraini', 'stopwarinukraine'}\n",
      "l'utente 138 non  appartiene alla 4 categoria perchè usa {'slavaukraini', 'stopwarinukraine'}\n",
      "l'utente 139 non  appartiene alla 4 categoria perchè usa {'slavaukraini', 'stopwarinukraine'}\n",
      "l'utente 140 non  appartiene alla 4 categoria perchè usa {'slavaukraini', 'stopwarinukraine'}\n",
      "l'utente 141 non  appartiene alla 4 categoria perchè usa {'slavaukraini', 'stopwarinukraine'}\n",
      "l'utente 142 non  appartiene alla 4 categoria perchè usa {'slavaukraini', 'stopwarinukraine'}\n",
      "l'utente 143 non  appartiene alla 4 categoria perchè usa {'slavaukraini', 'stopwarinukraine'}\n",
      "l'utente 144 non  appartiene alla 4 categoria perchè usa {'slavaukraini', 'stopwarinukraine'}\n",
      "l'utente 145 non  appartiene alla 4 categoria perchè usa {'slavaukraini', 'stopwarinukraine'}\n",
      "l'utente 146 non  appartiene alla 4 categoria perchè usa {'slavaukraini', 'stopwarinukraine'}\n",
      "l'utente 147 non  appartiene alla 4 categoria perchè usa {'slavaukraini', 'stopwarinukraine'}\n",
      "l'utente 148 non  appartiene alla 4 categoria perchè usa {'slavaukraini', 'stopwarinukraine'}\n",
      "l'utente 149 non  appartiene alla 4 categoria perchè usa {'slavaukraini', 'stopwarinukraine'}\n",
      "l'utente 150 non  appartiene alla 4 categoria perchè usa {'slavaukraini', 'stopwarinukraine'}\n",
      "l'utente 151 non  appartiene alla 4 categoria perchè usa {'slavaukraini', 'stopwarinukraine'}\n",
      "l'utente 152 non  appartiene alla 4 categoria perchè usa {'slavaukraini', 'stopwarinukraine'}\n",
      "l'utente 153 non  appartiene alla 4 categoria perchè usa {'slavaukraini', 'stopwarinukraine'}\n",
      "l'utente 154 non  appartiene alla 4 categoria perchè usa {'slavaukraini', 'stopwarinukraine'}\n",
      "l'utente 155 non  appartiene alla 4 categoria perchè usa {'slavaukraini', 'stopwarinukraine'}\n",
      "l'utente 156 non  appartiene alla 4 categoria perchè usa {'slavaukraini', 'stopwarinukraine'}\n",
      "l'utente 157 non  appartiene alla 4 categoria perchè usa {'slavaukraini', 'stopwarinukraine'}\n",
      "l'utente 158 non  appartiene alla 4 categoria perchè usa {'slavaukraini', 'stopwarinukraine'}\n",
      "l'utente 159 non  appartiene alla 4 categoria perchè usa {'slavaukraini', 'stopwarinukraine'}\n",
      "l'utente 160 non  appartiene alla 4 categoria perchè usa {'slavaukraini', 'stopwarinukraine'}\n",
      "l'utente 161 non  appartiene alla 4 categoria perchè usa {'slavaukraini', 'stopwarinukraine'}\n",
      "l'utente 162 non  appartiene alla 4 categoria perchè usa {'slavaukraini', 'stopwarinukraine'}\n",
      "l'utente 163 non  appartiene alla 4 categoria perchè usa {'slavaukraini', 'stopwarinukraine'}\n",
      "l'utente 164 non  appartiene alla 4 categoria perchè usa {'slavaukraini', 'stopwarinukraine'}\n",
      "l'utente 165 non  appartiene alla 4 categoria perchè usa {'slavaukraini', 'stopwarinukraine'}\n",
      "l'utente 166 non  appartiene alla 4 categoria perchè usa {'slavaukraini', 'stopwarinukraine'}\n",
      "l'utente 167 non  appartiene alla 4 categoria perchè usa {'slavaukraini', 'stopwarinukraine'}\n",
      "l'utente 168 non  appartiene alla 4 categoria perchè usa {'slavaukraini', 'stopwarinukraine'}\n",
      "l'utente 169 non  appartiene alla 4 categoria perchè usa {'slavaukraini', 'stopwarinukraine'}\n",
      "l'utente 170 non  appartiene alla 4 categoria perchè usa {'slavaukraini', 'stopwarinukraine'}\n",
      "l'utente 171 non  appartiene alla 4 categoria perchè usa {'slavaukraini', 'stopwarinukraine'}\n",
      "l'utente 172 non  appartiene alla 4 categoria perchè usa {'slavaukraini', 'stopwarinukraine'}\n",
      "l'utente 173 non  appartiene alla 4 categoria perchè usa {'slavaukraini', 'stopwarinukraine'}\n",
      "l'utente 174 non  appartiene alla 4 categoria perchè usa {'slavaukraini', 'stopwarinukraine'}\n",
      "l'utente 175 non  appartiene alla 4 categoria perchè usa {'slavaukraini', 'stopwarinukraine'}\n",
      "l'utente 176 non  appartiene alla 4 categoria perchè usa {'slavaukraini', 'stopwarinukraine'}\n",
      "l'utente 177 non  appartiene alla 4 categoria perchè usa {'slavaukraini', 'stopwarinukraine'}\n",
      "l'utente 178 non  appartiene alla 4 categoria perchè usa {'slavaukraini', 'stopwarinukraine'}\n",
      "l'utente 179 non  appartiene alla 4 categoria perchè usa {'slavaukraini', 'stopwarinukraine'}\n",
      "l'utente 180 non  appartiene alla 4 categoria perchè usa {'slavaukraini', 'stopwarinukraine'}\n",
      "l'utente 181 non  appartiene alla 4 categoria perchè usa {'slavaukraini', 'stopwarinukraine'}\n",
      "l'utente 182 non  appartiene alla 4 categoria perchè usa {'slavaukraini', 'stopwarinukraine'}\n",
      "l'utente 183 non  appartiene alla 4 categoria perchè usa {'slavaukraini', 'stopwarinukraine'}\n",
      "l'utente 184 non  appartiene alla 4 categoria perchè usa {'slavaukraini', 'stopwarinukraine'}\n",
      "l'utente 185 non  appartiene alla 4 categoria perchè usa {'slavaukraini', 'stopwarinukraine'}\n",
      "l'utente 186 non  appartiene alla 4 categoria perchè usa {'slavaukraini', 'stopwarinukraine'}\n",
      "l'utente 187 non  appartiene alla 4 categoria perchè usa {'slavaukraini', 'stopwarinukraine'}\n",
      "l'utente 188 non  appartiene alla 4 categoria perchè usa {'slavaukraini', 'stopwarinukraine'}\n",
      "l'utente 189 non  appartiene alla 4 categoria perchè usa {'slavaukraini', 'stopwarinukraine'}\n",
      "l'utente 190 non  appartiene alla 4 categoria perchè usa {'slavaukraini', 'stopwarinukraine'}\n",
      "l'utente 191 non  appartiene alla 4 categoria perchè usa {'slavaukraini', 'stopwarinukraine'}\n",
      "l'utente 192 non  appartiene alla 4 categoria perchè usa {'slavaukraini', 'stopwarinukraine'}\n",
      "l'utente 193 non  appartiene alla 4 categoria perchè usa {'slavaukraini', 'stopwarinukraine'}\n",
      "l'utente 194 non  appartiene alla 4 categoria perchè usa {'slavaukraini', 'stopwarinukraine'}\n",
      "l'utente 195 non  appartiene alla 4 categoria perchè usa {'slavaukraini', 'stopwarinukraine'}\n",
      "l'utente 196 non  appartiene alla 4 categoria perchè usa {'slavaukraini', 'stopwarinukraine'}\n",
      "l'utente 197 non  appartiene alla 4 categoria perchè usa {'slavaukraini', 'stopwarinukraine'}\n",
      "l'utente 198 non  appartiene alla 4 categoria perchè usa {'slavaukraini', 'stopwarinukraine'}\n",
      "l'utente 199 non  appartiene alla 4 categoria perchè usa {'slavaukraini', 'stopwarinukraine'}\n",
      "l'utente 200 non  appartiene alla 4 categoria perchè usa {'slavaukraini', 'stopwarinukraine'}\n",
      "l'utente 201 non  appartiene alla 4 categoria perchè usa {'slavaukraini', 'stopwarinukraine'}\n",
      "l'utente 202 non  appartiene alla 4 categoria perchè usa {'slavaukraini', 'stopwarinukraine'}\n",
      "l'utente 203 non  appartiene alla 4 categoria perchè usa {'slavaukraini', 'stopwarinukraine'}\n",
      "l'utente 204 non  appartiene alla 4 categoria perchè usa {'slavaukraini', 'stopwarinukraine'}\n",
      "l'utente 205 non  appartiene alla 4 categoria perchè usa {'slavaukraini', 'stopwarinukraine'}\n",
      "l'utente 206 non  appartiene alla 4 categoria perchè usa {'slavaukraini', 'stopwarinukraine'}\n",
      "l'utente 207 non  appartiene alla 4 categoria perchè usa {'slavaukraini', 'stopwarinukraine'}\n",
      "l'utente 208 non  appartiene alla 4 categoria perchè usa {'slavaukraini', 'stopwarinukraine'}\n",
      "l'utente 209 non  appartiene alla 4 categoria perchè usa {'slavaukraini', 'stopwarinukraine'}\n",
      "l'utente 210 non  appartiene alla 4 categoria perchè usa {'slavaukraini', 'stopwarinukraine'}\n",
      "l'utente 211 non  appartiene alla 4 categoria perchè usa {'slavaukraini', 'stopwarinukraine'}\n",
      "l'utente 212 non  appartiene alla 4 categoria perchè usa {'slavaukraini', 'stopwarinukraine'}\n",
      "l'utente 213 non  appartiene alla 4 categoria perchè usa {'slavaukraini', 'stopwarinukraine'}\n",
      "l'utente 214 non  appartiene alla 4 categoria perchè usa {'slavaukraini', 'istandwithrussia', 'stopwarinukraine'}\n",
      "l'utente 215 non  appartiene alla 4 categoria perchè usa {'slavaukraini', 'istandwithrussia', 'stopwarinukraine'}\n",
      "l'utente 216 non  appartiene alla 4 categoria perchè usa {'slavaukraini', 'istandwithrussia', 'stopwarinukraine'}\n",
      "l'utente 217 non  appartiene alla 4 categoria perchè usa {'slavaukraini', 'istandwithrussia', 'stopwarinukraine'}\n",
      "l'utente 218 non  appartiene alla 4 categoria perchè usa {'slavaukraini', 'istandwithrussia', 'stopwarinukraine'}\n",
      "l'utente 219 non  appartiene alla 4 categoria perchè usa {'slavaukraini', 'istandwithrussia', 'stopwarinukraine'}\n",
      "l'utente 220 non  appartiene alla 4 categoria perchè usa {'slavaukraini', 'istandwithrussia', 'stopwarinukraine'}\n",
      "l'utente 221 non  appartiene alla 4 categoria perchè usa {'slavaukraini', 'istandwithrussia', 'stopwarinukraine'}\n",
      "l'utente 222 non  appartiene alla 4 categoria perchè usa {'slavaukraini', 'istandwithrussia', 'stopwarinukraine'}\n",
      "l'utente 223 non  appartiene alla 4 categoria perchè usa {'slavaukraini', 'istandwithrussia', 'stopwarinukraine'}\n",
      "l'utente 224 non  appartiene alla 4 categoria perchè usa {'slavaukraini', 'istandwithrussia', 'stopwarinukraine'}\n",
      "l'utente 225 non  appartiene alla 4 categoria perchè usa {'slavaukraini', 'istandwithrussia', 'stopwarinukraine'}\n",
      "l'utente 226 non  appartiene alla 4 categoria perchè usa {'slavaukraini', 'istandwithrussia', 'stopwarinukraine'}\n",
      "l'utente 227 non  appartiene alla 4 categoria perchè usa {'slavaukraini', 'istandwithrussia', 'stopwarinukraine'}\n",
      "l'utente 228 non  appartiene alla 4 categoria perchè usa {'slavaukraini', 'istandwithrussia', 'stopwarinukraine'}\n",
      "l'utente 229 non  appartiene alla 4 categoria perchè usa {'slavaukraini', 'istandwithrussia', 'stopwarinukraine'}\n",
      "l'utente 230 non  appartiene alla 4 categoria perchè usa {'slavaukraini', 'istandwithrussia', 'stopwarinukraine'}\n",
      "l'utente 231 non  appartiene alla 4 categoria perchè usa {'slavaukraini', 'istandwithrussia', 'stopwarinukraine'}\n",
      "l'utente 232 non  appartiene alla 4 categoria perchè usa {'slavaukraini', 'istandwithrussia', 'stopwarinukraine'}\n",
      "l'utente 233 non  appartiene alla 4 categoria perchè usa {'slavaukraini', 'istandwithrussia', 'stopwarinukraine'}\n",
      "l'utente 234 non  appartiene alla 4 categoria perchè usa {'slavaukraini', 'istandwithrussia', 'stopwarinukraine'}\n",
      "l'utente 235 non  appartiene alla 4 categoria perchè usa {'slavaukraini', 'istandwithrussia', 'stopwarinukraine'}\n",
      "l'utente 236 non  appartiene alla 4 categoria perchè usa {'slavaukraini', 'istandwithrussia', 'stopwarinukraine'}\n",
      "l'utente 237 non  appartiene alla 4 categoria perchè usa {'slavaukraini', 'istandwithrussia', 'stopwarinukraine'}\n",
      "l'utente 238 non  appartiene alla 4 categoria perchè usa {'slavaukraini', 'istandwithrussia', 'stopwarinukraine'}\n",
      "l'utente 239 non  appartiene alla 4 categoria perchè usa {'slavaukraini', 'istandwithrussia', 'stopwarinukraine'}\n",
      "l'utente 240 non  appartiene alla 4 categoria perchè usa {'slavaukraini', 'istandwithrussia', 'stopwarinukraine'}\n",
      "l'utente 241 non  appartiene alla 4 categoria perchè usa {'slavaukraini', 'istandwithrussia', 'stopwarinukraine'}\n",
      "l'utente 242 non  appartiene alla 4 categoria perchè usa {'slavaukraini', 'istandwithrussia', 'stopwarinukraine'}\n",
      "l'utente 243 non  appartiene alla 4 categoria perchè usa {'slavaukraini', 'istandwithrussia', 'stopwarinukraine'}\n",
      "l'utente 244 non  appartiene alla 4 categoria perchè usa {'slavaukraini', 'istandwithrussia', 'stopwarinukraine'}\n",
      "l'utente 245 non  appartiene alla 4 categoria perchè usa {'slavaukraini', 'istandwithrussia', 'stopwarinukraine'}\n",
      "l'utente 246 non  appartiene alla 4 categoria perchè usa {'slavaukraini', 'istandwithrussia', 'stopwarinukraine'}\n",
      "l'utente 247 non  appartiene alla 4 categoria perchè usa {'slavaukraini', 'istandwithrussia', 'stopwarinukraine'}\n",
      "l'utente 248 non  appartiene alla 4 categoria perchè usa {'slavaukraini', 'istandwithrussia', 'stopwarinukraine'}\n",
      "l'utente 249 non  appartiene alla 4 categoria perchè usa {'slavaukraini', 'istandwithrussia', 'stopwarinukraine'}\n",
      "l'utente 250 non  appartiene alla 4 categoria perchè usa {'slavaukraini', 'istandwithrussia', 'stopwarinukraine'}\n",
      "l'utente 251 non  appartiene alla 4 categoria perchè usa {'slavaukraini', 'istandwithrussia', 'stopwarinukraine'}\n",
      "l'utente 252 non  appartiene alla 4 categoria perchè usa {'slavaukraini', 'istandwithrussia', 'stopwarinukraine'}\n",
      "l'utente 253 non  appartiene alla 4 categoria perchè usa {'slavaukraini', 'istandwithrussia', 'stopwarinukraine'}\n",
      "l'utente 254 non  appartiene alla 4 categoria perchè usa {'slavaukraini', 'istandwithrussia', 'stopwarinukraine'}\n",
      "l'utente 255 non  appartiene alla 4 categoria perchè usa {'slavaukraini', 'istandwithrussia', 'stopwarinukraine'}\n",
      "l'utente 256 non  appartiene alla 4 categoria perchè usa {'slavaukraini', 'istandwithrussia', 'stopwarinukraine'}\n",
      "l'utente 257 non  appartiene alla 4 categoria perchè usa {'slavaukraini', 'istandwithrussia', 'stopwarinukraine'}\n",
      "l'utente 258 non  appartiene alla 4 categoria perchè usa {'slavaukraini', 'istandwithrussia', 'stopwarinukraine'}\n",
      "l'utente 259 non  appartiene alla 4 categoria perchè usa {'slavaukraini', 'istandwithrussia', 'stopwarinukraine'}\n",
      "l'utente 260 non  appartiene alla 4 categoria perchè usa {'slavaukraini', 'istandwithrussia', 'stopwarinukraine'}\n",
      "l'utente 261 non  appartiene alla 4 categoria perchè usa {'slavaukraini', 'istandwithrussia', 'stopwarinukraine'}\n",
      "l'utente 262 non  appartiene alla 4 categoria perchè usa {'slavaukraini', 'istandwithrussia', 'stopwarinukraine'}\n",
      "l'utente 263 non  appartiene alla 4 categoria perchè usa {'slavaukraini', 'istandwithrussia', 'stopwarinukraine'}\n",
      "l'utente 264 non  appartiene alla 4 categoria perchè usa {'slavaukraini', 'istandwithrussia', 'stopwarinukraine'}\n",
      "l'utente 265 non  appartiene alla 4 categoria perchè usa {'slavaukraini', 'istandwithrussia', 'stopwarinukraine'}\n",
      "l'utente 266 non  appartiene alla 4 categoria perchè usa {'slavaukraini', 'istandwithrussia', 'stopwarinukraine'}\n",
      "l'utente 267 non  appartiene alla 4 categoria perchè usa {'slavaukraini', 'istandwithrussia', 'stopwarinukraine'}\n",
      "l'utente 268 non  appartiene alla 4 categoria perchè usa {'slavaukraini', 'istandwithrussia', 'stopwarinukraine'}\n",
      "l'utente 269 non  appartiene alla 4 categoria perchè usa {'slavaukraini', 'istandwithrussia', 'stopwarinukraine'}\n",
      "l'utente 270 non  appartiene alla 4 categoria perchè usa {'slavaukraini', 'istandwithrussia', 'stopwarinukraine'}\n",
      "l'utente 271 non  appartiene alla 4 categoria perchè usa {'slavaukraini', 'istandwithrussia', 'stopwarinukraine'}\n",
      "l'utente 272 non  appartiene alla 4 categoria perchè usa {'slavaukraini', 'istandwithrussia', 'stopwarinukraine'}\n",
      "l'utente 273 non  appartiene alla 4 categoria perchè usa {'slavaukraini', 'istandwithrussia', 'stopwarinukraine'}\n",
      "l'utente 274 non  appartiene alla 4 categoria perchè usa {'slavaukraini', 'istandwithrussia', 'stopwarinukraine'}\n",
      "l'utente 275 non  appartiene alla 4 categoria perchè usa {'slavaukraini', 'istandwithrussia', 'stopwarinukraine'}\n",
      "l'utente 276 non  appartiene alla 4 categoria perchè usa {'slavaukraini', 'istandwithrussia', 'stopwarinukraine'}\n",
      "l'utente 277 non  appartiene alla 4 categoria perchè usa {'slavaukraini', 'istandwithrussia', 'stopwarinukraine'}\n",
      "l'utente 278 non  appartiene alla 4 categoria perchè usa {'slavaukraini', 'istandwithrussia', 'stopwarinukraine'}\n",
      "l'utente 279 non  appartiene alla 4 categoria perchè usa {'slavaukraini', 'istandwithrussia', 'stopwarinukraine'}\n",
      "l'utente 280 non  appartiene alla 4 categoria perchè usa {'slavaukraini', 'istandwithrussia', 'stopwarinukraine'}\n",
      "l'utente 281 non  appartiene alla 4 categoria perchè usa {'slavaukraini', 'istandwithrussia', 'stopwarinukraine'}\n",
      "l'utente 282 non  appartiene alla 4 categoria perchè usa {'slavaukraini', 'istandwithrussia', 'stopwarinukraine'}\n",
      "l'utente 283 non  appartiene alla 4 categoria perchè usa {'slavaukraini', 'istandwithrussia', 'stopwarinukraine'}\n",
      "l'utente 284 non  appartiene alla 4 categoria perchè usa {'slavaukraini', 'istandwithrussia', 'stopwarinukraine'}\n",
      "l'utente 285 non  appartiene alla 4 categoria perchè usa {'slavaukraini', 'istandwithrussia', 'stopwarinukraine'}\n",
      "l'utente 286 non  appartiene alla 4 categoria perchè usa {'slavaukraini', 'istandwithrussia', 'stopwarinukraine'}\n",
      "l'utente 287 non  appartiene alla 4 categoria perchè usa {'slavaukraini', 'istandwithrussia', 'stopwarinukraine'}\n",
      "l'utente 288 non  appartiene alla 4 categoria perchè usa {'slavaukraini', 'istandwithrussia', 'stopwarinukraine'}\n",
      "l'utente 289 non  appartiene alla 4 categoria perchè usa {'slavaukraini', 'istandwithrussia', 'stopwarinukraine'}\n",
      "l'utente 290 non  appartiene alla 4 categoria perchè usa {'slavaukraini', 'istandwithrussia', 'stopwarinukraine'}\n",
      "l'utente 291 non  appartiene alla 4 categoria perchè usa {'slavaukraini', 'istandwithrussia', 'stopwarinukraine'}\n",
      "l'utente 292 non  appartiene alla 4 categoria perchè usa {'slavaukraini', 'istandwithrussia', 'stopwarinukraine'}\n",
      "l'utente 293 non  appartiene alla 4 categoria perchè usa {'slavaukraini', 'istandwithrussia', 'stopwarinukraine'}\n",
      "l'utente 294 non  appartiene alla 4 categoria perchè usa {'slavaukraini', 'istandwithrussia', 'stopwarinukraine'}\n",
      "l'utente 295 non  appartiene alla 4 categoria perchè usa {'slavaukraini', 'istandwithrussia', 'stopwarinukraine'}\n",
      "l'utente 296 non  appartiene alla 4 categoria perchè usa {'slavaukraini', 'istandwithrussia', 'stopwarinukraine'}\n",
      "l'utente 297 non  appartiene alla 4 categoria perchè usa {'slavaukraini', 'istandwithrussia', 'stopwarinukraine'}\n",
      "l'utente 298 non  appartiene alla 4 categoria perchè usa {'slavaukraini', 'istandwithrussia', 'stopwarinukraine'}\n",
      "l'utente 299 non  appartiene alla 4 categoria perchè usa {'slavaukraini', 'istandwithrussia', 'stopwarinukraine'}\n",
      "l'utente 300 non  appartiene alla 4 categoria perchè usa {'slavaukraini', 'istandwithrussia', 'stopwarinukraine'}\n",
      "l'utente 301 non  appartiene alla 4 categoria perchè usa {'slavaukraini', 'istandwithrussia', 'stopwarinukraine'}\n",
      "l'utente 302 non  appartiene alla 4 categoria perchè usa {'slavaukraini', 'istandwithrussia', 'stopwarinukraine'}\n",
      "l'utente 303 non  appartiene alla 4 categoria perchè usa {'slavaukraini', 'istandwithrussia', 'stopwarinukraine'}\n",
      "l'utente 304 non  appartiene alla 4 categoria perchè usa {'slavaukraini', 'istandwithrussia', 'stopwarinukraine'}\n",
      "l'utente 305 non  appartiene alla 4 categoria perchè usa {'slavaukraini', 'istandwithrussia', 'stopwarinukraine'}\n",
      "l'utente 306 non  appartiene alla 4 categoria perchè usa {'slavaukraini', 'istandwithrussia', 'stopwarinukraine'}\n",
      "l'utente 307 non  appartiene alla 4 categoria perchè usa {'slavaukraini', 'istandwithrussia', 'stopwarinukraine'}\n",
      "l'utente 308 non  appartiene alla 4 categoria perchè usa {'slavaukraini', 'istandwithrussia', 'stopwarinukraine'}\n",
      "l'utente 309 non  appartiene alla 4 categoria perchè usa {'slavaukraini', 'istandwithrussia', 'stopwarinukraine'}\n",
      "l'utente 310 non  appartiene alla 4 categoria perchè usa {'slavaukraini', 'istandwithrussia', 'stopwarinukraine'}\n",
      "l'utente 311 non  appartiene alla 4 categoria perchè usa {'slavaukraini', 'istandwithrussia', 'stopwarinukraine'}\n",
      "l'utente 312 non  appartiene alla 4 categoria perchè usa {'slavaukraini', 'istandwithrussia', 'stopwarinukraine'}\n",
      "l'utente 313 non  appartiene alla 4 categoria perchè usa {'slavaukraini', 'istandwithrussia', 'stopwarinukraine'}\n",
      "l'utente 314 non  appartiene alla 4 categoria perchè usa {'slavaukraini', 'istandwithrussia', 'stopwarinukraine'}\n",
      "l'utente 315 non  appartiene alla 4 categoria perchè usa {'slavaukraini', 'istandwithrussia', 'stopwarinukraine'}\n",
      "l'utente 316 non  appartiene alla 4 categoria perchè usa {'slavaukraini', 'istandwithrussia', 'stopwarinukraine'}\n",
      "l'utente 317 non  appartiene alla 4 categoria perchè usa {'slavaukraini', 'istandwithrussia', 'stopwarinukraine'}\n",
      "l'utente 318 non  appartiene alla 4 categoria perchè usa {'slavaukraini', 'istandwithrussia', 'stopwarinukraine'}\n",
      "l'utente 319 non  appartiene alla 4 categoria perchè usa {'slavaukraini', 'istandwithrussia', 'stopwarinukraine'}\n",
      "l'utente 320 non  appartiene alla 4 categoria perchè usa {'slavaukraini', 'istandwithrussia', 'stopwarinukraine'}\n",
      "l'utente 321 non  appartiene alla 4 categoria perchè usa {'slavaukraini', 'istandwithrussia', 'stopwarinukraine'}\n",
      "l'utente 322 non  appartiene alla 4 categoria perchè usa {'slavaukraini', 'istandwithrussia', 'stopwarinukraine'}\n",
      "l'utente 323 non  appartiene alla 4 categoria perchè usa {'slavaukraini', 'istandwithrussia', 'stopwarinukraine'}\n",
      "l'utente 324 non  appartiene alla 4 categoria perchè usa {'slavaukraini', 'istandwithrussia', 'stopwarinukraine'}\n",
      "l'utente 325 non  appartiene alla 4 categoria perchè usa {'slavaukraini', 'istandwithrussia', 'stopwarinukraine'}\n",
      "l'utente 326 non  appartiene alla 4 categoria perchè usa {'slavaukraini', 'istandwithrussia', 'stopwarinukraine'}\n",
      "l'utente 327 non  appartiene alla 4 categoria perchè usa {'slavaukraini', 'istandwithrussia', 'stopwarinukraine'}\n",
      "l'utente 328 non  appartiene alla 4 categoria perchè usa {'slavaukraini', 'istandwithrussia', 'stopwarinukraine'}\n",
      "l'utente 329 non  appartiene alla 4 categoria perchè usa {'slavaukraini', 'istandwithrussia', 'stopwarinukraine'}\n",
      "l'utente 330 non  appartiene alla 4 categoria perchè usa {'slavaukraini', 'istandwithrussia', 'stopwarinukraine'}\n",
      "l'utente 331 non  appartiene alla 4 categoria perchè usa {'slavaukraini', 'istandwithrussia', 'stopwarinukraine'}\n",
      "l'utente 332 non  appartiene alla 4 categoria perchè usa {'slavaukraini', 'istandwithrussia', 'stopwarinukraine'}\n",
      "l'utente 333 non  appartiene alla 4 categoria perchè usa {'slavaukraini', 'istandwithrussia', 'stopwarinukraine'}\n",
      "l'utente 334 non  appartiene alla 4 categoria perchè usa {'slavaukraini', 'istandwithrussia', 'stopwarinukraine'}\n",
      "l'utente 335 non  appartiene alla 4 categoria perchè usa {'slavaukraini', 'istandwithrussia', 'stopwarinukraine'}\n",
      "l'utente 336 non  appartiene alla 4 categoria perchè usa {'slavaukraini', 'istandwithrussia', 'stopwarinukraine'}\n",
      "l'utente 337 non  appartiene alla 4 categoria perchè usa {'slavaukraini', 'istandwithrussia', 'stopwarinukraine'}\n",
      "l'utente 338 non  appartiene alla 4 categoria perchè usa {'slavaukraini', 'istandwithrussia', 'stopwarinukraine'}\n",
      "l'utente 339 non  appartiene alla 4 categoria perchè usa {'slavaukraini', 'istandwithrussia', 'stopwarinukraine'}\n",
      "l'utente 340 non  appartiene alla 4 categoria perchè usa {'slavaukraini', 'istandwithrussia', 'stopwarinukraine'}\n",
      "l'utente 341 non  appartiene alla 4 categoria perchè usa {'slavaukraini', 'istandwithrussia', 'stopwarinukraine'}\n",
      "l'utente 342 non  appartiene alla 4 categoria perchè usa {'slavaukraini', 'istandwithrussia', 'stopwarinukraine'}\n",
      "l'utente 343 non  appartiene alla 4 categoria perchè usa {'slavaukraini', 'istandwithrussia', 'stopwarinukraine'}\n",
      "l'utente 344 non  appartiene alla 4 categoria perchè usa {'slavaukraini', 'istandwithrussia', 'stopwarinukraine'}\n",
      "l'utente 345 non  appartiene alla 4 categoria perchè usa {'slavaukraini', 'istandwithrussia', 'stopwarinukraine'}\n",
      "l'utente 346 non  appartiene alla 4 categoria perchè usa {'slavaukraini', 'istandwithrussia', 'stopwarinukraine'}\n",
      "l'utente 347 non  appartiene alla 4 categoria perchè usa {'slavaukraini', 'istandwithrussia', 'stopwarinukraine'}\n",
      "l'utente 348 non  appartiene alla 4 categoria perchè usa {'slavaukraini', 'istandwithrussia', 'stopwarinukraine'}\n",
      "l'utente 349 non  appartiene alla 4 categoria perchè usa {'slavaukraini', 'istandwithrussia', 'stopwarinukraine'}\n",
      "l'utente 350 non  appartiene alla 4 categoria perchè usa {'slavaukraini', 'istandwithrussia', 'stopwarinukraine'}\n",
      "l'utente 351 non  appartiene alla 4 categoria perchè usa {'slavaukraini', 'istandwithrussia', 'stopwarinukraine'}\n",
      "l'utente 352 non  appartiene alla 4 categoria perchè usa {'slavaukraini', 'istandwithrussia', 'stopwarinukraine'}\n",
      "l'utente 353 non  appartiene alla 4 categoria perchè usa {'slavaukraini', 'istandwithrussia', 'stopwarinukraine'}\n",
      "l'utente 354 non  appartiene alla 4 categoria perchè usa {'slavaukraini', 'istandwithrussia', 'stopwarinukraine'}\n",
      "l'utente 355 non  appartiene alla 4 categoria perchè usa {'slavaukraini', 'istandwithrussia', 'stopwarinukraine'}\n",
      "l'utente 356 non  appartiene alla 4 categoria perchè usa {'slavaukraini', 'istandwithrussia', 'stopwarinukraine'}\n",
      "l'utente 357 non  appartiene alla 4 categoria perchè usa {'slavaukraini', 'istandwithrussia', 'stopwarinukraine'}\n",
      "l'utente 358 non  appartiene alla 4 categoria perchè usa {'slavaukraini', 'istandwithrussia', 'stopwarinukraine'}\n",
      "l'utente 359 non  appartiene alla 4 categoria perchè usa {'slavaukraini', 'istandwithrussia', 'stopwarinukraine'}\n",
      "l'utente 360 non  appartiene alla 4 categoria perchè usa {'slavaukraini', 'istandwithrussia', 'stopwarinukraine'}\n",
      "l'utente 361 non  appartiene alla 4 categoria perchè usa {'slavaukraini', 'istandwithrussia', 'stopwarinukraine'}\n",
      "l'utente 362 non  appartiene alla 4 categoria perchè usa {'slavaukraini', 'istandwithrussia', 'stopwarinukraine'}\n",
      "l'utente 363 non  appartiene alla 4 categoria perchè usa {'slavaukraini', 'istandwithrussia', 'stopwarinukraine'}\n",
      "l'utente 364 non  appartiene alla 4 categoria perchè usa {'slavaukraini', 'istandwithrussia', 'stopwarinukraine'}\n",
      "l'utente 365 non  appartiene alla 4 categoria perchè usa {'slavaukraini', 'istandwithrussia', 'stopwarinukraine'}\n",
      "l'utente 366 non  appartiene alla 4 categoria perchè usa {'slavaukraini', 'istandwithrussia', 'stopwarinukraine'}\n",
      "l'utente 367 non  appartiene alla 4 categoria perchè usa {'slavaukraini', 'istandwithrussia', 'stopwarinukraine'}\n",
      "l'utente 368 non  appartiene alla 4 categoria perchè usa {'slavaukraini', 'istandwithrussia', 'stopwarinukraine'}\n",
      "l'utente 369 non  appartiene alla 4 categoria perchè usa {'slavaukraini', 'istandwithrussia', 'stopwarinukraine'}\n",
      "l'utente 370 non  appartiene alla 4 categoria perchè usa {'slavaukraini', 'istandwithrussia', 'stopwarinukraine'}\n",
      "l'utente 371 non  appartiene alla 4 categoria perchè usa {'slavaukraini', 'istandwithrussia', 'stopwarinukraine'}\n",
      "l'utente 372 non  appartiene alla 4 categoria perchè usa {'slavaukraini', 'istandwithrussia', 'stopwarinukraine'}\n",
      "l'utente 373 non  appartiene alla 4 categoria perchè usa {'slavaukraini', 'istandwithrussia', 'stopwarinukraine'}\n",
      "l'utente 374 non  appartiene alla 4 categoria perchè usa {'slavaukraini', 'istandwithrussia', 'stopwarinukraine'}\n",
      "l'utente 375 non  appartiene alla 4 categoria perchè usa {'slavaukraini', 'istandwithrussia', 'stopwarinukraine'}\n",
      "l'utente 376 non  appartiene alla 4 categoria perchè usa {'slavaukraini', 'istandwithrussia', 'stopwarinukraine'}\n",
      "l'utente 377 non  appartiene alla 4 categoria perchè usa {'slavaukraini', 'istandwithrussia', 'stopwarinukraine'}\n",
      "l'utente 378 non  appartiene alla 4 categoria perchè usa {'slavaukraini', 'istandwithrussia', 'stopwarinukraine'}\n",
      "l'utente 379 non  appartiene alla 4 categoria perchè usa {'slavaukraini', 'istandwithrussia', 'stopwarinukraine'}\n",
      "l'utente 380 non  appartiene alla 4 categoria perchè usa {'slavaukraini', 'istandwithrussia', 'stopwarinukraine'}\n",
      "l'utente 381 non  appartiene alla 4 categoria perchè usa {'slavaukraini', 'istandwithrussia', 'stopwarinukraine'}\n",
      "l'utente 382 non  appartiene alla 4 categoria perchè usa {'slavaukraini', 'istandwithrussia', 'stopwarinukraine'}\n",
      "l'utente 383 non  appartiene alla 4 categoria perchè usa {'slavaukraini', 'istandwithrussia', 'stopwarinukraine'}\n",
      "l'utente 384 non  appartiene alla 4 categoria perchè usa {'slavaukraini', 'istandwithrussia', 'stopwarinukraine'}\n",
      "l'utente 385 non  appartiene alla 4 categoria perchè usa {'slavaukraini', 'istandwithrussia', 'stopwarinukraine'}\n",
      "l'utente 386 non  appartiene alla 4 categoria perchè usa {'slavaukraini', 'istandwithrussia', 'stopwarinukraine'}\n",
      "l'utente 387 non  appartiene alla 4 categoria perchè usa {'slavaukraini', 'istandwithrussia', 'stopwarinukraine'}\n",
      "l'utente 388 non  appartiene alla 4 categoria perchè usa {'slavaukraini', 'istandwithrussia', 'stopwarinukraine'}\n",
      "l'utente 389 non  appartiene alla 4 categoria perchè usa {'slavaukraini', 'istandwithrussia', 'stopwarinukraine'}\n",
      "l'utente 390 non  appartiene alla 4 categoria perchè usa {'slavaukraini', 'istandwithrussia', 'stopwarinukraine'}\n",
      "l'utente 391 non  appartiene alla 4 categoria perchè usa {'slavaukraini', 'istandwithrussia', 'stopwarinukraine'}\n",
      "l'utente 392 non  appartiene alla 4 categoria perchè usa {'slavaukraini', 'istandwithrussia', 'stopwarinukraine'}\n",
      "l'utente 393 non  appartiene alla 4 categoria perchè usa {'slavaukraini', 'istandwithrussia', 'stopwarinukraine'}\n",
      "l'utente 394 non  appartiene alla 4 categoria perchè usa {'slavaukraini', 'istandwithrussia', 'stopwarinukraine'}\n",
      "l'utente 395 non  appartiene alla 4 categoria perchè usa {'slavaukraini', 'istandwithrussia', 'stopwarinukraine'}\n",
      "l'utente 396 non  appartiene alla 4 categoria perchè usa {'slavaukraini', 'istandwithrussia', 'stopwarinukraine'}\n",
      "l'utente 397 non  appartiene alla 4 categoria perchè usa {'slavaukraini', 'istandwithrussia', 'stopwarinukraine'}\n",
      "l'utente 398 non  appartiene alla 4 categoria perchè usa {'slavaukraini', 'istandwithrussia', 'stopwarinukraine'}\n",
      "l'utente 399 non  appartiene alla 4 categoria perchè usa {'slavaukraini', 'istandwithrussia', 'stopwarinukraine'}\n",
      "l'utente 400 non  appartiene alla 4 categoria perchè usa {'slavaukraini', 'istandwithrussia', 'stopwarinukraine'}\n",
      "l'utente 401 non  appartiene alla 4 categoria perchè usa {'slavaukraini', 'istandwithrussia', 'stopwarinukraine'}\n",
      "l'utente 402 non  appartiene alla 4 categoria perchè usa {'slavaukraini', 'istandwithrussia', 'stopwarinukraine'}\n",
      "l'utente 403 non  appartiene alla 4 categoria perchè usa {'slavaukraini', 'istandwithrussia', 'stopwarinukraine'}\n",
      "l'utente 404 non  appartiene alla 4 categoria perchè usa {'slavaukraini', 'istandwithrussia', 'stopwarinukraine'}\n",
      "l'utente 405 non  appartiene alla 4 categoria perchè usa {'slavaukraini', 'istandwithrussia', 'stopwarinukraine'}\n",
      "l'utente 406 non  appartiene alla 4 categoria perchè usa {'slavaukraini', 'istandwithrussia', 'stopwarinukraine'}\n",
      "l'utente 407 non  appartiene alla 4 categoria perchè usa {'slavaukraini', 'istandwithrussia', 'stopwarinukraine'}\n",
      "l'utente 408 non  appartiene alla 4 categoria perchè usa {'slavaukraini', 'istandwithrussia', 'stopwarinukraine'}\n",
      "l'utente 409 non  appartiene alla 4 categoria perchè usa {'slavaukraini', 'istandwithrussia', 'stopwarinukraine'}\n",
      "l'utente 410 non  appartiene alla 4 categoria perchè usa {'slavaukraini', 'istandwithrussia', 'stopwarinukraine'}\n",
      "l'utente 411 non  appartiene alla 4 categoria perchè usa {'slavaukraini', 'istandwithrussia', 'stopwarinukraine'}\n",
      "l'utente 412 non  appartiene alla 4 categoria perchè usa {'slavaukraini', 'istandwithrussia', 'stopwarinukraine'}\n",
      "l'utente 413 non  appartiene alla 4 categoria perchè usa {'slavaukraini', 'istandwithrussia', 'stopwarinukraine'}\n",
      "l'utente 414 non  appartiene alla 4 categoria perchè usa {'slavaukraini', 'istandwithrussia', 'stopwarinukraine'}\n",
      "l'utente 415 non  appartiene alla 4 categoria perchè usa {'slavaukraini', 'istandwithrussia', 'stopwarinukraine'}\n",
      "l'utente 416 non  appartiene alla 4 categoria perchè usa {'slavaukraini', 'istandwithrussia', 'stopwarinukraine'}\n",
      "l'utente 417 non  appartiene alla 4 categoria perchè usa {'slavaukraini', 'istandwithrussia', 'stopwarinukraine'}\n",
      "l'utente 418 non  appartiene alla 4 categoria perchè usa {'slavaukraini', 'istandwithrussia', 'stopwarinukraine'}\n"
     ]
    }
   ],
   "source": [
    "proukr=set([\"slavaukraini\"]) #1 cat\n",
    "prorus=set([\"istandwithputin\", \"istandwithrussia\"]) #2 cat\n",
    "pax=set([\"stopwarinukraine\"]) #3 cat\n",
    "cat=set.union(proukr,prorus,pax)\n",
    "count1=0\n",
    "#count2=0\n",
    "#count3=0\n",
    "count4=0\n",
    "index1=[]\n",
    "#index2=[]\n",
    "#index3=[]\n",
    "index4=[]\n",
    "\n",
    "for i, row in enumerate(df_IDK1['hashtag']): \n",
    "    if row.intersection(cat)==set():#no intersezione   \n",
    "        #print(row.intersectionn(cat))\n",
    "        #print(\"l'utente {}  appartiene alla 4 categoria\".format(row.intersection(cat)))\n",
    "        #print(\"4 categoria\", row)\n",
    "        count4 += 1\n",
    "        index4.append(i)\n",
    "        \n",
    "    else: #c'è intersezione: uno della 3 categorie\n",
    "        #print(\"non è la 4 categoria perchè contiene\",row.intersection(cat))\n",
    "       # if row.intersection(proukr)!=set(): #c'è intersez con proukr\n",
    "           # count1 += 1\n",
    "            index1.append(i) #aggiungo alle rige da tgliere\n",
    "            print(\"l'utente {} non  appartiene alla 4 categoria perchè usa {}\".format(i,row.intersection(cat)))\n",
    "       # elif row.intersection(prorus)!=set():\n",
    "          #  count2 += 1\n",
    "           # index2.append(i)\n",
    "        #elif row.intersection(pax)!=set():\n",
    "           # count3 += 1\n",
    "           #index3.append(i)"
   ]
  },
  {
   "cell_type": "code",
   "execution_count": 29,
   "id": "a314a189",
   "metadata": {},
   "outputs": [
    {
     "name": "stdout",
     "output_type": "stream",
     "text": [
      "proukr = 391 \n",
      "prourus = 0 \n",
      "pax = 0 \n",
      "nocare = 28 \n"
     ]
    }
   ],
   "source": [
    "print('proukr = {} \\n'\n",
    "     'prourus = {} \\n'\n",
    "     'pax = {} \\n'\n",
    "     'nocare = {} '.format(count1,count2,count3,count4))"
   ]
  },
  {
   "cell_type": "markdown",
   "id": "ee7704f6",
   "metadata": {},
   "source": [
    "## 3 parte categorizzazione tweet e utenti di proukr, prorus, pax"
   ]
  },
  {
   "cell_type": "markdown",
   "id": "4b9d4124",
   "metadata": {},
   "source": [
    "## 4 parte: edge tra utenti nel dataset"
   ]
  },
  {
   "cell_type": "code",
   "execution_count": 67,
   "id": "e9cb58fc",
   "metadata": {},
   "outputs": [
    {
     "data": {
      "text/plain": [
       "0     {1498176452084256772, 1219232377605644289, 135...\n",
       "1     {1359617172033724416, 14106476, 14981764520842...\n",
       "2     {1521787270260719616, 923231030160400384, 1359...\n",
       "3     {1521787270260719616, 923231030160400384, 1359...\n",
       "4     {1521787270260719616, 923231030160400384, 1359...\n",
       "                            ...                        \n",
       "73    {720139699, 14106476, 1458038317619073044, 316...\n",
       "74    {720139699, 14106476, 1458038317619073044, 316...\n",
       "75    {720139699, 14106476, 1458038317619073044, 316...\n",
       "76    {720139699, 14106476, 1458038317619073044, 316...\n",
       "77    {720139699, 14106476, 1458038317619073044, 316...\n",
       "Name: retweet, Length: 78, dtype: object"
      ]
     },
     "execution_count": 67,
     "metadata": {},
     "output_type": "execute_result"
    }
   ],
   "source": [
    "df_IDK1['retweet']"
   ]
  },
  {
   "cell_type": "code",
   "execution_count": null,
   "id": "6fa3365a",
   "metadata": {},
   "outputs": [],
   "source": []
  }
 ],
 "metadata": {
  "kernelspec": {
   "display_name": "Python 3 (ipykernel)",
   "language": "python",
   "name": "python3"
  },
  "language_info": {
   "codemirror_mode": {
    "name": "ipython",
    "version": 3
   },
   "file_extension": ".py",
   "mimetype": "text/x-python",
   "name": "python",
   "nbconvert_exporter": "python",
   "pygments_lexer": "ipython3",
   "version": "3.10.5"
  }
 },
 "nbformat": 4,
 "nbformat_minor": 5
}
