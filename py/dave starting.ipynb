{
 "cells": [
  {
   "cell_type": "code",
   "execution_count": 13,
   "metadata": {
    "colab": {
     "base_uri": "https://localhost:8080/"
    },
    "executionInfo": {
     "elapsed": 23070,
     "status": "ok",
     "timestamp": 1651829667823,
     "user": {
      "displayName": "Fabio Russo",
      "userId": "12894600619616975822"
     },
     "user_tz": -120
    },
    "id": "ZxlivxxhT-is",
    "outputId": "64d5fabc-8093-42f8-b300-cdbe869c9f2d",
    "scrolled": true
   },
   "outputs": [],
   "source": [
    "#pip install -U git+https://github.com/gatto/ds-network-analysis.git\n",
    "#pip install -U twarc twarc_csv\n",
    "from extract import SocialETL, Count\n",
    "import pandas as pd\n",
    "import warnings \n",
    "warnings.filterwarnings('always')   #suppresses all warnings\n",
    "warnings.filterwarnings('ignore')\n"
   ]
  },
  {
   "cell_type": "code",
   "execution_count": 12,
   "metadata": {},
   "outputs": [],
   "source": [
    "#help(SocialETL)"
   ]
  },
  {
   "cell_type": "code",
   "execution_count": null,
   "metadata": {
    "id": "dGQrDwL2UeU9"
   },
   "outputs": [],
   "source": [
    "#3 categorie\n",
    "m = SocialETL(query=\"(#slavaukraini OR #istandwithputin OR #stopwarinukraine) lang:en\", pages=3, recent=False) #-is:retweet \n",
    "#slavaukraine ->proukraine\n",
    "#istandwithputin->pax romana\n",
    "#stopwarinukraine ->prorussia"
   ]
  },
  {
   "cell_type": "code",
   "execution_count": 30,
   "metadata": {
    "colab": {
     "base_uri": "https://localhost:8080/"
    },
    "executionInfo": {
     "elapsed": 7,
     "status": "ok",
     "timestamp": 1651829695798,
     "user": {
      "displayName": "Fabio Russo",
      "userId": "12894600619616975822"
     },
     "user_tz": -120
    },
    "id": "LZLBbYMxuMsF",
    "outputId": "dd804075-493d-4c02-f752-fad2c4dc4790",
    "scrolled": false
   },
   "outputs": [
    {
     "name": "stdout",
     "output_type": "stream",
     "text": [
      "<class 'pandas.core.frame.DataFrame'>\n",
      "RangeIndex: 490 entries, 0 to 489\n",
      "Data columns (total 74 columns):\n",
      " #   Column                                 Non-Null Count  Dtype  \n",
      "---  ------                                 --------------  -----  \n",
      " 0   id                                     490 non-null    object \n",
      " 1   conversation_id                        490 non-null    object \n",
      " 2   referenced_tweets.replied_to.id        307 non-null    object \n",
      " 3   referenced_tweets.retweeted.id         0 non-null      float64\n",
      " 4   referenced_tweets.quoted.id            54 non-null     object \n",
      " 5   author_id                              490 non-null    object \n",
      " 6   in_reply_to_user_id                    317 non-null    object \n",
      " 7   retweeted_user_id                      0 non-null      float64\n",
      " 8   quoted_user_id                         54 non-null     object \n",
      " 9   created_at                             490 non-null    object \n",
      " 10  text                                   490 non-null    object \n",
      " 11  lang                                   490 non-null    object \n",
      " 12  source                                 490 non-null    object \n",
      " 13  public_metrics.like_count              490 non-null    int64  \n",
      " 14  public_metrics.quote_count             490 non-null    int64  \n",
      " 15  public_metrics.reply_count             490 non-null    int64  \n",
      " 16  public_metrics.retweet_count           490 non-null    int64  \n",
      " 17  reply_settings                         490 non-null    object \n",
      " 18  possibly_sensitive                     490 non-null    bool   \n",
      " 19  withheld.scope                         0 non-null      float64\n",
      " 20  withheld.copyright                     0 non-null      float64\n",
      " 21  withheld.country_codes                 0 non-null      float64\n",
      " 22  entities.annotations                   293 non-null    object \n",
      " 23  entities.cashtags                      0 non-null      float64\n",
      " 24  entities.hashtags                      188 non-null    object \n",
      " 25  entities.mentions                      334 non-null    object \n",
      " 26  entities.urls                          200 non-null    object \n",
      " 27  context_annotations                    385 non-null    object \n",
      " 28  attachments.media                      57 non-null     object \n",
      " 29  attachments.media_keys                 57 non-null     object \n",
      " 30  attachments.poll.duration_minutes      0 non-null      float64\n",
      " 31  attachments.poll.end_datetime          0 non-null      float64\n",
      " 32  attachments.poll.id                    0 non-null      float64\n",
      " 33  attachments.poll.options               0 non-null      float64\n",
      " 34  attachments.poll.voting_status         0 non-null      float64\n",
      " 35  attachments.poll_ids                   0 non-null      float64\n",
      " 36  author.id                              490 non-null    object \n",
      " 37  author.created_at                      490 non-null    object \n",
      " 38  author.username                        490 non-null    object \n",
      " 39  author.name                            490 non-null    object \n",
      " 40  author.description                     490 non-null    object \n",
      " 41  author.entities.description.cashtags   0 non-null      float64\n",
      " 42  author.entities.description.hashtags   54 non-null     object \n",
      " 43  author.entities.description.mentions   16 non-null     object \n",
      " 44  author.entities.description.urls       14 non-null     object \n",
      " 45  author.entities.url.urls               89 non-null     object \n",
      " 46  author.location                        277 non-null    object \n",
      " 47  author.pinned_tweet_id                 186 non-null    object \n",
      " 48  author.profile_image_url               490 non-null    object \n",
      " 49  author.protected                       490 non-null    bool   \n",
      " 50  author.public_metrics.followers_count  490 non-null    int64  \n",
      " 51  author.public_metrics.following_count  490 non-null    int64  \n",
      " 52  author.public_metrics.listed_count     490 non-null    int64  \n",
      " 53  author.public_metrics.tweet_count      490 non-null    int64  \n",
      " 54  author.url                             490 non-null    object \n",
      " 55  author.verified                        490 non-null    bool   \n",
      " 56  author.withheld.scope                  0 non-null      float64\n",
      " 57  author.withheld.copyright              0 non-null      float64\n",
      " 58  author.withheld.country_codes          0 non-null      float64\n",
      " 59  geo.coordinates.coordinates            0 non-null      float64\n",
      " 60  geo.coordinates.type                   0 non-null      float64\n",
      " 61  geo.country                            8 non-null      object \n",
      " 62  geo.country_code                       8 non-null      object \n",
      " 63  geo.full_name                          8 non-null      object \n",
      " 64  geo.geo.bbox                           8 non-null      object \n",
      " 65  geo.geo.type                           8 non-null      object \n",
      " 66  geo.id                                 8 non-null      object \n",
      " 67  geo.name                               8 non-null      object \n",
      " 68  geo.place_id                           8 non-null      object \n",
      " 69  geo.place_type                         8 non-null      object \n",
      " 70  __twarc.retrieved_at                   490 non-null    object \n",
      " 71  __twarc.url                            490 non-null    object \n",
      " 72  __twarc.version                        490 non-null    object \n",
      " 73                                         0 non-null      float64\n",
      "dtypes: bool(3), float64(19), int64(8), object(44)\n",
      "memory usage: 273.4+ KB\n"
     ]
    }
   ],
   "source": [
    "m.df.info()"
   ]
  },
  {
   "cell_type": "code",
   "execution_count": 7,
   "metadata": {},
   "outputs": [
    {
     "data": {
      "application/vnd.jupyter.widget-view+json": {
       "model_id": "15240d470ceb4a84b71b2f0c73c6e785",
       "version_major": 2,
       "version_minor": 0
      },
      "text/plain": [
       "Output()"
      ]
     },
     "metadata": {},
     "output_type": "display_data"
    },
    {
     "name": "stdout",
     "output_type": "stream",
     "text": [
      "Reading secret from C:\\Users\\david\\Documents\\GitHub\\ds-network-analysis\\data\\my_secrets.yaml…\n"
     ]
    },
    {
     "data": {
      "text/html": [
       "<pre style=\"white-space:pre;overflow-x:auto;line-height:normal;font-family:Menlo,'DejaVu Sans Mono',consolas,'Courier New',monospace\"></pre>\n"
      ],
      "text/plain": []
     },
     "metadata": {},
     "output_type": "display_data"
    },
    {
     "data": {
      "text/html": [
       "<pre style=\"white-space:pre;overflow-x:auto;line-height:normal;font-family:Menlo,'DejaVu Sans Mono',consolas,'Courier New',monospace\">\n",
       "</pre>\n"
      ],
      "text/plain": [
       "\n"
      ]
     },
     "metadata": {},
     "output_type": "display_data"
    }
   ],
   "source": [
    "#trovare prorussia\n",
    "m2 = SocialETL(query=\"#ZelenskyWarCriminal lang:en\", pages=8, recent=False)"
   ]
  },
  {
   "cell_type": "markdown",
   "metadata": {},
   "source": [
    "### #ProUcraina"
   ]
  },
  {
   "cell_type": "code",
   "execution_count": 2,
   "metadata": {},
   "outputs": [
    {
     "data": {
      "application/vnd.jupyter.widget-view+json": {
       "model_id": "185ff10c2b1e4ccc8f504bd404647faa",
       "version_major": 2,
       "version_minor": 0
      },
      "text/plain": [
       "Output()"
      ]
     },
     "metadata": {},
     "output_type": "display_data"
    },
    {
     "name": "stdout",
     "output_type": "stream",
     "text": [
      "Reading secret from C:\\Users\\david\\Documents\\GitHub\\ds-network-analysis\\data\\my_secrets.yaml…\n"
     ]
    },
    {
     "data": {
      "text/html": [
       "<pre style=\"white-space:pre;overflow-x:auto;line-height:normal;font-family:Menlo,'DejaVu Sans Mono',consolas,'Courier New',monospace\"></pre>\n"
      ],
      "text/plain": []
     },
     "metadata": {},
     "output_type": "display_data"
    },
    {
     "data": {
      "text/html": [
       "<pre style=\"white-space:pre;overflow-x:auto;line-height:normal;font-family:Menlo,'DejaVu Sans Mono',consolas,'Courier New',monospace\">\n",
       "</pre>\n"
      ],
      "text/plain": [
       "\n"
      ]
     },
     "metadata": {},
     "output_type": "display_data"
    },
    {
     "name": "stdout",
     "output_type": "stream",
     "text": [
      "Count(query='#slavaukraini lang:en', df=pd.DataFrame, count=871114)\n"
     ]
    }
   ],
   "source": [
    "#proucraina\n",
    "c2=Count(query=\"#slavaukraini lang:en\")\n",
    "print(c2)"
   ]
  },
  {
   "cell_type": "code",
   "execution_count": 3,
   "metadata": {},
   "outputs": [
    {
     "data": {
      "application/vnd.jupyter.widget-view+json": {
       "model_id": "28ae88e4f7f5415a9e176d62c2bacc65",
       "version_major": 2,
       "version_minor": 0
      },
      "text/plain": [
       "Output()"
      ]
     },
     "metadata": {},
     "output_type": "display_data"
    },
    {
     "name": "stdout",
     "output_type": "stream",
     "text": [
      "Reading secret from C:\\Users\\david\\Documents\\GitHub\\ds-network-analysis\\data\\my_secrets.yaml…\n"
     ]
    },
    {
     "data": {
      "text/html": [
       "<pre style=\"white-space:pre;overflow-x:auto;line-height:normal;font-family:Menlo,'DejaVu Sans Mono',consolas,'Courier New',monospace\"></pre>\n"
      ],
      "text/plain": []
     },
     "metadata": {},
     "output_type": "display_data"
    },
    {
     "data": {
      "text/html": [
       "<pre style=\"white-space:pre;overflow-x:auto;line-height:normal;font-family:Menlo,'DejaVu Sans Mono',consolas,'Courier New',monospace\">\n",
       "</pre>\n"
      ],
      "text/plain": [
       "\n"
      ]
     },
     "metadata": {},
     "output_type": "display_data"
    },
    {
     "name": "stdout",
     "output_type": "stream",
     "text": [
      "Count(query='#IStandWithUkraine lang:en', df=pd.DataFrame, count=633918)\n"
     ]
    }
   ],
   "source": [
    "#proucraina\n",
    "c5=Count(query=\"#IStandWithUkraine lang:en\")\n",
    "print(c5)"
   ]
  },
  {
   "cell_type": "markdown",
   "metadata": {},
   "source": [
    "### #PaxRomana"
   ]
  },
  {
   "cell_type": "code",
   "execution_count": 4,
   "metadata": {},
   "outputs": [
    {
     "data": {
      "application/vnd.jupyter.widget-view+json": {
       "model_id": "7dbd185388a943ca9f2bea547af8d0f7",
       "version_major": 2,
       "version_minor": 0
      },
      "text/plain": [
       "Output()"
      ]
     },
     "metadata": {},
     "output_type": "display_data"
    },
    {
     "name": "stdout",
     "output_type": "stream",
     "text": [
      "Reading secret from C:\\Users\\david\\Documents\\GitHub\\ds-network-analysis\\data\\my_secrets.yaml…\n"
     ]
    },
    {
     "data": {
      "text/html": [
       "<pre style=\"white-space:pre;overflow-x:auto;line-height:normal;font-family:Menlo,'DejaVu Sans Mono',consolas,'Courier New',monospace\"></pre>\n"
      ],
      "text/plain": []
     },
     "metadata": {},
     "output_type": "display_data"
    },
    {
     "data": {
      "text/html": [
       "<pre style=\"white-space:pre;overflow-x:auto;line-height:normal;font-family:Menlo,'DejaVu Sans Mono',consolas,'Courier New',monospace\">\n",
       "</pre>\n"
      ],
      "text/plain": [
       "\n"
      ]
     },
     "metadata": {},
     "output_type": "display_data"
    },
    {
     "name": "stdout",
     "output_type": "stream",
     "text": [
      "Count(query='#stopwarinukraine lang:en', df=pd.DataFrame, count=250781)\n"
     ]
    }
   ],
   "source": [
    "#pax_romana\n",
    "c4=Count(query=\"#stopwarinukraine lang:en\")\n",
    "print(c4)"
   ]
  },
  {
   "cell_type": "code",
   "execution_count": 5,
   "metadata": {},
   "outputs": [
    {
     "data": {
      "application/vnd.jupyter.widget-view+json": {
       "model_id": "0eda35bc0e0240a3b3af171d6e84d5c2",
       "version_major": 2,
       "version_minor": 0
      },
      "text/plain": [
       "Output()"
      ]
     },
     "metadata": {},
     "output_type": "display_data"
    },
    {
     "name": "stdout",
     "output_type": "stream",
     "text": [
      "Reading secret from C:\\Users\\david\\Documents\\GitHub\\ds-network-analysis\\data\\my_secrets.yaml…\n"
     ]
    },
    {
     "data": {
      "text/html": [
       "<pre style=\"white-space:pre;overflow-x:auto;line-height:normal;font-family:Menlo,'DejaVu Sans Mono',consolas,'Courier New',monospace\"></pre>\n"
      ],
      "text/plain": []
     },
     "metadata": {},
     "output_type": "display_data"
    },
    {
     "data": {
      "text/html": [
       "<pre style=\"white-space:pre;overflow-x:auto;line-height:normal;font-family:Menlo,'DejaVu Sans Mono',consolas,'Courier New',monospace\">\n",
       "</pre>\n"
      ],
      "text/plain": [
       "\n"
      ]
     },
     "metadata": {},
     "output_type": "display_data"
    },
    {
     "name": "stdout",
     "output_type": "stream",
     "text": [
      "Count(query='#stoprussia lang:en', df=pd.DataFrame, count=1887070)\n"
     ]
    }
   ],
   "source": [
    "c=Count(query=\"#stoprussia lang:en\")\n",
    "print(c)"
   ]
  },
  {
   "cell_type": "markdown",
   "metadata": {},
   "source": [
    "### #ProRussia "
   ]
  },
  {
   "cell_type": "code",
   "execution_count": 6,
   "metadata": {},
   "outputs": [
    {
     "data": {
      "application/vnd.jupyter.widget-view+json": {
       "model_id": "c1f02505c57a4b83b956c4ee5325b0c6",
       "version_major": 2,
       "version_minor": 0
      },
      "text/plain": [
       "Output()"
      ]
     },
     "metadata": {},
     "output_type": "display_data"
    },
    {
     "name": "stdout",
     "output_type": "stream",
     "text": [
      "Reading secret from C:\\Users\\david\\Documents\\GitHub\\ds-network-analysis\\data\\my_secrets.yaml…\n"
     ]
    },
    {
     "data": {
      "text/html": [
       "<pre style=\"white-space:pre;overflow-x:auto;line-height:normal;font-family:Menlo,'DejaVu Sans Mono',consolas,'Courier New',monospace\"></pre>\n"
      ],
      "text/plain": []
     },
     "metadata": {},
     "output_type": "display_data"
    },
    {
     "data": {
      "text/html": [
       "<pre style=\"white-space:pre;overflow-x:auto;line-height:normal;font-family:Menlo,'DejaVu Sans Mono',consolas,'Courier New',monospace\">\n",
       "</pre>\n"
      ],
      "text/plain": [
       "\n"
      ]
     },
     "metadata": {},
     "output_type": "display_data"
    },
    {
     "name": "stdout",
     "output_type": "stream",
     "text": [
      "Count(query='#ZelenskyWarCriminal lang:en', df=pd.DataFrame, count=18311)\n"
     ]
    }
   ],
   "source": [
    "#prorussia\n",
    "c=Count(query=\"#ZelenskyWarCriminal lang:en\")\n",
    "print(c)"
   ]
  },
  {
   "cell_type": "code",
   "execution_count": 7,
   "metadata": {},
   "outputs": [
    {
     "data": {
      "application/vnd.jupyter.widget-view+json": {
       "model_id": "98e87e00e8734dd886d1b4ad968ddeb4",
       "version_major": 2,
       "version_minor": 0
      },
      "text/plain": [
       "Output()"
      ]
     },
     "metadata": {},
     "output_type": "display_data"
    },
    {
     "name": "stdout",
     "output_type": "stream",
     "text": [
      "Reading secret from C:\\Users\\david\\Documents\\GitHub\\ds-network-analysis\\data\\my_secrets.yaml…\n"
     ]
    },
    {
     "data": {
      "text/html": [
       "<pre style=\"white-space:pre;overflow-x:auto;line-height:normal;font-family:Menlo,'DejaVu Sans Mono',consolas,'Courier New',monospace\"></pre>\n"
      ],
      "text/plain": []
     },
     "metadata": {},
     "output_type": "display_data"
    },
    {
     "data": {
      "text/html": [
       "<pre style=\"white-space:pre;overflow-x:auto;line-height:normal;font-family:Menlo,'DejaVu Sans Mono',consolas,'Courier New',monospace\">\n",
       "</pre>\n"
      ],
      "text/plain": [
       "\n"
      ]
     },
     "metadata": {},
     "output_type": "display_data"
    },
    {
     "name": "stdout",
     "output_type": "stream",
     "text": [
      "Count(query='ZelenskyWarCriminal lang:en', df=pd.DataFrame, count=18330)\n"
     ]
    }
   ],
   "source": [
    "#prorussia\n",
    "c_1=Count(query=\"ZelenskyWarCriminal lang:en\")\n",
    "print(c_1)"
   ]
  },
  {
   "cell_type": "code",
   "execution_count": 8,
   "metadata": {},
   "outputs": [
    {
     "data": {
      "application/vnd.jupyter.widget-view+json": {
       "model_id": "250adc3153f941d5823877b587cf2da4",
       "version_major": 2,
       "version_minor": 0
      },
      "text/plain": [
       "Output()"
      ]
     },
     "metadata": {},
     "output_type": "display_data"
    },
    {
     "name": "stdout",
     "output_type": "stream",
     "text": [
      "Reading secret from C:\\Users\\david\\Documents\\GitHub\\ds-network-analysis\\data\\my_secrets.yaml…\n"
     ]
    },
    {
     "data": {
      "text/html": [
       "<pre style=\"white-space:pre;overflow-x:auto;line-height:normal;font-family:Menlo,'DejaVu Sans Mono',consolas,'Courier New',monospace\"></pre>\n"
      ],
      "text/plain": []
     },
     "metadata": {},
     "output_type": "display_data"
    },
    {
     "data": {
      "text/html": [
       "<pre style=\"white-space:pre;overflow-x:auto;line-height:normal;font-family:Menlo,'DejaVu Sans Mono',consolas,'Courier New',monospace\">\n",
       "</pre>\n"
      ],
      "text/plain": [
       "\n"
      ]
     },
     "metadata": {},
     "output_type": "display_data"
    },
    {
     "name": "stdout",
     "output_type": "stream",
     "text": [
      "Count(query='#ImNotAshamed lang:en', df=pd.DataFrame, count=34)\n"
     ]
    }
   ],
   "source": [
    "c2=Count(query=\"#ImNotAshamed lang:en\")\n",
    "print(c2)"
   ]
  },
  {
   "cell_type": "code",
   "execution_count": 9,
   "metadata": {},
   "outputs": [
    {
     "data": {
      "application/vnd.jupyter.widget-view+json": {
       "model_id": "3f47623812e343f48133f5a2f4f18c5f",
       "version_major": 2,
       "version_minor": 0
      },
      "text/plain": [
       "Output()"
      ]
     },
     "metadata": {},
     "output_type": "display_data"
    },
    {
     "data": {
      "text/html": [
       "<pre style=\"white-space:pre;overflow-x:auto;line-height:normal;font-family:Menlo,'DejaVu Sans Mono',consolas,'Courier New',monospace\"></pre>\n"
      ],
      "text/plain": []
     },
     "metadata": {},
     "output_type": "display_data"
    },
    {
     "data": {
      "text/html": [
       "<pre style=\"white-space:pre;overflow-x:auto;line-height:normal;font-family:Menlo,'DejaVu Sans Mono',consolas,'Courier New',monospace\">\n",
       "</pre>\n"
      ],
      "text/plain": [
       "\n"
      ]
     },
     "metadata": {},
     "output_type": "display_data"
    },
    {
     "name": "stdout",
     "output_type": "stream",
     "text": [
      "Count(query='#istandwithputin lang:en', df=pd.DataFrame, count=259662)\n"
     ]
    }
   ],
   "source": [
    "#prorussia\n",
    "c3=Count(query=\"#istandwithputin lang:en\")\n",
    "print(c3)"
   ]
  },
  {
   "cell_type": "code",
   "execution_count": 10,
   "metadata": {},
   "outputs": [
    {
     "data": {
      "application/vnd.jupyter.widget-view+json": {
       "model_id": "d63fd39cb3ee4d5aa5614cae96c5ee96",
       "version_major": 2,
       "version_minor": 0
      },
      "text/plain": [
       "Output()"
      ]
     },
     "metadata": {},
     "output_type": "display_data"
    },
    {
     "name": "stdout",
     "output_type": "stream",
     "text": [
      "Reading secret from C:\\Users\\david\\Documents\\GitHub\\ds-network-analysis\\data\\my_secrets.yaml…\n"
     ]
    },
    {
     "data": {
      "text/html": [
       "<pre style=\"white-space:pre;overflow-x:auto;line-height:normal;font-family:Menlo,'DejaVu Sans Mono',consolas,'Courier New',monospace\"></pre>\n"
      ],
      "text/plain": []
     },
     "metadata": {},
     "output_type": "display_data"
    },
    {
     "data": {
      "text/html": [
       "<pre style=\"white-space:pre;overflow-x:auto;line-height:normal;font-family:Menlo,'DejaVu Sans Mono',consolas,'Courier New',monospace\">\n",
       "</pre>\n"
      ],
      "text/plain": [
       "\n"
      ]
     },
     "metadata": {},
     "output_type": "display_data"
    },
    {
     "name": "stdout",
     "output_type": "stream",
     "text": [
      "Count(query='#istandwithrussia lang:en', df=pd.DataFrame, count=153669)\n"
     ]
    }
   ],
   "source": [
    "#prorussia\n",
    "c3_1=Count(query=\"#istandwithrussia lang:en\")\n",
    "print(c3_1)"
   ]
  },
  {
   "cell_type": "code",
   "execution_count": 11,
   "metadata": {},
   "outputs": [
    {
     "data": {
      "application/vnd.jupyter.widget-view+json": {
       "model_id": "c228b31345054d46a7d231238bb85470",
       "version_major": 2,
       "version_minor": 0
      },
      "text/plain": [
       "Output()"
      ]
     },
     "metadata": {},
     "output_type": "display_data"
    },
    {
     "name": "stdout",
     "output_type": "stream",
     "text": [
      "Reading secret from C:\\Users\\david\\Documents\\GitHub\\ds-network-analysis\\data\\my_secrets.yaml…\n"
     ]
    },
    {
     "data": {
      "text/html": [
       "<pre style=\"white-space:pre;overflow-x:auto;line-height:normal;font-family:Menlo,'DejaVu Sans Mono',consolas,'Courier New',monospace\"></pre>\n"
      ],
      "text/plain": []
     },
     "metadata": {},
     "output_type": "display_data"
    },
    {
     "data": {
      "text/html": [
       "<pre style=\"white-space:pre;overflow-x:auto;line-height:normal;font-family:Menlo,'DejaVu Sans Mono',consolas,'Courier New',monospace\">\n",
       "</pre>\n"
      ],
      "text/plain": [
       "\n"
      ]
     },
     "metadata": {},
     "output_type": "display_data"
    },
    {
     "name": "stdout",
     "output_type": "stream",
     "text": [
      "Count(query='#Z lang:en', df=pd.DataFrame, count=23759)\n"
     ]
    }
   ],
   "source": [
    "c4=Count(query=\"#Z lang:en\")\n",
    "print(c4)"
   ]
  },
  {
   "cell_type": "code",
   "execution_count": 12,
   "metadata": {},
   "outputs": [
    {
     "data": {
      "application/vnd.jupyter.widget-view+json": {
       "model_id": "7630b90b474843689ee0cce934435663",
       "version_major": 2,
       "version_minor": 0
      },
      "text/plain": [
       "Output()"
      ]
     },
     "metadata": {},
     "output_type": "display_data"
    },
    {
     "name": "stdout",
     "output_type": "stream",
     "text": [
      "Reading secret from C:\\Users\\david\\Documents\\GitHub\\ds-network-analysis\\data\\my_secrets.yaml…\n"
     ]
    },
    {
     "data": {
      "text/html": [
       "<pre style=\"white-space:pre;overflow-x:auto;line-height:normal;font-family:Menlo,'DejaVu Sans Mono',consolas,'Courier New',monospace\"></pre>\n"
      ],
      "text/plain": []
     },
     "metadata": {},
     "output_type": "display_data"
    },
    {
     "data": {
      "text/html": [
       "<pre style=\"white-space:pre;overflow-x:auto;line-height:normal;font-family:Menlo,'DejaVu Sans Mono',consolas,'Courier New',monospace\">\n",
       "</pre>\n"
      ],
      "text/plain": [
       "\n"
      ]
     },
     "metadata": {},
     "output_type": "display_data"
    },
    {
     "name": "stdout",
     "output_type": "stream",
     "text": [
      "Count(query='(#istandwithputin OR #istandwithrussia OR #zelenskywarcriminal) lang:en', df=pd.DataFrame, count=344376)\n"
     ]
    }
   ],
   "source": [
    "c5=Count(query=\"(#istandwithputin OR #istandwithrussia OR #zelenskywarcriminal) lang:en\")\n",
    "print(c5)"
   ]
  },
  {
   "cell_type": "code",
   "execution_count": 13,
   "metadata": {},
   "outputs": [
    {
     "data": {
      "application/vnd.jupyter.widget-view+json": {
       "model_id": "6322f33ef6ea4f01adef5415d444c132",
       "version_major": 2,
       "version_minor": 0
      },
      "text/plain": [
       "Output()"
      ]
     },
     "metadata": {},
     "output_type": "display_data"
    },
    {
     "name": "stdout",
     "output_type": "stream",
     "text": [
      "Reading secret from C:\\Users\\david\\Documents\\GitHub\\ds-network-analysis\\data\\my_secrets.yaml…\n"
     ]
    },
    {
     "data": {
      "text/html": [
       "<pre style=\"white-space:pre;overflow-x:auto;line-height:normal;font-family:Menlo,'DejaVu Sans Mono',consolas,'Courier New',monospace\"></pre>\n"
      ],
      "text/plain": []
     },
     "metadata": {},
     "output_type": "display_data"
    },
    {
     "data": {
      "text/html": [
       "<pre style=\"white-space:pre;overflow-x:auto;line-height:normal;font-family:Menlo,'DejaVu Sans Mono',consolas,'Courier New',monospace\">\n",
       "</pre>\n"
      ],
      "text/plain": [
       "\n"
      ]
     },
     "metadata": {},
     "output_type": "display_data"
    },
    {
     "name": "stdout",
     "output_type": "stream",
     "text": [
      "Count(query='#imrussian lang:en', df=pd.DataFrame, count=17)\n"
     ]
    }
   ],
   "source": [
    "c6=Count(query=\"#imrussian lang:en\")\n",
    "print(c6)"
   ]
  },
  {
   "cell_type": "code",
   "execution_count": 14,
   "metadata": {},
   "outputs": [
    {
     "data": {
      "application/vnd.jupyter.widget-view+json": {
       "model_id": "108697d943a4441686f7783faafcba23",
       "version_major": 2,
       "version_minor": 0
      },
      "text/plain": [
       "Output()"
      ]
     },
     "metadata": {},
     "output_type": "display_data"
    },
    {
     "data": {
      "text/html": [
       "<pre style=\"white-space:pre;overflow-x:auto;line-height:normal;font-family:Menlo,'DejaVu Sans Mono',consolas,'Courier New',monospace\"></pre>\n"
      ],
      "text/plain": []
     },
     "metadata": {},
     "output_type": "display_data"
    },
    {
     "data": {
      "text/html": [
       "<pre style=\"white-space:pre;overflow-x:auto;line-height:normal;font-family:Menlo,'DejaVu Sans Mono',consolas,'Courier New',monospace\">\n",
       "</pre>\n"
      ],
      "text/plain": [
       "\n"
      ]
     },
     "metadata": {},
     "output_type": "display_data"
    },
    {
     "name": "stdout",
     "output_type": "stream",
     "text": [
      "Count(query='#NaziUkraine lang:en', df=pd.DataFrame, count=36424)\n"
     ]
    }
   ],
   "source": [
    "c7=Count(query=\"#NaziUkraine lang:en\")\n",
    "print(c7)"
   ]
  },
  {
   "cell_type": "code",
   "execution_count": 15,
   "metadata": {},
   "outputs": [
    {
     "data": {
      "application/vnd.jupyter.widget-view+json": {
       "model_id": "0cd77d7b893e407f9d4ce138bcc4eddd",
       "version_major": 2,
       "version_minor": 0
      },
      "text/plain": [
       "Output()"
      ]
     },
     "metadata": {},
     "output_type": "display_data"
    },
    {
     "name": "stdout",
     "output_type": "stream",
     "text": [
      "Reading secret from C:\\Users\\david\\Documents\\GitHub\\ds-network-analysis\\data\\my_secrets.yaml…\n"
     ]
    },
    {
     "data": {
      "text/html": [
       "<pre style=\"white-space:pre;overflow-x:auto;line-height:normal;font-family:Menlo,'DejaVu Sans Mono',consolas,'Courier New',monospace\"></pre>\n"
      ],
      "text/plain": []
     },
     "metadata": {},
     "output_type": "display_data"
    },
    {
     "data": {
      "text/html": [
       "<pre style=\"white-space:pre;overflow-x:auto;line-height:normal;font-family:Menlo,'DejaVu Sans Mono',consolas,'Courier New',monospace\">\n",
       "</pre>\n"
      ],
      "text/plain": [
       "\n"
      ]
     },
     "metadata": {},
     "output_type": "display_data"
    },
    {
     "name": "stdout",
     "output_type": "stream",
     "text": [
      "Count(query='#stophatingrussians lang:en', df=pd.DataFrame, count=16314)\n"
     ]
    }
   ],
   "source": [
    "c8=Count(query=\"#stophatingrussians lang:en\")\n",
    "print(c8)"
   ]
  },
  {
   "cell_type": "code",
   "execution_count": 16,
   "metadata": {},
   "outputs": [
    {
     "data": {
      "application/vnd.jupyter.widget-view+json": {
       "model_id": "9a0524aa106b4d169bcc782fac70e282",
       "version_major": 2,
       "version_minor": 0
      },
      "text/plain": [
       "Output()"
      ]
     },
     "metadata": {},
     "output_type": "display_data"
    },
    {
     "name": "stdout",
     "output_type": "stream",
     "text": [
      "Reading secret from C:\\Users\\david\\Documents\\GitHub\\ds-network-analysis\\data\\my_secrets.yaml…\n"
     ]
    },
    {
     "data": {
      "text/html": [
       "<pre style=\"white-space:pre;overflow-x:auto;line-height:normal;font-family:Menlo,'DejaVu Sans Mono',consolas,'Courier New',monospace\"></pre>\n"
      ],
      "text/plain": []
     },
     "metadata": {},
     "output_type": "display_data"
    },
    {
     "data": {
      "text/html": [
       "<pre style=\"white-space:pre;overflow-x:auto;line-height:normal;font-family:Menlo,'DejaVu Sans Mono',consolas,'Courier New',monospace\">\n",
       "</pre>\n"
      ],
      "text/plain": [
       "\n"
      ]
     },
     "metadata": {},
     "output_type": "display_data"
    },
    {
     "name": "stdout",
     "output_type": "stream",
     "text": [
      "Count(query='#victory lang:en', df=pd.DataFrame, count=43856)\n"
     ]
    }
   ],
   "source": [
    "c9=Count(query=\"#victory lang:en\")\n",
    "print(c9)"
   ]
  },
  {
   "cell_type": "code",
   "execution_count": 17,
   "metadata": {},
   "outputs": [
    {
     "data": {
      "application/vnd.jupyter.widget-view+json": {
       "model_id": "a93028cf9d684665a470ea5a526dc2b3",
       "version_major": 2,
       "version_minor": 0
      },
      "text/plain": [
       "Output()"
      ]
     },
     "metadata": {},
     "output_type": "display_data"
    },
    {
     "name": "stdout",
     "output_type": "stream",
     "text": [
      "Reading secret from C:\\Users\\david\\Documents\\GitHub\\ds-network-analysis\\data\\my_secrets.yaml…\n"
     ]
    },
    {
     "data": {
      "text/html": [
       "<pre style=\"white-space:pre;overflow-x:auto;line-height:normal;font-family:Menlo,'DejaVu Sans Mono',consolas,'Courier New',monospace\">caught requests exception: HTTPSConnectionPool(host='api.twitter.com', port=443): Max retries\n",
       "exceeded with url: /2/tweets/counts/all?start_time=2022-02-24T00%3A00%3A00%2B00%3A00&amp;query=%2\n",
       "3godblessrussia&amp;granularity=day (Caused by \n",
       "ConnectTimeoutError(&lt;urllib3.connection.HTTPSConnection object at 0x00000200804E9940&gt;, \n",
       "'Connection to api.twitter.com timed out. (connect timeout=3.05)'))\n",
       "</pre>\n"
      ],
      "text/plain": [
       "caught requests exception: HTTPSConnectionPool(host='api.twitter.com', port=443): Max retries\n",
       "exceeded with url: /2/tweets/counts/all?start_time=2022-02-24T00%3A00%3A00%2B00%3A00&query=%2\n",
       "3godblessrussia&granularity=day (Caused by \n",
       "ConnectTimeoutError(<urllib3.connection.HTTPSConnection object at 0x00000200804E9940>, \n",
       "'Connection to api.twitter.com timed out. (connect timeout=3.05)'))\n"
      ]
     },
     "metadata": {},
     "output_type": "display_data"
    },
    {
     "data": {
      "text/html": [
       "<pre style=\"white-space:pre;overflow-x:auto;line-height:normal;font-family:Menlo,'DejaVu Sans Mono',consolas,'Courier New',monospace\"></pre>\n"
      ],
      "text/plain": []
     },
     "metadata": {},
     "output_type": "display_data"
    },
    {
     "data": {
      "text/html": [
       "<pre style=\"white-space:pre;overflow-x:auto;line-height:normal;font-family:Menlo,'DejaVu Sans Mono',consolas,'Courier New',monospace\">\n",
       "</pre>\n"
      ],
      "text/plain": [
       "\n"
      ]
     },
     "metadata": {},
     "output_type": "display_data"
    },
    {
     "name": "stdout",
     "output_type": "stream",
     "text": [
      "Count(query='#godblessrussia', df=pd.DataFrame, count=263)\n"
     ]
    }
   ],
   "source": [
    "c10=Count(query=\"#godblessrussia\")\n",
    "print(c10)"
   ]
  },
  {
   "cell_type": "code",
   "execution_count": 18,
   "metadata": {},
   "outputs": [
    {
     "data": {
      "application/vnd.jupyter.widget-view+json": {
       "model_id": "b1a2d44edc824e48b84522ed4806237c",
       "version_major": 2,
       "version_minor": 0
      },
      "text/plain": [
       "Output()"
      ]
     },
     "metadata": {},
     "output_type": "display_data"
    },
    {
     "name": "stdout",
     "output_type": "stream",
     "text": [
      "Reading secret from C:\\Users\\david\\Documents\\GitHub\\ds-network-analysis\\data\\my_secrets.yaml…\n"
     ]
    },
    {
     "data": {
      "text/html": [
       "<pre style=\"white-space:pre;overflow-x:auto;line-height:normal;font-family:Menlo,'DejaVu Sans Mono',consolas,'Courier New',monospace\"></pre>\n"
      ],
      "text/plain": []
     },
     "metadata": {},
     "output_type": "display_data"
    },
    {
     "data": {
      "text/html": [
       "<pre style=\"white-space:pre;overflow-x:auto;line-height:normal;font-family:Menlo,'DejaVu Sans Mono',consolas,'Courier New',monospace\">\n",
       "</pre>\n"
      ],
      "text/plain": [
       "\n"
      ]
     },
     "metadata": {},
     "output_type": "display_data"
    },
    {
     "name": "stdout",
     "output_type": "stream",
     "text": [
      "Count(query='#wakeupworld lang:en', df=pd.DataFrame, count=39101)\n"
     ]
    }
   ],
   "source": [
    "c11=Count(query=\"#wakeupworld lang:en\")\n",
    "print(c11)"
   ]
  },
  {
   "cell_type": "code",
   "execution_count": 19,
   "metadata": {},
   "outputs": [
    {
     "data": {
      "application/vnd.jupyter.widget-view+json": {
       "model_id": "af207fca8efb4f788c8ebea63d97c274",
       "version_major": 2,
       "version_minor": 0
      },
      "text/plain": [
       "Output()"
      ]
     },
     "metadata": {},
     "output_type": "display_data"
    },
    {
     "name": "stdout",
     "output_type": "stream",
     "text": [
      "Reading secret from C:\\Users\\david\\Documents\\GitHub\\ds-network-analysis\\data\\my_secrets.yaml…\n"
     ]
    },
    {
     "data": {
      "text/html": [
       "<pre style=\"white-space:pre;overflow-x:auto;line-height:normal;font-family:Menlo,'DejaVu Sans Mono',consolas,'Courier New',monospace\"></pre>\n"
      ],
      "text/plain": []
     },
     "metadata": {},
     "output_type": "display_data"
    },
    {
     "data": {
      "text/html": [
       "<pre style=\"white-space:pre;overflow-x:auto;line-height:normal;font-family:Menlo,'DejaVu Sans Mono',consolas,'Courier New',monospace\">\n",
       "</pre>\n"
      ],
      "text/plain": [
       "\n"
      ]
     },
     "metadata": {},
     "output_type": "display_data"
    },
    {
     "name": "stdout",
     "output_type": "stream",
     "text": [
      "Count(query='#nazi lang:en', df=pd.DataFrame, count=131124)\n"
     ]
    }
   ],
   "source": [
    "c12=Count(query=\"#nazi lang:en\")\n",
    "print(c12)"
   ]
  },
  {
   "cell_type": "markdown",
   "metadata": {},
   "source": [
    "# PROBLEMA: hashtag in più di una categoria!"
   ]
  },
  {
   "cell_type": "code",
   "execution_count": 20,
   "metadata": {},
   "outputs": [],
   "source": [
    "def extract_tags(value):\n",
    "    results = []\n",
    "    for my_dict in value:\n",
    "        results.append(my_dict[\"tag\"].lower())\n",
    "    return results"
   ]
  },
  {
   "cell_type": "code",
   "execution_count": 21,
   "metadata": {},
   "outputs": [
    {
     "data": {
      "application/vnd.jupyter.widget-view+json": {
       "model_id": "c0d90ff9bbb246bb8a28d70073bfad3c",
       "version_major": 2,
       "version_minor": 0
      },
      "text/plain": [
       "Output()"
      ]
     },
     "metadata": {},
     "output_type": "display_data"
    },
    {
     "name": "stdout",
     "output_type": "stream",
     "text": [
      "Reading secret from C:\\Users\\david\\Documents\\GitHub\\ds-network-analysis\\data\\my_secrets.yaml…\n"
     ]
    },
    {
     "data": {
      "text/html": [
       "<pre style=\"white-space:pre;overflow-x:auto;line-height:normal;font-family:Menlo,'DejaVu Sans Mono',consolas,'Courier New',monospace\"></pre>\n"
      ],
      "text/plain": []
     },
     "metadata": {},
     "output_type": "display_data"
    },
    {
     "data": {
      "text/html": [
       "<pre style=\"white-space:pre;overflow-x:auto;line-height:normal;font-family:Menlo,'DejaVu Sans Mono',consolas,'Courier New',monospace\">\n",
       "</pre>\n"
      ],
      "text/plain": [
       "\n"
      ]
     },
     "metadata": {},
     "output_type": "display_data"
    },
    {
     "data": {
      "application/vnd.jupyter.widget-view+json": {
       "model_id": "2fb0f0a1eed14e8cbcd320ab9769dbc4",
       "version_major": 2,
       "version_minor": 0
      },
      "text/plain": [
       "Output()"
      ]
     },
     "metadata": {},
     "output_type": "display_data"
    },
    {
     "name": "stdout",
     "output_type": "stream",
     "text": [
      "Reading secret from C:\\Users\\david\\Documents\\GitHub\\ds-network-analysis\\data\\my_secrets.yaml…\n"
     ]
    },
    {
     "data": {
      "text/html": [
       "<pre style=\"white-space:pre;overflow-x:auto;line-height:normal;font-family:Menlo,'DejaVu Sans Mono',consolas,'Courier New',monospace\"></pre>\n"
      ],
      "text/plain": []
     },
     "metadata": {},
     "output_type": "display_data"
    },
    {
     "data": {
      "text/html": [
       "<pre style=\"white-space:pre;overflow-x:auto;line-height:normal;font-family:Menlo,'DejaVu Sans Mono',consolas,'Courier New',monospace\">\n",
       "</pre>\n"
      ],
      "text/plain": [
       "\n"
      ]
     },
     "metadata": {},
     "output_type": "display_data"
    }
   ],
   "source": [
    "c = SocialETL(query=\"#stoprussia lang:en\", pages=2, recent=False) #-is:retweet "
   ]
  },
  {
   "cell_type": "code",
   "execution_count": 31,
   "metadata": {},
   "outputs": [
    {
     "name": "stdout",
     "output_type": "stream",
     "text": [
      "0      [{\"start\": 170, \"end\": 181, \"tag\": \"StopRussia...\n",
      "1      [{\"start\": 170, \"end\": 181, \"tag\": \"StopRussia...\n",
      "2      [{\"start\": 36, \"end\": 49, \"tag\": \"SlavaUkraini...\n",
      "3        [{\"start\": 87, \"end\": 98, \"tag\": \"StopRussia\"}]\n",
      "4      [{\"start\": 55, \"end\": 65, \"tag\": \"Ukrainian\"},...\n",
      "                             ...                        \n",
      "595    [{\"start\": 170, \"end\": 181, \"tag\": \"StopRussia...\n",
      "596    [{\"start\": 12, \"end\": 23, \"tag\": \"Lysychansk\"}...\n",
      "597    [{\"start\": 26, \"end\": 40, \"tag\": \"ArmUkraineNo...\n",
      "598    [{\"start\": 104, \"end\": 121, \"tag\": \"StandWithU...\n",
      "599    [{\"start\": 170, \"end\": 181, \"tag\": \"StopRussia...\n",
      "Name: entities.hashtags, Length: 600, dtype: object tweets with at least 1 hashtag.\n",
      "0              slavaukraini\n",
      "1                stoprussia\n",
      "2                 stopputin\n",
      "3          putinwarcriminal\n",
      "4                       nft\n",
      "5              nftcommunity\n",
      "6                     lgbtq\n",
      "7              nftcollector\n",
      "8              cryptoartist\n",
      "9                      nfts\n",
      "10                 wezenaar\n",
      "11             rickwezenaar\n",
      "12             slavaukraini\n",
      "13               stoprussia\n",
      "14                stopputin\n",
      "15         putinwarcriminal\n",
      "16                      nft\n",
      "17             nftcommunity\n",
      "18                    lgbtq\n",
      "19             nftcollector\n",
      "20             cryptoartist\n",
      "21                     nfts\n",
      "22                 wezenaar\n",
      "23             rickwezenaar\n",
      "24             slavaukraini\n",
      "25                 fckputin\n",
      "26             stopputinnow\n",
      "27                   putler\n",
      "28               stoprussia\n",
      "29    stoprussianaggression\n",
      "30    savemariupoldefenders\n",
      "31             slavaukraini\n",
      "32               stoprussia\n",
      "33                stopputin\n",
      "34         putinwarcriminal\n",
      "35                      nft\n",
      "36             nftcommunity\n",
      "37                    lgbtq\n",
      "38             nftcollector\n",
      "39             cryptoartist\n",
      "40                     nfts\n",
      "41                 wezenaar\n",
      "42             rickwezenaar\n",
      "43             slavaukraini\n",
      "44               stoprussia\n",
      "45                stopputin\n",
      "46         putinwarcriminal\n",
      "47                      nft\n",
      "48             nftcommunity\n",
      "49                    lgbtq\n",
      "50             nftcollector\n",
      "51             cryptoartist\n",
      "52                     nfts\n",
      "53                 wezenaar\n",
      "54             rickwezenaar\n",
      "Name: proukr, dtype: object\n",
      "slavaukraini             5\n",
      "stoprussia               5\n",
      "nftcollector             4\n",
      "rickwezenaar             4\n",
      "wezenaar                 4\n",
      "nfts                     4\n",
      "cryptoartist             4\n",
      "lgbtq                    4\n",
      "nftcommunity             4\n",
      "nft                      4\n",
      "putinwarcriminal         4\n",
      "stopputin                4\n",
      "fckputin                 1\n",
      "stopputinnow             1\n",
      "putler                   1\n",
      "stoprussianaggression    1\n",
      "savemariupoldefenders    1\n",
      "Name: proukr, dtype: int64\n",
      "Series([], Name: prorus, dtype: float64)\n",
      "Series([], Name: prorus, dtype: int64)\n",
      "0            stoprussia\n",
      "1     standupforukraine\n",
      "2               ukraine\n",
      "3         ukrainerussia\n",
      "4      stopwarinukraine\n",
      "5            stoprussia\n",
      "6     standupforukraine\n",
      "7               ukraine\n",
      "8         ukrainerussia\n",
      "9      stopwarinukraine\n",
      "10              ukraine\n",
      "11     ukrainerussiawar\n",
      "12         stopputinnow\n",
      "13           stoprussia\n",
      "14     putinwarcriminal\n",
      "15     russiaukrainewar\n",
      "16     standwithukraine\n",
      "17     stopwarinukraine\n",
      "18              stopwar\n",
      "19    standupforukraine\n",
      "20          putinhitler\n",
      "Name: pax, dtype: object\n",
      "stoprussia           3\n",
      "standupforukraine    3\n",
      "ukraine              3\n",
      "stopwarinukraine     3\n",
      "ukrainerussia        2\n",
      "ukrainerussiawar     1\n",
      "stopputinnow         1\n",
      "putinwarcriminal     1\n",
      "russiaukrainewar     1\n",
      "standwithukraine     1\n",
      "stopwar              1\n",
      "putinhitler          1\n",
      "Name: pax, dtype: int64\n"
     ]
    },
    {
     "name": "stderr",
     "output_type": "stream",
     "text": [
      "<ipython-input-31-ccd95c0c951e>:29: DeprecationWarning: The default dtype for empty Series will be 'object' instead of 'float64' in a future version. Specify a dtype explicitly to silence this warning.\n",
      "  lista_intersez[category] = pd.Series(value, name=category)\n"
     ]
    }
   ],
   "source": [
    "lista = c.df[[\"id\", \"entities.hashtags\"]].dropna() #miao=lista\n",
    "print(f\"{lista['entities.hashtags']} tweets with at least 1 hashtag.\")\n",
    "\n",
    "lista[\"entities.hashtags\"] = lista[\"entities.hashtags\"].map(eval)\n",
    "\n",
    "lista[\"tags\"] = lista[\"entities.hashtags\"].map(extract_tags)\n",
    "\n",
    "my_results = []\n",
    "\n",
    "tagmadre = {\n",
    "    \"proukr\":\"slavaukraini\",\n",
    "    \"prorus\": \"istandwithputin\",\n",
    "    \"pax\": \"stopwarinukraine\",\n",
    "}\n",
    "results = {\"proukr\": [], \"prorus\": [], \"pax\": []}\n",
    "lista_intersez = {}\n",
    "\n",
    "for _, riga in lista.iterrows():\n",
    "    if tagmadre[\"proukr\"] in riga[\"tags\"]:\n",
    "        #        results = [tag for tag in riga[\"tags\"]]\n",
    "        #        for tag in riga[\"tags\"]:\n",
    "        #            results.append(tag)\n",
    "        results[\"proukr\"].extend([tag for tag in riga[\"tags\"]])\n",
    "    elif tagmadre[\"prorus\"] in riga[\"tags\"]:\n",
    "        results[\"prorus\"].extend([tag for tag in riga[\"tags\"]])\n",
    "    elif tagmadre[\"pax\"] in riga[\"tags\"]:\n",
    "        results[\"pax\"].extend([tag for tag in riga[\"tags\"]])\n",
    "for category, value in results.items():\n",
    "    lista_intersez[category] = pd.Series(value, name=category)\n",
    "    print(lista_intersez[category])\n",
    "    print(lista_intersez[category].value_counts())"
   ]
  },
  {
   "cell_type": "markdown",
   "metadata": {},
   "source": [
    "## Support below threshold "
   ]
  },
  {
   "cell_type": "code",
   "execution_count": 30,
   "metadata": {
    "scrolled": false
   },
   "outputs": [
    {
     "data": {
      "text/plain": [
       "{'stoprussia': 1,\n",
       " 'standupforukraine': 1,\n",
       " 'ukraine': 1,\n",
       " 'ukrainerussia': 1,\n",
       " 'stopwarinukraine': 1,\n",
       " 'ukrainerussiawar': 1,\n",
       " 'stopputinnow': 1,\n",
       " 'putinwarcriminal': 1,\n",
       " 'russiaukrainewar': 1,\n",
       " 'standwithukraine': 1,\n",
       " 'stopwar': 1,\n",
       " 'putinhitler': 1}"
      ]
     },
     "execution_count": 30,
     "metadata": {},
     "output_type": "execute_result"
    }
   ],
   "source": [
    "#creare un dizionario per ogni categoria dove k=hashtag, v=count\n",
    "dict_prorus={}\n",
    "dict_proukr={}\n",
    "dict_pax={}\n",
    "for category, values in results.items():\n",
    "    #lista_intersez[category] = pd.Series(values, name=category)\n",
    "    for i,value in enumerate(values):\n",
    "        if category==\"proukr\":\n",
    "        #print(values[i])\n",
    "        #print(value.count(values[i]))\n",
    "            dict_proukr[value]=value.count(values[i])\n",
    "        elif category==\"prorus\":\n",
    "            dict_prorus[value]=value.count(values[i])\n",
    "        elif category==\"pax\":\n",
    "            dict_pax[value]=value.count(values[i])"
   ]
  },
  {
   "cell_type": "code",
   "execution_count": null,
   "metadata": {},
   "outputs": [],
   "source": [
    "#eliminare dal diz di ogni categoria l'hashtag con support<=thershold t\n",
    "liste_diz=[dict_proukr, dict_prorus, dict_pax]\n",
    "t=1\n",
    "for diz in liste_diz:\n",
    "    for k,v in diz.copy().items():\n",
    "        if v<=t:\n",
    "            del diz[k]\n",
    "print(liste_diz)"
   ]
  },
  {
   "cell_type": "markdown",
   "metadata": {},
   "source": [
    "## Score-cat-method"
   ]
  },
  {
   "cell_type": "code",
   "execution_count": 7,
   "metadata": {},
   "outputs": [
    {
     "name": "stdout",
     "output_type": "stream",
     "text": [
      "count of proukr = 24\n",
      "count of prorus = 0\n",
      "count of pax = 31\n"
     ]
    }
   ],
   "source": [
    "for k, v in lista_intersez.items():\n",
    "    print(\"count of\", k, \"=\", len(v))"
   ]
  },
  {
   "cell_type": "code",
   "execution_count": 8,
   "metadata": {},
   "outputs": [
    {
     "name": "stdout",
     "output_type": "stream",
     "text": [
      "24 0 31\n"
     ]
    }
   ],
   "source": [
    "count_proukr=0\n",
    "count_prorus=0\n",
    "count_pax=0\n",
    "for k,v in lista_intersez.items():\n",
    "    if k==\"proukr\":\n",
    "        count_proukr=len(v)\n",
    "    elif k==\"prorus\":\n",
    "        count_prorus=len(v)\n",
    "    if k==\"pax\":\n",
    "        count_pax=len(v)\n",
    "print(count_proukr, count_prorus, count_pax)"
   ]
  },
  {
   "cell_type": "markdown",
   "metadata": {},
   "source": [
    "### score:"
   ]
  },
  {
   "cell_type": "code",
   "execution_count": 9,
   "metadata": {},
   "outputs": [
    {
     "name": "stdout",
     "output_type": "stream",
     "text": [
      "score prorussia =  0.0\n",
      "score proukraine =  0.43636363636363634\n",
      "score pax =  0.5636363636363636\n"
     ]
    }
   ],
   "source": [
    "c_tot= count_pax+count_prorus+count_proukr #intersez toto tra stopwar e altri\n",
    "print(\"score prorussia = \", count_prorus/c_tot)\n",
    "print(\"score proukraine = \", count_proukr/c_tot)\n",
    "print(\"score pax = \", count_pax/c_tot)"
   ]
  },
  {
   "cell_type": "code",
   "execution_count": null,
   "metadata": {},
   "outputs": [],
   "source": [
    "assegniamo se score maggiore e se score>threshold"
   ]
  },
  {
   "cell_type": "markdown",
   "metadata": {},
   "source": [
    "### part2"
   ]
  },
  {
   "cell_type": "code",
   "execution_count": null,
   "metadata": {},
   "outputs": [],
   "source": [
    "results = []\n",
    "    for category in root_tags:\n",
    "        selection = set((category, one_hashtag))\n",
    "        scores = []\n",
    "        temp_mask = df[\"tags\"].apply(\n",
    "            lambda x: all(item for item in selection if item in x)\n",
    "        )\n",
    "        temp_df = df[temp_mask]\n",
    "        results.append(len(temp_df) / len(df))\n",
    "\n",
    "    print(results)\n",
    "    return results"
   ]
  },
  {
   "cell_type": "code",
   "execution_count": null,
   "metadata": {},
   "outputs": [],
   "source": [
    "dict_prorus={}\n",
    "dict_proukr={}\n",
    "dict_pax={}\n",
    "for category in root_tags:\n",
    "    if category==\"prous\":\n",
    "    \n",
    "    for cat in df[\"tags\"]:\n",
    "        "
   ]
  },
  {
   "cell_type": "markdown",
   "metadata": {},
   "source": [
    "# Trovare quarta categoria"
   ]
  },
  {
   "cell_type": "markdown",
   "metadata": {},
   "source": [
    "### Count Hashtags"
   ]
  },
  {
   "cell_type": "code",
   "execution_count": 4,
   "metadata": {},
   "outputs": [
    {
     "data": {
      "application/vnd.jupyter.widget-view+json": {
       "model_id": "5c15eeabaf534045bdf43e8936d5de33",
       "version_major": 2,
       "version_minor": 0
      },
      "text/plain": [
       "Output()"
      ]
     },
     "metadata": {},
     "output_type": "display_data"
    },
    {
     "name": "stdout",
     "output_type": "stream",
     "text": [
      "Reading secret from C:\\Users\\david\\Documents\\GitHub\\ds-network-analysis\\data\\my_secrets.yaml…\n"
     ]
    },
    {
     "data": {
      "text/html": [
       "<pre style=\"white-space:pre;overflow-x:auto;line-height:normal;font-family:Menlo,'DejaVu Sans Mono',consolas,'Courier New',monospace\"></pre>\n"
      ],
      "text/plain": []
     },
     "metadata": {},
     "output_type": "display_data"
    },
    {
     "data": {
      "text/html": [
       "<pre style=\"white-space:pre;overflow-x:auto;line-height:normal;font-family:Menlo,'DejaVu Sans Mono',consolas,'Courier New',monospace\">\n",
       "</pre>\n"
      ],
      "text/plain": [
       "\n"
      ]
     },
     "metadata": {},
     "output_type": "display_data"
    },
    {
     "name": "stdout",
     "output_type": "stream",
     "text": [
      "Count(query='#eurovision2022 lang:en', df=pd.DataFrame, count=169236)\n"
     ]
    }
   ],
   "source": [
    "c1=Count(query='#eurovision2022 lang:en')\n",
    "print(c1)"
   ]
  },
  {
   "cell_type": "code",
   "execution_count": 8,
   "metadata": {},
   "outputs": [
    {
     "data": {
      "application/vnd.jupyter.widget-view+json": {
       "model_id": "2287f2e6518545e886b9544b3854439e",
       "version_major": 2,
       "version_minor": 0
      },
      "text/plain": [
       "Output()"
      ]
     },
     "metadata": {},
     "output_type": "display_data"
    },
    {
     "name": "stdout",
     "output_type": "stream",
     "text": [
      "Reading secret from C:\\Users\\david\\Documents\\GitHub\\ds-network-analysis\\data\\my_secrets.yaml…\n"
     ]
    },
    {
     "data": {
      "text/html": [
       "<pre style=\"white-space:pre;overflow-x:auto;line-height:normal;font-family:Menlo,'DejaVu Sans Mono',consolas,'Courier New',monospace\"></pre>\n"
      ],
      "text/plain": []
     },
     "metadata": {},
     "output_type": "display_data"
    },
    {
     "data": {
      "text/html": [
       "<pre style=\"white-space:pre;overflow-x:auto;line-height:normal;font-family:Menlo,'DejaVu Sans Mono',consolas,'Courier New',monospace\">\n",
       "</pre>\n"
      ],
      "text/plain": [
       "\n"
      ]
     },
     "metadata": {},
     "output_type": "display_data"
    },
    {
     "name": "stdout",
     "output_type": "stream",
     "text": [
      "Count(query='#eurovision lang:en', df=pd.DataFrame, count=2281149)\n"
     ]
    }
   ],
   "source": [
    "c2=Count(query='#eurovision lang:en')\n",
    "print(c2)"
   ]
  },
  {
   "cell_type": "code",
   "execution_count": 9,
   "metadata": {},
   "outputs": [
    {
     "data": {
      "application/vnd.jupyter.widget-view+json": {
       "model_id": "31350bec1fe8482898b7b8c10ef0d541",
       "version_major": 2,
       "version_minor": 0
      },
      "text/plain": [
       "Output()"
      ]
     },
     "metadata": {},
     "output_type": "display_data"
    },
    {
     "name": "stdout",
     "output_type": "stream",
     "text": [
      "Reading secret from C:\\Users\\david\\Documents\\GitHub\\ds-network-analysis\\data\\my_secrets.yaml…\n"
     ]
    },
    {
     "data": {
      "text/html": [
       "<pre style=\"white-space:pre;overflow-x:auto;line-height:normal;font-family:Menlo,'DejaVu Sans Mono',consolas,'Courier New',monospace\"></pre>\n"
      ],
      "text/plain": []
     },
     "metadata": {},
     "output_type": "display_data"
    },
    {
     "data": {
      "text/html": [
       "<pre style=\"white-space:pre;overflow-x:auto;line-height:normal;font-family:Menlo,'DejaVu Sans Mono',consolas,'Courier New',monospace\">\n",
       "</pre>\n"
      ],
      "text/plain": [
       "\n"
      ]
     },
     "metadata": {},
     "output_type": "display_data"
    },
    {
     "name": "stdout",
     "output_type": "stream",
     "text": [
      "Count(query='#ESC2022 lang:en', df=pd.DataFrame, count=309850)\n"
     ]
    }
   ],
   "source": [
    "c3=Count(query='#ESC2022 lang:en')\n",
    "print(c3)"
   ]
  },
  {
   "cell_type": "code",
   "execution_count": 13,
   "metadata": {},
   "outputs": [
    {
     "data": {
      "application/vnd.jupyter.widget-view+json": {
       "model_id": "f31feac730fe4526bd9bda0eddecb76b",
       "version_major": 2,
       "version_minor": 0
      },
      "text/plain": [
       "Output()"
      ]
     },
     "metadata": {},
     "output_type": "display_data"
    },
    {
     "data": {
      "text/html": [
       "<pre style=\"white-space:pre;overflow-x:auto;line-height:normal;font-family:Menlo,'DejaVu Sans Mono',consolas,'Courier New',monospace\"></pre>\n"
      ],
      "text/plain": []
     },
     "metadata": {},
     "output_type": "display_data"
    },
    {
     "data": {
      "text/html": [
       "<pre style=\"white-space:pre;overflow-x:auto;line-height:normal;font-family:Menlo,'DejaVu Sans Mono',consolas,'Courier New',monospace\">\n",
       "</pre>\n"
      ],
      "text/plain": [
       "\n"
      ]
     },
     "metadata": {},
     "output_type": "display_data"
    },
    {
     "name": "stdout",
     "output_type": "stream",
     "text": [
      "Count(query='#onepiece', df=pd.DataFrame, count=5261625)\n"
     ]
    }
   ],
   "source": [
    "c4=Count(query='#onepiece')\n",
    "print(c4)"
   ]
  },
  {
   "cell_type": "code",
   "execution_count": 19,
   "metadata": {},
   "outputs": [
    {
     "data": {
      "application/vnd.jupyter.widget-view+json": {
       "model_id": "30f7a22ecda049d6bb665101e22f9253",
       "version_major": 2,
       "version_minor": 0
      },
      "text/plain": [
       "Output()"
      ]
     },
     "metadata": {},
     "output_type": "display_data"
    },
    {
     "name": "stdout",
     "output_type": "stream",
     "text": [
      "Reading secret from C:\\Users\\david\\Documents\\GitHub\\ds-network-analysis\\data\\my_secrets.yaml…\n"
     ]
    },
    {
     "data": {
      "text/html": [
       "<pre style=\"white-space:pre;overflow-x:auto;line-height:normal;font-family:Menlo,'DejaVu Sans Mono',consolas,'Courier New',monospace\"></pre>\n"
      ],
      "text/plain": []
     },
     "metadata": {},
     "output_type": "display_data"
    },
    {
     "data": {
      "text/html": [
       "<pre style=\"white-space:pre;overflow-x:auto;line-height:normal;font-family:Menlo,'DejaVu Sans Mono',consolas,'Courier New',monospace\">\n",
       "</pre>\n"
      ],
      "text/plain": [
       "\n"
      ]
     },
     "metadata": {},
     "output_type": "display_data"
    },
    {
     "name": "stdout",
     "output_type": "stream",
     "text": [
      "Count(query='#onepiece1043 lang:en', df=pd.DataFrame, count=77829)\n"
     ]
    }
   ],
   "source": [
    "c5=Count(query='#elonmusk lang:en')\n",
    "print(c5)"
   ]
  },
  {
   "cell_type": "code",
   "execution_count": 22,
   "metadata": {},
   "outputs": [
    {
     "data": {
      "application/vnd.jupyter.widget-view+json": {
       "model_id": "0b623d49571447acbd199663661e271f",
       "version_major": 2,
       "version_minor": 0
      },
      "text/plain": [
       "Output()"
      ]
     },
     "metadata": {},
     "output_type": "display_data"
    },
    {
     "name": "stdout",
     "output_type": "stream",
     "text": [
      "Reading secret from C:\\Users\\david\\Documents\\GitHub\\ds-network-analysis\\data\\my_secrets.yaml…\n"
     ]
    },
    {
     "data": {
      "text/html": [
       "<pre style=\"white-space:pre;overflow-x:auto;line-height:normal;font-family:Menlo,'DejaVu Sans Mono',consolas,'Courier New',monospace\"></pre>\n"
      ],
      "text/plain": []
     },
     "metadata": {},
     "output_type": "display_data"
    },
    {
     "data": {
      "text/html": [
       "<pre style=\"white-space:pre;overflow-x:auto;line-height:normal;font-family:Menlo,'DejaVu Sans Mono',consolas,'Courier New',monospace\">\n",
       "</pre>\n"
      ],
      "text/plain": [
       "\n"
      ]
     },
     "metadata": {},
     "output_type": "display_data"
    },
    {
     "name": "stdout",
     "output_type": "stream",
     "text": [
      "Count(query='#whatsappdown lang:en', df=pd.DataFrame, count=8383)\n"
     ]
    }
   ],
   "source": [
    "c3=Count(query='#oscars lang:en')\n",
    "print(c3)"
   ]
  },
  {
   "cell_type": "code",
   "execution_count": null,
   "metadata": {},
   "outputs": [],
   "source": [
    "c3=Count(query='#covid lang:en')\n",
    "print(c3)"
   ]
  },
  {
   "cell_type": "code",
   "execution_count": null,
   "metadata": {},
   "outputs": [],
   "source": [
    "c3=Count(query='#strangerthings4 lang:en')\n",
    "print(c3)"
   ]
  },
  {
   "cell_type": "code",
   "execution_count": null,
   "metadata": {},
   "outputs": [],
   "source": [
    "c3=Count(query='#justiceforjohnnydepp lang:en')\n",
    "print(c3)"
   ]
  },
  {
   "cell_type": "code",
   "execution_count": null,
   "metadata": {},
   "outputs": [],
   "source": [
    "c3=Count(query='#grammys lang:en')\n",
    "print(c3)"
   ]
  },
  {
   "cell_type": "code",
   "execution_count": null,
   "metadata": {},
   "outputs": [],
   "source": [
    "c3=Count(query='#pridemonth lang:en')\n",
    "print(c3)"
   ]
  },
  {
   "cell_type": "code",
   "execution_count": 23,
   "metadata": {},
   "outputs": [
    {
     "data": {
      "application/vnd.jupyter.widget-view+json": {
       "model_id": "4a8b468f89a841c3a834c8642aef91e2",
       "version_major": 2,
       "version_minor": 0
      },
      "text/plain": [
       "Output()"
      ]
     },
     "metadata": {},
     "output_type": "display_data"
    },
    {
     "name": "stdout",
     "output_type": "stream",
     "text": [
      "Reading secret from C:\\Users\\david\\Documents\\GitHub\\ds-network-analysis\\data\\my_secrets.yaml…\n"
     ]
    },
    {
     "data": {
      "text/html": [
       "<pre style=\"white-space:pre;overflow-x:auto;line-height:normal;font-family:Menlo,'DejaVu Sans Mono',consolas,'Courier New',monospace\"></pre>\n"
      ],
      "text/plain": []
     },
     "metadata": {},
     "output_type": "display_data"
    },
    {
     "data": {
      "text/html": [
       "<pre style=\"white-space:pre;overflow-x:auto;line-height:normal;font-family:Menlo,'DejaVu Sans Mono',consolas,'Courier New',monospace\">\n",
       "</pre>\n"
      ],
      "text/plain": [
       "\n"
      ]
     },
     "metadata": {},
     "output_type": "display_data"
    },
    {
     "name": "stdout",
     "output_type": "stream",
     "text": [
      "Count(query='#fantaeurovision lang:en', df=pd.DataFrame, count=1301)\n"
     ]
    }
   ],
   "source": [
    "c3=Count(query='#fantaeurovision lang:en')\n",
    "print(c3)"
   ]
  },
  {
   "cell_type": "markdown",
   "metadata": {},
   "source": [
    "Utilizzati hashtags con count più elevato: escluso eurovision perchè poteva raccogliere tweet ambigui e sarebbe stato difficile escluderli perchè nei tweet dove compariva #eurovision pteva nache comparire #ukraine che noi abbiamo considerato come parte della cate"
   ]
  },
  {
   "cell_type": "code",
   "execution_count": 155,
   "metadata": {},
   "outputs": [
    {
     "data": {
      "application/vnd.jupyter.widget-view+json": {
       "model_id": "6a3ad0234a6249939225570f37b06e76",
       "version_major": 2,
       "version_minor": 0
      },
      "text/plain": [
       "Output()"
      ]
     },
     "metadata": {},
     "output_type": "display_data"
    },
    {
     "name": "stdout",
     "output_type": "stream",
     "text": [
      "Reading secret from C:\\Users\\david\\Documents\\GitHub\\ds-network-analysis\\data\\my_secrets.yaml…\n"
     ]
    },
    {
     "data": {
      "text/html": [
       "<pre style=\"white-space:pre;overflow-x:auto;line-height:normal;font-family:Menlo,'DejaVu Sans Mono',consolas,'Courier New',monospace\"></pre>\n"
      ],
      "text/plain": []
     },
     "metadata": {},
     "output_type": "display_data"
    },
    {
     "data": {
      "text/html": [
       "<pre style=\"white-space:pre;overflow-x:auto;line-height:normal;font-family:Menlo,'DejaVu Sans Mono',consolas,'Courier New',monospace\">\n",
       "</pre>\n"
      ],
      "text/plain": [
       "\n"
      ]
     },
     "metadata": {},
     "output_type": "display_data"
    }
   ],
   "source": [
    "m4 = SocialETL(query=\"(eurovision OR pridemonth OR grammys OR justiceforjohnnydepp)  lang:en\", pages=5, recent=False)#OR #onepiece OR #oscars OR #elonmusk)"
   ]
  },
  {
   "cell_type": "code",
   "execution_count": 156,
   "metadata": {},
   "outputs": [],
   "source": [
    "#user\n",
    "user_id=m4.df['author_id']\n",
    "count=m4.df['author.public_metrics.tweet_count']\n",
    "hashtag_user=m4.df['author.entities.description.hashtags']"
   ]
  },
  {
   "cell_type": "code",
   "execution_count": 157,
   "metadata": {},
   "outputs": [],
   "source": [
    "#tweet\n",
    "tweet_id=m4.df[\"id\"]\n",
    "hashtag_tweet=m4.df[\"entities.hashtags\"]\n",
    "text=m4.df['text']"
   ]
  },
  {
   "cell_type": "markdown",
   "metadata": {},
   "source": [
    "### METODO 1"
   ]
  },
  {
   "cell_type": "code",
   "execution_count": 158,
   "metadata": {},
   "outputs": [
    {
     "data": {
      "text/html": [
       "<div>\n",
       "<style scoped>\n",
       "    .dataframe tbody tr th:only-of-type {\n",
       "        vertical-align: middle;\n",
       "    }\n",
       "\n",
       "    .dataframe tbody tr th {\n",
       "        vertical-align: top;\n",
       "    }\n",
       "\n",
       "    .dataframe thead th {\n",
       "        text-align: right;\n",
       "    }\n",
       "</style>\n",
       "<table border=\"1\" class=\"dataframe\">\n",
       "  <thead>\n",
       "    <tr style=\"text-align: right;\">\n",
       "      <th></th>\n",
       "      <th>id_user</th>\n",
       "      <th>text</th>\n",
       "      <th>hashtag_user</th>\n",
       "      <th>tweet_id</th>\n",
       "      <th>hashtag_tweet</th>\n",
       "    </tr>\n",
       "  </thead>\n",
       "  <tbody>\n",
       "    <tr>\n",
       "      <th>0</th>\n",
       "      <td>1538200313626300417</td>\n",
       "      <td>~~~ REVIEW\\nAlice Merton\\n📀 S.I.D.E.S.\\n(2022)...</td>\n",
       "      <td>NaN</td>\n",
       "      <td>1540107824499400705</td>\n",
       "      <td>[{\"start\": 141, \"end\": 152, \"tag\": \"PrideMonth...</td>\n",
       "    </tr>\n",
       "    <tr>\n",
       "      <th>1</th>\n",
       "      <td>1224722023798231042</td>\n",
       "      <td>@ScotNational “We hate the U.K. so much, we wa...</td>\n",
       "      <td>[{\"start\": 118, \"end\": 136, \"tag\": \"Dontforget...</td>\n",
       "      <td>1540107807785091074</td>\n",
       "      <td>NaN</td>\n",
       "    </tr>\n",
       "    <tr>\n",
       "      <th>2</th>\n",
       "      <td>1397696334455521282</td>\n",
       "      <td>Happy bi pride from Hatsune Miku 💗💜💙\\nThis is ...</td>\n",
       "      <td>NaN</td>\n",
       "      <td>1540107804186480640</td>\n",
       "      <td>[{\"start\": 100, \"end\": 112, \"tag\": \"HatsuneMik...</td>\n",
       "    </tr>\n",
       "    <tr>\n",
       "      <th>3</th>\n",
       "      <td>35577173</td>\n",
       "      <td>Got a special delivery today! I put her with h...</td>\n",
       "      <td>NaN</td>\n",
       "      <td>1540107791393644544</td>\n",
       "      <td>[{\"start\": 103, \"end\": 111, \"tag\": \"Grammys\"},...</td>\n",
       "    </tr>\n",
       "    <tr>\n",
       "      <th>4</th>\n",
       "      <td>1016734421779664896</td>\n",
       "      <td>Happy Pride Month Apex Legends! (1/2)\\n#ApexLe...</td>\n",
       "      <td>NaN</td>\n",
       "      <td>1540107758904770562</td>\n",
       "      <td>[{\"start\": 38, \"end\": 51, \"tag\": \"ApexLedgends...</td>\n",
       "    </tr>\n",
       "    <tr>\n",
       "      <th>...</th>\n",
       "      <td>...</td>\n",
       "      <td>...</td>\n",
       "      <td>...</td>\n",
       "      <td>...</td>\n",
       "      <td>...</td>\n",
       "    </tr>\n",
       "    <tr>\n",
       "      <th>495</th>\n",
       "      <td>1423839997099220994</td>\n",
       "      <td>This #PrideMonth, the #FBI honors our #LGBTQ+ ...</td>\n",
       "      <td>NaN</td>\n",
       "      <td>1540103156457168897</td>\n",
       "      <td>[{\"start\": 5, \"end\": 16, \"tag\": \"PrideMonth\"},...</td>\n",
       "    </tr>\n",
       "    <tr>\n",
       "      <th>496</th>\n",
       "      <td>9078112</td>\n",
       "      <td>This #PrideMonth, try #translations of #shorts...</td>\n",
       "      <td>NaN</td>\n",
       "      <td>1540103154171203585</td>\n",
       "      <td>[{\"start\": 5, \"end\": 16, \"tag\": \"PrideMonth\"},...</td>\n",
       "    </tr>\n",
       "    <tr>\n",
       "      <th>497</th>\n",
       "      <td>1321402953022935041</td>\n",
       "      <td>#tbt it’s been a year since my career began an...</td>\n",
       "      <td>NaN</td>\n",
       "      <td>1540103152091168768</td>\n",
       "      <td>[{\"start\": 0, \"end\": 4, \"tag\": \"tbt\"}, {\"start...</td>\n",
       "    </tr>\n",
       "    <tr>\n",
       "      <th>498</th>\n",
       "      <td>1414764092838064131</td>\n",
       "      <td>Bugs has got your back, so be free to be YOU! ...</td>\n",
       "      <td>NaN</td>\n",
       "      <td>1540103148983009286</td>\n",
       "      <td>[{\"start\": 134, \"end\": 145, \"tag\": \"happypride...</td>\n",
       "    </tr>\n",
       "    <tr>\n",
       "      <th>499</th>\n",
       "      <td>3071976828</td>\n",
       "      <td>As #PrideMonth is drawing to a close, we at E4...</td>\n",
       "      <td>NaN</td>\n",
       "      <td>1540103134629965825</td>\n",
       "      <td>[{\"start\": 3, \"end\": 14, \"tag\": \"PrideMonth\"},...</td>\n",
       "    </tr>\n",
       "  </tbody>\n",
       "</table>\n",
       "<p>500 rows × 5 columns</p>\n",
       "</div>"
      ],
      "text/plain": [
       "                 id_user                                               text  \\\n",
       "0    1538200313626300417  ~~~ REVIEW\\nAlice Merton\\n📀 S.I.D.E.S.\\n(2022)...   \n",
       "1    1224722023798231042  @ScotNational “We hate the U.K. so much, we wa...   \n",
       "2    1397696334455521282  Happy bi pride from Hatsune Miku 💗💜💙\\nThis is ...   \n",
       "3               35577173  Got a special delivery today! I put her with h...   \n",
       "4    1016734421779664896  Happy Pride Month Apex Legends! (1/2)\\n#ApexLe...   \n",
       "..                   ...                                                ...   \n",
       "495  1423839997099220994  This #PrideMonth, the #FBI honors our #LGBTQ+ ...   \n",
       "496              9078112  This #PrideMonth, try #translations of #shorts...   \n",
       "497  1321402953022935041  #tbt it’s been a year since my career began an...   \n",
       "498  1414764092838064131  Bugs has got your back, so be free to be YOU! ...   \n",
       "499           3071976828  As #PrideMonth is drawing to a close, we at E4...   \n",
       "\n",
       "                                          hashtag_user             tweet_id  \\\n",
       "0                                                  NaN  1540107824499400705   \n",
       "1    [{\"start\": 118, \"end\": 136, \"tag\": \"Dontforget...  1540107807785091074   \n",
       "2                                                  NaN  1540107804186480640   \n",
       "3                                                  NaN  1540107791393644544   \n",
       "4                                                  NaN  1540107758904770562   \n",
       "..                                                 ...                  ...   \n",
       "495                                                NaN  1540103156457168897   \n",
       "496                                                NaN  1540103154171203585   \n",
       "497                                                NaN  1540103152091168768   \n",
       "498                                                NaN  1540103148983009286   \n",
       "499                                                NaN  1540103134629965825   \n",
       "\n",
       "                                         hashtag_tweet  \n",
       "0    [{\"start\": 141, \"end\": 152, \"tag\": \"PrideMonth...  \n",
       "1                                                  NaN  \n",
       "2    [{\"start\": 100, \"end\": 112, \"tag\": \"HatsuneMik...  \n",
       "3    [{\"start\": 103, \"end\": 111, \"tag\": \"Grammys\"},...  \n",
       "4    [{\"start\": 38, \"end\": 51, \"tag\": \"ApexLedgends...  \n",
       "..                                                 ...  \n",
       "495  [{\"start\": 5, \"end\": 16, \"tag\": \"PrideMonth\"},...  \n",
       "496  [{\"start\": 5, \"end\": 16, \"tag\": \"PrideMonth\"},...  \n",
       "497  [{\"start\": 0, \"end\": 4, \"tag\": \"tbt\"}, {\"start...  \n",
       "498  [{\"start\": 134, \"end\": 145, \"tag\": \"happypride...  \n",
       "499  [{\"start\": 3, \"end\": 14, \"tag\": \"PrideMonth\"},...  \n",
       "\n",
       "[500 rows x 5 columns]"
      ]
     },
     "execution_count": 158,
     "metadata": {},
     "output_type": "execute_result"
    }
   ],
   "source": [
    "df_IDK1=pd.DataFrame({\"id_user\": user_id, \n",
    "                     \"text\": text,\n",
    "                     \"hashtag_user\": hashtag_user,\n",
    "                     \"tweet_id\":tweet_id,\n",
    "                     \"hashtag_tweet\": hashtag_tweet\n",
    "                          })\n",
    "df_IDK1"
   ]
  },
  {
   "cell_type": "code",
   "execution_count": 159,
   "metadata": {
    "scrolled": true
   },
   "outputs": [
    {
     "data": {
      "text/html": [
       "<div>\n",
       "<style scoped>\n",
       "    .dataframe tbody tr th:only-of-type {\n",
       "        vertical-align: middle;\n",
       "    }\n",
       "\n",
       "    .dataframe tbody tr th {\n",
       "        vertical-align: top;\n",
       "    }\n",
       "\n",
       "    .dataframe thead th {\n",
       "        text-align: right;\n",
       "    }\n",
       "</style>\n",
       "<table border=\"1\" class=\"dataframe\">\n",
       "  <thead>\n",
       "    <tr style=\"text-align: right;\">\n",
       "      <th></th>\n",
       "      <th>id_user</th>\n",
       "      <th>text</th>\n",
       "      <th>hashtag_user</th>\n",
       "      <th>tweet_id</th>\n",
       "      <th>hashtag_tweet</th>\n",
       "    </tr>\n",
       "  </thead>\n",
       "  <tbody>\n",
       "    <tr>\n",
       "      <th>0</th>\n",
       "      <td>1005300484465307649</td>\n",
       "      <td>#tbt it’s been a year since my career began an...</td>\n",
       "      <td>0</td>\n",
       "      <td>1540104008358051843</td>\n",
       "      <td>[{\"start\": 0, \"end\": 4, \"tag\": \"tbt\"}, {\"start...</td>\n",
       "    </tr>\n",
       "    <tr>\n",
       "      <th>1</th>\n",
       "      <td>1013435835126026240</td>\n",
       "      <td>in honor of #pridemonth, we’re bringing back o...</td>\n",
       "      <td>[{\"start\": 73, \"end\": 80, \"tag\": \"KTBSPA\"}]</td>\n",
       "      <td>1540106269062742016</td>\n",
       "      <td>[{\"start\": 12, \"end\": 23, \"tag\": \"pridemonth\"}]</td>\n",
       "    </tr>\n",
       "    <tr>\n",
       "      <th>2</th>\n",
       "      <td>1014994526371549184</td>\n",
       "      <td>The ⁦⁦@valdemings⁩ campaign knows how to have ...</td>\n",
       "      <td>[{\"start\": 4, \"end\": 9, \"tag\": \"UT22\"}, {\"star...</td>\n",
       "      <td>1540104116315295748</td>\n",
       "      <td>[{\"start\": 61, \"end\": 72, \"tag\": \"PrideMonth\"}...</td>\n",
       "    </tr>\n",
       "    <tr>\n",
       "      <th>3</th>\n",
       "      <td>1016734421779664896</td>\n",
       "      <td>Happy Pride Month Apex Legends! (1/2)\\n#ApexLe...</td>\n",
       "      <td>0</td>\n",
       "      <td>1540107758904770562</td>\n",
       "      <td>[{\"start\": 38, \"end\": 51, \"tag\": \"ApexLedgends...</td>\n",
       "    </tr>\n",
       "    <tr>\n",
       "      <th>4</th>\n",
       "      <td>1018978102033244161</td>\n",
       "      <td>i don't know what kind of wild demon possessed...</td>\n",
       "      <td>0</td>\n",
       "      <td>1540105534111612935</td>\n",
       "      <td>0</td>\n",
       "    </tr>\n",
       "    <tr>\n",
       "      <th>...</th>\n",
       "      <td>...</td>\n",
       "      <td>...</td>\n",
       "      <td>...</td>\n",
       "      <td>...</td>\n",
       "      <td>...</td>\n",
       "    </tr>\n",
       "    <tr>\n",
       "      <th>479</th>\n",
       "      <td>989136155626082304</td>\n",
       "      <td>Bugs has got your back, so be free to be YOU! ...</td>\n",
       "      <td>0</td>\n",
       "      <td>1540104076599361536</td>\n",
       "      <td>[{\"start\": 134, \"end\": 145, \"tag\": \"happypride...</td>\n",
       "    </tr>\n",
       "    <tr>\n",
       "      <th>480</th>\n",
       "      <td>993333535</td>\n",
       "      <td>Our people are our most valuable assets. 💚\\n\\n...</td>\n",
       "      <td>0</td>\n",
       "      <td>1540105110650777600</td>\n",
       "      <td>[{\"start\": 57, \"end\": 68, \"tag\": \"PrideMonth\"}]</td>\n",
       "    </tr>\n",
       "    <tr>\n",
       "      <th>481</th>\n",
       "      <td>995214637300879360</td>\n",
       "      <td>Me too no one can truth msm anymore to tell th...</td>\n",
       "      <td>0</td>\n",
       "      <td>1540106972934148098</td>\n",
       "      <td>[{\"start\": 73, \"end\": 91, \"tag\": \"AmberHeardIs...</td>\n",
       "    </tr>\n",
       "    <tr>\n",
       "      <th>482</th>\n",
       "      <td>995688255063445504</td>\n",
       "      <td>Join @OPSEU @SEFPO @OPSEUraa at #Toronto #Prid...</td>\n",
       "      <td>0</td>\n",
       "      <td>1540107185811853312</td>\n",
       "      <td>[{\"start\": 32, \"end\": 40, \"tag\": \"Toronto\"}, {...</td>\n",
       "    </tr>\n",
       "    <tr>\n",
       "      <th>483</th>\n",
       "      <td>999359237162717185</td>\n",
       "      <td>“This world would be a whole lot better if we ...</td>\n",
       "      <td>0</td>\n",
       "      <td>1540107495829643264</td>\n",
       "      <td>[{\"start\": 117, \"end\": 127, \"tag\": \"Pride2022\"...</td>\n",
       "    </tr>\n",
       "  </tbody>\n",
       "</table>\n",
       "<p>484 rows × 5 columns</p>\n",
       "</div>"
      ],
      "text/plain": [
       "                 id_user                                               text  \\\n",
       "0    1005300484465307649  #tbt it’s been a year since my career began an...   \n",
       "1    1013435835126026240  in honor of #pridemonth, we’re bringing back o...   \n",
       "2    1014994526371549184  The ⁦⁦@valdemings⁩ campaign knows how to have ...   \n",
       "3    1016734421779664896  Happy Pride Month Apex Legends! (1/2)\\n#ApexLe...   \n",
       "4    1018978102033244161  i don't know what kind of wild demon possessed...   \n",
       "..                   ...                                                ...   \n",
       "479   989136155626082304  Bugs has got your back, so be free to be YOU! ...   \n",
       "480            993333535  Our people are our most valuable assets. 💚\\n\\n...   \n",
       "481   995214637300879360  Me too no one can truth msm anymore to tell th...   \n",
       "482   995688255063445504  Join @OPSEU @SEFPO @OPSEUraa at #Toronto #Prid...   \n",
       "483   999359237162717185  “This world would be a whole lot better if we ...   \n",
       "\n",
       "                                          hashtag_user             tweet_id  \\\n",
       "0                                                    0  1540104008358051843   \n",
       "1          [{\"start\": 73, \"end\": 80, \"tag\": \"KTBSPA\"}]  1540106269062742016   \n",
       "2    [{\"start\": 4, \"end\": 9, \"tag\": \"UT22\"}, {\"star...  1540104116315295748   \n",
       "3                                                    0  1540107758904770562   \n",
       "4                                                    0  1540105534111612935   \n",
       "..                                                 ...                  ...   \n",
       "479                                                  0  1540104076599361536   \n",
       "480                                                  0  1540105110650777600   \n",
       "481                                                  0  1540106972934148098   \n",
       "482                                                  0  1540107185811853312   \n",
       "483                                                  0  1540107495829643264   \n",
       "\n",
       "                                         hashtag_tweet  \n",
       "0    [{\"start\": 0, \"end\": 4, \"tag\": \"tbt\"}, {\"start...  \n",
       "1      [{\"start\": 12, \"end\": 23, \"tag\": \"pridemonth\"}]  \n",
       "2    [{\"start\": 61, \"end\": 72, \"tag\": \"PrideMonth\"}...  \n",
       "3    [{\"start\": 38, \"end\": 51, \"tag\": \"ApexLedgends...  \n",
       "4                                                    0  \n",
       "..                                                 ...  \n",
       "479  [{\"start\": 134, \"end\": 145, \"tag\": \"happypride...  \n",
       "480    [{\"start\": 57, \"end\": 68, \"tag\": \"PrideMonth\"}]  \n",
       "481  [{\"start\": 73, \"end\": 91, \"tag\": \"AmberHeardIs...  \n",
       "482  [{\"start\": 32, \"end\": 40, \"tag\": \"Toronto\"}, {...  \n",
       "483  [{\"start\": 117, \"end\": 127, \"tag\": \"Pride2022\"...  \n",
       "\n",
       "[484 rows x 5 columns]"
      ]
     },
     "execution_count": 159,
     "metadata": {},
     "output_type": "execute_result"
    }
   ],
   "source": [
    "#group by user\n",
    "df_IDK1.groupby(by=\"id_user\").sum().reset_index()"
   ]
  },
  {
   "cell_type": "code",
   "execution_count": 160,
   "metadata": {},
   "outputs": [
    {
     "data": {
      "text/plain": [
       "422"
      ]
     },
     "execution_count": 160,
     "metadata": {},
     "output_type": "execute_result"
    }
   ],
   "source": [
    "df_IDK1[\"hashtag_user\"].isna().sum()"
   ]
  },
  {
   "cell_type": "code",
   "execution_count": 161,
   "metadata": {},
   "outputs": [
    {
     "data": {
      "text/html": [
       "<div>\n",
       "<style scoped>\n",
       "    .dataframe tbody tr th:only-of-type {\n",
       "        vertical-align: middle;\n",
       "    }\n",
       "\n",
       "    .dataframe tbody tr th {\n",
       "        vertical-align: top;\n",
       "    }\n",
       "\n",
       "    .dataframe thead th {\n",
       "        text-align: right;\n",
       "    }\n",
       "</style>\n",
       "<table border=\"1\" class=\"dataframe\">\n",
       "  <thead>\n",
       "    <tr style=\"text-align: right;\">\n",
       "      <th></th>\n",
       "      <th>id_user</th>\n",
       "      <th>text</th>\n",
       "      <th>hashtag_user</th>\n",
       "      <th>tweet_id</th>\n",
       "      <th>hashtag_tweet</th>\n",
       "    </tr>\n",
       "  </thead>\n",
       "  <tbody>\n",
       "    <tr>\n",
       "      <th>0</th>\n",
       "      <td>1529344300760190976</td>\n",
       "      <td>Real change happens as a result of actions - n...</td>\n",
       "      <td>[{\"start\": 31, \"end\": 37, \"tag\": \"cPTSD\"}, {\"s...</td>\n",
       "      <td>1540107749832290304</td>\n",
       "      <td>[{\"start\": 171, \"end\": 182, \"tag\": \"PrideMonth\"}]</td>\n",
       "    </tr>\n",
       "    <tr>\n",
       "      <th>1</th>\n",
       "      <td>881452504306810880</td>\n",
       "      <td>The last day of our Rainbow Challenge. 🌈  I’ve...</td>\n",
       "      <td>[{\"start\": 87, \"end\": 94, \"tag\": \"MHHSBD\"}, {\"...</td>\n",
       "      <td>1540107744832798721</td>\n",
       "      <td>[{\"start\": 174, \"end\": 183, \"tag\": \"EarlyBiz\"}...</td>\n",
       "    </tr>\n",
       "    <tr>\n",
       "      <th>2</th>\n",
       "      <td>4590435023</td>\n",
       "      <td>Our limited edition #Pride shirts will only be...</td>\n",
       "      <td>[{\"start\": 146, \"end\": 159, \"tag\": \"TrainTwitt...</td>\n",
       "      <td>1540107437457321984</td>\n",
       "      <td>[{\"start\": 20, \"end\": 26, \"tag\": \"Pride\"}, {\"s...</td>\n",
       "    </tr>\n",
       "    <tr>\n",
       "      <th>3</th>\n",
       "      <td>73695550</td>\n",
       "      <td>🌈In #PrideMonth the 🇺🇳 #LGBTICoreGroup welcome...</td>\n",
       "      <td>[{\"start\": 18, \"end\": 27, \"tag\": \"Portugal\"}, ...</td>\n",
       "      <td>1540107387763294208</td>\n",
       "      <td>[{\"start\": 4, \"end\": 15, \"tag\": \"PrideMonth\"},...</td>\n",
       "    </tr>\n",
       "    <tr>\n",
       "      <th>4</th>\n",
       "      <td>1381470808443252736</td>\n",
       "      <td>Bugs has got your back, so be free to be YOU! ...</td>\n",
       "      <td>[{\"start\": 2, \"end\": 19, \"tag\": \"ActuallyAutis...</td>\n",
       "      <td>1540107378342801409</td>\n",
       "      <td>[{\"start\": 134, \"end\": 145, \"tag\": \"happypride...</td>\n",
       "    </tr>\n",
       "    <tr>\n",
       "      <th>...</th>\n",
       "      <td>...</td>\n",
       "      <td>...</td>\n",
       "      <td>...</td>\n",
       "      <td>...</td>\n",
       "      <td>...</td>\n",
       "    </tr>\n",
       "    <tr>\n",
       "      <th>65</th>\n",
       "      <td>1322228267726729217</td>\n",
       "      <td>Let’s have a KIKI !!!! \\nEveryone come out to ...</td>\n",
       "      <td>[{\"start\": 82, \"end\": 89, \"tag\": \"CMONNI\"}]</td>\n",
       "      <td>1540103292700614658</td>\n",
       "      <td>[{\"start\": 180, \"end\": 199, \"tag\": \"ballroomth...</td>\n",
       "    </tr>\n",
       "    <tr>\n",
       "      <th>66</th>\n",
       "      <td>1344072144850972672</td>\n",
       "      <td>@BlackBoxCameraC @sdcinvancouver @bettycjung @...</td>\n",
       "      <td>[{\"start\": 78, \"end\": 91, \"tag\": \"transparency...</td>\n",
       "      <td>1540103263319724042</td>\n",
       "      <td>[{\"start\": 312, \"end\": 323, \"tag\": \"PrideMonth\"}]</td>\n",
       "    </tr>\n",
       "    <tr>\n",
       "      <th>67</th>\n",
       "      <td>1481318871244193792</td>\n",
       "      <td>Proud of @zzdesign. Love the @jvnhair packagin...</td>\n",
       "      <td>[{\"start\": 9, \"end\": 14, \"tag\": \"web3\"}, {\"sta...</td>\n",
       "      <td>1540103230423703553</td>\n",
       "      <td>[{\"start\": 102, \"end\": 113, \"tag\": \"PrideMonth...</td>\n",
       "    </tr>\n",
       "    <tr>\n",
       "      <th>68</th>\n",
       "      <td>857936728165896204</td>\n",
       "      <td>This petition, started by @taylorswift13 has a...</td>\n",
       "      <td>[{\"start\": 49, \"end\": 61, \"tag\": \"PassSafeACT\"}]</td>\n",
       "      <td>1540103223717101570</td>\n",
       "      <td>[{\"start\": 154, \"end\": 166, \"tag\": \"EqualityAc...</td>\n",
       "    </tr>\n",
       "    <tr>\n",
       "      <th>69</th>\n",
       "      <td>1322228267726729217</td>\n",
       "      <td>Let’s have a KIKI !!!! \\nEveryone come out to ...</td>\n",
       "      <td>[{\"start\": 82, \"end\": 89, \"tag\": \"CMONNI\"}]</td>\n",
       "      <td>1540103216905326592</td>\n",
       "      <td>[{\"start\": 180, \"end\": 199, \"tag\": \"ballroomth...</td>\n",
       "    </tr>\n",
       "  </tbody>\n",
       "</table>\n",
       "<p>70 rows × 5 columns</p>\n",
       "</div>"
      ],
      "text/plain": [
       "                id_user                                               text  \\\n",
       "0   1529344300760190976  Real change happens as a result of actions - n...   \n",
       "1    881452504306810880  The last day of our Rainbow Challenge. 🌈  I’ve...   \n",
       "2            4590435023  Our limited edition #Pride shirts will only be...   \n",
       "3              73695550  🌈In #PrideMonth the 🇺🇳 #LGBTICoreGroup welcome...   \n",
       "4   1381470808443252736  Bugs has got your back, so be free to be YOU! ...   \n",
       "..                  ...                                                ...   \n",
       "65  1322228267726729217  Let’s have a KIKI !!!! \\nEveryone come out to ...   \n",
       "66  1344072144850972672  @BlackBoxCameraC @sdcinvancouver @bettycjung @...   \n",
       "67  1481318871244193792  Proud of @zzdesign. Love the @jvnhair packagin...   \n",
       "68   857936728165896204  This petition, started by @taylorswift13 has a...   \n",
       "69  1322228267726729217  Let’s have a KIKI !!!! \\nEveryone come out to ...   \n",
       "\n",
       "                                         hashtag_user             tweet_id  \\\n",
       "0   [{\"start\": 31, \"end\": 37, \"tag\": \"cPTSD\"}, {\"s...  1540107749832290304   \n",
       "1   [{\"start\": 87, \"end\": 94, \"tag\": \"MHHSBD\"}, {\"...  1540107744832798721   \n",
       "2   [{\"start\": 146, \"end\": 159, \"tag\": \"TrainTwitt...  1540107437457321984   \n",
       "3   [{\"start\": 18, \"end\": 27, \"tag\": \"Portugal\"}, ...  1540107387763294208   \n",
       "4   [{\"start\": 2, \"end\": 19, \"tag\": \"ActuallyAutis...  1540107378342801409   \n",
       "..                                                ...                  ...   \n",
       "65        [{\"start\": 82, \"end\": 89, \"tag\": \"CMONNI\"}]  1540103292700614658   \n",
       "66  [{\"start\": 78, \"end\": 91, \"tag\": \"transparency...  1540103263319724042   \n",
       "67  [{\"start\": 9, \"end\": 14, \"tag\": \"web3\"}, {\"sta...  1540103230423703553   \n",
       "68   [{\"start\": 49, \"end\": 61, \"tag\": \"PassSafeACT\"}]  1540103223717101570   \n",
       "69        [{\"start\": 82, \"end\": 89, \"tag\": \"CMONNI\"}]  1540103216905326592   \n",
       "\n",
       "                                        hashtag_tweet  \n",
       "0   [{\"start\": 171, \"end\": 182, \"tag\": \"PrideMonth\"}]  \n",
       "1   [{\"start\": 174, \"end\": 183, \"tag\": \"EarlyBiz\"}...  \n",
       "2   [{\"start\": 20, \"end\": 26, \"tag\": \"Pride\"}, {\"s...  \n",
       "3   [{\"start\": 4, \"end\": 15, \"tag\": \"PrideMonth\"},...  \n",
       "4   [{\"start\": 134, \"end\": 145, \"tag\": \"happypride...  \n",
       "..                                                ...  \n",
       "65  [{\"start\": 180, \"end\": 199, \"tag\": \"ballroomth...  \n",
       "66  [{\"start\": 312, \"end\": 323, \"tag\": \"PrideMonth\"}]  \n",
       "67  [{\"start\": 102, \"end\": 113, \"tag\": \"PrideMonth...  \n",
       "68  [{\"start\": 154, \"end\": 166, \"tag\": \"EqualityAc...  \n",
       "69  [{\"start\": 180, \"end\": 199, \"tag\": \"ballroomth...  \n",
       "\n",
       "[70 rows x 5 columns]"
      ]
     },
     "execution_count": 161,
     "metadata": {},
     "output_type": "execute_result"
    }
   ],
   "source": [
    "df_IDK1=df_IDK1.dropna()\n",
    "df_IDK1.reset_index(drop=True, inplace=True)\n",
    "df_IDK1"
   ]
  },
  {
   "cell_type": "markdown",
   "metadata": {},
   "source": [
    "la lista di hahstags usati dall'utente contiene troppi valori nulli (causa=variabile creata da twark)"
   ]
  },
  {
   "cell_type": "code",
   "execution_count": 162,
   "metadata": {},
   "outputs": [
    {
     "data": {
      "text/html": [
       "<div>\n",
       "<style scoped>\n",
       "    .dataframe tbody tr th:only-of-type {\n",
       "        vertical-align: middle;\n",
       "    }\n",
       "\n",
       "    .dataframe tbody tr th {\n",
       "        vertical-align: top;\n",
       "    }\n",
       "\n",
       "    .dataframe thead th {\n",
       "        text-align: right;\n",
       "    }\n",
       "</style>\n",
       "<table border=\"1\" class=\"dataframe\">\n",
       "  <thead>\n",
       "    <tr style=\"text-align: right;\">\n",
       "      <th></th>\n",
       "      <th>id_user</th>\n",
       "      <th>text</th>\n",
       "      <th>hashtag_user</th>\n",
       "      <th>tweet_id</th>\n",
       "      <th>hashtag_tweet</th>\n",
       "    </tr>\n",
       "  </thead>\n",
       "  <tbody>\n",
       "    <tr>\n",
       "      <th>0</th>\n",
       "      <td>1529344300760190976</td>\n",
       "      <td>Real change happens as a result of actions - n...</td>\n",
       "      <td>[{\"start\": 31, \"end\": 37, \"tag\": \"cPTSD\"}, {\"s...</td>\n",
       "      <td>1540107749832290304</td>\n",
       "      <td>[{\"start\": 171, \"end\": 182, \"tag\": \"PrideMonth\"}]</td>\n",
       "    </tr>\n",
       "    <tr>\n",
       "      <th>1</th>\n",
       "      <td>881452504306810880</td>\n",
       "      <td>The last day of our Rainbow Challenge. 🌈  I’ve...</td>\n",
       "      <td>[{\"start\": 87, \"end\": 94, \"tag\": \"MHHSBD\"}, {\"...</td>\n",
       "      <td>1540107744832798721</td>\n",
       "      <td>[{\"start\": 174, \"end\": 183, \"tag\": \"EarlyBiz\"}...</td>\n",
       "    </tr>\n",
       "    <tr>\n",
       "      <th>2</th>\n",
       "      <td>4590435023</td>\n",
       "      <td>Our limited edition #Pride shirts will only be...</td>\n",
       "      <td>[{\"start\": 146, \"end\": 159, \"tag\": \"TrainTwitt...</td>\n",
       "      <td>1540107437457321984</td>\n",
       "      <td>[{\"start\": 20, \"end\": 26, \"tag\": \"Pride\"}, {\"s...</td>\n",
       "    </tr>\n",
       "    <tr>\n",
       "      <th>3</th>\n",
       "      <td>73695550</td>\n",
       "      <td>🌈In #PrideMonth the 🇺🇳 #LGBTICoreGroup welcome...</td>\n",
       "      <td>[{\"start\": 18, \"end\": 27, \"tag\": \"Portugal\"}, ...</td>\n",
       "      <td>1540107387763294208</td>\n",
       "      <td>[{\"start\": 4, \"end\": 15, \"tag\": \"PrideMonth\"},...</td>\n",
       "    </tr>\n",
       "    <tr>\n",
       "      <th>4</th>\n",
       "      <td>1381470808443252736</td>\n",
       "      <td>Bugs has got your back, so be free to be YOU! ...</td>\n",
       "      <td>[{\"start\": 2, \"end\": 19, \"tag\": \"ActuallyAutis...</td>\n",
       "      <td>1540107378342801409</td>\n",
       "      <td>[{\"start\": 134, \"end\": 145, \"tag\": \"happypride...</td>\n",
       "    </tr>\n",
       "    <tr>\n",
       "      <th>...</th>\n",
       "      <td>...</td>\n",
       "      <td>...</td>\n",
       "      <td>...</td>\n",
       "      <td>...</td>\n",
       "      <td>...</td>\n",
       "    </tr>\n",
       "    <tr>\n",
       "      <th>65</th>\n",
       "      <td>1322228267726729217</td>\n",
       "      <td>Let’s have a KIKI !!!! \\nEveryone come out to ...</td>\n",
       "      <td>[{\"start\": 82, \"end\": 89, \"tag\": \"CMONNI\"}]</td>\n",
       "      <td>1540103292700614658</td>\n",
       "      <td>[{\"start\": 180, \"end\": 199, \"tag\": \"ballroomth...</td>\n",
       "    </tr>\n",
       "    <tr>\n",
       "      <th>66</th>\n",
       "      <td>1344072144850972672</td>\n",
       "      <td>@BlackBoxCameraC @sdcinvancouver @bettycjung @...</td>\n",
       "      <td>[{\"start\": 78, \"end\": 91, \"tag\": \"transparency...</td>\n",
       "      <td>1540103263319724042</td>\n",
       "      <td>[{\"start\": 312, \"end\": 323, \"tag\": \"PrideMonth\"}]</td>\n",
       "    </tr>\n",
       "    <tr>\n",
       "      <th>67</th>\n",
       "      <td>1481318871244193792</td>\n",
       "      <td>Proud of @zzdesign. Love the @jvnhair packagin...</td>\n",
       "      <td>[{\"start\": 9, \"end\": 14, \"tag\": \"web3\"}, {\"sta...</td>\n",
       "      <td>1540103230423703553</td>\n",
       "      <td>[{\"start\": 102, \"end\": 113, \"tag\": \"PrideMonth...</td>\n",
       "    </tr>\n",
       "    <tr>\n",
       "      <th>68</th>\n",
       "      <td>857936728165896204</td>\n",
       "      <td>This petition, started by @taylorswift13 has a...</td>\n",
       "      <td>[{\"start\": 49, \"end\": 61, \"tag\": \"PassSafeACT\"}]</td>\n",
       "      <td>1540103223717101570</td>\n",
       "      <td>[{\"start\": 154, \"end\": 166, \"tag\": \"EqualityAc...</td>\n",
       "    </tr>\n",
       "    <tr>\n",
       "      <th>69</th>\n",
       "      <td>1322228267726729217</td>\n",
       "      <td>Let’s have a KIKI !!!! \\nEveryone come out to ...</td>\n",
       "      <td>[{\"start\": 82, \"end\": 89, \"tag\": \"CMONNI\"}]</td>\n",
       "      <td>1540103216905326592</td>\n",
       "      <td>[{\"start\": 180, \"end\": 199, \"tag\": \"ballroomth...</td>\n",
       "    </tr>\n",
       "  </tbody>\n",
       "</table>\n",
       "<p>70 rows × 5 columns</p>\n",
       "</div>"
      ],
      "text/plain": [
       "                id_user                                               text  \\\n",
       "0   1529344300760190976  Real change happens as a result of actions - n...   \n",
       "1    881452504306810880  The last day of our Rainbow Challenge. 🌈  I’ve...   \n",
       "2            4590435023  Our limited edition #Pride shirts will only be...   \n",
       "3              73695550  🌈In #PrideMonth the 🇺🇳 #LGBTICoreGroup welcome...   \n",
       "4   1381470808443252736  Bugs has got your back, so be free to be YOU! ...   \n",
       "..                  ...                                                ...   \n",
       "65  1322228267726729217  Let’s have a KIKI !!!! \\nEveryone come out to ...   \n",
       "66  1344072144850972672  @BlackBoxCameraC @sdcinvancouver @bettycjung @...   \n",
       "67  1481318871244193792  Proud of @zzdesign. Love the @jvnhair packagin...   \n",
       "68   857936728165896204  This petition, started by @taylorswift13 has a...   \n",
       "69  1322228267726729217  Let’s have a KIKI !!!! \\nEveryone come out to ...   \n",
       "\n",
       "                                         hashtag_user             tweet_id  \\\n",
       "0   [{\"start\": 31, \"end\": 37, \"tag\": \"cPTSD\"}, {\"s...  1540107749832290304   \n",
       "1   [{\"start\": 87, \"end\": 94, \"tag\": \"MHHSBD\"}, {\"...  1540107744832798721   \n",
       "2   [{\"start\": 146, \"end\": 159, \"tag\": \"TrainTwitt...  1540107437457321984   \n",
       "3   [{\"start\": 18, \"end\": 27, \"tag\": \"Portugal\"}, ...  1540107387763294208   \n",
       "4   [{\"start\": 2, \"end\": 19, \"tag\": \"ActuallyAutis...  1540107378342801409   \n",
       "..                                                ...                  ...   \n",
       "65        [{\"start\": 82, \"end\": 89, \"tag\": \"CMONNI\"}]  1540103292700614658   \n",
       "66  [{\"start\": 78, \"end\": 91, \"tag\": \"transparency...  1540103263319724042   \n",
       "67  [{\"start\": 9, \"end\": 14, \"tag\": \"web3\"}, {\"sta...  1540103230423703553   \n",
       "68   [{\"start\": 49, \"end\": 61, \"tag\": \"PassSafeACT\"}]  1540103223717101570   \n",
       "69        [{\"start\": 82, \"end\": 89, \"tag\": \"CMONNI\"}]  1540103216905326592   \n",
       "\n",
       "                                        hashtag_tweet  \n",
       "0   [{\"start\": 171, \"end\": 182, \"tag\": \"PrideMonth\"}]  \n",
       "1   [{\"start\": 174, \"end\": 183, \"tag\": \"EarlyBiz\"}...  \n",
       "2   [{\"start\": 20, \"end\": 26, \"tag\": \"Pride\"}, {\"s...  \n",
       "3   [{\"start\": 4, \"end\": 15, \"tag\": \"PrideMonth\"},...  \n",
       "4   [{\"start\": 134, \"end\": 145, \"tag\": \"happypride...  \n",
       "..                                                ...  \n",
       "65  [{\"start\": 180, \"end\": 199, \"tag\": \"ballroomth...  \n",
       "66  [{\"start\": 312, \"end\": 323, \"tag\": \"PrideMonth\"}]  \n",
       "67  [{\"start\": 102, \"end\": 113, \"tag\": \"PrideMonth...  \n",
       "68  [{\"start\": 154, \"end\": 166, \"tag\": \"EqualityAc...  \n",
       "69  [{\"start\": 180, \"end\": 199, \"tag\": \"ballroomth...  \n",
       "\n",
       "[70 rows x 5 columns]"
      ]
     },
     "execution_count": 162,
     "metadata": {},
     "output_type": "execute_result"
    }
   ],
   "source": [
    "df_IDK1"
   ]
  },
  {
   "cell_type": "code",
   "execution_count": 163,
   "metadata": {},
   "outputs": [],
   "source": [
    "df_IDK1.groupby(by=\"id_user\").sum().reset_index(inplace=True)"
   ]
  },
  {
   "cell_type": "code",
   "execution_count": 164,
   "metadata": {},
   "outputs": [
    {
     "data": {
      "text/html": [
       "<div>\n",
       "<style scoped>\n",
       "    .dataframe tbody tr th:only-of-type {\n",
       "        vertical-align: middle;\n",
       "    }\n",
       "\n",
       "    .dataframe tbody tr th {\n",
       "        vertical-align: top;\n",
       "    }\n",
       "\n",
       "    .dataframe thead th {\n",
       "        text-align: right;\n",
       "    }\n",
       "</style>\n",
       "<table border=\"1\" class=\"dataframe\">\n",
       "  <thead>\n",
       "    <tr style=\"text-align: right;\">\n",
       "      <th></th>\n",
       "      <th>id_user</th>\n",
       "      <th>text</th>\n",
       "      <th>hashtag_user</th>\n",
       "      <th>tweet_id</th>\n",
       "      <th>hashtag_tweet</th>\n",
       "    </tr>\n",
       "  </thead>\n",
       "  <tbody>\n",
       "    <tr>\n",
       "      <th>0</th>\n",
       "      <td>1529344300760190976</td>\n",
       "      <td>Real change happens as a result of actions - n...</td>\n",
       "      <td>[{\"start\": 31, \"end\": 37, \"tag\": \"cPTSD\"}, {\"s...</td>\n",
       "      <td>1540107749832290304</td>\n",
       "      <td>[{\"start\": 171, \"end\": 182, \"tag\": \"PrideMonth\"}]</td>\n",
       "    </tr>\n",
       "    <tr>\n",
       "      <th>1</th>\n",
       "      <td>881452504306810880</td>\n",
       "      <td>The last day of our Rainbow Challenge. 🌈  I’ve...</td>\n",
       "      <td>[{\"start\": 87, \"end\": 94, \"tag\": \"MHHSBD\"}, {\"...</td>\n",
       "      <td>1540107744832798721</td>\n",
       "      <td>[{\"start\": 174, \"end\": 183, \"tag\": \"EarlyBiz\"}...</td>\n",
       "    </tr>\n",
       "    <tr>\n",
       "      <th>2</th>\n",
       "      <td>4590435023</td>\n",
       "      <td>Our limited edition #Pride shirts will only be...</td>\n",
       "      <td>[{\"start\": 146, \"end\": 159, \"tag\": \"TrainTwitt...</td>\n",
       "      <td>1540107437457321984</td>\n",
       "      <td>[{\"start\": 20, \"end\": 26, \"tag\": \"Pride\"}, {\"s...</td>\n",
       "    </tr>\n",
       "    <tr>\n",
       "      <th>3</th>\n",
       "      <td>73695550</td>\n",
       "      <td>🌈In #PrideMonth the 🇺🇳 #LGBTICoreGroup welcome...</td>\n",
       "      <td>[{\"start\": 18, \"end\": 27, \"tag\": \"Portugal\"}, ...</td>\n",
       "      <td>1540107387763294208</td>\n",
       "      <td>[{\"start\": 4, \"end\": 15, \"tag\": \"PrideMonth\"},...</td>\n",
       "    </tr>\n",
       "    <tr>\n",
       "      <th>4</th>\n",
       "      <td>1381470808443252736</td>\n",
       "      <td>Bugs has got your back, so be free to be YOU! ...</td>\n",
       "      <td>[{\"start\": 2, \"end\": 19, \"tag\": \"ActuallyAutis...</td>\n",
       "      <td>1540107378342801409</td>\n",
       "      <td>[{\"start\": 134, \"end\": 145, \"tag\": \"happypride...</td>\n",
       "    </tr>\n",
       "    <tr>\n",
       "      <th>...</th>\n",
       "      <td>...</td>\n",
       "      <td>...</td>\n",
       "      <td>...</td>\n",
       "      <td>...</td>\n",
       "      <td>...</td>\n",
       "    </tr>\n",
       "    <tr>\n",
       "      <th>65</th>\n",
       "      <td>1322228267726729217</td>\n",
       "      <td>Let’s have a KIKI !!!! \\nEveryone come out to ...</td>\n",
       "      <td>[{\"start\": 82, \"end\": 89, \"tag\": \"CMONNI\"}]</td>\n",
       "      <td>1540103292700614658</td>\n",
       "      <td>[{\"start\": 180, \"end\": 199, \"tag\": \"ballroomth...</td>\n",
       "    </tr>\n",
       "    <tr>\n",
       "      <th>66</th>\n",
       "      <td>1344072144850972672</td>\n",
       "      <td>@BlackBoxCameraC @sdcinvancouver @bettycjung @...</td>\n",
       "      <td>[{\"start\": 78, \"end\": 91, \"tag\": \"transparency...</td>\n",
       "      <td>1540103263319724042</td>\n",
       "      <td>[{\"start\": 312, \"end\": 323, \"tag\": \"PrideMonth\"}]</td>\n",
       "    </tr>\n",
       "    <tr>\n",
       "      <th>67</th>\n",
       "      <td>1481318871244193792</td>\n",
       "      <td>Proud of @zzdesign. Love the @jvnhair packagin...</td>\n",
       "      <td>[{\"start\": 9, \"end\": 14, \"tag\": \"web3\"}, {\"sta...</td>\n",
       "      <td>1540103230423703553</td>\n",
       "      <td>[{\"start\": 102, \"end\": 113, \"tag\": \"PrideMonth...</td>\n",
       "    </tr>\n",
       "    <tr>\n",
       "      <th>68</th>\n",
       "      <td>857936728165896204</td>\n",
       "      <td>This petition, started by @taylorswift13 has a...</td>\n",
       "      <td>[{\"start\": 49, \"end\": 61, \"tag\": \"PassSafeACT\"}]</td>\n",
       "      <td>1540103223717101570</td>\n",
       "      <td>[{\"start\": 154, \"end\": 166, \"tag\": \"EqualityAc...</td>\n",
       "    </tr>\n",
       "    <tr>\n",
       "      <th>69</th>\n",
       "      <td>1322228267726729217</td>\n",
       "      <td>Let’s have a KIKI !!!! \\nEveryone come out to ...</td>\n",
       "      <td>[{\"start\": 82, \"end\": 89, \"tag\": \"CMONNI\"}]</td>\n",
       "      <td>1540103216905326592</td>\n",
       "      <td>[{\"start\": 180, \"end\": 199, \"tag\": \"ballroomth...</td>\n",
       "    </tr>\n",
       "  </tbody>\n",
       "</table>\n",
       "<p>70 rows × 5 columns</p>\n",
       "</div>"
      ],
      "text/plain": [
       "                id_user                                               text  \\\n",
       "0   1529344300760190976  Real change happens as a result of actions - n...   \n",
       "1    881452504306810880  The last day of our Rainbow Challenge. 🌈  I’ve...   \n",
       "2            4590435023  Our limited edition #Pride shirts will only be...   \n",
       "3              73695550  🌈In #PrideMonth the 🇺🇳 #LGBTICoreGroup welcome...   \n",
       "4   1381470808443252736  Bugs has got your back, so be free to be YOU! ...   \n",
       "..                  ...                                                ...   \n",
       "65  1322228267726729217  Let’s have a KIKI !!!! \\nEveryone come out to ...   \n",
       "66  1344072144850972672  @BlackBoxCameraC @sdcinvancouver @bettycjung @...   \n",
       "67  1481318871244193792  Proud of @zzdesign. Love the @jvnhair packagin...   \n",
       "68   857936728165896204  This petition, started by @taylorswift13 has a...   \n",
       "69  1322228267726729217  Let’s have a KIKI !!!! \\nEveryone come out to ...   \n",
       "\n",
       "                                         hashtag_user             tweet_id  \\\n",
       "0   [{\"start\": 31, \"end\": 37, \"tag\": \"cPTSD\"}, {\"s...  1540107749832290304   \n",
       "1   [{\"start\": 87, \"end\": 94, \"tag\": \"MHHSBD\"}, {\"...  1540107744832798721   \n",
       "2   [{\"start\": 146, \"end\": 159, \"tag\": \"TrainTwitt...  1540107437457321984   \n",
       "3   [{\"start\": 18, \"end\": 27, \"tag\": \"Portugal\"}, ...  1540107387763294208   \n",
       "4   [{\"start\": 2, \"end\": 19, \"tag\": \"ActuallyAutis...  1540107378342801409   \n",
       "..                                                ...                  ...   \n",
       "65        [{\"start\": 82, \"end\": 89, \"tag\": \"CMONNI\"}]  1540103292700614658   \n",
       "66  [{\"start\": 78, \"end\": 91, \"tag\": \"transparency...  1540103263319724042   \n",
       "67  [{\"start\": 9, \"end\": 14, \"tag\": \"web3\"}, {\"sta...  1540103230423703553   \n",
       "68   [{\"start\": 49, \"end\": 61, \"tag\": \"PassSafeACT\"}]  1540103223717101570   \n",
       "69        [{\"start\": 82, \"end\": 89, \"tag\": \"CMONNI\"}]  1540103216905326592   \n",
       "\n",
       "                                        hashtag_tweet  \n",
       "0   [{\"start\": 171, \"end\": 182, \"tag\": \"PrideMonth\"}]  \n",
       "1   [{\"start\": 174, \"end\": 183, \"tag\": \"EarlyBiz\"}...  \n",
       "2   [{\"start\": 20, \"end\": 26, \"tag\": \"Pride\"}, {\"s...  \n",
       "3   [{\"start\": 4, \"end\": 15, \"tag\": \"PrideMonth\"},...  \n",
       "4   [{\"start\": 134, \"end\": 145, \"tag\": \"happypride...  \n",
       "..                                                ...  \n",
       "65  [{\"start\": 180, \"end\": 199, \"tag\": \"ballroomth...  \n",
       "66  [{\"start\": 312, \"end\": 323, \"tag\": \"PrideMonth\"}]  \n",
       "67  [{\"start\": 102, \"end\": 113, \"tag\": \"PrideMonth...  \n",
       "68  [{\"start\": 154, \"end\": 166, \"tag\": \"EqualityAc...  \n",
       "69  [{\"start\": 180, \"end\": 199, \"tag\": \"ballroomth...  \n",
       "\n",
       "[70 rows x 5 columns]"
      ]
     },
     "execution_count": 164,
     "metadata": {},
     "output_type": "execute_result"
    }
   ],
   "source": [
    "df_IDK1"
   ]
  },
  {
   "cell_type": "raw",
   "metadata": {},
   "source": [
    "1)mettere un utente con tutti i suoi tweet in una riga: FATTO\n",
    "2)filtro: #eurovision>=threshold\n",
    "3)diz: k=id, v=tweet"
   ]
  },
  {
   "cell_type": "code",
   "execution_count": 165,
   "metadata": {},
   "outputs": [],
   "source": [
    "repl=[\"1\",\"2\",\"3\",\"4\",\"5\",\"6\",\"7\",\"8\",\"9\",\"0\",\"start\",\"end\", \"tag\",\"[\",\"{\",\"}\",\"]\", \":\",\",\",\"\\\"\"]\n",
    "for e in repl :\n",
    "    df_IDK1['hashtag_user']=df_IDK1['hashtag_user'].str.replace(e,\"\",regex=True)\n",
    "#df_IDK1['hashtag_user']=df_IDK1['hashtag_user'].str.replace(\"    \",\",\",regex=True)"
   ]
  },
  {
   "cell_type": "code",
   "execution_count": 166,
   "metadata": {},
   "outputs": [
    {
     "data": {
      "text/html": [
       "<div>\n",
       "<style scoped>\n",
       "    .dataframe tbody tr th:only-of-type {\n",
       "        vertical-align: middle;\n",
       "    }\n",
       "\n",
       "    .dataframe tbody tr th {\n",
       "        vertical-align: top;\n",
       "    }\n",
       "\n",
       "    .dataframe thead th {\n",
       "        text-align: right;\n",
       "    }\n",
       "</style>\n",
       "<table border=\"1\" class=\"dataframe\">\n",
       "  <thead>\n",
       "    <tr style=\"text-align: right;\">\n",
       "      <th></th>\n",
       "      <th>id_user</th>\n",
       "      <th>text</th>\n",
       "      <th>hashtag_user</th>\n",
       "      <th>tweet_id</th>\n",
       "      <th>hashtag_tweet</th>\n",
       "    </tr>\n",
       "  </thead>\n",
       "  <tbody>\n",
       "    <tr>\n",
       "      <th>0</th>\n",
       "      <td>1529344300760190976</td>\n",
       "      <td>Real change happens as a result of actions - n...</td>\n",
       "      <td>cPTSD      pluralgang      NEISvoid      ...</td>\n",
       "      <td>1540107749832290304</td>\n",
       "      <td>[{\"start\": 171, \"end\": 182, \"tag\": \"PrideMonth\"}]</td>\n",
       "    </tr>\n",
       "    <tr>\n",
       "      <th>1</th>\n",
       "      <td>881452504306810880</td>\n",
       "      <td>The last day of our Rainbow Challenge. 🌈  I’ve...</td>\n",
       "      <td>MHHSBD      SmartSocial</td>\n",
       "      <td>1540107744832798721</td>\n",
       "      <td>[{\"start\": 174, \"end\": 183, \"tag\": \"EarlyBiz\"}...</td>\n",
       "    </tr>\n",
       "    <tr>\n",
       "      <th>2</th>\n",
       "      <td>4590435023</td>\n",
       "      <td>Our limited edition #Pride shirts will only be...</td>\n",
       "      <td>TrainTwitter</td>\n",
       "      <td>1540107437457321984</td>\n",
       "      <td>[{\"start\": 20, \"end\": 26, \"tag\": \"Pride\"}, {\"s...</td>\n",
       "    </tr>\n",
       "    <tr>\n",
       "      <th>3</th>\n",
       "      <td>73695550</td>\n",
       "      <td>🌈In #PrideMonth the 🇺🇳 #LGBTICoreGroup welcome...</td>\n",
       "      <td>Portugal      Manchester</td>\n",
       "      <td>1540107387763294208</td>\n",
       "      <td>[{\"start\": 4, \"end\": 15, \"tag\": \"PrideMonth\"},...</td>\n",
       "    </tr>\n",
       "    <tr>\n",
       "      <th>4</th>\n",
       "      <td>1381470808443252736</td>\n",
       "      <td>Bugs has got your back, so be free to be YOU! ...</td>\n",
       "      <td>ActuallyAutistic</td>\n",
       "      <td>1540107378342801409</td>\n",
       "      <td>[{\"start\": 134, \"end\": 145, \"tag\": \"happypride...</td>\n",
       "    </tr>\n",
       "  </tbody>\n",
       "</table>\n",
       "</div>"
      ],
      "text/plain": [
       "               id_user                                               text  \\\n",
       "0  1529344300760190976  Real change happens as a result of actions - n...   \n",
       "1   881452504306810880  The last day of our Rainbow Challenge. 🌈  I’ve...   \n",
       "2           4590435023  Our limited edition #Pride shirts will only be...   \n",
       "3             73695550  🌈In #PrideMonth the 🇺🇳 #LGBTICoreGroup welcome...   \n",
       "4  1381470808443252736  Bugs has got your back, so be free to be YOU! ...   \n",
       "\n",
       "                                        hashtag_user             tweet_id  \\\n",
       "0       cPTSD      pluralgang      NEISvoid      ...  1540107749832290304   \n",
       "1                            MHHSBD      SmartSocial  1540107744832798721   \n",
       "2                                       TrainTwitter  1540107437457321984   \n",
       "3                           Portugal      Manchester  1540107387763294208   \n",
       "4                                   ActuallyAutistic  1540107378342801409   \n",
       "\n",
       "                                       hashtag_tweet  \n",
       "0  [{\"start\": 171, \"end\": 182, \"tag\": \"PrideMonth\"}]  \n",
       "1  [{\"start\": 174, \"end\": 183, \"tag\": \"EarlyBiz\"}...  \n",
       "2  [{\"start\": 20, \"end\": 26, \"tag\": \"Pride\"}, {\"s...  \n",
       "3  [{\"start\": 4, \"end\": 15, \"tag\": \"PrideMonth\"},...  \n",
       "4  [{\"start\": 134, \"end\": 145, \"tag\": \"happypride...  "
      ]
     },
     "execution_count": 166,
     "metadata": {},
     "output_type": "execute_result"
    }
   ],
   "source": [
    "df_IDK1.head()"
   ]
  },
  {
   "cell_type": "code",
   "execution_count": 167,
   "metadata": {},
   "outputs": [],
   "source": [
    "df_IDK1['hashtag_user']=df_IDK1['hashtag_user'].apply(str).map(str.lower)\n",
    "df_IDK1['hashtag_user']=df_IDK1['hashtag_user'].apply(str).map(str.strip)\n",
    "df_IDK1['hashtag_user']=df_IDK1['hashtag_user'].apply(str).map(str.split)"
   ]
  },
  {
   "cell_type": "code",
   "execution_count": 168,
   "metadata": {},
   "outputs": [
    {
     "data": {
      "text/html": [
       "<div>\n",
       "<style scoped>\n",
       "    .dataframe tbody tr th:only-of-type {\n",
       "        vertical-align: middle;\n",
       "    }\n",
       "\n",
       "    .dataframe tbody tr th {\n",
       "        vertical-align: top;\n",
       "    }\n",
       "\n",
       "    .dataframe thead th {\n",
       "        text-align: right;\n",
       "    }\n",
       "</style>\n",
       "<table border=\"1\" class=\"dataframe\">\n",
       "  <thead>\n",
       "    <tr style=\"text-align: right;\">\n",
       "      <th></th>\n",
       "      <th>id_user</th>\n",
       "      <th>text</th>\n",
       "      <th>hashtag_user</th>\n",
       "      <th>tweet_id</th>\n",
       "      <th>hashtag_tweet</th>\n",
       "    </tr>\n",
       "  </thead>\n",
       "  <tbody>\n",
       "    <tr>\n",
       "      <th>0</th>\n",
       "      <td>1529344300760190976</td>\n",
       "      <td>Real change happens as a result of actions - n...</td>\n",
       "      <td>[cptsd, pluralgang, neisvoid, furry]</td>\n",
       "      <td>1540107749832290304</td>\n",
       "      <td>[{\"start\": 171, \"end\": 182, \"tag\": \"PrideMonth\"}]</td>\n",
       "    </tr>\n",
       "    <tr>\n",
       "      <th>1</th>\n",
       "      <td>881452504306810880</td>\n",
       "      <td>The last day of our Rainbow Challenge. 🌈  I’ve...</td>\n",
       "      <td>[mhhsbd, smartsocial]</td>\n",
       "      <td>1540107744832798721</td>\n",
       "      <td>[{\"start\": 174, \"end\": 183, \"tag\": \"EarlyBiz\"}...</td>\n",
       "    </tr>\n",
       "    <tr>\n",
       "      <th>2</th>\n",
       "      <td>4590435023</td>\n",
       "      <td>Our limited edition #Pride shirts will only be...</td>\n",
       "      <td>[traintwitter]</td>\n",
       "      <td>1540107437457321984</td>\n",
       "      <td>[{\"start\": 20, \"end\": 26, \"tag\": \"Pride\"}, {\"s...</td>\n",
       "    </tr>\n",
       "    <tr>\n",
       "      <th>3</th>\n",
       "      <td>73695550</td>\n",
       "      <td>🌈In #PrideMonth the 🇺🇳 #LGBTICoreGroup welcome...</td>\n",
       "      <td>[portugal, manchester]</td>\n",
       "      <td>1540107387763294208</td>\n",
       "      <td>[{\"start\": 4, \"end\": 15, \"tag\": \"PrideMonth\"},...</td>\n",
       "    </tr>\n",
       "    <tr>\n",
       "      <th>4</th>\n",
       "      <td>1381470808443252736</td>\n",
       "      <td>Bugs has got your back, so be free to be YOU! ...</td>\n",
       "      <td>[actuallyautistic]</td>\n",
       "      <td>1540107378342801409</td>\n",
       "      <td>[{\"start\": 134, \"end\": 145, \"tag\": \"happypride...</td>\n",
       "    </tr>\n",
       "    <tr>\n",
       "      <th>...</th>\n",
       "      <td>...</td>\n",
       "      <td>...</td>\n",
       "      <td>...</td>\n",
       "      <td>...</td>\n",
       "      <td>...</td>\n",
       "    </tr>\n",
       "    <tr>\n",
       "      <th>65</th>\n",
       "      <td>1322228267726729217</td>\n",
       "      <td>Let’s have a KIKI !!!! \\nEveryone come out to ...</td>\n",
       "      <td>[cmonni]</td>\n",
       "      <td>1540103292700614658</td>\n",
       "      <td>[{\"start\": 180, \"end\": 199, \"tag\": \"ballroomth...</td>\n",
       "    </tr>\n",
       "    <tr>\n",
       "      <th>66</th>\n",
       "      <td>1344072144850972672</td>\n",
       "      <td>@BlackBoxCameraC @sdcinvancouver @bettycjung @...</td>\n",
       "      <td>[transparency, accountability, prevention, ski...</td>\n",
       "      <td>1540103263319724042</td>\n",
       "      <td>[{\"start\": 312, \"end\": 323, \"tag\": \"PrideMonth\"}]</td>\n",
       "    </tr>\n",
       "    <tr>\n",
       "      <th>67</th>\n",
       "      <td>1481318871244193792</td>\n",
       "      <td>Proud of @zzdesign. Love the @jvnhair packagin...</td>\n",
       "      <td>[web, nfts]</td>\n",
       "      <td>1540103230423703553</td>\n",
       "      <td>[{\"start\": 102, \"end\": 113, \"tag\": \"PrideMonth...</td>\n",
       "    </tr>\n",
       "    <tr>\n",
       "      <th>68</th>\n",
       "      <td>857936728165896204</td>\n",
       "      <td>This petition, started by @taylorswift13 has a...</td>\n",
       "      <td>[passsafeact]</td>\n",
       "      <td>1540103223717101570</td>\n",
       "      <td>[{\"start\": 154, \"end\": 166, \"tag\": \"EqualityAc...</td>\n",
       "    </tr>\n",
       "    <tr>\n",
       "      <th>69</th>\n",
       "      <td>1322228267726729217</td>\n",
       "      <td>Let’s have a KIKI !!!! \\nEveryone come out to ...</td>\n",
       "      <td>[cmonni]</td>\n",
       "      <td>1540103216905326592</td>\n",
       "      <td>[{\"start\": 180, \"end\": 199, \"tag\": \"ballroomth...</td>\n",
       "    </tr>\n",
       "  </tbody>\n",
       "</table>\n",
       "<p>70 rows × 5 columns</p>\n",
       "</div>"
      ],
      "text/plain": [
       "                id_user                                               text  \\\n",
       "0   1529344300760190976  Real change happens as a result of actions - n...   \n",
       "1    881452504306810880  The last day of our Rainbow Challenge. 🌈  I’ve...   \n",
       "2            4590435023  Our limited edition #Pride shirts will only be...   \n",
       "3              73695550  🌈In #PrideMonth the 🇺🇳 #LGBTICoreGroup welcome...   \n",
       "4   1381470808443252736  Bugs has got your back, so be free to be YOU! ...   \n",
       "..                  ...                                                ...   \n",
       "65  1322228267726729217  Let’s have a KIKI !!!! \\nEveryone come out to ...   \n",
       "66  1344072144850972672  @BlackBoxCameraC @sdcinvancouver @bettycjung @...   \n",
       "67  1481318871244193792  Proud of @zzdesign. Love the @jvnhair packagin...   \n",
       "68   857936728165896204  This petition, started by @taylorswift13 has a...   \n",
       "69  1322228267726729217  Let’s have a KIKI !!!! \\nEveryone come out to ...   \n",
       "\n",
       "                                         hashtag_user             tweet_id  \\\n",
       "0                [cptsd, pluralgang, neisvoid, furry]  1540107749832290304   \n",
       "1                               [mhhsbd, smartsocial]  1540107744832798721   \n",
       "2                                      [traintwitter]  1540107437457321984   \n",
       "3                              [portugal, manchester]  1540107387763294208   \n",
       "4                                  [actuallyautistic]  1540107378342801409   \n",
       "..                                                ...                  ...   \n",
       "65                                           [cmonni]  1540103292700614658   \n",
       "66  [transparency, accountability, prevention, ski...  1540103263319724042   \n",
       "67                                        [web, nfts]  1540103230423703553   \n",
       "68                                      [passsafeact]  1540103223717101570   \n",
       "69                                           [cmonni]  1540103216905326592   \n",
       "\n",
       "                                        hashtag_tweet  \n",
       "0   [{\"start\": 171, \"end\": 182, \"tag\": \"PrideMonth\"}]  \n",
       "1   [{\"start\": 174, \"end\": 183, \"tag\": \"EarlyBiz\"}...  \n",
       "2   [{\"start\": 20, \"end\": 26, \"tag\": \"Pride\"}, {\"s...  \n",
       "3   [{\"start\": 4, \"end\": 15, \"tag\": \"PrideMonth\"},...  \n",
       "4   [{\"start\": 134, \"end\": 145, \"tag\": \"happypride...  \n",
       "..                                                ...  \n",
       "65  [{\"start\": 180, \"end\": 199, \"tag\": \"ballroomth...  \n",
       "66  [{\"start\": 312, \"end\": 323, \"tag\": \"PrideMonth\"}]  \n",
       "67  [{\"start\": 102, \"end\": 113, \"tag\": \"PrideMonth...  \n",
       "68  [{\"start\": 154, \"end\": 166, \"tag\": \"EqualityAc...  \n",
       "69  [{\"start\": 180, \"end\": 199, \"tag\": \"ballroomth...  \n",
       "\n",
       "[70 rows x 5 columns]"
      ]
     },
     "execution_count": 168,
     "metadata": {},
     "output_type": "execute_result"
    }
   ],
   "source": [
    "df_IDK1"
   ]
  },
  {
   "cell_type": "code",
   "execution_count": 169,
   "metadata": {},
   "outputs": [
    {
     "name": "stdout",
     "output_type": "stream",
     "text": [
      "<class 'list'>\n"
     ]
    }
   ],
   "source": [
    "print(type(df_IDK1['hashtag_user'][16]))"
   ]
  },
  {
   "cell_type": "code",
   "execution_count": 170,
   "metadata": {},
   "outputs": [
    {
     "name": "stdout",
     "output_type": "stream",
     "text": [
      "<class 'set'>\n"
     ]
    }
   ],
   "source": [
    "df_IDK1['hashtag_user']=df_IDK1['hashtag_user'].apply(set)\n",
    "print(type(df_IDK1['hashtag_user'][16]))"
   ]
  },
  {
   "cell_type": "code",
   "execution_count": 171,
   "metadata": {},
   "outputs": [
    {
     "data": {
      "text/plain": [
       "(70, 5)"
      ]
     },
     "execution_count": 171,
     "metadata": {},
     "output_type": "execute_result"
    }
   ],
   "source": [
    "df_IDK1.shape"
   ]
  },
  {
   "cell_type": "code",
   "execution_count": 172,
   "metadata": {},
   "outputs": [
    {
     "name": "stdout",
     "output_type": "stream",
     "text": [
      "4 categoria {'neisvoid', 'furry', 'cptsd', 'pluralgang'}\n",
      "4 categoria {'smartsocial', 'mhhsbd'}\n",
      "4 categoria {'traintwitter'}\n",
      "4 categoria {'manchester', 'portugal'}\n",
      "4 categoria {'actuallyautistic'}\n",
      "4 categoria {'gohabsgo'}\n",
      "4 categoria {'lgbdropt'}\n",
      "4 categoria {'womenofcountry', 'military', 'countryartist', 'cmaawards', 'nashville', 'singersongwriter', 'countrybellesuk', 'country', 'countrymusic'}\n",
      "4 categoria {'cowboys'}\n",
      "4 categoria {'oneyouth', 'sexnotger', 'sexisreal', 'oneactivist'}\n",
      "4 categoria {'vtuber'}\n",
      "4 categoria {'protectroe', 'stopasianhate', 'neveragainisnow', 'blm', 'teampelosi', 'lgbtqmom', 'eranow'}\n",
      "4 categoria {'werewolf'}\n",
      "4 categoria {'madelocal'}\n",
      "4 categoria {'hbomaxsavebatwoman', 'savebatwoman', 'blackandautistic'}\n",
      "4 categoria {'passsafeact'}\n",
      "4 categoria {'eurovision'}\n",
      "4 categoria {'viclibraries', 'librarieschangelives'}\n",
      "4 categoria {'problack'}\n",
      "4 categoria {'pr', 'creditunions', 'communications', 'bizdev'}\n",
      "4 categoria {'carolina'}\n",
      "4 categoria {'ktbspa'}\n",
      "4 categoria {'womenofcountry', 'equalplay'}\n",
      "4 categoria {'blacklivesmatter'}\n",
      "4 categoria {'restorethesnyderverse', 'makethebatfleckmovie'}\n",
      "4 categoria {'guncontrol', 'resistanceunited', 'lgbtq', 'blm', 'voteblue', 'womensrights'}\n",
      "4 categoria {'womensvoices', 'blm', 'standwithukrain'}\n",
      "4 categoria {'homecoming'}\n",
      "4 categoria {'istandwithsashaandnaomi'}\n",
      "4 categoria {'younga', 'skills', 'innovation'}\n",
      "4 categoria {'bokuto'}\n",
      "4 categoria {'kidlit', 'poet', 'writingcommunity', 'horror', 'shortstory', 'farmer'}\n",
      "4 categoria {'johnnygotjustice', 'justiceforkaithehitchhiker', 'justiceformarilynmanson'}\n",
      "4 categoria {'blacklivesmatter'}\n",
      "4 categoria {'payitforward'}\n",
      "4 categoria {'nft', 'sacredgeometry', 'nftart', 'nftartist'}\n",
      "4 categoria {'baddiesection'}\n",
      "4 categoria {'blacklivesmatter'}\n",
      "4 categoria {'denimandrhinestones'}\n",
      "4 categoria {'proveemwrong'}\n",
      "4 categoria {'futurespeechlanguagepathologist', 'teamjesus', 'biblestudyteacher', 'carrieunderwood'}\n",
      "4 categoria {'ladypops', 'redbetty', 'lovecaroline'}\n",
      "4 categoria {'antifa', 'aphasia', 'writing', 'film', 'pwme', 'longcovid', 'videojourno'}\n",
      "4 categoria {'johnnygotjustice', 'justiceforkaithehitchhiker', 'justiceformarilynmanson'}\n",
      "4 categoria {'taxtherich', 'astoria'}\n",
      "4 categoria {'simpforshance'}\n",
      "4 categoria {'prowrestling', 'womenswrestling', 'thehex'}\n",
      "4 categoria {'wonderwoman', 'gay', 'gaybear', 'goldengirls'}\n",
      "4 categoria {'noombas', 'noombart'}\n",
      "4 categoria {'ut', 'txlege'}\n",
      "4 categoria {'blacktranslivesmatter'}\n",
      "4 categoria {'cmonni'}\n",
      "non è la 4 categoria {'istandwithukraine', 'borisismypm', 'womenwontwheesht', 'justiceforjohnnydepp'} {'istandwithukraine'}\n",
      "4 categoria {'ronweasley'}\n",
      "4 categoria {'jft', '\\\\ud\\\\u\\\\ud\\\\udc\\\\u\\\\ud\\\\ud\\\\u\\\\ud\\\\ua\\\\udc\\\\u\\\\ud\\\\ua\\\\ud\\\\ud', 'statueforeppy'}\n",
      "4 categoria {'cmonni'}\n",
      "4 categoria {'danayaazureradio', 'nexxlegacy', 'chicago', 'hflmag', 'csoo'}\n",
      "4 categoria {'followmego', '\\\\u\\\\u\\\\u\\\\u\\\\u\\\\uc\\\\u\\\\ud\\\\uf\\\\u\\\\uf\\\\u\\\\u\\\\u\\\\uf'}\n",
      "non è la 4 categoria {'istandwithukraine', 'borisismypm', 'womenwontwheesht', 'justiceforjohnnydepp'} {'istandwithukraine'}\n",
      "4 categoria {'cmonni'}\n",
      "4 categoria {'vegasborn'}\n",
      "4 categoria {'cmonni'}\n",
      "4 categoria {'cmonni'}\n",
      "4 categoria {'unionstrong'}\n",
      "4 categoria {'xrpl'}\n",
      "4 categoria {'cmonni'}\n",
      "4 categoria {'transparency', 'prevention', 'skininthegame', 'accountability'}\n",
      "4 categoria {'web', 'nfts'}\n",
      "4 categoria {'passsafeact'}\n",
      "4 categoria {'cmonni'}\n",
      "user 4 categoria 68/70\n"
     ]
    }
   ],
   "source": [
    "cat=[\"slavaukraini\",\"istandwithputin\",\"stopwarinukraine\",\"ukraine\",\"istandwithrussia\",\"istandwithukraine\",\"putin\"]\n",
    "cat=set(cat)\n",
    "count4=0\n",
    "count=0\n",
    "index=[]\n",
    "\n",
    "for i, row in enumerate(df_IDK1['hashtag_user']): \n",
    "    if row.intersection(cat)==set():#no intersezione   \n",
    "        # print(\"l'utente {}  appartiene alla 4 categoria\".format(col[1]), row.intersection(cat))\n",
    "        print(\"4 categoria\", row)\n",
    "        count4 += 1\n",
    "        \n",
    "    else: #c'è intersezione\n",
    "        print(\"non è la 4 categoria\",row,row.intersection(cat))\n",
    "        count += 1\n",
    "        index.append(i) #aggiungo alle rige da tgliere\n",
    "        #print(\"l'utente {} non  appartiene alla 4 categoria\".format(col[1]), row.intersection(cat))\n",
    "print(\"user 4 categoria {}/{}\".format(count4,count4+count))"
   ]
  },
  {
   "cell_type": "code",
   "execution_count": 173,
   "metadata": {},
   "outputs": [
    {
     "data": {
      "text/plain": [
       "{'cptsd', 'furry', 'neisvoid', 'pluralgang'}"
      ]
     },
     "execution_count": 173,
     "metadata": {},
     "output_type": "execute_result"
    }
   ],
   "source": [
    "df_IDK1['hashtag_user'][0]"
   ]
  },
  {
   "cell_type": "code",
   "execution_count": 174,
   "metadata": {},
   "outputs": [
    {
     "name": "stdout",
     "output_type": "stream",
     "text": [
      "The number of user to remove are: 2\n"
     ]
    }
   ],
   "source": [
    "print(\"The number of user to remove are:\", len(index))"
   ]
  },
  {
   "cell_type": "code",
   "execution_count": 175,
   "metadata": {},
   "outputs": [
    {
     "data": {
      "text/html": [
       "<div>\n",
       "<style scoped>\n",
       "    .dataframe tbody tr th:only-of-type {\n",
       "        vertical-align: middle;\n",
       "    }\n",
       "\n",
       "    .dataframe tbody tr th {\n",
       "        vertical-align: top;\n",
       "    }\n",
       "\n",
       "    .dataframe thead th {\n",
       "        text-align: right;\n",
       "    }\n",
       "</style>\n",
       "<table border=\"1\" class=\"dataframe\">\n",
       "  <thead>\n",
       "    <tr style=\"text-align: right;\">\n",
       "      <th></th>\n",
       "      <th>id_user</th>\n",
       "      <th>text</th>\n",
       "      <th>hashtag_user</th>\n",
       "      <th>tweet_id</th>\n",
       "      <th>hashtag_tweet</th>\n",
       "    </tr>\n",
       "  </thead>\n",
       "  <tbody>\n",
       "    <tr>\n",
       "      <th>0</th>\n",
       "      <td>1529344300760190976</td>\n",
       "      <td>Real change happens as a result of actions - n...</td>\n",
       "      <td>{neisvoid, furry, cptsd, pluralgang}</td>\n",
       "      <td>1540107749832290304</td>\n",
       "      <td>[{\"start\": 171, \"end\": 182, \"tag\": \"PrideMonth\"}]</td>\n",
       "    </tr>\n",
       "    <tr>\n",
       "      <th>1</th>\n",
       "      <td>881452504306810880</td>\n",
       "      <td>The last day of our Rainbow Challenge. 🌈  I’ve...</td>\n",
       "      <td>{smartsocial, mhhsbd}</td>\n",
       "      <td>1540107744832798721</td>\n",
       "      <td>[{\"start\": 174, \"end\": 183, \"tag\": \"EarlyBiz\"}...</td>\n",
       "    </tr>\n",
       "    <tr>\n",
       "      <th>2</th>\n",
       "      <td>4590435023</td>\n",
       "      <td>Our limited edition #Pride shirts will only be...</td>\n",
       "      <td>{traintwitter}</td>\n",
       "      <td>1540107437457321984</td>\n",
       "      <td>[{\"start\": 20, \"end\": 26, \"tag\": \"Pride\"}, {\"s...</td>\n",
       "    </tr>\n",
       "    <tr>\n",
       "      <th>3</th>\n",
       "      <td>73695550</td>\n",
       "      <td>🌈In #PrideMonth the 🇺🇳 #LGBTICoreGroup welcome...</td>\n",
       "      <td>{manchester, portugal}</td>\n",
       "      <td>1540107387763294208</td>\n",
       "      <td>[{\"start\": 4, \"end\": 15, \"tag\": \"PrideMonth\"},...</td>\n",
       "    </tr>\n",
       "    <tr>\n",
       "      <th>4</th>\n",
       "      <td>1381470808443252736</td>\n",
       "      <td>Bugs has got your back, so be free to be YOU! ...</td>\n",
       "      <td>{actuallyautistic}</td>\n",
       "      <td>1540107378342801409</td>\n",
       "      <td>[{\"start\": 134, \"end\": 145, \"tag\": \"happypride...</td>\n",
       "    </tr>\n",
       "    <tr>\n",
       "      <th>...</th>\n",
       "      <td>...</td>\n",
       "      <td>...</td>\n",
       "      <td>...</td>\n",
       "      <td>...</td>\n",
       "      <td>...</td>\n",
       "    </tr>\n",
       "    <tr>\n",
       "      <th>65</th>\n",
       "      <td>1322228267726729217</td>\n",
       "      <td>Let’s have a KIKI !!!! \\nEveryone come out to ...</td>\n",
       "      <td>{cmonni}</td>\n",
       "      <td>1540103292700614658</td>\n",
       "      <td>[{\"start\": 180, \"end\": 199, \"tag\": \"ballroomth...</td>\n",
       "    </tr>\n",
       "    <tr>\n",
       "      <th>66</th>\n",
       "      <td>1344072144850972672</td>\n",
       "      <td>@BlackBoxCameraC @sdcinvancouver @bettycjung @...</td>\n",
       "      <td>{transparency, prevention, skininthegame, acco...</td>\n",
       "      <td>1540103263319724042</td>\n",
       "      <td>[{\"start\": 312, \"end\": 323, \"tag\": \"PrideMonth\"}]</td>\n",
       "    </tr>\n",
       "    <tr>\n",
       "      <th>67</th>\n",
       "      <td>1481318871244193792</td>\n",
       "      <td>Proud of @zzdesign. Love the @jvnhair packagin...</td>\n",
       "      <td>{web, nfts}</td>\n",
       "      <td>1540103230423703553</td>\n",
       "      <td>[{\"start\": 102, \"end\": 113, \"tag\": \"PrideMonth...</td>\n",
       "    </tr>\n",
       "    <tr>\n",
       "      <th>68</th>\n",
       "      <td>857936728165896204</td>\n",
       "      <td>This petition, started by @taylorswift13 has a...</td>\n",
       "      <td>{passsafeact}</td>\n",
       "      <td>1540103223717101570</td>\n",
       "      <td>[{\"start\": 154, \"end\": 166, \"tag\": \"EqualityAc...</td>\n",
       "    </tr>\n",
       "    <tr>\n",
       "      <th>69</th>\n",
       "      <td>1322228267726729217</td>\n",
       "      <td>Let’s have a KIKI !!!! \\nEveryone come out to ...</td>\n",
       "      <td>{cmonni}</td>\n",
       "      <td>1540103216905326592</td>\n",
       "      <td>[{\"start\": 180, \"end\": 199, \"tag\": \"ballroomth...</td>\n",
       "    </tr>\n",
       "  </tbody>\n",
       "</table>\n",
       "<p>68 rows × 5 columns</p>\n",
       "</div>"
      ],
      "text/plain": [
       "                id_user                                               text  \\\n",
       "0   1529344300760190976  Real change happens as a result of actions - n...   \n",
       "1    881452504306810880  The last day of our Rainbow Challenge. 🌈  I’ve...   \n",
       "2            4590435023  Our limited edition #Pride shirts will only be...   \n",
       "3              73695550  🌈In #PrideMonth the 🇺🇳 #LGBTICoreGroup welcome...   \n",
       "4   1381470808443252736  Bugs has got your back, so be free to be YOU! ...   \n",
       "..                  ...                                                ...   \n",
       "65  1322228267726729217  Let’s have a KIKI !!!! \\nEveryone come out to ...   \n",
       "66  1344072144850972672  @BlackBoxCameraC @sdcinvancouver @bettycjung @...   \n",
       "67  1481318871244193792  Proud of @zzdesign. Love the @jvnhair packagin...   \n",
       "68   857936728165896204  This petition, started by @taylorswift13 has a...   \n",
       "69  1322228267726729217  Let’s have a KIKI !!!! \\nEveryone come out to ...   \n",
       "\n",
       "                                         hashtag_user             tweet_id  \\\n",
       "0                {neisvoid, furry, cptsd, pluralgang}  1540107749832290304   \n",
       "1                               {smartsocial, mhhsbd}  1540107744832798721   \n",
       "2                                      {traintwitter}  1540107437457321984   \n",
       "3                              {manchester, portugal}  1540107387763294208   \n",
       "4                                  {actuallyautistic}  1540107378342801409   \n",
       "..                                                ...                  ...   \n",
       "65                                           {cmonni}  1540103292700614658   \n",
       "66  {transparency, prevention, skininthegame, acco...  1540103263319724042   \n",
       "67                                        {web, nfts}  1540103230423703553   \n",
       "68                                      {passsafeact}  1540103223717101570   \n",
       "69                                           {cmonni}  1540103216905326592   \n",
       "\n",
       "                                        hashtag_tweet  \n",
       "0   [{\"start\": 171, \"end\": 182, \"tag\": \"PrideMonth\"}]  \n",
       "1   [{\"start\": 174, \"end\": 183, \"tag\": \"EarlyBiz\"}...  \n",
       "2   [{\"start\": 20, \"end\": 26, \"tag\": \"Pride\"}, {\"s...  \n",
       "3   [{\"start\": 4, \"end\": 15, \"tag\": \"PrideMonth\"},...  \n",
       "4   [{\"start\": 134, \"end\": 145, \"tag\": \"happypride...  \n",
       "..                                                ...  \n",
       "65  [{\"start\": 180, \"end\": 199, \"tag\": \"ballroomth...  \n",
       "66  [{\"start\": 312, \"end\": 323, \"tag\": \"PrideMonth\"}]  \n",
       "67  [{\"start\": 102, \"end\": 113, \"tag\": \"PrideMonth...  \n",
       "68  [{\"start\": 154, \"end\": 166, \"tag\": \"EqualityAc...  \n",
       "69  [{\"start\": 180, \"end\": 199, \"tag\": \"ballroomth...  \n",
       "\n",
       "[68 rows x 5 columns]"
      ]
     },
     "execution_count": 175,
     "metadata": {},
     "output_type": "execute_result"
    }
   ],
   "source": [
    "#remove users who don't belong to the 4 category from the dataset\n",
    "df_IDK1.drop(index)"
   ]
  },
  {
   "cell_type": "markdown",
   "metadata": {},
   "source": [
    "## METODO 2"
   ]
  },
  {
   "cell_type": "markdown",
   "metadata": {},
   "source": [
    "Per ogni tweet di un utente, vedere gli hashtag usati in quel particolare tweet e se nessuno di questi tweetweet viene categorizzato #proukr, #proruss, #pax, questo utente apparterrà alla 4 categoria:\"I don't care\"."
   ]
  },
  {
   "cell_type": "markdown",
   "metadata": {},
   "source": [
    "Definizione di utente attivo: se count(#eurovision2022)>thresold "
   ]
  },
  {
   "cell_type": "markdown",
   "metadata": {},
   "source": [
    "PROBLEMA: hashtags solo del tweet, non di tutti i tweet dell'utente, difficile capire se è veramente \"IDC\" solo guardando ai tweet di una query.\n",
    "ex. query:#eurovision2022: i tweet e hastags elativi solo ai tweet sul erovision. cosiderati i don't care solo perchè la query cerca tweet sull'eurovision"
   ]
  },
  {
   "cell_type": "code",
   "execution_count": 7,
   "metadata": {},
   "outputs": [
    {
     "data": {
      "text/html": [
       "<div>\n",
       "<style scoped>\n",
       "    .dataframe tbody tr th:only-of-type {\n",
       "        vertical-align: middle;\n",
       "    }\n",
       "\n",
       "    .dataframe tbody tr th {\n",
       "        vertical-align: top;\n",
       "    }\n",
       "\n",
       "    .dataframe thead th {\n",
       "        text-align: right;\n",
       "    }\n",
       "</style>\n",
       "<table border=\"1\" class=\"dataframe\">\n",
       "  <thead>\n",
       "    <tr style=\"text-align: right;\">\n",
       "      <th></th>\n",
       "      <th>id_user</th>\n",
       "      <th>tweet_id</th>\n",
       "      <th>hashtag_tweet</th>\n",
       "    </tr>\n",
       "  </thead>\n",
       "  <tbody>\n",
       "    <tr>\n",
       "      <th>0</th>\n",
       "      <td>958468364</td>\n",
       "      <td>1539573916749922305</td>\n",
       "      <td>[{\"start\": 0, \"end\": 15, \"tag\": \"Eurovision202...</td>\n",
       "    </tr>\n",
       "    <tr>\n",
       "      <th>1</th>\n",
       "      <td>1340151788775813121</td>\n",
       "      <td>1539557373102243842</td>\n",
       "      <td>[{\"start\": 51, \"end\": 62, \"tag\": \"Eurovision\"}...</td>\n",
       "    </tr>\n",
       "    <tr>\n",
       "      <th>2</th>\n",
       "      <td>102761770</td>\n",
       "      <td>1539546803288301568</td>\n",
       "      <td>[{\"start\": 28, \"end\": 36, \"tag\": \"NAM2022\"}, {...</td>\n",
       "    </tr>\n",
       "    <tr>\n",
       "      <th>3</th>\n",
       "      <td>225020883</td>\n",
       "      <td>1539544381513957379</td>\n",
       "      <td>[{\"start\": 28, \"end\": 36, \"tag\": \"NAM2022\"}, {...</td>\n",
       "    </tr>\n",
       "    <tr>\n",
       "      <th>4</th>\n",
       "      <td>1225427349040222209</td>\n",
       "      <td>1539543701743181826</td>\n",
       "      <td>[{\"start\": 32, \"end\": 47, \"tag\": \"eurovision20...</td>\n",
       "    </tr>\n",
       "    <tr>\n",
       "      <th>...</th>\n",
       "      <td>...</td>\n",
       "      <td>...</td>\n",
       "      <td>...</td>\n",
       "    </tr>\n",
       "    <tr>\n",
       "      <th>487</th>\n",
       "      <td>946194111295574016</td>\n",
       "      <td>1534150140629594112</td>\n",
       "      <td>[{\"start\": 20, \"end\": 24, \"tag\": \"NFT\"}, {\"sta...</td>\n",
       "    </tr>\n",
       "    <tr>\n",
       "      <th>488</th>\n",
       "      <td>1428347863503802374</td>\n",
       "      <td>1534149670544588801</td>\n",
       "      <td>[{\"start\": 0, \"end\": 24, \"tag\": \"galer\\u00edad...</td>\n",
       "    </tr>\n",
       "    <tr>\n",
       "      <th>489</th>\n",
       "      <td>1384243560099188737</td>\n",
       "      <td>1534149639494160385</td>\n",
       "      <td>[{\"start\": 0, \"end\": 24, \"tag\": \"galer\\u00edad...</td>\n",
       "    </tr>\n",
       "    <tr>\n",
       "      <th>490</th>\n",
       "      <td>2595085784</td>\n",
       "      <td>1534143450169352192</td>\n",
       "      <td>[{\"start\": 77, \"end\": 92, \"tag\": \"eurovision20...</td>\n",
       "    </tr>\n",
       "    <tr>\n",
       "      <th>491</th>\n",
       "      <td>1533343334294495232</td>\n",
       "      <td>1534143352542748672</td>\n",
       "      <td>[{\"start\": 75, \"end\": 86, \"tag\": \"Subwoolfer\"}...</td>\n",
       "    </tr>\n",
       "  </tbody>\n",
       "</table>\n",
       "<p>492 rows × 3 columns</p>\n",
       "</div>"
      ],
      "text/plain": [
       "                 id_user             tweet_id  \\\n",
       "0              958468364  1539573916749922305   \n",
       "1    1340151788775813121  1539557373102243842   \n",
       "2              102761770  1539546803288301568   \n",
       "3              225020883  1539544381513957379   \n",
       "4    1225427349040222209  1539543701743181826   \n",
       "..                   ...                  ...   \n",
       "487   946194111295574016  1534150140629594112   \n",
       "488  1428347863503802374  1534149670544588801   \n",
       "489  1384243560099188737  1534149639494160385   \n",
       "490           2595085784  1534143450169352192   \n",
       "491  1533343334294495232  1534143352542748672   \n",
       "\n",
       "                                         hashtag_tweet  \n",
       "0    [{\"start\": 0, \"end\": 15, \"tag\": \"Eurovision202...  \n",
       "1    [{\"start\": 51, \"end\": 62, \"tag\": \"Eurovision\"}...  \n",
       "2    [{\"start\": 28, \"end\": 36, \"tag\": \"NAM2022\"}, {...  \n",
       "3    [{\"start\": 28, \"end\": 36, \"tag\": \"NAM2022\"}, {...  \n",
       "4    [{\"start\": 32, \"end\": 47, \"tag\": \"eurovision20...  \n",
       "..                                                 ...  \n",
       "487  [{\"start\": 20, \"end\": 24, \"tag\": \"NFT\"}, {\"sta...  \n",
       "488  [{\"start\": 0, \"end\": 24, \"tag\": \"galer\\u00edad...  \n",
       "489  [{\"start\": 0, \"end\": 24, \"tag\": \"galer\\u00edad...  \n",
       "490  [{\"start\": 77, \"end\": 92, \"tag\": \"eurovision20...  \n",
       "491  [{\"start\": 75, \"end\": 86, \"tag\": \"Subwoolfer\"}...  \n",
       "\n",
       "[492 rows x 3 columns]"
      ]
     },
     "execution_count": 7,
     "metadata": {},
     "output_type": "execute_result"
    }
   ],
   "source": [
    "df_IDK=pd.DataFrame({\"id_user\": user_id,\n",
    "                     \"tweet_id\":tweet_id,\n",
    "                     \"hashtag_tweet\": hashtag_tweet,})\n",
    "df_IDK"
   ]
  },
  {
   "cell_type": "code",
   "execution_count": 15,
   "metadata": {},
   "outputs": [],
   "source": [
    "df=df_IDK.sort_values(by=\"id_user\")"
   ]
  },
  {
   "cell_type": "code",
   "execution_count": 16,
   "metadata": {},
   "outputs": [
    {
     "data": {
      "text/plain": [
       "234801453              17\n",
       "1162817906             14\n",
       "1154811612764758017    12\n",
       "2999483493              9\n",
       "957784397566050304      8\n",
       "                       ..\n",
       "1419573816964141056     1\n",
       "1410626683506413572     1\n",
       "1408803763079368709     1\n",
       "1395713914722308096     1\n",
       "996606948245164032      1\n",
       "Name: id_user, Length: 367, dtype: int64"
      ]
     },
     "execution_count": 16,
     "metadata": {},
     "output_type": "execute_result"
    }
   ],
   "source": [
    "df[\"id_user\"].value_counts()"
   ]
  },
  {
   "cell_type": "code",
   "execution_count": 30,
   "metadata": {},
   "outputs": [
    {
     "data": {
      "text/plain": [
       "'[{\"start\": 40, \"end\": 55, \"tag\": \"Eurovision2022\"}][{\"start\": 40, \"end\": 55, \"tag\": \"Eurovision2022\"}][{\"start\": 40, \"end\": 55, \"tag\": \"Eurovision2022\"}]'"
      ]
     },
     "execution_count": 30,
     "metadata": {},
     "output_type": "execute_result"
    }
   ],
   "source": [
    "df2=df.groupby(by=\"id_user\").sum().reset_index()\n",
    "df2[\"hashtag_tweet\"][362]"
   ]
  },
  {
   "cell_type": "code",
   "execution_count": null,
   "metadata": {},
   "outputs": [],
   "source": []
  },
  {
   "cell_type": "code",
   "execution_count": null,
   "metadata": {},
   "outputs": [],
   "source": [
    "diz={}\n",
    "for a,b,c in df:"
   ]
  },
  {
   "cell_type": "markdown",
   "metadata": {},
   "source": [
    "# Salvare DF come SCV"
   ]
  },
  {
   "cell_type": "code",
   "execution_count": 31,
   "metadata": {},
   "outputs": [],
   "source": [
    "#save as csv\n",
    "df=pd.DataFrame(m.df)\n",
    "df.to_csv(\"slavaukraini\")"
   ]
  },
  {
   "cell_type": "code",
   "execution_count": 3,
   "metadata": {
    "colab": {
     "base_uri": "https://localhost:8080/",
     "height": 187
    },
    "executionInfo": {
     "elapsed": 352,
     "status": "error",
     "timestamp": 1652065659701,
     "user": {
      "displayName": "BLERTA LLESHI",
      "userId": "05237610012886993411"
     },
     "user_tz": -120
    },
    "id": "Qc3Tw3cJU72W",
    "outputId": "419656a0-a652-49c7-881f-c23295f29f5e"
   },
   "outputs": [
    {
     "data": {
      "text/plain": [
       "(490, 75)"
      ]
     },
     "execution_count": 3,
     "metadata": {},
     "output_type": "execute_result"
    }
   ],
   "source": [
    "#open datset created\n",
    "df_pro=pd.read_csv(\"slavaukraini\", low_memory=False)\n",
    "df_pro.shape"
   ]
  },
  {
   "cell_type": "markdown",
   "metadata": {},
   "source": [
    "# Pulizia testo "
   ]
  },
  {
   "cell_type": "markdown",
   "metadata": {},
   "source": [
    "Non più utile in quanto con eval() convertiamo gli hashtags da stringa in dizionario"
   ]
  },
  {
   "cell_type": "code",
   "execution_count": 7,
   "metadata": {},
   "outputs": [
    {
     "data": {
      "text/plain": [
       "array([nan,\n",
       "       '[{\"start\": 15, \"end\": 29, \"tag\": \"CyberSecurity\"}, {\"start\": 31, \"end\": 44, \"tag\": \"CyberDefense\"}, {\"start\": 46, \"end\": 56, \"tag\": \"DevSecOps\"}, {\"start\": 58, \"end\": 63, \"tag\": \"DFIR\"}, {\"start\": 65, \"end\": 75, \"tag\": \"Forensics\"}, {\"start\": 77, \"end\": 94, \"tag\": \"IncidentResponse\"}, {\"start\": 96, \"end\": 104, \"tag\": \"Privacy\"}, {\"start\": 106, \"end\": 117, \"tag\": \"Pentesting\"}, {\"start\": 137, \"end\": 145, \"tag\": \"InfoSec\"}]',\n",
       "       '[{\"start\": 39, \"end\": 53, \"tag\": \"EatTravelLive\"}]',\n",
       "       '[{\"start\": 127, \"end\": 132, \"tag\": \"Tech\"}, {\"start\": 133, \"end\": 140, \"tag\": \"Retail\"}, {\"start\": 141, \"end\": 149, \"tag\": \"Infosec\"}]',\n",
       "       '[{\"start\": 8, \"end\": 16, \"tag\": \"infosec\"}, {\"start\": 19, \"end\": 33, \"tag\": \"cybersecurity\"}]',\n",
       "       '[{\"start\": 0, \"end\": 20, \"tag\": \"JusticeForFelixDahl\"}, {\"start\": 21, \"end\": 31, \"tag\": \"felixdahl\"}, {\"start\": 32, \"end\": 36, \"tag\": \"Goa\"}, {\"start\": 37, \"end\": 45, \"tag\": \"Palolem\"}, {\"start\": 46, \"end\": 52, \"tag\": \"India\"}, {\"start\": 53, \"end\": 65, \"tag\": \"Humanrights\"}, {\"start\": 66, \"end\": 74, \"tag\": \"tourism\"}, {\"start\": 75, \"end\": 83, \"tag\": \"justice\"}, {\"start\": 84, \"end\": 89, \"tag\": \"sisu\"}, {\"start\": 90, \"end\": 110, \"tag\": \"STANDUP4HUMANRIGHTS\"}]',\n",
       "       '[{\"start\": 20, \"end\": 28, \"tag\": \"InfoSec\"}, {\"start\": 29, \"end\": 40, \"tag\": \"Cybercrime\"}, {\"start\": 41, \"end\": 46, \"tag\": \"DDoS\"}, {\"start\": 47, \"end\": 55, \"tag\": \"Malware\"}, {\"start\": 56, \"end\": 64, \"tag\": \"Hackers\"}, {\"start\": 65, \"end\": 70, \"tag\": \"Vuln\"}, {\"start\": 71, \"end\": 78, \"tag\": \"Botnet\"}]',\n",
       "       '[{\"start\": 114, \"end\": 129, \"tag\": \"CyberEducation\"}, {\"start\": 130, \"end\": 144, \"tag\": \"CyberSecurity\"}]',\n",
       "       '[{\"start\": 0, \"end\": 5, \"tag\": \"GDPR\"}, {\"start\": 32, \"end\": 43, \"tag\": \"Compliance\"}, {\"start\": 54, \"end\": 65, \"tag\": \"PenTesting\"}, {\"start\": 114, \"end\": 128, \"tag\": \"cybersecurity\"}]',\n",
       "       '[{\"start\": 17, \"end\": 23, \"tag\": \"osint\"}, {\"start\": 26, \"end\": 40, \"tag\": \"cybersecurity\"}]',\n",
       "       '[{\"start\": 93, \"end\": 107, \"tag\": \"cybersecurity\"}, {\"start\": 108, \"end\": 116, \"tag\": \"infosec\"}, {\"start\": 117, \"end\": 130, \"tag\": \"choosewisely\"}, {\"start\": 131, \"end\": 142, \"tag\": \"beinformed\"}]',\n",
       "       '[{\"start\": 111, \"end\": 123, \"tag\": \"AnimalLover\"}, {\"start\": 125, \"end\": 132, \"tag\": \"RESIST\"}]',\n",
       "       '[{\"start\": 0, \"end\": 14, \"tag\": \"Communication\"}, {\"start\": 27, \"end\": 34, \"tag\": \"Artist\"}, {\"start\": 36, \"end\": 48, \"tag\": \"WomenRights\"}]',\n",
       "       '[{\"start\": 108, \"end\": 135, \"tag\": \"WomensRightsAreHumanRights\"}, {\"start\": 136, \"end\": 152, \"tag\": \"KalushOrchestra\"}]',\n",
       "       '[{\"start\": 0, \"end\": 10, \"tag\": \"Pakistani\"}, {\"start\": 15, \"end\": 24, \"tag\": \"Imranist\"}]',\n",
       "       '[{\"start\": 46, \"end\": 52, \"tag\": \"GETTR\"}, {\"start\": 62, \"end\": 74, \"tag\": \"FreeAssange\"}]',\n",
       "       '[{\"start\": 0, \"end\": 12, \"tag\": \"DemsBigTent\"}, {\"start\": 13, \"end\": 22, \"tag\": \"AdoptDon\"}]',\n",
       "       '[{\"start\": 140, \"end\": 145, \"tag\": \"COYS\"}]',\n",
       "       '[{\"start\": 65, \"end\": 83, \"tag\": \"IStandWithUkraine\"}, {\"start\": 84, \"end\": 97, \"tag\": \"ProDemocracy\"}, {\"start\": 98, \"end\": 115, \"tag\": \"AntiTrumplikkkan\"}, {\"start\": 116, \"end\": 125, \"tag\": \"VoteBlue\"}]',\n",
       "       '[{\"start\": 83, \"end\": 86, \"tag\": \"4T\"}, {\"start\": 87, \"end\": 95, \"tag\": \"AMLOVER\"}]',\n",
       "       '[{\"start\": 16, \"end\": 24, \"tag\": \"Covid19\"}, {\"start\": 25, \"end\": 37, \"tag\": \"GeoPolitics\"}, {\"start\": 38, \"end\": 43, \"tag\": \"Asia\"}, {\"start\": 44, \"end\": 47, \"tag\": \"EU\"}, {\"start\": 48, \"end\": 61, \"tag\": \"GlobalEnergy\"}, {\"start\": 62, \"end\": 80, \"tag\": \"EconomicGeography\"}, {\"start\": 81, \"end\": 102, \"tag\": \"BusinessIntelligence\"}, {\"start\": 103, \"end\": 112, \"tag\": \"Dyslexia\"}]',\n",
       "       '[{\"start\": 0, \"end\": 7, \"tag\": \"Author\"}, {\"start\": 16, \"end\": 31, \"tag\": \"SpiritualTruth\"}, {\"start\": 35, \"end\": 41, \"tag\": \"Guide\"}, {\"start\": 51, \"end\": 57, \"tag\": \"Truth\"}, {\"start\": 117, \"end\": 133, \"tag\": \"ClusterHeadache\"}, {\"start\": 136, \"end\": 141, \"tag\": \"PTSD\"}, {\"start\": 154, \"end\": 159, \"tag\": \"HOPE\"}]',\n",
       "       '[{\"start\": 88, \"end\": 105, \"tag\": \"StandWithUkraine\"}]',\n",
       "       '[{\"start\": 17, \"end\": 22, \"tag\": \"MAGA\"}]',\n",
       "       '[{\"start\": 91, \"end\": 105, \"tag\": \"TheResistance\"}, {\"start\": 106, \"end\": 119, \"tag\": \"ShePersisted\"}, {\"start\": 120, \"end\": 132, \"tag\": \"GoodTrouble\"}, {\"start\": 133, \"end\": 145, \"tag\": \"BidenHarris\"}, {\"start\": 146, \"end\": 150, \"tag\": \"BLM\"}]',\n",
       "       '[{\"start\": 79, \"end\": 95, \"tag\": \"WalkAstralPlane\"}, {\"start\": 96, \"end\": 119, \"tag\": \"MaterializePutinDefeat\"}, {\"start\": 120, \"end\": 137, \"tag\": \"WeCanSaveUkraine\"}]',\n",
       "       '[{\"start\": 78, \"end\": 98, \"tag\": \"Warsawfanshooligans\"}]',\n",
       "       '[{\"start\": 78, \"end\": 89, \"tag\": \"DrSwamy4PM\"}, {\"start\": 90, \"end\": 101, \"tag\": \"DrSwamy4FM\"}, {\"start\": 102, \"end\": 120, \"tag\": \"OneManArmyDrSwamy\"}]',\n",
       "       '[{\"start\": 0, \"end\": 18, \"tag\": \"Constitutionalist\"}, {\"start\": 21, \"end\": 34, \"tag\": \"Conservative\"}, {\"start\": 44, \"end\": 56, \"tag\": \"WeThePeople\"}, {\"start\": 57, \"end\": 73, \"tag\": \"TheAnswerIs1776\"}, {\"start\": 74, \"end\": 88, \"tag\": \"ComeAndTakeIt\"}, {\"start\": 89, \"end\": 102, \"tag\": \"Constitution\"}, {\"start\": 103, \"end\": 106, \"tag\": \"1A\"}, {\"start\": 107, \"end\": 110, \"tag\": \"2A\"}, {\"start\": 111, \"end\": 119, \"tag\": \"Patriot\"}, {\"start\": 120, \"end\": 128, \"tag\": \"Liberty\"}, {\"start\": 129, \"end\": 142, \"tag\": \"IIIPercenter\"}, {\"start\": 143, \"end\": 148, \"tag\": \"MAGA\"}, {\"start\": 149, \"end\": 153, \"tag\": \"KAG\"}, {\"start\": 154, \"end\": 159, \"tag\": \"NoPC\"}]',\n",
       "       '[{\"start\": 58, \"end\": 78, \"tag\": \"ReConstructWithHemp\"}]',\n",
       "       '[{\"start\": 23, \"end\": 41, \"tag\": \"AnimalsHaveRights\"}, {\"start\": 42, \"end\": 51, \"tag\": \"Resister\"}, {\"start\": 52, \"end\": 56, \"tag\": \"BLM\"}, {\"start\": 58, \"end\": 76, \"tag\": \"killthefilibuster\"}, {\"start\": 77, \"end\": 94, \"tag\": \"passvotingrights\"}]',\n",
       "       '[{\"start\": 0, \"end\": 11, \"tag\": \"Philosophy\"}, {\"start\": 12, \"end\": 20, \"tag\": \"Science\"}, {\"start\": 21, \"end\": 38, \"tag\": \"QuantumMechanics\"}, {\"start\": 39, \"end\": 45, \"tag\": \"Linux\"}, {\"start\": 46, \"end\": 57, \"tag\": \"Blockchain\"}, {\"start\": 58, \"end\": 63, \"tag\": \"Arts\"}, {\"start\": 64, \"end\": 69, \"tag\": \"Rock\"}, {\"start\": 70, \"end\": 87, \"tag\": \"StandWithUkraine\"}, {\"start\": 88, \"end\": 96, \"tag\": \"Covid19\"}, {\"start\": 97, \"end\": 106, \"tag\": \"SarsCov2\"}, {\"start\": 107, \"end\": 123, \"tag\": \"COVIDisAirborne\"}, {\"start\": 124, \"end\": 129, \"tag\": \"FFP2\"}, {\"start\": 130, \"end\": 135, \"tag\": \"NATO\"}]',\n",
       "       '[{\"start\": 72, \"end\": 89, \"tag\": \"StrongerTogether\"}, {\"start\": 90, \"end\": 102, \"tag\": \"clicktivist\"}]',\n",
       "       '[{\"start\": 95, \"end\": 107, \"tag\": \"ActionFaith\"}, {\"start\": 108, \"end\": 112, \"tag\": \"BLM\"}]',\n",
       "       '[{\"start\": 129, \"end\": 141, \"tag\": \"TeamTrudeau\"}]',\n",
       "       '[{\"start\": 31, \"end\": 34, \"tag\": \"3D\"}, {\"start\": 35, \"end\": 38, \"tag\": \"VR\"}, {\"start\": 39, \"end\": 45, \"tag\": \"3dArt\"}, {\"start\": 46, \"end\": 57, \"tag\": \"3Dprinting\"}, {\"start\": 58, \"end\": 72, \"tag\": \"illustrations\"}, {\"start\": 73, \"end\": 79, \"tag\": \"Books\"}, {\"start\": 80, \"end\": 88, \"tag\": \"fantasy\"}, {\"start\": 89, \"end\": 95, \"tag\": \"scifi\"}, {\"start\": 96, \"end\": 104, \"tag\": \"Science\"}, {\"start\": 105, \"end\": 111, \"tag\": \"Space\"}, {\"start\": 112, \"end\": 120, \"tag\": \"Animals\"}, {\"start\": 121, \"end\": 135, \"tag\": \"PeteButtigieg\"}, {\"start\": 136, \"end\": 154, \"tag\": \"IStandWithUkraine\"}]',\n",
       "       '[{\"start\": 97, \"end\": 102, \"tag\": \"deer\"}]',\n",
       "       '[{\"start\": 0, \"end\": 14, \"tag\": \"adoptdontshop\"}]',\n",
       "       '[{\"start\": 21, \"end\": 32, \"tag\": \"DemVictory\"}, {\"start\": 33, \"end\": 43, \"tag\": \"WeWillWin\"}]',\n",
       "       '[{\"start\": 2, \"end\": 7, \"tag\": \"FBPE\"}, {\"start\": 8, \"end\": 14, \"tag\": \"ProEU\"}, {\"start\": 15, \"end\": 24, \"tag\": \"RejoinEU\"}, {\"start\": 25, \"end\": 36, \"tag\": \"FollowBack\"}, {\"start\": 37, \"end\": 42, \"tag\": \"GTTO\"}, {\"start\": 43, \"end\": 54, \"tag\": \"JohnsonOut\"}, {\"start\": 55, \"end\": 67, \"tag\": \"SaveUkraine\"}]',\n",
       "       '[{\"start\": 117, \"end\": 121, \"tag\": \"GQP\"}, {\"start\": 122, \"end\": 132, \"tag\": \"FUCKPUTIN\"}]',\n",
       "       '[{\"start\": 39, \"end\": 60, \"tag\": \"LoanForginessIsASCAM\"}]',\n",
       "       '[{\"start\": 145, \"end\": 158, \"tag\": \"SlavaUkraini\"}]',\n",
       "       '[{\"start\": 31, \"end\": 46, \"tag\": \"Semiconductors\"}, {\"start\": 79, \"end\": 84, \"tag\": \"GWOT\"}, {\"start\": 85, \"end\": 93, \"tag\": \"Veteran\"}, {\"start\": 146, \"end\": 156, \"tag\": \"Artillery\"}]',\n",
       "       '[{\"start\": 131, \"end\": 152, \"tag\": \"iosonojessicasonetti\"}]',\n",
       "       '[{\"start\": 83, \"end\": 88, \"tag\": \"MMIW\"}]',\n",
       "       '[{\"start\": 44, \"end\": 57, \"tag\": \"Medicare4All\"}, {\"start\": 58, \"end\": 69, \"tag\": \"LivingWage\"}, {\"start\": 70, \"end\": 74, \"tag\": \"GND\"}, {\"start\": 75, \"end\": 93, \"tag\": \"CancelStudentDebt\"}, {\"start\": 94, \"end\": 104, \"tag\": \"WealthTax\"}, {\"start\": 105, \"end\": 113, \"tag\": \"NotMeUs\"}, {\"start\": 114, \"end\": 123, \"tag\": \"Humanist\"}]',\n",
       "       '[{\"start\": 34, \"end\": 51, \"tag\": \"standwithukraine\"}]',\n",
       "       '[{\"start\": 52, \"end\": 66, \"tag\": \"UkraineStrong\"}]',\n",
       "       '[{\"start\": 106, \"end\": 121, \"tag\": \"PRAYFORUKRAINE\"}]',\n",
       "       '[{\"start\": 41, \"end\": 53, \"tag\": \"politicians\"}, {\"start\": 96, \"end\": 111, \"tag\": \"LiveAndLetLive\"}]',\n",
       "       '[{\"start\": 4, \"end\": 15, \"tag\": \"CorruptGOP\"}, {\"start\": 148, \"end\": 152, \"tag\": \"GOP\"}]'],\n",
       "      dtype=object)"
      ]
     },
     "execution_count": 7,
     "metadata": {},
     "output_type": "execute_result"
    }
   ],
   "source": [
    "df_pro['author.entities.description.hashtags'].unique()"
   ]
  },
  {
   "cell_type": "code",
   "execution_count": 33,
   "metadata": {},
   "outputs": [],
   "source": [
    "df_pro['entities.hashtags']=df_pro['entities.hashtags'].fillna(\"0\")"
   ]
  },
  {
   "cell_type": "code",
   "execution_count": 34,
   "metadata": {},
   "outputs": [],
   "source": [
    "repl=[\"1\",\"2\",\"3\",\"4\",\"5\",\"6\",\"7\",\"8\",\"9\",\"0\",\"start\",\"end\", \"tag\",\"[\",\"{\",\"}\",\"]\", \":\",\",\",\"\\\"\"]\n",
    "for e in repl:\n",
    "    df_pro['entities.hashtags']=df_pro['entities.hashtags'].str.replace(e,\"\",regex=True)"
   ]
  },
  {
   "cell_type": "code",
   "execution_count": 35,
   "metadata": {},
   "outputs": [
    {
     "data": {
      "text/plain": [
       "0           UKRAINE      UKRAINERUSSIAWAR      News  ...\n",
       "1                                                       \n",
       "2                                                   FAKE\n",
       "3                                                   FAKE\n",
       "4                       Iceland      Italian      Russia\n",
       "                             ...                        \n",
       "485                                                     \n",
       "486                                                     \n",
       "487                                                     \n",
       "488                                                     \n",
       "489                                                     \n",
       "Name: entities.hashtags, Length: 490, dtype: object"
      ]
     },
     "execution_count": 35,
     "metadata": {},
     "output_type": "execute_result"
    }
   ],
   "source": [
    "df_pro['entities.hashtags']"
   ]
  },
  {
   "cell_type": "code",
   "execution_count": 36,
   "metadata": {},
   "outputs": [],
   "source": [
    "df_pro['entities.hashtags']=df_pro['entities.hashtags'].apply(str).map(str.lower)"
   ]
  },
  {
   "cell_type": "code",
   "execution_count": 37,
   "metadata": {},
   "outputs": [],
   "source": [
    "df_pro['entities.hashtags']=df_pro['entities.hashtags'].apply(str).map(str.strip)"
   ]
  },
  {
   "cell_type": "code",
   "execution_count": 38,
   "metadata": {},
   "outputs": [],
   "source": [
    "df_pro['entities.hashtags']=df_pro['entities.hashtags'].apply(str).map(str.split) #,args=('\\\"\\\"'))"
   ]
  },
  {
   "cell_type": "code",
   "execution_count": 39,
   "metadata": {},
   "outputs": [
    {
     "data": {
      "text/plain": [
       "0      [ukraine, ukrainerussiawar, news, putin, russi...\n",
       "1                                                     []\n",
       "2                                                 [fake]\n",
       "3                                                 [fake]\n",
       "4                             [iceland, italian, russia]\n",
       "                             ...                        \n",
       "485                                                   []\n",
       "486                                                   []\n",
       "487                                                   []\n",
       "488                                                   []\n",
       "489                                                   []\n",
       "Name: entities.hashtags, Length: 490, dtype: object"
      ]
     },
     "execution_count": 39,
     "metadata": {},
     "output_type": "execute_result"
    }
   ],
   "source": [
    "df_hash=df_pro['entities.hashtags']\n",
    "df_hash"
   ]
  },
  {
   "cell_type": "code",
   "execution_count": 40,
   "metadata": {},
   "outputs": [],
   "source": [
    "hashtag=list()\n",
    "size=len(df_hash)\n",
    "for i in range(0,size):\n",
    "    for e in df_hash[i]:\n",
    "        if len(e)>=4:\n",
    "            hashtag.append(e)"
   ]
  },
  {
   "cell_type": "code",
   "execution_count": 41,
   "metadata": {},
   "outputs": [
    {
     "data": {
      "text/plain": [
       "['ukraine',\n",
       " 'ukrainerussiawar',\n",
       " 'news',\n",
       " 'putin',\n",
       " 'russia',\n",
       " 'azovstal',\n",
       " 'duma',\n",
       " 'prisoner',\n",
       " 'terrorism',\n",
       " 'nazism',\n",
       " 'surrer',\n",
       " 'socialmedia',\n",
       " 'fake',\n",
       " 'fake',\n",
       " 'iceland',\n",
       " 'italian',\n",
       " 'russia',\n",
       " 'hungary',\n",
       " 'prorussia',\n",
       " 'infosecuritymag',\n",
       " 'stupidpeopledoesstupidthings',\n",
       " 'russia',\n",
       " 'stoprussianinsanity',\n",
       " 'fckptn',\n",
       " 'prorussia',\n",
       " 'infosecmag',\n",
       " 'resumodasemana',\n",
       " 'italian',\n",
       " 'eurovision',\n",
       " 'cyberattacks',\n",
       " 'eurovisionsongcontest',\n",
       " 'russia',\n",
       " 'hackers',\n",
       " 'cybercriminals',\n",
       " 'killnet',\n",
       " 'legion',\n",
       " 'eurovison',\n",
       " 'ddos',\n",
       " 'websites',\n",
       " 'cyberthreats',\n",
       " 'cybersecurity',\n",
       " 'networksecurity',\n",
       " 'cyberdefence',\n",
       " 'security',\n",
       " 'cybersecurity',\n",
       " 'cybersecurity',\n",
       " 'cybersecurite',\n",
       " 'news',\n",
       " 'cybersecurity',\n",
       " 'infosec',\n",
       " 'ruzzia',\n",
       " 'orcs',\n",
       " 'warcrimes',\n",
       " 'tiktok',\n",
       " 'leaders',\n",
       " 'tiktok',\n",
       " 'tiktok',\n",
       " 'germany',\n",
       " 'france',\n",
       " 'minsk',\n",
       " 'prorussia',\n",
       " 'peaceplans',\n",
       " 'conflifctofinterest',\n",
       " 'china',\n",
       " 'russia',\n",
       " 'leaders',\n",
       " 'chinese',\n",
       " 'russian',\n",
       " 'autocracies',\n",
       " 'china',\n",
       " 'russia',\n",
       " 'leaders',\n",
       " 'chinese',\n",
       " 'russian',\n",
       " 'autocracies',\n",
       " 'exposecorruption',\n",
       " 'prorussia',\n",
       " 'france',\n",
       " 'gemany',\n",
       " 'ukraine',\n",
       " 'prorussia',\n",
       " 'minsk',\n",
       " 'putin',\n",
       " 'warineurope',\n",
       " 'ukraine',\n",
       " 'democracy',\n",
       " 'ukraine',\n",
       " 'capitulate',\n",
       " 'putin',\n",
       " 'france',\n",
       " 'germany',\n",
       " 'moscow',\n",
       " 'bashar_asad',\n",
       " 'prorussia',\n",
       " 'saudia',\n",
       " 'russia',\n",
       " '\\\\u\\\\u\\\\ue\\\\u\\\\u\\\\u\\\\u__\\\\ud\\\\ua\\\\u\\\\u\\\\ua__\\\\u\\\\u\\\\u\\\\u\\\\u\\\\u\\\\u',\n",
       " 'prorussia',\n",
       " 'pronorthkorea',\n",
       " 'whathappened',\n",
       " 'proputin',\n",
       " 'prorussia',\n",
       " 'proappeasement',\n",
       " 'prousa',\n",
       " 'bashar_asad',\n",
       " 'prorussia',\n",
       " 'saudia',\n",
       " 'russia',\n",
       " '\\\\u\\\\u\\\\ue\\\\u\\\\u\\\\u\\\\u__\\\\ud\\\\ua\\\\u\\\\u\\\\ua__\\\\u\\\\u\\\\u\\\\u\\\\u\\\\u\\\\u',\n",
       " 'prousa',\n",
       " 'bashar_asad',\n",
       " 'prorussia',\n",
       " 'saudia',\n",
       " 'russia',\n",
       " '\\\\u\\\\u\\\\ue\\\\u\\\\u\\\\u\\\\u__\\\\ud\\\\ua\\\\u\\\\u\\\\ua__\\\\u\\\\u\\\\u\\\\u\\\\u\\\\u\\\\u',\n",
       " 'prousa',\n",
       " 'bashar_asad',\n",
       " 'prorussia',\n",
       " 'saudia',\n",
       " 'russia',\n",
       " '\\\\u\\\\u\\\\ue\\\\u\\\\u\\\\u\\\\u__\\\\ud\\\\ua\\\\u\\\\u\\\\ua__\\\\u\\\\u\\\\u\\\\u\\\\u\\\\u\\\\u',\n",
       " 'prousa',\n",
       " 'bashar_asad',\n",
       " 'prorussia',\n",
       " 'saudia',\n",
       " 'russia',\n",
       " '\\\\u\\\\u\\\\ue\\\\u\\\\u\\\\u\\\\u__\\\\ud\\\\ua\\\\u\\\\u\\\\ua__\\\\u\\\\u\\\\u\\\\u\\\\u\\\\u\\\\u',\n",
       " 'prousa',\n",
       " 'bashar_asad',\n",
       " 'prorussia',\n",
       " 'saudia',\n",
       " 'russia',\n",
       " '\\\\u\\\\u\\\\ue\\\\u\\\\u\\\\u\\\\u__\\\\ud\\\\ua\\\\u\\\\u\\\\ua__\\\\u\\\\u\\\\u\\\\u\\\\u\\\\u\\\\u',\n",
       " 'prorussia',\n",
       " 'proeurope',\n",
       " 'prodemocracy',\n",
       " 'prorussia',\n",
       " 'beerhallputsch',\n",
       " 'putinwarcriminal',\n",
       " 'ukraine\\\\ufef',\n",
       " 'tiktok',\n",
       " 'imrankhan',\n",
       " 'propakistani',\n",
       " 'prorussia',\n",
       " 'prousa',\n",
       " 'prorussia',\n",
       " 'russian',\n",
       " 'prorussia',\n",
       " 'democracy',\n",
       " 'ukraine',\n",
       " 'proxywar',\n",
       " 'viktormedvedchuk',\n",
       " 'putin',\n",
       " 'prorussia',\n",
       " 'traitor',\n",
       " 'oligarch',\n",
       " 'ukraine',\n",
       " 'treason',\n",
       " 'presidentialelection',\n",
       " 'vladimirputin',\n",
       " 'medvedchuk',\n",
       " 'moscowmitch',\n",
       " 'mitchmcconnell',\n",
       " 'paulryan',\n",
       " 'trump',\n",
       " 'actnow',\n",
       " 'china',\n",
       " 'russia',\n",
       " 'ukraine',\n",
       " 'china',\n",
       " 'putinwarcriminal',\n",
       " 'heroesofukraine',\n",
       " 'warcrimes',\n",
       " 'stopputinswarnow',\n",
       " 'prorussia',\n",
       " 'proputin',\n",
       " 'tiktok',\n",
       " 'prorussia',\n",
       " 'traitor',\n",
       " 'prorussia',\n",
       " 'corrupt',\n",
       " 'proputin',\n",
       " 'prorussia',\n",
       " 'prodirtymoney',\n",
       " 'ukraine',\n",
       " 'tiktok',\n",
       " 'ricksantorum',\n",
       " 'prorussia',\n",
       " 'nooneworldgov',\n",
       " 'prorussia',\n",
       " 'antinuclear',\n",
       " 'prosoveriagn',\n",
       " 'kremlpropaganda',\n",
       " 'mediarisk',\n",
       " 'theguardian',\n",
       " 'pr_people',\n",
       " 'prorussia',\n",
       " 'tiktok',\n",
       " 'prorussia',\n",
       " 'antiukraine',\n",
       " 'randpaul',\n",
       " 'prorussia',\n",
       " 'bosnia',\n",
       " 'prorussia',\n",
       " 'moldova',\n",
       " 'conflict',\n",
       " 'explosions',\n",
       " 'prorussia',\n",
       " 'transnistria',\n",
       " 'wars',\n",
       " 'rumoursofwars',\n",
       " 'easteurope',\n",
       " 'prophecyinrealtime',\n",
       " 'signsofthetimes',\n",
       " 'matthew',\n",
       " 'loser',\n",
       " 'goputinparty',\n",
       " 'fullofschmitt',\n",
       " 'prorussia',\n",
       " 'proputin',\n",
       " 'insurrectionists',\n",
       " 'antivaxxer',\n",
       " 'antimasker',\n",
       " 'trumpist',\n",
       " 'prorussia',\n",
       " 'proputin',\n",
       " 'prorussia',\n",
       " 'putin',\n",
       " 'wipolitics',\n",
       " 'extremerightwing',\n",
       " 'proputin',\n",
       " 'prorussia',\n",
       " 'zerocred',\n",
       " 'wipolitics',\n",
       " 'prorussia',\n",
       " 'prorussia',\n",
       " 'mali',\n",
       " 'russianlovingdictatorwannabeliar',\n",
       " 'russianchinaasset',\n",
       " 'putinpuppet',\n",
       " 'prorussia',\n",
       " 'antiamerica',\n",
       " 'macron',\n",
       " 'lepen',\n",
       " 'russianwarcrimes',\n",
       " 'ukrainerussiawar',\n",
       " 'serbia',\n",
       " 'vucic',\n",
       " 'prorussia',\n",
       " 'ukraine',\n",
       " 'putinwarcriminal',\n",
       " 'putinsupport',\n",
       " 'proputin',\n",
       " 'russiainvadedukraine',\n",
       " 'weareallukraine',\n",
       " 'russiaembargo',\n",
       " 'russiainvadedukraine',\n",
       " 'weareallukraine',\n",
       " 'russiaembargo',\n",
       " 'bluein',\n",
       " 'iamwithbiden',\n",
       " 'partyofabelinclon',\n",
       " 'prorussia',\n",
       " 'fascismfrily',\n",
       " 'foxnewsairsinrussia',\n",
       " 'rumpfriswithputin',\n",
       " 'unamerican',\n",
       " 'thepercentersarefasciststoo',\n",
       " 'propagamda',\n",
       " 'ferment',\n",
       " 'frzymaszzputinem',\n",
       " 'prorussia',\n",
       " 'donbass',\n",
       " '\\\\u\\\\ue\\\\ud\\\\u\\\\u\\\\u\\\\u',\n",
       " 'donetsk',\n",
       " '\\\\u\\\\ue\\\\ud\\\\u\\\\u\\\\ua',\n",
       " 'lugansk',\n",
       " '\\\\ub\\\\u\\\\u\\\\u\\\\ud\\\\u\\\\ua',\n",
       " 'novorossia',\n",
       " '\\\\ud\\\\ue\\\\u\\\\ue\\\\u\\\\ue\\\\u\\\\u\\\\u\\\\uf',\n",
       " 'falseflag',\n",
       " 'ukrainiannazis',\n",
       " 'nileswilliamson',\n",
       " 'ukrainiangovt',\n",
       " 'fascistthugs',\n",
       " 'prorussia',\n",
       " 'ukraine',\n",
       " 'prorussia',\n",
       " 'prorussia',\n",
       " 'serbs',\n",
       " 'protest',\n",
       " 'belgrade',\n",
       " 'supportrussia',\n",
       " 'nato',\n",
       " 'putin',\n",
       " 'zelenskyy',\n",
       " 'putinwarcriminal',\n",
       " 'putinswarcrimes',\n",
       " 'ukraineunderattack',\n",
       " 'ukrainerussianwar',\n",
       " 'russiaukraine',\n",
       " 'russiaukrainewarupdate',\n",
       " 'sanctionsrussia',\n",
       " 'russiasanctions',\n",
       " 'prorussia',\n",
       " 'russianpropaganda',\n",
       " 'bloggers',\n",
       " 'contentcreators',\n",
       " 'prorussia',\n",
       " 'ukrainerussiawar',\n",
       " 'proukraine',\n",
       " 'istandwithputin',\n",
       " 'prorussia',\n",
       " 'russia',\n",
       " 'genocide',\n",
       " 'slavaukraini',\n",
       " 'labour',\n",
       " 'antisemitic',\n",
       " 'antiuk',\n",
       " 'shanghaicooperationorganisation',\n",
       " 'madness',\n",
       " 'serbia',\n",
       " 'prorussia',\n",
       " 'prorussia',\n",
       " 'prorussia',\n",
       " 'serbs',\n",
       " 'belgrade',\n",
       " 'russia',\n",
       " 'nato',\n",
       " 'russian',\n",
       " 'serbian',\n",
       " 'putin',\n",
       " 'european',\n",
       " 'neutral',\n",
       " 'serbia',\n",
       " 'ukraine',\n",
       " 'ukrainerape',\n",
       " 'prorussia',\n",
       " 'slavaukraini',\n",
       " 'proputin',\n",
       " 'vladimirputin',\n",
       " 'ukrain',\n",
       " 'ukrainwar',\n",
       " 'stopwar',\n",
       " 'bocha',\n",
       " 'russiaukrainewar',\n",
       " 'zelensky',\n",
       " 'bochamassacre',\n",
       " 'ralfstegner',\n",
       " 'putinsupporter',\n",
       " 'prorussia',\n",
       " 'troll',\n",
       " 'covidiot',\n",
       " 'prorussia',\n",
       " 'spam',\n",
       " 'nato',\n",
       " 'prorussia',\n",
       " 'serbia',\n",
       " 'ukraine\\\\ufef',\n",
       " 'russianarmy',\n",
       " 'hallitus',\n",
       " 'russiannavy',\n",
       " 'moskva',\n",
       " 'proukraine',\n",
       " 'prorussia',\n",
       " 'antiputin',\n",
       " 'germany',\n",
       " 'russian',\n",
       " 'russia',\n",
       " 'russians',\n",
       " 'prorussia',\n",
       " 'rally',\n",
       " 'prorussia',\n",
       " 'mariupol',\n",
       " 'geolocation',\n",
       " 'ukrainerussiawar',\n",
       " 'anonymous',\n",
       " 'finland',\n",
       " 'janusputkonen',\n",
       " 'johanbackman',\n",
       " 'prorussia',\n",
       " 'russia',\n",
       " 'tiktok',\n",
       " 'prorussia',\n",
       " 'prorussia',\n",
       " 'prorussia',\n",
       " 'mariuopol',\n",
       " 'kyiv',\n",
       " 'peacetalks',\n",
       " 'ukraine',\n",
       " 'disinformation',\n",
       " 'prorussia',\n",
       " 'ukrainerussianwar',\n",
       " 'ukraine',\n",
       " 'kharkhiv',\n",
       " 'russianarmy',\n",
       " 'prorussia',\n",
       " 'china',\n",
       " 'prorussia',\n",
       " 'sentiment',\n",
       " 'tiktok',\n",
       " 'republican',\n",
       " 'prorussia',\n",
       " 'prorussia',\n",
       " 'racism',\n",
       " 'antiamerica',\n",
       " 'prorussia',\n",
       " 'propaganda',\n",
       " 'seanhannity',\n",
       " 'maga',\n",
       " 'trigger',\n",
       " 'goputinparty',\n",
       " 'retrumplickers',\n",
       " 'prorussia',\n",
       " 'yesmaster',\n",
       " 'prorussia',\n",
       " 'goputinparty',\n",
       " 'retrumplicker',\n",
       " 'trailerparkbarbie',\n",
       " 'hsdropout',\n",
       " 'prorussia',\n",
       " 'germany',\n",
       " 'ukraine',\n",
       " 'nileswilliamson',\n",
       " 'ukrainiangovernment',\n",
       " 'fascistthugs',\n",
       " 'prorussia',\n",
       " 'civilians',\n",
       " 'donetsk',\n",
       " 'russia',\n",
       " 'prorussia',\n",
       " 'stopgenocide',\n",
       " 'prorussia',\n",
       " 'cyprus',\n",
       " 'prorussia',\n",
       " 'russian',\n",
       " 'ukrainerussianwar',\n",
       " 'pfizerdocuments',\n",
       " 'nato',\n",
       " 'russia',\n",
       " 'unvaccinated',\n",
       " 'prorussia',\n",
       " 'ukrainerussiawar',\n",
       " 'covid',\n",
       " 'rightsideofhistory',\n",
       " 'prorussia',\n",
       " 'antiamerica',\n",
       " 'antiamerica',\n",
       " 'prorussia',\n",
       " 'prorussia',\n",
       " 'antiusa',\n",
       " 'fuckputin',\n",
       " 'prorussia',\n",
       " 'breakingnews',\n",
       " 'russia',\n",
       " 'prorussia',\n",
       " 'yesplease',\n",
       " 'russianlies',\n",
       " 'propaganda',\n",
       " 'lavrov',\n",
       " 'peskov',\n",
       " 'putin',\n",
       " 'russiaout',\n",
       " 'ukraine\\\\ufef',\n",
       " 'ucraina',\n",
       " 'standwithukraine',\n",
       " 'tiktok',\n",
       " 'fullofschmitt',\n",
       " 'prorussia',\n",
       " 'prorussia',\n",
       " 'russiawarcrimes',\n",
       " 'prorussia',\n",
       " 'putinisawarcriminal',\n",
       " 'tiktok',\n",
       " 'prorussia',\n",
       " 'slavaukraini',\n",
       " 'proputin',\n",
       " 'vladimirputin',\n",
       " 'ukrain',\n",
       " 'ukrainwar',\n",
       " 'stopwar',\n",
       " 'bocha',\n",
       " 'russiaukrainewar',\n",
       " 'zelensky',\n",
       " 'bochamassacre',\n",
       " 'prorussia',\n",
       " 'slavaukraini',\n",
       " 'proputin',\n",
       " 'vladimirputin',\n",
       " 'ukrain',\n",
       " 'ukrainwar',\n",
       " 'stopwar',\n",
       " 'bocha',\n",
       " 'russiaukrainewar',\n",
       " 'isis',\n",
       " 'syria',\n",
       " 'prorussia',\n",
       " 'slavaukraini',\n",
       " 'proputin',\n",
       " 'vladimirputin',\n",
       " 'ukrain',\n",
       " 'ukrainwar',\n",
       " 'stopwar',\n",
       " 'bocha',\n",
       " 'russiaukrainewar',\n",
       " 'prorussia',\n",
       " 'slavaukraini',\n",
       " 'proputin',\n",
       " 'vladimirputin',\n",
       " 'ukrain',\n",
       " 'ukrainwar',\n",
       " 'stopwar',\n",
       " 'bocha',\n",
       " 'russiaukrainewar',\n",
       " 'prorussia',\n",
       " 'slavaukraini',\n",
       " 'proputin',\n",
       " 'vladimirputin',\n",
       " 'ukrain',\n",
       " 'ukrainwar',\n",
       " 'stopwar',\n",
       " 'bocha',\n",
       " 'abiytoicc',\n",
       " 'republican',\n",
       " 'fascism',\n",
       " 'nazism',\n",
       " 'rwnj',\n",
       " 'dumbassery',\n",
       " 'prorussia',\n",
       " 'proputin',\n",
       " 'antiamerican',\n",
       " 'prorussia',\n",
       " 'propedophile',\n",
       " 'prowhitesupremacy',\n",
       " 'liar',\n",
       " 'prorussia',\n",
       " 'traitor',\n",
       " 'bucha',\n",
       " '\\\\u\\\\u\\\\u\\\\u',\n",
       " '\\\\ud\\\\ufc\\\\uc\\\\uf',\n",
       " 'putinwarcriminal',\n",
       " '\\\\ua\\\\uaf\\\\ue\\\\ua\\\\uca\\\\uc\\\\ue',\n",
       " '\\\\ub\\\\ua\\\\uce\\\\ub\\\\ua\\\\uc',\n",
       " '\\\\ued\\\\ub\\\\ua',\n",
       " '\\\\ue\\\\ud\\\\ue\\\\ua',\n",
       " '\\\\ud\\\\uc\\\\ue\\\\u\\\\ubba',\n",
       " '\\\\ued\\\\ub\\\\ua\\\\ueba',\n",
       " '\\\\ud\\\\uc\\\\ue\\\\uff\\\\uc',\n",
       " '\\\\ubc\\\\uec\\\\uf\\\\ub\\\\uad\\\\ufc\\\\ucf',\n",
       " 'antiamerican',\n",
       " 'prorussia',\n",
       " 'domesticterrorist',\n",
       " 'qanoncult',\n",
       " 'cult',\n",
       " 'qanon',\n",
       " 'liar',\n",
       " 'brainwashed',\n",
       " 'prorussia',\n",
       " 'buchamassacre',\n",
       " 'hypocrisy',\n",
       " 'racist',\n",
       " 'bigots',\n",
       " 'whitesupremacy',\n",
       " 'pedofils',\n",
       " 'traitors',\n",
       " 'antiworker',\n",
       " 'bigbusiness',\n",
       " 'antichoice',\n",
       " 'antilgbtq',\n",
       " 'antiequalrights',\n",
       " 'anticonstitution',\n",
       " 'antichildandfamily',\n",
       " 'antieducation',\n",
       " 'prorussia',\n",
       " 'profacism',\n",
       " 'prorussia',\n",
       " 'motorcade',\n",
       " 'berlin',\n",
       " 'russians',\n",
       " 'germany',\n",
       " 'democracy',\n",
       " 'putin',\n",
       " 'ukraineinvasion',\n",
       " 'prorussia',\n",
       " 'antiamerican',\n",
       " 'buchamasacre',\n",
       " 'prorussia',\n",
       " 'conspiracynut',\n",
       " 'idiots',\n",
       " 'prorussia',\n",
       " 'conspiracynut',\n",
       " 'idiots',\n",
       " 'prorussia',\n",
       " 'idiots',\n",
       " 'conspiracynut',\n",
       " 'braindead',\n",
       " 'conspiracynut',\n",
       " 'idots',\n",
       " 'prorussia',\n",
       " 'prorussia',\n",
       " 'conspiracynut',\n",
       " 'idiots',\n",
       " 'autokorso',\n",
       " 'berlin',\n",
       " 'prorussia',\n",
       " 'putin',\n",
       " 'ukraine',\n",
       " 'prorussia',\n",
       " 'warinukraine',\n",
       " 'india',\n",
       " 'russia',\n",
       " 'ukraine\\\\ufef',\n",
       " 'europe',\n",
       " 'india',\n",
       " 'prorussia',\n",
       " 'india',\n",
       " 'antilowdrugprice',\n",
       " 'antiinfrstructurestre',\n",
       " 'bigot',\n",
       " 'antifreeelections',\n",
       " 'antiukraine',\n",
       " 'antielection',\n",
       " 'prorussia',\n",
       " 'julyfourthrussian',\n",
       " 'kickbackron',\n",
       " 'russia',\n",
       " 'russianarmy',\n",
       " 'prorussia',\n",
       " 'germany',\n",
       " 'stopputinnow',\n",
       " 'slavaukraini',\n",
       " 'prorussia',\n",
       " 'russiaukraineconflict',\n",
       " 'tiktok',\n",
       " 'tiktok',\n",
       " 'tiktok',\n",
       " 'defundbergman',\n",
       " 'tiktok',\n",
       " 'prorussia',\n",
       " 'tiktok',\n",
       " 'putin',\n",
       " 'prorussia',\n",
       " 'banthewordz',\n",
       " 'germany',\n",
       " 'russia',\n",
       " 'putin',\n",
       " 'russiaukraineconflict',\n",
       " 'allowaccesstotigray',\n",
       " 'actnow',\n",
       " 'thegreattranslationmovement',\n",
       " 'china',\n",
       " 'chinese',\n",
       " 'prorussia',\n",
       " 'twitch',\n",
       " 'twitchaffiliate',\n",
       " 'twitchstreamer',\n",
       " 'twitchtv',\n",
       " 'russia',\n",
       " 'prorussia',\n",
       " 'ukraine',\n",
       " 'antifascist',\n",
       " 'profreedom',\n",
       " 'expandyourmind',\n",
       " 'liberalhypocrisy',\n",
       " 'prorussia',\n",
       " 'ukraine',\n",
       " 'zelenskyy',\n",
       " 'prorussia',\n",
       " 'proputin',\n",
       " 'procommunism',\n",
       " 'proautocrat',\n",
       " 'prodictator',\n",
       " 'procoup',\n",
       " 'progoptraitors',\n",
       " 'prorussia',\n",
       " 'proputin',\n",
       " 'procommunism',\n",
       " 'proautocrat',\n",
       " 'prodictator',\n",
       " 'procoup',\n",
       " 'progoptraitors',\n",
       " 'endtigraysiege',\n",
       " 'supporthractnow',\n",
       " 'goppartyoftrump',\n",
       " 'prorussia',\n",
       " 'antiamerica',\n",
       " 'proamerica',\n",
       " 'protrump',\n",
       " 'prorussia',\n",
       " 'dictatorship',\n",
       " 'moscowmitch',\n",
       " 'prochina',\n",
       " 'prodprk',\n",
       " 'prorussia',\n",
       " 'antinato',\n",
       " 'wwiii',\n",
       " 'antiusa',\n",
       " 'cubalove',\n",
       " 'iranlove',\n",
       " 'newworldorder',\n",
       " 'wargames',\n",
       " 'globalconquest',\n",
       " 'utopia',\n",
       " 'intelligencerule',\n",
       " 'enddemocracy',\n",
       " 'worldcrimes',\n",
       " 'judgmentday',\n",
       " 'ukraine',\n",
       " 'ironcurtain',\n",
       " 'prorussia',\n",
       " 'tuckercarlson',\n",
       " 'donestk',\n",
       " 'donbass',\n",
       " 'prorussia',\n",
       " 'russia',\n",
       " 'russian',\n",
       " 'russianinvasion',\n",
       " 'ukrainerussia',\n",
       " 'kiev',\n",
       " 'ukraineunderattack',\n",
       " 'chechen',\n",
       " 'kherson',\n",
       " 'russia',\n",
       " 'russiaukraine',\n",
       " 'ukraineconflict',\n",
       " 'russianlosses',\n",
       " 'slav',\n",
       " 'slavic',\n",
       " 'kyiv',\n",
       " 'vucic',\n",
       " 'orban',\n",
       " 'dodik',\n",
       " 'covic',\n",
       " 'ukraine',\n",
       " 'vucic',\n",
       " 'orban',\n",
       " 'dodik',\n",
       " 'covic',\n",
       " 'ukraine',\n",
       " 'vucic',\n",
       " 'orban',\n",
       " 'dodik',\n",
       " 'covic',\n",
       " 'vucic',\n",
       " 'orban',\n",
       " 'dodik',\n",
       " 'covic',\n",
       " 'prorussia',\n",
       " 'prorussia',\n",
       " 'facists',\n",
       " 'canadian',\n",
       " 'russiainvasion',\n",
       " 'russianpropaganda',\n",
       " 'conspiracytheories',\n",
       " 'rightwing',\n",
       " 'prorussia',\n",
       " 'anna',\n",
       " 'prorussia',\n",
       " 'crimesagainsthumanity',\n",
       " 'syria',\n",
       " 'graffiti',\n",
       " 'ukrainewar',\n",
       " 'prorussia',\n",
       " 'prorussia',\n",
       " 'ukraine',\n",
       " 'ukraine',\n",
       " 'trump',\n",
       " 'impeached',\n",
       " 'ukraine',\n",
       " 'putin',\n",
       " 'nato',\n",
       " 'russia',\n",
       " 'belgrade',\n",
       " 'prorussia',\n",
       " 'yugoslavia',\n",
       " 'prorussia',\n",
       " 'prorussia',\n",
       " 'corruptgop',\n",
       " 'ukraine',\n",
       " 'russia',\n",
       " 'syria',\n",
       " 'syriarussia',\n",
       " 'istandwithrussia',\n",
       " 'istandwithputin',\n",
       " 'standwithrussia',\n",
       " 'standwithputin',\n",
       " 'syrians',\n",
       " 'prorussia',\n",
       " 'proputin',\n",
       " 'prorussia',\n",
       " 'expelmarjorietaylorgreene',\n",
       " 'mtgstandswithputin',\n",
       " 'mtgstandswithrussia',\n",
       " 'goptraitors',\n",
       " 'goptherussianpartyoftraitors',\n",
       " 'goprussianassets']"
      ]
     },
     "execution_count": 41,
     "metadata": {},
     "output_type": "execute_result"
    }
   ],
   "source": [
    "hashtag"
   ]
  },
  {
   "cell_type": "code",
   "execution_count": 42,
   "metadata": {},
   "outputs": [],
   "source": [
    "tag={}\n",
    "for e in hashtag:\n",
    "    tag[e]=hashtag.count(e)"
   ]
  },
  {
   "cell_type": "code",
   "execution_count": 43,
   "metadata": {},
   "outputs": [
    {
     "data": {
      "text/plain": [
       "{'ukraine': 24,\n",
       " 'ukrainerussiawar': 5,\n",
       " 'news': 2,\n",
       " 'putin': 13,\n",
       " 'russia': 28,\n",
       " 'azovstal': 1,\n",
       " 'duma': 1,\n",
       " 'prisoner': 1,\n",
       " 'terrorism': 1,\n",
       " 'nazism': 2,\n",
       " 'surrer': 1,\n",
       " 'socialmedia': 1,\n",
       " 'fake': 2,\n",
       " 'iceland': 1,\n",
       " 'italian': 2,\n",
       " 'hungary': 1,\n",
       " 'prorussia': 129,\n",
       " 'infosecuritymag': 1,\n",
       " 'stupidpeopledoesstupidthings': 1,\n",
       " 'stoprussianinsanity': 1,\n",
       " 'fckptn': 1,\n",
       " 'infosecmag': 1,\n",
       " 'resumodasemana': 1,\n",
       " 'eurovision': 1,\n",
       " 'cyberattacks': 1,\n",
       " 'eurovisionsongcontest': 1,\n",
       " 'hackers': 1,\n",
       " 'cybercriminals': 1,\n",
       " 'killnet': 1,\n",
       " 'legion': 1,\n",
       " 'eurovison': 1,\n",
       " 'ddos': 1,\n",
       " 'websites': 1,\n",
       " 'cyberthreats': 1,\n",
       " 'cybersecurity': 4,\n",
       " 'networksecurity': 1,\n",
       " 'cyberdefence': 1,\n",
       " 'security': 1,\n",
       " 'cybersecurite': 1,\n",
       " 'infosec': 1,\n",
       " 'ruzzia': 1,\n",
       " 'orcs': 1,\n",
       " 'warcrimes': 2,\n",
       " 'tiktok': 16,\n",
       " 'leaders': 3,\n",
       " 'germany': 7,\n",
       " 'france': 3,\n",
       " 'minsk': 2,\n",
       " 'peaceplans': 1,\n",
       " 'conflifctofinterest': 1,\n",
       " 'china': 6,\n",
       " 'chinese': 3,\n",
       " 'russian': 7,\n",
       " 'autocracies': 2,\n",
       " 'exposecorruption': 1,\n",
       " 'gemany': 1,\n",
       " 'warineurope': 1,\n",
       " 'democracy': 3,\n",
       " 'capitulate': 1,\n",
       " 'moscow': 1,\n",
       " 'bashar_asad': 6,\n",
       " 'saudia': 6,\n",
       " '\\\\u\\\\u\\\\ue\\\\u\\\\u\\\\u\\\\u__\\\\ud\\\\ua\\\\u\\\\u\\\\ua__\\\\u\\\\u\\\\u\\\\u\\\\u\\\\u\\\\u': 6,\n",
       " 'pronorthkorea': 1,\n",
       " 'whathappened': 1,\n",
       " 'proputin': 17,\n",
       " 'proappeasement': 1,\n",
       " 'prousa': 6,\n",
       " 'proeurope': 1,\n",
       " 'prodemocracy': 1,\n",
       " 'beerhallputsch': 1,\n",
       " 'putinwarcriminal': 5,\n",
       " 'ukraine\\\\ufef': 4,\n",
       " 'imrankhan': 1,\n",
       " 'propakistani': 1,\n",
       " 'proxywar': 1,\n",
       " 'viktormedvedchuk': 1,\n",
       " 'traitor': 3,\n",
       " 'oligarch': 1,\n",
       " 'treason': 1,\n",
       " 'presidentialelection': 1,\n",
       " 'vladimirputin': 7,\n",
       " 'medvedchuk': 1,\n",
       " 'moscowmitch': 2,\n",
       " 'mitchmcconnell': 1,\n",
       " 'paulryan': 1,\n",
       " 'trump': 2,\n",
       " 'actnow': 2,\n",
       " 'heroesofukraine': 1,\n",
       " 'stopputinswarnow': 1,\n",
       " 'corrupt': 1,\n",
       " 'prodirtymoney': 1,\n",
       " 'ricksantorum': 1,\n",
       " 'nooneworldgov': 1,\n",
       " 'antinuclear': 1,\n",
       " 'prosoveriagn': 1,\n",
       " 'kremlpropaganda': 1,\n",
       " 'mediarisk': 1,\n",
       " 'theguardian': 1,\n",
       " 'pr_people': 1,\n",
       " 'antiukraine': 2,\n",
       " 'randpaul': 1,\n",
       " 'bosnia': 1,\n",
       " 'moldova': 1,\n",
       " 'conflict': 1,\n",
       " 'explosions': 1,\n",
       " 'transnistria': 1,\n",
       " 'wars': 1,\n",
       " 'rumoursofwars': 1,\n",
       " 'easteurope': 1,\n",
       " 'prophecyinrealtime': 1,\n",
       " 'signsofthetimes': 1,\n",
       " 'matthew': 1,\n",
       " 'loser': 1,\n",
       " 'goputinparty': 3,\n",
       " 'fullofschmitt': 2,\n",
       " 'insurrectionists': 1,\n",
       " 'antivaxxer': 1,\n",
       " 'antimasker': 1,\n",
       " 'trumpist': 1,\n",
       " 'wipolitics': 2,\n",
       " 'extremerightwing': 1,\n",
       " 'zerocred': 1,\n",
       " 'mali': 1,\n",
       " 'russianlovingdictatorwannabeliar': 1,\n",
       " 'russianchinaasset': 1,\n",
       " 'putinpuppet': 1,\n",
       " 'antiamerica': 5,\n",
       " 'macron': 1,\n",
       " 'lepen': 1,\n",
       " 'russianwarcrimes': 1,\n",
       " 'serbia': 4,\n",
       " 'vucic': 5,\n",
       " 'putinsupport': 1,\n",
       " 'russiainvadedukraine': 2,\n",
       " 'weareallukraine': 2,\n",
       " 'russiaembargo': 2,\n",
       " 'bluein': 1,\n",
       " 'iamwithbiden': 1,\n",
       " 'partyofabelinclon': 1,\n",
       " 'fascismfrily': 1,\n",
       " 'foxnewsairsinrussia': 1,\n",
       " 'rumpfriswithputin': 1,\n",
       " 'unamerican': 1,\n",
       " 'thepercentersarefasciststoo': 1,\n",
       " 'propagamda': 1,\n",
       " 'ferment': 1,\n",
       " 'frzymaszzputinem': 1,\n",
       " 'donbass': 2,\n",
       " '\\\\u\\\\ue\\\\ud\\\\u\\\\u\\\\u\\\\u': 1,\n",
       " 'donetsk': 2,\n",
       " '\\\\u\\\\ue\\\\ud\\\\u\\\\u\\\\ua': 1,\n",
       " 'lugansk': 1,\n",
       " '\\\\ub\\\\u\\\\u\\\\u\\\\ud\\\\u\\\\ua': 1,\n",
       " 'novorossia': 1,\n",
       " '\\\\ud\\\\ue\\\\u\\\\ue\\\\u\\\\ue\\\\u\\\\u\\\\u\\\\uf': 1,\n",
       " 'falseflag': 1,\n",
       " 'ukrainiannazis': 1,\n",
       " 'nileswilliamson': 2,\n",
       " 'ukrainiangovt': 1,\n",
       " 'fascistthugs': 2,\n",
       " 'serbs': 2,\n",
       " 'protest': 1,\n",
       " 'belgrade': 3,\n",
       " 'supportrussia': 1,\n",
       " 'nato': 5,\n",
       " 'zelenskyy': 2,\n",
       " 'putinswarcrimes': 1,\n",
       " 'ukraineunderattack': 2,\n",
       " 'ukrainerussianwar': 3,\n",
       " 'russiaukraine': 2,\n",
       " 'russiaukrainewarupdate': 1,\n",
       " 'sanctionsrussia': 1,\n",
       " 'russiasanctions': 1,\n",
       " 'russianpropaganda': 2,\n",
       " 'bloggers': 1,\n",
       " 'contentcreators': 1,\n",
       " 'proukraine': 2,\n",
       " 'istandwithputin': 2,\n",
       " 'genocide': 1,\n",
       " 'slavaukraini': 8,\n",
       " 'labour': 1,\n",
       " 'antisemitic': 1,\n",
       " 'antiuk': 1,\n",
       " 'shanghaicooperationorganisation': 1,\n",
       " 'madness': 1,\n",
       " 'serbian': 1,\n",
       " 'european': 1,\n",
       " 'neutral': 1,\n",
       " 'ukrainerape': 1,\n",
       " 'ukrain': 6,\n",
       " 'ukrainwar': 6,\n",
       " 'stopwar': 6,\n",
       " 'bocha': 6,\n",
       " 'russiaukrainewar': 5,\n",
       " 'zelensky': 2,\n",
       " 'bochamassacre': 2,\n",
       " 'ralfstegner': 1,\n",
       " 'putinsupporter': 1,\n",
       " 'troll': 1,\n",
       " 'covidiot': 1,\n",
       " 'spam': 1,\n",
       " 'russianarmy': 3,\n",
       " 'hallitus': 1,\n",
       " 'russiannavy': 1,\n",
       " 'moskva': 1,\n",
       " 'antiputin': 1,\n",
       " 'russians': 2,\n",
       " 'rally': 1,\n",
       " 'mariupol': 1,\n",
       " 'geolocation': 1,\n",
       " 'anonymous': 1,\n",
       " 'finland': 1,\n",
       " 'janusputkonen': 1,\n",
       " 'johanbackman': 1,\n",
       " 'mariuopol': 1,\n",
       " 'kyiv': 2,\n",
       " 'peacetalks': 1,\n",
       " 'disinformation': 1,\n",
       " 'kharkhiv': 1,\n",
       " 'sentiment': 1,\n",
       " 'republican': 2,\n",
       " 'racism': 1,\n",
       " 'propaganda': 2,\n",
       " 'seanhannity': 1,\n",
       " 'maga': 1,\n",
       " 'trigger': 1,\n",
       " 'retrumplickers': 1,\n",
       " 'yesmaster': 1,\n",
       " 'retrumplicker': 1,\n",
       " 'trailerparkbarbie': 1,\n",
       " 'hsdropout': 1,\n",
       " 'ukrainiangovernment': 1,\n",
       " 'civilians': 1,\n",
       " 'stopgenocide': 1,\n",
       " 'cyprus': 1,\n",
       " 'pfizerdocuments': 1,\n",
       " 'unvaccinated': 1,\n",
       " 'covid': 1,\n",
       " 'rightsideofhistory': 1,\n",
       " 'antiusa': 2,\n",
       " 'fuckputin': 1,\n",
       " 'breakingnews': 1,\n",
       " 'yesplease': 1,\n",
       " 'russianlies': 1,\n",
       " 'lavrov': 1,\n",
       " 'peskov': 1,\n",
       " 'russiaout': 1,\n",
       " 'ucraina': 1,\n",
       " 'standwithukraine': 1,\n",
       " 'russiawarcrimes': 1,\n",
       " 'putinisawarcriminal': 1,\n",
       " 'isis': 1,\n",
       " 'syria': 3,\n",
       " 'abiytoicc': 1,\n",
       " 'fascism': 1,\n",
       " 'rwnj': 1,\n",
       " 'dumbassery': 1,\n",
       " 'antiamerican': 3,\n",
       " 'propedophile': 1,\n",
       " 'prowhitesupremacy': 1,\n",
       " 'liar': 2,\n",
       " 'bucha': 1,\n",
       " '\\\\u\\\\u\\\\u\\\\u': 1,\n",
       " '\\\\ud\\\\ufc\\\\uc\\\\uf': 1,\n",
       " '\\\\ua\\\\uaf\\\\ue\\\\ua\\\\uca\\\\uc\\\\ue': 1,\n",
       " '\\\\ub\\\\ua\\\\uce\\\\ub\\\\ua\\\\uc': 1,\n",
       " '\\\\ued\\\\ub\\\\ua': 1,\n",
       " '\\\\ue\\\\ud\\\\ue\\\\ua': 1,\n",
       " '\\\\ud\\\\uc\\\\ue\\\\u\\\\ubba': 1,\n",
       " '\\\\ued\\\\ub\\\\ua\\\\ueba': 1,\n",
       " '\\\\ud\\\\uc\\\\ue\\\\uff\\\\uc': 1,\n",
       " '\\\\ubc\\\\uec\\\\uf\\\\ub\\\\uad\\\\ufc\\\\ucf': 1,\n",
       " 'domesticterrorist': 1,\n",
       " 'qanoncult': 1,\n",
       " 'cult': 1,\n",
       " 'qanon': 1,\n",
       " 'brainwashed': 1,\n",
       " 'buchamassacre': 1,\n",
       " 'hypocrisy': 1,\n",
       " 'racist': 1,\n",
       " 'bigots': 1,\n",
       " 'whitesupremacy': 1,\n",
       " 'pedofils': 1,\n",
       " 'traitors': 1,\n",
       " 'antiworker': 1,\n",
       " 'bigbusiness': 1,\n",
       " 'antichoice': 1,\n",
       " 'antilgbtq': 1,\n",
       " 'antiequalrights': 1,\n",
       " 'anticonstitution': 1,\n",
       " 'antichildandfamily': 1,\n",
       " 'antieducation': 1,\n",
       " 'profacism': 1,\n",
       " 'motorcade': 1,\n",
       " 'berlin': 2,\n",
       " 'ukraineinvasion': 1,\n",
       " 'buchamasacre': 1,\n",
       " 'conspiracynut': 5,\n",
       " 'idiots': 4,\n",
       " 'braindead': 1,\n",
       " 'idots': 1,\n",
       " 'autokorso': 1,\n",
       " 'warinukraine': 1,\n",
       " 'india': 3,\n",
       " 'europe': 1,\n",
       " 'antilowdrugprice': 1,\n",
       " 'antiinfrstructurestre': 1,\n",
       " 'bigot': 1,\n",
       " 'antifreeelections': 1,\n",
       " 'antielection': 1,\n",
       " 'julyfourthrussian': 1,\n",
       " 'kickbackron': 1,\n",
       " 'stopputinnow': 1,\n",
       " 'russiaukraineconflict': 2,\n",
       " 'defundbergman': 1,\n",
       " 'banthewordz': 1,\n",
       " 'allowaccesstotigray': 1,\n",
       " 'thegreattranslationmovement': 1,\n",
       " 'twitch': 1,\n",
       " 'twitchaffiliate': 1,\n",
       " 'twitchstreamer': 1,\n",
       " 'twitchtv': 1,\n",
       " 'antifascist': 1,\n",
       " 'profreedom': 1,\n",
       " 'expandyourmind': 1,\n",
       " 'liberalhypocrisy': 1,\n",
       " 'procommunism': 2,\n",
       " 'proautocrat': 2,\n",
       " 'prodictator': 2,\n",
       " 'procoup': 2,\n",
       " 'progoptraitors': 2,\n",
       " 'endtigraysiege': 1,\n",
       " 'supporthractnow': 1,\n",
       " 'goppartyoftrump': 1,\n",
       " 'proamerica': 1,\n",
       " 'protrump': 1,\n",
       " 'dictatorship': 1,\n",
       " 'prochina': 1,\n",
       " 'prodprk': 1,\n",
       " 'antinato': 1,\n",
       " 'wwiii': 1,\n",
       " 'cubalove': 1,\n",
       " 'iranlove': 1,\n",
       " 'newworldorder': 1,\n",
       " 'wargames': 1,\n",
       " 'globalconquest': 1,\n",
       " 'utopia': 1,\n",
       " 'intelligencerule': 1,\n",
       " 'enddemocracy': 1,\n",
       " 'worldcrimes': 1,\n",
       " 'judgmentday': 1,\n",
       " 'ironcurtain': 1,\n",
       " 'tuckercarlson': 1,\n",
       " 'donestk': 1,\n",
       " 'russianinvasion': 1,\n",
       " 'ukrainerussia': 1,\n",
       " 'kiev': 1,\n",
       " 'chechen': 1,\n",
       " 'kherson': 1,\n",
       " 'ukraineconflict': 1,\n",
       " 'russianlosses': 1,\n",
       " 'slav': 1,\n",
       " 'slavic': 1,\n",
       " 'orban': 4,\n",
       " 'dodik': 4,\n",
       " 'covic': 4,\n",
       " 'facists': 1,\n",
       " 'canadian': 1,\n",
       " 'russiainvasion': 1,\n",
       " 'conspiracytheories': 1,\n",
       " 'rightwing': 1,\n",
       " 'anna': 1,\n",
       " 'crimesagainsthumanity': 1,\n",
       " 'graffiti': 1,\n",
       " 'ukrainewar': 1,\n",
       " 'impeached': 1,\n",
       " 'yugoslavia': 1,\n",
       " 'corruptgop': 1,\n",
       " 'syriarussia': 1,\n",
       " 'istandwithrussia': 1,\n",
       " 'standwithrussia': 1,\n",
       " 'standwithputin': 1,\n",
       " 'syrians': 1,\n",
       " 'expelmarjorietaylorgreene': 1,\n",
       " 'mtgstandswithputin': 1,\n",
       " 'mtgstandswithrussia': 1,\n",
       " 'goptraitors': 1,\n",
       " 'goptherussianpartyoftraitors': 1,\n",
       " 'goprussianassets': 1}"
      ]
     },
     "execution_count": 43,
     "metadata": {},
     "output_type": "execute_result"
    }
   ],
   "source": [
    "tag"
   ]
  },
  {
   "cell_type": "code",
   "execution_count": 44,
   "metadata": {},
   "outputs": [
    {
     "name": "stdout",
     "output_type": "stream",
     "text": [
      "{'prorussia': 129, 'russia': 28, 'ukraine': 24, 'proputin': 17, 'tiktok': 16, 'putin': 13, 'slavaukraini': 8, 'germany': 7, 'russian': 7, 'vladimirputin': 7, '\\\\u\\\\u\\\\ue\\\\u\\\\u\\\\u\\\\u__\\\\ud\\\\ua\\\\u\\\\u\\\\ua__\\\\u\\\\u\\\\u\\\\u\\\\u\\\\u\\\\u': 6, 'bashar_asad': 6, 'bocha': 6, 'china': 6, 'prousa': 6, 'saudia': 6, 'stopwar': 6, 'ukrain': 6, 'ukrainwar': 6, 'antiamerica': 5, 'conspiracynut': 5, 'nato': 5, 'putinwarcriminal': 5, 'russiaukrainewar': 5, 'ukrainerussiawar': 5, 'vucic': 5, 'covic': 4, 'cybersecurity': 4, 'dodik': 4, 'idiots': 4, 'orban': 4, 'serbia': 4, 'ukraine\\\\ufef': 4, 'antiamerican': 3, 'belgrade': 3, 'chinese': 3, 'democracy': 3, 'france': 3, 'goputinparty': 3, 'india': 3, 'leaders': 3, 'russianarmy': 3, 'syria': 3, 'traitor': 3, 'ukrainerussianwar': 3, 'actnow': 2, 'antiukraine': 2, 'antiusa': 2, 'autocracies': 2, 'berlin': 2, 'bochamassacre': 2, 'donbass': 2, 'donetsk': 2, 'fake': 2, 'fascistthugs': 2, 'fullofschmitt': 2, 'istandwithputin': 2, 'italian': 2, 'kyiv': 2, 'liar': 2, 'minsk': 2, 'moscowmitch': 2, 'nazism': 2, 'news': 2, 'nileswilliamson': 2, 'proautocrat': 2, 'procommunism': 2, 'procoup': 2, 'prodictator': 2, 'progoptraitors': 2, 'propaganda': 2, 'proukraine': 2, 'republican': 2, 'russiaembargo': 2, 'russiainvadedukraine': 2, 'russianpropaganda': 2, 'russians': 2, 'russiaukraine': 2, 'russiaukraineconflict': 2, 'serbs': 2, 'trump': 2, 'ukraineunderattack': 2, 'warcrimes': 2, 'weareallukraine': 2, 'wipolitics': 2, 'zelensky': 2, 'zelenskyy': 2, '\\\\u\\\\u\\\\u\\\\u': 1, '\\\\u\\\\ue\\\\ud\\\\u\\\\u\\\\u\\\\u': 1, '\\\\u\\\\ue\\\\ud\\\\u\\\\u\\\\ua': 1, '\\\\ua\\\\uaf\\\\ue\\\\ua\\\\uca\\\\uc\\\\ue': 1, '\\\\ub\\\\u\\\\u\\\\u\\\\ud\\\\u\\\\ua': 1, '\\\\ub\\\\ua\\\\uce\\\\ub\\\\ua\\\\uc': 1, '\\\\ubc\\\\uec\\\\uf\\\\ub\\\\uad\\\\ufc\\\\ucf': 1, '\\\\ud\\\\uc\\\\ue\\\\u\\\\ubba': 1, '\\\\ud\\\\uc\\\\ue\\\\uff\\\\uc': 1, '\\\\ud\\\\ue\\\\u\\\\ue\\\\u\\\\ue\\\\u\\\\u\\\\u\\\\uf': 1, '\\\\ud\\\\ufc\\\\uc\\\\uf': 1, '\\\\ue\\\\ud\\\\ue\\\\ua': 1, '\\\\ued\\\\ub\\\\ua': 1, '\\\\ued\\\\ub\\\\ua\\\\ueba': 1, 'abiytoicc': 1, 'allowaccesstotigray': 1, 'anna': 1, 'anonymous': 1, 'antichildandfamily': 1, 'antichoice': 1, 'anticonstitution': 1, 'antieducation': 1, 'antielection': 1, 'antiequalrights': 1, 'antifascist': 1, 'antifreeelections': 1, 'antiinfrstructurestre': 1, 'antilgbtq': 1, 'antilowdrugprice': 1, 'antimasker': 1, 'antinato': 1, 'antinuclear': 1, 'antiputin': 1, 'antisemitic': 1, 'antiuk': 1, 'antivaxxer': 1, 'antiworker': 1, 'autokorso': 1, 'azovstal': 1, 'banthewordz': 1, 'beerhallputsch': 1, 'bigbusiness': 1, 'bigot': 1, 'bigots': 1, 'bloggers': 1, 'bluein': 1, 'bosnia': 1, 'braindead': 1, 'brainwashed': 1, 'breakingnews': 1, 'bucha': 1, 'buchamasacre': 1, 'buchamassacre': 1, 'canadian': 1, 'capitulate': 1, 'chechen': 1, 'civilians': 1, 'conflict': 1, 'conflifctofinterest': 1, 'conspiracytheories': 1, 'contentcreators': 1, 'corrupt': 1, 'corruptgop': 1, 'covid': 1, 'covidiot': 1, 'crimesagainsthumanity': 1, 'cubalove': 1, 'cult': 1, 'cyberattacks': 1, 'cybercriminals': 1, 'cyberdefence': 1, 'cybersecurite': 1, 'cyberthreats': 1, 'cyprus': 1, 'ddos': 1, 'defundbergman': 1, 'dictatorship': 1, 'disinformation': 1, 'domesticterrorist': 1, 'donestk': 1, 'duma': 1, 'dumbassery': 1, 'easteurope': 1, 'enddemocracy': 1, 'endtigraysiege': 1, 'europe': 1, 'european': 1, 'eurovision': 1, 'eurovisionsongcontest': 1, 'eurovison': 1, 'expandyourmind': 1, 'expelmarjorietaylorgreene': 1, 'explosions': 1, 'exposecorruption': 1, 'extremerightwing': 1, 'facists': 1, 'falseflag': 1, 'fascism': 1, 'fascismfrily': 1, 'fckptn': 1, 'ferment': 1, 'finland': 1, 'foxnewsairsinrussia': 1, 'frzymaszzputinem': 1, 'fuckputin': 1, 'gemany': 1, 'genocide': 1, 'geolocation': 1, 'globalconquest': 1, 'goppartyoftrump': 1, 'goprussianassets': 1, 'goptherussianpartyoftraitors': 1, 'goptraitors': 1, 'graffiti': 1, 'hackers': 1, 'hallitus': 1, 'heroesofukraine': 1, 'hsdropout': 1, 'hungary': 1, 'hypocrisy': 1, 'iamwithbiden': 1, 'iceland': 1, 'idots': 1, 'impeached': 1, 'imrankhan': 1, 'infosec': 1, 'infosecmag': 1, 'infosecuritymag': 1, 'insurrectionists': 1, 'intelligencerule': 1, 'iranlove': 1, 'ironcurtain': 1, 'isis': 1, 'istandwithrussia': 1, 'janusputkonen': 1, 'johanbackman': 1, 'judgmentday': 1, 'julyfourthrussian': 1, 'kharkhiv': 1, 'kherson': 1, 'kickbackron': 1, 'kiev': 1, 'killnet': 1, 'kremlpropaganda': 1, 'labour': 1, 'lavrov': 1, 'legion': 1, 'lepen': 1, 'liberalhypocrisy': 1, 'loser': 1, 'lugansk': 1, 'macron': 1, 'madness': 1, 'maga': 1, 'mali': 1, 'mariuopol': 1, 'mariupol': 1, 'matthew': 1, 'mediarisk': 1, 'medvedchuk': 1, 'mitchmcconnell': 1, 'moldova': 1, 'moscow': 1, 'moskva': 1, 'motorcade': 1, 'mtgstandswithputin': 1, 'mtgstandswithrussia': 1, 'networksecurity': 1, 'neutral': 1, 'newworldorder': 1, 'nooneworldgov': 1, 'novorossia': 1, 'oligarch': 1, 'orcs': 1, 'partyofabelinclon': 1, 'paulryan': 1, 'peaceplans': 1, 'peacetalks': 1, 'pedofils': 1, 'peskov': 1, 'pfizerdocuments': 1, 'pr_people': 1, 'presidentialelection': 1, 'prisoner': 1, 'proamerica': 1, 'proappeasement': 1, 'prochina': 1, 'prodemocracy': 1, 'prodirtymoney': 1, 'prodprk': 1, 'proeurope': 1, 'profacism': 1, 'profreedom': 1, 'pronorthkorea': 1, 'propagamda': 1, 'propakistani': 1, 'propedophile': 1, 'prophecyinrealtime': 1, 'prosoveriagn': 1, 'protest': 1, 'protrump': 1, 'prowhitesupremacy': 1, 'proxywar': 1, 'putinisawarcriminal': 1, 'putinpuppet': 1, 'putinsupport': 1, 'putinsupporter': 1, 'putinswarcrimes': 1, 'qanon': 1, 'qanoncult': 1, 'racism': 1, 'racist': 1, 'ralfstegner': 1, 'rally': 1, 'randpaul': 1, 'resumodasemana': 1, 'retrumplicker': 1, 'retrumplickers': 1, 'ricksantorum': 1, 'rightsideofhistory': 1, 'rightwing': 1, 'rumoursofwars': 1, 'rumpfriswithputin': 1, 'russiainvasion': 1, 'russianchinaasset': 1, 'russianinvasion': 1, 'russianlies': 1, 'russianlosses': 1, 'russianlovingdictatorwannabeliar': 1, 'russiannavy': 1, 'russianwarcrimes': 1, 'russiaout': 1, 'russiasanctions': 1, 'russiaukrainewarupdate': 1, 'russiawarcrimes': 1, 'ruzzia': 1, 'rwnj': 1, 'sanctionsrussia': 1, 'seanhannity': 1, 'security': 1, 'sentiment': 1, 'serbian': 1, 'shanghaicooperationorganisation': 1, 'signsofthetimes': 1, 'slav': 1, 'slavic': 1, 'socialmedia': 1, 'spam': 1, 'standwithputin': 1, 'standwithrussia': 1, 'standwithukraine': 1, 'stopgenocide': 1, 'stopputinnow': 1, 'stopputinswarnow': 1, 'stoprussianinsanity': 1, 'stupidpeopledoesstupidthings': 1, 'supporthractnow': 1, 'supportrussia': 1, 'surrer': 1, 'syrians': 1, 'syriarussia': 1, 'terrorism': 1, 'thegreattranslationmovement': 1, 'theguardian': 1, 'thepercentersarefasciststoo': 1, 'trailerparkbarbie': 1, 'traitors': 1, 'transnistria': 1, 'treason': 1, 'trigger': 1, 'troll': 1, 'trumpist': 1, 'tuckercarlson': 1, 'twitch': 1, 'twitchaffiliate': 1, 'twitchstreamer': 1, 'twitchtv': 1, 'ucraina': 1, 'ukraineconflict': 1, 'ukraineinvasion': 1, 'ukrainerape': 1, 'ukrainerussia': 1, 'ukrainewar': 1, 'ukrainiangovernment': 1, 'ukrainiangovt': 1, 'ukrainiannazis': 1, 'unamerican': 1, 'unvaccinated': 1, 'utopia': 1, 'viktormedvedchuk': 1, 'wargames': 1, 'warineurope': 1, 'warinukraine': 1, 'wars': 1, 'websites': 1, 'whathappened': 1, 'whitesupremacy': 1, 'worldcrimes': 1, 'wwiii': 1, 'yesmaster': 1, 'yesplease': 1, 'yugoslavia': 1, 'zerocred': 1}\n"
     ]
    }
   ],
   "source": [
    "tag_list=sorted((value, key) for (key,value) in tag.items())\n",
    "tag_list=sorted(tag_list,key=lambda x:x[0],reverse=True)\n",
    "tag_sorted=dict([(k,v) for v,k in tag_list ])\n",
    "print(tag_sorted)"
   ]
  },
  {
   "cell_type": "markdown",
   "metadata": {},
   "source": [
    "## ProRussia"
   ]
  },
  {
   "cell_type": "code",
   "execution_count": 5,
   "metadata": {},
   "outputs": [],
   "source": [
    "import twarc"
   ]
  },
  {
   "cell_type": "code",
   "execution_count": 6,
   "metadata": {},
   "outputs": [
    {
     "ename": "AttributeError",
     "evalue": "module 'twarc' has no attribute 'geo'",
     "output_type": "error",
     "traceback": [
      "\u001b[1;31m---------------------------------------------------------------------------\u001b[0m",
      "\u001b[1;31mAttributeError\u001b[0m                            Traceback (most recent call last)",
      "\u001b[1;32m<ipython-input-6-81f592dce55f>\u001b[0m in \u001b[0;36m<module>\u001b[1;34m\u001b[0m\n\u001b[1;32m----> 1\u001b[1;33m \u001b[0mtwarc\u001b[0m\u001b[1;33m.\u001b[0m\u001b[0mgeo\u001b[0m\u001b[1;33m(\u001b[0m\u001b[0mlat\u001b[0m\u001b[1;33m=\u001b[0m\u001b[1;36m55451332\u001b[0m\u001b[1;33m,\u001b[0m \u001b[0mlon\u001b[0m\u001b[1;33m=\u001b[0m\u001b[1;36m37369336\u001b[0m\u001b[1;33m)\u001b[0m\u001b[1;33m\u001b[0m\u001b[1;33m\u001b[0m\u001b[0m\n\u001b[0m",
      "\u001b[1;31mAttributeError\u001b[0m: module 'twarc' has no attribute 'geo'"
     ]
    }
   ],
   "source": [
    "twarc.geo(lat=55451332, lon=37369336)"
   ]
  },
  {
   "cell_type": "code",
   "execution_count": 5,
   "metadata": {},
   "outputs": [
    {
     "data": {
      "application/vnd.jupyter.widget-view+json": {
       "model_id": "2940201d24f44bd9a448f980ad1c7607",
       "version_major": 2,
       "version_minor": 0
      },
      "text/plain": [
       "Output()"
      ]
     },
     "metadata": {},
     "output_type": "display_data"
    },
    {
     "name": "stdout",
     "output_type": "stream",
     "text": [
      "Reading secret from C:\\Users\\david\\Documents\\GitHub\\ds-network-analysis\\data\\my_secrets.yaml…\n"
     ]
    },
    {
     "data": {
      "text/html": [
       "<pre style=\"white-space:pre;overflow-x:auto;line-height:normal;font-family:Menlo,'DejaVu Sans Mono',consolas,'Courier New',monospace\"></pre>\n"
      ],
      "text/plain": []
     },
     "metadata": {},
     "output_type": "display_data"
    },
    {
     "data": {
      "text/html": [
       "<pre style=\"white-space:pre;overflow-x:auto;line-height:normal;font-family:Menlo,'DejaVu Sans Mono',consolas,'Courier New',monospace\">\n",
       "</pre>\n"
      ],
      "text/plain": [
       "\n"
      ]
     },
     "metadata": {},
     "output_type": "display_data"
    }
   ],
   "source": [
    "m = SocialETL(query=\"(#war OR #putin) lang:en\", place=(55451332,37369336), pages=3, recent=False) #-is:retweet "
   ]
  },
  {
   "cell_type": "code",
   "execution_count": 11,
   "metadata": {},
   "outputs": [
    {
     "data": {
      "text/plain": [
       "0      [{\"start\": 76, \"end\": 83, \"tag\": \"Energy\"}, {\"...\n",
       "1      [{\"start\": 97, \"end\": 102, \"tag\": \"NATO\"}, {\"s...\n",
       "2      [{\"start\": 0, \"end\": 6, \"tag\": \"putin\"}, {\"sta...\n",
       "3      [{\"start\": 66, \"end\": 74, \"tag\": \"Ukraine\"}, {...\n",
       "4      [{\"start\": 0, \"end\": 8, \"tag\": \"Ukraine\"}, {\"s...\n",
       "                             ...                        \n",
       "295    [{\"start\": 0, \"end\": 8, \"tag\": \"Ukraine\"}, {\"s...\n",
       "296           [{\"start\": 182, \"end\": 186, \"tag\": \"war\"}]\n",
       "297    [{\"start\": 0, \"end\": 6, \"tag\": \"Putin\"}, {\"sta...\n",
       "298    [{\"start\": 0, \"end\": 10, \"tag\": \"Exclusive\"}, ...\n",
       "299    [{\"start\": 42, \"end\": 45, \"tag\": \"sw\"}, {\"star...\n",
       "Name: entities.hashtags, Length: 300, dtype: object"
      ]
     },
     "execution_count": 11,
     "metadata": {},
     "output_type": "execute_result"
    }
   ],
   "source": [
    "df_pro=m.df['entities.hashtags']\n",
    "df_pro"
   ]
  },
  {
   "cell_type": "code",
   "execution_count": 16,
   "metadata": {},
   "outputs": [],
   "source": [
    "df_pro=df_pro.fillna(\"0\")"
   ]
  },
  {
   "cell_type": "code",
   "execution_count": 19,
   "metadata": {},
   "outputs": [],
   "source": [
    "repl=[\"1\",\"2\",\"3\",\"4\",\"5\",\"6\",\"7\",\"8\",\"9\",\"0\",\"start\",\"end\", \"tag\",\"[\",\"{\",\"}\",\"]\", \":\",\",\",\"\\\"\"]\n",
    "for e in repl:\n",
    "    df_pro=df_pro.replace(e,\"\")"
   ]
  },
  {
   "cell_type": "code",
   "execution_count": 20,
   "metadata": {},
   "outputs": [],
   "source": [
    "df_pro=df_pro.apply(str).map(str.lower)"
   ]
  },
  {
   "cell_type": "code",
   "execution_count": 21,
   "metadata": {},
   "outputs": [],
   "source": [
    "df_pro=df_pro.apply(str).map(str.strip)"
   ]
  },
  {
   "cell_type": "code",
   "execution_count": 22,
   "metadata": {},
   "outputs": [],
   "source": [
    "df_pro=df_pro.apply(str).map(str.split)"
   ]
  },
  {
   "cell_type": "code",
   "execution_count": 23,
   "metadata": {},
   "outputs": [],
   "source": [
    "hashtag=list()\n",
    "size=len(df_pro)\n",
    "for i in range(0,size):\n",
    "    for e in df_pro[i]:\n",
    "        if len(e)>=4:\n",
    "            hashtag.append(e)"
   ]
  },
  {
   "cell_type": "code",
   "execution_count": 24,
   "metadata": {},
   "outputs": [],
   "source": [
    "tag={}\n",
    "for e in hashtag:\n",
    "    tag[e]=hashtag.count(e)"
   ]
  },
  {
   "cell_type": "code",
   "execution_count": 25,
   "metadata": {},
   "outputs": [
    {
     "name": "stdout",
     "output_type": "stream",
     "text": [
      "{}\n"
     ]
    }
   ],
   "source": [
    "print(tag)"
   ]
  },
  {
   "cell_type": "code",
   "execution_count": null,
   "metadata": {},
   "outputs": [],
   "source": []
  }
 ],
 "metadata": {
  "colab": {
   "collapsed_sections": [],
   "name": "starting.ipynb",
   "provenance": []
  },
  "kernelspec": {
   "display_name": "Python 3",
   "language": "python",
   "name": "python3"
  },
  "language_info": {
   "codemirror_mode": {
    "name": "ipython",
    "version": 3
   },
   "file_extension": ".py",
   "mimetype": "text/x-python",
   "name": "python",
   "nbconvert_exporter": "python",
   "pygments_lexer": "ipython3",
   "version": "3.8.5"
  }
 },
 "nbformat": 4,
 "nbformat_minor": 1
}
