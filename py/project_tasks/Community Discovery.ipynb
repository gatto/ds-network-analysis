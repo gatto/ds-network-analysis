{
 "cells": [
  {
   "cell_type": "markdown",
   "id": "fixed-maple",
   "metadata": {},
   "source": [
    "### Import libraries "
   ]
  },
  {
   "cell_type": "code",
   "execution_count": 146,
   "id": "republican-electron",
   "metadata": {
    "scrolled": false
   },
   "outputs": [],
   "source": [
    "#per creare rete\n",
    "import pandas as pd\n",
    "from rich import print\n",
    "import networkx as nx\n",
    "import networkx.algorithms as nx\n",
    "import pandas as pd\n",
    "import matplotlib.pyplot as plt\n",
    "from networkx.utils import np_random_state\n",
    "\n",
    "#per la task\n",
    "import networkx as nx\n",
    "import cdlib\n",
    "from cdlib import evaluation\n",
    "from cdlib import algorithms\n",
    "from cdlib import viz\n",
    "from cdlib import NodeClustering\n",
    "from networkx.generators.community import LFR_benchmark_graph\n",
    "\n",
    "#altre\n",
    "import seaborn as sns\n",
    "import numpy as np\n",
    "import math\n",
    "import warnings\n",
    "from collections import Counter\n",
    "import numpy as np\n",
    "warnings.filterwarnings('ignore')"
   ]
  },
  {
   "cell_type": "code",
   "execution_count": 147,
   "id": "a7e3afa7",
   "metadata": {},
   "outputs": [
    {
     "data": {
      "text/html": [
       "<div>\n",
       "<style scoped>\n",
       "    .dataframe tbody tr th:only-of-type {\n",
       "        vertical-align: middle;\n",
       "    }\n",
       "\n",
       "    .dataframe tbody tr th {\n",
       "        vertical-align: top;\n",
       "    }\n",
       "\n",
       "    .dataframe thead th {\n",
       "        text-align: right;\n",
       "    }\n",
       "</style>\n",
       "<table border=\"1\" class=\"dataframe\">\n",
       "  <thead>\n",
       "    <tr style=\"text-align: right;\">\n",
       "      <th></th>\n",
       "      <th>tweet_id</th>\n",
       "      <th>retweet_id</th>\n",
       "      <th>hashtag</th>\n",
       "      <th>location</th>\n",
       "      <th>verified</th>\n",
       "      <th>cat</th>\n",
       "    </tr>\n",
       "    <tr>\n",
       "      <th>user_id</th>\n",
       "      <th></th>\n",
       "      <th></th>\n",
       "      <th></th>\n",
       "      <th></th>\n",
       "      <th></th>\n",
       "      <th></th>\n",
       "    </tr>\n",
       "  </thead>\n",
       "  <tbody>\n",
       "    <tr>\n",
       "      <th>290883</th>\n",
       "      <td>1502663077191426051</td>\n",
       "      <td>2956836471</td>\n",
       "      <td>{'johnsonout47', 'nhsbadbill', 'slavaukraini'}</td>\n",
       "      <td>European Union</td>\n",
       "      <td>False</td>\n",
       "      <td>pax</td>\n",
       "    </tr>\n",
       "    <tr>\n",
       "      <th>298073</th>\n",
       "      <td>1503178785746685954</td>\n",
       "      <td>889765401822973952</td>\n",
       "      <td>{'slavaukraini'}</td>\n",
       "      <td>no loc</td>\n",
       "      <td>False</td>\n",
       "      <td>proukr</td>\n",
       "    </tr>\n",
       "    <tr>\n",
       "      <th>611093</th>\n",
       "      <td>1501988978345627654</td>\n",
       "      <td>56698771</td>\n",
       "      <td>{'ukraine', 'standwithukraine', 'odesa', 'slav...</td>\n",
       "      <td>istanbul</td>\n",
       "      <td>False</td>\n",
       "      <td>pax</td>\n",
       "    </tr>\n",
       "    <tr>\n",
       "      <th>699793</th>\n",
       "      <td>1502982769219371008</td>\n",
       "      <td>154830217</td>\n",
       "      <td>{'slavaukraini', 'ukrainerussiawar'}</td>\n",
       "      <td>Pale Blue Dot/127.0.0.1</td>\n",
       "      <td>False</td>\n",
       "      <td>pax</td>\n",
       "    </tr>\n",
       "    <tr>\n",
       "      <th>756049</th>\n",
       "      <td>1502704662138568705</td>\n",
       "      <td>1255561430</td>\n",
       "      <td>{'slavaukraini', 'ukraine'}</td>\n",
       "      <td>France</td>\n",
       "      <td>False</td>\n",
       "      <td>proukr</td>\n",
       "    </tr>\n",
       "  </tbody>\n",
       "</table>\n",
       "</div>"
      ],
      "text/plain": [
       "                    tweet_id          retweet_id  \\\n",
       "user_id                                            \n",
       "290883   1502663077191426051          2956836471   \n",
       "298073   1503178785746685954  889765401822973952   \n",
       "611093   1501988978345627654            56698771   \n",
       "699793   1502982769219371008           154830217   \n",
       "756049   1502704662138568705          1255561430   \n",
       "\n",
       "                                                   hashtag  \\\n",
       "user_id                                                      \n",
       "290883      {'johnsonout47', 'nhsbadbill', 'slavaukraini'}   \n",
       "298073                                    {'slavaukraini'}   \n",
       "611093   {'ukraine', 'standwithukraine', 'odesa', 'slav...   \n",
       "699793                {'slavaukraini', 'ukrainerussiawar'}   \n",
       "756049                         {'slavaukraini', 'ukraine'}   \n",
       "\n",
       "                        location  verified     cat  \n",
       "user_id                                             \n",
       "290883            European Union     False     pax  \n",
       "298073                    no loc     False  proukr  \n",
       "611093                  istanbul     False     pax  \n",
       "699793   Pale Blue Dot/127.0.0.1     False     pax  \n",
       "756049                    France     False  proukr  "
      ]
     },
     "execution_count": 147,
     "metadata": {},
     "output_type": "execute_result"
    }
   ],
   "source": [
    "G=nx.read_gexf('final_net.gexf', node_type=int)\n",
    "df_nodes=pd.read_csv('df_final.csv')\n",
    "df_nodes['user_id']=df_nodes['user_id'].map(int)\n",
    "df_nodes=df_nodes.set_index('user_id')\n",
    "df_nodes['location']=df_nodes['location'].fillna('no loc')\n",
    "df_nodes.head()"
   ]
  },
  {
   "cell_type": "raw",
   "id": "e95f3ecc",
   "metadata": {},
   "source": [
    "from geopy.geocoders import Nominatim\n",
    "def loc(place):\n",
    "    geolocator = Nominatim(user_agent=\"specify\")\n",
    "    #if place != 'no loc':\n",
    "    location = geolocator.geocode(place) \n",
    "    return location\n",
    "#loc('maracalagonis')\n",
    "df_nodes['location']=df_nodes['location'].map(loc)"
   ]
  },
  {
   "cell_type": "code",
   "execution_count": 148,
   "id": "d8b032b0",
   "metadata": {},
   "outputs": [],
   "source": [
    "def divide_geo(geo):\n",
    "    if ',' in geo:\n",
    "        loc=geo.split(',')\n",
    "        return loc[len(loc)-1]\n",
    "    else:\n",
    "        return geo\n",
    "df_nodes['location']=df_nodes['location'].map(divide_geo)"
   ]
  },
  {
   "cell_type": "code",
   "execution_count": 149,
   "id": "d49397c5",
   "metadata": {},
   "outputs": [
    {
     "data": {
      "text/plain": [
       "no loc                         12549\n",
       " USA                             965\n",
       " England                         739\n",
       " CA                              249\n",
       "United States                    215\n",
       "                               ...  \n",
       " Ukraine 🌻                         1\n",
       " Castilla y León                   1\n",
       "europe | germany | bavaria         1\n",
       "nearly a driver                    1\n",
       "Occupied America                   1\n",
       "Name: location, Length: 8080, dtype: int64"
      ]
     },
     "execution_count": 149,
     "metadata": {},
     "output_type": "execute_result"
    }
   ],
   "source": [
    "df_nodes['location'].value_counts()"
   ]
  },
  {
   "cell_type": "code",
   "execution_count": 7,
   "id": "wicked-christmas",
   "metadata": {},
   "outputs": [
    {
     "data": {
      "text/plain": [
       "11968"
      ]
     },
     "execution_count": 7,
     "metadata": {},
     "output_type": "execute_result"
    }
   ],
   "source": [
    "G.number_of_edges()"
   ]
  },
  {
   "cell_type": "code",
   "execution_count": 9,
   "id": "macro-africa",
   "metadata": {},
   "outputs": [
    {
     "data": {
      "text/plain": [
       "10184"
      ]
     },
     "execution_count": 9,
     "metadata": {},
     "output_type": "execute_result"
    }
   ],
   "source": [
    "G.number_of_nodes()"
   ]
  },
  {
   "cell_type": "markdown",
   "id": "israeli-secretary",
   "metadata": {},
   "source": [
    "# Community discovery algorithms"
   ]
  },
  {
   "cell_type": "markdown",
   "id": "weighted-glossary",
   "metadata": {},
   "source": [
    "# Label Propagation"
   ]
  },
  {
   "cell_type": "code",
   "execution_count": 10,
   "id": "virtual-circumstances",
   "metadata": {},
   "outputs": [
    {
     "data": {
      "text/plain": [
       "'Label Propagation'"
      ]
     },
     "execution_count": 10,
     "metadata": {},
     "output_type": "execute_result"
    }
   ],
   "source": [
    "label_prop = algorithms.label_propagation(G)\n",
    "label_prop.method_name"
   ]
  },
  {
   "cell_type": "code",
   "execution_count": 12,
   "id": "usual-arbitration",
   "metadata": {},
   "outputs": [
    {
     "data": {
      "text/plain": [
       "[{0: ({'pax': 393}, {'proukr': 1346}, {'nocare': 123}, {'prorus': 73})},\n",
       " {1: ({'pax': 357}, {'proukr': 1010}, {'nocare': 107}, {'prorus': 64})},\n",
       " {2: ({'pax': 101}, {'proukr': 380}, {'nocare': 37}, {'prorus': 24})},\n",
       " {3: ({'pax': 118}, {'proukr': 354}, {'nocare': 24}, {'prorus': 14})},\n",
       " {4: ({'pax': 76}, {'proukr': 242}, {'nocare': 29}, {'prorus': 14})},\n",
       " {5: ({'pax': 69}, {'proukr': 210}, {'nocare': 21}, {'prorus': 8})},\n",
       " {6: ({'pax': 45}, {'proukr': 157}, {'nocare': 19}, {'prorus': 4})},\n",
       " {7: ({'pax': 26}, {'proukr': 90}, {'nocare': 12}, {'prorus': 8})},\n",
       " {8: ({'pax': 23}, {'proukr': 96}, {'nocare': 5}, {'prorus': 11})},\n",
       " {9: ({'pax': 24}, {'proukr': 77}, {'nocare': 7}, {'prorus': 6})},\n",
       " {10: ({'pax': 20}, {'proukr': 78}, {'nocare': 5}, {'prorus': 8})},\n",
       " {11: ({'pax': 27}, {'proukr': 75}, {'nocare': 5}, {'prorus': 4})},\n",
       " {12: ({'pax': 28}, {'proukr': 60}, {'nocare': 11}, {'prorus': 1})},\n",
       " {13: ({'pax': 29}, {'proukr': 54}, {'nocare': 5}, {'prorus': 6})},\n",
       " {14: ({'pax': 21}, {'proukr': 64}, {'nocare': 5}, {'prorus': 3})},\n",
       " {15: ({'pax': 21}, {'proukr': 51}, {'nocare': 5}, {'prorus': 5})},\n",
       " {16: ({'pax': 22}, {'proukr': 45}, {'nocare': 7}, {'prorus': 5})},\n",
       " {17: ({'pax': 17}, {'proukr': 55}, {'nocare': 2}, {'prorus': 4})},\n",
       " {18: ({'pax': 12}, {'proukr': 51}, {'nocare': 7}, {'prorus': 4})},\n",
       " {19: ({'pax': 17}, {'proukr': 46}, {'nocare': 5}, {'prorus': 1})},\n",
       " {20: ({'pax': 13}, {'proukr': 45}, {'nocare': 7}, {'prorus': 2})},\n",
       " {21: ({'pax': 14}, {'proukr': 39}, {'nocare': 8}, {'prorus': 5})},\n",
       " {22: ({'pax': 15}, {'proukr': 41}, {'nocare': 5}, {'prorus': 3})},\n",
       " {23: ({'pax': 8}, {'proukr': 46}, {'nocare': 6}, {'prorus': 3})},\n",
       " {24: ({'pax': 14}, {'proukr': 41}, {'nocare': 2}, {'prorus': 3})},\n",
       " {25: ({'pax': 11}, {'proukr': 38}, {'nocare': 4}, {'prorus': 5})},\n",
       " {26: ({'pax': 10}, {'proukr': 40}, {'nocare': 4}, {'prorus': 2})},\n",
       " {27: ({'pax': 8}, {'proukr': 39}, {'nocare': 2}, {'prorus': 1})},\n",
       " {28: ({'pax': 8}, {'proukr': 29}, {'nocare': 7}, {'prorus': 4})},\n",
       " {29: ({'pax': 8}, {'proukr': 34}, {'nocare': 0}, {'prorus': 2})},\n",
       " {30: ({'pax': 7}, {'proukr': 34}, {'nocare': 2}, {'prorus': 1})},\n",
       " {31: ({'pax': 10}, {'proukr': 28}, {'nocare': 4}, {'prorus': 0})},\n",
       " {32: ({'pax': 9}, {'proukr': 28}, {'nocare': 1}, {'prorus': 4})},\n",
       " {33: ({'pax': 9}, {'proukr': 28}, {'nocare': 1}, {'prorus': 4})},\n",
       " {34: ({'pax': 8}, {'proukr': 32}, {'nocare': 2}, {'prorus': 0})},\n",
       " {35: ({'pax': 3}, {'proukr': 32}, {'nocare': 5}, {'prorus': 2})},\n",
       " {36: ({'pax': 9}, {'proukr': 26}, {'nocare': 2}, {'prorus': 2})},\n",
       " {37: ({'pax': 9}, {'proukr': 22}, {'nocare': 6}, {'prorus': 2})},\n",
       " {38: ({'pax': 12}, {'proukr': 22}, {'nocare': 1}, {'prorus': 4})},\n",
       " {39: ({'pax': 8}, {'proukr': 28}, {'nocare': 2}, {'prorus': 0})},\n",
       " {40: ({'pax': 5}, {'proukr': 27}, {'nocare': 4}, {'prorus': 0})},\n",
       " {41: ({'pax': 7}, {'proukr': 22}, {'nocare': 4}, {'prorus': 3})},\n",
       " {42: ({'pax': 7}, {'proukr': 22}, {'nocare': 4}, {'prorus': 1})},\n",
       " {43: ({'pax': 11}, {'proukr': 20}, {'nocare': 1}, {'prorus': 0})},\n",
       " {44: ({'pax': 6}, {'proukr': 22}, {'nocare': 2}, {'prorus': 1})},\n",
       " {45: ({'pax': 6}, {'proukr': 18}, {'nocare': 4}, {'prorus': 3})},\n",
       " {46: ({'pax': 7}, {'proukr': 19}, {'nocare': 4}, {'prorus': 0})},\n",
       " {47: ({'pax': 4}, {'proukr': 21}, {'nocare': 5}, {'prorus': 0})},\n",
       " {48: ({'pax': 8}, {'proukr': 18}, {'nocare': 2}, {'prorus': 2})},\n",
       " {49: ({'pax': 4}, {'proukr': 23}, {'nocare': 0}, {'prorus': 3})},\n",
       " {50: ({'pax': 3}, {'proukr': 22}, {'nocare': 3}, {'prorus': 1})},\n",
       " {51: ({'pax': 9}, {'proukr': 17}, {'nocare': 3}, {'prorus': 0})},\n",
       " {52: ({'pax': 6}, {'proukr': 18}, {'nocare': 4}, {'prorus': 1})},\n",
       " {53: ({'pax': 9}, {'proukr': 18}, {'nocare': 1}, {'prorus': 1})},\n",
       " {54: ({'pax': 5}, {'proukr': 19}, {'nocare': 3}, {'prorus': 1})},\n",
       " {55: ({'pax': 2}, {'proukr': 21}, {'nocare': 2}, {'prorus': 3})},\n",
       " {56: ({'pax': 4}, {'proukr': 21}, {'nocare': 1}, {'prorus': 1})},\n",
       " {57: ({'pax': 9}, {'proukr': 15}, {'nocare': 2}, {'prorus': 0})},\n",
       " {58: ({'pax': 6}, {'proukr': 18}, {'nocare': 1}, {'prorus': 0})},\n",
       " {59: ({'pax': 5}, {'proukr': 14}, {'nocare': 4}, {'prorus': 2})},\n",
       " {60: ({'pax': 6}, {'proukr': 17}, {'nocare': 2}, {'prorus': 0})},\n",
       " {61: ({'pax': 2}, {'proukr': 20}, {'nocare': 2}, {'prorus': 0})},\n",
       " {62: ({'pax': 5}, {'proukr': 16}, {'nocare': 2}, {'prorus': 1})},\n",
       " {63: ({'pax': 3}, {'proukr': 17}, {'nocare': 3}, {'prorus': 0})},\n",
       " {64: ({'pax': 5}, {'proukr': 13}, {'nocare': 2}, {'prorus': 3})},\n",
       " {65: ({'pax': 1}, {'proukr': 19}, {'nocare': 1}, {'prorus': 1})},\n",
       " {66: ({'pax': 3}, {'proukr': 15}, {'nocare': 1}, {'prorus': 3})},\n",
       " {67: ({'pax': 5}, {'proukr': 17}, {'nocare': 0}, {'prorus': 0})},\n",
       " {68: ({'pax': 2}, {'proukr': 19}, {'nocare': 0}, {'prorus': 1})},\n",
       " {69: ({'pax': 8}, {'proukr': 11}, {'nocare': 3}, {'prorus': 0})},\n",
       " {70: ({'pax': 4}, {'proukr': 18}, {'nocare': 0}, {'prorus': 0})},\n",
       " {71: ({'pax': 4}, {'proukr': 16}, {'nocare': 2}, {'prorus': 0})},\n",
       " {72: ({'pax': 4}, {'proukr': 14}, {'nocare': 2}, {'prorus': 1})},\n",
       " {73: ({'pax': 2}, {'proukr': 16}, {'nocare': 2}, {'prorus': 1})},\n",
       " {74: ({'pax': 5}, {'proukr': 13}, {'nocare': 2}, {'prorus': 1})},\n",
       " {75: ({'pax': 6}, {'proukr': 13}, {'nocare': 0}, {'prorus': 1})},\n",
       " {76: ({'pax': 6}, {'proukr': 12}, {'nocare': 0}, {'prorus': 1})},\n",
       " {77: ({'pax': 1}, {'proukr': 15}, {'nocare': 2}, {'prorus': 1})},\n",
       " {78: ({'pax': 3}, {'proukr': 14}, {'nocare': 2}, {'prorus': 0})},\n",
       " {79: ({'pax': 5}, {'proukr': 12}, {'nocare': 2}, {'prorus': 0})},\n",
       " {80: ({'pax': 7}, {'proukr': 10}, {'nocare': 0}, {'prorus': 2})},\n",
       " {81: ({'pax': 4}, {'proukr': 13}, {'nocare': 0}, {'prorus': 2})},\n",
       " {82: ({'pax': 7}, {'proukr': 11}, {'nocare': 1}, {'prorus': 0})},\n",
       " {83: ({'pax': 4}, {'proukr': 11}, {'nocare': 3}, {'prorus': 0})},\n",
       " {84: ({'pax': 8}, {'proukr': 7}, {'nocare': 2}, {'prorus': 0})},\n",
       " {85: ({'pax': 3}, {'proukr': 13}, {'nocare': 1}, {'prorus': 0})},\n",
       " {86: ({'pax': 2}, {'proukr': 15}, {'nocare': 0}, {'prorus': 0})},\n",
       " {87: ({'pax': 2}, {'proukr': 13}, {'nocare': 0}, {'prorus': 2})},\n",
       " {88: ({'pax': 4}, {'proukr': 11}, {'nocare': 1}, {'prorus': 0})},\n",
       " {89: ({'pax': 3}, {'proukr': 13}, {'nocare': 0}, {'prorus': 0})},\n",
       " {90: ({'pax': 4}, {'proukr': 7}, {'nocare': 2}, {'prorus': 3})},\n",
       " {91: ({'pax': 2}, {'proukr': 11}, {'nocare': 2}, {'prorus': 0})},\n",
       " {92: ({'pax': 3}, {'proukr': 11}, {'nocare': 0}, {'prorus': 1})},\n",
       " {93: ({'pax': 3}, {'proukr': 11}, {'nocare': 0}, {'prorus': 0})},\n",
       " {94: ({'pax': 1}, {'proukr': 11}, {'nocare': 0}, {'prorus': 2})},\n",
       " {95: ({'pax': 5}, {'proukr': 8}, {'nocare': 1}, {'prorus': 0})},\n",
       " {96: ({'pax': 1}, {'proukr': 12}, {'nocare': 0}, {'prorus': 1})},\n",
       " {97: ({'pax': 2}, {'proukr': 10}, {'nocare': 1}, {'prorus': 1})},\n",
       " {98: ({'pax': 2}, {'proukr': 11}, {'nocare': 0}, {'prorus': 0})},\n",
       " {99: ({'pax': 3}, {'proukr': 7}, {'nocare': 2}, {'prorus': 1})},\n",
       " {100: ({'pax': 5}, {'proukr': 4}, {'nocare': 3}, {'prorus': 1})},\n",
       " {101: ({'pax': 3}, {'proukr': 7}, {'nocare': 3}, {'prorus': 0})},\n",
       " {102: ({'pax': 2}, {'proukr': 9}, {'nocare': 2}, {'prorus': 0})},\n",
       " {103: ({'pax': 0}, {'proukr': 11}, {'nocare': 0}, {'prorus': 1})},\n",
       " {104: ({'pax': 4}, {'proukr': 8}, {'nocare': 0}, {'prorus': 0})},\n",
       " {105: ({'pax': 4}, {'proukr': 7}, {'nocare': 1}, {'prorus': 0})},\n",
       " {106: ({'pax': 2}, {'proukr': 8}, {'nocare': 2}, {'prorus': 0})},\n",
       " {107: ({'pax': 2}, {'proukr': 9}, {'nocare': 0}, {'prorus': 0})},\n",
       " {108: ({'pax': 3}, {'proukr': 8}, {'nocare': 0}, {'prorus': 0})},\n",
       " {109: ({'pax': 2}, {'proukr': 7}, {'nocare': 0}, {'prorus': 2})},\n",
       " {110: ({'pax': 2}, {'proukr': 8}, {'nocare': 1}, {'prorus': 0})},\n",
       " {111: ({'pax': 2}, {'proukr': 8}, {'nocare': 1}, {'prorus': 0})},\n",
       " {112: ({'pax': 2}, {'proukr': 8}, {'nocare': 1}, {'prorus': 0})},\n",
       " {113: ({'pax': 1}, {'proukr': 7}, {'nocare': 3}, {'prorus': 0})},\n",
       " {114: ({'pax': 2}, {'proukr': 5}, {'nocare': 2}, {'prorus': 2})},\n",
       " {115: ({'pax': 1}, {'proukr': 8}, {'nocare': 1}, {'prorus': 1})},\n",
       " {116: ({'pax': 0}, {'proukr': 9}, {'nocare': 0}, {'prorus': 1})},\n",
       " {117: ({'pax': 1}, {'proukr': 6}, {'nocare': 1}, {'prorus': 2})},\n",
       " {118: ({'pax': 5}, {'proukr': 5}, {'nocare': 0}, {'prorus': 0})},\n",
       " {119: ({'pax': 1}, {'proukr': 8}, {'nocare': 0}, {'prorus': 1})},\n",
       " {120: ({'pax': 3}, {'proukr': 5}, {'nocare': 2}, {'prorus': 0})},\n",
       " {121: ({'pax': 3}, {'proukr': 7}, {'nocare': 0}, {'prorus': 0})},\n",
       " {122: ({'pax': 3}, {'proukr': 7}, {'nocare': 0}, {'prorus': 0})},\n",
       " {123: ({'pax': 4}, {'proukr': 4}, {'nocare': 1}, {'prorus': 0})},\n",
       " {124: ({'pax': 3}, {'proukr': 5}, {'nocare': 1}, {'prorus': 0})},\n",
       " {125: ({'pax': 4}, {'proukr': 5}, {'nocare': 0}, {'prorus': 0})},\n",
       " {126: ({'pax': 1}, {'proukr': 7}, {'nocare': 1}, {'prorus': 0})},\n",
       " {127: ({'pax': 2}, {'proukr': 7}, {'nocare': 0}, {'prorus': 0})},\n",
       " {128: ({'pax': 2}, {'proukr': 7}, {'nocare': 0}, {'prorus': 0})},\n",
       " {129: ({'pax': 2}, {'proukr': 4}, {'nocare': 1}, {'prorus': 1})},\n",
       " {130: ({'pax': 1}, {'proukr': 6}, {'nocare': 1}, {'prorus': 0})},\n",
       " {131: ({'pax': 1}, {'proukr': 7}, {'nocare': 0}, {'prorus': 0})},\n",
       " {132: ({'pax': 1}, {'proukr': 6}, {'nocare': 0}, {'prorus': 1})},\n",
       " {133: ({'pax': 0}, {'proukr': 7}, {'nocare': 1}, {'prorus': 0})},\n",
       " {134: ({'pax': 1}, {'proukr': 6}, {'nocare': 1}, {'prorus': 0})},\n",
       " {135: ({'pax': 0}, {'proukr': 7}, {'nocare': 0}, {'prorus': 1})},\n",
       " {136: ({'pax': 5}, {'proukr': 3}, {'nocare': 0}, {'prorus': 0})},\n",
       " {137: ({'pax': 2}, {'proukr': 6}, {'nocare': 0}, {'prorus': 0})},\n",
       " {138: ({'pax': 1}, {'proukr': 6}, {'nocare': 1}, {'prorus': 0})},\n",
       " {139: ({'pax': 0}, {'proukr': 7}, {'nocare': 0}, {'prorus': 1})},\n",
       " {140: ({'pax': 4}, {'proukr': 3}, {'nocare': 0}, {'prorus': 1})},\n",
       " {141: ({'pax': 0}, {'proukr': 6}, {'nocare': 1}, {'prorus': 0})},\n",
       " {142: ({'pax': 1}, {'proukr': 5}, {'nocare': 1}, {'prorus': 0})},\n",
       " {143: ({'pax': 0}, {'proukr': 7}, {'nocare': 0}, {'prorus': 0})},\n",
       " {144: ({'pax': 0}, {'proukr': 6}, {'nocare': 0}, {'prorus': 1})},\n",
       " {145: ({'pax': 2}, {'proukr': 5}, {'nocare': 0}, {'prorus': 0})},\n",
       " {146: ({'pax': 0}, {'proukr': 5}, {'nocare': 1}, {'prorus': 1})},\n",
       " {147: ({'pax': 1}, {'proukr': 6}, {'nocare': 0}, {'prorus': 0})},\n",
       " {148: ({'pax': 2}, {'proukr': 4}, {'nocare': 1}, {'prorus': 0})},\n",
       " {149: ({'pax': 3}, {'proukr': 3}, {'nocare': 1}, {'prorus': 0})},\n",
       " {150: ({'pax': 4}, {'proukr': 3}, {'nocare': 0}, {'prorus': 0})},\n",
       " {151: ({'pax': 1}, {'proukr': 6}, {'nocare': 0}, {'prorus': 0})},\n",
       " {152: ({'pax': 2}, {'proukr': 5}, {'nocare': 0}, {'prorus': 0})},\n",
       " {153: ({'pax': 2}, {'proukr': 4}, {'nocare': 1}, {'prorus': 0})},\n",
       " {154: ({'pax': 1}, {'proukr': 4}, {'nocare': 1}, {'prorus': 1})},\n",
       " {155: ({'pax': 3}, {'proukr': 3}, {'nocare': 0}, {'prorus': 1})},\n",
       " {156: ({'pax': 3}, {'proukr': 4}, {'nocare': 0}, {'prorus': 0})},\n",
       " {157: ({'pax': 1}, {'proukr': 5}, {'nocare': 0}, {'prorus': 0})},\n",
       " {158: ({'pax': 2}, {'proukr': 2}, {'nocare': 2}, {'prorus': 0})},\n",
       " {159: ({'pax': 1}, {'proukr': 4}, {'nocare': 1}, {'prorus': 0})},\n",
       " {160: ({'pax': 1}, {'proukr': 3}, {'nocare': 2}, {'prorus': 0})},\n",
       " {161: ({'pax': 0}, {'proukr': 6}, {'nocare': 0}, {'prorus': 0})},\n",
       " {162: ({'pax': 3}, {'proukr': 2}, {'nocare': 0}, {'prorus': 1})},\n",
       " {163: ({'pax': 1}, {'proukr': 4}, {'nocare': 1}, {'prorus': 0})},\n",
       " {164: ({'pax': 1}, {'proukr': 4}, {'nocare': 0}, {'prorus': 1})},\n",
       " {165: ({'pax': 1}, {'proukr': 4}, {'nocare': 1}, {'prorus': 0})},\n",
       " {166: ({'pax': 1}, {'proukr': 4}, {'nocare': 0}, {'prorus': 1})},\n",
       " {167: ({'pax': 0}, {'proukr': 6}, {'nocare': 0}, {'prorus': 0})},\n",
       " {168: ({'pax': 0}, {'proukr': 5}, {'nocare': 0}, {'prorus': 0})},\n",
       " {169: ({'pax': 2}, {'proukr': 3}, {'nocare': 0}, {'prorus': 0})},\n",
       " {170: ({'pax': 0}, {'proukr': 5}, {'nocare': 0}, {'prorus': 0})},\n",
       " {171: ({'pax': 2}, {'proukr': 3}, {'nocare': 0}, {'prorus': 0})},\n",
       " {172: ({'pax': 0}, {'proukr': 5}, {'nocare': 0}, {'prorus': 0})},\n",
       " {173: ({'pax': 1}, {'proukr': 4}, {'nocare': 0}, {'prorus': 0})},\n",
       " {174: ({'pax': 3}, {'proukr': 2}, {'nocare': 0}, {'prorus': 0})},\n",
       " {175: ({'pax': 1}, {'proukr': 4}, {'nocare': 0}, {'prorus': 0})},\n",
       " {176: ({'pax': 2}, {'proukr': 3}, {'nocare': 0}, {'prorus': 0})},\n",
       " {177: ({'pax': 1}, {'proukr': 4}, {'nocare': 0}, {'prorus': 0})},\n",
       " {178: ({'pax': 2}, {'proukr': 2}, {'nocare': 0}, {'prorus': 1})},\n",
       " {179: ({'pax': 0}, {'proukr': 5}, {'nocare': 0}, {'prorus': 0})},\n",
       " {180: ({'pax': 1}, {'proukr': 4}, {'nocare': 0}, {'prorus': 0})},\n",
       " {181: ({'pax': 1}, {'proukr': 4}, {'nocare': 0}, {'prorus': 0})},\n",
       " {182: ({'pax': 0}, {'proukr': 4}, {'nocare': 1}, {'prorus': 0})},\n",
       " {183: ({'pax': 1}, {'proukr': 3}, {'nocare': 0}, {'prorus': 1})},\n",
       " {184: ({'pax': 1}, {'proukr': 4}, {'nocare': 0}, {'prorus': 0})},\n",
       " {185: ({'pax': 2}, {'proukr': 2}, {'nocare': 1}, {'prorus': 0})},\n",
       " {186: ({'pax': 2}, {'proukr': 3}, {'nocare': 0}, {'prorus': 0})},\n",
       " {187: ({'pax': 1}, {'proukr': 2}, {'nocare': 0}, {'prorus': 2})},\n",
       " {188: ({'pax': 0}, {'proukr': 5}, {'nocare': 0}, {'prorus': 0})},\n",
       " {189: ({'pax': 2}, {'proukr': 2}, {'nocare': 0}, {'prorus': 1})},\n",
       " {190: ({'pax': 3}, {'proukr': 1}, {'nocare': 0}, {'prorus': 0})},\n",
       " {191: ({'pax': 1}, {'proukr': 3}, {'nocare': 0}, {'prorus': 0})},\n",
       " {192: ({'pax': 2}, {'proukr': 2}, {'nocare': 0}, {'prorus': 0})},\n",
       " {193: ({'pax': 0}, {'proukr': 2}, {'nocare': 2}, {'prorus': 0})},\n",
       " {194: ({'pax': 0}, {'proukr': 3}, {'nocare': 0}, {'prorus': 1})},\n",
       " {195: ({'pax': 0}, {'proukr': 3}, {'nocare': 1}, {'prorus': 0})},\n",
       " {196: ({'pax': 1}, {'proukr': 2}, {'nocare': 0}, {'prorus': 1})},\n",
       " {197: ({'pax': 1}, {'proukr': 3}, {'nocare': 0}, {'prorus': 0})},\n",
       " {198: ({'pax': 1}, {'proukr': 3}, {'nocare': 0}, {'prorus': 0})},\n",
       " {199: ({'pax': 0}, {'proukr': 4}, {'nocare': 0}, {'prorus': 0})},\n",
       " {200: ({'pax': 0}, {'proukr': 4}, {'nocare': 0}, {'prorus': 0})},\n",
       " {201: ({'pax': 0}, {'proukr': 4}, {'nocare': 0}, {'prorus': 0})},\n",
       " {202: ({'pax': 0}, {'proukr': 3}, {'nocare': 0}, {'prorus': 1})},\n",
       " {203: ({'pax': 2}, {'proukr': 2}, {'nocare': 0}, {'prorus': 0})},\n",
       " {204: ({'pax': 1}, {'proukr': 3}, {'nocare': 0}, {'prorus': 0})},\n",
       " {205: ({'pax': 0}, {'proukr': 4}, {'nocare': 0}, {'prorus': 0})},\n",
       " {206: ({'pax': 2}, {'proukr': 1}, {'nocare': 1}, {'prorus': 0})},\n",
       " {207: ({'pax': 0}, {'proukr': 3}, {'nocare': 1}, {'prorus': 0})},\n",
       " {208: ({'pax': 0}, {'proukr': 3}, {'nocare': 1}, {'prorus': 0})},\n",
       " {209: ({'pax': 1}, {'proukr': 2}, {'nocare': 0}, {'prorus': 1})},\n",
       " {210: ({'pax': 1}, {'proukr': 3}, {'nocare': 0}, {'prorus': 0})},\n",
       " {211: ({'pax': 2}, {'proukr': 2}, {'nocare': 0}, {'prorus': 0})},\n",
       " {212: ({'pax': 0}, {'proukr': 4}, {'nocare': 0}, {'prorus': 0})},\n",
       " {213: ({'pax': 2}, {'proukr': 2}, {'nocare': 0}, {'prorus': 0})},\n",
       " {214: ({'pax': 1}, {'proukr': 2}, {'nocare': 1}, {'prorus': 0})},\n",
       " {215: ({'pax': 1}, {'proukr': 3}, {'nocare': 0}, {'prorus': 0})},\n",
       " {216: ({'pax': 1}, {'proukr': 3}, {'nocare': 0}, {'prorus': 0})},\n",
       " {217: ({'pax': 0}, {'proukr': 4}, {'nocare': 0}, {'prorus': 0})},\n",
       " {218: ({'pax': 0}, {'proukr': 3}, {'nocare': 1}, {'prorus': 0})},\n",
       " {219: ({'pax': 0}, {'proukr': 4}, {'nocare': 0}, {'prorus': 0})},\n",
       " {220: ({'pax': 1}, {'proukr': 2}, {'nocare': 0}, {'prorus': 1})},\n",
       " {221: ({'pax': 1}, {'proukr': 3}, {'nocare': 0}, {'prorus': 0})},\n",
       " {222: ({'pax': 1}, {'proukr': 3}, {'nocare': 0}, {'prorus': 0})},\n",
       " {223: ({'pax': 1}, {'proukr': 2}, {'nocare': 1}, {'prorus': 0})},\n",
       " {224: ({'pax': 1}, {'proukr': 3}, {'nocare': 0}, {'prorus': 0})},\n",
       " {225: ({'pax': 0}, {'proukr': 4}, {'nocare': 0}, {'prorus': 0})},\n",
       " {226: ({'pax': 0}, {'proukr': 4}, {'nocare': 0}, {'prorus': 0})},\n",
       " {227: ({'pax': 1}, {'proukr': 2}, {'nocare': 0}, {'prorus': 1})},\n",
       " {228: ({'pax': 0}, {'proukr': 4}, {'nocare': 0}, {'prorus': 0})},\n",
       " {229: ({'pax': 1}, {'proukr': 2}, {'nocare': 0}, {'prorus': 0})},\n",
       " {230: ({'pax': 1}, {'proukr': 1}, {'nocare': 1}, {'prorus': 0})},\n",
       " {231: ({'pax': 1}, {'proukr': 1}, {'nocare': 0}, {'prorus': 1})},\n",
       " {232: ({'pax': 0}, {'proukr': 2}, {'nocare': 1}, {'prorus': 0})},\n",
       " {233: ({'pax': 0}, {'proukr': 3}, {'nocare': 0}, {'prorus': 0})},\n",
       " {234: ({'pax': 0}, {'proukr': 3}, {'nocare': 0}, {'prorus': 0})},\n",
       " {235: ({'pax': 1}, {'proukr': 2}, {'nocare': 0}, {'prorus': 0})},\n",
       " {236: ({'pax': 0}, {'proukr': 3}, {'nocare': 0}, {'prorus': 0})},\n",
       " {237: ({'pax': 0}, {'proukr': 3}, {'nocare': 0}, {'prorus': 0})},\n",
       " {238: ({'pax': 0}, {'proukr': 3}, {'nocare': 0}, {'prorus': 0})},\n",
       " {239: ({'pax': 0}, {'proukr': 3}, {'nocare': 0}, {'prorus': 0})},\n",
       " {240: ({'pax': 0}, {'proukr': 3}, {'nocare': 0}, {'prorus': 0})},\n",
       " {241: ({'pax': 1}, {'proukr': 2}, {'nocare': 0}, {'prorus': 0})},\n",
       " {242: ({'pax': 0}, {'proukr': 3}, {'nocare': 0}, {'prorus': 0})},\n",
       " {243: ({'pax': 2}, {'proukr': 1}, {'nocare': 0}, {'prorus': 0})},\n",
       " {244: ({'pax': 1}, {'proukr': 1}, {'nocare': 0}, {'prorus': 1})},\n",
       " {245: ({'pax': 2}, {'proukr': 0}, {'nocare': 0}, {'prorus': 1})},\n",
       " {246: ({'pax': 1}, {'proukr': 2}, {'nocare': 0}, {'prorus': 0})},\n",
       " {247: ({'pax': 0}, {'proukr': 3}, {'nocare': 0}, {'prorus': 0})},\n",
       " {248: ({'pax': 0}, {'proukr': 3}, {'nocare': 0}, {'prorus': 0})},\n",
       " {249: ({'pax': 1}, {'proukr': 2}, {'nocare': 0}, {'prorus': 0})},\n",
       " {250: ({'pax': 1}, {'proukr': 2}, {'nocare': 0}, {'prorus': 0})},\n",
       " {251: ({'pax': 1}, {'proukr': 2}, {'nocare': 0}, {'prorus': 0})},\n",
       " {252: ({'pax': 2}, {'proukr': 1}, {'nocare': 0}, {'prorus': 0})},\n",
       " {253: ({'pax': 2}, {'proukr': 1}, {'nocare': 0}, {'prorus': 0})},\n",
       " {254: ({'pax': 1}, {'proukr': 2}, {'nocare': 0}, {'prorus': 0})},\n",
       " {255: ({'pax': 1}, {'proukr': 1}, {'nocare': 1}, {'prorus': 0})},\n",
       " {256: ({'pax': 0}, {'proukr': 3}, {'nocare': 0}, {'prorus': 0})},\n",
       " {257: ({'pax': 0}, {'proukr': 2}, {'nocare': 0}, {'prorus': 1})},\n",
       " {258: ({'pax': 2}, {'proukr': 0}, {'nocare': 0}, {'prorus': 1})},\n",
       " {259: ({'pax': 0}, {'proukr': 2}, {'nocare': 0}, {'prorus': 1})},\n",
       " {260: ({'pax': 1}, {'proukr': 2}, {'nocare': 0}, {'prorus': 0})},\n",
       " {261: ({'pax': 0}, {'proukr': 3}, {'nocare': 0}, {'prorus': 0})},\n",
       " {262: ({'pax': 1}, {'proukr': 0}, {'nocare': 1}, {'prorus': 1})},\n",
       " {263: ({'pax': 1}, {'proukr': 2}, {'nocare': 0}, {'prorus': 0})},\n",
       " {264: ({'pax': 1}, {'proukr': 1}, {'nocare': 1}, {'prorus': 0})},\n",
       " {265: ({'pax': 0}, {'proukr': 2}, {'nocare': 0}, {'prorus': 1})},\n",
       " {266: ({'pax': 1}, {'proukr': 2}, {'nocare': 0}, {'prorus': 0})},\n",
       " {267: ({'pax': 1}, {'proukr': 2}, {'nocare': 0}, {'prorus': 0})},\n",
       " {268: ({'pax': 0}, {'proukr': 3}, {'nocare': 0}, {'prorus': 0})},\n",
       " {269: ({'pax': 0}, {'proukr': 3}, {'nocare': 0}, {'prorus': 0})},\n",
       " {270: ({'pax': 2}, {'proukr': 1}, {'nocare': 0}, {'prorus': 0})},\n",
       " {271: ({'pax': 1}, {'proukr': 2}, {'nocare': 0}, {'prorus': 0})},\n",
       " {272: ({'pax': 1}, {'proukr': 2}, {'nocare': 0}, {'prorus': 0})},\n",
       " {273: ({'pax': 1}, {'proukr': 2}, {'nocare': 0}, {'prorus': 0})},\n",
       " {274: ({'pax': 0}, {'proukr': 3}, {'nocare': 0}, {'prorus': 0})},\n",
       " {275: ({'pax': 0}, {'proukr': 3}, {'nocare': 0}, {'prorus': 0})},\n",
       " {276: ({'pax': 0}, {'proukr': 2}, {'nocare': 0}, {'prorus': 1})},\n",
       " {277: ({'pax': 0}, {'proukr': 2}, {'nocare': 0}, {'prorus': 0})},\n",
       " {278: ({'pax': 1}, {'proukr': 1}, {'nocare': 0}, {'prorus': 0})},\n",
       " {279: ({'pax': 1}, {'proukr': 1}, {'nocare': 0}, {'prorus': 0})},\n",
       " {280: ({'pax': 1}, {'proukr': 1}, {'nocare': 0}, {'prorus': 0})},\n",
       " {281: ({'pax': 1}, {'proukr': 1}, {'nocare': 0}, {'prorus': 0})},\n",
       " {282: ({'pax': 0}, {'proukr': 2}, {'nocare': 0}, {'prorus': 0})},\n",
       " {283: ({'pax': 1}, {'proukr': 1}, {'nocare': 0}, {'prorus': 0})},\n",
       " {284: ({'pax': 0}, {'proukr': 2}, {'nocare': 0}, {'prorus': 0})},\n",
       " {285: ({'pax': 0}, {'proukr': 2}, {'nocare': 0}, {'prorus': 0})},\n",
       " {286: ({'pax': 1}, {'proukr': 1}, {'nocare': 0}, {'prorus': 0})},\n",
       " {287: ({'pax': 0}, {'proukr': 1}, {'nocare': 1}, {'prorus': 0})},\n",
       " {288: ({'pax': 0}, {'proukr': 2}, {'nocare': 0}, {'prorus': 0})},\n",
       " {289: ({'pax': 0}, {'proukr': 1}, {'nocare': 1}, {'prorus': 0})},\n",
       " {290: ({'pax': 0}, {'proukr': 2}, {'nocare': 0}, {'prorus': 0})},\n",
       " {291: ({'pax': 1}, {'proukr': 1}, {'nocare': 0}, {'prorus': 0})},\n",
       " {292: ({'pax': 1}, {'proukr': 0}, {'nocare': 1}, {'prorus': 0})},\n",
       " {293: ({'pax': 0}, {'proukr': 2}, {'nocare': 0}, {'prorus': 0})},\n",
       " {294: ({'pax': 1}, {'proukr': 1}, {'nocare': 0}, {'prorus': 0})},\n",
       " {295: ({'pax': 2}, {'proukr': 0}, {'nocare': 0}, {'prorus': 0})},\n",
       " {296: ({'pax': 1}, {'proukr': 1}, {'nocare': 0}, {'prorus': 0})},\n",
       " {297: ({'pax': 0}, {'proukr': 2}, {'nocare': 0}, {'prorus': 0})},\n",
       " {298: ({'pax': 1}, {'proukr': 0}, {'nocare': 1}, {'prorus': 0})},\n",
       " {299: ({'pax': 1}, {'proukr': 1}, {'nocare': 0}, {'prorus': 0})},\n",
       " {300: ({'pax': 0}, {'proukr': 2}, {'nocare': 0}, {'prorus': 0})},\n",
       " {301: ({'pax': 1}, {'proukr': 1}, {'nocare': 0}, {'prorus': 0})},\n",
       " {302: ({'pax': 0}, {'proukr': 2}, {'nocare': 0}, {'prorus': 0})},\n",
       " {303: ({'pax': 0}, {'proukr': 2}, {'nocare': 0}, {'prorus': 0})},\n",
       " {304: ({'pax': 0}, {'proukr': 2}, {'nocare': 0}, {'prorus': 0})},\n",
       " {305: ({'pax': 2}, {'proukr': 0}, {'nocare': 0}, {'prorus': 0})},\n",
       " {306: ({'pax': 0}, {'proukr': 2}, {'nocare': 0}, {'prorus': 0})},\n",
       " {307: ({'pax': 0}, {'proukr': 1}, {'nocare': 1}, {'prorus': 0})},\n",
       " {308: ({'pax': 1}, {'proukr': 1}, {'nocare': 0}, {'prorus': 0})},\n",
       " {309: ({'pax': 1}, {'proukr': 1}, {'nocare': 0}, {'prorus': 0})},\n",
       " {310: ({'pax': 1}, {'proukr': 1}, {'nocare': 0}, {'prorus': 0})},\n",
       " {311: ({'pax': 0}, {'proukr': 2}, {'nocare': 0}, {'prorus': 0})},\n",
       " {312: ({'pax': 1}, {'proukr': 1}, {'nocare': 0}, {'prorus': 0})},\n",
       " {313: ({'pax': 0}, {'proukr': 2}, {'nocare': 0}, {'prorus': 0})},\n",
       " {314: ({'pax': 0}, {'proukr': 2}, {'nocare': 0}, {'prorus': 0})},\n",
       " {315: ({'pax': 0}, {'proukr': 1}, {'nocare': 0}, {'prorus': 1})},\n",
       " {316: ({'pax': 0}, {'proukr': 2}, {'nocare': 0}, {'prorus': 0})},\n",
       " {317: ({'pax': 0}, {'proukr': 2}, {'nocare': 0}, {'prorus': 0})},\n",
       " {318: ({'pax': 2}, {'proukr': 0}, {'nocare': 0}, {'prorus': 0})},\n",
       " {319: ({'pax': 0}, {'proukr': 2}, {'nocare': 0}, {'prorus': 0})},\n",
       " {320: ({'pax': 1}, {'proukr': 1}, {'nocare': 0}, {'prorus': 0})},\n",
       " {321: ({'pax': 0}, {'proukr': 2}, {'nocare': 0}, {'prorus': 0})},\n",
       " {322: ({'pax': 0}, {'proukr': 2}, {'nocare': 0}, {'prorus': 0})},\n",
       " {323: ({'pax': 0}, {'proukr': 2}, {'nocare': 0}, {'prorus': 0})},\n",
       " {324: ({'pax': 0}, {'proukr': 2}, {'nocare': 0}, {'prorus': 0})},\n",
       " {325: ({'pax': 0}, {'proukr': 2}, {'nocare': 0}, {'prorus': 0})},\n",
       " {326: ({'pax': 0}, {'proukr': 2}, {'nocare': 0}, {'prorus': 0})},\n",
       " {327: ({'pax': 1}, {'proukr': 0}, {'nocare': 0}, {'prorus': 1})},\n",
       " {328: ({'pax': 0}, {'proukr': 2}, {'nocare': 0}, {'prorus': 0})},\n",
       " {329: ({'pax': 0}, {'proukr': 1}, {'nocare': 1}, {'prorus': 0})},\n",
       " {330: ({'pax': 1}, {'proukr': 1}, {'nocare': 0}, {'prorus': 0})},\n",
       " {331: ({'pax': 1}, {'proukr': 1}, {'nocare': 0}, {'prorus': 0})},\n",
       " {332: ({'pax': 0}, {'proukr': 1}, {'nocare': 0}, {'prorus': 1})},\n",
       " {333: ({'pax': 0}, {'proukr': 2}, {'nocare': 0}, {'prorus': 0})},\n",
       " {334: ({'pax': 0}, {'proukr': 2}, {'nocare': 0}, {'prorus': 0})},\n",
       " {335: ({'pax': 0}, {'proukr': 2}, {'nocare': 0}, {'prorus': 0})},\n",
       " {336: ({'pax': 1}, {'proukr': 1}, {'nocare': 0}, {'prorus': 0})},\n",
       " {337: ({'pax': 0}, {'proukr': 1}, {'nocare': 1}, {'prorus': 0})},\n",
       " {338: ({'pax': 1}, {'proukr': 1}, {'nocare': 0}, {'prorus': 0})},\n",
       " {339: ({'pax': 1}, {'proukr': 1}, {'nocare': 0}, {'prorus': 0})},\n",
       " {340: ({'pax': 0}, {'proukr': 2}, {'nocare': 0}, {'prorus': 0})},\n",
       " {341: ({'pax': 0}, {'proukr': 2}, {'nocare': 0}, {'prorus': 0})},\n",
       " {342: ({'pax': 0}, {'proukr': 2}, {'nocare': 0}, {'prorus': 0})},\n",
       " {343: ({'pax': 0}, {'proukr': 2}, {'nocare': 0}, {'prorus': 0})},\n",
       " {344: ({'pax': 1}, {'proukr': 1}, {'nocare': 0}, {'prorus': 0})},\n",
       " {345: ({'pax': 0}, {'proukr': 2}, {'nocare': 0}, {'prorus': 0})},\n",
       " {346: ({'pax': 1}, {'proukr': 1}, {'nocare': 0}, {'prorus': 0})},\n",
       " {347: ({'pax': 1}, {'proukr': 1}, {'nocare': 0}, {'prorus': 0})},\n",
       " {348: ({'pax': 1}, {'proukr': 1}, {'nocare': 0}, {'prorus': 0})},\n",
       " {349: ({'pax': 0}, {'proukr': 2}, {'nocare': 0}, {'prorus': 0})},\n",
       " {350: ({'pax': 1}, {'proukr': 1}, {'nocare': 0}, {'prorus': 0})},\n",
       " {351: ({'pax': 0}, {'proukr': 2}, {'nocare': 0}, {'prorus': 0})},\n",
       " {352: ({'pax': 0}, {'proukr': 2}, {'nocare': 0}, {'prorus': 0})},\n",
       " {353: ({'pax': 2}, {'proukr': 0}, {'nocare': 0}, {'prorus': 0})},\n",
       " {354: ({'pax': 1}, {'proukr': 1}, {'nocare': 0}, {'prorus': 0})},\n",
       " {355: ({'pax': 0}, {'proukr': 1}, {'nocare': 1}, {'prorus': 0})},\n",
       " {356: ({'pax': 1}, {'proukr': 1}, {'nocare': 0}, {'prorus': 0})},\n",
       " {357: ({'pax': 1}, {'proukr': 1}, {'nocare': 0}, {'prorus': 0})},\n",
       " {358: ({'pax': 1}, {'proukr': 0}, {'nocare': 0}, {'prorus': 1})},\n",
       " {359: ({'pax': 1}, {'proukr': 1}, {'nocare': 0}, {'prorus': 0})}]"
      ]
     },
     "execution_count": 12,
     "metadata": {},
     "output_type": "execute_result"
    }
   ],
   "source": [
    "label_prop_com=label_prop.communities\n",
    "communities=[]\n",
    "\n",
    "for i, c in enumerate(label_prop_com):\n",
    "    loc={}\n",
    "    loc_set=set()\n",
    "    cat_value={}\n",
    "    pax={}\n",
    "    proukr={}\n",
    "    nocare={}\n",
    "    prorus={}\n",
    "    c_pax=0\n",
    "    c_proukr=0\n",
    "    c_nocare=0\n",
    "    c_prorus=0\n",
    "    for e in c:\n",
    "        if (df_nodes.loc[df_nodes.index==e,'cat'] =='pax').any()==True:\n",
    "            loc_set.add(\"\".join(str(l) for l in df_nodes['location'][e]))\n",
    "            c_pax += 1\n",
    "        elif (df_nodes.loc[df_nodes.index==e,'cat'] =='proukr').any()==True:\n",
    "            loc_set.add(\"\".join(str(l) for l in df_nodes['location'][e]))\n",
    "            c_proukr += 1\n",
    "        elif (df_nodes.loc[df_nodes.index==e,'cat'] =='prorus').any()==True:\n",
    "            loc_set.add(\"\".join(str(l) for l in df_nodes['location'][e]))\n",
    "            c_prorus += 1\n",
    "        elif (df_nodes.loc[df_nodes.index==e,'cat'] =='dontcare').any()==True:\n",
    "            loc_set.add(\"\".join(str(l) for l in df_nodes['location'][e]))\n",
    "            c_nocare +=1\n",
    "        pax['pax']=c_pax\n",
    "        proukr['proukr']=c_proukr\n",
    "        nocare['nocare']=c_nocare\n",
    "        prorus['prorus']=c_prorus\n",
    "        loc['loc']=loc_set\n",
    "        cat_value[i]=pax,proukr,nocare,prorus #,loc\n",
    "    communities.append(cat_value)\n",
    "communities"
   ]
  },
  {
   "cell_type": "code",
   "execution_count": 13,
   "id": "nonprofit-chicago",
   "metadata": {},
   "outputs": [
    {
     "data": {
      "text/html": [
       "<pre style=\"white-space:pre;overflow-x:auto;line-height:normal;font-family:Menlo,'DejaVu Sans Mono',consolas,'Courier New',monospace\"><span style=\"color: #008080; text-decoration-color: #008080; font-weight: bold\">360</span>\n",
       "</pre>\n"
      ],
      "text/plain": [
       "\u001b[1;36m360\u001b[0m\n"
      ]
     },
     "metadata": {},
     "output_type": "display_data"
    }
   ],
   "source": [
    "print(len(label_prop.communities))"
   ]
  },
  {
   "cell_type": "code",
   "execution_count": 14,
   "id": "chemical-radiation",
   "metadata": {},
   "outputs": [
    {
     "data": {
      "text/plain": [
       "False"
      ]
     },
     "execution_count": 14,
     "metadata": {},
     "output_type": "execute_result"
    }
   ],
   "source": [
    "label_prop.overlap"
   ]
  },
  {
   "cell_type": "code",
   "execution_count": 15,
   "id": "initial-premises",
   "metadata": {},
   "outputs": [
    {
     "data": {
      "text/plain": [
       "1.0"
      ]
     },
     "execution_count": 15,
     "metadata": {},
     "output_type": "execute_result"
    }
   ],
   "source": [
    "label_prop.node_coverage"
   ]
  },
  {
   "cell_type": "code",
   "execution_count": 16,
   "id": "ideal-somerset",
   "metadata": {},
   "outputs": [],
   "source": [
    "#label_prop.to_json()"
   ]
  },
  {
   "cell_type": "markdown",
   "id": "sustainable-capacity",
   "metadata": {},
   "source": [
    "# Louvain "
   ]
  },
  {
   "cell_type": "code",
   "execution_count": 17,
   "id": "champion-horror",
   "metadata": {},
   "outputs": [
    {
     "data": {
      "text/plain": [
       "'Leiden'"
      ]
     },
     "execution_count": 17,
     "metadata": {},
     "output_type": "execute_result"
    }
   ],
   "source": [
    "#Leiden algorithm is an improvement of the Louvain algorithm\n",
    "louvain = algorithms.leiden(G)\n",
    "louvain.method_name "
   ]
  },
  {
   "cell_type": "code",
   "execution_count": 18,
   "id": "thrown-romance",
   "metadata": {},
   "outputs": [
    {
     "data": {
      "text/plain": [
       "{'initial_membership': None, 'weights': None}"
      ]
     },
     "execution_count": 18,
     "metadata": {},
     "output_type": "execute_result"
    }
   ],
   "source": [
    "#Clustering parameters\n",
    "louvain.method_parameters "
   ]
  },
  {
   "cell_type": "code",
   "execution_count": 19,
   "id": "cellular-valuation",
   "metadata": {},
   "outputs": [
    {
     "data": {
      "text/plain": [
       "[{0: ({'pax': 327}, {'proukr': 1150}, {'nocare': 108}, {'prorus': 56})},\n",
       " {1: ({'pax': 253}, {'proukr': 684}, {'nocare': 78}, {'prorus': 46})},\n",
       " {2: ({'pax': 148}, {'proukr': 461}, {'nocare': 47}, {'prorus': 28})},\n",
       " {3: ({'pax': 102}, {'proukr': 394}, {'nocare': 37}, {'prorus': 27})},\n",
       " {4: ({'pax': 118}, {'proukr': 379}, {'nocare': 23}, {'prorus': 14})},\n",
       " {5: ({'pax': 101}, {'proukr': 353}, {'nocare': 37}, {'prorus': 18})},\n",
       " {6: ({'pax': 64}, {'proukr': 234}, {'nocare': 24}, {'prorus': 9})},\n",
       " {7: ({'pax': 72}, {'proukr': 222}, {'nocare': 23}, {'prorus': 12})},\n",
       " {8: ({'pax': 54}, {'proukr': 161}, {'nocare': 22}, {'prorus': 16})},\n",
       " {9: ({'pax': 48}, {'proukr': 138}, {'nocare': 11}, {'prorus': 11})},\n",
       " {10: ({'pax': 52}, {'proukr': 136}, {'nocare': 12}, {'prorus': 7})},\n",
       " {11: ({'pax': 42}, {'proukr': 130}, {'nocare': 19}, {'prorus': 7})},\n",
       " {12: ({'pax': 49}, {'proukr': 128}, {'nocare': 12}, {'prorus': 8})},\n",
       " {13: ({'pax': 53}, {'proukr': 121}, {'nocare': 9}, {'prorus': 13})},\n",
       " {14: ({'pax': 41}, {'proukr': 131}, {'nocare': 15}, {'prorus': 9})},\n",
       " {15: ({'pax': 34}, {'proukr': 128}, {'nocare': 19}, {'prorus': 6})},\n",
       " {16: ({'pax': 38}, {'proukr': 122}, {'nocare': 15}, {'prorus': 6})},\n",
       " {17: ({'pax': 35}, {'proukr': 118}, {'nocare': 12}, {'prorus': 12})},\n",
       " {18: ({'pax': 36}, {'proukr': 118}, {'nocare': 10}, {'prorus': 7})},\n",
       " {19: ({'pax': 32}, {'proukr': 116}, {'nocare': 11}, {'prorus': 4})},\n",
       " {20: ({'pax': 33}, {'proukr': 117}, {'nocare': 9}, {'prorus': 3})},\n",
       " {21: ({'pax': 31}, {'proukr': 110}, {'nocare': 12}, {'prorus': 8})},\n",
       " {22: ({'pax': 25}, {'proukr': 104}, {'nocare': 5}, {'prorus': 12})},\n",
       " {23: ({'pax': 32}, {'proukr': 99}, {'nocare': 6}, {'prorus': 6})},\n",
       " {24: ({'pax': 34}, {'proukr': 94}, {'nocare': 9}, {'prorus': 4})},\n",
       " {25: ({'pax': 34}, {'proukr': 81}, {'nocare': 8}, {'prorus': 7})},\n",
       " {26: ({'pax': 28}, {'proukr': 80}, {'nocare': 8}, {'prorus': 8})},\n",
       " {27: ({'pax': 27}, {'proukr': 85}, {'nocare': 6}, {'prorus': 4})},\n",
       " {28: ({'pax': 28}, {'proukr': 81}, {'nocare': 6}, {'prorus': 6})},\n",
       " {29: ({'pax': 20}, {'proukr': 88}, {'nocare': 6}, {'prorus': 5})},\n",
       " {30: ({'pax': 19}, {'proukr': 69}, {'nocare': 4}, {'prorus': 4})},\n",
       " {31: ({'pax': 20}, {'proukr': 62}, {'nocare': 7}, {'prorus': 7})},\n",
       " {32: ({'pax': 17}, {'proukr': 65}, {'nocare': 10}, {'prorus': 3})},\n",
       " {33: ({'pax': 14}, {'proukr': 61}, {'nocare': 4}, {'prorus': 3})},\n",
       " {34: ({'pax': 23}, {'proukr': 45}, {'nocare': 8}, {'prorus': 5})},\n",
       " {35: ({'pax': 15}, {'proukr': 47}, {'nocare': 6}, {'prorus': 1})},\n",
       " {36: ({'pax': 13}, {'proukr': 43}, {'nocare': 4}, {'prorus': 3})},\n",
       " {37: ({'pax': 8}, {'proukr': 43}, {'nocare': 5}, {'prorus': 3})},\n",
       " {38: ({'pax': 4}, {'proukr': 32}, {'nocare': 0}, {'prorus': 2})},\n",
       " {39: ({'pax': 8}, {'proukr': 18}, {'nocare': 2}, {'prorus': 2})},\n",
       " {40: ({'pax': 6}, {'proukr': 18}, {'nocare': 3}, {'prorus': 1})},\n",
       " {41: ({'pax': 8}, {'proukr': 11}, {'nocare': 4}, {'prorus': 0})},\n",
       " {42: ({'pax': 8}, {'proukr': 7}, {'nocare': 2}, {'prorus': 0})},\n",
       " {43: ({'pax': 0}, {'proukr': 11}, {'nocare': 0}, {'prorus': 2})},\n",
       " {44: ({'pax': 2}, {'proukr': 8}, {'nocare': 1}, {'prorus': 0})},\n",
       " {45: ({'pax': 0}, {'proukr': 6}, {'nocare': 1}, {'prorus': 0})},\n",
       " {46: ({'pax': 3}, {'proukr': 2}, {'nocare': 0}, {'prorus': 1})},\n",
       " {47: ({'pax': 3}, {'proukr': 3}, {'nocare': 0}, {'prorus': 0})},\n",
       " {48: ({'pax': 1}, {'proukr': 3}, {'nocare': 0}, {'prorus': 0})},\n",
       " {49: ({'pax': 1}, {'proukr': 2}, {'nocare': 1}, {'prorus': 0})},\n",
       " {50: ({'pax': 1}, {'proukr': 3}, {'nocare': 0}, {'prorus': 0})}]"
      ]
     },
     "execution_count": 19,
     "metadata": {},
     "output_type": "execute_result"
    }
   ],
   "source": [
    "louvain_com=louvain.communities\n",
    "communities=[]\n",
    "\n",
    "for i, c in enumerate(louvain_com):\n",
    "    loc={}\n",
    "    loc_set=set()\n",
    "    cat_value={}\n",
    "    pax={}\n",
    "    proukr={}\n",
    "    nocare={}\n",
    "    prorus={}\n",
    "    c_pax=0\n",
    "    c_proukr=0\n",
    "    c_nocare=0\n",
    "    c_prorus=0\n",
    "    for e in c:\n",
    "        if (df_nodes.loc[df_nodes.index==e,'cat'] =='pax').any()==True:\n",
    "            loc_set.add(\"\".join(str(l) for l in df_nodes['location'][e]))\n",
    "            c_pax += 1\n",
    "        elif (df_nodes.loc[df_nodes.index==e,'cat'] =='proukr').any()==True:\n",
    "            loc_set.add(\"\".join(str(l) for l in df_nodes['location'][e]))\n",
    "            c_proukr += 1\n",
    "        elif (df_nodes.loc[df_nodes.index==e,'cat'] =='prorus').any()==True:\n",
    "            loc_set.add(\"\".join(str(l) for l in df_nodes['location'][e]))\n",
    "            c_prorus += 1\n",
    "        elif (df_nodes.loc[df_nodes.index==e,'cat'] =='dontcare').any()==True:\n",
    "            loc_set.add(\"\".join(str(l) for l in df_nodes['location'][e]))\n",
    "            c_nocare +=1\n",
    "        pax['pax']=c_pax\n",
    "        proukr['proukr']=c_proukr\n",
    "        nocare['nocare']=c_nocare\n",
    "        prorus['prorus']=c_prorus\n",
    "        loc['loc']=loc_set\n",
    "        cat_value[i]=pax,proukr,nocare,prorus #,loc\n",
    "    communities.append(cat_value)\n",
    "communities"
   ]
  },
  {
   "cell_type": "code",
   "execution_count": 20,
   "id": "f57354d1",
   "metadata": {},
   "outputs": [
    {
     "data": {
      "text/plain": [
       "51"
      ]
     },
     "execution_count": 20,
     "metadata": {},
     "output_type": "execute_result"
    }
   ],
   "source": [
    "len(louvain.communities)"
   ]
  },
  {
   "cell_type": "code",
   "execution_count": 21,
   "id": "multiple-aquarium",
   "metadata": {},
   "outputs": [
    {
     "data": {
      "text/plain": [
       "False"
      ]
     },
     "execution_count": 21,
     "metadata": {},
     "output_type": "execute_result"
    }
   ],
   "source": [
    "#veirfy if the clustering overlap or not\n",
    "louvain.overlap "
   ]
  },
  {
   "cell_type": "code",
   "execution_count": 22,
   "id": "still-chassis",
   "metadata": {},
   "outputs": [
    {
     "data": {
      "text/plain": [
       "1.0"
      ]
     },
     "execution_count": 22,
     "metadata": {},
     "output_type": "execute_result"
    }
   ],
   "source": [
    "#percentage of node covered by the clustering\n",
    "louvain.node_coverage "
   ]
  },
  {
   "cell_type": "code",
   "execution_count": 23,
   "id": "hairy-google",
   "metadata": {},
   "outputs": [],
   "source": [
    "#json representation of the results\n",
    "#louvain.to_json()"
   ]
  },
  {
   "cell_type": "markdown",
   "id": "needed-vatican",
   "metadata": {},
   "source": [
    "# Walktrap"
   ]
  },
  {
   "cell_type": "code",
   "execution_count": 100,
   "id": "endangered-formula",
   "metadata": {},
   "outputs": [],
   "source": [
    "k_clique=algorithms.walktrap(G)   #.kclique(G, k=3)"
   ]
  },
  {
   "cell_type": "code",
   "execution_count": 101,
   "id": "first-capacity",
   "metadata": {},
   "outputs": [
    {
     "data": {
      "text/plain": [
       "[{0: ({'pax': 450}, {'proukr': 1592}, {'nocare': 148}, {'prorus': 85})},\n",
       " {1: ({'pax': 384}, {'proukr': 1079}, {'nocare': 110}, {'prorus': 64})},\n",
       " {2: ({'pax': 119}, {'proukr': 366}, {'nocare': 23}, {'prorus': 14})},\n",
       " {3: ({'pax': 93}, {'proukr': 304}, {'nocare': 35}, {'prorus': 14})},\n",
       " {4: ({'pax': 57}, {'proukr': 205}, {'nocare': 22}, {'prorus': 7})},\n",
       " {5: ({'pax': 62}, {'proukr': 175}, {'nocare': 17}, {'prorus': 8})},\n",
       " {6: ({'pax': 31}, {'proukr': 117}, {'nocare': 17}, {'prorus': 9})},\n",
       " {7: ({'pax': 29}, {'proukr': 112}, {'nocare': 11}, {'prorus': 12})},\n",
       " {8: ({'pax': 36}, {'proukr': 105}, {'nocare': 9}, {'prorus': 9})},\n",
       " {9: ({'pax': 24}, {'proukr': 101}, {'nocare': 5}, {'prorus': 11})},\n",
       " {10: ({'pax': 34}, {'proukr': 87}, {'nocare': 7}, {'prorus': 5})},\n",
       " {11: ({'pax': 31}, {'proukr': 76}, {'nocare': 6}, {'prorus': 7})},\n",
       " {12: ({'pax': 28}, {'proukr': 80}, {'nocare': 6}, {'prorus': 4})},\n",
       " {13: ({'pax': 25}, {'proukr': 74}, {'nocare': 10}, {'prorus': 9})},\n",
       " {14: ({'pax': 30}, {'proukr': 66}, {'nocare': 12}, {'prorus': 2})},\n",
       " {15: ({'pax': 20}, {'proukr': 68}, {'nocare': 5}, {'prorus': 3})},\n",
       " {16: ({'pax': 21}, {'proukr': 51}, {'nocare': 5}, {'prorus': 5})},\n",
       " {17: ({'pax': 19}, {'proukr': 56}, {'nocare': 2}, {'prorus': 4})},\n",
       " {18: ({'pax': 23}, {'proukr': 45}, {'nocare': 7}, {'prorus': 5})},\n",
       " {19: ({'pax': 12}, {'proukr': 53}, {'nocare': 9}, {'prorus': 5})},\n",
       " {20: ({'pax': 16}, {'proukr': 50}, {'nocare': 2}, {'prorus': 3})},\n",
       " {21: ({'pax': 14}, {'proukr': 45}, {'nocare': 7}, {'prorus': 2})},\n",
       " {22: ({'pax': 16}, {'proukr': 46}, {'nocare': 4}, {'prorus': 1})},\n",
       " {23: ({'pax': 14}, {'proukr': 39}, {'nocare': 8}, {'prorus': 5})},\n",
       " {24: ({'pax': 8}, {'proukr': 47}, {'nocare': 7}, {'prorus': 3})},\n",
       " {25: ({'pax': 11}, {'proukr': 45}, {'nocare': 5}, {'prorus': 3})},\n",
       " {26: ({'pax': 13}, {'proukr': 41}, {'nocare': 2}, {'prorus': 2})},\n",
       " {27: ({'pax': 9}, {'proukr': 41}, {'nocare': 3}, {'prorus': 1})},\n",
       " {28: ({'pax': 11}, {'proukr': 37}, {'nocare': 3}, {'prorus': 0})},\n",
       " {29: ({'pax': 8}, {'proukr': 31}, {'nocare': 7}, {'prorus': 4})},\n",
       " {30: ({'pax': 14}, {'proukr': 28}, {'nocare': 2}, {'prorus': 4})},\n",
       " {31: ({'pax': 10}, {'proukr': 32}, {'nocare': 3}, {'prorus': 2})},\n",
       " {32: ({'pax': 14}, {'proukr': 29}, {'nocare': 2}, {'prorus': 1})},\n",
       " {33: ({'pax': 10}, {'proukr': 30}, {'nocare': 4}, {'prorus': 1})},\n",
       " {34: ({'pax': 10}, {'proukr': 30}, {'nocare': 1}, {'prorus': 4})},\n",
       " {35: ({'pax': 7}, {'proukr': 34}, {'nocare': 2}, {'prorus': 1})},\n",
       " {36: ({'pax': 9}, {'proukr': 26}, {'nocare': 5}, {'prorus': 3})},\n",
       " {37: ({'pax': 9}, {'proukr': 22}, {'nocare': 8}, {'prorus': 4})},\n",
       " {38: ({'pax': 3}, {'proukr': 35}, {'nocare': 3}, {'prorus': 1})},\n",
       " {39: ({'pax': 3}, {'proukr': 32}, {'nocare': 5}, {'prorus': 2})},\n",
       " {40: ({'pax': 7}, {'proukr': 24}, {'nocare': 4}, {'prorus': 4})},\n",
       " {41: ({'pax': 7}, {'proukr': 28}, {'nocare': 2}, {'prorus': 1})},\n",
       " {42: ({'pax': 8}, {'proukr': 22}, {'nocare': 6}, {'prorus': 2})},\n",
       " {43: ({'pax': 9}, {'proukr': 23}, {'nocare': 2}, {'prorus': 2})},\n",
       " {44: ({'pax': 5}, {'proukr': 27}, {'nocare': 4}, {'prorus': 0})},\n",
       " {45: ({'pax': 9}, {'proukr': 20}, {'nocare': 4}, {'prorus': 2})},\n",
       " {46: ({'pax': 7}, {'proukr': 22}, {'nocare': 3}, {'prorus': 3})},\n",
       " {47: ({'pax': 4}, {'proukr': 23}, {'nocare': 3}, {'prorus': 4})},\n",
       " {48: ({'pax': 7}, {'proukr': 21}, {'nocare': 3}, {'prorus': 2})},\n",
       " {49: ({'pax': 11}, {'proukr': 20}, {'nocare': 1}, {'prorus': 0})},\n",
       " {50: ({'pax': 8}, {'proukr': 18}, {'nocare': 2}, {'prorus': 2})},\n",
       " {51: ({'pax': 5}, {'proukr': 23}, {'nocare': 0}, {'prorus': 0})},\n",
       " {52: ({'pax': 6}, {'proukr': 21}, {'nocare': 1}, {'prorus': 0})},\n",
       " {53: ({'pax': 9}, {'proukr': 16}, {'nocare': 2}, {'prorus': 0})},\n",
       " {54: ({'pax': 5}, {'proukr': 20}, {'nocare': 0}, {'prorus': 1})},\n",
       " {55: ({'pax': 5}, {'proukr': 17}, {'nocare': 3}, {'prorus': 1})},\n",
       " {56: ({'pax': 3}, {'proukr': 20}, {'nocare': 2}, {'prorus': 0})},\n",
       " {57: ({'pax': 8}, {'proukr': 15}, {'nocare': 1}, {'prorus': 1})},\n",
       " {58: ({'pax': 6}, {'proukr': 17}, {'nocare': 2}, {'prorus': 0})},\n",
       " {59: ({'pax': 1}, {'proukr': 21}, {'nocare': 0}, {'prorus': 1})},\n",
       " {60: ({'pax': 8}, {'proukr': 11}, {'nocare': 4}, {'prorus': 0})},\n",
       " {61: ({'pax': 5}, {'proukr': 13}, {'nocare': 2}, {'prorus': 3})},\n",
       " {62: ({'pax': 3}, {'proukr': 15}, {'nocare': 1}, {'prorus': 3})},\n",
       " {63: ({'pax': 8}, {'proukr': 12}, {'nocare': 2}, {'prorus': 0})},\n",
       " {64: ({'pax': 7}, {'proukr': 12}, {'nocare': 2}, {'prorus': 1})},\n",
       " {65: ({'pax': 3}, {'proukr': 16}, {'nocare': 3}, {'prorus': 0})},\n",
       " {66: ({'pax': 4}, {'proukr': 15}, {'nocare': 2}, {'prorus': 0})},\n",
       " {67: ({'pax': 1}, {'proukr': 16}, {'nocare': 2}, {'prorus': 1})},\n",
       " {68: ({'pax': 2}, {'proukr': 16}, {'nocare': 0}, {'prorus': 2})},\n",
       " {69: ({'pax': 2}, {'proukr': 16}, {'nocare': 2}, {'prorus': 0})},\n",
       " {70: ({'pax': 5}, {'proukr': 13}, {'nocare': 2}, {'prorus': 0})},\n",
       " {71: ({'pax': 6}, {'proukr': 12}, {'nocare': 0}, {'prorus': 1})},\n",
       " {72: ({'pax': 4}, {'proukr': 15}, {'nocare': 0}, {'prorus': 0})},\n",
       " {73: ({'pax': 5}, {'proukr': 12}, {'nocare': 2}, {'prorus': 0})},\n",
       " {74: ({'pax': 2}, {'proukr': 17}, {'nocare': 0}, {'prorus': 0})},\n",
       " {75: ({'pax': 7}, {'proukr': 10}, {'nocare': 0}, {'prorus': 2})},\n",
       " {76: ({'pax': 6}, {'proukr': 12}, {'nocare': 0}, {'prorus': 1})},\n",
       " {77: ({'pax': 2}, {'proukr': 14}, {'nocare': 3}, {'prorus': 0})},\n",
       " {78: ({'pax': 7}, {'proukr': 11}, {'nocare': 1}, {'prorus': 0})},\n",
       " {79: ({'pax': 4}, {'proukr': 11}, {'nocare': 3}, {'prorus': 0})},\n",
       " {80: ({'pax': 3}, {'proukr': 14}, {'nocare': 1}, {'prorus': 0})},\n",
       " {81: ({'pax': 4}, {'proukr': 11}, {'nocare': 3}, {'prorus': 0})},\n",
       " {82: ({'pax': 2}, {'proukr': 12}, {'nocare': 2}, {'prorus': 1})},\n",
       " {83: ({'pax': 2}, {'proukr': 13}, {'nocare': 0}, {'prorus': 2})},\n",
       " {84: ({'pax': 8}, {'proukr': 7}, {'nocare': 1}, {'prorus': 0})},\n",
       " {85: ({'pax': 1}, {'proukr': 13}, {'nocare': 0}, {'prorus': 2})},\n",
       " {86: ({'pax': 0}, {'proukr': 15}, {'nocare': 0}, {'prorus': 1})},\n",
       " {87: ({'pax': 3}, {'proukr': 13}, {'nocare': 0}, {'prorus': 0})},\n",
       " {88: ({'pax': 4}, {'proukr': 7}, {'nocare': 2}, {'prorus': 3})},\n",
       " {89: ({'pax': 2}, {'proukr': 11}, {'nocare': 2}, {'prorus': 0})},\n",
       " {90: ({'pax': 2}, {'proukr': 10}, {'nocare': 1}, {'prorus': 1})},\n",
       " {91: ({'pax': 0}, {'proukr': 11}, {'nocare': 0}, {'prorus': 2})},\n",
       " {92: ({'pax': 2}, {'proukr': 11}, {'nocare': 0}, {'prorus': 0})},\n",
       " {93: ({'pax': 5}, {'proukr': 7}, {'nocare': 1}, {'prorus': 0})},\n",
       " {94: ({'pax': 2}, {'proukr': 9}, {'nocare': 2}, {'prorus': 0})},\n",
       " {95: ({'pax': 2}, {'proukr': 10}, {'nocare': 0}, {'prorus': 0})},\n",
       " {96: ({'pax': 4}, {'proukr': 8}, {'nocare': 0}, {'prorus': 0})},\n",
       " {97: ({'pax': 1}, {'proukr': 10}, {'nocare': 1}, {'prorus': 0})},\n",
       " {98: ({'pax': 2}, {'proukr': 9}, {'nocare': 1}, {'prorus': 0})},\n",
       " {99: ({'pax': 0}, {'proukr': 10}, {'nocare': 0}, {'prorus': 1})},\n",
       " {100: ({'pax': 1}, {'proukr': 7}, {'nocare': 1}, {'prorus': 2})},\n",
       " {101: ({'pax': 3}, {'proukr': 8}, {'nocare': 0}, {'prorus': 0})},\n",
       " {102: ({'pax': 5}, {'proukr': 6}, {'nocare': 0}, {'prorus': 0})},\n",
       " {103: ({'pax': 4}, {'proukr': 6}, {'nocare': 1}, {'prorus': 0})},\n",
       " {104: ({'pax': 3}, {'proukr': 8}, {'nocare': 0}, {'prorus': 0})},\n",
       " {105: ({'pax': 2}, {'proukr': 8}, {'nocare': 1}, {'prorus': 0})},\n",
       " {106: ({'pax': 1}, {'proukr': 8}, {'nocare': 1}, {'prorus': 1})},\n",
       " {107: ({'pax': 2}, {'proukr': 5}, {'nocare': 2}, {'prorus': 2})},\n",
       " {108: ({'pax': 3}, {'proukr': 8}, {'nocare': 0}, {'prorus': 0})},\n",
       " {109: ({'pax': 1}, {'proukr': 8}, {'nocare': 1}, {'prorus': 1})},\n",
       " {110: ({'pax': 2}, {'proukr': 7}, {'nocare': 0}, {'prorus': 1})},\n",
       " {111: ({'pax': 2}, {'proukr': 7}, {'nocare': 0}, {'prorus': 1})},\n",
       " {112: ({'pax': 1}, {'proukr': 8}, {'nocare': 0}, {'prorus': 1})},\n",
       " {113: ({'pax': 3}, {'proukr': 7}, {'nocare': 0}, {'prorus': 0})},\n",
       " {114: ({'pax': 1}, {'proukr': 6}, {'nocare': 3}, {'prorus': 0})},\n",
       " {115: ({'pax': 4}, {'proukr': 4}, {'nocare': 1}, {'prorus': 0})},\n",
       " {116: ({'pax': 2}, {'proukr': 5}, {'nocare': 1}, {'prorus': 1})},\n",
       " {117: ({'pax': 2}, {'proukr': 7}, {'nocare': 0}, {'prorus': 0})},\n",
       " {118: ({'pax': 4}, {'proukr': 5}, {'nocare': 0}, {'prorus': 0})},\n",
       " {119: ({'pax': 2}, {'proukr': 6}, {'nocare': 1}, {'prorus': 0})},\n",
       " {120: ({'pax': 2}, {'proukr': 7}, {'nocare': 0}, {'prorus': 0})},\n",
       " {121: ({'pax': 5}, {'proukr': 4}, {'nocare': 0}, {'prorus': 0})},\n",
       " {122: ({'pax': 1}, {'proukr': 7}, {'nocare': 1}, {'prorus': 0})},\n",
       " {123: ({'pax': 2}, {'proukr': 7}, {'nocare': 0}, {'prorus': 0})},\n",
       " {124: ({'pax': 0}, {'proukr': 8}, {'nocare': 0}, {'prorus': 0})},\n",
       " {125: ({'pax': 0}, {'proukr': 6}, {'nocare': 1}, {'prorus': 1})},\n",
       " {126: ({'pax': 2}, {'proukr': 4}, {'nocare': 1}, {'prorus': 1})},\n",
       " {127: ({'pax': 0}, {'proukr': 5}, {'nocare': 1}, {'prorus': 2})},\n",
       " {128: ({'pax': 0}, {'proukr': 7}, {'nocare': 1}, {'prorus': 0})},\n",
       " {129: ({'pax': 3}, {'proukr': 5}, {'nocare': 0}, {'prorus': 0})},\n",
       " {130: ({'pax': 1}, {'proukr': 6}, {'nocare': 1}, {'prorus': 0})},\n",
       " {131: ({'pax': 1}, {'proukr': 6}, {'nocare': 0}, {'prorus': 1})},\n",
       " {132: ({'pax': 1}, {'proukr': 6}, {'nocare': 1}, {'prorus': 0})},\n",
       " {133: ({'pax': 0}, {'proukr': 7}, {'nocare': 0}, {'prorus': 1})},\n",
       " {134: ({'pax': 2}, {'proukr': 5}, {'nocare': 1}, {'prorus': 0})},\n",
       " {135: ({'pax': 3}, {'proukr': 4}, {'nocare': 0}, {'prorus': 0})},\n",
       " {136: ({'pax': 0}, {'proukr': 7}, {'nocare': 0}, {'prorus': 0})},\n",
       " {137: ({'pax': 2}, {'proukr': 2}, {'nocare': 3}, {'prorus': 0})},\n",
       " {138: ({'pax': 1}, {'proukr': 6}, {'nocare': 0}, {'prorus': 0})},\n",
       " {139: ({'pax': 2}, {'proukr': 4}, {'nocare': 0}, {'prorus': 1})},\n",
       " {140: ({'pax': 1}, {'proukr': 6}, {'nocare': 0}, {'prorus': 0})},\n",
       " {141: ({'pax': 2}, {'proukr': 4}, {'nocare': 1}, {'prorus': 0})},\n",
       " {142: ({'pax': 2}, {'proukr': 4}, {'nocare': 0}, {'prorus': 1})},\n",
       " {143: ({'pax': 0}, {'proukr': 6}, {'nocare': 1}, {'prorus': 0})},\n",
       " {144: ({'pax': 3}, {'proukr': 3}, {'nocare': 0}, {'prorus': 1})},\n",
       " {145: ({'pax': 1}, {'proukr': 5}, {'nocare': 0}, {'prorus': 0})},\n",
       " {146: ({'pax': 3}, {'proukr': 3}, {'nocare': 0}, {'prorus': 0})},\n",
       " {147: ({'pax': 3}, {'proukr': 2}, {'nocare': 0}, {'prorus': 1})},\n",
       " {148: ({'pax': 0}, {'proukr': 6}, {'nocare': 0}, {'prorus': 0})},\n",
       " {149: ({'pax': 1}, {'proukr': 5}, {'nocare': 0}, {'prorus': 0})},\n",
       " {150: ({'pax': 3}, {'proukr': 2}, {'nocare': 0}, {'prorus': 1})},\n",
       " {151: ({'pax': 3}, {'proukr': 2}, {'nocare': 0}, {'prorus': 1})},\n",
       " {152: ({'pax': 0}, {'proukr': 5}, {'nocare': 1}, {'prorus': 0})},\n",
       " {153: ({'pax': 1}, {'proukr': 4}, {'nocare': 1}, {'prorus': 0})},\n",
       " {154: ({'pax': 1}, {'proukr': 4}, {'nocare': 0}, {'prorus': 1})},\n",
       " {155: ({'pax': 1}, {'proukr': 4}, {'nocare': 0}, {'prorus': 1})},\n",
       " {156: ({'pax': 2}, {'proukr': 4}, {'nocare': 0}, {'prorus': 0})},\n",
       " {157: ({'pax': 0}, {'proukr': 6}, {'nocare': 0}, {'prorus': 0})},\n",
       " {158: ({'pax': 2}, {'proukr': 3}, {'nocare': 0}, {'prorus': 0})},\n",
       " {159: ({'pax': 3}, {'proukr': 2}, {'nocare': 0}, {'prorus': 0})},\n",
       " {160: ({'pax': 0}, {'proukr': 5}, {'nocare': 0}, {'prorus': 0})},\n",
       " {161: ({'pax': 1}, {'proukr': 4}, {'nocare': 0}, {'prorus': 0})},\n",
       " {162: ({'pax': 3}, {'proukr': 2}, {'nocare': 0}, {'prorus': 0})},\n",
       " {163: ({'pax': 1}, {'proukr': 4}, {'nocare': 0}, {'prorus': 0})},\n",
       " {164: ({'pax': 0}, {'proukr': 5}, {'nocare': 0}, {'prorus': 0})},\n",
       " {165: ({'pax': 1}, {'proukr': 3}, {'nocare': 0}, {'prorus': 1})},\n",
       " {166: ({'pax': 1}, {'proukr': 4}, {'nocare': 0}, {'prorus': 0})},\n",
       " {167: ({'pax': 0}, {'proukr': 4}, {'nocare': 1}, {'prorus': 0})},\n",
       " {168: ({'pax': 2}, {'proukr': 3}, {'nocare': 0}, {'prorus': 0})},\n",
       " {169: ({'pax': 1}, {'proukr': 2}, {'nocare': 0}, {'prorus': 2})},\n",
       " {170: ({'pax': 0}, {'proukr': 4}, {'nocare': 0}, {'prorus': 1})},\n",
       " {171: ({'pax': 2}, {'proukr': 2}, {'nocare': 0}, {'prorus': 1})},\n",
       " {172: ({'pax': 2}, {'proukr': 3}, {'nocare': 0}, {'prorus': 0})},\n",
       " {173: ({'pax': 0}, {'proukr': 3}, {'nocare': 1}, {'prorus': 0})},\n",
       " {174: ({'pax': 1}, {'proukr': 3}, {'nocare': 0}, {'prorus': 0})},\n",
       " {175: ({'pax': 2}, {'proukr': 2}, {'nocare': 0}, {'prorus': 0})},\n",
       " {176: ({'pax': 0}, {'proukr': 2}, {'nocare': 2}, {'prorus': 0})},\n",
       " {177: ({'pax': 0}, {'proukr': 3}, {'nocare': 0}, {'prorus': 1})},\n",
       " {178: ({'pax': 0}, {'proukr': 3}, {'nocare': 1}, {'prorus': 0})},\n",
       " {179: ({'pax': 1}, {'proukr': 3}, {'nocare': 0}, {'prorus': 0})},\n",
       " {180: ({'pax': 2}, {'proukr': 2}, {'nocare': 0}, {'prorus': 0})},\n",
       " {181: ({'pax': 0}, {'proukr': 4}, {'nocare': 0}, {'prorus': 0})},\n",
       " {182: ({'pax': 0}, {'proukr': 3}, {'nocare': 0}, {'prorus': 1})},\n",
       " {183: ({'pax': 1}, {'proukr': 3}, {'nocare': 0}, {'prorus': 0})},\n",
       " {184: ({'pax': 1}, {'proukr': 3}, {'nocare': 0}, {'prorus': 0})},\n",
       " {185: ({'pax': 2}, {'proukr': 1}, {'nocare': 1}, {'prorus': 0})},\n",
       " {186: ({'pax': 0}, {'proukr': 3}, {'nocare': 1}, {'prorus': 0})},\n",
       " {187: ({'pax': 1}, {'proukr': 3}, {'nocare': 0}, {'prorus': 0})},\n",
       " {188: ({'pax': 1}, {'proukr': 2}, {'nocare': 1}, {'prorus': 0})},\n",
       " {189: ({'pax': 0}, {'proukr': 4}, {'nocare': 0}, {'prorus': 0})},\n",
       " {190: ({'pax': 1}, {'proukr': 2}, {'nocare': 1}, {'prorus': 0})},\n",
       " {191: ({'pax': 1}, {'proukr': 3}, {'nocare': 0}, {'prorus': 0})},\n",
       " {192: ({'pax': 1}, {'proukr': 3}, {'nocare': 0}, {'prorus': 0})},\n",
       " {193: ({'pax': 0}, {'proukr': 4}, {'nocare': 0}, {'prorus': 0})},\n",
       " {194: ({'pax': 1}, {'proukr': 3}, {'nocare': 0}, {'prorus': 0})},\n",
       " {195: ({'pax': 1}, {'proukr': 3}, {'nocare': 0}, {'prorus': 0})},\n",
       " {196: ({'pax': 1}, {'proukr': 3}, {'nocare': 0}, {'prorus': 0})},\n",
       " {197: ({'pax': 0}, {'proukr': 4}, {'nocare': 0}, {'prorus': 0})},\n",
       " {198: ({'pax': 1}, {'proukr': 1}, {'nocare': 1}, {'prorus': 0})},\n",
       " {199: ({'pax': 1}, {'proukr': 1}, {'nocare': 0}, {'prorus': 1})},\n",
       " {200: ({'pax': 2}, {'proukr': 1}, {'nocare': 0}, {'prorus': 0})},\n",
       " {201: ({'pax': 0}, {'proukr': 3}, {'nocare': 0}, {'prorus': 0})},\n",
       " {202: ({'pax': 0}, {'proukr': 3}, {'nocare': 0}, {'prorus': 0})},\n",
       " {203: ({'pax': 0}, {'proukr': 3}, {'nocare': 0}, {'prorus': 0})},\n",
       " {204: ({'pax': 0}, {'proukr': 3}, {'nocare': 0}, {'prorus': 0})},\n",
       " {205: ({'pax': 0}, {'proukr': 3}, {'nocare': 0}, {'prorus': 0})},\n",
       " {206: ({'pax': 1}, {'proukr': 2}, {'nocare': 0}, {'prorus': 0})},\n",
       " {207: ({'pax': 0}, {'proukr': 3}, {'nocare': 0}, {'prorus': 0})},\n",
       " {208: ({'pax': 0}, {'proukr': 3}, {'nocare': 0}, {'prorus': 0})},\n",
       " {209: ({'pax': 2}, {'proukr': 1}, {'nocare': 0}, {'prorus': 0})},\n",
       " {210: ({'pax': 2}, {'proukr': 0}, {'nocare': 0}, {'prorus': 1})},\n",
       " {211: ({'pax': 3}, {'proukr': 0}, {'nocare': 0}, {'prorus': 0})},\n",
       " {212: ({'pax': 0}, {'proukr': 3}, {'nocare': 0}, {'prorus': 0})},\n",
       " {213: ({'pax': 1}, {'proukr': 2}, {'nocare': 0}, {'prorus': 0})},\n",
       " {214: ({'pax': 1}, {'proukr': 1}, {'nocare': 1}, {'prorus': 0})},\n",
       " {215: ({'pax': 0}, {'proukr': 3}, {'nocare': 0}, {'prorus': 0})},\n",
       " {216: ({'pax': 2}, {'proukr': 1}, {'nocare': 0}, {'prorus': 0})},\n",
       " {217: ({'pax': 1}, {'proukr': 2}, {'nocare': 0}, {'prorus': 0})},\n",
       " {218: ({'pax': 1}, {'proukr': 2}, {'nocare': 0}, {'prorus': 0})},\n",
       " {219: ({'pax': 0}, {'proukr': 3}, {'nocare': 0}, {'prorus': 0})},\n",
       " {220: ({'pax': 0}, {'proukr': 2}, {'nocare': 0}, {'prorus': 1})},\n",
       " {221: ({'pax': 0}, {'proukr': 2}, {'nocare': 0}, {'prorus': 0})}]"
      ]
     },
     "execution_count": 101,
     "metadata": {},
     "output_type": "execute_result"
    }
   ],
   "source": [
    "k_clique_com=k_clique.communities\n",
    "communities=[]\n",
    "\n",
    "for i, c in enumerate(k_clique_com):\n",
    "    loc={}\n",
    "    loc_set=set()\n",
    "    cat_value={}\n",
    "    pax={}\n",
    "    proukr={}\n",
    "    nocare={}\n",
    "    prorus={}\n",
    "    c_pax=0\n",
    "    c_proukr=0\n",
    "    c_nocare=0\n",
    "    c_prorus=0\n",
    "    for e in c:\n",
    "        if (df_nodes.loc[df_nodes.index==e,'cat'] =='pax').any()==True:\n",
    "            loc_set.add(\"\".join(str(l) for l in df_nodes['location'][e]))\n",
    "            c_pax += 1\n",
    "        elif (df_nodes.loc[df_nodes.index==e,'cat'] =='proukr').any()==True:\n",
    "            loc_set.add(\"\".join(str(l) for l in df_nodes['location'][e]))\n",
    "            c_proukr += 1\n",
    "        elif (df_nodes.loc[df_nodes.index==e,'cat'] =='prorus').any()==True:\n",
    "            loc_set.add(\"\".join(str(l) for l in df_nodes['location'][e]))\n",
    "            c_prorus += 1\n",
    "        elif (df_nodes.loc[df_nodes.index==e,'cat'] =='dontcare').any()==True:\n",
    "            loc_set.add(\"\".join(str(l) for l in df_nodes['location'][e]))\n",
    "            c_nocare +=1\n",
    "        pax['pax']=c_pax\n",
    "        proukr['proukr']=c_proukr\n",
    "        nocare['nocare']=c_nocare\n",
    "        prorus['prorus']=c_prorus\n",
    "        loc['loc']=loc_set\n",
    "        cat_value[i]=pax,proukr,nocare,prorus#,loc\n",
    "    communities.append(cat_value)\n",
    "communities"
   ]
  },
  {
   "cell_type": "code",
   "execution_count": 102,
   "id": "de49fc90",
   "metadata": {},
   "outputs": [
    {
     "data": {
      "text/plain": [
       "222"
      ]
     },
     "execution_count": 102,
     "metadata": {},
     "output_type": "execute_result"
    }
   ],
   "source": [
    "len(k_clique.communities)"
   ]
  },
  {
   "cell_type": "code",
   "execution_count": 103,
   "id": "hollywood-horse",
   "metadata": {},
   "outputs": [
    {
     "data": {
      "text/plain": [
       "False"
      ]
     },
     "execution_count": 103,
     "metadata": {},
     "output_type": "execute_result"
    }
   ],
   "source": [
    "k_clique.overlap"
   ]
  },
  {
   "cell_type": "code",
   "execution_count": 104,
   "id": "moral-slovak",
   "metadata": {},
   "outputs": [
    {
     "data": {
      "text/plain": [
       "1.0"
      ]
     },
     "execution_count": 104,
     "metadata": {},
     "output_type": "execute_result"
    }
   ],
   "source": [
    "k_clique.node_coverage"
   ]
  },
  {
   "cell_type": "code",
   "execution_count": 76,
   "id": "accredited-august",
   "metadata": {},
   "outputs": [],
   "source": [
    "#k_clique.to_json()"
   ]
  },
  {
   "cell_type": "markdown",
   "id": "antique-question",
   "metadata": {},
   "source": [
    "# k-Clique"
   ]
  },
  {
   "cell_type": "code",
   "execution_count": 127,
   "id": "acting-panama",
   "metadata": {},
   "outputs": [],
   "source": [
    "angel= algorithms.kclique(G, k=3) #.angel(G, min_community_size=3, threshold=0.25) #demon(G, min_com_size=3, epsilon =0.3)"
   ]
  },
  {
   "cell_type": "code",
   "execution_count": 128,
   "id": "stopped-reception",
   "metadata": {},
   "outputs": [
    {
     "data": {
      "text/plain": [
       "{'k': 3}"
      ]
     },
     "execution_count": 128,
     "metadata": {},
     "output_type": "execute_result"
    }
   ],
   "source": [
    "angel.method_parameters"
   ]
  },
  {
   "cell_type": "code",
   "execution_count": 129,
   "id": "brazilian-album",
   "metadata": {},
   "outputs": [
    {
     "data": {
      "text/plain": [
       "[{0: ({'pax': 66}, {'proukr': 183}, {'nocare': 16}, {'prorus': 11})},\n",
       " {1: ({'pax': 25}, {'proukr': 86}, {'nocare': 7}, {'prorus': 7})},\n",
       " {2: ({'pax': 14}, {'proukr': 26}, {'nocare': 2}, {'prorus': 3})},\n",
       " {3: ({'pax': 7}, {'proukr': 24}, {'nocare': 4}, {'prorus': 1})},\n",
       " {4: ({'pax': 4}, {'proukr': 9}, {'nocare': 2}, {'prorus': 0})},\n",
       " {5: ({'pax': 4}, {'proukr': 7}, {'nocare': 1}, {'prorus': 1})},\n",
       " {6: ({'pax': 1}, {'proukr': 6}, {'nocare': 1}, {'prorus': 0})},\n",
       " {7: ({'pax': 2}, {'proukr': 5}, {'nocare': 0}, {'prorus': 0})},\n",
       " {8: ({'pax': 2}, {'proukr': 2}, {'nocare': 1}, {'prorus': 0})},\n",
       " {9: ({'pax': 1}, {'proukr': 4}, {'nocare': 0}, {'prorus': 0})},\n",
       " {10: ({'pax': 0}, {'proukr': 3}, {'nocare': 1}, {'prorus': 1})},\n",
       " {11: ({'pax': 1}, {'proukr': 1}, {'nocare': 0}, {'prorus': 2})},\n",
       " {12: ({'pax': 3}, {'proukr': 0}, {'nocare': 0}, {'prorus': 1})},\n",
       " {13: ({'pax': 1}, {'proukr': 3}, {'nocare': 0}, {'prorus': 0})},\n",
       " {14: ({'pax': 2}, {'proukr': 0}, {'nocare': 0}, {'prorus': 1})},\n",
       " {15: ({'pax': 3}, {'proukr': 0}, {'nocare': 0}, {'prorus': 0})},\n",
       " {16: ({'pax': 3}, {'proukr': 0}, {'nocare': 0}, {'prorus': 0})},\n",
       " {17: ({'pax': 0}, {'proukr': 3}, {'nocare': 0}, {'prorus': 0})},\n",
       " {18: ({'pax': 0}, {'proukr': 3}, {'nocare': 0}, {'prorus': 0})},\n",
       " {19: ({'pax': 0}, {'proukr': 3}, {'nocare': 0}, {'prorus': 0})},\n",
       " {20: ({'pax': 1}, {'proukr': 2}, {'nocare': 0}, {'prorus': 0})},\n",
       " {21: ({'pax': 1}, {'proukr': 2}, {'nocare': 0}, {'prorus': 0})},\n",
       " {22: ({'pax': 0}, {'proukr': 2}, {'nocare': 0}, {'prorus': 1})},\n",
       " {23: ({'pax': 0}, {'proukr': 3}, {'nocare': 0}, {'prorus': 0})},\n",
       " {24: ({'pax': 1}, {'proukr': 1}, {'nocare': 0}, {'prorus': 1})},\n",
       " {25: ({'pax': 1}, {'proukr': 1}, {'nocare': 0}, {'prorus': 1})},\n",
       " {26: ({'pax': 1}, {'proukr': 2}, {'nocare': 0}, {'prorus': 0})},\n",
       " {27: ({'pax': 1}, {'proukr': 2}, {'nocare': 0}, {'prorus': 0})},\n",
       " {28: ({'pax': 0}, {'proukr': 3}, {'nocare': 0}, {'prorus': 0})},\n",
       " {29: ({'pax': 1}, {'proukr': 2}, {'nocare': 0}, {'prorus': 0})},\n",
       " {30: ({'pax': 1}, {'proukr': 2}, {'nocare': 0}, {'prorus': 0})},\n",
       " {31: ({'pax': 1}, {'proukr': 1}, {'nocare': 0}, {'prorus': 1})},\n",
       " {32: ({'pax': 1}, {'proukr': 2}, {'nocare': 0}, {'prorus': 0})},\n",
       " {33: ({'pax': 1}, {'proukr': 2}, {'nocare': 0}, {'prorus': 0})},\n",
       " {34: ({'pax': 1}, {'proukr': 1}, {'nocare': 0}, {'prorus': 1})},\n",
       " {35: ({'pax': 0}, {'proukr': 1}, {'nocare': 2}, {'prorus': 0})},\n",
       " {36: ({'pax': 0}, {'proukr': 3}, {'nocare': 0}, {'prorus': 0})},\n",
       " {37: ({'pax': 0}, {'proukr': 2}, {'nocare': 0}, {'prorus': 1})},\n",
       " {38: ({'pax': 2}, {'proukr': 0}, {'nocare': 0}, {'prorus': 1})}]"
      ]
     },
     "execution_count": 129,
     "metadata": {},
     "output_type": "execute_result"
    }
   ],
   "source": [
    "angel_com=angel.communities\n",
    "communities=[]\n",
    "\n",
    "for i, c in enumerate(angel_com):\n",
    "    loc={}\n",
    "    loc_set=set()\n",
    "    cat_value={}\n",
    "    pax={}\n",
    "    proukr={}\n",
    "    nocare={}\n",
    "    prorus={}\n",
    "    c_pax=0\n",
    "    c_proukr=0\n",
    "    c_nocare=0\n",
    "    c_prorus=0\n",
    "    for e in c:\n",
    "        if (df_nodes.loc[df_nodes.index==e,'cat'] =='pax').any()==True:\n",
    "            loc_set.add(\"\".join(str(l) for l in df_nodes['location'][e]))\n",
    "            c_pax += 1\n",
    "        elif (df_nodes.loc[df_nodes.index==e,'cat'] =='proukr').any()==True:\n",
    "            loc_set.add(\"\".join(str(l) for l in df_nodes['location'][e]))\n",
    "            c_proukr += 1\n",
    "        elif (df_nodes.loc[df_nodes.index==e,'cat'] =='prorus').any()==True:\n",
    "            loc_set.add(\"\".join(str(l) for l in df_nodes['location'][e]))\n",
    "            c_prorus += 1\n",
    "        elif (df_nodes.loc[df_nodes.index==e,'cat'] =='dontcare').any()==True:\n",
    "            loc_set.add(\"\".join(str(l) for l in df_nodes['location'][e]))\n",
    "            c_nocare +=1\n",
    "        pax['pax']=c_pax\n",
    "        proukr['proukr']=c_proukr\n",
    "        nocare['nocare']=c_nocare\n",
    "        prorus['prorus']=c_prorus\n",
    "        loc['loc']=loc_set\n",
    "        cat_value[i]=pax,proukr,nocare,prorus #,loc\n",
    "    communities.append(cat_value)\n",
    "communities"
   ]
  },
  {
   "cell_type": "code",
   "execution_count": 130,
   "id": "desperate-contemporary",
   "metadata": {},
   "outputs": [
    {
     "data": {
      "text/plain": [
       "True"
      ]
     },
     "execution_count": 130,
     "metadata": {},
     "output_type": "execute_result"
    }
   ],
   "source": [
    "angel.overlap"
   ]
  },
  {
   "cell_type": "code",
   "execution_count": 131,
   "id": "mental-graphics",
   "metadata": {},
   "outputs": [
    {
     "data": {
      "text/plain": [
       "0.058228593872741555"
      ]
     },
     "execution_count": 131,
     "metadata": {},
     "output_type": "execute_result"
    }
   ],
   "source": [
    "angel.node_coverage"
   ]
  },
  {
   "cell_type": "code",
   "execution_count": 94,
   "id": "brief-reserve",
   "metadata": {},
   "outputs": [],
   "source": [
    "#angel.to_json()"
   ]
  },
  {
   "cell_type": "markdown",
   "id": "large-underground",
   "metadata": {},
   "source": [
    "# Community Visualization"
   ]
  },
  {
   "cell_type": "code",
   "execution_count": 36,
   "id": "political-penny",
   "metadata": {},
   "outputs": [],
   "source": [
    "#pos = nx.spring_layout(G)"
   ]
  },
  {
   "cell_type": "code",
   "execution_count": 37,
   "id": "sexual-script",
   "metadata": {},
   "outputs": [],
   "source": [
    "#viz.plot_network_clusters(G, louvain, pos, figsize=(10, 10), plot_labels=False)\n",
    "#viz.plot_network_clusters(G,louvain, pos) visualizzazione alternativa"
   ]
  },
  {
   "cell_type": "code",
   "execution_count": 38,
   "id": "advised-pierre",
   "metadata": {},
   "outputs": [],
   "source": [
    "#viz.plot_network_clusters(G, label_prop, pos, figsize=(10, 10), plot_labels=False)"
   ]
  },
  {
   "cell_type": "code",
   "execution_count": 39,
   "id": "comic-knife",
   "metadata": {},
   "outputs": [],
   "source": [
    "#viz.plot_network_clusters(G, angel, pos, figsize=(10, 10), plot_labels=False)"
   ]
  },
  {
   "cell_type": "code",
   "execution_count": 40,
   "id": "touched-workstation",
   "metadata": {},
   "outputs": [],
   "source": [
    "#viz.plot_network_clusters(G, girvan_newman, pos, figsize=(10, 10), plot_labels=False)"
   ]
  },
  {
   "cell_type": "code",
   "execution_count": 41,
   "id": "gross-investor",
   "metadata": {},
   "outputs": [],
   "source": [
    "#viz.plot_community_graph(G, louvain, figsize=(5, 5))"
   ]
  },
  {
   "cell_type": "code",
   "execution_count": 42,
   "id": "enhanced-union",
   "metadata": {},
   "outputs": [],
   "source": [
    "#viz.plot_community_graph(G, label_prop, figsize=(5, 5))"
   ]
  },
  {
   "cell_type": "code",
   "execution_count": 43,
   "id": "chemical-paint",
   "metadata": {},
   "outputs": [],
   "source": [
    "#viz.plot_community_graph(G, angel, figsize=(5, 5))"
   ]
  },
  {
   "cell_type": "code",
   "execution_count": 44,
   "id": "altered-split",
   "metadata": {},
   "outputs": [],
   "source": [
    "#viz.plot_community_graph(G, k_clique, figsize=(5, 5))"
   ]
  },
  {
   "cell_type": "markdown",
   "id": "annoying-review",
   "metadata": {},
   "source": [
    "# Community Internal Evaluation"
   ]
  },
  {
   "cell_type": "code",
   "execution_count": 45,
   "id": "2f362781",
   "metadata": {},
   "outputs": [
    {
     "data": {
      "text/html": [
       "<pre style=\"white-space:pre;overflow-x:auto;line-height:normal;font-family:Menlo,'DejaVu Sans Mono',consolas,'Courier New',monospace\">internal_evaluation MIN\n",
       "</pre>\n"
      ],
      "text/plain": [
       "internal_evaluation MIN\n"
      ]
     },
     "metadata": {},
     "output_type": "display_data"
    },
    {
     "data": {
      "text/html": [
       "<div>\n",
       "<style scoped>\n",
       "    .dataframe tbody tr th:only-of-type {\n",
       "        vertical-align: middle;\n",
       "    }\n",
       "\n",
       "    .dataframe tbody tr th {\n",
       "        vertical-align: top;\n",
       "    }\n",
       "\n",
       "    .dataframe thead th {\n",
       "        text-align: right;\n",
       "    }\n",
       "</style>\n",
       "<table border=\"1\" class=\"dataframe\">\n",
       "  <thead>\n",
       "    <tr style=\"text-align: right;\">\n",
       "      <th></th>\n",
       "      <th>Number of communities</th>\n",
       "      <th>Size</th>\n",
       "      <th>Average Node Degree</th>\n",
       "      <th>Internal Edge Density</th>\n",
       "      <th>Modularity</th>\n",
       "      <th>Conductance</th>\n",
       "    </tr>\n",
       "    <tr>\n",
       "      <th></th>\n",
       "      <th></th>\n",
       "      <th></th>\n",
       "      <th></th>\n",
       "      <th></th>\n",
       "      <th></th>\n",
       "      <th></th>\n",
       "    </tr>\n",
       "  </thead>\n",
       "  <tbody>\n",
       "    <tr>\n",
       "      <th>louvain</th>\n",
       "      <td>51</td>\n",
       "      <td>4.000000</td>\n",
       "      <td>1.500000</td>\n",
       "      <td>0.001220</td>\n",
       "      <td>0</td>\n",
       "      <td>0.004367</td>\n",
       "    </tr>\n",
       "    <tr>\n",
       "      <th>label_prop</th>\n",
       "      <td>360</td>\n",
       "      <td>1641.000000</td>\n",
       "      <td>3.169591</td>\n",
       "      <td>0.500000</td>\n",
       "      <td>0</td>\n",
       "      <td>0.183007</td>\n",
       "    </tr>\n",
       "    <tr>\n",
       "      <th>k_clique</th>\n",
       "      <td>13</td>\n",
       "      <td>199.686275</td>\n",
       "      <td>2.004696</td>\n",
       "      <td>0.072847</td>\n",
       "      <td>92.506276</td>\n",
       "      <td>0.085020</td>\n",
       "    </tr>\n",
       "    <tr>\n",
       "      <th>angel</th>\n",
       "      <td>23</td>\n",
       "      <td>281.294591</td>\n",
       "      <td>0.250130</td>\n",
       "      <td>0.131658</td>\n",
       "      <td>0</td>\n",
       "      <td>0.049932</td>\n",
       "    </tr>\n",
       "  </tbody>\n",
       "</table>\n",
       "</div>"
      ],
      "text/plain": [
       "            Number of communities         Size  Average Node Degree  \\\n",
       "                                                                      \n",
       "louvain                        51     4.000000             1.500000   \n",
       "label_prop                    360  1641.000000             3.169591   \n",
       "k_clique                       13   199.686275             2.004696   \n",
       "angel                          23   281.294591             0.250130   \n",
       "\n",
       "            Internal Edge Density Modularity  Conductance  \n",
       "                                                           \n",
       "louvain                  0.001220          0     0.004367  \n",
       "label_prop               0.500000          0     0.183007  \n",
       "k_clique                 0.072847  92.506276     0.085020  \n",
       "angel                    0.131658          0     0.049932  "
      ]
     },
     "metadata": {},
     "output_type": "display_data"
    },
    {
     "data": {
      "text/html": [
       "<pre style=\"white-space:pre;overflow-x:auto;line-height:normal;font-family:Menlo,'DejaVu Sans Mono',consolas,'Courier New',monospace\">internal_evaluation MAX\n",
       "</pre>\n"
      ],
      "text/plain": [
       "internal_evaluation MAX\n"
      ]
     },
     "metadata": {},
     "output_type": "display_data"
    },
    {
     "data": {
      "text/html": [
       "<div>\n",
       "<style scoped>\n",
       "    .dataframe tbody tr th:only-of-type {\n",
       "        vertical-align: middle;\n",
       "    }\n",
       "\n",
       "    .dataframe tbody tr th {\n",
       "        vertical-align: top;\n",
       "    }\n",
       "\n",
       "    .dataframe thead th {\n",
       "        text-align: right;\n",
       "    }\n",
       "</style>\n",
       "<table border=\"1\" class=\"dataframe\">\n",
       "  <thead>\n",
       "    <tr style=\"text-align: right;\">\n",
       "      <th></th>\n",
       "      <th>Number of communities</th>\n",
       "      <th>Size</th>\n",
       "      <th>Average Node Degree</th>\n",
       "      <th>Internal Edge Density</th>\n",
       "      <th>Modularity</th>\n",
       "      <th>Conductance</th>\n",
       "    </tr>\n",
       "    <tr>\n",
       "      <th></th>\n",
       "      <th></th>\n",
       "      <th></th>\n",
       "      <th></th>\n",
       "      <th></th>\n",
       "      <th></th>\n",
       "      <th></th>\n",
       "    </tr>\n",
       "  </thead>\n",
       "  <tbody>\n",
       "    <tr>\n",
       "      <th>louvain</th>\n",
       "      <td>51</td>\n",
       "      <td>2.000000</td>\n",
       "      <td>1.000000</td>\n",
       "      <td>0.001038</td>\n",
       "      <td>0</td>\n",
       "      <td>0.016949</td>\n",
       "    </tr>\n",
       "    <tr>\n",
       "      <th>label_prop</th>\n",
       "      <td>360</td>\n",
       "      <td>1935.000000</td>\n",
       "      <td>2.685306</td>\n",
       "      <td>1.000000</td>\n",
       "      <td>0</td>\n",
       "      <td>0.777778</td>\n",
       "    </tr>\n",
       "    <tr>\n",
       "      <th>k_clique</th>\n",
       "      <td>13</td>\n",
       "      <td>28.288889</td>\n",
       "      <td>1.542433</td>\n",
       "      <td>0.464147</td>\n",
       "      <td>356.115741</td>\n",
       "      <td>0.252718</td>\n",
       "    </tr>\n",
       "    <tr>\n",
       "      <th>angel</th>\n",
       "      <td>23</td>\n",
       "      <td>138.167631</td>\n",
       "      <td>0.364454</td>\n",
       "      <td>0.353918</td>\n",
       "      <td>0</td>\n",
       "      <td>0.154631</td>\n",
       "    </tr>\n",
       "  </tbody>\n",
       "</table>\n",
       "</div>"
      ],
      "text/plain": [
       "            Number of communities         Size  Average Node Degree  \\\n",
       "                                                                      \n",
       "louvain                        51     2.000000             1.000000   \n",
       "label_prop                    360  1935.000000             2.685306   \n",
       "k_clique                       13    28.288889             1.542433   \n",
       "angel                          23   138.167631             0.364454   \n",
       "\n",
       "            Internal Edge Density  Modularity  Conductance  \n",
       "                                                            \n",
       "louvain                  0.001038           0     0.016949  \n",
       "label_prop               1.000000           0     0.777778  \n",
       "k_clique                 0.464147  356.115741     0.252718  \n",
       "angel                    0.353918           0     0.154631  "
      ]
     },
     "metadata": {},
     "output_type": "display_data"
    },
    {
     "data": {
      "text/html": [
       "<pre style=\"white-space:pre;overflow-x:auto;line-height:normal;font-family:Menlo,'DejaVu Sans Mono',consolas,'Courier New',monospace\">internal_evaluation SCORE\n",
       "</pre>\n"
      ],
      "text/plain": [
       "internal_evaluation SCORE\n"
      ]
     },
     "metadata": {},
     "output_type": "display_data"
    },
    {
     "data": {
      "text/html": [
       "<div>\n",
       "<style scoped>\n",
       "    .dataframe tbody tr th:only-of-type {\n",
       "        vertical-align: middle;\n",
       "    }\n",
       "\n",
       "    .dataframe tbody tr th {\n",
       "        vertical-align: top;\n",
       "    }\n",
       "\n",
       "    .dataframe thead th {\n",
       "        text-align: right;\n",
       "    }\n",
       "</style>\n",
       "<table border=\"1\" class=\"dataframe\">\n",
       "  <thead>\n",
       "    <tr style=\"text-align: right;\">\n",
       "      <th></th>\n",
       "      <th>Number of communities</th>\n",
       "      <th>Size</th>\n",
       "      <th>Average Node Degree</th>\n",
       "      <th>Internal Edge Density</th>\n",
       "      <th>Modularity</th>\n",
       "      <th>Conductance</th>\n",
       "    </tr>\n",
       "    <tr>\n",
       "      <th></th>\n",
       "      <th></th>\n",
       "      <th></th>\n",
       "      <th></th>\n",
       "      <th></th>\n",
       "      <th></th>\n",
       "      <th></th>\n",
       "    </tr>\n",
       "  </thead>\n",
       "  <tbody>\n",
       "    <tr>\n",
       "      <th>louvain</th>\n",
       "      <td>51</td>\n",
       "      <td>4.000000</td>\n",
       "      <td>1.500000</td>\n",
       "      <td>0.000506</td>\n",
       "      <td>0</td>\n",
       "      <td>0.004184</td>\n",
       "    </tr>\n",
       "    <tr>\n",
       "      <th>label_prop</th>\n",
       "      <td>360</td>\n",
       "      <td>3729.000000</td>\n",
       "      <td>2.715139</td>\n",
       "      <td>0.500000</td>\n",
       "      <td>0</td>\n",
       "      <td>0.961039</td>\n",
       "    </tr>\n",
       "    <tr>\n",
       "      <th>k_clique</th>\n",
       "      <td>13</td>\n",
       "      <td>783.384615</td>\n",
       "      <td>2.116539</td>\n",
       "      <td>0.060253</td>\n",
       "      <td>-10.978323</td>\n",
       "      <td>0.124254</td>\n",
       "    </tr>\n",
       "    <tr>\n",
       "      <th>angel</th>\n",
       "      <td>23</td>\n",
       "      <td>1151.659574</td>\n",
       "      <td>0.299963</td>\n",
       "      <td>0.129186</td>\n",
       "      <td>0</td>\n",
       "      <td>0.244284</td>\n",
       "    </tr>\n",
       "  </tbody>\n",
       "</table>\n",
       "</div>"
      ],
      "text/plain": [
       "            Number of communities         Size  Average Node Degree  \\\n",
       "                                                                      \n",
       "louvain                        51     4.000000             1.500000   \n",
       "label_prop                    360  3729.000000             2.715139   \n",
       "k_clique                       13   783.384615             2.116539   \n",
       "angel                          23  1151.659574             0.299963   \n",
       "\n",
       "            Internal Edge Density Modularity  Conductance  \n",
       "                                                           \n",
       "louvain                  0.000506          0     0.004184  \n",
       "label_prop               0.500000          0     0.961039  \n",
       "k_clique                 0.060253 -10.978323     0.124254  \n",
       "angel                    0.129186          0     0.244284  "
      ]
     },
     "metadata": {},
     "output_type": "display_data"
    },
    {
     "data": {
      "text/html": [
       "<pre style=\"white-space:pre;overflow-x:auto;line-height:normal;font-family:Menlo,'DejaVu Sans Mono',consolas,'Courier New',monospace\">internal_evaluation STD\n",
       "</pre>\n"
      ],
      "text/plain": [
       "internal_evaluation STD\n"
      ]
     },
     "metadata": {},
     "output_type": "display_data"
    },
    {
     "data": {
      "text/html": [
       "<div>\n",
       "<style scoped>\n",
       "    .dataframe tbody tr th:only-of-type {\n",
       "        vertical-align: middle;\n",
       "    }\n",
       "\n",
       "    .dataframe tbody tr th {\n",
       "        vertical-align: top;\n",
       "    }\n",
       "\n",
       "    .dataframe thead th {\n",
       "        text-align: right;\n",
       "    }\n",
       "</style>\n",
       "<table border=\"1\" class=\"dataframe\">\n",
       "  <thead>\n",
       "    <tr style=\"text-align: right;\">\n",
       "      <th></th>\n",
       "      <th>Number of communities</th>\n",
       "      <th>Size</th>\n",
       "      <th>Average Node Degree</th>\n",
       "      <th>Internal Edge Density</th>\n",
       "      <th>Modularity</th>\n",
       "      <th>Conductance</th>\n",
       "    </tr>\n",
       "    <tr>\n",
       "      <th></th>\n",
       "      <th></th>\n",
       "      <th></th>\n",
       "      <th></th>\n",
       "      <th></th>\n",
       "      <th></th>\n",
       "      <th></th>\n",
       "    </tr>\n",
       "  </thead>\n",
       "  <tbody>\n",
       "    <tr>\n",
       "      <th>louvain</th>\n",
       "      <td>51</td>\n",
       "      <td>4.000000</td>\n",
       "      <td>2.500000</td>\n",
       "      <td>0.028325</td>\n",
       "      <td>0</td>\n",
       "      <td>0.473684</td>\n",
       "    </tr>\n",
       "    <tr>\n",
       "      <th>label_prop</th>\n",
       "      <td>360</td>\n",
       "      <td>232.000000</td>\n",
       "      <td>7.836364</td>\n",
       "      <td>0.833333</td>\n",
       "      <td>0</td>\n",
       "      <td>0.993131</td>\n",
       "    </tr>\n",
       "    <tr>\n",
       "      <th>k_clique</th>\n",
       "      <td>13</td>\n",
       "      <td>51.782609</td>\n",
       "      <td>4.492944</td>\n",
       "      <td>0.351633</td>\n",
       "      <td>-1345.076099</td>\n",
       "      <td>0.796749</td>\n",
       "    </tr>\n",
       "    <tr>\n",
       "      <th>angel</th>\n",
       "      <td>23</td>\n",
       "      <td>61.492281</td>\n",
       "      <td>1.914473</td>\n",
       "      <td>0.292471</td>\n",
       "      <td>0</td>\n",
       "      <td>0.138139</td>\n",
       "    </tr>\n",
       "  </tbody>\n",
       "</table>\n",
       "</div>"
      ],
      "text/plain": [
       "            Number of communities        Size  Average Node Degree  \\\n",
       "                                                                     \n",
       "louvain                        51    4.000000             2.500000   \n",
       "label_prop                    360  232.000000             7.836364   \n",
       "k_clique                       13   51.782609             4.492944   \n",
       "angel                          23   61.492281             1.914473   \n",
       "\n",
       "            Internal Edge Density   Modularity  Conductance  \n",
       "                                                             \n",
       "louvain                  0.028325            0     0.473684  \n",
       "label_prop               0.833333            0     0.993131  \n",
       "k_clique                 0.351633 -1345.076099     0.796749  \n",
       "angel                    0.292471            0     0.138139  "
      ]
     },
     "metadata": {},
     "output_type": "display_data"
    }
   ],
   "source": [
    "method=[louvain,label_prop,k_clique,angel]\n",
    "name_algo=['louvain','label_prop','k_clique','angel']\n",
    "n_com=[]\n",
    "size=[]\n",
    "AND=[]\n",
    "IED=[]\n",
    "mod=[]\n",
    "cond=[]\n",
    "type_results=['MIN','MAX','SCORE', 'STD']\n",
    "for algo in method:\n",
    "    n_com.append(len(algo.communities))\n",
    "    size.append(algo.size())\n",
    "    AND.append(algo.average_internal_degree())\n",
    "    IED.append(algo.internal_edge_density())\n",
    "    mod.append(algo.modularity_density())\n",
    "    cond.append(algo.conductance())\n",
    "for i in range(len(type_results)):\n",
    "    internal_evaluation=pd.DataFrame({'':name_algo,\n",
    "                                     'Number of communities':n_com,\n",
    "                                      'Size': size[i],\n",
    "                                     'Average Node Degree': AND[i],\n",
    "                                      'Internal Edge Density':IED[i],\n",
    "                                      'Modularity':mod[i],\n",
    "                                      'Conductance':cond[i]})\n",
    "    internal_evaluation=internal_evaluation.fillna('0')\n",
    "    internal_evaluation=internal_evaluation.set_index('')\n",
    "    print('internal_evaluation', type_results[i])\n",
    "    display(internal_evaluation)"
   ]
  },
  {
   "cell_type": "markdown",
   "id": "sorted-study",
   "metadata": {},
   "source": [
    "### Community fitness/comparison visualization"
   ]
  },
  {
   "cell_type": "code",
   "execution_count": 132,
   "id": "774e32d6",
   "metadata": {},
   "outputs": [
    {
     "data": {
      "text/plain": [
       "<Figure size 2160x2160 with 0 Axes>"
      ]
     },
     "execution_count": 132,
     "metadata": {},
     "output_type": "execute_result"
    },
    {
     "data": {
      "image/png": "[encoded data removed]",
      "text/plain": [
       "<Figure size 432x288 with 1 Axes>"
      ]
     },
     "metadata": {
      "needs_background": "light"
     },
     "output_type": "display_data"
    },
    {
     "data": {
      "text/plain": [
       "<Figure size 2160x2160 with 0 Axes>"
      ]
     },
     "metadata": {},
     "output_type": "display_data"
    }
   ],
   "source": [
    "viz.plot_com_stat([louvain, label_prop, angel, k_clique], evaluation.size)\n",
    "plt.title('size box plot')\n",
    "plt.ylim([-100,1000])\n",
    "plt.figure(figsize=(30,30))\n"
   ]
  },
  {
   "cell_type": "code",
   "execution_count": 133,
   "id": "bab65858",
   "metadata": {},
   "outputs": [
    {
     "data": {
      "text/plain": [
       "<AxesSubplot:xlabel='Algorithm', ylabel='average_internal_degree'>"
      ]
     },
     "execution_count": 133,
     "metadata": {},
     "output_type": "execute_result"
    },
    {
     "data": {
      "image/png": "[encoded data removed]",
      "text/plain": [
       "<Figure size 432x288 with 1 Axes>"
      ]
     },
     "metadata": {
      "needs_background": "light"
     },
     "output_type": "display_data"
    }
   ],
   "source": [
    "viz.plot_com_stat([louvain, label_prop, angel, k_clique], evaluation.average_internal_degree)"
   ]
  },
  {
   "cell_type": "code",
   "execution_count": 134,
   "id": "8b322dcd",
   "metadata": {},
   "outputs": [
    {
     "data": {
      "text/plain": [
       "<AxesSubplot:xlabel='Algorithm', ylabel='internal_edge_density'>"
      ]
     },
     "execution_count": 134,
     "metadata": {},
     "output_type": "execute_result"
    },
    {
     "data": {
      "image/png": "[encoded data removed]",
      "text/plain": [
       "<Figure size 432x288 with 1 Axes>"
      ]
     },
     "metadata": {
      "needs_background": "light"
     },
     "output_type": "display_data"
    }
   ],
   "source": [
    "viz.plot_com_stat([louvain, label_prop, angel, k_clique], evaluation.internal_edge_density)"
   ]
  },
  {
   "cell_type": "code",
   "execution_count": 135,
   "id": "531f10ca",
   "metadata": {},
   "outputs": [
    {
     "data": {
      "text/plain": [
       "<matplotlib.legend.Legend at 0x2c2754bb880>"
      ]
     },
     "execution_count": 135,
     "metadata": {},
     "output_type": "execute_result"
    },
    {
     "data": {
      "image/png": "[encoded data removed]",
      "text/plain": [
       "<Figure size 360x360 with 1 Axes>"
      ]
     },
     "metadata": {
      "needs_background": "light"
     },
     "output_type": "display_data"
    }
   ],
   "source": [
    "ax=viz.plot_com_properties_relation([louvain, label_prop, angel, k_clique], evaluation.size, evaluation.average_internal_degree) \n",
    "plt.title('Average_Internal_Degree')\n",
    "plt.legend(bbox_to_anchor =(1, -0.10), ncol = 2)"
   ]
  },
  {
   "cell_type": "code",
   "execution_count": 136,
   "id": "altered-mirror",
   "metadata": {},
   "outputs": [
    {
     "data": {
      "text/plain": [
       "<matplotlib.legend.Legend at 0x2c2756755d0>"
      ]
     },
     "execution_count": 136,
     "metadata": {},
     "output_type": "execute_result"
    },
    {
     "data": {
      "image/png": "[encoded data removed]",
      "text/plain": [
       "<Figure size 360x360 with 1 Axes>"
      ]
     },
     "metadata": {
      "needs_background": "light"
     },
     "output_type": "display_data"
    }
   ],
   "source": [
    "viz.plot_com_properties_relation([louvain, label_prop, angel, k_clique], evaluation.size, evaluation.internal_edge_density)\n",
    "plt.title('Average_Internal_Degree')\n",
    "plt.legend(bbox_to_anchor =(1, -0.10), ncol = 2)"
   ]
  },
  {
   "cell_type": "markdown",
   "id": "surprised-philip",
   "metadata": {},
   "source": [
    "# Partition Comparison"
   ]
  },
  {
   "cell_type": "markdown",
   "id": "912c4481",
   "metadata": {},
   "source": [
    "### NMI"
   ]
  },
  {
   "cell_type": "code",
   "execution_count": 137,
   "id": "358907b5",
   "metadata": {},
   "outputs": [
    {
     "data": {
      "text/plain": [
       "MatchingResult(score=0.7963859306893196, std=None)"
      ]
     },
     "execution_count": 137,
     "metadata": {},
     "output_type": "execute_result"
    }
   ],
   "source": [
    "evaluation.normalized_mutual_information(louvain, label_prop)"
   ]
  },
  {
   "cell_type": "code",
   "execution_count": 138,
   "id": "835774e5",
   "metadata": {},
   "outputs": [
    {
     "data": {
      "text/plain": [
       "MatchingResult(score=0.8176532707290644, std=None)"
      ]
     },
     "execution_count": 138,
     "metadata": {},
     "output_type": "execute_result"
    }
   ],
   "source": [
    "evaluation.normalized_mutual_information(louvain, k_clique)"
   ]
  },
  {
   "cell_type": "code",
   "execution_count": 139,
   "id": "863515dd",
   "metadata": {},
   "outputs": [
    {
     "data": {
      "text/plain": [
       "MatchingResult(score=0.8682980545696777, std=None)"
      ]
     },
     "execution_count": 139,
     "metadata": {},
     "output_type": "execute_result"
    }
   ],
   "source": [
    "evaluation.normalized_mutual_information(label_prop, k_clique)"
   ]
  },
  {
   "cell_type": "markdown",
   "id": "88808f7e",
   "metadata": {},
   "source": [
    "### NF1"
   ]
  },
  {
   "cell_type": "code",
   "execution_count": 140,
   "id": "polar-radius",
   "metadata": {},
   "outputs": [
    {
     "data": {
      "text/plain": [
       "MatchingResult(score=0.024547685185185186, std=None)"
      ]
     },
     "execution_count": 140,
     "metadata": {},
     "output_type": "execute_result"
    }
   ],
   "source": [
    "evaluation.nf1(label_prop,louvain)"
   ]
  },
  {
   "cell_type": "code",
   "execution_count": 141,
   "id": "b2cead56",
   "metadata": {},
   "outputs": [
    {
     "data": {
      "text/plain": [
       "MatchingResult(score=0.0115208467359005, std=None)"
      ]
     },
     "execution_count": 141,
     "metadata": {},
     "output_type": "execute_result"
    }
   ],
   "source": [
    "evaluation.nf1(label_prop,angel)"
   ]
  },
  {
   "cell_type": "code",
   "execution_count": 142,
   "id": "9bc088d5",
   "metadata": {},
   "outputs": [
    {
     "data": {
      "text/plain": [
       "MatchingResult(score=0.33371710147647643, std=None)"
      ]
     },
     "execution_count": 142,
     "metadata": {},
     "output_type": "execute_result"
    }
   ],
   "source": [
    "evaluation.nf1(label_prop,k_clique)"
   ]
  },
  {
   "cell_type": "code",
   "execution_count": 143,
   "id": "91df7a60",
   "metadata": {},
   "outputs": [
    {
     "data": {
      "text/plain": [
       "MatchingResult(score=0.025487402938383325, std=None)"
      ]
     },
     "execution_count": 143,
     "metadata": {},
     "output_type": "execute_result"
    }
   ],
   "source": [
    "evaluation.nf1(louvain,angel)"
   ]
  },
  {
   "cell_type": "code",
   "execution_count": 144,
   "id": "b860337d",
   "metadata": {},
   "outputs": [
    {
     "data": {
      "text/plain": [
       "MatchingResult(score=0.14779513077090933, std=None)"
      ]
     },
     "execution_count": 144,
     "metadata": {},
     "output_type": "execute_result"
    }
   ],
   "source": [
    "evaluation.nf1(louvain,k_clique)"
   ]
  },
  {
   "cell_type": "code",
   "execution_count": 145,
   "id": "9f7334d8",
   "metadata": {},
   "outputs": [
    {
     "data": {
      "text/plain": [
       "MatchingResult(score=0.009673161533626651, std=None)"
      ]
     },
     "execution_count": 145,
     "metadata": {},
     "output_type": "execute_result"
    }
   ],
   "source": [
    "evaluation.nf1(k_clique,angel)"
   ]
  },
  {
   "cell_type": "markdown",
   "id": "offshore-possible",
   "metadata": {},
   "source": [
    "# Ground Truth (External) evaluation"
   ]
  },
  {
   "cell_type": "code",
   "execution_count": 119,
   "id": "900820a3",
   "metadata": {},
   "outputs": [],
   "source": [
    "from cdlib import NodeClustering\n",
    "from networkx.generators.community import LFR_benchmark_graph\n",
    "\n",
    "g1 = LFR_benchmark_graph(1000, 3, 1.5, 0.5, min_community=20, average_degree=5)\n",
    "g2 = LFR_benchmark_graph(1000, 3, 1.5, 0.6, min_community=20, average_degree=5)\n",
    "g3 = LFR_benchmark_graph(1000, 3, 1.5, 0.7, min_community=20, average_degree=5)\n",
    "\n",
    "names = [\"g1\", \"g2\", \"g3\"]\n",
    "graphs = [g1, g2, g3]\n",
    "references = []"
   ]
  },
  {
   "cell_type": "code",
   "execution_count": 121,
   "id": "35f8fbb2",
   "metadata": {},
   "outputs": [
    {
     "data": {
      "text/plain": [
       "<AxesSubplot:xlabel='graph', ylabel='score'>"
      ]
     },
     "execution_count": 121,
     "metadata": {},
     "output_type": "execute_result"
    },
    {
     "data": {
      "image/png": "[encoded data removed]",
      "text/plain": [
       "<Figure size 432x288 with 1 Axes>"
      ]
     },
     "metadata": {
      "needs_background": "light"
     },
     "output_type": "display_data"
    }
   ],
   "source": [
    "# building the NodeClustering ground truth for the graphs\n",
    "for g in graphs:\n",
    "    ground_truth = NodeClustering(communities={frozenset(g.nodes[v]['community']) for v in g}, graph=g, method_name=\"reference\")\n",
    "    references.append(ground_truth)\n",
    "    \n",
    "algos = [algorithms.leiden, algorithms.label_propagation]\n",
    "# Computing the visualization (2 execution per method, NMI as scoring for ground truth resemblance)\n",
    "viz.plot_scoring(graphs, references, names, algos, scoring=evaluation.adjusted_mutual_information, nbRuns=2)"
   ]
  },
  {
   "cell_type": "code",
   "execution_count": 122,
   "id": "2856ea5b",
   "metadata": {},
   "outputs": [
    {
     "data": {
      "text/plain": [
       "<AxesSubplot:xlabel='graph', ylabel='score'>"
      ]
     },
     "execution_count": 122,
     "metadata": {},
     "output_type": "execute_result"
    },
    {
     "data": {
      "image/png": "[encoded data removed]",
      "text/plain": [
       "<Figure size 432x288 with 1 Axes>"
      ]
     },
     "metadata": {
      "needs_background": "light"
     },
     "output_type": "display_data"
    }
   ],
   "source": [
    "# building the NodeClustering ground truth for the graphs\n",
    "for g in graphs:\n",
    "    ground_truth = NodeClustering(communities={frozenset(g.nodes[v]['community']) for v in g}, graph=g, method_name=\"reference\")\n",
    "    references.append(ground_truth)\n",
    "    \n",
    "algos = [algorithms.walktrap, algorithms.label_propagation]\n",
    "# Computing the visualization (2 execution per method, NMI as scoring for ground truth resemblance)\n",
    "viz.plot_scoring(graphs, references, names, algos, scoring=evaluation.adjusted_mutual_information, nbRuns=2)"
   ]
  },
  {
   "cell_type": "code",
   "execution_count": 123,
   "id": "1747232b",
   "metadata": {},
   "outputs": [
    {
     "data": {
      "text/plain": [
       "<AxesSubplot:xlabel='graph', ylabel='score'>"
      ]
     },
     "execution_count": 123,
     "metadata": {},
     "output_type": "execute_result"
    },
    {
     "data": {
      "image/png": "[encoded data removed]",
      "text/plain": [
       "<Figure size 432x288 with 1 Axes>"
      ]
     },
     "metadata": {
      "needs_background": "light"
     },
     "output_type": "display_data"
    }
   ],
   "source": [
    "# building the NodeClustering ground truth for the graphs\n",
    "for g in graphs:\n",
    "    ground_truth = NodeClustering(communities={frozenset(g.nodes[v]['community']) for v in g}, graph=g, method_name=\"reference\")\n",
    "    references.append(ground_truth)\n",
    "    \n",
    "algos = [algorithms.leiden, algorithms.walktrap]\n",
    "# Computing the visualization (2 execution per method, NMI as scoring for ground truth resemblance)\n",
    "viz.plot_scoring(graphs, references, names, algos, scoring=evaluation.adjusted_mutual_information, nbRuns=2)"
   ]
  },
  {
   "cell_type": "code",
   "execution_count": 126,
   "id": "2077f5b3",
   "metadata": {},
   "outputs": [
    {
     "data": {
      "text/plain": [
       "<seaborn.matrix.ClusterGrid at 0x2c2765095a0>"
      ]
     },
     "execution_count": 126,
     "metadata": {},
     "output_type": "execute_result"
    },
    {
     "data": {
      "image/png": "[encoded data removed]",
      "text/plain": [
       "<Figure size 720x720 with 4 Axes>"
      ]
     },
     "metadata": {
      "needs_background": "light"
     },
     "output_type": "display_data"
    }
   ],
   "source": [
    "lp_coms = algorithms.label_propagation(G)\n",
    "leiden_coms = algorithms.leiden(G)\n",
    "wp_coms = algorithms.walktrap(G)\n",
    "#girvan_newman = algorithms.girvan_newman(G,level=3)\n",
    "eig=algorithms.eigenvector(G)\n",
    "\n",
    "viz.plot_sim_matrix([leiden_coms, lp_coms, wp_coms,eig],evaluation.adjusted_mutual_information)"
   ]
  },
  {
   "cell_type": "code",
   "execution_count": null,
   "id": "inside-gasoline",
   "metadata": {},
   "outputs": [],
   "source": []
  },
  {
   "cell_type": "code",
   "execution_count": null,
   "id": "c31b4f21",
   "metadata": {},
   "outputs": [],
   "source": []
  }
 ],
 "metadata": {
  "kernelspec": {
   "display_name": "Python 3 (ipykernel)",
   "language": "python",
   "name": "python3"
  },
  "language_info": {
   "codemirror_mode": {
    "name": "ipython",
    "version": 3
   },
   "file_extension": ".py",
   "mimetype": "text/x-python",
   "name": "python",
   "nbconvert_exporter": "python",
   "pygments_lexer": "ipython3",
   "version": "3.10.5"
  }
 },
 "nbformat": 4,
 "nbformat_minor": 5
}
