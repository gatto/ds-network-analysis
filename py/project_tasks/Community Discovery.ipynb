{
 "cells": [
  {
   "cell_type": "markdown",
   "id": "fixed-maple",
   "metadata": {},
   "source": [
    "### Import libraries "
   ]
  },
  {
   "cell_type": "code",
   "execution_count": 169,
   "id": "republican-electron",
   "metadata": {
    "scrolled": false
   },
   "outputs": [],
   "source": [
    "#per creare rete\n",
    "import pandas as pd\n",
    "from rich import print\n",
    "import networkx as nx\n",
    "import networkx.algorithms as nx\n",
    "import pandas as pd\n",
    "import matplotlib.pyplot as plt\n",
    "from networkx.utils import np_random_state\n",
    "\n",
    "#per la task\n",
    "import networkx as nx\n",
    "import cdlib\n",
    "from cdlib import evaluation\n",
    "from cdlib import algorithms\n",
    "from cdlib import viz\n",
    "from cdlib import NodeClustering\n",
    "from networkx.generators.community import LFR_benchmark_graph\n",
    "\n",
    "#altre\n",
    "import seaborn as sns\n",
    "import numpy as np\n",
    "import math\n",
    "import warnings\n",
    "from collections import Counter\n",
    "import numpy as np\n",
    "warnings.filterwarnings('ignore')"
   ]
  },
  {
   "cell_type": "code",
   "execution_count": 170,
   "id": "a7e3afa7",
   "metadata": {},
   "outputs": [
    {
     "data": {
      "text/html": [
       "<div>\n",
       "<style scoped>\n",
       "    .dataframe tbody tr th:only-of-type {\n",
       "        vertical-align: middle;\n",
       "    }\n",
       "\n",
       "    .dataframe tbody tr th {\n",
       "        vertical-align: top;\n",
       "    }\n",
       "\n",
       "    .dataframe thead th {\n",
       "        text-align: right;\n",
       "    }\n",
       "</style>\n",
       "<table border=\"1\" class=\"dataframe\">\n",
       "  <thead>\n",
       "    <tr style=\"text-align: right;\">\n",
       "      <th></th>\n",
       "      <th>Unnamed: 0</th>\n",
       "      <th>category</th>\n",
       "      <th>location</th>\n",
       "      <th>label</th>\n",
       "    </tr>\n",
       "    <tr>\n",
       "      <th>node</th>\n",
       "      <th></th>\n",
       "      <th></th>\n",
       "      <th></th>\n",
       "      <th></th>\n",
       "    </tr>\n",
       "  </thead>\n",
       "  <tbody>\n",
       "    <tr>\n",
       "      <th>290883</th>\n",
       "      <td>0</td>\n",
       "      <td>pax</td>\n",
       "      <td>European Union</td>\n",
       "      <td>290883</td>\n",
       "    </tr>\n",
       "    <tr>\n",
       "      <th>1471971</th>\n",
       "      <td>1</td>\n",
       "      <td>proukr</td>\n",
       "      <td>no loc</td>\n",
       "      <td>1471971</td>\n",
       "    </tr>\n",
       "    <tr>\n",
       "      <th>2052911</th>\n",
       "      <td>2</td>\n",
       "      <td>pax</td>\n",
       "      <td>London, England</td>\n",
       "      <td>2052911</td>\n",
       "    </tr>\n",
       "    <tr>\n",
       "      <th>2827221</th>\n",
       "      <td>3</td>\n",
       "      <td>dontcare</td>\n",
       "      <td>NYC</td>\n",
       "      <td>2827221</td>\n",
       "    </tr>\n",
       "    <tr>\n",
       "      <th>3688111</th>\n",
       "      <td>4</td>\n",
       "      <td>proukr</td>\n",
       "      <td>Bangkok</td>\n",
       "      <td>3688111</td>\n",
       "    </tr>\n",
       "  </tbody>\n",
       "</table>\n",
       "</div>"
      ],
      "text/plain": [
       "         Unnamed: 0  category         location    label\n",
       "node                                                   \n",
       "290883            0       pax   European Union   290883\n",
       "1471971           1    proukr           no loc  1471971\n",
       "2052911           2       pax  London, England  2052911\n",
       "2827221           3  dontcare              NYC  2827221\n",
       "3688111           4    proukr          Bangkok  3688111"
      ]
     },
     "execution_count": 170,
     "metadata": {},
     "output_type": "execute_result"
    }
   ],
   "source": [
    "G=nx.read_gexf('first_net.gexf', node_type=int)\n",
    "df_nodes=pd.read_csv('df_final_nodes.csv')\n",
    "df_nodes['node']=df_nodes['node'].map(int)\n",
    "df_nodes=df_nodes.set_index('node')\n",
    "df_nodes['location']=df_nodes['location'].fillna('no loc')\n",
    "df_nodes.head()"
   ]
  },
  {
   "cell_type": "code",
   "execution_count": 171,
   "id": "d8b032b0",
   "metadata": {},
   "outputs": [],
   "source": [
    "def divide_geo(geo):\n",
    "    if ',' in geo:\n",
    "        loc=geo.split(',')\n",
    "        return loc[len(loc)-1]\n",
    "    else:\n",
    "        return geo\n",
    "df_nodes['location']=df_nodes['location'].map(divide_geo)"
   ]
  },
  {
   "cell_type": "code",
   "execution_count": 172,
   "id": "d49397c5",
   "metadata": {},
   "outputs": [
    {
     "data": {
      "text/plain": [
       "no loc                          3816\n",
       " USA                             540\n",
       " England                         293\n",
       " CA                              121\n",
       "United States                    121\n",
       "                                ... \n",
       "Albano Laziale (RM)                1\n",
       "Above the Wall                     1\n",
       "Born in Milan Made in Mantua       1\n",
       "South of the Wall                  1\n",
       " Vietnam                           1\n",
       "Name: location, Length: 2833, dtype: int64"
      ]
     },
     "execution_count": 172,
     "metadata": {},
     "output_type": "execute_result"
    }
   ],
   "source": [
    "df_nodes['location'].value_counts()"
   ]
  },
  {
   "cell_type": "code",
   "execution_count": 173,
   "id": "wicked-christmas",
   "metadata": {},
   "outputs": [
    {
     "data": {
      "text/plain": [
       "12767"
      ]
     },
     "execution_count": 173,
     "metadata": {},
     "output_type": "execute_result"
    }
   ],
   "source": [
    "G.number_of_edges()"
   ]
  },
  {
   "cell_type": "code",
   "execution_count": 174,
   "id": "macro-africa",
   "metadata": {},
   "outputs": [
    {
     "data": {
      "text/plain": [
       "11197"
      ]
     },
     "execution_count": 174,
     "metadata": {},
     "output_type": "execute_result"
    }
   ],
   "source": [
    "G.number_of_nodes()"
   ]
  },
  {
   "cell_type": "markdown",
   "id": "israeli-secretary",
   "metadata": {},
   "source": [
    "# Community discovery algorithms"
   ]
  },
  {
   "cell_type": "markdown",
   "id": "weighted-glossary",
   "metadata": {},
   "source": [
    "# Label Propagation"
   ]
  },
  {
   "cell_type": "code",
   "execution_count": 175,
   "id": "virtual-circumstances",
   "metadata": {},
   "outputs": [
    {
     "data": {
      "text/plain": [
       "'Label Propagation'"
      ]
     },
     "execution_count": 175,
     "metadata": {},
     "output_type": "execute_result"
    }
   ],
   "source": [
    "label_prop = algorithms.label_propagation(G)\n",
    "label_prop.method_name"
   ]
  },
  {
   "cell_type": "code",
   "execution_count": 176,
   "id": "usual-arbitration",
   "metadata": {},
   "outputs": [
    {
     "data": {
      "text/plain": [
       "[{0: ({'pax': 393}, {'proukr': 1346}, {'nocare': 123}, {'prorus': 73})},\n",
       " {1: ({'pax': 357}, {'proukr': 1010}, {'nocare': 107}, {'prorus': 64})},\n",
       " {2: ({'pax': 101}, {'proukr': 380}, {'nocare': 37}, {'prorus': 24})},\n",
       " {3: ({'pax': 118}, {'proukr': 354}, {'nocare': 24}, {'prorus': 14})},\n",
       " {4: ({'pax': 76}, {'proukr': 242}, {'nocare': 29}, {'prorus': 14})},\n",
       " {5: ({'pax': 69}, {'proukr': 210}, {'nocare': 21}, {'prorus': 8})},\n",
       " {6: ({'pax': 45}, {'proukr': 157}, {'nocare': 19}, {'prorus': 4})},\n",
       " {7: ({'pax': 26}, {'proukr': 90}, {'nocare': 12}, {'prorus': 8})},\n",
       " {8: ({'pax': 23}, {'proukr': 96}, {'nocare': 5}, {'prorus': 11})},\n",
       " {9: ({'pax': 24}, {'proukr': 77}, {'nocare': 7}, {'prorus': 6})},\n",
       " {10: ({'pax': 20}, {'proukr': 78}, {'nocare': 5}, {'prorus': 8})},\n",
       " {11: ({'pax': 27}, {'proukr': 75}, {'nocare': 5}, {'prorus': 4})},\n",
       " {12: ({'pax': 28}, {'proukr': 60}, {'nocare': 11}, {'prorus': 1})},\n",
       " {13: ({'pax': 29}, {'proukr': 54}, {'nocare': 5}, {'prorus': 6})},\n",
       " {14: ({'pax': 21}, {'proukr': 64}, {'nocare': 5}, {'prorus': 3})},\n",
       " {15: ({'pax': 21}, {'proukr': 51}, {'nocare': 5}, {'prorus': 5})},\n",
       " {16: ({'pax': 22}, {'proukr': 45}, {'nocare': 7}, {'prorus': 5})},\n",
       " {17: ({'pax': 17}, {'proukr': 55}, {'nocare': 2}, {'prorus': 4})},\n",
       " {18: ({'pax': 12}, {'proukr': 51}, {'nocare': 7}, {'prorus': 4})},\n",
       " {19: ({'pax': 17}, {'proukr': 46}, {'nocare': 5}, {'prorus': 1})},\n",
       " {20: ({'pax': 13}, {'proukr': 45}, {'nocare': 7}, {'prorus': 2})},\n",
       " {21: ({'pax': 14}, {'proukr': 39}, {'nocare': 8}, {'prorus': 5})},\n",
       " {22: ({'pax': 15}, {'proukr': 41}, {'nocare': 5}, {'prorus': 3})},\n",
       " {23: ({'pax': 8}, {'proukr': 46}, {'nocare': 6}, {'prorus': 3})},\n",
       " {24: ({'pax': 14}, {'proukr': 41}, {'nocare': 2}, {'prorus': 3})},\n",
       " {25: ({'pax': 11}, {'proukr': 38}, {'nocare': 4}, {'prorus': 5})},\n",
       " {26: ({'pax': 10}, {'proukr': 40}, {'nocare': 4}, {'prorus': 2})},\n",
       " {27: ({'pax': 8}, {'proukr': 39}, {'nocare': 2}, {'prorus': 1})},\n",
       " {28: ({'pax': 8}, {'proukr': 29}, {'nocare': 7}, {'prorus': 4})},\n",
       " {29: ({'pax': 8}, {'proukr': 34}, {'nocare': 0}, {'prorus': 2})},\n",
       " {30: ({'pax': 7}, {'proukr': 34}, {'nocare': 2}, {'prorus': 1})},\n",
       " {31: ({'pax': 10}, {'proukr': 28}, {'nocare': 4}, {'prorus': 0})},\n",
       " {32: ({'pax': 9}, {'proukr': 28}, {'nocare': 1}, {'prorus': 4})},\n",
       " {33: ({'pax': 9}, {'proukr': 28}, {'nocare': 1}, {'prorus': 4})},\n",
       " {34: ({'pax': 8}, {'proukr': 32}, {'nocare': 2}, {'prorus': 0})},\n",
       " {35: ({'pax': 3}, {'proukr': 32}, {'nocare': 5}, {'prorus': 2})},\n",
       " {36: ({'pax': 9}, {'proukr': 26}, {'nocare': 2}, {'prorus': 2})},\n",
       " {37: ({'pax': 9}, {'proukr': 22}, {'nocare': 6}, {'prorus': 2})},\n",
       " {38: ({'pax': 12}, {'proukr': 22}, {'nocare': 1}, {'prorus': 4})},\n",
       " {39: ({'pax': 8}, {'proukr': 28}, {'nocare': 2}, {'prorus': 0})},\n",
       " {40: ({'pax': 5}, {'proukr': 27}, {'nocare': 4}, {'prorus': 0})},\n",
       " {41: ({'pax': 7}, {'proukr': 22}, {'nocare': 4}, {'prorus': 3})},\n",
       " {42: ({'pax': 7}, {'proukr': 22}, {'nocare': 4}, {'prorus': 1})},\n",
       " {43: ({'pax': 11}, {'proukr': 20}, {'nocare': 1}, {'prorus': 0})},\n",
       " {44: ({'pax': 6}, {'proukr': 22}, {'nocare': 2}, {'prorus': 1})},\n",
       " {45: ({'pax': 0}, {'proukr': 0}, {'nocare': 0}, {'prorus': 0})},\n",
       " {46: ({'pax': 6}, {'proukr': 18}, {'nocare': 4}, {'prorus': 3})},\n",
       " {47: ({'pax': 7}, {'proukr': 19}, {'nocare': 4}, {'prorus': 0})},\n",
       " {48: ({'pax': 4}, {'proukr': 21}, {'nocare': 5}, {'prorus': 0})},\n",
       " {49: ({'pax': 8}, {'proukr': 18}, {'nocare': 2}, {'prorus': 2})},\n",
       " {50: ({'pax': 4}, {'proukr': 23}, {'nocare': 0}, {'prorus': 3})},\n",
       " {51: ({'pax': 3}, {'proukr': 22}, {'nocare': 3}, {'prorus': 1})},\n",
       " {52: ({'pax': 9}, {'proukr': 17}, {'nocare': 3}, {'prorus': 0})},\n",
       " {53: ({'pax': 6}, {'proukr': 18}, {'nocare': 4}, {'prorus': 1})},\n",
       " {54: ({'pax': 9}, {'proukr': 18}, {'nocare': 1}, {'prorus': 1})},\n",
       " {55: ({'pax': 5}, {'proukr': 19}, {'nocare': 3}, {'prorus': 1})},\n",
       " {56: ({'pax': 2}, {'proukr': 21}, {'nocare': 2}, {'prorus': 3})},\n",
       " {57: ({'pax': 4}, {'proukr': 21}, {'nocare': 1}, {'prorus': 1})},\n",
       " {58: ({'pax': 9}, {'proukr': 15}, {'nocare': 2}, {'prorus': 0})},\n",
       " {59: ({'pax': 0}, {'proukr': 0}, {'nocare': 0}, {'prorus': 0})},\n",
       " {60: ({'pax': 6}, {'proukr': 18}, {'nocare': 1}, {'prorus': 0})},\n",
       " {61: ({'pax': 5}, {'proukr': 14}, {'nocare': 4}, {'prorus': 2})},\n",
       " {62: ({'pax': 6}, {'proukr': 17}, {'nocare': 2}, {'prorus': 0})},\n",
       " {63: ({'pax': 2}, {'proukr': 20}, {'nocare': 2}, {'prorus': 0})},\n",
       " {64: ({'pax': 5}, {'proukr': 16}, {'nocare': 2}, {'prorus': 1})},\n",
       " {65: ({'pax': 3}, {'proukr': 17}, {'nocare': 3}, {'prorus': 0})},\n",
       " {66: ({'pax': 5}, {'proukr': 13}, {'nocare': 2}, {'prorus': 3})},\n",
       " {67: ({'pax': 1}, {'proukr': 19}, {'nocare': 1}, {'prorus': 1})},\n",
       " {68: ({'pax': 3}, {'proukr': 15}, {'nocare': 1}, {'prorus': 3})},\n",
       " {69: ({'pax': 5}, {'proukr': 17}, {'nocare': 0}, {'prorus': 0})},\n",
       " {70: ({'pax': 2}, {'proukr': 19}, {'nocare': 0}, {'prorus': 1})},\n",
       " {71: ({'pax': 0}, {'proukr': 0}, {'nocare': 0}, {'prorus': 0})},\n",
       " {72: ({'pax': 8}, {'proukr': 11}, {'nocare': 3}, {'prorus': 0})},\n",
       " {73: ({'pax': 4}, {'proukr': 18}, {'nocare': 0}, {'prorus': 0})},\n",
       " {74: ({'pax': 4}, {'proukr': 16}, {'nocare': 2}, {'prorus': 0})},\n",
       " {75: ({'pax': 4}, {'proukr': 14}, {'nocare': 2}, {'prorus': 1})},\n",
       " {76: ({'pax': 2}, {'proukr': 16}, {'nocare': 2}, {'prorus': 1})},\n",
       " {77: ({'pax': 5}, {'proukr': 13}, {'nocare': 2}, {'prorus': 1})},\n",
       " {78: ({'pax': 0}, {'proukr': 0}, {'nocare': 0}, {'prorus': 0})},\n",
       " {79: ({'pax': 6}, {'proukr': 13}, {'nocare': 0}, {'prorus': 1})},\n",
       " {80: ({'pax': 6}, {'proukr': 12}, {'nocare': 0}, {'prorus': 1})},\n",
       " {81: ({'pax': 1}, {'proukr': 15}, {'nocare': 2}, {'prorus': 1})},\n",
       " {82: ({'pax': 3}, {'proukr': 14}, {'nocare': 2}, {'prorus': 0})},\n",
       " {83: ({'pax': 5}, {'proukr': 12}, {'nocare': 2}, {'prorus': 0})},\n",
       " {84: ({'pax': 7}, {'proukr': 10}, {'nocare': 0}, {'prorus': 2})},\n",
       " {85: ({'pax': 4}, {'proukr': 13}, {'nocare': 0}, {'prorus': 2})},\n",
       " {86: ({'pax': 7}, {'proukr': 11}, {'nocare': 1}, {'prorus': 0})},\n",
       " {87: ({'pax': 0}, {'proukr': 0}, {'nocare': 0}, {'prorus': 0})},\n",
       " {88: ({'pax': 0}, {'proukr': 0}, {'nocare': 0}, {'prorus': 0})},\n",
       " {89: ({'pax': 4}, {'proukr': 11}, {'nocare': 3}, {'prorus': 0})},\n",
       " {90: ({'pax': 0}, {'proukr': 0}, {'nocare': 0}, {'prorus': 0})},\n",
       " {91: ({'pax': 8}, {'proukr': 7}, {'nocare': 2}, {'prorus': 0})},\n",
       " {92: ({'pax': 3}, {'proukr': 13}, {'nocare': 1}, {'prorus': 0})},\n",
       " {93: ({'pax': 2}, {'proukr': 15}, {'nocare': 0}, {'prorus': 0})},\n",
       " {94: ({'pax': 2}, {'proukr': 13}, {'nocare': 0}, {'prorus': 2})},\n",
       " {95: ({'pax': 4}, {'proukr': 11}, {'nocare': 1}, {'prorus': 0})},\n",
       " {96: ({'pax': 0}, {'proukr': 0}, {'nocare': 0}, {'prorus': 0})},\n",
       " {97: ({'pax': 0}, {'proukr': 0}, {'nocare': 0}, {'prorus': 0})},\n",
       " {98: ({'pax': 3}, {'proukr': 13}, {'nocare': 0}, {'prorus': 0})},\n",
       " {99: ({'pax': 4}, {'proukr': 7}, {'nocare': 2}, {'prorus': 3})},\n",
       " {100: ({'pax': 0}, {'proukr': 0}, {'nocare': 0}, {'prorus': 0})},\n",
       " {101: ({'pax': 2}, {'proukr': 11}, {'nocare': 2}, {'prorus': 0})},\n",
       " {102: ({'pax': 3}, {'proukr': 11}, {'nocare': 0}, {'prorus': 1})},\n",
       " {103: ({'pax': 3}, {'proukr': 11}, {'nocare': 0}, {'prorus': 0})},\n",
       " {104: ({'pax': 1}, {'proukr': 11}, {'nocare': 0}, {'prorus': 2})},\n",
       " {105: ({'pax': 0}, {'proukr': 0}, {'nocare': 0}, {'prorus': 0})},\n",
       " {106: ({'pax': 5}, {'proukr': 8}, {'nocare': 1}, {'prorus': 0})},\n",
       " {107: ({'pax': 0}, {'proukr': 0}, {'nocare': 0}, {'prorus': 0})},\n",
       " {108: ({'pax': 1}, {'proukr': 12}, {'nocare': 0}, {'prorus': 1})},\n",
       " {109: ({'pax': 2}, {'proukr': 10}, {'nocare': 1}, {'prorus': 1})},\n",
       " {110: ({'pax': 2}, {'proukr': 11}, {'nocare': 0}, {'prorus': 0})},\n",
       " {111: ({'pax': 3}, {'proukr': 7}, {'nocare': 2}, {'prorus': 1})},\n",
       " {112: ({'pax': 0}, {'proukr': 0}, {'nocare': 0}, {'prorus': 0})},\n",
       " {113: ({'pax': 5}, {'proukr': 4}, {'nocare': 3}, {'prorus': 1})},\n",
       " {114: ({'pax': 3}, {'proukr': 7}, {'nocare': 3}, {'prorus': 0})},\n",
       " {115: ({'pax': 2}, {'proukr': 9}, {'nocare': 2}, {'prorus': 0})},\n",
       " {116: ({'pax': 0}, {'proukr': 0}, {'nocare': 0}, {'prorus': 0})},\n",
       " {117: ({'pax': 0}, {'proukr': 11}, {'nocare': 0}, {'prorus': 1})},\n",
       " {118: ({'pax': 0}, {'proukr': 0}, {'nocare': 0}, {'prorus': 0})},\n",
       " {119: ({'pax': 4}, {'proukr': 8}, {'nocare': 0}, {'prorus': 0})},\n",
       " {120: ({'pax': 4}, {'proukr': 7}, {'nocare': 1}, {'prorus': 0})},\n",
       " {121: ({'pax': 2}, {'proukr': 8}, {'nocare': 2}, {'prorus': 0})},\n",
       " {122: ({'pax': 0}, {'proukr': 0}, {'nocare': 0}, {'prorus': 0})},\n",
       " {123: ({'pax': 2}, {'proukr': 9}, {'nocare': 0}, {'prorus': 0})},\n",
       " {124: ({'pax': 3}, {'proukr': 8}, {'nocare': 0}, {'prorus': 0})},\n",
       " {125: ({'pax': 2}, {'proukr': 7}, {'nocare': 0}, {'prorus': 2})},\n",
       " {126: ({'pax': 0}, {'proukr': 0}, {'nocare': 0}, {'prorus': 0})},\n",
       " {127: ({'pax': 2}, {'proukr': 8}, {'nocare': 1}, {'prorus': 0})},\n",
       " {128: ({'pax': 2}, {'proukr': 8}, {'nocare': 1}, {'prorus': 0})},\n",
       " {129: ({'pax': 2}, {'proukr': 8}, {'nocare': 1}, {'prorus': 0})},\n",
       " {130: ({'pax': 1}, {'proukr': 7}, {'nocare': 3}, {'prorus': 0})},\n",
       " {131: ({'pax': 2}, {'proukr': 5}, {'nocare': 2}, {'prorus': 2})},\n",
       " {132: ({'pax': 1}, {'proukr': 8}, {'nocare': 1}, {'prorus': 1})},\n",
       " {133: ({'pax': 0}, {'proukr': 9}, {'nocare': 0}, {'prorus': 1})},\n",
       " {134: ({'pax': 1}, {'proukr': 6}, {'nocare': 1}, {'prorus': 2})},\n",
       " {135: ({'pax': 5}, {'proukr': 5}, {'nocare': 0}, {'prorus': 0})},\n",
       " {136: ({'pax': 1}, {'proukr': 8}, {'nocare': 0}, {'prorus': 1})},\n",
       " {137: ({'pax': 3}, {'proukr': 5}, {'nocare': 2}, {'prorus': 0})},\n",
       " {138: ({'pax': 3}, {'proukr': 7}, {'nocare': 0}, {'prorus': 0})},\n",
       " {139: ({'pax': 3}, {'proukr': 7}, {'nocare': 0}, {'prorus': 0})},\n",
       " {140: ({'pax': 0}, {'proukr': 0}, {'nocare': 0}, {'prorus': 0})},\n",
       " {141: ({'pax': 0}, {'proukr': 0}, {'nocare': 0}, {'prorus': 0})},\n",
       " {142: ({'pax': 4}, {'proukr': 4}, {'nocare': 1}, {'prorus': 0})},\n",
       " {143: ({'pax': 3}, {'proukr': 5}, {'nocare': 1}, {'prorus': 0})},\n",
       " {144: ({'pax': 4}, {'proukr': 5}, {'nocare': 0}, {'prorus': 0})},\n",
       " {145: ({'pax': 1}, {'proukr': 7}, {'nocare': 1}, {'prorus': 0})},\n",
       " {146: ({'pax': 0}, {'proukr': 0}, {'nocare': 0}, {'prorus': 0})},\n",
       " {147: ({'pax': 0}, {'proukr': 0}, {'nocare': 0}, {'prorus': 0})},\n",
       " {148: ({'pax': 2}, {'proukr': 7}, {'nocare': 0}, {'prorus': 0})},\n",
       " {149: ({'pax': 2}, {'proukr': 7}, {'nocare': 0}, {'prorus': 0})},\n",
       " {150: ({'pax': 2}, {'proukr': 4}, {'nocare': 1}, {'prorus': 1})},\n",
       " {151: ({'pax': 1}, {'proukr': 6}, {'nocare': 1}, {'prorus': 0})},\n",
       " {152: ({'pax': 1}, {'proukr': 7}, {'nocare': 0}, {'prorus': 0})},\n",
       " {153: ({'pax': 1}, {'proukr': 6}, {'nocare': 0}, {'prorus': 1})},\n",
       " {154: ({'pax': 0}, {'proukr': 7}, {'nocare': 1}, {'prorus': 0})},\n",
       " {155: ({'pax': 1}, {'proukr': 6}, {'nocare': 1}, {'prorus': 0})},\n",
       " {156: ({'pax': 0}, {'proukr': 7}, {'nocare': 0}, {'prorus': 1})},\n",
       " {157: ({'pax': 5}, {'proukr': 3}, {'nocare': 0}, {'prorus': 0})},\n",
       " {158: ({'pax': 0}, {'proukr': 0}, {'nocare': 0}, {'prorus': 0})},\n",
       " {159: ({'pax': 2}, {'proukr': 6}, {'nocare': 0}, {'prorus': 0})},\n",
       " {160: ({'pax': 1}, {'proukr': 6}, {'nocare': 1}, {'prorus': 0})},\n",
       " {161: ({'pax': 0}, {'proukr': 0}, {'nocare': 0}, {'prorus': 0})},\n",
       " {162: ({'pax': 0}, {'proukr': 0}, {'nocare': 0}, {'prorus': 0})},\n",
       " {163: ({'pax': 0}, {'proukr': 0}, {'nocare': 0}, {'prorus': 0})},\n",
       " {164: ({'pax': 0}, {'proukr': 7}, {'nocare': 0}, {'prorus': 1})},\n",
       " {165: ({'pax': 4}, {'proukr': 3}, {'nocare': 0}, {'prorus': 1})},\n",
       " {166: ({'pax': 0}, {'proukr': 6}, {'nocare': 1}, {'prorus': 0})},\n",
       " {167: ({'pax': 1}, {'proukr': 5}, {'nocare': 1}, {'prorus': 0})},\n",
       " {168: ({'pax': 0}, {'proukr': 7}, {'nocare': 0}, {'prorus': 0})},\n",
       " {169: ({'pax': 0}, {'proukr': 0}, {'nocare': 0}, {'prorus': 0})},\n",
       " {170: ({'pax': 0}, {'proukr': 6}, {'nocare': 0}, {'prorus': 1})},\n",
       " {171: ({'pax': 2}, {'proukr': 5}, {'nocare': 0}, {'prorus': 0})},\n",
       " {172: ({'pax': 0}, {'proukr': 5}, {'nocare': 1}, {'prorus': 1})},\n",
       " {173: ({'pax': 1}, {'proukr': 6}, {'nocare': 0}, {'prorus': 0})},\n",
       " {174: ({'pax': 2}, {'proukr': 4}, {'nocare': 1}, {'prorus': 0})},\n",
       " {175: ({'pax': 0}, {'proukr': 0}, {'nocare': 0}, {'prorus': 0})},\n",
       " {176: ({'pax': 3}, {'proukr': 3}, {'nocare': 1}, {'prorus': 0})},\n",
       " {177: ({'pax': 4}, {'proukr': 3}, {'nocare': 0}, {'prorus': 0})},\n",
       " {178: ({'pax': 1}, {'proukr': 6}, {'nocare': 0}, {'prorus': 0})},\n",
       " {179: ({'pax': 0}, {'proukr': 0}, {'nocare': 0}, {'prorus': 0})},\n",
       " {180: ({'pax': 2}, {'proukr': 5}, {'nocare': 0}, {'prorus': 0})},\n",
       " {181: ({'pax': 0}, {'proukr': 0}, {'nocare': 0}, {'prorus': 0})},\n",
       " {182: ({'pax': 0}, {'proukr': 0}, {'nocare': 0}, {'prorus': 0})},\n",
       " {183: ({'pax': 2}, {'proukr': 4}, {'nocare': 1}, {'prorus': 0})},\n",
       " {184: ({'pax': 1}, {'proukr': 4}, {'nocare': 1}, {'prorus': 1})},\n",
       " {185: ({'pax': 0}, {'proukr': 0}, {'nocare': 0}, {'prorus': 0})},\n",
       " {186: ({'pax': 3}, {'proukr': 3}, {'nocare': 0}, {'prorus': 1})},\n",
       " {187: ({'pax': 3}, {'proukr': 4}, {'nocare': 0}, {'prorus': 0})},\n",
       " {188: ({'pax': 0}, {'proukr': 0}, {'nocare': 0}, {'prorus': 0})},\n",
       " {189: ({'pax': 1}, {'proukr': 5}, {'nocare': 0}, {'prorus': 0})},\n",
       " {190: ({'pax': 0}, {'proukr': 0}, {'nocare': 0}, {'prorus': 0})},\n",
       " {191: ({'pax': 2}, {'proukr': 2}, {'nocare': 2}, {'prorus': 0})},\n",
       " {192: ({'pax': 1}, {'proukr': 4}, {'nocare': 1}, {'prorus': 0})},\n",
       " {193: ({'pax': 0}, {'proukr': 0}, {'nocare': 0}, {'prorus': 0})},\n",
       " {194: ({'pax': 0}, {'proukr': 0}, {'nocare': 0}, {'prorus': 0})},\n",
       " {195: ({'pax': 0}, {'proukr': 0}, {'nocare': 0}, {'prorus': 0})},\n",
       " {196: ({'pax': 1}, {'proukr': 3}, {'nocare': 2}, {'prorus': 0})},\n",
       " {197: ({'pax': 0}, {'proukr': 0}, {'nocare': 0}, {'prorus': 0})},\n",
       " {198: ({'pax': 0}, {'proukr': 6}, {'nocare': 0}, {'prorus': 0})},\n",
       " {199: ({'pax': 0}, {'proukr': 0}, {'nocare': 0}, {'prorus': 0})},\n",
       " {200: ({'pax': 0}, {'proukr': 0}, {'nocare': 0}, {'prorus': 0})},\n",
       " {201: ({'pax': 3}, {'proukr': 2}, {'nocare': 0}, {'prorus': 1})},\n",
       " {202: ({'pax': 1}, {'proukr': 4}, {'nocare': 1}, {'prorus': 0})},\n",
       " {203: ({'pax': 0}, {'proukr': 0}, {'nocare': 0}, {'prorus': 0})},\n",
       " {204: ({'pax': 1}, {'proukr': 4}, {'nocare': 0}, {'prorus': 1})},\n",
       " {205: ({'pax': 1}, {'proukr': 4}, {'nocare': 1}, {'prorus': 0})},\n",
       " {206: ({'pax': 1}, {'proukr': 4}, {'nocare': 0}, {'prorus': 1})},\n",
       " {207: ({'pax': 0}, {'proukr': 0}, {'nocare': 0}, {'prorus': 0})},\n",
       " {208: ({'pax': 0}, {'proukr': 6}, {'nocare': 0}, {'prorus': 0})},\n",
       " {209: ({'pax': 0}, {'proukr': 5}, {'nocare': 0}, {'prorus': 0})},\n",
       " {210: ({'pax': 0}, {'proukr': 0}, {'nocare': 0}, {'prorus': 0})},\n",
       " {211: ({'pax': 2}, {'proukr': 3}, {'nocare': 0}, {'prorus': 0})},\n",
       " {212: ({'pax': 0}, {'proukr': 5}, {'nocare': 0}, {'prorus': 0})},\n",
       " {213: ({'pax': 2}, {'proukr': 3}, {'nocare': 0}, {'prorus': 0})},\n",
       " {214: ({'pax': 0}, {'proukr': 0}, {'nocare': 0}, {'prorus': 0})},\n",
       " {215: ({'pax': 0}, {'proukr': 5}, {'nocare': 0}, {'prorus': 0})},\n",
       " {216: ({'pax': 1}, {'proukr': 4}, {'nocare': 0}, {'prorus': 0})},\n",
       " {217: ({'pax': 3}, {'proukr': 2}, {'nocare': 0}, {'prorus': 0})},\n",
       " {218: ({'pax': 1}, {'proukr': 4}, {'nocare': 0}, {'prorus': 0})},\n",
       " {219: ({'pax': 0}, {'proukr': 0}, {'nocare': 0}, {'prorus': 0})},\n",
       " {220: ({'pax': 0}, {'proukr': 0}, {'nocare': 0}, {'prorus': 0})},\n",
       " {221: ({'pax': 2}, {'proukr': 3}, {'nocare': 0}, {'prorus': 0})},\n",
       " {222: ({'pax': 0}, {'proukr': 0}, {'nocare': 0}, {'prorus': 0})},\n",
       " {223: ({'pax': 1}, {'proukr': 4}, {'nocare': 0}, {'prorus': 0})},\n",
       " {224: ({'pax': 2}, {'proukr': 2}, {'nocare': 0}, {'prorus': 1})},\n",
       " {225: ({'pax': 0}, {'proukr': 0}, {'nocare': 0}, {'prorus': 0})},\n",
       " {226: ({'pax': 0}, {'proukr': 5}, {'nocare': 0}, {'prorus': 0})},\n",
       " {227: ({'pax': 0}, {'proukr': 0}, {'nocare': 0}, {'prorus': 0})},\n",
       " {228: ({'pax': 0}, {'proukr': 0}, {'nocare': 0}, {'prorus': 0})},\n",
       " {229: ({'pax': 0}, {'proukr': 0}, {'nocare': 0}, {'prorus': 0})},\n",
       " {230: ({'pax': 1}, {'proukr': 4}, {'nocare': 0}, {'prorus': 0})},\n",
       " {231: ({'pax': 0}, {'proukr': 0}, {'nocare': 0}, {'prorus': 0})},\n",
       " {232: ({'pax': 0}, {'proukr': 0}, {'nocare': 0}, {'prorus': 0})},\n",
       " {233: ({'pax': 1}, {'proukr': 4}, {'nocare': 0}, {'prorus': 0})},\n",
       " {234: ({'pax': 0}, {'proukr': 4}, {'nocare': 1}, {'prorus': 0})},\n",
       " {235: ({'pax': 1}, {'proukr': 3}, {'nocare': 0}, {'prorus': 1})},\n",
       " {236: ({'pax': 1}, {'proukr': 4}, {'nocare': 0}, {'prorus': 0})},\n",
       " {237: ({'pax': 2}, {'proukr': 2}, {'nocare': 1}, {'prorus': 0})},\n",
       " {238: ({'pax': 2}, {'proukr': 3}, {'nocare': 0}, {'prorus': 0})},\n",
       " {239: ({'pax': 1}, {'proukr': 2}, {'nocare': 0}, {'prorus': 2})},\n",
       " {240: ({'pax': 0}, {'proukr': 0}, {'nocare': 0}, {'prorus': 0})},\n",
       " {241: ({'pax': 0}, {'proukr': 0}, {'nocare': 0}, {'prorus': 0})},\n",
       " {242: ({'pax': 0}, {'proukr': 0}, {'nocare': 0}, {'prorus': 0})},\n",
       " {243: ({'pax': 0}, {'proukr': 5}, {'nocare': 0}, {'prorus': 0})},\n",
       " {244: ({'pax': 2}, {'proukr': 2}, {'nocare': 0}, {'prorus': 1})},\n",
       " {245: ({'pax': 0}, {'proukr': 0}, {'nocare': 0}, {'prorus': 0})},\n",
       " {246: ({'pax': 3}, {'proukr': 1}, {'nocare': 0}, {'prorus': 0})},\n",
       " {247: ({'pax': 1}, {'proukr': 3}, {'nocare': 0}, {'prorus': 0})},\n",
       " {248: ({'pax': 2}, {'proukr': 2}, {'nocare': 0}, {'prorus': 0})},\n",
       " {249: ({'pax': 0}, {'proukr': 0}, {'nocare': 0}, {'prorus': 0})},\n",
       " {250: ({'pax': 0}, {'proukr': 2}, {'nocare': 2}, {'prorus': 0})},\n",
       " {251: ({'pax': 0}, {'proukr': 3}, {'nocare': 0}, {'prorus': 1})},\n",
       " {252: ({'pax': 0}, {'proukr': 3}, {'nocare': 1}, {'prorus': 0})},\n",
       " {253: ({'pax': 1}, {'proukr': 2}, {'nocare': 0}, {'prorus': 1})},\n",
       " {254: ({'pax': 1}, {'proukr': 3}, {'nocare': 0}, {'prorus': 0})},\n",
       " {255: ({'pax': 1}, {'proukr': 3}, {'nocare': 0}, {'prorus': 0})},\n",
       " {256: ({'pax': 0}, {'proukr': 0}, {'nocare': 0}, {'prorus': 0})},\n",
       " {257: ({'pax': 0}, {'proukr': 0}, {'nocare': 0}, {'prorus': 0})},\n",
       " {258: ({'pax': 0}, {'proukr': 0}, {'nocare': 0}, {'prorus': 0})},\n",
       " {259: ({'pax': 0}, {'proukr': 4}, {'nocare': 0}, {'prorus': 0})},\n",
       " {260: ({'pax': 0}, {'proukr': 0}, {'nocare': 0}, {'prorus': 0})},\n",
       " {261: ({'pax': 0}, {'proukr': 0}, {'nocare': 0}, {'prorus': 0})},\n",
       " {262: ({'pax': 0}, {'proukr': 0}, {'nocare': 0}, {'prorus': 0})},\n",
       " {263: ({'pax': 0}, {'proukr': 4}, {'nocare': 0}, {'prorus': 0})},\n",
       " {264: ({'pax': 0}, {'proukr': 4}, {'nocare': 0}, {'prorus': 0})},\n",
       " {265: ({'pax': 0}, {'proukr': 0}, {'nocare': 0}, {'prorus': 0})},\n",
       " {266: ({'pax': 0}, {'proukr': 0}, {'nocare': 0}, {'prorus': 0})},\n",
       " {267: ({'pax': 0}, {'proukr': 3}, {'nocare': 0}, {'prorus': 1})},\n",
       " {268: ({'pax': 0}, {'proukr': 0}, {'nocare': 0}, {'prorus': 0})},\n",
       " {269: ({'pax': 0}, {'proukr': 0}, {'nocare': 0}, {'prorus': 0})},\n",
       " {270: ({'pax': 0}, {'proukr': 0}, {'nocare': 0}, {'prorus': 0})},\n",
       " {271: ({'pax': 2}, {'proukr': 2}, {'nocare': 0}, {'prorus': 0})},\n",
       " {272: ({'pax': 1}, {'proukr': 3}, {'nocare': 0}, {'prorus': 0})},\n",
       " {273: ({'pax': 0}, {'proukr': 0}, {'nocare': 0}, {'prorus': 0})},\n",
       " {274: ({'pax': 0}, {'proukr': 0}, {'nocare': 0}, {'prorus': 0})},\n",
       " {275: ({'pax': 0}, {'proukr': 4}, {'nocare': 0}, {'prorus': 0})},\n",
       " {276: ({'pax': 0}, {'proukr': 0}, {'nocare': 0}, {'prorus': 0})},\n",
       " {277: ({'pax': 0}, {'proukr': 0}, {'nocare': 0}, {'prorus': 0})},\n",
       " {278: ({'pax': 0}, {'proukr': 0}, {'nocare': 0}, {'prorus': 0})},\n",
       " {279: ({'pax': 2}, {'proukr': 1}, {'nocare': 1}, {'prorus': 0})},\n",
       " {280: ({'pax': 0}, {'proukr': 3}, {'nocare': 1}, {'prorus': 0})},\n",
       " {281: ({'pax': 0}, {'proukr': 3}, {'nocare': 1}, {'prorus': 0})},\n",
       " {282: ({'pax': 0}, {'proukr': 0}, {'nocare': 0}, {'prorus': 0})},\n",
       " {283: ({'pax': 1}, {'proukr': 2}, {'nocare': 0}, {'prorus': 1})},\n",
       " {284: ({'pax': 0}, {'proukr': 0}, {'nocare': 0}, {'prorus': 0})},\n",
       " {285: ({'pax': 1}, {'proukr': 3}, {'nocare': 0}, {'prorus': 0})},\n",
       " {286: ({'pax': 0}, {'proukr': 0}, {'nocare': 0}, {'prorus': 0})},\n",
       " {287: ({'pax': 2}, {'proukr': 2}, {'nocare': 0}, {'prorus': 0})},\n",
       " {288: ({'pax': 0}, {'proukr': 4}, {'nocare': 0}, {'prorus': 0})},\n",
       " {289: ({'pax': 0}, {'proukr': 0}, {'nocare': 0}, {'prorus': 0})},\n",
       " {290: ({'pax': 2}, {'proukr': 2}, {'nocare': 0}, {'prorus': 0})},\n",
       " {291: ({'pax': 1}, {'proukr': 2}, {'nocare': 1}, {'prorus': 0})},\n",
       " {292: ({'pax': 0}, {'proukr': 0}, {'nocare': 0}, {'prorus': 0})},\n",
       " {293: ({'pax': 0}, {'proukr': 0}, {'nocare': 0}, {'prorus': 0})},\n",
       " {294: ({'pax': 1}, {'proukr': 3}, {'nocare': 0}, {'prorus': 0})},\n",
       " {295: ({'pax': 0}, {'proukr': 0}, {'nocare': 0}, {'prorus': 0})},\n",
       " {296: ({'pax': 1}, {'proukr': 3}, {'nocare': 0}, {'prorus': 0})},\n",
       " {297: ({'pax': 0}, {'proukr': 0}, {'nocare': 0}, {'prorus': 0})},\n",
       " {298: ({'pax': 0}, {'proukr': 4}, {'nocare': 0}, {'prorus': 0})},\n",
       " {299: ({'pax': 0}, {'proukr': 3}, {'nocare': 1}, {'prorus': 0})},\n",
       " {300: ({'pax': 0}, {'proukr': 4}, {'nocare': 0}, {'prorus': 0})},\n",
       " {301: ({'pax': 1}, {'proukr': 2}, {'nocare': 0}, {'prorus': 1})},\n",
       " {302: ({'pax': 1}, {'proukr': 3}, {'nocare': 0}, {'prorus': 0})},\n",
       " {303: ({'pax': 1}, {'proukr': 3}, {'nocare': 0}, {'prorus': 0})},\n",
       " {304: ({'pax': 1}, {'proukr': 2}, {'nocare': 1}, {'prorus': 0})},\n",
       " {305: ({'pax': 0}, {'proukr': 0}, {'nocare': 0}, {'prorus': 0})},\n",
       " {306: ({'pax': 1}, {'proukr': 3}, {'nocare': 0}, {'prorus': 0})},\n",
       " {307: ({'pax': 0}, {'proukr': 0}, {'nocare': 0}, {'prorus': 0})},\n",
       " {308: ({'pax': 0}, {'proukr': 4}, {'nocare': 0}, {'prorus': 0})},\n",
       " {309: ({'pax': 0}, {'proukr': 0}, {'nocare': 0}, {'prorus': 0})},\n",
       " {310: ({'pax': 0}, {'proukr': 4}, {'nocare': 0}, {'prorus': 0})},\n",
       " {311: ({'pax': 0}, {'proukr': 0}, {'nocare': 0}, {'prorus': 0})},\n",
       " {312: ({'pax': 1}, {'proukr': 2}, {'nocare': 0}, {'prorus': 1})},\n",
       " {313: ({'pax': 0}, {'proukr': 0}, {'nocare': 0}, {'prorus': 0})},\n",
       " {314: ({'pax': 0}, {'proukr': 4}, {'nocare': 0}, {'prorus': 0})},\n",
       " {315: ({'pax': 0}, {'proukr': 0}, {'nocare': 0}, {'prorus': 0})},\n",
       " {316: ({'pax': 1}, {'proukr': 2}, {'nocare': 0}, {'prorus': 0})},\n",
       " {317: ({'pax': 0}, {'proukr': 0}, {'nocare': 0}, {'prorus': 0})},\n",
       " {318: ({'pax': 1}, {'proukr': 1}, {'nocare': 1}, {'prorus': 0})},\n",
       " {319: ({'pax': 1}, {'proukr': 1}, {'nocare': 0}, {'prorus': 1})},\n",
       " {320: ({'pax': 0}, {'proukr': 2}, {'nocare': 1}, {'prorus': 0})},\n",
       " {321: ({'pax': 0}, {'proukr': 3}, {'nocare': 0}, {'prorus': 0})},\n",
       " {322: ({'pax': 0}, {'proukr': 3}, {'nocare': 0}, {'prorus': 0})},\n",
       " {323: ({'pax': 0}, {'proukr': 0}, {'nocare': 0}, {'prorus': 0})},\n",
       " {324: ({'pax': 0}, {'proukr': 0}, {'nocare': 0}, {'prorus': 0})},\n",
       " {325: ({'pax': 1}, {'proukr': 2}, {'nocare': 0}, {'prorus': 0})},\n",
       " {326: ({'pax': 0}, {'proukr': 3}, {'nocare': 0}, {'prorus': 0})},\n",
       " {327: ({'pax': 0}, {'proukr': 3}, {'nocare': 0}, {'prorus': 0})},\n",
       " {328: ({'pax': 0}, {'proukr': 3}, {'nocare': 0}, {'prorus': 0})},\n",
       " {329: ({'pax': 0}, {'proukr': 3}, {'nocare': 0}, {'prorus': 0})},\n",
       " {330: ({'pax': 0}, {'proukr': 0}, {'nocare': 0}, {'prorus': 0})},\n",
       " {331: ({'pax': 0}, {'proukr': 0}, {'nocare': 0}, {'prorus': 0})},\n",
       " {332: ({'pax': 0}, {'proukr': 0}, {'nocare': 0}, {'prorus': 0})},\n",
       " {333: ({'pax': 0}, {'proukr': 3}, {'nocare': 0}, {'prorus': 0})},\n",
       " {334: ({'pax': 0}, {'proukr': 0}, {'nocare': 0}, {'prorus': 0})},\n",
       " {335: ({'pax': 1}, {'proukr': 2}, {'nocare': 0}, {'prorus': 0})},\n",
       " {336: ({'pax': 0}, {'proukr': 0}, {'nocare': 0}, {'prorus': 0})},\n",
       " {337: ({'pax': 0}, {'proukr': 3}, {'nocare': 0}, {'prorus': 0})},\n",
       " {338: ({'pax': 2}, {'proukr': 1}, {'nocare': 0}, {'prorus': 0})},\n",
       " {339: ({'pax': 0}, {'proukr': 0}, {'nocare': 0}, {'prorus': 0})},\n",
       " {340: ({'pax': 1}, {'proukr': 1}, {'nocare': 0}, {'prorus': 1})},\n",
       " {341: ({'pax': 0}, {'proukr': 0}, {'nocare': 0}, {'prorus': 0})},\n",
       " {342: ({'pax': 2}, {'proukr': 0}, {'nocare': 0}, {'prorus': 1})},\n",
       " {343: ({'pax': 0}, {'proukr': 0}, {'nocare': 0}, {'prorus': 0})},\n",
       " {344: ({'pax': 0}, {'proukr': 0}, {'nocare': 0}, {'prorus': 0})},\n",
       " {345: ({'pax': 1}, {'proukr': 2}, {'nocare': 0}, {'prorus': 0})},\n",
       " {346: ({'pax': 0}, {'proukr': 0}, {'nocare': 0}, {'prorus': 0})},\n",
       " {347: ({'pax': 0}, {'proukr': 3}, {'nocare': 0}, {'prorus': 0})},\n",
       " {348: ({'pax': 0}, {'proukr': 3}, {'nocare': 0}, {'prorus': 0})},\n",
       " {349: ({'pax': 0}, {'proukr': 0}, {'nocare': 0}, {'prorus': 0})},\n",
       " {350: ({'pax': 1}, {'proukr': 2}, {'nocare': 0}, {'prorus': 0})},\n",
       " {351: ({'pax': 1}, {'proukr': 2}, {'nocare': 0}, {'prorus': 0})},\n",
       " {352: ({'pax': 0}, {'proukr': 0}, {'nocare': 0}, {'prorus': 0})},\n",
       " {353: ({'pax': 0}, {'proukr': 0}, {'nocare': 0}, {'prorus': 0})},\n",
       " {354: ({'pax': 1}, {'proukr': 2}, {'nocare': 0}, {'prorus': 0})},\n",
       " {355: ({'pax': 0}, {'proukr': 0}, {'nocare': 0}, {'prorus': 0})},\n",
       " {356: ({'pax': 0}, {'proukr': 0}, {'nocare': 0}, {'prorus': 0})},\n",
       " {357: ({'pax': 2}, {'proukr': 1}, {'nocare': 0}, {'prorus': 0})},\n",
       " {358: ({'pax': 0}, {'proukr': 0}, {'nocare': 0}, {'prorus': 0})},\n",
       " {359: ({'pax': 2}, {'proukr': 1}, {'nocare': 0}, {'prorus': 0})},\n",
       " {360: ({'pax': 0}, {'proukr': 0}, {'nocare': 0}, {'prorus': 0})},\n",
       " {361: ({'pax': 0}, {'proukr': 0}, {'nocare': 0}, {'prorus': 0})},\n",
       " {362: ({'pax': 0}, {'proukr': 0}, {'nocare': 0}, {'prorus': 0})},\n",
       " {363: ({'pax': 0}, {'proukr': 0}, {'nocare': 0}, {'prorus': 0})},\n",
       " {364: ({'pax': 1}, {'proukr': 2}, {'nocare': 0}, {'prorus': 0})},\n",
       " {365: ({'pax': 1}, {'proukr': 1}, {'nocare': 1}, {'prorus': 0})},\n",
       " {366: ({'pax': 0}, {'proukr': 3}, {'nocare': 0}, {'prorus': 0})},\n",
       " {367: ({'pax': 0}, {'proukr': 2}, {'nocare': 0}, {'prorus': 1})},\n",
       " {368: ({'pax': 2}, {'proukr': 0}, {'nocare': 0}, {'prorus': 1})},\n",
       " {369: ({'pax': 0}, {'proukr': 2}, {'nocare': 0}, {'prorus': 1})},\n",
       " {370: ({'pax': 1}, {'proukr': 2}, {'nocare': 0}, {'prorus': 0})},\n",
       " {371: ({'pax': 0}, {'proukr': 3}, {'nocare': 0}, {'prorus': 0})},\n",
       " {372: ({'pax': 1}, {'proukr': 0}, {'nocare': 1}, {'prorus': 1})},\n",
       " {373: ({'pax': 0}, {'proukr': 0}, {'nocare': 0}, {'prorus': 0})},\n",
       " {374: ({'pax': 1}, {'proukr': 2}, {'nocare': 0}, {'prorus': 0})},\n",
       " {375: ({'pax': 0}, {'proukr': 0}, {'nocare': 0}, {'prorus': 0})},\n",
       " {376: ({'pax': 1}, {'proukr': 1}, {'nocare': 1}, {'prorus': 0})},\n",
       " {377: ({'pax': 0}, {'proukr': 0}, {'nocare': 0}, {'prorus': 0})},\n",
       " {378: ({'pax': 0}, {'proukr': 0}, {'nocare': 0}, {'prorus': 0})},\n",
       " {379: ({'pax': 0}, {'proukr': 2}, {'nocare': 0}, {'prorus': 1})},\n",
       " {380: ({'pax': 0}, {'proukr': 0}, {'nocare': 0}, {'prorus': 0})},\n",
       " {381: ({'pax': 1}, {'proukr': 2}, {'nocare': 0}, {'prorus': 0})},\n",
       " {382: ({'pax': 0}, {'proukr': 0}, {'nocare': 0}, {'prorus': 0})},\n",
       " {383: ({'pax': 1}, {'proukr': 2}, {'nocare': 0}, {'prorus': 0})},\n",
       " {384: ({'pax': 0}, {'proukr': 0}, {'nocare': 0}, {'prorus': 0})},\n",
       " {385: ({'pax': 0}, {'proukr': 3}, {'nocare': 0}, {'prorus': 0})},\n",
       " {386: ({'pax': 0}, {'proukr': 3}, {'nocare': 0}, {'prorus': 0})},\n",
       " {387: ({'pax': 2}, {'proukr': 1}, {'nocare': 0}, {'prorus': 0})},\n",
       " {388: ({'pax': 0}, {'proukr': 0}, {'nocare': 0}, {'prorus': 0})},\n",
       " {389: ({'pax': 0}, {'proukr': 0}, {'nocare': 0}, {'prorus': 0})},\n",
       " {390: ({'pax': 0}, {'proukr': 0}, {'nocare': 0}, {'prorus': 0})},\n",
       " {391: ({'pax': 0}, {'proukr': 0}, {'nocare': 0}, {'prorus': 0})},\n",
       " {392: ({'pax': 1}, {'proukr': 2}, {'nocare': 0}, {'prorus': 0})},\n",
       " {393: ({'pax': 1}, {'proukr': 2}, {'nocare': 0}, {'prorus': 0})},\n",
       " {394: ({'pax': 0}, {'proukr': 0}, {'nocare': 0}, {'prorus': 0})},\n",
       " {395: ({'pax': 1}, {'proukr': 2}, {'nocare': 0}, {'prorus': 0})},\n",
       " {396: ({'pax': 0}, {'proukr': 0}, {'nocare': 0}, {'prorus': 0})},\n",
       " {397: ({'pax': 0}, {'proukr': 3}, {'nocare': 0}, {'prorus': 0})},\n",
       " {398: ({'pax': 0}, {'proukr': 0}, {'nocare': 0}, {'prorus': 0})},\n",
       " {399: ({'pax': 0}, {'proukr': 0}, {'nocare': 0}, {'prorus': 0})},\n",
       " {400: ({'pax': 0}, {'proukr': 0}, {'nocare': 0}, {'prorus': 0})},\n",
       " {401: ({'pax': 0}, {'proukr': 3}, {'nocare': 0}, {'prorus': 0})},\n",
       " {402: ({'pax': 0}, {'proukr': 0}, {'nocare': 0}, {'prorus': 0})},\n",
       " {403: ({'pax': 0}, {'proukr': 2}, {'nocare': 0}, {'prorus': 1})},\n",
       " {404: ({'pax': 0}, {'proukr': 0}, {'nocare': 0}, {'prorus': 0})},\n",
       " {405: ({'pax': 0}, {'proukr': 0}, {'nocare': 0}, {'prorus': 0})},\n",
       " {406: ({'pax': 0}, {'proukr': 2}, {'nocare': 0}, {'prorus': 0})},\n",
       " {407: ({'pax': 1}, {'proukr': 1}, {'nocare': 0}, {'prorus': 0})},\n",
       " {408: ({'pax': 1}, {'proukr': 1}, {'nocare': 0}, {'prorus': 0})},\n",
       " {409: ({'pax': 1}, {'proukr': 1}, {'nocare': 0}, {'prorus': 0})},\n",
       " {410: ({'pax': 1}, {'proukr': 1}, {'nocare': 0}, {'prorus': 0})},\n",
       " {411: ({'pax': 0}, {'proukr': 0}, {'nocare': 0}, {'prorus': 0})},\n",
       " {412: ({'pax': 0}, {'proukr': 0}, {'nocare': 0}, {'prorus': 0})},\n",
       " {413: ({'pax': 0}, {'proukr': 0}, {'nocare': 0}, {'prorus': 0})},\n",
       " {414: ({'pax': 0}, {'proukr': 2}, {'nocare': 0}, {'prorus': 0})},\n",
       " {415: ({'pax': 0}, {'proukr': 0}, {'nocare': 0}, {'prorus': 0})},\n",
       " {416: ({'pax': 0}, {'proukr': 0}, {'nocare': 0}, {'prorus': 0})},\n",
       " {417: ({'pax': 1}, {'proukr': 1}, {'nocare': 0}, {'prorus': 0})},\n",
       " {418: ({'pax': 0}, {'proukr': 2}, {'nocare': 0}, {'prorus': 0})},\n",
       " {419: ({'pax': 0}, {'proukr': 2}, {'nocare': 0}, {'prorus': 0})},\n",
       " {420: ({'pax': 0}, {'proukr': 0}, {'nocare': 0}, {'prorus': 0})},\n",
       " {421: ({'pax': 1}, {'proukr': 1}, {'nocare': 0}, {'prorus': 0})},\n",
       " {422: ({'pax': 0}, {'proukr': 0}, {'nocare': 0}, {'prorus': 0})},\n",
       " {423: ({'pax': 0}, {'proukr': 0}, {'nocare': 0}, {'prorus': 0})},\n",
       " {424: ({'pax': 0}, {'proukr': 1}, {'nocare': 1}, {'prorus': 0})},\n",
       " {425: ({'pax': 0}, {'proukr': 0}, {'nocare': 0}, {'prorus': 0})},\n",
       " {426: ({'pax': 0}, {'proukr': 2}, {'nocare': 0}, {'prorus': 0})},\n",
       " {427: ({'pax': 0}, {'proukr': 1}, {'nocare': 1}, {'prorus': 0})},\n",
       " {428: ({'pax': 0}, {'proukr': 0}, {'nocare': 0}, {'prorus': 0})},\n",
       " {429: ({'pax': 0}, {'proukr': 2}, {'nocare': 0}, {'prorus': 0})},\n",
       " {430: ({'pax': 0}, {'proukr': 0}, {'nocare': 0}, {'prorus': 0})},\n",
       " {431: ({'pax': 0}, {'proukr': 0}, {'nocare': 0}, {'prorus': 0})},\n",
       " {432: ({'pax': 0}, {'proukr': 0}, {'nocare': 0}, {'prorus': 0})},\n",
       " {433: ({'pax': 0}, {'proukr': 0}, {'nocare': 0}, {'prorus': 0})},\n",
       " {434: ({'pax': 0}, {'proukr': 0}, {'nocare': 0}, {'prorus': 0})},\n",
       " {435: ({'pax': 1}, {'proukr': 1}, {'nocare': 0}, {'prorus': 0})},\n",
       " {436: ({'pax': 1}, {'proukr': 0}, {'nocare': 1}, {'prorus': 0})},\n",
       " {437: ({'pax': 0}, {'proukr': 0}, {'nocare': 0}, {'prorus': 0})},\n",
       " {438: ({'pax': 0}, {'proukr': 0}, {'nocare': 0}, {'prorus': 0})},\n",
       " {439: ({'pax': 0}, {'proukr': 0}, {'nocare': 0}, {'prorus': 0})},\n",
       " {440: ({'pax': 0}, {'proukr': 0}, {'nocare': 0}, {'prorus': 0})},\n",
       " {441: ({'pax': 0}, {'proukr': 0}, {'nocare': 0}, {'prorus': 0})},\n",
       " {442: ({'pax': 0}, {'proukr': 2}, {'nocare': 0}, {'prorus': 0})},\n",
       " {443: ({'pax': 1}, {'proukr': 1}, {'nocare': 0}, {'prorus': 0})},\n",
       " {444: ({'pax': 2}, {'proukr': 0}, {'nocare': 0}, {'prorus': 0})},\n",
       " {445: ({'pax': 0}, {'proukr': 0}, {'nocare': 0}, {'prorus': 0})},\n",
       " {446: ({'pax': 0}, {'proukr': 0}, {'nocare': 0}, {'prorus': 0})},\n",
       " {447: ({'pax': 0}, {'proukr': 0}, {'nocare': 0}, {'prorus': 0})},\n",
       " {448: ({'pax': 1}, {'proukr': 1}, {'nocare': 0}, {'prorus': 0})},\n",
       " {449: ({'pax': 0}, {'proukr': 0}, {'nocare': 0}, {'prorus': 0})},\n",
       " {450: ({'pax': 0}, {'proukr': 0}, {'nocare': 0}, {'prorus': 0})},\n",
       " {451: ({'pax': 0}, {'proukr': 0}, {'nocare': 0}, {'prorus': 0})},\n",
       " {452: ({'pax': 0}, {'proukr': 2}, {'nocare': 0}, {'prorus': 0})},\n",
       " {453: ({'pax': 1}, {'proukr': 0}, {'nocare': 1}, {'prorus': 0})},\n",
       " {454: ({'pax': 0}, {'proukr': 0}, {'nocare': 0}, {'prorus': 0})},\n",
       " {455: ({'pax': 1}, {'proukr': 1}, {'nocare': 0}, {'prorus': 0})},\n",
       " {456: ({'pax': 0}, {'proukr': 2}, {'nocare': 0}, {'prorus': 0})},\n",
       " {457: ({'pax': 1}, {'proukr': 1}, {'nocare': 0}, {'prorus': 0})},\n",
       " {458: ({'pax': 0}, {'proukr': 2}, {'nocare': 0}, {'prorus': 0})},\n",
       " {459: ({'pax': 0}, {'proukr': 0}, {'nocare': 0}, {'prorus': 0})},\n",
       " {460: ({'pax': 0}, {'proukr': 0}, {'nocare': 0}, {'prorus': 0})},\n",
       " {461: ({'pax': 0}, {'proukr': 2}, {'nocare': 0}, {'prorus': 0})},\n",
       " {462: ({'pax': 0}, {'proukr': 0}, {'nocare': 0}, {'prorus': 0})},\n",
       " {463: ({'pax': 0}, {'proukr': 2}, {'nocare': 0}, {'prorus': 0})},\n",
       " {464: ({'pax': 0}, {'proukr': 0}, {'nocare': 0}, {'prorus': 0})},\n",
       " {465: ({'pax': 0}, {'proukr': 0}, {'nocare': 0}, {'prorus': 0})},\n",
       " {466: ({'pax': 0}, {'proukr': 0}, {'nocare': 0}, {'prorus': 0})},\n",
       " {467: ({'pax': 0}, {'proukr': 0}, {'nocare': 0}, {'prorus': 0})},\n",
       " {468: ({'pax': 0}, {'proukr': 0}, {'nocare': 0}, {'prorus': 0})},\n",
       " {469: ({'pax': 2}, {'proukr': 0}, {'nocare': 0}, {'prorus': 0})},\n",
       " {470: ({'pax': 0}, {'proukr': 0}, {'nocare': 0}, {'prorus': 0})},\n",
       " {471: ({'pax': 0}, {'proukr': 2}, {'nocare': 0}, {'prorus': 0})},\n",
       " {472: ({'pax': 0}, {'proukr': 0}, {'nocare': 0}, {'prorus': 0})},\n",
       " {473: ({'pax': 0}, {'proukr': 1}, {'nocare': 1}, {'prorus': 0})},\n",
       " {474: ({'pax': 1}, {'proukr': 1}, {'nocare': 0}, {'prorus': 0})},\n",
       " {475: ({'pax': 1}, {'proukr': 1}, {'nocare': 0}, {'prorus': 0})},\n",
       " {476: ({'pax': 1}, {'proukr': 1}, {'nocare': 0}, {'prorus': 0})},\n",
       " {477: ({'pax': 0}, {'proukr': 0}, {'nocare': 0}, {'prorus': 0})},\n",
       " {478: ({'pax': 0}, {'proukr': 2}, {'nocare': 0}, {'prorus': 0})},\n",
       " {479: ({'pax': 1}, {'proukr': 1}, {'nocare': 0}, {'prorus': 0})},\n",
       " {480: ({'pax': 0}, {'proukr': 0}, {'nocare': 0}, {'prorus': 0})},\n",
       " {481: ({'pax': 0}, {'proukr': 2}, {'nocare': 0}, {'prorus': 0})},\n",
       " {482: ({'pax': 0}, {'proukr': 0}, {'nocare': 0}, {'prorus': 0})},\n",
       " {483: ({'pax': 0}, {'proukr': 0}, {'nocare': 0}, {'prorus': 0})},\n",
       " {484: ({'pax': 0}, {'proukr': 2}, {'nocare': 0}, {'prorus': 0})},\n",
       " {485: ({'pax': 0}, {'proukr': 0}, {'nocare': 0}, {'prorus': 0})},\n",
       " {486: ({'pax': 0}, {'proukr': 0}, {'nocare': 0}, {'prorus': 0})},\n",
       " {487: ({'pax': 0}, {'proukr': 1}, {'nocare': 0}, {'prorus': 1})},\n",
       " {488: ({'pax': 0}, {'proukr': 2}, {'nocare': 0}, {'prorus': 0})},\n",
       " {489: ({'pax': 0}, {'proukr': 2}, {'nocare': 0}, {'prorus': 0})},\n",
       " {490: ({'pax': 0}, {'proukr': 0}, {'nocare': 0}, {'prorus': 0})},\n",
       " {491: ({'pax': 0}, {'proukr': 0}, {'nocare': 0}, {'prorus': 0})},\n",
       " {492: ({'pax': 0}, {'proukr': 0}, {'nocare': 0}, {'prorus': 0})},\n",
       " {493: ({'pax': 0}, {'proukr': 0}, {'nocare': 0}, {'prorus': 0})},\n",
       " {494: ({'pax': 2}, {'proukr': 0}, {'nocare': 0}, {'prorus': 0})},\n",
       " {495: ({'pax': 0}, {'proukr': 0}, {'nocare': 0}, {'prorus': 0})},\n",
       " {496: ({'pax': 0}, {'proukr': 0}, {'nocare': 0}, {'prorus': 0})},\n",
       " {497: ({'pax': 0}, {'proukr': 2}, {'nocare': 0}, {'prorus': 0})},\n",
       " {498: ({'pax': 1}, {'proukr': 1}, {'nocare': 0}, {'prorus': 0})},\n",
       " {499: ({'pax': 0}, {'proukr': 0}, {'nocare': 0}, {'prorus': 0})},\n",
       " {500: ({'pax': 0}, {'proukr': 2}, {'nocare': 0}, {'prorus': 0})},\n",
       " {501: ({'pax': 0}, {'proukr': 0}, {'nocare': 0}, {'prorus': 0})},\n",
       " {502: ({'pax': 0}, {'proukr': 0}, {'nocare': 0}, {'prorus': 0})},\n",
       " {503: ({'pax': 0}, {'proukr': 0}, {'nocare': 0}, {'prorus': 0})},\n",
       " {504: ({'pax': 0}, {'proukr': 2}, {'nocare': 0}, {'prorus': 0})},\n",
       " {505: ({'pax': 0}, {'proukr': 2}, {'nocare': 0}, {'prorus': 0})},\n",
       " {506: ({'pax': 0}, {'proukr': 2}, {'nocare': 0}, {'prorus': 0})},\n",
       " {507: ({'pax': 0}, {'proukr': 0}, {'nocare': 0}, {'prorus': 0})},\n",
       " {508: ({'pax': 0}, {'proukr': 0}, {'nocare': 0}, {'prorus': 0})},\n",
       " {509: ({'pax': 0}, {'proukr': 0}, {'nocare': 0}, {'prorus': 0})},\n",
       " {510: ({'pax': 0}, {'proukr': 2}, {'nocare': 0}, {'prorus': 0})},\n",
       " {511: ({'pax': 0}, {'proukr': 2}, {'nocare': 0}, {'prorus': 0})},\n",
       " {512: ({'pax': 0}, {'proukr': 0}, {'nocare': 0}, {'prorus': 0})},\n",
       " {513: ({'pax': 1}, {'proukr': 0}, {'nocare': 0}, {'prorus': 1})},\n",
       " {514: ({'pax': 0}, {'proukr': 0}, {'nocare': 0}, {'prorus': 0})},\n",
       " {515: ({'pax': 0}, {'proukr': 0}, {'nocare': 0}, {'prorus': 0})},\n",
       " {516: ({'pax': 0}, {'proukr': 2}, {'nocare': 0}, {'prorus': 0})},\n",
       " {517: ({'pax': 0}, {'proukr': 0}, {'nocare': 0}, {'prorus': 0})},\n",
       " {518: ({'pax': 0}, {'proukr': 0}, {'nocare': 0}, {'prorus': 0})},\n",
       " {519: ({'pax': 0}, {'proukr': 1}, {'nocare': 1}, {'prorus': 0})},\n",
       " {520: ({'pax': 1}, {'proukr': 1}, {'nocare': 0}, {'prorus': 0})},\n",
       " {521: ({'pax': 1}, {'proukr': 1}, {'nocare': 0}, {'prorus': 0})},\n",
       " {522: ({'pax': 0}, {'proukr': 1}, {'nocare': 0}, {'prorus': 1})},\n",
       " {523: ({'pax': 0}, {'proukr': 0}, {'nocare': 0}, {'prorus': 0})},\n",
       " {524: ({'pax': 0}, {'proukr': 0}, {'nocare': 0}, {'prorus': 0})},\n",
       " {525: ({'pax': 0}, {'proukr': 0}, {'nocare': 0}, {'prorus': 0})},\n",
       " {526: ({'pax': 0}, {'proukr': 0}, {'nocare': 0}, {'prorus': 0})},\n",
       " {527: ({'pax': 0}, {'proukr': 0}, {'nocare': 0}, {'prorus': 0})},\n",
       " {528: ({'pax': 0}, {'proukr': 0}, {'nocare': 0}, {'prorus': 0})},\n",
       " {529: ({'pax': 0}, {'proukr': 0}, {'nocare': 0}, {'prorus': 0})},\n",
       " {530: ({'pax': 0}, {'proukr': 2}, {'nocare': 0}, {'prorus': 0})},\n",
       " {531: ({'pax': 0}, {'proukr': 2}, {'nocare': 0}, {'prorus': 0})},\n",
       " {532: ({'pax': 0}, {'proukr': 2}, {'nocare': 0}, {'prorus': 0})},\n",
       " {533: ({'pax': 0}, {'proukr': 0}, {'nocare': 0}, {'prorus': 0})},\n",
       " {534: ({'pax': 1}, {'proukr': 1}, {'nocare': 0}, {'prorus': 0})},\n",
       " {535: ({'pax': 0}, {'proukr': 1}, {'nocare': 1}, {'prorus': 0})},\n",
       " {536: ({'pax': 1}, {'proukr': 1}, {'nocare': 0}, {'prorus': 0})},\n",
       " {537: ({'pax': 0}, {'proukr': 0}, {'nocare': 0}, {'prorus': 0})},\n",
       " {538: ({'pax': 1}, {'proukr': 1}, {'nocare': 0}, {'prorus': 0})},\n",
       " {539: ({'pax': 0}, {'proukr': 0}, {'nocare': 0}, {'prorus': 0})},\n",
       " {540: ({'pax': 0}, {'proukr': 0}, {'nocare': 0}, {'prorus': 0})},\n",
       " {541: ({'pax': 0}, {'proukr': 2}, {'nocare': 0}, {'prorus': 0})},\n",
       " {542: ({'pax': 0}, {'proukr': 0}, {'nocare': 0}, {'prorus': 0})},\n",
       " {543: ({'pax': 0}, {'proukr': 2}, {'nocare': 0}, {'prorus': 0})},\n",
       " {544: ({'pax': 0}, {'proukr': 2}, {'nocare': 0}, {'prorus': 0})},\n",
       " {545: ({'pax': 0}, {'proukr': 2}, {'nocare': 0}, {'prorus': 0})},\n",
       " {546: ({'pax': 0}, {'proukr': 0}, {'nocare': 0}, {'prorus': 0})},\n",
       " {547: ({'pax': 0}, {'proukr': 0}, {'nocare': 0}, {'prorus': 0})},\n",
       " {548: ({'pax': 0}, {'proukr': 0}, {'nocare': 0}, {'prorus': 0})},\n",
       " {549: ({'pax': 1}, {'proukr': 1}, {'nocare': 0}, {'prorus': 0})},\n",
       " {550: ({'pax': 0}, {'proukr': 0}, {'nocare': 0}, {'prorus': 0})},\n",
       " {551: ({'pax': 0}, {'proukr': 0}, {'nocare': 0}, {'prorus': 0})},\n",
       " {552: ({'pax': 0}, {'proukr': 2}, {'nocare': 0}, {'prorus': 0})},\n",
       " {553: ({'pax': 0}, {'proukr': 0}, {'nocare': 0}, {'prorus': 0})},\n",
       " {554: ({'pax': 0}, {'proukr': 0}, {'nocare': 0}, {'prorus': 0})},\n",
       " {555: ({'pax': 0}, {'proukr': 0}, {'nocare': 0}, {'prorus': 0})},\n",
       " {556: ({'pax': 1}, {'proukr': 1}, {'nocare': 0}, {'prorus': 0})},\n",
       " {557: ({'pax': 0}, {'proukr': 0}, {'nocare': 0}, {'prorus': 0})},\n",
       " {558: ({'pax': 0}, {'proukr': 0}, {'nocare': 0}, {'prorus': 0})},\n",
       " {559: ({'pax': 1}, {'proukr': 1}, {'nocare': 0}, {'prorus': 0})},\n",
       " {560: ({'pax': 0}, {'proukr': 0}, {'nocare': 0}, {'prorus': 0})},\n",
       " {561: ({'pax': 0}, {'proukr': 0}, {'nocare': 0}, {'prorus': 0})},\n",
       " {562: ({'pax': 1}, {'proukr': 1}, {'nocare': 0}, {'prorus': 0})},\n",
       " {563: ({'pax': 0}, {'proukr': 0}, {'nocare': 0}, {'prorus': 0})},\n",
       " {564: ({'pax': 0}, {'proukr': 0}, {'nocare': 0}, {'prorus': 0})},\n",
       " {565: ({'pax': 0}, {'proukr': 2}, {'nocare': 0}, {'prorus': 0})},\n",
       " {566: ({'pax': 1}, {'proukr': 1}, {'nocare': 0}, {'prorus': 0})},\n",
       " {567: ({'pax': 0}, {'proukr': 0}, {'nocare': 0}, {'prorus': 0})},\n",
       " {568: ({'pax': 0}, {'proukr': 0}, {'nocare': 0}, {'prorus': 0})},\n",
       " {569: ({'pax': 0}, {'proukr': 0}, {'nocare': 0}, {'prorus': 0})},\n",
       " {570: ({'pax': 0}, {'proukr': 0}, {'nocare': 0}, {'prorus': 0})},\n",
       " {571: ({'pax': 0}, {'proukr': 0}, {'nocare': 0}, {'prorus': 0})},\n",
       " {572: ({'pax': 0}, {'proukr': 0}, {'nocare': 0}, {'prorus': 0})},\n",
       " {573: ({'pax': 0}, {'proukr': 0}, {'nocare': 0}, {'prorus': 0})},\n",
       " {574: ({'pax': 0}, {'proukr': 2}, {'nocare': 0}, {'prorus': 0})},\n",
       " {575: ({'pax': 0}, {'proukr': 2}, {'nocare': 0}, {'prorus': 0})},\n",
       " {576: ({'pax': 2}, {'proukr': 0}, {'nocare': 0}, {'prorus': 0})},\n",
       " {577: ({'pax': 0}, {'proukr': 0}, {'nocare': 0}, {'prorus': 0})},\n",
       " {578: ({'pax': 0}, {'proukr': 0}, {'nocare': 0}, {'prorus': 0})},\n",
       " {579: ({'pax': 0}, {'proukr': 0}, {'nocare': 0}, {'prorus': 0})},\n",
       " {580: ({'pax': 0}, {'proukr': 0}, {'nocare': 0}, {'prorus': 0})},\n",
       " {581: ({'pax': 1}, {'proukr': 1}, {'nocare': 0}, {'prorus': 0})},\n",
       " {582: ({'pax': 0}, {'proukr': 0}, {'nocare': 0}, {'prorus': 0})},\n",
       " {583: ({'pax': 0}, {'proukr': 1}, {'nocare': 1}, {'prorus': 0})},\n",
       " {584: ({'pax': 0}, {'proukr': 0}, {'nocare': 0}, {'prorus': 0})},\n",
       " {585: ({'pax': 0}, {'proukr': 0}, {'nocare': 0}, {'prorus': 0})},\n",
       " {586: ({'pax': 1}, {'proukr': 1}, {'nocare': 0}, {'prorus': 0})},\n",
       " {587: ({'pax': 1}, {'proukr': 1}, {'nocare': 0}, {'prorus': 0})},\n",
       " {588: ({'pax': 1}, {'proukr': 0}, {'nocare': 0}, {'prorus': 1})},\n",
       " {589: ({'pax': 0}, {'proukr': 0}, {'nocare': 0}, {'prorus': 0})},\n",
       " {590: ({'pax': 1}, {'proukr': 1}, {'nocare': 0}, {'prorus': 0})},\n",
       " {591: ({'pax': 0}, {'proukr': 0}, {'nocare': 0}, {'prorus': 0})},\n",
       " {592: ({'pax': 0}, {'proukr': 0}, {'nocare': 0}, {'prorus': 0})},\n",
       " {593: ({'pax': 0}, {'proukr': 0}, {'nocare': 0}, {'prorus': 0})},\n",
       " {594: ({'pax': 0}, {'proukr': 0}, {'nocare': 0}, {'prorus': 0})},\n",
       " {595: ({'pax': 0}, {'proukr': 0}, {'nocare': 0}, {'prorus': 0})},\n",
       " {596: ({'pax': 0}, {'proukr': 0}, {'nocare': 0}, {'prorus': 0})},\n",
       " {597: ({'pax': 0}, {'proukr': 0}, {'nocare': 0}, {'prorus': 0})},\n",
       " {598: ({'pax': 0}, {'proukr': 0}, {'nocare': 0}, {'prorus': 0})},\n",
       " {599: ({'pax': 0}, {'proukr': 0}, {'nocare': 0}, {'prorus': 0})},\n",
       " {600: ({'pax': 0}, {'proukr': 0}, {'nocare': 0}, {'prorus': 0})},\n",
       " {601: ({'pax': 0}, {'proukr': 0}, {'nocare': 0}, {'prorus': 0})},\n",
       " {602: ({'pax': 0}, {'proukr': 0}, {'nocare': 0}, {'prorus': 0})}]"
      ]
     },
     "execution_count": 176,
     "metadata": {},
     "output_type": "execute_result"
    }
   ],
   "source": [
    "label_prop_com=label_prop.communities\n",
    "communities=[]\n",
    "\n",
    "for i, c in enumerate(label_prop_com):\n",
    "    loc={}\n",
    "    loc_set=set()\n",
    "    cat_value={}\n",
    "    pax={}\n",
    "    proukr={}\n",
    "    nocare={}\n",
    "    prorus={}\n",
    "    c_pax=0\n",
    "    c_proukr=0\n",
    "    c_nocare=0\n",
    "    c_prorus=0\n",
    "    for e in c:\n",
    "        if (df_nodes.loc[df_nodes.index==e,'category'] =='pax').any()==True:\n",
    "            loc_set.add(\"\".join(str(l) for l in df_nodes['location'][e]))\n",
    "            c_pax += 1\n",
    "        elif (df_nodes.loc[df_nodes.index==e,'category'] =='proukr').any()==True:\n",
    "            loc_set.add(\"\".join(str(l) for l in df_nodes['location'][e]))\n",
    "            c_proukr += 1\n",
    "        elif (df_nodes.loc[df_nodes.index==e,'category'] =='prorus').any()==True:\n",
    "            loc_set.add(\"\".join(str(l) for l in df_nodes['location'][e]))\n",
    "            c_prorus += 1\n",
    "        elif (df_nodes.loc[df_nodes.index==e,'category'] =='dontcare').any()==True:\n",
    "            loc_set.add(\"\".join(str(l) for l in df_nodes['location'][e]))\n",
    "            c_nocare +=1\n",
    "        pax['pax']=c_pax\n",
    "        proukr['proukr']=c_proukr\n",
    "        nocare['nocare']=c_nocare\n",
    "        prorus['prorus']=c_prorus\n",
    "        loc['loc']=loc_set\n",
    "        cat_value[i]=pax,proukr,nocare,prorus #,loc\n",
    "    communities.append(cat_value)\n",
    "communities"
   ]
  },
  {
   "cell_type": "code",
   "execution_count": 177,
   "id": "nonprofit-chicago",
   "metadata": {},
   "outputs": [
    {
     "data": {
      "text/html": [
       "<pre style=\"white-space:pre;overflow-x:auto;line-height:normal;font-family:Menlo,'DejaVu Sans Mono',consolas,'Courier New',monospace\"><span style=\"color: #008080; text-decoration-color: #008080; font-weight: bold\">603</span>\n",
       "</pre>\n"
      ],
      "text/plain": [
       "\u001b[1;36m603\u001b[0m\n"
      ]
     },
     "metadata": {},
     "output_type": "display_data"
    }
   ],
   "source": [
    "print(len(label_prop.communities))"
   ]
  },
  {
   "cell_type": "code",
   "execution_count": 178,
   "id": "chemical-radiation",
   "metadata": {},
   "outputs": [
    {
     "data": {
      "text/plain": [
       "False"
      ]
     },
     "execution_count": 178,
     "metadata": {},
     "output_type": "execute_result"
    }
   ],
   "source": [
    "label_prop.overlap"
   ]
  },
  {
   "cell_type": "code",
   "execution_count": 179,
   "id": "initial-premises",
   "metadata": {},
   "outputs": [
    {
     "data": {
      "text/plain": [
       "1.0"
      ]
     },
     "execution_count": 179,
     "metadata": {},
     "output_type": "execute_result"
    }
   ],
   "source": [
    "label_prop.node_coverage"
   ]
  },
  {
   "cell_type": "code",
   "execution_count": 180,
   "id": "ideal-somerset",
   "metadata": {},
   "outputs": [],
   "source": [
    "#label_prop.to_json()"
   ]
  },
  {
   "cell_type": "markdown",
   "id": "sustainable-capacity",
   "metadata": {},
   "source": [
    "# Louvain "
   ]
  },
  {
   "cell_type": "code",
   "execution_count": 181,
   "id": "champion-horror",
   "metadata": {},
   "outputs": [
    {
     "data": {
      "text/plain": [
       "'Leiden'"
      ]
     },
     "execution_count": 181,
     "metadata": {},
     "output_type": "execute_result"
    }
   ],
   "source": [
    "#Leiden algorithm is an improvement of the Louvain algorithm\n",
    "louvain = algorithms.leiden(G)\n",
    "louvain.method_name "
   ]
  },
  {
   "cell_type": "code",
   "execution_count": 182,
   "id": "thrown-romance",
   "metadata": {},
   "outputs": [
    {
     "data": {
      "text/plain": [
       "{'initial_membership': None, 'weights': None}"
      ]
     },
     "execution_count": 182,
     "metadata": {},
     "output_type": "execute_result"
    }
   ],
   "source": [
    "#Clustering parameters\n",
    "louvain.method_parameters "
   ]
  },
  {
   "cell_type": "code",
   "execution_count": 183,
   "id": "cellular-valuation",
   "metadata": {},
   "outputs": [
    {
     "data": {
      "text/plain": [
       "[{0: ({'pax': 331}, {'proukr': 1165}, {'nocare': 109}, {'prorus': 57})},\n",
       " {1: ({'pax': 253}, {'proukr': 684}, {'nocare': 78}, {'prorus': 46})},\n",
       " {2: ({'pax': 148}, {'proukr': 461}, {'nocare': 47}, {'prorus': 28})},\n",
       " {3: ({'pax': 102}, {'proukr': 394}, {'nocare': 37}, {'prorus': 27})},\n",
       " {4: ({'pax': 118}, {'proukr': 380}, {'nocare': 23}, {'prorus': 14})},\n",
       " {5: ({'pax': 102}, {'proukr': 355}, {'nocare': 36}, {'prorus': 18})},\n",
       " {6: ({'pax': 63}, {'proukr': 229}, {'nocare': 24}, {'prorus': 8})},\n",
       " {7: ({'pax': 68}, {'proukr': 212}, {'nocare': 19}, {'prorus': 12})},\n",
       " {8: ({'pax': 54}, {'proukr': 161}, {'nocare': 22}, {'prorus': 16})},\n",
       " {9: ({'pax': 54}, {'proukr': 142}, {'nocare': 12}, {'prorus': 13})},\n",
       " {10: ({'pax': 51}, {'proukr': 142}, {'nocare': 13}, {'prorus': 8})},\n",
       " {11: ({'pax': 52}, {'proukr': 136}, {'nocare': 12}, {'prorus': 7})},\n",
       " {12: ({'pax': 44}, {'proukr': 139}, {'nocare': 18}, {'prorus': 6})},\n",
       " {13: ({'pax': 40}, {'proukr': 129}, {'nocare': 15}, {'prorus': 9})},\n",
       " {14: ({'pax': 35}, {'proukr': 116}, {'nocare': 12}, {'prorus': 12})},\n",
       " {15: ({'pax': 29}, {'proukr': 113}, {'nocare': 14}, {'prorus': 7})},\n",
       " {16: ({'pax': 32}, {'proukr': 115}, {'nocare': 11}, {'prorus': 4})},\n",
       " {17: ({'pax': 33}, {'proukr': 117}, {'nocare': 9}, {'prorus': 3})},\n",
       " {18: ({'pax': 33}, {'proukr': 110}, {'nocare': 10}, {'prorus': 7})},\n",
       " {19: ({'pax': 29}, {'proukr': 107}, {'nocare': 18}, {'prorus': 5})},\n",
       " {20: ({'pax': 29}, {'proukr': 106}, {'nocare': 12}, {'prorus': 8})},\n",
       " {21: ({'pax': 30}, {'proukr': 108}, {'nocare': 6}, {'prorus': 9})},\n",
       " {22: ({'pax': 29}, {'proukr': 100}, {'nocare': 12}, {'prorus': 7})},\n",
       " {23: ({'pax': 26}, {'proukr': 103}, {'nocare': 5}, {'prorus': 12})},\n",
       " {24: ({'pax': 34}, {'proukr': 94}, {'nocare': 9}, {'prorus': 4})},\n",
       " {25: ({'pax': 39}, {'proukr': 82}, {'nocare': 8}, {'prorus': 9})},\n",
       " {26: ({'pax': 31}, {'proukr': 90}, {'nocare': 5}, {'prorus': 5})},\n",
       " {27: ({'pax': 35}, {'proukr': 79}, {'nocare': 8}, {'prorus': 7})},\n",
       " {28: ({'pax': 26}, {'proukr': 80}, {'nocare': 8}, {'prorus': 8})},\n",
       " {29: ({'pax': 27}, {'proukr': 85}, {'nocare': 6}, {'prorus': 4})},\n",
       " {30: ({'pax': 20}, {'proukr': 86}, {'nocare': 6}, {'prorus': 5})},\n",
       " {31: ({'pax': 23}, {'proukr': 78}, {'nocare': 8}, {'prorus': 7})},\n",
       " {32: ({'pax': 13}, {'proukr': 68}, {'nocare': 6}, {'prorus': 3})},\n",
       " {33: ({'pax': 23}, {'proukr': 45}, {'nocare': 8}, {'prorus': 5})},\n",
       " {34: ({'pax': 22}, {'proukr': 46}, {'nocare': 6}, {'prorus': 1})},\n",
       " {35: ({'pax': 15}, {'proukr': 47}, {'nocare': 6}, {'prorus': 1})},\n",
       " {36: ({'pax': 13}, {'proukr': 44}, {'nocare': 4}, {'prorus': 4})},\n",
       " {37: ({'pax': 13}, {'proukr': 43}, {'nocare': 4}, {'prorus': 3})},\n",
       " {38: ({'pax': 8}, {'proukr': 43}, {'nocare': 5}, {'prorus': 3})},\n",
       " {39: ({'pax': 14}, {'proukr': 40}, {'nocare': 2}, {'prorus': 1})},\n",
       " {40: ({'pax': 0}, {'proukr': 0}, {'nocare': 0}, {'prorus': 0})},\n",
       " {41: ({'pax': 0}, {'proukr': 0}, {'nocare': 0}, {'prorus': 0})},\n",
       " {42: ({'pax': 0}, {'proukr': 0}, {'nocare': 0}, {'prorus': 0})},\n",
       " {43: ({'pax': 0}, {'proukr': 0}, {'nocare': 0}, {'prorus': 0})},\n",
       " {44: ({'pax': 8}, {'proukr': 11}, {'nocare': 4}, {'prorus': 0})},\n",
       " {45: ({'pax': 0}, {'proukr': 0}, {'nocare': 0}, {'prorus': 0})},\n",
       " {46: ({'pax': 0}, {'proukr': 0}, {'nocare': 0}, {'prorus': 0})},\n",
       " {47: ({'pax': 0}, {'proukr': 0}, {'nocare': 0}, {'prorus': 0})},\n",
       " {48: ({'pax': 0}, {'proukr': 0}, {'nocare': 0}, {'prorus': 0})},\n",
       " {49: ({'pax': 8}, {'proukr': 7}, {'nocare': 2}, {'prorus': 0})},\n",
       " {50: ({'pax': 0}, {'proukr': 0}, {'nocare': 0}, {'prorus': 0})},\n",
       " {51: ({'pax': 0}, {'proukr': 0}, {'nocare': 0}, {'prorus': 0})},\n",
       " {52: ({'pax': 0}, {'proukr': 0}, {'nocare': 0}, {'prorus': 0})},\n",
       " {53: ({'pax': 0}, {'proukr': 0}, {'nocare': 0}, {'prorus': 0})},\n",
       " {54: ({'pax': 0}, {'proukr': 0}, {'nocare': 0}, {'prorus': 0})},\n",
       " {55: ({'pax': 0}, {'proukr': 0}, {'nocare': 0}, {'prorus': 0})},\n",
       " {56: ({'pax': 0}, {'proukr': 11}, {'nocare': 0}, {'prorus': 2})},\n",
       " {57: ({'pax': 0}, {'proukr': 0}, {'nocare': 0}, {'prorus': 0})},\n",
       " {58: ({'pax': 0}, {'proukr': 0}, {'nocare': 0}, {'prorus': 0})},\n",
       " {59: ({'pax': 0}, {'proukr': 0}, {'nocare': 0}, {'prorus': 0})},\n",
       " {60: ({'pax': 0}, {'proukr': 0}, {'nocare': 0}, {'prorus': 0})},\n",
       " {61: ({'pax': 2}, {'proukr': 8}, {'nocare': 1}, {'prorus': 0})},\n",
       " {62: ({'pax': 0}, {'proukr': 0}, {'nocare': 0}, {'prorus': 0})},\n",
       " {63: ({'pax': 0}, {'proukr': 0}, {'nocare': 0}, {'prorus': 0})},\n",
       " {64: ({'pax': 0}, {'proukr': 0}, {'nocare': 0}, {'prorus': 0})},\n",
       " {65: ({'pax': 0}, {'proukr': 0}, {'nocare': 0}, {'prorus': 0})},\n",
       " {66: ({'pax': 0}, {'proukr': 0}, {'nocare': 0}, {'prorus': 0})},\n",
       " {67: ({'pax': 0}, {'proukr': 0}, {'nocare': 0}, {'prorus': 0})},\n",
       " {68: ({'pax': 0}, {'proukr': 0}, {'nocare': 0}, {'prorus': 0})},\n",
       " {69: ({'pax': 0}, {'proukr': 0}, {'nocare': 0}, {'prorus': 0})},\n",
       " {70: ({'pax': 0}, {'proukr': 0}, {'nocare': 0}, {'prorus': 0})},\n",
       " {71: ({'pax': 0}, {'proukr': 0}, {'nocare': 0}, {'prorus': 0})},\n",
       " {72: ({'pax': 0}, {'proukr': 0}, {'nocare': 0}, {'prorus': 0})},\n",
       " {73: ({'pax': 0}, {'proukr': 0}, {'nocare': 0}, {'prorus': 0})},\n",
       " {74: ({'pax': 0}, {'proukr': 6}, {'nocare': 1}, {'prorus': 0})},\n",
       " {75: ({'pax': 0}, {'proukr': 0}, {'nocare': 0}, {'prorus': 0})},\n",
       " {76: ({'pax': 0}, {'proukr': 0}, {'nocare': 0}, {'prorus': 0})},\n",
       " {77: ({'pax': 0}, {'proukr': 0}, {'nocare': 0}, {'prorus': 0})},\n",
       " {78: ({'pax': 0}, {'proukr': 0}, {'nocare': 0}, {'prorus': 0})},\n",
       " {79: ({'pax': 0}, {'proukr': 0}, {'nocare': 0}, {'prorus': 0})},\n",
       " {80: ({'pax': 0}, {'proukr': 0}, {'nocare': 0}, {'prorus': 0})},\n",
       " {81: ({'pax': 0}, {'proukr': 0}, {'nocare': 0}, {'prorus': 0})},\n",
       " {82: ({'pax': 0}, {'proukr': 0}, {'nocare': 0}, {'prorus': 0})},\n",
       " {83: ({'pax': 0}, {'proukr': 0}, {'nocare': 0}, {'prorus': 0})},\n",
       " {84: ({'pax': 0}, {'proukr': 0}, {'nocare': 0}, {'prorus': 0})},\n",
       " {85: ({'pax': 0}, {'proukr': 0}, {'nocare': 0}, {'prorus': 0})},\n",
       " {86: ({'pax': 3}, {'proukr': 2}, {'nocare': 0}, {'prorus': 1})},\n",
       " {87: ({'pax': 0}, {'proukr': 0}, {'nocare': 0}, {'prorus': 0})},\n",
       " {88: ({'pax': 0}, {'proukr': 0}, {'nocare': 0}, {'prorus': 0})},\n",
       " {89: ({'pax': 0}, {'proukr': 0}, {'nocare': 0}, {'prorus': 0})},\n",
       " {90: ({'pax': 3}, {'proukr': 3}, {'nocare': 0}, {'prorus': 0})},\n",
       " {91: ({'pax': 0}, {'proukr': 0}, {'nocare': 0}, {'prorus': 0})},\n",
       " {92: ({'pax': 0}, {'proukr': 0}, {'nocare': 0}, {'prorus': 0})},\n",
       " {93: ({'pax': 0}, {'proukr': 0}, {'nocare': 0}, {'prorus': 0})},\n",
       " {94: ({'pax': 0}, {'proukr': 0}, {'nocare': 0}, {'prorus': 0})},\n",
       " {95: ({'pax': 0}, {'proukr': 0}, {'nocare': 0}, {'prorus': 0})},\n",
       " {96: ({'pax': 0}, {'proukr': 0}, {'nocare': 0}, {'prorus': 0})},\n",
       " {97: ({'pax': 0}, {'proukr': 0}, {'nocare': 0}, {'prorus': 0})},\n",
       " {98: ({'pax': 0}, {'proukr': 0}, {'nocare': 0}, {'prorus': 0})},\n",
       " {99: ({'pax': 0}, {'proukr': 0}, {'nocare': 0}, {'prorus': 0})},\n",
       " {100: ({'pax': 0}, {'proukr': 0}, {'nocare': 0}, {'prorus': 0})},\n",
       " {101: ({'pax': 0}, {'proukr': 0}, {'nocare': 0}, {'prorus': 0})},\n",
       " {102: ({'pax': 0}, {'proukr': 0}, {'nocare': 0}, {'prorus': 0})},\n",
       " {103: ({'pax': 0}, {'proukr': 0}, {'nocare': 0}, {'prorus': 0})},\n",
       " {104: ({'pax': 0}, {'proukr': 0}, {'nocare': 0}, {'prorus': 0})},\n",
       " {105: ({'pax': 0}, {'proukr': 0}, {'nocare': 0}, {'prorus': 0})},\n",
       " {106: ({'pax': 0}, {'proukr': 0}, {'nocare': 0}, {'prorus': 0})},\n",
       " {107: ({'pax': 0}, {'proukr': 0}, {'nocare': 0}, {'prorus': 0})},\n",
       " {108: ({'pax': 0}, {'proukr': 0}, {'nocare': 0}, {'prorus': 0})},\n",
       " {109: ({'pax': 0}, {'proukr': 0}, {'nocare': 0}, {'prorus': 0})},\n",
       " {110: ({'pax': 0}, {'proukr': 0}, {'nocare': 0}, {'prorus': 0})},\n",
       " {111: ({'pax': 0}, {'proukr': 0}, {'nocare': 0}, {'prorus': 0})},\n",
       " {112: ({'pax': 0}, {'proukr': 0}, {'nocare': 0}, {'prorus': 0})},\n",
       " {113: ({'pax': 0}, {'proukr': 0}, {'nocare': 0}, {'prorus': 0})},\n",
       " {114: ({'pax': 0}, {'proukr': 0}, {'nocare': 0}, {'prorus': 0})},\n",
       " {115: ({'pax': 0}, {'proukr': 0}, {'nocare': 0}, {'prorus': 0})},\n",
       " {116: ({'pax': 0}, {'proukr': 0}, {'nocare': 0}, {'prorus': 0})},\n",
       " {117: ({'pax': 0}, {'proukr': 0}, {'nocare': 0}, {'prorus': 0})},\n",
       " {118: ({'pax': 0}, {'proukr': 0}, {'nocare': 0}, {'prorus': 0})},\n",
       " {119: ({'pax': 0}, {'proukr': 0}, {'nocare': 0}, {'prorus': 0})},\n",
       " {120: ({'pax': 0}, {'proukr': 0}, {'nocare': 0}, {'prorus': 0})},\n",
       " {121: ({'pax': 0}, {'proukr': 0}, {'nocare': 0}, {'prorus': 0})},\n",
       " {122: ({'pax': 0}, {'proukr': 0}, {'nocare': 0}, {'prorus': 0})},\n",
       " {123: ({'pax': 0}, {'proukr': 0}, {'nocare': 0}, {'prorus': 0})},\n",
       " {124: ({'pax': 0}, {'proukr': 0}, {'nocare': 0}, {'prorus': 0})},\n",
       " {125: ({'pax': 0}, {'proukr': 0}, {'nocare': 0}, {'prorus': 0})},\n",
       " {126: ({'pax': 0}, {'proukr': 0}, {'nocare': 0}, {'prorus': 0})},\n",
       " {127: ({'pax': 0}, {'proukr': 0}, {'nocare': 0}, {'prorus': 0})},\n",
       " {128: ({'pax': 0}, {'proukr': 0}, {'nocare': 0}, {'prorus': 0})},\n",
       " {129: ({'pax': 0}, {'proukr': 0}, {'nocare': 0}, {'prorus': 0})},\n",
       " {130: ({'pax': 0}, {'proukr': 0}, {'nocare': 0}, {'prorus': 0})},\n",
       " {131: ({'pax': 0}, {'proukr': 0}, {'nocare': 0}, {'prorus': 0})},\n",
       " {132: ({'pax': 0}, {'proukr': 0}, {'nocare': 0}, {'prorus': 0})},\n",
       " {133: ({'pax': 0}, {'proukr': 0}, {'nocare': 0}, {'prorus': 0})},\n",
       " {134: ({'pax': 0}, {'proukr': 0}, {'nocare': 0}, {'prorus': 0})},\n",
       " {135: ({'pax': 0}, {'proukr': 0}, {'nocare': 0}, {'prorus': 0})},\n",
       " {136: ({'pax': 0}, {'proukr': 0}, {'nocare': 0}, {'prorus': 0})},\n",
       " {137: ({'pax': 0}, {'proukr': 0}, {'nocare': 0}, {'prorus': 0})},\n",
       " {138: ({'pax': 0}, {'proukr': 0}, {'nocare': 0}, {'prorus': 0})},\n",
       " {139: ({'pax': 0}, {'proukr': 0}, {'nocare': 0}, {'prorus': 0})},\n",
       " {140: ({'pax': 0}, {'proukr': 0}, {'nocare': 0}, {'prorus': 0})},\n",
       " {141: ({'pax': 0}, {'proukr': 0}, {'nocare': 0}, {'prorus': 0})},\n",
       " {142: ({'pax': 0}, {'proukr': 0}, {'nocare': 0}, {'prorus': 0})},\n",
       " {143: ({'pax': 0}, {'proukr': 0}, {'nocare': 0}, {'prorus': 0})},\n",
       " {144: ({'pax': 0}, {'proukr': 0}, {'nocare': 0}, {'prorus': 0})},\n",
       " {145: ({'pax': 0}, {'proukr': 0}, {'nocare': 0}, {'prorus': 0})},\n",
       " {146: ({'pax': 0}, {'proukr': 0}, {'nocare': 0}, {'prorus': 0})},\n",
       " {147: ({'pax': 0}, {'proukr': 0}, {'nocare': 0}, {'prorus': 0})},\n",
       " {148: ({'pax': 0}, {'proukr': 0}, {'nocare': 0}, {'prorus': 0})},\n",
       " {149: ({'pax': 0}, {'proukr': 0}, {'nocare': 0}, {'prorus': 0})},\n",
       " {150: ({'pax': 0}, {'proukr': 0}, {'nocare': 0}, {'prorus': 0})},\n",
       " {151: ({'pax': 0}, {'proukr': 0}, {'nocare': 0}, {'prorus': 0})},\n",
       " {152: ({'pax': 0}, {'proukr': 0}, {'nocare': 0}, {'prorus': 0})},\n",
       " {153: ({'pax': 0}, {'proukr': 0}, {'nocare': 0}, {'prorus': 0})},\n",
       " {154: ({'pax': 0}, {'proukr': 0}, {'nocare': 0}, {'prorus': 0})},\n",
       " {155: ({'pax': 0}, {'proukr': 0}, {'nocare': 0}, {'prorus': 0})},\n",
       " {156: ({'pax': 0}, {'proukr': 0}, {'nocare': 0}, {'prorus': 0})},\n",
       " {157: ({'pax': 0}, {'proukr': 0}, {'nocare': 0}, {'prorus': 0})},\n",
       " {158: ({'pax': 0}, {'proukr': 0}, {'nocare': 0}, {'prorus': 0})},\n",
       " {159: ({'pax': 0}, {'proukr': 0}, {'nocare': 0}, {'prorus': 0})},\n",
       " {160: ({'pax': 0}, {'proukr': 0}, {'nocare': 0}, {'prorus': 0})},\n",
       " {161: ({'pax': 0}, {'proukr': 0}, {'nocare': 0}, {'prorus': 0})},\n",
       " {162: ({'pax': 0}, {'proukr': 0}, {'nocare': 0}, {'prorus': 0})},\n",
       " {163: ({'pax': 0}, {'proukr': 0}, {'nocare': 0}, {'prorus': 0})},\n",
       " {164: ({'pax': 0}, {'proukr': 0}, {'nocare': 0}, {'prorus': 0})},\n",
       " {165: ({'pax': 0}, {'proukr': 0}, {'nocare': 0}, {'prorus': 0})},\n",
       " {166: ({'pax': 0}, {'proukr': 0}, {'nocare': 0}, {'prorus': 0})},\n",
       " {167: ({'pax': 0}, {'proukr': 0}, {'nocare': 0}, {'prorus': 0})},\n",
       " {168: ({'pax': 0}, {'proukr': 0}, {'nocare': 0}, {'prorus': 0})},\n",
       " {169: ({'pax': 0}, {'proukr': 0}, {'nocare': 0}, {'prorus': 0})},\n",
       " {170: ({'pax': 0}, {'proukr': 0}, {'nocare': 0}, {'prorus': 0})},\n",
       " {171: ({'pax': 0}, {'proukr': 0}, {'nocare': 0}, {'prorus': 0})},\n",
       " {172: ({'pax': 0}, {'proukr': 0}, {'nocare': 0}, {'prorus': 0})},\n",
       " {173: ({'pax': 0}, {'proukr': 0}, {'nocare': 0}, {'prorus': 0})},\n",
       " {174: ({'pax': 0}, {'proukr': 0}, {'nocare': 0}, {'prorus': 0})},\n",
       " {175: ({'pax': 0}, {'proukr': 0}, {'nocare': 0}, {'prorus': 0})},\n",
       " {176: ({'pax': 0}, {'proukr': 0}, {'nocare': 0}, {'prorus': 0})},\n",
       " {177: ({'pax': 0}, {'proukr': 0}, {'nocare': 0}, {'prorus': 0})},\n",
       " {178: ({'pax': 0}, {'proukr': 0}, {'nocare': 0}, {'prorus': 0})},\n",
       " {179: ({'pax': 0}, {'proukr': 0}, {'nocare': 0}, {'prorus': 0})},\n",
       " {180: ({'pax': 0}, {'proukr': 0}, {'nocare': 0}, {'prorus': 0})},\n",
       " {181: ({'pax': 0}, {'proukr': 0}, {'nocare': 0}, {'prorus': 0})},\n",
       " {182: ({'pax': 0}, {'proukr': 0}, {'nocare': 0}, {'prorus': 0})},\n",
       " {183: ({'pax': 0}, {'proukr': 0}, {'nocare': 0}, {'prorus': 0})},\n",
       " {184: ({'pax': 0}, {'proukr': 0}, {'nocare': 0}, {'prorus': 0})},\n",
       " {185: ({'pax': 0}, {'proukr': 0}, {'nocare': 0}, {'prorus': 0})},\n",
       " {186: ({'pax': 0}, {'proukr': 0}, {'nocare': 0}, {'prorus': 0})},\n",
       " {187: ({'pax': 0}, {'proukr': 0}, {'nocare': 0}, {'prorus': 0})},\n",
       " {188: ({'pax': 0}, {'proukr': 0}, {'nocare': 0}, {'prorus': 0})},\n",
       " {189: ({'pax': 0}, {'proukr': 0}, {'nocare': 0}, {'prorus': 0})},\n",
       " {190: ({'pax': 0}, {'proukr': 0}, {'nocare': 0}, {'prorus': 0})},\n",
       " {191: ({'pax': 0}, {'proukr': 0}, {'nocare': 0}, {'prorus': 0})},\n",
       " {192: ({'pax': 0}, {'proukr': 0}, {'nocare': 0}, {'prorus': 0})},\n",
       " {193: ({'pax': 0}, {'proukr': 0}, {'nocare': 0}, {'prorus': 0})},\n",
       " {194: ({'pax': 0}, {'proukr': 0}, {'nocare': 0}, {'prorus': 0})},\n",
       " {195: ({'pax': 0}, {'proukr': 0}, {'nocare': 0}, {'prorus': 0})},\n",
       " {196: ({'pax': 0}, {'proukr': 0}, {'nocare': 0}, {'prorus': 0})},\n",
       " {197: ({'pax': 0}, {'proukr': 0}, {'nocare': 0}, {'prorus': 0})},\n",
       " {198: ({'pax': 0}, {'proukr': 0}, {'nocare': 0}, {'prorus': 0})},\n",
       " {199: ({'pax': 0}, {'proukr': 0}, {'nocare': 0}, {'prorus': 0})},\n",
       " {200: ({'pax': 0}, {'proukr': 0}, {'nocare': 0}, {'prorus': 0})},\n",
       " {201: ({'pax': 0}, {'proukr': 0}, {'nocare': 0}, {'prorus': 0})},\n",
       " {202: ({'pax': 0}, {'proukr': 0}, {'nocare': 0}, {'prorus': 0})},\n",
       " {203: ({'pax': 0}, {'proukr': 0}, {'nocare': 0}, {'prorus': 0})},\n",
       " {204: ({'pax': 0}, {'proukr': 0}, {'nocare': 0}, {'prorus': 0})},\n",
       " {205: ({'pax': 0}, {'proukr': 0}, {'nocare': 0}, {'prorus': 0})},\n",
       " {206: ({'pax': 0}, {'proukr': 0}, {'nocare': 0}, {'prorus': 0})},\n",
       " {207: ({'pax': 0}, {'proukr': 0}, {'nocare': 0}, {'prorus': 0})},\n",
       " {208: ({'pax': 0}, {'proukr': 0}, {'nocare': 0}, {'prorus': 0})},\n",
       " {209: ({'pax': 0}, {'proukr': 0}, {'nocare': 0}, {'prorus': 0})},\n",
       " {210: ({'pax': 0}, {'proukr': 0}, {'nocare': 0}, {'prorus': 0})},\n",
       " {211: ({'pax': 0}, {'proukr': 0}, {'nocare': 0}, {'prorus': 0})},\n",
       " {212: ({'pax': 0}, {'proukr': 0}, {'nocare': 0}, {'prorus': 0})},\n",
       " {213: ({'pax': 0}, {'proukr': 0}, {'nocare': 0}, {'prorus': 0})},\n",
       " {214: ({'pax': 0}, {'proukr': 0}, {'nocare': 0}, {'prorus': 0})},\n",
       " {215: ({'pax': 0}, {'proukr': 0}, {'nocare': 0}, {'prorus': 0})},\n",
       " {216: ({'pax': 0}, {'proukr': 0}, {'nocare': 0}, {'prorus': 0})},\n",
       " {217: ({'pax': 0}, {'proukr': 0}, {'nocare': 0}, {'prorus': 0})},\n",
       " {218: ({'pax': 0}, {'proukr': 0}, {'nocare': 0}, {'prorus': 0})},\n",
       " {219: ({'pax': 0}, {'proukr': 0}, {'nocare': 0}, {'prorus': 0})},\n",
       " {220: ({'pax': 0}, {'proukr': 0}, {'nocare': 0}, {'prorus': 0})},\n",
       " {221: ({'pax': 0}, {'proukr': 0}, {'nocare': 0}, {'prorus': 0})},\n",
       " {222: ({'pax': 0}, {'proukr': 0}, {'nocare': 0}, {'prorus': 0})},\n",
       " {223: ({'pax': 0}, {'proukr': 0}, {'nocare': 0}, {'prorus': 0})},\n",
       " {224: ({'pax': 0}, {'proukr': 0}, {'nocare': 0}, {'prorus': 0})},\n",
       " {225: ({'pax': 0}, {'proukr': 0}, {'nocare': 0}, {'prorus': 0})},\n",
       " {226: ({'pax': 0}, {'proukr': 0}, {'nocare': 0}, {'prorus': 0})},\n",
       " {227: ({'pax': 0}, {'proukr': 0}, {'nocare': 0}, {'prorus': 0})},\n",
       " {228: ({'pax': 0}, {'proukr': 0}, {'nocare': 0}, {'prorus': 0})},\n",
       " {229: ({'pax': 0}, {'proukr': 0}, {'nocare': 0}, {'prorus': 0})},\n",
       " {230: ({'pax': 0}, {'proukr': 0}, {'nocare': 0}, {'prorus': 0})},\n",
       " {231: ({'pax': 0}, {'proukr': 0}, {'nocare': 0}, {'prorus': 0})},\n",
       " {232: ({'pax': 0}, {'proukr': 0}, {'nocare': 0}, {'prorus': 0})},\n",
       " {233: ({'pax': 0}, {'proukr': 0}, {'nocare': 0}, {'prorus': 0})},\n",
       " {234: ({'pax': 0}, {'proukr': 0}, {'nocare': 0}, {'prorus': 0})},\n",
       " {235: ({'pax': 0}, {'proukr': 0}, {'nocare': 0}, {'prorus': 0})},\n",
       " {236: ({'pax': 0}, {'proukr': 0}, {'nocare': 0}, {'prorus': 0})},\n",
       " {237: ({'pax': 0}, {'proukr': 0}, {'nocare': 0}, {'prorus': 0})},\n",
       " {238: ({'pax': 0}, {'proukr': 0}, {'nocare': 0}, {'prorus': 0})},\n",
       " {239: ({'pax': 0}, {'proukr': 0}, {'nocare': 0}, {'prorus': 0})},\n",
       " {240: ({'pax': 0}, {'proukr': 0}, {'nocare': 0}, {'prorus': 0})},\n",
       " {241: ({'pax': 0}, {'proukr': 0}, {'nocare': 0}, {'prorus': 0})},\n",
       " {242: ({'pax': 0}, {'proukr': 0}, {'nocare': 0}, {'prorus': 0})},\n",
       " {243: ({'pax': 0}, {'proukr': 0}, {'nocare': 0}, {'prorus': 0})},\n",
       " {244: ({'pax': 0}, {'proukr': 0}, {'nocare': 0}, {'prorus': 0})},\n",
       " {245: ({'pax': 0}, {'proukr': 0}, {'nocare': 0}, {'prorus': 0})},\n",
       " {246: ({'pax': 0}, {'proukr': 0}, {'nocare': 0}, {'prorus': 0})},\n",
       " {247: ({'pax': 0}, {'proukr': 0}, {'nocare': 0}, {'prorus': 0})},\n",
       " {248: ({'pax': 0}, {'proukr': 0}, {'nocare': 0}, {'prorus': 0})},\n",
       " {249: ({'pax': 0}, {'proukr': 0}, {'nocare': 0}, {'prorus': 0})},\n",
       " {250: ({'pax': 0}, {'proukr': 0}, {'nocare': 0}, {'prorus': 0})},\n",
       " {251: ({'pax': 0}, {'proukr': 0}, {'nocare': 0}, {'prorus': 0})},\n",
       " {252: ({'pax': 0}, {'proukr': 0}, {'nocare': 0}, {'prorus': 0})},\n",
       " {253: ({'pax': 0}, {'proukr': 0}, {'nocare': 0}, {'prorus': 0})},\n",
       " {254: ({'pax': 0}, {'proukr': 0}, {'nocare': 0}, {'prorus': 0})},\n",
       " {255: ({'pax': 0}, {'proukr': 0}, {'nocare': 0}, {'prorus': 0})},\n",
       " {256: ({'pax': 0}, {'proukr': 0}, {'nocare': 0}, {'prorus': 0})},\n",
       " {257: ({'pax': 0}, {'proukr': 0}, {'nocare': 0}, {'prorus': 0})},\n",
       " {258: ({'pax': 0}, {'proukr': 0}, {'nocare': 0}, {'prorus': 0})},\n",
       " {259: ({'pax': 0}, {'proukr': 0}, {'nocare': 0}, {'prorus': 0})},\n",
       " {260: ({'pax': 0}, {'proukr': 0}, {'nocare': 0}, {'prorus': 0})},\n",
       " {261: ({'pax': 0}, {'proukr': 0}, {'nocare': 0}, {'prorus': 0})},\n",
       " {262: ({'pax': 0}, {'proukr': 0}, {'nocare': 0}, {'prorus': 0})},\n",
       " {263: ({'pax': 0}, {'proukr': 0}, {'nocare': 0}, {'prorus': 0})},\n",
       " {264: ({'pax': 0}, {'proukr': 0}, {'nocare': 0}, {'prorus': 0})},\n",
       " {265: ({'pax': 0}, {'proukr': 0}, {'nocare': 0}, {'prorus': 0})},\n",
       " {266: ({'pax': 0}, {'proukr': 0}, {'nocare': 0}, {'prorus': 0})},\n",
       " {267: ({'pax': 0}, {'proukr': 0}, {'nocare': 0}, {'prorus': 0})},\n",
       " {268: ({'pax': 0}, {'proukr': 0}, {'nocare': 0}, {'prorus': 0})},\n",
       " {269: ({'pax': 0}, {'proukr': 0}, {'nocare': 0}, {'prorus': 0})},\n",
       " {270: ({'pax': 0}, {'proukr': 0}, {'nocare': 0}, {'prorus': 0})}]"
      ]
     },
     "execution_count": 183,
     "metadata": {},
     "output_type": "execute_result"
    }
   ],
   "source": [
    "louvain_com=louvain.communities\n",
    "communities=[]\n",
    "\n",
    "for i, c in enumerate(louvain_com):\n",
    "    loc={}\n",
    "    loc_set=set()\n",
    "    cat_value={}\n",
    "    pax={}\n",
    "    proukr={}\n",
    "    nocare={}\n",
    "    prorus={}\n",
    "    c_pax=0\n",
    "    c_proukr=0\n",
    "    c_nocare=0\n",
    "    c_prorus=0\n",
    "    for e in c:\n",
    "        if (df_nodes.loc[df_nodes.index==e,'category'] =='pax').any()==True:\n",
    "            loc_set.add(\"\".join(str(l) for l in df_nodes['location'][e]))\n",
    "            c_pax += 1\n",
    "        elif (df_nodes.loc[df_nodes.index==e,'category'] =='proukr').any()==True:\n",
    "            loc_set.add(\"\".join(str(l) for l in df_nodes['location'][e]))\n",
    "            c_proukr += 1\n",
    "        elif (df_nodes.loc[df_nodes.index==e,'category'] =='prorus').any()==True:\n",
    "            loc_set.add(\"\".join(str(l) for l in df_nodes['location'][e]))\n",
    "            c_prorus += 1\n",
    "        elif (df_nodes.loc[df_nodes.index==e,'category'] =='dontcare').any()==True:\n",
    "            loc_set.add(\"\".join(str(l) for l in df_nodes['location'][e]))\n",
    "            c_nocare +=1\n",
    "        pax['pax']=c_pax\n",
    "        proukr['proukr']=c_proukr\n",
    "        nocare['nocare']=c_nocare\n",
    "        prorus['prorus']=c_prorus\n",
    "        loc['loc']=loc_set\n",
    "        cat_value[i]=pax,proukr,nocare,prorus #,loc\n",
    "    communities.append(cat_value)\n",
    "communities"
   ]
  },
  {
   "cell_type": "code",
   "execution_count": 184,
   "id": "f57354d1",
   "metadata": {},
   "outputs": [
    {
     "data": {
      "text/plain": [
       "271"
      ]
     },
     "execution_count": 184,
     "metadata": {},
     "output_type": "execute_result"
    }
   ],
   "source": [
    "len(louvain.communities)"
   ]
  },
  {
   "cell_type": "code",
   "execution_count": 185,
   "id": "multiple-aquarium",
   "metadata": {},
   "outputs": [
    {
     "data": {
      "text/plain": [
       "False"
      ]
     },
     "execution_count": 185,
     "metadata": {},
     "output_type": "execute_result"
    }
   ],
   "source": [
    "#veirfy if the clustering overlap or not\n",
    "louvain.overlap "
   ]
  },
  {
   "cell_type": "code",
   "execution_count": 186,
   "id": "still-chassis",
   "metadata": {},
   "outputs": [
    {
     "data": {
      "text/plain": [
       "1.0"
      ]
     },
     "execution_count": 186,
     "metadata": {},
     "output_type": "execute_result"
    }
   ],
   "source": [
    "#percentage of node covered by the clustering\n",
    "louvain.node_coverage "
   ]
  },
  {
   "cell_type": "code",
   "execution_count": 187,
   "id": "hairy-google",
   "metadata": {},
   "outputs": [],
   "source": [
    "#json representation of the results\n",
    "#louvain.to_json()"
   ]
  },
  {
   "cell_type": "markdown",
   "id": "needed-vatican",
   "metadata": {},
   "source": [
    "# K-clique"
   ]
  },
  {
   "cell_type": "code",
   "execution_count": 188,
   "id": "endangered-formula",
   "metadata": {},
   "outputs": [],
   "source": [
    "k_clique=algorithms.kclique(G,k=3)"
   ]
  },
  {
   "cell_type": "code",
   "execution_count": 189,
   "id": "first-capacity",
   "metadata": {},
   "outputs": [
    {
     "data": {
      "text/plain": [
       "[{0: ({'pax': 66}, {'proukr': 183}, {'nocare': 16}, {'prorus': 11})},\n",
       " {1: ({'pax': 25}, {'proukr': 86}, {'nocare': 7}, {'prorus': 7})},\n",
       " {2: ({'pax': 14}, {'proukr': 26}, {'nocare': 2}, {'prorus': 3})},\n",
       " {3: ({'pax': 7}, {'proukr': 24}, {'nocare': 4}, {'prorus': 1})},\n",
       " {4: ({'pax': 4}, {'proukr': 9}, {'nocare': 2}, {'prorus': 0})},\n",
       " {5: ({'pax': 4}, {'proukr': 7}, {'nocare': 1}, {'prorus': 1})},\n",
       " {6: ({'pax': 1}, {'proukr': 6}, {'nocare': 1}, {'prorus': 0})},\n",
       " {7: ({'pax': 2}, {'proukr': 5}, {'nocare': 0}, {'prorus': 0})},\n",
       " {8: ({'pax': 0}, {'proukr': 0}, {'nocare': 0}, {'prorus': 0})},\n",
       " {9: ({'pax': 2}, {'proukr': 2}, {'nocare': 1}, {'prorus': 0})},\n",
       " {10: ({'pax': 1}, {'proukr': 4}, {'nocare': 0}, {'prorus': 0})},\n",
       " {11: ({'pax': 0}, {'proukr': 3}, {'nocare': 1}, {'prorus': 1})},\n",
       " {12: ({'pax': 0}, {'proukr': 0}, {'nocare': 0}, {'prorus': 0})},\n",
       " {13: ({'pax': 1}, {'proukr': 1}, {'nocare': 0}, {'prorus': 2})},\n",
       " {14: ({'pax': 3}, {'proukr': 0}, {'nocare': 0}, {'prorus': 1})},\n",
       " {15: ({'pax': 1}, {'proukr': 3}, {'nocare': 0}, {'prorus': 0})},\n",
       " {16: ({'pax': 2}, {'proukr': 0}, {'nocare': 0}, {'prorus': 1})},\n",
       " {17: ({'pax': 0}, {'proukr': 0}, {'nocare': 0}, {'prorus': 0})},\n",
       " {18: ({'pax': 3}, {'proukr': 0}, {'nocare': 0}, {'prorus': 0})},\n",
       " {19: ({'pax': 3}, {'proukr': 0}, {'nocare': 0}, {'prorus': 0})},\n",
       " {20: ({'pax': 0}, {'proukr': 3}, {'nocare': 0}, {'prorus': 0})},\n",
       " {21: ({'pax': 0}, {'proukr': 3}, {'nocare': 0}, {'prorus': 0})},\n",
       " {22: ({'pax': 0}, {'proukr': 3}, {'nocare': 0}, {'prorus': 0})},\n",
       " {23: ({'pax': 1}, {'proukr': 2}, {'nocare': 0}, {'prorus': 0})},\n",
       " {24: ({'pax': 1}, {'proukr': 2}, {'nocare': 0}, {'prorus': 0})},\n",
       " {25: ({'pax': 0}, {'proukr': 2}, {'nocare': 0}, {'prorus': 1})},\n",
       " {26: ({'pax': 0}, {'proukr': 3}, {'nocare': 0}, {'prorus': 0})},\n",
       " {27: ({'pax': 1}, {'proukr': 1}, {'nocare': 0}, {'prorus': 1})},\n",
       " {28: ({'pax': 0}, {'proukr': 0}, {'nocare': 0}, {'prorus': 0})},\n",
       " {29: ({'pax': 1}, {'proukr': 1}, {'nocare': 0}, {'prorus': 1})},\n",
       " {30: ({'pax': 1}, {'proukr': 2}, {'nocare': 0}, {'prorus': 0})},\n",
       " {31: ({'pax': 1}, {'proukr': 2}, {'nocare': 0}, {'prorus': 0})},\n",
       " {32: ({'pax': 0}, {'proukr': 3}, {'nocare': 0}, {'prorus': 0})},\n",
       " {33: ({'pax': 1}, {'proukr': 2}, {'nocare': 0}, {'prorus': 0})},\n",
       " {34: ({'pax': 1}, {'proukr': 2}, {'nocare': 0}, {'prorus': 0})},\n",
       " {35: ({'pax': 1}, {'proukr': 1}, {'nocare': 0}, {'prorus': 1})},\n",
       " {36: ({'pax': 1}, {'proukr': 2}, {'nocare': 0}, {'prorus': 0})},\n",
       " {37: ({'pax': 1}, {'proukr': 2}, {'nocare': 0}, {'prorus': 0})},\n",
       " {38: ({'pax': 1}, {'proukr': 1}, {'nocare': 0}, {'prorus': 1})},\n",
       " {39: ({'pax': 0}, {'proukr': 0}, {'nocare': 0}, {'prorus': 0})},\n",
       " {40: ({'pax': 0}, {'proukr': 1}, {'nocare': 2}, {'prorus': 0})},\n",
       " {41: ({'pax': 0}, {'proukr': 3}, {'nocare': 0}, {'prorus': 0})},\n",
       " {42: ({'pax': 0}, {'proukr': 2}, {'nocare': 0}, {'prorus': 1})},\n",
       " {43: ({'pax': 2}, {'proukr': 0}, {'nocare': 0}, {'prorus': 1})}]"
      ]
     },
     "execution_count": 189,
     "metadata": {},
     "output_type": "execute_result"
    }
   ],
   "source": [
    "k_clique_com=k_clique.communities\n",
    "communities=[]\n",
    "\n",
    "for i, c in enumerate(k_clique_com):\n",
    "    loc={}\n",
    "    loc_set=set()\n",
    "    cat_value={}\n",
    "    pax={}\n",
    "    proukr={}\n",
    "    nocare={}\n",
    "    prorus={}\n",
    "    c_pax=0\n",
    "    c_proukr=0\n",
    "    c_nocare=0\n",
    "    c_prorus=0\n",
    "    for e in c:\n",
    "        if (df_nodes.loc[df_nodes.index==e,'category'] =='pax').any()==True:\n",
    "            loc_set.add(\"\".join(str(l) for l in df_nodes['location'][e]))\n",
    "            c_pax += 1\n",
    "        elif (df_nodes.loc[df_nodes.index==e,'category'] =='proukr').any()==True:\n",
    "            loc_set.add(\"\".join(str(l) for l in df_nodes['location'][e]))\n",
    "            c_proukr += 1\n",
    "        elif (df_nodes.loc[df_nodes.index==e,'category'] =='prorus').any()==True:\n",
    "            loc_set.add(\"\".join(str(l) for l in df_nodes['location'][e]))\n",
    "            c_prorus += 1\n",
    "        elif (df_nodes.loc[df_nodes.index==e,'category'] =='dontcare').any()==True:\n",
    "            loc_set.add(\"\".join(str(l) for l in df_nodes['location'][e]))\n",
    "            c_nocare +=1\n",
    "        pax['pax']=c_pax\n",
    "        proukr['proukr']=c_proukr\n",
    "        nocare['nocare']=c_nocare\n",
    "        prorus['prorus']=c_prorus\n",
    "        loc['loc']=loc_set\n",
    "        cat_value[i]=pax,proukr,nocare,prorus#,loc\n",
    "    communities.append(cat_value)\n",
    "communities"
   ]
  },
  {
   "cell_type": "code",
   "execution_count": 190,
   "id": "de49fc90",
   "metadata": {},
   "outputs": [
    {
     "data": {
      "text/plain": [
       "44"
      ]
     },
     "execution_count": 190,
     "metadata": {},
     "output_type": "execute_result"
    }
   ],
   "source": [
    "len(k_clique.communities)"
   ]
  },
  {
   "cell_type": "code",
   "execution_count": 191,
   "id": "hollywood-horse",
   "metadata": {},
   "outputs": [
    {
     "data": {
      "text/plain": [
       "True"
      ]
     },
     "execution_count": 191,
     "metadata": {},
     "output_type": "execute_result"
    }
   ],
   "source": [
    "k_clique.overlap"
   ]
  },
  {
   "cell_type": "code",
   "execution_count": 192,
   "id": "moral-slovak",
   "metadata": {},
   "outputs": [
    {
     "data": {
      "text/plain": [
       "0.054657497543984995"
      ]
     },
     "execution_count": 192,
     "metadata": {},
     "output_type": "execute_result"
    }
   ],
   "source": [
    "k_clique.node_coverage"
   ]
  },
  {
   "cell_type": "code",
   "execution_count": 193,
   "id": "accredited-august",
   "metadata": {},
   "outputs": [],
   "source": [
    "#k_clique.to_json()"
   ]
  },
  {
   "cell_type": "markdown",
   "id": "antique-question",
   "metadata": {},
   "source": [
    "# Angel "
   ]
  },
  {
   "cell_type": "code",
   "execution_count": 194,
   "id": "acting-panama",
   "metadata": {},
   "outputs": [],
   "source": [
    "angel= algorithms.angel(G, threshold=0.5)#min_com_size=3"
   ]
  },
  {
   "cell_type": "code",
   "execution_count": 195,
   "id": "stopped-reception",
   "metadata": {},
   "outputs": [
    {
     "data": {
      "text/plain": [
       "{'threshold': 0.5, 'min_community_size': 3}"
      ]
     },
     "execution_count": 195,
     "metadata": {},
     "output_type": "execute_result"
    }
   ],
   "source": [
    "angel.method_parameters"
   ]
  },
  {
   "cell_type": "code",
   "execution_count": 196,
   "id": "brazilian-album",
   "metadata": {},
   "outputs": [
    {
     "data": {
      "text/plain": [
       "[{0: ({'pax': 58}, {'proukr': 164}, {'nocare': 13}, {'prorus': 10})},\n",
       " {1: ({'pax': 15}, {'proukr': 53}, {'nocare': 3}, {'prorus': 4})},\n",
       " {2: ({'pax': 12}, {'proukr': 38}, {'nocare': 4}, {'prorus': 4})},\n",
       " {3: ({'pax': 7}, {'proukr': 24}, {'nocare': 4}, {'prorus': 1})},\n",
       " {4: ({'pax': 11}, {'proukr': 19}, {'nocare': 2}, {'prorus': 2})},\n",
       " {5: ({'pax': 6}, {'proukr': 13}, {'nocare': 2}, {'prorus': 0})},\n",
       " {6: ({'pax': 4}, {'proukr': 9}, {'nocare': 2}, {'prorus': 0})},\n",
       " {7: ({'pax': 4}, {'proukr': 7}, {'nocare': 1}, {'prorus': 1})},\n",
       " {8: ({'pax': 4}, {'proukr': 4}, {'nocare': 0}, {'prorus': 2})},\n",
       " {9: ({'pax': 1}, {'proukr': 6}, {'nocare': 1}, {'prorus': 0})},\n",
       " {10: ({'pax': 2}, {'proukr': 5}, {'nocare': 0}, {'prorus': 0})},\n",
       " {11: ({'pax': 0}, {'proukr': 0}, {'nocare': 0}, {'prorus': 0})},\n",
       " {12: ({'pax': 0}, {'proukr': 5}, {'nocare': 0}, {'prorus': 0})},\n",
       " {13: ({'pax': 3}, {'proukr': 0}, {'nocare': 0}, {'prorus': 1})},\n",
       " {14: ({'pax': 1}, {'proukr': 3}, {'nocare': 0}, {'prorus': 0})},\n",
       " {15: ({'pax': 0}, {'proukr': 3}, {'nocare': 0}, {'prorus': 1})},\n",
       " {16: ({'pax': 0}, {'proukr': 4}, {'nocare': 0}, {'prorus': 0})},\n",
       " {17: ({'pax': 0}, {'proukr': 0}, {'nocare': 0}, {'prorus': 0})},\n",
       " {18: ({'pax': 1}, {'proukr': 2}, {'nocare': 1}, {'prorus': 0})},\n",
       " {19: ({'pax': 1}, {'proukr': 3}, {'nocare': 0}, {'prorus': 0})},\n",
       " {20: ({'pax': 1}, {'proukr': 1}, {'nocare': 0}, {'prorus': 1})}]"
      ]
     },
     "execution_count": 196,
     "metadata": {},
     "output_type": "execute_result"
    }
   ],
   "source": [
    "angel_com=angel.communities\n",
    "communities=[]\n",
    "\n",
    "for i, c in enumerate(angel_com):\n",
    "    loc={}\n",
    "    loc_set=set()\n",
    "    cat_value={}\n",
    "    pax={}\n",
    "    proukr={}\n",
    "    nocare={}\n",
    "    prorus={}\n",
    "    c_pax=0\n",
    "    c_proukr=0\n",
    "    c_nocare=0\n",
    "    c_prorus=0\n",
    "    for e in c:\n",
    "        if (df_nodes.loc[df_nodes.index==e,'category'] =='pax').any()==True:\n",
    "            loc_set.add(\"\".join(str(l) for l in df_nodes['location'][e]))\n",
    "            c_pax += 1\n",
    "        elif (df_nodes.loc[df_nodes.index==e,'category'] =='proukr').any()==True:\n",
    "            loc_set.add(\"\".join(str(l) for l in df_nodes['location'][e]))\n",
    "            c_proukr += 1\n",
    "        elif (df_nodes.loc[df_nodes.index==e,'category'] =='prorus').any()==True:\n",
    "            loc_set.add(\"\".join(str(l) for l in df_nodes['location'][e]))\n",
    "            c_prorus += 1\n",
    "        elif (df_nodes.loc[df_nodes.index==e,'category'] =='dontcare').any()==True:\n",
    "            loc_set.add(\"\".join(str(l) for l in df_nodes['location'][e]))\n",
    "            c_nocare +=1\n",
    "        pax['pax']=c_pax\n",
    "        proukr['proukr']=c_proukr\n",
    "        nocare['nocare']=c_nocare\n",
    "        prorus['prorus']=c_prorus\n",
    "        loc['loc']=loc_set\n",
    "        cat_value[i]=pax,proukr,nocare,prorus #,loc\n",
    "    communities.append(cat_value)\n",
    "communities"
   ]
  },
  {
   "cell_type": "code",
   "execution_count": 197,
   "id": "desperate-contemporary",
   "metadata": {},
   "outputs": [
    {
     "data": {
      "text/plain": [
       "True"
      ]
     },
     "execution_count": 197,
     "metadata": {},
     "output_type": "execute_result"
    }
   ],
   "source": [
    "angel.overlap"
   ]
  },
  {
   "cell_type": "code",
   "execution_count": 198,
   "id": "mental-graphics",
   "metadata": {},
   "outputs": [
    {
     "data": {
      "text/plain": [
       "0.048495132624810214"
      ]
     },
     "execution_count": 198,
     "metadata": {},
     "output_type": "execute_result"
    }
   ],
   "source": [
    "angel.node_coverage"
   ]
  },
  {
   "cell_type": "code",
   "execution_count": 199,
   "id": "brief-reserve",
   "metadata": {},
   "outputs": [],
   "source": [
    "#angel.to_json()"
   ]
  },
  {
   "cell_type": "markdown",
   "id": "large-underground",
   "metadata": {},
   "source": [
    "# Community Visualization"
   ]
  },
  {
   "cell_type": "code",
   "execution_count": 200,
   "id": "political-penny",
   "metadata": {},
   "outputs": [],
   "source": [
    "#pos = nx.spring_layout(G)"
   ]
  },
  {
   "cell_type": "code",
   "execution_count": 201,
   "id": "sexual-script",
   "metadata": {},
   "outputs": [],
   "source": [
    "#viz.plot_network_clusters(G, louvain, pos, figsize=(10, 10), plot_labels=False)\n",
    "#viz.plot_network_clusters(G,louvain, pos) visualizzazione alternativa"
   ]
  },
  {
   "cell_type": "code",
   "execution_count": 202,
   "id": "advised-pierre",
   "metadata": {},
   "outputs": [],
   "source": [
    "#viz.plot_network_clusters(G, label_prop, pos, figsize=(10, 10), plot_labels=False)"
   ]
  },
  {
   "cell_type": "code",
   "execution_count": 203,
   "id": "comic-knife",
   "metadata": {},
   "outputs": [],
   "source": [
    "#viz.plot_network_clusters(G, angel, pos, figsize=(10, 10), plot_labels=False)"
   ]
  },
  {
   "cell_type": "code",
   "execution_count": 204,
   "id": "touched-workstation",
   "metadata": {},
   "outputs": [],
   "source": [
    "#viz.plot_network_clusters(G, girvan_newman, pos, figsize=(10, 10), plot_labels=False)"
   ]
  },
  {
   "cell_type": "code",
   "execution_count": 226,
   "id": "gross-investor",
   "metadata": {},
   "outputs": [],
   "source": [
    "#viz.plot_community_graph(G, louvain, figsize=(5, 5))"
   ]
  },
  {
   "cell_type": "code",
   "execution_count": 206,
   "id": "enhanced-union",
   "metadata": {},
   "outputs": [],
   "source": [
    "#viz.plot_community_graph(G, label_prop, figsize=(5, 5))"
   ]
  },
  {
   "cell_type": "code",
   "execution_count": 207,
   "id": "chemical-paint",
   "metadata": {},
   "outputs": [],
   "source": [
    "#viz.plot_community_graph(G, angel, figsize=(5, 5))"
   ]
  },
  {
   "cell_type": "code",
   "execution_count": 208,
   "id": "altered-split",
   "metadata": {},
   "outputs": [],
   "source": [
    "#viz.plot_community_graph(G, k_clique, figsize=(5, 5))"
   ]
  },
  {
   "cell_type": "markdown",
   "id": "annoying-review",
   "metadata": {},
   "source": [
    "# Community Internal Evaluation"
   ]
  },
  {
   "cell_type": "code",
   "execution_count": 209,
   "id": "f7a6480e",
   "metadata": {},
   "outputs": [
    {
     "data": {
      "text/html": [
       "<pre style=\"white-space:pre;overflow-x:auto;line-height:normal;font-family:Menlo,'DejaVu Sans Mono',consolas,'Courier New',monospace\">internal_evaluation MIN\n",
       "</pre>\n"
      ],
      "text/plain": [
       "internal_evaluation MIN\n"
      ]
     },
     "metadata": {},
     "output_type": "display_data"
    },
    {
     "data": {
      "text/html": [
       "<div>\n",
       "<style scoped>\n",
       "    .dataframe tbody tr th:only-of-type {\n",
       "        vertical-align: middle;\n",
       "    }\n",
       "\n",
       "    .dataframe tbody tr th {\n",
       "        vertical-align: top;\n",
       "    }\n",
       "\n",
       "    .dataframe thead th {\n",
       "        text-align: right;\n",
       "    }\n",
       "</style>\n",
       "<table border=\"1\" class=\"dataframe\">\n",
       "  <thead>\n",
       "    <tr style=\"text-align: right;\">\n",
       "      <th></th>\n",
       "      <th>Number of communities</th>\n",
       "      <th>Size</th>\n",
       "      <th>Average Node Degree</th>\n",
       "      <th>Internal Edge Density</th>\n",
       "      <th>Modularity</th>\n",
       "      <th>Conductance</th>\n",
       "    </tr>\n",
       "    <tr>\n",
       "      <th></th>\n",
       "      <th></th>\n",
       "      <th></th>\n",
       "      <th></th>\n",
       "      <th></th>\n",
       "      <th></th>\n",
       "      <th></th>\n",
       "    </tr>\n",
       "  </thead>\n",
       "  <tbody>\n",
       "    <tr>\n",
       "      <th>louvain</th>\n",
       "      <td>271</td>\n",
       "      <td>2.000000</td>\n",
       "      <td>1.000000</td>\n",
       "      <td>0.001208</td>\n",
       "      <td>0</td>\n",
       "      <td>0.000000</td>\n",
       "    </tr>\n",
       "    <tr>\n",
       "      <th>label_prop</th>\n",
       "      <td>603</td>\n",
       "      <td>1662.000000</td>\n",
       "      <td>3.169591</td>\n",
       "      <td>1.000000</td>\n",
       "      <td>0</td>\n",
       "      <td>0.185430</td>\n",
       "    </tr>\n",
       "    <tr>\n",
       "      <th>k_clique</th>\n",
       "      <td>44</td>\n",
       "      <td>41.317343</td>\n",
       "      <td>1.441735</td>\n",
       "      <td>0.584299</td>\n",
       "      <td>381.434935</td>\n",
       "      <td>0.014853</td>\n",
       "    </tr>\n",
       "    <tr>\n",
       "      <th>angel</th>\n",
       "      <td>21</td>\n",
       "      <td>144.640625</td>\n",
       "      <td>0.415390</td>\n",
       "      <td>0.379726</td>\n",
       "      <td>0</td>\n",
       "      <td>0.038318</td>\n",
       "    </tr>\n",
       "  </tbody>\n",
       "</table>\n",
       "</div>"
      ],
      "text/plain": [
       "            Number of communities         Size  Average Node Degree  \\\n",
       "                                                                      \n",
       "louvain                       271     2.000000             1.000000   \n",
       "label_prop                    603  1662.000000             3.169591   \n",
       "k_clique                       44    41.317343             1.441735   \n",
       "angel                          21   144.640625             0.415390   \n",
       "\n",
       "            Internal Edge Density  Modularity  Conductance  \n",
       "                                                            \n",
       "louvain                  0.001208           0     0.000000  \n",
       "label_prop               1.000000           0     0.185430  \n",
       "k_clique                 0.584299  381.434935     0.014853  \n",
       "angel                    0.379726           0     0.038318  "
      ]
     },
     "metadata": {},
     "output_type": "display_data"
    },
    {
     "data": {
      "text/html": [
       "<pre style=\"white-space:pre;overflow-x:auto;line-height:normal;font-family:Menlo,'DejaVu Sans Mono',consolas,'Courier New',monospace\">internal_evaluation MAX\n",
       "</pre>\n"
      ],
      "text/plain": [
       "internal_evaluation MAX\n"
      ]
     },
     "metadata": {},
     "output_type": "display_data"
    },
    {
     "data": {
      "text/html": [
       "<div>\n",
       "<style scoped>\n",
       "    .dataframe tbody tr th:only-of-type {\n",
       "        vertical-align: middle;\n",
       "    }\n",
       "\n",
       "    .dataframe tbody tr th {\n",
       "        vertical-align: top;\n",
       "    }\n",
       "\n",
       "    .dataframe thead th {\n",
       "        text-align: right;\n",
       "    }\n",
       "</style>\n",
       "<table border=\"1\" class=\"dataframe\">\n",
       "  <thead>\n",
       "    <tr style=\"text-align: right;\">\n",
       "      <th></th>\n",
       "      <th>Number of communities</th>\n",
       "      <th>Size</th>\n",
       "      <th>Average Node Degree</th>\n",
       "      <th>Internal Edge Density</th>\n",
       "      <th>Modularity</th>\n",
       "      <th>Conductance</th>\n",
       "    </tr>\n",
       "    <tr>\n",
       "      <th></th>\n",
       "      <th></th>\n",
       "      <th></th>\n",
       "      <th></th>\n",
       "      <th></th>\n",
       "      <th></th>\n",
       "      <th></th>\n",
       "    </tr>\n",
       "  </thead>\n",
       "  <tbody>\n",
       "    <tr>\n",
       "      <th>louvain</th>\n",
       "      <td>271</td>\n",
       "      <td>2.000000</td>\n",
       "      <td>1.000000</td>\n",
       "      <td>0.001038</td>\n",
       "      <td>0</td>\n",
       "      <td>0.000000</td>\n",
       "    </tr>\n",
       "    <tr>\n",
       "      <th>label_prop</th>\n",
       "      <td>603</td>\n",
       "      <td>1935.000000</td>\n",
       "      <td>2.685306</td>\n",
       "      <td>1.000000</td>\n",
       "      <td>0</td>\n",
       "      <td>0.777778</td>\n",
       "    </tr>\n",
       "    <tr>\n",
       "      <th>k_clique</th>\n",
       "      <td>44</td>\n",
       "      <td>18.568823</td>\n",
       "      <td>1.442775</td>\n",
       "      <td>0.566129</td>\n",
       "      <td>659.008012</td>\n",
       "      <td>0.162876</td>\n",
       "    </tr>\n",
       "    <tr>\n",
       "      <th>angel</th>\n",
       "      <td>21</td>\n",
       "      <td>107.443470</td>\n",
       "      <td>0.367233</td>\n",
       "      <td>0.357811</td>\n",
       "      <td>0</td>\n",
       "      <td>0.170869</td>\n",
       "    </tr>\n",
       "  </tbody>\n",
       "</table>\n",
       "</div>"
      ],
      "text/plain": [
       "            Number of communities         Size  Average Node Degree  \\\n",
       "                                                                      \n",
       "louvain                       271     2.000000             1.000000   \n",
       "label_prop                    603  1935.000000             2.685306   \n",
       "k_clique                       44    18.568823             1.442775   \n",
       "angel                          21   107.443470             0.367233   \n",
       "\n",
       "            Internal Edge Density  Modularity  Conductance  \n",
       "                                                            \n",
       "louvain                  0.001038           0     0.000000  \n",
       "label_prop               1.000000           0     0.777778  \n",
       "k_clique                 0.566129  659.008012     0.162876  \n",
       "angel                    0.357811           0     0.170869  "
      ]
     },
     "metadata": {},
     "output_type": "display_data"
    },
    {
     "data": {
      "text/html": [
       "<pre style=\"white-space:pre;overflow-x:auto;line-height:normal;font-family:Menlo,'DejaVu Sans Mono',consolas,'Courier New',monospace\">internal_evaluation SCORE\n",
       "</pre>\n"
      ],
      "text/plain": [
       "internal_evaluation SCORE\n"
      ]
     },
     "metadata": {},
     "output_type": "display_data"
    },
    {
     "data": {
      "text/html": [
       "<div>\n",
       "<style scoped>\n",
       "    .dataframe tbody tr th:only-of-type {\n",
       "        vertical-align: middle;\n",
       "    }\n",
       "\n",
       "    .dataframe tbody tr th {\n",
       "        vertical-align: top;\n",
       "    }\n",
       "\n",
       "    .dataframe thead th {\n",
       "        text-align: right;\n",
       "    }\n",
       "</style>\n",
       "<table border=\"1\" class=\"dataframe\">\n",
       "  <thead>\n",
       "    <tr style=\"text-align: right;\">\n",
       "      <th></th>\n",
       "      <th>Number of communities</th>\n",
       "      <th>Size</th>\n",
       "      <th>Average Node Degree</th>\n",
       "      <th>Internal Edge Density</th>\n",
       "      <th>Modularity</th>\n",
       "      <th>Conductance</th>\n",
       "    </tr>\n",
       "    <tr>\n",
       "      <th></th>\n",
       "      <th></th>\n",
       "      <th></th>\n",
       "      <th></th>\n",
       "      <th></th>\n",
       "      <th></th>\n",
       "      <th></th>\n",
       "    </tr>\n",
       "  </thead>\n",
       "  <tbody>\n",
       "    <tr>\n",
       "      <th>louvain</th>\n",
       "      <td>271</td>\n",
       "      <td>3.000000</td>\n",
       "      <td>2.000000</td>\n",
       "      <td>0.023004</td>\n",
       "      <td>0</td>\n",
       "      <td>0.000000</td>\n",
       "    </tr>\n",
       "    <tr>\n",
       "      <th>label_prop</th>\n",
       "      <td>603</td>\n",
       "      <td>276.000000</td>\n",
       "      <td>6.326087</td>\n",
       "      <td>1.000000</td>\n",
       "      <td>0</td>\n",
       "      <td>0.996971</td>\n",
       "    </tr>\n",
       "    <tr>\n",
       "      <th>k_clique</th>\n",
       "      <td>44</td>\n",
       "      <td>14.681818</td>\n",
       "      <td>2.506852</td>\n",
       "      <td>0.815220</td>\n",
       "      <td>-5622.551821</td>\n",
       "      <td>0.813424</td>\n",
       "    </tr>\n",
       "    <tr>\n",
       "      <th>angel</th>\n",
       "      <td>21</td>\n",
       "      <td>44.356906</td>\n",
       "      <td>0.899768</td>\n",
       "      <td>0.303191</td>\n",
       "      <td>0</td>\n",
       "      <td>0.256018</td>\n",
       "    </tr>\n",
       "  </tbody>\n",
       "</table>\n",
       "</div>"
      ],
      "text/plain": [
       "            Number of communities        Size  Average Node Degree  \\\n",
       "                                                                     \n",
       "louvain                       271    3.000000             2.000000   \n",
       "label_prop                    603  276.000000             6.326087   \n",
       "k_clique                       44   14.681818             2.506852   \n",
       "angel                          21   44.356906             0.899768   \n",
       "\n",
       "            Internal Edge Density   Modularity  Conductance  \n",
       "                                                             \n",
       "louvain                  0.023004            0     0.000000  \n",
       "label_prop               1.000000            0     0.996971  \n",
       "k_clique                 0.815220 -5622.551821     0.813424  \n",
       "angel                    0.303191            0     0.256018  "
      ]
     },
     "metadata": {},
     "output_type": "display_data"
    },
    {
     "data": {
      "text/html": [
       "<pre style=\"white-space:pre;overflow-x:auto;line-height:normal;font-family:Menlo,'DejaVu Sans Mono',consolas,'Courier New',monospace\">internal_evaluation STD\n",
       "</pre>\n"
      ],
      "text/plain": [
       "internal_evaluation STD\n"
      ]
     },
     "metadata": {},
     "output_type": "display_data"
    },
    {
     "data": {
      "text/html": [
       "<div>\n",
       "<style scoped>\n",
       "    .dataframe tbody tr th:only-of-type {\n",
       "        vertical-align: middle;\n",
       "    }\n",
       "\n",
       "    .dataframe tbody tr th {\n",
       "        vertical-align: top;\n",
       "    }\n",
       "\n",
       "    .dataframe thead th {\n",
       "        text-align: right;\n",
       "    }\n",
       "</style>\n",
       "<table border=\"1\" class=\"dataframe\">\n",
       "  <thead>\n",
       "    <tr style=\"text-align: right;\">\n",
       "      <th></th>\n",
       "      <th>Number of communities</th>\n",
       "      <th>Size</th>\n",
       "      <th>Average Node Degree</th>\n",
       "      <th>Internal Edge Density</th>\n",
       "      <th>Modularity</th>\n",
       "      <th>Conductance</th>\n",
       "    </tr>\n",
       "    <tr>\n",
       "      <th></th>\n",
       "      <th></th>\n",
       "      <th></th>\n",
       "      <th></th>\n",
       "      <th></th>\n",
       "      <th></th>\n",
       "      <th></th>\n",
       "    </tr>\n",
       "  </thead>\n",
       "  <tbody>\n",
       "    <tr>\n",
       "      <th>louvain</th>\n",
       "      <td>271</td>\n",
       "      <td>3.000000</td>\n",
       "      <td>0.000000</td>\n",
       "      <td>0.000000</td>\n",
       "      <td>0</td>\n",
       "      <td>0.473684</td>\n",
       "    </tr>\n",
       "    <tr>\n",
       "      <th>label_prop</th>\n",
       "      <td>603</td>\n",
       "      <td>245.000000</td>\n",
       "      <td>6.465306</td>\n",
       "      <td>0.833333</td>\n",
       "      <td>0</td>\n",
       "      <td>1.000000</td>\n",
       "    </tr>\n",
       "    <tr>\n",
       "      <th>k_clique</th>\n",
       "      <td>44</td>\n",
       "      <td>26.857143</td>\n",
       "      <td>2.708563</td>\n",
       "      <td>0.364259</td>\n",
       "      <td>-1386.960905</td>\n",
       "      <td>0.799260</td>\n",
       "    </tr>\n",
       "    <tr>\n",
       "      <th>angel</th>\n",
       "      <td>21</td>\n",
       "      <td>52.348908</td>\n",
       "      <td>1.613422</td>\n",
       "      <td>0.286402</td>\n",
       "      <td>0</td>\n",
       "      <td>0.182088</td>\n",
       "    </tr>\n",
       "  </tbody>\n",
       "</table>\n",
       "</div>"
      ],
      "text/plain": [
       "            Number of communities        Size  Average Node Degree  \\\n",
       "                                                                     \n",
       "louvain                       271    3.000000             0.000000   \n",
       "label_prop                    603  245.000000             6.465306   \n",
       "k_clique                       44   26.857143             2.708563   \n",
       "angel                          21   52.348908             1.613422   \n",
       "\n",
       "            Internal Edge Density   Modularity  Conductance  \n",
       "                                                             \n",
       "louvain                  0.000000            0     0.473684  \n",
       "label_prop               0.833333            0     1.000000  \n",
       "k_clique                 0.364259 -1386.960905     0.799260  \n",
       "angel                    0.286402            0     0.182088  "
      ]
     },
     "metadata": {},
     "output_type": "display_data"
    }
   ],
   "source": [
    "method=[louvain,label_prop,k_clique,angel]\n",
    "name_algo=['louvain','label_prop','k_clique','angel']\n",
    "n_com=[]\n",
    "size=[]\n",
    "AND=[]\n",
    "IED=[]\n",
    "mod=[]\n",
    "cond=[]\n",
    "type_results=['MIN','MAX','SCORE', 'STD']\n",
    "for algo in method:\n",
    "    n_com.append(len(algo.communities))\n",
    "    size.append(algo.size())\n",
    "    AND.append(algo.average_internal_degree())\n",
    "    IED.append(algo.internal_edge_density())\n",
    "    mod.append(algo.modularity_density())\n",
    "    cond.append(algo.conductance())\n",
    "for i in range(len(type_results)):\n",
    "    internal_evaluation=pd.DataFrame({'':name_algo,\n",
    "                                     'Number of communities':n_com,\n",
    "                                      'Size': size[i],\n",
    "                                     'Average Node Degree': AND[i],\n",
    "                                      'Internal Edge Density':IED[i],\n",
    "                                      'Modularity':mod[i],\n",
    "                                      'Conductance':cond[i]})\n",
    "    internal_evaluation=internal_evaluation.fillna('0')\n",
    "    internal_evaluation=internal_evaluation.set_index('')\n",
    "    print('internal_evaluation', type_results[i])\n",
    "    display(internal_evaluation)"
   ]
  },
  {
   "cell_type": "markdown",
   "id": "sorted-study",
   "metadata": {},
   "source": [
    "### Community fitness/comparison visualization"
   ]
  },
  {
   "cell_type": "code",
   "execution_count": 210,
   "id": "774e32d6",
   "metadata": {},
   "outputs": [
    {
     "data": {
      "text/plain": [
       "<Figure size 3000x3000 with 0 Axes>"
      ]
     },
     "execution_count": 210,
     "metadata": {},
     "output_type": "execute_result"
    },
    {
     "data": {
      "image/png": "[encoded data removed]",
      "text/plain": [
       "<Figure size 640x480 with 1 Axes>"
      ]
     },
     "metadata": {},
     "output_type": "display_data"
    },
    {
     "data": {
      "text/plain": [
       "<Figure size 3000x3000 with 0 Axes>"
      ]
     },
     "metadata": {},
     "output_type": "display_data"
    }
   ],
   "source": [
    "viz.plot_com_stat([louvain, label_prop, angel, k_clique], evaluation.size)\n",
    "plt.title('size box plot')\n",
    "plt.ylim([-100,1000])\n",
    "plt.figure(figsize=(30,30))\n"
   ]
  },
  {
   "cell_type": "code",
   "execution_count": 211,
   "id": "3c7b86f5",
   "metadata": {},
   "outputs": [
    {
     "data": {
      "text/plain": [
       "<AxesSubplot:xlabel='Algorithm', ylabel='average_internal_degree'>"
      ]
     },
     "execution_count": 211,
     "metadata": {},
     "output_type": "execute_result"
    },
    {
     "data": {
      "image/png": "[encoded data removed]",
      "text/plain": [
       "<Figure size 640x480 with 1 Axes>"
      ]
     },
     "metadata": {},
     "output_type": "display_data"
    }
   ],
   "source": [
    "viz.plot_com_stat([louvain, label_prop, angel, k_clique], evaluation.average_internal_degree)"
   ]
  },
  {
   "cell_type": "code",
   "execution_count": 212,
   "id": "b38a5779",
   "metadata": {},
   "outputs": [
    {
     "data": {
      "text/plain": [
       "<AxesSubplot:xlabel='Algorithm', ylabel='internal_edge_density'>"
      ]
     },
     "execution_count": 212,
     "metadata": {},
     "output_type": "execute_result"
    },
    {
     "data": {
      "image/png": "[encoded data removed]",
      "text/plain": [
       "<Figure size 640x480 with 1 Axes>"
      ]
     },
     "metadata": {},
     "output_type": "display_data"
    }
   ],
   "source": [
    "viz.plot_com_stat([louvain, label_prop, angel, k_clique], evaluation.internal_edge_density)"
   ]
  },
  {
   "cell_type": "code",
   "execution_count": 213,
   "id": "531f10ca",
   "metadata": {},
   "outputs": [
    {
     "data": {
      "text/plain": [
       "<matplotlib.legend.Legend at 0x1cc1a9e80a0>"
      ]
     },
     "execution_count": 213,
     "metadata": {},
     "output_type": "execute_result"
    },
    {
     "data": {
      "image/png": "[encoded data removed]",
      "text/plain": [
       "<Figure size 500x500 with 1 Axes>"
      ]
     },
     "metadata": {},
     "output_type": "display_data"
    }
   ],
   "source": [
    "ax=viz.plot_com_properties_relation([louvain, label_prop, angel, k_clique], evaluation.size, evaluation.average_internal_degree) \n",
    "plt.title('Average_Internal_Degree')\n",
    "plt.legend(bbox_to_anchor =(1, -0.10), ncol = 2)"
   ]
  },
  {
   "cell_type": "code",
   "execution_count": 214,
   "id": "altered-mirror",
   "metadata": {},
   "outputs": [
    {
     "data": {
      "text/plain": [
       "<matplotlib.legend.Legend at 0x1cc5058eaa0>"
      ]
     },
     "execution_count": 214,
     "metadata": {},
     "output_type": "execute_result"
    },
    {
     "data": {
      "image/png": "[encoded data removed]",
      "text/plain": [
       "<Figure size 500x500 with 1 Axes>"
      ]
     },
     "metadata": {},
     "output_type": "display_data"
    }
   ],
   "source": [
    "viz.plot_com_properties_relation([louvain, label_prop, angel, k_clique], evaluation.size, evaluation.internal_edge_density)\n",
    "plt.title('Average_Internal_Degree')\n",
    "plt.legend(bbox_to_anchor =(1, -0.10), ncol = 2)"
   ]
  },
  {
   "cell_type": "markdown",
   "id": "surprised-philip",
   "metadata": {},
   "source": [
    "# Partition Comparison"
   ]
  },
  {
   "cell_type": "markdown",
   "id": "73b640d6",
   "metadata": {},
   "source": [
    "### NMI"
   ]
  },
  {
   "cell_type": "code",
   "execution_count": 215,
   "id": "59118f22",
   "metadata": {},
   "outputs": [
    {
     "data": {
      "text/plain": [
       "MatchingResult(score=0.8329089821433441, std=None)"
      ]
     },
     "execution_count": 215,
     "metadata": {},
     "output_type": "execute_result"
    }
   ],
   "source": [
    "evaluation.normalized_mutual_information(louvain, label_prop)"
   ]
  },
  {
   "cell_type": "markdown",
   "id": "67523d99",
   "metadata": {},
   "source": [
    "### NF1"
   ]
  },
  {
   "cell_type": "code",
   "execution_count": 216,
   "id": "polar-radius",
   "metadata": {},
   "outputs": [
    {
     "data": {
      "text/plain": [
       "MatchingResult(score=0.21345197302669874, std=None)"
      ]
     },
     "execution_count": 216,
     "metadata": {},
     "output_type": "execute_result"
    }
   ],
   "source": [
    "evaluation.nf1(label_prop,louvain)"
   ]
  },
  {
   "cell_type": "code",
   "execution_count": 217,
   "id": "7ae7867a",
   "metadata": {},
   "outputs": [
    {
     "data": {
      "text/plain": [
       "MatchingResult(score=0.00208902577061781, std=None)"
      ]
     },
     "execution_count": 217,
     "metadata": {},
     "output_type": "execute_result"
    }
   ],
   "source": [
    "evaluation.nf1(label_prop,angel)"
   ]
  },
  {
   "cell_type": "code",
   "execution_count": 218,
   "id": "9189040f",
   "metadata": {},
   "outputs": [
    {
     "data": {
      "text/plain": [
       "MatchingResult(score=0.009801010253294287, std=None)"
      ]
     },
     "execution_count": 218,
     "metadata": {},
     "output_type": "execute_result"
    }
   ],
   "source": [
    "evaluation.nf1(label_prop,k_clique)"
   ]
  },
  {
   "cell_type": "code",
   "execution_count": 219,
   "id": "fe31296c",
   "metadata": {},
   "outputs": [
    {
     "data": {
      "text/plain": [
       "MatchingResult(score=0.003725978818229741, std=None)"
      ]
     },
     "execution_count": 219,
     "metadata": {},
     "output_type": "execute_result"
    }
   ],
   "source": [
    "evaluation.nf1(louvain,angel)"
   ]
  },
  {
   "cell_type": "code",
   "execution_count": 220,
   "id": "c08587a1",
   "metadata": {},
   "outputs": [
    {
     "data": {
      "text/plain": [
       "MatchingResult(score=0.010552834619255283, std=None)"
      ]
     },
     "execution_count": 220,
     "metadata": {},
     "output_type": "execute_result"
    }
   ],
   "source": [
    "evaluation.nf1(louvain,k_clique)"
   ]
  },
  {
   "cell_type": "code",
   "execution_count": 221,
   "id": "6b23b5cb",
   "metadata": {},
   "outputs": [
    {
     "data": {
      "text/plain": [
       "MatchingResult(score=0.24415584415584418, std=None)"
      ]
     },
     "execution_count": 221,
     "metadata": {},
     "output_type": "execute_result"
    }
   ],
   "source": [
    "evaluation.nf1(k_clique,angel)"
   ]
  },
  {
   "cell_type": "markdown",
   "id": "offshore-possible",
   "metadata": {},
   "source": [
    "# Ground Truth (External) evaluation"
   ]
  },
  {
   "cell_type": "code",
   "execution_count": 222,
   "id": "e2a65530",
   "metadata": {},
   "outputs": [],
   "source": [
    "from cdlib import NodeClustering\n",
    "from networkx.generators.community import LFR_benchmark_graph\n",
    "\n",
    "g1 = LFR_benchmark_graph(1000, 3, 1.5, 0.5, min_community=20, average_degree=5)\n",
    "g2 = LFR_benchmark_graph(1000, 3, 1.5, 0.6, min_community=20, average_degree=5)\n",
    "g3 = LFR_benchmark_graph(1000, 3, 1.5, 0.7, min_community=20, average_degree=5)\n",
    "\n",
    "names = [\"g1\", \"g2\", \"g3\"]\n",
    "graphs = [g1, g2, g3]\n",
    "references = []"
   ]
  },
  {
   "cell_type": "code",
   "execution_count": 223,
   "id": "7544384a",
   "metadata": {},
   "outputs": [],
   "source": [
    "# building the NodeClustering ground truth for the graphs\n",
    "for g in graphs:\n",
    "    ground_truth = NodeClustering(communities={frozenset(g.nodes[v]['community']) for v in g}, graph=g, method_name=\"reference\")\n",
    "    references.append(ground_truth)\n",
    "    \n",
    "algos = [algorithms.leiden, algorithms.label_propagation]"
   ]
  },
  {
   "cell_type": "code",
   "execution_count": 224,
   "id": "daily-banks",
   "metadata": {},
   "outputs": [
    {
     "data": {
      "text/plain": [
       "<AxesSubplot:xlabel='graph', ylabel='score'>"
      ]
     },
     "execution_count": 224,
     "metadata": {},
     "output_type": "execute_result"
    },
    {
     "data": {
      "image/png": "[encoded data removed]",
      "text/plain": [
       "<Figure size 640x480 with 1 Axes>"
      ]
     },
     "metadata": {},
     "output_type": "display_data"
    }
   ],
   "source": [
    "# Computing the visualization (2 execution per method, NMI as scoring for ground truth resemblance)\n",
    "viz.plot_scoring(graphs, references, names, algos, scoring=evaluation.adjusted_mutual_information, nbRuns=2)"
   ]
  },
  {
   "cell_type": "code",
   "execution_count": 225,
   "id": "e3f90930",
   "metadata": {},
   "outputs": [
    {
     "data": {
      "text/plain": [
       "<seaborn.matrix.ClusterGrid at 0x1cc4ea3bd90>"
      ]
     },
     "execution_count": 225,
     "metadata": {},
     "output_type": "execute_result"
    },
    {
     "data": {
      "image/png": "[encoded data removed]",
      "text/plain": [
       "<Figure size 1000x1000 with 4 Axes>"
      ]
     },
     "metadata": {},
     "output_type": "display_data"
    }
   ],
   "source": [
    "lp_coms = algorithms.label_propagation(G)\n",
    "leiden_coms = algorithms.leiden(G)\n",
    "wp_coms = algorithms.walktrap(G)\n",
    "#infomap_coms = algorithms.infomap(G)\n",
    "\n",
    "viz.plot_sim_matrix([leiden_coms, lp_coms, wp_coms],evaluation.adjusted_mutual_information) #, infomap_coms"
   ]
  },
  {
   "cell_type": "code",
   "execution_count": null,
   "id": "inside-gasoline",
   "metadata": {},
   "outputs": [],
   "source": []
  },
  {
   "cell_type": "code",
   "execution_count": null,
   "id": "c31b4f21",
   "metadata": {},
   "outputs": [],
   "source": []
  }
 ],
 "metadata": {
  "kernelspec": {
   "display_name": "Python 3 (ipykernel)",
   "language": "python",
   "name": "python3"
  },
  "language_info": {
   "codemirror_mode": {
    "name": "ipython",
    "version": 3
   },
   "file_extension": ".py",
   "mimetype": "text/x-python",
   "name": "python",
   "nbconvert_exporter": "python",
   "pygments_lexer": "ipython3",
   "version": "3.10.5"
  }
 },
 "nbformat": 4,
 "nbformat_minor": 5
}
