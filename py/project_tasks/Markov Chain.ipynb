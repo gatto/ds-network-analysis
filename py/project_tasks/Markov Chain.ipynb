{
 "cells": [
  {
   "cell_type": "code",
   "execution_count": 1,
   "id": "7ef6f66c",
   "metadata": {},
   "outputs": [],
   "source": [
    "import pandas as pd\n",
    "import numpy as np\n",
    "import seaborn as sns \n",
    "import matplotlib.pyplot as plt\n",
    "from __future__ import division  \n",
    "from markovchain import MarkovChain\n"
   ]
  },
  {
   "cell_type": "code",
   "execution_count": 9,
   "id": "9e358a61",
   "metadata": {},
   "outputs": [],
   "source": [
    "def markov(df, col1, col2):\n",
    "    l=len(df)\n",
    "    pax_pax = 0\n",
    "    pax_prorus = 0\n",
    "    pax_proukr = 0\n",
    "    pax_nocare = 0\n",
    "    prorus_prorus = 0\n",
    "    prorus_proukr = 0\n",
    "    prorus_pax = 0\n",
    "    prorus_nocare = 0\n",
    "    proukr_proukr = 0\n",
    "    proukr_pax = 0\n",
    "    proukr_prorus = 0\n",
    "    proukr_nocare = 0\n",
    "    nocare_pax = 0\n",
    "    nocare_prorus = 0\n",
    "    nocare_proukr = 0\n",
    "    nocare_nocare = 0\n",
    "    for i in range(len(df)):\n",
    "        if df[col1][i]=='pax':\n",
    "            if df[col2][i]=='pax':\n",
    "                pax_pax += 1\n",
    "            elif df[col2][i] =='prorus':\n",
    "                pax_prorus += 1\n",
    "            elif df[col2][i] == 'proukr':\n",
    "                pax_proukr += 1\n",
    "            else:\n",
    "                pax_nocare += 1\n",
    "                \n",
    "        elif df[col1][i]=='prorus':\n",
    "            if df[col2][i]=='pax':\n",
    "                prorus_pax += 1\n",
    "            elif df[col2][i] =='prorus':\n",
    "                prorus_prorus += 1\n",
    "            elif df[col2][i] == 'proukr':\n",
    "                prorus_proukr += 1\n",
    "            else:\n",
    "                pax_nocare += 1\n",
    "                \n",
    "        elif df[col1][i]=='proukr':\n",
    "            if df[col2][i]=='pax':\n",
    "                proukr_pax += 1\n",
    "            elif df[col2][i] =='prorus':\n",
    "                proukr_prorus += 1\n",
    "            elif df[col2][i] == 'proukr':\n",
    "                proukr_proukr += 1\n",
    "            else:\n",
    "                proukr_nocare += 1\n",
    "\n",
    "        elif df[col1][i]=='nocare':\n",
    "            if df[col2][i]=='pax':\n",
    "                nocare_pax += 1\n",
    "            elif df[col2][i] =='prorus':\n",
    "                nocare_prorus += 1\n",
    "            elif df[col2][i] == 'proukr':\n",
    "                nocare_proukr += 1\n",
    "            else:\n",
    "                nocare_nocare += 1\n",
    "        #building transition matrix\n",
    "    P=np.array([[pax_pax/l, pax_prorus/l,pax_proukr/l,pax_nocare/l],\n",
    "                [prorus_pax/l,prorus_prorus/l,prorus_proukr/l,prorus_nocare/l],\n",
    "                [proukr_pax/l,proukr_prorus/l,proukr_proukr/l,proukr_nocare/l],\n",
    "               [nocare_pax/l,nocare_prorus/l,nocare_proukr/l,nocare_nocare/l]])\n",
    "    return P"
   ]
  },
  {
   "cell_type": "code",
   "execution_count": 10,
   "id": "a644e78c",
   "metadata": {},
   "outputs": [],
   "source": [
    "df=pd.read_excel('markov')"
   ]
  },
  {
   "cell_type": "code",
   "execution_count": 11,
   "id": "26537a0b",
   "metadata": {
    "scrolled": true
   },
   "outputs": [
    {
     "data": {
      "text/html": [
       "<div>\n",
       "<style scoped>\n",
       "    .dataframe tbody tr th:only-of-type {\n",
       "        vertical-align: middle;\n",
       "    }\n",
       "\n",
       "    .dataframe tbody tr th {\n",
       "        vertical-align: top;\n",
       "    }\n",
       "\n",
       "    .dataframe thead th {\n",
       "        text-align: right;\n",
       "    }\n",
       "</style>\n",
       "<table border=\"1\" class=\"dataframe\">\n",
       "  <thead>\n",
       "    <tr style=\"text-align: right;\">\n",
       "      <th></th>\n",
       "      <th>utente</th>\n",
       "      <th>cat1</th>\n",
       "      <th>cat2</th>\n",
       "    </tr>\n",
       "  </thead>\n",
       "  <tbody>\n",
       "    <tr>\n",
       "      <th>0</th>\n",
       "      <td>1</td>\n",
       "      <td>pax</td>\n",
       "      <td>proukr</td>\n",
       "    </tr>\n",
       "    <tr>\n",
       "      <th>1</th>\n",
       "      <td>2</td>\n",
       "      <td>pax</td>\n",
       "      <td>pax</td>\n",
       "    </tr>\n",
       "    <tr>\n",
       "      <th>2</th>\n",
       "      <td>3</td>\n",
       "      <td>prorus</td>\n",
       "      <td>prorus</td>\n",
       "    </tr>\n",
       "    <tr>\n",
       "      <th>3</th>\n",
       "      <td>4</td>\n",
       "      <td>prorus</td>\n",
       "      <td>pax</td>\n",
       "    </tr>\n",
       "    <tr>\n",
       "      <th>4</th>\n",
       "      <td>5</td>\n",
       "      <td>proukr</td>\n",
       "      <td>proukr</td>\n",
       "    </tr>\n",
       "    <tr>\n",
       "      <th>5</th>\n",
       "      <td>6</td>\n",
       "      <td>proukr</td>\n",
       "      <td>proukr</td>\n",
       "    </tr>\n",
       "    <tr>\n",
       "      <th>6</th>\n",
       "      <td>7</td>\n",
       "      <td>proukr</td>\n",
       "      <td>pax</td>\n",
       "    </tr>\n",
       "    <tr>\n",
       "      <th>7</th>\n",
       "      <td>8</td>\n",
       "      <td>pax</td>\n",
       "      <td>proukr</td>\n",
       "    </tr>\n",
       "    <tr>\n",
       "      <th>8</th>\n",
       "      <td>9</td>\n",
       "      <td>prorus</td>\n",
       "      <td>prorus</td>\n",
       "    </tr>\n",
       "    <tr>\n",
       "      <th>9</th>\n",
       "      <td>10</td>\n",
       "      <td>prorus</td>\n",
       "      <td>prorus</td>\n",
       "    </tr>\n",
       "  </tbody>\n",
       "</table>\n",
       "</div>"
      ],
      "text/plain": [
       "   utente    cat1    cat2\n",
       "0       1     pax  proukr\n",
       "1       2     pax     pax\n",
       "2       3  prorus  prorus\n",
       "3       4  prorus     pax\n",
       "4       5  proukr  proukr\n",
       "5       6  proukr  proukr\n",
       "6       7  proukr     pax\n",
       "7       8     pax  proukr\n",
       "8       9  prorus  prorus\n",
       "9      10  prorus  prorus"
      ]
     },
     "execution_count": 11,
     "metadata": {},
     "output_type": "execute_result"
    }
   ],
   "source": [
    "df"
   ]
  },
  {
   "cell_type": "code",
   "execution_count": 12,
   "id": "86e1a2d9",
   "metadata": {},
   "outputs": [
    {
     "data": {
      "text/plain": [
       "array([[0.1, 0. , 0.2, 0. ],\n",
       "       [0.1, 0.3, 0. , 0. ],\n",
       "       [0.1, 0. , 0.2, 0. ],\n",
       "       [0. , 0. , 0. , 0. ]])"
      ]
     },
     "execution_count": 12,
     "metadata": {},
     "output_type": "execute_result"
    }
   ],
   "source": [
    "markov(df,'cat1','cat2')"
   ]
  },
  {
   "cell_type": "code",
   "execution_count": 13,
   "id": "a0af3850",
   "metadata": {},
   "outputs": [],
   "source": [
    "states=['pax','prorus','proukr','nocare']\n",
    "\n",
    "transition=[['pax','pax'],['pax','prorus'],['pax,proukr'],['pax','nocare'],\n",
    "       ['prorus','pax'],['prorus','prorus'],['prorus,proukr'],['prorus','nocare'],\n",
    "       ['proukr','pax'],['proukr','prorus'],['proukr,proukr'],['proukr','nocare']]\n",
    "\n",
    "P=markov(df,'cat1','cat2')"
   ]
  },
  {
   "cell_type": "code",
   "execution_count": 14,
   "id": "aae1599a",
   "metadata": {},
   "outputs": [
    {
     "data": {
      "image/png": "[encoded data removed]",
      "text/plain": [
       "<Figure size 576x576 with 1 Axes>"
      ]
     },
     "metadata": {
      "needs_background": "light"
     },
     "output_type": "display_data"
    }
   ],
   "source": [
    "mc = MarkovChain(P, states)\n",
    "mc.draw()"
   ]
  },
  {
   "cell_type": "code",
   "execution_count": null,
   "id": "56c05fa4",
   "metadata": {},
   "outputs": [],
   "source": []
  }
 ],
 "metadata": {
  "kernelspec": {
   "display_name": "Python 3 (ipykernel)",
   "language": "python",
   "name": "python3"
  },
  "language_info": {
   "codemirror_mode": {
    "name": "ipython",
    "version": 3
   },
   "file_extension": ".py",
   "mimetype": "text/x-python",
   "name": "python",
   "nbconvert_exporter": "python",
   "pygments_lexer": "ipython3",
   "version": "3.10.5"
  }
 },
 "nbformat": 4,
 "nbformat_minor": 5
}
