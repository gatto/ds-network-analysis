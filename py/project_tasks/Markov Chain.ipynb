{
 "cells": [
  {
   "cell_type": "code",
   "execution_count": 40,
   "id": "7ef6f66c",
   "metadata": {},
   "outputs": [],
   "source": [
    "import pandas as pd\n",
    "import numpy as np\n",
    "import seaborn as sns \n",
    "import matplotlib.pyplot as plt\n",
    "from markovchain import MarkovChain\n",
    "import networkx as nx\n"
   ]
  },
  {
   "cell_type": "code",
   "execution_count": 41,
   "id": "9e358a61",
   "metadata": {},
   "outputs": [],
   "source": [
    "def markov(df, col1, col2):\n",
    "    l=len(df)\n",
    "    pax_pax = 0\n",
    "    pax_prorus = 0\n",
    "    pax_proukr = 0\n",
    "    pax_nocare = 0\n",
    "    prorus_prorus = 0\n",
    "    prorus_proukr = 0\n",
    "    prorus_pax = 0\n",
    "    prorus_nocare = 0\n",
    "    proukr_proukr = 0\n",
    "    proukr_pax = 0\n",
    "    proukr_prorus = 0\n",
    "    proukr_nocare = 0\n",
    "    nocare_pax = 0\n",
    "    nocare_prorus = 0\n",
    "    nocare_proukr = 0\n",
    "    nocare_nocare = 0\n",
    "    for i in range(len(df)):\n",
    "        if df[col1][i]=='pax':\n",
    "            if df[col2][i]=='pax':\n",
    "                pax_pax += 1\n",
    "            elif df[col2][i] =='prorus':\n",
    "                pax_prorus += 1\n",
    "            elif df[col2][i] == 'proukr':\n",
    "                pax_proukr += 1\n",
    "            else:\n",
    "                pax_nocare += 1\n",
    "                \n",
    "        elif df[col1][i]=='prorus':\n",
    "            if df[col2][i]=='pax':\n",
    "                prorus_pax += 1\n",
    "            elif df[col2][i] =='prorus':\n",
    "                prorus_prorus += 1\n",
    "            elif df[col2][i] == 'proukr':\n",
    "                prorus_proukr += 1\n",
    "            else:\n",
    "                pax_nocare += 1\n",
    "                \n",
    "        elif df[col1][i]=='proukr':\n",
    "            if df[col2][i]=='pax':\n",
    "                proukr_pax += 1\n",
    "            elif df[col2][i] =='prorus':\n",
    "                proukr_prorus += 1\n",
    "            elif df[col2][i] == 'proukr':\n",
    "                proukr_proukr += 1\n",
    "            else:\n",
    "                proukr_nocare += 1\n",
    "\n",
    "        elif df[col1][i]=='nocare':\n",
    "            if df[col2][i]=='pax':\n",
    "                nocare_pax += 1\n",
    "            elif df[col2][i] =='prorus':\n",
    "                nocare_prorus += 1\n",
    "            elif df[col2][i] == 'proukr':\n",
    "                nocare_proukr += 1\n",
    "            else:\n",
    "                nocare_nocare += 1\n",
    "    #building transition matrix\n",
    "    P=np.array([[pax_pax/l, pax_prorus/l,pax_proukr/l,pax_nocare/l],\n",
    "                [prorus_pax/l,prorus_prorus/l,prorus_proukr/l,prorus_nocare/l],\n",
    "                [proukr_pax/l,proukr_prorus/l,proukr_proukr/l,proukr_nocare/l],\n",
    "               [nocare_pax/l,nocare_prorus/l,nocare_proukr/l,nocare_nocare/l]])\n",
    "    return P"
   ]
  },
  {
   "cell_type": "code",
   "execution_count": 42,
   "id": "a644e78c",
   "metadata": {},
   "outputs": [],
   "source": [
    "df=pd.read_excel('markov.xlsx')"
   ]
  },
  {
   "cell_type": "code",
   "execution_count": 43,
   "id": "26537a0b",
   "metadata": {
    "scrolled": true
   },
   "outputs": [
    {
     "data": {
      "text/html": [
       "<div>\n",
       "<style scoped>\n",
       "    .dataframe tbody tr th:only-of-type {\n",
       "        vertical-align: middle;\n",
       "    }\n",
       "\n",
       "    .dataframe tbody tr th {\n",
       "        vertical-align: top;\n",
       "    }\n",
       "\n",
       "    .dataframe thead th {\n",
       "        text-align: right;\n",
       "    }\n",
       "</style>\n",
       "<table border=\"1\" class=\"dataframe\">\n",
       "  <thead>\n",
       "    <tr style=\"text-align: right;\">\n",
       "      <th></th>\n",
       "      <th>utente</th>\n",
       "      <th>cat1</th>\n",
       "      <th>cat2</th>\n",
       "    </tr>\n",
       "  </thead>\n",
       "  <tbody>\n",
       "    <tr>\n",
       "      <th>0</th>\n",
       "      <td>1</td>\n",
       "      <td>pax</td>\n",
       "      <td>proukr</td>\n",
       "    </tr>\n",
       "    <tr>\n",
       "      <th>1</th>\n",
       "      <td>2</td>\n",
       "      <td>pax</td>\n",
       "      <td>pax</td>\n",
       "    </tr>\n",
       "    <tr>\n",
       "      <th>2</th>\n",
       "      <td>3</td>\n",
       "      <td>prorus</td>\n",
       "      <td>nocare</td>\n",
       "    </tr>\n",
       "    <tr>\n",
       "      <th>3</th>\n",
       "      <td>4</td>\n",
       "      <td>prorus</td>\n",
       "      <td>pax</td>\n",
       "    </tr>\n",
       "    <tr>\n",
       "      <th>4</th>\n",
       "      <td>5</td>\n",
       "      <td>proukr</td>\n",
       "      <td>proukr</td>\n",
       "    </tr>\n",
       "    <tr>\n",
       "      <th>5</th>\n",
       "      <td>6</td>\n",
       "      <td>proukr</td>\n",
       "      <td>proukr</td>\n",
       "    </tr>\n",
       "    <tr>\n",
       "      <th>6</th>\n",
       "      <td>7</td>\n",
       "      <td>proukr</td>\n",
       "      <td>pax</td>\n",
       "    </tr>\n",
       "    <tr>\n",
       "      <th>7</th>\n",
       "      <td>8</td>\n",
       "      <td>pax</td>\n",
       "      <td>proukr</td>\n",
       "    </tr>\n",
       "    <tr>\n",
       "      <th>8</th>\n",
       "      <td>9</td>\n",
       "      <td>prorus</td>\n",
       "      <td>prorus</td>\n",
       "    </tr>\n",
       "    <tr>\n",
       "      <th>9</th>\n",
       "      <td>10</td>\n",
       "      <td>prorus</td>\n",
       "      <td>prorus</td>\n",
       "    </tr>\n",
       "    <tr>\n",
       "      <th>10</th>\n",
       "      <td>11</td>\n",
       "      <td>nocare</td>\n",
       "      <td>nocare</td>\n",
       "    </tr>\n",
       "    <tr>\n",
       "      <th>11</th>\n",
       "      <td>12</td>\n",
       "      <td>prorus</td>\n",
       "      <td>prorus</td>\n",
       "    </tr>\n",
       "    <tr>\n",
       "      <th>12</th>\n",
       "      <td>13</td>\n",
       "      <td>proukr</td>\n",
       "      <td>nocare</td>\n",
       "    </tr>\n",
       "    <tr>\n",
       "      <th>13</th>\n",
       "      <td>14</td>\n",
       "      <td>pax</td>\n",
       "      <td>nocare</td>\n",
       "    </tr>\n",
       "    <tr>\n",
       "      <th>14</th>\n",
       "      <td>15</td>\n",
       "      <td>prorus</td>\n",
       "      <td>prorus</td>\n",
       "    </tr>\n",
       "    <tr>\n",
       "      <th>15</th>\n",
       "      <td>16</td>\n",
       "      <td>pax</td>\n",
       "      <td>pax</td>\n",
       "    </tr>\n",
       "    <tr>\n",
       "      <th>16</th>\n",
       "      <td>17</td>\n",
       "      <td>pax</td>\n",
       "      <td>pax</td>\n",
       "    </tr>\n",
       "    <tr>\n",
       "      <th>17</th>\n",
       "      <td>18</td>\n",
       "      <td>prorus</td>\n",
       "      <td>nocare</td>\n",
       "    </tr>\n",
       "    <tr>\n",
       "      <th>18</th>\n",
       "      <td>19</td>\n",
       "      <td>prorus</td>\n",
       "      <td>pax</td>\n",
       "    </tr>\n",
       "    <tr>\n",
       "      <th>19</th>\n",
       "      <td>20</td>\n",
       "      <td>proukr</td>\n",
       "      <td>proukr</td>\n",
       "    </tr>\n",
       "    <tr>\n",
       "      <th>20</th>\n",
       "      <td>21</td>\n",
       "      <td>proukr</td>\n",
       "      <td>proukr</td>\n",
       "    </tr>\n",
       "    <tr>\n",
       "      <th>21</th>\n",
       "      <td>22</td>\n",
       "      <td>proukr</td>\n",
       "      <td>pax</td>\n",
       "    </tr>\n",
       "    <tr>\n",
       "      <th>22</th>\n",
       "      <td>23</td>\n",
       "      <td>pax</td>\n",
       "      <td>proukr</td>\n",
       "    </tr>\n",
       "    <tr>\n",
       "      <th>23</th>\n",
       "      <td>24</td>\n",
       "      <td>prorus</td>\n",
       "      <td>prorus</td>\n",
       "    </tr>\n",
       "    <tr>\n",
       "      <th>24</th>\n",
       "      <td>25</td>\n",
       "      <td>prorus</td>\n",
       "      <td>prorus</td>\n",
       "    </tr>\n",
       "    <tr>\n",
       "      <th>25</th>\n",
       "      <td>26</td>\n",
       "      <td>nocare</td>\n",
       "      <td>nocare</td>\n",
       "    </tr>\n",
       "    <tr>\n",
       "      <th>26</th>\n",
       "      <td>27</td>\n",
       "      <td>nocare</td>\n",
       "      <td>prorus</td>\n",
       "    </tr>\n",
       "    <tr>\n",
       "      <th>27</th>\n",
       "      <td>28</td>\n",
       "      <td>proukr</td>\n",
       "      <td>nocare</td>\n",
       "    </tr>\n",
       "    <tr>\n",
       "      <th>28</th>\n",
       "      <td>29</td>\n",
       "      <td>pax</td>\n",
       "      <td>nocare</td>\n",
       "    </tr>\n",
       "    <tr>\n",
       "      <th>29</th>\n",
       "      <td>30</td>\n",
       "      <td>prorus</td>\n",
       "      <td>prorus</td>\n",
       "    </tr>\n",
       "    <tr>\n",
       "      <th>30</th>\n",
       "      <td>31</td>\n",
       "      <td>nocare</td>\n",
       "      <td>nocare</td>\n",
       "    </tr>\n",
       "  </tbody>\n",
       "</table>\n",
       "</div>"
      ],
      "text/plain": [
       "    utente    cat1    cat2\n",
       "0        1     pax  proukr\n",
       "1        2     pax     pax\n",
       "2        3  prorus  nocare\n",
       "3        4  prorus     pax\n",
       "4        5  proukr  proukr\n",
       "5        6  proukr  proukr\n",
       "6        7  proukr     pax\n",
       "7        8     pax  proukr\n",
       "8        9  prorus  prorus\n",
       "9       10  prorus  prorus\n",
       "10      11  nocare  nocare\n",
       "11      12  prorus  prorus\n",
       "12      13  proukr  nocare\n",
       "13      14     pax  nocare\n",
       "14      15  prorus  prorus\n",
       "15      16     pax     pax\n",
       "16      17     pax     pax\n",
       "17      18  prorus  nocare\n",
       "18      19  prorus     pax\n",
       "19      20  proukr  proukr\n",
       "20      21  proukr  proukr\n",
       "21      22  proukr     pax\n",
       "22      23     pax  proukr\n",
       "23      24  prorus  prorus\n",
       "24      25  prorus  prorus\n",
       "25      26  nocare  nocare\n",
       "26      27  nocare  prorus\n",
       "27      28  proukr  nocare\n",
       "28      29     pax  nocare\n",
       "29      30  prorus  prorus\n",
       "30      31  nocare  nocare"
      ]
     },
     "execution_count": 43,
     "metadata": {},
     "output_type": "execute_result"
    }
   ],
   "source": [
    "df"
   ]
  },
  {
   "cell_type": "code",
   "execution_count": 44,
   "id": "ba8185a1",
   "metadata": {},
   "outputs": [
    {
     "data": {
      "text/plain": [
       "prorus    11\n",
       "pax        8\n",
       "proukr     8\n",
       "nocare     4\n",
       "Name: cat1, dtype: int64"
      ]
     },
     "execution_count": 44,
     "metadata": {},
     "output_type": "execute_result"
    }
   ],
   "source": [
    "y=df['cat1'].value_counts()\n",
    "y"
   ]
  },
  {
   "cell_type": "code",
   "execution_count": 45,
   "id": "7c089122",
   "metadata": {},
   "outputs": [
    {
     "data": {
      "image/png": "[encoded data removed]",
      "text/plain": [
       "<Figure size 432x288 with 1 Axes>"
      ]
     },
     "metadata": {
      "needs_background": "light"
     },
     "output_type": "display_data"
    }
   ],
   "source": [
    "x=['proukr','pax','prorus','nocare']\n",
    "y=df['cat1'].value_counts()\n",
    "plt.bar(x,y, width=0.4, color='dodgerblue')\n",
    "plt.title('#first period')\n",
    "plt.show()"
   ]
  },
  {
   "cell_type": "code",
   "execution_count": 46,
   "id": "8dc5320d",
   "metadata": {},
   "outputs": [
    {
     "data": {
      "image/png": "[encoded data removed]",
      "text/plain": [
       "<Figure size 432x288 with 1 Axes>"
      ]
     },
     "metadata": {
      "needs_background": "light"
     },
     "output_type": "display_data"
    }
   ],
   "source": [
    "x=['proukr','pax','prorus','nocare']\n",
    "y=df['cat2'].value_counts()\n",
    "plt.bar(x,y, width=0.4, color='dodgerblue')\n",
    "plt.title('#second period')\n",
    "plt.show()"
   ]
  },
  {
   "cell_type": "code",
   "execution_count": 47,
   "id": "082f94f6",
   "metadata": {},
   "outputs": [
    {
     "data": {
      "text/plain": [
       "prorus    11\n",
       "pax        8\n",
       "proukr     8\n",
       "nocare     4\n",
       "Name: cat1, dtype: int64"
      ]
     },
     "execution_count": 47,
     "metadata": {},
     "output_type": "execute_result"
    }
   ],
   "source": [
    "df['cat1'].value_counts()"
   ]
  },
  {
   "cell_type": "code",
   "execution_count": 48,
   "id": "86e1a2d9",
   "metadata": {},
   "outputs": [
    {
     "data": {
      "text/plain": [
       "array([[0.09677419, 0.        , 0.09677419, 0.12903226],\n",
       "       [0.06451613, 0.22580645, 0.        , 0.        ],\n",
       "       [0.06451613, 0.        , 0.12903226, 0.06451613],\n",
       "       [0.        , 0.03225806, 0.        , 0.09677419]])"
      ]
     },
     "execution_count": 48,
     "metadata": {},
     "output_type": "execute_result"
    }
   ],
   "source": [
    "matrix=markov(df,'cat1','cat2')\n",
    "matrix"
   ]
  },
  {
   "cell_type": "code",
   "execution_count": 49,
   "id": "8643d31f",
   "metadata": {},
   "outputs": [
    {
     "data": {
      "image/png": "[encoded data removed]",
      "text/plain": [
       "<Figure size 432x288 with 2 Axes>"
      ]
     },
     "metadata": {
      "needs_background": "light"
     },
     "output_type": "display_data"
    }
   ],
   "source": [
    "import numpy as np\n",
    "import seaborn as sns\n",
    "import matplotlib.pylab as plt\n",
    "\n",
    "ax = sns.heatmap(matrix, linewidth=0.5,cmap=\"vlag\")\n",
    "ax.set_xticklabels(['pax','prorus','proukr','nocare'])\n",
    "ax.set_yticklabels(['pax','prorus','proukr','nocare'])\n",
    "plt.show()"
   ]
  },
  {
   "cell_type": "code",
   "execution_count": 50,
   "id": "a0af3850",
   "metadata": {},
   "outputs": [],
   "source": [
    "states=['pax','prorus','proukr','nocare']\n",
    "\n",
    "transition=[['pax','pax'],['pax','prorus'],['pax,proukr'],['pax','nocare'],\n",
    "       ['prorus','pax'],['prorus','prorus'],['prorus,proukr'],['prorus','nocare'],\n",
    "       ['proukr','pax'],['proukr','prorus'],['proukr,proukr'],['proukr','nocare']]\n",
    "\n",
    "P=markov(df,'cat1','cat2')"
   ]
  },
  {
   "cell_type": "code",
   "execution_count": 51,
   "id": "b482829f",
   "metadata": {},
   "outputs": [
    {
     "data": {
      "image/png": "[encoded data removed]",
      "text/plain": [
       "<Figure size 576x576 with 1 Axes>"
      ]
     },
     "metadata": {
      "needs_background": "light"
     },
     "output_type": "display_data"
    }
   ],
   "source": [
    "mc = MarkovChain(P, states)\n",
    "mc.draw()"
   ]
  },
  {
   "cell_type": "code",
   "execution_count": null,
   "id": "1badc131",
   "metadata": {},
   "outputs": [],
   "source": []
  },
  {
   "cell_type": "code",
   "execution_count": null,
   "id": "6eb89ac0",
   "metadata": {},
   "outputs": [],
   "source": []
  }
 ],
 "metadata": {
  "kernelspec": {
   "display_name": "Python 3 (ipykernel)",
   "language": "python",
   "name": "python3"
  },
  "language_info": {
   "codemirror_mode": {
    "name": "ipython",
    "version": 3
   },
   "file_extension": ".py",
   "mimetype": "text/x-python",
   "name": "python",
   "nbconvert_exporter": "python",
   "pygments_lexer": "ipython3",
   "version": "3.10.5"
  }
 },
 "nbformat": 4,
 "nbformat_minor": 5
}
