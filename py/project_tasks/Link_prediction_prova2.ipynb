{
 "cells": [
  {
   "cell_type": "code",
   "execution_count": 1,
   "metadata": {
    "id": "KspllsB7NJRm"
   },
   "outputs": [],
   "source": [
    "import pandas as pd\n",
    "import numpy as np\n",
    "import networkx as nx\n",
    "import multiprocessing\n",
    "import matplotlib.pyplot as plt\n",
    "from sklearn.metrics import auc"
   ]
  },
  {
   "cell_type": "code",
   "execution_count": 2,
   "metadata": {
    "id": "fqKXbVBKOv10"
   },
   "outputs": [],
   "source": [
    "def make_node_df(G):\n",
    "    nodes = {}\n",
    "    for node, attribute in G.nodes(data=True):\n",
    "        if not nodes.get('node'):\n",
    "            nodes['node'] = [node]\n",
    "        else:\n",
    "            nodes['node'].append(node)\n",
    "\n",
    "        for key, value in attribute.items():\n",
    "            if not nodes.get(key):\n",
    "                nodes[key] = [value]\n",
    "            else:\n",
    "                nodes[key].append(value)\n",
    "\n",
    "    return pd.DataFrame(nodes)\n",
    "\n",
    "def make_edge_df(G):\n",
    "    edges = {}\n",
    "    for source, target, attribute in G.edges(data=True):\n",
    "\n",
    "        if not edges.get('source'):\n",
    "            edges['source'] = [source]\n",
    "        else:\n",
    "            edges['source'].append(source)\n",
    "\n",
    "        if not edges.get('target'):\n",
    "            edges['target'] = [target]\n",
    "        else:\n",
    "            edges['target'].append(target)\n",
    "\n",
    "        for key, value in attribute.items():\n",
    "            if not edges.get(key):\n",
    "                edges[key] = [value]\n",
    "            else:\n",
    "                edges[key].append(value)\n",
    "    return pd.DataFrame(edges)"
   ]
  },
  {
   "cell_type": "code",
   "execution_count": 3,
   "metadata": {},
   "outputs": [],
   "source": [
    "G=nx.read_gexf('final_net.gexf')\n",
    "G.number_of_nodes()\n",
    "df=make_node_df(G)\n",
    "links=make_edge_df(G)"
   ]
  },
  {
   "cell_type": "markdown",
   "metadata": {},
   "source": [
    "# Extract a sample for Test"
   ]
  },
  {
   "cell_type": "code",
   "execution_count": 4,
   "metadata": {
    "colab": {
     "base_uri": "https://localhost:8080/",
     "height": 359
    },
    "id": "wab32givPSs2",
    "outputId": "ebd50c77-5151-447e-bd91-caac4d3e0e09"
   },
   "outputs": [
    {
     "data": {
      "text/html": [
       "<div>\n",
       "<style scoped>\n",
       "    .dataframe tbody tr th:only-of-type {\n",
       "        vertical-align: middle;\n",
       "    }\n",
       "\n",
       "    .dataframe tbody tr th {\n",
       "        vertical-align: top;\n",
       "    }\n",
       "\n",
       "    .dataframe thead th {\n",
       "        text-align: right;\n",
       "    }\n",
       "</style>\n",
       "<table border=\"1\" class=\"dataframe\">\n",
       "  <thead>\n",
       "    <tr style=\"text-align: right;\">\n",
       "      <th></th>\n",
       "      <th>node</th>\n",
       "      <th>category</th>\n",
       "      <th>label</th>\n",
       "    </tr>\n",
       "  </thead>\n",
       "  <tbody>\n",
       "    <tr>\n",
       "      <th>154</th>\n",
       "      <td>16909343</td>\n",
       "      <td>proukr</td>\n",
       "      <td>16909343</td>\n",
       "    </tr>\n",
       "    <tr>\n",
       "      <th>2016</th>\n",
       "      <td>278603601</td>\n",
       "      <td>proukr</td>\n",
       "      <td>278603601</td>\n",
       "    </tr>\n",
       "    <tr>\n",
       "      <th>7193</th>\n",
       "      <td>1059884007171620864</td>\n",
       "      <td>proukr</td>\n",
       "      <td>1059884007171620864</td>\n",
       "    </tr>\n",
       "    <tr>\n",
       "      <th>8600</th>\n",
       "      <td>1322584858804277248</td>\n",
       "      <td>proukr</td>\n",
       "      <td>1322584858804277248</td>\n",
       "    </tr>\n",
       "    <tr>\n",
       "      <th>3755</th>\n",
       "      <td>1497051931</td>\n",
       "      <td>dontcare</td>\n",
       "      <td>1497051931</td>\n",
       "    </tr>\n",
       "    <tr>\n",
       "      <th>...</th>\n",
       "      <td>...</td>\n",
       "      <td>...</td>\n",
       "      <td>...</td>\n",
       "    </tr>\n",
       "    <tr>\n",
       "      <th>5133</th>\n",
       "      <td>3468216737</td>\n",
       "      <td>proukr</td>\n",
       "      <td>3468216737</td>\n",
       "    </tr>\n",
       "    <tr>\n",
       "      <th>9287</th>\n",
       "      <td>1429890854345379844</td>\n",
       "      <td>proukr</td>\n",
       "      <td>1429890854345379844</td>\n",
       "    </tr>\n",
       "    <tr>\n",
       "      <th>2625</th>\n",
       "      <td>434275853</td>\n",
       "      <td>proukr</td>\n",
       "      <td>434275853</td>\n",
       "    </tr>\n",
       "    <tr>\n",
       "      <th>4480</th>\n",
       "      <td>2680539031</td>\n",
       "      <td>proukr</td>\n",
       "      <td>2680539031</td>\n",
       "    </tr>\n",
       "    <tr>\n",
       "      <th>7251</th>\n",
       "      <td>1079410802803781634</td>\n",
       "      <td>prorus</td>\n",
       "      <td>1079410802803781634</td>\n",
       "    </tr>\n",
       "  </tbody>\n",
       "</table>\n",
       "<p>102 rows × 3 columns</p>\n",
       "</div>"
      ],
      "text/plain": [
       "                     node  category                label\n",
       "154              16909343    proukr             16909343\n",
       "2016            278603601    proukr            278603601\n",
       "7193  1059884007171620864    proukr  1059884007171620864\n",
       "8600  1322584858804277248    proukr  1322584858804277248\n",
       "3755           1497051931  dontcare           1497051931\n",
       "...                   ...       ...                  ...\n",
       "5133           3468216737    proukr           3468216737\n",
       "9287  1429890854345379844    proukr  1429890854345379844\n",
       "2625            434275853    proukr            434275853\n",
       "4480           2680539031    proukr           2680539031\n",
       "7251  1079410802803781634    prorus  1079410802803781634\n",
       "\n",
       "[102 rows x 3 columns]"
      ]
     },
     "execution_count": 4,
     "metadata": {},
     "output_type": "execute_result"
    }
   ],
   "source": [
    "df_sample = df.sample(frac = 0.01, axis = \"index\")\n",
    "# for real data do: df_sample = df.sample(frac = 0.1, axis = \"index\") # frac is the fraction of rows nodes to start with\n",
    "df_sample"
   ]
  },
  {
   "cell_type": "code",
   "execution_count": 5,
   "metadata": {
    "colab": {
     "base_uri": "https://localhost:8080/"
    },
    "id": "vu-iqnLeRcyB",
    "outputId": "dd8ba677-b121-49ec-978d-2ae2be1b964c"
   },
   "outputs": [],
   "source": [
    "df_sample_set = set(df_sample[\"node\"])"
   ]
  },
  {
   "cell_type": "code",
   "execution_count": 6,
   "metadata": {
    "colab": {
     "base_uri": "https://localhost:8080/",
     "height": 359
    },
    "id": "wtBxLeGzPkZ3",
    "outputId": "15876845-8716-44b6-f522-d20f757191a7"
   },
   "outputs": [],
   "source": [
    "# linkage step: now i need to only take the links that are from or to a node included in the sample.\n",
    "# these links are the \"chosen links\"\n",
    "# second step is take the nodes that \"chosen links\" point to or come from (same thing) and add these nodes to the set\n",
    "# end.\n",
    "# if i then repeat the \"linkage step\", i would get gradually a bigger net until i eventually get all the net.\n",
    "# therefore I just end where I end (after only one \"linkage step\" and one addition of \"chosen links\")\n",
    "# mindful that this subnet as composed does not include all links originating from nodes in the subnet.\n",
    "# therefore I'm not sure if this approach is sound or not. Can't think of a better one, though.\n"
   ]
  },
  {
   "cell_type": "code",
   "execution_count": 7,
   "metadata": {
    "colab": {
     "base_uri": "https://localhost:8080/"
    },
    "id": "GyMCIJSPSsTx",
    "outputId": "fb2b1547-c0f4-452f-a3f3-dd1c19debc96"
   },
   "outputs": [
    {
     "data": {
      "text/plain": [
       "NodeView(('242893061', '48000357', '1429081006041178116', '53199373', '797250788825382912', '2847906743', '2680539031', '822583656820699136', '1389968815535054853', '1107926314579869697', '787403334558900224', '3198802391', '1469332931130834952', '806839555', '296774254', '1149747295', '19418649', '1192678393419980800', '1500028669980557314', '1345645611882864641', '1478807288886538240', '617772546', '3010907035', '1429890854345379844', '2513476004', '1129351184962248704', '147476990', '20728264', '3468216737', '289402377', '1497051931', '537837123', '1090270096948248576', '1355726575648403458', '19399022', '1178259103346499584', '2437761697', '1238296287998590982', '1451169754119647235', '1028247846812901381', '766741444212195329', '1427597810103472162', '1375906402993111051', '4683509736', '1237214520012967936', '826823477600583680', '1185239169007792128', '512567648', '1179783761766096896', '1079410802803781634', '1438963299148775428', '16311161', '1328213293475930112', '1263960926', '18348346', '1603817035', '1359504856294117378', '16909343', '29744014', '209233881', '278603601', '3366493624', '2790631932', '320926447', '1238776140094996481', '1449003595320410120', '1271852329978023943', '1166863790576668672', '4672007292', '1497186479033958401', '1494606505005490177', '2991813337', '58247771', '708712844225806336', '1446921376502329345', '1053384025342128128', '31300038', '917805686037377025', '1059884007171620864', '767015094156980224', '124667938', '922940967296094211', '1322584858804277248', '1010301803064446980', '1929030181', '1361566827483168768', '1399320357224554497', '1355988808395870210', '1279940825116487680', '1343249748', '16242277', '32640164', '2188096878', '955209557189578753', '434275853', '1588858632', '1240565092661563392', '701264221653217281', '825765542816575489', '2167158764', '1203580638', '1421873693966446594'))"
      ]
     },
     "execution_count": 7,
     "metadata": {},
     "output_type": "execute_result"
    }
   ],
   "source": [
    "g_test = nx.Graph()\n",
    "g_test.add_nodes_from(df_sample_set)\n",
    "g_test.nodes"
   ]
  },
  {
   "cell_type": "code",
   "execution_count": 8,
   "metadata": {
    "colab": {
     "base_uri": "https://localhost:8080/"
    },
    "id": "UQBBpJoyTZ9v",
    "outputId": "9ab5434c-8da7-4b5e-ffba-bf60ba6e5c0a"
   },
   "outputs": [],
   "source": [
    "#while g.edges>=len(df)*20/100\n",
    "for node in g_test.nodes:\n",
    "    #print(f\"Working on {node}\")\n",
    "\n",
    "    one = links[links[\"source\"] == node]\n",
    "    two = links[links[\"target\"] == node]\n",
    "    subset_of_links = pd.concat((one, two))\n",
    "    #if len(subset_of_links) > 1:\n",
    "        #print(f\"We found {len(subset_of_links)} links\")\n",
    "\n",
    "    if not subset_of_links.empty:\n",
    "        new_graph = nx.from_pandas_edgelist(subset_of_links)\n",
    "        g_test = nx.compose(g_test, new_graph)"
   ]
  },
  {
   "cell_type": "code",
   "execution_count": 9,
   "metadata": {
    "colab": {
     "base_uri": "https://localhost:8080/"
    },
    "id": "5sJB-HJ5NfLT",
    "outputId": "a8dde902-e59f-4849-8937-f3d0ff7fb6d0"
   },
   "outputs": [],
   "source": [
    "#g.nodes"
   ]
  },
  {
   "cell_type": "code",
   "execution_count": 10,
   "metadata": {
    "colab": {
     "base_uri": "https://localhost:8080/"
    },
    "id": "-GqFu3xiNleM",
    "outputId": "e751495c-c8bb-45c8-b2d6-dbb92da48214"
   },
   "outputs": [],
   "source": [
    "#g.edges"
   ]
  },
  {
   "cell_type": "code",
   "execution_count": 11,
   "metadata": {
    "colab": {
     "base_uri": "https://localhost:8080/"
    },
    "id": "tZYeswcyeD6r",
    "outputId": "08380886-05ba-48a7-a181-391d37783cce"
   },
   "outputs": [
    {
     "data": {
      "text/plain": [
       "285"
      ]
     },
     "execution_count": 11,
     "metadata": {},
     "output_type": "execute_result"
    }
   ],
   "source": [
    "len(g_test.nodes)"
   ]
  },
  {
   "cell_type": "code",
   "execution_count": 12,
   "metadata": {},
   "outputs": [
    {
     "data": {
      "text/plain": [
       "236"
      ]
     },
     "execution_count": 12,
     "metadata": {},
     "output_type": "execute_result"
    }
   ],
   "source": [
    "len(g_test.edges)"
   ]
  },
  {
   "cell_type": "code",
   "execution_count": 13,
   "metadata": {
    "colab": {
     "base_uri": "https://localhost:8080/"
    },
    "id": "VpiK5a4Pe6Px",
    "outputId": "29173123-1c15-407f-88c4-d31a5f684c62"
   },
   "outputs": [
    {
     "data": {
      "text/plain": [
       "102"
      ]
     },
     "execution_count": 13,
     "metadata": {},
     "output_type": "execute_result"
    }
   ],
   "source": [
    "len(df_sample)"
   ]
  },
  {
   "cell_type": "code",
   "execution_count": 14,
   "metadata": {},
   "outputs": [
    {
     "name": "stdout",
     "output_type": "stream",
     "text": [
      "TEST\n",
      "number of nodes = 285 \n",
      "number of edges = 236\n"
     ]
    }
   ],
   "source": [
    "g_test.remove_edges_from(list(nx.selfloop_edges(g_test))) #rimuovere selfloops\n",
    "g_test.remove_nodes_from(list(nx.isolates(g_test)))       #rimuovere nodi isolati\n",
    "\n",
    "#nx.draw(g_test)\n",
    "print('TEST')\n",
    "print('number of nodes = {} \\n'\n",
    "    'number of edges = {}'.format(g_test.number_of_nodes(), g_test.number_of_edges()))"
   ]
  },
  {
   "cell_type": "markdown",
   "metadata": {},
   "source": [
    "## train_sample"
   ]
  },
  {
   "cell_type": "code",
   "execution_count": 15,
   "metadata": {},
   "outputs": [
    {
     "data": {
      "text/html": [
       "<div>\n",
       "<style scoped>\n",
       "    .dataframe tbody tr th:only-of-type {\n",
       "        vertical-align: middle;\n",
       "    }\n",
       "\n",
       "    .dataframe tbody tr th {\n",
       "        vertical-align: top;\n",
       "    }\n",
       "\n",
       "    .dataframe thead th {\n",
       "        text-align: right;\n",
       "    }\n",
       "</style>\n",
       "<table border=\"1\" class=\"dataframe\">\n",
       "  <thead>\n",
       "    <tr style=\"text-align: right;\">\n",
       "      <th></th>\n",
       "      <th>node</th>\n",
       "      <th>category</th>\n",
       "      <th>label</th>\n",
       "    </tr>\n",
       "  </thead>\n",
       "  <tbody>\n",
       "    <tr>\n",
       "      <th>0</th>\n",
       "      <td>290883</td>\n",
       "      <td>pax</td>\n",
       "      <td>290883</td>\n",
       "    </tr>\n",
       "    <tr>\n",
       "      <th>1</th>\n",
       "      <td>1471971</td>\n",
       "      <td>proukr</td>\n",
       "      <td>1471971</td>\n",
       "    </tr>\n",
       "    <tr>\n",
       "      <th>2</th>\n",
       "      <td>2052911</td>\n",
       "      <td>pax</td>\n",
       "      <td>2052911</td>\n",
       "    </tr>\n",
       "    <tr>\n",
       "      <th>3</th>\n",
       "      <td>2827221</td>\n",
       "      <td>dontcare</td>\n",
       "      <td>2827221</td>\n",
       "    </tr>\n",
       "    <tr>\n",
       "      <th>4</th>\n",
       "      <td>3688111</td>\n",
       "      <td>proukr</td>\n",
       "      <td>3688111</td>\n",
       "    </tr>\n",
       "    <tr>\n",
       "      <th>...</th>\n",
       "      <td>...</td>\n",
       "      <td>...</td>\n",
       "      <td>...</td>\n",
       "    </tr>\n",
       "    <tr>\n",
       "      <th>10179</th>\n",
       "      <td>1502695274241826818</td>\n",
       "      <td>pax</td>\n",
       "      <td>1502695274241826818</td>\n",
       "    </tr>\n",
       "    <tr>\n",
       "      <th>10180</th>\n",
       "      <td>1502720034971521026</td>\n",
       "      <td>proukr</td>\n",
       "      <td>1502720034971521026</td>\n",
       "    </tr>\n",
       "    <tr>\n",
       "      <th>10181</th>\n",
       "      <td>1502799611379036163</td>\n",
       "      <td>prorus</td>\n",
       "      <td>1502799611379036163</td>\n",
       "    </tr>\n",
       "    <tr>\n",
       "      <th>10182</th>\n",
       "      <td>1502964238033297408</td>\n",
       "      <td>proukr</td>\n",
       "      <td>1502964238033297408</td>\n",
       "    </tr>\n",
       "    <tr>\n",
       "      <th>10183</th>\n",
       "      <td>1502964370095341569</td>\n",
       "      <td>pax</td>\n",
       "      <td>1502964370095341569</td>\n",
       "    </tr>\n",
       "  </tbody>\n",
       "</table>\n",
       "<p>10082 rows × 3 columns</p>\n",
       "</div>"
      ],
      "text/plain": [
       "                      node  category                label\n",
       "0                   290883       pax               290883\n",
       "1                  1471971    proukr              1471971\n",
       "2                  2052911       pax              2052911\n",
       "3                  2827221  dontcare              2827221\n",
       "4                  3688111    proukr              3688111\n",
       "...                    ...       ...                  ...\n",
       "10179  1502695274241826818       pax  1502695274241826818\n",
       "10180  1502720034971521026    proukr  1502720034971521026\n",
       "10181  1502799611379036163    prorus  1502799611379036163\n",
       "10182  1502964238033297408    proukr  1502964238033297408\n",
       "10183  1502964370095341569       pax  1502964370095341569\n",
       "\n",
       "[10082 rows x 3 columns]"
      ]
     },
     "execution_count": 15,
     "metadata": {},
     "output_type": "execute_result"
    }
   ],
   "source": [
    "#create train\n",
    "df_train = pd.concat([df,df_sample]).drop_duplicates(keep=False)\n",
    "df_train"
   ]
  },
  {
   "cell_type": "code",
   "execution_count": 16,
   "metadata": {},
   "outputs": [],
   "source": [
    "df_train_sample = df_train.sample(frac = 0.05, axis = \"index\")"
   ]
  },
  {
   "cell_type": "code",
   "execution_count": 17,
   "metadata": {},
   "outputs": [],
   "source": [
    "df_sample_train_set = set(df_train_sample[\"node\"])"
   ]
  },
  {
   "cell_type": "code",
   "execution_count": 18,
   "metadata": {},
   "outputs": [
    {
     "data": {
      "text/plain": [
       "NodeView(('3336987819', '1447380810408005634', '1252997479', '2442672558', '1485388309362790405', '1150093577256603648', '797442530438692864', '18954472', '1273661910', '3017901893', '1254209545662013440', '1481369987726069761', '946479091393486848', '312633500', '1372675463483695114', '794519571294261248', '22041669', '911937330', '14118020', '272152883', '411295303', '257268909', '134601375', '1499201862456778753', '1177583243887091712', '1475529749627875335', '17001893', '123536206', '485063569', '529991739', '993617920147079170', '999759383830679553', '283708433', '1477316626768924674', '37866989', '839669114578747392', '885974198719533057', '126899523', '100469505', '22875032', '535183753', '1325231934314721281', '2839517127', '325570275', '45890260', '250030126', '2705021885', '480680299', '804424518899007494', '792200936605310976', '2206800207', '1307368264167755780', '1175171465827823618', '1336007929758175232', '49697422', '1276416237669670913', '513534321', '292061074', '962694186855206914', '1498737968667889666', '862242937156976642', '734096455728783360', '20473964', '852262961511112704', '40275745', '50615511', '178643267', '315180337', '1093849184111861761', '853681121049161728', '914941307004571648', '977563943345491969', '520570656', '2923534360', '1500198758654611468', '1952908578', '1245048562230136835', '4194599482', '2389738746', '3391198715', '828810543918088197', '26733146', '772465605731418112', '1458848511835918343', '194882198', '603646548', '43302081', '2786924497', '1223404015431618562', '1445407648313221122', '1266323616200888320', '1331435821291991040', '110185291', '974614259333246977', '1143937516871004161', '2876041031', '1097611710662361094', '888080672237264898', '2862661283', '873245299782942722', '3309219404', '728108946', '1037810818363150336', '1260658968814333952', '1383154722383794180', '526041680', '15652824', '865232482307719168', '779672893902860290', '22773951', '1440483358027304968', '45643787', '963709502', '2767095967', '709473725', '2898770241', '1144095580219740166', '1376648654338076673', '446839130', '451428588', '732066798', '832980184601092096', '3613604244', '559023147', '1311119304339980290', '1223745907818221568', '297048264', '2166228729', '107563743', '242341151', '1040775609251713024', '1149658282421837824', '1292463168166526976', '84919437', '1440363365746950155', '972826051', '18427567', '185580558', '2687653669', '1049500627263520772', '38177456', '1500847381201530886', '2512810447', '1499471877051494408', '812108833849868288', '4552846169', '1277943452525891585', '1133130158108545025', '392288903', '17961813', '166339467', '2186669863', '19335456', '1482678050940764169', '895688090563620864', '1149048026801090561', '2174264578', '431400144', '62514553', '966329021880590337', '1362459944658767872', '884207218215854080', '749198618821791744', '1603331444', '1424400327407714318', '1358152121556873217', '1286827629832699904', '1436027141213335554', '2413099602', '1162708344345440262', '895614591455170561', '589606816', '1457010588211613702', '849411796171620352', '1292258485854449664', '109378565', '15074415', '1100319965226373120', '1961105160', '3305451200', '15189852', '1500707532855287817', '930709326', '1394798504409804800', '1459188554043731975', '1965745129', '1064266893551382529', '88759671', '1128640661605851136', '3428285782', '1484155658262167555', '1493856955', '1035780987022655488', '30921004', '785523420414947328', '3065680671', '16169151', '1029073958220570626', '1492187303170633729', '1245724551230750723', '2989821190', '1267852756150366210', '4311714155', '2367642810', '1320676370372935682', '40439535', '393007143', '90776175', '1242393046769192961', '1495892938622218241', '2605915484', '1125533227735769088', '536549984', '1356271740', '252553444', '1467530419306389515', '803612732', '1338942281458573313', '1476795757730713602', '2367915778', '16867563', '514566856', '2275116368', '864700002', '1362389025982717952', '351744755', '1363717893519630340', '1115467082', '1487197196906815489', '1457619003103485956', '2866284167', '2495438810', '52990866', '25113881', '1423649910512029703', '1269708306618159106', '1514832626', '1429536257873485829', '1458804361795153929', '56182209', '1494474695168593922', '1463911481548984324', '42471578', '1193963046', '1127655577', '2892785058', '834874610558599168', '49256882', '777674254812753920', '747943212451528705', '1473700998745100291', '2273474011', '862106769862078464', '843434629994635265', '206276892', '328756439', '723792471134736384', '179336926', '611853672', '1346282509819113474', '28186041', '1468304357808816128', '2898499381', '1012961360', '1461948125996666882', '15693168', '2193927013', '554758317', '1625647189', '2407746385', '1405548033459339272', '1245110623253430278', '2167067305', '1029146500473995264', '4937571', '188456691', '1427315580940394506', '1005798791918866435', '927669970779103232', '475838658', '88188974', '635339399', '1430529942119452678', '993061609479254016', '570951911', '414013724', '823583545100816390', '848279118', '821901517', '349752072', '2753544689', '239388228', '967718579192913920', '119164489', '467377707', '748362288', '823695001209176064', '1046759783653670914', '236850385', '1314121453462315008', '1010443060524838912', '1022532822651654145', '1467794202960572419', '1413158820449292290', '1267630909836144642', '82491197', '422023154', '844002818117767168', '1477297140967907331', '2766501987', '1322965350678437890', '1431676128960434178', '1487959931898707970', '3003886063', '858509735607361536', '95888742', '1024496265755865090', '1412667974272552961', '1266436555524243458', '1243541436982755328', '1059618570135527427', '1496822206462054401', '134917795', '1284579672', '1167775229109837825', '972945966914527234', '4824106709', '3178621751', '459186852', '1457428041194377218', '403118869', '942447002', '3035950295', '1491150008242028544', '1104763252565856256', '322442915', '1298967295096745986', '1497527662839017473', '3220414333', '3406216186', '216272522', '4716427349', '44851811', '1349084310024949761', '1084961002410598400', '1477930118', '880061763684892672', '16620002', '1346343362', '2187999125', '559977786', '18725885', '966756279673851904', '1357289956125929472', '1852712251', '1493388035614027776', '871150390217146368', '1222516456014872578', '1279024951949881344', '2230699357', '141468479', '1288787904567947264', '1393528614730321922', '742691189514772484', '34881706', '1152565186064277504', '264392955', '1464215140493152263', '1486397215673397251', '83198074', '21430872', '17217502', '886653465602273281', '979847862', '145619730', '51467779', '804047193707606016', '2923055007', '2745183258', '2313865992', '1595637320', '1491160523160924176', '3112934578', '1341713999713296385', '1426418968873652224', '26335316', '1247260723480231939', '618390979', '2180141025', '271054486', '1419712262252662786', '831248271716802560', '18811949', '353091467', '360732250', '1491318050', '1259148201413742598', '1219853635', '718933489173807104', '2792605010', '227473414', '2756585388', '983340228', '61292316', '909477905737990144', '810751759', '906273126', '219477594', '297813399', '15679351', '2162889720', '282914879', '903955081732567041', '972602601865916417', '1377179025160904706', '1045027402357780480', '153177381', '252909381', '724367071375687680', '2724960925', '1205466239776243712', '72325145', '762415258304675840', '1429339321711038464', '65612538', '19830107', '562662650', '2934175713', '1963097234', '713361053355081728', '1365990234', '48074103', '1065614963111276546', '1362456609214132224', '1096522836007473152', '1307865457903448064', '1496956126763626499', '17302067', '1041373516124307456', '883356036211421185', '2298289777', '1500072520195706883', '245960120', '828666082835701760', '53166374', '1013158968477265922', '1231591214211829760', '257599859', '324975557', '1272014784', '1718357838', '854084992137408512', '2671224402', '591538799', '1441723165453938700', '533212881', '584834521', '1266866592421298176', '1497472221291425795', '1140183523', '1262857083017297920', '945760285771599872', '395953021', '1052521027', '2765857438', '1061096712', '1346166191967113217', '65617648', '765254583891419136', '704280944581218304', '129091518', '1244306606441070594', '1302396014280794119', '4123538056', '2179843303', '3228494085', '1129691554627706880', '1123217857', '948245525484261376', '84440104', '1228805862363455489', '1491214070728515585', '738042086', '2850058686', '96447774', '278103259', '492010683', '428570381', '253006422', '2241370434', '21754958', '1240648308407840768', '2950121078', '1559021472', '904725215393009665', '1275047203887820807', '1163385451287212032', '867121998', '803782681276416002', '461297634', '368198105', '19465759', '934889626216656896', '481632001'))"
      ]
     },
     "execution_count": 18,
     "metadata": {},
     "output_type": "execute_result"
    }
   ],
   "source": [
    "G_train = nx.Graph()\n",
    "G_train.add_nodes_from(df_sample_train_set)\n",
    "G_train.nodes"
   ]
  },
  {
   "cell_type": "code",
   "execution_count": 19,
   "metadata": {},
   "outputs": [],
   "source": [
    "#while g.edges>=len(df)*20/100\n",
    "for node in G_train.nodes:\n",
    "    #print(f\"Working on {node}\")\n",
    "\n",
    "    one = links[links[\"source\"] == node]\n",
    "    two = links[links[\"target\"] == node]\n",
    "    subset_of_links = pd.concat((one, two))\n",
    "    #if len(subset_of_links) > 1:\n",
    "        #print(f\"We found {len(subset_of_links)} links\")\n",
    "\n",
    "    if not subset_of_links.empty:\n",
    "        new_graph = nx.from_pandas_edgelist(subset_of_links)\n",
    "        G_train = nx.compose(G_train, new_graph)"
   ]
  },
  {
   "cell_type": "code",
   "execution_count": 20,
   "metadata": {},
   "outputs": [
    {
     "data": {
      "text/plain": [
       "1048"
      ]
     },
     "execution_count": 20,
     "metadata": {},
     "output_type": "execute_result"
    }
   ],
   "source": [
    "len(G_train.nodes())"
   ]
  },
  {
   "cell_type": "code",
   "execution_count": 21,
   "metadata": {},
   "outputs": [
    {
     "data": {
      "text/plain": [
       "1008"
      ]
     },
     "execution_count": 21,
     "metadata": {},
     "output_type": "execute_result"
    }
   ],
   "source": [
    "len(G_train.edges())"
   ]
  },
  {
   "cell_type": "code",
   "execution_count": 22,
   "metadata": {},
   "outputs": [
    {
     "name": "stdout",
     "output_type": "stream",
     "text": [
      "TRAIN\n",
      "number of nodes = 1048 \n",
      "number of edges = 1008\n"
     ]
    }
   ],
   "source": [
    "G_train.remove_edges_from(list(nx.selfloop_edges(G_train))) #rimuovere selfloops\n",
    "G_train.remove_nodes_from(list(nx.isolates(G_train)))       #rimuovere nodi isolati\n",
    "#nx.draw(G_train)\n",
    "print('TRAIN')\n",
    "print('number of nodes = {} \\n'\n",
    "    'number of edges = {}'.format(G_train.number_of_nodes(), G_train.number_of_edges()))"
   ]
  },
  {
   "cell_type": "markdown",
   "metadata": {},
   "source": [
    "# Link prediction"
   ]
  },
  {
   "cell_type": "code",
   "execution_count": 25,
   "metadata": {},
   "outputs": [],
   "source": [
    "import linkpred\n",
    "%matplotlib inline "
   ]
  },
  {
   "cell_type": "code",
   "execution_count": 26,
   "metadata": {},
   "outputs": [
    {
     "name": "stdout",
     "output_type": "stream",
     "text": [
      "2956836471 - 2202063265 10.0\n",
      "2202063265 - 1317817827970134025 6.0\n",
      "810751759 - 324975557 4.0\n",
      "810751759 - 242341151 4.0\n",
      "2956836471 - 1317817827970134025 4.0\n",
      "27493883 - 17027632 4.0\n",
      "821901517 - 324975557 3.0\n",
      "820731335157383170 - 2202063265 3.0\n",
      "820731335157383170 - 1317817827970134025 3.0\n",
      "810751759 - 178643267 3.0\n"
     ]
    }
   ],
   "source": [
    "cn = linkpred.predictors.CommonNeighbours(G_train, excluded=G_train.edges()) # We aim to predict only new links, thus we exclude existing ones\n",
    "cn_results = cn.predict()\n",
    "\n",
    "top = cn_results.top()\n",
    "for edge, score in top.items():\n",
    "    print(edge, score)"
   ]
  },
  {
   "cell_type": "code",
   "execution_count": 27,
   "metadata": {},
   "outputs": [
    {
     "name": "stdout",
     "output_type": "stream",
     "text": [
      "999759383830679553 - 972826051 1.0\n",
      "999759383830679553 - 848279118 1.0\n",
      "999759383830679553 - 44851811 1.0\n",
      "999759383830679553 - 1852712251 1.0\n",
      "999759383830679553 - 1625647189 1.0\n",
      "999759383830679553 - 1045027402357780480 1.0\n",
      "998516058158968832 - 882305825188048896 1.0\n",
      "998516058158968832 - 857604230496038912 1.0\n",
      "998516058158968832 - 825127941507944448 1.0\n",
      "998516058158968832 - 65586117 1.0\n"
     ]
    }
   ],
   "source": [
    "jc = linkpred.predictors.Jaccard(G_train, excluded=G_train.edges())\n",
    "jc_results = jc.predict()\n",
    "\n",
    "top = jc_results.top()\n",
    "for edge, score in top.items():\n",
    "    print(edge, score)"
   ]
  },
  {
   "cell_type": "code",
   "execution_count": 28,
   "metadata": {},
   "outputs": [
    {
     "name": "stdout",
     "output_type": "stream",
     "text": [
      "2956836471 - 2202063265 8.863826132622108\n",
      "27493883 - 17027632 5.7707801635558535\n",
      "2202063265 - 1317817827970134025 4.8793051180349885\n",
      "27493883 - 2301844336 2.8853900817779268\n",
      "2956836471 - 2616995078 2.544928322411563\n",
      "2956836471 - 1317817827970134025 2.5263708505191875\n",
      "61292316 - 2174264578 2.352934267515801\n",
      "27493883 - 1270133776748855304 2.352934267515801\n",
      "468851612 - 1270133776748855304 2.164042561333445\n",
      "242341151 - 178643267 2.0463415631927218\n"
     ]
    }
   ],
   "source": [
    "aa = linkpred.predictors.AdamicAdar(G_train, excluded=G_train.edges())\n",
    "aa_results = aa.predict()\n",
    "\n",
    "top = aa_results.top()\n",
    "for edge, score in top.items():\n",
    "    print(edge, score)"
   ]
  },
  {
   "cell_type": "markdown",
   "metadata": {},
   "source": [
    "# Evaluation and comparison of different predictors"
   ]
  },
  {
   "cell_type": "code",
   "execution_count": 23,
   "metadata": {},
   "outputs": [],
   "source": [
    "import random\n",
    "import itertools\n",
    "from linkpred.evaluation import Pair\n",
    "\n",
    "# Node set\n",
    "nodes = list(G_train.nodes())\n",
    "nodes.extend(list(g_test.nodes()))\n",
    "\n",
    "# Compute the test set and the universe set\n",
    "test = [Pair(i) for i in g_test.edges()]\n",
    "universe = set([Pair(i) for i in itertools.product(nodes, nodes) if i[0]!=i[1]])"
   ]
  },
  {
   "cell_type": "code",
   "execution_count": 24,
   "metadata": {},
   "outputs": [
    {
     "data": {
      "text/plain": [
       "813450"
      ]
     },
     "execution_count": 24,
     "metadata": {},
     "output_type": "execute_result"
    }
   ],
   "source": [
    "len(universe)"
   ]
  },
  {
   "cell_type": "code",
   "execution_count": 29,
   "metadata": {
    "scrolled": true
   },
   "outputs": [],
   "source": [
    "cn_evaluation = linkpred.evaluation.EvaluationSheet(cn_results, test, universe)"
   ]
  },
  {
   "cell_type": "code",
   "execution_count": 30,
   "metadata": {},
   "outputs": [
    {
     "data": {
      "text/plain": [
       "array([0., 0., 0., ..., 0., 0., 0.])"
      ]
     },
     "execution_count": 30,
     "metadata": {},
     "output_type": "execute_result"
    }
   ],
   "source": [
    "cn_evaluation.recall()"
   ]
  },
  {
   "cell_type": "code",
   "execution_count": 31,
   "metadata": {},
   "outputs": [
    {
     "name": "stdout",
     "output_type": "stream",
     "text": [
      "Common Neigh.: \t 0.0\n"
     ]
    }
   ],
   "source": [
    "print(f\"Common Neigh.: \\t {auc(cn_evaluation.fallout(), cn_evaluation.recall())}\")"
   ]
  },
  {
   "cell_type": "code",
   "execution_count": 32,
   "metadata": {},
   "outputs": [
    {
     "data": {
      "image/png": "[encoded data removed]",
      "text/plain": [
       "<Figure size 432x288 with 1 Axes>"
      ]
     },
     "metadata": {
      "needs_background": "light"
     },
     "output_type": "display_data"
    }
   ],
   "source": [
    "plt.plot(cn_evaluation.fallout(), cn_evaluation.recall(), label=\"Common Neighbors\")\n",
    "plt.ylabel(\"TPR\")\n",
    "plt.xlabel(\"FPR\")\n",
    "plt.legend()\n",
    "plt.show()"
   ]
  },
  {
   "cell_type": "code",
   "execution_count": null,
   "metadata": {},
   "outputs": [],
   "source": [
    "aa_evaluation = linkpred.evaluation.EvaluationSheet(aa_results, test, universe)"
   ]
  },
  {
   "cell_type": "code",
   "execution_count": null,
   "metadata": {},
   "outputs": [],
   "source": [
    "jc_evaluation = linkpred.evaluation.EvaluationSheet(jc_results, test, universe)"
   ]
  },
  {
   "cell_type": "code",
   "execution_count": null,
   "metadata": {},
   "outputs": [],
   "source": [
    "plt.plot(cn_evaluation.fallout(), cn_evaluation.recall(), label=\"Common Neighbors\")\n",
    "plt.plot(aa_evaluation.fallout(), aa_evaluation.recall(), label=\"Adamic Adar\")\n",
    "plt.plot(jc_evaluation.fallout(), jc_evaluation.recall(), label=\"Jaccard\")\n",
    "plt.ylabel(\"TPR\")\n",
    "plt.xlabel(\"FPR\")\n",
    "plt.legend()\n",
    "plt.show()"
   ]
  },
  {
   "cell_type": "code",
   "execution_count": null,
   "metadata": {},
   "outputs": [],
   "source": [
    "\n",
    "\n",
    "print(\"Area Under Roc Curve (AUROC)\")\n",
    "print(f\"Common Neigh.: \\t {auc(cn_evaluation.fallout(), cn_evaluation.recall())}\")\n",
    "print(f\"Adamic Adar: \\t {auc(aa_evaluation.fallout(), aa_evaluation.recall())}\")\n",
    "print(f\"Jaccard: \\t {auc(jc_evaluation.fallout(), jc_evaluation.recall())}\")"
   ]
  },
  {
   "cell_type": "code",
   "execution_count": null,
   "metadata": {},
   "outputs": [],
   "source": []
  }
 ],
 "metadata": {
  "colab": {
   "provenance": []
  },
  "kernelspec": {
   "display_name": "Python 3 (ipykernel)",
   "language": "python",
   "name": "python3"
  },
  "language_info": {
   "codemirror_mode": {
    "name": "ipython",
    "version": 3
   },
   "file_extension": ".py",
   "mimetype": "text/x-python",
   "name": "python",
   "nbconvert_exporter": "python",
   "pygments_lexer": "ipython3",
   "version": "3.10.5"
  }
 },
 "nbformat": 4,
 "nbformat_minor": 1
}
