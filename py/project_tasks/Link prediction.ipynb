{
 "cells": [
  {
   "cell_type": "markdown",
   "id": "422193ce",
   "metadata": {},
   "source": [
    "### LINK PREDICTION "
   ]
  },
  {
   "cell_type": "markdown",
   "id": "869b42f6",
   "metadata": {},
   "source": [
    "### import libraries "
   ]
  },
  {
   "cell_type": "code",
   "execution_count": 3,
   "id": "eb71d55d",
   "metadata": {},
   "outputs": [],
   "source": [
    "#per creare rete\n",
    "import pandas as pd\n",
    "from rich import print\n",
    "import networkx as nx\n",
    "#import networkx.algorithms as nx\n",
    "import pandas as pd\n",
    "import matplotlib.pyplot as plt\n",
    "from networkx.utils import np_random_state\n",
    "\n",
    "#per link prediction\n",
    "import linkpred\n",
    "%matplotlib inline \n",
    "\n",
    "##per opinion diffusion\n",
    "#import ndlib\n",
    "#import networkx as nx\n",
    "#import ndlib.models.ModelConfig as mc\n",
    "#import ndlib.models.opinions as op\n",
    "\n",
    "#altre\n",
    "import seaborn as sns\n",
    "import numpy as np\n",
    "import math\n",
    "import warnings\n",
    "from collections import Counter\n",
    "import numpy as np\n",
    "warnings.filterwarnings('ignore')"
   ]
  },
  {
   "cell_type": "code",
   "execution_count": 15,
   "id": "1a4ae11f",
   "metadata": {},
   "outputs": [
    {
     "data": {
      "text/html": [
       "<div>\n",
       "<style scoped>\n",
       "    .dataframe tbody tr th:only-of-type {\n",
       "        vertical-align: middle;\n",
       "    }\n",
       "\n",
       "    .dataframe tbody tr th {\n",
       "        vertical-align: top;\n",
       "    }\n",
       "\n",
       "    .dataframe thead th {\n",
       "        text-align: right;\n",
       "    }\n",
       "</style>\n",
       "<table border=\"1\" class=\"dataframe\">\n",
       "  <thead>\n",
       "    <tr style=\"text-align: right;\">\n",
       "      <th></th>\n",
       "      <th>Unnamed: 0</th>\n",
       "      <th>source</th>\n",
       "      <th>target</th>\n",
       "      <th>w</th>\n",
       "      <th>id</th>\n",
       "    </tr>\n",
       "  </thead>\n",
       "  <tbody>\n",
       "    <tr>\n",
       "      <th>0</th>\n",
       "      <td>0</td>\n",
       "      <td>290883</td>\n",
       "      <td>2956836471</td>\n",
       "      <td>0.022888</td>\n",
       "      <td>0</td>\n",
       "    </tr>\n",
       "    <tr>\n",
       "      <th>1</th>\n",
       "      <td>1</td>\n",
       "      <td>1471971</td>\n",
       "      <td>1205226529455632385</td>\n",
       "      <td>0.000000</td>\n",
       "      <td>2</td>\n",
       "    </tr>\n",
       "    <tr>\n",
       "      <th>2</th>\n",
       "      <td>2</td>\n",
       "      <td>2052911</td>\n",
       "      <td>1401015246718914560</td>\n",
       "      <td>0.066731</td>\n",
       "      <td>3</td>\n",
       "    </tr>\n",
       "    <tr>\n",
       "      <th>3</th>\n",
       "      <td>3</td>\n",
       "      <td>2052911</td>\n",
       "      <td>2202063265</td>\n",
       "      <td>0.046422</td>\n",
       "      <td>4</td>\n",
       "    </tr>\n",
       "    <tr>\n",
       "      <th>4</th>\n",
       "      <td>4</td>\n",
       "      <td>2052911</td>\n",
       "      <td>1317817827970134025</td>\n",
       "      <td>0.017730</td>\n",
       "      <td>5</td>\n",
       "    </tr>\n",
       "    <tr>\n",
       "      <th>...</th>\n",
       "      <td>...</td>\n",
       "      <td>...</td>\n",
       "      <td>...</td>\n",
       "      <td>...</td>\n",
       "      <td>...</td>\n",
       "    </tr>\n",
       "    <tr>\n",
       "      <th>11963</th>\n",
       "      <td>11963</td>\n",
       "      <td>1499698836117368833</td>\n",
       "      <td>1502720034971521026</td>\n",
       "      <td>0.000000</td>\n",
       "      <td>12762</td>\n",
       "    </tr>\n",
       "    <tr>\n",
       "      <th>11964</th>\n",
       "      <td>11964</td>\n",
       "      <td>1499737837620576256</td>\n",
       "      <td>1501600840628547594</td>\n",
       "      <td>0.010961</td>\n",
       "      <td>12763</td>\n",
       "    </tr>\n",
       "    <tr>\n",
       "      <th>11965</th>\n",
       "      <td>11965</td>\n",
       "      <td>1499737837620576256</td>\n",
       "      <td>1500461594005938179</td>\n",
       "      <td>0.008704</td>\n",
       "      <td>12764</td>\n",
       "    </tr>\n",
       "    <tr>\n",
       "      <th>11966</th>\n",
       "      <td>11966</td>\n",
       "      <td>1499737837620576256</td>\n",
       "      <td>1501482734392422402</td>\n",
       "      <td>0.006447</td>\n",
       "      <td>12765</td>\n",
       "    </tr>\n",
       "    <tr>\n",
       "      <th>11967</th>\n",
       "      <td>11967</td>\n",
       "      <td>1500066105204826113</td>\n",
       "      <td>1501906132637741057</td>\n",
       "      <td>0.000322</td>\n",
       "      <td>12766</td>\n",
       "    </tr>\n",
       "  </tbody>\n",
       "</table>\n",
       "<p>11968 rows × 5 columns</p>\n",
       "</div>"
      ],
      "text/plain": [
       "       Unnamed: 0               source               target         w     id\n",
       "0               0               290883           2956836471  0.022888      0\n",
       "1               1              1471971  1205226529455632385  0.000000      2\n",
       "2               2              2052911  1401015246718914560  0.066731      3\n",
       "3               3              2052911           2202063265  0.046422      4\n",
       "4               4              2052911  1317817827970134025  0.017730      5\n",
       "...           ...                  ...                  ...       ...    ...\n",
       "11963       11963  1499698836117368833  1502720034971521026  0.000000  12762\n",
       "11964       11964  1499737837620576256  1501600840628547594  0.010961  12763\n",
       "11965       11965  1499737837620576256  1500461594005938179  0.008704  12764\n",
       "11966       11966  1499737837620576256  1501482734392422402  0.006447  12765\n",
       "11967       11967  1500066105204826113  1501906132637741057  0.000322  12766\n",
       "\n",
       "[11968 rows x 5 columns]"
      ]
     },
     "execution_count": 15,
     "metadata": {},
     "output_type": "execute_result"
    }
   ],
   "source": [
    "G=nx.read_gexf('final_net.gexf')\n",
    "df_edges=pd.read_csv('df_final_edges')\n",
    "df_edges"
   ]
  },
  {
   "cell_type": "code",
   "execution_count": 6,
   "id": "dccc68f7",
   "metadata": {},
   "outputs": [
    {
     "data": {
      "text/plain": [
       "11968"
      ]
     },
     "execution_count": 6,
     "metadata": {},
     "output_type": "execute_result"
    }
   ],
   "source": [
    "G.number_of_edges()"
   ]
  },
  {
   "cell_type": "code",
   "execution_count": 7,
   "id": "ee98a1a1",
   "metadata": {},
   "outputs": [
    {
     "data": {
      "text/plain": [
       "10184"
      ]
     },
     "execution_count": 7,
     "metadata": {},
     "output_type": "execute_result"
    }
   ],
   "source": [
    "G.number_of_nodes()"
   ]
  },
  {
   "cell_type": "code",
   "execution_count": 16,
   "id": "e83767da",
   "metadata": {},
   "outputs": [],
   "source": [
    "del df_edges['Unnamed: 0']\n",
    "del df_edges['id']\n",
    "del df_edges['w']"
   ]
  },
  {
   "cell_type": "code",
   "execution_count": 17,
   "id": "f5458ce2",
   "metadata": {},
   "outputs": [
    {
     "data": {
      "text/html": [
       "<div>\n",
       "<style scoped>\n",
       "    .dataframe tbody tr th:only-of-type {\n",
       "        vertical-align: middle;\n",
       "    }\n",
       "\n",
       "    .dataframe tbody tr th {\n",
       "        vertical-align: top;\n",
       "    }\n",
       "\n",
       "    .dataframe thead th {\n",
       "        text-align: right;\n",
       "    }\n",
       "</style>\n",
       "<table border=\"1\" class=\"dataframe\">\n",
       "  <thead>\n",
       "    <tr style=\"text-align: right;\">\n",
       "      <th></th>\n",
       "      <th>source</th>\n",
       "      <th>target</th>\n",
       "    </tr>\n",
       "  </thead>\n",
       "  <tbody>\n",
       "    <tr>\n",
       "      <th>0</th>\n",
       "      <td>290883</td>\n",
       "      <td>2956836471</td>\n",
       "    </tr>\n",
       "    <tr>\n",
       "      <th>1</th>\n",
       "      <td>1471971</td>\n",
       "      <td>1205226529455632385</td>\n",
       "    </tr>\n",
       "    <tr>\n",
       "      <th>2</th>\n",
       "      <td>2052911</td>\n",
       "      <td>1401015246718914560</td>\n",
       "    </tr>\n",
       "    <tr>\n",
       "      <th>3</th>\n",
       "      <td>2052911</td>\n",
       "      <td>2202063265</td>\n",
       "    </tr>\n",
       "    <tr>\n",
       "      <th>4</th>\n",
       "      <td>2052911</td>\n",
       "      <td>1317817827970134025</td>\n",
       "    </tr>\n",
       "    <tr>\n",
       "      <th>...</th>\n",
       "      <td>...</td>\n",
       "      <td>...</td>\n",
       "    </tr>\n",
       "    <tr>\n",
       "      <th>11963</th>\n",
       "      <td>1499698836117368833</td>\n",
       "      <td>1502720034971521026</td>\n",
       "    </tr>\n",
       "    <tr>\n",
       "      <th>11964</th>\n",
       "      <td>1499737837620576256</td>\n",
       "      <td>1501600840628547594</td>\n",
       "    </tr>\n",
       "    <tr>\n",
       "      <th>11965</th>\n",
       "      <td>1499737837620576256</td>\n",
       "      <td>1500461594005938179</td>\n",
       "    </tr>\n",
       "    <tr>\n",
       "      <th>11966</th>\n",
       "      <td>1499737837620576256</td>\n",
       "      <td>1501482734392422402</td>\n",
       "    </tr>\n",
       "    <tr>\n",
       "      <th>11967</th>\n",
       "      <td>1500066105204826113</td>\n",
       "      <td>1501906132637741057</td>\n",
       "    </tr>\n",
       "  </tbody>\n",
       "</table>\n",
       "<p>11968 rows × 2 columns</p>\n",
       "</div>"
      ],
      "text/plain": [
       "                    source               target\n",
       "0                   290883           2956836471\n",
       "1                  1471971  1205226529455632385\n",
       "2                  2052911  1401015246718914560\n",
       "3                  2052911           2202063265\n",
       "4                  2052911  1317817827970134025\n",
       "...                    ...                  ...\n",
       "11963  1499698836117368833  1502720034971521026\n",
       "11964  1499737837620576256  1501600840628547594\n",
       "11965  1499737837620576256  1500461594005938179\n",
       "11966  1499737837620576256  1501482734392422402\n",
       "11967  1500066105204826113  1501906132637741057\n",
       "\n",
       "[11968 rows x 2 columns]"
      ]
     },
     "execution_count": 17,
     "metadata": {},
     "output_type": "execute_result"
    }
   ],
   "source": [
    "df_edges"
   ]
  },
  {
   "cell_type": "markdown",
   "id": "046ecab4",
   "metadata": {},
   "source": [
    "## Unsupervised link prediction :  Neighborhood\n",
    "Tries to relate neighborhoods of node pairs with the likelihood of observing a tie among them.\n",
    "\n",
    "\"How many friend we have to share in order to become friends?\"\n",
    "### U.1 Common Neighbors\n",
    "The more friends we share, the more likely we will become friends.\n"
   ]
  },
  {
   "cell_type": "code",
   "execution_count": 9,
   "id": "0261eed1",
   "metadata": {},
   "outputs": [
    {
     "data": {
      "text/html": [
       "<pre style=\"white-space:pre;overflow-x:auto;line-height:normal;font-family:Menlo,'DejaVu Sans Mono',consolas,'Courier New',monospace\"><span style=\"color: #008080; text-decoration-color: #008080; font-weight: bold\">2202063265</span> - <span style=\"color: #008080; text-decoration-color: #008080; font-weight: bold\">1401015246718914560</span> <span style=\"color: #008080; text-decoration-color: #008080; font-weight: bold\">49.0</span>\n",
       "</pre>\n"
      ],
      "text/plain": [
       "\u001b[1;36m2202063265\u001b[0m - \u001b[1;36m1401015246718914560\u001b[0m \u001b[1;36m49.0\u001b[0m\n"
      ]
     },
     "metadata": {},
     "output_type": "display_data"
    },
    {
     "data": {
      "text/html": [
       "<pre style=\"white-space:pre;overflow-x:auto;line-height:normal;font-family:Menlo,'DejaVu Sans Mono',consolas,'Courier New',monospace\"><span style=\"color: #008080; text-decoration-color: #008080; font-weight: bold\">2956836471</span> - <span style=\"color: #008080; text-decoration-color: #008080; font-weight: bold\">2616995078</span> <span style=\"color: #008080; text-decoration-color: #008080; font-weight: bold\">47.0</span>\n",
       "</pre>\n"
      ],
      "text/plain": [
       "\u001b[1;36m2956836471\u001b[0m - \u001b[1;36m2616995078\u001b[0m \u001b[1;36m47.0\u001b[0m\n"
      ]
     },
     "metadata": {},
     "output_type": "display_data"
    },
    {
     "data": {
      "text/html": [
       "<pre style=\"white-space:pre;overflow-x:auto;line-height:normal;font-family:Menlo,'DejaVu Sans Mono',consolas,'Courier New',monospace\"><span style=\"color: #008080; text-decoration-color: #008080; font-weight: bold\">27493883</span> - <span style=\"color: #008080; text-decoration-color: #008080; font-weight: bold\">1270133776748855304</span> <span style=\"color: #008080; text-decoration-color: #008080; font-weight: bold\">34.0</span>\n",
       "</pre>\n"
      ],
      "text/plain": [
       "\u001b[1;36m27493883\u001b[0m - \u001b[1;36m1270133776748855304\u001b[0m \u001b[1;36m34.0\u001b[0m\n"
      ]
     },
     "metadata": {},
     "output_type": "display_data"
    },
    {
     "data": {
      "text/html": [
       "<pre style=\"white-space:pre;overflow-x:auto;line-height:normal;font-family:Menlo,'DejaVu Sans Mono',consolas,'Courier New',monospace\"><span style=\"color: #008080; text-decoration-color: #008080; font-weight: bold\">27493883</span> - <span style=\"color: #008080; text-decoration-color: #008080; font-weight: bold\">1205226529455632385</span> <span style=\"color: #008080; text-decoration-color: #008080; font-weight: bold\">32.0</span>\n",
       "</pre>\n"
      ],
      "text/plain": [
       "\u001b[1;36m27493883\u001b[0m - \u001b[1;36m1205226529455632385\u001b[0m \u001b[1;36m32.0\u001b[0m\n"
      ]
     },
     "metadata": {},
     "output_type": "display_data"
    },
    {
     "data": {
      "text/html": [
       "<pre style=\"white-space:pre;overflow-x:auto;line-height:normal;font-family:Menlo,'DejaVu Sans Mono',consolas,'Courier New',monospace\"><span style=\"color: #008080; text-decoration-color: #008080; font-weight: bold\">2616995078</span> - <span style=\"color: #008080; text-decoration-color: #008080; font-weight: bold\">2202063265</span> <span style=\"color: #008080; text-decoration-color: #008080; font-weight: bold\">32.0</span>\n",
       "</pre>\n"
      ],
      "text/plain": [
       "\u001b[1;36m2616995078\u001b[0m - \u001b[1;36m2202063265\u001b[0m \u001b[1;36m32.0\u001b[0m\n"
      ]
     },
     "metadata": {},
     "output_type": "display_data"
    },
    {
     "data": {
      "text/html": [
       "<pre style=\"white-space:pre;overflow-x:auto;line-height:normal;font-family:Menlo,'DejaVu Sans Mono',consolas,'Courier New',monospace\"><span style=\"color: #008080; text-decoration-color: #008080; font-weight: bold\">1401015246718914560</span> - <span style=\"color: #008080; text-decoration-color: #008080; font-weight: bold\">1317817827970134025</span> <span style=\"color: #008080; text-decoration-color: #008080; font-weight: bold\">30.0</span>\n",
       "</pre>\n"
      ],
      "text/plain": [
       "\u001b[1;36m1401015246718914560\u001b[0m - \u001b[1;36m1317817827970134025\u001b[0m \u001b[1;36m30.0\u001b[0m\n"
      ]
     },
     "metadata": {},
     "output_type": "display_data"
    },
    {
     "data": {
      "text/html": [
       "<pre style=\"white-space:pre;overflow-x:auto;line-height:normal;font-family:Menlo,'DejaVu Sans Mono',consolas,'Courier New',monospace\"><span style=\"color: #008080; text-decoration-color: #008080; font-weight: bold\">790870659333259264</span> - <span style=\"color: #008080; text-decoration-color: #008080; font-weight: bold\">2202063265</span> <span style=\"color: #008080; text-decoration-color: #008080; font-weight: bold\">29.0</span>\n",
       "</pre>\n"
      ],
      "text/plain": [
       "\u001b[1;36m790870659333259264\u001b[0m - \u001b[1;36m2202063265\u001b[0m \u001b[1;36m29.0\u001b[0m\n"
      ]
     },
     "metadata": {},
     "output_type": "display_data"
    },
    {
     "data": {
      "text/html": [
       "<pre style=\"white-space:pre;overflow-x:auto;line-height:normal;font-family:Menlo,'DejaVu Sans Mono',consolas,'Courier New',monospace\"><span style=\"color: #008080; text-decoration-color: #008080; font-weight: bold\">820731335157383170</span> - <span style=\"color: #008080; text-decoration-color: #008080; font-weight: bold\">1401015246718914560</span> <span style=\"color: #008080; text-decoration-color: #008080; font-weight: bold\">24.0</span>\n",
       "</pre>\n"
      ],
      "text/plain": [
       "\u001b[1;36m820731335157383170\u001b[0m - \u001b[1;36m1401015246718914560\u001b[0m \u001b[1;36m24.0\u001b[0m\n"
      ]
     },
     "metadata": {},
     "output_type": "display_data"
    },
    {
     "data": {
      "text/html": [
       "<pre style=\"white-space:pre;overflow-x:auto;line-height:normal;font-family:Menlo,'DejaVu Sans Mono',consolas,'Courier New',monospace\"><span style=\"color: #008080; text-decoration-color: #008080; font-weight: bold\">2616995078</span> - <span style=\"color: #008080; text-decoration-color: #008080; font-weight: bold\">1317817827970134025</span> <span style=\"color: #008080; text-decoration-color: #008080; font-weight: bold\">24.0</span>\n",
       "</pre>\n"
      ],
      "text/plain": [
       "\u001b[1;36m2616995078\u001b[0m - \u001b[1;36m1317817827970134025\u001b[0m \u001b[1;36m24.0\u001b[0m\n"
      ]
     },
     "metadata": {},
     "output_type": "display_data"
    },
    {
     "data": {
      "text/html": [
       "<pre style=\"white-space:pre;overflow-x:auto;line-height:normal;font-family:Menlo,'DejaVu Sans Mono',consolas,'Courier New',monospace\"><span style=\"color: #008080; text-decoration-color: #008080; font-weight: bold\">790870659333259264</span> - <span style=\"color: #008080; text-decoration-color: #008080; font-weight: bold\">1317817827970134025</span> <span style=\"color: #008080; text-decoration-color: #008080; font-weight: bold\">20.0</span>\n",
       "</pre>\n"
      ],
      "text/plain": [
       "\u001b[1;36m790870659333259264\u001b[0m - \u001b[1;36m1317817827970134025\u001b[0m \u001b[1;36m20.0\u001b[0m\n"
      ]
     },
     "metadata": {},
     "output_type": "display_data"
    }
   ],
   "source": [
    "cn = linkpred.predictors.CommonNeighbours(G, excluded=G.edges()) # We aim to predict only new links, thus we exclude existing ones\n",
    "cn_results = cn.predict()\n",
    "\n",
    "top = cn_results.top()\n",
    "for edge, score in top.items():\n",
    "    print(edge, score)"
   ]
  },
  {
   "cell_type": "markdown",
   "id": "bc2d8da1",
   "metadata": {},
   "source": [
    "### U.2 Jaccard\n",
    "The more similar our friends circles are, the more likely we will become friends."
   ]
  },
  {
   "cell_type": "code",
   "execution_count": 10,
   "id": "863f7b6e",
   "metadata": {},
   "outputs": [
    {
     "data": {
      "text/html": [
       "<pre style=\"white-space:pre;overflow-x:auto;line-height:normal;font-family:Menlo,'DejaVu Sans Mono',consolas,'Courier New',monospace\"><span style=\"color: #008080; text-decoration-color: #008080; font-weight: bold\">999759383830679553</span> - <span style=\"color: #008080; text-decoration-color: #008080; font-weight: bold\">976625864157868033</span> <span style=\"color: #008080; text-decoration-color: #008080; font-weight: bold\">1.0</span>\n",
       "</pre>\n"
      ],
      "text/plain": [
       "\u001b[1;36m999759383830679553\u001b[0m - \u001b[1;36m976625864157868033\u001b[0m \u001b[1;36m1.0\u001b[0m\n"
      ]
     },
     "metadata": {},
     "output_type": "display_data"
    },
    {
     "data": {
      "text/html": [
       "<pre style=\"white-space:pre;overflow-x:auto;line-height:normal;font-family:Menlo,'DejaVu Sans Mono',consolas,'Courier New',monospace\"><span style=\"color: #008080; text-decoration-color: #008080; font-weight: bold\">999759383830679553</span> - <span style=\"color: #008080; text-decoration-color: #008080; font-weight: bold\">972826051</span> <span style=\"color: #008080; text-decoration-color: #008080; font-weight: bold\">1.0</span>\n",
       "</pre>\n"
      ],
      "text/plain": [
       "\u001b[1;36m999759383830679553\u001b[0m - \u001b[1;36m972826051\u001b[0m \u001b[1;36m1.0\u001b[0m\n"
      ]
     },
     "metadata": {},
     "output_type": "display_data"
    },
    {
     "data": {
      "text/html": [
       "<pre style=\"white-space:pre;overflow-x:auto;line-height:normal;font-family:Menlo,'DejaVu Sans Mono',consolas,'Courier New',monospace\"><span style=\"color: #008080; text-decoration-color: #008080; font-weight: bold\">999759383830679553</span> - <span style=\"color: #008080; text-decoration-color: #008080; font-weight: bold\">956566580</span> <span style=\"color: #008080; text-decoration-color: #008080; font-weight: bold\">1.0</span>\n",
       "</pre>\n"
      ],
      "text/plain": [
       "\u001b[1;36m999759383830679553\u001b[0m - \u001b[1;36m956566580\u001b[0m \u001b[1;36m1.0\u001b[0m\n"
      ]
     },
     "metadata": {},
     "output_type": "display_data"
    },
    {
     "data": {
      "text/html": [
       "<pre style=\"white-space:pre;overflow-x:auto;line-height:normal;font-family:Menlo,'DejaVu Sans Mono',consolas,'Courier New',monospace\"><span style=\"color: #008080; text-decoration-color: #008080; font-weight: bold\">999759383830679553</span> - <span style=\"color: #008080; text-decoration-color: #008080; font-weight: bold\">941286290</span> <span style=\"color: #008080; text-decoration-color: #008080; font-weight: bold\">1.0</span>\n",
       "</pre>\n"
      ],
      "text/plain": [
       "\u001b[1;36m999759383830679553\u001b[0m - \u001b[1;36m941286290\u001b[0m \u001b[1;36m1.0\u001b[0m\n"
      ]
     },
     "metadata": {},
     "output_type": "display_data"
    },
    {
     "data": {
      "text/html": [
       "<pre style=\"white-space:pre;overflow-x:auto;line-height:normal;font-family:Menlo,'DejaVu Sans Mono',consolas,'Courier New',monospace\"><span style=\"color: #008080; text-decoration-color: #008080; font-weight: bold\">999759383830679553</span> - <span style=\"color: #008080; text-decoration-color: #008080; font-weight: bold\">92342478</span> <span style=\"color: #008080; text-decoration-color: #008080; font-weight: bold\">1.0</span>\n",
       "</pre>\n"
      ],
      "text/plain": [
       "\u001b[1;36m999759383830679553\u001b[0m - \u001b[1;36m92342478\u001b[0m \u001b[1;36m1.0\u001b[0m\n"
      ]
     },
     "metadata": {},
     "output_type": "display_data"
    }
   ],
   "source": [
    "jc = linkpred.predictors.Jaccard(G, excluded=G.edges())\n",
    "jc_results = jc.predict()\n",
    "\n",
    "top = jc_results.top(5)\n",
    "for edge, score in top.items():\n",
    "    print(edge, score)"
   ]
  },
  {
   "cell_type": "markdown",
   "id": "9353518e",
   "metadata": {},
   "source": [
    "### U.3 Adamic Adar\n",
    "The more selective our mutual friends are, the more likely we will become friends."
   ]
  },
  {
   "cell_type": "code",
   "execution_count": 22,
   "id": "fbaeb586",
   "metadata": {},
   "outputs": [
    {
     "data": {
      "text/html": [
       "<pre style=\"white-space:pre;overflow-x:auto;line-height:normal;font-family:Menlo,'DejaVu Sans Mono',consolas,'Courier New',monospace\"><span style=\"color: #008080; text-decoration-color: #008080; font-weight: bold\">2956836471</span> - <span style=\"color: #008080; text-decoration-color: #008080; font-weight: bold\">2616995078</span> <span style=\"color: #008080; text-decoration-color: #008080; font-weight: bold\">42.28714215169167</span>\n",
       "</pre>\n"
      ],
      "text/plain": [
       "\u001b[1;36m2956836471\u001b[0m - \u001b[1;36m2616995078\u001b[0m \u001b[1;36m42.28714215169167\u001b[0m\n"
      ]
     },
     "metadata": {},
     "output_type": "display_data"
    },
    {
     "data": {
      "text/html": [
       "<pre style=\"white-space:pre;overflow-x:auto;line-height:normal;font-family:Menlo,'DejaVu Sans Mono',consolas,'Courier New',monospace\"><span style=\"color: #008080; text-decoration-color: #008080; font-weight: bold\">27493883</span> - <span style=\"color: #008080; text-decoration-color: #008080; font-weight: bold\">1205226529455632385</span> <span style=\"color: #008080; text-decoration-color: #008080; font-weight: bold\">40.72454159594907</span>\n",
       "</pre>\n"
      ],
      "text/plain": [
       "\u001b[1;36m27493883\u001b[0m - \u001b[1;36m1205226529455632385\u001b[0m \u001b[1;36m40.72454159594907\u001b[0m\n"
      ]
     },
     "metadata": {},
     "output_type": "display_data"
    },
    {
     "data": {
      "text/html": [
       "<pre style=\"white-space:pre;overflow-x:auto;line-height:normal;font-family:Menlo,'DejaVu Sans Mono',consolas,'Courier New',monospace\"><span style=\"color: #008080; text-decoration-color: #008080; font-weight: bold\">27493883</span> - <span style=\"color: #008080; text-decoration-color: #008080; font-weight: bold\">1270133776748855304</span> <span style=\"color: #008080; text-decoration-color: #008080; font-weight: bold\">37.27847191402833</span>\n",
       "</pre>\n"
      ],
      "text/plain": [
       "\u001b[1;36m27493883\u001b[0m - \u001b[1;36m1270133776748855304\u001b[0m \u001b[1;36m37.27847191402833\u001b[0m\n"
      ]
     },
     "metadata": {},
     "output_type": "display_data"
    },
    {
     "data": {
      "text/html": [
       "<pre style=\"white-space:pre;overflow-x:auto;line-height:normal;font-family:Menlo,'DejaVu Sans Mono',consolas,'Courier New',monospace\"><span style=\"color: #008080; text-decoration-color: #008080; font-weight: bold\">2202063265</span> - <span style=\"color: #008080; text-decoration-color: #008080; font-weight: bold\">1401015246718914560</span> <span style=\"color: #008080; text-decoration-color: #008080; font-weight: bold\">34.68565395845539</span>\n",
       "</pre>\n"
      ],
      "text/plain": [
       "\u001b[1;36m2202063265\u001b[0m - \u001b[1;36m1401015246718914560\u001b[0m \u001b[1;36m34.68565395845539\u001b[0m\n"
      ]
     },
     "metadata": {},
     "output_type": "display_data"
    },
    {
     "data": {
      "text/html": [
       "<pre style=\"white-space:pre;overflow-x:auto;line-height:normal;font-family:Menlo,'DejaVu Sans Mono',consolas,'Courier New',monospace\"><span style=\"color: #008080; text-decoration-color: #008080; font-weight: bold\">4018888580</span> - <span style=\"color: #008080; text-decoration-color: #008080; font-weight: bold\">27493883</span> <span style=\"color: #008080; text-decoration-color: #008080; font-weight: bold\">23.68401507705543</span>\n",
       "</pre>\n"
      ],
      "text/plain": [
       "\u001b[1;36m4018888580\u001b[0m - \u001b[1;36m27493883\u001b[0m \u001b[1;36m23.68401507705543\u001b[0m\n"
      ]
     },
     "metadata": {},
     "output_type": "display_data"
    }
   ],
   "source": [
    "aa = linkpred.predictors.AdamicAdar(G, excluded=G.edges())\n",
    "aa_results = aa.predict()\n",
    "\n",
    "top = aa_results.top(5)\n",
    "for edge, score in top.items():\n",
    "    print(edge, score)"
   ]
  },
  {
   "cell_type": "markdown",
   "id": "f3527009",
   "metadata": {},
   "source": [
    "## 2.C Evaluation and comparison of different predictors\n",
    "\n",
    "To evaluate a link predictor we have to separate the network used for training from the one used for testing purposes."
   ]
  },
  {
   "cell_type": "code",
   "execution_count": 25,
   "id": "2f803f03",
   "metadata": {},
   "outputs": [],
   "source": [
    "import random\n",
    "import itertools\n",
    "from linkpred.evaluation import Pair\n",
    "from sklearn.model_selection import train_test_split\n",
    "\n",
    "x=df_edges['source']\n",
    "y=df_edges['target']\n",
    "X_train, X_test, y_train, y_test = train_test_split(x, y, test_size=0.2, random_state=0)"
   ]
  },
  {
   "cell_type": "code",
   "execution_count": null,
   "id": "d4e69bdf",
   "metadata": {},
   "outputs": [],
   "source": [
    "print(len(X_train))"
   ]
  },
  {
   "cell_type": "code",
   "execution_count": null,
   "id": "ed077737",
   "metadata": {},
   "outputs": [],
   "source": [
    "#random net per ROC curve 0.5\n",
    "nodes=list(G.nodes)\n",
    "universe = set([Pair(i) for i in itertools.product(nodes, nodes) if i[0]!=i[1]])"
   ]
  },
  {
   "cell_type": "markdown",
   "id": "972c3b3f",
   "metadata": {},
   "source": [
    "After that, we can apply the predictors to the training network"
   ]
  },
  {
   "cell_type": "code",
   "execution_count": null,
   "id": "ba21066c",
   "metadata": {},
   "outputs": [],
   "source": [
    "cn = linkpred.predictors.CommonNeighbours(x_train, excluded=training.edges())\n",
    "cn_results = cn.predict()\n",
    "\n",
    "aa = linkpred.predictors.AdamicAdar(training, excluded=training.edges())\n",
    "aa_results = aa.predict()\n",
    "\n",
    "jc = linkpred.predictors.Jaccard(training, excluded=training.edges())\n",
    "jc_results = jc.predict()"
   ]
  },
  {
   "cell_type": "markdown",
   "id": "e38dc823",
   "metadata": {},
   "source": [
    "Now we can evaluate the obtained prediction against the test"
   ]
  },
  {
   "cell_type": "code",
   "execution_count": null,
   "id": "0b8dbe0e",
   "metadata": {},
   "outputs": [],
   "source": [
    "cn_evaluation = linkpred.evaluation.EvaluationSheet(cn_results, test, universe)\n",
    "aa_evaluation = linkpred.evaluation.EvaluationSheet(aa_results, test, universe)\n",
    "jc_evaluation = linkpred.evaluation.EvaluationSheet(jc_results, test, universe)"
   ]
  },
  {
   "cell_type": "markdown",
   "id": "8904e727",
   "metadata": {},
   "source": [
    "The results can be easily compared using a ROC plot"
   ]
  },
  {
   "cell_type": "code",
   "execution_count": null,
   "id": "2833fee0",
   "metadata": {},
   "outputs": [],
   "source": [
    "plt.plot(cn_evaluation.fallout(), cn_evaluation.recall(), label=\"Common Neighbors\")\n",
    "plt.plot(aa_evaluation.fallout(), aa_evaluation.recall(), label=\"Adamic Adar\")\n",
    "plt.plot(jc_evaluation.fallout(), jc_evaluation.recall(), label=\"Jaccard\")\n",
    "plt.ylabel(\"TPR\")\n",
    "plt.xlabel(\"FPR\")\n",
    "plt.legend()\n",
    "plt.show()"
   ]
  },
  {
   "cell_type": "code",
   "execution_count": null,
   "id": "e54e188d",
   "metadata": {},
   "outputs": [],
   "source": [
    "from sklearn.metrics import auc\n",
    "\n",
    "print(\"Area Under Roc Curve (AUROC)\")\n",
    "print(f\"Common Neigh.: \\t {auc(cn_evaluation.fallout(), cn_evaluation.recall())}\")\n",
    "print(f\"Adamic Adar: \\t {auc(aa_evaluation.fallout(), aa_evaluation.recall())}\")\n",
    "print(f\"Jaccard: \\t {auc(jc_evaluation.fallout(), jc_evaluation.recall())}\")"
   ]
  },
  {
   "cell_type": "code",
   "execution_count": null,
   "id": "cfc925d8",
   "metadata": {},
   "outputs": [],
   "source": [
    "OPEN QUESTION: DA MARKOV CHAIN RICAVIAMO PROB TRANSIZIONE CHE USIAMO PER LA SUPERVISED LINK PREDICION BAYESIAN!!!"
   ]
  }
 ],
 "metadata": {
  "kernelspec": {
   "display_name": "Python 3 (ipykernel)",
   "language": "python",
   "name": "python3"
  },
  "language_info": {
   "codemirror_mode": {
    "name": "ipython",
    "version": 3
   },
   "file_extension": ".py",
   "mimetype": "text/x-python",
   "name": "python",
   "nbconvert_exporter": "python",
   "pygments_lexer": "ipython3",
   "version": "3.10.5"
  }
 },
 "nbformat": 4,
 "nbformat_minor": 5
}
