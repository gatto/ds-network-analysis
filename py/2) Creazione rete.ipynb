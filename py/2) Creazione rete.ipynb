{
 "cells": [
  {
   "cell_type": "code",
   "execution_count": 1,
   "id": "c32c2469",
   "metadata": {
    "colab": {
     "base_uri": "https://localhost:8080/",
     "height": 374
    },
    "id": "c32c2469",
    "outputId": "976e4ed7-2e1d-4cdb-cc65-7d7b945b3cba"
   },
   "outputs": [],
   "source": [
    "from extract import SocialETL, construct_query_for_twarc, extract_tags, SocialDB, UserETL\n",
    "import hashtags as h\n",
    "import hashtags_readcsv as r_csv\n",
    "import pandas as pd\n",
    "import numpy as np\n",
    "import json\n",
    "import statistics\n",
    "import networkx as nx"
   ]
  },
  {
   "cell_type": "markdown",
   "id": "6c8ada0f",
   "metadata": {
    "id": "6c8ada0f"
   },
   "source": [
    "# 1) Download DF"
   ]
  },
  {
   "cell_type": "code",
   "execution_count": 2,
   "id": "46ecb5ed",
   "metadata": {
    "colab": {
     "referenced_widgets": [
      "f849daba30a6421ea8053dc9955226bf"
     ]
    },
    "id": "46ecb5ed",
    "outputId": "98464809-20b0-4875-fc06-c45600b8a936"
   },
   "outputs": [
    {
     "data": {
      "text/html": [
       "<pre style=\"white-space:pre;overflow-x:auto;line-height:normal;font-family:Menlo,'DejaVu Sans Mono',consolas,'Courier New',monospace\">Reading secret from C:\\Users\\david\\Documents\\GitHub\\ds-network-analysis\\data\\my_secrets.yaml…\n",
       "</pre>\n"
      ],
      "text/plain": [
       "<rich.jupyter.JupyterRenderable at 0x182965045e0>"
      ]
     },
     "metadata": {},
     "output_type": "display_data"
    },
    {
     "data": {
      "application/vnd.jupyter.widget-view+json": {
       "model_id": "fa3c25cf5138412b97422f72e0bc3d79",
       "version_major": 2,
       "version_minor": 0
      },
      "text/plain": [
       "Output()"
      ]
     },
     "metadata": {},
     "output_type": "display_data"
    }
   ],
   "source": [
    "#modifiche: cambiare data e togliere lang eng\n",
    "m = SocialETL(query=\"(#eurovision OR #covid OR #pridemonth OR #grammys OR #justiceforjohnnydepp OR #putin OR #russia OR #ukraine OR #war)\", pages=1, recent=False) #strangerthings4 "
   ]
  },
  {
   "cell_type": "code",
   "execution_count": 3,
   "id": "b562e6e3",
   "metadata": {
    "id": "b562e6e3",
    "outputId": "6e0a2b88-ad8b-413f-f3ef-d94a7f491e40"
   },
   "outputs": [
    {
     "name": "stdout",
     "output_type": "stream",
     "text": [
      "88\n"
     ]
    }
   ],
   "source": [
    "user_id=m.df['author_id'] \n",
    "set_user=set(user_id)\n",
    "#un utente può aver fatto più di un tweet, in questo modo andiamo a vedere i suoi ultimi tweet solo una volta.\n",
    "print(len(set_user))"
   ]
  },
  {
   "cell_type": "code",
   "execution_count": 4,
   "id": "433bf8e4",
   "metadata": {
    "colab": {
     "referenced_widgets": [
      "e3b624075d0b46c19e42ce2aeeef8d35",
      "7c1826e5f05844f5a9ab811d7e171583",
      "0d525de727e84d9da2a18d3e1dc46ed7",
      "5b8979e293db44c5961565915bdda7f0",
      "7a9421fff95942f6b95756ba331f2957",
      "9c782f5a0ef746958d32cb939703fa74",
      "ac30336390db4a26b73c2756c9c7be01",
      "140ebdfc69a44518ac0bddee3df832f6",
      "a2872fea1c7e4767848e32c3ed6399a2",
      "1f0fd63a6b0f429aa4ac6a68450ebf5c",
      "1188536db1364ecab274d0ff52d3d118",
      "c74ea694bd814b0b8c33851bd14864c8",
      "0fe659ccc3304914824ad194ae8f6d14",
      "946e10c5cda14c39a76ad2226f0abee1",
      "26d7c24429be4696bb81f3193b6a9902",
      "edbae39ceba44c6ea9ca45f64d437013",
      "f6f07f749da9476c8f38c95940745ef3",
      "e0fc55748db64211b9e0c385b23ea845",
      "9ad1b38e1203471a907b1c4f3b0844db",
      "46e1e4962d304a1f80fd35193b7d9d0e",
      "ea2bdd67157a44319a0abb24ab55e84f",
      "086b7a898cb6446087e71547253ff1d7",
      "1627d20c8b0a4e759b509b3db66b4670",
      "39993a99636d4325a044f8060a6641d5",
      "45e0453aa50e4782807a0a4812d75335",
      "12add372c87e44fba61a5f3cc49c5e8e",
      "eeb99119cfbb4bc09c5789d3b4ee5f54",
      "7f6b66e1a04b41fca043c80fbaf33b7f",
      "08e0d486bbc446f09f2834632974bddb",
      "113fea961841468dbae5cf9e8ec72f21",
      "5f8784fff41d46e4ba433ed6feac3352",
      "a265d4a26412453dbe706c1243cf39f4",
      "1cb218a1cc0945299f05a49e8cff8bf8",
      "326315a704ea40759a133d0642dcf71c",
      "087ce5bdeff642e7991f606f178154d6",
      "01b5f27be0e34b5d8b26231e5fed09d9",
      "35245fa4599f43a390133b1ab5626e80",
      "55c40c12b4c94304a2bccd347138ce86",
      "1d277b1771434ee6ba76faab4b95d9a8",
      "a7beb5f1376c4c33a1e370ddc1fb4420",
      "8bc98c25076147dd8cd1b0f6f1fe27fb",
      "5fab11766db3413099c934d8c6d591d1",
      "776131148f1d48a9a4616f500805533d",
      "7842bdf4140041ecba13b77ba7548eb9",
      "3541eba622694497b6b8dc33b2bdd470",
      "4d4c9aca143f4e4683d1c8c77b37541e",
      "09a48cd59c6a47cb842aedd485f87432",
      "cc4c198868ab4b7da17d98e091ccb704",
      "72143479bf2f462380c23802fb6e1237",
      "4f3f51fa137d42af9528aa82239e7eeb",
      "3499f7e2f0b24957b44edd14405891e0",
      "1ec957ddde9943d8859aa3cff70c0dd2",
      "6fc2bd23f87d4852a6a99a86f8bb4ee4",
      "f5b94a75c8f34c7eb7e9165fd187d9c2",
      "9908af5cab6f42b099fbbeb7a94de309",
      "6203e39243e34857a88b7111532be32d",
      "97a9fb0ad7ef4d0891d29ca475fb6405",
      "9e7948901e9e44dd83f9589fda3e72cf",
      "ff86a99727b7413296220b0c9fb59eab",
      "068caf95875645449d03afab09d7a66f",
      "412c938d2bbd49b981b633ab5c053c63",
      "fa6fd20cb9594950b755c05a1859671d",
      "f4bd0bcdcf784b3c99d5b21af49aea0d",
      "e269ea2b78704562849c229b04429e8a",
      "12798a77650140d2abe8014072a9ae59",
      "1b0906d3340f455a8de369457ac692fc",
      "f39a1ccff1be41788d63ce03fbc3a07d",
      "0e0a390c33be4edbbf8bcf00e2b358bf",
      "cc2e4ee2f7d2491fa0dd65d5d639081f",
      "626a6dcb5b25402a89ed796dcaec26b3",
      "012397a085d84efa9d18ff12573d332f",
      "dc73be85632d4f249fe59df93c3b1f21",
      "c9c4c40215cb4d0b8044b3060c9fbc0a",
      "1a385b2d3ea8412aac5a7ef220e61f01",
      "e1495de1d50a4054964a343e7ae83be5",
      "4996c4aba0fa4734946fe1b384902229",
      "fe2b25445e2a4037894e94a48e75264a",
      "0e920540e7bb4a04a0bb8981ed0f5914",
      "a6b5f096b66848f5af64f9b447666dbf",
      "2210d352b48d420abfb692e33beaeafa",
      "7fadf0d6077847049247e036826b073b",
      "6d6d0b9d465e40c683b1bcbe37791d42",
      "58a3829ad73d405fa24efe9b7e829d10",
      "a2f4ac627e9a4d9cb30630aef9cc2707",
      "9b506c8d24ea405fbd08c98514c35908",
      "6c59bbf0185947e68884399f4477cafe",
      "3469bb0d11f34e0caa4eb10834f394c4",
      "aa05bdf8e0d24293875dd1f631da8d3d",
      "c74ecc9489f44378af424ab47fe7b2d4",
      "61d50b89b2df4964a46c595b23ca407d",
      "40cb5df6131b4f7bbab70e8bec2dc0f2",
      "3155d72d3f5a40c193d02cf94e94df3b",
      "905e6d20f27a4e5ea56c41ed2d7ab040",
      "3e415f38bc03420bb2eb550ad621a994",
      "00e0a49c5d9341daa8978eaf8f38f646",
      "f8107289733e42bea39d397c45fc89cd",
      "2e648cd855fe4135a7cd6878d4c3c6a3",
      "83c13996eb5e4e1cb5b00bf2e7f7c101",
      "c0fc0ceaa3714f1685d37e55099359c5",
      "8bb389224d6047bc96caaec3c6f6f9d6",
      "f585913704d848bb9a9cd2d1962369d8",
      "e935de894f614ffcba3811fa20ddd47e",
      "9a376e0ddc0248489804bba63bb79c0c",
      "d62fd1c6f1f8444097479a4c07880675",
      "09a8bfad38b344d5a52bab2ffafbeb12",
      "5a148e7d0d4f491ca9d13fac07ffcd69",
      "ed3173217289491cb0d5dad221414912",
      "0e9387fba641459482c5788a032e6dbe",
      "1c13360d2f494b79a12a9e200711edd0",
      "9450f03db4f043c7b3efec300ef33ad5",
      "99610e659b2b48949f724385758a4809",
      "07768e8c983e49ada56e4bb908d9cb1f",
      "ee1650dcace24f9cb37a01059d80cb52",
      "06931f6a13a0411fbdff1162e68c0863",
      "7eaa5f962d4d43449e0d68dd65892d10",
      "f970a7b75e1b4c2b93f87a1af9ab2f58",
      "76c898cf72a84f25861b217023a933ce",
      "ff75850760e846dd99e56995c668cf67",
      "e6c10a4e210942b2bcba50a34dd1a693",
      "d1e4ea7f601f4a97a7915335e707cdf9",
      "a440c77adcc44aad96630c1ae3b59680",
      "163c7da6ff7945d68f556be09b189b42",
      "ee6c030199084b97914265172000b96a",
      "a6eea179b3ef41e4b4db636d939c1938",
      "1e2f2e61f8e742bd87b404900b553394",
      "8c4de065fb8d4247aa5532256d0a9487",
      "d4fa30c5324b440394b58787b9b03d5f",
      "6b850ca78ba546afbb80c909f27488f4",
      "4f5784fb71694f87b2592263899976bd",
      "a622c26a7b24496481518dea0aa4c4dd",
      "86e25336ab954d2a9214fcb05e18fa60",
      "398eaf42425e4f92999f99ef901b4ee9",
      "dc7b434015364154bbbc4f740d58b7c1",
      "7e1a575b4b5c4f159e2b625b215aeb95",
      "004f2fe50db2406ea16497a203c48653",
      "46025902133e4dd0b764a33dc469643b",
      "73796f2cc45b40d79442f0a8e8475bc9",
      "16dc82ef46e64464bd66af802b3b3a24",
      "33818c7028024c2988b52f858027b5fd",
      "fef5a031de6b4f70b59de8db5238c8b3",
      "d7d455415d224d2db7510aba542eba13",
      "49dae04c76ad4751901cf677b424737a",
      "3c2ba8bd774a43a2a96039e5b5be4a6b",
      "8236c0ac5a954aa4a89be0bffac65fb2",
      "10c15c2302684e54add780469dd709c8",
      "21035e683869440680a2f700004c2bdf",
      "41685dac51034c9b886831cd2fda7051",
      "fd1c70aeb8204d4a9c76809b6a4fd43f",
      "00555f56336b443bb37ea838d924e5c0",
      "8c40df5381844ff3a84c46db6a869674",
      "b5f3e54443094f0e81d17091118cfa42",
      "625090b8ed2541cd9e51403888e86829",
      "78f2748e3ccc43c49156c23b18433f32",
      "4a005bade54c471297d9d30f28b42404",
      "8e4a6571183d421c8a1a963f49d5204d",
      "d6aa4566c28a44ce8ad7a7abf2e999af",
      "14d1a7609d8541a58ce8f70631231832",
      "274cabe4d2c04c31bfc7845a06fafa77",
      "4477430976fa492ab0bed54e2aab783b",
      "c147300350f74c44bbd94693caf33b32",
      "1ff1b83a9b2a483e8831cbaa39f4a680",
      "a17dd8e206c7406fa0600ec23c8a07c2",
      "5e015031b1684a7d869689b1f1be016b",
      "cd6aa813f0384804b742760f9249ed83",
      "344ce7892cd64e4e88986f781ed3f580",
      "88d7135b405e4b5a8038045b090e26ec",
      "8841f124202045958c396bc4c2e8c751",
      "ea3c67aafbcd447eb0d89f85e5eb1755",
      "a8d8767ec78347f3b8a69a05c8e3b95f",
      "8c8d88b7ab8e4fb394de0f7aff28df12",
      "22b5ac6cbc054bd5bacb0ac4c542cace",
      "1105c8c53e4046b0b309fdf6583bc74c",
      "768b7e0909534fccb9fbb12343e5d900",
      "088b3de6f9a543d89580f129c6d66167",
      "f9d0ef6386d94bd2a8baa553a7e85b06",
      "705ba77eb53749499490066baaf7fbbe",
      "c6089b55ea8b42839bbd360d01189bb9",
      "25ce5e41ea344e2f9a5545f9a1de287b",
      "8363e2d2fc20489ea5a07603dd8824b4",
      "cb82b96525db44a7b32b16fe6eb51f1a",
      "8430cca42ecd472dbff029cd8eb28aeb",
      "8b59e6e9f6ce4fc4b22e83bad0593d10",
      "b88219cebca548f89be5c8f181f97e3f",
      "00a698a791ef43c891bd969f244d80e5",
      "7303545d18c34731a82e93a214f4ee57",
      "3163ded4968240458245638dd4718874",
      "33acfa82888b46d18b301567cd16aa3e",
      "3965e02741dd4c55a01664cff59772ae",
      "0318e675ce5143ee978c6c5b55facb6a",
      "056ee5992de64b288be6b3d8a25dfe9e",
      "97c4630f4b3d4c7996f4e899f4564a96",
      "a0e7c1e50162424b8071ebf0576c3567",
      "119d87b4bde7455f88036697503c53c6",
      "f178da0ccda8423a978370e884799c16",
      "8229c51787f64e04ac9d3048a613fb0b",
      "dd76e98e7f0844dd96bfedca6e87b9c5",
      "83ba152739f14c42ae318400fb158a76",
      "6bbf81ffed954dbba448ef42a4cb4cdb",
      "1a97314dec3146faaf8c0120ab09a881",
      "98d2c4f4e44c4b73a1dd106807bbdad4",
      "7b17f744907a4f10a3bb21b7d09956dd",
      "36c6c2cc12f54daba11a3e8ce7d66079",
      "497d7a37222a4e9286d2168fb3693d25",
      "6d910d60c3d040d3bc2008bccac2a4f2",
      "c9a4938c8e9049b9a253ba00aadcb30e",
      "0e07782cfab1497f86e06ad9bf649288",
      "a8d9442d980f4e4abf4258ec55a3c3c2",
      "8319489633324c1e8b3d5ce144fd93db",
      "1b0df53686f64a7facef27f67c67bbce",
      "579d4970d92540a4ac15898b3e46d470",
      "3c16891db423485889849aa5bf65cf59",
      "b2bbe920097f4fce96799aab30d20ed6",
      "8c542271e9af45d3b1393ac2924f620f",
      "b134f6adfc0b4b3fb33753e24c90a412",
      "2dd5f54420f346ccb96452974824d489",
      "b3bf53fd144644b3ae418182391ce4a1",
      "db7d0dea4bca49238a01fcc3a99485c9",
      "bf78fd4d94cc44cfa6660c58b2cbb443",
      "a9898bd28b7e43b58a4d04406aab336d",
      "2018800d60f24785bfa2943f13ceb8d8",
      "2dd8397508a54d9ebf743148b41b6bbd",
      "a09c15cfce8345209110d5c852b17950",
      "2c0dce0cbad84037a58a598b75d1e0cd",
      "b62abf1871944e30b16925eeb7035b9d",
      "65b5396e89ed458a8e2ccb60eaef88dd",
      "23c99057e49144d18a1d52f78baf62bd",
      "af889417799a4390a121b97b9c9b9f36",
      "d0396d466a364a86ad05bc5dd3ef6ebf",
      "ab32f67b0c9a4668a54d1ba94e8f47bb",
      "309b7c7213c94697b13faaf37b28ed68",
      "ee0d61748ed6430c89d07005aa38dad8",
      "a184f90184da4b908a6af2ce3d00b029",
      "cb6254edf1354f3e97ad1f95f11ec278",
      "ee2fc278bca145d1b879303e213f932f",
      "6ba040abff104a5ab86db6357f9c280d",
      "3b4e981a0f6c48098bd2f9553fc1e155",
      "6bb7e3b0fbc24c69a1ed17d79719c588",
      "dde8b2dd0a0949d8a17d682ce6301e48",
      "c1166cec63f044868df5da1d8ba72b99",
      "31a1b970d7e042d8b808a61b20cb0e93",
      "ae08cc0aaede44ebb213387e1af95f3e",
      "55818c6e119a418ba89727857896e13f",
      "ae8e247629424548a7fca029111fa849",
      "1e26332d25ab4a0e9537aff60151838f",
      "049296c773144f39bbd995fe9241255a",
      "23e16ea703f7443daca297eb2999db0e",
      "0fe25e1582564318a44df062ae2d666c",
      "3eb9d235b0474735a4489bb5c827f5c5",
      "28c5783a7b6e42aba59b4998800a6f91",
      "f4684c01108e4ca7bc219da7eba3f65f",
      "676c0963846c455a81112f0abfc4b32c",
      "d0efbdbeda30479ba568794da041c4cf",
      "75b718a101c64cdc9d3d284c3a0f8a85",
      "d79689c20c03448188a362004e0e789a",
      "8f6ff89dcbc54af3a8632db858923049",
      "84c3ed164df8412a9183a2fffda9cfad",
      "ad9d75afebef42ecae4ee8eb2a43b0fd",
      "9c7dc25e416c4a1cb25c973e3b89f50f",
      "be18ffcb82b14c4ab4f11d09a7ee55b3",
      "1cb3478bc2e045998b4280b9daf19085",
      "8f2746eb0c2b4c168ce1a74dd6d8d5b7",
      "9a86394ef4e04892b384baf9c83bd0f4",
      "703c6bf361544aee96171dee6d58d8c3",
      "d3beb570ddc04f19b18c9ff6285bee70",
      "a7842fdaee524f82a78909ed02c86ff7",
      "81931093ffc44687aee7e429c292fffd",
      "1641885f97f54846aacac138b06f781b",
      "0cb9e588f89848a081ae8d3aa269f75e",
      "356f78fcc4934b21a677dcc482b9f4ed",
      "5a3b6238b8b84bb5a672f90ab2cdce40",
      "e7fca773ab5747efb3b1babf15cb2ed5",
      "0795b27dc7904690ab02450435af1210",
      "1dd701033535498887022e358f2b8576",
      "b1c04a01931a4fe692f1a44421425e2e",
      "a2c0a9d4ea844d519463a146681788ea",
      "4e3c95c8ea6a4ca880f93775a157def6",
      "e1eb224f359a424890fd2293b6eba9a0",
      "6358676c9347444fa67c1f683c8ff176",
      "0751a22fb78742ce8501def38c37d556",
      "08b783430f3b4c08a6c83ff39172339a",
      "17295be68be74520aef49d9553fa18ed",
      "1e97151341db4028933d52fa09e9438f",
      "bfb504cdb9004d418155822cda5c6eb2",
      "3fb65232470b4eb083c99a8cd537e3f2",
      "e561ca7854e64d639bb543ea19cf2987",
      "59b5e5dbfdea42bcafcb7453cb85feb3",
      "92f0a001e26545f09192050f7a3e244f",
      "0906584e47d24535b3bbd3cd3aca9fa3",
      "6ee2874a37304cb69863043d6756877a",
      "6db8bd61f57247efa2db7cfe08610636",
      "8ebb1c8f263c4bb2a276d047c95fb3bc",
      "7b1d4fe632a74cd0bf74f3c05d07af48",
      "e4715c35a13c4ac28313b8ae5b6b1a91",
      "d7e50305e8424366a2a5577c29adf976",
      "bb48bbddea6a47569c4b8ea52ffcde9f",
      "f3618ed268c04fdcb397740e12730487",
      "7e98c05f80d247c2bf2ac373405f84d8",
      "2072f76f2b464bb3b06e511805fd178e",
      "51a40eaec9fb4f46a39b87284a5bed64",
      "415b43a239e249a0829eb52cbf8bce81",
      "3abbc3dc16c441a990af717c26476501",
      "41b5e1673d8943f9a94c5946dceebaf9",
      "f1b5782e0b2d498c92e20ffdbcbb8cfa",
      "77c4eb23765f440fb7a92b8045bf0acb",
      "5887abb9a2ca43bd93737ec2a4661a00",
      "d65ede7cb2254b94b5d4b712db0e26c2",
      "10abdf888d704816a0ac1def3793df3b",
      "2acdd4ac7c9549a1926858ddc123d7ee",
      "06b3db2273e144b18ac13caea6b10f1a",
      "21cd8474a66844429cd06407edcb8789",
      "3e1b2232f72b421d9853e55247e36f83",
      "37e213255e3b411296812c06e6a42e6f",
      "1cc557e8f4a64e81b8727415fca6fdd0",
      "ca9a22aac3424f30add644746530b976",
      "66bfb5ffffb140a58dbd7adaa5daec93",
      "74cf2baaee084b3db75d42835e48b582",
      "caa29e138fb146f5b7f215f78419df33",
      "e8206dc7b05444ba992052eaf3c42a50",
      "7f6f346ae762470495497647bfaa7e2e",
      "6ac59c1a5cf14e9a9863cbad71e768a1",
      "fe1716d4e78b462dab680dce77afb51d",
      "8323ea092f9a4912a1417786b33bd1d2",
      "85b50dcf76ed4ac986388541aace86c0",
      "42bd42c8b117432fa6608c1570602c60",
      "64c5798d4f35430598edf041d35e01fa",
      "91dcc1e1692b4dd79d5b1213e6690eff",
      "1b5c29984e764b93b50ea5e5158523a6",
      "1646797bb74743e18d80335a21aaa253",
      "d4f04d03ef9e490e87a80929aa8c6eeb",
      "080d30ada23641459d248381bc7d737e",
      "07389ba65c474d5fba2277da96e24cda",
      "3288670b293f4a28bee05a120af07a00",
      "055e2b3c341242479f660a0585b46ba4",
      "1536dcada5f048dda62cfde64f08b5a0",
      "44feed213c7545f0be9b296d1003d499",
      "be64f965a6fd457fbe047f18b86c9da6",
      "b89b914378634c93b33885a7206ce572",
      "74907cef73ca4e24ac535166a5c6785c",
      "5985088799bc4e76a39f07c1d4c896ad",
      "b028d334560442ddbf643a6a53ec5fc2",
      "46e19ee97fd343deacb8817156567af0",
      "ede01570ec314ed0a24db35578b6035b",
      "7f09a5cf36724fdab8d4db2fe7c745d1",
      "72f2e695748541fda13396b4263f8eb5",
      "13a647e8c7fc4d95a91c4fd2d4c399ea",
      "4ddf64e151d84ffd9cdbe6afc8766d32",
      "2b94340f09ee4473a864ca012aa544d7",
      "22fb40dd58f94682849fc6a7d88eabab",
      "0b34246e972a446cb3e2a8415b30960b",
      "8c5635f43aca468089fbf8a2c8ede1c0",
      "e16b94d10f6a4ec096bced294782f289",
      "5667cff78edf4800a11ce016f6c8c70e",
      "f368a510da594e1ab6b849949c8a1ba9",
      "5c0f9391014d4d96b168b42daed2bda1",
      "1ad5829c1d8d4f1e9517aa6c775341d8",
      "78651322ab414d3c954a8caff13ad685",
      "fc22d76ee0d74f0b9460218e0494f5c1",
      "f6a0b3c2285a4ca7b671aceb1082ad0a",
      "196e6f645eea49b5bbdd739faedb3ca7",
      "e279bc99b34a49808113ddc984d39dd5",
      "12cc40d5bbe24c2e8ee4690f45e247b6",
      "70322c71beb641e5aa5ef5b8169a59d7",
      "52a028be3526420f9ef6c619259b3bc7",
      "133f701b4a144beb8f8ebf50b98ef6fb",
      "de1b2434cae14de2af0d6019dfa9eb4c",
      "14e31822a1c74d70b7f93de6db67f44e",
      "3e803d00976a40c39604b108939c97c6",
      "faa68a7bf72f4ad29cfe5cd820205560",
      "1ade94c99db24adf814d3f930a83ad8f",
      "ef6c6ccb8de543f698909f2f3ee2d9d5",
      "65841188ce8546d5867213faaf690834",
      "8913ac6b99234a69b8641c686733796a",
      "bded4f581a1b43c5909fd54d7b8acad1",
      "78f3a2cee61a4d60bfe35456d53468bb",
      "7634d8291fc64623aa9840acd6afaf3f",
      "1bce7f31bd6c4897bccd43d84cddfdd6",
      "b524e60b4f5c4c3f8bb7a0fd44158a59",
      "86a593ee933941d68d7c2587dce06bbc",
      "bd3cbfa70c3448c395fcc5e3c236b9b9",
      "98808f7d1fce487691e08fccfddce139",
      "df8b6607043247568806396e615bd88f",
      "bb0a2e4de2ec44d7b0a8e0ed17b5170a",
      "2c450d0cc0f547b1bae57ef7856b6b1c",
      "056f11d7dfa744198496a4138d9c5aa1",
      "3bd693fec37e4b3ea85909ec1f1f65f9",
      "f883d1d9213b4bafa73a7ce660cb7ad7",
      "87b6c543c1324466907fd36ec1496a7f",
      "96001921b34746ebbc1d654a58c724fe",
      "6ac2efbb36684e6ea92bed69a1f30cb3",
      "13e4483c3c8742b4b08af8363ab7ebbf",
      "80e6ec6105f84e1b8c7a18e2c65fd048",
      "8c9c78bbd7aa400ca0c59be980cb4033",
      "87f81da2eaa7410ab9d420b8ad354393",
      "2e74c4ce92d24e0bbed7db36de7ceabe",
      "1b3640b1a26d465ca761d559a513ac22",
      "95c5365b2e004902a4b1fdb6d09d5bcc",
      "eb25e4c3b2204e058a77a748027f92ab",
      "341a5655de7f444abd75cbc7a12c21ee",
      "bc317528423943918041c775fbac67f7",
      "7c136c433f624531bb922028a2fa6d7d",
      "819dbc4d96164d43984124efc4d64226",
      "99f434f217eb4dad9c93ae8afc6e229f",
      "f068d2c11bf14feb882853534e0ebdf1",
      "39276bdff3344c14824ba78b946e5a1d",
      "0114be7f08474b4980e7d06dc300f194",
      "cf013d3a8c9b48269d8eba2e220041c5",
      "34f9fb28617642c59cf455ab4411a47a",
      "23b142f44d98417587ffe4edae4f74f5",
      "9cb74a0150764206ad5d4851e40d1b3d",
      "6c14180472fd4fbc9209910295a3c09f",
      "61e8c5212f154b4e9b31b362257e4dbc",
      "d1f1a4fabffb4b3f998a18f5c4f10b76",
      "84d8f11ea6274bfab77c4c50c0862d5b",
      "24930c247b714ec2a2aa0ba4a78819ed",
      "2cfe3446fabb44d4b85364519388cbb2",
      "508ea4e502ed441b9721817b0b9b4aea",
      "de0ca77770334d4da8632692d72c60d8",
      "1243516c67e44cdda9378fb72ecfa6fa",
      "89db28adbc034a6b8d3a72c869fb9cee",
      "59542c2026024004846900f3cee745f7",
      "c76d96355d3248b2a40c3f4159b5b7ff",
      "35dac8daf1244766be52aef28006375f",
      "19a88ba77b1a402cb52e0b2e18c4c589",
      "1a754f4c9f454f489a9d21b5528735a6",
      "2dae388b46f7464b88b73d94ef1f9e34",
      "3f00e9b18d18435793cdd3ec7dd28446",
      "457abd3b9b0f45359a27087ff74b6451",
      "c15126476f864cf5ade8428f3c924c79",
      "bdc4f885289849729c5024a4fc045ee6",
      "f2bd8f20652e4beab519c1b691412e7d",
      "20bf15d5d9484033925a82245bbda835",
      "51f1ab6bcbac4c7f806c6995c5e998dd",
      "39888cbfe57141a19c4610d4ac9abe6c",
      "022fdc0984894b9baa59d0db73e1e133",
      "6aae7473bca144c69237b75f41708334",
      "44a5c16b045c428a9444c0df19ee8dc9",
      "7c4c82ca1d234296884febf3045f7343",
      "6edaeb92952e4f3784a1a20d0f6ce644",
      "7b32c120cff34fdd87d0c75ad31e1f20",
      "726e31015de04563a2921962ad22fa05",
      "15599111eb724f16b04ba5de21c2aa26",
      "9fb01de4f08b4cd18001eda054de874f",
      "fda00876f6db4320b774e4e7357a4c07",
      "c78d81ec8e704feab94e4ba1e6bfc66b",
      "79a091e0a3194da188057e1dd42d755b",
      "06ae111da91d43eb96f8e7db85b7a182",
      "92a266409ea94d2e8d15815fe1748a6f",
      "f673bbd065c342c58207fb1def27d336",
      "d87c696754f14096a2a08179d54ac28a",
      "1557d88ade904da198b499e0518e2e8c",
      "1cc24b93f10943ee91c100aaf257224b",
      "e2e91416971a477288a85c8a6d2f87a0",
      "42c50b4cfda84ea6bf630bae871b0d3d",
      "c76023d1c1fd4810bb879ee66ba534ea",
      "197fc4f8600c4db68f7fd5e2b9a7ffa8",
      "0ff31c6d4f2b41b1b0680910b09c110c",
      "5bca7c4fb9d146a28a636287d274b0d9",
      "78abd0cf610b4555b20c1dc1f593ad37",
      "3060e3fb46a8481fa9337f706dc273d1",
      "69ae2a4065204edfb984a6924df3391a",
      "ca7e3d3808e545c8b04ae5d5714bbd09",
      "8a9bf961f57f44889f9be0d35391017f",
      "db1ff6785d6a46c28f303669e13dbbcf",
      "3993d7aa1d574fdb84966464698523f1",
      "3050722314d24ba2bff5878d574b64da",
      "a579ca986aa540d988f1f7e4cd2387ba",
      "84cd8206c7064f918be26f7c15bb907d",
      "d3dc80844f9a4dc4a931f2f904b9c88c",
      "c2a34b32a0874f21851eaab3aff43c07",
      "124318da553947f482bf2457b4ac7957",
      "3debd5134a2f4db89b2124f55b57c7ea",
      "810095d5fb3d4575a47cc724c6143a82",
      "b8ccc831bd2248759dc37b84c1020b2d",
      "36b8a44f5fac4257a07bef2463aaf7ba",
      "79fe4509759b4f60956852a29eaa69e5",
      "257237cc7f534f8199e39d420b76d2d4",
      "4a6953babb3d4b0ba9a8f96d89e1f9d7",
      "f172616195a24e799106a6dd3a9d1a78",
      "a90753f893e6445abb7215358249d081",
      "2754c170633e40dbb5297fabd57a68f4",
      "b89d4a142b6c481d867e73aa03a0a56b",
      "649559b69bbc4827bae0bc1a77fdc1e1",
      "29e90efa1cee42fe91da534ebc6b8faf",
      "bd32ed3e0b794513a538b7fb0887ac18",
      "6763ffe634274ff9a86c05d73aad87c1",
      "b309b003640f4e658ace1a8fde8d15e4",
      "67addfef59234a419dd57f15b1ae521c",
      "9ab6252e04aa4b38be9e3e01e8313288",
      "5a9c0539e471419b91a07ab93b99e8b7",
      "aa038afa74524ee4a7438dcfd149ed48",
      "f23f550b52a84c148d57f5b20978b4d4",
      "4300c0413f464d09a166dfacf77560bf",
      "2acd6c53930d4b17b1873a01bc97317c",
      "6ad9fbe74ffc4112a601c579e140a5a5",
      "614e2a6ae3184610a5feeb8dbdae2f08",
      "0320bb0bdf8c4119b9ba15076d9813a5",
      "55b7f017d6074c7ba34f44215d9ea5e9",
      "0b8c089e5c544e64b7a919674b6c2968",
      "8bec415443ff439fae31fd02c59f6297",
      "305d467fda134d81ba22861bcfc9462e",
      "120200b3c296405bb5cc3e9f3354edbd",
      "a6a9595f720a4a238e1e859f46136c6e",
      "89e1b5c0e5124f9bb5acad95cc5536fb",
      "d3ef1ecc1f2a45c5ad9c39ab7aeae58d",
      "8778e44dc4834640bf0662141e5f4b89",
      "b6a326a658b64132b1f422d851322104",
      "133d205dc1f4446cbcfcbe259b863ea4",
      "59b19568ce9448a7b27a3415988828b0",
      "a9f552809a9b4c53aa9c5fd7f8c440e4",
      "ad4cf9e8bde14f1096e48580cc7b4410",
      "8e77c11720494fe7a46d5e0b29ac466d",
      "05c8785a4e26411195da24785d9f3e80",
      "f181b2b8cb1744c2b1854d2a4194e8d3",
      "5445a83b25494329b335ac76ed3f262c",
      "10ddf15c784641249df8760d4c0a864f",
      "3651c5f3944a42ed9fac71cd477793a1",
      "d99c83e6cef64ab6bc1118c998a6579b",
      "be81d7132fff49ceb5bd70a0bb4b0d7b",
      "571b43b66fd04e069999d03449fe9dc2",
      "b7fb0a005ad94149a77c86a4ee1577e9",
      "9ed6a982eb174fa28a345749c924aaaf",
      "20589339213d4742ae5605eabb791a04",
      "585cc6978c694c05b16a1dcda9d8f679",
      "3ccfe38c07074cdfad7359ec7048a3fd",
      "6bc6ea1834ef4c45ab5069105486b81a",
      "0341b856e60e415a9b1aefb8676a3060",
      "e07207b43d384694ad78897c8cd041b9",
      "d576347a01204cb9b3bf6a033cef0fd8",
      "0974beb0846a4cf5a062e71aaf23b4e8",
      "7a9a25a39da4438faa9697f106485369",
      "462ee145b6c249e79fda77567b431be4",
      "3bf047b7afd342b3ae8aff24eaebc25e",
      "bf62afd0b98b4b2abb34ec7f80b619ac",
      "032c545e6bf9440788ec6581620ae5fc",
      "3140e9094db84068a610d82245a2e910",
      "ab97ce685edf4a0aae39d744b801ea1b",
      "82f143c725354bbe90a3657d297deece",
      "988a479264d740369639b65ee89af97f",
      "71f55f2d5d2e4ef6b83af0f91f8f7df1",
      "5e06036229f542058721ce9050c90017",
      "b968cc6dd22f461cab017916aadcfb3c",
      "b7a0ae6fe3804067ba757c1f473e3a38",
      "4b0f7fb900074bf59db5388a9b7edf32",
      "428efdc1aa8e4ff3847c8fd59312e114",
      "dd20aea0ace24625aa3b3620921a4f6f",
      "d5289363a66a46d19819772fee098d66",
      "9bb90cd9f35d4d12a5b7b0b4782103da",
      "3f320cf546344de4942b79d8df24bd68",
      "9b0660dd075040e68e108ff82eb95903",
      "2b5c5415ae594d93896e927daf895dea",
      "e03c67f4c42c4d2bac22c7e99e9eb970",
      "6a73732fc6a14ca8aafda345ab3db086",
      "c53c150c673747a3b1d69c6d66f1b79e",
      "885e50790dac4743b413cb2fb783c03f",
      "e29138497e754b998bb82067cacc9630",
      "6518065b61324df884a382cce79e66c3",
      "d2c86034bbcf4f548fe7d84659696e98",
      "7504858a4135492e88fdccc5ff5bbc57",
      "a0e7cdb8b1df459ca7aa4fa31354a45b",
      "9caf85d21a08497a9b47e7610c7ecd52",
      "468bb4c226784f14bbe280d9849ba11d",
      "2461651bffb0411c9027009a1cf0f8fa",
      "1f1c9461e825436fb21313f104ea555e",
      "d665f4933d4d4427a7b01cd8c17c0a91",
      "784bf489f94b496f98b3fb4b21339a46",
      "e51335d6fa9544008dd23c13c40993a1",
      "8c5ec9ba74444548b72e0d17883cf94a",
      "4775f9a0e43144a0ad47a6bfd680220c",
      "fd773fa2615045a3b773fd6cc71ead6b",
      "16d440f473b345ceaf996af6e739dda8",
      "8ecf1c005ca2410ca6d52d2ea38f6c47",
      "2ea7c02900c44f5e9506c2bc09d99042",
      "3d4ba7e3201442abaa3407507649afa1",
      "2bae4081cf5e46d1865fde303264604c",
      "0c39371a0b3d4edabf9ad0f022b006ec",
      "8c9fee7f712845a893c0b28387e03d68",
      "d65bf6c9616b4cf283da783d12038156",
      "76b2c7806e584f829b0fd875ee170091",
      "08ae48f6758940bd9a7f4102dc8fb538",
      "83ad0bc69f0e4433bddc592a997e3d1d",
      "d5058370edac4eb7b6ac8a1c451cfdb3",
      "8fa3b73140df47d2817f3cf4411278ae",
      "bc0cfa4b6385421aa77588ccb48e4b02",
      "bd3d03d88f6d41029eae1d72fbf359a7",
      "73c39f85710e49e782c9d69ca9aa3efa",
      "3a0b82a728a54ecca36e39ca01c538e3",
      "f18050eb2d0640cea76d77a9e44e5926",
      "da26a91005754f7a875f69389257eb5e",
      "bbf5a3e5d133460ebd9128b4e3df26ea",
      "793e352f678242249439d0adce3f5eb5",
      "9e6846051aa948f9b3f11c58c89f1277",
      "6786f8a2d82649999d5035c536699807",
      "fdc660566fe845ecb621ad64e3bee0f7",
      "bf6aeaabbfc148baa8fe14c8a8cfc4fb",
      "f7458ea505fc44b2873181254327eb5a",
      "67504aa5639044c6992e9f3451deac87",
      "39aa5c6a7bc34d5eaac93a02bfe77076",
      "dc287c0c511c46be9f4d9f4514a1908c",
      "bba269890b3144edbc96407c74e9eb94",
      "dce7d59f5f8c4776b30db4c24ab617dd",
      "7bead3c36ea24d329adbd2cf6b66153d",
      "75350e4b07b04a8695f00a25814f3eab",
      "b2af8359ac4d486189a5b402b45da293",
      "5191b32bd1e74b189d14bd301c3140f4",
      "796c160ced5642709306f46dbd449ca5",
      "29d122c6d65b4c3888f0b78455278d57",
      "88d2d411770e4d26973bace305eed98e",
      "37241ee3fb84431e9c55fc7bc65f7225",
      "1d8c1ca5aab6410db2bbf54c9fa19c94",
      "560f5e697c414a368ef6fe4aaf30d329",
      "6452562daa0d4f3da5f067e4c675e551",
      "29f64faab04c47e58886b7aaeaf8e8d8",
      "aadd4cab41ad477c9fde178d1f5269b4",
      "e0a6632081d74143b455c15589502d85",
      "7cd7e28067904e05b05c9570bc07a0b9",
      "c23fdc7f9a4b47368e501e85308ccf80",
      "115d3b577a3a46f09d25d96b4e4edc6a",
      "081bb19a3b7a4eb7a0d02e3a60cae9fc",
      "8fee98c9e86145c382537163ef633a3e",
      "38c13f72c1d24f8c8a6b28c3d784629c",
      "df0526e47d3a4e1fbe15a1429a6bb0fa",
      "e2b1b5f4cc67404b92d7c9f3e5328ff9",
      "3e3790188b534e71a2fba35ec1c666a0",
      "d0dd9616913d47139db5fd48fd7b02c2",
      "ea45bcbc29b24a64b6036e86b9724d0a",
      "c4507ec04ccc4f1796d0ce25e7f77740",
      "e53b2b2d64a04934be53ab23fa12ce5e",
      "48d88fb242f942f4b3cf7765ef4a562f",
      "af234bcef9ed46b5a4265fae31ac77be",
      "8a4293ab94444b48b01e0cd774d20c49",
      "c8e0d13949dd4400b232083f63dbfe72",
      "ba40294e1ded4d43b211785a606ca0b9",
      "82f5114b82e84df7bb924e156ae79a02",
      "463e8a63adff41f3b915b86855c95143",
      "6fbfbb69fe0143cab8ddaad6a73da19a",
      "019525aaf38f4148870a2c671c596776",
      "2b5187b34499464085bfcef46b7d6113",
      "e870cd2fc2d6440dbb29f3e9f1bc919b",
      "7fc0dfc909794c7194075c64c9dbbe78",
      "8ced0cb3474940db8516947c89c56e47",
      "c325e27289db48ae8428ceae8b83a278",
      "1a7c35142dda40f288d9c62ddcfa494b",
      "33d260b313ed4ab7a07054606e739272",
      "15d24862a12d4cdfb7bbe210786f38fe",
      "25e0b8e8394444f3afe1f944ed658e00",
      "d67f98cacf894903beece2225204a79d",
      "b2cb90e8821e4393acf8b9ca6c57e476",
      "bbccc1e7632546b683da43a7f5c90086",
      "8f8fa5f9e95e418698fc5d81154e6371",
      "a2e24afa32fa4410b250b299eee119ff",
      "1fa7494678d048d7bf113f1a1d2523ea",
      "8ed160a1297b4a06b7660362977d2df6",
      "87019aac011c44cab34595f7dcd95bb5",
      "156a9c93088c41f6aceaa2caf9634b38",
      "c50174824ee440c9a5aca8527639865d",
      "5655845776244e589fa3294379a7ddf1",
      "7bd676b25f324026b2058048fca96b63",
      "59842f72c3cd4d9994551bd88ee7155e",
      "ab74e32618764d25b0efa6b15da5170c",
      "ae2461901e2a4ade86548c0947323978",
      "4e6d051c6a2b4e35b73f9ab636d6ccf3",
      "59f383d27a724671aa5de9de85b78da4",
      "1e09d58e0be94ae3bbd5faa70963074b",
      "e20b260560a944358704aa7e7260fda7",
      "6ee4bde6a993414f9013b4bdc26217f7",
      "1e8da66b1e3542898fb715e71a6ae316",
      "01db06ed8f7e401c9f36743ac61316f0",
      "e2bab315f86b4936be77966aac9ede83",
      "a693a49bd6f342abbf3529154ffe75b4",
      "79530432b80c47e59afd411d8312cb51",
      "8914b9b2e33e42268899543f7b6ed777",
      "39080359a6694cddbc473eeaff8a627e",
      "6845b33c84ce44fd9e76ae2abddd56ed",
      "6116c090767b40cc8815cd0b23707f6f",
      "7861d9d6694b45febd9241b51b46af1e",
      "4551b45a2ab14e9ab336d4f7b9f05ed8",
      "e5656ae326ab43279bd0d3fe27110060",
      "a18c0cc86bc548cca1a4f7ea32501de6",
      "da30aa65a15b43ad81ca1710f9cf0450",
      "e5b2f249212949fab68fa54e99dd6db5",
      "94c884d1f7b34f4eab8140e29999e237",
      "9139d54c355042cfa365873bcbeb3eba",
      "9a32a2c2e58149e09a59a2d712f54225",
      "aad8e00cd91642918080948cfe6ca89e",
      "f622768ef3a645f283ceca943055e458",
      "e7033593975740ad852cc5d50dde810e",
      "aac3005c27c2412ab25200bf28217398",
      "d86d0484927d4994a11da3f718502024",
      "03fc82885f664e05a5d28bc32e4f55a5",
      "1cd24966633340d7b13e132a5fd32a59",
      "0f31cf18785b44a09b0bf391ce50d1f0",
      "b3b5868f866d44b1a0c3d505925fce8e",
      "f31103542b2f422780581e643f9c25cf",
      "a778d1668b364460bd7a8e78b630d0a4",
      "846388752aa4457d9302a96d76f8a969",
      "02424743c6ee47ecb05fe445c1a5da27",
      "8884bec9b62747bb9972707767db5d02",
      "afd6660c1ddb4c87b037f62e31a0be7f",
      "bb76e0645da045e1ae1b3229e6c3d75a",
      "2777ea1e143b4243a1c2b26b7f361bf6",
      "77c2317fb28f48edb1b0d9ba5c0666c9",
      "f47ab059da134876af6089acfd000888",
      "0038fcb014464d01b09b0a484dfc17a4",
      "8b67ea03c80a4679abdcf09f78740060",
      "da0a12bc658b4d728e17a434fb9ab5a6",
      "eb4453c6a45741aba96817ac8d9a1d7b",
      "575e97cbab7644f08aeaedab52a3ba9f",
      "0ce69c0be28a470790ed8547fd6bdfc8",
      "6ed4297c3e014fd497823bcb712fb634",
      "274afda0f5104973a46c82faaf054575",
      "2110a558e0a24c1ab3aef7e222a2b581",
      "2a3ab8ac1a1b47ddbf25bd40732accae",
      "82307150d96145c4bc3fd96ac914d393",
      "8fb0e710754a43dab6d50bc37f9df4b0",
      "7ea124a6192e4c7aa2ae3a1f9d4a29aa",
      "c5e979aec7584f1e871e62c4b748954a",
      "90ee6f1c976d4f9fbf13a8ce3146de43",
      "d86b3689d8ad4eeab580c8a89c24dd0b",
      "c40a56bfa2fe4a4ebb65ec819b454af5",
      "b02157cba725412484f65d7380d07739",
      "f3c128482e19460380d8fba2c1446cde",
      "e4f43cadc27c45ea8d7c4433c740dd60",
      "9b8e6fbdc4c94139ae67f30b119827ce",
      "8d03955a534a4aaba007d41bd3e26112",
      "c59d1ca64c1c4aa0953d7f7f060b9d5e",
      "3440e0f39f074c029521337d86495b48",
      "8c539d3fb72941469be47490ef623efe",
      "84f4c8ffa9964885aa6fa799c7d2f767",
      "f137314bcaca43a9883f472d5f6da041",
      "3836963c802c4f8d8541e3d26b25b95c",
      "815198b2ad1b4826aa2fd20d66b31004",
      "ccabfe1ebab246179f9a42dfd74b778f",
      "c5fc857a939d4c7491317c2a4e86c866",
      "9e77bcd2eb5a4245b789962470f04136",
      "67a370a0017844c5b1ed88054de575d9",
      "9b5cc203c1cc4a8a8c341d87e191534a",
      "9f70a12c2d2c4c67a500b6dd36604683",
      "f415c271d6d248eaaff35208640bf80a",
      "c56cc682b2814db9af997541c22d7a56",
      "535bc78433b24aadae84171ff6787ef2",
      "98a02ed3c8a74318910f561d6879b12d",
      "29647e7c87574d9db6e853015d9db119",
      "842f14b86e564af7b4792757d49bcb5c"
     ]
    },
    "collapsed": true,
    "id": "433bf8e4",
    "outputId": "ab477cfe-159a-4cbf-f814-4d3123058188"
   },
   "outputs": [
    {
     "data": {
      "text/html": [
       "<pre style=\"white-space:pre;overflow-x:auto;line-height:normal;font-family:Menlo,'DejaVu Sans Mono',consolas,'Courier New',monospace\">Reading secret from C:\\Users\\david\\Documents\\GitHub\\ds-network-analysis\\data\\my_secrets.yaml…\n",
       "</pre>\n"
      ],
      "text/plain": [
       "<rich.jupyter.JupyterRenderable at 0x1829677e950>"
      ]
     },
     "metadata": {},
     "output_type": "display_data"
    },
    {
     "data": {
      "application/vnd.jupyter.widget-view+json": {
       "model_id": "1fc374467653470494a46affaa171615",
       "version_major": 2,
       "version_minor": 0
      },
      "text/plain": [
       "Output()"
      ]
     },
     "metadata": {},
     "output_type": "display_data"
    },
    {
     "data": {
      "text/html": [
       "<pre style=\"white-space:pre;overflow-x:auto;line-height:normal;font-family:Menlo,'DejaVu Sans Mono',consolas,'Courier New',monospace\">Reading secret from C:\\Users\\david\\Documents\\GitHub\\ds-network-analysis\\data\\my_secrets.yaml…\n",
       "</pre>\n"
      ],
      "text/plain": [
       "<rich.jupyter.JupyterRenderable at 0x1829677e920>"
      ]
     },
     "metadata": {},
     "output_type": "display_data"
    },
    {
     "data": {
      "application/vnd.jupyter.widget-view+json": {
       "model_id": "4e2794fc667648c9af8569b5b2fe74c3",
       "version_major": 2,
       "version_minor": 0
      },
      "text/plain": [
       "Output()"
      ]
     },
     "metadata": {},
     "output_type": "display_data"
    },
    {
     "name": "stderr",
     "output_type": "stream",
     "text": [
      "caught requests exception: HTTPSConnectionPool(host='api.twitter.com', port=443): Read timed out. (read timeout=3.05)\n",
      "caught requests exception: HTTPSConnectionPool(host='api.twitter.com', port=443): Read timed out. (read timeout=3.05)\n"
     ]
    },
    {
     "data": {
      "text/html": [
       "<pre style=\"white-space:pre;overflow-x:auto;line-height:normal;font-family:Menlo,'DejaVu Sans Mono',consolas,'Courier New',monospace\">Reading secret from C:\\Users\\david\\Documents\\GitHub\\ds-network-analysis\\data\\my_secrets.yaml…\n",
       "</pre>\n"
      ],
      "text/plain": [
       "<rich.jupyter.JupyterRenderable at 0x1829677d9c0>"
      ]
     },
     "metadata": {},
     "output_type": "display_data"
    },
    {
     "data": {
      "application/vnd.jupyter.widget-view+json": {
       "model_id": "bb3d017d33484d24805f0e88df9eaf72",
       "version_major": 2,
       "version_minor": 0
      },
      "text/plain": [
       "Output()"
      ]
     },
     "metadata": {},
     "output_type": "display_data"
    },
    {
     "data": {
      "text/html": [
       "<pre style=\"white-space:pre;overflow-x:auto;line-height:normal;font-family:Menlo,'DejaVu Sans Mono',consolas,'Courier New',monospace\">Reading secret from C:\\Users\\david\\Documents\\GitHub\\ds-network-analysis\\data\\my_secrets.yaml…\n",
       "</pre>\n"
      ],
      "text/plain": [
       "<rich.jupyter.JupyterRenderable at 0x1829677ed70>"
      ]
     },
     "metadata": {},
     "output_type": "display_data"
    },
    {
     "data": {
      "application/vnd.jupyter.widget-view+json": {
       "model_id": "b85ae739baab48638c6fa18cfc3da7dc",
       "version_major": 2,
       "version_minor": 0
      },
      "text/plain": [
       "Output()"
      ]
     },
     "metadata": {},
     "output_type": "display_data"
    },
    {
     "data": {
      "text/html": [
       "<pre style=\"white-space:pre;overflow-x:auto;line-height:normal;font-family:Menlo,'DejaVu Sans Mono',consolas,'Courier New',monospace\">Reading secret from C:\\Users\\david\\Documents\\GitHub\\ds-network-analysis\\data\\my_secrets.yaml…\n",
       "</pre>\n"
      ],
      "text/plain": [
       "<rich.jupyter.JupyterRenderable at 0x1829677da50>"
      ]
     },
     "metadata": {},
     "output_type": "display_data"
    },
    {
     "data": {
      "application/vnd.jupyter.widget-view+json": {
       "model_id": "672130c67fef4b53b4f1da09bec650ef",
       "version_major": 2,
       "version_minor": 0
      },
      "text/plain": [
       "Output()"
      ]
     },
     "metadata": {},
     "output_type": "display_data"
    },
    {
     "data": {
      "text/html": [
       "<pre style=\"white-space:pre;overflow-x:auto;line-height:normal;font-family:Menlo,'DejaVu Sans Mono',consolas,'Courier New',monospace\">Reading secret from C:\\Users\\david\\Documents\\GitHub\\ds-network-analysis\\data\\my_secrets.yaml…\n",
       "</pre>\n"
      ],
      "text/plain": [
       "<rich.jupyter.JupyterRenderable at 0x1829677e950>"
      ]
     },
     "metadata": {},
     "output_type": "display_data"
    },
    {
     "data": {
      "application/vnd.jupyter.widget-view+json": {
       "model_id": "6d4d4901830b4221b2a62c07040e12be",
       "version_major": 2,
       "version_minor": 0
      },
      "text/plain": [
       "Output()"
      ]
     },
     "metadata": {},
     "output_type": "display_data"
    },
    {
     "data": {
      "text/html": [
       "<pre style=\"white-space:pre;overflow-x:auto;line-height:normal;font-family:Menlo,'DejaVu Sans Mono',consolas,'Courier New',monospace\">Reading secret from C:\\Users\\david\\Documents\\GitHub\\ds-network-analysis\\data\\my_secrets.yaml…\n",
       "</pre>\n"
      ],
      "text/plain": [
       "<rich.jupyter.JupyterRenderable at 0x1829677ed70>"
      ]
     },
     "metadata": {},
     "output_type": "display_data"
    },
    {
     "data": {
      "application/vnd.jupyter.widget-view+json": {
       "model_id": "aaf75d0b4ee14665874540118c54ffd2",
       "version_major": 2,
       "version_minor": 0
      },
      "text/plain": [
       "Output()"
      ]
     },
     "metadata": {},
     "output_type": "display_data"
    },
    {
     "data": {
      "text/html": [
       "<pre style=\"white-space:pre;overflow-x:auto;line-height:normal;font-family:Menlo,'DejaVu Sans Mono',consolas,'Courier New',monospace\">Reading secret from C:\\Users\\david\\Documents\\GitHub\\ds-network-analysis\\data\\my_secrets.yaml…\n",
       "</pre>\n"
      ],
      "text/plain": [
       "<rich.jupyter.JupyterRenderable at 0x1829677e620>"
      ]
     },
     "metadata": {},
     "output_type": "display_data"
    },
    {
     "data": {
      "application/vnd.jupyter.widget-view+json": {
       "model_id": "802e6a90dead4910bb66a6d57e8b934a",
       "version_major": 2,
       "version_minor": 0
      },
      "text/plain": [
       "Output()"
      ]
     },
     "metadata": {},
     "output_type": "display_data"
    },
    {
     "data": {
      "text/html": [
       "<pre style=\"white-space:pre;overflow-x:auto;line-height:normal;font-family:Menlo,'DejaVu Sans Mono',consolas,'Courier New',monospace\">Reading secret from C:\\Users\\david\\Documents\\GitHub\\ds-network-analysis\\data\\my_secrets.yaml…\n",
       "</pre>\n"
      ],
      "text/plain": [
       "<rich.jupyter.JupyterRenderable at 0x1829677dc60>"
      ]
     },
     "metadata": {},
     "output_type": "display_data"
    },
    {
     "data": {
      "application/vnd.jupyter.widget-view+json": {
       "model_id": "f89eedf475504d2fa27e824ae96ffc3e",
       "version_major": 2,
       "version_minor": 0
      },
      "text/plain": [
       "Output()"
      ]
     },
     "metadata": {},
     "output_type": "display_data"
    },
    {
     "data": {
      "text/html": [
       "<pre style=\"white-space:pre;overflow-x:auto;line-height:normal;font-family:Menlo,'DejaVu Sans Mono',consolas,'Courier New',monospace\">Reading secret from C:\\Users\\david\\Documents\\GitHub\\ds-network-analysis\\data\\my_secrets.yaml…\n",
       "</pre>\n"
      ],
      "text/plain": [
       "<rich.jupyter.JupyterRenderable at 0x1829684a5c0>"
      ]
     },
     "metadata": {},
     "output_type": "display_data"
    },
    {
     "data": {
      "application/vnd.jupyter.widget-view+json": {
       "model_id": "3bc3b4652aed46b094c76620187694d7",
       "version_major": 2,
       "version_minor": 0
      },
      "text/plain": [
       "Output()"
      ]
     },
     "metadata": {},
     "output_type": "display_data"
    },
    {
     "data": {
      "text/html": [
       "<pre style=\"white-space:pre;overflow-x:auto;line-height:normal;font-family:Menlo,'DejaVu Sans Mono',consolas,'Courier New',monospace\">Reading secret from C:\\Users\\david\\Documents\\GitHub\\ds-network-analysis\\data\\my_secrets.yaml…\n",
       "</pre>\n"
      ],
      "text/plain": [
       "<rich.jupyter.JupyterRenderable at 0x182968482b0>"
      ]
     },
     "metadata": {},
     "output_type": "display_data"
    },
    {
     "data": {
      "application/vnd.jupyter.widget-view+json": {
       "model_id": "768cd532a0e04abd8af37b78f3fb3284",
       "version_major": 2,
       "version_minor": 0
      },
      "text/plain": [
       "Output()"
      ]
     },
     "metadata": {},
     "output_type": "display_data"
    },
    {
     "data": {
      "text/html": [
       "<pre style=\"white-space:pre;overflow-x:auto;line-height:normal;font-family:Menlo,'DejaVu Sans Mono',consolas,'Courier New',monospace\">Reading secret from C:\\Users\\david\\Documents\\GitHub\\ds-network-analysis\\data\\my_secrets.yaml…\n",
       "</pre>\n"
      ],
      "text/plain": [
       "<rich.jupyter.JupyterRenderable at 0x1829684b340>"
      ]
     },
     "metadata": {},
     "output_type": "display_data"
    },
    {
     "data": {
      "application/vnd.jupyter.widget-view+json": {
       "model_id": "bf022a2c32864133aa2cf9d04a8e4f09",
       "version_major": 2,
       "version_minor": 0
      },
      "text/plain": [
       "Output()"
      ]
     },
     "metadata": {},
     "output_type": "display_data"
    },
    {
     "data": {
      "text/html": [
       "<pre style=\"white-space:pre;overflow-x:auto;line-height:normal;font-family:Menlo,'DejaVu Sans Mono',consolas,'Courier New',monospace\">Reading secret from C:\\Users\\david\\Documents\\GitHub\\ds-network-analysis\\data\\my_secrets.yaml…\n",
       "</pre>\n"
      ],
      "text/plain": [
       "<rich.jupyter.JupyterRenderable at 0x1829684b8b0>"
      ]
     },
     "metadata": {},
     "output_type": "display_data"
    },
    {
     "data": {
      "application/vnd.jupyter.widget-view+json": {
       "model_id": "7538c95880d44e40859556f755247b71",
       "version_major": 2,
       "version_minor": 0
      },
      "text/plain": [
       "Output()"
      ]
     },
     "metadata": {},
     "output_type": "display_data"
    },
    {
     "data": {
      "text/html": [
       "<pre style=\"white-space:pre;overflow-x:auto;line-height:normal;font-family:Menlo,'DejaVu Sans Mono',consolas,'Courier New',monospace\">Reading secret from C:\\Users\\david\\Documents\\GitHub\\ds-network-analysis\\data\\my_secrets.yaml…\n",
       "</pre>\n"
      ],
      "text/plain": [
       "<rich.jupyter.JupyterRenderable at 0x1829684a920>"
      ]
     },
     "metadata": {},
     "output_type": "display_data"
    },
    {
     "data": {
      "application/vnd.jupyter.widget-view+json": {
       "model_id": "d41ce7e6724244d0aedf6f6b9169d847",
       "version_major": 2,
       "version_minor": 0
      },
      "text/plain": [
       "Output()"
      ]
     },
     "metadata": {},
     "output_type": "display_data"
    },
    {
     "data": {
      "text/html": [
       "<pre style=\"white-space:pre;overflow-x:auto;line-height:normal;font-family:Menlo,'DejaVu Sans Mono',consolas,'Courier New',monospace\">Reading secret from C:\\Users\\david\\Documents\\GitHub\\ds-network-analysis\\data\\my_secrets.yaml…\n",
       "</pre>\n"
      ],
      "text/plain": [
       "<rich.jupyter.JupyterRenderable at 0x182968495a0>"
      ]
     },
     "metadata": {},
     "output_type": "display_data"
    },
    {
     "data": {
      "application/vnd.jupyter.widget-view+json": {
       "model_id": "ef20df67cb4a4d068fe98a794ce055c4",
       "version_major": 2,
       "version_minor": 0
      },
      "text/plain": [
       "Output()"
      ]
     },
     "metadata": {},
     "output_type": "display_data"
    },
    {
     "data": {
      "text/html": [
       "<pre style=\"white-space:pre;overflow-x:auto;line-height:normal;font-family:Menlo,'DejaVu Sans Mono',consolas,'Courier New',monospace\">Reading secret from C:\\Users\\david\\Documents\\GitHub\\ds-network-analysis\\data\\my_secrets.yaml…\n",
       "</pre>\n"
      ],
      "text/plain": [
       "<rich.jupyter.JupyterRenderable at 0x1829684b370>"
      ]
     },
     "metadata": {},
     "output_type": "display_data"
    },
    {
     "data": {
      "application/vnd.jupyter.widget-view+json": {
       "model_id": "f58d38e71c984388878a6f71bf2e32ef",
       "version_major": 2,
       "version_minor": 0
      },
      "text/plain": [
       "Output()"
      ]
     },
     "metadata": {},
     "output_type": "display_data"
    },
    {
     "data": {
      "text/html": [
       "<pre style=\"white-space:pre;overflow-x:auto;line-height:normal;font-family:Menlo,'DejaVu Sans Mono',consolas,'Courier New',monospace\">Reading secret from C:\\Users\\david\\Documents\\GitHub\\ds-network-analysis\\data\\my_secrets.yaml…\n",
       "</pre>\n"
      ],
      "text/plain": [
       "<rich.jupyter.JupyterRenderable at 0x1829684aad0>"
      ]
     },
     "metadata": {},
     "output_type": "display_data"
    },
    {
     "data": {
      "application/vnd.jupyter.widget-view+json": {
       "model_id": "a0db3f2ef9644b519ac1b99173c92b4b",
       "version_major": 2,
       "version_minor": 0
      },
      "text/plain": [
       "Output()"
      ]
     },
     "metadata": {},
     "output_type": "display_data"
    },
    {
     "data": {
      "text/html": [
       "<pre style=\"white-space:pre;overflow-x:auto;line-height:normal;font-family:Menlo,'DejaVu Sans Mono',consolas,'Courier New',monospace\">Reading secret from C:\\Users\\david\\Documents\\GitHub\\ds-network-analysis\\data\\my_secrets.yaml…\n",
       "</pre>\n"
      ],
      "text/plain": [
       "<rich.jupyter.JupyterRenderable at 0x1829684bd30>"
      ]
     },
     "metadata": {},
     "output_type": "display_data"
    },
    {
     "data": {
      "application/vnd.jupyter.widget-view+json": {
       "model_id": "712c6ade23ec4d6abc5fa7ba24c35cbc",
       "version_major": 2,
       "version_minor": 0
      },
      "text/plain": [
       "Output()"
      ]
     },
     "metadata": {},
     "output_type": "display_data"
    },
    {
     "data": {
      "text/html": [
       "<pre style=\"white-space:pre;overflow-x:auto;line-height:normal;font-family:Menlo,'DejaVu Sans Mono',consolas,'Courier New',monospace\">Reading secret from C:\\Users\\david\\Documents\\GitHub\\ds-network-analysis\\data\\my_secrets.yaml…\n",
       "</pre>\n"
      ],
      "text/plain": [
       "<rich.jupyter.JupyterRenderable at 0x1829684a8c0>"
      ]
     },
     "metadata": {},
     "output_type": "display_data"
    },
    {
     "data": {
      "application/vnd.jupyter.widget-view+json": {
       "model_id": "bb5dedcde3534991b2cda1aadc2b8ab0",
       "version_major": 2,
       "version_minor": 0
      },
      "text/plain": [
       "Output()"
      ]
     },
     "metadata": {},
     "output_type": "display_data"
    },
    {
     "data": {
      "text/html": [
       "<pre style=\"white-space:pre;overflow-x:auto;line-height:normal;font-family:Menlo,'DejaVu Sans Mono',consolas,'Courier New',monospace\">Reading secret from C:\\Users\\david\\Documents\\GitHub\\ds-network-analysis\\data\\my_secrets.yaml…\n",
       "</pre>\n"
      ],
      "text/plain": [
       "<rich.jupyter.JupyterRenderable at 0x1829684a530>"
      ]
     },
     "metadata": {},
     "output_type": "display_data"
    },
    {
     "data": {
      "application/vnd.jupyter.widget-view+json": {
       "model_id": "51c254478c1e4c06b081376fbf133f3c",
       "version_major": 2,
       "version_minor": 0
      },
      "text/plain": [
       "Output()"
      ]
     },
     "metadata": {},
     "output_type": "display_data"
    },
    {
     "data": {
      "text/html": [
       "<pre style=\"white-space:pre;overflow-x:auto;line-height:normal;font-family:Menlo,'DejaVu Sans Mono',consolas,'Courier New',monospace\">Reading secret from C:\\Users\\david\\Documents\\GitHub\\ds-network-analysis\\data\\my_secrets.yaml…\n",
       "</pre>\n"
      ],
      "text/plain": [
       "<rich.jupyter.JupyterRenderable at 0x1829684be20>"
      ]
     },
     "metadata": {},
     "output_type": "display_data"
    },
    {
     "data": {
      "application/vnd.jupyter.widget-view+json": {
       "model_id": "fb26170ba0df42dd82327a2f4876d1d9",
       "version_major": 2,
       "version_minor": 0
      },
      "text/plain": [
       "Output()"
      ]
     },
     "metadata": {},
     "output_type": "display_data"
    },
    {
     "data": {
      "text/html": [
       "<pre style=\"white-space:pre;overflow-x:auto;line-height:normal;font-family:Menlo,'DejaVu Sans Mono',consolas,'Courier New',monospace\">Reading secret from C:\\Users\\david\\Documents\\GitHub\\ds-network-analysis\\data\\my_secrets.yaml…\n",
       "</pre>\n"
      ],
      "text/plain": [
       "<rich.jupyter.JupyterRenderable at 0x1829684b8e0>"
      ]
     },
     "metadata": {},
     "output_type": "display_data"
    },
    {
     "data": {
      "application/vnd.jupyter.widget-view+json": {
       "model_id": "88176db219c74753a865af23bfe04258",
       "version_major": 2,
       "version_minor": 0
      },
      "text/plain": [
       "Output()"
      ]
     },
     "metadata": {},
     "output_type": "display_data"
    },
    {
     "data": {
      "text/html": [
       "<pre style=\"white-space:pre;overflow-x:auto;line-height:normal;font-family:Menlo,'DejaVu Sans Mono',consolas,'Courier New',monospace\">Reading secret from C:\\Users\\david\\Documents\\GitHub\\ds-network-analysis\\data\\my_secrets.yaml…\n",
       "</pre>\n"
      ],
      "text/plain": [
       "<rich.jupyter.JupyterRenderable at 0x18296848c40>"
      ]
     },
     "metadata": {},
     "output_type": "display_data"
    },
    {
     "data": {
      "application/vnd.jupyter.widget-view+json": {
       "model_id": "17d0b378400c454fa40ce9775650e326",
       "version_major": 2,
       "version_minor": 0
      },
      "text/plain": [
       "Output()"
      ]
     },
     "metadata": {},
     "output_type": "display_data"
    },
    {
     "data": {
      "text/html": [
       "<pre style=\"white-space:pre;overflow-x:auto;line-height:normal;font-family:Menlo,'DejaVu Sans Mono',consolas,'Courier New',monospace\">Reading secret from C:\\Users\\david\\Documents\\GitHub\\ds-network-analysis\\data\\my_secrets.yaml…\n",
       "</pre>\n"
      ],
      "text/plain": [
       "<rich.jupyter.JupyterRenderable at 0x1829684ab00>"
      ]
     },
     "metadata": {},
     "output_type": "display_data"
    },
    {
     "data": {
      "application/vnd.jupyter.widget-view+json": {
       "model_id": "0531a23a669746c09640ba602aec141b",
       "version_major": 2,
       "version_minor": 0
      },
      "text/plain": [
       "Output()"
      ]
     },
     "metadata": {},
     "output_type": "display_data"
    },
    {
     "data": {
      "text/html": [
       "<pre style=\"white-space:pre;overflow-x:auto;line-height:normal;font-family:Menlo,'DejaVu Sans Mono',consolas,'Courier New',monospace\">Reading secret from C:\\Users\\david\\Documents\\GitHub\\ds-network-analysis\\data\\my_secrets.yaml…\n",
       "</pre>\n"
      ],
      "text/plain": [
       "<rich.jupyter.JupyterRenderable at 0x182968499c0>"
      ]
     },
     "metadata": {},
     "output_type": "display_data"
    },
    {
     "data": {
      "application/vnd.jupyter.widget-view+json": {
       "model_id": "e5d9029d41b14e2aab05c7a25d92b6f0",
       "version_major": 2,
       "version_minor": 0
      },
      "text/plain": [
       "Output()"
      ]
     },
     "metadata": {},
     "output_type": "display_data"
    },
    {
     "data": {
      "text/html": [
       "<pre style=\"white-space:pre;overflow-x:auto;line-height:normal;font-family:Menlo,'DejaVu Sans Mono',consolas,'Courier New',monospace\">Reading secret from C:\\Users\\david\\Documents\\GitHub\\ds-network-analysis\\data\\my_secrets.yaml…\n",
       "</pre>\n"
      ],
      "text/plain": [
       "<rich.jupyter.JupyterRenderable at 0x1829684bbe0>"
      ]
     },
     "metadata": {},
     "output_type": "display_data"
    },
    {
     "data": {
      "application/vnd.jupyter.widget-view+json": {
       "model_id": "3fc81d7ba94b488ead8aa6de40ac6f61",
       "version_major": 2,
       "version_minor": 0
      },
      "text/plain": [
       "Output()"
      ]
     },
     "metadata": {},
     "output_type": "display_data"
    },
    {
     "data": {
      "text/html": [
       "<pre style=\"white-space:pre;overflow-x:auto;line-height:normal;font-family:Menlo,'DejaVu Sans Mono',consolas,'Courier New',monospace\">Reading secret from C:\\Users\\david\\Documents\\GitHub\\ds-network-analysis\\data\\my_secrets.yaml…\n",
       "</pre>\n"
      ],
      "text/plain": [
       "<rich.jupyter.JupyterRenderable at 0x18296848220>"
      ]
     },
     "metadata": {},
     "output_type": "display_data"
    },
    {
     "data": {
      "application/vnd.jupyter.widget-view+json": {
       "model_id": "b654895c1f424f37ba14cddf7f513b9f",
       "version_major": 2,
       "version_minor": 0
      },
      "text/plain": [
       "Output()"
      ]
     },
     "metadata": {},
     "output_type": "display_data"
    },
    {
     "data": {
      "text/html": [
       "<pre style=\"white-space:pre;overflow-x:auto;line-height:normal;font-family:Menlo,'DejaVu Sans Mono',consolas,'Courier New',monospace\">Reading secret from C:\\Users\\david\\Documents\\GitHub\\ds-network-analysis\\data\\my_secrets.yaml…\n",
       "</pre>\n"
      ],
      "text/plain": [
       "<rich.jupyter.JupyterRenderable at 0x1829792c070>"
      ]
     },
     "metadata": {},
     "output_type": "display_data"
    },
    {
     "data": {
      "application/vnd.jupyter.widget-view+json": {
       "model_id": "6375911d23c649e3948c59377d5423bd",
       "version_major": 2,
       "version_minor": 0
      },
      "text/plain": [
       "Output()"
      ]
     },
     "metadata": {},
     "output_type": "display_data"
    },
    {
     "data": {
      "text/html": [
       "<pre style=\"white-space:pre;overflow-x:auto;line-height:normal;font-family:Menlo,'DejaVu Sans Mono',consolas,'Courier New',monospace\">Reading secret from C:\\Users\\david\\Documents\\GitHub\\ds-network-analysis\\data\\my_secrets.yaml…\n",
       "</pre>\n"
      ],
      "text/plain": [
       "<rich.jupyter.JupyterRenderable at 0x1829792e200>"
      ]
     },
     "metadata": {},
     "output_type": "display_data"
    },
    {
     "data": {
      "application/vnd.jupyter.widget-view+json": {
       "model_id": "20a1067663914933b0f88d3347b6724d",
       "version_major": 2,
       "version_minor": 0
      },
      "text/plain": [
       "Output()"
      ]
     },
     "metadata": {},
     "output_type": "display_data"
    },
    {
     "data": {
      "text/html": [
       "<pre style=\"white-space:pre;overflow-x:auto;line-height:normal;font-family:Menlo,'DejaVu Sans Mono',consolas,'Courier New',monospace\">Reading secret from C:\\Users\\david\\Documents\\GitHub\\ds-network-analysis\\data\\my_secrets.yaml…\n",
       "</pre>\n"
      ],
      "text/plain": [
       "<rich.jupyter.JupyterRenderable at 0x1829792ed10>"
      ]
     },
     "metadata": {},
     "output_type": "display_data"
    },
    {
     "data": {
      "application/vnd.jupyter.widget-view+json": {
       "model_id": "ea054ddf5bb741eda3934f2a21055fbc",
       "version_major": 2,
       "version_minor": 0
      },
      "text/plain": [
       "Output()"
      ]
     },
     "metadata": {},
     "output_type": "display_data"
    },
    {
     "data": {
      "text/html": [
       "<pre style=\"white-space:pre;overflow-x:auto;line-height:normal;font-family:Menlo,'DejaVu Sans Mono',consolas,'Courier New',monospace\">Reading secret from C:\\Users\\david\\Documents\\GitHub\\ds-network-analysis\\data\\my_secrets.yaml…\n",
       "</pre>\n"
      ],
      "text/plain": [
       "<rich.jupyter.JupyterRenderable at 0x1829792dc00>"
      ]
     },
     "metadata": {},
     "output_type": "display_data"
    },
    {
     "data": {
      "application/vnd.jupyter.widget-view+json": {
       "model_id": "89364b0c769e4b46a62a1462a4617b75",
       "version_major": 2,
       "version_minor": 0
      },
      "text/plain": [
       "Output()"
      ]
     },
     "metadata": {},
     "output_type": "display_data"
    },
    {
     "data": {
      "text/html": [
       "<pre style=\"white-space:pre;overflow-x:auto;line-height:normal;font-family:Menlo,'DejaVu Sans Mono',consolas,'Courier New',monospace\">Reading secret from C:\\Users\\david\\Documents\\GitHub\\ds-network-analysis\\data\\my_secrets.yaml…\n",
       "</pre>\n"
      ],
      "text/plain": [
       "<rich.jupyter.JupyterRenderable at 0x1829792ee00>"
      ]
     },
     "metadata": {},
     "output_type": "display_data"
    },
    {
     "data": {
      "application/vnd.jupyter.widget-view+json": {
       "model_id": "8dc1f9f1854343bfb0e0cc8f9522dbc7",
       "version_major": 2,
       "version_minor": 0
      },
      "text/plain": [
       "Output()"
      ]
     },
     "metadata": {},
     "output_type": "display_data"
    },
    {
     "data": {
      "text/html": [
       "<pre style=\"white-space:pre;overflow-x:auto;line-height:normal;font-family:Menlo,'DejaVu Sans Mono',consolas,'Courier New',monospace\">Reading secret from C:\\Users\\david\\Documents\\GitHub\\ds-network-analysis\\data\\my_secrets.yaml…\n",
       "</pre>\n"
      ],
      "text/plain": [
       "<rich.jupyter.JupyterRenderable at 0x1829792f6a0>"
      ]
     },
     "metadata": {},
     "output_type": "display_data"
    },
    {
     "data": {
      "application/vnd.jupyter.widget-view+json": {
       "model_id": "f0ce0bb046854914b3d0b4087b37d2c4",
       "version_major": 2,
       "version_minor": 0
      },
      "text/plain": [
       "Output()"
      ]
     },
     "metadata": {},
     "output_type": "display_data"
    },
    {
     "data": {
      "text/html": [
       "<pre style=\"white-space:pre;overflow-x:auto;line-height:normal;font-family:Menlo,'DejaVu Sans Mono',consolas,'Courier New',monospace\">Reading secret from C:\\Users\\david\\Documents\\GitHub\\ds-network-analysis\\data\\my_secrets.yaml…\n",
       "</pre>\n"
      ],
      "text/plain": [
       "<rich.jupyter.JupyterRenderable at 0x1829792d870>"
      ]
     },
     "metadata": {},
     "output_type": "display_data"
    },
    {
     "data": {
      "application/vnd.jupyter.widget-view+json": {
       "model_id": "32a6a3ced1dd47c7bd56204d25b1573f",
       "version_major": 2,
       "version_minor": 0
      },
      "text/plain": [
       "Output()"
      ]
     },
     "metadata": {},
     "output_type": "display_data"
    },
    {
     "data": {
      "text/html": [
       "<pre style=\"white-space:pre;overflow-x:auto;line-height:normal;font-family:Menlo,'DejaVu Sans Mono',consolas,'Courier New',monospace\">Reading secret from C:\\Users\\david\\Documents\\GitHub\\ds-network-analysis\\data\\my_secrets.yaml…\n",
       "</pre>\n"
      ],
      "text/plain": [
       "<rich.jupyter.JupyterRenderable at 0x1829792f940>"
      ]
     },
     "metadata": {},
     "output_type": "display_data"
    },
    {
     "data": {
      "application/vnd.jupyter.widget-view+json": {
       "model_id": "f6cd4d6e14e3496496183e3ac0bf6711",
       "version_major": 2,
       "version_minor": 0
      },
      "text/plain": [
       "Output()"
      ]
     },
     "metadata": {},
     "output_type": "display_data"
    },
    {
     "data": {
      "text/html": [
       "<pre style=\"white-space:pre;overflow-x:auto;line-height:normal;font-family:Menlo,'DejaVu Sans Mono',consolas,'Courier New',monospace\">Reading secret from C:\\Users\\david\\Documents\\GitHub\\ds-network-analysis\\data\\my_secrets.yaml…\n",
       "</pre>\n"
      ],
      "text/plain": [
       "<rich.jupyter.JupyterRenderable at 0x1829792cc10>"
      ]
     },
     "metadata": {},
     "output_type": "display_data"
    },
    {
     "data": {
      "application/vnd.jupyter.widget-view+json": {
       "model_id": "2cba0ed4c4a4487f9056e3b272aea6ed",
       "version_major": 2,
       "version_minor": 0
      },
      "text/plain": [
       "Output()"
      ]
     },
     "metadata": {},
     "output_type": "display_data"
    },
    {
     "data": {
      "text/html": [
       "<pre style=\"white-space:pre;overflow-x:auto;line-height:normal;font-family:Menlo,'DejaVu Sans Mono',consolas,'Courier New',monospace\">Reading secret from C:\\Users\\david\\Documents\\GitHub\\ds-network-analysis\\data\\my_secrets.yaml…\n",
       "</pre>\n"
      ],
      "text/plain": [
       "<rich.jupyter.JupyterRenderable at 0x1829684bbe0>"
      ]
     },
     "metadata": {},
     "output_type": "display_data"
    },
    {
     "data": {
      "application/vnd.jupyter.widget-view+json": {
       "model_id": "c5cf62b744774141b0eef9bffb8f531a",
       "version_major": 2,
       "version_minor": 0
      },
      "text/plain": [
       "Output()"
      ]
     },
     "metadata": {},
     "output_type": "display_data"
    },
    {
     "data": {
      "text/html": [
       "<pre style=\"white-space:pre;overflow-x:auto;line-height:normal;font-family:Menlo,'DejaVu Sans Mono',consolas,'Courier New',monospace\">Reading secret from C:\\Users\\david\\Documents\\GitHub\\ds-network-analysis\\data\\my_secrets.yaml…\n",
       "</pre>\n"
      ],
      "text/plain": [
       "<rich.jupyter.JupyterRenderable at 0x1829792e1d0>"
      ]
     },
     "metadata": {},
     "output_type": "display_data"
    },
    {
     "data": {
      "application/vnd.jupyter.widget-view+json": {
       "model_id": "11779ea2223c4ce3812e397adc5a3ebc",
       "version_major": 2,
       "version_minor": 0
      },
      "text/plain": [
       "Output()"
      ]
     },
     "metadata": {},
     "output_type": "display_data"
    },
    {
     "data": {
      "text/html": [
       "<pre style=\"white-space:pre;overflow-x:auto;line-height:normal;font-family:Menlo,'DejaVu Sans Mono',consolas,'Courier New',monospace\">Reading secret from C:\\Users\\david\\Documents\\GitHub\\ds-network-analysis\\data\\my_secrets.yaml…\n",
       "</pre>\n"
      ],
      "text/plain": [
       "<rich.jupyter.JupyterRenderable at 0x1829792f7f0>"
      ]
     },
     "metadata": {},
     "output_type": "display_data"
    },
    {
     "data": {
      "application/vnd.jupyter.widget-view+json": {
       "model_id": "5fc43f8eea414ef9a4b69a7a9c99ddef",
       "version_major": 2,
       "version_minor": 0
      },
      "text/plain": [
       "Output()"
      ]
     },
     "metadata": {},
     "output_type": "display_data"
    },
    {
     "data": {
      "text/html": [
       "<pre style=\"white-space:pre;overflow-x:auto;line-height:normal;font-family:Menlo,'DejaVu Sans Mono',consolas,'Courier New',monospace\">Reading secret from C:\\Users\\david\\Documents\\GitHub\\ds-network-analysis\\data\\my_secrets.yaml…\n",
       "</pre>\n"
      ],
      "text/plain": [
       "<rich.jupyter.JupyterRenderable at 0x1829792e650>"
      ]
     },
     "metadata": {},
     "output_type": "display_data"
    },
    {
     "data": {
      "application/vnd.jupyter.widget-view+json": {
       "model_id": "2cb2874be33d4f66b00450dcef9efc25",
       "version_major": 2,
       "version_minor": 0
      },
      "text/plain": [
       "Output()"
      ]
     },
     "metadata": {},
     "output_type": "display_data"
    },
    {
     "data": {
      "text/html": [
       "<pre style=\"white-space:pre;overflow-x:auto;line-height:normal;font-family:Menlo,'DejaVu Sans Mono',consolas,'Courier New',monospace\">Reading secret from C:\\Users\\david\\Documents\\GitHub\\ds-network-analysis\\data\\my_secrets.yaml…\n",
       "</pre>\n"
      ],
      "text/plain": [
       "<rich.jupyter.JupyterRenderable at 0x1829792c460>"
      ]
     },
     "metadata": {},
     "output_type": "display_data"
    },
    {
     "data": {
      "application/vnd.jupyter.widget-view+json": {
       "model_id": "79e3417ca28b4c6baddc27743d224c8e",
       "version_major": 2,
       "version_minor": 0
      },
      "text/plain": [
       "Output()"
      ]
     },
     "metadata": {},
     "output_type": "display_data"
    },
    {
     "data": {
      "text/html": [
       "<pre style=\"white-space:pre;overflow-x:auto;line-height:normal;font-family:Menlo,'DejaVu Sans Mono',consolas,'Courier New',monospace\">Reading secret from C:\\Users\\david\\Documents\\GitHub\\ds-network-analysis\\data\\my_secrets.yaml…\n",
       "</pre>\n"
      ],
      "text/plain": [
       "<rich.jupyter.JupyterRenderable at 0x1829792c430>"
      ]
     },
     "metadata": {},
     "output_type": "display_data"
    },
    {
     "data": {
      "application/vnd.jupyter.widget-view+json": {
       "model_id": "0b1ed8447c6440339d8d16c84a9fc328",
       "version_major": 2,
       "version_minor": 0
      },
      "text/plain": [
       "Output()"
      ]
     },
     "metadata": {},
     "output_type": "display_data"
    },
    {
     "data": {
      "text/html": [
       "<pre style=\"white-space:pre;overflow-x:auto;line-height:normal;font-family:Menlo,'DejaVu Sans Mono',consolas,'Courier New',monospace\">Reading secret from C:\\Users\\david\\Documents\\GitHub\\ds-network-analysis\\data\\my_secrets.yaml…\n",
       "</pre>\n"
      ],
      "text/plain": [
       "<rich.jupyter.JupyterRenderable at 0x1829792d3c0>"
      ]
     },
     "metadata": {},
     "output_type": "display_data"
    },
    {
     "data": {
      "application/vnd.jupyter.widget-view+json": {
       "model_id": "b2c41e3287da448a8af84a0da9063b3f",
       "version_major": 2,
       "version_minor": 0
      },
      "text/plain": [
       "Output()"
      ]
     },
     "metadata": {},
     "output_type": "display_data"
    },
    {
     "data": {
      "text/html": [
       "<pre style=\"white-space:pre;overflow-x:auto;line-height:normal;font-family:Menlo,'DejaVu Sans Mono',consolas,'Courier New',monospace\">Reading secret from C:\\Users\\david\\Documents\\GitHub\\ds-network-analysis\\data\\my_secrets.yaml…\n",
       "</pre>\n"
      ],
      "text/plain": [
       "<rich.jupyter.JupyterRenderable at 0x1829792fa00>"
      ]
     },
     "metadata": {},
     "output_type": "display_data"
    },
    {
     "data": {
      "application/vnd.jupyter.widget-view+json": {
       "model_id": "ba804aaf18aa495a9c81e8af6f678705",
       "version_major": 2,
       "version_minor": 0
      },
      "text/plain": [
       "Output()"
      ]
     },
     "metadata": {},
     "output_type": "display_data"
    },
    {
     "data": {
      "text/html": [
       "<pre style=\"white-space:pre;overflow-x:auto;line-height:normal;font-family:Menlo,'DejaVu Sans Mono',consolas,'Courier New',monospace\">Reading secret from C:\\Users\\david\\Documents\\GitHub\\ds-network-analysis\\data\\my_secrets.yaml…\n",
       "</pre>\n"
      ],
      "text/plain": [
       "<rich.jupyter.JupyterRenderable at 0x1829792fa90>"
      ]
     },
     "metadata": {},
     "output_type": "display_data"
    },
    {
     "data": {
      "application/vnd.jupyter.widget-view+json": {
       "model_id": "c72967d9cc79449f9569b47733910a67",
       "version_major": 2,
       "version_minor": 0
      },
      "text/plain": [
       "Output()"
      ]
     },
     "metadata": {},
     "output_type": "display_data"
    },
    {
     "data": {
      "text/html": [
       "<pre style=\"white-space:pre;overflow-x:auto;line-height:normal;font-family:Menlo,'DejaVu Sans Mono',consolas,'Courier New',monospace\">Reading secret from C:\\Users\\david\\Documents\\GitHub\\ds-network-analysis\\data\\my_secrets.yaml…\n",
       "</pre>\n"
      ],
      "text/plain": [
       "<rich.jupyter.JupyterRenderable at 0x1829792fa90>"
      ]
     },
     "metadata": {},
     "output_type": "display_data"
    },
    {
     "data": {
      "application/vnd.jupyter.widget-view+json": {
       "model_id": "8b83ff1ac067451d8d9794f73601ad70",
       "version_major": 2,
       "version_minor": 0
      },
      "text/plain": [
       "Output()"
      ]
     },
     "metadata": {},
     "output_type": "display_data"
    },
    {
     "data": {
      "text/html": [
       "<pre style=\"white-space:pre;overflow-x:auto;line-height:normal;font-family:Menlo,'DejaVu Sans Mono',consolas,'Courier New',monospace\">Reading secret from C:\\Users\\david\\Documents\\GitHub\\ds-network-analysis\\data\\my_secrets.yaml…\n",
       "</pre>\n"
      ],
      "text/plain": [
       "<rich.jupyter.JupyterRenderable at 0x1829792f6d0>"
      ]
     },
     "metadata": {},
     "output_type": "display_data"
    },
    {
     "data": {
      "application/vnd.jupyter.widget-view+json": {
       "model_id": "c3d14da0b95047cca711ff21681df939",
       "version_major": 2,
       "version_minor": 0
      },
      "text/plain": [
       "Output()"
      ]
     },
     "metadata": {},
     "output_type": "display_data"
    },
    {
     "data": {
      "text/html": [
       "<pre style=\"white-space:pre;overflow-x:auto;line-height:normal;font-family:Menlo,'DejaVu Sans Mono',consolas,'Courier New',monospace\">Reading secret from C:\\Users\\david\\Documents\\GitHub\\ds-network-analysis\\data\\my_secrets.yaml…\n",
       "</pre>\n"
      ],
      "text/plain": [
       "<rich.jupyter.JupyterRenderable at 0x1829792fee0>"
      ]
     },
     "metadata": {},
     "output_type": "display_data"
    },
    {
     "data": {
      "application/vnd.jupyter.widget-view+json": {
       "model_id": "687447b263e84a03b87be90095a5fea3",
       "version_major": 2,
       "version_minor": 0
      },
      "text/plain": [
       "Output()"
      ]
     },
     "metadata": {},
     "output_type": "display_data"
    },
    {
     "data": {
      "text/html": [
       "<pre style=\"white-space:pre;overflow-x:auto;line-height:normal;font-family:Menlo,'DejaVu Sans Mono',consolas,'Courier New',monospace\">Reading secret from C:\\Users\\david\\Documents\\GitHub\\ds-network-analysis\\data\\my_secrets.yaml…\n",
       "</pre>\n"
      ],
      "text/plain": [
       "<rich.jupyter.JupyterRenderable at 0x18297905420>"
      ]
     },
     "metadata": {},
     "output_type": "display_data"
    },
    {
     "data": {
      "application/vnd.jupyter.widget-view+json": {
       "model_id": "010a4cf3644741728c617c77b4dba9b1",
       "version_major": 2,
       "version_minor": 0
      },
      "text/plain": [
       "Output()"
      ]
     },
     "metadata": {},
     "output_type": "display_data"
    },
    {
     "data": {
      "text/html": [
       "<pre style=\"white-space:pre;overflow-x:auto;line-height:normal;font-family:Menlo,'DejaVu Sans Mono',consolas,'Courier New',monospace\">Reading secret from C:\\Users\\david\\Documents\\GitHub\\ds-network-analysis\\data\\my_secrets.yaml…\n",
       "</pre>\n"
      ],
      "text/plain": [
       "<rich.jupyter.JupyterRenderable at 0x18297905840>"
      ]
     },
     "metadata": {},
     "output_type": "display_data"
    },
    {
     "data": {
      "application/vnd.jupyter.widget-view+json": {
       "model_id": "3bd7c03d9ba6448fab2c4ebabd57d2fc",
       "version_major": 2,
       "version_minor": 0
      },
      "text/plain": [
       "Output()"
      ]
     },
     "metadata": {},
     "output_type": "display_data"
    },
    {
     "data": {
      "text/html": [
       "<pre style=\"white-space:pre;overflow-x:auto;line-height:normal;font-family:Menlo,'DejaVu Sans Mono',consolas,'Courier New',monospace\">Reading secret from C:\\Users\\david\\Documents\\GitHub\\ds-network-analysis\\data\\my_secrets.yaml…\n",
       "</pre>\n"
      ],
      "text/plain": [
       "<rich.jupyter.JupyterRenderable at 0x18297905a80>"
      ]
     },
     "metadata": {},
     "output_type": "display_data"
    },
    {
     "data": {
      "application/vnd.jupyter.widget-view+json": {
       "model_id": "ce52ceeece5541c29a898beed539b036",
       "version_major": 2,
       "version_minor": 0
      },
      "text/plain": [
       "Output()"
      ]
     },
     "metadata": {},
     "output_type": "display_data"
    },
    {
     "data": {
      "text/html": [
       "<pre style=\"white-space:pre;overflow-x:auto;line-height:normal;font-family:Menlo,'DejaVu Sans Mono',consolas,'Courier New',monospace\">Reading secret from C:\\Users\\david\\Documents\\GitHub\\ds-network-analysis\\data\\my_secrets.yaml…\n",
       "</pre>\n"
      ],
      "text/plain": [
       "<rich.jupyter.JupyterRenderable at 0x18297907400>"
      ]
     },
     "metadata": {},
     "output_type": "display_data"
    },
    {
     "data": {
      "application/vnd.jupyter.widget-view+json": {
       "model_id": "65e128f677534607aa4b033e7aee1486",
       "version_major": 2,
       "version_minor": 0
      },
      "text/plain": [
       "Output()"
      ]
     },
     "metadata": {},
     "output_type": "display_data"
    },
    {
     "data": {
      "text/html": [
       "<pre style=\"white-space:pre;overflow-x:auto;line-height:normal;font-family:Menlo,'DejaVu Sans Mono',consolas,'Courier New',monospace\">Reading secret from C:\\Users\\david\\Documents\\GitHub\\ds-network-analysis\\data\\my_secrets.yaml…\n",
       "</pre>\n"
      ],
      "text/plain": [
       "<rich.jupyter.JupyterRenderable at 0x18297906fb0>"
      ]
     },
     "metadata": {},
     "output_type": "display_data"
    },
    {
     "data": {
      "application/vnd.jupyter.widget-view+json": {
       "model_id": "1c9cb092b1634205b83e14d95ba1f85d",
       "version_major": 2,
       "version_minor": 0
      },
      "text/plain": [
       "Output()"
      ]
     },
     "metadata": {},
     "output_type": "display_data"
    },
    {
     "data": {
      "text/html": [
       "<pre style=\"white-space:pre;overflow-x:auto;line-height:normal;font-family:Menlo,'DejaVu Sans Mono',consolas,'Courier New',monospace\">Reading secret from C:\\Users\\david\\Documents\\GitHub\\ds-network-analysis\\data\\my_secrets.yaml…\n",
       "</pre>\n"
      ],
      "text/plain": [
       "<rich.jupyter.JupyterRenderable at 0x182979078b0>"
      ]
     },
     "metadata": {},
     "output_type": "display_data"
    },
    {
     "data": {
      "application/vnd.jupyter.widget-view+json": {
       "model_id": "b532c3fd958f4f69819027555cfad1fa",
       "version_major": 2,
       "version_minor": 0
      },
      "text/plain": [
       "Output()"
      ]
     },
     "metadata": {},
     "output_type": "display_data"
    },
    {
     "data": {
      "text/html": [
       "<pre style=\"white-space:pre;overflow-x:auto;line-height:normal;font-family:Menlo,'DejaVu Sans Mono',consolas,'Courier New',monospace\">Reading secret from C:\\Users\\david\\Documents\\GitHub\\ds-network-analysis\\data\\my_secrets.yaml…\n",
       "</pre>\n"
      ],
      "text/plain": [
       "<rich.jupyter.JupyterRenderable at 0x18297904880>"
      ]
     },
     "metadata": {},
     "output_type": "display_data"
    },
    {
     "data": {
      "application/vnd.jupyter.widget-view+json": {
       "model_id": "0240fc66f92347aaaeafd28a4dae2122",
       "version_major": 2,
       "version_minor": 0
      },
      "text/plain": [
       "Output()"
      ]
     },
     "metadata": {},
     "output_type": "display_data"
    },
    {
     "data": {
      "text/html": [
       "<pre style=\"white-space:pre;overflow-x:auto;line-height:normal;font-family:Menlo,'DejaVu Sans Mono',consolas,'Courier New',monospace\">Reading secret from C:\\Users\\david\\Documents\\GitHub\\ds-network-analysis\\data\\my_secrets.yaml…\n",
       "</pre>\n"
      ],
      "text/plain": [
       "<rich.jupyter.JupyterRenderable at 0x18297904d30>"
      ]
     },
     "metadata": {},
     "output_type": "display_data"
    },
    {
     "data": {
      "application/vnd.jupyter.widget-view+json": {
       "model_id": "b7a48a8a4bab4182a9adacbe231f5fc5",
       "version_major": 2,
       "version_minor": 0
      },
      "text/plain": [
       "Output()"
      ]
     },
     "metadata": {},
     "output_type": "display_data"
    },
    {
     "data": {
      "text/html": [
       "<pre style=\"white-space:pre;overflow-x:auto;line-height:normal;font-family:Menlo,'DejaVu Sans Mono',consolas,'Courier New',monospace\">Reading secret from C:\\Users\\david\\Documents\\GitHub\\ds-network-analysis\\data\\my_secrets.yaml…\n",
       "</pre>\n"
      ],
      "text/plain": [
       "<rich.jupyter.JupyterRenderable at 0x182979049a0>"
      ]
     },
     "metadata": {},
     "output_type": "display_data"
    },
    {
     "data": {
      "application/vnd.jupyter.widget-view+json": {
       "model_id": "196afedf396043bca4eb4cbd9ddeef27",
       "version_major": 2,
       "version_minor": 0
      },
      "text/plain": [
       "Output()"
      ]
     },
     "metadata": {},
     "output_type": "display_data"
    },
    {
     "data": {
      "text/html": [
       "<pre style=\"white-space:pre;overflow-x:auto;line-height:normal;font-family:Menlo,'DejaVu Sans Mono',consolas,'Courier New',monospace\">Reading secret from C:\\Users\\david\\Documents\\GitHub\\ds-network-analysis\\data\\my_secrets.yaml…\n",
       "</pre>\n"
      ],
      "text/plain": [
       "<rich.jupyter.JupyterRenderable at 0x182979048b0>"
      ]
     },
     "metadata": {},
     "output_type": "display_data"
    },
    {
     "data": {
      "application/vnd.jupyter.widget-view+json": {
       "model_id": "192d21ae9f984a5fa1ce5e7d727ddd6b",
       "version_major": 2,
       "version_minor": 0
      },
      "text/plain": [
       "Output()"
      ]
     },
     "metadata": {},
     "output_type": "display_data"
    },
    {
     "data": {
      "text/html": [
       "<pre style=\"white-space:pre;overflow-x:auto;line-height:normal;font-family:Menlo,'DejaVu Sans Mono',consolas,'Courier New',monospace\">Reading secret from C:\\Users\\david\\Documents\\GitHub\\ds-network-analysis\\data\\my_secrets.yaml…\n",
       "</pre>\n"
      ],
      "text/plain": [
       "<rich.jupyter.JupyterRenderable at 0x18297904550>"
      ]
     },
     "metadata": {},
     "output_type": "display_data"
    },
    {
     "data": {
      "application/vnd.jupyter.widget-view+json": {
       "model_id": "d6f2b4a93fa148018e8f8611dbf6d9a3",
       "version_major": 2,
       "version_minor": 0
      },
      "text/plain": [
       "Output()"
      ]
     },
     "metadata": {},
     "output_type": "display_data"
    },
    {
     "data": {
      "text/html": [
       "<pre style=\"white-space:pre;overflow-x:auto;line-height:normal;font-family:Menlo,'DejaVu Sans Mono',consolas,'Courier New',monospace\">Reading secret from C:\\Users\\david\\Documents\\GitHub\\ds-network-analysis\\data\\my_secrets.yaml…\n",
       "</pre>\n"
      ],
      "text/plain": [
       "<rich.jupyter.JupyterRenderable at 0x182979070d0>"
      ]
     },
     "metadata": {},
     "output_type": "display_data"
    },
    {
     "data": {
      "application/vnd.jupyter.widget-view+json": {
       "model_id": "f1637678ef0f4224ac4350907d0814a1",
       "version_major": 2,
       "version_minor": 0
      },
      "text/plain": [
       "Output()"
      ]
     },
     "metadata": {},
     "output_type": "display_data"
    },
    {
     "data": {
      "text/html": [
       "<pre style=\"white-space:pre;overflow-x:auto;line-height:normal;font-family:Menlo,'DejaVu Sans Mono',consolas,'Courier New',monospace\">Reading secret from C:\\Users\\david\\Documents\\GitHub\\ds-network-analysis\\data\\my_secrets.yaml…\n",
       "</pre>\n"
      ],
      "text/plain": [
       "<rich.jupyter.JupyterRenderable at 0x18297905420>"
      ]
     },
     "metadata": {},
     "output_type": "display_data"
    },
    {
     "data": {
      "application/vnd.jupyter.widget-view+json": {
       "model_id": "f4578b7cb5354cea8daaa075e36dae6d",
       "version_major": 2,
       "version_minor": 0
      },
      "text/plain": [
       "Output()"
      ]
     },
     "metadata": {},
     "output_type": "display_data"
    },
    {
     "data": {
      "text/html": [
       "<pre style=\"white-space:pre;overflow-x:auto;line-height:normal;font-family:Menlo,'DejaVu Sans Mono',consolas,'Courier New',monospace\">Reading secret from C:\\Users\\david\\Documents\\GitHub\\ds-network-analysis\\data\\my_secrets.yaml…\n",
       "</pre>\n"
      ],
      "text/plain": [
       "<rich.jupyter.JupyterRenderable at 0x18297907f10>"
      ]
     },
     "metadata": {},
     "output_type": "display_data"
    },
    {
     "data": {
      "application/vnd.jupyter.widget-view+json": {
       "model_id": "cd247cf4948c4ae2a7db2738c84c84d3",
       "version_major": 2,
       "version_minor": 0
      },
      "text/plain": [
       "Output()"
      ]
     },
     "metadata": {},
     "output_type": "display_data"
    },
    {
     "data": {
      "text/html": [
       "<pre style=\"white-space:pre;overflow-x:auto;line-height:normal;font-family:Menlo,'DejaVu Sans Mono',consolas,'Courier New',monospace\">Reading secret from C:\\Users\\david\\Documents\\GitHub\\ds-network-analysis\\data\\my_secrets.yaml…\n",
       "</pre>\n"
      ],
      "text/plain": [
       "<rich.jupyter.JupyterRenderable at 0x18297906b30>"
      ]
     },
     "metadata": {},
     "output_type": "display_data"
    },
    {
     "data": {
      "application/vnd.jupyter.widget-view+json": {
       "model_id": "d983b5c0cc3e4a4da7ce6e6e35d5b843",
       "version_major": 2,
       "version_minor": 0
      },
      "text/plain": [
       "Output()"
      ]
     },
     "metadata": {},
     "output_type": "display_data"
    },
    {
     "data": {
      "text/html": [
       "<pre style=\"white-space:pre;overflow-x:auto;line-height:normal;font-family:Menlo,'DejaVu Sans Mono',consolas,'Courier New',monospace\">Reading secret from C:\\Users\\david\\Documents\\GitHub\\ds-network-analysis\\data\\my_secrets.yaml…\n",
       "</pre>\n"
      ],
      "text/plain": [
       "<rich.jupyter.JupyterRenderable at 0x18297906530>"
      ]
     },
     "metadata": {},
     "output_type": "display_data"
    },
    {
     "data": {
      "application/vnd.jupyter.widget-view+json": {
       "model_id": "58b5c2b9167d4d78b2567803c5274fcf",
       "version_major": 2,
       "version_minor": 0
      },
      "text/plain": [
       "Output()"
      ]
     },
     "metadata": {},
     "output_type": "display_data"
    },
    {
     "data": {
      "text/html": [
       "<pre style=\"white-space:pre;overflow-x:auto;line-height:normal;font-family:Menlo,'DejaVu Sans Mono',consolas,'Courier New',monospace\">Reading secret from C:\\Users\\david\\Documents\\GitHub\\ds-network-analysis\\data\\my_secrets.yaml…\n",
       "</pre>\n"
      ],
      "text/plain": [
       "<rich.jupyter.JupyterRenderable at 0x18297907700>"
      ]
     },
     "metadata": {},
     "output_type": "display_data"
    },
    {
     "data": {
      "application/vnd.jupyter.widget-view+json": {
       "model_id": "d0c54676c9d44c66b1843c28632549b5",
       "version_major": 2,
       "version_minor": 0
      },
      "text/plain": [
       "Output()"
      ]
     },
     "metadata": {},
     "output_type": "display_data"
    },
    {
     "data": {
      "text/html": [
       "<pre style=\"white-space:pre;overflow-x:auto;line-height:normal;font-family:Menlo,'DejaVu Sans Mono',consolas,'Courier New',monospace\">Reading secret from C:\\Users\\david\\Documents\\GitHub\\ds-network-analysis\\data\\my_secrets.yaml…\n",
       "</pre>\n"
      ],
      "text/plain": [
       "<rich.jupyter.JupyterRenderable at 0x182978aef20>"
      ]
     },
     "metadata": {},
     "output_type": "display_data"
    },
    {
     "data": {
      "application/vnd.jupyter.widget-view+json": {
       "model_id": "5487b126cb0a44ac98cd5196cd206bfe",
       "version_major": 2,
       "version_minor": 0
      },
      "text/plain": [
       "Output()"
      ]
     },
     "metadata": {},
     "output_type": "display_data"
    },
    {
     "data": {
      "text/html": [
       "<pre style=\"white-space:pre;overflow-x:auto;line-height:normal;font-family:Menlo,'DejaVu Sans Mono',consolas,'Courier New',monospace\">Reading secret from C:\\Users\\david\\Documents\\GitHub\\ds-network-analysis\\data\\my_secrets.yaml…\n",
       "</pre>\n"
      ],
      "text/plain": [
       "<rich.jupyter.JupyterRenderable at 0x182978ae290>"
      ]
     },
     "metadata": {},
     "output_type": "display_data"
    },
    {
     "data": {
      "application/vnd.jupyter.widget-view+json": {
       "model_id": "45345f7d05eb4ceb843ef2a534cfa12e",
       "version_major": 2,
       "version_minor": 0
      },
      "text/plain": [
       "Output()"
      ]
     },
     "metadata": {},
     "output_type": "display_data"
    },
    {
     "data": {
      "text/html": [
       "<pre style=\"white-space:pre;overflow-x:auto;line-height:normal;font-family:Menlo,'DejaVu Sans Mono',consolas,'Courier New',monospace\">Reading secret from C:\\Users\\david\\Documents\\GitHub\\ds-network-analysis\\data\\my_secrets.yaml…\n",
       "</pre>\n"
      ],
      "text/plain": [
       "<rich.jupyter.JupyterRenderable at 0x182978ac550>"
      ]
     },
     "metadata": {},
     "output_type": "display_data"
    },
    {
     "data": {
      "application/vnd.jupyter.widget-view+json": {
       "model_id": "aeb9298cace4482cb204132957c1b061",
       "version_major": 2,
       "version_minor": 0
      },
      "text/plain": [
       "Output()"
      ]
     },
     "metadata": {},
     "output_type": "display_data"
    },
    {
     "data": {
      "text/html": [
       "<pre style=\"white-space:pre;overflow-x:auto;line-height:normal;font-family:Menlo,'DejaVu Sans Mono',consolas,'Courier New',monospace\">Reading secret from C:\\Users\\david\\Documents\\GitHub\\ds-network-analysis\\data\\my_secrets.yaml…\n",
       "</pre>\n"
      ],
      "text/plain": [
       "<rich.jupyter.JupyterRenderable at 0x182978ac400>"
      ]
     },
     "metadata": {},
     "output_type": "display_data"
    },
    {
     "data": {
      "application/vnd.jupyter.widget-view+json": {
       "model_id": "d0fcc020926d4de6a12153ffeefe812a",
       "version_major": 2,
       "version_minor": 0
      },
      "text/plain": [
       "Output()"
      ]
     },
     "metadata": {},
     "output_type": "display_data"
    },
    {
     "data": {
      "text/html": [
       "<pre style=\"white-space:pre;overflow-x:auto;line-height:normal;font-family:Menlo,'DejaVu Sans Mono',consolas,'Courier New',monospace\">Reading secret from C:\\Users\\david\\Documents\\GitHub\\ds-network-analysis\\data\\my_secrets.yaml…\n",
       "</pre>\n"
      ],
      "text/plain": [
       "<rich.jupyter.JupyterRenderable at 0x182978ac940>"
      ]
     },
     "metadata": {},
     "output_type": "display_data"
    },
    {
     "data": {
      "application/vnd.jupyter.widget-view+json": {
       "model_id": "4bf7abcbf92c486ea2bfb0bde5f9586b",
       "version_major": 2,
       "version_minor": 0
      },
      "text/plain": [
       "Output()"
      ]
     },
     "metadata": {},
     "output_type": "display_data"
    },
    {
     "data": {
      "text/html": [
       "<pre style=\"white-space:pre;overflow-x:auto;line-height:normal;font-family:Menlo,'DejaVu Sans Mono',consolas,'Courier New',monospace\">Reading secret from C:\\Users\\david\\Documents\\GitHub\\ds-network-analysis\\data\\my_secrets.yaml…\n",
       "</pre>\n"
      ],
      "text/plain": [
       "<rich.jupyter.JupyterRenderable at 0x182978ace20>"
      ]
     },
     "metadata": {},
     "output_type": "display_data"
    },
    {
     "data": {
      "application/vnd.jupyter.widget-view+json": {
       "model_id": "b07f1d1253ce4f8893122e2f80910e37",
       "version_major": 2,
       "version_minor": 0
      },
      "text/plain": [
       "Output()"
      ]
     },
     "metadata": {},
     "output_type": "display_data"
    },
    {
     "data": {
      "text/html": [
       "<pre style=\"white-space:pre;overflow-x:auto;line-height:normal;font-family:Menlo,'DejaVu Sans Mono',consolas,'Courier New',monospace\">Reading secret from C:\\Users\\david\\Documents\\GitHub\\ds-network-analysis\\data\\my_secrets.yaml…\n",
       "</pre>\n"
      ],
      "text/plain": [
       "<rich.jupyter.JupyterRenderable at 0x182978ae920>"
      ]
     },
     "metadata": {},
     "output_type": "display_data"
    },
    {
     "data": {
      "application/vnd.jupyter.widget-view+json": {
       "model_id": "e4e5349a6da840dd83bfbfecbd77a556",
       "version_major": 2,
       "version_minor": 0
      },
      "text/plain": [
       "Output()"
      ]
     },
     "metadata": {},
     "output_type": "display_data"
    },
    {
     "data": {
      "text/html": [
       "<pre style=\"white-space:pre;overflow-x:auto;line-height:normal;font-family:Menlo,'DejaVu Sans Mono',consolas,'Courier New',monospace\">Reading secret from C:\\Users\\david\\Documents\\GitHub\\ds-network-analysis\\data\\my_secrets.yaml…\n",
       "</pre>\n"
      ],
      "text/plain": [
       "<rich.jupyter.JupyterRenderable at 0x182978af730>"
      ]
     },
     "metadata": {},
     "output_type": "display_data"
    },
    {
     "data": {
      "application/vnd.jupyter.widget-view+json": {
       "model_id": "b5b37c7c10e64129bd556fa3a6525ef6",
       "version_major": 2,
       "version_minor": 0
      },
      "text/plain": [
       "Output()"
      ]
     },
     "metadata": {},
     "output_type": "display_data"
    },
    {
     "data": {
      "text/html": [
       "<pre style=\"white-space:pre;overflow-x:auto;line-height:normal;font-family:Menlo,'DejaVu Sans Mono',consolas,'Courier New',monospace\">Reading secret from C:\\Users\\david\\Documents\\GitHub\\ds-network-analysis\\data\\my_secrets.yaml…\n",
       "</pre>\n"
      ],
      "text/plain": [
       "<rich.jupyter.JupyterRenderable at 0x182978aded0>"
      ]
     },
     "metadata": {},
     "output_type": "display_data"
    },
    {
     "data": {
      "application/vnd.jupyter.widget-view+json": {
       "model_id": "d88eed4fc9c840d39981438dab5f9616",
       "version_major": 2,
       "version_minor": 0
      },
      "text/plain": [
       "Output()"
      ]
     },
     "metadata": {},
     "output_type": "display_data"
    },
    {
     "data": {
      "text/html": [
       "<pre style=\"white-space:pre;overflow-x:auto;line-height:normal;font-family:Menlo,'DejaVu Sans Mono',consolas,'Courier New',monospace\">Reading secret from C:\\Users\\david\\Documents\\GitHub\\ds-network-analysis\\data\\my_secrets.yaml…\n",
       "</pre>\n"
      ],
      "text/plain": [
       "<rich.jupyter.JupyterRenderable at 0x182978ace50>"
      ]
     },
     "metadata": {},
     "output_type": "display_data"
    },
    {
     "data": {
      "application/vnd.jupyter.widget-view+json": {
       "model_id": "5248a3d678dc47e2b9b37c16ab363b7f",
       "version_major": 2,
       "version_minor": 0
      },
      "text/plain": [
       "Output()"
      ]
     },
     "metadata": {},
     "output_type": "display_data"
    },
    {
     "data": {
      "text/html": [
       "<pre style=\"white-space:pre;overflow-x:auto;line-height:normal;font-family:Menlo,'DejaVu Sans Mono',consolas,'Courier New',monospace\">Reading secret from C:\\Users\\david\\Documents\\GitHub\\ds-network-analysis\\data\\my_secrets.yaml…\n",
       "</pre>\n"
      ],
      "text/plain": [
       "<rich.jupyter.JupyterRenderable at 0x182978af100>"
      ]
     },
     "metadata": {},
     "output_type": "display_data"
    },
    {
     "data": {
      "application/vnd.jupyter.widget-view+json": {
       "model_id": "da7c839a44f1437ca302346f986a2111",
       "version_major": 2,
       "version_minor": 0
      },
      "text/plain": [
       "Output()"
      ]
     },
     "metadata": {},
     "output_type": "display_data"
    },
    {
     "data": {
      "text/html": [
       "<pre style=\"white-space:pre;overflow-x:auto;line-height:normal;font-family:Menlo,'DejaVu Sans Mono',consolas,'Courier New',monospace\">Reading secret from C:\\Users\\david\\Documents\\GitHub\\ds-network-analysis\\data\\my_secrets.yaml…\n",
       "</pre>\n"
      ],
      "text/plain": [
       "<rich.jupyter.JupyterRenderable at 0x182978adde0>"
      ]
     },
     "metadata": {},
     "output_type": "display_data"
    },
    {
     "data": {
      "application/vnd.jupyter.widget-view+json": {
       "model_id": "59e740f47aa44db0a6191522e6163f3d",
       "version_major": 2,
       "version_minor": 0
      },
      "text/plain": [
       "Output()"
      ]
     },
     "metadata": {},
     "output_type": "display_data"
    },
    {
     "data": {
      "text/html": [
       "<pre style=\"white-space:pre;overflow-x:auto;line-height:normal;font-family:Menlo,'DejaVu Sans Mono',consolas,'Courier New',monospace\">Reading secret from C:\\Users\\david\\Documents\\GitHub\\ds-network-analysis\\data\\my_secrets.yaml…\n",
       "</pre>\n"
      ],
      "text/plain": [
       "<rich.jupyter.JupyterRenderable at 0x182978acf10>"
      ]
     },
     "metadata": {},
     "output_type": "display_data"
    },
    {
     "data": {
      "application/vnd.jupyter.widget-view+json": {
       "model_id": "99eba9ee1f5143e393e93643ef4262af",
       "version_major": 2,
       "version_minor": 0
      },
      "text/plain": [
       "Output()"
      ]
     },
     "metadata": {},
     "output_type": "display_data"
    },
    {
     "data": {
      "text/html": [
       "<pre style=\"white-space:pre;overflow-x:auto;line-height:normal;font-family:Menlo,'DejaVu Sans Mono',consolas,'Courier New',monospace\">Reading secret from C:\\Users\\david\\Documents\\GitHub\\ds-network-analysis\\data\\my_secrets.yaml…\n",
       "</pre>\n"
      ],
      "text/plain": [
       "<rich.jupyter.JupyterRenderable at 0x182978ad630>"
      ]
     },
     "metadata": {},
     "output_type": "display_data"
    },
    {
     "data": {
      "application/vnd.jupyter.widget-view+json": {
       "model_id": "9c5f7bbe118a4634989ea6c769f427b8",
       "version_major": 2,
       "version_minor": 0
      },
      "text/plain": [
       "Output()"
      ]
     },
     "metadata": {},
     "output_type": "display_data"
    },
    {
     "data": {
      "text/html": [
       "<pre style=\"white-space:pre;overflow-x:auto;line-height:normal;font-family:Menlo,'DejaVu Sans Mono',consolas,'Courier New',monospace\">Reading secret from C:\\Users\\david\\Documents\\GitHub\\ds-network-analysis\\data\\my_secrets.yaml…\n",
       "</pre>\n"
      ],
      "text/plain": [
       "<rich.jupyter.JupyterRenderable at 0x182978aff70>"
      ]
     },
     "metadata": {},
     "output_type": "display_data"
    },
    {
     "data": {
      "application/vnd.jupyter.widget-view+json": {
       "model_id": "701265485fcb4a049592ea82ba1025c8",
       "version_major": 2,
       "version_minor": 0
      },
      "text/plain": [
       "Output()"
      ]
     },
     "metadata": {},
     "output_type": "display_data"
    },
    {
     "data": {
      "text/html": [
       "<pre style=\"white-space:pre;overflow-x:auto;line-height:normal;font-family:Menlo,'DejaVu Sans Mono',consolas,'Courier New',monospace\">Reading secret from C:\\Users\\david\\Documents\\GitHub\\ds-network-analysis\\data\\my_secrets.yaml…\n",
       "</pre>\n"
      ],
      "text/plain": [
       "<rich.jupyter.JupyterRenderable at 0x182978aece0>"
      ]
     },
     "metadata": {},
     "output_type": "display_data"
    },
    {
     "data": {
      "application/vnd.jupyter.widget-view+json": {
       "model_id": "3893c30270ca4242a2b93bc3c619992a",
       "version_major": 2,
       "version_minor": 0
      },
      "text/plain": [
       "Output()"
      ]
     },
     "metadata": {},
     "output_type": "display_data"
    },
    {
     "data": {
      "text/html": [
       "<pre style=\"white-space:pre;overflow-x:auto;line-height:normal;font-family:Menlo,'DejaVu Sans Mono',consolas,'Courier New',monospace\">Reading secret from C:\\Users\\david\\Documents\\GitHub\\ds-network-analysis\\data\\my_secrets.yaml…\n",
       "</pre>\n"
      ],
      "text/plain": [
       "<rich.jupyter.JupyterRenderable at 0x182978afc70>"
      ]
     },
     "metadata": {},
     "output_type": "display_data"
    },
    {
     "data": {
      "application/vnd.jupyter.widget-view+json": {
       "model_id": "61069216216941898c28999da339cd5b",
       "version_major": 2,
       "version_minor": 0
      },
      "text/plain": [
       "Output()"
      ]
     },
     "metadata": {},
     "output_type": "display_data"
    },
    {
     "data": {
      "text/html": [
       "<pre style=\"white-space:pre;overflow-x:auto;line-height:normal;font-family:Menlo,'DejaVu Sans Mono',consolas,'Courier New',monospace\">Reading secret from C:\\Users\\david\\Documents\\GitHub\\ds-network-analysis\\data\\my_secrets.yaml…\n",
       "</pre>\n"
      ],
      "text/plain": [
       "<rich.jupyter.JupyterRenderable at 0x182978ae410>"
      ]
     },
     "metadata": {},
     "output_type": "display_data"
    },
    {
     "data": {
      "application/vnd.jupyter.widget-view+json": {
       "model_id": "dfac163216004b68a90b5badbafd29f5",
       "version_major": 2,
       "version_minor": 0
      },
      "text/plain": [
       "Output()"
      ]
     },
     "metadata": {},
     "output_type": "display_data"
    },
    {
     "data": {
      "text/html": [
       "<pre style=\"white-space:pre;overflow-x:auto;line-height:normal;font-family:Menlo,'DejaVu Sans Mono',consolas,'Courier New',monospace\">Reading secret from C:\\Users\\david\\Documents\\GitHub\\ds-network-analysis\\data\\my_secrets.yaml…\n",
       "</pre>\n"
      ],
      "text/plain": [
       "<rich.jupyter.JupyterRenderable at 0x182978ac550>"
      ]
     },
     "metadata": {},
     "output_type": "display_data"
    },
    {
     "data": {
      "application/vnd.jupyter.widget-view+json": {
       "model_id": "252af8d72b1846459423504185d63e8a",
       "version_major": 2,
       "version_minor": 0
      },
      "text/plain": [
       "Output()"
      ]
     },
     "metadata": {},
     "output_type": "display_data"
    },
    {
     "data": {
      "text/html": [
       "<pre style=\"white-space:pre;overflow-x:auto;line-height:normal;font-family:Menlo,'DejaVu Sans Mono',consolas,'Courier New',monospace\">Reading secret from C:\\Users\\david\\Documents\\GitHub\\ds-network-analysis\\data\\my_secrets.yaml…\n",
       "</pre>\n"
      ],
      "text/plain": [
       "<rich.jupyter.JupyterRenderable at 0x182978ae560>"
      ]
     },
     "metadata": {},
     "output_type": "display_data"
    },
    {
     "data": {
      "application/vnd.jupyter.widget-view+json": {
       "model_id": "7e1f07c2606e4ee0839836e4f7d6843a",
       "version_major": 2,
       "version_minor": 0
      },
      "text/plain": [
       "Output()"
      ]
     },
     "metadata": {},
     "output_type": "display_data"
    },
    {
     "data": {
      "text/html": [
       "<pre style=\"white-space:pre;overflow-x:auto;line-height:normal;font-family:Menlo,'DejaVu Sans Mono',consolas,'Courier New',monospace\">Reading secret from C:\\Users\\david\\Documents\\GitHub\\ds-network-analysis\\data\\my_secrets.yaml…\n",
       "</pre>\n"
      ],
      "text/plain": [
       "<rich.jupyter.JupyterRenderable at 0x18297b06b90>"
      ]
     },
     "metadata": {},
     "output_type": "display_data"
    },
    {
     "data": {
      "application/vnd.jupyter.widget-view+json": {
       "model_id": "81653c580eb145d0b0b09dbdb4a4ca23",
       "version_major": 2,
       "version_minor": 0
      },
      "text/plain": [
       "Output()"
      ]
     },
     "metadata": {},
     "output_type": "display_data"
    },
    {
     "data": {
      "text/html": [
       "<pre style=\"white-space:pre;overflow-x:auto;line-height:normal;font-family:Menlo,'DejaVu Sans Mono',consolas,'Courier New',monospace\">Reading secret from C:\\Users\\david\\Documents\\GitHub\\ds-network-analysis\\data\\my_secrets.yaml…\n",
       "</pre>\n"
      ],
      "text/plain": [
       "<rich.jupyter.JupyterRenderable at 0x18297b06680>"
      ]
     },
     "metadata": {},
     "output_type": "display_data"
    },
    {
     "data": {
      "application/vnd.jupyter.widget-view+json": {
       "model_id": "a460d64f5f904604bf0e8b2f398fbf6d",
       "version_major": 2,
       "version_minor": 0
      },
      "text/plain": [
       "Output()"
      ]
     },
     "metadata": {},
     "output_type": "display_data"
    },
    {
     "data": {
      "text/html": [
       "<pre style=\"white-space:pre;overflow-x:auto;line-height:normal;font-family:Menlo,'DejaVu Sans Mono',consolas,'Courier New',monospace\">Reading secret from C:\\Users\\david\\Documents\\GitHub\\ds-network-analysis\\data\\my_secrets.yaml…\n",
       "</pre>\n"
      ],
      "text/plain": [
       "<rich.jupyter.JupyterRenderable at 0x18297b06770>"
      ]
     },
     "metadata": {},
     "output_type": "display_data"
    },
    {
     "data": {
      "application/vnd.jupyter.widget-view+json": {
       "model_id": "73da9452fc0947108536419bd5f6a98a",
       "version_major": 2,
       "version_minor": 0
      },
      "text/plain": [
       "Output()"
      ]
     },
     "metadata": {},
     "output_type": "display_data"
    }
   ],
   "source": [
    "#estarre pure retweeted_user_id per edge\n",
    "hashtag_for_user={}\n",
    "tweet_for_user={}\n",
    "retweet_for_user={}\n",
    "verified_for_user={}\n",
    "location_for_user={}\n",
    "\n",
    "for e in set_user:                                                             #1 pages=20 tweet   \n",
    "    u=UserETL(e,pages=1)                                                       #aggiungere più pagine (1pag=20)\n",
    "    #preprocessing hashtag\n",
    "    u.df=u.df.dropna(subset=['entities.hashtags'])                             #drop nan values on column hashtags\n",
    "    u.df.reset_index()\n",
    "    u.df['entities.hashtags']=u.df['entities.hashtags'].apply(eval)            #convert into dict\n",
    "    u.df[\"entities.hashtags\"] = u.df[\"entities.hashtags\"].map(h.extract_tags)  #extract tags\n",
    "    hashtag_for_user[e]=u.df[\"entities.hashtags\"].tolist()                     #convert pandas series into a list\n",
    "    #preprocessing retweet\n",
    "    u.df=u.df.dropna(subset=['retweeted_user_id'])\n",
    "    retweet_for_user[e]=u.df['retweeted_user_id'].tolist()\n",
    "    tweet_for_user[e]=u.df['id'].tolist() \n",
    "    location_for_user[e]=u.df['author.location'].tolist()\n",
    "    verified_for_user[e]=u.df['author.verified']"
   ]
  },
  {
   "cell_type": "code",
   "execution_count": 7,
   "id": "45a4171e",
   "metadata": {
    "id": "45a4171e"
   },
   "outputs": [],
   "source": [
    "user_id=[]\n",
    "tweet_id=[]\n",
    "hashtag=[]\n",
    "retweet=[]\n",
    "location=[]\n",
    "verified=[]\n",
    "for u,h in hashtag_for_user.items():\n",
    "    user_id.append(u)\n",
    "    hashtag.append(h)\n",
    "for u,t in tweet_for_user.items():\n",
    "    tweet_id.append(t)\n",
    "for u,r in retweet_for_user.items():\n",
    "    retweet.append(r)\n",
    "for u,l in location_for_user.items():\n",
    "    location.append(l)\n",
    "for u,v in verified_for_user.items():\n",
    "    verified.append(v)"
   ]
  },
  {
   "cell_type": "code",
   "execution_count": 8,
   "id": "469acf14",
   "metadata": {},
   "outputs": [
    {
     "name": "stdout",
     "output_type": "stream",
     "text": [
      "88\n"
     ]
    }
   ],
   "source": [
    "print(len(location))"
   ]
  },
  {
   "cell_type": "code",
   "execution_count": 29,
   "id": "1c162cc2",
   "metadata": {},
   "outputs": [],
   "source": [
    "loc=[]\n",
    "for lists in location:\n",
    "    nest_loc=[]\n",
    "    for el in lists:  \n",
    "        if isinstance(el,float):\n",
    "            nest_loc.append(0) #remove nan locations\n",
    "        elif isinstance(el,str):\n",
    "            nest_loc.append(statistics.mode(lists)) #set as locaton the most used one\n",
    "    loc.append(nest_loc)"
   ]
  },
  {
   "cell_type": "code",
   "execution_count": 30,
   "id": "d8022c8a",
   "metadata": {
    "id": "d8022c8a",
    "outputId": "c45e8679-5e46-4d93-8512-fa39ebc412c5"
   },
   "outputs": [
    {
     "data": {
      "text/html": [
       "<div>\n",
       "<style scoped>\n",
       "    .dataframe tbody tr th:only-of-type {\n",
       "        vertical-align: middle;\n",
       "    }\n",
       "\n",
       "    .dataframe tbody tr th {\n",
       "        vertical-align: top;\n",
       "    }\n",
       "\n",
       "    .dataframe thead th {\n",
       "        text-align: right;\n",
       "    }\n",
       "</style>\n",
       "<table border=\"1\" class=\"dataframe\">\n",
       "  <thead>\n",
       "    <tr style=\"text-align: right;\">\n",
       "      <th></th>\n",
       "      <th>user_id</th>\n",
       "      <th>tweet_id</th>\n",
       "      <th>retweet_id</th>\n",
       "      <th>hashtag</th>\n",
       "      <th>location</th>\n",
       "      <th>verified</th>\n",
       "    </tr>\n",
       "  </thead>\n",
       "  <tbody>\n",
       "    <tr>\n",
       "      <th>0</th>\n",
       "      <td>2312497335</td>\n",
       "      <td>[1556655988874289153, 1555938148315717632]</td>\n",
       "      <td>[1502349083981324288, 1502349083981324288]</td>\n",
       "      <td>[[ukrainianarmy, ukraine], [actforukraine, ukr...</td>\n",
       "      <td>[København, Danmark, København, Danmark]</td>\n",
       "      <td>0    False\n",
       "7    False\n",
       "Name: author.verified, d...</td>\n",
       "    </tr>\n",
       "    <tr>\n",
       "      <th>1</th>\n",
       "      <td>1496859992116375557</td>\n",
       "      <td>[1556650152529727494, 1556625020729843715]</td>\n",
       "      <td>[758319705849524224, 758319705849524224]</td>\n",
       "      <td>[[russia, donbass, demilitarization, denazific...</td>\n",
       "      <td>[0, 0]</td>\n",
       "      <td>2    False\n",
       "7    False\n",
       "Name: author.verified, d...</td>\n",
       "    </tr>\n",
       "    <tr>\n",
       "      <th>2</th>\n",
       "      <td>200620727</td>\n",
       "      <td>[1556655873090543616, 1556655798251655171, 155...</td>\n",
       "      <td>[819657303788056576, 87358629, 151887925290880...</td>\n",
       "      <td>[[childprotectionregister, shielding, evusheld...</td>\n",
       "      <td>[ Cornwall UK,  Cornwall UK,  Cornwall UK,  Co...</td>\n",
       "      <td>2     False\n",
       "3     False\n",
       "4     False\n",
       "5     Fals...</td>\n",
       "    </tr>\n",
       "    <tr>\n",
       "      <th>3</th>\n",
       "      <td>1521989274190872576</td>\n",
       "      <td>[]</td>\n",
       "      <td>[]</td>\n",
       "      <td>[[zelensky, ukraine]]</td>\n",
       "      <td>[]</td>\n",
       "      <td>Series([], Name: author.verified, dtype: bool)</td>\n",
       "    </tr>\n",
       "    <tr>\n",
       "      <th>4</th>\n",
       "      <td>1442161841912700929</td>\n",
       "      <td>[]</td>\n",
       "      <td>[]</td>\n",
       "      <td>[[avanti, river], [money, ukraine], [river, et...</td>\n",
       "      <td>[]</td>\n",
       "      <td>Series([], Name: author.verified, dtype: bool)</td>\n",
       "    </tr>\n",
       "    <tr>\n",
       "      <th>...</th>\n",
       "      <td>...</td>\n",
       "      <td>...</td>\n",
       "      <td>...</td>\n",
       "      <td>...</td>\n",
       "      <td>...</td>\n",
       "      <td>...</td>\n",
       "    </tr>\n",
       "    <tr>\n",
       "      <th>83</th>\n",
       "      <td>226434373</td>\n",
       "      <td>[1556656003311013888, 1556654766268116994, 155...</td>\n",
       "      <td>[1495480590572961792, 95440329, 82445570890945...</td>\n",
       "      <td>[[ukraine], [voteyouout2022], [deathsantis]]</td>\n",
       "      <td>[0, 0, 0]</td>\n",
       "      <td>0     False\n",
       "3     False\n",
       "18    False\n",
       "Name: auth...</td>\n",
       "    </tr>\n",
       "    <tr>\n",
       "      <th>84</th>\n",
       "      <td>303426991</td>\n",
       "      <td>[1556656301387776003, 1556655797530247170, 155...</td>\n",
       "      <td>[1320680668221919235, 943906396180905984, 7320...</td>\n",
       "      <td>[[mariupol, azovstaldefenders], [ukraine], [wi...</td>\n",
       "      <td>[Prague, Czech Republic, Prague, Czech Republi...</td>\n",
       "      <td>0     False\n",
       "1     False\n",
       "11    False\n",
       "12    Fals...</td>\n",
       "    </tr>\n",
       "    <tr>\n",
       "      <th>85</th>\n",
       "      <td>434354062</td>\n",
       "      <td>[]</td>\n",
       "      <td>[]</td>\n",
       "      <td>[[otan], [putin], [donbass, putin]]</td>\n",
       "      <td>[]</td>\n",
       "      <td>Series([], Name: author.verified, dtype: bool)</td>\n",
       "    </tr>\n",
       "    <tr>\n",
       "      <th>86</th>\n",
       "      <td>1274377712405266432</td>\n",
       "      <td>[1556655961644974080, 1556630736597356546, 155...</td>\n",
       "      <td>[859407061230252032, 754718787237281792, 12856...</td>\n",
       "      <td>[[paris, ukraine, russie], [taiwan], [], [paris]]</td>\n",
       "      <td>[Belgique, Belgique, Belgique, Belgique]</td>\n",
       "      <td>3     False\n",
       "14    False\n",
       "15    False\n",
       "17    Fals...</td>\n",
       "    </tr>\n",
       "    <tr>\n",
       "      <th>87</th>\n",
       "      <td>1504444345553981445</td>\n",
       "      <td>[1556655923841622019, 1556655703909171200, 155...</td>\n",
       "      <td>[1495480590572961792, 720139699, 71298686, 115...</td>\n",
       "      <td>[[ukraine], [ukraine], [russian], [stoprussia]...</td>\n",
       "      <td>[0, 0, 0, 0, 0, 0, 0, 0, 0, 0, 0, 0]</td>\n",
       "      <td>0     False\n",
       "3     False\n",
       "4     False\n",
       "6     Fals...</td>\n",
       "    </tr>\n",
       "  </tbody>\n",
       "</table>\n",
       "<p>88 rows × 6 columns</p>\n",
       "</div>"
      ],
      "text/plain": [
       "                user_id                                           tweet_id  \\\n",
       "0            2312497335         [1556655988874289153, 1555938148315717632]   \n",
       "1   1496859992116375557         [1556650152529727494, 1556625020729843715]   \n",
       "2             200620727  [1556655873090543616, 1556655798251655171, 155...   \n",
       "3   1521989274190872576                                                 []   \n",
       "4   1442161841912700929                                                 []   \n",
       "..                  ...                                                ...   \n",
       "83            226434373  [1556656003311013888, 1556654766268116994, 155...   \n",
       "84            303426991  [1556656301387776003, 1556655797530247170, 155...   \n",
       "85            434354062                                                 []   \n",
       "86  1274377712405266432  [1556655961644974080, 1556630736597356546, 155...   \n",
       "87  1504444345553981445  [1556655923841622019, 1556655703909171200, 155...   \n",
       "\n",
       "                                           retweet_id  \\\n",
       "0          [1502349083981324288, 1502349083981324288]   \n",
       "1            [758319705849524224, 758319705849524224]   \n",
       "2   [819657303788056576, 87358629, 151887925290880...   \n",
       "3                                                  []   \n",
       "4                                                  []   \n",
       "..                                                ...   \n",
       "83  [1495480590572961792, 95440329, 82445570890945...   \n",
       "84  [1320680668221919235, 943906396180905984, 7320...   \n",
       "85                                                 []   \n",
       "86  [859407061230252032, 754718787237281792, 12856...   \n",
       "87  [1495480590572961792, 720139699, 71298686, 115...   \n",
       "\n",
       "                                              hashtag  \\\n",
       "0   [[ukrainianarmy, ukraine], [actforukraine, ukr...   \n",
       "1   [[russia, donbass, demilitarization, denazific...   \n",
       "2   [[childprotectionregister, shielding, evusheld...   \n",
       "3                               [[zelensky, ukraine]]   \n",
       "4   [[avanti, river], [money, ukraine], [river, et...   \n",
       "..                                                ...   \n",
       "83       [[ukraine], [voteyouout2022], [deathsantis]]   \n",
       "84  [[mariupol, azovstaldefenders], [ukraine], [wi...   \n",
       "85                [[otan], [putin], [donbass, putin]]   \n",
       "86  [[paris, ukraine, russie], [taiwan], [], [paris]]   \n",
       "87  [[ukraine], [ukraine], [russian], [stoprussia]...   \n",
       "\n",
       "                                             location  \\\n",
       "0            [København, Danmark, København, Danmark]   \n",
       "1                                              [0, 0]   \n",
       "2   [ Cornwall UK,  Cornwall UK,  Cornwall UK,  Co...   \n",
       "3                                                  []   \n",
       "4                                                  []   \n",
       "..                                                ...   \n",
       "83                                          [0, 0, 0]   \n",
       "84  [Prague, Czech Republic, Prague, Czech Republi...   \n",
       "85                                                 []   \n",
       "86           [Belgique, Belgique, Belgique, Belgique]   \n",
       "87               [0, 0, 0, 0, 0, 0, 0, 0, 0, 0, 0, 0]   \n",
       "\n",
       "                                             verified  \n",
       "0   0    False\n",
       "7    False\n",
       "Name: author.verified, d...  \n",
       "1   2    False\n",
       "7    False\n",
       "Name: author.verified, d...  \n",
       "2   2     False\n",
       "3     False\n",
       "4     False\n",
       "5     Fals...  \n",
       "3      Series([], Name: author.verified, dtype: bool)  \n",
       "4      Series([], Name: author.verified, dtype: bool)  \n",
       "..                                                ...  \n",
       "83  0     False\n",
       "3     False\n",
       "18    False\n",
       "Name: auth...  \n",
       "84  0     False\n",
       "1     False\n",
       "11    False\n",
       "12    Fals...  \n",
       "85     Series([], Name: author.verified, dtype: bool)  \n",
       "86  3     False\n",
       "14    False\n",
       "15    False\n",
       "17    Fals...  \n",
       "87  0     False\n",
       "3     False\n",
       "4     False\n",
       "6     Fals...  \n",
       "\n",
       "[88 rows x 6 columns]"
      ]
     },
     "execution_count": 30,
     "metadata": {},
     "output_type": "execute_result"
    }
   ],
   "source": [
    "#create a pandas dataframe\n",
    "df_nodes=pd.DataFrame({\"user_id\":user_id,\n",
    "                       'tweet_id':tweet_id,\n",
    "                      'retweet_id': retweet,\n",
    "                      \"hashtag\":hashtag,\n",
    "                     'location':loc,\n",
    "                     'verified':verified})\n",
    "df_nodes"
   ]
  },
  {
   "cell_type": "code",
   "execution_count": 31,
   "id": "bc0a4f81",
   "metadata": {
    "id": "bc0a4f81",
    "outputId": "42aeb823-1605-4e18-e106-c3d70441e49e"
   },
   "outputs": [],
   "source": [
    "def user_set(u):\n",
    "    user=set()\n",
    "    user.add(u)\n",
    "    return user\n",
    "user=df_nodes['user_id'] #save for nodes\n",
    "df_nodes['user_id']=df_nodes['user_id'].map(int)\n",
    "df_nodes['user_id']=df_nodes['user_id'].map(user_set) #users into a set"
   ]
  },
  {
   "cell_type": "code",
   "execution_count": 32,
   "id": "2617d4fc",
   "metadata": {
    "id": "2617d4fc"
   },
   "outputs": [],
   "source": [
    "#df_nodes.to_csv('4438_users_csv')\n",
    "#df_nodes=pd.read_csv('4438_users_csv')"
   ]
  },
  {
   "cell_type": "code",
   "execution_count": 33,
   "id": "271f9874",
   "metadata": {
    "id": "271f9874"
   },
   "outputs": [],
   "source": [
    "#convert nested lists on set\n",
    "def to_sets(nested_lists): \n",
    "    outer_list = set()\n",
    "    for el in nested_lists: \n",
    "        if type(el) == list: \n",
    "            outer_list.update(el) \n",
    "        else: \n",
    "            outer_list.add(el)\n",
    "    return outer_list\n",
    "#nested_list=[['onepiece', 'onepiecefilmred'], ['dbacks']]"
   ]
  },
  {
   "cell_type": "code",
   "execution_count": 34,
   "id": "b11deee9",
   "metadata": {
    "id": "b11deee9"
   },
   "outputs": [],
   "source": [
    "df_nodes['hashtag']=df_nodes['hashtag'].map(to_sets)\n",
    "df_nodes['tweet_id']=df_nodes['tweet_id'].map(to_sets)\n",
    "df_nodes['retweet_id']=df_nodes['retweet_id'].map(to_sets)\n",
    "df_nodes['verified']=df_nodes['verified'].map(to_sets)\n",
    "df_nodes['location']=df_nodes['location'].map(to_sets)"
   ]
  },
  {
   "cell_type": "code",
   "execution_count": 35,
   "id": "aa873dc3",
   "metadata": {},
   "outputs": [
    {
     "data": {
      "text/html": [
       "<div>\n",
       "<style scoped>\n",
       "    .dataframe tbody tr th:only-of-type {\n",
       "        vertical-align: middle;\n",
       "    }\n",
       "\n",
       "    .dataframe tbody tr th {\n",
       "        vertical-align: top;\n",
       "    }\n",
       "\n",
       "    .dataframe thead th {\n",
       "        text-align: right;\n",
       "    }\n",
       "</style>\n",
       "<table border=\"1\" class=\"dataframe\">\n",
       "  <thead>\n",
       "    <tr style=\"text-align: right;\">\n",
       "      <th></th>\n",
       "      <th>user_id</th>\n",
       "      <th>tweet_id</th>\n",
       "      <th>retweet_id</th>\n",
       "      <th>hashtag</th>\n",
       "      <th>location</th>\n",
       "      <th>verified</th>\n",
       "    </tr>\n",
       "  </thead>\n",
       "  <tbody>\n",
       "    <tr>\n",
       "      <th>0</th>\n",
       "      <td>{2312497335}</td>\n",
       "      <td>{1555938148315717632, 1556655988874289153}</td>\n",
       "      <td>{1502349083981324288}</td>\n",
       "      <td>{ukrainewillwin, ukraine, actforukraine, ukrai...</td>\n",
       "      <td>{København, Danmark}</td>\n",
       "      <td>{False}</td>\n",
       "    </tr>\n",
       "    <tr>\n",
       "      <th>1</th>\n",
       "      <td>{1496859992116375557}</td>\n",
       "      <td>{1556625020729843715, 1556650152529727494}</td>\n",
       "      <td>{758319705849524224}</td>\n",
       "      <td>{ukropropaganda, lnr, ukrainian, dnr, wetogeth...</td>\n",
       "      <td>{0}</td>\n",
       "      <td>{False}</td>\n",
       "    </tr>\n",
       "    <tr>\n",
       "      <th>2</th>\n",
       "      <td>{200620727}</td>\n",
       "      <td>{1556648803486285827, 1556655798251655171, 155...</td>\n",
       "      <td>{918956395541794816, 354341115, 115389797, 873...</td>\n",
       "      <td>{longcovid, antibodies, evusheld, immunocompro...</td>\n",
       "      <td>{ Cornwall UK}</td>\n",
       "      <td>{False}</td>\n",
       "    </tr>\n",
       "    <tr>\n",
       "      <th>3</th>\n",
       "      <td>{1521989274190872576}</td>\n",
       "      <td>{}</td>\n",
       "      <td>{}</td>\n",
       "      <td>{ukraine, zelensky}</td>\n",
       "      <td>{}</td>\n",
       "      <td>{}</td>\n",
       "    </tr>\n",
       "    <tr>\n",
       "      <th>4</th>\n",
       "      <td>{1442161841912700929}</td>\n",
       "      <td>{}</td>\n",
       "      <td>{}</td>\n",
       "      <td>{money, monthly, republicans, ministra, ethere...</td>\n",
       "      <td>{}</td>\n",
       "      <td>{}</td>\n",
       "    </tr>\n",
       "    <tr>\n",
       "      <th>...</th>\n",
       "      <td>...</td>\n",
       "      <td>...</td>\n",
       "      <td>...</td>\n",
       "      <td>...</td>\n",
       "      <td>...</td>\n",
       "      <td>...</td>\n",
       "    </tr>\n",
       "    <tr>\n",
       "      <th>83</th>\n",
       "      <td>{226434373}</td>\n",
       "      <td>{1556645753048551424, 1556656003311013888, 155...</td>\n",
       "      <td>{824455708909457409, 1495480590572961792, 9544...</td>\n",
       "      <td>{voteyouout2022, ukraine, deathsantis}</td>\n",
       "      <td>{0}</td>\n",
       "      <td>{False}</td>\n",
       "    </tr>\n",
       "    <tr>\n",
       "      <th>84</th>\n",
       "      <td>{303426991}</td>\n",
       "      <td>{1556650169055252482, 1556650090395303936, 155...</td>\n",
       "      <td>{943906396180905984, 73206956, 132068066822191...</td>\n",
       "      <td>{european, mariupol, azovstaldefenders, winter...</td>\n",
       "      <td>{Prague, Czech Republic}</td>\n",
       "      <td>{False}</td>\n",
       "    </tr>\n",
       "    <tr>\n",
       "      <th>85</th>\n",
       "      <td>{434354062}</td>\n",
       "      <td>{}</td>\n",
       "      <td>{}</td>\n",
       "      <td>{donbass, putin, otan}</td>\n",
       "      <td>{}</td>\n",
       "      <td>{}</td>\n",
       "    </tr>\n",
       "    <tr>\n",
       "      <th>86</th>\n",
       "      <td>{1274377712405266432}</td>\n",
       "      <td>{1556630718352171009, 1556630736597356546, 155...</td>\n",
       "      <td>{1285618608299745281, 754718787237281792, 1214...</td>\n",
       "      <td>{, paris, taiwan, russie, ukraine}</td>\n",
       "      <td>{Belgique}</td>\n",
       "      <td>{False}</td>\n",
       "    </tr>\n",
       "    <tr>\n",
       "      <th>87</th>\n",
       "      <td>{1504444345553981445}</td>\n",
       "      <td>{1556655703909171200, 1556655405962493954, 155...</td>\n",
       "      <td>{1157249837206843392, 1522491885218111490, 740...</td>\n",
       "      <td>{ukrainewillwin, donetsk, russian, ukraine, st...</td>\n",
       "      <td>{0}</td>\n",
       "      <td>{False}</td>\n",
       "    </tr>\n",
       "  </tbody>\n",
       "</table>\n",
       "<p>88 rows × 6 columns</p>\n",
       "</div>"
      ],
      "text/plain": [
       "                  user_id                                           tweet_id  \\\n",
       "0            {2312497335}         {1555938148315717632, 1556655988874289153}   \n",
       "1   {1496859992116375557}         {1556625020729843715, 1556650152529727494}   \n",
       "2             {200620727}  {1556648803486285827, 1556655798251655171, 155...   \n",
       "3   {1521989274190872576}                                                 {}   \n",
       "4   {1442161841912700929}                                                 {}   \n",
       "..                    ...                                                ...   \n",
       "83            {226434373}  {1556645753048551424, 1556656003311013888, 155...   \n",
       "84            {303426991}  {1556650169055252482, 1556650090395303936, 155...   \n",
       "85            {434354062}                                                 {}   \n",
       "86  {1274377712405266432}  {1556630718352171009, 1556630736597356546, 155...   \n",
       "87  {1504444345553981445}  {1556655703909171200, 1556655405962493954, 155...   \n",
       "\n",
       "                                           retweet_id  \\\n",
       "0                               {1502349083981324288}   \n",
       "1                                {758319705849524224}   \n",
       "2   {918956395541794816, 354341115, 115389797, 873...   \n",
       "3                                                  {}   \n",
       "4                                                  {}   \n",
       "..                                                ...   \n",
       "83  {824455708909457409, 1495480590572961792, 9544...   \n",
       "84  {943906396180905984, 73206956, 132068066822191...   \n",
       "85                                                 {}   \n",
       "86  {1285618608299745281, 754718787237281792, 1214...   \n",
       "87  {1157249837206843392, 1522491885218111490, 740...   \n",
       "\n",
       "                                              hashtag  \\\n",
       "0   {ukrainewillwin, ukraine, actforukraine, ukrai...   \n",
       "1   {ukropropaganda, lnr, ukrainian, dnr, wetogeth...   \n",
       "2   {longcovid, antibodies, evusheld, immunocompro...   \n",
       "3                                 {ukraine, zelensky}   \n",
       "4   {money, monthly, republicans, ministra, ethere...   \n",
       "..                                                ...   \n",
       "83             {voteyouout2022, ukraine, deathsantis}   \n",
       "84  {european, mariupol, azovstaldefenders, winter...   \n",
       "85                             {donbass, putin, otan}   \n",
       "86                 {, paris, taiwan, russie, ukraine}   \n",
       "87  {ukrainewillwin, donetsk, russian, ukraine, st...   \n",
       "\n",
       "                    location verified  \n",
       "0       {København, Danmark}  {False}  \n",
       "1                        {0}  {False}  \n",
       "2             { Cornwall UK}  {False}  \n",
       "3                         {}       {}  \n",
       "4                         {}       {}  \n",
       "..                       ...      ...  \n",
       "83                       {0}  {False}  \n",
       "84  {Prague, Czech Republic}  {False}  \n",
       "85                        {}       {}  \n",
       "86                {Belgique}  {False}  \n",
       "87                       {0}  {False}  \n",
       "\n",
       "[88 rows x 6 columns]"
      ]
     },
     "execution_count": 35,
     "metadata": {},
     "output_type": "execute_result"
    }
   ],
   "source": [
    "df_nodes"
   ]
  },
  {
   "cell_type": "code",
   "execution_count": 16,
   "id": "a2b4de78",
   "metadata": {
    "id": "a2b4de78"
   },
   "outputs": [],
   "source": [
    "#df_nodes.to_csv('set_4438_users_csv')\n",
    "#df_nodes=pd.read_csv('set_4438_users_csv')"
   ]
  },
  {
   "cell_type": "markdown",
   "id": "30980e1c",
   "metadata": {},
   "source": [
    "# 2) Categorizzazione utenti"
   ]
  },
  {
   "cell_type": "code",
   "execution_count": 17,
   "id": "51d52fc1",
   "metadata": {
    "id": "51d52fc1",
    "outputId": "25000970-a017-4fe8-ed7f-98147022db4c"
   },
   "outputs": [],
   "source": [
    "with open('hashtags_300.json', 'r') as f:\n",
    "    my_dict = json.load(f)"
   ]
  },
  {
   "cell_type": "code",
   "execution_count": 18,
   "id": "185e2b5a",
   "metadata": {
    "id": "185e2b5a"
   },
   "outputs": [],
   "source": [
    "proukr=set()\n",
    "prorus=set()\n",
    "pax=set()\n",
    "for k,v in my_dict.items():\n",
    "    for e in v:\n",
    "        if k=='proukr':\n",
    "            proukr.update(e)\n",
    "        elif k=='pax':\n",
    "            pax.update(e)\n",
    "        elif k=='prorus':\n",
    "            prorus.update(e)"
   ]
  },
  {
   "cell_type": "code",
   "execution_count": 19,
   "id": "9d6486e1",
   "metadata": {
    "id": "9d6486e1",
    "outputId": "bdfa47da-cdb1-462c-8589-d52977aea0f2"
   },
   "outputs": [
    {
     "name": "stdout",
     "output_type": "stream",
     "text": [
      "l'utente {2312497335} non  appartiene alla 4 categoria perchè usa {'ukrainewillwin', 'ukrainianarmy', 'actforukraine', 'ukraine'}\n",
      "l'utente {1496859992116375557} non  appartiene alla 4 categoria perchè usa {'ucraina', 'donbas', 'donbass', 'donetsk', 'france', 'armedforcesofukraine', 'russians', 'russian', 'kherson', 'ukrainian', 'lugansk', 'selenskyj', 'zaporizhzhia', 'zelenskywarcriminal', 'zelenskiy', 'russia', 'ukraine'}\n",
      "l'utente {200620727} non  appartiene alla 4 categoria perchè usa {'covid'}\n",
      "l'utente {1521989274190872576} non  appartiene alla 4 categoria perchè usa {'ukraine', 'zelensky'}\n",
      "l'utente {1442161841912700929} non  appartiene alla 4 categoria perchè usa {'covid19', 'taiwan', 'chicago', 'ethereum', 'ukraine'}\n",
      "l'utente {3364490722} non  appartiene alla 4 categoria perchè usa {'ukrainerussiawar', 'putin', 'karma', 'russia'}\n",
      "l'utente {1206693704657862656} non  appartiene alla 4 categoria perchè usa {'israel', 'donetsk', 'ukraine'}\n",
      "l'utente {1416813017476513801} non  appartiene alla 4 categoria perchè usa {'frexit', 'covid19', 'covid', 'zelensky'}\n",
      "l'utente {1440562358028406790} non  appartiene alla 4 categoria perchè usa {'urbanwarfare', 'amnestyinternational', 'warcrimes', 'russia', 'ukraine'}\n",
      "l'utente {29510241} non  appartiene alla 4 categoria perchè usa {'kharkov', 'donbass', 'kiev', 'ue', 'onu', 'kyiv', 'zaporozhye', 'azov', 'nikolaev', 'zelensky', 'kherson', 'russia', 'ukraine'}\n",
      "l'utente {1081472098546135040} non  appartiene alla 4 categoria perchè usa {'serbia', 'ukrainerussiawar', 'lithuania', 'nato', 'ukraine', 'kosovo'}\n",
      "l'utente {68229976} non  appartiene alla 4 categoria perchè usa {'finland', 'fellas', 'prague', 'kyiv', 'fckptn', 'slavaukraini', 'russiaisaterroriststate', 'ukraine'}\n",
      "l'utente {603048587} non  appartiene alla 4 categoria perchè usa {'blog', 'afd', 'standwithukraine', 'armukrainenow', 'putin', 'ukraine', 'russland'}\n",
      "l'utente {817979601653735424} non  appartiene alla 4 categoria perchè usa {'covid', 'monkeypox'}\n",
      "l'utente {256491020} non  appartiene alla 4 categoria perchè usa {'ucraina', 'medvedev', 'russia'}\n",
      "l'utente {985115966488109056} non  appartiene alla 4 categoria perchè usa {'ukraine'}\n",
      "l'utente {1036928545170305024} non  appartiene alla 4 categoria perchè usa {'newprofilepic'}\n",
      "l'utente {1538091719694106630} non  appartiene alla 4 categoria perchè usa {'amnesty', 'covid19', 'kiev', 'paris', 'zaporozhye', 'russie', 'zelensky', 'europe', 'covid', 'ukraine'}\n",
      "l'utente {1246058490067591174} non  appartiene alla 4 categoria perchè usa {'dogs', 'adoptdontshop', 'enoughisenough', 'uk', 'ukraine'}\n",
      "l'utente {976090796792385537} non  appartiene alla 4 categoria perchè usa {'wagenknecht', 'putin', 'fckafd', 'osint'}\n",
      "l'utente {1553826947867807752} non  appartiene alla 4 categoria perchè usa {'israel', 'russia', 'ukraine'}\n",
      "l'utente {4878155159} non  appartiene alla 4 categoria perchè usa {'ukraine'}\n",
      "l'utente {1281240837897121794} non  appartiene alla 4 categoria perchè usa {'breaking', 'turkey', 'donetsk', 'russian', 'ukrainerussianwar', 'germany', 'mariupol', 'breakingnews', 'afghanistan', 'ukrainerussiawar', 'russia', 'ukraine', 'ukraineunderattack'}\n",
      "l'utente {249620286} non  appartiene alla 4 categoria perchè usa {'noafd', 'ukraine', 'deutschland', 'afd'}\n",
      "l'utente {1405857118133964801} non  appartiene alla 4 categoria perchè usa {'german', 'donetsk', 'russianukrainianwar', 'kyiv', 'kherson', 'ukraine'}\n",
      "l'utente {1476875506813489153} non  appartiene alla 4 categoria perchè usa {'ukraine', 'olafscholz'}\n",
      "l'utente {351762762} non  appartiene alla 4 categoria perchè usa {'ukraine'}\n",
      "l'utente {1047253476303130624} non  appartiene alla 4 categoria perchè usa {'ukrainewillwin', 'ukrainewar', 'ukrainerussianwar', 'ukrainian', 'ukrainians', 'ukrainerussiawar', 'kherson', 'ukraine'}\n",
      "l'utente {825203708329861121} non  appartiene alla 4 categoria perchè usa {'russia'}\n",
      "l'utente {1325181747978526722} non  appartiene alla 4 categoria perchè usa {'ukraine'}\n",
      "l'utente {1151202637582348294} non  appartiene alla 4 categoria perchè usa {'reuters', 'covid19', 'democrats', 'monkeypox', 'foxnews', 'crypto', 'cancer', 'biden', 'covid', 'politics', 'news'}\n",
      "l'utente {1427637415850676225} non  appartiene alla 4 categoria perchè usa {'puppy'}\n",
      "l'utente {626731783} non  appartiene alla 4 categoria perchè usa {'severodonetsk', 'ukrainewar', 'israel', 'stopputin', 'cherson', 'stoprussianaggression', 'helsinki', 'warcrimes', 'ukraine', 'putinwarcriminal'}\n",
      "l'utente {400834403} non  appartiene alla 4 categoria perchè usa {'turkey', 'ukraine'}\n",
      "l'utente {335245933} non  appartiene alla 4 categoria perchè usa {'putin'}\n",
      "l'utente {1467824901071544323} non  appartiene alla 4 categoria perchè usa {'poutine', 'covid', 'energie'}\n",
      "l'utente {1520881145889570817} non  appartiene alla 4 categoria perchè usa {'portugal', 'russia', 'australia'}\n",
      "l'utente {2966604161} non  appartiene alla 4 categoria perchè usa {'turkey', 'ukraine'}\n",
      "l'utente {169090988} non  appartiene alla 4 categoria perchè usa {'books', 'poems', 'music', 'war', 'children', 'poem', 'kids', 'painting', 'poetry'}\n",
      "l'utente {1204804619555217408} non  appartiene alla 4 categoria perchè usa {'ukrainewar', 'armukrainenow', 'ukraine'}\n",
      "l'utente {861389503} non  appartiene alla 4 categoria perchè usa {'resist', 'ukraine', 'wef'}\n",
      "l'utente {217470920} non  appartiene alla 4 categoria perchè usa {'russianinvasion', 'dnipro', 'russians', 'stoprussia', 'prague', 'fckptn', 'slavaukraini', 'heroyamslava', 'ukraine'}\n",
      "l'utente {137379822} non  appartiene alla 4 categoria perchè usa {'elezioni2022', 'covid_19', 'foxnews', 'draghi', 'ukraine', 'afghanistan', 'covid', 'taiwan'}\n",
      "l'utente {1293891155701137410} non  appartiene alla 4 categoria perchè usa {'covid19', 'nancypelosi', 'covid', 'taiwan'}\n",
      "l'utente {1218250255356944384} non  appartiene alla 4 categoria perchè usa {'breaking', 'russia', 'india'}\n",
      "l'utente {348853695} non  appartiene alla 4 categoria perchè usa {'ukrainewar', 'bakhmut', 'zaporizhzhia', 'ukrainerussiawar', 'kherson', 'ukraine'}\n",
      "l'utente {14520773} non  appartiene alla 4 categoria perchè usa {'russia'}\n",
      "l'utente {2178241596} non  appartiene alla 4 categoria perchè usa {'kherson', 'russia', 'ukraine'}\n",
      "l'utente {1520729876487098370} non  appartiene alla 4 categoria perchè usa {'eu', 'kiev', 'taiwan', 'mondaythoughts', 'uk', 'zelensky', 'biden', 'nato', 'russia', 'ukraine'}\n",
      "l'utente {1429115178235408385} non  appartiene alla 4 categoria perchè usa {'orcs', 'putinwarcrimes', 'armukrainenow', 'ukrainerussiawar', 'ukraine', 'donetsk', 'russians', 'himars', 'stoprussianow', 'russiaisaterroriststate', 'himarstime', 'putinwarcriminal', 'russiainvadedukraine', 'himarsoclock', 'putin', 'ukrainewillwin', 'kriegsverbrechen', 'slavaukraini', 'ukrainewillresist', 'melitopol'}\n",
      "l'utente {1312157234} non  appartiene alla 4 categoria perchè usa {'ukraine', 'philately'}\n",
      "l'utente {1542216928432906241} non  appartiene alla 4 categoria perchè usa {'azovstal', 'russianukrainianwar', 'ukraineunderattak', 'russia', 'ukrainerussiawar', 'ukraine', 'donetsk', 'russian', 'ukrainerussianwar', 'russiaisateroriststate', 'mariupol', 'kharkiv', 'russiaisaterroriststate', 'russiaterroriststate', 'genocideofukrainians', 'warinukraine', 'russiaukrainewar', 'russiainvadedukraine', 'ukrainewar', 'azovbatallion', 'terrorists', 'azovstaldefenders', 'russiaisaterrorisstate', 'russianarmy', 'russianwarcrimes', 'olenivka', 'ukraineunderattack'}\n",
      "l'utente {1503838032553783299} non  appartiene alla 4 categoria perchè usa {'severodonetsk', 'donetsk', 'ukraine', 'kharkiv', 'russia', 'ukrainerussiawar'}\n",
      "l'utente {1462258083342733318} non  appartiene alla 4 categoria perchè usa {'orban', 'afd', 'zdf', 'bakhmut', 'russland', 'ukraine', 'habeck'}\n",
      "l'utente {1355444204034514945} non  appartiene alla 4 categoria perchè usa {'covid'}\n",
      "l'utente {1237127504135180288} non  appartiene alla 4 categoria perchè usa {'war', 'turkiye'}\n",
      "l'utente {1381833915866832897} non  appartiene alla 4 categoria perchè usa {'india', 'mondaythoughts', 'breakingnews', 'georgia'}\n",
      "l'utente {1513885766937632770} non  appartiene alla 4 categoria perchè usa {'finland', 'ukraine', 'kyiv'}\n"
     ]
    },
    {
     "name": "stdout",
     "output_type": "stream",
     "text": [
      "l'utente {65970675} non  appartiene alla 4 categoria perchè usa {'covid', 'wearamask', 'monkeypox'}\n",
      "l'utente {1304158776434491392} non  appartiene alla 4 categoria perchè usa {'breaking', 'joebiden', 'france', 'moscow', 'israel', 'un', 'muslim', 'breakingnews', 'zaporizhzhia', 'europe', 'russia', 'ukraine'}\n",
      "l'utente {1114810989604741120} non  appartiene alla 4 categoria perchè usa {'orban', 'france', 'energy', 'lgbtq', 'serbia', 'hungary', 'grain', 'germany', 'war', 'sanctions', 'gas', 'canada', 'europe', 'russia', 'ukraine', 'kosovo', 'nazi'}\n",
      "l'utente {1445514941427896326} non  appartiene alla 4 categoria perchè usa {'kyiv', 'stopputin', 'ukrainian', 'ukrainekrieg', 'canada', 'kherson', 'russia', 'ukraine', 'ukrainerussiawar', 'donbass', 'russian', 'himars', 'russiaisaterroriststate', 'ukrainewar', 'odesa', 'uk', 'usa', 'finland', 'nato'}\n",
      "l'utente {797757316493938688} non  appartiene alla 4 categoria perchè usa {'poutine', 'covid'}\n",
      "l'utente {1505544235420119041} non  appartiene alla 4 categoria perchè usa {'ukraine'}\n",
      "l'utente {837372619573833734} non  appartiene alla 4 categoria perchè usa {'afd', 'zdf', 'spd', 'scholz', 'ukraine'}\n",
      "l'utente {2397417899} non  appartiene alla 4 categoria perchè usa {'standwithukraine', 'russiainvadedukraine', 'russian', 'poutine', 'ukrainewar', 'ukraina', 'rusia', 'russiaisateroriststate', 'russie', 'russiaisaterroriststate', 'ukrainerussiawar', 'russiaterroriststate', 'armukrainanow', 'ukraine'}\n",
      "l'utente {82714485} non  appartiene alla 4 categoria perchè usa {'russia', 'ukraine'}\n",
      "l'utente {1485067322998013954} non  appartiene alla 4 categoria perchè usa {'ukrainewar', 'bakhmut', 'zaporizhzhia', 'ukrainerussiawar', 'kherson', 'ukraine'}\n",
      "l'utente {1634631774} non  appartiene alla 4 categoria perchè usa {'ukrainewar', 'ukrainerussianwar', 'war', 'ukrainerussiawar', 'ukraine'}\n",
      "l'utente {1553418738501820417} non  appartiene alla 4 categoria perchè usa {'ukraine', 'ukrainerussiawar', 'himars'}\n",
      "l'utente {1476108041682624520} non  appartiene alla 4 categoria perchè usa {'kiev', 'serbia', 'poland', 'russia', 'ukraine'}\n",
      "l'utente {795993746} non  appartiene alla 4 categoria perchè usa {'fdp', 'covid19', 'terrorist', 'ai', 'angriffskrieg', 'frieden', 'krieg', 'tempolimit', 'kriegsverbrecher', 'putin', 'ukraine'}\n",
      "l'utente {1409996356782104580} non  appartiene alla 4 categoria perchè usa {'standupforukraine', 'finland', 'warinukraine', 'genocideofukrainians', 'kyiv', 'russianwarcrimes', 'dnipropetrovsk', 'standwithukraine', 'russiaisaterroriststate', 'armukrainenow', 'ukraine'}\n",
      "l'utente {1540887901} non  appartiene alla 4 categoria perchè usa {'donetsk', 'poutine', 'russianukrainianwar', 'russie', 'zelensky', 'macron', 'ukraine'}\n",
      "l'utente {161151263} non  appartiene alla 4 categoria perchè usa {'warcriminal', 'russiaterroriststate', 'putin'}\n",
      "l'utente {3104222776} non  appartiene alla 4 categoria perchè usa {'russia', 'ukraine'}\n",
      "l'utente {1253745363623739392} non  appartiene alla 4 categoria perchè usa {'bulgaria', 'russians', 'taiwan', 'azerbaijan', 'georgia', 'iran', 'srilanka', 'india', 'turkiye', 'russia', 'ukraine'}\n",
      "l'utente {721002263557177344} non  appartiene alla 4 categoria perchè usa {'ukraine'}\n",
      "l'utente {853651248} non  appartiene alla 4 categoria perchè usa {'covid', 'enoughisenough'}\n",
      "l'utente {4758515450} non  appartiene alla 4 categoria perchè usa {'books', 'covid'}\n",
      "l'utente {226434373} non  appartiene alla 4 categoria perchè usa {'ukraine'}\n",
      "l'utente {303426991} non  appartiene alla 4 categoria perchè usa {'european', 'mariupol', 'azovstaldefenders', 'winteriscoming', 'ukraine'}\n",
      "l'utente {434354062} non  appartiene alla 4 categoria perchè usa {'donbass', 'putin'}\n",
      "l'utente {1274377712405266432} non  appartiene alla 4 categoria perchè usa {'ukraine', 'russie', 'taiwan', 'paris'}\n",
      "l'utente {1504444345553981445} non  appartiene alla 4 categoria perchè usa {'ukrainewillwin', 'donetsk', 'russian', 'stoprussia', 'ukrainerussianwar', 'osint', 'ukrainerussiawar', 'kherson', 'ukraine'}\n"
     ]
    }
   ],
   "source": [
    "cat=set.union(proukr,prorus,pax)\n",
    "count1=0\n",
    "count4=0\n",
    "index1=[]\n",
    "index4=[]\n",
    "\n",
    "for i, row in enumerate(df_nodes['hashtag']): \n",
    "    if row.intersection(cat)==set():#no intersezione   \n",
    "        #print(row.intersectionn(cat))\n",
    "        #print(\"l'utente {}  appartiene alla 4 categoria\".format(row.intersection(cat)))\n",
    "        #print(\"4 categoria\", row)\n",
    "        count4 += 1\n",
    "        index4.append(i)\n",
    "        \n",
    "    else: #c'è intersezione: uno della 3 categorie\n",
    "        #print(\"non è la 4 categoria perchè contiene\",row.intersection(cat))\n",
    "       # if row.intersection(proukr)!=set(): #c'è intersez con proukr\n",
    "            count1 += 1\n",
    "            index1.append(i) #aggiungo alle rige da tgliere\n",
    "            print(\"l'utente {} non  appartiene alla 4 categoria perchè usa {}\".format(df_nodes['user_id'].loc[i],row.intersection(cat)))"
   ]
  },
  {
   "cell_type": "code",
   "execution_count": 20,
   "id": "a314a189",
   "metadata": {
    "id": "a314a189",
    "outputId": "7da8eab7-438b-4bea-d785-2164aebf5438"
   },
   "outputs": [
    {
     "name": "stdout",
     "output_type": "stream",
     "text": [
      "nocare = 3 \n",
      "altre categorie = 85\n"
     ]
    }
   ],
   "source": [
    "print('nocare = {} \\n'\n",
    "      'altre categorie = {}'.format(count4, count1))"
   ]
  },
  {
   "cell_type": "code",
   "execution_count": 23,
   "id": "58728d97",
   "metadata": {
    "id": "58728d97",
    "outputId": "69e9e84d-9b71-467f-90e4-7d4532a569b8"
   },
   "outputs": [
    {
     "name": "stderr",
     "output_type": "stream",
     "text": [
      "C:\\Users\\david\\AppData\\Local\\Programs\\Python\\Python310\\lib\\site-packages\\pandas\\core\\indexing.py:1732: SettingWithCopyWarning: \n",
      "A value is trying to be set on a copy of a slice from a DataFrame\n",
      "\n",
      "See the caveats in the documentation: https://pandas.pydata.org/pandas-docs/stable/user_guide/indexing.html#returning-a-view-versus-a-copy\n",
      "  self._setitem_single_block(indexer, value, name)\n"
     ]
    }
   ],
   "source": [
    "df_nodes['cat']=False\n",
    "for i in index4:\n",
    "    df_nodes['cat'].loc[i]='nocare'"
   ]
  },
  {
   "cell_type": "code",
   "execution_count": 88,
   "id": "567c6e14",
   "metadata": {
    "id": "ee7704f6"
   },
   "outputs": [
    {
     "ename": "SyntaxError",
     "evalue": "invalid syntax (2154813119.py, line 2)",
     "output_type": "error",
     "traceback": [
      "\u001b[1;36m  File \u001b[1;32m\"C:\\Users\\david\\AppData\\Local\\Temp\\ipykernel_19084\\2154813119.py\"\u001b[1;36m, line \u001b[1;32m2\u001b[0m\n\u001b[1;33m    copia lavoro fabio\u001b[0m\n\u001b[1;37m          ^\u001b[0m\n\u001b[1;31mSyntaxError\u001b[0m\u001b[1;31m:\u001b[0m invalid syntax\n"
     ]
    }
   ],
   "source": [
    "#parte categorizzazione tweet e utenti di proukr, prorus, pax\n",
    "copia lavoro fabio"
   ]
  },
  {
   "cell_type": "markdown",
   "id": "4bcfed45",
   "metadata": {
    "id": "4bcfed45"
   },
   "source": [
    "# 3 Creazione rete"
   ]
  },
  {
   "cell_type": "code",
   "execution_count": 21,
   "id": "d2414f7b",
   "metadata": {
    "id": "d2414f7b"
   },
   "outputs": [],
   "source": [
    "G = nx.Graph()"
   ]
  },
  {
   "cell_type": "code",
   "execution_count": 24,
   "id": "9484d0d6",
   "metadata": {
    "id": "9484d0d6",
    "outputId": "e0475967-0a53-44e5-ffcf-305f34c7c138"
   },
   "outputs": [
    {
     "data": {
      "text/plain": [
       "[('2312497335',\n",
       "  {'cat': False, 'loc': {'København, Danmark'}, 'verfied': {False}}),\n",
       " ('1496859992116375557', {'cat': False, 'loc': {0}, 'verfied': {False}}),\n",
       " ('200620727', {'cat': False, 'loc': {' Cornwall UK'}, 'verfied': {False}}),\n",
       " ('1521989274190872576', {'cat': False, 'loc': set(), 'verfied': set()}),\n",
       " ('1442161841912700929', {'cat': False, 'loc': set(), 'verfied': set()}),\n",
       " ('3364490722', {'cat': False, 'loc': {0}, 'verfied': {False}}),\n",
       " ('1206693704657862656',\n",
       "  {'cat': False, 'loc': {'Retardistan, Russophilistan'}, 'verfied': {False}}),\n",
       " ('1416813017476513801',\n",
       "  {'cat': False, 'loc': {'Aix-en-Provence, France'}, 'verfied': {False}}),\n",
       " ('1440562358028406790', {'cat': False, 'loc': {0}, 'verfied': {False}}),\n",
       " ('36961157', {'cat': 'nocare', 'loc': set(), 'verfied': set()}),\n",
       " ('29510241',\n",
       "  {'cat': False, 'loc': {'Planète Terre et Mars'}, 'verfied': {False}}),\n",
       " ('1081472098546135040', {'cat': False, 'loc': {0}, 'verfied': {False}}),\n",
       " ('68229976', {'cat': False, 'loc': {0}, 'verfied': {False}}),\n",
       " ('603048587', {'cat': False, 'loc': set(), 'verfied': set()}),\n",
       " ('817979601653735424', {'cat': False, 'loc': {0}, 'verfied': {False}}),\n",
       " ('256491020', {'cat': False, 'loc': {'Salento, Mantua'}, 'verfied': {False}}),\n",
       " ('985115966488109056', {'cat': False, 'loc': {0}, 'verfied': {False}}),\n",
       " ('1036928545170305024', {'cat': False, 'loc': {0}, 'verfied': {False}}),\n",
       " ('1538091719694106630', {'cat': False, 'loc': {0}, 'verfied': {False}}),\n",
       " ('1246058490067591174',\n",
       "  {'cat': False, 'loc': {'Manchester '}, 'verfied': {False}}),\n",
       " ('976090796792385537', {'cat': False, 'loc': {0}, 'verfied': {False}}),\n",
       " ('1553826947867807752', {'cat': False, 'loc': {0}, 'verfied': {False}}),\n",
       " ('4878155159',\n",
       "  {'cat': False, 'loc': {'Brno, Czech Republic'}, 'verfied': {False}}),\n",
       " ('1281240837897121794', {'cat': False, 'loc': set(), 'verfied': set()}),\n",
       " ('249620286',\n",
       "  {'cat': False, 'loc': {'Im wilden Süden🌍 🤠😉  !'}, 'verfied': {False}}),\n",
       " ('1405857118133964801',\n",
       "  {'cat': False, 'loc': {'Edinburgh, Scotland'}, 'verfied': {False}}),\n",
       " ('1476875506813489153',\n",
       "  {'cat': False, 'loc': {'Berlin, Deutschland'}, 'verfied': {False}}),\n",
       " ('351762762', {'cat': False, 'loc': {'Santa Fe, NM'}, 'verfied': {False}}),\n",
       " ('1047253476303130624', {'cat': False, 'loc': {0}, 'verfied': {False}}),\n",
       " ('825203708329861121',\n",
       "  {'cat': False, 'loc': {'PA, USA'}, 'verfied': {False}}),\n",
       " ('1325181747978526722', {'cat': False, 'loc': {0}, 'verfied': {False}}),\n",
       " ('1151202637582348294', {'cat': False, 'loc': {'Paris'}, 'verfied': {False}}),\n",
       " ('1427637415850676225', {'cat': False, 'loc': set(), 'verfied': set()}),\n",
       " ('626731783', {'cat': False, 'loc': set(), 'verfied': set()}),\n",
       " ('400834403', {'cat': False, 'loc': {0}, 'verfied': {False}}),\n",
       " ('335245933', {'cat': False, 'loc': {0}, 'verfied': {False}}),\n",
       " ('1467824901071544323',\n",
       "  {'cat': False, 'loc': {'Espagne'}, 'verfied': {False}}),\n",
       " ('1520881145889570817', {'cat': False, 'loc': set(), 'verfied': set()}),\n",
       " ('2966604161', {'cat': False, 'loc': {'Вінниця'}, 'verfied': {False}}),\n",
       " ('169090988', {'cat': False, 'loc': {'Athens , Greece'}, 'verfied': {False}}),\n",
       " ('1204804619555217408', {'cat': False, 'loc': set(), 'verfied': set()}),\n",
       " ('861389503', {'cat': False, 'loc': {0}, 'verfied': {False}}),\n",
       " ('217470920', {'cat': False, 'loc': {0}, 'verfied': {False}}),\n",
       " ('137379822',\n",
       "  {'cat': False, 'loc': {'Lombardia, Liguria, Italia'}, 'verfied': {False}}),\n",
       " ('1293891155701137410', {'cat': False, 'loc': set(), 'verfied': set()}),\n",
       " ('1218250255356944384',\n",
       "  {'cat': False, 'loc': {'Wakanda'}, 'verfied': {False}}),\n",
       " ('348853695',\n",
       "  {'cat': False, 'loc': {'Красная площадь '}, 'verfied': {False}}),\n",
       " ('14520773', {'cat': False, 'loc': {0}, 'verfied': {False}}),\n",
       " ('383956970', {'cat': 'nocare', 'loc': {'SoCal'}, 'verfied': {False}}),\n",
       " ('1380600210611695616',\n",
       "  {'cat': 'nocare', 'loc': {'São Paulo, 🇧🇷 '}, 'verfied': {False}}),\n",
       " ('2178241596', {'cat': False, 'loc': {'nyc'}, 'verfied': {False}}),\n",
       " ('1520729876487098370', {'cat': False, 'loc': set(), 'verfied': set()}),\n",
       " ('1429115178235408385', {'cat': False, 'loc': set(), 'verfied': set()}),\n",
       " ('1312157234', {'cat': False, 'loc': set(), 'verfied': set()}),\n",
       " ('1542216928432906241', {'cat': False, 'loc': {0}, 'verfied': {False}}),\n",
       " ('1503838032553783299',\n",
       "  {'cat': False, 'loc': {'War sucks'}, 'verfied': {False}}),\n",
       " ('1462258083342733318', {'cat': False, 'loc': {0}, 'verfied': {False}}),\n",
       " ('1355444204034514945', {'cat': False, 'loc': {0}, 'verfied': {False}}),\n",
       " ('1237127504135180288', {'cat': False, 'loc': {0}, 'verfied': {False}}),\n",
       " ('1381833915866832897', {'cat': False, 'loc': {0}, 'verfied': {False}}),\n",
       " ('1513885766937632770',\n",
       "  {'cat': False, 'loc': {'Ukraine'}, 'verfied': {False}}),\n",
       " ('65970675', {'cat': False, 'loc': {'California, USA'}, 'verfied': {True}}),\n",
       " ('1304158776434491392', {'cat': False, 'loc': set(), 'verfied': set()}),\n",
       " ('1114810989604741120', {'cat': False, 'loc': set(), 'verfied': set()}),\n",
       " ('1445514941427896326', {'cat': False, 'loc': {0}, 'verfied': {False}}),\n",
       " ('797757316493938688',\n",
       "  {'cat': False, 'loc': {'Plus de pays'}, 'verfied': {False}}),\n",
       " ('1505544235420119041', {'cat': False, 'loc': {0}, 'verfied': {False}}),\n",
       " ('837372619573833734', {'cat': False, 'loc': {0}, 'verfied': {False}}),\n",
       " ('2397417899', {'cat': False, 'loc': {0}, 'verfied': {False}}),\n",
       " ('82714485',\n",
       "  {'cat': False, 'loc': {'St. Jean-de-Luz, France'}, 'verfied': {False}}),\n",
       " ('1485067322998013954', {'cat': False, 'loc': {0}, 'verfied': {False}}),\n",
       " ('1634631774', {'cat': False, 'loc': {0}, 'verfied': {False}}),\n",
       " ('1553418738501820417', {'cat': False, 'loc': {0}, 'verfied': {False}}),\n",
       " ('1476108041682624520', {'cat': False, 'loc': set(), 'verfied': set()}),\n",
       " ('795993746', {'cat': False, 'loc': {0}, 'verfied': {False}}),\n",
       " ('1409996356782104580',\n",
       "  {'cat': False, 'loc': {'on Twitter since 2006'}, 'verfied': {False}}),\n",
       " ('1540887901', {'cat': False, 'loc': {'France'}, 'verfied': {False}}),\n",
       " ('161151263',\n",
       "  {'cat': False, 'loc': {'Aguadilla, Puerto Rico'}, 'verfied': {False}}),\n",
       " ('3104222776', {'cat': False, 'loc': {'Czech Republic'}, 'verfied': {False}}),\n",
       " ('1253745363623739392', {'cat': False, 'loc': set(), 'verfied': set()}),\n",
       " ('721002263557177344',\n",
       "  {'cat': False, 'loc': {'Salt Lake City, UT'}, 'verfied': {False}}),\n",
       " ('853651248',\n",
       "  {'cat': False, 'loc': {'Edinburgh, Scotland'}, 'verfied': {False}}),\n",
       " ('4758515450', {'cat': False, 'loc': set(), 'verfied': set()}),\n",
       " ('226434373', {'cat': False, 'loc': {0}, 'verfied': {False}}),\n",
       " ('303426991',\n",
       "  {'cat': False, 'loc': {'Prague, Czech Republic'}, 'verfied': {False}}),\n",
       " ('434354062', {'cat': False, 'loc': set(), 'verfied': set()}),\n",
       " ('1274377712405266432',\n",
       "  {'cat': False, 'loc': {'Belgique'}, 'verfied': {False}}),\n",
       " ('1504444345553981445', {'cat': False, 'loc': {0}, 'verfied': {False}})]"
      ]
     },
     "execution_count": 24,
     "metadata": {},
     "output_type": "execute_result"
    }
   ],
   "source": [
    "#assegnazione propietà al nodo, ex: categoria, 'author.location', 'author.verified', \n",
    "for i, e in enumerate(user):\n",
    "    G.add_node(e, cat=df_nodes['cat'][i], loc=df_nodes['location'][i], verfied=df_nodes['verified'][i]) #->aggiungere cat a ogni nodo\n",
    "list(G.nodes.data()) #stampa proprietà di ogni nodo come dict()"
   ]
  },
  {
   "cell_type": "code",
   "execution_count": 25,
   "id": "46a15d79",
   "metadata": {},
   "outputs": [
    {
     "data": {
      "text/plain": [
       "[]"
      ]
     },
     "execution_count": 25,
     "metadata": {},
     "output_type": "execute_result"
    }
   ],
   "source": [
    "#crea edges tra nodi\n",
    "edges=[]\n",
    "user_set=set()\n",
    "for e in df_nodes['user_id']:\n",
    "    user_set.update(e)\n",
    "for id_retweet in df_nodes['retweet_id']:\n",
    "    if id_retweet.intersection(user_set)!=set():\n",
    "        print('ok')\n",
    "        edges.append([id_retweet,id_retweet.intersection(user_set)])\n",
    "edges"
   ]
  },
  {
   "cell_type": "code",
   "execution_count": 28,
   "id": "caf19dd9",
   "metadata": {
    "id": "caf19dd9"
   },
   "outputs": [],
   "source": [
    "#assegnazione link ai nodi\n",
    "from_node=[]\n",
    "to_node=[]\n",
    "for n1,n2 in edges:\n",
    "    from_node.append(n1)\n",
    "    to_node.append(n2)\n",
    "i=0\n",
    "while i<len(edges):\n",
    "    G.add_edge(from_node[i],to_node[i])\n",
    "    i +=1"
   ]
  },
  {
   "cell_type": "code",
   "execution_count": 93,
   "id": "7c0f9eea",
   "metadata": {
    "id": "7c0f9eea"
   },
   "outputs": [
    {
     "data": {
      "text/plain": [
       "0"
      ]
     },
     "execution_count": 93,
     "metadata": {},
     "output_type": "execute_result"
    }
   ],
   "source": [
    "G.number_of_edges()"
   ]
  },
  {
   "cell_type": "code",
   "execution_count": 94,
   "id": "e354dce5",
   "metadata": {
    "id": "e354dce5"
   },
   "outputs": [
    {
     "data": {
      "text/plain": [
       "87"
      ]
     },
     "execution_count": 94,
     "metadata": {},
     "output_type": "execute_result"
    }
   ],
   "source": [
    "G.number_of_nodes()"
   ]
  },
  {
   "cell_type": "code",
   "execution_count": null,
   "id": "471263a0",
   "metadata": {
    "id": "471263a0"
   },
   "outputs": [],
   "source": [
    "G.remove_nodes_from(list(nx.isolates(G)))"
   ]
  },
  {
   "cell_type": "code",
   "execution_count": 95,
   "id": "036e5d67",
   "metadata": {
    "id": "036e5d67"
   },
   "outputs": [
    {
     "data": {
      "image/png": "[encoded data removed]",
      "text/plain": [
       "<Figure size 432x288 with 1 Axes>"
      ]
     },
     "metadata": {},
     "output_type": "display_data"
    }
   ],
   "source": [
    "nx.draw(G)"
   ]
  },
  {
   "cell_type": "code",
   "execution_count": null,
   "id": "905ae485",
   "metadata": {
    "id": "905ae485"
   },
   "outputs": [],
   "source": []
  }
 ],
 "metadata": {
  "colab": {
   "collapsed_sections": [],
   "name": "prova_creazione_rete.ipynb",
   "provenance": []
  },
  "kernelspec": {
   "display_name": "Python 3 (ipykernel)",
   "language": "python",
   "name": "python3"
  },
  "language_info": {
   "codemirror_mode": {
    "name": "ipython",
    "version": 3
   },
   "file_extension": ".py",
   "mimetype": "text/x-python",
   "name": "python",
   "nbconvert_exporter": "python",
   "pygments_lexer": "ipython3",
   "version": "3.10.5"
  }
 },
 "nbformat": 4,
 "nbformat_minor": 5
}
