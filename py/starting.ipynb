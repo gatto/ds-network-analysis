{
 "cells": [
  {
   "cell_type": "code",
   "execution_count": null,
   "metadata": {
    "colab": {
     "base_uri": "https://localhost:8080/"
    },
    "executionInfo": {
     "elapsed": 23070,
     "status": "ok",
     "timestamp": 1651829667823,
     "user": {
      "displayName": "Fabio Russo",
      "userId": "12894600619616975822"
     },
     "user_tz": -120
    },
    "id": "ZxlivxxhT-is",
    "outputId": "64d5fabc-8093-42f8-b300-cdbe869c9f2d"
   },
   "outputs": [],
   "source": [
    "!pip uninstall socialetl\n",
    "!pip install -U git+https://github.com/gatto/ds-network-analysis.git\n",
    "# also check other required libraries in /requirements.txt"
   ]
  },
  {
   "cell_type": "code",
   "execution_count": null,
   "metadata": {
    "id": "dGQrDwL2UeU9"
   },
   "outputs": [],
   "source": [
    "from socialetl import SocialETL, Count\n",
    "m = SocialETL(query=\"putin lang:en\", pages=2)"
   ]
  },
  {
   "cell_type": "code",
   "execution_count": null,
   "metadata": {
    "colab": {
     "base_uri": "https://localhost:8080/",
     "height": 622
    },
    "executionInfo": {
     "elapsed": 11,
     "status": "ok",
     "timestamp": 1651829674771,
     "user": {
      "displayName": "Fabio Russo",
      "userId": "12894600619616975822"
     },
     "user_tz": -120
    },
    "id": "1jNzmuQrWbd1",
    "outputId": "cc6049f8-33a2-4e34-b2c8-9e4b4e06becb"
   },
   "outputs": [],
   "source": [
    "m.df"
   ]
  },
  {
   "cell_type": "code",
   "execution_count": null,
   "metadata": {
    "colab": {
     "base_uri": "https://localhost:8080/"
    },
    "executionInfo": {
     "elapsed": 240,
     "status": "ok",
     "timestamp": 1651829679482,
     "user": {
      "displayName": "Fabio Russo",
      "userId": "12894600619616975822"
     },
     "user_tz": -120
    },
    "id": "orw5JSaQU5IY",
    "outputId": "a589604e-ec72-471a-834a-2d1c4d60b499"
   },
   "outputs": [],
   "source": [
    "m.df[\"text\"]"
   ]
  },
  {
   "cell_type": "code",
   "execution_count": null,
   "metadata": {
    "colab": {
     "base_uri": "https://localhost:8080/"
    },
    "executionInfo": {
     "elapsed": 7,
     "status": "ok",
     "timestamp": 1651829695798,
     "user": {
      "displayName": "Fabio Russo",
      "userId": "12894600619616975822"
     },
     "user_tz": -120
    },
    "id": "LZLBbYMxuMsF",
    "outputId": "dd804075-493d-4c02-f752-fad2c4dc4790"
   },
   "outputs": [],
   "source": [
    "m.df.info()"
   ]
  },
  {
   "cell_type": "code",
   "execution_count": null,
   "metadata": {
    "colab": {
     "base_uri": "https://localhost:8080/",
     "height": 187
    },
    "executionInfo": {
     "elapsed": 352,
     "status": "error",
     "timestamp": 1652065659701,
     "user": {
      "displayName": "BLERTA LLESHI",
      "userId": "05237610012886993411"
     },
     "user_tz": -120
    },
    "id": "Qc3Tw3cJU72W",
    "outputId": "419656a0-a652-49c7-881f-c23295f29f5e"
   },
   "outputs": [],
   "source": [
    "one_tweet = m.df.loc[1, \"text\"]\n",
    "print(one_tweet)"
   ]
  },
  {
   "cell_type": "code",
   "execution_count": null,
   "metadata": {},
   "outputs": [],
   "source": [
    "c = Count(query=\"putin lang:en\")"
   ]
  },
  {
   "cell_type": "code",
   "execution_count": null,
   "metadata": {},
   "outputs": [],
   "source": [
    "c"
   ]
  },
  {
   "cell_type": "code",
   "execution_count": null,
   "metadata": {},
   "outputs": [],
   "source": []
  }
 ],
 "metadata": {
  "colab": {
   "collapsed_sections": [],
   "name": "starting.ipynb",
   "provenance": []
  },
  "kernelspec": {
   "display_name": "Python 3 (ipykernel)",
   "language": "python",
   "name": "python3"
  },
  "language_info": {
   "codemirror_mode": {
    "name": "ipython",
    "version": 3
   },
   "file_extension": ".py",
   "mimetype": "text/x-python",
   "name": "python",
   "nbconvert_exporter": "python",
   "pygments_lexer": "ipython3",
   "version": "3.10.4"
  }
 },
 "nbformat": 4,
 "nbformat_minor": 1
}
