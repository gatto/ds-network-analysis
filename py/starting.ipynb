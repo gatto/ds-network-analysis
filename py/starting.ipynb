{
 "cells": [
  {
   "cell_type": "code",
   "execution_count": null,
   "metadata": {
    "colab": {
     "base_uri": "https://localhost:8080/"
    },
    "executionInfo": {
     "elapsed": 23070,
     "status": "ok",
     "timestamp": 1651829667823,
     "user": {
      "displayName": "Fabio Russo",
      "userId": "12894600619616975822"
     },
     "user_tz": -120
    },
    "id": "ZxlivxxhT-is",
    "outputId": "64d5fabc-8093-42f8-b300-cdbe869c9f2d"
   },
   "outputs": [],
   "source": [
    "!pip uninstall socialetl\n",
    "!pip install -U git+https://github.com/gatto/ds-network-analysis.git\n",
    "# also check other required libraries in /requirements.txt"
   ]
  },
  {
   "cell_type": "code",
   "execution_count": 1,
   "metadata": {
    "id": "dGQrDwL2UeU9"
   },
   "outputs": [
    {
     "name": "stdout",
     "output_type": "stream",
     "text": [
      "Reading secret from C:\\Users\\david\\Documents\\GitHub\\ds-network-analysis\\data\\my_secrets.yaml…\n"
     ]
    },
    {
     "ename": "NameError",
     "evalue": "name 'recent' is not defined",
     "output_type": "error",
     "traceback": [
      "\u001b[1;31m---------------------------------------------------------------------------\u001b[0m",
      "\u001b[1;31mNameError\u001b[0m                                 Traceback (most recent call last)",
      "\u001b[1;32m<ipython-input-1-1c2eef641adc>\u001b[0m in \u001b[0;36m<module>\u001b[1;34m\u001b[0m\n\u001b[0;32m      1\u001b[0m \u001b[1;32mfrom\u001b[0m \u001b[0mextract\u001b[0m \u001b[1;32mimport\u001b[0m \u001b[0mSocialETL\u001b[0m\u001b[1;33m,\u001b[0m \u001b[0mCount\u001b[0m\u001b[1;33m\u001b[0m\u001b[1;33m\u001b[0m\u001b[0m\n\u001b[1;32m----> 2\u001b[1;33m \u001b[0mm\u001b[0m \u001b[1;33m=\u001b[0m \u001b[0mSocialETL\u001b[0m\u001b[1;33m(\u001b[0m\u001b[0mquery\u001b[0m\u001b[1;33m=\u001b[0m\u001b[1;34m\"putin lang:en\"\u001b[0m\u001b[1;33m,\u001b[0m \u001b[0mpages\u001b[0m\u001b[1;33m=\u001b[0m\u001b[1;36m2\u001b[0m\u001b[1;33m,\u001b[0m \u001b[0mrecent\u001b[0m\u001b[1;33m=\u001b[0m\u001b[1;32mTrue\u001b[0m\u001b[1;33m)\u001b[0m\u001b[1;33m\u001b[0m\u001b[1;33m\u001b[0m\u001b[0m\n\u001b[0m\u001b[0;32m      3\u001b[0m \u001b[1;31m# recent=True cerca solo fra i recenti; se non includi recent, cerca fra \"tutti\" i tweet.\u001b[0m\u001b[1;33m\u001b[0m\u001b[1;33m\u001b[0m\u001b[1;33m\u001b[0m\u001b[0m\n",
      "\u001b[1;32m~\\Documents\\GitHub\\ds-network-analysis\\py\\extract.py\u001b[0m in \u001b[0;36m__init__\u001b[1;34m(self, query, recent, pages, secret)\u001b[0m\n\u001b[0;32m      4\u001b[0m     \u001b[0mself\u001b[0m\u001b[1;33m.\u001b[0m\u001b[0mpages\u001b[0m \u001b[1;33m=\u001b[0m \u001b[0mpages\u001b[0m\u001b[1;33m\u001b[0m\u001b[1;33m\u001b[0m\u001b[0m\n\u001b[0;32m      5\u001b[0m     \u001b[0mself\u001b[0m\u001b[1;33m.\u001b[0m\u001b[0msecret\u001b[0m \u001b[1;33m=\u001b[0m \u001b[0msecret\u001b[0m\u001b[1;33m\u001b[0m\u001b[1;33m\u001b[0m\u001b[0m\n\u001b[1;32m----> 6\u001b[1;33m     \u001b[0mself\u001b[0m\u001b[1;33m.\u001b[0m\u001b[0mdf\u001b[0m \u001b[1;33m=\u001b[0m \u001b[0m__attr_factory_df\u001b[0m\u001b[1;33m(\u001b[0m\u001b[0mself\u001b[0m\u001b[1;33m)\u001b[0m\u001b[1;33m\u001b[0m\u001b[1;33m\u001b[0m\u001b[0m\n\u001b[0m",
      "\u001b[1;32m~\\Documents\\GitHub\\ds-network-analysis\\py\\extract.py\u001b[0m in \u001b[0;36m_df_default\u001b[1;34m(self)\u001b[0m\n\u001b[0;32m     57\u001b[0m \u001b[1;33m\u001b[0m\u001b[0m\n\u001b[0;32m     58\u001b[0m         \u001b[1;31m# am I accessing or am I counting?\u001b[0m\u001b[1;33m\u001b[0m\u001b[1;33m\u001b[0m\u001b[1;33m\u001b[0m\u001b[0m\n\u001b[1;32m---> 59\u001b[1;33m         \u001b[1;32mif\u001b[0m \u001b[0mrecent\u001b[0m\u001b[1;33m:\u001b[0m\u001b[1;33m\u001b[0m\u001b[1;33m\u001b[0m\u001b[0m\n\u001b[0m\u001b[0;32m     60\u001b[0m             search_results = t.search_recent(\n\u001b[0;32m     61\u001b[0m                 \u001b[0mquery\u001b[0m\u001b[1;33m=\u001b[0m\u001b[0mself\u001b[0m\u001b[1;33m.\u001b[0m\u001b[0mquery\u001b[0m\u001b[1;33m,\u001b[0m\u001b[1;33m\u001b[0m\u001b[1;33m\u001b[0m\u001b[0m\n",
      "\u001b[1;31mNameError\u001b[0m: name 'recent' is not defined"
     ]
    }
   ],
   "source": [
    "from extract import SocialETL, Count\n",
    "m = SocialETL(query=\"putin lang:en\", pages=2, recent=True)\n",
    "# recent=True cerca solo fra i recenti; se non includi recent, cerca fra \"tutti\" i tweet."
   ]
  },
  {
   "cell_type": "code",
   "execution_count": null,
   "metadata": {
    "colab": {
     "base_uri": "https://localhost:8080/",
     "height": 622
    },
    "executionInfo": {
     "elapsed": 11,
     "status": "ok",
     "timestamp": 1651829674771,
     "user": {
      "displayName": "Fabio Russo",
      "userId": "12894600619616975822"
     },
     "user_tz": -120
    },
    "id": "1jNzmuQrWbd1",
    "outputId": "cc6049f8-33a2-4e34-b2c8-9e4b4e06becb"
   },
   "outputs": [],
   "source": [
    "m.df"
   ]
  },
  {
   "cell_type": "code",
   "execution_count": null,
   "metadata": {
    "colab": {
     "base_uri": "https://localhost:8080/"
    },
    "executionInfo": {
     "elapsed": 240,
     "status": "ok",
     "timestamp": 1651829679482,
     "user": {
      "displayName": "Fabio Russo",
      "userId": "12894600619616975822"
     },
     "user_tz": -120
    },
    "id": "orw5JSaQU5IY",
    "outputId": "a589604e-ec72-471a-834a-2d1c4d60b499"
   },
   "outputs": [],
   "source": [
    "m.df[\"text\"]"
   ]
  },
  {
   "cell_type": "code",
   "execution_count": null,
   "metadata": {
    "colab": {
     "base_uri": "https://localhost:8080/"
    },
    "executionInfo": {
     "elapsed": 7,
     "status": "ok",
     "timestamp": 1651829695798,
     "user": {
      "displayName": "Fabio Russo",
      "userId": "12894600619616975822"
     },
     "user_tz": -120
    },
    "id": "LZLBbYMxuMsF",
    "outputId": "dd804075-493d-4c02-f752-fad2c4dc4790"
   },
   "outputs": [],
   "source": [
    "m.df.info()"
   ]
  },
  {
   "cell_type": "code",
   "execution_count": null,
   "metadata": {
    "colab": {
     "base_uri": "https://localhost:8080/",
     "height": 187
    },
    "executionInfo": {
     "elapsed": 352,
     "status": "error",
     "timestamp": 1652065659701,
     "user": {
      "displayName": "BLERTA LLESHI",
      "userId": "05237610012886993411"
     },
     "user_tz": -120
    },
    "id": "Qc3Tw3cJU72W",
    "outputId": "419656a0-a652-49c7-881f-c23295f29f5e"
   },
   "outputs": [],
   "source": [
    "one_tweet = m.df.loc[1, \"text\"]\n",
    "print(one_tweet)"
   ]
  },
  {
   "cell_type": "code",
   "execution_count": null,
   "metadata": {},
   "outputs": [],
   "source": [
    "c = Count(query=\"putin lang:en\")"
   ]
  },
  {
   "cell_type": "code",
   "execution_count": null,
   "metadata": {},
   "outputs": [],
   "source": [
    "c"
   ]
  },
  {
   "cell_type": "code",
   "execution_count": null,
   "metadata": {},
   "outputs": [],
   "source": []
  }
 ],
 "metadata": {
  "colab": {
   "collapsed_sections": [],
   "name": "starting.ipynb",
   "provenance": []
  },
  "kernelspec": {
   "display_name": "Python 3",
   "language": "python",
   "name": "python3"
  },
  "language_info": {
   "codemirror_mode": {
    "name": "ipython",
    "version": 3
   },
   "file_extension": ".py",
   "mimetype": "text/x-python",
   "name": "python",
   "nbconvert_exporter": "python",
   "pygments_lexer": "ipython3",
   "version": "3.8.5"
  }
 },
 "nbformat": 4,
 "nbformat_minor": 1
}
