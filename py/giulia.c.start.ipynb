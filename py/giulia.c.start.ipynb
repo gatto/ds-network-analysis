{
 "cells": [
  {
   "cell_type": "code",
   "execution_count": 1,
   "id": "82b83262",
   "metadata": {},
   "outputs": [],
   "source": [
    "import pandas as pd\n",
    "from extract import Count, SocialETL\n",
    "from rich import print"
   ]
  },
  {
   "cell_type": "code",
   "execution_count": 2,
   "id": "427374b4",
   "metadata": {},
   "outputs": [],
   "source": [
    "def extract_tags(value):\n",
    "    results = []\n",
    "    for my_dict in value:\n",
    "        results.append(my_dict[\"tag\"].lower())\n",
    "    return results"
   ]
  },
  {
   "cell_type": "code",
   "execution_count": 3,
   "id": "e6dfd434",
   "metadata": {},
   "outputs": [
    {
     "data": {
      "application/vnd.jupyter.widget-view+json": {
       "model_id": "b34ddbab01174a34876a9835cf57a3db",
       "version_major": 2,
       "version_minor": 0
      },
      "text/plain": [
       "Output()"
      ]
     },
     "metadata": {},
     "output_type": "display_data"
    },
    {
     "name": "stdout",
     "output_type": "stream",
     "text": [
      "Reading secret from /Users/giuli/Desktop/ds-network-analysis/data/my_secrets.yaml…\n"
     ]
    },
    {
     "data": {
      "text/html": [
       "<pre style=\"white-space:pre;overflow-x:auto;line-height:normal;font-family:Menlo,'DejaVu Sans Mono',consolas,'Courier New',monospace\"></pre>\n"
      ],
      "text/plain": []
     },
     "metadata": {},
     "output_type": "display_data"
    },
    {
     "data": {
      "text/html": [
       "<pre style=\"white-space:pre;overflow-x:auto;line-height:normal;font-family:Menlo,'DejaVu Sans Mono',consolas,'Courier New',monospace\">\n",
       "</pre>\n"
      ],
      "text/plain": [
       "\n"
      ]
     },
     "metadata": {},
     "output_type": "display_data"
    },
    {
     "data": {
      "text/html": [
       "<pre style=\"white-space:pre;overflow-x:auto;line-height:normal;font-family:Menlo,'DejaVu Sans Mono',consolas,'Courier New',monospace\"><span style=\"color: #008080; text-decoration-color: #008080; font-weight: bold\">500</span> tweets retrieved.\n",
       "</pre>\n"
      ],
      "text/plain": [
       "\u001b[1;36m500\u001b[0m tweets retrieved.\n"
      ]
     },
     "metadata": {},
     "output_type": "display_data"
    },
    {
     "data": {
      "text/html": [
       "<pre style=\"white-space:pre;overflow-x:auto;line-height:normal;font-family:Menlo,'DejaVu Sans Mono',consolas,'Courier New',monospace\"><span style=\"color: #008080; text-decoration-color: #008080; font-weight: bold\">0</span>      <span style=\"font-weight: bold\">[{</span><span style=\"color: #008000; text-decoration-color: #008000\">\"start\"</span>: <span style=\"color: #008080; text-decoration-color: #008080; font-weight: bold\">25</span>, <span style=\"color: #008000; text-decoration-color: #008000\">\"end\"</span>: <span style=\"color: #008080; text-decoration-color: #008080; font-weight: bold\">36</span>, <span style=\"color: #008000; text-decoration-color: #008000\">\"tag\"</span>: <span style=\"color: #008000; text-decoration-color: #008000\">\"Ukrainewar\"</span><span style=\"font-weight: bold\">}</span><span style=\"color: #808000; text-decoration-color: #808000\">...</span>\n",
       "<span style=\"color: #008080; text-decoration-color: #008080; font-weight: bold\">1</span>      <span style=\"font-weight: bold\">[{</span><span style=\"color: #008000; text-decoration-color: #008000\">\"start\"</span>: <span style=\"color: #008080; text-decoration-color: #008080; font-weight: bold\">82</span>, <span style=\"color: #008000; text-decoration-color: #008000\">\"end\"</span>: <span style=\"color: #008080; text-decoration-color: #008080; font-weight: bold\">93</span>, <span style=\"color: #008000; text-decoration-color: #008000\">\"tag\"</span>: <span style=\"color: #008000; text-decoration-color: #008000\">\"UkraineWar\"</span><span style=\"font-weight: bold\">}</span><span style=\"color: #808000; text-decoration-color: #808000\">...</span>\n",
       "<span style=\"color: #008080; text-decoration-color: #008080; font-weight: bold\">2</span>      <span style=\"font-weight: bold\">[{</span><span style=\"color: #008000; text-decoration-color: #008000\">\"start\"</span>: <span style=\"color: #008080; text-decoration-color: #008080; font-weight: bold\">128</span>, <span style=\"color: #008000; text-decoration-color: #008000\">\"end\"</span>: <span style=\"color: #008080; text-decoration-color: #008080; font-weight: bold\">132</span>, <span style=\"color: #008000; text-decoration-color: #008000\">\"tag\"</span>: <span style=\"color: #008000; text-decoration-color: #008000\">\"ISW\"</span><span style=\"font-weight: bold\">}</span>, <span style=\"font-weight: bold\">{</span>\"s<span style=\"color: #808000; text-decoration-color: #808000\">...</span>\n",
       "<span style=\"color: #008080; text-decoration-color: #008080; font-weight: bold\">3</span>      <span style=\"font-weight: bold\">[{</span><span style=\"color: #008000; text-decoration-color: #008000\">\"start\"</span>: <span style=\"color: #008080; text-decoration-color: #008080; font-weight: bold\">70</span>, <span style=\"color: #008000; text-decoration-color: #008000\">\"end\"</span>: <span style=\"color: #008080; text-decoration-color: #008080; font-weight: bold\">82</span>, <span style=\"color: #008000; text-decoration-color: #008000\">\"tag\"</span>: <span style=\"color: #008000; text-decoration-color: #008000\">\"UkraineArmy\"</span><span style=\"color: #808000; text-decoration-color: #808000\">...</span>\n",
       "<span style=\"color: #008080; text-decoration-color: #008080; font-weight: bold\">4</span>      <span style=\"font-weight: bold\">[{</span><span style=\"color: #008000; text-decoration-color: #008000\">\"start\"</span>: <span style=\"color: #008080; text-decoration-color: #008080; font-weight: bold\">66</span>, <span style=\"color: #008000; text-decoration-color: #008000\">\"end\"</span>: <span style=\"color: #008080; text-decoration-color: #008080; font-weight: bold\">74</span>, <span style=\"color: #008000; text-decoration-color: #008000\">\"tag\"</span>: <span style=\"color: #008000; text-decoration-color: #008000\">\"Kherson\"</span><span style=\"font-weight: bold\">}</span>, <span style=\"font-weight: bold\">{</span><span style=\"color: #808000; text-decoration-color: #808000\">...</span>\n",
       "                             <span style=\"color: #808000; text-decoration-color: #808000\">...</span>                        \n",
       "<span style=\"color: #008080; text-decoration-color: #008080; font-weight: bold\">495</span>    <span style=\"font-weight: bold\">[{</span><span style=\"color: #008000; text-decoration-color: #008000\">\"start\"</span>: <span style=\"color: #008080; text-decoration-color: #008080; font-weight: bold\">0</span>, <span style=\"color: #008000; text-decoration-color: #008000\">\"end\"</span>: <span style=\"color: #008080; text-decoration-color: #008080; font-weight: bold\">6</span>, <span style=\"color: #008000; text-decoration-color: #008000\">\"tag\"</span>: <span style=\"color: #008000; text-decoration-color: #008000\">\"Italy\"</span><span style=\"font-weight: bold\">}</span>, <span style=\"font-weight: bold\">{</span>\"sta<span style=\"color: #808000; text-decoration-color: #808000\">...</span>\n",
       "<span style=\"color: #008080; text-decoration-color: #008080; font-weight: bold\">496</span>    <span style=\"font-weight: bold\">[{</span><span style=\"color: #008000; text-decoration-color: #008000\">\"start\"</span>: <span style=\"color: #008080; text-decoration-color: #008080; font-weight: bold\">0</span>, <span style=\"color: #008000; text-decoration-color: #008000\">\"end\"</span>: <span style=\"color: #008080; text-decoration-color: #008080; font-weight: bold\">6</span>, <span style=\"color: #008000; text-decoration-color: #008000\">\"tag\"</span>: <span style=\"color: #008000; text-decoration-color: #008000\">\"Italy\"</span><span style=\"font-weight: bold\">}</span>, <span style=\"font-weight: bold\">{</span>\"sta<span style=\"color: #808000; text-decoration-color: #808000\">...</span>\n",
       "<span style=\"color: #008080; text-decoration-color: #008080; font-weight: bold\">497</span>    <span style=\"font-weight: bold\">[{</span><span style=\"color: #008000; text-decoration-color: #008000\">\"start\"</span>: <span style=\"color: #008080; text-decoration-color: #008080; font-weight: bold\">0</span>, <span style=\"color: #008000; text-decoration-color: #008000\">\"end\"</span>: <span style=\"color: #008080; text-decoration-color: #008080; font-weight: bold\">6</span>, <span style=\"color: #008000; text-decoration-color: #008000\">\"tag\"</span>: <span style=\"color: #008000; text-decoration-color: #008000\">\"Italy\"</span><span style=\"font-weight: bold\">}</span>, <span style=\"font-weight: bold\">{</span>\"sta<span style=\"color: #808000; text-decoration-color: #808000\">...</span>\n",
       "<span style=\"color: #008080; text-decoration-color: #008080; font-weight: bold\">498</span>    <span style=\"font-weight: bold\">[{</span><span style=\"color: #008000; text-decoration-color: #008000\">\"start\"</span>: <span style=\"color: #008080; text-decoration-color: #008080; font-weight: bold\">127</span>, <span style=\"color: #008000; text-decoration-color: #008000\">\"end\"</span>: <span style=\"color: #008080; text-decoration-color: #008080; font-weight: bold\">131</span>, <span style=\"color: #008000; text-decoration-color: #008000\">\"tag\"</span>: <span style=\"color: #008000; text-decoration-color: #008000\">\"NFT\"</span><span style=\"font-weight: bold\">}</span>, <span style=\"font-weight: bold\">{</span>\"s<span style=\"color: #808000; text-decoration-color: #808000\">...</span>\n",
       "<span style=\"color: #008080; text-decoration-color: #008080; font-weight: bold\">499</span>    <span style=\"font-weight: bold\">[{</span><span style=\"color: #008000; text-decoration-color: #008000\">\"start\"</span>: <span style=\"color: #008080; text-decoration-color: #008080; font-weight: bold\">127</span>, <span style=\"color: #008000; text-decoration-color: #008000\">\"end\"</span>: <span style=\"color: #008080; text-decoration-color: #008080; font-weight: bold\">131</span>, <span style=\"color: #008000; text-decoration-color: #008000\">\"tag\"</span>: <span style=\"color: #008000; text-decoration-color: #008000\">\"NFT\"</span><span style=\"font-weight: bold\">}</span>, <span style=\"font-weight: bold\">{</span>\"s<span style=\"color: #808000; text-decoration-color: #808000\">...</span>\n",
       "Name: entities.hashtags, Length: <span style=\"color: #008080; text-decoration-color: #008080; font-weight: bold\">500</span>, dtype: object tweets with at least <span style=\"color: #008080; text-decoration-color: #008080; font-weight: bold\">1</span> hashtag.\n",
       "</pre>\n"
      ],
      "text/plain": [
       "\u001b[1;36m0\u001b[0m      \u001b[1m[\u001b[0m\u001b[1m{\u001b[0m\u001b[32m\"start\"\u001b[0m: \u001b[1;36m25\u001b[0m, \u001b[32m\"end\"\u001b[0m: \u001b[1;36m36\u001b[0m, \u001b[32m\"tag\"\u001b[0m: \u001b[32m\"Ukrainewar\"\u001b[0m\u001b[1m}\u001b[0m\u001b[33m...\u001b[0m\n",
       "\u001b[1;36m1\u001b[0m      \u001b[1m[\u001b[0m\u001b[1m{\u001b[0m\u001b[32m\"start\"\u001b[0m: \u001b[1;36m82\u001b[0m, \u001b[32m\"end\"\u001b[0m: \u001b[1;36m93\u001b[0m, \u001b[32m\"tag\"\u001b[0m: \u001b[32m\"UkraineWar\"\u001b[0m\u001b[1m}\u001b[0m\u001b[33m...\u001b[0m\n",
       "\u001b[1;36m2\u001b[0m      \u001b[1m[\u001b[0m\u001b[1m{\u001b[0m\u001b[32m\"start\"\u001b[0m: \u001b[1;36m128\u001b[0m, \u001b[32m\"end\"\u001b[0m: \u001b[1;36m132\u001b[0m, \u001b[32m\"tag\"\u001b[0m: \u001b[32m\"ISW\"\u001b[0m\u001b[1m}\u001b[0m, \u001b[1m{\u001b[0m\"s\u001b[33m...\u001b[0m\n",
       "\u001b[1;36m3\u001b[0m      \u001b[1m[\u001b[0m\u001b[1m{\u001b[0m\u001b[32m\"start\"\u001b[0m: \u001b[1;36m70\u001b[0m, \u001b[32m\"end\"\u001b[0m: \u001b[1;36m82\u001b[0m, \u001b[32m\"tag\"\u001b[0m: \u001b[32m\"UkraineArmy\"\u001b[0m\u001b[33m...\u001b[0m\n",
       "\u001b[1;36m4\u001b[0m      \u001b[1m[\u001b[0m\u001b[1m{\u001b[0m\u001b[32m\"start\"\u001b[0m: \u001b[1;36m66\u001b[0m, \u001b[32m\"end\"\u001b[0m: \u001b[1;36m74\u001b[0m, \u001b[32m\"tag\"\u001b[0m: \u001b[32m\"Kherson\"\u001b[0m\u001b[1m}\u001b[0m, \u001b[1m{\u001b[0m\u001b[33m...\u001b[0m\n",
       "                             \u001b[33m...\u001b[0m                        \n",
       "\u001b[1;36m495\u001b[0m    \u001b[1m[\u001b[0m\u001b[1m{\u001b[0m\u001b[32m\"start\"\u001b[0m: \u001b[1;36m0\u001b[0m, \u001b[32m\"end\"\u001b[0m: \u001b[1;36m6\u001b[0m, \u001b[32m\"tag\"\u001b[0m: \u001b[32m\"Italy\"\u001b[0m\u001b[1m}\u001b[0m, \u001b[1m{\u001b[0m\"sta\u001b[33m...\u001b[0m\n",
       "\u001b[1;36m496\u001b[0m    \u001b[1m[\u001b[0m\u001b[1m{\u001b[0m\u001b[32m\"start\"\u001b[0m: \u001b[1;36m0\u001b[0m, \u001b[32m\"end\"\u001b[0m: \u001b[1;36m6\u001b[0m, \u001b[32m\"tag\"\u001b[0m: \u001b[32m\"Italy\"\u001b[0m\u001b[1m}\u001b[0m, \u001b[1m{\u001b[0m\"sta\u001b[33m...\u001b[0m\n",
       "\u001b[1;36m497\u001b[0m    \u001b[1m[\u001b[0m\u001b[1m{\u001b[0m\u001b[32m\"start\"\u001b[0m: \u001b[1;36m0\u001b[0m, \u001b[32m\"end\"\u001b[0m: \u001b[1;36m6\u001b[0m, \u001b[32m\"tag\"\u001b[0m: \u001b[32m\"Italy\"\u001b[0m\u001b[1m}\u001b[0m, \u001b[1m{\u001b[0m\"sta\u001b[33m...\u001b[0m\n",
       "\u001b[1;36m498\u001b[0m    \u001b[1m[\u001b[0m\u001b[1m{\u001b[0m\u001b[32m\"start\"\u001b[0m: \u001b[1;36m127\u001b[0m, \u001b[32m\"end\"\u001b[0m: \u001b[1;36m131\u001b[0m, \u001b[32m\"tag\"\u001b[0m: \u001b[32m\"NFT\"\u001b[0m\u001b[1m}\u001b[0m, \u001b[1m{\u001b[0m\"s\u001b[33m...\u001b[0m\n",
       "\u001b[1;36m499\u001b[0m    \u001b[1m[\u001b[0m\u001b[1m{\u001b[0m\u001b[32m\"start\"\u001b[0m: \u001b[1;36m127\u001b[0m, \u001b[32m\"end\"\u001b[0m: \u001b[1;36m131\u001b[0m, \u001b[32m\"tag\"\u001b[0m: \u001b[32m\"NFT\"\u001b[0m\u001b[1m}\u001b[0m, \u001b[1m{\u001b[0m\"s\u001b[33m...\u001b[0m\n",
       "Name: entities.hashtags, Length: \u001b[1;36m500\u001b[0m, dtype: object tweets with at least \u001b[1;36m1\u001b[0m hashtag.\n"
      ]
     },
     "metadata": {},
     "output_type": "display_data"
    }
   ],
   "source": [
    "m = SocialETL(query=\"(#UkraineRussiaWar OR #UkraineWar OR #stopwarinukraine) lang:en\", pages=5, recent=False)\n",
    "print(f\"{m.df['entities.hashtags'].count()} tweets retrieved.\")\n",
    "\n",
    "miao = m.df[[\"id\", \"entities.hashtags\"]].dropna()\n",
    "print(f\"{miao['entities.hashtags']} tweets with at least 1 hashtag.\")\n",
    "\n",
    "miao[\"entities.hashtags\"] = miao[\"entities.hashtags\"].map(eval)\n",
    "\n",
    "miao[\"tags\"] = miao[\"entities.hashtags\"].map(extract_tags)\n",
    "\n",
    "my_results = []\n",
    "\n",
    "tagmadre = {\n",
    "    \"general1\": \"UkraineRussiaWar\",\n",
    "    \"general2\": \"istandwithputin\",\n",
    "    \"pax\": \"stopwarinukraine\",\n",
    "}\n",
    "results = {\"general1\": [], \"general2\": [], \"pax\": []}\n",
    "miaone = {}"
   ]
  },
  {
   "cell_type": "code",
   "execution_count": 4,
   "id": "61811d71",
   "metadata": {},
   "outputs": [
    {
     "name": "stderr",
     "output_type": "stream",
     "text": [
      "<ipython-input-4-3180976ebf15>:12: FutureWarning: The default dtype for empty Series will be 'object' instead of 'float64' in a future version. Specify a dtype explicitly to silence this warning.\n",
      "  miaone[category] = pd.Series(value, name=category)\n"
     ]
    },
    {
     "data": {
      "text/html": [
       "<pre style=\"white-space:pre;overflow-x:auto;line-height:normal;font-family:Menlo,'DejaVu Sans Mono',consolas,'Courier New',monospace\"><span style=\"color: #800080; text-decoration-color: #800080; font-weight: bold\">Series</span><span style=\"font-weight: bold\">([]</span>, Name: general1, dtype: float64<span style=\"font-weight: bold\">)</span>\n",
       "</pre>\n"
      ],
      "text/plain": [
       "\u001b[1;35mSeries\u001b[0m\u001b[1m(\u001b[0m\u001b[1m[\u001b[0m\u001b[1m]\u001b[0m, Name: general1, dtype: float64\u001b[1m)\u001b[0m\n"
      ]
     },
     "metadata": {},
     "output_type": "display_data"
    },
    {
     "data": {
      "text/html": [
       "<pre style=\"white-space:pre;overflow-x:auto;line-height:normal;font-family:Menlo,'DejaVu Sans Mono',consolas,'Courier New',monospace\"><span style=\"color: #800080; text-decoration-color: #800080; font-weight: bold\">Series</span><span style=\"font-weight: bold\">([]</span>, Name: general1, dtype: int64<span style=\"font-weight: bold\">)</span>\n",
       "</pre>\n"
      ],
      "text/plain": [
       "\u001b[1;35mSeries\u001b[0m\u001b[1m(\u001b[0m\u001b[1m[\u001b[0m\u001b[1m]\u001b[0m, Name: general1, dtype: int64\u001b[1m)\u001b[0m\n"
      ]
     },
     "metadata": {},
     "output_type": "display_data"
    },
    {
     "name": "stderr",
     "output_type": "stream",
     "text": [
      "<ipython-input-4-3180976ebf15>:12: FutureWarning: The default dtype for empty Series will be 'object' instead of 'float64' in a future version. Specify a dtype explicitly to silence this warning.\n",
      "  miaone[category] = pd.Series(value, name=category)\n"
     ]
    },
    {
     "data": {
      "text/html": [
       "<pre style=\"white-space:pre;overflow-x:auto;line-height:normal;font-family:Menlo,'DejaVu Sans Mono',consolas,'Courier New',monospace\"><span style=\"color: #800080; text-decoration-color: #800080; font-weight: bold\">Series</span><span style=\"font-weight: bold\">([]</span>, Name: general2, dtype: float64<span style=\"font-weight: bold\">)</span>\n",
       "</pre>\n"
      ],
      "text/plain": [
       "\u001b[1;35mSeries\u001b[0m\u001b[1m(\u001b[0m\u001b[1m[\u001b[0m\u001b[1m]\u001b[0m, Name: general2, dtype: float64\u001b[1m)\u001b[0m\n"
      ]
     },
     "metadata": {},
     "output_type": "display_data"
    },
    {
     "data": {
      "text/html": [
       "<pre style=\"white-space:pre;overflow-x:auto;line-height:normal;font-family:Menlo,'DejaVu Sans Mono',consolas,'Courier New',monospace\"><span style=\"color: #800080; text-decoration-color: #800080; font-weight: bold\">Series</span><span style=\"font-weight: bold\">([]</span>, Name: general2, dtype: int64<span style=\"font-weight: bold\">)</span>\n",
       "</pre>\n"
      ],
      "text/plain": [
       "\u001b[1;35mSeries\u001b[0m\u001b[1m(\u001b[0m\u001b[1m[\u001b[0m\u001b[1m]\u001b[0m, Name: general2, dtype: int64\u001b[1m)\u001b[0m\n"
      ]
     },
     "metadata": {},
     "output_type": "display_data"
    },
    {
     "data": {
      "text/html": [
       "<pre style=\"white-space:pre;overflow-x:auto;line-height:normal;font-family:Menlo,'DejaVu Sans Mono',consolas,'Courier New',monospace\"><span style=\"color: #008080; text-decoration-color: #008080; font-weight: bold\">0</span>          ukrainerussianwar\n",
       "<span style=\"color: #008080; text-decoration-color: #008080; font-weight: bold\">1</span>         ukraineunderattaсk\n",
       "<span style=\"color: #008080; text-decoration-color: #008080; font-weight: bold\">2</span>      russiaukraineconflict\n",
       "<span style=\"color: #008080; text-decoration-color: #008080; font-weight: bold\">3</span>              russiaukraine\n",
       "<span style=\"color: #008080; text-decoration-color: #008080; font-weight: bold\">4</span>                    ukraine\n",
       "               <span style=\"color: #808000; text-decoration-color: #808000\">...</span>          \n",
       "<span style=\"color: #008080; text-decoration-color: #008080; font-weight: bold\">165</span>                stopputin\n",
       "<span style=\"color: #008080; text-decoration-color: #008080; font-weight: bold\">166</span>         standwithukraine\n",
       "<span style=\"color: #008080; text-decoration-color: #008080; font-weight: bold\">167</span>       ukraineunderattaсk\n",
       "<span style=\"color: #008080; text-decoration-color: #008080; font-weight: bold\">168</span>     russiainvadedukraine\n",
       "<span style=\"color: #008080; text-decoration-color: #008080; font-weight: bold\">169</span>    stoprussianaggression\n",
       "Name: pax, Length: <span style=\"color: #008080; text-decoration-color: #008080; font-weight: bold\">170</span>, dtype: object\n",
       "</pre>\n"
      ],
      "text/plain": [
       "\u001b[1;36m0\u001b[0m          ukrainerussianwar\n",
       "\u001b[1;36m1\u001b[0m         ukraineunderattaсk\n",
       "\u001b[1;36m2\u001b[0m      russiaukraineconflict\n",
       "\u001b[1;36m3\u001b[0m              russiaukraine\n",
       "\u001b[1;36m4\u001b[0m                    ukraine\n",
       "               \u001b[33m...\u001b[0m          \n",
       "\u001b[1;36m165\u001b[0m                stopputin\n",
       "\u001b[1;36m166\u001b[0m         standwithukraine\n",
       "\u001b[1;36m167\u001b[0m       ukraineunderattaсk\n",
       "\u001b[1;36m168\u001b[0m     russiainvadedukraine\n",
       "\u001b[1;36m169\u001b[0m    stoprussianaggression\n",
       "Name: pax, Length: \u001b[1;36m170\u001b[0m, dtype: object\n"
      ]
     },
     "metadata": {},
     "output_type": "display_data"
    },
    {
     "data": {
      "text/html": [
       "<pre style=\"white-space:pre;overflow-x:auto;line-height:normal;font-family:Menlo,'DejaVu Sans Mono',consolas,'Courier New',monospace\">stopwarinukraine         <span style=\"color: #008080; text-decoration-color: #008080; font-weight: bold\">24</span>\n",
       "ukraine                  <span style=\"color: #008080; text-decoration-color: #008080; font-weight: bold\">16</span>\n",
       "ukraineunderattaсk       <span style=\"color: #008080; text-decoration-color: #008080; font-weight: bold\">14</span>\n",
       "russiainvadedukraine     <span style=\"color: #008080; text-decoration-color: #008080; font-weight: bold\">13</span>\n",
       "warinukraine             <span style=\"color: #008080; text-decoration-color: #008080; font-weight: bold\">13</span>\n",
       "stoprussianaggression    <span style=\"color: #008080; text-decoration-color: #008080; font-weight: bold\">13</span>\n",
       "standwithukraine         <span style=\"color: #008080; text-decoration-color: #008080; font-weight: bold\">13</span>\n",
       "stopputin                <span style=\"color: #008080; text-decoration-color: #008080; font-weight: bold\">13</span>\n",
       "helpukraine              <span style=\"color: #008080; text-decoration-color: #008080; font-weight: bold\">13</span>\n",
       "nft                      <span style=\"color: #008080; text-decoration-color: #008080; font-weight: bold\">13</span>\n",
       "putin                     <span style=\"color: #008080; text-decoration-color: #008080; font-weight: bold\">2</span>\n",
       "putinhitler               <span style=\"color: #008080; text-decoration-color: #008080; font-weight: bold\">1</span>\n",
       "putinhuilo                <span style=\"color: #008080; text-decoration-color: #008080; font-weight: bold\">1</span>\n",
       "putinukraine              <span style=\"color: #008080; text-decoration-color: #008080; font-weight: bold\">1</span>\n",
       "slavaukraine              <span style=\"color: #008080; text-decoration-color: #008080; font-weight: bold\">1</span>\n",
       "stoprussianwar            <span style=\"color: #008080; text-decoration-color: #008080; font-weight: bold\">1</span>\n",
       "stoprashizm               <span style=\"color: #008080; text-decoration-color: #008080; font-weight: bold\">1</span>\n",
       "saveukraine               <span style=\"color: #008080; text-decoration-color: #008080; font-weight: bold\">1</span>\n",
       "saveukrainiankids         <span style=\"color: #008080; text-decoration-color: #008080; font-weight: bold\">1</span>\n",
       "severodonetsk             <span style=\"color: #008080; text-decoration-color: #008080; font-weight: bold\">1</span>\n",
       "stoprussianow             <span style=\"color: #008080; text-decoration-color: #008080; font-weight: bold\">1</span>\n",
       "russia                    <span style=\"color: #008080; text-decoration-color: #008080; font-weight: bold\">1</span>\n",
       "ukrainerussianwar         <span style=\"color: #008080; text-decoration-color: #008080; font-weight: bold\">1</span>\n",
       "orcs                      <span style=\"color: #008080; text-decoration-color: #008080; font-weight: bold\">1</span>\n",
       "stopputinnow              <span style=\"color: #008080; text-decoration-color: #008080; font-weight: bold\">1</span>\n",
       "stopwar                   <span style=\"color: #008080; text-decoration-color: #008080; font-weight: bold\">1</span>\n",
       "nowar                     <span style=\"color: #008080; text-decoration-color: #008080; font-weight: bold\">1</span>\n",
       "azovstal                  <span style=\"color: #008080; text-decoration-color: #008080; font-weight: bold\">1</span>\n",
       "erdogan                   <span style=\"color: #008080; text-decoration-color: #008080; font-weight: bold\">1</span>\n",
       "zelenskyy                 <span style=\"color: #008080; text-decoration-color: #008080; font-weight: bold\">1</span>\n",
       "bucha                     <span style=\"color: #008080; text-decoration-color: #008080; font-weight: bold\">1</span>\n",
       "russiaukraine             <span style=\"color: #008080; text-decoration-color: #008080; font-weight: bold\">1</span>\n",
       "russiaukraineconflict     <span style=\"color: #008080; text-decoration-color: #008080; font-weight: bold\">1</span>\n",
       "putinwarcriminal          <span style=\"color: #008080; text-decoration-color: #008080; font-weight: bold\">1</span>\n",
       "Name: pax, dtype: int64\n",
       "</pre>\n"
      ],
      "text/plain": [
       "stopwarinukraine         \u001b[1;36m24\u001b[0m\n",
       "ukraine                  \u001b[1;36m16\u001b[0m\n",
       "ukraineunderattaсk       \u001b[1;36m14\u001b[0m\n",
       "russiainvadedukraine     \u001b[1;36m13\u001b[0m\n",
       "warinukraine             \u001b[1;36m13\u001b[0m\n",
       "stoprussianaggression    \u001b[1;36m13\u001b[0m\n",
       "standwithukraine         \u001b[1;36m13\u001b[0m\n",
       "stopputin                \u001b[1;36m13\u001b[0m\n",
       "helpukraine              \u001b[1;36m13\u001b[0m\n",
       "nft                      \u001b[1;36m13\u001b[0m\n",
       "putin                     \u001b[1;36m2\u001b[0m\n",
       "putinhitler               \u001b[1;36m1\u001b[0m\n",
       "putinhuilo                \u001b[1;36m1\u001b[0m\n",
       "putinukraine              \u001b[1;36m1\u001b[0m\n",
       "slavaukraine              \u001b[1;36m1\u001b[0m\n",
       "stoprussianwar            \u001b[1;36m1\u001b[0m\n",
       "stoprashizm               \u001b[1;36m1\u001b[0m\n",
       "saveukraine               \u001b[1;36m1\u001b[0m\n",
       "saveukrainiankids         \u001b[1;36m1\u001b[0m\n",
       "severodonetsk             \u001b[1;36m1\u001b[0m\n",
       "stoprussianow             \u001b[1;36m1\u001b[0m\n",
       "russia                    \u001b[1;36m1\u001b[0m\n",
       "ukrainerussianwar         \u001b[1;36m1\u001b[0m\n",
       "orcs                      \u001b[1;36m1\u001b[0m\n",
       "stopputinnow              \u001b[1;36m1\u001b[0m\n",
       "stopwar                   \u001b[1;36m1\u001b[0m\n",
       "nowar                     \u001b[1;36m1\u001b[0m\n",
       "azovstal                  \u001b[1;36m1\u001b[0m\n",
       "erdogan                   \u001b[1;36m1\u001b[0m\n",
       "zelenskyy                 \u001b[1;36m1\u001b[0m\n",
       "bucha                     \u001b[1;36m1\u001b[0m\n",
       "russiaukraine             \u001b[1;36m1\u001b[0m\n",
       "russiaukraineconflict     \u001b[1;36m1\u001b[0m\n",
       "putinwarcriminal          \u001b[1;36m1\u001b[0m\n",
       "Name: pax, dtype: int64\n"
      ]
     },
     "metadata": {},
     "output_type": "display_data"
    }
   ],
   "source": [
    "for _, riga in miao.iterrows():\n",
    "    if tagmadre[\"general1\"] in riga[\"tags\"]:\n",
    "        #        results = [tag for tag in riga[\"tags\"]]\n",
    "        #        for tag in riga[\"tags\"]:\n",
    "        #            results.append(tag)\n",
    "        results[\"general1\"].extend([tag for tag in riga[\"tags\"]])\n",
    "    elif tagmadre[\"general2\"] in riga[\"tags\"]:\n",
    "        results[\"general2\"].extend([tag for tag in riga[\"tags\"]])\n",
    "    elif tagmadre[\"pax\"] in riga[\"tags\"]:\n",
    "        results[\"pax\"].extend([tag for tag in riga[\"tags\"]])\n",
    "for category, value in results.items():\n",
    "    miaone[category] = pd.Series(value, name=category)\n",
    "    print(miaone[category])\n",
    "    print(miaone[category].value_counts())"
   ]
  },
  {
   "cell_type": "code",
   "execution_count": null,
   "id": "c764bc2e",
   "metadata": {},
   "outputs": [],
   "source": []
  }
 ],
 "metadata": {
  "kernelspec": {
   "display_name": "Python 3",
   "language": "python",
   "name": "python3"
  },
  "language_info": {
   "codemirror_mode": {
    "name": "ipython",
    "version": 3
   },
   "file_extension": ".py",
   "mimetype": "text/x-python",
   "name": "python",
   "nbconvert_exporter": "python",
   "pygments_lexer": "ipython3",
   "version": "3.8.8"
  }
 },
 "nbformat": 4,
 "nbformat_minor": 5
}
