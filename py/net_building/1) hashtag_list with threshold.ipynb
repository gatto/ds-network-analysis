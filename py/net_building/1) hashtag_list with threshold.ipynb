{
 "cells": [
  {
   "cell_type": "code",
   "execution_count": 1,
   "id": "c32c2469",
   "metadata": {
    "colab": {
     "base_uri": "https://localhost:8080/",
     "height": 374
    },
    "id": "c32c2469",
    "outputId": "976e4ed7-2e1d-4cdb-cc65-7d7b945b3cba"
   },
   "outputs": [],
   "source": [
    "import json\n",
    "import keyword\n",
    "import unicodedata\n",
    "from collections import defaultdict\n",
    "import pandas as pd\n",
    "from extract import SocialETL, construct_query_for_twarc, extract_tags, SocialDB, UserETL\n",
    "import hashtags as h\n",
    "import hashtags_readcsv as r_csv\n",
    "from rich import print\n",
    "from rich.console import Console\n",
    "from rich.progress import track\n",
    "from rich.table import Table\n",
    "\n",
    "from pathlib import Path\n",
    "import numpy as np\n",
    "from extract import extract_tags"
   ]
  },
  {
   "cell_type": "markdown",
   "id": "fcb62e4a",
   "metadata": {
    "id": "fcb62e4a"
   },
   "source": [
    "## Store hashtags into `twee_hash_800.csv`"
   ]
  },
  {
   "cell_type": "code",
   "execution_count": 2,
   "id": "cbacac27",
   "metadata": {
    "colab": {
     "referenced_widgets": [
      "f0e55ea83f7f499a9750c10ddee2225c"
     ]
    },
    "id": "cbacac27",
    "outputId": "5965e42c-5bc2-44b3-fb16-cdf7af779d4f"
   },
   "outputs": [
    {
     "data": {
      "text/html": [
       "<pre style=\"white-space:pre;overflow-x:auto;line-height:normal;font-family:Menlo,'DejaVu Sans Mono',consolas,'Courier New',monospace\">Reading secret from <span style=\"color: #800080; text-decoration-color: #800080\">/Users/fabio/repos/sna/data/</span><span style=\"color: #ff00ff; text-decoration-color: #ff00ff\">my_secrets.yaml</span>…\n",
       "</pre>\n"
      ],
      "text/plain": [
       "Reading secret from \u001b[35m/Users/fabio/repos/sna/data/\u001b[0m\u001b[95mmy_secrets.yaml\u001b[0m…\n"
      ]
     },
     "metadata": {},
     "output_type": "display_data"
    },
    {
     "data": {
      "application/vnd.jupyter.widget-view+json": {
       "model_id": "778b3c26941340e6b9a0298adb6663d7",
       "version_major": 2,
       "version_minor": 0
      },
      "text/plain": [
       "Output()"
      ]
     },
     "metadata": {},
     "output_type": "display_data"
    },
    {
     "data": {
      "text/html": [
       "<pre style=\"white-space:pre;overflow-x:auto;line-height:normal;font-family:Menlo,'DejaVu Sans Mono',consolas,'Courier New',monospace\"></pre>\n"
      ],
      "text/plain": []
     },
     "metadata": {},
     "output_type": "display_data"
    },
    {
     "data": {
      "text/html": [
       "<pre style=\"white-space:pre;overflow-x:auto;line-height:normal;font-family:Menlo,'DejaVu Sans Mono',consolas,'Courier New',monospace\">\n",
       "</pre>\n"
      ],
      "text/plain": [
       "\n"
      ]
     },
     "metadata": {},
     "output_type": "display_data"
    },
    {
     "data": {
      "text/html": [
       "<pre style=\"white-space:pre;overflow-x:auto;line-height:normal;font-family:Menlo,'DejaVu Sans Mono',consolas,'Courier New',monospace\"><span style=\"color: #008080; text-decoration-color: #008080; font-weight: bold\">74475</span> tweets retrieved\n",
       "with query <span style=\"color: #008000; text-decoration-color: #008000\">'#slavaukraini OR #istandwithputin OR #stopwarinukraine'</span>\n",
       "of which <span style=\"color: #008080; text-decoration-color: #008080; font-weight: bold\">74454</span> tweets with at least <span style=\"color: #008080; text-decoration-color: #008080; font-weight: bold\">1</span> hashtag.\n",
       "</pre>\n"
      ],
      "text/plain": [
       "\u001b[1;36m74475\u001b[0m tweets retrieved\n",
       "with query \u001b[32m'#slavaukraini OR #istandwithputin OR #stopwarinukraine'\u001b[0m\n",
       "of which \u001b[1;36m74454\u001b[0m tweets with at least \u001b[1;36m1\u001b[0m hashtag.\n"
      ]
     },
     "metadata": {},
     "output_type": "display_data"
    },
    {
     "data": {
      "text/html": [
       "<pre style=\"white-space:pre;overflow-x:auto;line-height:normal;font-family:Menlo,'DejaVu Sans Mono',consolas,'Courier New',monospace\">We have <span style=\"color: #008080; text-decoration-color: #008080; font-weight: bold\">8845</span> unique hashtags.\n",
       "</pre>\n"
      ],
      "text/plain": [
       "We have \u001b[1;36m8845\u001b[0m unique hashtags.\n"
      ]
     },
     "metadata": {},
     "output_type": "display_data"
    },
    {
     "data": {
      "text/html": [
       "<pre style=\"white-space:pre;overflow-x:auto;line-height:normal;font-family:Menlo,'DejaVu Sans Mono',consolas,'Courier New',monospace\"><span style=\"color: #800000; text-decoration-color: #800000\">Let's write the describe of column </span><span style=\"color: #800000; text-decoration-color: #800000\">'slavaukraini'</span>\n",
       "</pre>\n"
      ],
      "text/plain": [
       "\u001b[31mLet's write the describe of column \u001b[0m\u001b[31m'slavaukraini'\u001b[0m\n"
      ]
     },
     "metadata": {},
     "output_type": "display_data"
    },
    {
     "data": {
      "text/html": [
       "<pre style=\"white-space:pre;overflow-x:auto;line-height:normal;font-family:Menlo,'DejaVu Sans Mono',consolas,'Courier New',monospace\">count     <span style=\"color: #008080; text-decoration-color: #008080; font-weight: bold\">74454</span>\n",
       "unique        <span style=\"color: #008080; text-decoration-color: #008080; font-weight: bold\">2</span>\n",
       "top        <span style=\"color: #00ff00; text-decoration-color: #00ff00; font-style: italic\">True</span>\n",
       "freq      <span style=\"color: #008080; text-decoration-color: #008080; font-weight: bold\">47003</span>\n",
       "Name: slavaukraini, dtype: object\n",
       "</pre>\n"
      ],
      "text/plain": [
       "count     \u001b[1;36m74454\u001b[0m\n",
       "unique        \u001b[1;36m2\u001b[0m\n",
       "top        \u001b[3;92mTrue\u001b[0m\n",
       "freq      \u001b[1;36m47003\u001b[0m\n",
       "Name: slavaukraini, dtype: object\n"
      ]
     },
     "metadata": {},
     "output_type": "display_data"
    },
    {
     "data": {
      "text/html": [
       "<pre style=\"white-space:pre;overflow-x:auto;line-height:normal;font-family:Menlo,'DejaVu Sans Mono',consolas,'Courier New',monospace\"><span style=\"color: #800000; text-decoration-color: #800000\">Let's write the describe of column </span><span style=\"color: #800000; text-decoration-color: #800000\">'istandwithputin'</span>\n",
       "</pre>\n"
      ],
      "text/plain": [
       "\u001b[31mLet's write the describe of column \u001b[0m\u001b[31m'istandwithputin'\u001b[0m\n"
      ]
     },
     "metadata": {},
     "output_type": "display_data"
    },
    {
     "data": {
      "text/html": [
       "<pre style=\"white-space:pre;overflow-x:auto;line-height:normal;font-family:Menlo,'DejaVu Sans Mono',consolas,'Courier New',monospace\">count     <span style=\"color: #008080; text-decoration-color: #008080; font-weight: bold\">74454</span>\n",
       "unique        <span style=\"color: #008080; text-decoration-color: #008080; font-weight: bold\">2</span>\n",
       "top       <span style=\"color: #ff0000; text-decoration-color: #ff0000; font-style: italic\">False</span>\n",
       "freq      <span style=\"color: #008080; text-decoration-color: #008080; font-weight: bold\">70468</span>\n",
       "Name: istandwithputin, dtype: object\n",
       "</pre>\n"
      ],
      "text/plain": [
       "count     \u001b[1;36m74454\u001b[0m\n",
       "unique        \u001b[1;36m2\u001b[0m\n",
       "top       \u001b[3;91mFalse\u001b[0m\n",
       "freq      \u001b[1;36m70468\u001b[0m\n",
       "Name: istandwithputin, dtype: object\n"
      ]
     },
     "metadata": {},
     "output_type": "display_data"
    },
    {
     "data": {
      "text/html": [
       "<pre style=\"white-space:pre;overflow-x:auto;line-height:normal;font-family:Menlo,'DejaVu Sans Mono',consolas,'Courier New',monospace\"><span style=\"color: #800000; text-decoration-color: #800000\">Let's write the describe of column </span><span style=\"color: #800000; text-decoration-color: #800000\">'stopwarinukraine'</span>\n",
       "</pre>\n"
      ],
      "text/plain": [
       "\u001b[31mLet's write the describe of column \u001b[0m\u001b[31m'stopwarinukraine'\u001b[0m\n"
      ]
     },
     "metadata": {},
     "output_type": "display_data"
    },
    {
     "data": {
      "text/html": [
       "<pre style=\"white-space:pre;overflow-x:auto;line-height:normal;font-family:Menlo,'DejaVu Sans Mono',consolas,'Courier New',monospace\">count     <span style=\"color: #008080; text-decoration-color: #008080; font-weight: bold\">74454</span>\n",
       "unique        <span style=\"color: #008080; text-decoration-color: #008080; font-weight: bold\">2</span>\n",
       "top       <span style=\"color: #ff0000; text-decoration-color: #ff0000; font-style: italic\">False</span>\n",
       "freq      <span style=\"color: #008080; text-decoration-color: #008080; font-weight: bold\">49966</span>\n",
       "Name: stopwarinukraine, dtype: object\n",
       "</pre>\n"
      ],
      "text/plain": [
       "count     \u001b[1;36m74454\u001b[0m\n",
       "unique        \u001b[1;36m2\u001b[0m\n",
       "top       \u001b[3;91mFalse\u001b[0m\n",
       "freq      \u001b[1;36m49966\u001b[0m\n",
       "Name: stopwarinukraine, dtype: object\n"
      ]
     },
     "metadata": {},
     "output_type": "display_data"
    },
    {
     "data": {
      "text/html": [
       "<pre style=\"white-space:pre;overflow-x:auto;line-height:normal;font-family:Menlo,'DejaVu Sans Mono',consolas,'Courier New',monospace\"><span style=\"color: #008000; text-decoration-color: #008000\">All done.</span>\n",
       "</pre>\n"
      ],
      "text/plain": [
       "\u001b[32mAll done.\u001b[0m\n"
      ]
     },
     "metadata": {},
     "output_type": "display_data"
    }
   ],
   "source": [
    "def ensure_latin(s):\n",
    "    return (\n",
    "        unicodedata.normalize(\"NFKD\", s).encode(\"latin-1\", \"ignore\").decode(\"latin-1\")\n",
    "    )\n",
    "\n",
    "\n",
    "def construct_query_for_pandas(root_tags: list) -> str:\n",
    "    my_query = \" or \".join(root_tags)\n",
    "    return my_query\n",
    "\n",
    "\n",
    "def create_score(df: pd.DataFrame, one_hashtag: str, root_tags: dict) -> list:\n",
    "    # takes a df of all tweets, each row is a tweet, each column is\n",
    "    # a hashtag either [True | False] depending on whether the hashtag\n",
    "    # is in the tweet. Takes one_hashtag, the hashtag to score, and\n",
    "    # root_tags, a dict of {category: [hashtags]}\n",
    "    # TODO: make it so it accepts a list of {category: [hashtags]} instead of just one\n",
    "    threshold_support = 0.9 * len(df) / 10000  # set the threshold_support here!!\n",
    "\n",
    "    if threshold_support < 1:\n",
    "        threshold_support = 1\n",
    "    # print(f\"Looking for {one_hashtag} with support {threshold_support}…\")\n",
    "    mask = df[one_hashtag]\n",
    "    df = df[mask]\n",
    "    # print(f\"I found {len(df)} tweets with {one_hashtag}\")\n",
    "    if len(df) < threshold_support:\n",
    "        return False\n",
    "    \"\"\"for col in df:\n",
    "        if df[col].any():\n",
    "            print(f\"We have {col} hashtag\")\"\"\"\n",
    "    results = []\n",
    "    # START OF TESTING:\n",
    "    \"\"\"    print(df.info())\n",
    "    print(df.describe())\n",
    "    print(df.head())\n",
    "    print(f\"[purple]Dude, here's the breakdown:\")\n",
    "    for tag in root_tags.values():\n",
    "        print(f\"[blue]This is {tag[0]}:\")\n",
    "        print(df[tag[0]])\"\"\"\n",
    "    for category, tag_madre in root_tags.items():\n",
    "        try:\n",
    "            my_query = construct_query_for_pandas(tag_madre)\n",
    "            # print(f\"The pandas query is: [red]{my_query}\")\n",
    "            temp_df = df.query(my_query)\n",
    "            # print(f\"Holy jezuz: {len(temp_df)} and {len(df)}\")\n",
    "            results.append(round(len(temp_df) / len(df), 4))\n",
    "        except KeyError:\n",
    "            results.append(0)\n",
    "\n",
    "    # print(results)\n",
    "    return (results, len(df))\n",
    "\n",
    "\n",
    "def do_search(tagmadre, pages):\n",
    "    # construct the initial query to Twarc\n",
    "    query_madre = construct_query_for_twarc(tagmadre)\n",
    "    m = SocialETL(\n",
    "        query=f\"({query_madre})\",\n",
    "        pages=pages,\n",
    "        recent=False,\n",
    "    )\n",
    "\n",
    "    # dropping any tweets with no hashtags (I think)\n",
    "    tweets_with_hashtag = m.df[[\"id\", \"entities.hashtags\"]].dropna()\n",
    "    print(\n",
    "        f\"{len(m.df)} tweets retrieved\\nwith query '{query_madre}'\\nof which {len(tweets_with_hashtag)} tweets with at least 1 hashtag.\"\n",
    "    )\n",
    "\n",
    "    # evaluate the string in \"entities.hashtags\" to an actual list of dicts\n",
    "    tweets_with_hashtag[\"entities.hashtags\"] = tweets_with_hashtag[\n",
    "        \"entities.hashtags\"\n",
    "    ].map(eval)\n",
    "\n",
    "    # make a simple list of strings, one hashtag is one string, into column \"tags\"\n",
    "    tweets_with_hashtag[\"tags\"] = tweets_with_hashtag[\"entities.hashtags\"].map(\n",
    "        extract_tags\n",
    "    )\n",
    "    tweets_with_hashtag = tweets_with_hashtag.drop(columns=\"entities.hashtags\")\n",
    "\n",
    "    # hashtags: EXPLODE *musica dei power ranger*\n",
    "    all_hashtags = set(tweets_with_hashtag[\"tags\"].explode())\n",
    "\n",
    "    # keyword level: eliminate all python keywords from columns because otherwise we are in no man's land\n",
    "    keywordsss = keyword.kwlist\n",
    "    keywordsss.extend(keyword.softkwlist)\n",
    "    all_hashtags = all_hashtags.difference(keywordsss)\n",
    "    all_hashtags = all_hashtags.difference(set((\"\",)))\n",
    "\n",
    "    print(f\"We have {len(all_hashtags)} unique hashtags.\")\n",
    "\n",
    "    tweets_with_hashtag.set_index(\"id\", inplace=True)\n",
    "\n",
    "    col_h = sorted(list(all_hashtags))\n",
    "    df_h = pd.DataFrame(columns=col_h)\n",
    "    tweets_with_hashtag = pd.concat([tweets_with_hashtag, df_h], axis=1)\n",
    "    tweets_with_hashtag = tweets_with_hashtag.fillna(False)\n",
    "\n",
    "    def assign_hashtag_to_tweet(row: pd.Series) -> pd.Series:\n",
    "        for tag in row[\"tags\"]:\n",
    "            if tag in all_hashtags:\n",
    "                row.loc[tag] = True\n",
    "        return row\n",
    "\n",
    "    tweets_with_hashtag = tweets_with_hashtag.apply(assign_hashtag_to_tweet, axis=1)\n",
    "    tweets_with_hashtag = tweets_with_hashtag.drop(columns=[\"tags\"])\n",
    "\n",
    "    for madre in tagmadre.values():\n",
    "        print(f\"[red]Let's write the describe of column '{madre[0]}'\")\n",
    "        print(tweets_with_hashtag[madre[0]].describe())\n",
    "\n",
    "    tweets_with_hashtag.to_csv(f\"twee_hash_{pages}.csv\")\n",
    "    print(\"[green]All done.\")\n",
    "\n",
    "\n",
    "if __name__ == \"__main__\":\n",
    "    # params\n",
    "    top_results_to_take = 3\n",
    "    pages_to_do = 800\n",
    "\n",
    "    # set the initial \"parent\" hashtags for each category\n",
    "    tag_madre = {\n",
    "        \"proukr\": [\"slavaukraini\"],\n",
    "        \"prorus\": [\"istandwithputin\"],\n",
    "        \"pax\": [\"stopwarinukraine\"],\n",
    "    }\n",
    "\n",
    "    # code\n",
    "    # first run\n",
    "    do_search(tag_madre, pages_to_do)\n"
   ]
  },
  {
   "cell_type": "markdown",
   "id": "d81516f6",
   "metadata": {},
   "source": [
    "## Categorization of hashtags stored in `twee_hash_800.csv` and creation of two .json: `hashtags_800.json`, `supports_800.json`"
   ]
  },
  {
   "cell_type": "code",
   "execution_count": 3,
   "id": "42b46de9",
   "metadata": {
    "id": "42b46de9"
   },
   "outputs": [],
   "source": [
    "df=pd.read_csv('twee_hash_800.csv')"
   ]
  },
  {
   "cell_type": "code",
   "execution_count": null,
   "id": "1c9b3bed",
   "metadata": {
    "id": "1c9b3bed",
    "outputId": "6583d7c0-a4c0-4d01-b06c-61b08dfb8d43"
   },
   "outputs": [],
   "source": [
    "df.shape"
   ]
  },
  {
   "cell_type": "code",
   "execution_count": null,
   "id": "cbe4bfbd",
   "metadata": {
    "id": "cbe4bfbd",
    "outputId": "f7ab608a-d296-457b-dcd0-d3e9331547c3"
   },
   "outputs": [],
   "source": [
    "df.head(10)"
   ]
  },
  {
   "cell_type": "code",
   "execution_count": 4,
   "id": "76e97661",
   "metadata": {
    "id": "76e97661",
    "outputId": "15fdb31a-8f3f-461b-997a-cf943f9d110a"
   },
   "outputs": [
    {
     "data": {
      "application/vnd.jupyter.widget-view+json": {
       "model_id": "0d9fc9c5770545bd983343d519b35139",
       "version_major": 2,
       "version_minor": 0
      },
      "text/plain": [
       "Output()"
      ]
     },
     "metadata": {},
     "output_type": "display_data"
    },
    {
     "data": {
      "text/html": [
       "<pre style=\"white-space:pre;overflow-x:auto;line-height:normal;font-family:Menlo,'DejaVu Sans Mono',consolas,'Courier New',monospace\"></pre>\n"
      ],
      "text/plain": []
     },
     "metadata": {},
     "output_type": "display_data"
    },
    {
     "data": {
      "text/html": [
       "<pre style=\"white-space:pre;overflow-x:auto;line-height:normal;font-family:Menlo,'DejaVu Sans Mono',consolas,'Courier New',monospace\">\n",
       "</pre>\n"
      ],
      "text/plain": [
       "\n"
      ]
     },
     "metadata": {},
     "output_type": "display_data"
    },
    {
     "data": {
      "text/html": [
       "<pre style=\"white-space:pre;overflow-x:auto;line-height:normal;font-family:Menlo,'DejaVu Sans Mono',consolas,'Courier New',monospace\">Attention. For stophatingrussians the scores are\n",
       "proukr    <span style=\"color: #008080; text-decoration-color: #008080; font-weight: bold\">0.0696</span>\n",
       "prorus    <span style=\"color: #008080; text-decoration-color: #008080; font-weight: bold\">0.4696</span>\n",
       "pax       <span style=\"color: #008080; text-decoration-color: #008080; font-weight: bold\">0.4609</span>\n",
       "Name: stophatingrussians, dtype: float64\n",
       "</pre>\n"
      ],
      "text/plain": [
       "Attention. For stophatingrussians the scores are\n",
       "proukr    \u001b[1;36m0.0696\u001b[0m\n",
       "prorus    \u001b[1;36m0.4696\u001b[0m\n",
       "pax       \u001b[1;36m0.4609\u001b[0m\n",
       "Name: stophatingrussians, dtype: float64\n"
      ]
     },
     "metadata": {},
     "output_type": "display_data"
    },
    {
     "data": {
      "text/html": [
       "<pre style=\"white-space:pre;overflow-x:auto;line-height:normal;font-family:Menlo,'DejaVu Sans Mono',consolas,'Courier New',monospace\">Attention. For music the scores are\n",
       "proukr    <span style=\"color: #008080; text-decoration-color: #008080; font-weight: bold\">0.4773</span>\n",
       "prorus    <span style=\"color: #008080; text-decoration-color: #008080; font-weight: bold\">0.0000</span>\n",
       "pax       <span style=\"color: #008080; text-decoration-color: #008080; font-weight: bold\">0.5227</span>\n",
       "Name: music, dtype: float64\n",
       "</pre>\n"
      ],
      "text/plain": [
       "Attention. For music the scores are\n",
       "proukr    \u001b[1;36m0.4773\u001b[0m\n",
       "prorus    \u001b[1;36m0.0000\u001b[0m\n",
       "pax       \u001b[1;36m0.5227\u001b[0m\n",
       "Name: music, dtype: float64\n"
      ]
     },
     "metadata": {},
     "output_type": "display_data"
    },
    {
     "data": {
      "text/html": [
       "<pre style=\"white-space:pre;overflow-x:auto;line-height:normal;font-family:Menlo,'DejaVu Sans Mono',consolas,'Courier New',monospace\">Attention. For prayforukraine the scores are\n",
       "proukr    <span style=\"color: #008080; text-decoration-color: #008080; font-weight: bold\">0.4761</span>\n",
       "prorus    <span style=\"color: #008080; text-decoration-color: #008080; font-weight: bold\">0.0021</span>\n",
       "pax       <span style=\"color: #008080; text-decoration-color: #008080; font-weight: bold\">0.5468</span>\n",
       "Name: prayforukraine, dtype: float64\n",
       "</pre>\n"
      ],
      "text/plain": [
       "Attention. For prayforukraine the scores are\n",
       "proukr    \u001b[1;36m0.4761\u001b[0m\n",
       "prorus    \u001b[1;36m0.0021\u001b[0m\n",
       "pax       \u001b[1;36m0.5468\u001b[0m\n",
       "Name: prayforukraine, dtype: float64\n"
      ]
     },
     "metadata": {},
     "output_type": "display_data"
    },
    {
     "data": {
      "text/html": [
       "<pre style=\"white-space:pre;overflow-x:auto;line-height:normal;font-family:Menlo,'DejaVu Sans Mono',consolas,'Courier New',monospace\">Attention. For cancelrussia the scores are\n",
       "proukr    <span style=\"color: #008080; text-decoration-color: #008080; font-weight: bold\">0.4583</span>\n",
       "prorus    <span style=\"color: #008080; text-decoration-color: #008080; font-weight: bold\">0.0000</span>\n",
       "pax       <span style=\"color: #008080; text-decoration-color: #008080; font-weight: bold\">0.5417</span>\n",
       "Name: cancelrussia, dtype: float64\n",
       "</pre>\n"
      ],
      "text/plain": [
       "Attention. For cancelrussia the scores are\n",
       "proukr    \u001b[1;36m0.4583\u001b[0m\n",
       "prorus    \u001b[1;36m0.0000\u001b[0m\n",
       "pax       \u001b[1;36m0.5417\u001b[0m\n",
       "Name: cancelrussia, dtype: float64\n"
      ]
     },
     "metadata": {},
     "output_type": "display_data"
    },
    {
     "data": {
      "text/html": [
       "<pre style=\"white-space:pre;overflow-x:auto;line-height:normal;font-family:Menlo,'DejaVu Sans Mono',consolas,'Courier New',monospace\">Attention. For putinwarcriminal the scores are\n",
       "proukr    <span style=\"color: #008080; text-decoration-color: #008080; font-weight: bold\">0.5147</span>\n",
       "prorus    <span style=\"color: #008080; text-decoration-color: #008080; font-weight: bold\">0.0048</span>\n",
       "pax       <span style=\"color: #008080; text-decoration-color: #008080; font-weight: bold\">0.4983</span>\n",
       "Name: putinwarcriminal, dtype: float64\n",
       "</pre>\n"
      ],
      "text/plain": [
       "Attention. For putinwarcriminal the scores are\n",
       "proukr    \u001b[1;36m0.5147\u001b[0m\n",
       "prorus    \u001b[1;36m0.0048\u001b[0m\n",
       "pax       \u001b[1;36m0.4983\u001b[0m\n",
       "Name: putinwarcriminal, dtype: float64\n"
      ]
     },
     "metadata": {},
     "output_type": "display_data"
    },
    {
     "data": {
      "text/html": [
       "<pre style=\"white-space:pre;overflow-x:auto;line-height:normal;font-family:Menlo,'DejaVu Sans Mono',consolas,'Courier New',monospace\">Attention. For solidaritywithukraine the scores are\n",
       "proukr    <span style=\"color: #008080; text-decoration-color: #008080; font-weight: bold\">0.4815</span>\n",
       "prorus    <span style=\"color: #008080; text-decoration-color: #008080; font-weight: bold\">0.0000</span>\n",
       "pax       <span style=\"color: #008080; text-decoration-color: #008080; font-weight: bold\">0.5185</span>\n",
       "Name: solidaritywithukraine, dtype: float64\n",
       "</pre>\n"
      ],
      "text/plain": [
       "Attention. For solidaritywithukraine the scores are\n",
       "proukr    \u001b[1;36m0.4815\u001b[0m\n",
       "prorus    \u001b[1;36m0.0000\u001b[0m\n",
       "pax       \u001b[1;36m0.5185\u001b[0m\n",
       "Name: solidaritywithukraine, dtype: float64\n"
      ]
     },
     "metadata": {},
     "output_type": "display_data"
    },
    {
     "data": {
      "text/html": [
       "<pre style=\"white-space:pre;overflow-x:auto;line-height:normal;font-family:Menlo,'DejaVu Sans Mono',consolas,'Courier New',monospace\">Attention. For standwithukrain the scores are\n",
       "proukr    <span style=\"color: #008080; text-decoration-color: #008080; font-weight: bold\">0.5385</span>\n",
       "prorus    <span style=\"color: #008080; text-decoration-color: #008080; font-weight: bold\">0.0000</span>\n",
       "pax       <span style=\"color: #008080; text-decoration-color: #008080; font-weight: bold\">0.4615</span>\n",
       "Name: standwithukrain, dtype: float64\n",
       "</pre>\n"
      ],
      "text/plain": [
       "Attention. For standwithukrain the scores are\n",
       "proukr    \u001b[1;36m0.5385\u001b[0m\n",
       "prorus    \u001b[1;36m0.0000\u001b[0m\n",
       "pax       \u001b[1;36m0.4615\u001b[0m\n",
       "Name: standwithukrain, dtype: float64\n"
      ]
     },
     "metadata": {},
     "output_type": "display_data"
    },
    {
     "data": {
      "text/html": [
       "<pre style=\"white-space:pre;overflow-x:auto;line-height:normal;font-family:Menlo,'DejaVu Sans Mono',consolas,'Courier New',monospace\">Attention. For ukraineunderattak the scores are\n",
       "proukr    <span style=\"color: #008080; text-decoration-color: #008080; font-weight: bold\">0.4890</span>\n",
       "prorus    <span style=\"color: #008080; text-decoration-color: #008080; font-weight: bold\">0.1263</span>\n",
       "pax       <span style=\"color: #008080; text-decoration-color: #008080; font-weight: bold\">0.4208</span>\n",
       "Name: ukraineunderattak, dtype: float64\n",
       "</pre>\n"
      ],
      "text/plain": [
       "Attention. For ukraineunderattak the scores are\n",
       "proukr    \u001b[1;36m0.4890\u001b[0m\n",
       "prorus    \u001b[1;36m0.1263\u001b[0m\n",
       "pax       \u001b[1;36m0.4208\u001b[0m\n",
       "Name: ukraineunderattak, dtype: float64\n"
      ]
     },
     "metadata": {},
     "output_type": "display_data"
    },
    {
     "data": {
      "text/html": [
       "<pre style=\"white-space:pre;overflow-x:auto;line-height:normal;font-family:Menlo,'DejaVu Sans Mono',consolas,'Courier New',monospace\">Attention. For closetheskyoverukrainenow the scores are\n",
       "proukr    <span style=\"color: #008080; text-decoration-color: #008080; font-weight: bold\">0.5319</span>\n",
       "prorus    <span style=\"color: #008080; text-decoration-color: #008080; font-weight: bold\">0.0000</span>\n",
       "pax       <span style=\"color: #008080; text-decoration-color: #008080; font-weight: bold\">0.5000</span>\n",
       "Name: closetheskyoverukrainenow, dtype: float64\n",
       "</pre>\n"
      ],
      "text/plain": [
       "Attention. For closetheskyoverukrainenow the scores are\n",
       "proukr    \u001b[1;36m0.5319\u001b[0m\n",
       "prorus    \u001b[1;36m0.0000\u001b[0m\n",
       "pax       \u001b[1;36m0.5000\u001b[0m\n",
       "Name: closetheskyoverukrainenow, dtype: float64\n"
      ]
     },
     "metadata": {},
     "output_type": "display_data"
    },
    {
     "data": {
      "text/html": [
       "<pre style=\"white-space:pre;overflow-x:auto;line-height:normal;font-family:Menlo,'DejaVu Sans Mono',consolas,'Courier New',monospace\">Attention. For fakenews the scores are\n",
       "proukr    <span style=\"color: #008080; text-decoration-color: #008080; font-weight: bold\">0.2083</span>\n",
       "prorus    <span style=\"color: #008080; text-decoration-color: #008080; font-weight: bold\">0.3750</span>\n",
       "pax       <span style=\"color: #008080; text-decoration-color: #008080; font-weight: bold\">0.4167</span>\n",
       "Name: fakenews, dtype: float64\n",
       "</pre>\n"
      ],
      "text/plain": [
       "Attention. For fakenews the scores are\n",
       "proukr    \u001b[1;36m0.2083\u001b[0m\n",
       "prorus    \u001b[1;36m0.3750\u001b[0m\n",
       "pax       \u001b[1;36m0.4167\u001b[0m\n",
       "Name: fakenews, dtype: float64\n"
      ]
     },
     "metadata": {},
     "output_type": "display_data"
    },
    {
     "data": {
      "text/html": [
       "<pre style=\"white-space:pre;overflow-x:auto;line-height:normal;font-family:Menlo,'DejaVu Sans Mono',consolas,'Courier New',monospace\">Attention. For ukraineunderattack the scores are\n",
       "proukr    <span style=\"color: #008080; text-decoration-color: #008080; font-weight: bold\">0.4833</span>\n",
       "prorus    <span style=\"color: #008080; text-decoration-color: #008080; font-weight: bold\">0.0357</span>\n",
       "pax       <span style=\"color: #008080; text-decoration-color: #008080; font-weight: bold\">0.4822</span>\n",
       "Name: ukraineunderattack, dtype: float64\n",
       "</pre>\n"
      ],
      "text/plain": [
       "Attention. For ukraineunderattack the scores are\n",
       "proukr    \u001b[1;36m0.4833\u001b[0m\n",
       "prorus    \u001b[1;36m0.0357\u001b[0m\n",
       "pax       \u001b[1;36m0.4822\u001b[0m\n",
       "Name: ukraineunderattack, dtype: float64\n"
      ]
     },
     "metadata": {},
     "output_type": "display_data"
    },
    {
     "data": {
      "text/html": [
       "<pre style=\"white-space:pre;overflow-x:auto;line-height:normal;font-family:Menlo,'DejaVu Sans Mono',consolas,'Courier New',monospace\">Attention. For russia the scores are\n",
       "proukr    <span style=\"color: #008080; text-decoration-color: #008080; font-weight: bold\">0.4884</span>\n",
       "prorus    <span style=\"color: #008080; text-decoration-color: #008080; font-weight: bold\">0.1051</span>\n",
       "pax       <span style=\"color: #008080; text-decoration-color: #008080; font-weight: bold\">0.4081</span>\n",
       "Name: russia, dtype: float64\n",
       "</pre>\n"
      ],
      "text/plain": [
       "Attention. For russia the scores are\n",
       "proukr    \u001b[1;36m0.4884\u001b[0m\n",
       "prorus    \u001b[1;36m0.1051\u001b[0m\n",
       "pax       \u001b[1;36m0.4081\u001b[0m\n",
       "Name: russia, dtype: float64\n"
      ]
     },
     "metadata": {},
     "output_type": "display_data"
    },
    {
     "data": {
      "text/html": [
       "<pre style=\"white-space:pre;overflow-x:auto;line-height:normal;font-family:Menlo,'DejaVu Sans Mono',consolas,'Courier New',monospace\">Attention. For mariupol the scores are\n",
       "proukr    <span style=\"color: #008080; text-decoration-color: #008080; font-weight: bold\">0.4505</span>\n",
       "prorus    <span style=\"color: #008080; text-decoration-color: #008080; font-weight: bold\">0.0248</span>\n",
       "pax       <span style=\"color: #008080; text-decoration-color: #008080; font-weight: bold\">0.5270</span>\n",
       "Name: mariupol, dtype: float64\n",
       "</pre>\n"
      ],
      "text/plain": [
       "Attention. For mariupol the scores are\n",
       "proukr    \u001b[1;36m0.4505\u001b[0m\n",
       "prorus    \u001b[1;36m0.0248\u001b[0m\n",
       "pax       \u001b[1;36m0.5270\u001b[0m\n",
       "Name: mariupol, dtype: float64\n"
      ]
     },
     "metadata": {},
     "output_type": "display_data"
    },
    {
     "data": {
      "text/html": [
       "<pre style=\"white-space:pre;overflow-x:auto;line-height:normal;font-family:Menlo,'DejaVu Sans Mono',consolas,'Courier New',monospace\">Attention. For putinhuilo the scores are\n",
       "proukr    <span style=\"color: #008080; text-decoration-color: #008080; font-weight: bold\">0.4773</span>\n",
       "prorus    <span style=\"color: #008080; text-decoration-color: #008080; font-weight: bold\">0.0000</span>\n",
       "pax       <span style=\"color: #008080; text-decoration-color: #008080; font-weight: bold\">0.5227</span>\n",
       "Name: putinhuilo, dtype: float64\n",
       "</pre>\n"
      ],
      "text/plain": [
       "Attention. For putinhuilo the scores are\n",
       "proukr    \u001b[1;36m0.4773\u001b[0m\n",
       "prorus    \u001b[1;36m0.0000\u001b[0m\n",
       "pax       \u001b[1;36m0.5227\u001b[0m\n",
       "Name: putinhuilo, dtype: float64\n"
      ]
     },
     "metadata": {},
     "output_type": "display_data"
    },
    {
     "data": {
      "text/html": [
       "<pre style=\"white-space:pre;overflow-x:auto;line-height:normal;font-family:Menlo,'DejaVu Sans Mono',consolas,'Courier New',monospace\">Attention. For ukrainerussiawar the scores are\n",
       "proukr    <span style=\"color: #008080; text-decoration-color: #008080; font-weight: bold\">0.5028</span>\n",
       "prorus    <span style=\"color: #008080; text-decoration-color: #008080; font-weight: bold\">0.0772</span>\n",
       "pax       <span style=\"color: #008080; text-decoration-color: #008080; font-weight: bold\">0.4353</span>\n",
       "Name: ukrainerussiawar, dtype: float64\n",
       "</pre>\n"
      ],
      "text/plain": [
       "Attention. For ukrainerussiawar the scores are\n",
       "proukr    \u001b[1;36m0.5028\u001b[0m\n",
       "prorus    \u001b[1;36m0.0772\u001b[0m\n",
       "pax       \u001b[1;36m0.4353\u001b[0m\n",
       "Name: ukrainerussiawar, dtype: float64\n"
      ]
     },
     "metadata": {},
     "output_type": "display_data"
    },
    {
     "data": {
      "text/html": [
       "<pre style=\"white-space:pre;overflow-x:auto;line-height:normal;font-family:Menlo,'DejaVu Sans Mono',consolas,'Courier New',monospace\">Attention. For defendukraine the scores are\n",
       "proukr    <span style=\"color: #008080; text-decoration-color: #008080; font-weight: bold\">0.5333</span>\n",
       "prorus    <span style=\"color: #008080; text-decoration-color: #008080; font-weight: bold\">0.0000</span>\n",
       "pax       <span style=\"color: #008080; text-decoration-color: #008080; font-weight: bold\">0.4889</span>\n",
       "Name: defendukraine, dtype: float64\n",
       "</pre>\n"
      ],
      "text/plain": [
       "Attention. For defendukraine the scores are\n",
       "proukr    \u001b[1;36m0.5333\u001b[0m\n",
       "prorus    \u001b[1;36m0.0000\u001b[0m\n",
       "pax       \u001b[1;36m0.4889\u001b[0m\n",
       "Name: defendukraine, dtype: float64\n"
      ]
     },
     "metadata": {},
     "output_type": "display_data"
    },
    {
     "data": {
      "text/html": [
       "<pre style=\"white-space:pre;overflow-x:auto;line-height:normal;font-family:Menlo,'DejaVu Sans Mono',consolas,'Courier New',monospace\">Attention. For russianaggression the scores are\n",
       "proukr    <span style=\"color: #008080; text-decoration-color: #008080; font-weight: bold\">0.5312</span>\n",
       "prorus    <span style=\"color: #008080; text-decoration-color: #008080; font-weight: bold\">0.0000</span>\n",
       "pax       <span style=\"color: #008080; text-decoration-color: #008080; font-weight: bold\">0.4688</span>\n",
       "Name: russianaggression, dtype: float64\n",
       "</pre>\n"
      ],
      "text/plain": [
       "Attention. For russianaggression the scores are\n",
       "proukr    \u001b[1;36m0.5312\u001b[0m\n",
       "prorus    \u001b[1;36m0.0000\u001b[0m\n",
       "pax       \u001b[1;36m0.4688\u001b[0m\n",
       "Name: russianaggression, dtype: float64\n"
      ]
     },
     "metadata": {},
     "output_type": "display_data"
    },
    {
     "data": {
      "text/html": [
       "<pre style=\"white-space:pre;overflow-x:auto;line-height:normal;font-family:Menlo,'DejaVu Sans Mono',consolas,'Courier New',monospace\">Attention. For itarmyofukraine the scores are\n",
       "proukr    <span style=\"color: #008080; text-decoration-color: #008080; font-weight: bold\">0.9041</span>\n",
       "prorus    <span style=\"color: #008080; text-decoration-color: #008080; font-weight: bold\">0.0000</span>\n",
       "pax       <span style=\"color: #008080; text-decoration-color: #008080; font-weight: bold\">1.0000</span>\n",
       "Name: itarmyofukraine, dtype: float64\n",
       "</pre>\n"
      ],
      "text/plain": [
       "Attention. For itarmyofukraine the scores are\n",
       "proukr    \u001b[1;36m0.9041\u001b[0m\n",
       "prorus    \u001b[1;36m0.0000\u001b[0m\n",
       "pax       \u001b[1;36m1.0000\u001b[0m\n",
       "Name: itarmyofukraine, dtype: float64\n"
      ]
     },
     "metadata": {},
     "output_type": "display_data"
    },
    {
     "data": {
      "text/html": [
       "<pre style=\"white-space:pre;overflow-x:auto;line-height:normal;font-family:Menlo,'DejaVu Sans Mono',consolas,'Courier New',monospace\">Attention. For noflyzoneoverukraine the scores are\n",
       "proukr    <span style=\"color: #008080; text-decoration-color: #008080; font-weight: bold\">0.8152</span>\n",
       "prorus    <span style=\"color: #008080; text-decoration-color: #008080; font-weight: bold\">0.0000</span>\n",
       "pax       <span style=\"color: #008080; text-decoration-color: #008080; font-weight: bold\">0.7376</span>\n",
       "Name: noflyzoneoverukraine, dtype: float64\n",
       "</pre>\n"
      ],
      "text/plain": [
       "Attention. For noflyzoneoverukraine the scores are\n",
       "proukr    \u001b[1;36m0.8152\u001b[0m\n",
       "prorus    \u001b[1;36m0.0000\u001b[0m\n",
       "pax       \u001b[1;36m0.7376\u001b[0m\n",
       "Name: noflyzoneoverukraine, dtype: float64\n"
      ]
     },
     "metadata": {},
     "output_type": "display_data"
    },
    {
     "data": {
      "text/html": [
       "<pre style=\"white-space:pre;overflow-x:auto;line-height:normal;font-family:Menlo,'DejaVu Sans Mono',consolas,'Courier New',monospace\">Attention. For russianukrainianwar the scores are\n",
       "proukr    <span style=\"color: #008080; text-decoration-color: #008080; font-weight: bold\">0.1952</span>\n",
       "prorus    <span style=\"color: #008080; text-decoration-color: #008080; font-weight: bold\">0.4397</span>\n",
       "pax       <span style=\"color: #008080; text-decoration-color: #008080; font-weight: bold\">0.3718</span>\n",
       "Name: russianukrainianwar, dtype: float64\n",
       "</pre>\n"
      ],
      "text/plain": [
       "Attention. For russianukrainianwar the scores are\n",
       "proukr    \u001b[1;36m0.1952\u001b[0m\n",
       "prorus    \u001b[1;36m0.4397\u001b[0m\n",
       "pax       \u001b[1;36m0.3718\u001b[0m\n",
       "Name: russianukrainianwar, dtype: float64\n"
      ]
     },
     "metadata": {},
     "output_type": "display_data"
    },
    {
     "data": {
      "text/html": [
       "<pre style=\"white-space:pre;overflow-x:auto;line-height:normal;font-family:Menlo,'DejaVu Sans Mono',consolas,'Courier New',monospace\">Attention. For protectusky the scores are\n",
       "proukr    <span style=\"color: #008080; text-decoration-color: #008080; font-weight: bold\">0.5161</span>\n",
       "prorus    <span style=\"color: #008080; text-decoration-color: #008080; font-weight: bold\">0.0000</span>\n",
       "pax       <span style=\"color: #008080; text-decoration-color: #008080; font-weight: bold\">0.4839</span>\n",
       "Name: protectusky, dtype: float64\n",
       "</pre>\n"
      ],
      "text/plain": [
       "Attention. For protectusky the scores are\n",
       "proukr    \u001b[1;36m0.5161\u001b[0m\n",
       "prorus    \u001b[1;36m0.0000\u001b[0m\n",
       "pax       \u001b[1;36m0.4839\u001b[0m\n",
       "Name: protectusky, dtype: float64\n"
      ]
     },
     "metadata": {},
     "output_type": "display_data"
    },
    {
     "data": {
      "text/html": [
       "<pre style=\"white-space:pre;overflow-x:auto;line-height:normal;font-family:Menlo,'DejaVu Sans Mono',consolas,'Courier New',monospace\">Attention. For vladimirputingenocide the scores are\n",
       "proukr    <span style=\"color: #008080; text-decoration-color: #008080; font-weight: bold\">0.4667</span>\n",
       "prorus    <span style=\"color: #008080; text-decoration-color: #008080; font-weight: bold\">0.0000</span>\n",
       "pax       <span style=\"color: #008080; text-decoration-color: #008080; font-weight: bold\">0.5333</span>\n",
       "Name: vladimirputingenocide, dtype: float64\n",
       "</pre>\n"
      ],
      "text/plain": [
       "Attention. For vladimirputingenocide the scores are\n",
       "proukr    \u001b[1;36m0.4667\u001b[0m\n",
       "prorus    \u001b[1;36m0.0000\u001b[0m\n",
       "pax       \u001b[1;36m0.5333\u001b[0m\n",
       "Name: vladimirputingenocide, dtype: float64\n"
      ]
     },
     "metadata": {},
     "output_type": "display_data"
    },
    {
     "data": {
      "text/html": [
       "<pre style=\"white-space:pre;overflow-x:auto;line-height:normal;font-family:Menlo,'DejaVu Sans Mono',consolas,'Courier New',monospace\">Attention. For ukranian the scores are\n",
       "proukr    <span style=\"color: #008080; text-decoration-color: #008080; font-weight: bold\">0.450</span>\n",
       "prorus    <span style=\"color: #008080; text-decoration-color: #008080; font-weight: bold\">0.075</span>\n",
       "pax       <span style=\"color: #008080; text-decoration-color: #008080; font-weight: bold\">0.475</span>\n",
       "Name: ukranian, dtype: float64\n",
       "</pre>\n"
      ],
      "text/plain": [
       "Attention. For ukranian the scores are\n",
       "proukr    \u001b[1;36m0.450\u001b[0m\n",
       "prorus    \u001b[1;36m0.075\u001b[0m\n",
       "pax       \u001b[1;36m0.475\u001b[0m\n",
       "Name: ukranian, dtype: float64\n"
      ]
     },
     "metadata": {},
     "output_type": "display_data"
    },
    {
     "data": {
      "text/html": [
       "<pre style=\"white-space:pre;overflow-x:auto;line-height:normal;font-family:Menlo,'DejaVu Sans Mono',consolas,'Courier New',monospace\">Attention. For ukraineresistance the scores are\n",
       "proukr    <span style=\"color: #008080; text-decoration-color: #008080; font-weight: bold\">1.000</span>\n",
       "prorus    <span style=\"color: #008080; text-decoration-color: #008080; font-weight: bold\">0.000</span>\n",
       "pax       <span style=\"color: #008080; text-decoration-color: #008080; font-weight: bold\">0.875</span>\n",
       "Name: ukraineresistance, dtype: float64\n",
       "</pre>\n"
      ],
      "text/plain": [
       "Attention. For ukraineresistance the scores are\n",
       "proukr    \u001b[1;36m1.000\u001b[0m\n",
       "prorus    \u001b[1;36m0.000\u001b[0m\n",
       "pax       \u001b[1;36m0.875\u001b[0m\n",
       "Name: ukraineresistance, dtype: float64\n"
      ]
     },
     "metadata": {},
     "output_type": "display_data"
    },
    {
     "data": {
      "text/html": [
       "<pre style=\"white-space:pre;overflow-x:auto;line-height:normal;font-family:Menlo,'DejaVu Sans Mono',consolas,'Courier New',monospace\">Attention. For madrid the scores are\n",
       "proukr    <span style=\"color: #008080; text-decoration-color: #008080; font-weight: bold\">0.5517</span>\n",
       "prorus    <span style=\"color: #008080; text-decoration-color: #008080; font-weight: bold\">0.0000</span>\n",
       "pax       <span style=\"color: #008080; text-decoration-color: #008080; font-weight: bold\">0.5172</span>\n",
       "Name: madrid, dtype: float64\n",
       "</pre>\n"
      ],
      "text/plain": [
       "Attention. For madrid the scores are\n",
       "proukr    \u001b[1;36m0.5517\u001b[0m\n",
       "prorus    \u001b[1;36m0.0000\u001b[0m\n",
       "pax       \u001b[1;36m0.5172\u001b[0m\n",
       "Name: madrid, dtype: float64\n"
      ]
     },
     "metadata": {},
     "output_type": "display_data"
    },
    {
     "data": {
      "text/html": [
       "<pre style=\"white-space:pre;overflow-x:auto;line-height:normal;font-family:Menlo,'DejaVu Sans Mono',consolas,'Courier New',monospace\">Attention. For stopputinswar the scores are\n",
       "proukr    <span style=\"color: #008080; text-decoration-color: #008080; font-weight: bold\">0.4597</span>\n",
       "prorus    <span style=\"color: #008080; text-decoration-color: #008080; font-weight: bold\">0.0044</span>\n",
       "pax       <span style=\"color: #008080; text-decoration-color: #008080; font-weight: bold\">0.5447</span>\n",
       "Name: stopputinswar, dtype: float64\n",
       "</pre>\n"
      ],
      "text/plain": [
       "Attention. For stopputinswar the scores are\n",
       "proukr    \u001b[1;36m0.4597\u001b[0m\n",
       "prorus    \u001b[1;36m0.0044\u001b[0m\n",
       "pax       \u001b[1;36m0.5447\u001b[0m\n",
       "Name: stopputinswar, dtype: float64\n"
      ]
     },
     "metadata": {},
     "output_type": "display_data"
    },
    {
     "data": {
      "text/html": [
       "<pre style=\"white-space:pre;overflow-x:auto;line-height:normal;font-family:Menlo,'DejaVu Sans Mono',consolas,'Courier New',monospace\">Attention. For hitler the scores are\n",
       "proukr    <span style=\"color: #008080; text-decoration-color: #008080; font-weight: bold\">0.50</span>\n",
       "prorus    <span style=\"color: #008080; text-decoration-color: #008080; font-weight: bold\">0.05</span>\n",
       "pax       <span style=\"color: #008080; text-decoration-color: #008080; font-weight: bold\">0.45</span>\n",
       "Name: hitler, dtype: float64\n",
       "</pre>\n"
      ],
      "text/plain": [
       "Attention. For hitler the scores are\n",
       "proukr    \u001b[1;36m0.50\u001b[0m\n",
       "prorus    \u001b[1;36m0.05\u001b[0m\n",
       "pax       \u001b[1;36m0.45\u001b[0m\n",
       "Name: hitler, dtype: float64\n"
      ]
     },
     "metadata": {},
     "output_type": "display_data"
    }
   ],
   "source": [
    "def do_search(tagmadre, pages):\n",
    "    # construct the initial query to Twarc\n",
    "    tweets_with_hashtag = pd.read_csv(Path(\"twee_hash_800.csv\"), index_col=0)\n",
    "\n",
    "    # hashtags: EXPLODE *musica dei power ranger*\n",
    "    all_hashtags = set(tweets_with_hashtag.columns)\n",
    "\n",
    "    # keyword level: eliminate all python keywords from columns because otherwise we are in no man's land\n",
    "    keywordsss = keyword.kwlist\n",
    "    keywordsss.extend(keyword.softkwlist)\n",
    "    all_hashtags = all_hashtags.difference(keywordsss)\n",
    "    all_hashtags = all_hashtags.difference(set((\"\",)))\n",
    "\n",
    "    # up to here we have only dealt with a dataframe of tweets. Now we switch to dataframe of hashtags\n",
    "\n",
    "    # create a dataframe with all hashtags and their scores\n",
    "    all_hashtags_as_dict = {}\n",
    "    supp = {}\n",
    "    for hashtag in track(all_hashtags):\n",
    "        # discard based on support\n",
    "        pass\n",
    "        # calculate scores only on hashtags with enough support\n",
    "        score = create_score(tweets_with_hashtag, hashtag, tagmadre)\n",
    "        if score is not False:\n",
    "            # score[0] is the scores, score[1] is the support\n",
    "            all_hashtags_as_dict[hashtag] = score[0]\n",
    "            supp[hashtag] = score[1]\n",
    "    all_hashtags_df = pd.DataFrame.from_dict(\n",
    "        all_hashtags_as_dict, orient=\"index\", columns=tagmadre\n",
    "    )\n",
    "\n",
    "    # now, \"categorize\" hashtags. The hashtag gets the category of its max score,\n",
    "    # as long as it is > `threshold_certainty`\n",
    "    # TODO: remember that we still need to account for hashtag support\n",
    "    # (i.e. number of tweets supporting that hashtag)\n",
    "    threshold_certainty = 0.4\n",
    "    tags_categorized = defaultdict(list)\n",
    "    for hashtag, scores in all_hashtags_df.iterrows():\n",
    "        # print(hashtag, scores)  # TODO: check if the scores are different enough among 3 categories\n",
    "        # print(scores.idxmax(), scores.max())\n",
    "        if scores.max() > threshold_certainty:\n",
    "            tags_categorized[scores.idxmax()].append((hashtag, scores.max()))\n",
    "            other_scores = set(scores).difference(set((scores.max(),)))\n",
    "            for sco in other_scores:\n",
    "                if scores.max() < 1.2 * sco:\n",
    "                    print(f\"Attention. For {hashtag} the scores are\\n{scores}\")\n",
    "\n",
    "    # tags_categorized.sort(key=lambda x: x[1], reverse=True)\n",
    "    \"\"\"    tags_categorized = {\n",
    "        k: sorted(v, key=lambda item: item[1], reverse=True)\n",
    "        for k, v in tags_categorized.items()\n",
    "    }\"\"\"\n",
    "\n",
    "    return tags_categorized, supp\n",
    "\n",
    "\n",
    "if __name__ == \"__main__\":\n",
    "    # params\n",
    "    top_results_to_take = 3\n",
    "    pages_to_do = 800\n",
    "\n",
    "    # set the initial \"parent\" hashtags for each category\n",
    "    tag_madre = {\n",
    "        \"proukr\": [\"slavaukraini\"],\n",
    "        \"prorus\": [\"istandwithputin\"],\n",
    "        \"pax\": [\"stopwarinukraine\"],\n",
    "    }\n",
    "\n",
    "    # code\n",
    "    # first run\n",
    "    end_results, tags_support = do_search(tag_madre, pages_to_do)\n",
    "\n",
    "    # second run\n",
    "    \"\"\"\n",
    "    end_results = {\n",
    "        k: [x[0] for x in v[:top_results_to_take]] for k, v in end_results.items()\n",
    "    }\n",
    "    print(\"miao\", end_results)\n",
    "    end_results = do_search(end_results)\n",
    "    \"\"\"\n",
    "\n",
    "    with open(f\"hashtags_{pages_to_do}.json\", \"w\", encoding=\"utf-8\") as f:\n",
    "        json.dump(end_results, f, ensure_ascii=False, indent=4)\n",
    "    with open(f\"supports_{pages_to_do}.json\", \"w\", encoding=\"utf-8\") as f:\n",
    "        json.dump(tags_support, f, ensure_ascii=False, indent=4)"
   ]
  },
  {
   "cell_type": "markdown",
   "id": "943d8416",
   "metadata": {},
   "source": [
    "## Removal of *\"neutral\"* hashtags"
   ]
  },
  {
   "cell_type": "code",
   "execution_count": null,
   "id": "51d52fc1",
   "metadata": {
    "id": "51d52fc1",
    "outputId": "25000970-a017-4fe8-ed7f-98147022db4c"
   },
   "outputs": [],
   "source": [
    "with open('hashtags_800.json', 'r') as f:\n",
    "    my_dict = json.load(f)\n",
    "my_dict"
   ]
  },
  {
   "cell_type": "code",
   "execution_count": null,
   "id": "3195110d",
   "metadata": {},
   "outputs": [],
   "source": [
    "table = Table(title=\"# of hashtags found\")\n",
    "\n",
    "table.add_column(\"Category\", justify=\"left\", style=\"cyan\", no_wrap=True)\n",
    "table.add_column(\"# of hashtags\", justify=\"right\", style=\"red\", no_wrap=True)\n",
    "\n",
    "\n",
    "for k, v in my_dict.items():\n",
    "    table.add_row(str(k), str(len(v)))\n",
    "    \n",
    "console = Console()\n",
    "console.print(table)"
   ]
  },
  {
   "cell_type": "code",
   "execution_count": null,
   "id": "94e119d9",
   "metadata": {},
   "outputs": [],
   "source": [
    "my_dict_copy=my_dict.copy()"
   ]
  },
  {
   "cell_type": "code",
   "execution_count": null,
   "id": "905ae485",
   "metadata": {
    "id": "905ae485"
   },
   "outputs": [],
   "source": [
    "#lista di hahstags che sono palesemente IDONTCARE\n",
    "remove_hash_set= set(['watch','nftcommunity','contemporaryart','sisterhoodforever','cryptoartist','arte','cigar','oilpaintings','drewdiplomat','lgbtq','bonvoyage','transally','tabak','avanticondraghi','artshare','tabakespecial','ourbodiesourchoice','yemencantwait','climatecrisis','beautiful','google','catsontwitter','karma','bbc','artwork','mustread','freesyria','taiwanisnotchina','johnsonout170','dove','backboris','clouds','cats','manifesta14prishtina','31luglio','nowsmoking','bastille','mondaymorning','coffee','punk','14juillet','billsmafia','ilustration','etc','infosec','drawingart','music','metaverse','naturephotography','johnsonout174','1988massacre','badass','cybersecurity','monochrome','newprofilepic','mariodraghi','redcarpet','summer','visitkotkahamina','landscape','eurovision','iostocondraghi','error404','retwit','research','cbdnft','sunflowers','kittyloafmonday','cryptoart','nft','amazing','voteblue2022','eurovision2023','cigarlife','brexithasfailed','blog','graziepresidentedraghi','fantastic','poems','poet','cityphotography','facciamorete','cityscape','catsoftwittter','catlover','elezioni2022','climateemergency','freeiran','animals','nftcollectors','problem','catlovers','sea','nftartist','blacklivesmatter','whateverittakes','fresh','medvedev','toriesout22','standwithboris','dogsoftwitter','toriesout25','followbackfriday','tshirt','cutepets','gracias','lgbt','art','boots','salvini','boycottleroymerlin','macron','sketch','fuckserbia','figurativepainting','500px','rammstein','oilpainting','banassaultweaponsnow','crowdfunding','retweeet','catsoftwitter','spotify','toriesout15','draw','mondaythoughts','voteblue','womensrightsarehumanrights','pentesting','nfts','vogue','tiktok','blackandwhitephoto','water','nightvision','pentagon','cybersec','glory','lifestyle','animalrescue','kindnessismagic','catslover','throwbackthursday','twitter','cbdoil','caturday','nftcollector','ford','biden','ourbluevoice','flashlights','14juillet2022','mybodymychoice','highlandparkstrong','covidisnotover','photography','boxing','splendidfeet','nftshills','covid19','collageart','frexit','streaming','nftjapan','phrases','nftproject','oscars','cocaino','cryptocurrency','ai','artistoninstagram','artistsontwitter','promotion','painting','graffiti','nftcommumity','ballerina','eyes','lyrik','collagen','nftnyc2022','mariopaciolla','hollywood','mothersday','aiart','indie','giulioregeni','iphone','nftartwork','nftcollections','sexymonday','happymothersday2022','covid_19','youtuber','collageartwork','imaginedragons','bidenlsalaughingstock',])\n",
    "#lista di hashtags \"neutrali\" posizioni geografiche \n",
    "remove2_hash_set= set(['polish','lithuania','ucraine','romaniaukraine','milano','georgia','minsk','estonia','crimea','mariupol','ukrain','odesa','azerbaijan','ukrania','moskau','bielorussia','paris','syria','norway','buffalo','finland','germany','donbass','india','mosca','chicago','ohio','odessa','ucraina','kiev','moscow','france','kharkiv','northvancouver','europe','lettland','chaplynka','europa','italia','olenivka','texas','africa','vancouver','turkey','afghanistan','berlin','usa','tallinn','california','uk','switzerland','northkorea','japan','chinataiwan','australia',])"
   ]
  },
  {
   "cell_type": "code",
   "execution_count": null,
   "id": "c1ee53bc",
   "metadata": {},
   "outputs": [],
   "source": [
    "#hashtags in \"neutrali\" che riguardano luoghi della guerra\n",
    "#'ucraine','romaniaukraine','crimea','mariupol','ukrain','odesa','ukrania','moskau','donbass','mosca','odessa','ucraina','kiev','moscow','kharkiv','chaplynka','olenivka',"
   ]
  },
  {
   "cell_type": "code",
   "execution_count": null,
   "id": "059dba2b",
   "metadata": {},
   "outputs": [],
   "source": [
    "remove=set.union(remove_hash_set, remove2_hash_set)\n",
    "for i in remove:\n",
    "    for k,v in my_dict_copy.items():\n",
    "        for e in v:\n",
    "            #print(v)\n",
    "            if e[0] == i:\n",
    "                v.remove(e)"
   ]
  },
  {
   "cell_type": "code",
   "execution_count": null,
   "id": "13396ac8",
   "metadata": {},
   "outputs": [],
   "source": [
    "table = Table(title=\"# of hashtags found\")\n",
    "\n",
    "table.add_column(\"Category\", justify=\"left\", style=\"cyan\", no_wrap=True)\n",
    "table.add_column(\"# of hashtags\", justify=\"right\", style=\"red\", no_wrap=True)\n",
    "\n",
    "\n",
    "for k, v in my_dict_copy.items():\n",
    "    table.add_row(str(k), str(len(v)))\n",
    "\n",
    "console.print(table)"
   ]
  },
  {
   "cell_type": "markdown",
   "id": "f5fc3d4a",
   "metadata": {},
   "source": [
    "## Write of the final .json: `hashtags_final.json`"
   ]
  },
  {
   "cell_type": "code",
   "execution_count": null,
   "id": "18cfcfd4",
   "metadata": {},
   "outputs": [],
   "source": [
    "with open(f\"hashtags_final.json\", \"w\", encoding=\"utf-8\") as f:\n",
    "        json.dump(my_dict_copy, f, ensure_ascii=False, indent=4)"
   ]
  },
  {
   "cell_type": "code",
   "execution_count": null,
   "id": "70dcfb21",
   "metadata": {},
   "outputs": [],
   "source": [
    "#magia nera"
   ]
  },
  {
   "cell_type": "code",
   "execution_count": null,
   "id": "6d5588fd",
   "metadata": {},
   "outputs": [],
   "source": [
    "with open(f'hashtags_final.json', 'r') as f:\n",
    "    my_dict = json.load(f)\n",
    "#my_dict"
   ]
  },
  {
   "cell_type": "code",
   "execution_count": null,
   "id": "60514d0c",
   "metadata": {},
   "outputs": [],
   "source": [
    "with open(f'hashtags_300.json', 'r') as f:\n",
    "    my_dict2 = json.load(f)\n",
    "#my_dict2"
   ]
  },
  {
   "cell_type": "code",
   "execution_count": null,
   "id": "ffc73bab",
   "metadata": {},
   "outputs": [],
   "source": [
    "table = Table(title=\"# of hashtags found\")\n",
    "\n",
    "table.add_column(\"Category\", justify=\"left\", style=\"cyan\", no_wrap=True)\n",
    "table.add_column(\"# of hashtags\", justify=\"right\", style=\"red\", no_wrap=True)\n",
    "\n",
    "\n",
    "for k, v in my_dict2.items():\n",
    "    table.add_row(str(k), str(len(v)))\n",
    "\n",
    "console = Console()\n",
    "console.print(table)"
   ]
  },
  {
   "cell_type": "code",
   "execution_count": null,
   "id": "198a28fd",
   "metadata": {},
   "outputs": [],
   "source": [
    "for k,v in my_dict.items():\n",
    "    for k2,v2 in my_dict2.items():\n",
    "        for vs in v2:\n",
    "            if k=='prorus' and k2=='prorus':\n",
    "                v.append(vs)"
   ]
  },
  {
   "cell_type": "code",
   "execution_count": null,
   "id": "22560b80",
   "metadata": {},
   "outputs": [],
   "source": [
    "table = Table(title=\"# of hashtags found\")\n",
    "\n",
    "table.add_column(\"Category\", justify=\"left\", style=\"cyan\", no_wrap=True)\n",
    "table.add_column(\"# of hashtags\", justify=\"right\", style=\"red\", no_wrap=True)\n",
    "\n",
    "\n",
    "for k, v in my_dict.items():\n",
    "    table.add_row(str(k), str(len(v)))\n",
    "\n",
    "console = Console()\n",
    "console.print(table)"
   ]
  },
  {
   "cell_type": "code",
   "execution_count": null,
   "id": "4596ae08",
   "metadata": {},
   "outputs": [],
   "source": [
    "with open(f\"hashtag_final_lists.json\", \"w\", encoding=\"utf-8\") as f:\n",
    "    json.dump(my_dict, f, ensure_ascii=False, indent=4)"
   ]
  },
  {
   "cell_type": "code",
   "execution_count": null,
   "id": "7ef1a1df",
   "metadata": {},
   "outputs": [],
   "source": [
    "with open(f'hashtag_final_lists.json', 'r') as f:\n",
    "    final_dict = json.load(f)\n",
    "\n",
    "    table = Table(title=\"# of hashtags final lists\")\n",
    "\n",
    "table.add_column(\"Category\", justify=\"left\", style=\"cyan\", no_wrap=True)\n",
    "table.add_column(\"# of hashtags\", justify=\"right\", style=\"red\", no_wrap=True)\n",
    "\n",
    "\n",
    "for k, v in final_dict.items():\n",
    "    table.add_row(str(k), str(len(v)))\n",
    "\n",
    "console = Console()\n",
    "console.print(table)"
   ]
  },
  {
   "cell_type": "code",
   "execution_count": null,
   "id": "e9bdbac4",
   "metadata": {},
   "outputs": [],
   "source": []
  }
 ],
 "metadata": {
  "colab": {
   "collapsed_sections": [],
   "name": "prova_creazione_rete.ipynb",
   "provenance": []
  },
  "kernelspec": {
   "display_name": "Python 3 (ipykernel)",
   "language": "python",
   "name": "python3"
  },
  "language_info": {
   "codemirror_mode": {
    "name": "ipython",
    "version": 3
   },
   "file_extension": ".py",
   "mimetype": "text/x-python",
   "name": "python",
   "nbconvert_exporter": "python",
   "pygments_lexer": "ipython3",
   "version": "3.10.6"
  }
 },
 "nbformat": 4,
 "nbformat_minor": 5
}
