{
 "cells": [
  {
   "cell_type": "code",
   "execution_count": 1,
   "id": "a572a66c",
   "metadata": {},
   "outputs": [],
   "source": [
    "import pandas as pd\n",
    "from extract import CategorizeUsers\n",
    "from rich import print\n",
    "import random\n",
    "from pathlib import Path\n",
    "import json\n",
    "\n",
    "# set paths\n",
    "my_saving_dir = Path.cwd() / \"categorizing_dicts\""
   ]
  },
  {
   "cell_type": "code",
   "execution_count": 2,
   "id": "3a0eb593",
   "metadata": {},
   "outputs": [],
   "source": [
    "df = pd.read_csv(\"df_nodes.csv\")"
   ]
  },
  {
   "cell_type": "code",
   "execution_count": 3,
   "id": "c692460d",
   "metadata": {},
   "outputs": [],
   "source": [
    "df = df.drop(columns=df.columns[0])"
   ]
  },
  {
   "cell_type": "code",
   "execution_count": 4,
   "id": "ebdceb18",
   "metadata": {
    "scrolled": true
   },
   "outputs": [
    {
     "data": {
      "text/html": [
       "<div>\n",
       "<style scoped>\n",
       "    .dataframe tbody tr th:only-of-type {\n",
       "        vertical-align: middle;\n",
       "    }\n",
       "\n",
       "    .dataframe tbody tr th {\n",
       "        vertical-align: top;\n",
       "    }\n",
       "\n",
       "    .dataframe thead th {\n",
       "        text-align: right;\n",
       "    }\n",
       "</style>\n",
       "<table border=\"1\" class=\"dataframe\">\n",
       "  <thead>\n",
       "    <tr style=\"text-align: right;\">\n",
       "      <th></th>\n",
       "      <th>user_id</th>\n",
       "      <th>tweet_id</th>\n",
       "      <th>retweet_id</th>\n",
       "      <th>hashtag</th>\n",
       "      <th>location</th>\n",
       "      <th>verified</th>\n",
       "    </tr>\n",
       "  </thead>\n",
       "  <tbody>\n",
       "    <tr>\n",
       "      <th>0</th>\n",
       "      <td>1007449601400541184</td>\n",
       "      <td>1503521257177948170</td>\n",
       "      <td>278369814</td>\n",
       "      <td>['putin', 'slavaukraini']</td>\n",
       "      <td>Mobile, AL</td>\n",
       "      <td>False</td>\n",
       "    </tr>\n",
       "    <tr>\n",
       "      <th>1</th>\n",
       "      <td>1464582321533767695</td>\n",
       "      <td>1503521249850363904</td>\n",
       "      <td>291496884</td>\n",
       "      <td>['stopputin', 'stopwar', 'stopwarinukraine']</td>\n",
       "      <td>NaN</td>\n",
       "      <td>False</td>\n",
       "    </tr>\n",
       "    <tr>\n",
       "      <th>2</th>\n",
       "      <td>1245946724994158592</td>\n",
       "      <td>1503521066739589120</td>\n",
       "      <td>3312966191</td>\n",
       "      <td>['standwithukraine', 'stopputinnow', 'slavaukr...</td>\n",
       "      <td>NaN</td>\n",
       "      <td>False</td>\n",
       "    </tr>\n",
       "    <tr>\n",
       "      <th>3</th>\n",
       "      <td>854862661</td>\n",
       "      <td>1503521023450361861</td>\n",
       "      <td>465973</td>\n",
       "      <td>['slavaukraini']</td>\n",
       "      <td>NaN</td>\n",
       "      <td>False</td>\n",
       "    </tr>\n",
       "    <tr>\n",
       "      <th>4</th>\n",
       "      <td>42746752</td>\n",
       "      <td>1503520988297932802</td>\n",
       "      <td>1456400208431091712</td>\n",
       "      <td>['dogsoftwittter', 'dogsoftwitter', 'stoprussi...</td>\n",
       "      <td>Northeast Ohio, USA</td>\n",
       "      <td>False</td>\n",
       "    </tr>\n",
       "  </tbody>\n",
       "</table>\n",
       "</div>"
      ],
      "text/plain": [
       "               user_id             tweet_id           retweet_id  \\\n",
       "0  1007449601400541184  1503521257177948170            278369814   \n",
       "1  1464582321533767695  1503521249850363904            291496884   \n",
       "2  1245946724994158592  1503521066739589120           3312966191   \n",
       "3            854862661  1503521023450361861               465973   \n",
       "4             42746752  1503520988297932802  1456400208431091712   \n",
       "\n",
       "                                             hashtag             location  \\\n",
       "0                          ['putin', 'slavaukraini']           Mobile, AL   \n",
       "1       ['stopputin', 'stopwar', 'stopwarinukraine']                  NaN   \n",
       "2  ['standwithukraine', 'stopputinnow', 'slavaukr...                  NaN   \n",
       "3                                   ['slavaukraini']                  NaN   \n",
       "4  ['dogsoftwittter', 'dogsoftwitter', 'stoprussi...  Northeast Ohio, USA   \n",
       "\n",
       "   verified  \n",
       "0     False  \n",
       "1     False  \n",
       "2     False  \n",
       "3     False  \n",
       "4     False  "
      ]
     },
     "execution_count": 4,
     "metadata": {},
     "output_type": "execute_result"
    }
   ],
   "source": [
    "df.head()"
   ]
  },
  {
   "cell_type": "code",
   "execution_count": 5,
   "id": "97533130",
   "metadata": {},
   "outputs": [
    {
     "data": {
      "text/html": [
       "<pre style=\"white-space:pre;overflow-x:auto;line-height:normal;font-family:Menlo,'DejaVu Sans Mono',consolas,'Courier New',monospace\">We have <span style=\"color: #008080; text-decoration-color: #008080; font-weight: bold\">32382</span> unique users.\n",
       "</pre>\n"
      ],
      "text/plain": [
       "We have \u001b[1;36m32382\u001b[0m unique users.\n"
      ]
     },
     "metadata": {},
     "output_type": "display_data"
    }
   ],
   "source": [
    "unique_users = set(df[\"user_id\"])\n",
    "assert len(unique_users) == df[\"user_id\"].nunique()\n",
    "print(f\"We have {len(unique_users)} unique users.\")"
   ]
  },
  {
   "cell_type": "markdown",
   "id": "61ebf4d8",
   "metadata": {},
   "source": [
    "Dividing the set into `n_sets` ~equal parts"
   ]
  },
  {
   "cell_type": "code",
   "execution_count": 6,
   "id": "2f1d2b19",
   "metadata": {},
   "outputs": [],
   "source": [
    "n_sets = 13"
   ]
  },
  {
   "cell_type": "markdown",
   "id": "960fc158",
   "metadata": {},
   "source": [
    "Remove all users already categorized"
   ]
  },
  {
   "cell_type": "code",
   "execution_count": 7,
   "id": "782817db",
   "metadata": {},
   "outputs": [
    {
     "data": {
      "text/html": [
       "<pre style=\"white-space:pre;overflow-x:auto;line-height:normal;font-family:Menlo,'DejaVu Sans Mono',consolas,'Courier New',monospace\"><span style=\"color: #008080; text-decoration-color: #008080; font-weight: bold\">4857</span>\n",
       "</pre>\n"
      ],
      "text/plain": [
       "\u001b[1;36m4857\u001b[0m\n"
      ]
     },
     "metadata": {},
     "output_type": "display_data"
    },
    {
     "data": {
      "text/html": [
       "<pre style=\"white-space:pre;overflow-x:auto;line-height:normal;font-family:Menlo,'DejaVu Sans Mono',consolas,'Courier New',monospace\">The total number of users is <span style=\"color: #008080; text-decoration-color: #008080; font-weight: bold\">32382</span>\n",
       "</pre>\n"
      ],
      "text/plain": [
       "The total number of users is \u001b[1;36m32382\u001b[0m\n"
      ]
     },
     "metadata": {},
     "output_type": "display_data"
    },
    {
     "data": {
      "text/html": [
       "<pre style=\"white-space:pre;overflow-x:auto;line-height:normal;font-family:Menlo,'DejaVu Sans Mono',consolas,'Courier New',monospace\">while left to do are <span style=\"color: #008080; text-decoration-color: #008080; font-weight: bold\">27525</span>\n",
       "</pre>\n"
      ],
      "text/plain": [
       "while left to do are \u001b[1;36m27525\u001b[0m\n"
      ]
     },
     "metadata": {},
     "output_type": "display_data"
    }
   ],
   "source": [
    "# load all jsons\n",
    "users_already_done = set()\n",
    "for json_file in my_saving_dir.glob('*.json'):\n",
    "    with open(json_file) as f:\n",
    "        data = json.load(f)\n",
    "    data = {int(k):v for k,v in data.items()}\n",
    "    users_already_done.update(data.keys())\n",
    "\n",
    "\n",
    "# remove users from `unique_users`\n",
    "print(f\"The total number of users is {len(unique_users)}, we've already done {len(users_already_done)}\")\n",
    "unique_users -= users_already_done\n",
    "print(f\"and so left to do are {len(unique_users)} users.\")"
   ]
  },
  {
   "cell_type": "code",
   "execution_count": 8,
   "id": "a88cd7dd",
   "metadata": {},
   "outputs": [
    {
     "data": {
      "text/html": [
       "<pre style=\"white-space:pre;overflow-x:auto;line-height:normal;font-family:Menlo,'DejaVu Sans Mono',consolas,'Courier New',monospace\">Length of each set: <span style=\"color: #008080; text-decoration-color: #008080; font-weight: bold\">1619</span>\n",
       "</pre>\n"
      ],
      "text/plain": [
       "Length of each set: \u001b[1;36m1619\u001b[0m\n"
      ]
     },
     "metadata": {},
     "output_type": "display_data"
    },
    {
     "name": "stderr",
     "output_type": "stream",
     "text": [
      "/var/folders/hb/d5v787851zs4pcg7b14rpb9r0000gn/T/ipykernel_13042/1242245154.py:5: DeprecationWarning: Sampling from a set deprecated\n",
      "since Python 3.9 and will be removed in a subsequent version.\n",
      "  my_set = set(random.sample(unique_users, slen))\n"
     ]
    },
    {
     "data": {
      "text/html": [
       "<pre style=\"white-space:pre;overflow-x:auto;line-height:normal;font-family:Menlo,'DejaVu Sans Mono',consolas,'Courier New',monospace\">Lengths of each set: <span style=\"color: #008080; text-decoration-color: #008080; font-weight: bold\">1619</span>, <span style=\"color: #008080; text-decoration-color: #008080; font-weight: bold\">1619</span>, <span style=\"color: #008080; text-decoration-color: #008080; font-weight: bold\">1619</span>, <span style=\"color: #008080; text-decoration-color: #008080; font-weight: bold\">1619</span>, <span style=\"color: #008080; text-decoration-color: #008080; font-weight: bold\">1619</span>, <span style=\"color: #008080; text-decoration-color: #008080; font-weight: bold\">1619</span>, <span style=\"color: #008080; text-decoration-color: #008080; font-weight: bold\">1619</span>, <span style=\"color: #008080; text-decoration-color: #008080; font-weight: bold\">1619</span>, <span style=\"color: #008080; text-decoration-color: #008080; font-weight: bold\">1619</span>, <span style=\"color: #008080; text-decoration-color: #008080; font-weight: bold\">1619</span>, <span style=\"color: #008080; text-decoration-color: #008080; font-weight: bold\">1619</span>, <span style=\"color: #008080; text-decoration-color: #008080; font-weight: bold\">1619</span>, <span style=\"color: #008080; text-decoration-color: #008080; font-weight: bold\">1619</span>, <span style=\"color: #008080; text-decoration-color: #008080; font-weight: bold\">1619</span>, <span style=\"color: #008080; text-decoration-color: #008080; font-weight: bold\">1619</span>, \n",
       "<span style=\"color: #008080; text-decoration-color: #008080; font-weight: bold\">1619</span>, <span style=\"color: #008080; text-decoration-color: #008080; font-weight: bold\">1621</span>. We have <span style=\"color: #800000; text-decoration-color: #800000; font-weight: bold\">17</span> sets.\n",
       "</pre>\n"
      ],
      "text/plain": [
       "Lengths of each set: \u001b[1;36m1619\u001b[0m, \u001b[1;36m1619\u001b[0m, \u001b[1;36m1619\u001b[0m, \u001b[1;36m1619\u001b[0m, \u001b[1;36m1619\u001b[0m, \u001b[1;36m1619\u001b[0m, \u001b[1;36m1619\u001b[0m, \u001b[1;36m1619\u001b[0m, \u001b[1;36m1619\u001b[0m, \u001b[1;36m1619\u001b[0m, \u001b[1;36m1619\u001b[0m, \u001b[1;36m1619\u001b[0m, \u001b[1;36m1619\u001b[0m, \u001b[1;36m1619\u001b[0m, \u001b[1;36m1619\u001b[0m, \n",
       "\u001b[1;36m1619\u001b[0m, \u001b[1;36m1621\u001b[0m. We have \u001b[1;31m17\u001b[0m sets.\n"
      ]
     },
     "metadata": {},
     "output_type": "display_data"
    }
   ],
   "source": [
    "slen = len(unique_users) // n_sets\n",
    "print(f\"Length of each set: {slen}\")\n",
    "unique_users_list = []\n",
    "while len(unique_users) >= slen and slen>0:\n",
    "    my_set = set(random.sample(unique_users, slen))\n",
    "    unique_users_list.append(my_set)\n",
    "    unique_users -= my_set\n",
    "\n",
    "unique_users_list[-1] = unique_users_list[-1] | unique_users\n",
    "\n",
    "# print length of each set\n",
    "my_repr = \"Lengths of each set:\"\n",
    "for my_set in unique_users_list:\n",
    "    my_repr = f\"{my_repr} {len(my_set)},\"\n",
    "print(f\"{my_repr[:-1]}. We have [red]{len(unique_users_list)}[/red] sets.\")"
   ]
  },
  {
   "cell_type": "code",
   "execution_count": 9,
   "id": "30b2799d",
   "metadata": {
    "scrolled": true
   },
   "outputs": [
    {
     "data": {
      "application/vnd.jupyter.widget-view+json": {
       "model_id": "6e90f9cee709419da7677e4b87b31f00",
       "version_major": 2,
       "version_minor": 0
      },
      "text/plain": [
       "Output()"
      ]
     },
     "metadata": {},
     "output_type": "display_data"
    },
    {
     "data": {
      "text/html": [
       "<pre style=\"white-space:pre;overflow-x:auto;line-height:normal;font-family:Menlo,'DejaVu Sans Mono',consolas,'Courier New',monospace\"></pre>\n"
      ],
      "text/plain": []
     },
     "metadata": {},
     "output_type": "display_data"
    },
    {
     "data": {
      "text/html": [
       "<pre style=\"white-space:pre;overflow-x:auto;line-height:normal;font-family:Menlo,'DejaVu Sans Mono',consolas,'Courier New',monospace\">\n",
       "</pre>\n"
      ],
      "text/plain": [
       "\n"
      ]
     },
     "metadata": {},
     "output_type": "display_data"
    },
    {
     "data": {
      "application/vnd.jupyter.widget-view+json": {
       "model_id": "d033f2b1f3b046d4ac1977b71950806d",
       "version_major": 2,
       "version_minor": 0
      },
      "text/plain": [
       "Output()"
      ]
     },
     "metadata": {},
     "output_type": "display_data"
    },
    {
     "data": {
      "text/html": [
       "<pre style=\"white-space:pre;overflow-x:auto;line-height:normal;font-family:Menlo,'DejaVu Sans Mono',consolas,'Courier New',monospace\"></pre>\n"
      ],
      "text/plain": []
     },
     "metadata": {},
     "output_type": "display_data"
    },
    {
     "data": {
      "text/html": [
       "<pre style=\"white-space:pre;overflow-x:auto;line-height:normal;font-family:Menlo,'DejaVu Sans Mono',consolas,'Courier New',monospace\">\n",
       "</pre>\n"
      ],
      "text/plain": [
       "\n"
      ]
     },
     "metadata": {},
     "output_type": "display_data"
    },
    {
     "data": {
      "application/vnd.jupyter.widget-view+json": {
       "model_id": "d06587856f7f4bc89e375f25d55018a6",
       "version_major": 2,
       "version_minor": 0
      },
      "text/plain": [
       "Output()"
      ]
     },
     "metadata": {},
     "output_type": "display_data"
    },
    {
     "data": {
      "text/html": [
       "<pre style=\"white-space:pre;overflow-x:auto;line-height:normal;font-family:Menlo,'DejaVu Sans Mono',consolas,'Courier New',monospace\"></pre>\n"
      ],
      "text/plain": []
     },
     "metadata": {},
     "output_type": "display_data"
    },
    {
     "data": {
      "text/html": [
       "<pre style=\"white-space:pre;overflow-x:auto;line-height:normal;font-family:Menlo,'DejaVu Sans Mono',consolas,'Courier New',monospace\">\n",
       "</pre>\n"
      ],
      "text/plain": [
       "\n"
      ]
     },
     "metadata": {},
     "output_type": "display_data"
    },
    {
     "data": {
      "application/vnd.jupyter.widget-view+json": {
       "model_id": "dfc9ff291a4848319208469ede85ebc9",
       "version_major": 2,
       "version_minor": 0
      },
      "text/plain": [
       "Output()"
      ]
     },
     "metadata": {},
     "output_type": "display_data"
    },
    {
     "data": {
      "text/html": [
       "<pre style=\"white-space:pre;overflow-x:auto;line-height:normal;font-family:Menlo,'DejaVu Sans Mono',consolas,'Courier New',monospace\"></pre>\n"
      ],
      "text/plain": []
     },
     "metadata": {},
     "output_type": "display_data"
    },
    {
     "data": {
      "text/html": [
       "<pre style=\"white-space:pre;overflow-x:auto;line-height:normal;font-family:Menlo,'DejaVu Sans Mono',consolas,'Courier New',monospace\">\n",
       "</pre>\n"
      ],
      "text/plain": [
       "\n"
      ]
     },
     "metadata": {},
     "output_type": "display_data"
    },
    {
     "data": {
      "application/vnd.jupyter.widget-view+json": {
       "model_id": "d2e5b849eab840b6b5e99d4a481bdc9a",
       "version_major": 2,
       "version_minor": 0
      },
      "text/plain": [
       "Output()"
      ]
     },
     "metadata": {},
     "output_type": "display_data"
    },
    {
     "data": {
      "text/html": [
       "<pre style=\"white-space:pre;overflow-x:auto;line-height:normal;font-family:Menlo,'DejaVu Sans Mono',consolas,'Courier New',monospace\"></pre>\n"
      ],
      "text/plain": []
     },
     "metadata": {},
     "output_type": "display_data"
    },
    {
     "data": {
      "text/html": [
       "<pre style=\"white-space:pre;overflow-x:auto;line-height:normal;font-family:Menlo,'DejaVu Sans Mono',consolas,'Courier New',monospace\">\n",
       "</pre>\n"
      ],
      "text/plain": [
       "\n"
      ]
     },
     "metadata": {},
     "output_type": "display_data"
    },
    {
     "ename": "KeyboardInterrupt",
     "evalue": "",
     "output_type": "error",
     "traceback": [
      "\u001b[0;31m---------------------------------------------------------------------------\u001b[0m",
      "\u001b[0;31mKeyboardInterrupt\u001b[0m                         Traceback (most recent call last)",
      "Cell \u001b[0;32mIn [9], line 2\u001b[0m\n\u001b[1;32m      1\u001b[0m \u001b[38;5;28;01mfor\u001b[39;00m i, my_set \u001b[38;5;129;01min\u001b[39;00m \u001b[38;5;28menumerate\u001b[39m (unique_users_list):\n\u001b[0;32m----> 2\u001b[0m     c \u001b[38;5;241m=\u001b[39m \u001b[43mCategorizeUsers\u001b[49m\u001b[43m(\u001b[49m\u001b[43mmy_set\u001b[49m\u001b[43m,\u001b[49m\u001b[43m \u001b[49m\u001b[43mpages\u001b[49m\u001b[38;5;241;43m=\u001b[39;49m\u001b[38;5;241;43m1\u001b[39;49m\u001b[43m)\u001b[49m\n\u001b[1;32m      3\u001b[0m     \u001b[38;5;28;01mwith\u001b[39;00m \u001b[38;5;28mopen\u001b[39m(my_saving_dir \u001b[38;5;241m/\u001b[39m \u001b[38;5;124mf\u001b[39m\u001b[38;5;124m\"\u001b[39m\u001b[38;5;124mhashtags_\u001b[39m\u001b[38;5;132;01m{\u001b[39;00mi\u001b[38;5;132;01m}\u001b[39;00m\u001b[38;5;124m_a.json\u001b[39m\u001b[38;5;124m\"\u001b[39m, \u001b[38;5;124m\"\u001b[39m\u001b[38;5;124mw\u001b[39m\u001b[38;5;124m\"\u001b[39m, encoding\u001b[38;5;241m=\u001b[39m\u001b[38;5;124m\"\u001b[39m\u001b[38;5;124mutf-8\u001b[39m\u001b[38;5;124m\"\u001b[39m) \u001b[38;5;28;01mas\u001b[39;00m f:\n\u001b[1;32m      4\u001b[0m         json\u001b[38;5;241m.\u001b[39mdump(c\u001b[38;5;241m.\u001b[39musers, f, ensure_ascii\u001b[38;5;241m=\u001b[39m\u001b[38;5;28;01mFalse\u001b[39;00m, indent\u001b[38;5;241m=\u001b[39m\u001b[38;5;241m4\u001b[39m)\n",
      "File \u001b[0;32m<attrs generated init extract.CategorizeUsers>:4\u001b[0m, in \u001b[0;36m__init__\u001b[0;34m(self, user_ids, pages)\u001b[0m\n\u001b[1;32m      2\u001b[0m _setattr(\u001b[38;5;28mself\u001b[39m, \u001b[38;5;124m'\u001b[39m\u001b[38;5;124muser_ids\u001b[39m\u001b[38;5;124m'\u001b[39m, user_ids)\n\u001b[1;32m      3\u001b[0m _setattr(\u001b[38;5;28mself\u001b[39m, \u001b[38;5;124m'\u001b[39m\u001b[38;5;124mpages\u001b[39m\u001b[38;5;124m'\u001b[39m, pages)\n\u001b[0;32m----> 4\u001b[0m _setattr(\u001b[38;5;28mself\u001b[39m, \u001b[38;5;124m'\u001b[39m\u001b[38;5;124musers\u001b[39m\u001b[38;5;124m'\u001b[39m, \u001b[43m__attr_factory_users\u001b[49m\u001b[43m(\u001b[49m\u001b[38;5;28;43mself\u001b[39;49m\u001b[43m)\u001b[49m)\n\u001b[1;32m      5\u001b[0m \u001b[38;5;28;01mif\u001b[39;00m _config\u001b[38;5;241m.\u001b[39m_run_validators \u001b[38;5;129;01mis\u001b[39;00m \u001b[38;5;28;01mTrue\u001b[39;00m:\n\u001b[1;32m      6\u001b[0m     __attr_validator_user_ids(\u001b[38;5;28mself\u001b[39m, __attr_user_ids, \u001b[38;5;28mself\u001b[39m\u001b[38;5;241m.\u001b[39muser_ids)\n",
      "File \u001b[0;32m~/repos/sna/py/net_building/extract.py:449\u001b[0m, in \u001b[0;36mCategorizeUsers._users_default\u001b[0;34m(self)\u001b[0m\n\u001b[1;32m    447\u001b[0m u\u001b[38;5;241m.\u001b[39mdf \u001b[38;5;241m=\u001b[39m u\u001b[38;5;241m.\u001b[39mdf[[\u001b[38;5;124m\"\u001b[39m\u001b[38;5;124mid\u001b[39m\u001b[38;5;124m\"\u001b[39m, \u001b[38;5;124m\"\u001b[39m\u001b[38;5;124mentities.hashtags\u001b[39m\u001b[38;5;124m\"\u001b[39m, \u001b[38;5;124m\"\u001b[39m\u001b[38;5;124mauthor_id\u001b[39m\u001b[38;5;124m\"\u001b[39m]]\n\u001b[1;32m    448\u001b[0m u\u001b[38;5;241m.\u001b[39mdf \u001b[38;5;241m=\u001b[39m u\u001b[38;5;241m.\u001b[39mdf\u001b[38;5;241m.\u001b[39mdropna(subset\u001b[38;5;241m=\u001b[39m[\u001b[38;5;124m\"\u001b[39m\u001b[38;5;124mentities.hashtags\u001b[39m\u001b[38;5;124m\"\u001b[39m])\n\u001b[0;32m--> 449\u001b[0m u\u001b[38;5;241m.\u001b[39mdf[\u001b[38;5;124m\"\u001b[39m\u001b[38;5;124mtags\u001b[39m\u001b[38;5;124m\"\u001b[39m] \u001b[38;5;241m=\u001b[39m \u001b[43mu\u001b[49m\u001b[38;5;241;43m.\u001b[39;49m\u001b[43mdf\u001b[49m\u001b[43m[\u001b[49m\u001b[38;5;124;43m\"\u001b[39;49m\u001b[38;5;124;43mentities.hashtags\u001b[39;49m\u001b[38;5;124;43m\"\u001b[39;49m\u001b[43m]\u001b[49m\u001b[38;5;241;43m.\u001b[39;49m\u001b[43mmap\u001b[49m\u001b[43m(\u001b[49m\u001b[38;5;28;43meval\u001b[39;49m\u001b[43m)\u001b[49m\u001b[38;5;241m.\u001b[39mmap(extract_tags)\n\u001b[1;32m    451\u001b[0m u\u001b[38;5;241m.\u001b[39mdf[\u001b[38;5;124m\"\u001b[39m\u001b[38;5;124mtweet_class\u001b[39m\u001b[38;5;124m\"\u001b[39m] \u001b[38;5;241m=\u001b[39m u\u001b[38;5;241m.\u001b[39mdf[\u001b[38;5;124m\"\u001b[39m\u001b[38;5;124mtags\u001b[39m\u001b[38;5;124m\"\u001b[39m]\u001b[38;5;241m.\u001b[39mapply(\n\u001b[1;32m    452\u001b[0m     classify_tweet, root_tags\u001b[38;5;241m=\u001b[39mtag_madre\n\u001b[1;32m    453\u001b[0m )\n\u001b[1;32m    454\u001b[0m u\u001b[38;5;241m.\u001b[39mdf[\u001b[38;5;124m\"\u001b[39m\u001b[38;5;124mtweet_class\u001b[39m\u001b[38;5;124m\"\u001b[39m] \u001b[38;5;241m=\u001b[39m u\u001b[38;5;241m.\u001b[39mdf[\u001b[38;5;124m\"\u001b[39m\u001b[38;5;124mtweet_class\u001b[39m\u001b[38;5;124m\"\u001b[39m]\u001b[38;5;241m.\u001b[39mastype(\u001b[38;5;124m\"\u001b[39m\u001b[38;5;124mcategory\u001b[39m\u001b[38;5;124m\"\u001b[39m)\n",
      "File \u001b[0;32m~/miniforge3/envs/catto/lib/python3.10/site-packages/pandas/core/series.py:4539\u001b[0m, in \u001b[0;36mSeries.map\u001b[0;34m(self, arg, na_action)\u001b[0m\n\u001b[1;32m   4460\u001b[0m \u001b[38;5;28;01mdef\u001b[39;00m \u001b[38;5;21mmap\u001b[39m(\n\u001b[1;32m   4461\u001b[0m     \u001b[38;5;28mself\u001b[39m,\n\u001b[1;32m   4462\u001b[0m     arg: Callable \u001b[38;5;241m|\u001b[39m Mapping \u001b[38;5;241m|\u001b[39m Series,\n\u001b[1;32m   4463\u001b[0m     na_action: Literal[\u001b[38;5;124m\"\u001b[39m\u001b[38;5;124mignore\u001b[39m\u001b[38;5;124m\"\u001b[39m] \u001b[38;5;241m|\u001b[39m \u001b[38;5;28;01mNone\u001b[39;00m \u001b[38;5;241m=\u001b[39m \u001b[38;5;28;01mNone\u001b[39;00m,\n\u001b[1;32m   4464\u001b[0m ) \u001b[38;5;241m-\u001b[39m\u001b[38;5;241m>\u001b[39m Series:\n\u001b[1;32m   4465\u001b[0m     \u001b[38;5;124;03m\"\"\"\u001b[39;00m\n\u001b[1;32m   4466\u001b[0m \u001b[38;5;124;03m    Map values of Series according to an input mapping or function.\u001b[39;00m\n\u001b[1;32m   4467\u001b[0m \n\u001b[0;32m   (...)\u001b[0m\n\u001b[1;32m   4537\u001b[0m \u001b[38;5;124;03m    dtype: object\u001b[39;00m\n\u001b[1;32m   4538\u001b[0m \u001b[38;5;124;03m    \"\"\"\u001b[39;00m\n\u001b[0;32m-> 4539\u001b[0m     new_values \u001b[38;5;241m=\u001b[39m \u001b[38;5;28;43mself\u001b[39;49m\u001b[38;5;241;43m.\u001b[39;49m\u001b[43m_map_values\u001b[49m\u001b[43m(\u001b[49m\u001b[43marg\u001b[49m\u001b[43m,\u001b[49m\u001b[43m \u001b[49m\u001b[43mna_action\u001b[49m\u001b[38;5;241;43m=\u001b[39;49m\u001b[43mna_action\u001b[49m\u001b[43m)\u001b[49m\n\u001b[1;32m   4540\u001b[0m     \u001b[38;5;28;01mreturn\u001b[39;00m \u001b[38;5;28mself\u001b[39m\u001b[38;5;241m.\u001b[39m_constructor(new_values, index\u001b[38;5;241m=\u001b[39m\u001b[38;5;28mself\u001b[39m\u001b[38;5;241m.\u001b[39mindex)\u001b[38;5;241m.\u001b[39m__finalize__(\n\u001b[1;32m   4541\u001b[0m         \u001b[38;5;28mself\u001b[39m, method\u001b[38;5;241m=\u001b[39m\u001b[38;5;124m\"\u001b[39m\u001b[38;5;124mmap\u001b[39m\u001b[38;5;124m\"\u001b[39m\n\u001b[1;32m   4542\u001b[0m     )\n",
      "File \u001b[0;32m~/miniforge3/envs/catto/lib/python3.10/site-packages/pandas/core/base.py:890\u001b[0m, in \u001b[0;36mIndexOpsMixin._map_values\u001b[0;34m(self, mapper, na_action)\u001b[0m\n\u001b[1;32m    887\u001b[0m         \u001b[38;5;28;01mraise\u001b[39;00m \u001b[38;5;167;01mValueError\u001b[39;00m(msg)\n\u001b[1;32m    889\u001b[0m \u001b[38;5;66;03m# mapper is a function\u001b[39;00m\n\u001b[0;32m--> 890\u001b[0m new_values \u001b[38;5;241m=\u001b[39m \u001b[43mmap_f\u001b[49m\u001b[43m(\u001b[49m\u001b[43mvalues\u001b[49m\u001b[43m,\u001b[49m\u001b[43m \u001b[49m\u001b[43mmapper\u001b[49m\u001b[43m)\u001b[49m\n\u001b[1;32m    892\u001b[0m \u001b[38;5;28;01mreturn\u001b[39;00m new_values\n",
      "File \u001b[0;32m~/miniforge3/envs/catto/lib/python3.10/site-packages/pandas/_libs/lib.pyx:2918\u001b[0m, in \u001b[0;36mpandas._libs.lib.map_infer\u001b[0;34m()\u001b[0m\n",
      "File \u001b[0;32m<string>:1\u001b[0m\n",
      "\u001b[0;31mKeyboardInterrupt\u001b[0m: "
     ]
    }
   ],
   "source": [
    "for i, my_set in enumerate (unique_users_list):\n",
    "    c = CategorizeUsers(my_set, pages=1)\n",
    "    with open(my_saving_dir / f\"hashtags_{i}_b.json\", \"w\", encoding=\"utf-8\") as f:\n",
    "        json.dump(c.users, f, ensure_ascii=False, indent=4)"
   ]
  },
  {
   "cell_type": "code",
   "execution_count": null,
   "id": "18f7e0d0",
   "metadata": {},
   "outputs": [],
   "source": []
  }
 ],
 "metadata": {
  "kernelspec": {
   "display_name": "Python 3 (ipykernel)",
   "language": "python",
   "name": "python3"
  },
  "language_info": {
   "codemirror_mode": {
    "name": "ipython",
    "version": 3
   },
   "file_extension": ".py",
   "mimetype": "text/x-python",
   "name": "python",
   "nbconvert_exporter": "python",
   "pygments_lexer": "ipython3",
   "version": "3.10.6"
  }
 },
 "nbformat": 4,
 "nbformat_minor": 5
}
