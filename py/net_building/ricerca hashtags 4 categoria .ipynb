{
 "cells": [
  {
   "cell_type": "code",
   "execution_count": 10,
   "id": "aff607b5",
   "metadata": {},
   "outputs": [],
   "source": [
    "import pandas as pd\n",
    "from extract import Count, SocialETL, SocialDB\n",
    "from rich import print"
   ]
  },
  {
   "cell_type": "code",
   "execution_count": 11,
   "id": "2d03ffda",
   "metadata": {},
   "outputs": [],
   "source": [
    "M=SocialDB(50)"
   ]
  },
  {
   "cell_type": "code",
   "execution_count": 12,
   "id": "1582c3e0",
   "metadata": {},
   "outputs": [],
   "source": [
    "def extract_tags(value):\n",
    "    results = []\n",
    "    for my_dict in value:\n",
    "        results.append(my_dict[\"tag\"].lower())\n",
    "    return results"
   ]
  },
  {
   "cell_type": "code",
   "execution_count": 13,
   "id": "72fffefc",
   "metadata": {},
   "outputs": [
    {
     "data": {
      "text/html": [
       "<div>\n",
       "<style scoped>\n",
       "    .dataframe tbody tr th:only-of-type {\n",
       "        vertical-align: middle;\n",
       "    }\n",
       "\n",
       "    .dataframe tbody tr th {\n",
       "        vertical-align: top;\n",
       "    }\n",
       "\n",
       "    .dataframe thead th {\n",
       "        text-align: right;\n",
       "    }\n",
       "</style>\n",
       "<table border=\"1\" class=\"dataframe\">\n",
       "  <thead>\n",
       "    <tr style=\"text-align: right;\">\n",
       "      <th></th>\n",
       "      <th>class</th>\n",
       "    </tr>\n",
       "    <tr>\n",
       "      <th>id</th>\n",
       "      <th></th>\n",
       "    </tr>\n",
       "  </thead>\n",
       "  <tbody>\n",
       "    <tr>\n",
       "      <th>644126</th>\n",
       "      <td>nocare</td>\n",
       "    </tr>\n",
       "    <tr>\n",
       "      <th>557565</th>\n",
       "      <td>nocare</td>\n",
       "    </tr>\n",
       "    <tr>\n",
       "      <th>770316</th>\n",
       "      <td>pax</td>\n",
       "    </tr>\n",
       "    <tr>\n",
       "      <th>323301</th>\n",
       "      <td>pax</td>\n",
       "    </tr>\n",
       "    <tr>\n",
       "      <th>552241</th>\n",
       "      <td>nocare</td>\n",
       "    </tr>\n",
       "    <tr>\n",
       "      <th>122221</th>\n",
       "      <td>prorus</td>\n",
       "    </tr>\n",
       "    <tr>\n",
       "      <th>608322</th>\n",
       "      <td>prorus</td>\n",
       "    </tr>\n",
       "    <tr>\n",
       "      <th>809782</th>\n",
       "      <td>prorus</td>\n",
       "    </tr>\n",
       "    <tr>\n",
       "      <th>615951</th>\n",
       "      <td>nocare</td>\n",
       "    </tr>\n",
       "    <tr>\n",
       "      <th>573793</th>\n",
       "      <td>proukr</td>\n",
       "    </tr>\n",
       "    <tr>\n",
       "      <th>325516</th>\n",
       "      <td>pax</td>\n",
       "    </tr>\n",
       "    <tr>\n",
       "      <th>215009</th>\n",
       "      <td>prorus</td>\n",
       "    </tr>\n",
       "    <tr>\n",
       "      <th>497891</th>\n",
       "      <td>prorus</td>\n",
       "    </tr>\n",
       "    <tr>\n",
       "      <th>551290</th>\n",
       "      <td>pax</td>\n",
       "    </tr>\n",
       "    <tr>\n",
       "      <th>263089</th>\n",
       "      <td>nocare</td>\n",
       "    </tr>\n",
       "    <tr>\n",
       "      <th>921770</th>\n",
       "      <td>prorus</td>\n",
       "    </tr>\n",
       "    <tr>\n",
       "      <th>234549</th>\n",
       "      <td>prorus</td>\n",
       "    </tr>\n",
       "    <tr>\n",
       "      <th>399389</th>\n",
       "      <td>prorus</td>\n",
       "    </tr>\n",
       "    <tr>\n",
       "      <th>509123</th>\n",
       "      <td>proukr</td>\n",
       "    </tr>\n",
       "    <tr>\n",
       "      <th>900139</th>\n",
       "      <td>pax</td>\n",
       "    </tr>\n",
       "    <tr>\n",
       "      <th>217233</th>\n",
       "      <td>proukr</td>\n",
       "    </tr>\n",
       "    <tr>\n",
       "      <th>398309</th>\n",
       "      <td>pax</td>\n",
       "    </tr>\n",
       "    <tr>\n",
       "      <th>883520</th>\n",
       "      <td>pax</td>\n",
       "    </tr>\n",
       "    <tr>\n",
       "      <th>465536</th>\n",
       "      <td>pax</td>\n",
       "    </tr>\n",
       "    <tr>\n",
       "      <th>919117</th>\n",
       "      <td>pax</td>\n",
       "    </tr>\n",
       "    <tr>\n",
       "      <th>457506</th>\n",
       "      <td>pax</td>\n",
       "    </tr>\n",
       "    <tr>\n",
       "      <th>740276</th>\n",
       "      <td>nocare</td>\n",
       "    </tr>\n",
       "    <tr>\n",
       "      <th>602437</th>\n",
       "      <td>nocare</td>\n",
       "    </tr>\n",
       "    <tr>\n",
       "      <th>901616</th>\n",
       "      <td>pax</td>\n",
       "    </tr>\n",
       "    <tr>\n",
       "      <th>859935</th>\n",
       "      <td>nocare</td>\n",
       "    </tr>\n",
       "    <tr>\n",
       "      <th>487256</th>\n",
       "      <td>pax</td>\n",
       "    </tr>\n",
       "    <tr>\n",
       "      <th>744944</th>\n",
       "      <td>proukr</td>\n",
       "    </tr>\n",
       "    <tr>\n",
       "      <th>519145</th>\n",
       "      <td>proukr</td>\n",
       "    </tr>\n",
       "    <tr>\n",
       "      <th>716479</th>\n",
       "      <td>nocare</td>\n",
       "    </tr>\n",
       "    <tr>\n",
       "      <th>281153</th>\n",
       "      <td>pax</td>\n",
       "    </tr>\n",
       "    <tr>\n",
       "      <th>458076</th>\n",
       "      <td>prorus</td>\n",
       "    </tr>\n",
       "    <tr>\n",
       "      <th>540733</th>\n",
       "      <td>pax</td>\n",
       "    </tr>\n",
       "    <tr>\n",
       "      <th>624860</th>\n",
       "      <td>pax</td>\n",
       "    </tr>\n",
       "    <tr>\n",
       "      <th>975882</th>\n",
       "      <td>prorus</td>\n",
       "    </tr>\n",
       "    <tr>\n",
       "      <th>111374</th>\n",
       "      <td>pax</td>\n",
       "    </tr>\n",
       "    <tr>\n",
       "      <th>675160</th>\n",
       "      <td>nocare</td>\n",
       "    </tr>\n",
       "    <tr>\n",
       "      <th>584533</th>\n",
       "      <td>prorus</td>\n",
       "    </tr>\n",
       "    <tr>\n",
       "      <th>745202</th>\n",
       "      <td>prorus</td>\n",
       "    </tr>\n",
       "    <tr>\n",
       "      <th>127979</th>\n",
       "      <td>prorus</td>\n",
       "    </tr>\n",
       "    <tr>\n",
       "      <th>285706</th>\n",
       "      <td>proukr</td>\n",
       "    </tr>\n",
       "    <tr>\n",
       "      <th>655091</th>\n",
       "      <td>nocare</td>\n",
       "    </tr>\n",
       "    <tr>\n",
       "      <th>942735</th>\n",
       "      <td>proukr</td>\n",
       "    </tr>\n",
       "    <tr>\n",
       "      <th>300687</th>\n",
       "      <td>pax</td>\n",
       "    </tr>\n",
       "    <tr>\n",
       "      <th>980803</th>\n",
       "      <td>proukr</td>\n",
       "    </tr>\n",
       "    <tr>\n",
       "      <th>227193</th>\n",
       "      <td>prorus</td>\n",
       "    </tr>\n",
       "  </tbody>\n",
       "</table>\n",
       "</div>"
      ],
      "text/plain": [
       "         class\n",
       "id            \n",
       "644126  nocare\n",
       "557565  nocare\n",
       "770316     pax\n",
       "323301     pax\n",
       "552241  nocare\n",
       "122221  prorus\n",
       "608322  prorus\n",
       "809782  prorus\n",
       "615951  nocare\n",
       "573793  proukr\n",
       "325516     pax\n",
       "215009  prorus\n",
       "497891  prorus\n",
       "551290     pax\n",
       "263089  nocare\n",
       "921770  prorus\n",
       "234549  prorus\n",
       "399389  prorus\n",
       "509123  proukr\n",
       "900139     pax\n",
       "217233  proukr\n",
       "398309     pax\n",
       "883520     pax\n",
       "465536     pax\n",
       "919117     pax\n",
       "457506     pax\n",
       "740276  nocare\n",
       "602437  nocare\n",
       "901616     pax\n",
       "859935  nocare\n",
       "487256     pax\n",
       "744944  proukr\n",
       "519145  proukr\n",
       "716479  nocare\n",
       "281153     pax\n",
       "458076  prorus\n",
       "540733     pax\n",
       "624860     pax\n",
       "975882  prorus\n",
       "111374     pax\n",
       "675160  nocare\n",
       "584533  prorus\n",
       "745202  prorus\n",
       "127979  prorus\n",
       "285706  proukr\n",
       "655091  nocare\n",
       "942735  proukr\n",
       "300687     pax\n",
       "980803  proukr\n",
       "227193  prorus"
      ]
     },
     "execution_count": 13,
     "metadata": {},
     "output_type": "execute_result"
    }
   ],
   "source": [
    "M.df"
   ]
  },
  {
   "cell_type": "code",
   "execution_count": 14,
   "id": "ac546b05",
   "metadata": {},
   "outputs": [
    {
     "data": {
      "text/plain": [
       "[{'id': 230617, 'from': 497891, 'to': 227193},\n",
       " {'id': 698281, 'from': 234549, 'to': 399389},\n",
       " {'id': 394809, 'from': 921770, 'to': 227193},\n",
       " {'id': 985802, 'from': 457506, 'to': 217233},\n",
       " {'id': 580061, 'from': 883520, 'to': 675160},\n",
       " {'id': 445395, 'from': 901616, 'to': 655091},\n",
       " {'id': 770452, 'from': 323301, 'to': 716479},\n",
       " {'id': 783866, 'from': 300687, 'to': 901616},\n",
       " {'id': 332609, 'from': 557565, 'to': 552241},\n",
       " {'id': 146036, 'from': 919117, 'to': 644126},\n",
       " {'id': 692732, 'from': 980803, 'to': 644126},\n",
       " {'id': 881162, 'from': 557565, 'to': 859935},\n",
       " {'id': 935853, 'from': 921770, 'to': 644126},\n",
       " {'id': 865718, 'from': 552241, 'to': 127979},\n",
       " {'id': 837030, 'from': 465536, 'to': 399389},\n",
       " {'id': 665031, 'from': 458076, 'to': 323301},\n",
       " {'id': 466571, 'from': 457506, 'to': 122221},\n",
       " {'id': 935906, 'from': 584533, 'to': 215009},\n",
       " {'id': 954170, 'from': 509123, 'to': 215009},\n",
       " {'id': 337197, 'from': 552241, 'to': 111374},\n",
       " {'id': 962456, 'from': 281153, 'to': 323301},\n",
       " {'id': 643225, 'from': 809782, 'to': 509123},\n",
       " {'id': 363093, 'from': 215009, 'to': 551290},\n",
       " {'id': 319498, 'from': 901616, 'to': 127979},\n",
       " {'id': 622175, 'from': 655091, 'to': 602437},\n",
       " {'id': 161281, 'from': 263089, 'to': 602437},\n",
       " {'id': 445598, 'from': 900139, 'to': 323301},\n",
       " {'id': 981228, 'from': 740276, 'to': 519145},\n",
       " {'id': 633858, 'from': 263089, 'to': 919117},\n",
       " {'id': 445418, 'from': 227193, 'to': 901616},\n",
       " {'id': 736617, 'from': 675160, 'to': 900139},\n",
       " {'id': 573513, 'from': 227193, 'to': 919117},\n",
       " {'id': 653038, 'from': 551290, 'to': 770316},\n",
       " {'id': 433153, 'from': 325516, 'to': 457506},\n",
       " {'id': 402406, 'from': 122221, 'to': 557565},\n",
       " {'id': 814263, 'from': 615951, 'to': 716479},\n",
       " {'id': 319433, 'from': 744944, 'to': 552241},\n",
       " {'id': 937888, 'from': 127979, 'to': 465536},\n",
       " {'id': 427883, 'from': 509123, 'to': 675160},\n",
       " {'id': 447528, 'from': 883520, 'to': 584533},\n",
       " {'id': 428825, 'from': 602437, 'to': 809782},\n",
       " {'id': 209915, 'from': 901616, 'to': 770316},\n",
       " {'id': 503994, 'from': 127979, 'to': 540733},\n",
       " {'id': 358605, 'from': 900139, 'to': 127979},\n",
       " {'id': 425188, 'from': 584533, 'to': 325516},\n",
       " {'id': 945886, 'from': 465536, 'to': 740276},\n",
       " {'id': 280530, 'from': 919117, 'to': 497891},\n",
       " {'id': 167429, 'from': 573793, 'to': 509123},\n",
       " {'id': 726771, 'from': 883520, 'to': 458076},\n",
       " {'id': 979926, 'from': 323301, 'to': 584533},\n",
       " {'id': 154267, 'from': 323301, 'to': 399389},\n",
       " {'id': 373829, 'from': 540733, 'to': 398309},\n",
       " {'id': 487308, 'from': 557565, 'to': 465536},\n",
       " {'id': 536286, 'from': 809782, 'to': 300687},\n",
       " {'id': 380238, 'from': 573793, 'to': 883520},\n",
       " {'id': 438577, 'from': 716479, 'to': 399389},\n",
       " {'id': 484331, 'from': 744944, 'to': 552241},\n",
       " {'id': 827391, 'from': 300687, 'to': 215009},\n",
       " {'id': 307925, 'from': 458076, 'to': 975882},\n",
       " {'id': 440954, 'from': 740276, 'to': 624860},\n",
       " {'id': 180207, 'from': 584533, 'to': 540733},\n",
       " {'id': 117132, 'from': 215009, 'to': 127979},\n",
       " {'id': 561694, 'from': 745202, 'to': 655091},\n",
       " {'id': 714542, 'from': 901616, 'to': 716479},\n",
       " {'id': 791885, 'from': 398309, 'to': 457506},\n",
       " {'id': 757933, 'from': 942735, 'to': 457506},\n",
       " {'id': 289124, 'from': 602437, 'to': 644126},\n",
       " {'id': 275287, 'from': 770316, 'to': 234549},\n",
       " {'id': 912023, 'from': 770316, 'to': 227193},\n",
       " {'id': 571705, 'from': 399389, 'to': 398309},\n",
       " {'id': 970171, 'from': 122221, 'to': 584533},\n",
       " {'id': 872555, 'from': 399389, 'to': 465536},\n",
       " {'id': 868190, 'from': 519145, 'to': 551290},\n",
       " {'id': 995234, 'from': 509123, 'to': 942735},\n",
       " {'id': 917189, 'from': 615951, 'to': 399389},\n",
       " {'id': 184302, 'from': 584533, 'to': 458076},\n",
       " {'id': 571136, 'from': 584533, 'to': 740276},\n",
       " {'id': 320954, 'from': 624860, 'to': 675160},\n",
       " {'id': 383371, 'from': 398309, 'to': 900139},\n",
       " {'id': 822918, 'from': 458076, 'to': 740276},\n",
       " {'id': 949535, 'from': 227193, 'to': 744944},\n",
       " {'id': 441377, 'from': 919117, 'to': 497891},\n",
       " {'id': 295350, 'from': 655091, 'to': 644126},\n",
       " {'id': 410139, 'from': 975882, 'to': 744944},\n",
       " {'id': 446056, 'from': 900139, 'to': 509123},\n",
       " {'id': 525158, 'from': 745202, 'to': 770316},\n",
       " {'id': 198542, 'from': 540733, 'to': 919117},\n",
       " {'id': 822470, 'from': 584533, 'to': 740276},\n",
       " {'id': 870157, 'from': 497891, 'to': 457506},\n",
       " {'id': 779304, 'from': 859935, 'to': 584533},\n",
       " {'id': 971538, 'from': 980803, 'to': 557565},\n",
       " {'id': 391613, 'from': 519145, 'to': 457506},\n",
       " {'id': 208166, 'from': 285706, 'to': 745202},\n",
       " {'id': 812189, 'from': 552241, 'to': 457506},\n",
       " {'id': 719456, 'from': 655091, 'to': 127979},\n",
       " {'id': 433750, 'from': 859935, 'to': 675160},\n",
       " {'id': 977206, 'from': 859935, 'to': 465536},\n",
       " {'id': 774486, 'from': 540733, 'to': 608322},\n",
       " {'id': 990594, 'from': 644126, 'to': 519145},\n",
       " {'id': 157205, 'from': 859935, 'to': 557565},\n",
       " {'id': 542155, 'from': 744944, 'to': 215009},\n",
       " {'id': 534669, 'from': 323301, 'to': 398309},\n",
       " {'id': 630596, 'from': 465536, 'to': 323301},\n",
       " {'id': 567790, 'from': 551290, 'to': 615951},\n",
       " {'id': 650155, 'from': 234549, 'to': 281153},\n",
       " {'id': 126453, 'from': 655091, 'to': 399389},\n",
       " {'id': 801012, 'from': 215009, 'to': 457506},\n",
       " {'id': 409293, 'from': 980803, 'to': 263089},\n",
       " {'id': 369125, 'from': 509123, 'to': 552241},\n",
       " {'id': 595056, 'from': 675160, 'to': 234549},\n",
       " {'id': 934156, 'from': 127979, 'to': 770316},\n",
       " {'id': 213421, 'from': 497891, 'to': 551290},\n",
       " {'id': 142385, 'from': 584533, 'to': 615951},\n",
       " {'id': 515491, 'from': 644126, 'to': 975882},\n",
       " {'id': 882177, 'from': 655091, 'to': 921770},\n",
       " {'id': 735379, 'from': 497891, 'to': 551290},\n",
       " {'id': 118247, 'from': 901616, 'to': 980803},\n",
       " {'id': 990732, 'from': 300687, 'to': 883520},\n",
       " {'id': 653013, 'from': 644126, 'to': 675160},\n",
       " {'id': 253453, 'from': 234549, 'to': 551290},\n",
       " {'id': 704958, 'from': 557565, 'to': 552241},\n",
       " {'id': 453902, 'from': 900139, 'to': 234549},\n",
       " {'id': 829593, 'from': 217233, 'to': 285706},\n",
       " {'id': 367087, 'from': 234549, 'to': 573793},\n",
       " {'id': 572714, 'from': 975882, 'to': 551290},\n",
       " {'id': 305299, 'from': 557565, 'to': 323301},\n",
       " {'id': 336146, 'from': 883520, 'to': 457506},\n",
       " {'id': 447959, 'from': 644126, 'to': 519145},\n",
       " {'id': 446279, 'from': 655091, 'to': 217233},\n",
       " {'id': 178574, 'from': 263089, 'to': 398309},\n",
       " {'id': 154074, 'from': 323301, 'to': 859935},\n",
       " {'id': 471438, 'from': 552241, 'to': 300687},\n",
       " {'id': 157870, 'from': 921770, 'to': 325516},\n",
       " {'id': 753378, 'from': 519145, 'to': 624860},\n",
       " {'id': 700031, 'from': 942735, 'to': 281153},\n",
       " {'id': 984496, 'from': 716479, 'to': 325516},\n",
       " {'id': 363409, 'from': 519145, 'to': 745202},\n",
       " {'id': 867163, 'from': 921770, 'to': 398309},\n",
       " {'id': 680278, 'from': 615951, 'to': 122221},\n",
       " {'id': 106830, 'from': 497891, 'to': 263089},\n",
       " {'id': 396026, 'from': 584533, 'to': 716479},\n",
       " {'id': 164833, 'from': 557565, 'to': 300687},\n",
       " {'id': 763193, 'from': 465536, 'to': 497891},\n",
       " {'id': 596400, 'from': 111374, 'to': 325516},\n",
       " {'id': 272259, 'from': 919117, 'to': 770316},\n",
       " {'id': 732139, 'from': 608322, 'to': 509123},\n",
       " {'id': 548673, 'from': 215009, 'to': 127979},\n",
       " {'id': 812313, 'from': 919117, 'to': 975882},\n",
       " {'id': 114040, 'from': 540733, 'to': 217233},\n",
       " {'id': 816632, 'from': 285706, 'to': 980803}]"
      ]
     },
     "execution_count": 14,
     "metadata": {},
     "output_type": "execute_result"
    }
   ],
   "source": [
    "M.edges\n"
   ]
  },
  {
   "cell_type": "markdown",
   "id": "4c5fd165",
   "metadata": {},
   "source": [
    "# prove hashtag\n"
   ]
  },
  {
   "cell_type": "code",
   "execution_count": 1,
   "id": "b1d520a9",
   "metadata": {},
   "outputs": [],
   "source": [
    "from extract import SocialETL, Count \n",
    "import pandas as pd"
   ]
  },
  {
   "cell_type": "code",
   "execution_count": 11,
   "id": "0dec358a",
   "metadata": {},
   "outputs": [],
   "source": [
    "##eurovision##"
   ]
  },
  {
   "cell_type": "code",
   "execution_count": 2,
   "id": "cad44897",
   "metadata": {},
   "outputs": [
    {
     "data": {
      "application/vnd.jupyter.widget-view+json": {
       "model_id": "3659b96acbc44b1ea9dc5875406242a8",
       "version_major": 2,
       "version_minor": 0
      },
      "text/plain": [
       "Output()"
      ]
     },
     "metadata": {},
     "output_type": "display_data"
    },
    {
     "name": "stdout",
     "output_type": "stream",
     "text": [
      "Reading secret from C:\\Users\\Giulia\\ds-network-analysis\\data\\my_secrets.yaml…\n"
     ]
    },
    {
     "data": {
      "text/html": [
       "<pre style=\"white-space:pre;overflow-x:auto;line-height:normal;font-family:Menlo,'DejaVu Sans Mono',consolas,'Courier New',monospace\"></pre>\n"
      ],
      "text/plain": []
     },
     "metadata": {},
     "output_type": "display_data"
    },
    {
     "data": {
      "text/html": [
       "<pre style=\"white-space:pre;overflow-x:auto;line-height:normal;font-family:Menlo,'DejaVu Sans Mono',consolas,'Courier New',monospace\">\n",
       "</pre>\n"
      ],
      "text/plain": [
       "\n"
      ]
     },
     "metadata": {},
     "output_type": "display_data"
    },
    {
     "name": "stdout",
     "output_type": "stream",
     "text": [
      "Count(query='#eurovision2022 lang:en', df=pd.DataFrame, count=169251)\n"
     ]
    }
   ],
   "source": [
    "c1=Count(query='#eurovision2022 lang:en') \n",
    "print(c1)"
   ]
  },
  {
   "cell_type": "code",
   "execution_count": 3,
   "id": "a72e47ed",
   "metadata": {},
   "outputs": [
    {
     "data": {
      "application/vnd.jupyter.widget-view+json": {
       "model_id": "bfcb6c2297f5475a8233f0b7ec45be45",
       "version_major": 2,
       "version_minor": 0
      },
      "text/plain": [
       "Output()"
      ]
     },
     "metadata": {},
     "output_type": "display_data"
    },
    {
     "name": "stdout",
     "output_type": "stream",
     "text": [
      "Reading secret from C:\\Users\\Giulia\\ds-network-analysis\\data\\my_secrets.yaml…\n"
     ]
    },
    {
     "data": {
      "text/html": [
       "<pre style=\"white-space:pre;overflow-x:auto;line-height:normal;font-family:Menlo,'DejaVu Sans Mono',consolas,'Courier New',monospace\"></pre>\n"
      ],
      "text/plain": []
     },
     "metadata": {},
     "output_type": "display_data"
    },
    {
     "data": {
      "text/html": [
       "<pre style=\"white-space:pre;overflow-x:auto;line-height:normal;font-family:Menlo,'DejaVu Sans Mono',consolas,'Courier New',monospace\">\n",
       "</pre>\n"
      ],
      "text/plain": [
       "\n"
      ]
     },
     "metadata": {},
     "output_type": "display_data"
    },
    {
     "name": "stdout",
     "output_type": "stream",
     "text": [
      "Count(query='#eurovision lang:en', df=pd.DataFrame, count=2281273)\n"
     ]
    }
   ],
   "source": [
    "c1=Count(query='#eurovision lang:en') \n",
    "print(c1)"
   ]
  },
  {
   "cell_type": "code",
   "execution_count": null,
   "id": "b50c5844",
   "metadata": {},
   "outputs": [],
   "source": []
  },
  {
   "cell_type": "code",
   "execution_count": 10,
   "id": "7dd0f37d",
   "metadata": {},
   "outputs": [],
   "source": [
    "##GRAMMYs##"
   ]
  },
  {
   "cell_type": "code",
   "execution_count": 4,
   "id": "dbd801ea",
   "metadata": {},
   "outputs": [
    {
     "data": {
      "application/vnd.jupyter.widget-view+json": {
       "model_id": "55d2d1e1fffb473e8133cbc1a8249404",
       "version_major": 2,
       "version_minor": 0
      },
      "text/plain": [
       "Output()"
      ]
     },
     "metadata": {},
     "output_type": "display_data"
    },
    {
     "name": "stdout",
     "output_type": "stream",
     "text": [
      "Reading secret from C:\\Users\\Giulia\\ds-network-analysis\\data\\my_secrets.yaml…\n"
     ]
    },
    {
     "data": {
      "text/html": [
       "<pre style=\"white-space:pre;overflow-x:auto;line-height:normal;font-family:Menlo,'DejaVu Sans Mono',consolas,'Courier New',monospace\"></pre>\n"
      ],
      "text/plain": []
     },
     "metadata": {},
     "output_type": "display_data"
    },
    {
     "data": {
      "text/html": [
       "<pre style=\"white-space:pre;overflow-x:auto;line-height:normal;font-family:Menlo,'DejaVu Sans Mono',consolas,'Courier New',monospace\">\n",
       "</pre>\n"
      ],
      "text/plain": [
       "\n"
      ]
     },
     "metadata": {},
     "output_type": "display_data"
    },
    {
     "name": "stdout",
     "output_type": "stream",
     "text": [
      "Count(query='#GRAMMYs lang:en', df=pd.DataFrame, count=9001217)\n"
     ]
    }
   ],
   "source": [
    "c1=Count(query='#GRAMMYs lang:en') \n",
    "print(c1)"
   ]
  },
  {
   "cell_type": "code",
   "execution_count": 12,
   "id": "7cd53ee5",
   "metadata": {},
   "outputs": [],
   "source": [
    "##JohnnyDepp##"
   ]
  },
  {
   "cell_type": "code",
   "execution_count": 5,
   "id": "efeeaeb5",
   "metadata": {},
   "outputs": [
    {
     "data": {
      "application/vnd.jupyter.widget-view+json": {
       "model_id": "b8ec125e6e8643359b7162d5bf390822",
       "version_major": 2,
       "version_minor": 0
      },
      "text/plain": [
       "Output()"
      ]
     },
     "metadata": {},
     "output_type": "display_data"
    },
    {
     "name": "stdout",
     "output_type": "stream",
     "text": [
      "Reading secret from C:\\Users\\Giulia\\ds-network-analysis\\data\\my_secrets.yaml…\n"
     ]
    },
    {
     "data": {
      "text/html": [
       "<pre style=\"white-space:pre;overflow-x:auto;line-height:normal;font-family:Menlo,'DejaVu Sans Mono',consolas,'Courier New',monospace\"></pre>\n"
      ],
      "text/plain": []
     },
     "metadata": {},
     "output_type": "display_data"
    },
    {
     "data": {
      "text/html": [
       "<pre style=\"white-space:pre;overflow-x:auto;line-height:normal;font-family:Menlo,'DejaVu Sans Mono',consolas,'Courier New',monospace\">\n",
       "</pre>\n"
      ],
      "text/plain": [
       "\n"
      ]
     },
     "metadata": {},
     "output_type": "display_data"
    },
    {
     "name": "stdout",
     "output_type": "stream",
     "text": [
      "Count(query='#JusticeForJohnnyDepp lang:en', df=pd.DataFrame, count=3528450)\n"
     ]
    }
   ],
   "source": [
    "c1=Count(query='#JusticeForJohnnyDepp lang:en') \n",
    "print(c1)"
   ]
  },
  {
   "cell_type": "code",
   "execution_count": null,
   "id": "4ad60801",
   "metadata": {},
   "outputs": [],
   "source": [
    "##strangerthings##"
   ]
  },
  {
   "cell_type": "code",
   "execution_count": 6,
   "id": "21a34645",
   "metadata": {},
   "outputs": [
    {
     "data": {
      "application/vnd.jupyter.widget-view+json": {
       "model_id": "9f19816d121c4ff9877d85d55ffed61c",
       "version_major": 2,
       "version_minor": 0
      },
      "text/plain": [
       "Output()"
      ]
     },
     "metadata": {},
     "output_type": "display_data"
    },
    {
     "name": "stdout",
     "output_type": "stream",
     "text": [
      "Reading secret from C:\\Users\\Giulia\\ds-network-analysis\\data\\my_secrets.yaml…\n"
     ]
    },
    {
     "data": {
      "text/html": [
       "<pre style=\"white-space:pre;overflow-x:auto;line-height:normal;font-family:Menlo,'DejaVu Sans Mono',consolas,'Courier New',monospace\"></pre>\n"
      ],
      "text/plain": []
     },
     "metadata": {},
     "output_type": "display_data"
    },
    {
     "data": {
      "text/html": [
       "<pre style=\"white-space:pre;overflow-x:auto;line-height:normal;font-family:Menlo,'DejaVu Sans Mono',consolas,'Courier New',monospace\">\n",
       "</pre>\n"
      ],
      "text/plain": [
       "\n"
      ]
     },
     "metadata": {},
     "output_type": "display_data"
    },
    {
     "name": "stdout",
     "output_type": "stream",
     "text": [
      "Count(query='#strangerthings lang:en', df=pd.DataFrame, count=1220307)\n"
     ]
    }
   ],
   "source": [
    "c1=Count(query='#strangerthings lang:en') \n",
    "print(c1)"
   ]
  },
  {
   "cell_type": "code",
   "execution_count": 7,
   "id": "da180201",
   "metadata": {},
   "outputs": [
    {
     "data": {
      "application/vnd.jupyter.widget-view+json": {
       "model_id": "7a183c20be7840dea4e64169ff9366af",
       "version_major": 2,
       "version_minor": 0
      },
      "text/plain": [
       "Output()"
      ]
     },
     "metadata": {},
     "output_type": "display_data"
    },
    {
     "name": "stdout",
     "output_type": "stream",
     "text": [
      "Reading secret from C:\\Users\\Giulia\\ds-network-analysis\\data\\my_secrets.yaml…\n"
     ]
    },
    {
     "data": {
      "text/html": [
       "<pre style=\"white-space:pre;overflow-x:auto;line-height:normal;font-family:Menlo,'DejaVu Sans Mono',consolas,'Courier New',monospace\"></pre>\n"
      ],
      "text/plain": []
     },
     "metadata": {},
     "output_type": "display_data"
    },
    {
     "data": {
      "text/html": [
       "<pre style=\"white-space:pre;overflow-x:auto;line-height:normal;font-family:Menlo,'DejaVu Sans Mono',consolas,'Courier New',monospace\">\n",
       "</pre>\n"
      ],
      "text/plain": [
       "\n"
      ]
     },
     "metadata": {},
     "output_type": "display_data"
    },
    {
     "name": "stdout",
     "output_type": "stream",
     "text": [
      "Count(query='#strangerthings4 lang:en', df=pd.DataFrame, count=1791100)\n"
     ]
    }
   ],
   "source": [
    "c1=Count(query='#strangerthings4 lang:en') \n",
    "print(c1)"
   ]
  },
  {
   "cell_type": "code",
   "execution_count": 14,
   "id": "1f9d807b",
   "metadata": {},
   "outputs": [],
   "source": [
    "##covid##"
   ]
  },
  {
   "cell_type": "code",
   "execution_count": 13,
   "id": "082f85d6",
   "metadata": {},
   "outputs": [
    {
     "data": {
      "application/vnd.jupyter.widget-view+json": {
       "model_id": "26751c83114041288763904490602d37",
       "version_major": 2,
       "version_minor": 0
      },
      "text/plain": [
       "Output()"
      ]
     },
     "metadata": {},
     "output_type": "display_data"
    },
    {
     "name": "stdout",
     "output_type": "stream",
     "text": [
      "Reading secret from C:\\Users\\Giulia\\ds-network-analysis\\data\\my_secrets.yaml…\n"
     ]
    },
    {
     "data": {
      "text/html": [
       "<pre style=\"white-space:pre;overflow-x:auto;line-height:normal;font-family:Menlo,'DejaVu Sans Mono',consolas,'Courier New',monospace\"></pre>\n"
      ],
      "text/plain": []
     },
     "metadata": {},
     "output_type": "display_data"
    },
    {
     "data": {
      "text/html": [
       "<pre style=\"white-space:pre;overflow-x:auto;line-height:normal;font-family:Menlo,'DejaVu Sans Mono',consolas,'Courier New',monospace\">\n",
       "</pre>\n"
      ],
      "text/plain": [
       "\n"
      ]
     },
     "metadata": {},
     "output_type": "display_data"
    },
    {
     "name": "stdout",
     "output_type": "stream",
     "text": [
      "Count(query='#covid lang:en', df=pd.DataFrame, count=1285906)\n"
     ]
    }
   ],
   "source": [
    "c1=Count(query='#covid lang:en') \n",
    "print(c1)"
   ]
  },
  {
   "cell_type": "code",
   "execution_count": null,
   "id": "344058ff",
   "metadata": {},
   "outputs": [],
   "source": [
    "##oscar##"
   ]
  },
  {
   "cell_type": "code",
   "execution_count": 15,
   "id": "5f2a9bfe",
   "metadata": {},
   "outputs": [
    {
     "data": {
      "application/vnd.jupyter.widget-view+json": {
       "model_id": "058e4fa870064902befe1da71c9c0b31",
       "version_major": 2,
       "version_minor": 0
      },
      "text/plain": [
       "Output()"
      ]
     },
     "metadata": {},
     "output_type": "display_data"
    },
    {
     "name": "stdout",
     "output_type": "stream",
     "text": [
      "Reading secret from C:\\Users\\Giulia\\ds-network-analysis\\data\\my_secrets.yaml…\n"
     ]
    },
    {
     "data": {
      "text/html": [
       "<pre style=\"white-space:pre;overflow-x:auto;line-height:normal;font-family:Menlo,'DejaVu Sans Mono',consolas,'Courier New',monospace\"></pre>\n"
      ],
      "text/plain": []
     },
     "metadata": {},
     "output_type": "display_data"
    },
    {
     "data": {
      "text/html": [
       "<pre style=\"white-space:pre;overflow-x:auto;line-height:normal;font-family:Menlo,'DejaVu Sans Mono',consolas,'Courier New',monospace\">\n",
       "</pre>\n"
      ],
      "text/plain": [
       "\n"
      ]
     },
     "metadata": {},
     "output_type": "display_data"
    },
    {
     "name": "stdout",
     "output_type": "stream",
     "text": [
      "Count(query='#Oscars lang:en', df=pd.DataFrame, count=3721856)\n"
     ]
    }
   ],
   "source": [
    "c1=Count(query='#Oscars lang:en') \n",
    "print(c1)"
   ]
  },
  {
   "cell_type": "code",
   "execution_count": 16,
   "id": "5cc24405",
   "metadata": {},
   "outputs": [
    {
     "data": {
      "application/vnd.jupyter.widget-view+json": {
       "model_id": "0cf7abb2d100481b982addb2cdac374d",
       "version_major": 2,
       "version_minor": 0
      },
      "text/plain": [
       "Output()"
      ]
     },
     "metadata": {},
     "output_type": "display_data"
    },
    {
     "name": "stdout",
     "output_type": "stream",
     "text": [
      "Reading secret from C:\\Users\\Giulia\\ds-network-analysis\\data\\my_secrets.yaml…\n"
     ]
    },
    {
     "data": {
      "text/html": [
       "<pre style=\"white-space:pre;overflow-x:auto;line-height:normal;font-family:Menlo,'DejaVu Sans Mono',consolas,'Courier New',monospace\"></pre>\n"
      ],
      "text/plain": []
     },
     "metadata": {},
     "output_type": "display_data"
    },
    {
     "data": {
      "text/html": [
       "<pre style=\"white-space:pre;overflow-x:auto;line-height:normal;font-family:Menlo,'DejaVu Sans Mono',consolas,'Courier New',monospace\">\n",
       "</pre>\n"
      ],
      "text/plain": [
       "\n"
      ]
     },
     "metadata": {},
     "output_type": "display_data"
    },
    {
     "name": "stdout",
     "output_type": "stream",
     "text": [
      "Count(query='#oscars22 lang:en', df=pd.DataFrame, count=1091)\n"
     ]
    }
   ],
   "source": [
    "c1=Count(query='#oscars22 lang:en') \n",
    "print(c1)"
   ]
  },
  {
   "cell_type": "code",
   "execution_count": 17,
   "id": "1a6a25e8",
   "metadata": {},
   "outputs": [
    {
     "data": {
      "application/vnd.jupyter.widget-view+json": {
       "model_id": "b8d9d8749c3a4d4088896891a6317e98",
       "version_major": 2,
       "version_minor": 0
      },
      "text/plain": [
       "Output()"
      ]
     },
     "metadata": {},
     "output_type": "display_data"
    },
    {
     "name": "stdout",
     "output_type": "stream",
     "text": [
      "Reading secret from C:\\Users\\Giulia\\ds-network-analysis\\data\\my_secrets.yaml…\n"
     ]
    },
    {
     "data": {
      "text/html": [
       "<pre style=\"white-space:pre;overflow-x:auto;line-height:normal;font-family:Menlo,'DejaVu Sans Mono',consolas,'Courier New',monospace\"></pre>\n"
      ],
      "text/plain": []
     },
     "metadata": {},
     "output_type": "display_data"
    },
    {
     "data": {
      "text/html": [
       "<pre style=\"white-space:pre;overflow-x:auto;line-height:normal;font-family:Menlo,'DejaVu Sans Mono',consolas,'Courier New',monospace\">\n",
       "</pre>\n"
      ],
      "text/plain": [
       "\n"
      ]
     },
     "metadata": {},
     "output_type": "display_data"
    },
    {
     "name": "stdout",
     "output_type": "stream",
     "text": [
      "Count(query='#oscars2022 lang:en', df=pd.DataFrame, count=460052)\n"
     ]
    }
   ],
   "source": [
    "c1=Count(query='#oscars2022 lang:en') \n",
    "print(c1)"
   ]
  },
  {
   "cell_type": "code",
   "execution_count": null,
   "id": "33e0fbfd",
   "metadata": {},
   "outputs": [],
   "source": [
    "##tennis##"
   ]
  },
  {
   "cell_type": "code",
   "execution_count": 18,
   "id": "e4bd7570",
   "metadata": {},
   "outputs": [
    {
     "data": {
      "application/vnd.jupyter.widget-view+json": {
       "model_id": "b5c877bf1e9b473b9d5bf5d53c3ae410",
       "version_major": 2,
       "version_minor": 0
      },
      "text/plain": [
       "Output()"
      ]
     },
     "metadata": {},
     "output_type": "display_data"
    },
    {
     "name": "stdout",
     "output_type": "stream",
     "text": [
      "Reading secret from C:\\Users\\Giulia\\ds-network-analysis\\data\\my_secrets.yaml…\n"
     ]
    },
    {
     "data": {
      "text/html": [
       "<pre style=\"white-space:pre;overflow-x:auto;line-height:normal;font-family:Menlo,'DejaVu Sans Mono',consolas,'Courier New',monospace\"></pre>\n"
      ],
      "text/plain": []
     },
     "metadata": {},
     "output_type": "display_data"
    },
    {
     "data": {
      "text/html": [
       "<pre style=\"white-space:pre;overflow-x:auto;line-height:normal;font-family:Menlo,'DejaVu Sans Mono',consolas,'Courier New',monospace\">\n",
       "</pre>\n"
      ],
      "text/plain": [
       "\n"
      ]
     },
     "metadata": {},
     "output_type": "display_data"
    },
    {
     "name": "stdout",
     "output_type": "stream",
     "text": [
      "Count(query='#rolandgarros lang:en', df=pd.DataFrame, count=649088)\n"
     ]
    }
   ],
   "source": [
    "c1=Count(query='#rolandgarros lang:en') \n",
    "print(c1)"
   ]
  },
  {
   "cell_type": "code",
   "execution_count": 26,
   "id": "c53c81bf",
   "metadata": {},
   "outputs": [
    {
     "data": {
      "application/vnd.jupyter.widget-view+json": {
       "model_id": "f779067872554f2ab7e20db9be278280",
       "version_major": 2,
       "version_minor": 0
      },
      "text/plain": [
       "Output()"
      ]
     },
     "metadata": {},
     "output_type": "display_data"
    },
    {
     "name": "stdout",
     "output_type": "stream",
     "text": [
      "Reading secret from C:\\Users\\Giulia\\ds-network-analysis\\data\\my_secrets.yaml…\n"
     ]
    },
    {
     "data": {
      "text/html": [
       "<pre style=\"white-space:pre;overflow-x:auto;line-height:normal;font-family:Menlo,'DejaVu Sans Mono',consolas,'Courier New',monospace\"></pre>\n"
      ],
      "text/plain": []
     },
     "metadata": {},
     "output_type": "display_data"
    },
    {
     "data": {
      "text/html": [
       "<pre style=\"white-space:pre;overflow-x:auto;line-height:normal;font-family:Menlo,'DejaVu Sans Mono',consolas,'Courier New',monospace\">\n",
       "</pre>\n"
      ],
      "text/plain": [
       "\n"
      ]
     },
     "metadata": {},
     "output_type": "display_data"
    },
    {
     "name": "stdout",
     "output_type": "stream",
     "text": [
      "Count(query='#wimbledon lang:en', df=pd.DataFrame, count=41156)\n"
     ]
    }
   ],
   "source": [
    "c1=Count(query='#wimbledon lang:en') \n",
    "print(c1)"
   ]
  },
  {
   "cell_type": "code",
   "execution_count": null,
   "id": "556c84b5",
   "metadata": {},
   "outputs": [],
   "source": [
    "##personaggi##"
   ]
  },
  {
   "cell_type": "code",
   "execution_count": 27,
   "id": "81af802f",
   "metadata": {},
   "outputs": [
    {
     "data": {
      "application/vnd.jupyter.widget-view+json": {
       "model_id": "74ff8679510341d58522997625a250ab",
       "version_major": 2,
       "version_minor": 0
      },
      "text/plain": [
       "Output()"
      ]
     },
     "metadata": {},
     "output_type": "display_data"
    },
    {
     "name": "stdout",
     "output_type": "stream",
     "text": [
      "Reading secret from C:\\Users\\Giulia\\ds-network-analysis\\data\\my_secrets.yaml…\n"
     ]
    },
    {
     "data": {
      "text/html": [
       "<pre style=\"white-space:pre;overflow-x:auto;line-height:normal;font-family:Menlo,'DejaVu Sans Mono',consolas,'Courier New',monospace\"></pre>\n"
      ],
      "text/plain": []
     },
     "metadata": {},
     "output_type": "display_data"
    },
    {
     "data": {
      "text/html": [
       "<pre style=\"white-space:pre;overflow-x:auto;line-height:normal;font-family:Menlo,'DejaVu Sans Mono',consolas,'Courier New',monospace\">\n",
       "</pre>\n"
      ],
      "text/plain": [
       "\n"
      ]
     },
     "metadata": {},
     "output_type": "display_data"
    },
    {
     "name": "stdout",
     "output_type": "stream",
     "text": [
      "Count(query='#elonmusk lang:en', df=pd.DataFrame, count=2216939)\n"
     ]
    }
   ],
   "source": [
    "c1=Count(query='#elonmusk lang:en') \n",
    "print(c1)"
   ]
  },
  {
   "cell_type": "code",
   "execution_count": null,
   "id": "bcd096b2",
   "metadata": {},
   "outputs": [],
   "source": []
  },
  {
   "cell_type": "code",
   "execution_count": 19,
   "id": "b3975c08",
   "metadata": {},
   "outputs": [],
   "source": [
    "##musica##"
   ]
  },
  {
   "cell_type": "code",
   "execution_count": 20,
   "id": "e6b0aec1",
   "metadata": {},
   "outputs": [
    {
     "data": {
      "application/vnd.jupyter.widget-view+json": {
       "model_id": "62b376226d1045869b7a0b4f6859f483",
       "version_major": 2,
       "version_minor": 0
      },
      "text/plain": [
       "Output()"
      ]
     },
     "metadata": {},
     "output_type": "display_data"
    },
    {
     "name": "stdout",
     "output_type": "stream",
     "text": [
      "Reading secret from C:\\Users\\Giulia\\ds-network-analysis\\data\\my_secrets.yaml…\n"
     ]
    },
    {
     "data": {
      "text/html": [
       "<pre style=\"white-space:pre;overflow-x:auto;line-height:normal;font-family:Menlo,'DejaVu Sans Mono',consolas,'Courier New',monospace\"></pre>\n"
      ],
      "text/plain": []
     },
     "metadata": {},
     "output_type": "display_data"
    },
    {
     "data": {
      "text/html": [
       "<pre style=\"white-space:pre;overflow-x:auto;line-height:normal;font-family:Menlo,'DejaVu Sans Mono',consolas,'Courier New',monospace\">\n",
       "</pre>\n"
      ],
      "text/plain": [
       "\n"
      ]
     },
     "metadata": {},
     "output_type": "display_data"
    },
    {
     "name": "stdout",
     "output_type": "stream",
     "text": [
      "Count(query='#justinbieber lang:en', df=pd.DataFrame, count=163332)\n"
     ]
    }
   ],
   "source": [
    "c1=Count(query='#justinbieber lang:en') \n",
    "print(c1)"
   ]
  },
  {
   "cell_type": "code",
   "execution_count": 21,
   "id": "58eae528",
   "metadata": {},
   "outputs": [
    {
     "data": {
      "application/vnd.jupyter.widget-view+json": {
       "model_id": "3e6e3c301fb04bdfbbfcec108f7ac1c2",
       "version_major": 2,
       "version_minor": 0
      },
      "text/plain": [
       "Output()"
      ]
     },
     "metadata": {},
     "output_type": "display_data"
    },
    {
     "name": "stdout",
     "output_type": "stream",
     "text": [
      "Reading secret from C:\\Users\\Giulia\\ds-network-analysis\\data\\my_secrets.yaml…\n"
     ]
    },
    {
     "data": {
      "text/html": [
       "<pre style=\"white-space:pre;overflow-x:auto;line-height:normal;font-family:Menlo,'DejaVu Sans Mono',consolas,'Courier New',monospace\"></pre>\n"
      ],
      "text/plain": []
     },
     "metadata": {},
     "output_type": "display_data"
    },
    {
     "data": {
      "text/html": [
       "<pre style=\"white-space:pre;overflow-x:auto;line-height:normal;font-family:Menlo,'DejaVu Sans Mono',consolas,'Courier New',monospace\">\n",
       "</pre>\n"
      ],
      "text/plain": [
       "\n"
      ]
     },
     "metadata": {},
     "output_type": "display_data"
    },
    {
     "name": "stdout",
     "output_type": "stream",
     "text": [
      "Count(query='#JustinBieber lang:en', df=pd.DataFrame, count=162905)\n"
     ]
    }
   ],
   "source": [
    "c1=Count(query='#JustinBieber lang:en') \n",
    "print(c1)"
   ]
  },
  {
   "cell_type": "code",
   "execution_count": 25,
   "id": "2970abf9",
   "metadata": {},
   "outputs": [
    {
     "data": {
      "application/vnd.jupyter.widget-view+json": {
       "model_id": "7d729596521e40cba970466d716493d7",
       "version_major": 2,
       "version_minor": 0
      },
      "text/plain": [
       "Output()"
      ]
     },
     "metadata": {},
     "output_type": "display_data"
    },
    {
     "name": "stdout",
     "output_type": "stream",
     "text": [
      "Reading secret from C:\\Users\\Giulia\\ds-network-analysis\\data\\my_secrets.yaml…\n"
     ]
    },
    {
     "data": {
      "text/html": [
       "<pre style=\"white-space:pre;overflow-x:auto;line-height:normal;font-family:Menlo,'DejaVu Sans Mono',consolas,'Courier New',monospace\"></pre>\n"
      ],
      "text/plain": []
     },
     "metadata": {},
     "output_type": "display_data"
    },
    {
     "data": {
      "text/html": [
       "<pre style=\"white-space:pre;overflow-x:auto;line-height:normal;font-family:Menlo,'DejaVu Sans Mono',consolas,'Courier New',monospace\">\n",
       "</pre>\n"
      ],
      "text/plain": [
       "\n"
      ]
     },
     "metadata": {},
     "output_type": "display_data"
    },
    {
     "name": "stdout",
     "output_type": "stream",
     "text": [
      "Count(query='#europeanmusic lang:en', df=pd.DataFrame, count=200)\n"
     ]
    }
   ],
   "source": [
    "c1=Count(query='#europeanmusic lang:en') \n",
    "print(c1)"
   ]
  },
  {
   "cell_type": "code",
   "execution_count": 22,
   "id": "142c3e8c",
   "metadata": {},
   "outputs": [],
   "source": [
    "##pride##"
   ]
  },
  {
   "cell_type": "code",
   "execution_count": 23,
   "id": "18b0af4a",
   "metadata": {},
   "outputs": [
    {
     "data": {
      "application/vnd.jupyter.widget-view+json": {
       "model_id": "92ca2f1e0b234d239ee743127ae5c6b2",
       "version_major": 2,
       "version_minor": 0
      },
      "text/plain": [
       "Output()"
      ]
     },
     "metadata": {},
     "output_type": "display_data"
    },
    {
     "name": "stdout",
     "output_type": "stream",
     "text": [
      "Reading secret from C:\\Users\\Giulia\\ds-network-analysis\\data\\my_secrets.yaml…\n"
     ]
    },
    {
     "data": {
      "text/html": [
       "<pre style=\"white-space:pre;overflow-x:auto;line-height:normal;font-family:Menlo,'DejaVu Sans Mono',consolas,'Courier New',monospace\"></pre>\n"
      ],
      "text/plain": []
     },
     "metadata": {},
     "output_type": "display_data"
    },
    {
     "data": {
      "text/html": [
       "<pre style=\"white-space:pre;overflow-x:auto;line-height:normal;font-family:Menlo,'DejaVu Sans Mono',consolas,'Courier New',monospace\">\n",
       "</pre>\n"
      ],
      "text/plain": [
       "\n"
      ]
     },
     "metadata": {},
     "output_type": "display_data"
    },
    {
     "name": "stdout",
     "output_type": "stream",
     "text": [
      "Count(query='#pridemonth lang:en', df=pd.DataFrame, count=1147502)\n"
     ]
    }
   ],
   "source": [
    "c1=Count(query='#pridemonth lang:en') \n",
    "print(c1)"
   ]
  },
  {
   "cell_type": "code",
   "execution_count": 24,
   "id": "990caf68",
   "metadata": {},
   "outputs": [
    {
     "data": {
      "application/vnd.jupyter.widget-view+json": {
       "model_id": "c82b87ede73645d8a3f461c488597db3",
       "version_major": 2,
       "version_minor": 0
      },
      "text/plain": [
       "Output()"
      ]
     },
     "metadata": {},
     "output_type": "display_data"
    },
    {
     "name": "stdout",
     "output_type": "stream",
     "text": [
      "Reading secret from C:\\Users\\Giulia\\ds-network-analysis\\data\\my_secrets.yaml…\n"
     ]
    },
    {
     "data": {
      "text/html": [
       "<pre style=\"white-space:pre;overflow-x:auto;line-height:normal;font-family:Menlo,'DejaVu Sans Mono',consolas,'Courier New',monospace\"></pre>\n"
      ],
      "text/plain": []
     },
     "metadata": {},
     "output_type": "display_data"
    },
    {
     "data": {
      "text/html": [
       "<pre style=\"white-space:pre;overflow-x:auto;line-height:normal;font-family:Menlo,'DejaVu Sans Mono',consolas,'Courier New',monospace\">\n",
       "</pre>\n"
      ],
      "text/plain": [
       "\n"
      ]
     },
     "metadata": {},
     "output_type": "display_data"
    },
    {
     "name": "stdout",
     "output_type": "stream",
     "text": [
      "Count(query='#loveislove lang:en', df=pd.DataFrame, count=146554)\n"
     ]
    }
   ],
   "source": [
    "c1=Count(query='#loveislove lang:en') \n",
    "print(c1)"
   ]
  },
  {
   "cell_type": "code",
   "execution_count": 28,
   "id": "6c52142f",
   "metadata": {},
   "outputs": [
    {
     "data": {
      "application/vnd.jupyter.widget-view+json": {
       "model_id": "6be41326c67a41108229d39a4a5df71e",
       "version_major": 2,
       "version_minor": 0
      },
      "text/plain": [
       "Output()"
      ]
     },
     "metadata": {},
     "output_type": "display_data"
    },
    {
     "name": "stdout",
     "output_type": "stream",
     "text": [
      "Reading secret from C:\\Users\\Giulia\\ds-network-analysis\\data\\my_secrets.yaml…\n"
     ]
    },
    {
     "data": {
      "text/html": [
       "<pre style=\"white-space:pre;overflow-x:auto;line-height:normal;font-family:Menlo,'DejaVu Sans Mono',consolas,'Courier New',monospace\"></pre>\n"
      ],
      "text/plain": []
     },
     "metadata": {},
     "output_type": "display_data"
    },
    {
     "data": {
      "text/html": [
       "<pre style=\"white-space:pre;overflow-x:auto;line-height:normal;font-family:Menlo,'DejaVu Sans Mono',consolas,'Courier New',monospace\">\n",
       "</pre>\n"
      ],
      "text/plain": [
       "\n"
      ]
     },
     "metadata": {},
     "output_type": "display_data"
    },
    {
     "name": "stdout",
     "output_type": "stream",
     "text": [
      "Count(query='#pride lang:en', df=pd.DataFrame, count=1209941)\n"
     ]
    }
   ],
   "source": [
    "c1=Count(query='#pride lang:en') \n",
    "print(c1)"
   ]
  },
  {
   "cell_type": "code",
   "execution_count": 29,
   "id": "59dd3493",
   "metadata": {},
   "outputs": [
    {
     "data": {
      "application/vnd.jupyter.widget-view+json": {
       "model_id": "9a972d90802d4c088d13549a5c279788",
       "version_major": 2,
       "version_minor": 0
      },
      "text/plain": [
       "Output()"
      ]
     },
     "metadata": {},
     "output_type": "display_data"
    },
    {
     "name": "stdout",
     "output_type": "stream",
     "text": [
      "Reading secret from C:\\Users\\Giulia\\ds-network-analysis\\data\\my_secrets.yaml…\n"
     ]
    },
    {
     "data": {
      "text/html": [
       "<pre style=\"white-space:pre;overflow-x:auto;line-height:normal;font-family:Menlo,'DejaVu Sans Mono',consolas,'Courier New',monospace\"></pre>\n"
      ],
      "text/plain": []
     },
     "metadata": {},
     "output_type": "display_data"
    },
    {
     "data": {
      "text/html": [
       "<pre style=\"white-space:pre;overflow-x:auto;line-height:normal;font-family:Menlo,'DejaVu Sans Mono',consolas,'Courier New',monospace\">\n",
       "</pre>\n"
      ],
      "text/plain": [
       "\n"
      ]
     },
     "metadata": {},
     "output_type": "display_data"
    },
    {
     "name": "stdout",
     "output_type": "stream",
     "text": [
      "Count(query='#lgbt lang:en', df=pd.DataFrame, count=421459)\n"
     ]
    }
   ],
   "source": [
    "c1=Count(query='#lgbt lang:en') \n",
    "print(c1)"
   ]
  },
  {
   "cell_type": "code",
   "execution_count": null,
   "id": "b9fe1b22",
   "metadata": {},
   "outputs": [],
   "source": []
  },
  {
   "cell_type": "code",
   "execution_count": null,
   "id": "0ce6a51e",
   "metadata": {},
   "outputs": [],
   "source": []
  },
  {
   "cell_type": "code",
   "execution_count": null,
   "id": "c2339a38",
   "metadata": {},
   "outputs": [],
   "source": []
  },
  {
   "cell_type": "code",
   "execution_count": null,
   "id": "4a0ddc25",
   "metadata": {},
   "outputs": [],
   "source": []
  },
  {
   "cell_type": "code",
   "execution_count": null,
   "id": "49c05567",
   "metadata": {},
   "outputs": [],
   "source": []
  },
  {
   "cell_type": "code",
   "execution_count": null,
   "id": "33a5cd8b",
   "metadata": {},
   "outputs": [],
   "source": []
  },
  {
   "cell_type": "code",
   "execution_count": null,
   "id": "755ef9e6",
   "metadata": {},
   "outputs": [],
   "source": []
  },
  {
   "cell_type": "code",
   "execution_count": null,
   "id": "66083467",
   "metadata": {},
   "outputs": [],
   "source": []
  },
  {
   "cell_type": "code",
   "execution_count": null,
   "id": "208f1079",
   "metadata": {},
   "outputs": [],
   "source": []
  },
  {
   "cell_type": "code",
   "execution_count": null,
   "id": "5866120a",
   "metadata": {},
   "outputs": [],
   "source": []
  },
  {
   "cell_type": "code",
   "execution_count": 3,
   "id": "2b6c1a40",
   "metadata": {},
   "outputs": [
    {
     "data": {
      "application/vnd.jupyter.widget-view+json": {
       "model_id": "b34ddbab01174a34876a9835cf57a3db",
       "version_major": 2,
       "version_minor": 0
      },
      "text/plain": [
       "Output()"
      ]
     },
     "metadata": {},
     "output_type": "display_data"
    },
    {
     "name": "stdout",
     "output_type": "stream",
     "text": [
      "Reading secret from /Users/giuli/Desktop/ds-network-analysis/data/my_secrets.yaml…\n"
     ]
    },
    {
     "data": {
      "text/html": [
       "<pre style=\"white-space:pre;overflow-x:auto;line-height:normal;font-family:Menlo,'DejaVu Sans Mono',consolas,'Courier New',monospace\"></pre>\n"
      ],
      "text/plain": []
     },
     "metadata": {},
     "output_type": "display_data"
    },
    {
     "data": {
      "text/html": [
       "<pre style=\"white-space:pre;overflow-x:auto;line-height:normal;font-family:Menlo,'DejaVu Sans Mono',consolas,'Courier New',monospace\">\n",
       "</pre>\n"
      ],
      "text/plain": [
       "\n"
      ]
     },
     "metadata": {},
     "output_type": "display_data"
    },
    {
     "data": {
      "text/html": [
       "<pre style=\"white-space:pre;overflow-x:auto;line-height:normal;font-family:Menlo,'DejaVu Sans Mono',consolas,'Courier New',monospace\"><span style=\"color: #008080; text-decoration-color: #008080; font-weight: bold\">500</span> tweets retrieved.\n",
       "</pre>\n"
      ],
      "text/plain": [
       "\u001b[1;36m500\u001b[0m tweets retrieved.\n"
      ]
     },
     "metadata": {},
     "output_type": "display_data"
    },
    {
     "data": {
      "text/html": [
       "<pre style=\"white-space:pre;overflow-x:auto;line-height:normal;font-family:Menlo,'DejaVu Sans Mono',consolas,'Courier New',monospace\"><span style=\"color: #008080; text-decoration-color: #008080; font-weight: bold\">0</span>      <span style=\"font-weight: bold\">[{</span><span style=\"color: #008000; text-decoration-color: #008000\">\"start\"</span>: <span style=\"color: #008080; text-decoration-color: #008080; font-weight: bold\">25</span>, <span style=\"color: #008000; text-decoration-color: #008000\">\"end\"</span>: <span style=\"color: #008080; text-decoration-color: #008080; font-weight: bold\">36</span>, <span style=\"color: #008000; text-decoration-color: #008000\">\"tag\"</span>: <span style=\"color: #008000; text-decoration-color: #008000\">\"Ukrainewar\"</span><span style=\"font-weight: bold\">}</span><span style=\"color: #808000; text-decoration-color: #808000\">...</span>\n",
       "<span style=\"color: #008080; text-decoration-color: #008080; font-weight: bold\">1</span>      <span style=\"font-weight: bold\">[{</span><span style=\"color: #008000; text-decoration-color: #008000\">\"start\"</span>: <span style=\"color: #008080; text-decoration-color: #008080; font-weight: bold\">82</span>, <span style=\"color: #008000; text-decoration-color: #008000\">\"end\"</span>: <span style=\"color: #008080; text-decoration-color: #008080; font-weight: bold\">93</span>, <span style=\"color: #008000; text-decoration-color: #008000\">\"tag\"</span>: <span style=\"color: #008000; text-decoration-color: #008000\">\"UkraineWar\"</span><span style=\"font-weight: bold\">}</span><span style=\"color: #808000; text-decoration-color: #808000\">...</span>\n",
       "<span style=\"color: #008080; text-decoration-color: #008080; font-weight: bold\">2</span>      <span style=\"font-weight: bold\">[{</span><span style=\"color: #008000; text-decoration-color: #008000\">\"start\"</span>: <span style=\"color: #008080; text-decoration-color: #008080; font-weight: bold\">128</span>, <span style=\"color: #008000; text-decoration-color: #008000\">\"end\"</span>: <span style=\"color: #008080; text-decoration-color: #008080; font-weight: bold\">132</span>, <span style=\"color: #008000; text-decoration-color: #008000\">\"tag\"</span>: <span style=\"color: #008000; text-decoration-color: #008000\">\"ISW\"</span><span style=\"font-weight: bold\">}</span>, <span style=\"font-weight: bold\">{</span>\"s<span style=\"color: #808000; text-decoration-color: #808000\">...</span>\n",
       "<span style=\"color: #008080; text-decoration-color: #008080; font-weight: bold\">3</span>      <span style=\"font-weight: bold\">[{</span><span style=\"color: #008000; text-decoration-color: #008000\">\"start\"</span>: <span style=\"color: #008080; text-decoration-color: #008080; font-weight: bold\">70</span>, <span style=\"color: #008000; text-decoration-color: #008000\">\"end\"</span>: <span style=\"color: #008080; text-decoration-color: #008080; font-weight: bold\">82</span>, <span style=\"color: #008000; text-decoration-color: #008000\">\"tag\"</span>: <span style=\"color: #008000; text-decoration-color: #008000\">\"UkraineArmy\"</span><span style=\"color: #808000; text-decoration-color: #808000\">...</span>\n",
       "<span style=\"color: #008080; text-decoration-color: #008080; font-weight: bold\">4</span>      <span style=\"font-weight: bold\">[{</span><span style=\"color: #008000; text-decoration-color: #008000\">\"start\"</span>: <span style=\"color: #008080; text-decoration-color: #008080; font-weight: bold\">66</span>, <span style=\"color: #008000; text-decoration-color: #008000\">\"end\"</span>: <span style=\"color: #008080; text-decoration-color: #008080; font-weight: bold\">74</span>, <span style=\"color: #008000; text-decoration-color: #008000\">\"tag\"</span>: <span style=\"color: #008000; text-decoration-color: #008000\">\"Kherson\"</span><span style=\"font-weight: bold\">}</span>, <span style=\"font-weight: bold\">{</span><span style=\"color: #808000; text-decoration-color: #808000\">...</span>\n",
       "                             <span style=\"color: #808000; text-decoration-color: #808000\">...</span>                        \n",
       "<span style=\"color: #008080; text-decoration-color: #008080; font-weight: bold\">495</span>    <span style=\"font-weight: bold\">[{</span><span style=\"color: #008000; text-decoration-color: #008000\">\"start\"</span>: <span style=\"color: #008080; text-decoration-color: #008080; font-weight: bold\">0</span>, <span style=\"color: #008000; text-decoration-color: #008000\">\"end\"</span>: <span style=\"color: #008080; text-decoration-color: #008080; font-weight: bold\">6</span>, <span style=\"color: #008000; text-decoration-color: #008000\">\"tag\"</span>: <span style=\"color: #008000; text-decoration-color: #008000\">\"Italy\"</span><span style=\"font-weight: bold\">}</span>, <span style=\"font-weight: bold\">{</span>\"sta<span style=\"color: #808000; text-decoration-color: #808000\">...</span>\n",
       "<span style=\"color: #008080; text-decoration-color: #008080; font-weight: bold\">496</span>    <span style=\"font-weight: bold\">[{</span><span style=\"color: #008000; text-decoration-color: #008000\">\"start\"</span>: <span style=\"color: #008080; text-decoration-color: #008080; font-weight: bold\">0</span>, <span style=\"color: #008000; text-decoration-color: #008000\">\"end\"</span>: <span style=\"color: #008080; text-decoration-color: #008080; font-weight: bold\">6</span>, <span style=\"color: #008000; text-decoration-color: #008000\">\"tag\"</span>: <span style=\"color: #008000; text-decoration-color: #008000\">\"Italy\"</span><span style=\"font-weight: bold\">}</span>, <span style=\"font-weight: bold\">{</span>\"sta<span style=\"color: #808000; text-decoration-color: #808000\">...</span>\n",
       "<span style=\"color: #008080; text-decoration-color: #008080; font-weight: bold\">497</span>    <span style=\"font-weight: bold\">[{</span><span style=\"color: #008000; text-decoration-color: #008000\">\"start\"</span>: <span style=\"color: #008080; text-decoration-color: #008080; font-weight: bold\">0</span>, <span style=\"color: #008000; text-decoration-color: #008000\">\"end\"</span>: <span style=\"color: #008080; text-decoration-color: #008080; font-weight: bold\">6</span>, <span style=\"color: #008000; text-decoration-color: #008000\">\"tag\"</span>: <span style=\"color: #008000; text-decoration-color: #008000\">\"Italy\"</span><span style=\"font-weight: bold\">}</span>, <span style=\"font-weight: bold\">{</span>\"sta<span style=\"color: #808000; text-decoration-color: #808000\">...</span>\n",
       "<span style=\"color: #008080; text-decoration-color: #008080; font-weight: bold\">498</span>    <span style=\"font-weight: bold\">[{</span><span style=\"color: #008000; text-decoration-color: #008000\">\"start\"</span>: <span style=\"color: #008080; text-decoration-color: #008080; font-weight: bold\">127</span>, <span style=\"color: #008000; text-decoration-color: #008000\">\"end\"</span>: <span style=\"color: #008080; text-decoration-color: #008080; font-weight: bold\">131</span>, <span style=\"color: #008000; text-decoration-color: #008000\">\"tag\"</span>: <span style=\"color: #008000; text-decoration-color: #008000\">\"NFT\"</span><span style=\"font-weight: bold\">}</span>, <span style=\"font-weight: bold\">{</span>\"s<span style=\"color: #808000; text-decoration-color: #808000\">...</span>\n",
       "<span style=\"color: #008080; text-decoration-color: #008080; font-weight: bold\">499</span>    <span style=\"font-weight: bold\">[{</span><span style=\"color: #008000; text-decoration-color: #008000\">\"start\"</span>: <span style=\"color: #008080; text-decoration-color: #008080; font-weight: bold\">127</span>, <span style=\"color: #008000; text-decoration-color: #008000\">\"end\"</span>: <span style=\"color: #008080; text-decoration-color: #008080; font-weight: bold\">131</span>, <span style=\"color: #008000; text-decoration-color: #008000\">\"tag\"</span>: <span style=\"color: #008000; text-decoration-color: #008000\">\"NFT\"</span><span style=\"font-weight: bold\">}</span>, <span style=\"font-weight: bold\">{</span>\"s<span style=\"color: #808000; text-decoration-color: #808000\">...</span>\n",
       "Name: entities.hashtags, Length: <span style=\"color: #008080; text-decoration-color: #008080; font-weight: bold\">500</span>, dtype: object tweets with at least <span style=\"color: #008080; text-decoration-color: #008080; font-weight: bold\">1</span> hashtag.\n",
       "</pre>\n"
      ],
      "text/plain": [
       "\u001b[1;36m0\u001b[0m      \u001b[1m[\u001b[0m\u001b[1m{\u001b[0m\u001b[32m\"start\"\u001b[0m: \u001b[1;36m25\u001b[0m, \u001b[32m\"end\"\u001b[0m: \u001b[1;36m36\u001b[0m, \u001b[32m\"tag\"\u001b[0m: \u001b[32m\"Ukrainewar\"\u001b[0m\u001b[1m}\u001b[0m\u001b[33m...\u001b[0m\n",
       "\u001b[1;36m1\u001b[0m      \u001b[1m[\u001b[0m\u001b[1m{\u001b[0m\u001b[32m\"start\"\u001b[0m: \u001b[1;36m82\u001b[0m, \u001b[32m\"end\"\u001b[0m: \u001b[1;36m93\u001b[0m, \u001b[32m\"tag\"\u001b[0m: \u001b[32m\"UkraineWar\"\u001b[0m\u001b[1m}\u001b[0m\u001b[33m...\u001b[0m\n",
       "\u001b[1;36m2\u001b[0m      \u001b[1m[\u001b[0m\u001b[1m{\u001b[0m\u001b[32m\"start\"\u001b[0m: \u001b[1;36m128\u001b[0m, \u001b[32m\"end\"\u001b[0m: \u001b[1;36m132\u001b[0m, \u001b[32m\"tag\"\u001b[0m: \u001b[32m\"ISW\"\u001b[0m\u001b[1m}\u001b[0m, \u001b[1m{\u001b[0m\"s\u001b[33m...\u001b[0m\n",
       "\u001b[1;36m3\u001b[0m      \u001b[1m[\u001b[0m\u001b[1m{\u001b[0m\u001b[32m\"start\"\u001b[0m: \u001b[1;36m70\u001b[0m, \u001b[32m\"end\"\u001b[0m: \u001b[1;36m82\u001b[0m, \u001b[32m\"tag\"\u001b[0m: \u001b[32m\"UkraineArmy\"\u001b[0m\u001b[33m...\u001b[0m\n",
       "\u001b[1;36m4\u001b[0m      \u001b[1m[\u001b[0m\u001b[1m{\u001b[0m\u001b[32m\"start\"\u001b[0m: \u001b[1;36m66\u001b[0m, \u001b[32m\"end\"\u001b[0m: \u001b[1;36m74\u001b[0m, \u001b[32m\"tag\"\u001b[0m: \u001b[32m\"Kherson\"\u001b[0m\u001b[1m}\u001b[0m, \u001b[1m{\u001b[0m\u001b[33m...\u001b[0m\n",
       "                             \u001b[33m...\u001b[0m                        \n",
       "\u001b[1;36m495\u001b[0m    \u001b[1m[\u001b[0m\u001b[1m{\u001b[0m\u001b[32m\"start\"\u001b[0m: \u001b[1;36m0\u001b[0m, \u001b[32m\"end\"\u001b[0m: \u001b[1;36m6\u001b[0m, \u001b[32m\"tag\"\u001b[0m: \u001b[32m\"Italy\"\u001b[0m\u001b[1m}\u001b[0m, \u001b[1m{\u001b[0m\"sta\u001b[33m...\u001b[0m\n",
       "\u001b[1;36m496\u001b[0m    \u001b[1m[\u001b[0m\u001b[1m{\u001b[0m\u001b[32m\"start\"\u001b[0m: \u001b[1;36m0\u001b[0m, \u001b[32m\"end\"\u001b[0m: \u001b[1;36m6\u001b[0m, \u001b[32m\"tag\"\u001b[0m: \u001b[32m\"Italy\"\u001b[0m\u001b[1m}\u001b[0m, \u001b[1m{\u001b[0m\"sta\u001b[33m...\u001b[0m\n",
       "\u001b[1;36m497\u001b[0m    \u001b[1m[\u001b[0m\u001b[1m{\u001b[0m\u001b[32m\"start\"\u001b[0m: \u001b[1;36m0\u001b[0m, \u001b[32m\"end\"\u001b[0m: \u001b[1;36m6\u001b[0m, \u001b[32m\"tag\"\u001b[0m: \u001b[32m\"Italy\"\u001b[0m\u001b[1m}\u001b[0m, \u001b[1m{\u001b[0m\"sta\u001b[33m...\u001b[0m\n",
       "\u001b[1;36m498\u001b[0m    \u001b[1m[\u001b[0m\u001b[1m{\u001b[0m\u001b[32m\"start\"\u001b[0m: \u001b[1;36m127\u001b[0m, \u001b[32m\"end\"\u001b[0m: \u001b[1;36m131\u001b[0m, \u001b[32m\"tag\"\u001b[0m: \u001b[32m\"NFT\"\u001b[0m\u001b[1m}\u001b[0m, \u001b[1m{\u001b[0m\"s\u001b[33m...\u001b[0m\n",
       "\u001b[1;36m499\u001b[0m    \u001b[1m[\u001b[0m\u001b[1m{\u001b[0m\u001b[32m\"start\"\u001b[0m: \u001b[1;36m127\u001b[0m, \u001b[32m\"end\"\u001b[0m: \u001b[1;36m131\u001b[0m, \u001b[32m\"tag\"\u001b[0m: \u001b[32m\"NFT\"\u001b[0m\u001b[1m}\u001b[0m, \u001b[1m{\u001b[0m\"s\u001b[33m...\u001b[0m\n",
       "Name: entities.hashtags, Length: \u001b[1;36m500\u001b[0m, dtype: object tweets with at least \u001b[1;36m1\u001b[0m hashtag.\n"
      ]
     },
     "metadata": {},
     "output_type": "display_data"
    }
   ],
   "source": [
    "m = SocialETL(query=\"(#UkraineRussiaWar OR #UkraineWar OR #stopwarinukraine) lang:en\", pages=5, recent=False)\n",
    "print(f\"{m.df['entities.hashtags'].count()} tweets retrieved.\")\n",
    "\n",
    "miao = m.df[[\"id\", \"entities.hashtags\"]].dropna()\n",
    "print(f\"{miao['entities.hashtags']} tweets with at least 1 hashtag.\")\n",
    "\n",
    "miao[\"entities.hashtags\"] = miao[\"entities.hashtags\"].map(eval)\n",
    "\n",
    "miao[\"tags\"] = miao[\"entities.hashtags\"].map(extract_tags)\n",
    "\n",
    "my_results = []\n",
    "\n",
    "tagmadre = {\n",
    "    \"general1\": \"UkraineRussiaWar\",\n",
    "    \"general2\": \"istandwithputin\",\n",
    "    \"pax\": \"stopwarinukraine\",\n",
    "}\n",
    "results = {\"general1\": [], \"general2\": [], \"pax\": []}\n",
    "miaone = {}"
   ]
  },
  {
   "cell_type": "code",
   "execution_count": null,
   "id": "32a41e99",
   "metadata": {},
   "outputs": [],
   "source": []
  },
  {
   "cell_type": "code",
   "execution_count": 4,
   "id": "5329dfc1",
   "metadata": {},
   "outputs": [
    {
     "name": "stderr",
     "output_type": "stream",
     "text": [
      "<ipython-input-4-3180976ebf15>:12: FutureWarning: The default dtype for empty Series will be 'object' instead of 'float64' in a future version. Specify a dtype explicitly to silence this warning.\n",
      "  miaone[category] = pd.Series(value, name=category)\n"
     ]
    },
    {
     "data": {
      "text/html": [
       "<pre style=\"white-space:pre;overflow-x:auto;line-height:normal;font-family:Menlo,'DejaVu Sans Mono',consolas,'Courier New',monospace\"><span style=\"color: #800080; text-decoration-color: #800080; font-weight: bold\">Series</span><span style=\"font-weight: bold\">([]</span>, Name: general1, dtype: float64<span style=\"font-weight: bold\">)</span>\n",
       "</pre>\n"
      ],
      "text/plain": [
       "\u001b[1;35mSeries\u001b[0m\u001b[1m(\u001b[0m\u001b[1m[\u001b[0m\u001b[1m]\u001b[0m, Name: general1, dtype: float64\u001b[1m)\u001b[0m\n"
      ]
     },
     "metadata": {},
     "output_type": "display_data"
    },
    {
     "data": {
      "text/html": [
       "<pre style=\"white-space:pre;overflow-x:auto;line-height:normal;font-family:Menlo,'DejaVu Sans Mono',consolas,'Courier New',monospace\"><span style=\"color: #800080; text-decoration-color: #800080; font-weight: bold\">Series</span><span style=\"font-weight: bold\">([]</span>, Name: general1, dtype: int64<span style=\"font-weight: bold\">)</span>\n",
       "</pre>\n"
      ],
      "text/plain": [
       "\u001b[1;35mSeries\u001b[0m\u001b[1m(\u001b[0m\u001b[1m[\u001b[0m\u001b[1m]\u001b[0m, Name: general1, dtype: int64\u001b[1m)\u001b[0m\n"
      ]
     },
     "metadata": {},
     "output_type": "display_data"
    },
    {
     "name": "stderr",
     "output_type": "stream",
     "text": [
      "<ipython-input-4-3180976ebf15>:12: FutureWarning: The default dtype for empty Series will be 'object' instead of 'float64' in a future version. Specify a dtype explicitly to silence this warning.\n",
      "  miaone[category] = pd.Series(value, name=category)\n"
     ]
    },
    {
     "data": {
      "text/html": [
       "<pre style=\"white-space:pre;overflow-x:auto;line-height:normal;font-family:Menlo,'DejaVu Sans Mono',consolas,'Courier New',monospace\"><span style=\"color: #800080; text-decoration-color: #800080; font-weight: bold\">Series</span><span style=\"font-weight: bold\">([]</span>, Name: general2, dtype: float64<span style=\"font-weight: bold\">)</span>\n",
       "</pre>\n"
      ],
      "text/plain": [
       "\u001b[1;35mSeries\u001b[0m\u001b[1m(\u001b[0m\u001b[1m[\u001b[0m\u001b[1m]\u001b[0m, Name: general2, dtype: float64\u001b[1m)\u001b[0m\n"
      ]
     },
     "metadata": {},
     "output_type": "display_data"
    },
    {
     "data": {
      "text/html": [
       "<pre style=\"white-space:pre;overflow-x:auto;line-height:normal;font-family:Menlo,'DejaVu Sans Mono',consolas,'Courier New',monospace\"><span style=\"color: #800080; text-decoration-color: #800080; font-weight: bold\">Series</span><span style=\"font-weight: bold\">([]</span>, Name: general2, dtype: int64<span style=\"font-weight: bold\">)</span>\n",
       "</pre>\n"
      ],
      "text/plain": [
       "\u001b[1;35mSeries\u001b[0m\u001b[1m(\u001b[0m\u001b[1m[\u001b[0m\u001b[1m]\u001b[0m, Name: general2, dtype: int64\u001b[1m)\u001b[0m\n"
      ]
     },
     "metadata": {},
     "output_type": "display_data"
    },
    {
     "data": {
      "text/html": [
       "<pre style=\"white-space:pre;overflow-x:auto;line-height:normal;font-family:Menlo,'DejaVu Sans Mono',consolas,'Courier New',monospace\"><span style=\"color: #008080; text-decoration-color: #008080; font-weight: bold\">0</span>          ukrainerussianwar\n",
       "<span style=\"color: #008080; text-decoration-color: #008080; font-weight: bold\">1</span>         ukraineunderattaсk\n",
       "<span style=\"color: #008080; text-decoration-color: #008080; font-weight: bold\">2</span>      russiaukraineconflict\n",
       "<span style=\"color: #008080; text-decoration-color: #008080; font-weight: bold\">3</span>              russiaukraine\n",
       "<span style=\"color: #008080; text-decoration-color: #008080; font-weight: bold\">4</span>                    ukraine\n",
       "               <span style=\"color: #808000; text-decoration-color: #808000\">...</span>          \n",
       "<span style=\"color: #008080; text-decoration-color: #008080; font-weight: bold\">165</span>                stopputin\n",
       "<span style=\"color: #008080; text-decoration-color: #008080; font-weight: bold\">166</span>         standwithukraine\n",
       "<span style=\"color: #008080; text-decoration-color: #008080; font-weight: bold\">167</span>       ukraineunderattaсk\n",
       "<span style=\"color: #008080; text-decoration-color: #008080; font-weight: bold\">168</span>     russiainvadedukraine\n",
       "<span style=\"color: #008080; text-decoration-color: #008080; font-weight: bold\">169</span>    stoprussianaggression\n",
       "Name: pax, Length: <span style=\"color: #008080; text-decoration-color: #008080; font-weight: bold\">170</span>, dtype: object\n",
       "</pre>\n"
      ],
      "text/plain": [
       "\u001b[1;36m0\u001b[0m          ukrainerussianwar\n",
       "\u001b[1;36m1\u001b[0m         ukraineunderattaсk\n",
       "\u001b[1;36m2\u001b[0m      russiaukraineconflict\n",
       "\u001b[1;36m3\u001b[0m              russiaukraine\n",
       "\u001b[1;36m4\u001b[0m                    ukraine\n",
       "               \u001b[33m...\u001b[0m          \n",
       "\u001b[1;36m165\u001b[0m                stopputin\n",
       "\u001b[1;36m166\u001b[0m         standwithukraine\n",
       "\u001b[1;36m167\u001b[0m       ukraineunderattaсk\n",
       "\u001b[1;36m168\u001b[0m     russiainvadedukraine\n",
       "\u001b[1;36m169\u001b[0m    stoprussianaggression\n",
       "Name: pax, Length: \u001b[1;36m170\u001b[0m, dtype: object\n"
      ]
     },
     "metadata": {},
     "output_type": "display_data"
    },
    {
     "data": {
      "text/html": [
       "<pre style=\"white-space:pre;overflow-x:auto;line-height:normal;font-family:Menlo,'DejaVu Sans Mono',consolas,'Courier New',monospace\">stopwarinukraine         <span style=\"color: #008080; text-decoration-color: #008080; font-weight: bold\">24</span>\n",
       "ukraine                  <span style=\"color: #008080; text-decoration-color: #008080; font-weight: bold\">16</span>\n",
       "ukraineunderattaсk       <span style=\"color: #008080; text-decoration-color: #008080; font-weight: bold\">14</span>\n",
       "russiainvadedukraine     <span style=\"color: #008080; text-decoration-color: #008080; font-weight: bold\">13</span>\n",
       "warinukraine             <span style=\"color: #008080; text-decoration-color: #008080; font-weight: bold\">13</span>\n",
       "stoprussianaggression    <span style=\"color: #008080; text-decoration-color: #008080; font-weight: bold\">13</span>\n",
       "standwithukraine         <span style=\"color: #008080; text-decoration-color: #008080; font-weight: bold\">13</span>\n",
       "stopputin                <span style=\"color: #008080; text-decoration-color: #008080; font-weight: bold\">13</span>\n",
       "helpukraine              <span style=\"color: #008080; text-decoration-color: #008080; font-weight: bold\">13</span>\n",
       "nft                      <span style=\"color: #008080; text-decoration-color: #008080; font-weight: bold\">13</span>\n",
       "putin                     <span style=\"color: #008080; text-decoration-color: #008080; font-weight: bold\">2</span>\n",
       "putinhitler               <span style=\"color: #008080; text-decoration-color: #008080; font-weight: bold\">1</span>\n",
       "putinhuilo                <span style=\"color: #008080; text-decoration-color: #008080; font-weight: bold\">1</span>\n",
       "putinukraine              <span style=\"color: #008080; text-decoration-color: #008080; font-weight: bold\">1</span>\n",
       "slavaukraine              <span style=\"color: #008080; text-decoration-color: #008080; font-weight: bold\">1</span>\n",
       "stoprussianwar            <span style=\"color: #008080; text-decoration-color: #008080; font-weight: bold\">1</span>\n",
       "stoprashizm               <span style=\"color: #008080; text-decoration-color: #008080; font-weight: bold\">1</span>\n",
       "saveukraine               <span style=\"color: #008080; text-decoration-color: #008080; font-weight: bold\">1</span>\n",
       "saveukrainiankids         <span style=\"color: #008080; text-decoration-color: #008080; font-weight: bold\">1</span>\n",
       "severodonetsk             <span style=\"color: #008080; text-decoration-color: #008080; font-weight: bold\">1</span>\n",
       "stoprussianow             <span style=\"color: #008080; text-decoration-color: #008080; font-weight: bold\">1</span>\n",
       "russia                    <span style=\"color: #008080; text-decoration-color: #008080; font-weight: bold\">1</span>\n",
       "ukrainerussianwar         <span style=\"color: #008080; text-decoration-color: #008080; font-weight: bold\">1</span>\n",
       "orcs                      <span style=\"color: #008080; text-decoration-color: #008080; font-weight: bold\">1</span>\n",
       "stopputinnow              <span style=\"color: #008080; text-decoration-color: #008080; font-weight: bold\">1</span>\n",
       "stopwar                   <span style=\"color: #008080; text-decoration-color: #008080; font-weight: bold\">1</span>\n",
       "nowar                     <span style=\"color: #008080; text-decoration-color: #008080; font-weight: bold\">1</span>\n",
       "azovstal                  <span style=\"color: #008080; text-decoration-color: #008080; font-weight: bold\">1</span>\n",
       "erdogan                   <span style=\"color: #008080; text-decoration-color: #008080; font-weight: bold\">1</span>\n",
       "zelenskyy                 <span style=\"color: #008080; text-decoration-color: #008080; font-weight: bold\">1</span>\n",
       "bucha                     <span style=\"color: #008080; text-decoration-color: #008080; font-weight: bold\">1</span>\n",
       "russiaukraine             <span style=\"color: #008080; text-decoration-color: #008080; font-weight: bold\">1</span>\n",
       "russiaukraineconflict     <span style=\"color: #008080; text-decoration-color: #008080; font-weight: bold\">1</span>\n",
       "putinwarcriminal          <span style=\"color: #008080; text-decoration-color: #008080; font-weight: bold\">1</span>\n",
       "Name: pax, dtype: int64\n",
       "</pre>\n"
      ],
      "text/plain": [
       "stopwarinukraine         \u001b[1;36m24\u001b[0m\n",
       "ukraine                  \u001b[1;36m16\u001b[0m\n",
       "ukraineunderattaсk       \u001b[1;36m14\u001b[0m\n",
       "russiainvadedukraine     \u001b[1;36m13\u001b[0m\n",
       "warinukraine             \u001b[1;36m13\u001b[0m\n",
       "stoprussianaggression    \u001b[1;36m13\u001b[0m\n",
       "standwithukraine         \u001b[1;36m13\u001b[0m\n",
       "stopputin                \u001b[1;36m13\u001b[0m\n",
       "helpukraine              \u001b[1;36m13\u001b[0m\n",
       "nft                      \u001b[1;36m13\u001b[0m\n",
       "putin                     \u001b[1;36m2\u001b[0m\n",
       "putinhitler               \u001b[1;36m1\u001b[0m\n",
       "putinhuilo                \u001b[1;36m1\u001b[0m\n",
       "putinukraine              \u001b[1;36m1\u001b[0m\n",
       "slavaukraine              \u001b[1;36m1\u001b[0m\n",
       "stoprussianwar            \u001b[1;36m1\u001b[0m\n",
       "stoprashizm               \u001b[1;36m1\u001b[0m\n",
       "saveukraine               \u001b[1;36m1\u001b[0m\n",
       "saveukrainiankids         \u001b[1;36m1\u001b[0m\n",
       "severodonetsk             \u001b[1;36m1\u001b[0m\n",
       "stoprussianow             \u001b[1;36m1\u001b[0m\n",
       "russia                    \u001b[1;36m1\u001b[0m\n",
       "ukrainerussianwar         \u001b[1;36m1\u001b[0m\n",
       "orcs                      \u001b[1;36m1\u001b[0m\n",
       "stopputinnow              \u001b[1;36m1\u001b[0m\n",
       "stopwar                   \u001b[1;36m1\u001b[0m\n",
       "nowar                     \u001b[1;36m1\u001b[0m\n",
       "azovstal                  \u001b[1;36m1\u001b[0m\n",
       "erdogan                   \u001b[1;36m1\u001b[0m\n",
       "zelenskyy                 \u001b[1;36m1\u001b[0m\n",
       "bucha                     \u001b[1;36m1\u001b[0m\n",
       "russiaukraine             \u001b[1;36m1\u001b[0m\n",
       "russiaukraineconflict     \u001b[1;36m1\u001b[0m\n",
       "putinwarcriminal          \u001b[1;36m1\u001b[0m\n",
       "Name: pax, dtype: int64\n"
      ]
     },
     "metadata": {},
     "output_type": "display_data"
    }
   ],
   "source": [
    "for _, riga in miao.iterrows():\n",
    "    if tagmadre[\"general1\"] in riga[\"tags\"]:\n",
    "        #        results = [tag for tag in riga[\"tags\"]]\n",
    "        #        for tag in riga[\"tags\"]:\n",
    "        #            results.append(tag)\n",
    "        results[\"general1\"].extend([tag for tag in riga[\"tags\"]])\n",
    "    elif tagmadre[\"general2\"] in riga[\"tags\"]:\n",
    "        results[\"general2\"].extend([tag for tag in riga[\"tags\"]])\n",
    "    elif tagmadre[\"pax\"] in riga[\"tags\"]:\n",
    "        results[\"pax\"].extend([tag for tag in riga[\"tags\"]])\n",
    "for category, value in results.items():\n",
    "    miaone[category] = pd.Series(value, name=category)\n",
    "    print(miaone[category])\n",
    "    print(miaone[category].value_counts())"
   ]
  },
  {
   "cell_type": "code",
   "execution_count": null,
   "id": "e978830a",
   "metadata": {},
   "outputs": [],
   "source": []
  }
 ],
 "metadata": {
  "kernelspec": {
   "display_name": "Python 3 (ipykernel)",
   "language": "python",
   "name": "python3"
  },
  "language_info": {
   "codemirror_mode": {
    "name": "ipython",
    "version": 3
   },
   "file_extension": ".py",
   "mimetype": "text/x-python",
   "name": "python",
   "nbconvert_exporter": "python",
   "pygments_lexer": "ipython3",
   "version": "3.10.5"
  }
 },
 "nbformat": 4,
 "nbformat_minor": 5
}
