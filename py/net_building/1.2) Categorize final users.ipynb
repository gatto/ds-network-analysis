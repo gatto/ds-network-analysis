{
 "cells": [
  {
   "cell_type": "code",
   "execution_count": 7,
   "id": "a572a66c",
   "metadata": {},
   "outputs": [],
   "source": [
    "import pandas as pd\n",
    "from extract import CategorizeUsers\n",
    "from rich import print\n",
    "import random\n",
    "from pathlib import Path\n",
    "import json\n",
    "\n",
    "# set paths\n",
    "my_saving_dir = Path.cwd() / \"categorizing_dicts\""
   ]
  },
  {
   "cell_type": "code",
   "execution_count": 8,
   "id": "3a0eb593",
   "metadata": {},
   "outputs": [],
   "source": [
    "df = pd.read_csv(\"df_nodes.csv\")"
   ]
  },
  {
   "cell_type": "code",
   "execution_count": 9,
   "id": "c692460d",
   "metadata": {},
   "outputs": [],
   "source": [
    "df = df.drop(columns=df.columns[0])"
   ]
  },
  {
   "cell_type": "code",
   "execution_count": 10,
   "id": "ebdceb18",
   "metadata": {
    "scrolled": true
   },
   "outputs": [
    {
     "data": {
      "text/html": [
       "<div>\n",
       "<style scoped>\n",
       "    .dataframe tbody tr th:only-of-type {\n",
       "        vertical-align: middle;\n",
       "    }\n",
       "\n",
       "    .dataframe tbody tr th {\n",
       "        vertical-align: top;\n",
       "    }\n",
       "\n",
       "    .dataframe thead th {\n",
       "        text-align: right;\n",
       "    }\n",
       "</style>\n",
       "<table border=\"1\" class=\"dataframe\">\n",
       "  <thead>\n",
       "    <tr style=\"text-align: right;\">\n",
       "      <th></th>\n",
       "      <th>user_id</th>\n",
       "      <th>tweet_id</th>\n",
       "      <th>retweet_id</th>\n",
       "      <th>hashtag</th>\n",
       "      <th>location</th>\n",
       "      <th>verified</th>\n",
       "    </tr>\n",
       "  </thead>\n",
       "  <tbody>\n",
       "    <tr>\n",
       "      <th>0</th>\n",
       "      <td>1007449601400541184</td>\n",
       "      <td>1503521257177948170</td>\n",
       "      <td>278369814</td>\n",
       "      <td>['putin', 'slavaukraini']</td>\n",
       "      <td>Mobile, AL</td>\n",
       "      <td>False</td>\n",
       "    </tr>\n",
       "    <tr>\n",
       "      <th>1</th>\n",
       "      <td>1464582321533767695</td>\n",
       "      <td>1503521249850363904</td>\n",
       "      <td>291496884</td>\n",
       "      <td>['stopputin', 'stopwar', 'stopwarinukraine']</td>\n",
       "      <td>NaN</td>\n",
       "      <td>False</td>\n",
       "    </tr>\n",
       "    <tr>\n",
       "      <th>2</th>\n",
       "      <td>1245946724994158592</td>\n",
       "      <td>1503521066739589120</td>\n",
       "      <td>3312966191</td>\n",
       "      <td>['standwithukraine', 'stopputinnow', 'slavaukr...</td>\n",
       "      <td>NaN</td>\n",
       "      <td>False</td>\n",
       "    </tr>\n",
       "    <tr>\n",
       "      <th>3</th>\n",
       "      <td>854862661</td>\n",
       "      <td>1503521023450361861</td>\n",
       "      <td>465973</td>\n",
       "      <td>['slavaukraini']</td>\n",
       "      <td>NaN</td>\n",
       "      <td>False</td>\n",
       "    </tr>\n",
       "    <tr>\n",
       "      <th>4</th>\n",
       "      <td>42746752</td>\n",
       "      <td>1503520988297932802</td>\n",
       "      <td>1456400208431091712</td>\n",
       "      <td>['dogsoftwittter', 'dogsoftwitter', 'stoprussi...</td>\n",
       "      <td>Northeast Ohio, USA</td>\n",
       "      <td>False</td>\n",
       "    </tr>\n",
       "  </tbody>\n",
       "</table>\n",
       "</div>"
      ],
      "text/plain": [
       "               user_id             tweet_id           retweet_id  \\\n",
       "0  1007449601400541184  1503521257177948170            278369814   \n",
       "1  1464582321533767695  1503521249850363904            291496884   \n",
       "2  1245946724994158592  1503521066739589120           3312966191   \n",
       "3            854862661  1503521023450361861               465973   \n",
       "4             42746752  1503520988297932802  1456400208431091712   \n",
       "\n",
       "                                             hashtag             location  \\\n",
       "0                          ['putin', 'slavaukraini']           Mobile, AL   \n",
       "1       ['stopputin', 'stopwar', 'stopwarinukraine']                  NaN   \n",
       "2  ['standwithukraine', 'stopputinnow', 'slavaukr...                  NaN   \n",
       "3                                   ['slavaukraini']                  NaN   \n",
       "4  ['dogsoftwittter', 'dogsoftwitter', 'stoprussi...  Northeast Ohio, USA   \n",
       "\n",
       "   verified  \n",
       "0     False  \n",
       "1     False  \n",
       "2     False  \n",
       "3     False  \n",
       "4     False  "
      ]
     },
     "execution_count": 10,
     "metadata": {},
     "output_type": "execute_result"
    }
   ],
   "source": [
    "df.head()"
   ]
  },
  {
   "cell_type": "code",
   "execution_count": 11,
   "id": "97533130",
   "metadata": {},
   "outputs": [
    {
     "data": {
      "text/html": [
       "<pre style=\"white-space:pre;overflow-x:auto;line-height:normal;font-family:Menlo,'DejaVu Sans Mono',consolas,'Courier New',monospace\">We have <span style=\"color: #008080; text-decoration-color: #008080; font-weight: bold\">32382</span> unique users.\n",
       "</pre>\n"
      ],
      "text/plain": [
       "We have \u001b[1;36m32382\u001b[0m unique users.\n"
      ]
     },
     "metadata": {},
     "output_type": "display_data"
    }
   ],
   "source": [
    "unique_users = set(df[\"user_id\"])\n",
    "assert len(unique_users) == df[\"user_id\"].nunique()\n",
    "print(f\"We have {len(unique_users)} unique users.\")"
   ]
  },
  {
   "cell_type": "markdown",
   "id": "61ebf4d8",
   "metadata": {},
   "source": [
    "Dividing the set into `n_sets` ~equal parts so that I have total 20 jsons"
   ]
  },
  {
   "cell_type": "code",
   "execution_count": 12,
   "id": "2f1d2b19",
   "metadata": {},
   "outputs": [],
   "source": [
    "n_sets = [x for x in my_saving_dir.glob('*.json')]\n",
    "n_sets = 20 - len(n_sets)"
   ]
  },
  {
   "cell_type": "markdown",
   "id": "960fc158",
   "metadata": {},
   "source": [
    "Remove all users already categorized"
   ]
  },
  {
   "cell_type": "code",
   "execution_count": 13,
   "id": "782817db",
   "metadata": {},
   "outputs": [
    {
     "data": {
      "text/html": [
       "<pre style=\"white-space:pre;overflow-x:auto;line-height:normal;font-family:Menlo,'DejaVu Sans Mono',consolas,'Courier New',monospace\">The total number of users is <span style=\"color: #008080; text-decoration-color: #008080; font-weight: bold\">32382</span>, we've already done <span style=\"color: #008080; text-decoration-color: #008080; font-weight: bold\">0</span>\n",
       "</pre>\n"
      ],
      "text/plain": [
       "The total number of users is \u001b[1;36m32382\u001b[0m, we've already done \u001b[1;36m0\u001b[0m\n"
      ]
     },
     "metadata": {},
     "output_type": "display_data"
    },
    {
     "data": {
      "text/html": [
       "<pre style=\"white-space:pre;overflow-x:auto;line-height:normal;font-family:Menlo,'DejaVu Sans Mono',consolas,'Courier New',monospace\">and so left to do are <span style=\"color: #008080; text-decoration-color: #008080; font-weight: bold\">32382</span> users.\n",
       "</pre>\n"
      ],
      "text/plain": [
       "and so left to do are \u001b[1;36m32382\u001b[0m users.\n"
      ]
     },
     "metadata": {},
     "output_type": "display_data"
    }
   ],
   "source": [
    "# load all jsons\n",
    "users_already_done = set()\n",
    "for json_file in my_saving_dir.glob('*.json'):\n",
    "    with open(json_file) as f:\n",
    "        data = json.load(f)\n",
    "    data = {int(k):v for k,v in data.items()}\n",
    "    users_already_done.update(data.keys())\n",
    "\n",
    "\n",
    "# remove users from `unique_users`\n",
    "print(f\"The total number of users is {len(unique_users)}, we've already done {len(users_already_done)}\")\n",
    "unique_users -= users_already_done\n",
    "print(f\"and so left to do are {len(unique_users)} users.\")"
   ]
  },
  {
   "cell_type": "code",
   "execution_count": 14,
   "id": "a88cd7dd",
   "metadata": {},
   "outputs": [
    {
     "data": {
      "text/html": [
       "<pre style=\"white-space:pre;overflow-x:auto;line-height:normal;font-family:Menlo,'DejaVu Sans Mono',consolas,'Courier New',monospace\">Length of each set: <span style=\"color: #008080; text-decoration-color: #008080; font-weight: bold\">1619</span>\n",
       "</pre>\n"
      ],
      "text/plain": [
       "Length of each set: \u001b[1;36m1619\u001b[0m\n"
      ]
     },
     "metadata": {},
     "output_type": "display_data"
    },
    {
     "name": "stderr",
     "output_type": "stream",
     "text": [
      "C:\\Users\\david\\AppData\\Local\\Temp\\ipykernel_11252\\2975302905.py:5: DeprecationWarning: Sampling from a set deprecated\n",
      "since Python 3.9 and will be removed in a subsequent version.\n",
      "  my_set = set(random.sample(unique_users, slen))\n"
     ]
    },
    {
     "data": {
      "text/html": [
       "<pre style=\"white-space:pre;overflow-x:auto;line-height:normal;font-family:Menlo,'DejaVu Sans Mono',consolas,'Courier New',monospace\">Lengths of each set: <span style=\"color: #008080; text-decoration-color: #008080; font-weight: bold\">1619</span>, <span style=\"color: #008080; text-decoration-color: #008080; font-weight: bold\">1619</span>, <span style=\"color: #008080; text-decoration-color: #008080; font-weight: bold\">1619</span>, <span style=\"color: #008080; text-decoration-color: #008080; font-weight: bold\">1619</span>, <span style=\"color: #008080; text-decoration-color: #008080; font-weight: bold\">1619</span>, <span style=\"color: #008080; text-decoration-color: #008080; font-weight: bold\">1619</span>, <span style=\"color: #008080; text-decoration-color: #008080; font-weight: bold\">1619</span>, <span style=\"color: #008080; text-decoration-color: #008080; font-weight: bold\">1619</span>, <span style=\"color: #008080; text-decoration-color: #008080; font-weight: bold\">1619</span>, <span style=\"color: #008080; text-decoration-color: #008080; font-weight: bold\">1619</span>, <span style=\"color: #008080; text-decoration-color: #008080; font-weight: bold\">1619</span>, <span style=\"color: #008080; text-decoration-color: #008080; font-weight: bold\">1619</span>, <span style=\"color: #008080; text-decoration-color: #008080; font-weight: bold\">1619</span>, <span style=\"color: #008080; text-decoration-color: #008080; font-weight: bold\">1619</span>, <span style=\"color: #008080; text-decoration-color: #008080; font-weight: bold\">1619</span>, \n",
       "<span style=\"color: #008080; text-decoration-color: #008080; font-weight: bold\">1619</span>, <span style=\"color: #008080; text-decoration-color: #008080; font-weight: bold\">1619</span>, <span style=\"color: #008080; text-decoration-color: #008080; font-weight: bold\">1619</span>, <span style=\"color: #008080; text-decoration-color: #008080; font-weight: bold\">1619</span>, <span style=\"color: #008080; text-decoration-color: #008080; font-weight: bold\">1621</span>. We have <span style=\"color: #800000; text-decoration-color: #800000; font-weight: bold\">20</span> sets.\n",
       "</pre>\n"
      ],
      "text/plain": [
       "Lengths of each set: \u001b[1;36m1619\u001b[0m, \u001b[1;36m1619\u001b[0m, \u001b[1;36m1619\u001b[0m, \u001b[1;36m1619\u001b[0m, \u001b[1;36m1619\u001b[0m, \u001b[1;36m1619\u001b[0m, \u001b[1;36m1619\u001b[0m, \u001b[1;36m1619\u001b[0m, \u001b[1;36m1619\u001b[0m, \u001b[1;36m1619\u001b[0m, \u001b[1;36m1619\u001b[0m, \u001b[1;36m1619\u001b[0m, \u001b[1;36m1619\u001b[0m, \u001b[1;36m1619\u001b[0m, \u001b[1;36m1619\u001b[0m, \n",
       "\u001b[1;36m1619\u001b[0m, \u001b[1;36m1619\u001b[0m, \u001b[1;36m1619\u001b[0m, \u001b[1;36m1619\u001b[0m, \u001b[1;36m1621\u001b[0m. We have \u001b[1;31m20\u001b[0m sets.\n"
      ]
     },
     "metadata": {},
     "output_type": "display_data"
    }
   ],
   "source": [
    "slen = len(unique_users) // n_sets\n",
    "print(f\"Length of each set: {slen}\")\n",
    "unique_users_list = []\n",
    "while len(unique_users) >= slen and slen>0:\n",
    "    my_set = set(random.sample(unique_users, slen))\n",
    "    unique_users_list.append(my_set)\n",
    "    unique_users -= my_set\n",
    "\n",
    "# need to add any leftover in `unique_users:set`\n",
    "unique_users_list[-1] = unique_users_list[-1] | unique_users\n",
    "\n",
    "# print length of each set\n",
    "my_repr = \"Lengths of each set:\"\n",
    "for my_set in unique_users_list:\n",
    "    my_repr = f\"{my_repr} {len(my_set)},\"\n",
    "print(f\"{my_repr[:-1]}. We have [red]{len(unique_users_list)}[/red] sets.\")"
   ]
  },
  {
   "cell_type": "code",
   "execution_count": 15,
   "id": "30b2799d",
   "metadata": {
    "scrolled": true
   },
   "outputs": [
    {
     "data": {
      "application/vnd.jupyter.widget-view+json": {
       "model_id": "5389649b24b24ebda681e305cd91f097",
       "version_major": 2,
       "version_minor": 0
      },
      "text/plain": [
       "Output()"
      ]
     },
     "metadata": {},
     "output_type": "display_data"
    },
    {
     "data": {
      "text/html": [
       "<pre style=\"white-space:pre;overflow-x:auto;line-height:normal;font-family:Menlo,'DejaVu Sans Mono',consolas,'Courier New',monospace\"></pre>\n"
      ],
      "text/plain": []
     },
     "metadata": {},
     "output_type": "display_data"
    },
    {
     "data": {
      "text/html": [
       "<pre style=\"white-space:pre;overflow-x:auto;line-height:normal;font-family:Menlo,'DejaVu Sans Mono',consolas,'Courier New',monospace\">\n",
       "</pre>\n"
      ],
      "text/plain": [
       "\n"
      ]
     },
     "metadata": {},
     "output_type": "display_data"
    },
    {
     "ename": "KeyboardInterrupt",
     "evalue": "",
     "output_type": "error",
     "traceback": [
      "\u001b[1;31m---------------------------------------------------------------------------\u001b[0m",
      "\u001b[1;31mKeyboardInterrupt\u001b[0m                         Traceback (most recent call last)",
      "\u001b[1;32m~\\AppData\\Local\\Temp\\ipykernel_11252\\2548774151.py\u001b[0m in \u001b[0;36m<cell line: 1>\u001b[1;34m()\u001b[0m\n\u001b[0;32m      1\u001b[0m \u001b[1;32mfor\u001b[0m \u001b[0mi\u001b[0m\u001b[1;33m,\u001b[0m \u001b[0mmy_set\u001b[0m \u001b[1;32min\u001b[0m \u001b[0menumerate\u001b[0m\u001b[1;33m(\u001b[0m\u001b[0munique_users_list\u001b[0m\u001b[1;33m)\u001b[0m\u001b[1;33m:\u001b[0m\u001b[1;33m\u001b[0m\u001b[1;33m\u001b[0m\u001b[0m\n\u001b[1;32m----> 2\u001b[1;33m     \u001b[0mc\u001b[0m \u001b[1;33m=\u001b[0m \u001b[0mCategorizeUsers\u001b[0m\u001b[1;33m(\u001b[0m\u001b[0mmy_set\u001b[0m\u001b[1;33m,\u001b[0m \u001b[0mpages\u001b[0m\u001b[1;33m=\u001b[0m\u001b[1;36m1\u001b[0m\u001b[1;33m)\u001b[0m\u001b[1;33m\u001b[0m\u001b[1;33m\u001b[0m\u001b[0m\n\u001b[0m\u001b[0;32m      3\u001b[0m     \u001b[1;32mwith\u001b[0m \u001b[0mopen\u001b[0m\u001b[1;33m(\u001b[0m\u001b[0mmy_saving_dir\u001b[0m \u001b[1;33m/\u001b[0m \u001b[1;34mf\"hashtags_{i}_no_overwrite.json\"\u001b[0m\u001b[1;33m,\u001b[0m \u001b[1;34m\"w\"\u001b[0m\u001b[1;33m,\u001b[0m \u001b[0mencoding\u001b[0m\u001b[1;33m=\u001b[0m\u001b[1;34m\"utf-8\"\u001b[0m\u001b[1;33m)\u001b[0m \u001b[1;32mas\u001b[0m \u001b[0mf\u001b[0m\u001b[1;33m:\u001b[0m\u001b[1;33m\u001b[0m\u001b[1;33m\u001b[0m\u001b[0m\n\u001b[0;32m      4\u001b[0m         \u001b[0mjson\u001b[0m\u001b[1;33m.\u001b[0m\u001b[0mdump\u001b[0m\u001b[1;33m(\u001b[0m\u001b[0mc\u001b[0m\u001b[1;33m.\u001b[0m\u001b[0musers\u001b[0m\u001b[1;33m,\u001b[0m \u001b[0mf\u001b[0m\u001b[1;33m,\u001b[0m \u001b[0mensure_ascii\u001b[0m\u001b[1;33m=\u001b[0m\u001b[1;32mFalse\u001b[0m\u001b[1;33m,\u001b[0m \u001b[0mindent\u001b[0m\u001b[1;33m=\u001b[0m\u001b[1;36m4\u001b[0m\u001b[1;33m)\u001b[0m\u001b[1;33m\u001b[0m\u001b[1;33m\u001b[0m\u001b[0m\n",
      "\u001b[1;32m~\\Documents\\GitHub\\ds-network-analysis\\py\\net_building\\extract.py\u001b[0m in \u001b[0;36m__init__\u001b[1;34m(self, user_ids, pages)\u001b[0m\n\u001b[0;32m      3\u001b[0m     \u001b[0m_setattr\u001b[0m\u001b[1;33m(\u001b[0m\u001b[1;34m'user_ids'\u001b[0m\u001b[1;33m,\u001b[0m \u001b[0muser_ids\u001b[0m\u001b[1;33m)\u001b[0m\u001b[1;33m\u001b[0m\u001b[1;33m\u001b[0m\u001b[0m\n\u001b[0;32m      4\u001b[0m     \u001b[0m_setattr\u001b[0m\u001b[1;33m(\u001b[0m\u001b[1;34m'pages'\u001b[0m\u001b[1;33m,\u001b[0m \u001b[0mpages\u001b[0m\u001b[1;33m)\u001b[0m\u001b[1;33m\u001b[0m\u001b[1;33m\u001b[0m\u001b[0m\n\u001b[1;32m----> 5\u001b[1;33m     \u001b[0m_setattr\u001b[0m\u001b[1;33m(\u001b[0m\u001b[1;34m'users'\u001b[0m\u001b[1;33m,\u001b[0m \u001b[0m__attr_factory_users\u001b[0m\u001b[1;33m(\u001b[0m\u001b[0mself\u001b[0m\u001b[1;33m)\u001b[0m\u001b[1;33m)\u001b[0m\u001b[1;33m\u001b[0m\u001b[1;33m\u001b[0m\u001b[0m\n\u001b[0m\u001b[0;32m      6\u001b[0m     \u001b[1;32mif\u001b[0m \u001b[0m_config\u001b[0m\u001b[1;33m.\u001b[0m\u001b[0m_run_validators\u001b[0m \u001b[1;32mis\u001b[0m \u001b[1;32mTrue\u001b[0m\u001b[1;33m:\u001b[0m\u001b[1;33m\u001b[0m\u001b[1;33m\u001b[0m\u001b[0m\n\u001b[0;32m      7\u001b[0m         \u001b[0m__attr_validator_user_ids\u001b[0m\u001b[1;33m(\u001b[0m\u001b[0mself\u001b[0m\u001b[1;33m,\u001b[0m \u001b[0m__attr_user_ids\u001b[0m\u001b[1;33m,\u001b[0m \u001b[0mself\u001b[0m\u001b[1;33m.\u001b[0m\u001b[0muser_ids\u001b[0m\u001b[1;33m)\u001b[0m\u001b[1;33m\u001b[0m\u001b[1;33m\u001b[0m\u001b[0m\n",
      "\u001b[1;32m~\\Documents\\GitHub\\ds-network-analysis\\py\\net_building\\extract.py\u001b[0m in \u001b[0;36m_users_default\u001b[1;34m(self)\u001b[0m\n\u001b[0;32m    458\u001b[0m                 \u001b[0mu\u001b[0m\u001b[1;33m.\u001b[0m\u001b[0mdf\u001b[0m\u001b[1;33m[\u001b[0m\u001b[1;34m\"tags\"\u001b[0m\u001b[1;33m]\u001b[0m \u001b[1;33m=\u001b[0m \u001b[0mu\u001b[0m\u001b[1;33m.\u001b[0m\u001b[0mdf\u001b[0m\u001b[1;33m[\u001b[0m\u001b[1;34m\"entities.hashtags\"\u001b[0m\u001b[1;33m]\u001b[0m\u001b[1;33m.\u001b[0m\u001b[0mmap\u001b[0m\u001b[1;33m(\u001b[0m\u001b[0meval\u001b[0m\u001b[1;33m)\u001b[0m\u001b[1;33m.\u001b[0m\u001b[0mmap\u001b[0m\u001b[1;33m(\u001b[0m\u001b[0mextract_tags\u001b[0m\u001b[1;33m)\u001b[0m\u001b[1;33m\u001b[0m\u001b[1;33m\u001b[0m\u001b[0m\n\u001b[0;32m    459\u001b[0m \u001b[1;33m\u001b[0m\u001b[0m\n\u001b[1;32m--> 460\u001b[1;33m                 u.df[\"tweet_class\"] = u.df[\"tags\"].apply(\n\u001b[0m\u001b[0;32m    461\u001b[0m                     \u001b[0mclassify_tweet\u001b[0m\u001b[1;33m,\u001b[0m \u001b[0mroot_tags\u001b[0m\u001b[1;33m=\u001b[0m\u001b[0mtag_madre\u001b[0m\u001b[1;33m\u001b[0m\u001b[1;33m\u001b[0m\u001b[0m\n\u001b[0;32m    462\u001b[0m                 )\n",
      "\u001b[1;32m~\\AppData\\Local\\Programs\\Python\\Python310\\lib\\site-packages\\pandas\\core\\series.py\u001b[0m in \u001b[0;36mapply\u001b[1;34m(self, func, convert_dtype, args, **kwargs)\u001b[0m\n\u001b[0;32m   4355\u001b[0m         \u001b[0mdtype\u001b[0m\u001b[1;33m:\u001b[0m \u001b[0mfloat64\u001b[0m\u001b[1;33m\u001b[0m\u001b[1;33m\u001b[0m\u001b[0m\n\u001b[0;32m   4356\u001b[0m         \"\"\"\n\u001b[1;32m-> 4357\u001b[1;33m         \u001b[1;32mreturn\u001b[0m \u001b[0mSeriesApply\u001b[0m\u001b[1;33m(\u001b[0m\u001b[0mself\u001b[0m\u001b[1;33m,\u001b[0m \u001b[0mfunc\u001b[0m\u001b[1;33m,\u001b[0m \u001b[0mconvert_dtype\u001b[0m\u001b[1;33m,\u001b[0m \u001b[0margs\u001b[0m\u001b[1;33m,\u001b[0m \u001b[0mkwargs\u001b[0m\u001b[1;33m)\u001b[0m\u001b[1;33m.\u001b[0m\u001b[0mapply\u001b[0m\u001b[1;33m(\u001b[0m\u001b[1;33m)\u001b[0m\u001b[1;33m\u001b[0m\u001b[1;33m\u001b[0m\u001b[0m\n\u001b[0m\u001b[0;32m   4358\u001b[0m \u001b[1;33m\u001b[0m\u001b[0m\n\u001b[0;32m   4359\u001b[0m     def _reduce(\n",
      "\u001b[1;32m~\\AppData\\Local\\Programs\\Python\\Python310\\lib\\site-packages\\pandas\\core\\apply.py\u001b[0m in \u001b[0;36mapply\u001b[1;34m(self)\u001b[0m\n\u001b[0;32m   1041\u001b[0m             \u001b[1;32mreturn\u001b[0m \u001b[0mself\u001b[0m\u001b[1;33m.\u001b[0m\u001b[0mapply_str\u001b[0m\u001b[1;33m(\u001b[0m\u001b[1;33m)\u001b[0m\u001b[1;33m\u001b[0m\u001b[1;33m\u001b[0m\u001b[0m\n\u001b[0;32m   1042\u001b[0m \u001b[1;33m\u001b[0m\u001b[0m\n\u001b[1;32m-> 1043\u001b[1;33m         \u001b[1;32mreturn\u001b[0m \u001b[0mself\u001b[0m\u001b[1;33m.\u001b[0m\u001b[0mapply_standard\u001b[0m\u001b[1;33m(\u001b[0m\u001b[1;33m)\u001b[0m\u001b[1;33m\u001b[0m\u001b[1;33m\u001b[0m\u001b[0m\n\u001b[0m\u001b[0;32m   1044\u001b[0m \u001b[1;33m\u001b[0m\u001b[0m\n\u001b[0;32m   1045\u001b[0m     \u001b[1;32mdef\u001b[0m \u001b[0magg\u001b[0m\u001b[1;33m(\u001b[0m\u001b[0mself\u001b[0m\u001b[1;33m)\u001b[0m\u001b[1;33m:\u001b[0m\u001b[1;33m\u001b[0m\u001b[1;33m\u001b[0m\u001b[0m\n",
      "\u001b[1;32m~\\AppData\\Local\\Programs\\Python\\Python310\\lib\\site-packages\\pandas\\core\\apply.py\u001b[0m in \u001b[0;36mapply_standard\u001b[1;34m(self)\u001b[0m\n\u001b[0;32m   1096\u001b[0m                 \u001b[1;31m# List[Union[Callable[..., Any], str]]]]]\"; expected\u001b[0m\u001b[1;33m\u001b[0m\u001b[1;33m\u001b[0m\u001b[0m\n\u001b[0;32m   1097\u001b[0m                 \u001b[1;31m# \"Callable[[Any], Any]\"\u001b[0m\u001b[1;33m\u001b[0m\u001b[1;33m\u001b[0m\u001b[0m\n\u001b[1;32m-> 1098\u001b[1;33m                 mapped = lib.map_infer(\n\u001b[0m\u001b[0;32m   1099\u001b[0m                     \u001b[0mvalues\u001b[0m\u001b[1;33m,\u001b[0m\u001b[1;33m\u001b[0m\u001b[1;33m\u001b[0m\u001b[0m\n\u001b[0;32m   1100\u001b[0m                     \u001b[0mf\u001b[0m\u001b[1;33m,\u001b[0m  \u001b[1;31m# type: ignore[arg-type]\u001b[0m\u001b[1;33m\u001b[0m\u001b[1;33m\u001b[0m\u001b[0m\n",
      "\u001b[1;32m~\\AppData\\Local\\Programs\\Python\\Python310\\lib\\site-packages\\pandas\\_libs\\lib.pyx\u001b[0m in \u001b[0;36mpandas._libs.lib.map_infer\u001b[1;34m()\u001b[0m\n",
      "\u001b[1;32m~\\AppData\\Local\\Programs\\Python\\Python310\\lib\\site-packages\\pandas\\core\\apply.py\u001b[0m in \u001b[0;36mf\u001b[1;34m(x)\u001b[0m\n\u001b[0;32m    128\u001b[0m         ):\n\u001b[0;32m    129\u001b[0m \u001b[1;33m\u001b[0m\u001b[0m\n\u001b[1;32m--> 130\u001b[1;33m             \u001b[1;32mdef\u001b[0m \u001b[0mf\u001b[0m\u001b[1;33m(\u001b[0m\u001b[0mx\u001b[0m\u001b[1;33m)\u001b[0m\u001b[1;33m:\u001b[0m\u001b[1;33m\u001b[0m\u001b[1;33m\u001b[0m\u001b[0m\n\u001b[0m\u001b[0;32m    131\u001b[0m                 \u001b[1;32mreturn\u001b[0m \u001b[0mfunc\u001b[0m\u001b[1;33m(\u001b[0m\u001b[0mx\u001b[0m\u001b[1;33m,\u001b[0m \u001b[1;33m*\u001b[0m\u001b[0margs\u001b[0m\u001b[1;33m,\u001b[0m \u001b[1;33m**\u001b[0m\u001b[0mkwargs\u001b[0m\u001b[1;33m)\u001b[0m\u001b[1;33m\u001b[0m\u001b[1;33m\u001b[0m\u001b[0m\n\u001b[0;32m    132\u001b[0m \u001b[1;33m\u001b[0m\u001b[0m\n",
      "\u001b[1;31mKeyboardInterrupt\u001b[0m: "
     ]
    }
   ],
   "source": [
    "for i, my_set in enumerate(unique_users_list):\n",
    "    c = CategorizeUsers(my_set, pages=1)\n",
    "    with open(my_saving_dir / f\"hashtags_{i}_no_overwrite.json\", \"w\", encoding=\"utf-8\") as f:\n",
    "        json.dump(c.users, f, ensure_ascii=False, indent=4)"
   ]
  },
  {
   "cell_type": "code",
   "execution_count": null,
   "id": "18f7e0d0",
   "metadata": {},
   "outputs": [],
   "source": []
  }
 ],
 "metadata": {
  "kernelspec": {
   "display_name": "Python 3 (ipykernel)",
   "language": "python",
   "name": "python3"
  },
  "language_info": {
   "codemirror_mode": {
    "name": "ipython",
    "version": 3
   },
   "file_extension": ".py",
   "mimetype": "text/x-python",
   "name": "python",
   "nbconvert_exporter": "python",
   "pygments_lexer": "ipython3",
   "version": "3.10.5"
  }
 },
 "nbformat": 4,
 "nbformat_minor": 5
}
