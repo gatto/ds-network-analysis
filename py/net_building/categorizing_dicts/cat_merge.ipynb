{
 "cells": [
  {
   "cell_type": "code",
   "execution_count": 1,
   "id": "c48a0e50",
   "metadata": {},
   "outputs": [],
   "source": [
    "import json"
   ]
  },
  {
   "cell_type": "code",
   "execution_count": 5,
   "id": "245005d6",
   "metadata": {},
   "outputs": [],
   "source": [
    "with open(f'hashtags_0.json', 'r') as f:\n",
    "    my_dict0 = json.load(f)\n",
    "with open(f'hashtags_1.json', 'r') as f:\n",
    "    my_dict1 = json.load(f)\n",
    "with open(f'hashtags_2.json', 'r') as f:\n",
    "    my_dict2 = json.load(f)\n",
    "with open(f'hashtags_3.json', 'r') as f:\n",
    "    my_dict3 = json.load(f)\n",
    "with open(f'hashtags_4.json', 'r') as f:\n",
    "    my_dict4 = json.load(f)\n",
    "with open(f'hashtags_5.json', 'r') as f:\n",
    "    my_dict5 = json.load(f)\n",
    "with open(f'hashtags_6.json', 'r') as f:\n",
    "    my_dict6 = json.load(f)\n",
    "with open(f'hashtags_7.json', 'r') as f:\n",
    "    my_dict7 = json.load(f)\n",
    "with open(f'hashtags_8.json', 'r') as f:\n",
    "    my_dict8 = json.load(f)\n",
    "with open(f'hashtags_9.json', 'r') as f:\n",
    "    my_dict9 = json.load(f)\n",
    "with open(f'hashtags_10.json', 'r') as f:\n",
    "    my_dict10 = json.load(f)\n",
    "with open(f'hashtags_11.json', 'r') as f:\n",
    "    my_dict11 = json.load(f)\n",
    "with open(f'hashtags_12.json', 'r') as f:\n",
    "    my_dict12 = json.load(f)\n",
    "with open(f'hashtags_13.json', 'r') as f:\n",
    "    my_dict13 = json.load(f)\n",
    "with open(f'hashtags_14.json', 'r') as f:\n",
    "    my_dict14 = json.load(f)\n",
    "with open(f'hashtags_15.json', 'r') as f:\n",
    "    my_dict15 = json.load(f)\n",
    "with open(f'hashtags_16.json', 'r') as f:\n",
    "    my_dict16 = json.load(f)\n",
    "with open(f'hashtags_17.json', 'r') as f:\n",
    "    my_dict17 = json.load(f)\n",
    "with open(f'hashtags_18.json', 'r') as f:\n",
    "    my_dict18 = json.load(f)\n",
    "with open(f'hashtags_19.json', 'r') as f:\n",
    "    my_dict19 = json.load(f)"
   ]
  },
  {
   "cell_type": "code",
   "execution_count": 12,
   "id": "85bd049c",
   "metadata": {},
   "outputs": [],
   "source": [
    "merged = {**my_dict0, **my_dict1, **my_dict2, **my_dict3, **my_dict4, **my_dict5,**my_dict6, **my_dict7, **my_dict8, **my_dict9, **my_dict10, **my_dict11, **my_dict12, **my_dict13, **my_dict14, **my_dict15, **my_dict16, **my_dict17, **my_dict18, **my_dict19}"
   ]
  },
  {
   "cell_type": "code",
   "execution_count": 13,
   "id": "ad6f74d7",
   "metadata": {},
   "outputs": [
    {
     "data": {
      "text/plain": [
       "32382"
      ]
     },
     "execution_count": 13,
     "metadata": {},
     "output_type": "execute_result"
    }
   ],
   "source": [
    "len(merged)"
   ]
  },
  {
   "cell_type": "code",
   "execution_count": 14,
   "id": "62afd1e1",
   "metadata": {},
   "outputs": [],
   "source": [
    "with open(f\"categorize.json\", \"w\", encoding=\"utf-8\") as f:\n",
    "        json.dump(merged, f, ensure_ascii=False, indent=4)"
   ]
  },
  {
   "cell_type": "code",
   "execution_count": null,
   "id": "2b45818f",
   "metadata": {},
   "outputs": [],
   "source": []
  }
 ],
 "metadata": {
  "kernelspec": {
   "display_name": "Python 3 (ipykernel)",
   "language": "python",
   "name": "python3"
  },
  "language_info": {
   "codemirror_mode": {
    "name": "ipython",
    "version": 3
   },
   "file_extension": ".py",
   "mimetype": "text/x-python",
   "name": "python",
   "nbconvert_exporter": "python",
   "pygments_lexer": "ipython3",
   "version": "3.10.5"
  }
 },
 "nbformat": 4,
 "nbformat_minor": 5
}
