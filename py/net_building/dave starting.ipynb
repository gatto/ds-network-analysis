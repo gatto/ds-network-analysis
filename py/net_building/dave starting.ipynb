{
 "cells": [
  {
   "cell_type": "code",
   "execution_count": 1,
   "metadata": {
    "colab": {
     "base_uri": "https://localhost:8080/"
    },
    "executionInfo": {
     "elapsed": 23070,
     "status": "ok",
     "timestamp": 1651829667823,
     "user": {
      "displayName": "Fabio Russo",
      "userId": "12894600619616975822"
     },
     "user_tz": -120
    },
    "id": "ZxlivxxhT-is",
    "outputId": "64d5fabc-8093-42f8-b300-cdbe869c9f2d",
    "scrolled": false
   },
   "outputs": [],
   "source": [
    "#pip install -U git+https://github.com/gatto/ds-network-analysis.git\n",
    "#pip install -U twarc twarc_csv\n",
    "from extract import SocialETL, Count, UserETL\n",
    "import hashtags as h\n",
    "import pandas as pd\n",
    "import warnings \n",
    "warnings.filterwarnings('always')   #suppresses all warnings\n",
    "warnings.filterwarnings('ignore')"
   ]
  },
  {
   "cell_type": "code",
   "execution_count": 13,
   "metadata": {
    "id": "dGQrDwL2UeU9"
   },
   "outputs": [
    {
     "data": {
      "text/html": [
       "<pre style=\"white-space:pre;overflow-x:auto;line-height:normal;font-family:Menlo,'DejaVu Sans Mono',consolas,'Courier New',monospace\">Reading secret from C:\\Users\\david\\Documents\\GitHub\\ds-network-analysis\\data\\my_secrets.yaml…\n",
       "</pre>\n"
      ],
      "text/plain": [
       "Reading secret from C:\\Users\\david\\Documents\\GitHub\\ds-network-analysis\\data\\my_secrets.yaml…\n"
      ]
     },
     "metadata": {},
     "output_type": "display_data"
    },
    {
     "data": {
      "application/vnd.jupyter.widget-view+json": {
       "model_id": "08d35018c9fb433999679bddcc5a7d86",
       "version_major": 2,
       "version_minor": 0
      },
      "text/plain": [
       "Output()"
      ]
     },
     "metadata": {},
     "output_type": "display_data"
    },
    {
     "data": {
      "text/html": [
       "<pre style=\"white-space:pre;overflow-x:auto;line-height:normal;font-family:Menlo,'DejaVu Sans Mono',consolas,'Courier New',monospace\"></pre>\n"
      ],
      "text/plain": []
     },
     "metadata": {},
     "output_type": "display_data"
    },
    {
     "data": {
      "text/html": [
       "<pre style=\"white-space:pre;overflow-x:auto;line-height:normal;font-family:Menlo,'DejaVu Sans Mono',consolas,'Courier New',monospace\">\n",
       "</pre>\n"
      ],
      "text/plain": [
       "\n"
      ]
     },
     "metadata": {},
     "output_type": "display_data"
    }
   ],
   "source": [
    "#3 categorie\n",
    "m = SocialETL(query=\"(#istandwithputin) lang:en\", pages=5, recent=False) #-is:retweet \n",
    "#slavaukraine ->proukraine\n",
    "#istandwithputin->pax romana\n",
    "#stopwarinukraine ->prorussia"
   ]
  },
  {
   "cell_type": "code",
   "execution_count": 14,
   "metadata": {},
   "outputs": [
    {
     "data": {
      "text/html": [
       "<div>\n",
       "<style scoped>\n",
       "    .dataframe tbody tr th:only-of-type {\n",
       "        vertical-align: middle;\n",
       "    }\n",
       "\n",
       "    .dataframe tbody tr th {\n",
       "        vertical-align: top;\n",
       "    }\n",
       "\n",
       "    .dataframe thead th {\n",
       "        text-align: right;\n",
       "    }\n",
       "</style>\n",
       "<table border=\"1\" class=\"dataframe\">\n",
       "  <thead>\n",
       "    <tr style=\"text-align: right;\">\n",
       "      <th></th>\n",
       "      <th>id</th>\n",
       "      <th>conversation_id</th>\n",
       "      <th>referenced_tweets.replied_to.id</th>\n",
       "      <th>referenced_tweets.retweeted.id</th>\n",
       "      <th>referenced_tweets.quoted.id</th>\n",
       "      <th>author_id</th>\n",
       "      <th>in_reply_to_user_id</th>\n",
       "      <th>retweeted_user_id</th>\n",
       "      <th>quoted_user_id</th>\n",
       "      <th>created_at</th>\n",
       "      <th>...</th>\n",
       "      <th>geo.place_id</th>\n",
       "      <th>geo.place_type</th>\n",
       "      <th>__twarc.retrieved_at</th>\n",
       "      <th>__twarc.url</th>\n",
       "      <th>__twarc.version</th>\n",
       "      <th></th>\n",
       "      <th>edit_history_tweet_ids</th>\n",
       "      <th>edit_controls.edits_remaining</th>\n",
       "      <th>edit_controls.editable_until</th>\n",
       "      <th>edit_controls.is_edit_eligible</th>\n",
       "    </tr>\n",
       "  </thead>\n",
       "  <tbody>\n",
       "    <tr>\n",
       "      <th>0</th>\n",
       "      <td>1536843111267282944</td>\n",
       "      <td>1536843111267282944</td>\n",
       "      <td>NaN</td>\n",
       "      <td>1499271878778699779</td>\n",
       "      <td>NaN</td>\n",
       "      <td>1127162646183272448</td>\n",
       "      <td>NaN</td>\n",
       "      <td>338004749</td>\n",
       "      <td>NaN</td>\n",
       "      <td>2022-06-14T22:48:45.000Z</td>\n",
       "      <td>...</td>\n",
       "      <td>NaN</td>\n",
       "      <td>NaN</td>\n",
       "      <td>2022-10-25T13:33:37+00:00</td>\n",
       "      <td>https://api.twitter.com/2/tweets/search/all?ex...</td>\n",
       "      <td>2.12.0</td>\n",
       "      <td>NaN</td>\n",
       "      <td>[\"1536843111267282944\"]</td>\n",
       "      <td>5</td>\n",
       "      <td>2022-06-14T23:18:45.000Z</td>\n",
       "      <td>False</td>\n",
       "    </tr>\n",
       "    <tr>\n",
       "      <th>1</th>\n",
       "      <td>1536829434413699072</td>\n",
       "      <td>1536829434413699072</td>\n",
       "      <td>NaN</td>\n",
       "      <td>1536811502484832256</td>\n",
       "      <td>NaN</td>\n",
       "      <td>1313660940785790976</td>\n",
       "      <td>NaN</td>\n",
       "      <td>24604191</td>\n",
       "      <td>NaN</td>\n",
       "      <td>2022-06-14T21:54:24.000Z</td>\n",
       "      <td>...</td>\n",
       "      <td>NaN</td>\n",
       "      <td>NaN</td>\n",
       "      <td>2022-10-25T13:33:37+00:00</td>\n",
       "      <td>https://api.twitter.com/2/tweets/search/all?ex...</td>\n",
       "      <td>2.12.0</td>\n",
       "      <td>NaN</td>\n",
       "      <td>[\"1536829434413699072\"]</td>\n",
       "      <td>5</td>\n",
       "      <td>2022-06-14T22:24:24.000Z</td>\n",
       "      <td>False</td>\n",
       "    </tr>\n",
       "    <tr>\n",
       "      <th>2</th>\n",
       "      <td>1536811502484832256</td>\n",
       "      <td>1536809705225560064</td>\n",
       "      <td>1536810143643475969</td>\n",
       "      <td>NaN</td>\n",
       "      <td>NaN</td>\n",
       "      <td>24604191</td>\n",
       "      <td>1469429361656967171</td>\n",
       "      <td>NaN</td>\n",
       "      <td>NaN</td>\n",
       "      <td>2022-06-14T20:43:09.000Z</td>\n",
       "      <td>...</td>\n",
       "      <td>NaN</td>\n",
       "      <td>NaN</td>\n",
       "      <td>2022-10-25T13:33:37+00:00</td>\n",
       "      <td>https://api.twitter.com/2/tweets/search/all?ex...</td>\n",
       "      <td>2.12.0</td>\n",
       "      <td>NaN</td>\n",
       "      <td>[\"1536811502484832256\"]</td>\n",
       "      <td>5</td>\n",
       "      <td>2022-06-14T21:13:09.000Z</td>\n",
       "      <td>False</td>\n",
       "    </tr>\n",
       "    <tr>\n",
       "      <th>3</th>\n",
       "      <td>1536788582685282304</td>\n",
       "      <td>1536788582685282304</td>\n",
       "      <td>NaN</td>\n",
       "      <td>NaN</td>\n",
       "      <td>NaN</td>\n",
       "      <td>1494310019172483073</td>\n",
       "      <td>NaN</td>\n",
       "      <td>NaN</td>\n",
       "      <td>NaN</td>\n",
       "      <td>2022-06-14T19:12:04.000Z</td>\n",
       "      <td>...</td>\n",
       "      <td>NaN</td>\n",
       "      <td>NaN</td>\n",
       "      <td>2022-10-25T13:33:37+00:00</td>\n",
       "      <td>https://api.twitter.com/2/tweets/search/all?ex...</td>\n",
       "      <td>2.12.0</td>\n",
       "      <td>NaN</td>\n",
       "      <td>[\"1536788582685282304\"]</td>\n",
       "      <td>5</td>\n",
       "      <td>2022-06-14T19:42:04.000Z</td>\n",
       "      <td>True</td>\n",
       "    </tr>\n",
       "    <tr>\n",
       "      <th>4</th>\n",
       "      <td>1536760682997157890</td>\n",
       "      <td>1536760682997157890</td>\n",
       "      <td>NaN</td>\n",
       "      <td>NaN</td>\n",
       "      <td>NaN</td>\n",
       "      <td>129555767</td>\n",
       "      <td>NaN</td>\n",
       "      <td>NaN</td>\n",
       "      <td>NaN</td>\n",
       "      <td>2022-06-14T17:21:13.000Z</td>\n",
       "      <td>...</td>\n",
       "      <td>NaN</td>\n",
       "      <td>NaN</td>\n",
       "      <td>2022-10-25T13:33:37+00:00</td>\n",
       "      <td>https://api.twitter.com/2/tweets/search/all?ex...</td>\n",
       "      <td>2.12.0</td>\n",
       "      <td>NaN</td>\n",
       "      <td>[\"1536760682997157890\"]</td>\n",
       "      <td>5</td>\n",
       "      <td>2022-06-14T17:51:13.000Z</td>\n",
       "      <td>True</td>\n",
       "    </tr>\n",
       "    <tr>\n",
       "      <th>...</th>\n",
       "      <td>...</td>\n",
       "      <td>...</td>\n",
       "      <td>...</td>\n",
       "      <td>...</td>\n",
       "      <td>...</td>\n",
       "      <td>...</td>\n",
       "      <td>...</td>\n",
       "      <td>...</td>\n",
       "      <td>...</td>\n",
       "      <td>...</td>\n",
       "      <td>...</td>\n",
       "      <td>...</td>\n",
       "      <td>...</td>\n",
       "      <td>...</td>\n",
       "      <td>...</td>\n",
       "      <td>...</td>\n",
       "      <td>...</td>\n",
       "      <td>...</td>\n",
       "      <td>...</td>\n",
       "      <td>...</td>\n",
       "      <td>...</td>\n",
       "    </tr>\n",
       "    <tr>\n",
       "      <th>295</th>\n",
       "      <td>1526005498012745729</td>\n",
       "      <td>1526005498012745729</td>\n",
       "      <td>NaN</td>\n",
       "      <td>1525918494612762635</td>\n",
       "      <td>NaN</td>\n",
       "      <td>401463573</td>\n",
       "      <td>NaN</td>\n",
       "      <td>1403553384876195842</td>\n",
       "      <td>NaN</td>\n",
       "      <td>2022-05-16T01:03:57.000Z</td>\n",
       "      <td>...</td>\n",
       "      <td>NaN</td>\n",
       "      <td>NaN</td>\n",
       "      <td>2022-10-25T13:33:59+00:00</td>\n",
       "      <td>https://api.twitter.com/2/tweets/search/all?ex...</td>\n",
       "      <td>2.12.0</td>\n",
       "      <td>NaN</td>\n",
       "      <td>[\"1526005498012745729\"]</td>\n",
       "      <td>5</td>\n",
       "      <td>2022-05-16T01:33:57.000Z</td>\n",
       "      <td>False</td>\n",
       "    </tr>\n",
       "    <tr>\n",
       "      <th>296</th>\n",
       "      <td>1525996966005678089</td>\n",
       "      <td>1525996966005678089</td>\n",
       "      <td>NaN</td>\n",
       "      <td>1525653160731332611</td>\n",
       "      <td>NaN</td>\n",
       "      <td>1150171508540620800</td>\n",
       "      <td>NaN</td>\n",
       "      <td>1494490588183506961</td>\n",
       "      <td>NaN</td>\n",
       "      <td>2022-05-16T00:30:03.000Z</td>\n",
       "      <td>...</td>\n",
       "      <td>NaN</td>\n",
       "      <td>NaN</td>\n",
       "      <td>2022-10-25T13:33:59+00:00</td>\n",
       "      <td>https://api.twitter.com/2/tweets/search/all?ex...</td>\n",
       "      <td>2.12.0</td>\n",
       "      <td>NaN</td>\n",
       "      <td>[\"1525996966005678089\"]</td>\n",
       "      <td>5</td>\n",
       "      <td>2022-05-16T01:00:03.000Z</td>\n",
       "      <td>False</td>\n",
       "    </tr>\n",
       "    <tr>\n",
       "      <th>297</th>\n",
       "      <td>1525985275956056066</td>\n",
       "      <td>1525985275956056066</td>\n",
       "      <td>NaN</td>\n",
       "      <td>1525653160731332611</td>\n",
       "      <td>NaN</td>\n",
       "      <td>893849270</td>\n",
       "      <td>NaN</td>\n",
       "      <td>1494490588183506961</td>\n",
       "      <td>NaN</td>\n",
       "      <td>2022-05-15T23:43:35.000Z</td>\n",
       "      <td>...</td>\n",
       "      <td>NaN</td>\n",
       "      <td>NaN</td>\n",
       "      <td>2022-10-25T13:33:59+00:00</td>\n",
       "      <td>https://api.twitter.com/2/tweets/search/all?ex...</td>\n",
       "      <td>2.12.0</td>\n",
       "      <td>NaN</td>\n",
       "      <td>[\"1525985275956056066\"]</td>\n",
       "      <td>5</td>\n",
       "      <td>2022-05-16T00:13:35.000Z</td>\n",
       "      <td>False</td>\n",
       "    </tr>\n",
       "    <tr>\n",
       "      <th>298</th>\n",
       "      <td>1525929970991759362</td>\n",
       "      <td>1525929970991759362</td>\n",
       "      <td>NaN</td>\n",
       "      <td>NaN</td>\n",
       "      <td>1525928948839895042</td>\n",
       "      <td>1466543078915907584</td>\n",
       "      <td>NaN</td>\n",
       "      <td>NaN</td>\n",
       "      <td>5988062</td>\n",
       "      <td>2022-05-15T20:03:50.000Z</td>\n",
       "      <td>...</td>\n",
       "      <td>NaN</td>\n",
       "      <td>NaN</td>\n",
       "      <td>2022-10-25T13:33:59+00:00</td>\n",
       "      <td>https://api.twitter.com/2/tweets/search/all?ex...</td>\n",
       "      <td>2.12.0</td>\n",
       "      <td>NaN</td>\n",
       "      <td>[\"1525929970991759362\"]</td>\n",
       "      <td>5</td>\n",
       "      <td>2022-05-15T20:33:50.000Z</td>\n",
       "      <td>True</td>\n",
       "    </tr>\n",
       "    <tr>\n",
       "      <th>299</th>\n",
       "      <td>1525918494612762635</td>\n",
       "      <td>1525918494612762635</td>\n",
       "      <td>NaN</td>\n",
       "      <td>NaN</td>\n",
       "      <td>NaN</td>\n",
       "      <td>1403553384876195842</td>\n",
       "      <td>NaN</td>\n",
       "      <td>NaN</td>\n",
       "      <td>NaN</td>\n",
       "      <td>2022-05-15T19:18:13.000Z</td>\n",
       "      <td>...</td>\n",
       "      <td>NaN</td>\n",
       "      <td>NaN</td>\n",
       "      <td>2022-10-25T13:33:59+00:00</td>\n",
       "      <td>https://api.twitter.com/2/tweets/search/all?ex...</td>\n",
       "      <td>2.12.0</td>\n",
       "      <td>NaN</td>\n",
       "      <td>[\"1525918494612762635\"]</td>\n",
       "      <td>5</td>\n",
       "      <td>2022-05-15T19:48:13.000Z</td>\n",
       "      <td>True</td>\n",
       "    </tr>\n",
       "  </tbody>\n",
       "</table>\n",
       "<p>300 rows × 78 columns</p>\n",
       "</div>"
      ],
      "text/plain": [
       "                      id      conversation_id referenced_tweets.replied_to.id  \\\n",
       "0    1536843111267282944  1536843111267282944                             NaN   \n",
       "1    1536829434413699072  1536829434413699072                             NaN   \n",
       "2    1536811502484832256  1536809705225560064             1536810143643475969   \n",
       "3    1536788582685282304  1536788582685282304                             NaN   \n",
       "4    1536760682997157890  1536760682997157890                             NaN   \n",
       "..                   ...                  ...                             ...   \n",
       "295  1526005498012745729  1526005498012745729                             NaN   \n",
       "296  1525996966005678089  1525996966005678089                             NaN   \n",
       "297  1525985275956056066  1525985275956056066                             NaN   \n",
       "298  1525929970991759362  1525929970991759362                             NaN   \n",
       "299  1525918494612762635  1525918494612762635                             NaN   \n",
       "\n",
       "    referenced_tweets.retweeted.id referenced_tweets.quoted.id  \\\n",
       "0              1499271878778699779                         NaN   \n",
       "1              1536811502484832256                         NaN   \n",
       "2                              NaN                         NaN   \n",
       "3                              NaN                         NaN   \n",
       "4                              NaN                         NaN   \n",
       "..                             ...                         ...   \n",
       "295            1525918494612762635                         NaN   \n",
       "296            1525653160731332611                         NaN   \n",
       "297            1525653160731332611                         NaN   \n",
       "298                            NaN         1525928948839895042   \n",
       "299                            NaN                         NaN   \n",
       "\n",
       "               author_id  in_reply_to_user_id    retweeted_user_id  \\\n",
       "0    1127162646183272448                  NaN            338004749   \n",
       "1    1313660940785790976                  NaN             24604191   \n",
       "2               24604191  1469429361656967171                  NaN   \n",
       "3    1494310019172483073                  NaN                  NaN   \n",
       "4              129555767                  NaN                  NaN   \n",
       "..                   ...                  ...                  ...   \n",
       "295            401463573                  NaN  1403553384876195842   \n",
       "296  1150171508540620800                  NaN  1494490588183506961   \n",
       "297            893849270                  NaN  1494490588183506961   \n",
       "298  1466543078915907584                  NaN                  NaN   \n",
       "299  1403553384876195842                  NaN                  NaN   \n",
       "\n",
       "    quoted_user_id                created_at  ... geo.place_id geo.place_type  \\\n",
       "0              NaN  2022-06-14T22:48:45.000Z  ...          NaN            NaN   \n",
       "1              NaN  2022-06-14T21:54:24.000Z  ...          NaN            NaN   \n",
       "2              NaN  2022-06-14T20:43:09.000Z  ...          NaN            NaN   \n",
       "3              NaN  2022-06-14T19:12:04.000Z  ...          NaN            NaN   \n",
       "4              NaN  2022-06-14T17:21:13.000Z  ...          NaN            NaN   \n",
       "..             ...                       ...  ...          ...            ...   \n",
       "295            NaN  2022-05-16T01:03:57.000Z  ...          NaN            NaN   \n",
       "296            NaN  2022-05-16T00:30:03.000Z  ...          NaN            NaN   \n",
       "297            NaN  2022-05-15T23:43:35.000Z  ...          NaN            NaN   \n",
       "298        5988062  2022-05-15T20:03:50.000Z  ...          NaN            NaN   \n",
       "299            NaN  2022-05-15T19:18:13.000Z  ...          NaN            NaN   \n",
       "\n",
       "          __twarc.retrieved_at  \\\n",
       "0    2022-10-25T13:33:37+00:00   \n",
       "1    2022-10-25T13:33:37+00:00   \n",
       "2    2022-10-25T13:33:37+00:00   \n",
       "3    2022-10-25T13:33:37+00:00   \n",
       "4    2022-10-25T13:33:37+00:00   \n",
       "..                         ...   \n",
       "295  2022-10-25T13:33:59+00:00   \n",
       "296  2022-10-25T13:33:59+00:00   \n",
       "297  2022-10-25T13:33:59+00:00   \n",
       "298  2022-10-25T13:33:59+00:00   \n",
       "299  2022-10-25T13:33:59+00:00   \n",
       "\n",
       "                                           __twarc.url  __twarc.version      \\\n",
       "0    https://api.twitter.com/2/tweets/search/all?ex...           2.12.0 NaN   \n",
       "1    https://api.twitter.com/2/tweets/search/all?ex...           2.12.0 NaN   \n",
       "2    https://api.twitter.com/2/tweets/search/all?ex...           2.12.0 NaN   \n",
       "3    https://api.twitter.com/2/tweets/search/all?ex...           2.12.0 NaN   \n",
       "4    https://api.twitter.com/2/tweets/search/all?ex...           2.12.0 NaN   \n",
       "..                                                 ...              ...  ..   \n",
       "295  https://api.twitter.com/2/tweets/search/all?ex...           2.12.0 NaN   \n",
       "296  https://api.twitter.com/2/tweets/search/all?ex...           2.12.0 NaN   \n",
       "297  https://api.twitter.com/2/tweets/search/all?ex...           2.12.0 NaN   \n",
       "298  https://api.twitter.com/2/tweets/search/all?ex...           2.12.0 NaN   \n",
       "299  https://api.twitter.com/2/tweets/search/all?ex...           2.12.0 NaN   \n",
       "\n",
       "      edit_history_tweet_ids edit_controls.edits_remaining  \\\n",
       "0    [\"1536843111267282944\"]                             5   \n",
       "1    [\"1536829434413699072\"]                             5   \n",
       "2    [\"1536811502484832256\"]                             5   \n",
       "3    [\"1536788582685282304\"]                             5   \n",
       "4    [\"1536760682997157890\"]                             5   \n",
       "..                       ...                           ...   \n",
       "295  [\"1526005498012745729\"]                             5   \n",
       "296  [\"1525996966005678089\"]                             5   \n",
       "297  [\"1525985275956056066\"]                             5   \n",
       "298  [\"1525929970991759362\"]                             5   \n",
       "299  [\"1525918494612762635\"]                             5   \n",
       "\n",
       "     edit_controls.editable_until  edit_controls.is_edit_eligible  \n",
       "0        2022-06-14T23:18:45.000Z                           False  \n",
       "1        2022-06-14T22:24:24.000Z                           False  \n",
       "2        2022-06-14T21:13:09.000Z                           False  \n",
       "3        2022-06-14T19:42:04.000Z                            True  \n",
       "4        2022-06-14T17:51:13.000Z                            True  \n",
       "..                            ...                             ...  \n",
       "295      2022-05-16T01:33:57.000Z                           False  \n",
       "296      2022-05-16T01:00:03.000Z                           False  \n",
       "297      2022-05-16T00:13:35.000Z                           False  \n",
       "298      2022-05-15T20:33:50.000Z                            True  \n",
       "299      2022-05-15T19:48:13.000Z                            True  \n",
       "\n",
       "[300 rows x 78 columns]"
      ]
     },
     "execution_count": 14,
     "metadata": {},
     "output_type": "execute_result"
    }
   ],
   "source": [
    "m.df"
   ]
  },
  {
   "cell_type": "code",
   "execution_count": 15,
   "metadata": {},
   "outputs": [],
   "source": [
    "m.df=m.df.set_index(m.df.id)\n",
    "m.df.index=m.df.index.map(int)"
   ]
  },
  {
   "cell_type": "code",
   "execution_count": 16,
   "metadata": {},
   "outputs": [
    {
     "name": "stdout",
     "output_type": "stream",
     "text": [
      "300\n"
     ]
    }
   ],
   "source": [
    "s_users=set(m.df.index)\n",
    "print(len(s_users))"
   ]
  },
  {
   "cell_type": "code",
   "execution_count": 17,
   "metadata": {},
   "outputs": [
    {
     "data": {
      "text/plain": [
       "Int64Index([1536843111267282944, 1536829434413699072, 1536811502484832256,\n",
       "            1536788582685282304, 1536760682997157890, 1536646724340563969,\n",
       "            1536447472607830018, 1536364738724208647, 1536334549139202048,\n",
       "            1536293966366359553,\n",
       "            ...\n",
       "            1526183470631948289, 1526163437641822208, 1526157991786868736,\n",
       "            1526157669655949312, 1526080144770797571, 1526005498012745729,\n",
       "            1525996966005678089, 1525985275956056066, 1525929970991759362,\n",
       "            1525918494612762635],\n",
       "           dtype='int64', name='id', length=300)"
      ]
     },
     "execution_count": 17,
     "metadata": {},
     "output_type": "execute_result"
    }
   ],
   "source": [
    "m.df.index"
   ]
  },
  {
   "cell_type": "code",
   "execution_count": 18,
   "metadata": {},
   "outputs": [
    {
     "data": {
      "text/html": [
       "<div>\n",
       "<style scoped>\n",
       "    .dataframe tbody tr th:only-of-type {\n",
       "        vertical-align: middle;\n",
       "    }\n",
       "\n",
       "    .dataframe tbody tr th {\n",
       "        vertical-align: top;\n",
       "    }\n",
       "\n",
       "    .dataframe thead th {\n",
       "        text-align: right;\n",
       "    }\n",
       "</style>\n",
       "<table border=\"1\" class=\"dataframe\">\n",
       "  <thead>\n",
       "    <tr style=\"text-align: right;\">\n",
       "      <th></th>\n",
       "      <th>id</th>\n",
       "      <th>conversation_id</th>\n",
       "      <th>referenced_tweets.replied_to.id</th>\n",
       "      <th>referenced_tweets.retweeted.id</th>\n",
       "      <th>referenced_tweets.quoted.id</th>\n",
       "      <th>author_id</th>\n",
       "      <th>in_reply_to_user_id</th>\n",
       "      <th>retweeted_user_id</th>\n",
       "      <th>quoted_user_id</th>\n",
       "      <th>created_at</th>\n",
       "      <th>...</th>\n",
       "      <th>geo.place_id</th>\n",
       "      <th>geo.place_type</th>\n",
       "      <th>__twarc.retrieved_at</th>\n",
       "      <th>__twarc.url</th>\n",
       "      <th>__twarc.version</th>\n",
       "      <th></th>\n",
       "      <th>edit_history_tweet_ids</th>\n",
       "      <th>edit_controls.edits_remaining</th>\n",
       "      <th>edit_controls.editable_until</th>\n",
       "      <th>edit_controls.is_edit_eligible</th>\n",
       "    </tr>\n",
       "    <tr>\n",
       "      <th>id</th>\n",
       "      <th></th>\n",
       "      <th></th>\n",
       "      <th></th>\n",
       "      <th></th>\n",
       "      <th></th>\n",
       "      <th></th>\n",
       "      <th></th>\n",
       "      <th></th>\n",
       "      <th></th>\n",
       "      <th></th>\n",
       "      <th></th>\n",
       "      <th></th>\n",
       "      <th></th>\n",
       "      <th></th>\n",
       "      <th></th>\n",
       "      <th></th>\n",
       "      <th></th>\n",
       "      <th></th>\n",
       "      <th></th>\n",
       "      <th></th>\n",
       "      <th></th>\n",
       "    </tr>\n",
       "  </thead>\n",
       "  <tbody>\n",
       "    <tr>\n",
       "      <th>1525918494612762635</th>\n",
       "      <td>1525918494612762635</td>\n",
       "      <td>1525918494612762635</td>\n",
       "      <td>NaN</td>\n",
       "      <td>NaN</td>\n",
       "      <td>NaN</td>\n",
       "      <td>1403553384876195842</td>\n",
       "      <td>NaN</td>\n",
       "      <td>NaN</td>\n",
       "      <td>NaN</td>\n",
       "      <td>2022-05-15T19:18:13.000Z</td>\n",
       "      <td>...</td>\n",
       "      <td>NaN</td>\n",
       "      <td>NaN</td>\n",
       "      <td>2022-10-25T13:33:59+00:00</td>\n",
       "      <td>https://api.twitter.com/2/tweets/search/all?ex...</td>\n",
       "      <td>2.12.0</td>\n",
       "      <td>NaN</td>\n",
       "      <td>[\"1525918494612762635\"]</td>\n",
       "      <td>5</td>\n",
       "      <td>2022-05-15T19:48:13.000Z</td>\n",
       "      <td>True</td>\n",
       "    </tr>\n",
       "    <tr>\n",
       "      <th>1525929970991759362</th>\n",
       "      <td>1525929970991759362</td>\n",
       "      <td>1525929970991759362</td>\n",
       "      <td>NaN</td>\n",
       "      <td>NaN</td>\n",
       "      <td>1525928948839895042</td>\n",
       "      <td>1466543078915907584</td>\n",
       "      <td>NaN</td>\n",
       "      <td>NaN</td>\n",
       "      <td>5988062</td>\n",
       "      <td>2022-05-15T20:03:50.000Z</td>\n",
       "      <td>...</td>\n",
       "      <td>NaN</td>\n",
       "      <td>NaN</td>\n",
       "      <td>2022-10-25T13:33:59+00:00</td>\n",
       "      <td>https://api.twitter.com/2/tweets/search/all?ex...</td>\n",
       "      <td>2.12.0</td>\n",
       "      <td>NaN</td>\n",
       "      <td>[\"1525929970991759362\"]</td>\n",
       "      <td>5</td>\n",
       "      <td>2022-05-15T20:33:50.000Z</td>\n",
       "      <td>True</td>\n",
       "    </tr>\n",
       "    <tr>\n",
       "      <th>1525985275956056066</th>\n",
       "      <td>1525985275956056066</td>\n",
       "      <td>1525985275956056066</td>\n",
       "      <td>NaN</td>\n",
       "      <td>1525653160731332611</td>\n",
       "      <td>NaN</td>\n",
       "      <td>893849270</td>\n",
       "      <td>NaN</td>\n",
       "      <td>1494490588183506961</td>\n",
       "      <td>NaN</td>\n",
       "      <td>2022-05-15T23:43:35.000Z</td>\n",
       "      <td>...</td>\n",
       "      <td>NaN</td>\n",
       "      <td>NaN</td>\n",
       "      <td>2022-10-25T13:33:59+00:00</td>\n",
       "      <td>https://api.twitter.com/2/tweets/search/all?ex...</td>\n",
       "      <td>2.12.0</td>\n",
       "      <td>NaN</td>\n",
       "      <td>[\"1525985275956056066\"]</td>\n",
       "      <td>5</td>\n",
       "      <td>2022-05-16T00:13:35.000Z</td>\n",
       "      <td>False</td>\n",
       "    </tr>\n",
       "    <tr>\n",
       "      <th>1525996966005678089</th>\n",
       "      <td>1525996966005678089</td>\n",
       "      <td>1525996966005678089</td>\n",
       "      <td>NaN</td>\n",
       "      <td>1525653160731332611</td>\n",
       "      <td>NaN</td>\n",
       "      <td>1150171508540620800</td>\n",
       "      <td>NaN</td>\n",
       "      <td>1494490588183506961</td>\n",
       "      <td>NaN</td>\n",
       "      <td>2022-05-16T00:30:03.000Z</td>\n",
       "      <td>...</td>\n",
       "      <td>NaN</td>\n",
       "      <td>NaN</td>\n",
       "      <td>2022-10-25T13:33:59+00:00</td>\n",
       "      <td>https://api.twitter.com/2/tweets/search/all?ex...</td>\n",
       "      <td>2.12.0</td>\n",
       "      <td>NaN</td>\n",
       "      <td>[\"1525996966005678089\"]</td>\n",
       "      <td>5</td>\n",
       "      <td>2022-05-16T01:00:03.000Z</td>\n",
       "      <td>False</td>\n",
       "    </tr>\n",
       "    <tr>\n",
       "      <th>1526005498012745729</th>\n",
       "      <td>1526005498012745729</td>\n",
       "      <td>1526005498012745729</td>\n",
       "      <td>NaN</td>\n",
       "      <td>1525918494612762635</td>\n",
       "      <td>NaN</td>\n",
       "      <td>401463573</td>\n",
       "      <td>NaN</td>\n",
       "      <td>1403553384876195842</td>\n",
       "      <td>NaN</td>\n",
       "      <td>2022-05-16T01:03:57.000Z</td>\n",
       "      <td>...</td>\n",
       "      <td>NaN</td>\n",
       "      <td>NaN</td>\n",
       "      <td>2022-10-25T13:33:59+00:00</td>\n",
       "      <td>https://api.twitter.com/2/tweets/search/all?ex...</td>\n",
       "      <td>2.12.0</td>\n",
       "      <td>NaN</td>\n",
       "      <td>[\"1526005498012745729\"]</td>\n",
       "      <td>5</td>\n",
       "      <td>2022-05-16T01:33:57.000Z</td>\n",
       "      <td>False</td>\n",
       "    </tr>\n",
       "    <tr>\n",
       "      <th>1526080144770797571</th>\n",
       "      <td>1526080144770797571</td>\n",
       "      <td>1526080144770797571</td>\n",
       "      <td>NaN</td>\n",
       "      <td>1499218337213161472</td>\n",
       "      <td>NaN</td>\n",
       "      <td>1522987621382864900</td>\n",
       "      <td>NaN</td>\n",
       "      <td>4103888727</td>\n",
       "      <td>NaN</td>\n",
       "      <td>2022-05-16T06:00:34.000Z</td>\n",
       "      <td>...</td>\n",
       "      <td>NaN</td>\n",
       "      <td>NaN</td>\n",
       "      <td>2022-10-25T13:33:59+00:00</td>\n",
       "      <td>https://api.twitter.com/2/tweets/search/all?ex...</td>\n",
       "      <td>2.12.0</td>\n",
       "      <td>NaN</td>\n",
       "      <td>[\"1526080144770797571\"]</td>\n",
       "      <td>5</td>\n",
       "      <td>2022-05-16T06:30:34.000Z</td>\n",
       "      <td>False</td>\n",
       "    </tr>\n",
       "    <tr>\n",
       "      <th>1526157669655949312</th>\n",
       "      <td>1526157669655949312</td>\n",
       "      <td>1526157669655949312</td>\n",
       "      <td>NaN</td>\n",
       "      <td>1510563235547607040</td>\n",
       "      <td>NaN</td>\n",
       "      <td>1387223814128357377</td>\n",
       "      <td>NaN</td>\n",
       "      <td>1216222125826002946</td>\n",
       "      <td>NaN</td>\n",
       "      <td>2022-05-16T11:08:37.000Z</td>\n",
       "      <td>...</td>\n",
       "      <td>NaN</td>\n",
       "      <td>NaN</td>\n",
       "      <td>2022-10-25T13:33:59+00:00</td>\n",
       "      <td>https://api.twitter.com/2/tweets/search/all?ex...</td>\n",
       "      <td>2.12.0</td>\n",
       "      <td>NaN</td>\n",
       "      <td>[\"1526157669655949312\"]</td>\n",
       "      <td>5</td>\n",
       "      <td>2022-05-16T11:38:37.000Z</td>\n",
       "      <td>False</td>\n",
       "    </tr>\n",
       "    <tr>\n",
       "      <th>1526157991786868736</th>\n",
       "      <td>1526157991786868736</td>\n",
       "      <td>1526157991786868736</td>\n",
       "      <td>NaN</td>\n",
       "      <td>1498995716236087299</td>\n",
       "      <td>NaN</td>\n",
       "      <td>1387223814128357377</td>\n",
       "      <td>NaN</td>\n",
       "      <td>1398646714634948608</td>\n",
       "      <td>NaN</td>\n",
       "      <td>2022-05-16T11:09:54.000Z</td>\n",
       "      <td>...</td>\n",
       "      <td>NaN</td>\n",
       "      <td>NaN</td>\n",
       "      <td>2022-10-25T13:33:59+00:00</td>\n",
       "      <td>https://api.twitter.com/2/tweets/search/all?ex...</td>\n",
       "      <td>2.12.0</td>\n",
       "      <td>NaN</td>\n",
       "      <td>[\"1526157991786868736\"]</td>\n",
       "      <td>5</td>\n",
       "      <td>2022-05-16T11:39:54.000Z</td>\n",
       "      <td>False</td>\n",
       "    </tr>\n",
       "    <tr>\n",
       "      <th>1526163437641822208</th>\n",
       "      <td>1526163437641822208</td>\n",
       "      <td>1526163437641822208</td>\n",
       "      <td>NaN</td>\n",
       "      <td>1523875025127976960</td>\n",
       "      <td>NaN</td>\n",
       "      <td>1486968517349965827</td>\n",
       "      <td>NaN</td>\n",
       "      <td>1047367439762292736</td>\n",
       "      <td>NaN</td>\n",
       "      <td>2022-05-16T11:31:32.000Z</td>\n",
       "      <td>...</td>\n",
       "      <td>NaN</td>\n",
       "      <td>NaN</td>\n",
       "      <td>2022-10-25T13:33:59+00:00</td>\n",
       "      <td>https://api.twitter.com/2/tweets/search/all?ex...</td>\n",
       "      <td>2.12.0</td>\n",
       "      <td>NaN</td>\n",
       "      <td>[\"1526163437641822208\"]</td>\n",
       "      <td>5</td>\n",
       "      <td>2022-05-16T12:01:32.000Z</td>\n",
       "      <td>False</td>\n",
       "    </tr>\n",
       "    <tr>\n",
       "      <th>1526183470631948289</th>\n",
       "      <td>1526183470631948289</td>\n",
       "      <td>1526183470631948289</td>\n",
       "      <td>NaN</td>\n",
       "      <td>1523599838012928000</td>\n",
       "      <td>NaN</td>\n",
       "      <td>289785505</td>\n",
       "      <td>NaN</td>\n",
       "      <td>1433364607217799174</td>\n",
       "      <td>NaN</td>\n",
       "      <td>2022-05-16T12:51:09.000Z</td>\n",
       "      <td>...</td>\n",
       "      <td>NaN</td>\n",
       "      <td>NaN</td>\n",
       "      <td>2022-10-25T13:33:59+00:00</td>\n",
       "      <td>https://api.twitter.com/2/tweets/search/all?ex...</td>\n",
       "      <td>2.12.0</td>\n",
       "      <td>NaN</td>\n",
       "      <td>[\"1526183470631948289\"]</td>\n",
       "      <td>5</td>\n",
       "      <td>2022-05-16T13:21:09.000Z</td>\n",
       "      <td>False</td>\n",
       "    </tr>\n",
       "    <tr>\n",
       "      <th>1526212764271792128</th>\n",
       "      <td>1526212764271792128</td>\n",
       "      <td>1524029510055829505</td>\n",
       "      <td>1524029510055829505</td>\n",
       "      <td>NaN</td>\n",
       "      <td>NaN</td>\n",
       "      <td>1403553384876195842</td>\n",
       "      <td>192912869</td>\n",
       "      <td>NaN</td>\n",
       "      <td>NaN</td>\n",
       "      <td>2022-05-16T14:47:33.000Z</td>\n",
       "      <td>...</td>\n",
       "      <td>NaN</td>\n",
       "      <td>NaN</td>\n",
       "      <td>2022-10-25T13:33:59+00:00</td>\n",
       "      <td>https://api.twitter.com/2/tweets/search/all?ex...</td>\n",
       "      <td>2.12.0</td>\n",
       "      <td>NaN</td>\n",
       "      <td>[\"1526212764271792128\"]</td>\n",
       "      <td>5</td>\n",
       "      <td>2022-05-16T15:17:33.000Z</td>\n",
       "      <td>False</td>\n",
       "    </tr>\n",
       "    <tr>\n",
       "      <th>1526214500747300865</th>\n",
       "      <td>1526214500747300865</td>\n",
       "      <td>1524029601793597444</td>\n",
       "      <td>1524029601793597444</td>\n",
       "      <td>NaN</td>\n",
       "      <td>NaN</td>\n",
       "      <td>1403553384876195842</td>\n",
       "      <td>192912869</td>\n",
       "      <td>NaN</td>\n",
       "      <td>NaN</td>\n",
       "      <td>2022-05-16T14:54:27.000Z</td>\n",
       "      <td>...</td>\n",
       "      <td>NaN</td>\n",
       "      <td>NaN</td>\n",
       "      <td>2022-10-25T13:33:59+00:00</td>\n",
       "      <td>https://api.twitter.com/2/tweets/search/all?ex...</td>\n",
       "      <td>2.12.0</td>\n",
       "      <td>NaN</td>\n",
       "      <td>[\"1526214500747300865\"]</td>\n",
       "      <td>5</td>\n",
       "      <td>2022-05-16T15:24:27.000Z</td>\n",
       "      <td>False</td>\n",
       "    </tr>\n",
       "    <tr>\n",
       "      <th>1526265109814730752</th>\n",
       "      <td>1526265109814730752</td>\n",
       "      <td>1526265109814730752</td>\n",
       "      <td>NaN</td>\n",
       "      <td>NaN</td>\n",
       "      <td>NaN</td>\n",
       "      <td>1064264836643614720</td>\n",
       "      <td>NaN</td>\n",
       "      <td>NaN</td>\n",
       "      <td>NaN</td>\n",
       "      <td>2022-05-16T18:15:33.000Z</td>\n",
       "      <td>...</td>\n",
       "      <td>NaN</td>\n",
       "      <td>NaN</td>\n",
       "      <td>2022-10-25T13:33:59+00:00</td>\n",
       "      <td>https://api.twitter.com/2/tweets/search/all?ex...</td>\n",
       "      <td>2.12.0</td>\n",
       "      <td>NaN</td>\n",
       "      <td>[\"1526265109814730752\"]</td>\n",
       "      <td>5</td>\n",
       "      <td>2022-05-16T18:45:33.000Z</td>\n",
       "      <td>True</td>\n",
       "    </tr>\n",
       "    <tr>\n",
       "      <th>1526290720545447938</th>\n",
       "      <td>1526290720545447938</td>\n",
       "      <td>1526289882926272518</td>\n",
       "      <td>1526289894787665922</td>\n",
       "      <td>NaN</td>\n",
       "      <td>NaN</td>\n",
       "      <td>1494490588183506961</td>\n",
       "      <td>247619342</td>\n",
       "      <td>NaN</td>\n",
       "      <td>NaN</td>\n",
       "      <td>2022-05-16T19:57:19.000Z</td>\n",
       "      <td>...</td>\n",
       "      <td>NaN</td>\n",
       "      <td>NaN</td>\n",
       "      <td>2022-10-25T13:33:59+00:00</td>\n",
       "      <td>https://api.twitter.com/2/tweets/search/all?ex...</td>\n",
       "      <td>2.12.0</td>\n",
       "      <td>NaN</td>\n",
       "      <td>[\"1526290720545447938\"]</td>\n",
       "      <td>5</td>\n",
       "      <td>2022-05-16T20:27:19.000Z</td>\n",
       "      <td>False</td>\n",
       "    </tr>\n",
       "    <tr>\n",
       "      <th>1526416721321422848</th>\n",
       "      <td>1526416721321422848</td>\n",
       "      <td>1526416721321422848</td>\n",
       "      <td>NaN</td>\n",
       "      <td>NaN</td>\n",
       "      <td>NaN</td>\n",
       "      <td>129555767</td>\n",
       "      <td>NaN</td>\n",
       "      <td>NaN</td>\n",
       "      <td>NaN</td>\n",
       "      <td>2022-05-17T04:18:00.000Z</td>\n",
       "      <td>...</td>\n",
       "      <td>NaN</td>\n",
       "      <td>NaN</td>\n",
       "      <td>2022-10-25T13:33:59+00:00</td>\n",
       "      <td>https://api.twitter.com/2/tweets/search/all?ex...</td>\n",
       "      <td>2.12.0</td>\n",
       "      <td>NaN</td>\n",
       "      <td>[\"1526416721321422848\"]</td>\n",
       "      <td>5</td>\n",
       "      <td>2022-05-17T04:48:00.000Z</td>\n",
       "      <td>True</td>\n",
       "    </tr>\n",
       "    <tr>\n",
       "      <th>1526425246387310592</th>\n",
       "      <td>1526425246387310592</td>\n",
       "      <td>1526425246387310592</td>\n",
       "      <td>NaN</td>\n",
       "      <td>1499450415745847296</td>\n",
       "      <td>NaN</td>\n",
       "      <td>1255027674180796422</td>\n",
       "      <td>NaN</td>\n",
       "      <td>906152391392858113</td>\n",
       "      <td>NaN</td>\n",
       "      <td>2022-05-17T04:51:53.000Z</td>\n",
       "      <td>...</td>\n",
       "      <td>NaN</td>\n",
       "      <td>NaN</td>\n",
       "      <td>2022-10-25T13:33:59+00:00</td>\n",
       "      <td>https://api.twitter.com/2/tweets/search/all?ex...</td>\n",
       "      <td>2.12.0</td>\n",
       "      <td>NaN</td>\n",
       "      <td>[\"1526425246387310592\"]</td>\n",
       "      <td>5</td>\n",
       "      <td>2022-05-17T05:21:53.000Z</td>\n",
       "      <td>False</td>\n",
       "    </tr>\n",
       "    <tr>\n",
       "      <th>1526452961194516481</th>\n",
       "      <td>1526452961194516481</td>\n",
       "      <td>1526179252588118016</td>\n",
       "      <td>1526179252588118016</td>\n",
       "      <td>NaN</td>\n",
       "      <td>NaN</td>\n",
       "      <td>1165882103927595013</td>\n",
       "      <td>2575115489</td>\n",
       "      <td>NaN</td>\n",
       "      <td>NaN</td>\n",
       "      <td>2022-05-17T06:42:00.000Z</td>\n",
       "      <td>...</td>\n",
       "      <td>NaN</td>\n",
       "      <td>NaN</td>\n",
       "      <td>2022-10-25T13:33:59+00:00</td>\n",
       "      <td>https://api.twitter.com/2/tweets/search/all?ex...</td>\n",
       "      <td>2.12.0</td>\n",
       "      <td>NaN</td>\n",
       "      <td>[\"1526452961194516481\"]</td>\n",
       "      <td>5</td>\n",
       "      <td>2022-05-17T07:12:00.000Z</td>\n",
       "      <td>False</td>\n",
       "    </tr>\n",
       "    <tr>\n",
       "      <th>1526478882119065600</th>\n",
       "      <td>1526478882119065600</td>\n",
       "      <td>1526478882119065600</td>\n",
       "      <td>NaN</td>\n",
       "      <td>1526452961194516481</td>\n",
       "      <td>NaN</td>\n",
       "      <td>2575115489</td>\n",
       "      <td>NaN</td>\n",
       "      <td>1165882103927595013</td>\n",
       "      <td>NaN</td>\n",
       "      <td>2022-05-17T08:25:00.000Z</td>\n",
       "      <td>...</td>\n",
       "      <td>NaN</td>\n",
       "      <td>NaN</td>\n",
       "      <td>2022-10-25T13:33:59+00:00</td>\n",
       "      <td>https://api.twitter.com/2/tweets/search/all?ex...</td>\n",
       "      <td>2.12.0</td>\n",
       "      <td>NaN</td>\n",
       "      <td>[\"1526478882119065600\"]</td>\n",
       "      <td>5</td>\n",
       "      <td>2022-05-17T08:55:00.000Z</td>\n",
       "      <td>False</td>\n",
       "    </tr>\n",
       "    <tr>\n",
       "      <th>1526481370763210752</th>\n",
       "      <td>1526481370763210752</td>\n",
       "      <td>1526481370763210752</td>\n",
       "      <td>NaN</td>\n",
       "      <td>1526452961194516481</td>\n",
       "      <td>NaN</td>\n",
       "      <td>1313422050749538305</td>\n",
       "      <td>NaN</td>\n",
       "      <td>1165882103927595013</td>\n",
       "      <td>NaN</td>\n",
       "      <td>2022-05-17T08:34:54.000Z</td>\n",
       "      <td>...</td>\n",
       "      <td>NaN</td>\n",
       "      <td>NaN</td>\n",
       "      <td>2022-10-25T13:33:59+00:00</td>\n",
       "      <td>https://api.twitter.com/2/tweets/search/all?ex...</td>\n",
       "      <td>2.12.0</td>\n",
       "      <td>NaN</td>\n",
       "      <td>[\"1526481370763210752\"]</td>\n",
       "      <td>5</td>\n",
       "      <td>2022-05-17T09:04:54.000Z</td>\n",
       "      <td>False</td>\n",
       "    </tr>\n",
       "    <tr>\n",
       "      <th>1526490292366594049</th>\n",
       "      <td>1526490292366594049</td>\n",
       "      <td>1526490292366594049</td>\n",
       "      <td>NaN</td>\n",
       "      <td>1499292604390801408</td>\n",
       "      <td>NaN</td>\n",
       "      <td>1430625601119993858</td>\n",
       "      <td>NaN</td>\n",
       "      <td>1489315067602432000</td>\n",
       "      <td>NaN</td>\n",
       "      <td>2022-05-17T09:10:21.000Z</td>\n",
       "      <td>...</td>\n",
       "      <td>NaN</td>\n",
       "      <td>NaN</td>\n",
       "      <td>2022-10-25T13:33:59+00:00</td>\n",
       "      <td>https://api.twitter.com/2/tweets/search/all?ex...</td>\n",
       "      <td>2.12.0</td>\n",
       "      <td>NaN</td>\n",
       "      <td>[\"1526490292366594049\"]</td>\n",
       "      <td>5</td>\n",
       "      <td>2022-05-17T09:40:21.000Z</td>\n",
       "      <td>False</td>\n",
       "    </tr>\n",
       "    <tr>\n",
       "      <th>1526496273997643779</th>\n",
       "      <td>1526496273997643779</td>\n",
       "      <td>1526496273997643779</td>\n",
       "      <td>NaN</td>\n",
       "      <td>1499270243650211840</td>\n",
       "      <td>NaN</td>\n",
       "      <td>1173504959305773058</td>\n",
       "      <td>NaN</td>\n",
       "      <td>1453188359052955648</td>\n",
       "      <td>NaN</td>\n",
       "      <td>2022-05-17T09:34:07.000Z</td>\n",
       "      <td>...</td>\n",
       "      <td>NaN</td>\n",
       "      <td>NaN</td>\n",
       "      <td>2022-10-25T13:33:59+00:00</td>\n",
       "      <td>https://api.twitter.com/2/tweets/search/all?ex...</td>\n",
       "      <td>2.12.0</td>\n",
       "      <td>NaN</td>\n",
       "      <td>[\"1526496273997643779\"]</td>\n",
       "      <td>5</td>\n",
       "      <td>2022-05-17T10:04:07.000Z</td>\n",
       "      <td>False</td>\n",
       "    </tr>\n",
       "    <tr>\n",
       "      <th>1526514525465452549</th>\n",
       "      <td>1526514525465452549</td>\n",
       "      <td>1526514525465452549</td>\n",
       "      <td>NaN</td>\n",
       "      <td>NaN</td>\n",
       "      <td>NaN</td>\n",
       "      <td>448017725</td>\n",
       "      <td>NaN</td>\n",
       "      <td>NaN</td>\n",
       "      <td>NaN</td>\n",
       "      <td>2022-05-17T10:46:38.000Z</td>\n",
       "      <td>...</td>\n",
       "      <td>NaN</td>\n",
       "      <td>NaN</td>\n",
       "      <td>2022-10-25T13:33:59+00:00</td>\n",
       "      <td>https://api.twitter.com/2/tweets/search/all?ex...</td>\n",
       "      <td>2.12.0</td>\n",
       "      <td>NaN</td>\n",
       "      <td>[\"1526514525465452549\"]</td>\n",
       "      <td>5</td>\n",
       "      <td>2022-05-17T11:16:38.000Z</td>\n",
       "      <td>True</td>\n",
       "    </tr>\n",
       "    <tr>\n",
       "      <th>1526534144624320513</th>\n",
       "      <td>1526534144624320513</td>\n",
       "      <td>1526534144624320513</td>\n",
       "      <td>NaN</td>\n",
       "      <td>NaN</td>\n",
       "      <td>NaN</td>\n",
       "      <td>947689621776945152</td>\n",
       "      <td>NaN</td>\n",
       "      <td>NaN</td>\n",
       "      <td>NaN</td>\n",
       "      <td>2022-05-17T12:04:36.000Z</td>\n",
       "      <td>...</td>\n",
       "      <td>NaN</td>\n",
       "      <td>NaN</td>\n",
       "      <td>2022-10-25T13:33:59+00:00</td>\n",
       "      <td>https://api.twitter.com/2/tweets/search/all?ex...</td>\n",
       "      <td>2.12.0</td>\n",
       "      <td>NaN</td>\n",
       "      <td>[\"1526534144624320513\"]</td>\n",
       "      <td>5</td>\n",
       "      <td>2022-05-17T12:34:36.000Z</td>\n",
       "      <td>True</td>\n",
       "    </tr>\n",
       "    <tr>\n",
       "      <th>1526539492076802048</th>\n",
       "      <td>1526539492076802048</td>\n",
       "      <td>1526539492076802048</td>\n",
       "      <td>NaN</td>\n",
       "      <td>1525041980186796032</td>\n",
       "      <td>NaN</td>\n",
       "      <td>1498374754176323589</td>\n",
       "      <td>NaN</td>\n",
       "      <td>2606185866</td>\n",
       "      <td>NaN</td>\n",
       "      <td>2022-05-17T12:25:51.000Z</td>\n",
       "      <td>...</td>\n",
       "      <td>NaN</td>\n",
       "      <td>NaN</td>\n",
       "      <td>2022-10-25T13:33:59+00:00</td>\n",
       "      <td>https://api.twitter.com/2/tweets/search/all?ex...</td>\n",
       "      <td>2.12.0</td>\n",
       "      <td>NaN</td>\n",
       "      <td>[\"1526539492076802048\"]</td>\n",
       "      <td>5</td>\n",
       "      <td>2022-05-17T12:55:51.000Z</td>\n",
       "      <td>False</td>\n",
       "    </tr>\n",
       "    <tr>\n",
       "      <th>1526539670921826306</th>\n",
       "      <td>1526539670921826306</td>\n",
       "      <td>1526539670921826306</td>\n",
       "      <td>NaN</td>\n",
       "      <td>1525714445875695616</td>\n",
       "      <td>NaN</td>\n",
       "      <td>1498374754176323589</td>\n",
       "      <td>NaN</td>\n",
       "      <td>164301202</td>\n",
       "      <td>NaN</td>\n",
       "      <td>2022-05-17T12:26:33.000Z</td>\n",
       "      <td>...</td>\n",
       "      <td>NaN</td>\n",
       "      <td>NaN</td>\n",
       "      <td>2022-10-25T13:33:59+00:00</td>\n",
       "      <td>https://api.twitter.com/2/tweets/search/all?ex...</td>\n",
       "      <td>2.12.0</td>\n",
       "      <td>NaN</td>\n",
       "      <td>[\"1526539670921826306\"]</td>\n",
       "      <td>5</td>\n",
       "      <td>2022-05-17T12:56:33.000Z</td>\n",
       "      <td>False</td>\n",
       "    </tr>\n",
       "    <tr>\n",
       "      <th>1526539804250411014</th>\n",
       "      <td>1526539804250411014</td>\n",
       "      <td>1526539804250411014</td>\n",
       "      <td>NaN</td>\n",
       "      <td>1523969999865454593</td>\n",
       "      <td>NaN</td>\n",
       "      <td>1498374754176323589</td>\n",
       "      <td>NaN</td>\n",
       "      <td>887933975401971713</td>\n",
       "      <td>NaN</td>\n",
       "      <td>2022-05-17T12:27:05.000Z</td>\n",
       "      <td>...</td>\n",
       "      <td>NaN</td>\n",
       "      <td>NaN</td>\n",
       "      <td>2022-10-25T13:33:59+00:00</td>\n",
       "      <td>https://api.twitter.com/2/tweets/search/all?ex...</td>\n",
       "      <td>2.12.0</td>\n",
       "      <td>NaN</td>\n",
       "      <td>[\"1526539804250411014\"]</td>\n",
       "      <td>5</td>\n",
       "      <td>2022-05-17T12:57:05.000Z</td>\n",
       "      <td>False</td>\n",
       "    </tr>\n",
       "    <tr>\n",
       "      <th>1526539865927696385</th>\n",
       "      <td>1526539865927696385</td>\n",
       "      <td>1526539865927696385</td>\n",
       "      <td>NaN</td>\n",
       "      <td>1525329316304797699</td>\n",
       "      <td>NaN</td>\n",
       "      <td>1498374754176323589</td>\n",
       "      <td>NaN</td>\n",
       "      <td>912602857588666368</td>\n",
       "      <td>NaN</td>\n",
       "      <td>2022-05-17T12:27:20.000Z</td>\n",
       "      <td>...</td>\n",
       "      <td>NaN</td>\n",
       "      <td>NaN</td>\n",
       "      <td>2022-10-25T13:33:59+00:00</td>\n",
       "      <td>https://api.twitter.com/2/tweets/search/all?ex...</td>\n",
       "      <td>2.12.0</td>\n",
       "      <td>NaN</td>\n",
       "      <td>[\"1526539865927696385\"]</td>\n",
       "      <td>5</td>\n",
       "      <td>2022-05-17T12:57:20.000Z</td>\n",
       "      <td>False</td>\n",
       "    </tr>\n",
       "    <tr>\n",
       "      <th>1526539902397054979</th>\n",
       "      <td>1526539902397054979</td>\n",
       "      <td>1526539902397054979</td>\n",
       "      <td>NaN</td>\n",
       "      <td>1526416721321422848</td>\n",
       "      <td>NaN</td>\n",
       "      <td>1498374754176323589</td>\n",
       "      <td>NaN</td>\n",
       "      <td>129555767</td>\n",
       "      <td>NaN</td>\n",
       "      <td>2022-05-17T12:27:29.000Z</td>\n",
       "      <td>...</td>\n",
       "      <td>NaN</td>\n",
       "      <td>NaN</td>\n",
       "      <td>2022-10-25T13:33:59+00:00</td>\n",
       "      <td>https://api.twitter.com/2/tweets/search/all?ex...</td>\n",
       "      <td>2.12.0</td>\n",
       "      <td>NaN</td>\n",
       "      <td>[\"1526539902397054979\"]</td>\n",
       "      <td>5</td>\n",
       "      <td>2022-05-17T12:57:29.000Z</td>\n",
       "      <td>False</td>\n",
       "    </tr>\n",
       "    <tr>\n",
       "      <th>1526542431562485763</th>\n",
       "      <td>1526542431562485763</td>\n",
       "      <td>1526542431562485763</td>\n",
       "      <td>NaN</td>\n",
       "      <td>1526456711317422081</td>\n",
       "      <td>NaN</td>\n",
       "      <td>1145853367</td>\n",
       "      <td>NaN</td>\n",
       "      <td>1403553384876195842</td>\n",
       "      <td>NaN</td>\n",
       "      <td>2022-05-17T12:37:32.000Z</td>\n",
       "      <td>...</td>\n",
       "      <td>NaN</td>\n",
       "      <td>NaN</td>\n",
       "      <td>2022-10-25T13:33:59+00:00</td>\n",
       "      <td>https://api.twitter.com/2/tweets/search/all?ex...</td>\n",
       "      <td>2.12.0</td>\n",
       "      <td>NaN</td>\n",
       "      <td>[\"1526542431562485763\"]</td>\n",
       "      <td>5</td>\n",
       "      <td>2022-05-17T13:07:32.000Z</td>\n",
       "      <td>False</td>\n",
       "    </tr>\n",
       "    <tr>\n",
       "      <th>1526575168637743104</th>\n",
       "      <td>1526575168637743104</td>\n",
       "      <td>1526509359227801600</td>\n",
       "      <td>1526509359227801600</td>\n",
       "      <td>NaN</td>\n",
       "      <td>NaN</td>\n",
       "      <td>4732587377</td>\n",
       "      <td>34262462</td>\n",
       "      <td>NaN</td>\n",
       "      <td>NaN</td>\n",
       "      <td>2022-05-17T14:47:37.000Z</td>\n",
       "      <td>...</td>\n",
       "      <td>NaN</td>\n",
       "      <td>NaN</td>\n",
       "      <td>2022-10-25T13:33:59+00:00</td>\n",
       "      <td>https://api.twitter.com/2/tweets/search/all?ex...</td>\n",
       "      <td>2.12.0</td>\n",
       "      <td>NaN</td>\n",
       "      <td>[\"1526575168637743104\"]</td>\n",
       "      <td>5</td>\n",
       "      <td>2022-05-17T15:17:37.000Z</td>\n",
       "      <td>False</td>\n",
       "    </tr>\n",
       "    <tr>\n",
       "      <th>1526594559064645634</th>\n",
       "      <td>1526594559064645634</td>\n",
       "      <td>1526594559064645634</td>\n",
       "      <td>NaN</td>\n",
       "      <td>1526575168637743104</td>\n",
       "      <td>NaN</td>\n",
       "      <td>2565866570</td>\n",
       "      <td>NaN</td>\n",
       "      <td>4732587377</td>\n",
       "      <td>NaN</td>\n",
       "      <td>2022-05-17T16:04:40.000Z</td>\n",
       "      <td>...</td>\n",
       "      <td>NaN</td>\n",
       "      <td>NaN</td>\n",
       "      <td>2022-10-25T13:33:59+00:00</td>\n",
       "      <td>https://api.twitter.com/2/tweets/search/all?ex...</td>\n",
       "      <td>2.12.0</td>\n",
       "      <td>NaN</td>\n",
       "      <td>[\"1526594559064645634\"]</td>\n",
       "      <td>5</td>\n",
       "      <td>2022-05-17T16:34:40.000Z</td>\n",
       "      <td>False</td>\n",
       "    </tr>\n",
       "    <tr>\n",
       "      <th>1526641542592593921</th>\n",
       "      <td>1526641542592593921</td>\n",
       "      <td>1510206159885639684</td>\n",
       "      <td>1510206159885639684</td>\n",
       "      <td>NaN</td>\n",
       "      <td>NaN</td>\n",
       "      <td>1403553384876195842</td>\n",
       "      <td>1403553384876195842</td>\n",
       "      <td>NaN</td>\n",
       "      <td>NaN</td>\n",
       "      <td>2022-05-17T19:11:22.000Z</td>\n",
       "      <td>...</td>\n",
       "      <td>NaN</td>\n",
       "      <td>NaN</td>\n",
       "      <td>2022-10-25T13:33:59+00:00</td>\n",
       "      <td>https://api.twitter.com/2/tweets/search/all?ex...</td>\n",
       "      <td>2.12.0</td>\n",
       "      <td>NaN</td>\n",
       "      <td>[\"1526641542592593921\"]</td>\n",
       "      <td>5</td>\n",
       "      <td>2022-05-17T19:41:22.000Z</td>\n",
       "      <td>True</td>\n",
       "    </tr>\n",
       "    <tr>\n",
       "      <th>1526788671873200128</th>\n",
       "      <td>1526788671873200128</td>\n",
       "      <td>1526788671873200128</td>\n",
       "      <td>NaN</td>\n",
       "      <td>1517927104255508480</td>\n",
       "      <td>NaN</td>\n",
       "      <td>1519018974385774592</td>\n",
       "      <td>NaN</td>\n",
       "      <td>1403553384876195842</td>\n",
       "      <td>NaN</td>\n",
       "      <td>2022-05-18T04:56:00.000Z</td>\n",
       "      <td>...</td>\n",
       "      <td>NaN</td>\n",
       "      <td>NaN</td>\n",
       "      <td>2022-10-25T13:33:59+00:00</td>\n",
       "      <td>https://api.twitter.com/2/tweets/search/all?ex...</td>\n",
       "      <td>2.12.0</td>\n",
       "      <td>NaN</td>\n",
       "      <td>[\"1526788671873200128\"]</td>\n",
       "      <td>5</td>\n",
       "      <td>2022-05-18T05:26:00.000Z</td>\n",
       "      <td>False</td>\n",
       "    </tr>\n",
       "    <tr>\n",
       "      <th>1526824469955764224</th>\n",
       "      <td>1526824469955764224</td>\n",
       "      <td>1526712523034075137</td>\n",
       "      <td>1526712523034075137</td>\n",
       "      <td>NaN</td>\n",
       "      <td>NaN</td>\n",
       "      <td>1276163106037784578</td>\n",
       "      <td>981981710513573888</td>\n",
       "      <td>NaN</td>\n",
       "      <td>NaN</td>\n",
       "      <td>2022-05-18T07:18:15.000Z</td>\n",
       "      <td>...</td>\n",
       "      <td>NaN</td>\n",
       "      <td>NaN</td>\n",
       "      <td>2022-10-25T13:33:59+00:00</td>\n",
       "      <td>https://api.twitter.com/2/tweets/search/all?ex...</td>\n",
       "      <td>2.12.0</td>\n",
       "      <td>NaN</td>\n",
       "      <td>[\"1526824469955764224\"]</td>\n",
       "      <td>5</td>\n",
       "      <td>2022-05-18T07:48:15.000Z</td>\n",
       "      <td>False</td>\n",
       "    </tr>\n",
       "    <tr>\n",
       "      <th>1526835587390443520</th>\n",
       "      <td>1526835587390443520</td>\n",
       "      <td>1526835587390443520</td>\n",
       "      <td>NaN</td>\n",
       "      <td>1500741151338352643</td>\n",
       "      <td>NaN</td>\n",
       "      <td>1475514588154282000</td>\n",
       "      <td>NaN</td>\n",
       "      <td>1480366921434349572</td>\n",
       "      <td>NaN</td>\n",
       "      <td>2022-05-18T08:02:25.000Z</td>\n",
       "      <td>...</td>\n",
       "      <td>NaN</td>\n",
       "      <td>NaN</td>\n",
       "      <td>2022-10-25T13:33:59+00:00</td>\n",
       "      <td>https://api.twitter.com/2/tweets/search/all?ex...</td>\n",
       "      <td>2.12.0</td>\n",
       "      <td>NaN</td>\n",
       "      <td>[\"1526835587390443520\"]</td>\n",
       "      <td>5</td>\n",
       "      <td>2022-05-18T08:32:25.000Z</td>\n",
       "      <td>False</td>\n",
       "    </tr>\n",
       "    <tr>\n",
       "      <th>1526846331091828737</th>\n",
       "      <td>1526846331091828737</td>\n",
       "      <td>1526846331091828737</td>\n",
       "      <td>NaN</td>\n",
       "      <td>1526514525465452549</td>\n",
       "      <td>NaN</td>\n",
       "      <td>314894442</td>\n",
       "      <td>NaN</td>\n",
       "      <td>448017725</td>\n",
       "      <td>NaN</td>\n",
       "      <td>2022-05-18T08:45:07.000Z</td>\n",
       "      <td>...</td>\n",
       "      <td>NaN</td>\n",
       "      <td>NaN</td>\n",
       "      <td>2022-10-25T13:33:59+00:00</td>\n",
       "      <td>https://api.twitter.com/2/tweets/search/all?ex...</td>\n",
       "      <td>2.12.0</td>\n",
       "      <td>NaN</td>\n",
       "      <td>[\"1526846331091828737\"]</td>\n",
       "      <td>5</td>\n",
       "      <td>2022-05-18T09:15:07.000Z</td>\n",
       "      <td>False</td>\n",
       "    </tr>\n",
       "    <tr>\n",
       "      <th>1526907706065436674</th>\n",
       "      <td>1526907706065436674</td>\n",
       "      <td>1526907706065436674</td>\n",
       "      <td>NaN</td>\n",
       "      <td>1499058872274796545</td>\n",
       "      <td>NaN</td>\n",
       "      <td>1382572124158758913</td>\n",
       "      <td>NaN</td>\n",
       "      <td>1314815226517258241</td>\n",
       "      <td>NaN</td>\n",
       "      <td>2022-05-18T12:49:00.000Z</td>\n",
       "      <td>...</td>\n",
       "      <td>NaN</td>\n",
       "      <td>NaN</td>\n",
       "      <td>2022-10-25T13:33:59+00:00</td>\n",
       "      <td>https://api.twitter.com/2/tweets/search/all?ex...</td>\n",
       "      <td>2.12.0</td>\n",
       "      <td>NaN</td>\n",
       "      <td>[\"1526907706065436674\"]</td>\n",
       "      <td>5</td>\n",
       "      <td>2022-05-18T13:19:00.000Z</td>\n",
       "      <td>False</td>\n",
       "    </tr>\n",
       "    <tr>\n",
       "      <th>1526911492452257793</th>\n",
       "      <td>1526911492452257793</td>\n",
       "      <td>1526911492452257793</td>\n",
       "      <td>NaN</td>\n",
       "      <td>1498890902575665158</td>\n",
       "      <td>NaN</td>\n",
       "      <td>2779468699</td>\n",
       "      <td>NaN</td>\n",
       "      <td>1351539074708942850</td>\n",
       "      <td>NaN</td>\n",
       "      <td>2022-05-18T13:04:03.000Z</td>\n",
       "      <td>...</td>\n",
       "      <td>NaN</td>\n",
       "      <td>NaN</td>\n",
       "      <td>2022-10-25T13:33:59+00:00</td>\n",
       "      <td>https://api.twitter.com/2/tweets/search/all?ex...</td>\n",
       "      <td>2.12.0</td>\n",
       "      <td>NaN</td>\n",
       "      <td>[\"1526911492452257793\"]</td>\n",
       "      <td>5</td>\n",
       "      <td>2022-05-18T13:34:03.000Z</td>\n",
       "      <td>False</td>\n",
       "    </tr>\n",
       "    <tr>\n",
       "      <th>1526911561138196480</th>\n",
       "      <td>1526911561138196480</td>\n",
       "      <td>1526911561138196480</td>\n",
       "      <td>NaN</td>\n",
       "      <td>1498963186082590721</td>\n",
       "      <td>NaN</td>\n",
       "      <td>2779468699</td>\n",
       "      <td>NaN</td>\n",
       "      <td>1108346803760623617</td>\n",
       "      <td>NaN</td>\n",
       "      <td>2022-05-18T13:04:19.000Z</td>\n",
       "      <td>...</td>\n",
       "      <td>NaN</td>\n",
       "      <td>NaN</td>\n",
       "      <td>2022-10-25T13:33:59+00:00</td>\n",
       "      <td>https://api.twitter.com/2/tweets/search/all?ex...</td>\n",
       "      <td>2.12.0</td>\n",
       "      <td>NaN</td>\n",
       "      <td>[\"1526911561138196480\"]</td>\n",
       "      <td>5</td>\n",
       "      <td>2022-05-18T13:34:19.000Z</td>\n",
       "      <td>False</td>\n",
       "    </tr>\n",
       "    <tr>\n",
       "      <th>1526923267923386373</th>\n",
       "      <td>1526923267923386373</td>\n",
       "      <td>1526923267923386373</td>\n",
       "      <td>NaN</td>\n",
       "      <td>1498863130923143169</td>\n",
       "      <td>NaN</td>\n",
       "      <td>1455496558426738688</td>\n",
       "      <td>NaN</td>\n",
       "      <td>1051877366631297024</td>\n",
       "      <td>NaN</td>\n",
       "      <td>2022-05-18T13:50:50.000Z</td>\n",
       "      <td>...</td>\n",
       "      <td>NaN</td>\n",
       "      <td>NaN</td>\n",
       "      <td>2022-10-25T13:33:59+00:00</td>\n",
       "      <td>https://api.twitter.com/2/tweets/search/all?ex...</td>\n",
       "      <td>2.12.0</td>\n",
       "      <td>NaN</td>\n",
       "      <td>[\"1526923267923386373\"]</td>\n",
       "      <td>5</td>\n",
       "      <td>2022-05-18T14:20:50.000Z</td>\n",
       "      <td>False</td>\n",
       "    </tr>\n",
       "    <tr>\n",
       "      <th>1526933943441817600</th>\n",
       "      <td>1526933943441817600</td>\n",
       "      <td>1526668284451512326</td>\n",
       "      <td>1526931592723124224</td>\n",
       "      <td>NaN</td>\n",
       "      <td>NaN</td>\n",
       "      <td>1499016369219768320</td>\n",
       "      <td>1572053784</td>\n",
       "      <td>NaN</td>\n",
       "      <td>NaN</td>\n",
       "      <td>2022-05-18T14:33:15.000Z</td>\n",
       "      <td>...</td>\n",
       "      <td>NaN</td>\n",
       "      <td>NaN</td>\n",
       "      <td>2022-10-25T13:33:59+00:00</td>\n",
       "      <td>https://api.twitter.com/2/tweets/search/all?ex...</td>\n",
       "      <td>2.12.0</td>\n",
       "      <td>NaN</td>\n",
       "      <td>[\"1526933943441817600\"]</td>\n",
       "      <td>5</td>\n",
       "      <td>2022-05-18T15:03:15.000Z</td>\n",
       "      <td>False</td>\n",
       "    </tr>\n",
       "    <tr>\n",
       "      <th>1526961976580120578</th>\n",
       "      <td>1526961976580120578</td>\n",
       "      <td>1526961976580120578</td>\n",
       "      <td>NaN</td>\n",
       "      <td>1525468706716803073</td>\n",
       "      <td>NaN</td>\n",
       "      <td>1519769949589417987</td>\n",
       "      <td>NaN</td>\n",
       "      <td>1433364607217799174</td>\n",
       "      <td>NaN</td>\n",
       "      <td>2022-05-18T16:24:39.000Z</td>\n",
       "      <td>...</td>\n",
       "      <td>NaN</td>\n",
       "      <td>NaN</td>\n",
       "      <td>2022-10-25T13:33:59+00:00</td>\n",
       "      <td>https://api.twitter.com/2/tweets/search/all?ex...</td>\n",
       "      <td>2.12.0</td>\n",
       "      <td>NaN</td>\n",
       "      <td>[\"1526961976580120578\"]</td>\n",
       "      <td>5</td>\n",
       "      <td>2022-05-18T16:54:39.000Z</td>\n",
       "      <td>False</td>\n",
       "    </tr>\n",
       "    <tr>\n",
       "      <th>1526963513792552960</th>\n",
       "      <td>1526963513792552960</td>\n",
       "      <td>1526963513792552960</td>\n",
       "      <td>NaN</td>\n",
       "      <td>1499244984897347584</td>\n",
       "      <td>NaN</td>\n",
       "      <td>1483872975082475522</td>\n",
       "      <td>NaN</td>\n",
       "      <td>2880431377</td>\n",
       "      <td>NaN</td>\n",
       "      <td>2022-05-18T16:30:45.000Z</td>\n",
       "      <td>...</td>\n",
       "      <td>NaN</td>\n",
       "      <td>NaN</td>\n",
       "      <td>2022-10-25T13:33:59+00:00</td>\n",
       "      <td>https://api.twitter.com/2/tweets/search/all?ex...</td>\n",
       "      <td>2.12.0</td>\n",
       "      <td>NaN</td>\n",
       "      <td>[\"1526963513792552960\"]</td>\n",
       "      <td>5</td>\n",
       "      <td>2022-05-18T17:00:45.000Z</td>\n",
       "      <td>False</td>\n",
       "    </tr>\n",
       "    <tr>\n",
       "      <th>1526964170381484032</th>\n",
       "      <td>1526964170381484032</td>\n",
       "      <td>1526964170381484032</td>\n",
       "      <td>NaN</td>\n",
       "      <td>1499244984897347584</td>\n",
       "      <td>NaN</td>\n",
       "      <td>1336310890904346624</td>\n",
       "      <td>NaN</td>\n",
       "      <td>2880431377</td>\n",
       "      <td>NaN</td>\n",
       "      <td>2022-05-18T16:33:22.000Z</td>\n",
       "      <td>...</td>\n",
       "      <td>NaN</td>\n",
       "      <td>NaN</td>\n",
       "      <td>2022-10-25T13:33:59+00:00</td>\n",
       "      <td>https://api.twitter.com/2/tweets/search/all?ex...</td>\n",
       "      <td>2.12.0</td>\n",
       "      <td>NaN</td>\n",
       "      <td>[\"1526964170381484032\"]</td>\n",
       "      <td>5</td>\n",
       "      <td>2022-05-18T17:03:22.000Z</td>\n",
       "      <td>False</td>\n",
       "    </tr>\n",
       "    <tr>\n",
       "      <th>1526977793946443782</th>\n",
       "      <td>1526977793946443782</td>\n",
       "      <td>1526977793946443782</td>\n",
       "      <td>NaN</td>\n",
       "      <td>1499244984897347584</td>\n",
       "      <td>NaN</td>\n",
       "      <td>909086752228470787</td>\n",
       "      <td>NaN</td>\n",
       "      <td>2880431377</td>\n",
       "      <td>NaN</td>\n",
       "      <td>2022-05-18T17:27:30.000Z</td>\n",
       "      <td>...</td>\n",
       "      <td>NaN</td>\n",
       "      <td>NaN</td>\n",
       "      <td>2022-10-25T13:33:59+00:00</td>\n",
       "      <td>https://api.twitter.com/2/tweets/search/all?ex...</td>\n",
       "      <td>2.12.0</td>\n",
       "      <td>NaN</td>\n",
       "      <td>[\"1526977793946443782\"]</td>\n",
       "      <td>5</td>\n",
       "      <td>2022-05-18T17:57:30.000Z</td>\n",
       "      <td>False</td>\n",
       "    </tr>\n",
       "    <tr>\n",
       "      <th>1527044694710005761</th>\n",
       "      <td>1527044694710005761</td>\n",
       "      <td>1527044694710005761</td>\n",
       "      <td>NaN</td>\n",
       "      <td>1526416721321422848</td>\n",
       "      <td>NaN</td>\n",
       "      <td>1460038886</td>\n",
       "      <td>NaN</td>\n",
       "      <td>129555767</td>\n",
       "      <td>NaN</td>\n",
       "      <td>2022-05-18T21:53:20.000Z</td>\n",
       "      <td>...</td>\n",
       "      <td>NaN</td>\n",
       "      <td>NaN</td>\n",
       "      <td>2022-10-25T13:33:59+00:00</td>\n",
       "      <td>https://api.twitter.com/2/tweets/search/all?ex...</td>\n",
       "      <td>2.12.0</td>\n",
       "      <td>NaN</td>\n",
       "      <td>[\"1527044694710005761\"]</td>\n",
       "      <td>5</td>\n",
       "      <td>2022-05-18T22:23:20.000Z</td>\n",
       "      <td>False</td>\n",
       "    </tr>\n",
       "    <tr>\n",
       "      <th>1527045140010872833</th>\n",
       "      <td>1527045140010872833</td>\n",
       "      <td>1527045140010872833</td>\n",
       "      <td>NaN</td>\n",
       "      <td>1526641542592593921</td>\n",
       "      <td>NaN</td>\n",
       "      <td>1460038886</td>\n",
       "      <td>NaN</td>\n",
       "      <td>1403553384876195842</td>\n",
       "      <td>NaN</td>\n",
       "      <td>2022-05-18T21:55:07.000Z</td>\n",
       "      <td>...</td>\n",
       "      <td>NaN</td>\n",
       "      <td>NaN</td>\n",
       "      <td>2022-10-25T13:33:59+00:00</td>\n",
       "      <td>https://api.twitter.com/2/tweets/search/all?ex...</td>\n",
       "      <td>2.12.0</td>\n",
       "      <td>NaN</td>\n",
       "      <td>[\"1527045140010872833\"]</td>\n",
       "      <td>5</td>\n",
       "      <td>2022-05-18T22:25:07.000Z</td>\n",
       "      <td>False</td>\n",
       "    </tr>\n",
       "    <tr>\n",
       "      <th>1527046934623494144</th>\n",
       "      <td>1527046934623494144</td>\n",
       "      <td>1527046934623494144</td>\n",
       "      <td>NaN</td>\n",
       "      <td>1526641542592593921</td>\n",
       "      <td>NaN</td>\n",
       "      <td>1160541379275026434</td>\n",
       "      <td>NaN</td>\n",
       "      <td>1403553384876195842</td>\n",
       "      <td>NaN</td>\n",
       "      <td>2022-05-18T22:02:15.000Z</td>\n",
       "      <td>...</td>\n",
       "      <td>NaN</td>\n",
       "      <td>NaN</td>\n",
       "      <td>2022-10-25T13:33:59+00:00</td>\n",
       "      <td>https://api.twitter.com/2/tweets/search/all?ex...</td>\n",
       "      <td>2.12.0</td>\n",
       "      <td>NaN</td>\n",
       "      <td>[\"1527046934623494144\"]</td>\n",
       "      <td>5</td>\n",
       "      <td>2022-05-18T22:32:15.000Z</td>\n",
       "      <td>False</td>\n",
       "    </tr>\n",
       "    <tr>\n",
       "      <th>1527046947965902848</th>\n",
       "      <td>1527046947965902848</td>\n",
       "      <td>1527046947965902848</td>\n",
       "      <td>NaN</td>\n",
       "      <td>1526416721321422848</td>\n",
       "      <td>NaN</td>\n",
       "      <td>1160541379275026434</td>\n",
       "      <td>NaN</td>\n",
       "      <td>129555767</td>\n",
       "      <td>NaN</td>\n",
       "      <td>2022-05-18T22:02:18.000Z</td>\n",
       "      <td>...</td>\n",
       "      <td>NaN</td>\n",
       "      <td>NaN</td>\n",
       "      <td>2022-10-25T13:33:59+00:00</td>\n",
       "      <td>https://api.twitter.com/2/tweets/search/all?ex...</td>\n",
       "      <td>2.12.0</td>\n",
       "      <td>NaN</td>\n",
       "      <td>[\"1527046947965902848\"]</td>\n",
       "      <td>5</td>\n",
       "      <td>2022-05-18T22:32:18.000Z</td>\n",
       "      <td>False</td>\n",
       "    </tr>\n",
       "    <tr>\n",
       "      <th>1527171525438316545</th>\n",
       "      <td>1527171525438316545</td>\n",
       "      <td>1527171525438316545</td>\n",
       "      <td>NaN</td>\n",
       "      <td>1499283814681653248</td>\n",
       "      <td>NaN</td>\n",
       "      <td>768569699466616832</td>\n",
       "      <td>NaN</td>\n",
       "      <td>2583754621</td>\n",
       "      <td>NaN</td>\n",
       "      <td>2022-05-19T06:17:19.000Z</td>\n",
       "      <td>...</td>\n",
       "      <td>NaN</td>\n",
       "      <td>NaN</td>\n",
       "      <td>2022-10-25T13:33:59+00:00</td>\n",
       "      <td>https://api.twitter.com/2/tweets/search/all?ex...</td>\n",
       "      <td>2.12.0</td>\n",
       "      <td>NaN</td>\n",
       "      <td>[\"1527171525438316545\"]</td>\n",
       "      <td>5</td>\n",
       "      <td>2022-05-19T06:47:19.000Z</td>\n",
       "      <td>False</td>\n",
       "    </tr>\n",
       "  </tbody>\n",
       "</table>\n",
       "<p>50 rows × 78 columns</p>\n",
       "</div>"
      ],
      "text/plain": [
       "                                      id      conversation_id  \\\n",
       "id                                                              \n",
       "1525918494612762635  1525918494612762635  1525918494612762635   \n",
       "1525929970991759362  1525929970991759362  1525929970991759362   \n",
       "1525985275956056066  1525985275956056066  1525985275956056066   \n",
       "1525996966005678089  1525996966005678089  1525996966005678089   \n",
       "1526005498012745729  1526005498012745729  1526005498012745729   \n",
       "1526080144770797571  1526080144770797571  1526080144770797571   \n",
       "1526157669655949312  1526157669655949312  1526157669655949312   \n",
       "1526157991786868736  1526157991786868736  1526157991786868736   \n",
       "1526163437641822208  1526163437641822208  1526163437641822208   \n",
       "1526183470631948289  1526183470631948289  1526183470631948289   \n",
       "1526212764271792128  1526212764271792128  1524029510055829505   \n",
       "1526214500747300865  1526214500747300865  1524029601793597444   \n",
       "1526265109814730752  1526265109814730752  1526265109814730752   \n",
       "1526290720545447938  1526290720545447938  1526289882926272518   \n",
       "1526416721321422848  1526416721321422848  1526416721321422848   \n",
       "1526425246387310592  1526425246387310592  1526425246387310592   \n",
       "1526452961194516481  1526452961194516481  1526179252588118016   \n",
       "1526478882119065600  1526478882119065600  1526478882119065600   \n",
       "1526481370763210752  1526481370763210752  1526481370763210752   \n",
       "1526490292366594049  1526490292366594049  1526490292366594049   \n",
       "1526496273997643779  1526496273997643779  1526496273997643779   \n",
       "1526514525465452549  1526514525465452549  1526514525465452549   \n",
       "1526534144624320513  1526534144624320513  1526534144624320513   \n",
       "1526539492076802048  1526539492076802048  1526539492076802048   \n",
       "1526539670921826306  1526539670921826306  1526539670921826306   \n",
       "1526539804250411014  1526539804250411014  1526539804250411014   \n",
       "1526539865927696385  1526539865927696385  1526539865927696385   \n",
       "1526539902397054979  1526539902397054979  1526539902397054979   \n",
       "1526542431562485763  1526542431562485763  1526542431562485763   \n",
       "1526575168637743104  1526575168637743104  1526509359227801600   \n",
       "1526594559064645634  1526594559064645634  1526594559064645634   \n",
       "1526641542592593921  1526641542592593921  1510206159885639684   \n",
       "1526788671873200128  1526788671873200128  1526788671873200128   \n",
       "1526824469955764224  1526824469955764224  1526712523034075137   \n",
       "1526835587390443520  1526835587390443520  1526835587390443520   \n",
       "1526846331091828737  1526846331091828737  1526846331091828737   \n",
       "1526907706065436674  1526907706065436674  1526907706065436674   \n",
       "1526911492452257793  1526911492452257793  1526911492452257793   \n",
       "1526911561138196480  1526911561138196480  1526911561138196480   \n",
       "1526923267923386373  1526923267923386373  1526923267923386373   \n",
       "1526933943441817600  1526933943441817600  1526668284451512326   \n",
       "1526961976580120578  1526961976580120578  1526961976580120578   \n",
       "1526963513792552960  1526963513792552960  1526963513792552960   \n",
       "1526964170381484032  1526964170381484032  1526964170381484032   \n",
       "1526977793946443782  1526977793946443782  1526977793946443782   \n",
       "1527044694710005761  1527044694710005761  1527044694710005761   \n",
       "1527045140010872833  1527045140010872833  1527045140010872833   \n",
       "1527046934623494144  1527046934623494144  1527046934623494144   \n",
       "1527046947965902848  1527046947965902848  1527046947965902848   \n",
       "1527171525438316545  1527171525438316545  1527171525438316545   \n",
       "\n",
       "                    referenced_tweets.replied_to.id  \\\n",
       "id                                                    \n",
       "1525918494612762635                             NaN   \n",
       "1525929970991759362                             NaN   \n",
       "1525985275956056066                             NaN   \n",
       "1525996966005678089                             NaN   \n",
       "1526005498012745729                             NaN   \n",
       "1526080144770797571                             NaN   \n",
       "1526157669655949312                             NaN   \n",
       "1526157991786868736                             NaN   \n",
       "1526163437641822208                             NaN   \n",
       "1526183470631948289                             NaN   \n",
       "1526212764271792128             1524029510055829505   \n",
       "1526214500747300865             1524029601793597444   \n",
       "1526265109814730752                             NaN   \n",
       "1526290720545447938             1526289894787665922   \n",
       "1526416721321422848                             NaN   \n",
       "1526425246387310592                             NaN   \n",
       "1526452961194516481             1526179252588118016   \n",
       "1526478882119065600                             NaN   \n",
       "1526481370763210752                             NaN   \n",
       "1526490292366594049                             NaN   \n",
       "1526496273997643779                             NaN   \n",
       "1526514525465452549                             NaN   \n",
       "1526534144624320513                             NaN   \n",
       "1526539492076802048                             NaN   \n",
       "1526539670921826306                             NaN   \n",
       "1526539804250411014                             NaN   \n",
       "1526539865927696385                             NaN   \n",
       "1526539902397054979                             NaN   \n",
       "1526542431562485763                             NaN   \n",
       "1526575168637743104             1526509359227801600   \n",
       "1526594559064645634                             NaN   \n",
       "1526641542592593921             1510206159885639684   \n",
       "1526788671873200128                             NaN   \n",
       "1526824469955764224             1526712523034075137   \n",
       "1526835587390443520                             NaN   \n",
       "1526846331091828737                             NaN   \n",
       "1526907706065436674                             NaN   \n",
       "1526911492452257793                             NaN   \n",
       "1526911561138196480                             NaN   \n",
       "1526923267923386373                             NaN   \n",
       "1526933943441817600             1526931592723124224   \n",
       "1526961976580120578                             NaN   \n",
       "1526963513792552960                             NaN   \n",
       "1526964170381484032                             NaN   \n",
       "1526977793946443782                             NaN   \n",
       "1527044694710005761                             NaN   \n",
       "1527045140010872833                             NaN   \n",
       "1527046934623494144                             NaN   \n",
       "1527046947965902848                             NaN   \n",
       "1527171525438316545                             NaN   \n",
       "\n",
       "                    referenced_tweets.retweeted.id  \\\n",
       "id                                                   \n",
       "1525918494612762635                            NaN   \n",
       "1525929970991759362                            NaN   \n",
       "1525985275956056066            1525653160731332611   \n",
       "1525996966005678089            1525653160731332611   \n",
       "1526005498012745729            1525918494612762635   \n",
       "1526080144770797571            1499218337213161472   \n",
       "1526157669655949312            1510563235547607040   \n",
       "1526157991786868736            1498995716236087299   \n",
       "1526163437641822208            1523875025127976960   \n",
       "1526183470631948289            1523599838012928000   \n",
       "1526212764271792128                            NaN   \n",
       "1526214500747300865                            NaN   \n",
       "1526265109814730752                            NaN   \n",
       "1526290720545447938                            NaN   \n",
       "1526416721321422848                            NaN   \n",
       "1526425246387310592            1499450415745847296   \n",
       "1526452961194516481                            NaN   \n",
       "1526478882119065600            1526452961194516481   \n",
       "1526481370763210752            1526452961194516481   \n",
       "1526490292366594049            1499292604390801408   \n",
       "1526496273997643779            1499270243650211840   \n",
       "1526514525465452549                            NaN   \n",
       "1526534144624320513                            NaN   \n",
       "1526539492076802048            1525041980186796032   \n",
       "1526539670921826306            1525714445875695616   \n",
       "1526539804250411014            1523969999865454593   \n",
       "1526539865927696385            1525329316304797699   \n",
       "1526539902397054979            1526416721321422848   \n",
       "1526542431562485763            1526456711317422081   \n",
       "1526575168637743104                            NaN   \n",
       "1526594559064645634            1526575168637743104   \n",
       "1526641542592593921                            NaN   \n",
       "1526788671873200128            1517927104255508480   \n",
       "1526824469955764224                            NaN   \n",
       "1526835587390443520            1500741151338352643   \n",
       "1526846331091828737            1526514525465452549   \n",
       "1526907706065436674            1499058872274796545   \n",
       "1526911492452257793            1498890902575665158   \n",
       "1526911561138196480            1498963186082590721   \n",
       "1526923267923386373            1498863130923143169   \n",
       "1526933943441817600                            NaN   \n",
       "1526961976580120578            1525468706716803073   \n",
       "1526963513792552960            1499244984897347584   \n",
       "1526964170381484032            1499244984897347584   \n",
       "1526977793946443782            1499244984897347584   \n",
       "1527044694710005761            1526416721321422848   \n",
       "1527045140010872833            1526641542592593921   \n",
       "1527046934623494144            1526641542592593921   \n",
       "1527046947965902848            1526416721321422848   \n",
       "1527171525438316545            1499283814681653248   \n",
       "\n",
       "                    referenced_tweets.quoted.id            author_id  \\\n",
       "id                                                                     \n",
       "1525918494612762635                         NaN  1403553384876195842   \n",
       "1525929970991759362         1525928948839895042  1466543078915907584   \n",
       "1525985275956056066                         NaN            893849270   \n",
       "1525996966005678089                         NaN  1150171508540620800   \n",
       "1526005498012745729                         NaN            401463573   \n",
       "1526080144770797571                         NaN  1522987621382864900   \n",
       "1526157669655949312                         NaN  1387223814128357377   \n",
       "1526157991786868736                         NaN  1387223814128357377   \n",
       "1526163437641822208                         NaN  1486968517349965827   \n",
       "1526183470631948289                         NaN            289785505   \n",
       "1526212764271792128                         NaN  1403553384876195842   \n",
       "1526214500747300865                         NaN  1403553384876195842   \n",
       "1526265109814730752                         NaN  1064264836643614720   \n",
       "1526290720545447938                         NaN  1494490588183506961   \n",
       "1526416721321422848                         NaN            129555767   \n",
       "1526425246387310592                         NaN  1255027674180796422   \n",
       "1526452961194516481                         NaN  1165882103927595013   \n",
       "1526478882119065600                         NaN           2575115489   \n",
       "1526481370763210752                         NaN  1313422050749538305   \n",
       "1526490292366594049                         NaN  1430625601119993858   \n",
       "1526496273997643779                         NaN  1173504959305773058   \n",
       "1526514525465452549                         NaN            448017725   \n",
       "1526534144624320513                         NaN   947689621776945152   \n",
       "1526539492076802048                         NaN  1498374754176323589   \n",
       "1526539670921826306                         NaN  1498374754176323589   \n",
       "1526539804250411014                         NaN  1498374754176323589   \n",
       "1526539865927696385                         NaN  1498374754176323589   \n",
       "1526539902397054979                         NaN  1498374754176323589   \n",
       "1526542431562485763                         NaN           1145853367   \n",
       "1526575168637743104                         NaN           4732587377   \n",
       "1526594559064645634                         NaN           2565866570   \n",
       "1526641542592593921                         NaN  1403553384876195842   \n",
       "1526788671873200128                         NaN  1519018974385774592   \n",
       "1526824469955764224                         NaN  1276163106037784578   \n",
       "1526835587390443520                         NaN  1475514588154282000   \n",
       "1526846331091828737                         NaN            314894442   \n",
       "1526907706065436674                         NaN  1382572124158758913   \n",
       "1526911492452257793                         NaN           2779468699   \n",
       "1526911561138196480                         NaN           2779468699   \n",
       "1526923267923386373                         NaN  1455496558426738688   \n",
       "1526933943441817600                         NaN  1499016369219768320   \n",
       "1526961976580120578                         NaN  1519769949589417987   \n",
       "1526963513792552960                         NaN  1483872975082475522   \n",
       "1526964170381484032                         NaN  1336310890904346624   \n",
       "1526977793946443782                         NaN   909086752228470787   \n",
       "1527044694710005761                         NaN           1460038886   \n",
       "1527045140010872833                         NaN           1460038886   \n",
       "1527046934623494144                         NaN  1160541379275026434   \n",
       "1527046947965902848                         NaN  1160541379275026434   \n",
       "1527171525438316545                         NaN   768569699466616832   \n",
       "\n",
       "                     in_reply_to_user_id    retweeted_user_id quoted_user_id  \\\n",
       "id                                                                             \n",
       "1525918494612762635                  NaN                  NaN            NaN   \n",
       "1525929970991759362                  NaN                  NaN        5988062   \n",
       "1525985275956056066                  NaN  1494490588183506961            NaN   \n",
       "1525996966005678089                  NaN  1494490588183506961            NaN   \n",
       "1526005498012745729                  NaN  1403553384876195842            NaN   \n",
       "1526080144770797571                  NaN           4103888727            NaN   \n",
       "1526157669655949312                  NaN  1216222125826002946            NaN   \n",
       "1526157991786868736                  NaN  1398646714634948608            NaN   \n",
       "1526163437641822208                  NaN  1047367439762292736            NaN   \n",
       "1526183470631948289                  NaN  1433364607217799174            NaN   \n",
       "1526212764271792128            192912869                  NaN            NaN   \n",
       "1526214500747300865            192912869                  NaN            NaN   \n",
       "1526265109814730752                  NaN                  NaN            NaN   \n",
       "1526290720545447938            247619342                  NaN            NaN   \n",
       "1526416721321422848                  NaN                  NaN            NaN   \n",
       "1526425246387310592                  NaN   906152391392858113            NaN   \n",
       "1526452961194516481           2575115489                  NaN            NaN   \n",
       "1526478882119065600                  NaN  1165882103927595013            NaN   \n",
       "1526481370763210752                  NaN  1165882103927595013            NaN   \n",
       "1526490292366594049                  NaN  1489315067602432000            NaN   \n",
       "1526496273997643779                  NaN  1453188359052955648            NaN   \n",
       "1526514525465452549                  NaN                  NaN            NaN   \n",
       "1526534144624320513                  NaN                  NaN            NaN   \n",
       "1526539492076802048                  NaN           2606185866            NaN   \n",
       "1526539670921826306                  NaN            164301202            NaN   \n",
       "1526539804250411014                  NaN   887933975401971713            NaN   \n",
       "1526539865927696385                  NaN   912602857588666368            NaN   \n",
       "1526539902397054979                  NaN            129555767            NaN   \n",
       "1526542431562485763                  NaN  1403553384876195842            NaN   \n",
       "1526575168637743104             34262462                  NaN            NaN   \n",
       "1526594559064645634                  NaN           4732587377            NaN   \n",
       "1526641542592593921  1403553384876195842                  NaN            NaN   \n",
       "1526788671873200128                  NaN  1403553384876195842            NaN   \n",
       "1526824469955764224   981981710513573888                  NaN            NaN   \n",
       "1526835587390443520                  NaN  1480366921434349572            NaN   \n",
       "1526846331091828737                  NaN            448017725            NaN   \n",
       "1526907706065436674                  NaN  1314815226517258241            NaN   \n",
       "1526911492452257793                  NaN  1351539074708942850            NaN   \n",
       "1526911561138196480                  NaN  1108346803760623617            NaN   \n",
       "1526923267923386373                  NaN  1051877366631297024            NaN   \n",
       "1526933943441817600           1572053784                  NaN            NaN   \n",
       "1526961976580120578                  NaN  1433364607217799174            NaN   \n",
       "1526963513792552960                  NaN           2880431377            NaN   \n",
       "1526964170381484032                  NaN           2880431377            NaN   \n",
       "1526977793946443782                  NaN           2880431377            NaN   \n",
       "1527044694710005761                  NaN            129555767            NaN   \n",
       "1527045140010872833                  NaN  1403553384876195842            NaN   \n",
       "1527046934623494144                  NaN  1403553384876195842            NaN   \n",
       "1527046947965902848                  NaN            129555767            NaN   \n",
       "1527171525438316545                  NaN           2583754621            NaN   \n",
       "\n",
       "                                   created_at  ... geo.place_id  \\\n",
       "id                                             ...                \n",
       "1525918494612762635  2022-05-15T19:18:13.000Z  ...          NaN   \n",
       "1525929970991759362  2022-05-15T20:03:50.000Z  ...          NaN   \n",
       "1525985275956056066  2022-05-15T23:43:35.000Z  ...          NaN   \n",
       "1525996966005678089  2022-05-16T00:30:03.000Z  ...          NaN   \n",
       "1526005498012745729  2022-05-16T01:03:57.000Z  ...          NaN   \n",
       "1526080144770797571  2022-05-16T06:00:34.000Z  ...          NaN   \n",
       "1526157669655949312  2022-05-16T11:08:37.000Z  ...          NaN   \n",
       "1526157991786868736  2022-05-16T11:09:54.000Z  ...          NaN   \n",
       "1526163437641822208  2022-05-16T11:31:32.000Z  ...          NaN   \n",
       "1526183470631948289  2022-05-16T12:51:09.000Z  ...          NaN   \n",
       "1526212764271792128  2022-05-16T14:47:33.000Z  ...          NaN   \n",
       "1526214500747300865  2022-05-16T14:54:27.000Z  ...          NaN   \n",
       "1526265109814730752  2022-05-16T18:15:33.000Z  ...          NaN   \n",
       "1526290720545447938  2022-05-16T19:57:19.000Z  ...          NaN   \n",
       "1526416721321422848  2022-05-17T04:18:00.000Z  ...          NaN   \n",
       "1526425246387310592  2022-05-17T04:51:53.000Z  ...          NaN   \n",
       "1526452961194516481  2022-05-17T06:42:00.000Z  ...          NaN   \n",
       "1526478882119065600  2022-05-17T08:25:00.000Z  ...          NaN   \n",
       "1526481370763210752  2022-05-17T08:34:54.000Z  ...          NaN   \n",
       "1526490292366594049  2022-05-17T09:10:21.000Z  ...          NaN   \n",
       "1526496273997643779  2022-05-17T09:34:07.000Z  ...          NaN   \n",
       "1526514525465452549  2022-05-17T10:46:38.000Z  ...          NaN   \n",
       "1526534144624320513  2022-05-17T12:04:36.000Z  ...          NaN   \n",
       "1526539492076802048  2022-05-17T12:25:51.000Z  ...          NaN   \n",
       "1526539670921826306  2022-05-17T12:26:33.000Z  ...          NaN   \n",
       "1526539804250411014  2022-05-17T12:27:05.000Z  ...          NaN   \n",
       "1526539865927696385  2022-05-17T12:27:20.000Z  ...          NaN   \n",
       "1526539902397054979  2022-05-17T12:27:29.000Z  ...          NaN   \n",
       "1526542431562485763  2022-05-17T12:37:32.000Z  ...          NaN   \n",
       "1526575168637743104  2022-05-17T14:47:37.000Z  ...          NaN   \n",
       "1526594559064645634  2022-05-17T16:04:40.000Z  ...          NaN   \n",
       "1526641542592593921  2022-05-17T19:11:22.000Z  ...          NaN   \n",
       "1526788671873200128  2022-05-18T04:56:00.000Z  ...          NaN   \n",
       "1526824469955764224  2022-05-18T07:18:15.000Z  ...          NaN   \n",
       "1526835587390443520  2022-05-18T08:02:25.000Z  ...          NaN   \n",
       "1526846331091828737  2022-05-18T08:45:07.000Z  ...          NaN   \n",
       "1526907706065436674  2022-05-18T12:49:00.000Z  ...          NaN   \n",
       "1526911492452257793  2022-05-18T13:04:03.000Z  ...          NaN   \n",
       "1526911561138196480  2022-05-18T13:04:19.000Z  ...          NaN   \n",
       "1526923267923386373  2022-05-18T13:50:50.000Z  ...          NaN   \n",
       "1526933943441817600  2022-05-18T14:33:15.000Z  ...          NaN   \n",
       "1526961976580120578  2022-05-18T16:24:39.000Z  ...          NaN   \n",
       "1526963513792552960  2022-05-18T16:30:45.000Z  ...          NaN   \n",
       "1526964170381484032  2022-05-18T16:33:22.000Z  ...          NaN   \n",
       "1526977793946443782  2022-05-18T17:27:30.000Z  ...          NaN   \n",
       "1527044694710005761  2022-05-18T21:53:20.000Z  ...          NaN   \n",
       "1527045140010872833  2022-05-18T21:55:07.000Z  ...          NaN   \n",
       "1527046934623494144  2022-05-18T22:02:15.000Z  ...          NaN   \n",
       "1527046947965902848  2022-05-18T22:02:18.000Z  ...          NaN   \n",
       "1527171525438316545  2022-05-19T06:17:19.000Z  ...          NaN   \n",
       "\n",
       "                    geo.place_type       __twarc.retrieved_at  \\\n",
       "id                                                              \n",
       "1525918494612762635            NaN  2022-10-25T13:33:59+00:00   \n",
       "1525929970991759362            NaN  2022-10-25T13:33:59+00:00   \n",
       "1525985275956056066            NaN  2022-10-25T13:33:59+00:00   \n",
       "1525996966005678089            NaN  2022-10-25T13:33:59+00:00   \n",
       "1526005498012745729            NaN  2022-10-25T13:33:59+00:00   \n",
       "1526080144770797571            NaN  2022-10-25T13:33:59+00:00   \n",
       "1526157669655949312            NaN  2022-10-25T13:33:59+00:00   \n",
       "1526157991786868736            NaN  2022-10-25T13:33:59+00:00   \n",
       "1526163437641822208            NaN  2022-10-25T13:33:59+00:00   \n",
       "1526183470631948289            NaN  2022-10-25T13:33:59+00:00   \n",
       "1526212764271792128            NaN  2022-10-25T13:33:59+00:00   \n",
       "1526214500747300865            NaN  2022-10-25T13:33:59+00:00   \n",
       "1526265109814730752            NaN  2022-10-25T13:33:59+00:00   \n",
       "1526290720545447938            NaN  2022-10-25T13:33:59+00:00   \n",
       "1526416721321422848            NaN  2022-10-25T13:33:59+00:00   \n",
       "1526425246387310592            NaN  2022-10-25T13:33:59+00:00   \n",
       "1526452961194516481            NaN  2022-10-25T13:33:59+00:00   \n",
       "1526478882119065600            NaN  2022-10-25T13:33:59+00:00   \n",
       "1526481370763210752            NaN  2022-10-25T13:33:59+00:00   \n",
       "1526490292366594049            NaN  2022-10-25T13:33:59+00:00   \n",
       "1526496273997643779            NaN  2022-10-25T13:33:59+00:00   \n",
       "1526514525465452549            NaN  2022-10-25T13:33:59+00:00   \n",
       "1526534144624320513            NaN  2022-10-25T13:33:59+00:00   \n",
       "1526539492076802048            NaN  2022-10-25T13:33:59+00:00   \n",
       "1526539670921826306            NaN  2022-10-25T13:33:59+00:00   \n",
       "1526539804250411014            NaN  2022-10-25T13:33:59+00:00   \n",
       "1526539865927696385            NaN  2022-10-25T13:33:59+00:00   \n",
       "1526539902397054979            NaN  2022-10-25T13:33:59+00:00   \n",
       "1526542431562485763            NaN  2022-10-25T13:33:59+00:00   \n",
       "1526575168637743104            NaN  2022-10-25T13:33:59+00:00   \n",
       "1526594559064645634            NaN  2022-10-25T13:33:59+00:00   \n",
       "1526641542592593921            NaN  2022-10-25T13:33:59+00:00   \n",
       "1526788671873200128            NaN  2022-10-25T13:33:59+00:00   \n",
       "1526824469955764224            NaN  2022-10-25T13:33:59+00:00   \n",
       "1526835587390443520            NaN  2022-10-25T13:33:59+00:00   \n",
       "1526846331091828737            NaN  2022-10-25T13:33:59+00:00   \n",
       "1526907706065436674            NaN  2022-10-25T13:33:59+00:00   \n",
       "1526911492452257793            NaN  2022-10-25T13:33:59+00:00   \n",
       "1526911561138196480            NaN  2022-10-25T13:33:59+00:00   \n",
       "1526923267923386373            NaN  2022-10-25T13:33:59+00:00   \n",
       "1526933943441817600            NaN  2022-10-25T13:33:59+00:00   \n",
       "1526961976580120578            NaN  2022-10-25T13:33:59+00:00   \n",
       "1526963513792552960            NaN  2022-10-25T13:33:59+00:00   \n",
       "1526964170381484032            NaN  2022-10-25T13:33:59+00:00   \n",
       "1526977793946443782            NaN  2022-10-25T13:33:59+00:00   \n",
       "1527044694710005761            NaN  2022-10-25T13:33:59+00:00   \n",
       "1527045140010872833            NaN  2022-10-25T13:33:59+00:00   \n",
       "1527046934623494144            NaN  2022-10-25T13:33:59+00:00   \n",
       "1527046947965902848            NaN  2022-10-25T13:33:59+00:00   \n",
       "1527171525438316545            NaN  2022-10-25T13:33:59+00:00   \n",
       "\n",
       "                                                           __twarc.url  \\\n",
       "id                                                                       \n",
       "1525918494612762635  https://api.twitter.com/2/tweets/search/all?ex...   \n",
       "1525929970991759362  https://api.twitter.com/2/tweets/search/all?ex...   \n",
       "1525985275956056066  https://api.twitter.com/2/tweets/search/all?ex...   \n",
       "1525996966005678089  https://api.twitter.com/2/tweets/search/all?ex...   \n",
       "1526005498012745729  https://api.twitter.com/2/tweets/search/all?ex...   \n",
       "1526080144770797571  https://api.twitter.com/2/tweets/search/all?ex...   \n",
       "1526157669655949312  https://api.twitter.com/2/tweets/search/all?ex...   \n",
       "1526157991786868736  https://api.twitter.com/2/tweets/search/all?ex...   \n",
       "1526163437641822208  https://api.twitter.com/2/tweets/search/all?ex...   \n",
       "1526183470631948289  https://api.twitter.com/2/tweets/search/all?ex...   \n",
       "1526212764271792128  https://api.twitter.com/2/tweets/search/all?ex...   \n",
       "1526214500747300865  https://api.twitter.com/2/tweets/search/all?ex...   \n",
       "1526265109814730752  https://api.twitter.com/2/tweets/search/all?ex...   \n",
       "1526290720545447938  https://api.twitter.com/2/tweets/search/all?ex...   \n",
       "1526416721321422848  https://api.twitter.com/2/tweets/search/all?ex...   \n",
       "1526425246387310592  https://api.twitter.com/2/tweets/search/all?ex...   \n",
       "1526452961194516481  https://api.twitter.com/2/tweets/search/all?ex...   \n",
       "1526478882119065600  https://api.twitter.com/2/tweets/search/all?ex...   \n",
       "1526481370763210752  https://api.twitter.com/2/tweets/search/all?ex...   \n",
       "1526490292366594049  https://api.twitter.com/2/tweets/search/all?ex...   \n",
       "1526496273997643779  https://api.twitter.com/2/tweets/search/all?ex...   \n",
       "1526514525465452549  https://api.twitter.com/2/tweets/search/all?ex...   \n",
       "1526534144624320513  https://api.twitter.com/2/tweets/search/all?ex...   \n",
       "1526539492076802048  https://api.twitter.com/2/tweets/search/all?ex...   \n",
       "1526539670921826306  https://api.twitter.com/2/tweets/search/all?ex...   \n",
       "1526539804250411014  https://api.twitter.com/2/tweets/search/all?ex...   \n",
       "1526539865927696385  https://api.twitter.com/2/tweets/search/all?ex...   \n",
       "1526539902397054979  https://api.twitter.com/2/tweets/search/all?ex...   \n",
       "1526542431562485763  https://api.twitter.com/2/tweets/search/all?ex...   \n",
       "1526575168637743104  https://api.twitter.com/2/tweets/search/all?ex...   \n",
       "1526594559064645634  https://api.twitter.com/2/tweets/search/all?ex...   \n",
       "1526641542592593921  https://api.twitter.com/2/tweets/search/all?ex...   \n",
       "1526788671873200128  https://api.twitter.com/2/tweets/search/all?ex...   \n",
       "1526824469955764224  https://api.twitter.com/2/tweets/search/all?ex...   \n",
       "1526835587390443520  https://api.twitter.com/2/tweets/search/all?ex...   \n",
       "1526846331091828737  https://api.twitter.com/2/tweets/search/all?ex...   \n",
       "1526907706065436674  https://api.twitter.com/2/tweets/search/all?ex...   \n",
       "1526911492452257793  https://api.twitter.com/2/tweets/search/all?ex...   \n",
       "1526911561138196480  https://api.twitter.com/2/tweets/search/all?ex...   \n",
       "1526923267923386373  https://api.twitter.com/2/tweets/search/all?ex...   \n",
       "1526933943441817600  https://api.twitter.com/2/tweets/search/all?ex...   \n",
       "1526961976580120578  https://api.twitter.com/2/tweets/search/all?ex...   \n",
       "1526963513792552960  https://api.twitter.com/2/tweets/search/all?ex...   \n",
       "1526964170381484032  https://api.twitter.com/2/tweets/search/all?ex...   \n",
       "1526977793946443782  https://api.twitter.com/2/tweets/search/all?ex...   \n",
       "1527044694710005761  https://api.twitter.com/2/tweets/search/all?ex...   \n",
       "1527045140010872833  https://api.twitter.com/2/tweets/search/all?ex...   \n",
       "1527046934623494144  https://api.twitter.com/2/tweets/search/all?ex...   \n",
       "1527046947965902848  https://api.twitter.com/2/tweets/search/all?ex...   \n",
       "1527171525438316545  https://api.twitter.com/2/tweets/search/all?ex...   \n",
       "\n",
       "                     __twarc.version       edit_history_tweet_ids  \\\n",
       "id                                                                  \n",
       "1525918494612762635           2.12.0 NaN  [\"1525918494612762635\"]   \n",
       "1525929970991759362           2.12.0 NaN  [\"1525929970991759362\"]   \n",
       "1525985275956056066           2.12.0 NaN  [\"1525985275956056066\"]   \n",
       "1525996966005678089           2.12.0 NaN  [\"1525996966005678089\"]   \n",
       "1526005498012745729           2.12.0 NaN  [\"1526005498012745729\"]   \n",
       "1526080144770797571           2.12.0 NaN  [\"1526080144770797571\"]   \n",
       "1526157669655949312           2.12.0 NaN  [\"1526157669655949312\"]   \n",
       "1526157991786868736           2.12.0 NaN  [\"1526157991786868736\"]   \n",
       "1526163437641822208           2.12.0 NaN  [\"1526163437641822208\"]   \n",
       "1526183470631948289           2.12.0 NaN  [\"1526183470631948289\"]   \n",
       "1526212764271792128           2.12.0 NaN  [\"1526212764271792128\"]   \n",
       "1526214500747300865           2.12.0 NaN  [\"1526214500747300865\"]   \n",
       "1526265109814730752           2.12.0 NaN  [\"1526265109814730752\"]   \n",
       "1526290720545447938           2.12.0 NaN  [\"1526290720545447938\"]   \n",
       "1526416721321422848           2.12.0 NaN  [\"1526416721321422848\"]   \n",
       "1526425246387310592           2.12.0 NaN  [\"1526425246387310592\"]   \n",
       "1526452961194516481           2.12.0 NaN  [\"1526452961194516481\"]   \n",
       "1526478882119065600           2.12.0 NaN  [\"1526478882119065600\"]   \n",
       "1526481370763210752           2.12.0 NaN  [\"1526481370763210752\"]   \n",
       "1526490292366594049           2.12.0 NaN  [\"1526490292366594049\"]   \n",
       "1526496273997643779           2.12.0 NaN  [\"1526496273997643779\"]   \n",
       "1526514525465452549           2.12.0 NaN  [\"1526514525465452549\"]   \n",
       "1526534144624320513           2.12.0 NaN  [\"1526534144624320513\"]   \n",
       "1526539492076802048           2.12.0 NaN  [\"1526539492076802048\"]   \n",
       "1526539670921826306           2.12.0 NaN  [\"1526539670921826306\"]   \n",
       "1526539804250411014           2.12.0 NaN  [\"1526539804250411014\"]   \n",
       "1526539865927696385           2.12.0 NaN  [\"1526539865927696385\"]   \n",
       "1526539902397054979           2.12.0 NaN  [\"1526539902397054979\"]   \n",
       "1526542431562485763           2.12.0 NaN  [\"1526542431562485763\"]   \n",
       "1526575168637743104           2.12.0 NaN  [\"1526575168637743104\"]   \n",
       "1526594559064645634           2.12.0 NaN  [\"1526594559064645634\"]   \n",
       "1526641542592593921           2.12.0 NaN  [\"1526641542592593921\"]   \n",
       "1526788671873200128           2.12.0 NaN  [\"1526788671873200128\"]   \n",
       "1526824469955764224           2.12.0 NaN  [\"1526824469955764224\"]   \n",
       "1526835587390443520           2.12.0 NaN  [\"1526835587390443520\"]   \n",
       "1526846331091828737           2.12.0 NaN  [\"1526846331091828737\"]   \n",
       "1526907706065436674           2.12.0 NaN  [\"1526907706065436674\"]   \n",
       "1526911492452257793           2.12.0 NaN  [\"1526911492452257793\"]   \n",
       "1526911561138196480           2.12.0 NaN  [\"1526911561138196480\"]   \n",
       "1526923267923386373           2.12.0 NaN  [\"1526923267923386373\"]   \n",
       "1526933943441817600           2.12.0 NaN  [\"1526933943441817600\"]   \n",
       "1526961976580120578           2.12.0 NaN  [\"1526961976580120578\"]   \n",
       "1526963513792552960           2.12.0 NaN  [\"1526963513792552960\"]   \n",
       "1526964170381484032           2.12.0 NaN  [\"1526964170381484032\"]   \n",
       "1526977793946443782           2.12.0 NaN  [\"1526977793946443782\"]   \n",
       "1527044694710005761           2.12.0 NaN  [\"1527044694710005761\"]   \n",
       "1527045140010872833           2.12.0 NaN  [\"1527045140010872833\"]   \n",
       "1527046934623494144           2.12.0 NaN  [\"1527046934623494144\"]   \n",
       "1527046947965902848           2.12.0 NaN  [\"1527046947965902848\"]   \n",
       "1527171525438316545           2.12.0 NaN  [\"1527171525438316545\"]   \n",
       "\n",
       "                    edit_controls.edits_remaining  \\\n",
       "id                                                  \n",
       "1525918494612762635                             5   \n",
       "1525929970991759362                             5   \n",
       "1525985275956056066                             5   \n",
       "1525996966005678089                             5   \n",
       "1526005498012745729                             5   \n",
       "1526080144770797571                             5   \n",
       "1526157669655949312                             5   \n",
       "1526157991786868736                             5   \n",
       "1526163437641822208                             5   \n",
       "1526183470631948289                             5   \n",
       "1526212764271792128                             5   \n",
       "1526214500747300865                             5   \n",
       "1526265109814730752                             5   \n",
       "1526290720545447938                             5   \n",
       "1526416721321422848                             5   \n",
       "1526425246387310592                             5   \n",
       "1526452961194516481                             5   \n",
       "1526478882119065600                             5   \n",
       "1526481370763210752                             5   \n",
       "1526490292366594049                             5   \n",
       "1526496273997643779                             5   \n",
       "1526514525465452549                             5   \n",
       "1526534144624320513                             5   \n",
       "1526539492076802048                             5   \n",
       "1526539670921826306                             5   \n",
       "1526539804250411014                             5   \n",
       "1526539865927696385                             5   \n",
       "1526539902397054979                             5   \n",
       "1526542431562485763                             5   \n",
       "1526575168637743104                             5   \n",
       "1526594559064645634                             5   \n",
       "1526641542592593921                             5   \n",
       "1526788671873200128                             5   \n",
       "1526824469955764224                             5   \n",
       "1526835587390443520                             5   \n",
       "1526846331091828737                             5   \n",
       "1526907706065436674                             5   \n",
       "1526911492452257793                             5   \n",
       "1526911561138196480                             5   \n",
       "1526923267923386373                             5   \n",
       "1526933943441817600                             5   \n",
       "1526961976580120578                             5   \n",
       "1526963513792552960                             5   \n",
       "1526964170381484032                             5   \n",
       "1526977793946443782                             5   \n",
       "1527044694710005761                             5   \n",
       "1527045140010872833                             5   \n",
       "1527046934623494144                             5   \n",
       "1527046947965902848                             5   \n",
       "1527171525438316545                             5   \n",
       "\n",
       "                     edit_controls.editable_until  \\\n",
       "id                                                  \n",
       "1525918494612762635      2022-05-15T19:48:13.000Z   \n",
       "1525929970991759362      2022-05-15T20:33:50.000Z   \n",
       "1525985275956056066      2022-05-16T00:13:35.000Z   \n",
       "1525996966005678089      2022-05-16T01:00:03.000Z   \n",
       "1526005498012745729      2022-05-16T01:33:57.000Z   \n",
       "1526080144770797571      2022-05-16T06:30:34.000Z   \n",
       "1526157669655949312      2022-05-16T11:38:37.000Z   \n",
       "1526157991786868736      2022-05-16T11:39:54.000Z   \n",
       "1526163437641822208      2022-05-16T12:01:32.000Z   \n",
       "1526183470631948289      2022-05-16T13:21:09.000Z   \n",
       "1526212764271792128      2022-05-16T15:17:33.000Z   \n",
       "1526214500747300865      2022-05-16T15:24:27.000Z   \n",
       "1526265109814730752      2022-05-16T18:45:33.000Z   \n",
       "1526290720545447938      2022-05-16T20:27:19.000Z   \n",
       "1526416721321422848      2022-05-17T04:48:00.000Z   \n",
       "1526425246387310592      2022-05-17T05:21:53.000Z   \n",
       "1526452961194516481      2022-05-17T07:12:00.000Z   \n",
       "1526478882119065600      2022-05-17T08:55:00.000Z   \n",
       "1526481370763210752      2022-05-17T09:04:54.000Z   \n",
       "1526490292366594049      2022-05-17T09:40:21.000Z   \n",
       "1526496273997643779      2022-05-17T10:04:07.000Z   \n",
       "1526514525465452549      2022-05-17T11:16:38.000Z   \n",
       "1526534144624320513      2022-05-17T12:34:36.000Z   \n",
       "1526539492076802048      2022-05-17T12:55:51.000Z   \n",
       "1526539670921826306      2022-05-17T12:56:33.000Z   \n",
       "1526539804250411014      2022-05-17T12:57:05.000Z   \n",
       "1526539865927696385      2022-05-17T12:57:20.000Z   \n",
       "1526539902397054979      2022-05-17T12:57:29.000Z   \n",
       "1526542431562485763      2022-05-17T13:07:32.000Z   \n",
       "1526575168637743104      2022-05-17T15:17:37.000Z   \n",
       "1526594559064645634      2022-05-17T16:34:40.000Z   \n",
       "1526641542592593921      2022-05-17T19:41:22.000Z   \n",
       "1526788671873200128      2022-05-18T05:26:00.000Z   \n",
       "1526824469955764224      2022-05-18T07:48:15.000Z   \n",
       "1526835587390443520      2022-05-18T08:32:25.000Z   \n",
       "1526846331091828737      2022-05-18T09:15:07.000Z   \n",
       "1526907706065436674      2022-05-18T13:19:00.000Z   \n",
       "1526911492452257793      2022-05-18T13:34:03.000Z   \n",
       "1526911561138196480      2022-05-18T13:34:19.000Z   \n",
       "1526923267923386373      2022-05-18T14:20:50.000Z   \n",
       "1526933943441817600      2022-05-18T15:03:15.000Z   \n",
       "1526961976580120578      2022-05-18T16:54:39.000Z   \n",
       "1526963513792552960      2022-05-18T17:00:45.000Z   \n",
       "1526964170381484032      2022-05-18T17:03:22.000Z   \n",
       "1526977793946443782      2022-05-18T17:57:30.000Z   \n",
       "1527044694710005761      2022-05-18T22:23:20.000Z   \n",
       "1527045140010872833      2022-05-18T22:25:07.000Z   \n",
       "1527046934623494144      2022-05-18T22:32:15.000Z   \n",
       "1527046947965902848      2022-05-18T22:32:18.000Z   \n",
       "1527171525438316545      2022-05-19T06:47:19.000Z   \n",
       "\n",
       "                     edit_controls.is_edit_eligible  \n",
       "id                                                   \n",
       "1525918494612762635                            True  \n",
       "1525929970991759362                            True  \n",
       "1525985275956056066                           False  \n",
       "1525996966005678089                           False  \n",
       "1526005498012745729                           False  \n",
       "1526080144770797571                           False  \n",
       "1526157669655949312                           False  \n",
       "1526157991786868736                           False  \n",
       "1526163437641822208                           False  \n",
       "1526183470631948289                           False  \n",
       "1526212764271792128                           False  \n",
       "1526214500747300865                           False  \n",
       "1526265109814730752                            True  \n",
       "1526290720545447938                           False  \n",
       "1526416721321422848                            True  \n",
       "1526425246387310592                           False  \n",
       "1526452961194516481                           False  \n",
       "1526478882119065600                           False  \n",
       "1526481370763210752                           False  \n",
       "1526490292366594049                           False  \n",
       "1526496273997643779                           False  \n",
       "1526514525465452549                            True  \n",
       "1526534144624320513                            True  \n",
       "1526539492076802048                           False  \n",
       "1526539670921826306                           False  \n",
       "1526539804250411014                           False  \n",
       "1526539865927696385                           False  \n",
       "1526539902397054979                           False  \n",
       "1526542431562485763                           False  \n",
       "1526575168637743104                           False  \n",
       "1526594559064645634                           False  \n",
       "1526641542592593921                            True  \n",
       "1526788671873200128                           False  \n",
       "1526824469955764224                           False  \n",
       "1526835587390443520                           False  \n",
       "1526846331091828737                           False  \n",
       "1526907706065436674                           False  \n",
       "1526911492452257793                           False  \n",
       "1526911561138196480                           False  \n",
       "1526923267923386373                           False  \n",
       "1526933943441817600                           False  \n",
       "1526961976580120578                           False  \n",
       "1526963513792552960                           False  \n",
       "1526964170381484032                           False  \n",
       "1526977793946443782                           False  \n",
       "1527044694710005761                           False  \n",
       "1527045140010872833                           False  \n",
       "1527046934623494144                           False  \n",
       "1527046947965902848                           False  \n",
       "1527171525438316545                           False  \n",
       "\n",
       "[50 rows x 78 columns]"
      ]
     },
     "execution_count": 18,
     "metadata": {},
     "output_type": "execute_result"
    }
   ],
   "source": [
    "m.df.sort_index().head(50)"
   ]
  },
  {
   "cell_type": "code",
   "execution_count": 4,
   "metadata": {
    "colab": {
     "base_uri": "https://localhost:8080/"
    },
    "executionInfo": {
     "elapsed": 7,
     "status": "ok",
     "timestamp": 1651829695798,
     "user": {
      "displayName": "Fabio Russo",
      "userId": "12894600619616975822"
     },
     "user_tz": -120
    },
    "id": "LZLBbYMxuMsF",
    "outputId": "dd804075-493d-4c02-f752-fad2c4dc4790",
    "scrolled": true
   },
   "outputs": [
    {
     "name": "stdout",
     "output_type": "stream",
     "text": [
      "<class 'pandas.core.frame.DataFrame'>\n",
      "RangeIndex: 100 entries, 0 to 99\n",
      "Data columns (total 74 columns):\n",
      " #   Column                                 Non-Null Count  Dtype  \n",
      "---  ------                                 --------------  -----  \n",
      " 0   id                                     100 non-null    object \n",
      " 1   conversation_id                        100 non-null    object \n",
      " 2   referenced_tweets.replied_to.id        2 non-null      object \n",
      " 3   referenced_tweets.retweeted.id         85 non-null     object \n",
      " 4   referenced_tweets.quoted.id            3 non-null      object \n",
      " 5   author_id                              100 non-null    object \n",
      " 6   in_reply_to_user_id                    2 non-null      object \n",
      " 7   retweeted_user_id                      85 non-null     object \n",
      " 8   quoted_user_id                         3 non-null      object \n",
      " 9   created_at                             100 non-null    object \n",
      " 10  text                                   100 non-null    object \n",
      " 11  lang                                   100 non-null    object \n",
      " 12  source                                 100 non-null    object \n",
      " 13  public_metrics.like_count              100 non-null    int64  \n",
      " 14  public_metrics.quote_count             100 non-null    int64  \n",
      " 15  public_metrics.reply_count             100 non-null    int64  \n",
      " 16  public_metrics.retweet_count           100 non-null    int64  \n",
      " 17  reply_settings                         100 non-null    object \n",
      " 18  possibly_sensitive                     100 non-null    bool   \n",
      " 19  withheld.scope                         0 non-null      float64\n",
      " 20  withheld.copyright                     0 non-null      float64\n",
      " 21  withheld.country_codes                 0 non-null      float64\n",
      " 22  entities.annotations                   76 non-null     object \n",
      " 23  entities.cashtags                      0 non-null      float64\n",
      " 24  entities.hashtags                      100 non-null    object \n",
      " 25  entities.mentions                      6 non-null      object \n",
      " 26  entities.urls                          85 non-null     object \n",
      " 27  context_annotations                    100 non-null    object \n",
      " 28  attachments.media                      74 non-null     object \n",
      " 29  attachments.media_keys                 74 non-null     object \n",
      " 30  attachments.poll.duration_minutes      0 non-null      float64\n",
      " 31  attachments.poll.end_datetime          0 non-null      float64\n",
      " 32  attachments.poll.id                    0 non-null      float64\n",
      " 33  attachments.poll.options               0 non-null      float64\n",
      " 34  attachments.poll.voting_status         0 non-null      float64\n",
      " 35  attachments.poll_ids                   0 non-null      float64\n",
      " 36  author.id                              100 non-null    object \n",
      " 37  author.created_at                      100 non-null    object \n",
      " 38  author.username                        100 non-null    object \n",
      " 39  author.name                            100 non-null    object \n",
      " 40  author.description                     100 non-null    object \n",
      " 41  author.entities.description.cashtags   0 non-null      float64\n",
      " 42  author.entities.description.hashtags   20 non-null     object \n",
      " 43  author.entities.description.mentions   3 non-null      object \n",
      " 44  author.entities.description.urls       4 non-null      object \n",
      " 45  author.entities.url.urls               12 non-null     object \n",
      " 46  author.location                        52 non-null     object \n",
      " 47  author.pinned_tweet_id                 29 non-null     object \n",
      " 48  author.profile_image_url               100 non-null    object \n",
      " 49  author.protected                       100 non-null    bool   \n",
      " 50  author.public_metrics.followers_count  100 non-null    int64  \n",
      " 51  author.public_metrics.following_count  100 non-null    int64  \n",
      " 52  author.public_metrics.listed_count     100 non-null    int64  \n",
      " 53  author.public_metrics.tweet_count      100 non-null    int64  \n",
      " 54  author.url                             100 non-null    object \n",
      " 55  author.verified                        100 non-null    bool   \n",
      " 56  author.withheld.scope                  0 non-null      float64\n",
      " 57  author.withheld.copyright              0 non-null      float64\n",
      " 58  author.withheld.country_codes          0 non-null      float64\n",
      " 59  geo.coordinates.coordinates            0 non-null      float64\n",
      " 60  geo.coordinates.type                   0 non-null      float64\n",
      " 61  geo.country                            1 non-null      object \n",
      " 62  geo.country_code                       1 non-null      object \n",
      " 63  geo.full_name                          1 non-null      object \n",
      " 64  geo.geo.bbox                           1 non-null      object \n",
      " 65  geo.geo.type                           1 non-null      object \n",
      " 66  geo.id                                 1 non-null      object \n",
      " 67  geo.name                               1 non-null      object \n",
      " 68  geo.place_id                           1 non-null      object \n",
      " 69  geo.place_type                         1 non-null      object \n",
      " 70  __twarc.retrieved_at                   100 non-null    object \n",
      " 71  __twarc.url                            100 non-null    object \n",
      " 72  __twarc.version                        100 non-null    object \n",
      " 73                                         0 non-null      float64\n",
      "dtypes: bool(3), float64(17), int64(8), object(46)\n",
      "memory usage: 55.9+ KB\n"
     ]
    }
   ],
   "source": [
    "m.df.info()"
   ]
  },
  {
   "cell_type": "code",
   "execution_count": 33,
   "metadata": {},
   "outputs": [
    {
     "data": {
      "text/plain": [
       "0     [{\"start\": 0, \"end\": 14, \"username\": \"Flash431...\n",
       "1     [{\"start\": 19, \"end\": 34, \"username\": \"VestFor...\n",
       "2                                                   NaN\n",
       "3                                                   NaN\n",
       "4     [{\"start\": 145, \"end\": 156, \"username\": \"NATOC...\n",
       "                            ...                        \n",
       "95                                                  NaN\n",
       "96                                                  NaN\n",
       "97    [{\"start\": 0, \"end\": 14, \"username\": \"IAPonoma...\n",
       "98    [{\"start\": 9, \"end\": 21, \"username\": \"ukraine_...\n",
       "99                                                  NaN\n",
       "Name: entities.mentions, Length: 100, dtype: object"
      ]
     },
     "execution_count": 33,
     "metadata": {},
     "output_type": "execute_result"
    }
   ],
   "source": [
    "m.df['entities.mentions']"
   ]
  },
  {
   "cell_type": "code",
   "execution_count": 7,
   "metadata": {},
   "outputs": [
    {
     "data": {
      "application/vnd.jupyter.widget-view+json": {
       "model_id": "15240d470ceb4a84b71b2f0c73c6e785",
       "version_major": 2,
       "version_minor": 0
      },
      "text/plain": [
       "Output()"
      ]
     },
     "metadata": {},
     "output_type": "display_data"
    },
    {
     "name": "stdout",
     "output_type": "stream",
     "text": [
      "Reading secret from C:\\Users\\david\\Documents\\GitHub\\ds-network-analysis\\data\\my_secrets.yaml…\n"
     ]
    },
    {
     "data": {
      "text/html": [
       "<pre style=\"white-space:pre;overflow-x:auto;line-height:normal;font-family:Menlo,'DejaVu Sans Mono',consolas,'Courier New',monospace\"></pre>\n"
      ],
      "text/plain": []
     },
     "metadata": {},
     "output_type": "display_data"
    },
    {
     "data": {
      "text/html": [
       "<pre style=\"white-space:pre;overflow-x:auto;line-height:normal;font-family:Menlo,'DejaVu Sans Mono',consolas,'Courier New',monospace\">\n",
       "</pre>\n"
      ],
      "text/plain": [
       "\n"
      ]
     },
     "metadata": {},
     "output_type": "display_data"
    }
   ],
   "source": [
    "#trovare prorussia\n",
    "m2 = SocialETL(query=\"#ZelenskyWarCriminal lang:en\", pages=8, recent=False)"
   ]
  },
  {
   "cell_type": "markdown",
   "metadata": {},
   "source": [
    "### #ProUcraina"
   ]
  },
  {
   "cell_type": "code",
   "execution_count": 4,
   "metadata": {},
   "outputs": [
    {
     "data": {
      "text/html": [
       "<pre style=\"white-space:pre;overflow-x:auto;line-height:normal;font-family:Menlo,'DejaVu Sans Mono',consolas,'Courier New',monospace\">Reading secret from C:\\Users\\david\\Documents\\GitHub\\ds-network-analysis\\data\\my_secrets.yaml…\n",
       "</pre>\n"
      ],
      "text/plain": [
       "<rich.jupyter.JupyterRenderable at 0x26394e32c80>"
      ]
     },
     "metadata": {},
     "output_type": "display_data"
    },
    {
     "data": {
      "application/vnd.jupyter.widget-view+json": {
       "model_id": "51fa88975dc34bc3807f6e0b22356c43",
       "version_major": 2,
       "version_minor": 0
      },
      "text/plain": [
       "Output()"
      ]
     },
     "metadata": {},
     "output_type": "display_data"
    },
    {
     "ename": "ValueError",
     "evalue": "unable to get size of <generator object Twarc2._search at 0x0000026395081E00>, please specify 'total'",
     "output_type": "error",
     "traceback": [
      "\u001b[1;31m---------------------------------------------------------------------------\u001b[0m",
      "\u001b[1;31mValueError\u001b[0m                                Traceback (most recent call last)",
      "\u001b[1;32m~\\AppData\\Local\\Temp\\ipykernel_22408\\2079076022.py\u001b[0m in \u001b[0;36m<cell line: 2>\u001b[1;34m()\u001b[0m\n\u001b[0;32m      1\u001b[0m \u001b[1;31m#proucraina\u001b[0m\u001b[1;33m\u001b[0m\u001b[1;33m\u001b[0m\u001b[0m\n\u001b[1;32m----> 2\u001b[1;33m \u001b[0mc2\u001b[0m\u001b[1;33m=\u001b[0m\u001b[0mCount\u001b[0m\u001b[1;33m(\u001b[0m\u001b[0mquery\u001b[0m\u001b[1;33m=\u001b[0m\u001b[1;34m\"#slavaukraini\"\u001b[0m\u001b[1;33m)\u001b[0m\u001b[1;33m\u001b[0m\u001b[1;33m\u001b[0m\u001b[0m\n\u001b[0m\u001b[0;32m      3\u001b[0m \u001b[0mprint\u001b[0m\u001b[1;33m(\u001b[0m\u001b[0mc2\u001b[0m\u001b[1;33m)\u001b[0m\u001b[1;33m\u001b[0m\u001b[1;33m\u001b[0m\u001b[0m\n",
      "\u001b[1;32m~\\Documents\\GitHub\\ds-network-analysis\\py\\extract.py\u001b[0m in \u001b[0;36m__init__\u001b[1;34m(self, query, secret)\u001b[0m\n\u001b[0;32m      2\u001b[0m     \u001b[0mself\u001b[0m\u001b[1;33m.\u001b[0m\u001b[0mquery\u001b[0m \u001b[1;33m=\u001b[0m \u001b[0mquery\u001b[0m\u001b[1;33m\u001b[0m\u001b[1;33m\u001b[0m\u001b[0m\n\u001b[0;32m      3\u001b[0m     \u001b[0mself\u001b[0m\u001b[1;33m.\u001b[0m\u001b[0msecret\u001b[0m \u001b[1;33m=\u001b[0m \u001b[0msecret\u001b[0m\u001b[1;33m\u001b[0m\u001b[1;33m\u001b[0m\u001b[0m\n\u001b[1;32m----> 4\u001b[1;33m     \u001b[0mself\u001b[0m\u001b[1;33m.\u001b[0m\u001b[0mdf\u001b[0m \u001b[1;33m=\u001b[0m \u001b[0m__attr_factory_df\u001b[0m\u001b[1;33m(\u001b[0m\u001b[0mself\u001b[0m\u001b[1;33m)\u001b[0m\u001b[1;33m\u001b[0m\u001b[1;33m\u001b[0m\u001b[0m\n\u001b[0m\u001b[0;32m      5\u001b[0m     \u001b[0mself\u001b[0m\u001b[1;33m.\u001b[0m\u001b[0mcount\u001b[0m \u001b[1;33m=\u001b[0m \u001b[0m__attr_factory_count\u001b[0m\u001b[1;33m(\u001b[0m\u001b[0mself\u001b[0m\u001b[1;33m)\u001b[0m\u001b[1;33m\u001b[0m\u001b[1;33m\u001b[0m\u001b[0m\n",
      "\u001b[1;32m~\\Documents\\GitHub\\ds-network-analysis\\py\\extract.py\u001b[0m in \u001b[0;36m_df_default\u001b[1;34m(self)\u001b[0m\n\u001b[0;32m    205\u001b[0m             ),\n\u001b[0;32m    206\u001b[0m         )\n\u001b[1;32m--> 207\u001b[1;33m         df = pd.DataFrame(\n\u001b[0m\u001b[0;32m    208\u001b[0m             \u001b[0mself\u001b[0m\u001b[1;33m.\u001b[0m\u001b[0m_unpack_counts\u001b[0m\u001b[1;33m(\u001b[0m\u001b[0msearch_results\u001b[0m\u001b[1;33m)\u001b[0m\u001b[1;33m,\u001b[0m\u001b[1;33m\u001b[0m\u001b[1;33m\u001b[0m\u001b[0m\n\u001b[0;32m    209\u001b[0m             \u001b[0mcolumns\u001b[0m\u001b[1;33m=\u001b[0m\u001b[1;33m(\u001b[0m\u001b[1;34m\"start\"\u001b[0m\u001b[1;33m,\u001b[0m \u001b[1;34m\"end\"\u001b[0m\u001b[1;33m,\u001b[0m \u001b[1;34m\"tweet_count\"\u001b[0m\u001b[1;33m)\u001b[0m\u001b[1;33m,\u001b[0m\u001b[1;33m\u001b[0m\u001b[1;33m\u001b[0m\u001b[0m\n",
      "\u001b[1;32m~\\AppData\\Local\\Programs\\Python\\Python310\\lib\\site-packages\\pandas\\core\\frame.py\u001b[0m in \u001b[0;36m__init__\u001b[1;34m(self, data, index, columns, dtype, copy)\u001b[0m\n\u001b[0;32m    682\u001b[0m         \u001b[1;32melif\u001b[0m \u001b[0mis_list_like\u001b[0m\u001b[1;33m(\u001b[0m\u001b[0mdata\u001b[0m\u001b[1;33m)\u001b[0m\u001b[1;33m:\u001b[0m\u001b[1;33m\u001b[0m\u001b[1;33m\u001b[0m\u001b[0m\n\u001b[0;32m    683\u001b[0m             \u001b[1;32mif\u001b[0m \u001b[1;32mnot\u001b[0m \u001b[0misinstance\u001b[0m\u001b[1;33m(\u001b[0m\u001b[0mdata\u001b[0m\u001b[1;33m,\u001b[0m \u001b[1;33m(\u001b[0m\u001b[0mabc\u001b[0m\u001b[1;33m.\u001b[0m\u001b[0mSequence\u001b[0m\u001b[1;33m,\u001b[0m \u001b[0mExtensionArray\u001b[0m\u001b[1;33m)\u001b[0m\u001b[1;33m)\u001b[0m\u001b[1;33m:\u001b[0m\u001b[1;33m\u001b[0m\u001b[1;33m\u001b[0m\u001b[0m\n\u001b[1;32m--> 684\u001b[1;33m                 \u001b[0mdata\u001b[0m \u001b[1;33m=\u001b[0m \u001b[0mlist\u001b[0m\u001b[1;33m(\u001b[0m\u001b[0mdata\u001b[0m\u001b[1;33m)\u001b[0m\u001b[1;33m\u001b[0m\u001b[1;33m\u001b[0m\u001b[0m\n\u001b[0m\u001b[0;32m    685\u001b[0m             \u001b[1;32mif\u001b[0m \u001b[0mlen\u001b[0m\u001b[1;33m(\u001b[0m\u001b[0mdata\u001b[0m\u001b[1;33m)\u001b[0m \u001b[1;33m>\u001b[0m \u001b[1;36m0\u001b[0m\u001b[1;33m:\u001b[0m\u001b[1;33m\u001b[0m\u001b[1;33m\u001b[0m\u001b[0m\n\u001b[0;32m    686\u001b[0m                 \u001b[1;32mif\u001b[0m \u001b[0mis_dataclass\u001b[0m\u001b[1;33m(\u001b[0m\u001b[0mdata\u001b[0m\u001b[1;33m[\u001b[0m\u001b[1;36m0\u001b[0m\u001b[1;33m]\u001b[0m\u001b[1;33m)\u001b[0m\u001b[1;33m:\u001b[0m\u001b[1;33m\u001b[0m\u001b[1;33m\u001b[0m\u001b[0m\n",
      "\u001b[1;32m~\\Documents\\GitHub\\ds-network-analysis\\py\\extract.py\u001b[0m in \u001b[0;36m_unpack_counts\u001b[1;34m(self, my_iterator)\u001b[0m\n\u001b[0;32m    216\u001b[0m \u001b[1;33m\u001b[0m\u001b[0m\n\u001b[0;32m    217\u001b[0m     \u001b[1;32mdef\u001b[0m \u001b[0m_unpack_counts\u001b[0m\u001b[1;33m(\u001b[0m\u001b[0mself\u001b[0m\u001b[1;33m,\u001b[0m \u001b[0mmy_iterator\u001b[0m\u001b[1;33m)\u001b[0m\u001b[1;33m:\u001b[0m\u001b[1;33m\u001b[0m\u001b[1;33m\u001b[0m\u001b[0m\n\u001b[1;32m--> 218\u001b[1;33m         \u001b[1;32mfor\u001b[0m \u001b[0mpage\u001b[0m \u001b[1;32min\u001b[0m \u001b[0mtrack\u001b[0m\u001b[1;33m(\u001b[0m\u001b[0mmy_iterator\u001b[0m\u001b[1;33m,\u001b[0m \u001b[0mdescription\u001b[0m\u001b[1;33m=\u001b[0m\u001b[1;34m\"Reading…\"\u001b[0m\u001b[1;33m)\u001b[0m\u001b[1;33m:\u001b[0m\u001b[1;33m\u001b[0m\u001b[1;33m\u001b[0m\u001b[0m\n\u001b[0m\u001b[0;32m    219\u001b[0m             \u001b[1;32mfor\u001b[0m \u001b[0mvalue\u001b[0m \u001b[1;32min\u001b[0m \u001b[0mpage\u001b[0m\u001b[1;33m[\u001b[0m\u001b[1;34m\"data\"\u001b[0m\u001b[1;33m]\u001b[0m\u001b[1;33m:\u001b[0m\u001b[1;33m\u001b[0m\u001b[1;33m\u001b[0m\u001b[0m\n\u001b[0;32m    220\u001b[0m                 yield {\n",
      "\u001b[1;32m~\\AppData\\Local\\Programs\\Python\\Python310\\lib\\site-packages\\rich\\progress.py\u001b[0m in \u001b[0;36mtrack\u001b[1;34m(sequence, description, total, auto_refresh, console, transient, get_time, refresh_per_second, style, complete_style, finished_style, pulse_style, update_period, disable)\u001b[0m\n\u001b[0;32m    149\u001b[0m \u001b[1;33m\u001b[0m\u001b[0m\n\u001b[0;32m    150\u001b[0m     \u001b[1;32mwith\u001b[0m \u001b[0mprogress\u001b[0m\u001b[1;33m:\u001b[0m\u001b[1;33m\u001b[0m\u001b[1;33m\u001b[0m\u001b[0m\n\u001b[1;32m--> 151\u001b[1;33m         yield from progress.track(\n\u001b[0m\u001b[0;32m    152\u001b[0m             \u001b[0msequence\u001b[0m\u001b[1;33m,\u001b[0m \u001b[0mtotal\u001b[0m\u001b[1;33m=\u001b[0m\u001b[0mtotal\u001b[0m\u001b[1;33m,\u001b[0m \u001b[0mdescription\u001b[0m\u001b[1;33m=\u001b[0m\u001b[0mdescription\u001b[0m\u001b[1;33m,\u001b[0m \u001b[0mupdate_period\u001b[0m\u001b[1;33m=\u001b[0m\u001b[0mupdate_period\u001b[0m\u001b[1;33m\u001b[0m\u001b[1;33m\u001b[0m\u001b[0m\n\u001b[0;32m    153\u001b[0m         )\n",
      "\u001b[1;32m~\\AppData\\Local\\Programs\\Python\\Python310\\lib\\site-packages\\rich\\progress.py\u001b[0m in \u001b[0;36mtrack\u001b[1;34m(self, sequence, total, task_id, description, update_period)\u001b[0m\n\u001b[0;32m    721\u001b[0m                 \u001b[0mtask_total\u001b[0m \u001b[1;33m=\u001b[0m \u001b[0mlen\u001b[0m\u001b[1;33m(\u001b[0m\u001b[0msequence\u001b[0m\u001b[1;33m)\u001b[0m\u001b[1;33m\u001b[0m\u001b[1;33m\u001b[0m\u001b[0m\n\u001b[0;32m    722\u001b[0m             \u001b[1;32melse\u001b[0m\u001b[1;33m:\u001b[0m\u001b[1;33m\u001b[0m\u001b[1;33m\u001b[0m\u001b[0m\n\u001b[1;32m--> 723\u001b[1;33m                 raise ValueError(\n\u001b[0m\u001b[0;32m    724\u001b[0m                     \u001b[1;34mf\"unable to get size of {sequence!r}, please specify 'total'\"\u001b[0m\u001b[1;33m\u001b[0m\u001b[1;33m\u001b[0m\u001b[0m\n\u001b[0;32m    725\u001b[0m                 )\n",
      "\u001b[1;31mValueError\u001b[0m: unable to get size of <generator object Twarc2._search at 0x0000026395081E00>, please specify 'total'"
     ]
    }
   ],
   "source": [
    "#proucraina\n",
    "c2=Count(query=\"#slavaukraini\")\n",
    "print(c2)"
   ]
  },
  {
   "cell_type": "code",
   "execution_count": 3,
   "metadata": {},
   "outputs": [
    {
     "data": {
      "application/vnd.jupyter.widget-view+json": {
       "model_id": "28ae88e4f7f5415a9e176d62c2bacc65",
       "version_major": 2,
       "version_minor": 0
      },
      "text/plain": [
       "Output()"
      ]
     },
     "metadata": {},
     "output_type": "display_data"
    },
    {
     "name": "stdout",
     "output_type": "stream",
     "text": [
      "Reading secret from C:\\Users\\david\\Documents\\GitHub\\ds-network-analysis\\data\\my_secrets.yaml…\n"
     ]
    },
    {
     "data": {
      "text/html": [
       "<pre style=\"white-space:pre;overflow-x:auto;line-height:normal;font-family:Menlo,'DejaVu Sans Mono',consolas,'Courier New',monospace\"></pre>\n"
      ],
      "text/plain": []
     },
     "metadata": {},
     "output_type": "display_data"
    },
    {
     "data": {
      "text/html": [
       "<pre style=\"white-space:pre;overflow-x:auto;line-height:normal;font-family:Menlo,'DejaVu Sans Mono',consolas,'Courier New',monospace\">\n",
       "</pre>\n"
      ],
      "text/plain": [
       "\n"
      ]
     },
     "metadata": {},
     "output_type": "display_data"
    },
    {
     "name": "stdout",
     "output_type": "stream",
     "text": [
      "Count(query='#IStandWithUkraine lang:en', df=pd.DataFrame, count=633918)\n"
     ]
    }
   ],
   "source": [
    "#proucraina\n",
    "c5=Count(query=\"#IStandWithUkraine lang:en\")\n",
    "print(c5)"
   ]
  },
  {
   "cell_type": "markdown",
   "metadata": {},
   "source": [
    "### #PaxRomana"
   ]
  },
  {
   "cell_type": "code",
   "execution_count": 4,
   "metadata": {},
   "outputs": [
    {
     "data": {
      "application/vnd.jupyter.widget-view+json": {
       "model_id": "7dbd185388a943ca9f2bea547af8d0f7",
       "version_major": 2,
       "version_minor": 0
      },
      "text/plain": [
       "Output()"
      ]
     },
     "metadata": {},
     "output_type": "display_data"
    },
    {
     "name": "stdout",
     "output_type": "stream",
     "text": [
      "Reading secret from C:\\Users\\david\\Documents\\GitHub\\ds-network-analysis\\data\\my_secrets.yaml…\n"
     ]
    },
    {
     "data": {
      "text/html": [
       "<pre style=\"white-space:pre;overflow-x:auto;line-height:normal;font-family:Menlo,'DejaVu Sans Mono',consolas,'Courier New',monospace\"></pre>\n"
      ],
      "text/plain": []
     },
     "metadata": {},
     "output_type": "display_data"
    },
    {
     "data": {
      "text/html": [
       "<pre style=\"white-space:pre;overflow-x:auto;line-height:normal;font-family:Menlo,'DejaVu Sans Mono',consolas,'Courier New',monospace\">\n",
       "</pre>\n"
      ],
      "text/plain": [
       "\n"
      ]
     },
     "metadata": {},
     "output_type": "display_data"
    },
    {
     "name": "stdout",
     "output_type": "stream",
     "text": [
      "Count(query='#stopwarinukraine lang:en', df=pd.DataFrame, count=250781)\n"
     ]
    }
   ],
   "source": [
    "#pax_romana\n",
    "c4=Count(query=\"#stopwarinukraine lang:en\")\n",
    "print(c4)"
   ]
  },
  {
   "cell_type": "code",
   "execution_count": 5,
   "metadata": {},
   "outputs": [
    {
     "data": {
      "application/vnd.jupyter.widget-view+json": {
       "model_id": "0eda35bc0e0240a3b3af171d6e84d5c2",
       "version_major": 2,
       "version_minor": 0
      },
      "text/plain": [
       "Output()"
      ]
     },
     "metadata": {},
     "output_type": "display_data"
    },
    {
     "name": "stdout",
     "output_type": "stream",
     "text": [
      "Reading secret from C:\\Users\\david\\Documents\\GitHub\\ds-network-analysis\\data\\my_secrets.yaml…\n"
     ]
    },
    {
     "data": {
      "text/html": [
       "<pre style=\"white-space:pre;overflow-x:auto;line-height:normal;font-family:Menlo,'DejaVu Sans Mono',consolas,'Courier New',monospace\"></pre>\n"
      ],
      "text/plain": []
     },
     "metadata": {},
     "output_type": "display_data"
    },
    {
     "data": {
      "text/html": [
       "<pre style=\"white-space:pre;overflow-x:auto;line-height:normal;font-family:Menlo,'DejaVu Sans Mono',consolas,'Courier New',monospace\">\n",
       "</pre>\n"
      ],
      "text/plain": [
       "\n"
      ]
     },
     "metadata": {},
     "output_type": "display_data"
    },
    {
     "name": "stdout",
     "output_type": "stream",
     "text": [
      "Count(query='#stoprussia lang:en', df=pd.DataFrame, count=1887070)\n"
     ]
    }
   ],
   "source": [
    "c=Count(query=\"#stoprussia lang:en\")\n",
    "print(c)"
   ]
  },
  {
   "cell_type": "markdown",
   "metadata": {},
   "source": [
    "### #ProRussia "
   ]
  },
  {
   "cell_type": "code",
   "execution_count": 6,
   "metadata": {},
   "outputs": [
    {
     "data": {
      "application/vnd.jupyter.widget-view+json": {
       "model_id": "c1f02505c57a4b83b956c4ee5325b0c6",
       "version_major": 2,
       "version_minor": 0
      },
      "text/plain": [
       "Output()"
      ]
     },
     "metadata": {},
     "output_type": "display_data"
    },
    {
     "name": "stdout",
     "output_type": "stream",
     "text": [
      "Reading secret from C:\\Users\\david\\Documents\\GitHub\\ds-network-analysis\\data\\my_secrets.yaml…\n"
     ]
    },
    {
     "data": {
      "text/html": [
       "<pre style=\"white-space:pre;overflow-x:auto;line-height:normal;font-family:Menlo,'DejaVu Sans Mono',consolas,'Courier New',monospace\"></pre>\n"
      ],
      "text/plain": []
     },
     "metadata": {},
     "output_type": "display_data"
    },
    {
     "data": {
      "text/html": [
       "<pre style=\"white-space:pre;overflow-x:auto;line-height:normal;font-family:Menlo,'DejaVu Sans Mono',consolas,'Courier New',monospace\">\n",
       "</pre>\n"
      ],
      "text/plain": [
       "\n"
      ]
     },
     "metadata": {},
     "output_type": "display_data"
    },
    {
     "name": "stdout",
     "output_type": "stream",
     "text": [
      "Count(query='#ZelenskyWarCriminal lang:en', df=pd.DataFrame, count=18311)\n"
     ]
    }
   ],
   "source": [
    "#prorussia\n",
    "c=Count(query=\"#ZelenskyWarCriminal lang:en\")\n",
    "print(c)"
   ]
  },
  {
   "cell_type": "code",
   "execution_count": 7,
   "metadata": {},
   "outputs": [
    {
     "data": {
      "application/vnd.jupyter.widget-view+json": {
       "model_id": "98e87e00e8734dd886d1b4ad968ddeb4",
       "version_major": 2,
       "version_minor": 0
      },
      "text/plain": [
       "Output()"
      ]
     },
     "metadata": {},
     "output_type": "display_data"
    },
    {
     "name": "stdout",
     "output_type": "stream",
     "text": [
      "Reading secret from C:\\Users\\david\\Documents\\GitHub\\ds-network-analysis\\data\\my_secrets.yaml…\n"
     ]
    },
    {
     "data": {
      "text/html": [
       "<pre style=\"white-space:pre;overflow-x:auto;line-height:normal;font-family:Menlo,'DejaVu Sans Mono',consolas,'Courier New',monospace\"></pre>\n"
      ],
      "text/plain": []
     },
     "metadata": {},
     "output_type": "display_data"
    },
    {
     "data": {
      "text/html": [
       "<pre style=\"white-space:pre;overflow-x:auto;line-height:normal;font-family:Menlo,'DejaVu Sans Mono',consolas,'Courier New',monospace\">\n",
       "</pre>\n"
      ],
      "text/plain": [
       "\n"
      ]
     },
     "metadata": {},
     "output_type": "display_data"
    },
    {
     "name": "stdout",
     "output_type": "stream",
     "text": [
      "Count(query='ZelenskyWarCriminal lang:en', df=pd.DataFrame, count=18330)\n"
     ]
    }
   ],
   "source": [
    "#prorussia\n",
    "c_1=Count(query=\"ZelenskyWarCriminal lang:en\")\n",
    "print(c_1)"
   ]
  },
  {
   "cell_type": "code",
   "execution_count": 8,
   "metadata": {},
   "outputs": [
    {
     "data": {
      "application/vnd.jupyter.widget-view+json": {
       "model_id": "250adc3153f941d5823877b587cf2da4",
       "version_major": 2,
       "version_minor": 0
      },
      "text/plain": [
       "Output()"
      ]
     },
     "metadata": {},
     "output_type": "display_data"
    },
    {
     "name": "stdout",
     "output_type": "stream",
     "text": [
      "Reading secret from C:\\Users\\david\\Documents\\GitHub\\ds-network-analysis\\data\\my_secrets.yaml…\n"
     ]
    },
    {
     "data": {
      "text/html": [
       "<pre style=\"white-space:pre;overflow-x:auto;line-height:normal;font-family:Menlo,'DejaVu Sans Mono',consolas,'Courier New',monospace\"></pre>\n"
      ],
      "text/plain": []
     },
     "metadata": {},
     "output_type": "display_data"
    },
    {
     "data": {
      "text/html": [
       "<pre style=\"white-space:pre;overflow-x:auto;line-height:normal;font-family:Menlo,'DejaVu Sans Mono',consolas,'Courier New',monospace\">\n",
       "</pre>\n"
      ],
      "text/plain": [
       "\n"
      ]
     },
     "metadata": {},
     "output_type": "display_data"
    },
    {
     "name": "stdout",
     "output_type": "stream",
     "text": [
      "Count(query='#ImNotAshamed lang:en', df=pd.DataFrame, count=34)\n"
     ]
    }
   ],
   "source": [
    "c2=Count(query=\"#ImNotAshamed lang:en\")\n",
    "print(c2)"
   ]
  },
  {
   "cell_type": "code",
   "execution_count": 9,
   "metadata": {},
   "outputs": [
    {
     "data": {
      "application/vnd.jupyter.widget-view+json": {
       "model_id": "3f47623812e343f48133f5a2f4f18c5f",
       "version_major": 2,
       "version_minor": 0
      },
      "text/plain": [
       "Output()"
      ]
     },
     "metadata": {},
     "output_type": "display_data"
    },
    {
     "data": {
      "text/html": [
       "<pre style=\"white-space:pre;overflow-x:auto;line-height:normal;font-family:Menlo,'DejaVu Sans Mono',consolas,'Courier New',monospace\"></pre>\n"
      ],
      "text/plain": []
     },
     "metadata": {},
     "output_type": "display_data"
    },
    {
     "data": {
      "text/html": [
       "<pre style=\"white-space:pre;overflow-x:auto;line-height:normal;font-family:Menlo,'DejaVu Sans Mono',consolas,'Courier New',monospace\">\n",
       "</pre>\n"
      ],
      "text/plain": [
       "\n"
      ]
     },
     "metadata": {},
     "output_type": "display_data"
    },
    {
     "name": "stdout",
     "output_type": "stream",
     "text": [
      "Count(query='#istandwithputin lang:en', df=pd.DataFrame, count=259662)\n"
     ]
    }
   ],
   "source": [
    "#prorussia\n",
    "c3=Count(query=\"#istandwithputin lang:en\")\n",
    "print(c3)"
   ]
  },
  {
   "cell_type": "code",
   "execution_count": 10,
   "metadata": {},
   "outputs": [
    {
     "data": {
      "application/vnd.jupyter.widget-view+json": {
       "model_id": "d63fd39cb3ee4d5aa5614cae96c5ee96",
       "version_major": 2,
       "version_minor": 0
      },
      "text/plain": [
       "Output()"
      ]
     },
     "metadata": {},
     "output_type": "display_data"
    },
    {
     "name": "stdout",
     "output_type": "stream",
     "text": [
      "Reading secret from C:\\Users\\david\\Documents\\GitHub\\ds-network-analysis\\data\\my_secrets.yaml…\n"
     ]
    },
    {
     "data": {
      "text/html": [
       "<pre style=\"white-space:pre;overflow-x:auto;line-height:normal;font-family:Menlo,'DejaVu Sans Mono',consolas,'Courier New',monospace\"></pre>\n"
      ],
      "text/plain": []
     },
     "metadata": {},
     "output_type": "display_data"
    },
    {
     "data": {
      "text/html": [
       "<pre style=\"white-space:pre;overflow-x:auto;line-height:normal;font-family:Menlo,'DejaVu Sans Mono',consolas,'Courier New',monospace\">\n",
       "</pre>\n"
      ],
      "text/plain": [
       "\n"
      ]
     },
     "metadata": {},
     "output_type": "display_data"
    },
    {
     "name": "stdout",
     "output_type": "stream",
     "text": [
      "Count(query='#istandwithrussia lang:en', df=pd.DataFrame, count=153669)\n"
     ]
    }
   ],
   "source": [
    "#prorussia\n",
    "c3_1=Count(query=\"#istandwithrussia lang:en\")\n",
    "print(c3_1)"
   ]
  },
  {
   "cell_type": "code",
   "execution_count": 11,
   "metadata": {},
   "outputs": [
    {
     "data": {
      "application/vnd.jupyter.widget-view+json": {
       "model_id": "c228b31345054d46a7d231238bb85470",
       "version_major": 2,
       "version_minor": 0
      },
      "text/plain": [
       "Output()"
      ]
     },
     "metadata": {},
     "output_type": "display_data"
    },
    {
     "name": "stdout",
     "output_type": "stream",
     "text": [
      "Reading secret from C:\\Users\\david\\Documents\\GitHub\\ds-network-analysis\\data\\my_secrets.yaml…\n"
     ]
    },
    {
     "data": {
      "text/html": [
       "<pre style=\"white-space:pre;overflow-x:auto;line-height:normal;font-family:Menlo,'DejaVu Sans Mono',consolas,'Courier New',monospace\"></pre>\n"
      ],
      "text/plain": []
     },
     "metadata": {},
     "output_type": "display_data"
    },
    {
     "data": {
      "text/html": [
       "<pre style=\"white-space:pre;overflow-x:auto;line-height:normal;font-family:Menlo,'DejaVu Sans Mono',consolas,'Courier New',monospace\">\n",
       "</pre>\n"
      ],
      "text/plain": [
       "\n"
      ]
     },
     "metadata": {},
     "output_type": "display_data"
    },
    {
     "name": "stdout",
     "output_type": "stream",
     "text": [
      "Count(query='#Z lang:en', df=pd.DataFrame, count=23759)\n"
     ]
    }
   ],
   "source": [
    "c4=Count(query=\"#Z lang:en\")\n",
    "print(c4)"
   ]
  },
  {
   "cell_type": "code",
   "execution_count": 12,
   "metadata": {},
   "outputs": [
    {
     "data": {
      "application/vnd.jupyter.widget-view+json": {
       "model_id": "7630b90b474843689ee0cce934435663",
       "version_major": 2,
       "version_minor": 0
      },
      "text/plain": [
       "Output()"
      ]
     },
     "metadata": {},
     "output_type": "display_data"
    },
    {
     "name": "stdout",
     "output_type": "stream",
     "text": [
      "Reading secret from C:\\Users\\david\\Documents\\GitHub\\ds-network-analysis\\data\\my_secrets.yaml…\n"
     ]
    },
    {
     "data": {
      "text/html": [
       "<pre style=\"white-space:pre;overflow-x:auto;line-height:normal;font-family:Menlo,'DejaVu Sans Mono',consolas,'Courier New',monospace\"></pre>\n"
      ],
      "text/plain": []
     },
     "metadata": {},
     "output_type": "display_data"
    },
    {
     "data": {
      "text/html": [
       "<pre style=\"white-space:pre;overflow-x:auto;line-height:normal;font-family:Menlo,'DejaVu Sans Mono',consolas,'Courier New',monospace\">\n",
       "</pre>\n"
      ],
      "text/plain": [
       "\n"
      ]
     },
     "metadata": {},
     "output_type": "display_data"
    },
    {
     "name": "stdout",
     "output_type": "stream",
     "text": [
      "Count(query='(#istandwithputin OR #istandwithrussia OR #zelenskywarcriminal) lang:en', df=pd.DataFrame, count=344376)\n"
     ]
    }
   ],
   "source": [
    "c5=Count(query=\"(#istandwithputin OR #istandwithrussia OR #zelenskywarcriminal) lang:en\")\n",
    "print(c5)"
   ]
  },
  {
   "cell_type": "code",
   "execution_count": 13,
   "metadata": {},
   "outputs": [
    {
     "data": {
      "application/vnd.jupyter.widget-view+json": {
       "model_id": "6322f33ef6ea4f01adef5415d444c132",
       "version_major": 2,
       "version_minor": 0
      },
      "text/plain": [
       "Output()"
      ]
     },
     "metadata": {},
     "output_type": "display_data"
    },
    {
     "name": "stdout",
     "output_type": "stream",
     "text": [
      "Reading secret from C:\\Users\\david\\Documents\\GitHub\\ds-network-analysis\\data\\my_secrets.yaml…\n"
     ]
    },
    {
     "data": {
      "text/html": [
       "<pre style=\"white-space:pre;overflow-x:auto;line-height:normal;font-family:Menlo,'DejaVu Sans Mono',consolas,'Courier New',monospace\"></pre>\n"
      ],
      "text/plain": []
     },
     "metadata": {},
     "output_type": "display_data"
    },
    {
     "data": {
      "text/html": [
       "<pre style=\"white-space:pre;overflow-x:auto;line-height:normal;font-family:Menlo,'DejaVu Sans Mono',consolas,'Courier New',monospace\">\n",
       "</pre>\n"
      ],
      "text/plain": [
       "\n"
      ]
     },
     "metadata": {},
     "output_type": "display_data"
    },
    {
     "name": "stdout",
     "output_type": "stream",
     "text": [
      "Count(query='#imrussian lang:en', df=pd.DataFrame, count=17)\n"
     ]
    }
   ],
   "source": [
    "c6=Count(query=\"#imrussian lang:en\")\n",
    "print(c6)"
   ]
  },
  {
   "cell_type": "code",
   "execution_count": 14,
   "metadata": {},
   "outputs": [
    {
     "data": {
      "application/vnd.jupyter.widget-view+json": {
       "model_id": "108697d943a4441686f7783faafcba23",
       "version_major": 2,
       "version_minor": 0
      },
      "text/plain": [
       "Output()"
      ]
     },
     "metadata": {},
     "output_type": "display_data"
    },
    {
     "data": {
      "text/html": [
       "<pre style=\"white-space:pre;overflow-x:auto;line-height:normal;font-family:Menlo,'DejaVu Sans Mono',consolas,'Courier New',monospace\"></pre>\n"
      ],
      "text/plain": []
     },
     "metadata": {},
     "output_type": "display_data"
    },
    {
     "data": {
      "text/html": [
       "<pre style=\"white-space:pre;overflow-x:auto;line-height:normal;font-family:Menlo,'DejaVu Sans Mono',consolas,'Courier New',monospace\">\n",
       "</pre>\n"
      ],
      "text/plain": [
       "\n"
      ]
     },
     "metadata": {},
     "output_type": "display_data"
    },
    {
     "name": "stdout",
     "output_type": "stream",
     "text": [
      "Count(query='#NaziUkraine lang:en', df=pd.DataFrame, count=36424)\n"
     ]
    }
   ],
   "source": [
    "c7=Count(query=\"#NaziUkraine lang:en\")\n",
    "print(c7)"
   ]
  },
  {
   "cell_type": "code",
   "execution_count": 15,
   "metadata": {},
   "outputs": [
    {
     "data": {
      "application/vnd.jupyter.widget-view+json": {
       "model_id": "0cd77d7b893e407f9d4ce138bcc4eddd",
       "version_major": 2,
       "version_minor": 0
      },
      "text/plain": [
       "Output()"
      ]
     },
     "metadata": {},
     "output_type": "display_data"
    },
    {
     "name": "stdout",
     "output_type": "stream",
     "text": [
      "Reading secret from C:\\Users\\david\\Documents\\GitHub\\ds-network-analysis\\data\\my_secrets.yaml…\n"
     ]
    },
    {
     "data": {
      "text/html": [
       "<pre style=\"white-space:pre;overflow-x:auto;line-height:normal;font-family:Menlo,'DejaVu Sans Mono',consolas,'Courier New',monospace\"></pre>\n"
      ],
      "text/plain": []
     },
     "metadata": {},
     "output_type": "display_data"
    },
    {
     "data": {
      "text/html": [
       "<pre style=\"white-space:pre;overflow-x:auto;line-height:normal;font-family:Menlo,'DejaVu Sans Mono',consolas,'Courier New',monospace\">\n",
       "</pre>\n"
      ],
      "text/plain": [
       "\n"
      ]
     },
     "metadata": {},
     "output_type": "display_data"
    },
    {
     "name": "stdout",
     "output_type": "stream",
     "text": [
      "Count(query='#stophatingrussians lang:en', df=pd.DataFrame, count=16314)\n"
     ]
    }
   ],
   "source": [
    "c8=Count(query=\"#stophatingrussians lang:en\")\n",
    "print(c8)"
   ]
  },
  {
   "cell_type": "code",
   "execution_count": 16,
   "metadata": {},
   "outputs": [
    {
     "data": {
      "application/vnd.jupyter.widget-view+json": {
       "model_id": "9a0524aa106b4d169bcc782fac70e282",
       "version_major": 2,
       "version_minor": 0
      },
      "text/plain": [
       "Output()"
      ]
     },
     "metadata": {},
     "output_type": "display_data"
    },
    {
     "name": "stdout",
     "output_type": "stream",
     "text": [
      "Reading secret from C:\\Users\\david\\Documents\\GitHub\\ds-network-analysis\\data\\my_secrets.yaml…\n"
     ]
    },
    {
     "data": {
      "text/html": [
       "<pre style=\"white-space:pre;overflow-x:auto;line-height:normal;font-family:Menlo,'DejaVu Sans Mono',consolas,'Courier New',monospace\"></pre>\n"
      ],
      "text/plain": []
     },
     "metadata": {},
     "output_type": "display_data"
    },
    {
     "data": {
      "text/html": [
       "<pre style=\"white-space:pre;overflow-x:auto;line-height:normal;font-family:Menlo,'DejaVu Sans Mono',consolas,'Courier New',monospace\">\n",
       "</pre>\n"
      ],
      "text/plain": [
       "\n"
      ]
     },
     "metadata": {},
     "output_type": "display_data"
    },
    {
     "name": "stdout",
     "output_type": "stream",
     "text": [
      "Count(query='#victory lang:en', df=pd.DataFrame, count=43856)\n"
     ]
    }
   ],
   "source": [
    "c9=Count(query=\"#victory lang:en\")\n",
    "print(c9)"
   ]
  },
  {
   "cell_type": "code",
   "execution_count": 17,
   "metadata": {},
   "outputs": [
    {
     "data": {
      "application/vnd.jupyter.widget-view+json": {
       "model_id": "a93028cf9d684665a470ea5a526dc2b3",
       "version_major": 2,
       "version_minor": 0
      },
      "text/plain": [
       "Output()"
      ]
     },
     "metadata": {},
     "output_type": "display_data"
    },
    {
     "name": "stdout",
     "output_type": "stream",
     "text": [
      "Reading secret from C:\\Users\\david\\Documents\\GitHub\\ds-network-analysis\\data\\my_secrets.yaml…\n"
     ]
    },
    {
     "data": {
      "text/html": [
       "<pre style=\"white-space:pre;overflow-x:auto;line-height:normal;font-family:Menlo,'DejaVu Sans Mono',consolas,'Courier New',monospace\">caught requests exception: HTTPSConnectionPool(host='api.twitter.com', port=443): Max retries\n",
       "exceeded with url: /2/tweets/counts/all?start_time=2022-02-24T00%3A00%3A00%2B00%3A00&amp;query=%2\n",
       "3godblessrussia&amp;granularity=day (Caused by \n",
       "ConnectTimeoutError(&lt;urllib3.connection.HTTPSConnection object at 0x00000200804E9940&gt;, \n",
       "'Connection to api.twitter.com timed out. (connect timeout=3.05)'))\n",
       "</pre>\n"
      ],
      "text/plain": [
       "caught requests exception: HTTPSConnectionPool(host='api.twitter.com', port=443): Max retries\n",
       "exceeded with url: /2/tweets/counts/all?start_time=2022-02-24T00%3A00%3A00%2B00%3A00&query=%2\n",
       "3godblessrussia&granularity=day (Caused by \n",
       "ConnectTimeoutError(<urllib3.connection.HTTPSConnection object at 0x00000200804E9940>, \n",
       "'Connection to api.twitter.com timed out. (connect timeout=3.05)'))\n"
      ]
     },
     "metadata": {},
     "output_type": "display_data"
    },
    {
     "data": {
      "text/html": [
       "<pre style=\"white-space:pre;overflow-x:auto;line-height:normal;font-family:Menlo,'DejaVu Sans Mono',consolas,'Courier New',monospace\"></pre>\n"
      ],
      "text/plain": []
     },
     "metadata": {},
     "output_type": "display_data"
    },
    {
     "data": {
      "text/html": [
       "<pre style=\"white-space:pre;overflow-x:auto;line-height:normal;font-family:Menlo,'DejaVu Sans Mono',consolas,'Courier New',monospace\">\n",
       "</pre>\n"
      ],
      "text/plain": [
       "\n"
      ]
     },
     "metadata": {},
     "output_type": "display_data"
    },
    {
     "name": "stdout",
     "output_type": "stream",
     "text": [
      "Count(query='#godblessrussia', df=pd.DataFrame, count=263)\n"
     ]
    }
   ],
   "source": [
    "c10=Count(query=\"#godblessrussia\")\n",
    "print(c10)"
   ]
  },
  {
   "cell_type": "code",
   "execution_count": 18,
   "metadata": {},
   "outputs": [
    {
     "data": {
      "application/vnd.jupyter.widget-view+json": {
       "model_id": "b1a2d44edc824e48b84522ed4806237c",
       "version_major": 2,
       "version_minor": 0
      },
      "text/plain": [
       "Output()"
      ]
     },
     "metadata": {},
     "output_type": "display_data"
    },
    {
     "name": "stdout",
     "output_type": "stream",
     "text": [
      "Reading secret from C:\\Users\\david\\Documents\\GitHub\\ds-network-analysis\\data\\my_secrets.yaml…\n"
     ]
    },
    {
     "data": {
      "text/html": [
       "<pre style=\"white-space:pre;overflow-x:auto;line-height:normal;font-family:Menlo,'DejaVu Sans Mono',consolas,'Courier New',monospace\"></pre>\n"
      ],
      "text/plain": []
     },
     "metadata": {},
     "output_type": "display_data"
    },
    {
     "data": {
      "text/html": [
       "<pre style=\"white-space:pre;overflow-x:auto;line-height:normal;font-family:Menlo,'DejaVu Sans Mono',consolas,'Courier New',monospace\">\n",
       "</pre>\n"
      ],
      "text/plain": [
       "\n"
      ]
     },
     "metadata": {},
     "output_type": "display_data"
    },
    {
     "name": "stdout",
     "output_type": "stream",
     "text": [
      "Count(query='#wakeupworld lang:en', df=pd.DataFrame, count=39101)\n"
     ]
    }
   ],
   "source": [
    "c11=Count(query=\"#wakeupworld lang:en\")\n",
    "print(c11)"
   ]
  },
  {
   "cell_type": "code",
   "execution_count": 19,
   "metadata": {},
   "outputs": [
    {
     "data": {
      "application/vnd.jupyter.widget-view+json": {
       "model_id": "af207fca8efb4f788c8ebea63d97c274",
       "version_major": 2,
       "version_minor": 0
      },
      "text/plain": [
       "Output()"
      ]
     },
     "metadata": {},
     "output_type": "display_data"
    },
    {
     "name": "stdout",
     "output_type": "stream",
     "text": [
      "Reading secret from C:\\Users\\david\\Documents\\GitHub\\ds-network-analysis\\data\\my_secrets.yaml…\n"
     ]
    },
    {
     "data": {
      "text/html": [
       "<pre style=\"white-space:pre;overflow-x:auto;line-height:normal;font-family:Menlo,'DejaVu Sans Mono',consolas,'Courier New',monospace\"></pre>\n"
      ],
      "text/plain": []
     },
     "metadata": {},
     "output_type": "display_data"
    },
    {
     "data": {
      "text/html": [
       "<pre style=\"white-space:pre;overflow-x:auto;line-height:normal;font-family:Menlo,'DejaVu Sans Mono',consolas,'Courier New',monospace\">\n",
       "</pre>\n"
      ],
      "text/plain": [
       "\n"
      ]
     },
     "metadata": {},
     "output_type": "display_data"
    },
    {
     "name": "stdout",
     "output_type": "stream",
     "text": [
      "Count(query='#nazi lang:en', df=pd.DataFrame, count=131124)\n"
     ]
    }
   ],
   "source": [
    "c12=Count(query=\"#nazi lang:en\")\n",
    "print(c12)"
   ]
  },
  {
   "cell_type": "markdown",
   "metadata": {},
   "source": [
    "# PROBLEMA: hashtag in più di una categoria!"
   ]
  },
  {
   "cell_type": "code",
   "execution_count": 20,
   "metadata": {},
   "outputs": [],
   "source": [
    "def extract_tags(value):\n",
    "    results = []\n",
    "    for my_dict in value:\n",
    "        results.append(my_dict[\"tag\"].lower())\n",
    "    return results"
   ]
  },
  {
   "cell_type": "code",
   "execution_count": 21,
   "metadata": {},
   "outputs": [
    {
     "data": {
      "application/vnd.jupyter.widget-view+json": {
       "model_id": "c0d90ff9bbb246bb8a28d70073bfad3c",
       "version_major": 2,
       "version_minor": 0
      },
      "text/plain": [
       "Output()"
      ]
     },
     "metadata": {},
     "output_type": "display_data"
    },
    {
     "name": "stdout",
     "output_type": "stream",
     "text": [
      "Reading secret from C:\\Users\\david\\Documents\\GitHub\\ds-network-analysis\\data\\my_secrets.yaml…\n"
     ]
    },
    {
     "data": {
      "text/html": [
       "<pre style=\"white-space:pre;overflow-x:auto;line-height:normal;font-family:Menlo,'DejaVu Sans Mono',consolas,'Courier New',monospace\"></pre>\n"
      ],
      "text/plain": []
     },
     "metadata": {},
     "output_type": "display_data"
    },
    {
     "data": {
      "text/html": [
       "<pre style=\"white-space:pre;overflow-x:auto;line-height:normal;font-family:Menlo,'DejaVu Sans Mono',consolas,'Courier New',monospace\">\n",
       "</pre>\n"
      ],
      "text/plain": [
       "\n"
      ]
     },
     "metadata": {},
     "output_type": "display_data"
    },
    {
     "data": {
      "application/vnd.jupyter.widget-view+json": {
       "model_id": "2fb0f0a1eed14e8cbcd320ab9769dbc4",
       "version_major": 2,
       "version_minor": 0
      },
      "text/plain": [
       "Output()"
      ]
     },
     "metadata": {},
     "output_type": "display_data"
    },
    {
     "name": "stdout",
     "output_type": "stream",
     "text": [
      "Reading secret from C:\\Users\\david\\Documents\\GitHub\\ds-network-analysis\\data\\my_secrets.yaml…\n"
     ]
    },
    {
     "data": {
      "text/html": [
       "<pre style=\"white-space:pre;overflow-x:auto;line-height:normal;font-family:Menlo,'DejaVu Sans Mono',consolas,'Courier New',monospace\"></pre>\n"
      ],
      "text/plain": []
     },
     "metadata": {},
     "output_type": "display_data"
    },
    {
     "data": {
      "text/html": [
       "<pre style=\"white-space:pre;overflow-x:auto;line-height:normal;font-family:Menlo,'DejaVu Sans Mono',consolas,'Courier New',monospace\">\n",
       "</pre>\n"
      ],
      "text/plain": [
       "\n"
      ]
     },
     "metadata": {},
     "output_type": "display_data"
    }
   ],
   "source": [
    "c = SocialETL(query=\"#stoprussia lang:en\", pages=2, recent=False) #-is:retweet "
   ]
  },
  {
   "cell_type": "code",
   "execution_count": 31,
   "metadata": {},
   "outputs": [
    {
     "name": "stdout",
     "output_type": "stream",
     "text": [
      "0      [{\"start\": 170, \"end\": 181, \"tag\": \"StopRussia...\n",
      "1      [{\"start\": 170, \"end\": 181, \"tag\": \"StopRussia...\n",
      "2      [{\"start\": 36, \"end\": 49, \"tag\": \"SlavaUkraini...\n",
      "3        [{\"start\": 87, \"end\": 98, \"tag\": \"StopRussia\"}]\n",
      "4      [{\"start\": 55, \"end\": 65, \"tag\": \"Ukrainian\"},...\n",
      "                             ...                        \n",
      "595    [{\"start\": 170, \"end\": 181, \"tag\": \"StopRussia...\n",
      "596    [{\"start\": 12, \"end\": 23, \"tag\": \"Lysychansk\"}...\n",
      "597    [{\"start\": 26, \"end\": 40, \"tag\": \"ArmUkraineNo...\n",
      "598    [{\"start\": 104, \"end\": 121, \"tag\": \"StandWithU...\n",
      "599    [{\"start\": 170, \"end\": 181, \"tag\": \"StopRussia...\n",
      "Name: entities.hashtags, Length: 600, dtype: object tweets with at least 1 hashtag.\n",
      "0              slavaukraini\n",
      "1                stoprussia\n",
      "2                 stopputin\n",
      "3          putinwarcriminal\n",
      "4                       nft\n",
      "5              nftcommunity\n",
      "6                     lgbtq\n",
      "7              nftcollector\n",
      "8              cryptoartist\n",
      "9                      nfts\n",
      "10                 wezenaar\n",
      "11             rickwezenaar\n",
      "12             slavaukraini\n",
      "13               stoprussia\n",
      "14                stopputin\n",
      "15         putinwarcriminal\n",
      "16                      nft\n",
      "17             nftcommunity\n",
      "18                    lgbtq\n",
      "19             nftcollector\n",
      "20             cryptoartist\n",
      "21                     nfts\n",
      "22                 wezenaar\n",
      "23             rickwezenaar\n",
      "24             slavaukraini\n",
      "25                 fckputin\n",
      "26             stopputinnow\n",
      "27                   putler\n",
      "28               stoprussia\n",
      "29    stoprussianaggression\n",
      "30    savemariupoldefenders\n",
      "31             slavaukraini\n",
      "32               stoprussia\n",
      "33                stopputin\n",
      "34         putinwarcriminal\n",
      "35                      nft\n",
      "36             nftcommunity\n",
      "37                    lgbtq\n",
      "38             nftcollector\n",
      "39             cryptoartist\n",
      "40                     nfts\n",
      "41                 wezenaar\n",
      "42             rickwezenaar\n",
      "43             slavaukraini\n",
      "44               stoprussia\n",
      "45                stopputin\n",
      "46         putinwarcriminal\n",
      "47                      nft\n",
      "48             nftcommunity\n",
      "49                    lgbtq\n",
      "50             nftcollector\n",
      "51             cryptoartist\n",
      "52                     nfts\n",
      "53                 wezenaar\n",
      "54             rickwezenaar\n",
      "Name: proukr, dtype: object\n",
      "slavaukraini             5\n",
      "stoprussia               5\n",
      "nftcollector             4\n",
      "rickwezenaar             4\n",
      "wezenaar                 4\n",
      "nfts                     4\n",
      "cryptoartist             4\n",
      "lgbtq                    4\n",
      "nftcommunity             4\n",
      "nft                      4\n",
      "putinwarcriminal         4\n",
      "stopputin                4\n",
      "fckputin                 1\n",
      "stopputinnow             1\n",
      "putler                   1\n",
      "stoprussianaggression    1\n",
      "savemariupoldefenders    1\n",
      "Name: proukr, dtype: int64\n",
      "Series([], Name: prorus, dtype: float64)\n",
      "Series([], Name: prorus, dtype: int64)\n",
      "0            stoprussia\n",
      "1     standupforukraine\n",
      "2               ukraine\n",
      "3         ukrainerussia\n",
      "4      stopwarinukraine\n",
      "5            stoprussia\n",
      "6     standupforukraine\n",
      "7               ukraine\n",
      "8         ukrainerussia\n",
      "9      stopwarinukraine\n",
      "10              ukraine\n",
      "11     ukrainerussiawar\n",
      "12         stopputinnow\n",
      "13           stoprussia\n",
      "14     putinwarcriminal\n",
      "15     russiaukrainewar\n",
      "16     standwithukraine\n",
      "17     stopwarinukraine\n",
      "18              stopwar\n",
      "19    standupforukraine\n",
      "20          putinhitler\n",
      "Name: pax, dtype: object\n",
      "stoprussia           3\n",
      "standupforukraine    3\n",
      "ukraine              3\n",
      "stopwarinukraine     3\n",
      "ukrainerussia        2\n",
      "ukrainerussiawar     1\n",
      "stopputinnow         1\n",
      "putinwarcriminal     1\n",
      "russiaukrainewar     1\n",
      "standwithukraine     1\n",
      "stopwar              1\n",
      "putinhitler          1\n",
      "Name: pax, dtype: int64\n"
     ]
    },
    {
     "name": "stderr",
     "output_type": "stream",
     "text": [
      "<ipython-input-31-ccd95c0c951e>:29: DeprecationWarning: The default dtype for empty Series will be 'object' instead of 'float64' in a future version. Specify a dtype explicitly to silence this warning.\n",
      "  lista_intersez[category] = pd.Series(value, name=category)\n"
     ]
    }
   ],
   "source": [
    "lista = c.df[[\"id\", \"entities.hashtags\"]].dropna() #miao=lista\n",
    "print(f\"{lista['entities.hashtags']} tweets with at least 1 hashtag.\")\n",
    "\n",
    "lista[\"entities.hashtags\"] = lista[\"entities.hashtags\"].map(eval)\n",
    "\n",
    "lista[\"tags\"] = lista[\"entities.hashtags\"].map(extract_tags)\n",
    "\n",
    "my_results = []\n",
    "\n",
    "tagmadre = {\n",
    "    \"proukr\":\"slavaukraini\",\n",
    "    \"prorus\": \"istandwithputin\",\n",
    "    \"pax\": \"stopwarinukraine\",\n",
    "}\n",
    "results = {\"proukr\": [], \"prorus\": [], \"pax\": []}\n",
    "lista_intersez = {}\n",
    "\n",
    "for _, riga in lista.iterrows():\n",
    "    if tagmadre[\"proukr\"] in riga[\"tags\"]:\n",
    "        #        results = [tag for tag in riga[\"tags\"]]\n",
    "        #        for tag in riga[\"tags\"]:\n",
    "        #            results.append(tag)\n",
    "        results[\"proukr\"].extend([tag for tag in riga[\"tags\"]])\n",
    "    elif tagmadre[\"prorus\"] in riga[\"tags\"]:\n",
    "        results[\"prorus\"].extend([tag for tag in riga[\"tags\"]])\n",
    "    elif tagmadre[\"pax\"] in riga[\"tags\"]:\n",
    "        results[\"pax\"].extend([tag for tag in riga[\"tags\"]])\n",
    "for category, value in results.items():\n",
    "    lista_intersez[category] = pd.Series(value, name=category)\n",
    "    print(lista_intersez[category])\n",
    "    print(lista_intersez[category].value_counts())"
   ]
  },
  {
   "cell_type": "markdown",
   "metadata": {},
   "source": [
    "## Support below threshold "
   ]
  },
  {
   "cell_type": "code",
   "execution_count": 30,
   "metadata": {
    "scrolled": false
   },
   "outputs": [
    {
     "data": {
      "text/plain": [
       "{'stoprussia': 1,\n",
       " 'standupforukraine': 1,\n",
       " 'ukraine': 1,\n",
       " 'ukrainerussia': 1,\n",
       " 'stopwarinukraine': 1,\n",
       " 'ukrainerussiawar': 1,\n",
       " 'stopputinnow': 1,\n",
       " 'putinwarcriminal': 1,\n",
       " 'russiaukrainewar': 1,\n",
       " 'standwithukraine': 1,\n",
       " 'stopwar': 1,\n",
       " 'putinhitler': 1}"
      ]
     },
     "execution_count": 30,
     "metadata": {},
     "output_type": "execute_result"
    }
   ],
   "source": [
    "#creare un dizionario per ogni categoria dove k=hashtag, v=count\n",
    "dict_prorus={}\n",
    "dict_proukr={}\n",
    "dict_pax={}\n",
    "for category, values in results.items():\n",
    "    #lista_intersez[category] = pd.Series(values, name=category)\n",
    "    for i,value in enumerate(values):\n",
    "        if category==\"proukr\":\n",
    "        #print(values[i])\n",
    "        #print(value.count(values[i]))\n",
    "            dict_proukr[value]=value.count(values[i])\n",
    "        elif category==\"prorus\":\n",
    "            dict_prorus[value]=value.count(values[i])\n",
    "        elif category==\"pax\":\n",
    "            dict_pax[value]=value.count(values[i])"
   ]
  },
  {
   "cell_type": "code",
   "execution_count": null,
   "metadata": {},
   "outputs": [],
   "source": [
    "#eliminare dal diz di ogni categoria l'hashtag con support<=thershold t\n",
    "liste_diz=[dict_proukr, dict_prorus, dict_pax]\n",
    "t=1\n",
    "for diz in liste_diz:\n",
    "    for k,v in diz.copy().items():\n",
    "        if v<=t:\n",
    "            del diz[k]\n",
    "print(liste_diz)"
   ]
  },
  {
   "cell_type": "markdown",
   "metadata": {},
   "source": [
    "## Score-cat-method"
   ]
  },
  {
   "cell_type": "code",
   "execution_count": 7,
   "metadata": {},
   "outputs": [
    {
     "name": "stdout",
     "output_type": "stream",
     "text": [
      "count of proukr = 24\n",
      "count of prorus = 0\n",
      "count of pax = 31\n"
     ]
    }
   ],
   "source": [
    "for k, v in lista_intersez.items():\n",
    "    print(\"count of\", k, \"=\", len(v))"
   ]
  },
  {
   "cell_type": "code",
   "execution_count": 8,
   "metadata": {},
   "outputs": [
    {
     "name": "stdout",
     "output_type": "stream",
     "text": [
      "24 0 31\n"
     ]
    }
   ],
   "source": [
    "count_proukr=0\n",
    "count_prorus=0\n",
    "count_pax=0\n",
    "for k,v in lista_intersez.items():\n",
    "    if k==\"proukr\":\n",
    "        count_proukr=len(v)\n",
    "    elif k==\"prorus\":\n",
    "        count_prorus=len(v)\n",
    "    if k==\"pax\":\n",
    "        count_pax=len(v)\n",
    "print(count_proukr, count_prorus, count_pax)"
   ]
  },
  {
   "cell_type": "markdown",
   "metadata": {},
   "source": [
    "### score:"
   ]
  },
  {
   "cell_type": "code",
   "execution_count": 9,
   "metadata": {},
   "outputs": [
    {
     "name": "stdout",
     "output_type": "stream",
     "text": [
      "score prorussia =  0.0\n",
      "score proukraine =  0.43636363636363634\n",
      "score pax =  0.5636363636363636\n"
     ]
    }
   ],
   "source": [
    "c_tot= count_pax+count_prorus+count_proukr #intersez toto tra stopwar e altri\n",
    "print(\"score prorussia = \", count_prorus/c_tot)\n",
    "print(\"score proukraine = \", count_proukr/c_tot)\n",
    "print(\"score pax = \", count_pax/c_tot)"
   ]
  },
  {
   "cell_type": "code",
   "execution_count": null,
   "metadata": {},
   "outputs": [],
   "source": [
    "assegniamo se score maggiore e se score>threshold"
   ]
  },
  {
   "cell_type": "markdown",
   "metadata": {},
   "source": [
    "### part2"
   ]
  },
  {
   "cell_type": "code",
   "execution_count": null,
   "metadata": {},
   "outputs": [],
   "source": [
    "results = []\n",
    "    for category in root_tags:\n",
    "        selection = set((category, one_hashtag))\n",
    "        scores = []\n",
    "        temp_mask = df[\"tags\"].apply(\n",
    "            lambda x: all(item for item in selection if item in x)\n",
    "        )\n",
    "        temp_df = df[temp_mask]\n",
    "        results.append(len(temp_df) / len(df))\n",
    "\n",
    "    print(results)\n",
    "    return results"
   ]
  },
  {
   "cell_type": "code",
   "execution_count": null,
   "metadata": {},
   "outputs": [],
   "source": [
    "dict_prorus={}\n",
    "dict_proukr={}\n",
    "dict_pax={}\n",
    "for category in root_tags:\n",
    "    if category==\"prous\":\n",
    "    \n",
    "    for cat in df[\"tags\"]:\n",
    "        "
   ]
  },
  {
   "cell_type": "markdown",
   "metadata": {},
   "source": [
    "# Trovare quarta categoria"
   ]
  },
  {
   "cell_type": "markdown",
   "metadata": {},
   "source": [
    "### Count Hashtags"
   ]
  },
  {
   "cell_type": "code",
   "execution_count": 4,
   "metadata": {},
   "outputs": [
    {
     "data": {
      "application/vnd.jupyter.widget-view+json": {
       "model_id": "5c15eeabaf534045bdf43e8936d5de33",
       "version_major": 2,
       "version_minor": 0
      },
      "text/plain": [
       "Output()"
      ]
     },
     "metadata": {},
     "output_type": "display_data"
    },
    {
     "name": "stdout",
     "output_type": "stream",
     "text": [
      "Reading secret from C:\\Users\\david\\Documents\\GitHub\\ds-network-analysis\\data\\my_secrets.yaml…\n"
     ]
    },
    {
     "data": {
      "text/html": [
       "<pre style=\"white-space:pre;overflow-x:auto;line-height:normal;font-family:Menlo,'DejaVu Sans Mono',consolas,'Courier New',monospace\"></pre>\n"
      ],
      "text/plain": []
     },
     "metadata": {},
     "output_type": "display_data"
    },
    {
     "data": {
      "text/html": [
       "<pre style=\"white-space:pre;overflow-x:auto;line-height:normal;font-family:Menlo,'DejaVu Sans Mono',consolas,'Courier New',monospace\">\n",
       "</pre>\n"
      ],
      "text/plain": [
       "\n"
      ]
     },
     "metadata": {},
     "output_type": "display_data"
    },
    {
     "name": "stdout",
     "output_type": "stream",
     "text": [
      "Count(query='#eurovision2022 lang:en', df=pd.DataFrame, count=169236)\n"
     ]
    }
   ],
   "source": [
    "c1=Count(query='#eurovision2022 lang:en')\n",
    "print(c1)"
   ]
  },
  {
   "cell_type": "code",
   "execution_count": 8,
   "metadata": {},
   "outputs": [
    {
     "data": {
      "application/vnd.jupyter.widget-view+json": {
       "model_id": "2287f2e6518545e886b9544b3854439e",
       "version_major": 2,
       "version_minor": 0
      },
      "text/plain": [
       "Output()"
      ]
     },
     "metadata": {},
     "output_type": "display_data"
    },
    {
     "name": "stdout",
     "output_type": "stream",
     "text": [
      "Reading secret from C:\\Users\\david\\Documents\\GitHub\\ds-network-analysis\\data\\my_secrets.yaml…\n"
     ]
    },
    {
     "data": {
      "text/html": [
       "<pre style=\"white-space:pre;overflow-x:auto;line-height:normal;font-family:Menlo,'DejaVu Sans Mono',consolas,'Courier New',monospace\"></pre>\n"
      ],
      "text/plain": []
     },
     "metadata": {},
     "output_type": "display_data"
    },
    {
     "data": {
      "text/html": [
       "<pre style=\"white-space:pre;overflow-x:auto;line-height:normal;font-family:Menlo,'DejaVu Sans Mono',consolas,'Courier New',monospace\">\n",
       "</pre>\n"
      ],
      "text/plain": [
       "\n"
      ]
     },
     "metadata": {},
     "output_type": "display_data"
    },
    {
     "name": "stdout",
     "output_type": "stream",
     "text": [
      "Count(query='#eurovision lang:en', df=pd.DataFrame, count=2281149)\n"
     ]
    }
   ],
   "source": [
    "c2=Count(query='#eurovision lang:en')\n",
    "print(c2)"
   ]
  },
  {
   "cell_type": "code",
   "execution_count": 9,
   "metadata": {},
   "outputs": [
    {
     "data": {
      "application/vnd.jupyter.widget-view+json": {
       "model_id": "31350bec1fe8482898b7b8c10ef0d541",
       "version_major": 2,
       "version_minor": 0
      },
      "text/plain": [
       "Output()"
      ]
     },
     "metadata": {},
     "output_type": "display_data"
    },
    {
     "name": "stdout",
     "output_type": "stream",
     "text": [
      "Reading secret from C:\\Users\\david\\Documents\\GitHub\\ds-network-analysis\\data\\my_secrets.yaml…\n"
     ]
    },
    {
     "data": {
      "text/html": [
       "<pre style=\"white-space:pre;overflow-x:auto;line-height:normal;font-family:Menlo,'DejaVu Sans Mono',consolas,'Courier New',monospace\"></pre>\n"
      ],
      "text/plain": []
     },
     "metadata": {},
     "output_type": "display_data"
    },
    {
     "data": {
      "text/html": [
       "<pre style=\"white-space:pre;overflow-x:auto;line-height:normal;font-family:Menlo,'DejaVu Sans Mono',consolas,'Courier New',monospace\">\n",
       "</pre>\n"
      ],
      "text/plain": [
       "\n"
      ]
     },
     "metadata": {},
     "output_type": "display_data"
    },
    {
     "name": "stdout",
     "output_type": "stream",
     "text": [
      "Count(query='#ESC2022 lang:en', df=pd.DataFrame, count=309850)\n"
     ]
    }
   ],
   "source": [
    "c3=Count(query='#ESC2022 lang:en')\n",
    "print(c3)"
   ]
  },
  {
   "cell_type": "code",
   "execution_count": 13,
   "metadata": {},
   "outputs": [
    {
     "data": {
      "application/vnd.jupyter.widget-view+json": {
       "model_id": "f31feac730fe4526bd9bda0eddecb76b",
       "version_major": 2,
       "version_minor": 0
      },
      "text/plain": [
       "Output()"
      ]
     },
     "metadata": {},
     "output_type": "display_data"
    },
    {
     "data": {
      "text/html": [
       "<pre style=\"white-space:pre;overflow-x:auto;line-height:normal;font-family:Menlo,'DejaVu Sans Mono',consolas,'Courier New',monospace\"></pre>\n"
      ],
      "text/plain": []
     },
     "metadata": {},
     "output_type": "display_data"
    },
    {
     "data": {
      "text/html": [
       "<pre style=\"white-space:pre;overflow-x:auto;line-height:normal;font-family:Menlo,'DejaVu Sans Mono',consolas,'Courier New',monospace\">\n",
       "</pre>\n"
      ],
      "text/plain": [
       "\n"
      ]
     },
     "metadata": {},
     "output_type": "display_data"
    },
    {
     "name": "stdout",
     "output_type": "stream",
     "text": [
      "Count(query='#onepiece', df=pd.DataFrame, count=5261625)\n"
     ]
    }
   ],
   "source": [
    "c4=Count(query='#onepiece')\n",
    "print(c4)"
   ]
  },
  {
   "cell_type": "code",
   "execution_count": 19,
   "metadata": {},
   "outputs": [
    {
     "data": {
      "application/vnd.jupyter.widget-view+json": {
       "model_id": "30f7a22ecda049d6bb665101e22f9253",
       "version_major": 2,
       "version_minor": 0
      },
      "text/plain": [
       "Output()"
      ]
     },
     "metadata": {},
     "output_type": "display_data"
    },
    {
     "name": "stdout",
     "output_type": "stream",
     "text": [
      "Reading secret from C:\\Users\\david\\Documents\\GitHub\\ds-network-analysis\\data\\my_secrets.yaml…\n"
     ]
    },
    {
     "data": {
      "text/html": [
       "<pre style=\"white-space:pre;overflow-x:auto;line-height:normal;font-family:Menlo,'DejaVu Sans Mono',consolas,'Courier New',monospace\"></pre>\n"
      ],
      "text/plain": []
     },
     "metadata": {},
     "output_type": "display_data"
    },
    {
     "data": {
      "text/html": [
       "<pre style=\"white-space:pre;overflow-x:auto;line-height:normal;font-family:Menlo,'DejaVu Sans Mono',consolas,'Courier New',monospace\">\n",
       "</pre>\n"
      ],
      "text/plain": [
       "\n"
      ]
     },
     "metadata": {},
     "output_type": "display_data"
    },
    {
     "name": "stdout",
     "output_type": "stream",
     "text": [
      "Count(query='#onepiece1043 lang:en', df=pd.DataFrame, count=77829)\n"
     ]
    }
   ],
   "source": [
    "c5=Count(query='#elonmusk lang:en')\n",
    "print(c5)"
   ]
  },
  {
   "cell_type": "code",
   "execution_count": 22,
   "metadata": {},
   "outputs": [
    {
     "data": {
      "application/vnd.jupyter.widget-view+json": {
       "model_id": "0b623d49571447acbd199663661e271f",
       "version_major": 2,
       "version_minor": 0
      },
      "text/plain": [
       "Output()"
      ]
     },
     "metadata": {},
     "output_type": "display_data"
    },
    {
     "name": "stdout",
     "output_type": "stream",
     "text": [
      "Reading secret from C:\\Users\\david\\Documents\\GitHub\\ds-network-analysis\\data\\my_secrets.yaml…\n"
     ]
    },
    {
     "data": {
      "text/html": [
       "<pre style=\"white-space:pre;overflow-x:auto;line-height:normal;font-family:Menlo,'DejaVu Sans Mono',consolas,'Courier New',monospace\"></pre>\n"
      ],
      "text/plain": []
     },
     "metadata": {},
     "output_type": "display_data"
    },
    {
     "data": {
      "text/html": [
       "<pre style=\"white-space:pre;overflow-x:auto;line-height:normal;font-family:Menlo,'DejaVu Sans Mono',consolas,'Courier New',monospace\">\n",
       "</pre>\n"
      ],
      "text/plain": [
       "\n"
      ]
     },
     "metadata": {},
     "output_type": "display_data"
    },
    {
     "name": "stdout",
     "output_type": "stream",
     "text": [
      "Count(query='#whatsappdown lang:en', df=pd.DataFrame, count=8383)\n"
     ]
    }
   ],
   "source": [
    "c3=Count(query='#oscars lang:en')\n",
    "print(c3)"
   ]
  },
  {
   "cell_type": "code",
   "execution_count": null,
   "metadata": {},
   "outputs": [],
   "source": [
    "c3=Count(query='#covid lang:en')\n",
    "print(c3)"
   ]
  },
  {
   "cell_type": "code",
   "execution_count": null,
   "metadata": {},
   "outputs": [],
   "source": [
    "c3=Count(query='#strangerthings4 lang:en')\n",
    "print(c3)"
   ]
  },
  {
   "cell_type": "code",
   "execution_count": null,
   "metadata": {},
   "outputs": [],
   "source": [
    "c3=Count(query='#justiceforjohnnydepp lang:en')\n",
    "print(c3)"
   ]
  },
  {
   "cell_type": "code",
   "execution_count": null,
   "metadata": {},
   "outputs": [],
   "source": [
    "c3=Count(query='#grammys lang:en')\n",
    "print(c3)"
   ]
  },
  {
   "cell_type": "code",
   "execution_count": null,
   "metadata": {},
   "outputs": [],
   "source": [
    "c3=Count(query='#pridemonth lang:en')\n",
    "print(c3)"
   ]
  },
  {
   "cell_type": "code",
   "execution_count": 23,
   "metadata": {},
   "outputs": [
    {
     "data": {
      "application/vnd.jupyter.widget-view+json": {
       "model_id": "4a8b468f89a841c3a834c8642aef91e2",
       "version_major": 2,
       "version_minor": 0
      },
      "text/plain": [
       "Output()"
      ]
     },
     "metadata": {},
     "output_type": "display_data"
    },
    {
     "name": "stdout",
     "output_type": "stream",
     "text": [
      "Reading secret from C:\\Users\\david\\Documents\\GitHub\\ds-network-analysis\\data\\my_secrets.yaml…\n"
     ]
    },
    {
     "data": {
      "text/html": [
       "<pre style=\"white-space:pre;overflow-x:auto;line-height:normal;font-family:Menlo,'DejaVu Sans Mono',consolas,'Courier New',monospace\"></pre>\n"
      ],
      "text/plain": []
     },
     "metadata": {},
     "output_type": "display_data"
    },
    {
     "data": {
      "text/html": [
       "<pre style=\"white-space:pre;overflow-x:auto;line-height:normal;font-family:Menlo,'DejaVu Sans Mono',consolas,'Courier New',monospace\">\n",
       "</pre>\n"
      ],
      "text/plain": [
       "\n"
      ]
     },
     "metadata": {},
     "output_type": "display_data"
    },
    {
     "name": "stdout",
     "output_type": "stream",
     "text": [
      "Count(query='#fantaeurovision lang:en', df=pd.DataFrame, count=1301)\n"
     ]
    }
   ],
   "source": [
    "c3=Count(query='#fantaeurovision lang:en')\n",
    "print(c3)"
   ]
  },
  {
   "cell_type": "markdown",
   "metadata": {},
   "source": [
    "Utilizzati hashtags con count più elevato: escluso eurovision perchè poteva raccogliere tweet ambigui e sarebbe stato difficile escluderli perchè nei tweet dove compariva #eurovision pteva nache comparire #ukraine che noi abbiamo considerato come parte della cate"
   ]
  },
  {
   "cell_type": "code",
   "execution_count": 63,
   "metadata": {},
   "outputs": [
    {
     "data": {
      "application/vnd.jupyter.widget-view+json": {
       "model_id": "0bd21d65d5fa4379b6ac69cff19845e6",
       "version_major": 2,
       "version_minor": 0
      },
      "text/plain": [
       "Output()"
      ]
     },
     "metadata": {},
     "output_type": "display_data"
    },
    {
     "name": "stdout",
     "output_type": "stream",
     "text": [
      "Reading secret from C:\\Users\\david\\Documents\\GitHub\\ds-network-analysis\\data\\my_secrets.yaml…\n"
     ]
    },
    {
     "data": {
      "text/html": [
       "<pre style=\"white-space:pre;overflow-x:auto;line-height:normal;font-family:Menlo,'DejaVu Sans Mono',consolas,'Courier New',monospace\"></pre>\n"
      ],
      "text/plain": []
     },
     "metadata": {},
     "output_type": "display_data"
    },
    {
     "data": {
      "text/html": [
       "<pre style=\"white-space:pre;overflow-x:auto;line-height:normal;font-family:Menlo,'DejaVu Sans Mono',consolas,'Courier New',monospace\">\n",
       "</pre>\n"
      ],
      "text/plain": [
       "\n"
      ]
     },
     "metadata": {},
     "output_type": "display_data"
    }
   ],
   "source": [
    "m4 = SocialETL(query=\"(eurovision OR pridemonth OR grammys OR justiceforjohnnydepp)  lang:en\", pages=1, recent=False)#OR #onepiece OR #oscars OR #elonmusk)"
   ]
  },
  {
   "cell_type": "code",
   "execution_count": 64,
   "metadata": {},
   "outputs": [],
   "source": [
    "m4.df=m4.df.dropna()\n",
    "m4.df.reset_index(drop=True, inplace=True)"
   ]
  },
  {
   "cell_type": "code",
   "execution_count": 65,
   "metadata": {},
   "outputs": [],
   "source": [
    "m4.df['entities.hashtags']=m4.df['entities.hashtags'].apply(eval)"
   ]
  },
  {
   "cell_type": "code",
   "execution_count": 66,
   "metadata": {},
   "outputs": [],
   "source": [
    "m4.df[\"entities.hashtags\"] = m4.df[\"entities.hashtags\"].map(h.extract_tags)"
   ]
  },
  {
   "cell_type": "code",
   "execution_count": 4,
   "metadata": {},
   "outputs": [],
   "source": [
    "#user\n",
    "user_id=m4.df['author_id']\n",
    "count=m4.df['author.public_metrics.tweet_count']\n",
    "hashtag_user=m4.df['author.entities.description.hashtags']\n",
    "cashtag=m4.df['author.entities.description.cashtags']  \n",
    "mentions=m4.df['author.entities.description.mentions']  "
   ]
  },
  {
   "cell_type": "code",
   "execution_count": 5,
   "metadata": {},
   "outputs": [],
   "source": [
    "#tweet\n",
    "tweet_id=m4.df[\"id\"]\n",
    "hashtag_tweet=m4.df[\"entities.hashtags\"]\n",
    "text=m4.df['text']"
   ]
  },
  {
   "cell_type": "code",
   "execution_count": 6,
   "metadata": {},
   "outputs": [
    {
     "name": "stdout",
     "output_type": "stream",
     "text": [
      "0     1223469869972115463\n",
      "1              4853316232\n",
      "2     1405585333857701891\n",
      "3      863330868542279680\n",
      "4     1462148271711870976\n",
      "             ...         \n",
      "95    1210602726544928768\n",
      "96              416124325\n",
      "97             2601350659\n",
      "98             3141243387\n",
      "99    1312430963679539201\n",
      "Name: author_id, Length: 100, dtype: object\n"
     ]
    }
   ],
   "source": [
    "user_id=m4.df['author_id']\n",
    "print(user_id)"
   ]
  },
  {
   "cell_type": "code",
   "execution_count": 9,
   "metadata": {},
   "outputs": [
    {
     "data": {
      "application/vnd.jupyter.widget-view+json": {
       "model_id": "c8ded21a00934a5cbf8f4fcc2d8eafa0",
       "version_major": 2,
       "version_minor": 0
      },
      "text/plain": [
       "Output()"
      ]
     },
     "metadata": {},
     "output_type": "display_data"
    },
    {
     "name": "stdout",
     "output_type": "stream",
     "text": [
      "Reading secret from C:\\Users\\david\\Documents\\GitHub\\ds-network-analysis\\data\\my_secrets.yaml…\n"
     ]
    },
    {
     "data": {
      "text/html": [
       "<pre style=\"white-space:pre;overflow-x:auto;line-height:normal;font-family:Menlo,'DejaVu Sans Mono',consolas,'Courier New',monospace\"></pre>\n"
      ],
      "text/plain": []
     },
     "metadata": {},
     "output_type": "display_data"
    },
    {
     "data": {
      "text/html": [
       "<pre style=\"white-space:pre;overflow-x:auto;line-height:normal;font-family:Menlo,'DejaVu Sans Mono',consolas,'Courier New',monospace\">\n",
       "</pre>\n"
      ],
      "text/plain": [
       "\n"
      ]
     },
     "metadata": {},
     "output_type": "display_data"
    },
    {
     "name": "stdout",
     "output_type": "stream",
     "text": [
      "Reading secret from C:\\Users\\david\\Documents\\GitHub\\ds-network-analysis\\data\\my_secrets.yaml…\n"
     ]
    },
    {
     "data": {
      "application/vnd.jupyter.widget-view+json": {
       "model_id": "e99f72deddeb466a9d9f96c6502f62a4",
       "version_major": 2,
       "version_minor": 0
      },
      "text/plain": [
       "Output()"
      ]
     },
     "metadata": {},
     "output_type": "display_data"
    },
    {
     "data": {
      "text/html": [
       "<pre style=\"white-space:pre;overflow-x:auto;line-height:normal;font-family:Menlo,'DejaVu Sans Mono',consolas,'Courier New',monospace\"></pre>\n"
      ],
      "text/plain": []
     },
     "metadata": {},
     "output_type": "display_data"
    },
    {
     "data": {
      "text/html": [
       "<pre style=\"white-space:pre;overflow-x:auto;line-height:normal;font-family:Menlo,'DejaVu Sans Mono',consolas,'Courier New',monospace\">\n",
       "</pre>\n"
      ],
      "text/plain": [
       "\n"
      ]
     },
     "metadata": {},
     "output_type": "display_data"
    },
    {
     "data": {
      "application/vnd.jupyter.widget-view+json": {
       "model_id": "8069dadf9ebf4468be7cf2fdfea16ad8",
       "version_major": 2,
       "version_minor": 0
      },
      "text/plain": [
       "Output()"
      ]
     },
     "metadata": {},
     "output_type": "display_data"
    },
    {
     "name": "stdout",
     "output_type": "stream",
     "text": [
      "Reading secret from C:\\Users\\david\\Documents\\GitHub\\ds-network-analysis\\data\\my_secrets.yaml…\n"
     ]
    },
    {
     "data": {
      "text/html": [
       "<pre style=\"white-space:pre;overflow-x:auto;line-height:normal;font-family:Menlo,'DejaVu Sans Mono',consolas,'Courier New',monospace\"></pre>\n"
      ],
      "text/plain": []
     },
     "metadata": {},
     "output_type": "display_data"
    },
    {
     "data": {
      "text/html": [
       "<pre style=\"white-space:pre;overflow-x:auto;line-height:normal;font-family:Menlo,'DejaVu Sans Mono',consolas,'Courier New',monospace\">\n",
       "</pre>\n"
      ],
      "text/plain": [
       "\n"
      ]
     },
     "metadata": {},
     "output_type": "display_data"
    },
    {
     "data": {
      "application/vnd.jupyter.widget-view+json": {
       "model_id": "6cb79e43488a42c1975fecb28f3a56b5",
       "version_major": 2,
       "version_minor": 0
      },
      "text/plain": [
       "Output()"
      ]
     },
     "metadata": {},
     "output_type": "display_data"
    },
    {
     "name": "stdout",
     "output_type": "stream",
     "text": [
      "Reading secret from C:\\Users\\david\\Documents\\GitHub\\ds-network-analysis\\data\\my_secrets.yaml…\n"
     ]
    },
    {
     "data": {
      "text/html": [
       "<pre style=\"white-space:pre;overflow-x:auto;line-height:normal;font-family:Menlo,'DejaVu Sans Mono',consolas,'Courier New',monospace\"></pre>\n"
      ],
      "text/plain": []
     },
     "metadata": {},
     "output_type": "display_data"
    },
    {
     "data": {
      "text/html": [
       "<pre style=\"white-space:pre;overflow-x:auto;line-height:normal;font-family:Menlo,'DejaVu Sans Mono',consolas,'Courier New',monospace\">\n",
       "</pre>\n"
      ],
      "text/plain": [
       "\n"
      ]
     },
     "metadata": {},
     "output_type": "display_data"
    },
    {
     "data": {
      "application/vnd.jupyter.widget-view+json": {
       "model_id": "b1ee6fd65a17447e947b71e63862dfcc",
       "version_major": 2,
       "version_minor": 0
      },
      "text/plain": [
       "Output()"
      ]
     },
     "metadata": {},
     "output_type": "display_data"
    },
    {
     "name": "stdout",
     "output_type": "stream",
     "text": [
      "Reading secret from C:\\Users\\david\\Documents\\GitHub\\ds-network-analysis\\data\\my_secrets.yaml…\n"
     ]
    },
    {
     "data": {
      "text/html": [
       "<pre style=\"white-space:pre;overflow-x:auto;line-height:normal;font-family:Menlo,'DejaVu Sans Mono',consolas,'Courier New',monospace\"></pre>\n"
      ],
      "text/plain": []
     },
     "metadata": {},
     "output_type": "display_data"
    },
    {
     "data": {
      "text/html": [
       "<pre style=\"white-space:pre;overflow-x:auto;line-height:normal;font-family:Menlo,'DejaVu Sans Mono',consolas,'Courier New',monospace\">\n",
       "</pre>\n"
      ],
      "text/plain": [
       "\n"
      ]
     },
     "metadata": {},
     "output_type": "display_data"
    },
    {
     "data": {
      "application/vnd.jupyter.widget-view+json": {
       "model_id": "4d23f2ddb3b14290a0c257d96fccf899",
       "version_major": 2,
       "version_minor": 0
      },
      "text/plain": [
       "Output()"
      ]
     },
     "metadata": {},
     "output_type": "display_data"
    },
    {
     "data": {
      "text/html": [
       "<pre style=\"white-space:pre;overflow-x:auto;line-height:normal;font-family:Menlo,'DejaVu Sans Mono',consolas,'Courier New',monospace\"></pre>\n"
      ],
      "text/plain": []
     },
     "metadata": {},
     "output_type": "display_data"
    },
    {
     "data": {
      "text/html": [
       "<pre style=\"white-space:pre;overflow-x:auto;line-height:normal;font-family:Menlo,'DejaVu Sans Mono',consolas,'Courier New',monospace\">\n",
       "</pre>\n"
      ],
      "text/plain": [
       "\n"
      ]
     },
     "metadata": {},
     "output_type": "display_data"
    },
    {
     "name": "stdout",
     "output_type": "stream",
     "text": [
      "Reading secret from C:\\Users\\david\\Documents\\GitHub\\ds-network-analysis\\data\\my_secrets.yaml…\n"
     ]
    },
    {
     "data": {
      "application/vnd.jupyter.widget-view+json": {
       "model_id": "939f970d3ee14150b7ced352fda9b1f1",
       "version_major": 2,
       "version_minor": 0
      },
      "text/plain": [
       "Output()"
      ]
     },
     "metadata": {},
     "output_type": "display_data"
    },
    {
     "data": {
      "text/html": [
       "<pre style=\"white-space:pre;overflow-x:auto;line-height:normal;font-family:Menlo,'DejaVu Sans Mono',consolas,'Courier New',monospace\"></pre>\n"
      ],
      "text/plain": []
     },
     "metadata": {},
     "output_type": "display_data"
    },
    {
     "data": {
      "text/html": [
       "<pre style=\"white-space:pre;overflow-x:auto;line-height:normal;font-family:Menlo,'DejaVu Sans Mono',consolas,'Courier New',monospace\">\n",
       "</pre>\n"
      ],
      "text/plain": [
       "\n"
      ]
     },
     "metadata": {},
     "output_type": "display_data"
    },
    {
     "data": {
      "application/vnd.jupyter.widget-view+json": {
       "model_id": "6156e06f6b8e487cbba7b69d30942e59",
       "version_major": 2,
       "version_minor": 0
      },
      "text/plain": [
       "Output()"
      ]
     },
     "metadata": {},
     "output_type": "display_data"
    },
    {
     "name": "stdout",
     "output_type": "stream",
     "text": [
      "Reading secret from C:\\Users\\david\\Documents\\GitHub\\ds-network-analysis\\data\\my_secrets.yaml…\n"
     ]
    },
    {
     "data": {
      "text/html": [
       "<pre style=\"white-space:pre;overflow-x:auto;line-height:normal;font-family:Menlo,'DejaVu Sans Mono',consolas,'Courier New',monospace\"></pre>\n"
      ],
      "text/plain": []
     },
     "metadata": {},
     "output_type": "display_data"
    },
    {
     "data": {
      "text/html": [
       "<pre style=\"white-space:pre;overflow-x:auto;line-height:normal;font-family:Menlo,'DejaVu Sans Mono',consolas,'Courier New',monospace\">\n",
       "</pre>\n"
      ],
      "text/plain": [
       "\n"
      ]
     },
     "metadata": {},
     "output_type": "display_data"
    },
    {
     "data": {
      "application/vnd.jupyter.widget-view+json": {
       "model_id": "297fad93772a419088aebdf27c166eb2",
       "version_major": 2,
       "version_minor": 0
      },
      "text/plain": [
       "Output()"
      ]
     },
     "metadata": {},
     "output_type": "display_data"
    },
    {
     "name": "stdout",
     "output_type": "stream",
     "text": [
      "Reading secret from C:\\Users\\david\\Documents\\GitHub\\ds-network-analysis\\data\\my_secrets.yaml…\n"
     ]
    },
    {
     "data": {
      "text/html": [
       "<pre style=\"white-space:pre;overflow-x:auto;line-height:normal;font-family:Menlo,'DejaVu Sans Mono',consolas,'Courier New',monospace\"></pre>\n"
      ],
      "text/plain": []
     },
     "metadata": {},
     "output_type": "display_data"
    },
    {
     "data": {
      "text/html": [
       "<pre style=\"white-space:pre;overflow-x:auto;line-height:normal;font-family:Menlo,'DejaVu Sans Mono',consolas,'Courier New',monospace\">\n",
       "</pre>\n"
      ],
      "text/plain": [
       "\n"
      ]
     },
     "metadata": {},
     "output_type": "display_data"
    },
    {
     "data": {
      "application/vnd.jupyter.widget-view+json": {
       "model_id": "67f7dd4bc81940dcae3d9c716301df13",
       "version_major": 2,
       "version_minor": 0
      },
      "text/plain": [
       "Output()"
      ]
     },
     "metadata": {},
     "output_type": "display_data"
    },
    {
     "name": "stdout",
     "output_type": "stream",
     "text": [
      "Reading secret from C:\\Users\\david\\Documents\\GitHub\\ds-network-analysis\\data\\my_secrets.yaml…\n"
     ]
    },
    {
     "data": {
      "text/html": [
       "<pre style=\"white-space:pre;overflow-x:auto;line-height:normal;font-family:Menlo,'DejaVu Sans Mono',consolas,'Courier New',monospace\"></pre>\n"
      ],
      "text/plain": []
     },
     "metadata": {},
     "output_type": "display_data"
    },
    {
     "data": {
      "text/html": [
       "<pre style=\"white-space:pre;overflow-x:auto;line-height:normal;font-family:Menlo,'DejaVu Sans Mono',consolas,'Courier New',monospace\">\n",
       "</pre>\n"
      ],
      "text/plain": [
       "\n"
      ]
     },
     "metadata": {},
     "output_type": "display_data"
    },
    {
     "data": {
      "application/vnd.jupyter.widget-view+json": {
       "model_id": "7eefcb5d3ae64e5a9cd6c7d2f1165b26",
       "version_major": 2,
       "version_minor": 0
      },
      "text/plain": [
       "Output()"
      ]
     },
     "metadata": {},
     "output_type": "display_data"
    },
    {
     "name": "stdout",
     "output_type": "stream",
     "text": [
      "Reading secret from C:\\Users\\david\\Documents\\GitHub\\ds-network-analysis\\data\\my_secrets.yaml…\n"
     ]
    },
    {
     "data": {
      "text/html": [
       "<pre style=\"white-space:pre;overflow-x:auto;line-height:normal;font-family:Menlo,'DejaVu Sans Mono',consolas,'Courier New',monospace\"></pre>\n"
      ],
      "text/plain": []
     },
     "metadata": {},
     "output_type": "display_data"
    },
    {
     "data": {
      "text/html": [
       "<pre style=\"white-space:pre;overflow-x:auto;line-height:normal;font-family:Menlo,'DejaVu Sans Mono',consolas,'Courier New',monospace\">\n",
       "</pre>\n"
      ],
      "text/plain": [
       "\n"
      ]
     },
     "metadata": {},
     "output_type": "display_data"
    },
    {
     "data": {
      "application/vnd.jupyter.widget-view+json": {
       "model_id": "14049f42a7214e67bc94a550b4a5b4bc",
       "version_major": 2,
       "version_minor": 0
      },
      "text/plain": [
       "Output()"
      ]
     },
     "metadata": {},
     "output_type": "display_data"
    },
    {
     "name": "stdout",
     "output_type": "stream",
     "text": [
      "Reading secret from C:\\Users\\david\\Documents\\GitHub\\ds-network-analysis\\data\\my_secrets.yaml…\n"
     ]
    },
    {
     "data": {
      "text/html": [
       "<pre style=\"white-space:pre;overflow-x:auto;line-height:normal;font-family:Menlo,'DejaVu Sans Mono',consolas,'Courier New',monospace\"></pre>\n"
      ],
      "text/plain": []
     },
     "metadata": {},
     "output_type": "display_data"
    },
    {
     "data": {
      "text/html": [
       "<pre style=\"white-space:pre;overflow-x:auto;line-height:normal;font-family:Menlo,'DejaVu Sans Mono',consolas,'Courier New',monospace\">\n",
       "</pre>\n"
      ],
      "text/plain": [
       "\n"
      ]
     },
     "metadata": {},
     "output_type": "display_data"
    },
    {
     "data": {
      "application/vnd.jupyter.widget-view+json": {
       "model_id": "1a66a5c5d4904d9182f803b631f5641d",
       "version_major": 2,
       "version_minor": 0
      },
      "text/plain": [
       "Output()"
      ]
     },
     "metadata": {},
     "output_type": "display_data"
    },
    {
     "name": "stdout",
     "output_type": "stream",
     "text": [
      "Reading secret from C:\\Users\\david\\Documents\\GitHub\\ds-network-analysis\\data\\my_secrets.yaml…\n"
     ]
    },
    {
     "data": {
      "text/html": [
       "<pre style=\"white-space:pre;overflow-x:auto;line-height:normal;font-family:Menlo,'DejaVu Sans Mono',consolas,'Courier New',monospace\"></pre>\n"
      ],
      "text/plain": []
     },
     "metadata": {},
     "output_type": "display_data"
    },
    {
     "data": {
      "text/html": [
       "<pre style=\"white-space:pre;overflow-x:auto;line-height:normal;font-family:Menlo,'DejaVu Sans Mono',consolas,'Courier New',monospace\">\n",
       "</pre>\n"
      ],
      "text/plain": [
       "\n"
      ]
     },
     "metadata": {},
     "output_type": "display_data"
    },
    {
     "data": {
      "application/vnd.jupyter.widget-view+json": {
       "model_id": "64642d7d7ccf4fcaaba1b0af95693a18",
       "version_major": 2,
       "version_minor": 0
      },
      "text/plain": [
       "Output()"
      ]
     },
     "metadata": {},
     "output_type": "display_data"
    },
    {
     "name": "stdout",
     "output_type": "stream",
     "text": [
      "Reading secret from C:\\Users\\david\\Documents\\GitHub\\ds-network-analysis\\data\\my_secrets.yaml…\n"
     ]
    },
    {
     "data": {
      "text/html": [
       "<pre style=\"white-space:pre;overflow-x:auto;line-height:normal;font-family:Menlo,'DejaVu Sans Mono',consolas,'Courier New',monospace\"></pre>\n"
      ],
      "text/plain": []
     },
     "metadata": {},
     "output_type": "display_data"
    },
    {
     "data": {
      "text/html": [
       "<pre style=\"white-space:pre;overflow-x:auto;line-height:normal;font-family:Menlo,'DejaVu Sans Mono',consolas,'Courier New',monospace\">\n",
       "</pre>\n"
      ],
      "text/plain": [
       "\n"
      ]
     },
     "metadata": {},
     "output_type": "display_data"
    },
    {
     "data": {
      "application/vnd.jupyter.widget-view+json": {
       "model_id": "6bd453cc408e49c7b10d1a55c4e88f26",
       "version_major": 2,
       "version_minor": 0
      },
      "text/plain": [
       "Output()"
      ]
     },
     "metadata": {},
     "output_type": "display_data"
    },
    {
     "name": "stdout",
     "output_type": "stream",
     "text": [
      "Reading secret from C:\\Users\\david\\Documents\\GitHub\\ds-network-analysis\\data\\my_secrets.yaml…\n"
     ]
    },
    {
     "data": {
      "text/html": [
       "<pre style=\"white-space:pre;overflow-x:auto;line-height:normal;font-family:Menlo,'DejaVu Sans Mono',consolas,'Courier New',monospace\"></pre>\n"
      ],
      "text/plain": []
     },
     "metadata": {},
     "output_type": "display_data"
    },
    {
     "data": {
      "text/html": [
       "<pre style=\"white-space:pre;overflow-x:auto;line-height:normal;font-family:Menlo,'DejaVu Sans Mono',consolas,'Courier New',monospace\">\n",
       "</pre>\n"
      ],
      "text/plain": [
       "\n"
      ]
     },
     "metadata": {},
     "output_type": "display_data"
    },
    {
     "data": {
      "application/vnd.jupyter.widget-view+json": {
       "model_id": "1e6fa752a6cf4294917641c19a6eea7b",
       "version_major": 2,
       "version_minor": 0
      },
      "text/plain": [
       "Output()"
      ]
     },
     "metadata": {},
     "output_type": "display_data"
    },
    {
     "name": "stdout",
     "output_type": "stream",
     "text": [
      "Reading secret from C:\\Users\\david\\Documents\\GitHub\\ds-network-analysis\\data\\my_secrets.yaml…\n"
     ]
    },
    {
     "data": {
      "text/html": [
       "<pre style=\"white-space:pre;overflow-x:auto;line-height:normal;font-family:Menlo,'DejaVu Sans Mono',consolas,'Courier New',monospace\"></pre>\n"
      ],
      "text/plain": []
     },
     "metadata": {},
     "output_type": "display_data"
    },
    {
     "data": {
      "text/html": [
       "<pre style=\"white-space:pre;overflow-x:auto;line-height:normal;font-family:Menlo,'DejaVu Sans Mono',consolas,'Courier New',monospace\">\n",
       "</pre>\n"
      ],
      "text/plain": [
       "\n"
      ]
     },
     "metadata": {},
     "output_type": "display_data"
    },
    {
     "data": {
      "application/vnd.jupyter.widget-view+json": {
       "model_id": "4514af2b09414b94ba2835d6e7037e99",
       "version_major": 2,
       "version_minor": 0
      },
      "text/plain": [
       "Output()"
      ]
     },
     "metadata": {},
     "output_type": "display_data"
    },
    {
     "name": "stdout",
     "output_type": "stream",
     "text": [
      "Reading secret from C:\\Users\\david\\Documents\\GitHub\\ds-network-analysis\\data\\my_secrets.yaml…\n"
     ]
    },
    {
     "data": {
      "text/html": [
       "<pre style=\"white-space:pre;overflow-x:auto;line-height:normal;font-family:Menlo,'DejaVu Sans Mono',consolas,'Courier New',monospace\"></pre>\n"
      ],
      "text/plain": []
     },
     "metadata": {},
     "output_type": "display_data"
    },
    {
     "data": {
      "text/html": [
       "<pre style=\"white-space:pre;overflow-x:auto;line-height:normal;font-family:Menlo,'DejaVu Sans Mono',consolas,'Courier New',monospace\">\n",
       "</pre>\n"
      ],
      "text/plain": [
       "\n"
      ]
     },
     "metadata": {},
     "output_type": "display_data"
    },
    {
     "name": "stdout",
     "output_type": "stream",
     "text": [
      "Reading secret from C:\\Users\\david\\Documents\\GitHub\\ds-network-analysis\\data\\my_secrets.yaml…\n"
     ]
    },
    {
     "data": {
      "application/vnd.jupyter.widget-view+json": {
       "model_id": "9082db0952774e3fb8e722b268f66f1a",
       "version_major": 2,
       "version_minor": 0
      },
      "text/plain": [
       "Output()"
      ]
     },
     "metadata": {},
     "output_type": "display_data"
    },
    {
     "data": {
      "text/html": [
       "<pre style=\"white-space:pre;overflow-x:auto;line-height:normal;font-family:Menlo,'DejaVu Sans Mono',consolas,'Courier New',monospace\"></pre>\n"
      ],
      "text/plain": []
     },
     "metadata": {},
     "output_type": "display_data"
    },
    {
     "data": {
      "text/html": [
       "<pre style=\"white-space:pre;overflow-x:auto;line-height:normal;font-family:Menlo,'DejaVu Sans Mono',consolas,'Courier New',monospace\">\n",
       "</pre>\n"
      ],
      "text/plain": [
       "\n"
      ]
     },
     "metadata": {},
     "output_type": "display_data"
    },
    {
     "data": {
      "application/vnd.jupyter.widget-view+json": {
       "model_id": "9f1381d123e147fb8e223a330cf9a494",
       "version_major": 2,
       "version_minor": 0
      },
      "text/plain": [
       "Output()"
      ]
     },
     "metadata": {},
     "output_type": "display_data"
    },
    {
     "name": "stdout",
     "output_type": "stream",
     "text": [
      "Reading secret from C:\\Users\\david\\Documents\\GitHub\\ds-network-analysis\\data\\my_secrets.yaml…\n"
     ]
    },
    {
     "data": {
      "text/html": [
       "<pre style=\"white-space:pre;overflow-x:auto;line-height:normal;font-family:Menlo,'DejaVu Sans Mono',consolas,'Courier New',monospace\"></pre>\n"
      ],
      "text/plain": []
     },
     "metadata": {},
     "output_type": "display_data"
    },
    {
     "data": {
      "text/html": [
       "<pre style=\"white-space:pre;overflow-x:auto;line-height:normal;font-family:Menlo,'DejaVu Sans Mono',consolas,'Courier New',monospace\">\n",
       "</pre>\n"
      ],
      "text/plain": [
       "\n"
      ]
     },
     "metadata": {},
     "output_type": "display_data"
    },
    {
     "data": {
      "application/vnd.jupyter.widget-view+json": {
       "model_id": "ec5c3d2b92114caa89500aa883ff19ee",
       "version_major": 2,
       "version_minor": 0
      },
      "text/plain": [
       "Output()"
      ]
     },
     "metadata": {},
     "output_type": "display_data"
    },
    {
     "name": "stdout",
     "output_type": "stream",
     "text": [
      "Reading secret from C:\\Users\\david\\Documents\\GitHub\\ds-network-analysis\\data\\my_secrets.yaml…\n"
     ]
    },
    {
     "data": {
      "text/html": [
       "<pre style=\"white-space:pre;overflow-x:auto;line-height:normal;font-family:Menlo,'DejaVu Sans Mono',consolas,'Courier New',monospace\"></pre>\n"
      ],
      "text/plain": []
     },
     "metadata": {},
     "output_type": "display_data"
    },
    {
     "data": {
      "text/html": [
       "<pre style=\"white-space:pre;overflow-x:auto;line-height:normal;font-family:Menlo,'DejaVu Sans Mono',consolas,'Courier New',monospace\">\n",
       "</pre>\n"
      ],
      "text/plain": [
       "\n"
      ]
     },
     "metadata": {},
     "output_type": "display_data"
    },
    {
     "data": {
      "application/vnd.jupyter.widget-view+json": {
       "model_id": "3f50f185a04944bcb84fe75ddd9b6c76",
       "version_major": 2,
       "version_minor": 0
      },
      "text/plain": [
       "Output()"
      ]
     },
     "metadata": {},
     "output_type": "display_data"
    },
    {
     "name": "stdout",
     "output_type": "stream",
     "text": [
      "Reading secret from C:\\Users\\david\\Documents\\GitHub\\ds-network-analysis\\data\\my_secrets.yaml…\n"
     ]
    },
    {
     "data": {
      "text/html": [
       "<pre style=\"white-space:pre;overflow-x:auto;line-height:normal;font-family:Menlo,'DejaVu Sans Mono',consolas,'Courier New',monospace\"></pre>\n"
      ],
      "text/plain": []
     },
     "metadata": {},
     "output_type": "display_data"
    },
    {
     "data": {
      "text/html": [
       "<pre style=\"white-space:pre;overflow-x:auto;line-height:normal;font-family:Menlo,'DejaVu Sans Mono',consolas,'Courier New',monospace\">\n",
       "</pre>\n"
      ],
      "text/plain": [
       "\n"
      ]
     },
     "metadata": {},
     "output_type": "display_data"
    },
    {
     "name": "stdout",
     "output_type": "stream",
     "text": [
      "Reading secret from C:\\Users\\david\\Documents\\GitHub\\ds-network-analysis\\data\\my_secrets.yaml…\n"
     ]
    },
    {
     "data": {
      "application/vnd.jupyter.widget-view+json": {
       "model_id": "b6e4c79e94044c8c84ce87a74b57cb7d",
       "version_major": 2,
       "version_minor": 0
      },
      "text/plain": [
       "Output()"
      ]
     },
     "metadata": {},
     "output_type": "display_data"
    },
    {
     "data": {
      "text/html": [
       "<pre style=\"white-space:pre;overflow-x:auto;line-height:normal;font-family:Menlo,'DejaVu Sans Mono',consolas,'Courier New',monospace\"></pre>\n"
      ],
      "text/plain": []
     },
     "metadata": {},
     "output_type": "display_data"
    },
    {
     "data": {
      "text/html": [
       "<pre style=\"white-space:pre;overflow-x:auto;line-height:normal;font-family:Menlo,'DejaVu Sans Mono',consolas,'Courier New',monospace\">\n",
       "</pre>\n"
      ],
      "text/plain": [
       "\n"
      ]
     },
     "metadata": {},
     "output_type": "display_data"
    },
    {
     "name": "stdout",
     "output_type": "stream",
     "text": [
      "Reading secret from C:\\Users\\david\\Documents\\GitHub\\ds-network-analysis\\data\\my_secrets.yaml…\n"
     ]
    },
    {
     "data": {
      "application/vnd.jupyter.widget-view+json": {
       "model_id": "7869600eea8a4808b09e2142c482c62d",
       "version_major": 2,
       "version_minor": 0
      },
      "text/plain": [
       "Output()"
      ]
     },
     "metadata": {},
     "output_type": "display_data"
    },
    {
     "data": {
      "text/html": [
       "<pre style=\"white-space:pre;overflow-x:auto;line-height:normal;font-family:Menlo,'DejaVu Sans Mono',consolas,'Courier New',monospace\"></pre>\n"
      ],
      "text/plain": []
     },
     "metadata": {},
     "output_type": "display_data"
    },
    {
     "data": {
      "text/html": [
       "<pre style=\"white-space:pre;overflow-x:auto;line-height:normal;font-family:Menlo,'DejaVu Sans Mono',consolas,'Courier New',monospace\">\n",
       "</pre>\n"
      ],
      "text/plain": [
       "\n"
      ]
     },
     "metadata": {},
     "output_type": "display_data"
    },
    {
     "name": "stdout",
     "output_type": "stream",
     "text": [
      "Reading secret from C:\\Users\\david\\Documents\\GitHub\\ds-network-analysis\\data\\my_secrets.yaml…\n"
     ]
    },
    {
     "data": {
      "application/vnd.jupyter.widget-view+json": {
       "model_id": "0aa988ea11994a3989954bcacfb29652",
       "version_major": 2,
       "version_minor": 0
      },
      "text/plain": [
       "Output()"
      ]
     },
     "metadata": {},
     "output_type": "display_data"
    },
    {
     "data": {
      "text/html": [
       "<pre style=\"white-space:pre;overflow-x:auto;line-height:normal;font-family:Menlo,'DejaVu Sans Mono',consolas,'Courier New',monospace\"></pre>\n"
      ],
      "text/plain": []
     },
     "metadata": {},
     "output_type": "display_data"
    },
    {
     "data": {
      "text/html": [
       "<pre style=\"white-space:pre;overflow-x:auto;line-height:normal;font-family:Menlo,'DejaVu Sans Mono',consolas,'Courier New',monospace\">\n",
       "</pre>\n"
      ],
      "text/plain": [
       "\n"
      ]
     },
     "metadata": {},
     "output_type": "display_data"
    },
    {
     "name": "stdout",
     "output_type": "stream",
     "text": [
      "Reading secret from C:\\Users\\david\\Documents\\GitHub\\ds-network-analysis\\data\\my_secrets.yaml…\n"
     ]
    },
    {
     "data": {
      "application/vnd.jupyter.widget-view+json": {
       "model_id": "3320f7d1f3814309ad7d16a5beb6c3ab",
       "version_major": 2,
       "version_minor": 0
      },
      "text/plain": [
       "Output()"
      ]
     },
     "metadata": {},
     "output_type": "display_data"
    },
    {
     "data": {
      "text/html": [
       "<pre style=\"white-space:pre;overflow-x:auto;line-height:normal;font-family:Menlo,'DejaVu Sans Mono',consolas,'Courier New',monospace\"></pre>\n"
      ],
      "text/plain": []
     },
     "metadata": {},
     "output_type": "display_data"
    },
    {
     "data": {
      "text/html": [
       "<pre style=\"white-space:pre;overflow-x:auto;line-height:normal;font-family:Menlo,'DejaVu Sans Mono',consolas,'Courier New',monospace\">\n",
       "</pre>\n"
      ],
      "text/plain": [
       "\n"
      ]
     },
     "metadata": {},
     "output_type": "display_data"
    },
    {
     "data": {
      "application/vnd.jupyter.widget-view+json": {
       "model_id": "267edffcb5a84d03809556b2f61bc8d9",
       "version_major": 2,
       "version_minor": 0
      },
      "text/plain": [
       "Output()"
      ]
     },
     "metadata": {},
     "output_type": "display_data"
    },
    {
     "name": "stdout",
     "output_type": "stream",
     "text": [
      "Reading secret from C:\\Users\\david\\Documents\\GitHub\\ds-network-analysis\\data\\my_secrets.yaml…\n"
     ]
    },
    {
     "data": {
      "text/html": [
       "<pre style=\"white-space:pre;overflow-x:auto;line-height:normal;font-family:Menlo,'DejaVu Sans Mono',consolas,'Courier New',monospace\"></pre>\n"
      ],
      "text/plain": []
     },
     "metadata": {},
     "output_type": "display_data"
    },
    {
     "data": {
      "text/html": [
       "<pre style=\"white-space:pre;overflow-x:auto;line-height:normal;font-family:Menlo,'DejaVu Sans Mono',consolas,'Courier New',monospace\">\n",
       "</pre>\n"
      ],
      "text/plain": [
       "\n"
      ]
     },
     "metadata": {},
     "output_type": "display_data"
    },
    {
     "name": "stdout",
     "output_type": "stream",
     "text": [
      "Reading secret from C:\\Users\\david\\Documents\\GitHub\\ds-network-analysis\\data\\my_secrets.yaml…\n"
     ]
    },
    {
     "data": {
      "application/vnd.jupyter.widget-view+json": {
       "model_id": "9330bcd700b1421fbc671d20b52626ce",
       "version_major": 2,
       "version_minor": 0
      },
      "text/plain": [
       "Output()"
      ]
     },
     "metadata": {},
     "output_type": "display_data"
    },
    {
     "data": {
      "text/html": [
       "<pre style=\"white-space:pre;overflow-x:auto;line-height:normal;font-family:Menlo,'DejaVu Sans Mono',consolas,'Courier New',monospace\"></pre>\n"
      ],
      "text/plain": []
     },
     "metadata": {},
     "output_type": "display_data"
    },
    {
     "data": {
      "text/html": [
       "<pre style=\"white-space:pre;overflow-x:auto;line-height:normal;font-family:Menlo,'DejaVu Sans Mono',consolas,'Courier New',monospace\">\n",
       "</pre>\n"
      ],
      "text/plain": [
       "\n"
      ]
     },
     "metadata": {},
     "output_type": "display_data"
    },
    {
     "data": {
      "application/vnd.jupyter.widget-view+json": {
       "model_id": "951479ab9265466a852f7520a8ccb28d",
       "version_major": 2,
       "version_minor": 0
      },
      "text/plain": [
       "Output()"
      ]
     },
     "metadata": {},
     "output_type": "display_data"
    },
    {
     "name": "stdout",
     "output_type": "stream",
     "text": [
      "Reading secret from C:\\Users\\david\\Documents\\GitHub\\ds-network-analysis\\data\\my_secrets.yaml…\n"
     ]
    },
    {
     "data": {
      "text/html": [
       "<pre style=\"white-space:pre;overflow-x:auto;line-height:normal;font-family:Menlo,'DejaVu Sans Mono',consolas,'Courier New',monospace\"></pre>\n"
      ],
      "text/plain": []
     },
     "metadata": {},
     "output_type": "display_data"
    },
    {
     "data": {
      "text/html": [
       "<pre style=\"white-space:pre;overflow-x:auto;line-height:normal;font-family:Menlo,'DejaVu Sans Mono',consolas,'Courier New',monospace\">\n",
       "</pre>\n"
      ],
      "text/plain": [
       "\n"
      ]
     },
     "metadata": {},
     "output_type": "display_data"
    },
    {
     "name": "stdout",
     "output_type": "stream",
     "text": [
      "Reading secret from C:\\Users\\david\\Documents\\GitHub\\ds-network-analysis\\data\\my_secrets.yaml…\n"
     ]
    },
    {
     "data": {
      "application/vnd.jupyter.widget-view+json": {
       "model_id": "f0107cf2c2394708bd4f6a939ed486cc",
       "version_major": 2,
       "version_minor": 0
      },
      "text/plain": [
       "Output()"
      ]
     },
     "metadata": {},
     "output_type": "display_data"
    },
    {
     "data": {
      "text/html": [
       "<pre style=\"white-space:pre;overflow-x:auto;line-height:normal;font-family:Menlo,'DejaVu Sans Mono',consolas,'Courier New',monospace\"></pre>\n"
      ],
      "text/plain": []
     },
     "metadata": {},
     "output_type": "display_data"
    },
    {
     "data": {
      "text/html": [
       "<pre style=\"white-space:pre;overflow-x:auto;line-height:normal;font-family:Menlo,'DejaVu Sans Mono',consolas,'Courier New',monospace\">\n",
       "</pre>\n"
      ],
      "text/plain": [
       "\n"
      ]
     },
     "metadata": {},
     "output_type": "display_data"
    },
    {
     "data": {
      "application/vnd.jupyter.widget-view+json": {
       "model_id": "a62b666f26f84ef08336bc8cf8cf3853",
       "version_major": 2,
       "version_minor": 0
      },
      "text/plain": [
       "Output()"
      ]
     },
     "metadata": {},
     "output_type": "display_data"
    },
    {
     "name": "stdout",
     "output_type": "stream",
     "text": [
      "Reading secret from C:\\Users\\david\\Documents\\GitHub\\ds-network-analysis\\data\\my_secrets.yaml…\n"
     ]
    },
    {
     "data": {
      "text/html": [
       "<pre style=\"white-space:pre;overflow-x:auto;line-height:normal;font-family:Menlo,'DejaVu Sans Mono',consolas,'Courier New',monospace\"></pre>\n"
      ],
      "text/plain": []
     },
     "metadata": {},
     "output_type": "display_data"
    },
    {
     "data": {
      "text/html": [
       "<pre style=\"white-space:pre;overflow-x:auto;line-height:normal;font-family:Menlo,'DejaVu Sans Mono',consolas,'Courier New',monospace\">\n",
       "</pre>\n"
      ],
      "text/plain": [
       "\n"
      ]
     },
     "metadata": {},
     "output_type": "display_data"
    },
    {
     "data": {
      "application/vnd.jupyter.widget-view+json": {
       "model_id": "58a1d40f2972493d980e6a81b772162a",
       "version_major": 2,
       "version_minor": 0
      },
      "text/plain": [
       "Output()"
      ]
     },
     "metadata": {},
     "output_type": "display_data"
    },
    {
     "name": "stdout",
     "output_type": "stream",
     "text": [
      "Reading secret from C:\\Users\\david\\Documents\\GitHub\\ds-network-analysis\\data\\my_secrets.yaml…\n"
     ]
    },
    {
     "data": {
      "text/html": [
       "<pre style=\"white-space:pre;overflow-x:auto;line-height:normal;font-family:Menlo,'DejaVu Sans Mono',consolas,'Courier New',monospace\"></pre>\n"
      ],
      "text/plain": []
     },
     "metadata": {},
     "output_type": "display_data"
    },
    {
     "data": {
      "text/html": [
       "<pre style=\"white-space:pre;overflow-x:auto;line-height:normal;font-family:Menlo,'DejaVu Sans Mono',consolas,'Courier New',monospace\">\n",
       "</pre>\n"
      ],
      "text/plain": [
       "\n"
      ]
     },
     "metadata": {},
     "output_type": "display_data"
    },
    {
     "data": {
      "application/vnd.jupyter.widget-view+json": {
       "model_id": "d91ef5cd3f3045c8adc1fb8675237404",
       "version_major": 2,
       "version_minor": 0
      },
      "text/plain": [
       "Output()"
      ]
     },
     "metadata": {},
     "output_type": "display_data"
    },
    {
     "name": "stdout",
     "output_type": "stream",
     "text": [
      "Reading secret from C:\\Users\\david\\Documents\\GitHub\\ds-network-analysis\\data\\my_secrets.yaml…\n"
     ]
    },
    {
     "data": {
      "text/html": [
       "<pre style=\"white-space:pre;overflow-x:auto;line-height:normal;font-family:Menlo,'DejaVu Sans Mono',consolas,'Courier New',monospace\"></pre>\n"
      ],
      "text/plain": []
     },
     "metadata": {},
     "output_type": "display_data"
    },
    {
     "data": {
      "text/html": [
       "<pre style=\"white-space:pre;overflow-x:auto;line-height:normal;font-family:Menlo,'DejaVu Sans Mono',consolas,'Courier New',monospace\">\n",
       "</pre>\n"
      ],
      "text/plain": [
       "\n"
      ]
     },
     "metadata": {},
     "output_type": "display_data"
    },
    {
     "name": "stdout",
     "output_type": "stream",
     "text": [
      "Reading secret from C:\\Users\\david\\Documents\\GitHub\\ds-network-analysis\\data\\my_secrets.yaml…\n"
     ]
    },
    {
     "data": {
      "application/vnd.jupyter.widget-view+json": {
       "model_id": "f80487e7d9ac4bc6a86f9e3e5bfd536c",
       "version_major": 2,
       "version_minor": 0
      },
      "text/plain": [
       "Output()"
      ]
     },
     "metadata": {},
     "output_type": "display_data"
    },
    {
     "data": {
      "text/html": [
       "<pre style=\"white-space:pre;overflow-x:auto;line-height:normal;font-family:Menlo,'DejaVu Sans Mono',consolas,'Courier New',monospace\"></pre>\n"
      ],
      "text/plain": []
     },
     "metadata": {},
     "output_type": "display_data"
    },
    {
     "data": {
      "text/html": [
       "<pre style=\"white-space:pre;overflow-x:auto;line-height:normal;font-family:Menlo,'DejaVu Sans Mono',consolas,'Courier New',monospace\">\n",
       "</pre>\n"
      ],
      "text/plain": [
       "\n"
      ]
     },
     "metadata": {},
     "output_type": "display_data"
    },
    {
     "name": "stdout",
     "output_type": "stream",
     "text": [
      "Reading secret from C:\\Users\\david\\Documents\\GitHub\\ds-network-analysis\\data\\my_secrets.yaml…\n"
     ]
    },
    {
     "data": {
      "application/vnd.jupyter.widget-view+json": {
       "model_id": "b18593eb6ffe488283ed7f0b472823ea",
       "version_major": 2,
       "version_minor": 0
      },
      "text/plain": [
       "Output()"
      ]
     },
     "metadata": {},
     "output_type": "display_data"
    },
    {
     "data": {
      "text/html": [
       "<pre style=\"white-space:pre;overflow-x:auto;line-height:normal;font-family:Menlo,'DejaVu Sans Mono',consolas,'Courier New',monospace\"></pre>\n"
      ],
      "text/plain": []
     },
     "metadata": {},
     "output_type": "display_data"
    },
    {
     "data": {
      "text/html": [
       "<pre style=\"white-space:pre;overflow-x:auto;line-height:normal;font-family:Menlo,'DejaVu Sans Mono',consolas,'Courier New',monospace\">\n",
       "</pre>\n"
      ],
      "text/plain": [
       "\n"
      ]
     },
     "metadata": {},
     "output_type": "display_data"
    },
    {
     "name": "stdout",
     "output_type": "stream",
     "text": [
      "Reading secret from C:\\Users\\david\\Documents\\GitHub\\ds-network-analysis\\data\\my_secrets.yaml…\n"
     ]
    },
    {
     "data": {
      "application/vnd.jupyter.widget-view+json": {
       "model_id": "9bfbecfc954d4a4c91a906eae13787aa",
       "version_major": 2,
       "version_minor": 0
      },
      "text/plain": [
       "Output()"
      ]
     },
     "metadata": {},
     "output_type": "display_data"
    },
    {
     "data": {
      "text/html": [
       "<pre style=\"white-space:pre;overflow-x:auto;line-height:normal;font-family:Menlo,'DejaVu Sans Mono',consolas,'Courier New',monospace\"></pre>\n"
      ],
      "text/plain": []
     },
     "metadata": {},
     "output_type": "display_data"
    },
    {
     "data": {
      "text/html": [
       "<pre style=\"white-space:pre;overflow-x:auto;line-height:normal;font-family:Menlo,'DejaVu Sans Mono',consolas,'Courier New',monospace\">\n",
       "</pre>\n"
      ],
      "text/plain": [
       "\n"
      ]
     },
     "metadata": {},
     "output_type": "display_data"
    },
    {
     "data": {
      "application/vnd.jupyter.widget-view+json": {
       "model_id": "7d98191fe6284ff1a0c3ab3e1522eb14",
       "version_major": 2,
       "version_minor": 0
      },
      "text/plain": [
       "Output()"
      ]
     },
     "metadata": {},
     "output_type": "display_data"
    },
    {
     "name": "stdout",
     "output_type": "stream",
     "text": [
      "Reading secret from C:\\Users\\david\\Documents\\GitHub\\ds-network-analysis\\data\\my_secrets.yaml…\n"
     ]
    },
    {
     "data": {
      "text/html": [
       "<pre style=\"white-space:pre;overflow-x:auto;line-height:normal;font-family:Menlo,'DejaVu Sans Mono',consolas,'Courier New',monospace\"></pre>\n"
      ],
      "text/plain": []
     },
     "metadata": {},
     "output_type": "display_data"
    },
    {
     "data": {
      "text/html": [
       "<pre style=\"white-space:pre;overflow-x:auto;line-height:normal;font-family:Menlo,'DejaVu Sans Mono',consolas,'Courier New',monospace\">\n",
       "</pre>\n"
      ],
      "text/plain": [
       "\n"
      ]
     },
     "metadata": {},
     "output_type": "display_data"
    },
    {
     "name": "stdout",
     "output_type": "stream",
     "text": [
      "Reading secret from C:\\Users\\david\\Documents\\GitHub\\ds-network-analysis\\data\\my_secrets.yaml…\n"
     ]
    },
    {
     "data": {
      "application/vnd.jupyter.widget-view+json": {
       "model_id": "8583e75764f14a22ae743a64590b1d75",
       "version_major": 2,
       "version_minor": 0
      },
      "text/plain": [
       "Output()"
      ]
     },
     "metadata": {},
     "output_type": "display_data"
    },
    {
     "data": {
      "text/html": [
       "<pre style=\"white-space:pre;overflow-x:auto;line-height:normal;font-family:Menlo,'DejaVu Sans Mono',consolas,'Courier New',monospace\"></pre>\n"
      ],
      "text/plain": []
     },
     "metadata": {},
     "output_type": "display_data"
    },
    {
     "data": {
      "text/html": [
       "<pre style=\"white-space:pre;overflow-x:auto;line-height:normal;font-family:Menlo,'DejaVu Sans Mono',consolas,'Courier New',monospace\">\n",
       "</pre>\n"
      ],
      "text/plain": [
       "\n"
      ]
     },
     "metadata": {},
     "output_type": "display_data"
    },
    {
     "name": "stdout",
     "output_type": "stream",
     "text": [
      "Reading secret from C:\\Users\\david\\Documents\\GitHub\\ds-network-analysis\\data\\my_secrets.yaml…\n"
     ]
    },
    {
     "data": {
      "application/vnd.jupyter.widget-view+json": {
       "model_id": "2a70a19a526c4231b769752adebc4b2e",
       "version_major": 2,
       "version_minor": 0
      },
      "text/plain": [
       "Output()"
      ]
     },
     "metadata": {},
     "output_type": "display_data"
    },
    {
     "data": {
      "text/html": [
       "<pre style=\"white-space:pre;overflow-x:auto;line-height:normal;font-family:Menlo,'DejaVu Sans Mono',consolas,'Courier New',monospace\"></pre>\n"
      ],
      "text/plain": []
     },
     "metadata": {},
     "output_type": "display_data"
    },
    {
     "data": {
      "text/html": [
       "<pre style=\"white-space:pre;overflow-x:auto;line-height:normal;font-family:Menlo,'DejaVu Sans Mono',consolas,'Courier New',monospace\">\n",
       "</pre>\n"
      ],
      "text/plain": [
       "\n"
      ]
     },
     "metadata": {},
     "output_type": "display_data"
    },
    {
     "name": "stdout",
     "output_type": "stream",
     "text": [
      "Reading secret from C:\\Users\\david\\Documents\\GitHub\\ds-network-analysis\\data\\my_secrets.yaml…\n"
     ]
    },
    {
     "data": {
      "application/vnd.jupyter.widget-view+json": {
       "model_id": "73ffd890f13242cbbaf398dbed7bdde0",
       "version_major": 2,
       "version_minor": 0
      },
      "text/plain": [
       "Output()"
      ]
     },
     "metadata": {},
     "output_type": "display_data"
    },
    {
     "data": {
      "text/html": [
       "<pre style=\"white-space:pre;overflow-x:auto;line-height:normal;font-family:Menlo,'DejaVu Sans Mono',consolas,'Courier New',monospace\"></pre>\n"
      ],
      "text/plain": []
     },
     "metadata": {},
     "output_type": "display_data"
    },
    {
     "data": {
      "text/html": [
       "<pre style=\"white-space:pre;overflow-x:auto;line-height:normal;font-family:Menlo,'DejaVu Sans Mono',consolas,'Courier New',monospace\">\n",
       "</pre>\n"
      ],
      "text/plain": [
       "\n"
      ]
     },
     "metadata": {},
     "output_type": "display_data"
    },
    {
     "data": {
      "application/vnd.jupyter.widget-view+json": {
       "model_id": "078b679945574e4c8b5a0bea9bdd7512",
       "version_major": 2,
       "version_minor": 0
      },
      "text/plain": [
       "Output()"
      ]
     },
     "metadata": {},
     "output_type": "display_data"
    },
    {
     "name": "stdout",
     "output_type": "stream",
     "text": [
      "Reading secret from C:\\Users\\david\\Documents\\GitHub\\ds-network-analysis\\data\\my_secrets.yaml…\n"
     ]
    },
    {
     "data": {
      "text/html": [
       "<pre style=\"white-space:pre;overflow-x:auto;line-height:normal;font-family:Menlo,'DejaVu Sans Mono',consolas,'Courier New',monospace\"></pre>\n"
      ],
      "text/plain": []
     },
     "metadata": {},
     "output_type": "display_data"
    },
    {
     "data": {
      "text/html": [
       "<pre style=\"white-space:pre;overflow-x:auto;line-height:normal;font-family:Menlo,'DejaVu Sans Mono',consolas,'Courier New',monospace\">\n",
       "</pre>\n"
      ],
      "text/plain": [
       "\n"
      ]
     },
     "metadata": {},
     "output_type": "display_data"
    },
    {
     "data": {
      "application/vnd.jupyter.widget-view+json": {
       "model_id": "4f46ab9ce29b482fbb0732e756a267b4",
       "version_major": 2,
       "version_minor": 0
      },
      "text/plain": [
       "Output()"
      ]
     },
     "metadata": {},
     "output_type": "display_data"
    },
    {
     "name": "stdout",
     "output_type": "stream",
     "text": [
      "Reading secret from C:\\Users\\david\\Documents\\GitHub\\ds-network-analysis\\data\\my_secrets.yaml…\n"
     ]
    },
    {
     "data": {
      "text/html": [
       "<pre style=\"white-space:pre;overflow-x:auto;line-height:normal;font-family:Menlo,'DejaVu Sans Mono',consolas,'Courier New',monospace\"></pre>\n"
      ],
      "text/plain": []
     },
     "metadata": {},
     "output_type": "display_data"
    },
    {
     "data": {
      "text/html": [
       "<pre style=\"white-space:pre;overflow-x:auto;line-height:normal;font-family:Menlo,'DejaVu Sans Mono',consolas,'Courier New',monospace\">\n",
       "</pre>\n"
      ],
      "text/plain": [
       "\n"
      ]
     },
     "metadata": {},
     "output_type": "display_data"
    },
    {
     "data": {
      "application/vnd.jupyter.widget-view+json": {
       "model_id": "76f4ca51186e43f7b5edb62f711a0889",
       "version_major": 2,
       "version_minor": 0
      },
      "text/plain": [
       "Output()"
      ]
     },
     "metadata": {},
     "output_type": "display_data"
    },
    {
     "name": "stdout",
     "output_type": "stream",
     "text": [
      "Reading secret from C:\\Users\\david\\Documents\\GitHub\\ds-network-analysis\\data\\my_secrets.yaml…\n"
     ]
    },
    {
     "data": {
      "text/html": [
       "<pre style=\"white-space:pre;overflow-x:auto;line-height:normal;font-family:Menlo,'DejaVu Sans Mono',consolas,'Courier New',monospace\"></pre>\n"
      ],
      "text/plain": []
     },
     "metadata": {},
     "output_type": "display_data"
    },
    {
     "data": {
      "text/html": [
       "<pre style=\"white-space:pre;overflow-x:auto;line-height:normal;font-family:Menlo,'DejaVu Sans Mono',consolas,'Courier New',monospace\">\n",
       "</pre>\n"
      ],
      "text/plain": [
       "\n"
      ]
     },
     "metadata": {},
     "output_type": "display_data"
    },
    {
     "name": "stdout",
     "output_type": "stream",
     "text": [
      "Reading secret from C:\\Users\\david\\Documents\\GitHub\\ds-network-analysis\\data\\my_secrets.yaml…\n"
     ]
    },
    {
     "data": {
      "application/vnd.jupyter.widget-view+json": {
       "model_id": "76a293189acd4964be082de5cfc371fa",
       "version_major": 2,
       "version_minor": 0
      },
      "text/plain": [
       "Output()"
      ]
     },
     "metadata": {},
     "output_type": "display_data"
    },
    {
     "data": {
      "text/html": [
       "<pre style=\"white-space:pre;overflow-x:auto;line-height:normal;font-family:Menlo,'DejaVu Sans Mono',consolas,'Courier New',monospace\"></pre>\n"
      ],
      "text/plain": []
     },
     "metadata": {},
     "output_type": "display_data"
    },
    {
     "data": {
      "text/html": [
       "<pre style=\"white-space:pre;overflow-x:auto;line-height:normal;font-family:Menlo,'DejaVu Sans Mono',consolas,'Courier New',monospace\">\n",
       "</pre>\n"
      ],
      "text/plain": [
       "\n"
      ]
     },
     "metadata": {},
     "output_type": "display_data"
    },
    {
     "data": {
      "application/vnd.jupyter.widget-view+json": {
       "model_id": "bee85596c4744cc0a8f455ef60fa00cb",
       "version_major": 2,
       "version_minor": 0
      },
      "text/plain": [
       "Output()"
      ]
     },
     "metadata": {},
     "output_type": "display_data"
    },
    {
     "name": "stdout",
     "output_type": "stream",
     "text": [
      "Reading secret from C:\\Users\\david\\Documents\\GitHub\\ds-network-analysis\\data\\my_secrets.yaml…\n"
     ]
    },
    {
     "data": {
      "text/html": [
       "<pre style=\"white-space:pre;overflow-x:auto;line-height:normal;font-family:Menlo,'DejaVu Sans Mono',consolas,'Courier New',monospace\"></pre>\n"
      ],
      "text/plain": []
     },
     "metadata": {},
     "output_type": "display_data"
    },
    {
     "data": {
      "text/html": [
       "<pre style=\"white-space:pre;overflow-x:auto;line-height:normal;font-family:Menlo,'DejaVu Sans Mono',consolas,'Courier New',monospace\">\n",
       "</pre>\n"
      ],
      "text/plain": [
       "\n"
      ]
     },
     "metadata": {},
     "output_type": "display_data"
    },
    {
     "data": {
      "application/vnd.jupyter.widget-view+json": {
       "model_id": "2b548cbb4302468ea46697bda280ef89",
       "version_major": 2,
       "version_minor": 0
      },
      "text/plain": [
       "Output()"
      ]
     },
     "metadata": {},
     "output_type": "display_data"
    },
    {
     "name": "stdout",
     "output_type": "stream",
     "text": [
      "Reading secret from C:\\Users\\david\\Documents\\GitHub\\ds-network-analysis\\data\\my_secrets.yaml…\n"
     ]
    },
    {
     "data": {
      "text/html": [
       "<pre style=\"white-space:pre;overflow-x:auto;line-height:normal;font-family:Menlo,'DejaVu Sans Mono',consolas,'Courier New',monospace\"></pre>\n"
      ],
      "text/plain": []
     },
     "metadata": {},
     "output_type": "display_data"
    },
    {
     "data": {
      "text/html": [
       "<pre style=\"white-space:pre;overflow-x:auto;line-height:normal;font-family:Menlo,'DejaVu Sans Mono',consolas,'Courier New',monospace\">\n",
       "</pre>\n"
      ],
      "text/plain": [
       "\n"
      ]
     },
     "metadata": {},
     "output_type": "display_data"
    },
    {
     "data": {
      "application/vnd.jupyter.widget-view+json": {
       "model_id": "58b88521b1164e1a8b759520543a9d3b",
       "version_major": 2,
       "version_minor": 0
      },
      "text/plain": [
       "Output()"
      ]
     },
     "metadata": {},
     "output_type": "display_data"
    },
    {
     "name": "stdout",
     "output_type": "stream",
     "text": [
      "Reading secret from C:\\Users\\david\\Documents\\GitHub\\ds-network-analysis\\data\\my_secrets.yaml…\n"
     ]
    },
    {
     "data": {
      "text/html": [
       "<pre style=\"white-space:pre;overflow-x:auto;line-height:normal;font-family:Menlo,'DejaVu Sans Mono',consolas,'Courier New',monospace\"></pre>\n"
      ],
      "text/plain": []
     },
     "metadata": {},
     "output_type": "display_data"
    },
    {
     "data": {
      "text/html": [
       "<pre style=\"white-space:pre;overflow-x:auto;line-height:normal;font-family:Menlo,'DejaVu Sans Mono',consolas,'Courier New',monospace\">\n",
       "</pre>\n"
      ],
      "text/plain": [
       "\n"
      ]
     },
     "metadata": {},
     "output_type": "display_data"
    },
    {
     "name": "stdout",
     "output_type": "stream",
     "text": [
      "Reading secret from C:\\Users\\david\\Documents\\GitHub\\ds-network-analysis\\data\\my_secrets.yaml…\n"
     ]
    },
    {
     "data": {
      "application/vnd.jupyter.widget-view+json": {
       "model_id": "b58e7525f5284d82a426cac0ebd13e45",
       "version_major": 2,
       "version_minor": 0
      },
      "text/plain": [
       "Output()"
      ]
     },
     "metadata": {},
     "output_type": "display_data"
    },
    {
     "data": {
      "text/html": [
       "<pre style=\"white-space:pre;overflow-x:auto;line-height:normal;font-family:Menlo,'DejaVu Sans Mono',consolas,'Courier New',monospace\"></pre>\n"
      ],
      "text/plain": []
     },
     "metadata": {},
     "output_type": "display_data"
    },
    {
     "data": {
      "text/html": [
       "<pre style=\"white-space:pre;overflow-x:auto;line-height:normal;font-family:Menlo,'DejaVu Sans Mono',consolas,'Courier New',monospace\">\n",
       "</pre>\n"
      ],
      "text/plain": [
       "\n"
      ]
     },
     "metadata": {},
     "output_type": "display_data"
    },
    {
     "data": {
      "application/vnd.jupyter.widget-view+json": {
       "model_id": "c354c32422fc43c09bba25e89c736d09",
       "version_major": 2,
       "version_minor": 0
      },
      "text/plain": [
       "Output()"
      ]
     },
     "metadata": {},
     "output_type": "display_data"
    },
    {
     "name": "stdout",
     "output_type": "stream",
     "text": [
      "Reading secret from C:\\Users\\david\\Documents\\GitHub\\ds-network-analysis\\data\\my_secrets.yaml…\n"
     ]
    },
    {
     "data": {
      "text/html": [
       "<pre style=\"white-space:pre;overflow-x:auto;line-height:normal;font-family:Menlo,'DejaVu Sans Mono',consolas,'Courier New',monospace\"></pre>\n"
      ],
      "text/plain": []
     },
     "metadata": {},
     "output_type": "display_data"
    },
    {
     "data": {
      "text/html": [
       "<pre style=\"white-space:pre;overflow-x:auto;line-height:normal;font-family:Menlo,'DejaVu Sans Mono',consolas,'Courier New',monospace\">\n",
       "</pre>\n"
      ],
      "text/plain": [
       "\n"
      ]
     },
     "metadata": {},
     "output_type": "display_data"
    },
    {
     "data": {
      "application/vnd.jupyter.widget-view+json": {
       "model_id": "7b06a04c9e0146f296a8ad3d25ef5d53",
       "version_major": 2,
       "version_minor": 0
      },
      "text/plain": [
       "Output()"
      ]
     },
     "metadata": {},
     "output_type": "display_data"
    },
    {
     "name": "stdout",
     "output_type": "stream",
     "text": [
      "Reading secret from C:\\Users\\david\\Documents\\GitHub\\ds-network-analysis\\data\\my_secrets.yaml…\n"
     ]
    },
    {
     "data": {
      "text/html": [
       "<pre style=\"white-space:pre;overflow-x:auto;line-height:normal;font-family:Menlo,'DejaVu Sans Mono',consolas,'Courier New',monospace\"></pre>\n"
      ],
      "text/plain": []
     },
     "metadata": {},
     "output_type": "display_data"
    },
    {
     "data": {
      "text/html": [
       "<pre style=\"white-space:pre;overflow-x:auto;line-height:normal;font-family:Menlo,'DejaVu Sans Mono',consolas,'Courier New',monospace\">\n",
       "</pre>\n"
      ],
      "text/plain": [
       "\n"
      ]
     },
     "metadata": {},
     "output_type": "display_data"
    },
    {
     "data": {
      "application/vnd.jupyter.widget-view+json": {
       "model_id": "e9fe3f771f1d46489add057d16e844de",
       "version_major": 2,
       "version_minor": 0
      },
      "text/plain": [
       "Output()"
      ]
     },
     "metadata": {},
     "output_type": "display_data"
    },
    {
     "name": "stdout",
     "output_type": "stream",
     "text": [
      "Reading secret from C:\\Users\\david\\Documents\\GitHub\\ds-network-analysis\\data\\my_secrets.yaml…\n"
     ]
    },
    {
     "data": {
      "text/html": [
       "<pre style=\"white-space:pre;overflow-x:auto;line-height:normal;font-family:Menlo,'DejaVu Sans Mono',consolas,'Courier New',monospace\"></pre>\n"
      ],
      "text/plain": []
     },
     "metadata": {},
     "output_type": "display_data"
    },
    {
     "data": {
      "text/html": [
       "<pre style=\"white-space:pre;overflow-x:auto;line-height:normal;font-family:Menlo,'DejaVu Sans Mono',consolas,'Courier New',monospace\">\n",
       "</pre>\n"
      ],
      "text/plain": [
       "\n"
      ]
     },
     "metadata": {},
     "output_type": "display_data"
    },
    {
     "data": {
      "application/vnd.jupyter.widget-view+json": {
       "model_id": "13f9b5198d054648b9f01afa84f59657",
       "version_major": 2,
       "version_minor": 0
      },
      "text/plain": [
       "Output()"
      ]
     },
     "metadata": {},
     "output_type": "display_data"
    },
    {
     "name": "stdout",
     "output_type": "stream",
     "text": [
      "Reading secret from C:\\Users\\david\\Documents\\GitHub\\ds-network-analysis\\data\\my_secrets.yaml…\n"
     ]
    },
    {
     "data": {
      "text/html": [
       "<pre style=\"white-space:pre;overflow-x:auto;line-height:normal;font-family:Menlo,'DejaVu Sans Mono',consolas,'Courier New',monospace\"></pre>\n"
      ],
      "text/plain": []
     },
     "metadata": {},
     "output_type": "display_data"
    },
    {
     "data": {
      "text/html": [
       "<pre style=\"white-space:pre;overflow-x:auto;line-height:normal;font-family:Menlo,'DejaVu Sans Mono',consolas,'Courier New',monospace\">\n",
       "</pre>\n"
      ],
      "text/plain": [
       "\n"
      ]
     },
     "metadata": {},
     "output_type": "display_data"
    },
    {
     "data": {
      "application/vnd.jupyter.widget-view+json": {
       "model_id": "72a42a46626e40c688b812fc6ff8c7e7",
       "version_major": 2,
       "version_minor": 0
      },
      "text/plain": [
       "Output()"
      ]
     },
     "metadata": {},
     "output_type": "display_data"
    },
    {
     "name": "stdout",
     "output_type": "stream",
     "text": [
      "Reading secret from C:\\Users\\david\\Documents\\GitHub\\ds-network-analysis\\data\\my_secrets.yaml…\n"
     ]
    },
    {
     "data": {
      "text/html": [
       "<pre style=\"white-space:pre;overflow-x:auto;line-height:normal;font-family:Menlo,'DejaVu Sans Mono',consolas,'Courier New',monospace\"></pre>\n"
      ],
      "text/plain": []
     },
     "metadata": {},
     "output_type": "display_data"
    },
    {
     "data": {
      "text/html": [
       "<pre style=\"white-space:pre;overflow-x:auto;line-height:normal;font-family:Menlo,'DejaVu Sans Mono',consolas,'Courier New',monospace\">\n",
       "</pre>\n"
      ],
      "text/plain": [
       "\n"
      ]
     },
     "metadata": {},
     "output_type": "display_data"
    },
    {
     "name": "stdout",
     "output_type": "stream",
     "text": [
      "Reading secret from C:\\Users\\david\\Documents\\GitHub\\ds-network-analysis\\data\\my_secrets.yaml…\n"
     ]
    },
    {
     "data": {
      "application/vnd.jupyter.widget-view+json": {
       "model_id": "b0597b0b69ab4513b247b6edf8b98f1d",
       "version_major": 2,
       "version_minor": 0
      },
      "text/plain": [
       "Output()"
      ]
     },
     "metadata": {},
     "output_type": "display_data"
    },
    {
     "data": {
      "text/html": [
       "<pre style=\"white-space:pre;overflow-x:auto;line-height:normal;font-family:Menlo,'DejaVu Sans Mono',consolas,'Courier New',monospace\"></pre>\n"
      ],
      "text/plain": []
     },
     "metadata": {},
     "output_type": "display_data"
    },
    {
     "data": {
      "text/html": [
       "<pre style=\"white-space:pre;overflow-x:auto;line-height:normal;font-family:Menlo,'DejaVu Sans Mono',consolas,'Courier New',monospace\">\n",
       "</pre>\n"
      ],
      "text/plain": [
       "\n"
      ]
     },
     "metadata": {},
     "output_type": "display_data"
    },
    {
     "name": "stdout",
     "output_type": "stream",
     "text": [
      "Reading secret from C:\\Users\\david\\Documents\\GitHub\\ds-network-analysis\\data\\my_secrets.yaml…\n"
     ]
    },
    {
     "data": {
      "application/vnd.jupyter.widget-view+json": {
       "model_id": "4e8f1a705ebf4d06bf18c7450be9193f",
       "version_major": 2,
       "version_minor": 0
      },
      "text/plain": [
       "Output()"
      ]
     },
     "metadata": {},
     "output_type": "display_data"
    },
    {
     "data": {
      "text/html": [
       "<pre style=\"white-space:pre;overflow-x:auto;line-height:normal;font-family:Menlo,'DejaVu Sans Mono',consolas,'Courier New',monospace\"></pre>\n"
      ],
      "text/plain": []
     },
     "metadata": {},
     "output_type": "display_data"
    },
    {
     "data": {
      "text/html": [
       "<pre style=\"white-space:pre;overflow-x:auto;line-height:normal;font-family:Menlo,'DejaVu Sans Mono',consolas,'Courier New',monospace\">\n",
       "</pre>\n"
      ],
      "text/plain": [
       "\n"
      ]
     },
     "metadata": {},
     "output_type": "display_data"
    },
    {
     "name": "stdout",
     "output_type": "stream",
     "text": [
      "Reading secret from C:\\Users\\david\\Documents\\GitHub\\ds-network-analysis\\data\\my_secrets.yaml…\n"
     ]
    },
    {
     "data": {
      "application/vnd.jupyter.widget-view+json": {
       "model_id": "ca244e7afa7045b099ebcf8b873177fa",
       "version_major": 2,
       "version_minor": 0
      },
      "text/plain": [
       "Output()"
      ]
     },
     "metadata": {},
     "output_type": "display_data"
    },
    {
     "data": {
      "text/html": [
       "<pre style=\"white-space:pre;overflow-x:auto;line-height:normal;font-family:Menlo,'DejaVu Sans Mono',consolas,'Courier New',monospace\"></pre>\n"
      ],
      "text/plain": []
     },
     "metadata": {},
     "output_type": "display_data"
    },
    {
     "data": {
      "text/html": [
       "<pre style=\"white-space:pre;overflow-x:auto;line-height:normal;font-family:Menlo,'DejaVu Sans Mono',consolas,'Courier New',monospace\">\n",
       "</pre>\n"
      ],
      "text/plain": [
       "\n"
      ]
     },
     "metadata": {},
     "output_type": "display_data"
    },
    {
     "data": {
      "application/vnd.jupyter.widget-view+json": {
       "model_id": "9388689330b8470586fe630266148a76",
       "version_major": 2,
       "version_minor": 0
      },
      "text/plain": [
       "Output()"
      ]
     },
     "metadata": {},
     "output_type": "display_data"
    },
    {
     "name": "stdout",
     "output_type": "stream",
     "text": [
      "Reading secret from C:\\Users\\david\\Documents\\GitHub\\ds-network-analysis\\data\\my_secrets.yaml…\n"
     ]
    },
    {
     "data": {
      "text/html": [
       "<pre style=\"white-space:pre;overflow-x:auto;line-height:normal;font-family:Menlo,'DejaVu Sans Mono',consolas,'Courier New',monospace\"></pre>\n"
      ],
      "text/plain": []
     },
     "metadata": {},
     "output_type": "display_data"
    },
    {
     "data": {
      "text/html": [
       "<pre style=\"white-space:pre;overflow-x:auto;line-height:normal;font-family:Menlo,'DejaVu Sans Mono',consolas,'Courier New',monospace\">\n",
       "</pre>\n"
      ],
      "text/plain": [
       "\n"
      ]
     },
     "metadata": {},
     "output_type": "display_data"
    },
    {
     "data": {
      "application/vnd.jupyter.widget-view+json": {
       "model_id": "ef3b22b316284c248dd50c44b648d781",
       "version_major": 2,
       "version_minor": 0
      },
      "text/plain": [
       "Output()"
      ]
     },
     "metadata": {},
     "output_type": "display_data"
    },
    {
     "name": "stdout",
     "output_type": "stream",
     "text": [
      "Reading secret from C:\\Users\\david\\Documents\\GitHub\\ds-network-analysis\\data\\my_secrets.yaml…\n"
     ]
    },
    {
     "data": {
      "text/html": [
       "<pre style=\"white-space:pre;overflow-x:auto;line-height:normal;font-family:Menlo,'DejaVu Sans Mono',consolas,'Courier New',monospace\"></pre>\n"
      ],
      "text/plain": []
     },
     "metadata": {},
     "output_type": "display_data"
    },
    {
     "data": {
      "text/html": [
       "<pre style=\"white-space:pre;overflow-x:auto;line-height:normal;font-family:Menlo,'DejaVu Sans Mono',consolas,'Courier New',monospace\">\n",
       "</pre>\n"
      ],
      "text/plain": [
       "\n"
      ]
     },
     "metadata": {},
     "output_type": "display_data"
    },
    {
     "data": {
      "application/vnd.jupyter.widget-view+json": {
       "model_id": "1ea378ff12444889bb3bea2e111c8538",
       "version_major": 2,
       "version_minor": 0
      },
      "text/plain": [
       "Output()"
      ]
     },
     "metadata": {},
     "output_type": "display_data"
    },
    {
     "name": "stdout",
     "output_type": "stream",
     "text": [
      "Reading secret from C:\\Users\\david\\Documents\\GitHub\\ds-network-analysis\\data\\my_secrets.yaml…\n"
     ]
    },
    {
     "data": {
      "text/html": [
       "<pre style=\"white-space:pre;overflow-x:auto;line-height:normal;font-family:Menlo,'DejaVu Sans Mono',consolas,'Courier New',monospace\"></pre>\n"
      ],
      "text/plain": []
     },
     "metadata": {},
     "output_type": "display_data"
    },
    {
     "data": {
      "text/html": [
       "<pre style=\"white-space:pre;overflow-x:auto;line-height:normal;font-family:Menlo,'DejaVu Sans Mono',consolas,'Courier New',monospace\">\n",
       "</pre>\n"
      ],
      "text/plain": [
       "\n"
      ]
     },
     "metadata": {},
     "output_type": "display_data"
    },
    {
     "data": {
      "application/vnd.jupyter.widget-view+json": {
       "model_id": "4e1035d7b8cd457c88cd3cd72a7cd3fe",
       "version_major": 2,
       "version_minor": 0
      },
      "text/plain": [
       "Output()"
      ]
     },
     "metadata": {},
     "output_type": "display_data"
    },
    {
     "name": "stdout",
     "output_type": "stream",
     "text": [
      "Reading secret from C:\\Users\\david\\Documents\\GitHub\\ds-network-analysis\\data\\my_secrets.yaml…\n"
     ]
    },
    {
     "data": {
      "text/html": [
       "<pre style=\"white-space:pre;overflow-x:auto;line-height:normal;font-family:Menlo,'DejaVu Sans Mono',consolas,'Courier New',monospace\"></pre>\n"
      ],
      "text/plain": []
     },
     "metadata": {},
     "output_type": "display_data"
    },
    {
     "data": {
      "text/html": [
       "<pre style=\"white-space:pre;overflow-x:auto;line-height:normal;font-family:Menlo,'DejaVu Sans Mono',consolas,'Courier New',monospace\">\n",
       "</pre>\n"
      ],
      "text/plain": [
       "\n"
      ]
     },
     "metadata": {},
     "output_type": "display_data"
    },
    {
     "name": "stdout",
     "output_type": "stream",
     "text": [
      "Reading secret from C:\\Users\\david\\Documents\\GitHub\\ds-network-analysis\\data\\my_secrets.yaml…\n"
     ]
    },
    {
     "data": {
      "application/vnd.jupyter.widget-view+json": {
       "model_id": "773f4790ef214ac192055efb1a4c7547",
       "version_major": 2,
       "version_minor": 0
      },
      "text/plain": [
       "Output()"
      ]
     },
     "metadata": {},
     "output_type": "display_data"
    },
    {
     "data": {
      "text/html": [
       "<pre style=\"white-space:pre;overflow-x:auto;line-height:normal;font-family:Menlo,'DejaVu Sans Mono',consolas,'Courier New',monospace\"></pre>\n"
      ],
      "text/plain": []
     },
     "metadata": {},
     "output_type": "display_data"
    },
    {
     "data": {
      "text/html": [
       "<pre style=\"white-space:pre;overflow-x:auto;line-height:normal;font-family:Menlo,'DejaVu Sans Mono',consolas,'Courier New',monospace\">\n",
       "</pre>\n"
      ],
      "text/plain": [
       "\n"
      ]
     },
     "metadata": {},
     "output_type": "display_data"
    },
    {
     "data": {
      "application/vnd.jupyter.widget-view+json": {
       "model_id": "bda0330141ce446990d59d955c9e51a2",
       "version_major": 2,
       "version_minor": 0
      },
      "text/plain": [
       "Output()"
      ]
     },
     "metadata": {},
     "output_type": "display_data"
    },
    {
     "name": "stdout",
     "output_type": "stream",
     "text": [
      "Reading secret from C:\\Users\\david\\Documents\\GitHub\\ds-network-analysis\\data\\my_secrets.yaml…\n"
     ]
    },
    {
     "data": {
      "text/html": [
       "<pre style=\"white-space:pre;overflow-x:auto;line-height:normal;font-family:Menlo,'DejaVu Sans Mono',consolas,'Courier New',monospace\"></pre>\n"
      ],
      "text/plain": []
     },
     "metadata": {},
     "output_type": "display_data"
    },
    {
     "data": {
      "text/html": [
       "<pre style=\"white-space:pre;overflow-x:auto;line-height:normal;font-family:Menlo,'DejaVu Sans Mono',consolas,'Courier New',monospace\">\n",
       "</pre>\n"
      ],
      "text/plain": [
       "\n"
      ]
     },
     "metadata": {},
     "output_type": "display_data"
    },
    {
     "name": "stdout",
     "output_type": "stream",
     "text": [
      "Reading secret from C:\\Users\\david\\Documents\\GitHub\\ds-network-analysis\\data\\my_secrets.yaml…\n"
     ]
    },
    {
     "data": {
      "application/vnd.jupyter.widget-view+json": {
       "model_id": "9ffada1d7f8f437fbd715854e7e6419e",
       "version_major": 2,
       "version_minor": 0
      },
      "text/plain": [
       "Output()"
      ]
     },
     "metadata": {},
     "output_type": "display_data"
    },
    {
     "data": {
      "text/html": [
       "<pre style=\"white-space:pre;overflow-x:auto;line-height:normal;font-family:Menlo,'DejaVu Sans Mono',consolas,'Courier New',monospace\"></pre>\n"
      ],
      "text/plain": []
     },
     "metadata": {},
     "output_type": "display_data"
    },
    {
     "data": {
      "text/html": [
       "<pre style=\"white-space:pre;overflow-x:auto;line-height:normal;font-family:Menlo,'DejaVu Sans Mono',consolas,'Courier New',monospace\">\n",
       "</pre>\n"
      ],
      "text/plain": [
       "\n"
      ]
     },
     "metadata": {},
     "output_type": "display_data"
    },
    {
     "data": {
      "application/vnd.jupyter.widget-view+json": {
       "model_id": "4e098a4474ec4a4a838af9294c9f4f93",
       "version_major": 2,
       "version_minor": 0
      },
      "text/plain": [
       "Output()"
      ]
     },
     "metadata": {},
     "output_type": "display_data"
    },
    {
     "name": "stdout",
     "output_type": "stream",
     "text": [
      "Reading secret from C:\\Users\\david\\Documents\\GitHub\\ds-network-analysis\\data\\my_secrets.yaml…\n"
     ]
    },
    {
     "data": {
      "text/html": [
       "<pre style=\"white-space:pre;overflow-x:auto;line-height:normal;font-family:Menlo,'DejaVu Sans Mono',consolas,'Courier New',monospace\"></pre>\n"
      ],
      "text/plain": []
     },
     "metadata": {},
     "output_type": "display_data"
    },
    {
     "data": {
      "text/html": [
       "<pre style=\"white-space:pre;overflow-x:auto;line-height:normal;font-family:Menlo,'DejaVu Sans Mono',consolas,'Courier New',monospace\">\n",
       "</pre>\n"
      ],
      "text/plain": [
       "\n"
      ]
     },
     "metadata": {},
     "output_type": "display_data"
    },
    {
     "name": "stdout",
     "output_type": "stream",
     "text": [
      "Reading secret from C:\\Users\\david\\Documents\\GitHub\\ds-network-analysis\\data\\my_secrets.yaml…\n"
     ]
    },
    {
     "data": {
      "application/vnd.jupyter.widget-view+json": {
       "model_id": "443258c186514fc48387d8fefcead2f2",
       "version_major": 2,
       "version_minor": 0
      },
      "text/plain": [
       "Output()"
      ]
     },
     "metadata": {},
     "output_type": "display_data"
    },
    {
     "data": {
      "text/html": [
       "<pre style=\"white-space:pre;overflow-x:auto;line-height:normal;font-family:Menlo,'DejaVu Sans Mono',consolas,'Courier New',monospace\"></pre>\n"
      ],
      "text/plain": []
     },
     "metadata": {},
     "output_type": "display_data"
    },
    {
     "data": {
      "text/html": [
       "<pre style=\"white-space:pre;overflow-x:auto;line-height:normal;font-family:Menlo,'DejaVu Sans Mono',consolas,'Courier New',monospace\">\n",
       "</pre>\n"
      ],
      "text/plain": [
       "\n"
      ]
     },
     "metadata": {},
     "output_type": "display_data"
    },
    {
     "name": "stdout",
     "output_type": "stream",
     "text": [
      "Reading secret from C:\\Users\\david\\Documents\\GitHub\\ds-network-analysis\\data\\my_secrets.yaml…\n"
     ]
    },
    {
     "data": {
      "application/vnd.jupyter.widget-view+json": {
       "model_id": "d99eccf8a7ec47f3a1a8fb7e861de2d2",
       "version_major": 2,
       "version_minor": 0
      },
      "text/plain": [
       "Output()"
      ]
     },
     "metadata": {},
     "output_type": "display_data"
    },
    {
     "data": {
      "text/html": [
       "<pre style=\"white-space:pre;overflow-x:auto;line-height:normal;font-family:Menlo,'DejaVu Sans Mono',consolas,'Courier New',monospace\"></pre>\n"
      ],
      "text/plain": []
     },
     "metadata": {},
     "output_type": "display_data"
    },
    {
     "data": {
      "text/html": [
       "<pre style=\"white-space:pre;overflow-x:auto;line-height:normal;font-family:Menlo,'DejaVu Sans Mono',consolas,'Courier New',monospace\">\n",
       "</pre>\n"
      ],
      "text/plain": [
       "\n"
      ]
     },
     "metadata": {},
     "output_type": "display_data"
    },
    {
     "name": "stdout",
     "output_type": "stream",
     "text": [
      "Reading secret from C:\\Users\\david\\Documents\\GitHub\\ds-network-analysis\\data\\my_secrets.yaml…\n"
     ]
    },
    {
     "data": {
      "application/vnd.jupyter.widget-view+json": {
       "model_id": "a49b7fbb058e4bb4bde292284ef69220",
       "version_major": 2,
       "version_minor": 0
      },
      "text/plain": [
       "Output()"
      ]
     },
     "metadata": {},
     "output_type": "display_data"
    },
    {
     "data": {
      "text/html": [
       "<pre style=\"white-space:pre;overflow-x:auto;line-height:normal;font-family:Menlo,'DejaVu Sans Mono',consolas,'Courier New',monospace\"></pre>\n"
      ],
      "text/plain": []
     },
     "metadata": {},
     "output_type": "display_data"
    },
    {
     "data": {
      "text/html": [
       "<pre style=\"white-space:pre;overflow-x:auto;line-height:normal;font-family:Menlo,'DejaVu Sans Mono',consolas,'Courier New',monospace\">\n",
       "</pre>\n"
      ],
      "text/plain": [
       "\n"
      ]
     },
     "metadata": {},
     "output_type": "display_data"
    },
    {
     "name": "stdout",
     "output_type": "stream",
     "text": [
      "Reading secret from C:\\Users\\david\\Documents\\GitHub\\ds-network-analysis\\data\\my_secrets.yaml…\n"
     ]
    },
    {
     "data": {
      "application/vnd.jupyter.widget-view+json": {
       "model_id": "e76fb76d576f426bb7d7a457191454ff",
       "version_major": 2,
       "version_minor": 0
      },
      "text/plain": [
       "Output()"
      ]
     },
     "metadata": {},
     "output_type": "display_data"
    },
    {
     "data": {
      "text/html": [
       "<pre style=\"white-space:pre;overflow-x:auto;line-height:normal;font-family:Menlo,'DejaVu Sans Mono',consolas,'Courier New',monospace\"></pre>\n"
      ],
      "text/plain": []
     },
     "metadata": {},
     "output_type": "display_data"
    },
    {
     "data": {
      "text/html": [
       "<pre style=\"white-space:pre;overflow-x:auto;line-height:normal;font-family:Menlo,'DejaVu Sans Mono',consolas,'Courier New',monospace\">\n",
       "</pre>\n"
      ],
      "text/plain": [
       "\n"
      ]
     },
     "metadata": {},
     "output_type": "display_data"
    },
    {
     "name": "stdout",
     "output_type": "stream",
     "text": [
      "Reading secret from C:\\Users\\david\\Documents\\GitHub\\ds-network-analysis\\data\\my_secrets.yaml…\n"
     ]
    },
    {
     "data": {
      "application/vnd.jupyter.widget-view+json": {
       "model_id": "bd4eb2f558644fc0ad89483f36fe47f5",
       "version_major": 2,
       "version_minor": 0
      },
      "text/plain": [
       "Output()"
      ]
     },
     "metadata": {},
     "output_type": "display_data"
    },
    {
     "data": {
      "text/html": [
       "<pre style=\"white-space:pre;overflow-x:auto;line-height:normal;font-family:Menlo,'DejaVu Sans Mono',consolas,'Courier New',monospace\"></pre>\n"
      ],
      "text/plain": []
     },
     "metadata": {},
     "output_type": "display_data"
    },
    {
     "data": {
      "text/html": [
       "<pre style=\"white-space:pre;overflow-x:auto;line-height:normal;font-family:Menlo,'DejaVu Sans Mono',consolas,'Courier New',monospace\">\n",
       "</pre>\n"
      ],
      "text/plain": [
       "\n"
      ]
     },
     "metadata": {},
     "output_type": "display_data"
    },
    {
     "name": "stdout",
     "output_type": "stream",
     "text": [
      "Reading secret from C:\\Users\\david\\Documents\\GitHub\\ds-network-analysis\\data\\my_secrets.yaml…\n"
     ]
    },
    {
     "data": {
      "application/vnd.jupyter.widget-view+json": {
       "model_id": "5f6e453746eb4762ba0903a147c02952",
       "version_major": 2,
       "version_minor": 0
      },
      "text/plain": [
       "Output()"
      ]
     },
     "metadata": {},
     "output_type": "display_data"
    },
    {
     "data": {
      "text/html": [
       "<pre style=\"white-space:pre;overflow-x:auto;line-height:normal;font-family:Menlo,'DejaVu Sans Mono',consolas,'Courier New',monospace\"></pre>\n"
      ],
      "text/plain": []
     },
     "metadata": {},
     "output_type": "display_data"
    },
    {
     "data": {
      "text/html": [
       "<pre style=\"white-space:pre;overflow-x:auto;line-height:normal;font-family:Menlo,'DejaVu Sans Mono',consolas,'Courier New',monospace\">\n",
       "</pre>\n"
      ],
      "text/plain": [
       "\n"
      ]
     },
     "metadata": {},
     "output_type": "display_data"
    },
    {
     "data": {
      "application/vnd.jupyter.widget-view+json": {
       "model_id": "b2dbb4fd4bad4d68b750de10689f928b",
       "version_major": 2,
       "version_minor": 0
      },
      "text/plain": [
       "Output()"
      ]
     },
     "metadata": {},
     "output_type": "display_data"
    },
    {
     "name": "stdout",
     "output_type": "stream",
     "text": [
      "Reading secret from C:\\Users\\david\\Documents\\GitHub\\ds-network-analysis\\data\\my_secrets.yaml…\n"
     ]
    },
    {
     "data": {
      "text/html": [
       "<pre style=\"white-space:pre;overflow-x:auto;line-height:normal;font-family:Menlo,'DejaVu Sans Mono',consolas,'Courier New',monospace\"></pre>\n"
      ],
      "text/plain": []
     },
     "metadata": {},
     "output_type": "display_data"
    },
    {
     "data": {
      "text/html": [
       "<pre style=\"white-space:pre;overflow-x:auto;line-height:normal;font-family:Menlo,'DejaVu Sans Mono',consolas,'Courier New',monospace\">\n",
       "</pre>\n"
      ],
      "text/plain": [
       "\n"
      ]
     },
     "metadata": {},
     "output_type": "display_data"
    },
    {
     "data": {
      "application/vnd.jupyter.widget-view+json": {
       "model_id": "61462f0e8e6c4c7cabe03e6bf460bac5",
       "version_major": 2,
       "version_minor": 0
      },
      "text/plain": [
       "Output()"
      ]
     },
     "metadata": {},
     "output_type": "display_data"
    },
    {
     "name": "stdout",
     "output_type": "stream",
     "text": [
      "Reading secret from C:\\Users\\david\\Documents\\GitHub\\ds-network-analysis\\data\\my_secrets.yaml…\n"
     ]
    },
    {
     "data": {
      "text/html": [
       "<pre style=\"white-space:pre;overflow-x:auto;line-height:normal;font-family:Menlo,'DejaVu Sans Mono',consolas,'Courier New',monospace\"></pre>\n"
      ],
      "text/plain": []
     },
     "metadata": {},
     "output_type": "display_data"
    },
    {
     "data": {
      "text/html": [
       "<pre style=\"white-space:pre;overflow-x:auto;line-height:normal;font-family:Menlo,'DejaVu Sans Mono',consolas,'Courier New',monospace\">\n",
       "</pre>\n"
      ],
      "text/plain": [
       "\n"
      ]
     },
     "metadata": {},
     "output_type": "display_data"
    },
    {
     "name": "stdout",
     "output_type": "stream",
     "text": [
      "Reading secret from C:\\Users\\david\\Documents\\GitHub\\ds-network-analysis\\data\\my_secrets.yaml…\n"
     ]
    },
    {
     "data": {
      "application/vnd.jupyter.widget-view+json": {
       "model_id": "5bb2713025aa4b2cbb39ed44acd3807c",
       "version_major": 2,
       "version_minor": 0
      },
      "text/plain": [
       "Output()"
      ]
     },
     "metadata": {},
     "output_type": "display_data"
    },
    {
     "data": {
      "text/html": [
       "<pre style=\"white-space:pre;overflow-x:auto;line-height:normal;font-family:Menlo,'DejaVu Sans Mono',consolas,'Courier New',monospace\"></pre>\n"
      ],
      "text/plain": []
     },
     "metadata": {},
     "output_type": "display_data"
    },
    {
     "data": {
      "text/html": [
       "<pre style=\"white-space:pre;overflow-x:auto;line-height:normal;font-family:Menlo,'DejaVu Sans Mono',consolas,'Courier New',monospace\">\n",
       "</pre>\n"
      ],
      "text/plain": [
       "\n"
      ]
     },
     "metadata": {},
     "output_type": "display_data"
    },
    {
     "name": "stdout",
     "output_type": "stream",
     "text": [
      "Reading secret from C:\\Users\\david\\Documents\\GitHub\\ds-network-analysis\\data\\my_secrets.yaml…\n"
     ]
    },
    {
     "data": {
      "application/vnd.jupyter.widget-view+json": {
       "model_id": "288515b788c6452aaec97414599de603",
       "version_major": 2,
       "version_minor": 0
      },
      "text/plain": [
       "Output()"
      ]
     },
     "metadata": {},
     "output_type": "display_data"
    },
    {
     "data": {
      "text/html": [
       "<pre style=\"white-space:pre;overflow-x:auto;line-height:normal;font-family:Menlo,'DejaVu Sans Mono',consolas,'Courier New',monospace\"></pre>\n"
      ],
      "text/plain": []
     },
     "metadata": {},
     "output_type": "display_data"
    },
    {
     "data": {
      "text/html": [
       "<pre style=\"white-space:pre;overflow-x:auto;line-height:normal;font-family:Menlo,'DejaVu Sans Mono',consolas,'Courier New',monospace\">\n",
       "</pre>\n"
      ],
      "text/plain": [
       "\n"
      ]
     },
     "metadata": {},
     "output_type": "display_data"
    },
    {
     "data": {
      "application/vnd.jupyter.widget-view+json": {
       "model_id": "fe7dd915e58f4dfea5e7bb7d350d31b0",
       "version_major": 2,
       "version_minor": 0
      },
      "text/plain": [
       "Output()"
      ]
     },
     "metadata": {},
     "output_type": "display_data"
    },
    {
     "name": "stdout",
     "output_type": "stream",
     "text": [
      "Reading secret from C:\\Users\\david\\Documents\\GitHub\\ds-network-analysis\\data\\my_secrets.yaml…\n"
     ]
    },
    {
     "data": {
      "text/html": [
       "<pre style=\"white-space:pre;overflow-x:auto;line-height:normal;font-family:Menlo,'DejaVu Sans Mono',consolas,'Courier New',monospace\"></pre>\n"
      ],
      "text/plain": []
     },
     "metadata": {},
     "output_type": "display_data"
    },
    {
     "data": {
      "text/html": [
       "<pre style=\"white-space:pre;overflow-x:auto;line-height:normal;font-family:Menlo,'DejaVu Sans Mono',consolas,'Courier New',monospace\">\n",
       "</pre>\n"
      ],
      "text/plain": [
       "\n"
      ]
     },
     "metadata": {},
     "output_type": "display_data"
    },
    {
     "data": {
      "application/vnd.jupyter.widget-view+json": {
       "model_id": "6763643ec4b04c959557aa14ddd68e9a",
       "version_major": 2,
       "version_minor": 0
      },
      "text/plain": [
       "Output()"
      ]
     },
     "metadata": {},
     "output_type": "display_data"
    },
    {
     "name": "stdout",
     "output_type": "stream",
     "text": [
      "Reading secret from C:\\Users\\david\\Documents\\GitHub\\ds-network-analysis\\data\\my_secrets.yaml…\n"
     ]
    },
    {
     "data": {
      "text/html": [
       "<pre style=\"white-space:pre;overflow-x:auto;line-height:normal;font-family:Menlo,'DejaVu Sans Mono',consolas,'Courier New',monospace\"></pre>\n"
      ],
      "text/plain": []
     },
     "metadata": {},
     "output_type": "display_data"
    },
    {
     "data": {
      "text/html": [
       "<pre style=\"white-space:pre;overflow-x:auto;line-height:normal;font-family:Menlo,'DejaVu Sans Mono',consolas,'Courier New',monospace\">\n",
       "</pre>\n"
      ],
      "text/plain": [
       "\n"
      ]
     },
     "metadata": {},
     "output_type": "display_data"
    },
    {
     "data": {
      "application/vnd.jupyter.widget-view+json": {
       "model_id": "230cfab9ac39453283c5f5d6e45dd27e",
       "version_major": 2,
       "version_minor": 0
      },
      "text/plain": [
       "Output()"
      ]
     },
     "metadata": {},
     "output_type": "display_data"
    },
    {
     "name": "stdout",
     "output_type": "stream",
     "text": [
      "Reading secret from C:\\Users\\david\\Documents\\GitHub\\ds-network-analysis\\data\\my_secrets.yaml…\n"
     ]
    },
    {
     "data": {
      "text/html": [
       "<pre style=\"white-space:pre;overflow-x:auto;line-height:normal;font-family:Menlo,'DejaVu Sans Mono',consolas,'Courier New',monospace\"></pre>\n"
      ],
      "text/plain": []
     },
     "metadata": {},
     "output_type": "display_data"
    },
    {
     "data": {
      "text/html": [
       "<pre style=\"white-space:pre;overflow-x:auto;line-height:normal;font-family:Menlo,'DejaVu Sans Mono',consolas,'Courier New',monospace\">\n",
       "</pre>\n"
      ],
      "text/plain": [
       "\n"
      ]
     },
     "metadata": {},
     "output_type": "display_data"
    },
    {
     "data": {
      "application/vnd.jupyter.widget-view+json": {
       "model_id": "7e179dcad2e9472589a262274574500a",
       "version_major": 2,
       "version_minor": 0
      },
      "text/plain": [
       "Output()"
      ]
     },
     "metadata": {},
     "output_type": "display_data"
    },
    {
     "name": "stdout",
     "output_type": "stream",
     "text": [
      "Reading secret from C:\\Users\\david\\Documents\\GitHub\\ds-network-analysis\\data\\my_secrets.yaml…\n"
     ]
    },
    {
     "data": {
      "text/html": [
       "<pre style=\"white-space:pre;overflow-x:auto;line-height:normal;font-family:Menlo,'DejaVu Sans Mono',consolas,'Courier New',monospace\"></pre>\n"
      ],
      "text/plain": []
     },
     "metadata": {},
     "output_type": "display_data"
    },
    {
     "data": {
      "text/html": [
       "<pre style=\"white-space:pre;overflow-x:auto;line-height:normal;font-family:Menlo,'DejaVu Sans Mono',consolas,'Courier New',monospace\">\n",
       "</pre>\n"
      ],
      "text/plain": [
       "\n"
      ]
     },
     "metadata": {},
     "output_type": "display_data"
    },
    {
     "data": {
      "application/vnd.jupyter.widget-view+json": {
       "model_id": "6f7148a2a55d4bbfa7fa973b346b09db",
       "version_major": 2,
       "version_minor": 0
      },
      "text/plain": [
       "Output()"
      ]
     },
     "metadata": {},
     "output_type": "display_data"
    },
    {
     "name": "stdout",
     "output_type": "stream",
     "text": [
      "Reading secret from C:\\Users\\david\\Documents\\GitHub\\ds-network-analysis\\data\\my_secrets.yaml…\n"
     ]
    },
    {
     "data": {
      "text/html": [
       "<pre style=\"white-space:pre;overflow-x:auto;line-height:normal;font-family:Menlo,'DejaVu Sans Mono',consolas,'Courier New',monospace\"></pre>\n"
      ],
      "text/plain": []
     },
     "metadata": {},
     "output_type": "display_data"
    },
    {
     "data": {
      "text/html": [
       "<pre style=\"white-space:pre;overflow-x:auto;line-height:normal;font-family:Menlo,'DejaVu Sans Mono',consolas,'Courier New',monospace\">\n",
       "</pre>\n"
      ],
      "text/plain": [
       "\n"
      ]
     },
     "metadata": {},
     "output_type": "display_data"
    },
    {
     "data": {
      "application/vnd.jupyter.widget-view+json": {
       "model_id": "a033d8571d9f4a7aa8c4a61965b7eaf6",
       "version_major": 2,
       "version_minor": 0
      },
      "text/plain": [
       "Output()"
      ]
     },
     "metadata": {},
     "output_type": "display_data"
    },
    {
     "name": "stdout",
     "output_type": "stream",
     "text": [
      "Reading secret from C:\\Users\\david\\Documents\\GitHub\\ds-network-analysis\\data\\my_secrets.yaml…\n"
     ]
    },
    {
     "data": {
      "text/html": [
       "<pre style=\"white-space:pre;overflow-x:auto;line-height:normal;font-family:Menlo,'DejaVu Sans Mono',consolas,'Courier New',monospace\"></pre>\n"
      ],
      "text/plain": []
     },
     "metadata": {},
     "output_type": "display_data"
    },
    {
     "data": {
      "text/html": [
       "<pre style=\"white-space:pre;overflow-x:auto;line-height:normal;font-family:Menlo,'DejaVu Sans Mono',consolas,'Courier New',monospace\">\n",
       "</pre>\n"
      ],
      "text/plain": [
       "\n"
      ]
     },
     "metadata": {},
     "output_type": "display_data"
    },
    {
     "data": {
      "application/vnd.jupyter.widget-view+json": {
       "model_id": "da845ed30dd7401a895aa028c38263a4",
       "version_major": 2,
       "version_minor": 0
      },
      "text/plain": [
       "Output()"
      ]
     },
     "metadata": {},
     "output_type": "display_data"
    },
    {
     "name": "stdout",
     "output_type": "stream",
     "text": [
      "Reading secret from C:\\Users\\david\\Documents\\GitHub\\ds-network-analysis\\data\\my_secrets.yaml…\n"
     ]
    },
    {
     "data": {
      "text/html": [
       "<pre style=\"white-space:pre;overflow-x:auto;line-height:normal;font-family:Menlo,'DejaVu Sans Mono',consolas,'Courier New',monospace\"></pre>\n"
      ],
      "text/plain": []
     },
     "metadata": {},
     "output_type": "display_data"
    },
    {
     "data": {
      "text/html": [
       "<pre style=\"white-space:pre;overflow-x:auto;line-height:normal;font-family:Menlo,'DejaVu Sans Mono',consolas,'Courier New',monospace\">\n",
       "</pre>\n"
      ],
      "text/plain": [
       "\n"
      ]
     },
     "metadata": {},
     "output_type": "display_data"
    },
    {
     "data": {
      "application/vnd.jupyter.widget-view+json": {
       "model_id": "648764d3e1f74ee28daf0e6e19854169",
       "version_major": 2,
       "version_minor": 0
      },
      "text/plain": [
       "Output()"
      ]
     },
     "metadata": {},
     "output_type": "display_data"
    },
    {
     "name": "stdout",
     "output_type": "stream",
     "text": [
      "Reading secret from C:\\Users\\david\\Documents\\GitHub\\ds-network-analysis\\data\\my_secrets.yaml…\n"
     ]
    },
    {
     "data": {
      "text/html": [
       "<pre style=\"white-space:pre;overflow-x:auto;line-height:normal;font-family:Menlo,'DejaVu Sans Mono',consolas,'Courier New',monospace\"></pre>\n"
      ],
      "text/plain": []
     },
     "metadata": {},
     "output_type": "display_data"
    },
    {
     "data": {
      "text/html": [
       "<pre style=\"white-space:pre;overflow-x:auto;line-height:normal;font-family:Menlo,'DejaVu Sans Mono',consolas,'Courier New',monospace\">\n",
       "</pre>\n"
      ],
      "text/plain": [
       "\n"
      ]
     },
     "metadata": {},
     "output_type": "display_data"
    },
    {
     "data": {
      "application/vnd.jupyter.widget-view+json": {
       "model_id": "a9e5e75ee64044de800c71e083d41d84",
       "version_major": 2,
       "version_minor": 0
      },
      "text/plain": [
       "Output()"
      ]
     },
     "metadata": {},
     "output_type": "display_data"
    },
    {
     "name": "stdout",
     "output_type": "stream",
     "text": [
      "Reading secret from C:\\Users\\david\\Documents\\GitHub\\ds-network-analysis\\data\\my_secrets.yaml…\n"
     ]
    },
    {
     "data": {
      "text/html": [
       "<pre style=\"white-space:pre;overflow-x:auto;line-height:normal;font-family:Menlo,'DejaVu Sans Mono',consolas,'Courier New',monospace\"></pre>\n"
      ],
      "text/plain": []
     },
     "metadata": {},
     "output_type": "display_data"
    },
    {
     "data": {
      "text/html": [
       "<pre style=\"white-space:pre;overflow-x:auto;line-height:normal;font-family:Menlo,'DejaVu Sans Mono',consolas,'Courier New',monospace\">\n",
       "</pre>\n"
      ],
      "text/plain": [
       "\n"
      ]
     },
     "metadata": {},
     "output_type": "display_data"
    },
    {
     "data": {
      "application/vnd.jupyter.widget-view+json": {
       "model_id": "e19c13efbb7447e19ebf397cdac7e940",
       "version_major": 2,
       "version_minor": 0
      },
      "text/plain": [
       "Output()"
      ]
     },
     "metadata": {},
     "output_type": "display_data"
    },
    {
     "name": "stdout",
     "output_type": "stream",
     "text": [
      "Reading secret from C:\\Users\\david\\Documents\\GitHub\\ds-network-analysis\\data\\my_secrets.yaml…\n"
     ]
    },
    {
     "data": {
      "text/html": [
       "<pre style=\"white-space:pre;overflow-x:auto;line-height:normal;font-family:Menlo,'DejaVu Sans Mono',consolas,'Courier New',monospace\"></pre>\n"
      ],
      "text/plain": []
     },
     "metadata": {},
     "output_type": "display_data"
    },
    {
     "data": {
      "text/html": [
       "<pre style=\"white-space:pre;overflow-x:auto;line-height:normal;font-family:Menlo,'DejaVu Sans Mono',consolas,'Courier New',monospace\">\n",
       "</pre>\n"
      ],
      "text/plain": [
       "\n"
      ]
     },
     "metadata": {},
     "output_type": "display_data"
    },
    {
     "data": {
      "application/vnd.jupyter.widget-view+json": {
       "model_id": "b47f6049aa884c16a53cc80c3ae48c8d",
       "version_major": 2,
       "version_minor": 0
      },
      "text/plain": [
       "Output()"
      ]
     },
     "metadata": {},
     "output_type": "display_data"
    },
    {
     "name": "stdout",
     "output_type": "stream",
     "text": [
      "Reading secret from C:\\Users\\david\\Documents\\GitHub\\ds-network-analysis\\data\\my_secrets.yaml…\n"
     ]
    },
    {
     "data": {
      "text/html": [
       "<pre style=\"white-space:pre;overflow-x:auto;line-height:normal;font-family:Menlo,'DejaVu Sans Mono',consolas,'Courier New',monospace\"></pre>\n"
      ],
      "text/plain": []
     },
     "metadata": {},
     "output_type": "display_data"
    },
    {
     "data": {
      "text/html": [
       "<pre style=\"white-space:pre;overflow-x:auto;line-height:normal;font-family:Menlo,'DejaVu Sans Mono',consolas,'Courier New',monospace\">\n",
       "</pre>\n"
      ],
      "text/plain": [
       "\n"
      ]
     },
     "metadata": {},
     "output_type": "display_data"
    },
    {
     "data": {
      "application/vnd.jupyter.widget-view+json": {
       "model_id": "0438a2f28cbc444196097b28d1e32fd4",
       "version_major": 2,
       "version_minor": 0
      },
      "text/plain": [
       "Output()"
      ]
     },
     "metadata": {},
     "output_type": "display_data"
    },
    {
     "name": "stdout",
     "output_type": "stream",
     "text": [
      "Reading secret from C:\\Users\\david\\Documents\\GitHub\\ds-network-analysis\\data\\my_secrets.yaml…\n"
     ]
    },
    {
     "data": {
      "text/html": [
       "<pre style=\"white-space:pre;overflow-x:auto;line-height:normal;font-family:Menlo,'DejaVu Sans Mono',consolas,'Courier New',monospace\"></pre>\n"
      ],
      "text/plain": []
     },
     "metadata": {},
     "output_type": "display_data"
    },
    {
     "data": {
      "text/html": [
       "<pre style=\"white-space:pre;overflow-x:auto;line-height:normal;font-family:Menlo,'DejaVu Sans Mono',consolas,'Courier New',monospace\">\n",
       "</pre>\n"
      ],
      "text/plain": [
       "\n"
      ]
     },
     "metadata": {},
     "output_type": "display_data"
    },
    {
     "data": {
      "application/vnd.jupyter.widget-view+json": {
       "model_id": "c912184e0f704c098f19db3588988e56",
       "version_major": 2,
       "version_minor": 0
      },
      "text/plain": [
       "Output()"
      ]
     },
     "metadata": {},
     "output_type": "display_data"
    },
    {
     "name": "stdout",
     "output_type": "stream",
     "text": [
      "Reading secret from C:\\Users\\david\\Documents\\GitHub\\ds-network-analysis\\data\\my_secrets.yaml…\n"
     ]
    },
    {
     "data": {
      "text/html": [
       "<pre style=\"white-space:pre;overflow-x:auto;line-height:normal;font-family:Menlo,'DejaVu Sans Mono',consolas,'Courier New',monospace\"></pre>\n"
      ],
      "text/plain": []
     },
     "metadata": {},
     "output_type": "display_data"
    },
    {
     "data": {
      "text/html": [
       "<pre style=\"white-space:pre;overflow-x:auto;line-height:normal;font-family:Menlo,'DejaVu Sans Mono',consolas,'Courier New',monospace\">\n",
       "</pre>\n"
      ],
      "text/plain": [
       "\n"
      ]
     },
     "metadata": {},
     "output_type": "display_data"
    },
    {
     "data": {
      "application/vnd.jupyter.widget-view+json": {
       "model_id": "31b5f24dc8ad4b4dbcf85d89df9296b2",
       "version_major": 2,
       "version_minor": 0
      },
      "text/plain": [
       "Output()"
      ]
     },
     "metadata": {},
     "output_type": "display_data"
    },
    {
     "name": "stdout",
     "output_type": "stream",
     "text": [
      "Reading secret from C:\\Users\\david\\Documents\\GitHub\\ds-network-analysis\\data\\my_secrets.yaml…\n"
     ]
    },
    {
     "data": {
      "text/html": [
       "<pre style=\"white-space:pre;overflow-x:auto;line-height:normal;font-family:Menlo,'DejaVu Sans Mono',consolas,'Courier New',monospace\"></pre>\n"
      ],
      "text/plain": []
     },
     "metadata": {},
     "output_type": "display_data"
    },
    {
     "data": {
      "text/html": [
       "<pre style=\"white-space:pre;overflow-x:auto;line-height:normal;font-family:Menlo,'DejaVu Sans Mono',consolas,'Courier New',monospace\">\n",
       "</pre>\n"
      ],
      "text/plain": [
       "\n"
      ]
     },
     "metadata": {},
     "output_type": "display_data"
    },
    {
     "data": {
      "application/vnd.jupyter.widget-view+json": {
       "model_id": "6a1908e825ae449a80ee48a1c57ef56f",
       "version_major": 2,
       "version_minor": 0
      },
      "text/plain": [
       "Output()"
      ]
     },
     "metadata": {},
     "output_type": "display_data"
    },
    {
     "name": "stdout",
     "output_type": "stream",
     "text": [
      "Reading secret from C:\\Users\\david\\Documents\\GitHub\\ds-network-analysis\\data\\my_secrets.yaml…\n"
     ]
    },
    {
     "data": {
      "text/html": [
       "<pre style=\"white-space:pre;overflow-x:auto;line-height:normal;font-family:Menlo,'DejaVu Sans Mono',consolas,'Courier New',monospace\"></pre>\n"
      ],
      "text/plain": []
     },
     "metadata": {},
     "output_type": "display_data"
    },
    {
     "data": {
      "text/html": [
       "<pre style=\"white-space:pre;overflow-x:auto;line-height:normal;font-family:Menlo,'DejaVu Sans Mono',consolas,'Courier New',monospace\">\n",
       "</pre>\n"
      ],
      "text/plain": [
       "\n"
      ]
     },
     "metadata": {},
     "output_type": "display_data"
    },
    {
     "data": {
      "application/vnd.jupyter.widget-view+json": {
       "model_id": "28f7072852574e0d9af52f7da4363f60",
       "version_major": 2,
       "version_minor": 0
      },
      "text/plain": [
       "Output()"
      ]
     },
     "metadata": {},
     "output_type": "display_data"
    },
    {
     "name": "stdout",
     "output_type": "stream",
     "text": [
      "Reading secret from C:\\Users\\david\\Documents\\GitHub\\ds-network-analysis\\data\\my_secrets.yaml…\n"
     ]
    },
    {
     "data": {
      "text/html": [
       "<pre style=\"white-space:pre;overflow-x:auto;line-height:normal;font-family:Menlo,'DejaVu Sans Mono',consolas,'Courier New',monospace\"></pre>\n"
      ],
      "text/plain": []
     },
     "metadata": {},
     "output_type": "display_data"
    },
    {
     "data": {
      "text/html": [
       "<pre style=\"white-space:pre;overflow-x:auto;line-height:normal;font-family:Menlo,'DejaVu Sans Mono',consolas,'Courier New',monospace\">\n",
       "</pre>\n"
      ],
      "text/plain": [
       "\n"
      ]
     },
     "metadata": {},
     "output_type": "display_data"
    },
    {
     "name": "stdout",
     "output_type": "stream",
     "text": [
      "Reading secret from C:\\Users\\david\\Documents\\GitHub\\ds-network-analysis\\data\\my_secrets.yaml…\n"
     ]
    },
    {
     "data": {
      "application/vnd.jupyter.widget-view+json": {
       "model_id": "5422df3fcb9c4c7b9bed2c82d2b1fb50",
       "version_major": 2,
       "version_minor": 0
      },
      "text/plain": [
       "Output()"
      ]
     },
     "metadata": {},
     "output_type": "display_data"
    },
    {
     "data": {
      "text/html": [
       "<pre style=\"white-space:pre;overflow-x:auto;line-height:normal;font-family:Menlo,'DejaVu Sans Mono',consolas,'Courier New',monospace\"></pre>\n"
      ],
      "text/plain": []
     },
     "metadata": {},
     "output_type": "display_data"
    },
    {
     "data": {
      "text/html": [
       "<pre style=\"white-space:pre;overflow-x:auto;line-height:normal;font-family:Menlo,'DejaVu Sans Mono',consolas,'Courier New',monospace\">\n",
       "</pre>\n"
      ],
      "text/plain": [
       "\n"
      ]
     },
     "metadata": {},
     "output_type": "display_data"
    },
    {
     "data": {
      "application/vnd.jupyter.widget-view+json": {
       "model_id": "f79b37e4610a4259ab977912d7ed6fea",
       "version_major": 2,
       "version_minor": 0
      },
      "text/plain": [
       "Output()"
      ]
     },
     "metadata": {},
     "output_type": "display_data"
    },
    {
     "name": "stdout",
     "output_type": "stream",
     "text": [
      "Reading secret from C:\\Users\\david\\Documents\\GitHub\\ds-network-analysis\\data\\my_secrets.yaml…\n"
     ]
    },
    {
     "data": {
      "text/html": [
       "<pre style=\"white-space:pre;overflow-x:auto;line-height:normal;font-family:Menlo,'DejaVu Sans Mono',consolas,'Courier New',monospace\"></pre>\n"
      ],
      "text/plain": []
     },
     "metadata": {},
     "output_type": "display_data"
    },
    {
     "data": {
      "text/html": [
       "<pre style=\"white-space:pre;overflow-x:auto;line-height:normal;font-family:Menlo,'DejaVu Sans Mono',consolas,'Courier New',monospace\">\n",
       "</pre>\n"
      ],
      "text/plain": [
       "\n"
      ]
     },
     "metadata": {},
     "output_type": "display_data"
    },
    {
     "data": {
      "application/vnd.jupyter.widget-view+json": {
       "model_id": "a4b47e330c7543f08f23aef16c03ae8c",
       "version_major": 2,
       "version_minor": 0
      },
      "text/plain": [
       "Output()"
      ]
     },
     "metadata": {},
     "output_type": "display_data"
    },
    {
     "name": "stdout",
     "output_type": "stream",
     "text": [
      "Reading secret from C:\\Users\\david\\Documents\\GitHub\\ds-network-analysis\\data\\my_secrets.yaml…\n"
     ]
    },
    {
     "data": {
      "text/html": [
       "<pre style=\"white-space:pre;overflow-x:auto;line-height:normal;font-family:Menlo,'DejaVu Sans Mono',consolas,'Courier New',monospace\"></pre>\n"
      ],
      "text/plain": []
     },
     "metadata": {},
     "output_type": "display_data"
    },
    {
     "data": {
      "text/html": [
       "<pre style=\"white-space:pre;overflow-x:auto;line-height:normal;font-family:Menlo,'DejaVu Sans Mono',consolas,'Courier New',monospace\">\n",
       "</pre>\n"
      ],
      "text/plain": [
       "\n"
      ]
     },
     "metadata": {},
     "output_type": "display_data"
    },
    {
     "data": {
      "application/vnd.jupyter.widget-view+json": {
       "model_id": "06693adf373b435199b9de217a82518b",
       "version_major": 2,
       "version_minor": 0
      },
      "text/plain": [
       "Output()"
      ]
     },
     "metadata": {},
     "output_type": "display_data"
    },
    {
     "name": "stdout",
     "output_type": "stream",
     "text": [
      "Reading secret from C:\\Users\\david\\Documents\\GitHub\\ds-network-analysis\\data\\my_secrets.yaml…\n"
     ]
    },
    {
     "data": {
      "text/html": [
       "<pre style=\"white-space:pre;overflow-x:auto;line-height:normal;font-family:Menlo,'DejaVu Sans Mono',consolas,'Courier New',monospace\"></pre>\n"
      ],
      "text/plain": []
     },
     "metadata": {},
     "output_type": "display_data"
    },
    {
     "data": {
      "text/html": [
       "<pre style=\"white-space:pre;overflow-x:auto;line-height:normal;font-family:Menlo,'DejaVu Sans Mono',consolas,'Courier New',monospace\">\n",
       "</pre>\n"
      ],
      "text/plain": [
       "\n"
      ]
     },
     "metadata": {},
     "output_type": "display_data"
    },
    {
     "data": {
      "application/vnd.jupyter.widget-view+json": {
       "model_id": "9120c8c9b2574eba9546fcb9ff6a418d",
       "version_major": 2,
       "version_minor": 0
      },
      "text/plain": [
       "Output()"
      ]
     },
     "metadata": {},
     "output_type": "display_data"
    },
    {
     "name": "stdout",
     "output_type": "stream",
     "text": [
      "Reading secret from C:\\Users\\david\\Documents\\GitHub\\ds-network-analysis\\data\\my_secrets.yaml…\n"
     ]
    },
    {
     "data": {
      "text/html": [
       "<pre style=\"white-space:pre;overflow-x:auto;line-height:normal;font-family:Menlo,'DejaVu Sans Mono',consolas,'Courier New',monospace\"></pre>\n"
      ],
      "text/plain": []
     },
     "metadata": {},
     "output_type": "display_data"
    },
    {
     "data": {
      "text/html": [
       "<pre style=\"white-space:pre;overflow-x:auto;line-height:normal;font-family:Menlo,'DejaVu Sans Mono',consolas,'Courier New',monospace\">\n",
       "</pre>\n"
      ],
      "text/plain": [
       "\n"
      ]
     },
     "metadata": {},
     "output_type": "display_data"
    },
    {
     "data": {
      "application/vnd.jupyter.widget-view+json": {
       "model_id": "06975d9d51204677968b64afa12cb500",
       "version_major": 2,
       "version_minor": 0
      },
      "text/plain": [
       "Output()"
      ]
     },
     "metadata": {},
     "output_type": "display_data"
    },
    {
     "name": "stdout",
     "output_type": "stream",
     "text": [
      "Reading secret from C:\\Users\\david\\Documents\\GitHub\\ds-network-analysis\\data\\my_secrets.yaml…\n"
     ]
    },
    {
     "data": {
      "text/html": [
       "<pre style=\"white-space:pre;overflow-x:auto;line-height:normal;font-family:Menlo,'DejaVu Sans Mono',consolas,'Courier New',monospace\"></pre>\n"
      ],
      "text/plain": []
     },
     "metadata": {},
     "output_type": "display_data"
    },
    {
     "data": {
      "text/html": [
       "<pre style=\"white-space:pre;overflow-x:auto;line-height:normal;font-family:Menlo,'DejaVu Sans Mono',consolas,'Courier New',monospace\">\n",
       "</pre>\n"
      ],
      "text/plain": [
       "\n"
      ]
     },
     "metadata": {},
     "output_type": "display_data"
    },
    {
     "data": {
      "application/vnd.jupyter.widget-view+json": {
       "model_id": "0aae83ada11142c4bf1f8ef77135b38a",
       "version_major": 2,
       "version_minor": 0
      },
      "text/plain": [
       "Output()"
      ]
     },
     "metadata": {},
     "output_type": "display_data"
    },
    {
     "name": "stdout",
     "output_type": "stream",
     "text": [
      "Reading secret from C:\\Users\\david\\Documents\\GitHub\\ds-network-analysis\\data\\my_secrets.yaml…\n"
     ]
    },
    {
     "data": {
      "text/html": [
       "<pre style=\"white-space:pre;overflow-x:auto;line-height:normal;font-family:Menlo,'DejaVu Sans Mono',consolas,'Courier New',monospace\"></pre>\n"
      ],
      "text/plain": []
     },
     "metadata": {},
     "output_type": "display_data"
    },
    {
     "data": {
      "text/html": [
       "<pre style=\"white-space:pre;overflow-x:auto;line-height:normal;font-family:Menlo,'DejaVu Sans Mono',consolas,'Courier New',monospace\">\n",
       "</pre>\n"
      ],
      "text/plain": [
       "\n"
      ]
     },
     "metadata": {},
     "output_type": "display_data"
    },
    {
     "name": "stdout",
     "output_type": "stream",
     "text": [
      "Reading secret from C:\\Users\\david\\Documents\\GitHub\\ds-network-analysis\\data\\my_secrets.yaml…\n"
     ]
    },
    {
     "data": {
      "application/vnd.jupyter.widget-view+json": {
       "model_id": "48a4f7e4f3e44f43b87c0b95cb57a82e",
       "version_major": 2,
       "version_minor": 0
      },
      "text/plain": [
       "Output()"
      ]
     },
     "metadata": {},
     "output_type": "display_data"
    },
    {
     "data": {
      "text/html": [
       "<pre style=\"white-space:pre;overflow-x:auto;line-height:normal;font-family:Menlo,'DejaVu Sans Mono',consolas,'Courier New',monospace\"></pre>\n"
      ],
      "text/plain": []
     },
     "metadata": {},
     "output_type": "display_data"
    },
    {
     "data": {
      "text/html": [
       "<pre style=\"white-space:pre;overflow-x:auto;line-height:normal;font-family:Menlo,'DejaVu Sans Mono',consolas,'Courier New',monospace\">\n",
       "</pre>\n"
      ],
      "text/plain": [
       "\n"
      ]
     },
     "metadata": {},
     "output_type": "display_data"
    },
    {
     "name": "stdout",
     "output_type": "stream",
     "text": [
      "Reading secret from C:\\Users\\david\\Documents\\GitHub\\ds-network-analysis\\data\\my_secrets.yaml…\n"
     ]
    },
    {
     "data": {
      "application/vnd.jupyter.widget-view+json": {
       "model_id": "1e9ca429f6d64e748a6a36493b7b9fe8",
       "version_major": 2,
       "version_minor": 0
      },
      "text/plain": [
       "Output()"
      ]
     },
     "metadata": {},
     "output_type": "display_data"
    },
    {
     "data": {
      "text/html": [
       "<pre style=\"white-space:pre;overflow-x:auto;line-height:normal;font-family:Menlo,'DejaVu Sans Mono',consolas,'Courier New',monospace\"></pre>\n"
      ],
      "text/plain": []
     },
     "metadata": {},
     "output_type": "display_data"
    },
    {
     "data": {
      "text/html": [
       "<pre style=\"white-space:pre;overflow-x:auto;line-height:normal;font-family:Menlo,'DejaVu Sans Mono',consolas,'Courier New',monospace\">\n",
       "</pre>\n"
      ],
      "text/plain": [
       "\n"
      ]
     },
     "metadata": {},
     "output_type": "display_data"
    },
    {
     "name": "stdout",
     "output_type": "stream",
     "text": [
      "Reading secret from C:\\Users\\david\\Documents\\GitHub\\ds-network-analysis\\data\\my_secrets.yaml…\n"
     ]
    },
    {
     "data": {
      "application/vnd.jupyter.widget-view+json": {
       "model_id": "8e6f54eeb80c4f18a07f0f947edfe1a5",
       "version_major": 2,
       "version_minor": 0
      },
      "text/plain": [
       "Output()"
      ]
     },
     "metadata": {},
     "output_type": "display_data"
    },
    {
     "data": {
      "text/html": [
       "<pre style=\"white-space:pre;overflow-x:auto;line-height:normal;font-family:Menlo,'DejaVu Sans Mono',consolas,'Courier New',monospace\"></pre>\n"
      ],
      "text/plain": []
     },
     "metadata": {},
     "output_type": "display_data"
    },
    {
     "data": {
      "text/html": [
       "<pre style=\"white-space:pre;overflow-x:auto;line-height:normal;font-family:Menlo,'DejaVu Sans Mono',consolas,'Courier New',monospace\">\n",
       "</pre>\n"
      ],
      "text/plain": [
       "\n"
      ]
     },
     "metadata": {},
     "output_type": "display_data"
    },
    {
     "data": {
      "application/vnd.jupyter.widget-view+json": {
       "model_id": "b43b1b942bb243d285d1b3a6b4c605e7",
       "version_major": 2,
       "version_minor": 0
      },
      "text/plain": [
       "Output()"
      ]
     },
     "metadata": {},
     "output_type": "display_data"
    },
    {
     "name": "stdout",
     "output_type": "stream",
     "text": [
      "Reading secret from C:\\Users\\david\\Documents\\GitHub\\ds-network-analysis\\data\\my_secrets.yaml…\n"
     ]
    },
    {
     "data": {
      "text/html": [
       "<pre style=\"white-space:pre;overflow-x:auto;line-height:normal;font-family:Menlo,'DejaVu Sans Mono',consolas,'Courier New',monospace\"></pre>\n"
      ],
      "text/plain": []
     },
     "metadata": {},
     "output_type": "display_data"
    },
    {
     "data": {
      "text/html": [
       "<pre style=\"white-space:pre;overflow-x:auto;line-height:normal;font-family:Menlo,'DejaVu Sans Mono',consolas,'Courier New',monospace\">\n",
       "</pre>\n"
      ],
      "text/plain": [
       "\n"
      ]
     },
     "metadata": {},
     "output_type": "display_data"
    }
   ],
   "source": [
    "hashtag_for_user={}\n",
    "for e in user_id:\n",
    "    u=UserETL(e,pages=1)\n",
    "    hashtag_for_user[e]=u.df[\"entities.hashtags\"]"
   ]
  },
  {
   "cell_type": "code",
   "execution_count": 10,
   "metadata": {
    "scrolled": true
   },
   "outputs": [
    {
     "name": "stdout",
     "output_type": "stream",
     "text": [
      "{'1223469869972115463': 0                                                   NaN\n",
      "1     [{\"start\": 21, \"end\": 33, \"tag\": \"TheOwlHouse\"...\n",
      "2     [{\"start\": 0, \"end\": 6, \"tag\": \"Pride\"}, {\"sta...\n",
      "3                                                   NaN\n",
      "4     [{\"start\": 55, \"end\": 69, \"tag\": \"RaineWhisper...\n",
      "                            ...                        \n",
      "95                                                  NaN\n",
      "96                                                  NaN\n",
      "97                                                  NaN\n",
      "98                                                  NaN\n",
      "99        [{\"start\": 152, \"end\": 159, \"tag\": \"Kenobi\"}]\n",
      "Name: entities.hashtags, Length: 100, dtype: object, '4853316232': 0       [{\"start\": 84, \"end\": 95, \"tag\": \"PrideMonth\"}]\n",
      "1                                                   NaN\n",
      "2                                                   NaN\n",
      "3                                                   NaN\n",
      "4                                                   NaN\n",
      "                            ...                        \n",
      "95    [{\"start\": 221, \"end\": 241, \"tag\": \"Better2get...\n",
      "96      [{\"start\": 262, \"end\": 271, \"tag\": \"KeepWell\"}]\n",
      "97                                                  NaN\n",
      "98    [{\"start\": 9, \"end\": 21, \"tag\": \"HSCPDay2022\"}...\n",
      "99    [{\"start\": 168, \"end\": 180, \"tag\": \"HSCPDay202...\n",
      "Name: entities.hashtags, Length: 100, dtype: object, '1405585333857701891': 0     [{\"start\": 48, \"end\": 58, \"tag\": \"girlgamer\"},...\n",
      "1     [{\"start\": 64, \"end\": 74, \"tag\": \"girlgamer\"},...\n",
      "2     [{\"start\": 60, \"end\": 70, \"tag\": \"girlgamer\"},...\n",
      "3     [{\"start\": 34, \"end\": 44, \"tag\": \"girlgamer\"},...\n",
      "4     [{\"start\": 75, \"end\": 85, \"tag\": \"girlgamer\"},...\n",
      "                            ...                        \n",
      "95    [{\"start\": 74, \"end\": 84, \"tag\": \"girlgamer\"},...\n",
      "96    [{\"start\": 62, \"end\": 72, \"tag\": \"girlgamer\"},...\n",
      "97    [{\"start\": 49, \"end\": 59, \"tag\": \"girlgamer\"},...\n",
      "98    [{\"start\": 42, \"end\": 52, \"tag\": \"girlgamer\"},...\n",
      "99    [{\"start\": 33, \"end\": 43, \"tag\": \"girlgamer\"},...\n",
      "Name: entities.hashtags, Length: 100, dtype: object, '863330868542279680': 0     [{\"start\": 232, \"end\": 243, \"tag\": \"Pridemonth\"}]\n",
      "1     [{\"start\": 107, \"end\": 118, \"tag\": \"Manchester...\n",
      "2                                                   NaN\n",
      "3                                                   NaN\n",
      "4     [{\"start\": 22, \"end\": 40, \"tag\": \"BeforeWeWere...\n",
      "                            ...                        \n",
      "94                                                  NaN\n",
      "95                                                  NaN\n",
      "96                                                  NaN\n",
      "97                                                  NaN\n",
      "98      [{\"start\": 14, \"end\": 25, \"tag\": \"EUROVISION\"}]\n",
      "Name: entities.hashtags, Length: 99, dtype: object, '1462148271711870976': 0                                                 NaN\n",
      "1                                                 NaN\n",
      "2     [{\"start\": 51, \"end\": 62, \"tag\": \"Eurovision\"}]\n",
      "3                                                 NaN\n",
      "4                                                 NaN\n",
      "                           ...                       \n",
      "93                                                NaN\n",
      "94                                                NaN\n",
      "95                                                NaN\n",
      "96                                                NaN\n",
      "97     [{\"start\": 9, \"end\": 20, \"tag\": \"Eurovision\"}]\n",
      "Name: entities.hashtags, Length: 98, dtype: object, '1534881540647161856': 0     [{\"start\": 65, \"end\": 69, \"tag\": \"NFT\"}, {\"sta...\n",
      "1                                                   NaN\n",
      "2     [{\"start\": 214, \"end\": 223, \"tag\": \"pumpskin\"}...\n",
      "3                                                   NaN\n",
      "4                                                   NaN\n",
      "                            ...                        \n",
      "95                                                  NaN\n",
      "96    [{\"start\": 154, \"end\": 169, \"tag\": \"SolanaGive...\n",
      "97                                                  NaN\n",
      "98    [{\"start\": 148, \"end\": 162, \"tag\": \"NFTCollect...\n",
      "99                                                  NaN\n",
      "Name: entities.hashtags, Length: 100, dtype: object, '1855850017': 0     [{\"start\": 100, \"end\": 112, \"tag\": \"HatsuneMik...\n",
      "1                                                   NaN\n",
      "2                                                   NaN\n",
      "3                                                   NaN\n",
      "4                                                   NaN\n",
      "5                                                   NaN\n",
      "6                                                   NaN\n",
      "7                                                   NaN\n",
      "8                                                   NaN\n",
      "9                                                   NaN\n",
      "10                                                  NaN\n",
      "11                                                  NaN\n",
      "12                                                  NaN\n",
      "13                                                  NaN\n",
      "14                                                  NaN\n",
      "15    [{\"start\": 3, \"end\": 6, \"tag\": \"\\u82b1\\u8b5c\"}...\n",
      "16                                                  NaN\n",
      "17                                                  NaN\n",
      "18                                                  NaN\n",
      "19                                                  NaN\n",
      "20                                                  NaN\n",
      "21    [{\"start\": 74, \"end\": 87, \"tag\": \"NIJISANJI_EN...\n",
      "22                                                  NaN\n",
      "23                                                  NaN\n",
      "24                                                  NaN\n",
      "25                                                  NaN\n",
      "Name: entities.hashtags, dtype: object, '1382711223356039182': 0                                                   NaN\n",
      "1                                                   NaN\n",
      "2     [{\"start\": 5, \"end\": 17, \"tag\": \"RapplerTalk\"}...\n",
      "3                                                   NaN\n",
      "4                                                   NaN\n",
      "                            ...                        \n",
      "92                                                  NaN\n",
      "93                                                  NaN\n",
      "94                                                  NaN\n",
      "95                                                  NaN\n",
      "96                                                  NaN\n",
      "Name: entities.hashtags, Length: 97, dtype: object, '1504639282157441024': 0    NaN\n",
      "1    NaN\n",
      "2    NaN\n",
      "3    NaN\n",
      "4    NaN\n",
      "      ..\n",
      "94   NaN\n",
      "95   NaN\n",
      "96   NaN\n",
      "97   NaN\n",
      "98   NaN\n",
      "Name: entities.hashtags, Length: 99, dtype: float64, '1503489228423979010': 0          [{\"start\": 1, \"end\": 10, \"tag\": \"GIVEAWAY\"}]\n",
      "1     [{\"start\": 9, \"end\": 15, \"tag\": \"Pride\"}, {\"st...\n",
      "2                                                   NaN\n",
      "3                                                   NaN\n",
      "4     [{\"start\": 211, \"end\": 218, \"tag\": \"gaming\"}, ...\n",
      "                            ...                        \n",
      "92    [{\"start\": 17, \"end\": 25, \"tag\": \"Russian\"}, {...\n",
      "93    [{\"start\": 75, \"end\": 103, \"tag\": \"JohnnyDeppV...\n",
      "94                                                  NaN\n",
      "95                                                  NaN\n",
      "96                                                  NaN\n",
      "Name: entities.hashtags, Length: 97, dtype: object, '1540003330142773250': 0     [{\"start\": 69, \"end\": 76, \"tag\": \"Crypto\"}, {\"...\n",
      "1     [{\"start\": 138, \"end\": 153, \"tag\": \"cryptocurr...\n",
      "2     [{\"start\": 134, \"end\": 138, \"tag\": \"NFT\"}, {\"s...\n",
      "3     [{\"start\": 15, \"end\": 19, \"tag\": \"P2E\"}, {\"sta...\n",
      "4     [{\"start\": 197, \"end\": 209, \"tag\": \"NorthDakot...\n",
      "5     [{\"start\": 50, \"end\": 64, \"tag\": \"\\u062c\\u0645...\n",
      "6     [{\"start\": 66, \"end\": 79, \"tag\": \"MilkyWayDefi...\n",
      "7                                                   NaN\n",
      "8     [{\"start\": 133, \"end\": 145, \"tag\": \"MemeContes...\n",
      "9                                                   NaN\n",
      "10                                                  NaN\n",
      "11                                                  NaN\n",
      "12    [{\"start\": 71, \"end\": 75, \"tag\": \"DAO\"}, {\"sta...\n",
      "13    [{\"start\": 211, \"end\": 225, \"tag\": \"\\u062d\\u06...\n",
      "14           [{\"start\": 0, \"end\": 8, \"tag\": \"Ecuador\"}]\n",
      "15                                                  NaN\n",
      "16    [{\"start\": 0, \"end\": 14, \"tag\": \"boerenprotest...\n",
      "17    [{\"start\": 83, \"end\": 92, \"tag\": \"Freemint\"}, ...\n",
      "18                                                  NaN\n",
      "19          [{\"start\": 23, \"end\": 30, \"tag\": \"BTCUSD\"}]\n",
      "20    [{\"start\": 0, \"end\": 4, \"tag\": \"DHO\"}, {\"start...\n",
      "21                                                  NaN\n",
      "22                                                  NaN\n",
      "23                                                  NaN\n",
      "24    [{\"start\": 24, \"end\": 44, \"tag\": \"geometriclog...\n",
      "25    [{\"start\": 43, \"end\": 61, \"tag\": \"PetrismoAsqu...\n",
      "26                                                  NaN\n",
      "27                                                  NaN\n",
      "28                                                  NaN\n",
      "29                                                  NaN\n",
      "30                                                  NaN\n",
      "31    [{\"start\": 0, \"end\": 13, \"tag\": \"YoVoyConFico\"...\n",
      "32                                                  NaN\n",
      "33                                                  NaN\n",
      "34    [{\"start\": 0, \"end\": 22, \"tag\": \"ElCandidatoUr...\n",
      "35    [{\"start\": 0, \"end\": 17, \"tag\": \"ColombiaVota2...\n",
      "36    [{\"start\": 0, \"end\": 15, \"tag\": \"FelizMiercole...\n",
      "37    [{\"start\": 66, \"end\": 84, \"tag\": \"CristalCarri...\n",
      "38    [{\"start\": 165, \"end\": 169, \"tag\": \"NFT\"}, {\"s...\n",
      "39    [{\"start\": 138, \"end\": 153, \"tag\": \"FicoPresid...\n",
      "40                                                  NaN\n",
      "41    [{\"start\": 139, \"end\": 144, \"tag\": \"Fico\"}, {\"...\n",
      "42    [{\"start\": 70, \"end\": 81, \"tag\": \"nomaspetro\"}...\n",
      "43    [{\"start\": 0, \"end\": 17, \"tag\": \"DebateObligad...\n",
      "44                                                  NaN\n",
      "45                                                  NaN\n",
      "46                                                  NaN\n",
      "47    [{\"start\": 122, \"end\": 137, \"tag\": \"cryptocurr...\n",
      "48    [{\"start\": 242, \"end\": 255, \"tag\": \"NFTCommuni...\n",
      "49    [{\"start\": 39, \"end\": 46, \"tag\": \"Kucoin\"}, {\"...\n",
      "50    [{\"start\": 222, \"end\": 233, \"tag\": \"LoseWeight...\n",
      "51    [{\"start\": 211, \"end\": 227, \"tag\": \"FreeMoneyP...\n",
      "52    [{\"start\": 70, \"end\": 82, \"tag\": \"Cleodesktop\"...\n",
      "53    [{\"start\": 13, \"end\": 17, \"tag\": \"XBC\"}, {\"sta...\n",
      "54    [{\"start\": 107, \"end\": 119, \"tag\": \"Cleodeskto...\n",
      "55                                                  NaN\n",
      "56                                                  NaN\n",
      "57                                                  NaN\n",
      "58    [{\"start\": 48, \"end\": 57, \"tag\": \"NFTDrops\"}, ...\n",
      "59    [{\"start\": 14, \"end\": 18, \"tag\": \"AMA\"}, {\"sta...\n",
      "Name: entities.hashtags, dtype: object, '1490023830038974470': 0       [{\"start\": 36, \"end\": 47, \"tag\": \"PrideMonth\"}]\n",
      "1                                                   NaN\n",
      "2                                                   NaN\n",
      "3                                                   NaN\n",
      "4                                                   NaN\n",
      "                            ...                        \n",
      "94                                                  NaN\n",
      "95                                                  NaN\n",
      "96                                                  NaN\n",
      "97                                                  NaN\n",
      "98    [{\"start\": 116, \"end\": 121, \"tag\": \"LGBT\"}, {\"...\n",
      "Name: entities.hashtags, Length: 99, dtype: object, '1026481297756180481': 0     [{\"start\": 45, \"end\": 55, \"tag\": \"diversity\"},...\n",
      "1     [{\"start\": 196, \"end\": 208, \"tag\": \"hubberlin2...\n",
      "2     [{\"start\": 209, \"end\": 218, \"tag\": \"42Berlin\"}...\n",
      "3      [{\"start\": 115, \"end\": 125, \"tag\": \"SAPBerlin\"}]\n",
      "4        [{\"start\": 61, \"end\": 71, \"tag\": \"SAPBerlin\"}]\n",
      "                            ...                        \n",
      "76                                                  NaN\n",
      "77                                                  NaN\n",
      "78     [{\"start\": 136, \"end\": 146, \"tag\": \"SAPBerlin\"}]\n",
      "79     [{\"start\": 218, \"end\": 228, \"tag\": \"SAPBerlin\"}]\n",
      "80    [{\"start\": 203, \"end\": 214, \"tag\": \"SAPBerlins\"}]\n",
      "Name: entities.hashtags, Length: 81, dtype: object, '863818700083691520': 0     [{\"start\": 117, \"end\": 125, \"tag\": \"Contest\"},...\n",
      "1     [{\"start\": 135, \"end\": 139, \"tag\": \"Tag\"}, {\"s...\n",
      "2     [{\"start\": 240, \"end\": 261, \"tag\": \"AzadiKaAmr...\n",
      "3     [{\"start\": 0, \"end\": 13, \"tag\": \"ContestAlert\"...\n",
      "4     [{\"start\": 140, \"end\": 150, \"tag\": \"PrideQuiz\"...\n",
      "                            ...                        \n",
      "95    [{\"start\": 81, \"end\": 90, \"tag\": \"POCOFans\"}, ...\n",
      "96    [{\"start\": 145, \"end\": 152, \"tag\": \"POCOF4\"}, ...\n",
      "97    [{\"start\": 73, \"end\": 89, \"tag\": \"AllTheStreng...\n",
      "98    [{\"start\": 173, \"end\": 189, \"tag\": \"AllTheStre...\n",
      "99    [{\"start\": 40, \"end\": 51, \"tag\": \"swifdoopdf\"}...\n",
      "Name: entities.hashtags, Length: 100, dtype: object, '1422514802015019010': 0     NaN\n",
      "1     NaN\n",
      "2     NaN\n",
      "3     NaN\n",
      "4     NaN\n",
      "     ... \n",
      "94    NaN\n",
      "95    NaN\n",
      "96    NaN\n",
      "97    NaN\n",
      "98    NaN\n",
      "Name: entities.hashtags, Length: 99, dtype: object, '1513532951761678343': 0                                                   NaN\n",
      "1                                                   NaN\n",
      "2                                                   NaN\n",
      "3                                                   NaN\n",
      "4                                                   NaN\n",
      "                            ...                        \n",
      "92                                                  NaN\n",
      "93                                                  NaN\n",
      "94    [{\"start\": 2, \"end\": 11, \"tag\": \"Airdrops\"}, {...\n",
      "95                                                  NaN\n",
      "96                                                  NaN\n",
      "Name: entities.hashtags, Length: 97, dtype: object, '2303157481': 0    [{\"start\": 6, \"end\": 17, \"tag\": \"NFTGiveway\"},...\n",
      "1                                                  NaN\n",
      "2       [{\"start\": 25, \"end\": 35, \"tag\": \"NextLevel\"}]\n",
      "3    [{\"start\": 31, \"end\": 40, \"tag\": \"Giveaway\"}, ...\n",
      "4    [{\"start\": 9, \"end\": 15, \"tag\": \"Pride\"}, {\"st...\n",
      "5                                                  NaN\n",
      "6         [{\"start\": 163, \"end\": 169, \"tag\": \"COP27\"}]\n",
      "7    [{\"start\": 256, \"end\": 271, \"tag\": \"RecycleUti...\n",
      "8                                                  NaN\n",
      "9                                                  NaN\n",
      "Name: entities.hashtags, dtype: object, '1526858518179229696': 0        [{\"start\": 6, \"end\": 17, \"tag\": \"PrideMonth\"}]\n",
      "1                                                   NaN\n",
      "2     [{\"start\": 47, \"end\": 74, \"tag\": \"ElderScrolls...\n",
      "3      [{\"start\": 145, \"end\": 155, \"tag\": \"TESOnline\"}]\n",
      "4                                                   NaN\n",
      "5                                                   NaN\n",
      "6              [{\"start\": 18, \"end\": 22, \"tag\": \"VCT\"}]\n",
      "7                                                   NaN\n",
      "8               [{\"start\": 8, \"end\": 12, \"tag\": \"win\"}]\n",
      "9                                                   NaN\n",
      "10                                                  NaN\n",
      "11                                                  NaN\n",
      "12                                                  NaN\n",
      "13                                                  NaN\n",
      "14                                                  NaN\n",
      "15        [{\"start\": 24, \"end\": 33, \"tag\": \"GIVEAWAY\"}]\n",
      "16    [{\"start\": 44, \"end\": 47, \"tag\": \"RT\"}, {\"star...\n",
      "17                                                  NaN\n",
      "18         [{\"start\": 5, \"end\": 14, \"tag\": \"giveaway\"}]\n",
      "19                                                  NaN\n",
      "20    [{\"start\": 0, \"end\": 30, \"tag\": \"TopGunMaveric...\n",
      "21    [{\"start\": 62, \"end\": 92, \"tag\": \"TopGunMaveri...\n",
      "22                                                  NaN\n",
      "23                                                  NaN\n",
      "24                                                  NaN\n",
      "25    [{\"start\": 72, \"end\": 81, \"tag\": \"maingear\"}, ...\n",
      "26                                                  NaN\n",
      "27    [{\"start\": 171, \"end\": 195, \"tag\": \"MsMarvelXb...\n",
      "28                                                  NaN\n",
      "29    [{\"start\": 254, \"end\": 257, \"tag\": \"ad\"}, {\"st...\n",
      "30                                                  NaN\n",
      "31                                                  NaN\n",
      "Name: entities.hashtags, dtype: object, '1527633156362608640': 0     [{\"start\": 8, \"end\": 15, \"tag\": \"oregon\"}, {\"s...\n",
      "1     [{\"start\": 97, \"end\": 104, \"tag\": \"June25\"}, {...\n",
      "2     [{\"start\": 30, \"end\": 37, \"tag\": \"June25\"}, {\"...\n",
      "3     [{\"start\": 0, \"end\": 10, \"tag\": \"Pride2022\"}, ...\n",
      "4     [{\"start\": 102, \"end\": 108, \"tag\": \"LGBTQ\"}, {...\n",
      "                            ...                        \n",
      "95    [{\"start\": 0, \"end\": 10, \"tag\": \"2ndAnnual\"}, ...\n",
      "96    [{\"start\": 36, \"end\": 47, \"tag\": \"Juneteenth\"}...\n",
      "97    [{\"start\": 12, \"end\": 20, \"tag\": \"Prairie\"}, {...\n",
      "98      [{\"start\": 26, \"end\": 37, \"tag\": \"Juneteenth\"}]\n",
      "99    [{\"start\": 24, \"end\": 39, \"tag\": \"juneteenth20...\n",
      "Name: entities.hashtags, Length: 100, dtype: object, '1533766898109886465': 0     [{\"start\": 65, \"end\": 69, \"tag\": \"NFT\"}, {\"sta...\n",
      "1                                                   NaN\n",
      "2                                                   NaN\n",
      "3                                                   NaN\n",
      "4                                                   NaN\n",
      "                            ...                        \n",
      "95    [{\"start\": 236, \"end\": 240, \"tag\": \"NFT\"}, {\"s...\n",
      "96                                                  NaN\n",
      "97    [{\"start\": 248, \"end\": 252, \"tag\": \"NFT\"}, {\"s...\n",
      "98                                                  NaN\n",
      "99                                                  NaN\n",
      "Name: entities.hashtags, Length: 100, dtype: object, '365373885': 0     [{\"start\": 31, \"end\": 42, \"tag\": \"PrideMonth\"}...\n",
      "1        [{\"start\": 6, \"end\": 17, \"tag\": \"PrideMonth\"}]\n",
      "2                                                   NaN\n",
      "3                                                   NaN\n",
      "4                                                   NaN\n",
      "                            ...                        \n",
      "95      [{\"start\": 33, \"end\": 44, \"tag\": \"PrideMonth\"}]\n",
      "96      [{\"start\": 14, \"end\": 25, \"tag\": \"PrideMonth\"}]\n",
      "97                                                  NaN\n",
      "98                                                  NaN\n",
      "99                                                  NaN\n",
      "Name: entities.hashtags, Length: 100, dtype: object, '1601034744': 0     [{\"start\": 11, \"end\": 20, \"tag\": \"MisPride\"}, ...\n",
      "1     [{\"start\": 8, \"end\": 19, \"tag\": \"PrideMonth\"},...\n",
      "2                                                   NaN\n",
      "3                                                   NaN\n",
      "4                                                   NaN\n",
      "                            ...                        \n",
      "95                                                  NaN\n",
      "96                                                  NaN\n",
      "97    [{\"start\": 245, \"end\": 258, \"tag\": \"HomeLearni...\n",
      "98    [{\"start\": 267, \"end\": 278, \"tag\": \"DysguAdref\"}]\n",
      "99    [{\"start\": 184, \"end\": 201, \"tag\": \"AmgueddfaG...\n",
      "Name: entities.hashtags, Length: 100, dtype: object, '613747587': 0     [{\"start\": 125, \"end\": 134, \"tag\": \"thisisme\"}...\n",
      "1                                                   NaN\n",
      "2     [{\"start\": 66, \"end\": 82, \"tag\": \"expressyours...\n",
      "3                                                   NaN\n",
      "4       [{\"start\": 92, \"end\": 102, \"tag\": \"retrieval\"}]\n",
      "                            ...                        \n",
      "95                                                  NaN\n",
      "96                                                  NaN\n",
      "97                                                  NaN\n",
      "98    [{\"start\": 197, \"end\": 212, \"tag\": \"theegremon...\n",
      "99                                                  NaN\n",
      "Name: entities.hashtags, Length: 100, dtype: object, '1003628556': 0                                                 NaN\n",
      "1                                                 NaN\n",
      "2                                                 NaN\n",
      "3                                                 NaN\n",
      "4     [{\"start\": 11, \"end\": 22, \"tag\": \"PrideMonth\"}]\n",
      "                           ...                       \n",
      "95                                                NaN\n",
      "96                                                NaN\n",
      "97                                                NaN\n",
      "98                                                NaN\n",
      "99                                                NaN\n",
      "Name: entities.hashtags, Length: 100, dtype: object, '1458378208693293057': 0     [{\"start\": 239, \"end\": 247, \"tag\": \"pride22\"},...\n",
      "1     [{\"start\": 16, \"end\": 25, \"tag\": \"AsimRiaz\"}, ...\n",
      "2             [{\"start\": 28, \"end\": 33, \"tag\": \"plum\"}]\n",
      "3                                                   NaN\n",
      "4     [{\"start\": 34, \"end\": 43, \"tag\": \"AsimRiaz\"}, ...\n",
      "                            ...                        \n",
      "95                                                  NaN\n",
      "96                                                  NaN\n",
      "97                                                  NaN\n",
      "98    [{\"start\": 70, \"end\": 81, \"tag\": \"SalmanKhan\"}...\n",
      "99    [{\"start\": 249, \"end\": 263, \"tag\": \"WorldMusic...\n",
      "Name: entities.hashtags, Length: 100, dtype: object, '155183767': 0     [{\"start\": 159, \"end\": 170, \"tag\": \"pridemonth\"}]\n",
      "1     [{\"start\": 206, \"end\": 217, \"tag\": \"pridemonth\"}]\n",
      "2     [{\"start\": 213, \"end\": 222, \"tag\": \"trolling\"}...\n",
      "3     [{\"start\": 208, \"end\": 217, \"tag\": \"trolling\"}...\n",
      "4     [{\"start\": 219, \"end\": 228, \"tag\": \"trolling\"}...\n",
      "                            ...                        \n",
      "59    [{\"start\": 239, \"end\": 257, \"tag\": \"stalkingaw...\n",
      "60                                                  NaN\n",
      "61    [{\"start\": 240, \"end\": 258, \"tag\": \"stalkingaw...\n",
      "62    [{\"start\": 157, \"end\": 175, \"tag\": \"stalkingaw...\n",
      "63    [{\"start\": 225, \"end\": 243, \"tag\": \"stalkingaw...\n",
      "Name: entities.hashtags, Length: 64, dtype: object, '1537370194477305857': 0          [{\"start\": 1, \"end\": 10, \"tag\": \"GIVEAWAY\"}]\n",
      "1     [{\"start\": 9, \"end\": 15, \"tag\": \"Pride\"}, {\"st...\n",
      "2     [{\"start\": 68, \"end\": 72, \"tag\": \"NFT\"}, {\"sta...\n",
      "3     [{\"start\": 0, \"end\": 13, \"tag\": \"FootballTips\"...\n",
      "4     [{\"start\": 244, \"end\": 252, \"tag\": \"Cryptos\"},...\n",
      "                            ...                        \n",
      "95                                                  NaN\n",
      "96                                                  NaN\n",
      "97    [{\"start\": 146, \"end\": 153, \"tag\": \"cowpac\"}, ...\n",
      "98                                                  NaN\n",
      "99    [{\"start\": 42, \"end\": 46, \"tag\": \"DAO\"}, {\"sta...\n",
      "Name: entities.hashtags, Length: 100, dtype: object, '111338251': 0       [{\"start\": 11, \"end\": 22, \"tag\": \"PrideMonth\"}]\n",
      "1           [{\"start\": 206, \"end\": 211, \"tag\": \"EUCO\"}]\n",
      "2     [{\"start\": 160, \"end\": 177, \"tag\": \"StandWithU...\n",
      "3     [{\"start\": 17, \"end\": 25, \"tag\": \"Moldova\"}, {...\n",
      "4                                                   NaN\n",
      "                            ...                        \n",
      "95                                                  NaN\n",
      "96    [{\"start\": 87, \"end\": 96, \"tag\": \"Eurozone\"}, ...\n",
      "97                                                  NaN\n",
      "98    [{\"start\": 235, \"end\": 248, \"tag\": \"EPPRotterd...\n",
      "99    [{\"start\": 60, \"end\": 69, \"tag\": \"Protocol\"}, ...\n",
      "Name: entities.hashtags, Length: 100, dtype: object, '1229998489947389952': 0    [{\"start\": 183, \"end\": 191, \"tag\": \"PinoyGL\"},...\n",
      "1    [{\"start\": 151, \"end\": 166, \"tag\": \"englishwri...\n",
      "2    [{\"start\": 174, \"end\": 184, \"tag\": \"creatives\"...\n",
      "3                                                  NaN\n",
      "4                                                  NaN\n",
      "5    [{\"start\": 108, \"end\": 127, \"tag\": \"TheWayIRem...\n",
      "6    [{\"start\": 218, \"end\": 221, \"tag\": \"GL\"}, {\"st...\n",
      "7    [{\"start\": 43, \"end\": 62, \"tag\": \"TheWayIRemem...\n",
      "8    [{\"start\": 27, \"end\": 46, \"tag\": \"TheWayIRemem...\n",
      "9    [{\"start\": 125, \"end\": 145, \"tag\": \"nevergonna...\n",
      "Name: entities.hashtags, dtype: object, '1320065024665288704': 0                                               NaN\n",
      "1                                               NaN\n",
      "2     [{\"start\": 109, \"end\": 116, \"tag\": \"BREEZY\"}]\n",
      "3                                               NaN\n",
      "4                                               NaN\n",
      "                          ...                      \n",
      "95                                              NaN\n",
      "96                                              NaN\n",
      "97                                              NaN\n",
      "98                                              NaN\n",
      "99                                              NaN\n",
      "Name: entities.hashtags, Length: 100, dtype: object, '1535598390536544256': 0                                                   NaN\n",
      "1     [{\"start\": 65, \"end\": 69, \"tag\": \"NFT\"}, {\"sta...\n",
      "2                                                   NaN\n",
      "3                                                   NaN\n",
      "4                                                   NaN\n",
      "                            ...                        \n",
      "95                                                  NaN\n",
      "96    [{\"start\": 237, \"end\": 241, \"tag\": \"NFT\"}, {\"s...\n",
      "97                                                  NaN\n",
      "98                                                  NaN\n",
      "99    [{\"start\": 143, \"end\": 158, \"tag\": \"SolanaGive...\n",
      "Name: entities.hashtags, Length: 100, dtype: object, '3242516733': 0                                                 NaN\n",
      "1                                                 NaN\n",
      "2                                                 NaN\n",
      "3     [{\"start\": 30, \"end\": 41, \"tag\": \"PrideMonth\"}]\n",
      "4                                                 NaN\n",
      "                           ...                       \n",
      "94    [{\"start\": 0, \"end\": 12, \"tag\": \"LifeLessons\"}]\n",
      "95                                                NaN\n",
      "96                                                NaN\n",
      "97                                                NaN\n",
      "98                                                NaN\n",
      "Name: entities.hashtags, Length: 99, dtype: object, '3227788361': 0     [{\"start\": 46, \"end\": 57, \"tag\": \"PrideMonth\"}...\n",
      "1                                                   NaN\n",
      "2                                                   NaN\n",
      "3                                                   NaN\n",
      "4                                                   NaN\n",
      "                            ...                        \n",
      "95                                                  NaN\n",
      "96                                                  NaN\n",
      "97                                                  NaN\n",
      "98                                                  NaN\n",
      "99                                                  NaN\n",
      "Name: entities.hashtags, Length: 100, dtype: object, '1919850745': 0                                                   NaN\n",
      "1     [{\"start\": 227, \"end\": 231, \"tag\": \"nyc\"}, {\"s...\n",
      "2                                                   NaN\n",
      "3                                                   NaN\n",
      "4                                                   NaN\n",
      "                            ...                        \n",
      "89                                                  NaN\n",
      "90                                                  NaN\n",
      "91                                                  NaN\n",
      "92                                                  NaN\n",
      "93    [{\"start\": 46, \"end\": 61, \"tag\": \"imageamplifi...\n",
      "Name: entities.hashtags, Length: 94, dtype: object, '1531792039343316993': 0    [{\"start\": 262, \"end\": 273, \"tag\": \"PrideMonth\"}]\n",
      "1    [{\"start\": 0, \"end\": 14, \"tag\": \"GenshinImpact...\n",
      "2    [{\"start\": 13, \"end\": 16, \"tag\": \"\\u539f\\u795e...\n",
      "3    [{\"start\": 66, \"end\": 71, \"tag\": \"Itto\"}, {\"st...\n",
      "4                                                  NaN\n",
      "5    [{\"start\": 85, \"end\": 99, \"tag\": \"GenshinImpac...\n",
      "6                                                  NaN\n",
      "Name: entities.hashtags, dtype: object, '1230610908': 0     [{\"start\": 23, \"end\": 32, \"tag\": \"equality\"}, ...\n",
      "1     [{\"start\": 28, \"end\": 39, \"tag\": \"cybercrime\"}...\n",
      "2     [{\"start\": 0, \"end\": 14, \"tag\": \"privatewealth...\n",
      "3                                                   NaN\n",
      "4     [{\"start\": 28, \"end\": 43, \"tag\": \"TaxResolutio...\n",
      "                            ...                        \n",
      "95    [{\"start\": 244, \"end\": 255, \"tag\": \"Efficiency...\n",
      "96                                                  NaN\n",
      "97    [{\"start\": 114, \"end\": 125, \"tag\": \"wearecrowe...\n",
      "98    [{\"start\": 218, \"end\": 223, \"tag\": \"HMRC\"}, {\"...\n",
      "99            [{\"start\": 39, \"end\": 44, \"tag\": \"INGO\"}]\n",
      "Name: entities.hashtags, Length: 100, dtype: object, '140081835': 0                                                   NaN\n",
      "1     [{\"start\": 21, \"end\": 27, \"tag\": \"\\u30c9\\u30ec...\n",
      "2     [{\"start\": 0, \"end\": 9, \"tag\": \"ENVtuber\"}, {\"...\n",
      "3     [{\"start\": 32, \"end\": 39, \"tag\": \"gaming\"}, {\"...\n",
      "4     [{\"start\": 7, \"end\": 21, \"tag\": \"6\\u670823\\u65...\n",
      "                            ...                        \n",
      "95                                                  NaN\n",
      "96    [{\"start\": 18, \"end\": 27, \"tag\": \"\\u30ed\\u30c3...\n",
      "97    [{\"start\": 19, \"end\": 26, \"tag\": \"\\u30dc\\u30af...\n",
      "98            [{\"start\": 30, \"end\": 35, \"tag\": \"Skeb\"}]\n",
      "99                                                  NaN\n",
      "Name: entities.hashtags, Length: 100, dtype: object, '3295796090': 0     NaN\n",
      "1     NaN\n",
      "2     NaN\n",
      "3     NaN\n",
      "4     NaN\n",
      "     ... \n",
      "95    NaN\n",
      "96    NaN\n",
      "97    NaN\n",
      "98    NaN\n",
      "99    NaN\n",
      "Name: entities.hashtags, Length: 100, dtype: object, '826416916856188928': 0     [{\"start\": 159, \"end\": 170, \"tag\": \"pridemonth\"}]\n",
      "1     [{\"start\": 206, \"end\": 217, \"tag\": \"pridemonth\"}]\n",
      "2     [{\"start\": 213, \"end\": 222, \"tag\": \"trolling\"}...\n",
      "3     [{\"start\": 219, \"end\": 228, \"tag\": \"trolling\"}...\n",
      "4     [{\"start\": 208, \"end\": 217, \"tag\": \"trolling\"}...\n",
      "                            ...                        \n",
      "95    [{\"start\": 216, \"end\": 234, \"tag\": \"stalkingaw...\n",
      "96    [{\"start\": 179, \"end\": 197, \"tag\": \"stalkingaw...\n",
      "97    [{\"start\": 192, \"end\": 210, \"tag\": \"stalkingaw...\n",
      "98    [{\"start\": 37, \"end\": 55, \"tag\": \"stalkingawar...\n",
      "99    [{\"start\": 214, \"end\": 232, \"tag\": \"stalkingaw...\n",
      "Name: entities.hashtags, Length: 100, dtype: object, '1521010739917430784': 0    [{\"start\": 181, \"end\": 190, \"tag\": \"lgbtqube\"}...\n",
      "1    [{\"start\": 74, \"end\": 83, \"tag\": \"lgbtqube\"}, ...\n",
      "2    [{\"start\": 75, \"end\": 86, \"tag\": \"reachlives\"}...\n",
      "Name: entities.hashtags, dtype: object, '983989988412084225': 0     [{\"start\": 248, \"end\": 256, \"tag\": \"swindon\"},...\n",
      "1                                                   NaN\n",
      "2                                                   NaN\n",
      "3                                                   NaN\n",
      "4                                                   NaN\n",
      "                            ...                        \n",
      "95     [{\"start\": 3, \"end\": 16, \"tag\": \"Heartstopper\"}]\n",
      "96                                                  NaN\n",
      "97                                                  NaN\n",
      "98                                                  NaN\n",
      "99                                                  NaN\n",
      "Name: entities.hashtags, Length: 100, dtype: object, '19668907': 0     [{\"start\": 247, \"end\": 258, \"tag\": \"pridemonth...\n",
      "1     [{\"start\": 74, \"end\": 92, \"tag\": \"foodpovertyc...\n",
      "2     [{\"start\": 185, \"end\": 201, \"tag\": \"communityf...\n",
      "3     [{\"start\": 241, \"end\": 248, \"tag\": \"summer\"}, ...\n",
      "4     [{\"start\": 20, \"end\": 27, \"tag\": \"Vortex\"}, {\"...\n",
      "                            ...                        \n",
      "95    [{\"start\": 20, \"end\": 31, \"tag\": \"ComedyFest\"}...\n",
      "96                                                  NaN\n",
      "97                                                  NaN\n",
      "98                                                  NaN\n",
      "99    [{\"start\": 205, \"end\": 219, \"tag\": \"FindYourFu...\n",
      "Name: entities.hashtags, Length: 100, dtype: object, '992421214764220416': 0     [{\"start\": 11, \"end\": 17, \"tag\": \"pride\"}, {\"s...\n",
      "1                                                   NaN\n",
      "2                                                   NaN\n",
      "3                                                   NaN\n",
      "4                                                   NaN\n",
      "                            ...                        \n",
      "95                                                  NaN\n",
      "96                                                  NaN\n",
      "97                                                  NaN\n",
      "98                                                  NaN\n",
      "99                                                  NaN\n",
      "Name: entities.hashtags, Length: 100, dtype: object, '909885730901590020': 0     [{\"start\": 252, \"end\": 263, \"tag\": \"PrideMonth...\n",
      "1       [{\"start\": 32, \"end\": 43, \"tag\": \"loveisland\"}]\n",
      "2     [{\"start\": 75, \"end\": 91, \"tag\": \"coeliacprobl...\n",
      "3                                                   NaN\n",
      "4                                                   NaN\n",
      "5                                                   NaN\n",
      "6                                                   NaN\n",
      "7                                                   NaN\n",
      "8     [{\"start\": 47, \"end\": 63, \"tag\": \"coeliacprobl...\n",
      "9                                                   NaN\n",
      "10                                                  NaN\n",
      "11    [{\"start\": 67, \"end\": 74, \"tag\": \"Corrie\"}, {\"...\n",
      "12                                                  NaN\n",
      "13        [{\"start\": 30, \"end\": 39, \"tag\": \"thegames\"}]\n",
      "14                                                  NaN\n",
      "15                                                  NaN\n",
      "16                                                  NaN\n",
      "17     [{\"start\": 28, \"end\": 40, \"tag\": \"loveisblind\"}]\n",
      "18    [{\"start\": 52, \"end\": 66, \"tag\": \"TheApprentic...\n",
      "19           [{\"start\": 0, \"end\": 8, \"tag\": \"teamblu\"}]\n",
      "20                                                  NaN\n",
      "21                                                  NaN\n",
      "22                                                  NaN\n",
      "Name: entities.hashtags, dtype: object, '1502596765060587520': 0       [{\"start\": 51, \"end\": 62, \"tag\": \"Eurovision\"}]\n",
      "1     [{\"start\": 52, \"end\": 69, \"tag\": \"StrivingToge...\n",
      "2                                                   NaN\n",
      "3                                                   NaN\n",
      "4                                                   NaN\n",
      "                            ...                        \n",
      "95                                                  NaN\n",
      "96                                                  NaN\n",
      "97                                                  NaN\n",
      "98                                                  NaN\n",
      "99                                                  NaN\n",
      "Name: entities.hashtags, Length: 100, dtype: object, '1875527335': 0     [{\"start\": 232, \"end\": 243, \"tag\": \"Pridemonth\"}]\n",
      "1                                                   NaN\n",
      "2                                                   NaN\n",
      "3                                                   NaN\n",
      "4     [{\"start\": 6, \"end\": 22, \"tag\": \"WorldGiraffeD...\n",
      "                            ...                        \n",
      "95                                                  NaN\n",
      "96                                                  NaN\n",
      "97                                                  NaN\n",
      "98    [{\"start\": 0, \"end\": 17, \"tag\": \"WipedOutWildl...\n",
      "99                                                  NaN\n",
      "Name: entities.hashtags, Length: 100, dtype: object, '841576752182894593': 0     [{\"start\": 5, \"end\": 16, \"tag\": \"PrideMonth\"},...\n",
      "1     [{\"start\": 5, \"end\": 16, \"tag\": \"PrideMonth\"},...\n",
      "2       [{\"start\": 188, \"end\": 197, \"tag\": \"NSSW2022\"}]\n",
      "3     [{\"start\": 5, \"end\": 16, \"tag\": \"PrideMonth\"},...\n",
      "4     [{\"start\": 136, \"end\": 154, \"tag\": \"Bikeabilit...\n",
      "                            ...                        \n",
      "95                                                  NaN\n",
      "96    [{\"start\": 4, \"end\": 30, \"tag\": \"MentalHealthA...\n",
      "97    [{\"start\": 89, \"end\": 101, \"tag\": \"bikeability\"}]\n",
      "98                                                  NaN\n",
      "99                                                  NaN\n",
      "Name: entities.hashtags, Length: 100, dtype: object, '1456596560259829760': 0         [{\"start\": 32, \"end\": 41, \"tag\": \"Carolina\"}]\n",
      "1                                                   NaN\n",
      "2                                                   NaN\n",
      "3                                                   NaN\n",
      "4                                                   NaN\n",
      "                            ...                        \n",
      "94    [{\"start\": 0, \"end\": 4, \"tag\": \"KCA\"}, {\"start...\n",
      "95           [{\"start\": 64, \"end\": 70, \"tag\": \"BBMAs\"}]\n",
      "96    [{\"start\": 0, \"end\": 4, \"tag\": \"KCA\"}, {\"start...\n",
      "97    [{\"start\": 0, \"end\": 4, \"tag\": \"KCA\"}, {\"start...\n",
      "98    [{\"start\": 18, \"end\": 34, \"tag\": \"VoteTaylorSw...\n",
      "Name: entities.hashtags, Length: 99, dtype: object, '956635382757588992': 0     [{\"start\": 247, \"end\": 258, \"tag\": \"PrideMonth...\n",
      "1                                                   NaN\n",
      "2     [{\"start\": 0, \"end\": 11, \"tag\": \"Kubernetes\"},...\n",
      "3     [{\"start\": 63, \"end\": 67, \"tag\": \"EKS\"}, {\"sta...\n",
      "4     [{\"start\": 46, \"end\": 56, \"tag\": \"engineers\"},...\n",
      "                            ...                        \n",
      "95            [{\"start\": 4, \"end\": 10, \"tag\": \"cloud\"}]\n",
      "96    [{\"start\": 156, \"end\": 167, \"tag\": \"Kubernetes\"}]\n",
      "97             [{\"start\": 56, \"end\": 60, \"tag\": \"K8s\"}]\n",
      "98                                                  NaN\n",
      "99       [{\"start\": 61, \"end\": 71, \"tag\": \"engineers\"}]\n",
      "Name: entities.hashtags, Length: 100, dtype: object, '1446639026929213441': 0     [{\"start\": 125, \"end\": 136, \"tag\": \"PrideMonth\"}]\n",
      "1                                                   NaN\n",
      "2                                                   NaN\n",
      "3                                                   NaN\n",
      "4                                                   NaN\n",
      "                            ...                        \n",
      "61                                                  NaN\n",
      "62                                                  NaN\n",
      "63                                                  NaN\n",
      "64                                                  NaN\n",
      "65                                                  NaN\n",
      "Name: entities.hashtags, Length: 66, dtype: object, '1376258008896929798': 0     [{\"start\": 6, \"end\": 17, \"tag\": \"PrideMonth\"}]\n",
      "1                                                NaN\n",
      "2                                                NaN\n",
      "3                                                NaN\n",
      "4                                                NaN\n",
      "                           ...                      \n",
      "77                                               NaN\n",
      "78                                               NaN\n",
      "79                                               NaN\n",
      "80                                               NaN\n",
      "81                                               NaN\n",
      "Name: entities.hashtags, Length: 82, dtype: object, '1586523643': 0     [{\"start\": 12, \"end\": 19, \"tag\": \"\\u306c\\u30ab...\n",
      "1     [{\"start\": 126, \"end\": 144, \"tag\": \"OurFlagMea...\n",
      "2                                                   NaN\n",
      "3     [{\"start\": 113, \"end\": 127, \"tag\": \"GenshinImp...\n",
      "4     [{\"start\": 48, \"end\": 59, \"tag\": \"NUCarnival\"}...\n",
      "                            ...                        \n",
      "95    [{\"start\": 0, \"end\": 4, \"tag\": \"tbd\"}, {\"start...\n",
      "96                                                  NaN\n",
      "97                                                  NaN\n",
      "98                                                  NaN\n",
      "99    [{\"start\": 7, \"end\": 14, \"tag\": \"Jealuc\"}, {\"s...\n",
      "Name: entities.hashtags, Length: 100, dtype: object, '473863406': 0     [{\"start\": 201, \"end\": 212, \"tag\": \"PrideMonth\"}]\n",
      "1     [{\"start\": 30, \"end\": 39, \"tag\": \"Archives\"}, ...\n",
      "2          [{\"start\": 184, \"end\": 190, \"tag\": \"AcWri\"}]\n",
      "3                                                   NaN\n",
      "4                                                   NaN\n",
      "                            ...                        \n",
      "95           [{\"start\": 87, \"end\": 93, \"tag\": \"AcWri\"}]\n",
      "96                                                  NaN\n",
      "97                                                  NaN\n",
      "98                                                  NaN\n",
      "99                                                  NaN\n",
      "Name: entities.hashtags, Length: 100, dtype: object, '1420283270': 0     [{\"start\": 248, \"end\": 256, \"tag\": \"swindon\"},...\n",
      "1     [{\"start\": 52, \"end\": 74, \"tag\": \"swindonwilts...\n",
      "2     [{\"start\": 276, \"end\": 284, \"tag\": \"lgbtqia\"},...\n",
      "3                                                   NaN\n",
      "4     [{\"start\": 53, \"end\": 78, \"tag\": \"swindonandwi...\n",
      "                            ...                        \n",
      "95                                                  NaN\n",
      "96    [{\"start\": 238, \"end\": 260, \"tag\": \"swindonwil...\n",
      "97    [{\"start\": 181, \"end\": 192, \"tag\": \"pridemonth\"}]\n",
      "98         [{\"start\": 278, \"end\": 284, \"tag\": \"pride\"}]\n",
      "99           [{\"start\": 26, \"end\": 32, \"tag\": \"pride\"}]\n",
      "Name: entities.hashtags, Length: 100, dtype: object, '1075299448572530690': 0     [{\"start\": 258, \"end\": 269, \"tag\": \"pridemonth\"}]\n",
      "1     [{\"start\": 145, \"end\": 151, \"tag\": \"Kenya\"}, {...\n",
      "2     [{\"start\": 19, \"end\": 31, \"tag\": \"Philippines\"...\n",
      "3     [{\"start\": 29, \"end\": 39, \"tag\": \"Amsterdam\"},...\n",
      "4     [{\"start\": 195, \"end\": 198, \"tag\": \"CX\"}, {\"st...\n",
      "                            ...                        \n",
      "91    [{\"start\": 91, \"end\": 102, \"tag\": \"oneMajorel\"...\n",
      "92    [{\"start\": 219, \"end\": 223, \"tag\": \"IWD\"}, {\"s...\n",
      "93       [{\"start\": 263, \"end\": 271, \"tag\": \"stories\"}]\n",
      "94    [{\"start\": 32, \"end\": 49, \"tag\": \"MondayMotiva...\n",
      "95    [{\"start\": 118, \"end\": 121, \"tag\": \"CX\"}, {\"st...\n",
      "Name: entities.hashtags, Length: 96, dtype: object, '1507939450348703747': 0                                                   NaN\n",
      "1                                                   NaN\n",
      "2                                                   NaN\n",
      "3                                                   NaN\n",
      "4                                                   NaN\n",
      "                            ...                        \n",
      "95                                                  NaN\n",
      "96                                                  NaN\n",
      "97    [{\"start\": 16, \"end\": 28, \"tag\": \"NFTGIVEAWAY\"...\n",
      "98                                                  NaN\n",
      "99                                                  NaN\n",
      "Name: entities.hashtags, Length: 100, dtype: object, '956579916463640581': 0                                                   NaN\n",
      "1     [{\"start\": 0, \"end\": 13, \"tag\": \"MYLITTLEPONY\"...\n",
      "2                                                   NaN\n",
      "3                                                   NaN\n",
      "4                                                   NaN\n",
      "                            ...                        \n",
      "94                                                  NaN\n",
      "95                                                  NaN\n",
      "96                                                  NaN\n",
      "97                                                  NaN\n",
      "98                                                  NaN\n",
      "Name: entities.hashtags, Length: 99, dtype: object, '885328999462739969': 0     [{\"start\": 5, \"end\": 16, \"tag\": \"PrideMonth\"},...\n",
      "1     [{\"start\": 0, \"end\": 9, \"tag\": \"Filipina\"}, {\"...\n",
      "2     [{\"start\": 9, \"end\": 18, \"tag\": \"creative\"}, {...\n",
      "3     [{\"start\": 30, \"end\": 35, \"tag\": \"four\"}, {\"st...\n",
      "4     [{\"start\": 12, \"end\": 21, \"tag\": \"creative\"}, ...\n",
      "                            ...                        \n",
      "94                                                  NaN\n",
      "95                                                  NaN\n",
      "96    [{\"start\": 28, \"end\": 32, \"tag\": \"NFT\"}, {\"sta...\n",
      "97    [{\"start\": 32, \"end\": 40, \"tag\": \"fashion\"}, {...\n",
      "98    [{\"start\": 26, \"end\": 36, \"tag\": \"portraits\"},...\n",
      "Name: entities.hashtags, Length: 99, dtype: object, '3021313584': 0     [{\"start\": 161, \"end\": 172, \"tag\": \"pridemonth...\n",
      "1     [{\"start\": 184, \"end\": 197, \"tag\": \"talentsear...\n",
      "2     [{\"start\": 30, \"end\": 38, \"tag\": \"careers\"}, {...\n",
      "3     [{\"start\": 140, \"end\": 148, \"tag\": \"careers\"},...\n",
      "4     [{\"start\": 139, \"end\": 149, \"tag\": \"buzzwords\"...\n",
      "                            ...                        \n",
      "84                                                  NaN\n",
      "85                                                  NaN\n",
      "86          [{\"start\": 19, \"end\": 26, \"tag\": \"GoArmy\"}]\n",
      "87          [{\"start\": 68, \"end\": 75, \"tag\": \"GoArmy\"}]\n",
      "88                                                  NaN\n",
      "Name: entities.hashtags, Length: 89, dtype: object, '1540253127433064448': 0                                                   NaN\n",
      "1     [{\"start\": 39, \"end\": 46, \"tag\": \"Kucoin\"}, {\"...\n",
      "2     [{\"start\": 133, \"end\": 145, \"tag\": \"MemeContes...\n",
      "3     [{\"start\": 0, \"end\": 15, \"tag\": \"MyTradeStakin...\n",
      "4                                                   NaN\n",
      "5     [{\"start\": 69, \"end\": 76, \"tag\": \"Crypto\"}, {\"...\n",
      "6                                                   NaN\n",
      "7     [{\"start\": 138, \"end\": 153, \"tag\": \"cryptocurr...\n",
      "8     [{\"start\": 79, \"end\": 105, \"tag\": \"emergencypl...\n",
      "9                                                   NaN\n",
      "10    [{\"start\": 11, \"end\": 22, \"tag\": \"WLGiveaway\"}...\n",
      "11    [{\"start\": 172, \"end\": 187, \"tag\": \"SetelBadmi...\n",
      "Name: entities.hashtags, dtype: object, '27841491': 0     [{\"start\": 56, \"end\": 67, \"tag\": \"PrideMonth\"}...\n",
      "1     [{\"start\": 0, \"end\": 9, \"tag\": \"SAUCYszn\"}, {\"...\n",
      "2     [{\"start\": 10, \"end\": 20, \"tag\": \"Sugababes\"},...\n",
      "3     [{\"start\": 108, \"end\": 114, \"tag\": \"Rugby\"}, {...\n",
      "4                                                   NaN\n",
      "                            ...                        \n",
      "94      [{\"start\": 243, \"end\": 252, \"tag\": \"DaleyPOP\"}]\n",
      "95                                                  NaN\n",
      "96    [{\"start\": 22, \"end\": 30, \"tag\": \"Jubilee\"}, {...\n",
      "97    [{\"start\": 114, \"end\": 123, \"tag\": \"Brighton\"}...\n",
      "98                                                  NaN\n",
      "Name: entities.hashtags, Length: 99, dtype: object, '1176226301314777089': 0     [{\"start\": 53, \"end\": 59, \"tag\": \"Pride\"}, {\"s...\n",
      "1     [{\"start\": 102, \"end\": 110, \"tag\": \"LGBTQIA\"},...\n",
      "2                                                   NaN\n",
      "3            [{\"start\": 283, \"end\": 287, \"tag\": \"Job\"}]\n",
      "4                                                   NaN\n",
      "                            ...                        \n",
      "95    [{\"start\": 34, \"end\": 37, \"tag\": \"AI\"}, {\"star...\n",
      "96    [{\"start\": 115, \"end\": 118, \"tag\": \"AI\"}, {\"st...\n",
      "97                                                  NaN\n",
      "98    [{\"start\": 27, \"end\": 40, \"tag\": \"ScotAISummit\"}]\n",
      "99    [{\"start\": 64, \"end\": 67, \"tag\": \"AI\"}, {\"star...\n",
      "Name: entities.hashtags, Length: 100, dtype: object, '223383707': 0     [{\"start\": 197, \"end\": 208, \"tag\": \"PrideMonth...\n",
      "1     [{\"start\": 173, \"end\": 179, \"tag\": \"Korea\"}, {...\n",
      "2     [{\"start\": 169, \"end\": 175, \"tag\": \"Kfood\"}, {...\n",
      "3     [{\"start\": 154, \"end\": 161, \"tag\": \"Beauty\"}, ...\n",
      "4     [{\"start\": 198, \"end\": 204, \"tag\": \"Pride\"}, {...\n",
      "                            ...                        \n",
      "95    [{\"start\": 169, \"end\": 177, \"tag\": \"ZeeZest\"},...\n",
      "96    [{\"start\": 213, \"end\": 221, \"tag\": \"ZeeZest\"},...\n",
      "97    [{\"start\": 102, \"end\": 112, \"tag\": \"Kalamkari\"...\n",
      "98    [{\"start\": 197, \"end\": 205, \"tag\": \"ZeeZest\"},...\n",
      "99    [{\"start\": 217, \"end\": 225, \"tag\": \"ZeeZest\"},...\n",
      "Name: entities.hashtags, Length: 100, dtype: object, '1157394949': 0     [{\"start\": 251, \"end\": 261, \"tag\": \"Pride2022\"...\n",
      "1                                                   NaN\n",
      "2                                                   NaN\n",
      "3                                                   NaN\n",
      "4     [{\"start\": 174, \"end\": 184, \"tag\": \"Pride2022\"...\n",
      "                            ...                        \n",
      "56    [{\"start\": 160, \"end\": 173, \"tag\": \"BreakTheBi...\n",
      "57                                                  NaN\n",
      "58    [{\"start\": 169, \"end\": 198, \"tag\": \"buildingas...\n",
      "59    [{\"start\": 224, \"end\": 234, \"tag\": \"ICEAwards\"...\n",
      "60    [{\"start\": 263, \"end\": 277, \"tag\": \"WomeninSTE...\n",
      "Name: entities.hashtags, Length: 61, dtype: object, '49600056': 0        [{\"start\": 6, \"end\": 17, \"tag\": \"PrideMonth\"}]\n",
      "1     [{\"start\": 17, \"end\": 28, \"tag\": \"networking\"}...\n",
      "2     [{\"start\": 13, \"end\": 31, \"tag\": \"CervicalScre...\n",
      "3     [{\"start\": 164, \"end\": 168, \"tag\": \"FCP\"}, {\"s...\n",
      "4     [{\"start\": 5, \"end\": 10, \"tag\": \"Free\"}, {\"sta...\n",
      "                            ...                        \n",
      "95                                                  NaN\n",
      "96     [{\"start\": 245, \"end\": 255, \"tag\": \"DoYourBit\"}]\n",
      "97    [{\"start\": 244, \"end\": 252, \"tag\": \"Cumbria\"},...\n",
      "98                                                  NaN\n",
      "99       [{\"start\": 6, \"end\": 17, \"tag\": \"PrideMonth\"}]\n",
      "Name: entities.hashtags, Length: 100, dtype: object, '17534649': 0     [{\"start\": 218, \"end\": 236, \"tag\": \"ClimateJus...\n",
      "1     [{\"start\": 181, \"end\": 208, \"tag\": \"ClimateJus...\n",
      "2     [{\"start\": 257, \"end\": 267, \"tag\": \"Pride2022\"...\n",
      "3                                                   NaN\n",
      "4                                                   NaN\n",
      "                            ...                        \n",
      "95    [{\"start\": 141, \"end\": 153, \"tag\": \"Halalan202...\n",
      "96    [{\"start\": 133, \"end\": 141, \"tag\": \"sachets\"},...\n",
      "97    [{\"start\": 210, \"end\": 228, \"tag\": \"ClimateJus...\n",
      "98    [{\"start\": 64, \"end\": 73, \"tag\": \"CocaCola\"}, ...\n",
      "99    [{\"start\": 225, \"end\": 246, \"tag\": \"BreakFreeF...\n",
      "Name: entities.hashtags, Length: 100, dtype: object, '29004509': 0     [{\"start\": 200, \"end\": 211, \"tag\": \"PrideMonth...\n",
      "1     [{\"start\": 200, \"end\": 209, \"tag\": \"MisPride\"}...\n",
      "2                                                   NaN\n",
      "3                                                   NaN\n",
      "4     [{\"start\": 163, \"end\": 172, \"tag\": \"MisPride\"}...\n",
      "                            ...                        \n",
      "95                                                  NaN\n",
      "96        [{\"start\": 28, \"end\": 37, \"tag\": \"PincList\"}]\n",
      "97        [{\"start\": 16, \"end\": 25, \"tag\": \"PincList\"}]\n",
      "98     [{\"start\": 247, \"end\": 257, \"tag\": \"monkeypox\"}]\n",
      "99    [{\"start\": 114, \"end\": 130, \"tag\": \"ShowYourCo...\n",
      "Name: entities.hashtags, Length: 100, dtype: object, '118379144': 0     [{\"start\": 0, \"end\": 11, \"tag\": \"PrideMonth\"},...\n",
      "1                                                   NaN\n",
      "2     [{\"start\": 0, \"end\": 11, \"tag\": \"PrideMonth\"},...\n",
      "3                                                   NaN\n",
      "4     [{\"start\": 0, \"end\": 11, \"tag\": \"PrideMonth\"},...\n",
      "                            ...                        \n",
      "95     [{\"start\": 206, \"end\": 216, \"tag\": \"NotACrime\"}]\n",
      "96    [{\"start\": 66, \"end\": 84, \"tag\": \"freedomOfAss...\n",
      "97    [{\"start\": 43, \"end\": 50, \"tag\": \"Police\"}, {\"...\n",
      "98    [{\"start\": 77, \"end\": 93, \"tag\": \"police_viole...\n",
      "99    [{\"start\": 0, \"end\": 5, \"tag\": \"HRDs\"}, {\"star...\n",
      "Name: entities.hashtags, Length: 100, dtype: object, '1300784890493927424': 0     [{\"start\": 91, \"end\": 103, \"tag\": \"igppLGBTQIA\"}]\n",
      "1     [{\"start\": 186, \"end\": 197, \"tag\": \"PrideMonth...\n",
      "2     [{\"start\": 0, \"end\": 9, \"tag\": \"igppAFWI\"}, {\"...\n",
      "3     [{\"start\": 0, \"end\": 9, \"tag\": \"igppPEOL\"}, {\"...\n",
      "4     [{\"start\": 96, \"end\": 109, \"tag\": \"mentalhealt...\n",
      "                            ...                        \n",
      "95                                                  NaN\n",
      "96    [{\"start\": 22, \"end\": 48, \"tag\": \"MentalHealth...\n",
      "97          [{\"start\": 89, \"end\": 96, \"tag\": \"igppPP\"}]\n",
      "98    [{\"start\": 191, \"end\": 204, \"tag\": \"eprocureme...\n",
      "99                                                  NaN\n",
      "Name: entities.hashtags, Length: 100, dtype: object, '935876604974239744': 0     [{\"start\": 0, \"end\": 13, \"tag\": \"BookoftheDay\"...\n",
      "1     [{\"start\": 0, \"end\": 21, \"tag\": \"ChildrenBooko...\n",
      "2     [{\"start\": 0, \"end\": 14, \"tag\": \"HappyBirthday\"}]\n",
      "3                                                   NaN\n",
      "4     [{\"start\": 0, \"end\": 14, \"tag\": \"HappyBirthday...\n",
      "                            ...                        \n",
      "95    [{\"start\": 0, \"end\": 11, \"tag\": \"PrideMonth\"},...\n",
      "96        [{\"start\": 0, \"end\": 10, \"tag\": \"OnthisDay\"}]\n",
      "97    [{\"start\": 0, \"end\": 22, \"tag\": \"ChildrensBook...\n",
      "98                                                  NaN\n",
      "99        [{\"start\": 0, \"end\": 10, \"tag\": \"OnthisDay\"}]\n",
      "Name: entities.hashtags, Length: 100, dtype: object, '78623': 0     [{\"start\": 232, \"end\": 247, \"tag\": \"UpstairsLo...\n",
      "1     [{\"start\": 100, \"end\": 114, \"tag\": \"LockThemAl...\n",
      "2                                                   NaN\n",
      "3     [{\"start\": 177, \"end\": 190, \"tag\": \"libzoftikt...\n",
      "4     [{\"start\": 91, \"end\": 106, \"tag\": \"TrumpForPri...\n",
      "                            ...                        \n",
      "95        [{\"start\": 66, \"end\": 75, \"tag\": \"cyberlaw\"}]\n",
      "96                                                  NaN\n",
      "97                                                  NaN\n",
      "98    [{\"start\": 103, \"end\": 114, \"tag\": \"Juneteenth...\n",
      "99    [{\"start\": 122, \"end\": 139, \"tag\": \"ProtectTra...\n",
      "Name: entities.hashtags, Length: 100, dtype: object, '44133175': 0     [{\"start\": 182, \"end\": 193, \"tag\": \"1916Rising...\n",
      "1                                                   NaN\n",
      "2                                                   NaN\n",
      "3     [{\"start\": 241, \"end\": 252, \"tag\": \"MuseumShop...\n",
      "4     [{\"start\": 39, \"end\": 46, \"tag\": \"Viking\"}, {\"...\n",
      "                            ...                        \n",
      "94    [{\"start\": 0, \"end\": 24, \"tag\": \"EuropeanRemem...\n",
      "95    [{\"start\": 0, \"end\": 4, \"tag\": \"Now\"}, {\"start...\n",
      "96    [{\"start\": 250, \"end\": 258, \"tag\": \"NMIShop\"},...\n",
      "97    [{\"start\": 0, \"end\": 15, \"tag\": \"ThroughHerEye...\n",
      "98                                                  NaN\n",
      "Name: entities.hashtags, Length: 99, dtype: object, '1256448384988319744': 0     [{\"start\": 64, \"end\": 74, \"tag\": \"dmvfreaks\"},...\n",
      "1                                                   NaN\n",
      "2                                                   NaN\n",
      "3     [{\"start\": 72, \"end\": 90, \"tag\": \"CruisingGayV...\n",
      "4                                                   NaN\n",
      "                            ...                        \n",
      "94                                                  NaN\n",
      "95                                                  NaN\n",
      "96                                                  NaN\n",
      "97                                                  NaN\n",
      "98                                                  NaN\n",
      "Name: entities.hashtags, Length: 99, dtype: object, '1118015712847695873': 0                                                   NaN\n",
      "1     [{\"start\": 13, \"end\": 24, \"tag\": \"PrideMonth\"}...\n",
      "2                                                   NaN\n",
      "3                                                   NaN\n",
      "4                                                   NaN\n",
      "                            ...                        \n",
      "95                                                  NaN\n",
      "96                                                  NaN\n",
      "97                                                  NaN\n",
      "98                                                  NaN\n",
      "99                                                  NaN\n",
      "Name: entities.hashtags, Length: 100, dtype: object, '1266460939244765188': 0     [{\"start\": 134, \"end\": 145, \"tag\": \"happypride...\n",
      "1           [{\"start\": 45, \"end\": 52, \"tag\": \"submas\"}]\n",
      "2                                                   NaN\n",
      "3                                                   NaN\n",
      "4           [{\"start\": 43, \"end\": 50, \"tag\": \"Submas\"}]\n",
      "                            ...                        \n",
      "92    [{\"start\": 39, \"end\": 49, \"tag\": \"DavidKing\"},...\n",
      "93                                                  NaN\n",
      "94                                                  NaN\n",
      "95          [{\"start\": 54, \"end\": 61, \"tag\": \"submas\"}]\n",
      "96                                                  NaN\n",
      "Name: entities.hashtags, Length: 97, dtype: object, '1538527527719010305': 0     [{\"start\": 12, \"end\": 25, \"tag\": \"buanalinthip...\n",
      "1     [{\"start\": 44, \"end\": 58, \"tag\": \"\\u0e2d\\u0e49...\n",
      "2     [{\"start\": 105, \"end\": 118, \"tag\": \"\\u0e1a\\u0e...\n",
      "3     [{\"start\": 81, \"end\": 95, \"tag\": \"\\u0e2d\\u0e49...\n",
      "4     [{\"start\": 38, \"end\": 56, \"tag\": \"\\u0e2d\\u0e49...\n",
      "                            ...                        \n",
      "95    [{\"start\": 38, \"end\": 56, \"tag\": \"\\u0e2d\\u0e49...\n",
      "96    [{\"start\": 5, \"end\": 23, \"tag\": \"\\u0e2d\\u0e49\\...\n",
      "97    [{\"start\": 34, \"end\": 52, \"tag\": \"\\u0e2d\\u0e49...\n",
      "98    [{\"start\": 38, \"end\": 56, \"tag\": \"\\u0e2d\\u0e49...\n",
      "99    [{\"start\": 4, \"end\": 22, \"tag\": \"\\u0e2d\\u0e49\\...\n",
      "Name: entities.hashtags, Length: 100, dtype: object, '1484708748111523841': 0     [{\"start\": 46, \"end\": 57, \"tag\": \"PrideMonth\"}...\n",
      "1     [{\"start\": 96, \"end\": 102, \"tag\": \"gacha\"}, {\"...\n",
      "2     [{\"start\": 257, \"end\": 263, \"tag\": \"chibi\"}, {...\n",
      "3     [{\"start\": 131, \"end\": 137, \"tag\": \"gacha\"}, {...\n",
      "4     [{\"start\": 36, \"end\": 42, \"tag\": \"gacha\"}, {\"s...\n",
      "5                                                   NaN\n",
      "6     [{\"start\": 27, \"end\": 33, \"tag\": \"gacha\"}, {\"s...\n",
      "7     [{\"start\": 65, \"end\": 76, \"tag\": \"gachaedits\"}...\n",
      "8     [{\"start\": 94, \"end\": 98, \"tag\": \"art\"}, {\"sta...\n",
      "9     [{\"start\": 93, \"end\": 97, \"tag\": \"art\"}, {\"sta...\n",
      "10                                                  NaN\n",
      "11    [{\"start\": 48, \"end\": 62, \"tag\": \"DigitalArtis...\n",
      "12                                                  NaN\n",
      "13                                                  NaN\n",
      "14    [{\"start\": 63, \"end\": 74, \"tag\": \"digitalart\"}...\n",
      "15    [{\"start\": 65, \"end\": 76, \"tag\": \"digitalart\"}...\n",
      "16    [{\"start\": 17, \"end\": 28, \"tag\": \"digitalart\"}...\n",
      "17    [{\"start\": 18, \"end\": 29, \"tag\": \"digitalart\"}...\n",
      "18                                                  NaN\n",
      "19                                                  NaN\n",
      "20                                                  NaN\n",
      "21                                                  NaN\n",
      "22                                                  NaN\n",
      "Name: entities.hashtags, dtype: object, '1336615116205277185': 0     [{\"start\": 262, \"end\": 273, \"tag\": \"PrideMonth\"}]\n",
      "1                                                   NaN\n",
      "2                                                   NaN\n",
      "3                                                   NaN\n",
      "4                                                   NaN\n",
      "                            ...                        \n",
      "93                                                  NaN\n",
      "94                                                  NaN\n",
      "95                                                  NaN\n",
      "96                                                  NaN\n",
      "97                                                  NaN\n",
      "Name: entities.hashtags, Length: 98, dtype: object, '765619345649242112': 0       [{\"start\": 62, \"end\": 73, \"tag\": \"PrideMonth\"}]\n",
      "1     [{\"start\": 90, \"end\": 95, \"tag\": \"love\"}, {\"st...\n",
      "2                                                   NaN\n",
      "3                                                   NaN\n",
      "4                                                   NaN\n",
      "                            ...                        \n",
      "68    [{\"start\": 254, \"end\": 278, \"tag\": \"PawprintsW...\n",
      "69    [{\"start\": 8, \"end\": 25, \"tag\": \"birkenheadpri...\n",
      "70                                                  NaN\n",
      "71                                                  NaN\n",
      "72    [{\"start\": 70, \"end\": 86, \"tag\": \"frenchienetw...\n",
      "Name: entities.hashtags, Length: 73, dtype: object, '1210602726544928768': 0                                                   NaN\n",
      "1                                                   NaN\n",
      "2                                                   NaN\n",
      "3                                                   NaN\n",
      "4     [{\"start\": 29, \"end\": 46, \"tag\": \"BoldandBeaut...\n",
      "                            ...                        \n",
      "95                                                  NaN\n",
      "96                                                  NaN\n",
      "97                                                  NaN\n",
      "98                                                  NaN\n",
      "99                                                  NaN\n",
      "Name: entities.hashtags, Length: 100, dtype: object, '1162732357323018240': 0                                                   NaN\n",
      "1                                                   NaN\n",
      "2     [{\"start\": 10, \"end\": 20, \"tag\": \"BTS_Proof\"},...\n",
      "3                                                   NaN\n",
      "4                                                   NaN\n",
      "                            ...                        \n",
      "92                                                  NaN\n",
      "93                                                  NaN\n",
      "94                                                  NaN\n",
      "95                                                  NaN\n",
      "96                                                  NaN\n",
      "Name: entities.hashtags, Length: 97, dtype: object, '1277572521206976512': 0              [{\"start\": 39, \"end\": 43, \"tag\": \"ow2\"}]\n",
      "1     [{\"start\": 44, \"end\": 47, \"tag\": \"\\u5f71\\u65e5...\n",
      "2     [{\"start\": 14, \"end\": 21, \"tag\": \"ezreal\"}, {\"...\n",
      "3                                                   NaN\n",
      "4                                                   NaN\n",
      "                            ...                        \n",
      "95                                                  NaN\n",
      "96           [{\"start\": 0, \"end\": 8, \"tag\": \"zhongli\"}]\n",
      "97           [{\"start\": 0, \"end\": 8, \"tag\": \"thomato\"}]\n",
      "98                                                  NaN\n",
      "99    [{\"start\": 33, \"end\": 41, \"tag\": \"xingyun\"}, {...\n",
      "Name: entities.hashtags, Length: 100, dtype: object, '733395976174456833': 0     [{\"start\": 166, \"end\": 172, \"tag\": \"Pride\"}, {...\n",
      "1     [{\"start\": 59, \"end\": 71, \"tag\": \"researchers\"...\n",
      "2                                                   NaN\n",
      "3     [{\"start\": 0, \"end\": 6, \"tag\": \"Women\"}, {\"sta...\n",
      "4                                                   NaN\n",
      "                            ...                        \n",
      "95                                                  NaN\n",
      "96                                                  NaN\n",
      "97                                                  NaN\n",
      "98                                                  NaN\n",
      "99    [{\"start\": 46, \"end\": 51, \"tag\": \"Deaf\"}, {\"st...\n",
      "Name: entities.hashtags, Length: 100, dtype: object, '859310312842985472': 0     [{\"start\": 22, \"end\": 37, \"tag\": \"PrideChallen...\n",
      "1                                                   NaN\n",
      "2          [{\"start\": 165, \"end\": 171, \"tag\": \"Queen\"}]\n",
      "3                                                   NaN\n",
      "4                                                   NaN\n",
      "                            ...                        \n",
      "94      [{\"start\": 0, \"end\": 12, \"tag\": \"lovebelfast\"}]\n",
      "95    [{\"start\": 254, \"end\": 262, \"tag\": \"QALLive\"},...\n",
      "96                                                  NaN\n",
      "97                                                  NaN\n",
      "98                                                  NaN\n",
      "Name: entities.hashtags, Length: 99, dtype: object, '1518467048015290368': 0                                                   NaN\n",
      "1                                                   NaN\n",
      "2                                                   NaN\n",
      "3                                                   NaN\n",
      "4        [{\"start\": 6, \"end\": 17, \"tag\": \"PrideMonth\"}]\n",
      "                            ...                        \n",
      "58                                                  NaN\n",
      "59      [{\"start\": 80, \"end\": 91, \"tag\": \"Masoquista\"}]\n",
      "60    [{\"start\": 30, \"end\": 34, \"tag\": \"gay\"}, {\"sta...\n",
      "61                                                  NaN\n",
      "62     [{\"start\": 27, \"end\": 39, \"tag\": \"CutiePieEP9\"}]\n",
      "Name: entities.hashtags, Length: 63, dtype: object, '567221275': 0        [{\"start\": 6, \"end\": 17, \"tag\": \"PrideMonth\"}]\n",
      "1                                                   NaN\n",
      "2     [{\"start\": 149, \"end\": 154, \"tag\": \"PAWB\"}, {\"...\n",
      "3                                                   NaN\n",
      "4                                                   NaN\n",
      "                            ...                        \n",
      "95                                                  NaN\n",
      "96    [{\"start\": 209, \"end\": 226, \"tag\": \"Justice4Gr...\n",
      "97                                                  NaN\n",
      "98                                                  NaN\n",
      "99                                                  NaN\n",
      "Name: entities.hashtags, Length: 100, dtype: object, '1535026287860846592': 0                                                   NaN\n",
      "1                                                   NaN\n",
      "2                                                   NaN\n",
      "3                                                   NaN\n",
      "4     [{\"start\": 259, \"end\": 268, \"tag\": \"Akiverse\"}...\n",
      "                            ...                        \n",
      "95                                                  NaN\n",
      "96                                                  NaN\n",
      "97                                                  NaN\n",
      "98                                                  NaN\n",
      "99    [{\"start\": 162, \"end\": 166, \"tag\": \"NFT\"}, {\"s...\n",
      "Name: entities.hashtags, Length: 100, dtype: object, '1402789434211192839': 0     NaN\n",
      "1     NaN\n",
      "2     NaN\n",
      "3     NaN\n",
      "4     NaN\n",
      "     ... \n",
      "95    NaN\n",
      "96    NaN\n",
      "97    NaN\n",
      "98    NaN\n",
      "99    NaN\n",
      "Name: entities.hashtags, Length: 100, dtype: object, '1536935858493960193': 0                                                   NaN\n",
      "1     [{\"start\": 118, \"end\": 133, \"tag\": \"cryptocurr...\n",
      "2     [{\"start\": 97, \"end\": 101, \"tag\": \"P2E\"}, {\"st...\n",
      "3     [{\"start\": 196, \"end\": 212, \"tag\": \"SolanaComm...\n",
      "4                                                   NaN\n",
      "                            ...                        \n",
      "94           [{\"start\": 0, \"end\": 8, \"tag\": \"GMTUSDT\"}]\n",
      "95    [{\"start\": 182, \"end\": 189, \"tag\": \"\\u0627\\u06...\n",
      "96    [{\"start\": 34, \"end\": 41, \"tag\": \"DejaVu\"}, {\"...\n",
      "97                                                  NaN\n",
      "98    [{\"start\": 107, \"end\": 114, \"tag\": \"crypto\"}, ...\n",
      "Name: entities.hashtags, Length: 99, dtype: object, '416124325': 0     [{\"start\": 14, \"end\": 33, \"tag\": \"pridemarchfe...\n",
      "1     [{\"start\": 112, \"end\": 124, \"tag\": \"AlabForLov...\n",
      "2     [{\"start\": 20, \"end\": 31, \"tag\": \"PrideMarch\"}...\n",
      "3                                                   NaN\n",
      "4                                                   NaN\n",
      "                            ...                        \n",
      "95                                                  NaN\n",
      "96                                                  NaN\n",
      "97                                                  NaN\n",
      "98                                                  NaN\n",
      "99                                                  NaN\n",
      "Name: entities.hashtags, Length: 100, dtype: object, '2601350659': 0     [{\"start\": 9, \"end\": 15, \"tag\": \"Pride\"}, {\"st...\n",
      "1                                                   NaN\n",
      "2     [{\"start\": 75, \"end\": 83, \"tag\": \"shrooms\"}, {...\n",
      "3                                                   NaN\n",
      "4                                                   NaN\n",
      "                            ...                        \n",
      "95    [{\"start\": 22, \"end\": 35, \"tag\": \"chiropractic...\n",
      "96                                                  NaN\n",
      "97                                                  NaN\n",
      "98                                                  NaN\n",
      "99                                                  NaN\n",
      "Name: entities.hashtags, Length: 100, dtype: object, '3141243387': 0     [{\"start\": 32, \"end\": 49, \"tag\": \"GoaPrideFest...\n",
      "1     [{\"start\": 157, \"end\": 175, \"tag\": \"ThrowbackT...\n",
      "2     [{\"start\": 170, \"end\": 179, \"tag\": \"theqknit\"}...\n",
      "3     [{\"start\": 255, \"end\": 264, \"tag\": \"theqknit\"}...\n",
      "4     [{\"start\": 90, \"end\": 99, \"tag\": \"theqknit\"}, ...\n",
      "                            ...                        \n",
      "95    [{\"start\": 104, \"end\": 113, \"tag\": \"theqknit\"}...\n",
      "96    [{\"start\": 65, \"end\": 76, \"tag\": \"Bangladesh\"}...\n",
      "97    [{\"start\": 65, \"end\": 76, \"tag\": \"Bangladesh\"}...\n",
      "98    [{\"start\": 65, \"end\": 76, \"tag\": \"Bangladesh\"}...\n",
      "99    [{\"start\": 87, \"end\": 97, \"tag\": \"SAYAN2022\"},...\n",
      "Name: entities.hashtags, Length: 100, dtype: object, '1312430963679539201': 0     [{\"start\": 40, \"end\": 46, \"tag\": \"PRIDE\"}, {\"s...\n",
      "1     [{\"start\": 13, \"end\": 27, \"tag\": \"LifeisStrang...\n",
      "2     [{\"start\": 171, \"end\": 187, \"tag\": \"silencethe...\n",
      "3                                                   NaN\n",
      "4                                                   NaN\n",
      "                            ...                        \n",
      "94                                                  NaN\n",
      "95                                                  NaN\n",
      "96                                                  NaN\n",
      "97                                                  NaN\n",
      "98                                                  NaN\n",
      "Name: entities.hashtags, Length: 99, dtype: object}\n"
     ]
    }
   ],
   "source": [
    "print(hashtag_for_user)"
   ]
  },
  {
   "cell_type": "code",
   "execution_count": 31,
   "metadata": {},
   "outputs": [],
   "source": [
    "user=[]\n",
    "hashtag=[]\n",
    "for k,v in hashtag_for_user.items():\n",
    "    user.append(k)\n",
    "    hashtag.append(v)"
   ]
  },
  {
   "cell_type": "code",
   "execution_count": 32,
   "metadata": {},
   "outputs": [
    {
     "data": {
      "text/html": [
       "<div>\n",
       "<style scoped>\n",
       "    .dataframe tbody tr th:only-of-type {\n",
       "        vertical-align: middle;\n",
       "    }\n",
       "\n",
       "    .dataframe tbody tr th {\n",
       "        vertical-align: top;\n",
       "    }\n",
       "\n",
       "    .dataframe thead th {\n",
       "        text-align: right;\n",
       "    }\n",
       "</style>\n",
       "<table border=\"1\" class=\"dataframe\">\n",
       "  <thead>\n",
       "    <tr style=\"text-align: right;\">\n",
       "      <th></th>\n",
       "      <th>user_id</th>\n",
       "      <th>hashtag</th>\n",
       "    </tr>\n",
       "  </thead>\n",
       "  <tbody>\n",
       "    <tr>\n",
       "      <th>0</th>\n",
       "      <td>1223469869972115463</td>\n",
       "      <td>0                                             ...</td>\n",
       "    </tr>\n",
       "    <tr>\n",
       "      <th>1</th>\n",
       "      <td>4853316232</td>\n",
       "      <td>0       [{\"start\": 84, \"end\": 95, \"tag\": \"Prid...</td>\n",
       "    </tr>\n",
       "    <tr>\n",
       "      <th>2</th>\n",
       "      <td>1405585333857701891</td>\n",
       "      <td>0     [{\"start\": 48, \"end\": 58, \"tag\": \"girlga...</td>\n",
       "    </tr>\n",
       "    <tr>\n",
       "      <th>3</th>\n",
       "      <td>863330868542279680</td>\n",
       "      <td>0     [{\"start\": 232, \"end\": 243, \"tag\": \"Prid...</td>\n",
       "    </tr>\n",
       "    <tr>\n",
       "      <th>4</th>\n",
       "      <td>1462148271711870976</td>\n",
       "      <td>0                                             ...</td>\n",
       "    </tr>\n",
       "    <tr>\n",
       "      <th>...</th>\n",
       "      <td>...</td>\n",
       "      <td>...</td>\n",
       "    </tr>\n",
       "    <tr>\n",
       "      <th>88</th>\n",
       "      <td>1536935858493960193</td>\n",
       "      <td>0                                             ...</td>\n",
       "    </tr>\n",
       "    <tr>\n",
       "      <th>89</th>\n",
       "      <td>416124325</td>\n",
       "      <td>0     [{\"start\": 14, \"end\": 33, \"tag\": \"pridem...</td>\n",
       "    </tr>\n",
       "    <tr>\n",
       "      <th>90</th>\n",
       "      <td>2601350659</td>\n",
       "      <td>0     [{\"start\": 9, \"end\": 15, \"tag\": \"Pride\"}...</td>\n",
       "    </tr>\n",
       "    <tr>\n",
       "      <th>91</th>\n",
       "      <td>3141243387</td>\n",
       "      <td>0     [{\"start\": 32, \"end\": 49, \"tag\": \"GoaPri...</td>\n",
       "    </tr>\n",
       "    <tr>\n",
       "      <th>92</th>\n",
       "      <td>1312430963679539201</td>\n",
       "      <td>0     [{\"start\": 40, \"end\": 46, \"tag\": \"PRIDE\"...</td>\n",
       "    </tr>\n",
       "  </tbody>\n",
       "</table>\n",
       "<p>93 rows × 2 columns</p>\n",
       "</div>"
      ],
      "text/plain": [
       "                user_id                                            hashtag\n",
       "0   1223469869972115463  0                                             ...\n",
       "1            4853316232  0       [{\"start\": 84, \"end\": 95, \"tag\": \"Prid...\n",
       "2   1405585333857701891  0     [{\"start\": 48, \"end\": 58, \"tag\": \"girlga...\n",
       "3    863330868542279680  0     [{\"start\": 232, \"end\": 243, \"tag\": \"Prid...\n",
       "4   1462148271711870976  0                                             ...\n",
       "..                  ...                                                ...\n",
       "88  1536935858493960193  0                                             ...\n",
       "89            416124325  0     [{\"start\": 14, \"end\": 33, \"tag\": \"pridem...\n",
       "90           2601350659  0     [{\"start\": 9, \"end\": 15, \"tag\": \"Pride\"}...\n",
       "91           3141243387  0     [{\"start\": 32, \"end\": 49, \"tag\": \"GoaPri...\n",
       "92  1312430963679539201  0     [{\"start\": 40, \"end\": 46, \"tag\": \"PRIDE\"...\n",
       "\n",
       "[93 rows x 2 columns]"
      ]
     },
     "execution_count": 32,
     "metadata": {},
     "output_type": "execute_result"
    }
   ],
   "source": [
    "df_IDK1=pd.DataFrame({\"user_id\":user,\n",
    "                        \"hashtag\":hashtag})\n",
    "df_IDK1"
   ]
  },
  {
   "cell_type": "markdown",
   "metadata": {},
   "source": [
    "### METODO 1"
   ]
  },
  {
   "cell_type": "markdown",
   "metadata": {},
   "source": [
    "df_IDK1=pd.DataFrame({\"id_user\": user_id, \n",
    "                     \"text\": text,\n",
    "                     \"hashtag_user\": hashtag_user,\n",
    "                     \"xashtag\":cashtag,\n",
    "                     \"mentions\": mentions\n",
    "                          })\n",
    "df_IDK1"
   ]
  },
  {
   "cell_type": "code",
   "execution_count": 33,
   "metadata": {
    "scrolled": true
   },
   "outputs": [
    {
     "data": {
      "text/html": [
       "<div>\n",
       "<style scoped>\n",
       "    .dataframe tbody tr th:only-of-type {\n",
       "        vertical-align: middle;\n",
       "    }\n",
       "\n",
       "    .dataframe tbody tr th {\n",
       "        vertical-align: top;\n",
       "    }\n",
       "\n",
       "    .dataframe thead th {\n",
       "        text-align: right;\n",
       "    }\n",
       "</style>\n",
       "<table border=\"1\" class=\"dataframe\">\n",
       "  <thead>\n",
       "    <tr style=\"text-align: right;\">\n",
       "      <th></th>\n",
       "      <th>user_id</th>\n",
       "      <th>hashtag</th>\n",
       "    </tr>\n",
       "  </thead>\n",
       "  <tbody>\n",
       "    <tr>\n",
       "      <th>0</th>\n",
       "      <td>1003628556</td>\n",
       "      <td>0                                             ...</td>\n",
       "    </tr>\n",
       "    <tr>\n",
       "      <th>1</th>\n",
       "      <td>1026481297756180481</td>\n",
       "      <td>0     [{\"start\": 45, \"end\": 55, \"tag\": \"divers...</td>\n",
       "    </tr>\n",
       "    <tr>\n",
       "      <th>2</th>\n",
       "      <td>1075299448572530690</td>\n",
       "      <td>0     [{\"start\": 258, \"end\": 269, \"tag\": \"prid...</td>\n",
       "    </tr>\n",
       "    <tr>\n",
       "      <th>3</th>\n",
       "      <td>111338251</td>\n",
       "      <td>0       [{\"start\": 11, \"end\": 22, \"tag\": \"Prid...</td>\n",
       "    </tr>\n",
       "    <tr>\n",
       "      <th>4</th>\n",
       "      <td>1118015712847695873</td>\n",
       "      <td>0                                             ...</td>\n",
       "    </tr>\n",
       "    <tr>\n",
       "      <th>...</th>\n",
       "      <td>...</td>\n",
       "      <td>...</td>\n",
       "    </tr>\n",
       "    <tr>\n",
       "      <th>88</th>\n",
       "      <td>935876604974239744</td>\n",
       "      <td>0     [{\"start\": 0, \"end\": 13, \"tag\": \"Bookoft...</td>\n",
       "    </tr>\n",
       "    <tr>\n",
       "      <th>89</th>\n",
       "      <td>956579916463640581</td>\n",
       "      <td>0                                             ...</td>\n",
       "    </tr>\n",
       "    <tr>\n",
       "      <th>90</th>\n",
       "      <td>956635382757588992</td>\n",
       "      <td>0     [{\"start\": 247, \"end\": 258, \"tag\": \"Prid...</td>\n",
       "    </tr>\n",
       "    <tr>\n",
       "      <th>91</th>\n",
       "      <td>983989988412084225</td>\n",
       "      <td>0     [{\"start\": 248, \"end\": 256, \"tag\": \"swin...</td>\n",
       "    </tr>\n",
       "    <tr>\n",
       "      <th>92</th>\n",
       "      <td>992421214764220416</td>\n",
       "      <td>0     [{\"start\": 11, \"end\": 17, \"tag\": \"pride\"...</td>\n",
       "    </tr>\n",
       "  </tbody>\n",
       "</table>\n",
       "<p>93 rows × 2 columns</p>\n",
       "</div>"
      ],
      "text/plain": [
       "                user_id                                            hashtag\n",
       "0            1003628556  0                                             ...\n",
       "1   1026481297756180481  0     [{\"start\": 45, \"end\": 55, \"tag\": \"divers...\n",
       "2   1075299448572530690  0     [{\"start\": 258, \"end\": 269, \"tag\": \"prid...\n",
       "3             111338251  0       [{\"start\": 11, \"end\": 22, \"tag\": \"Prid...\n",
       "4   1118015712847695873  0                                             ...\n",
       "..                  ...                                                ...\n",
       "88   935876604974239744  0     [{\"start\": 0, \"end\": 13, \"tag\": \"Bookoft...\n",
       "89   956579916463640581  0                                             ...\n",
       "90   956635382757588992  0     [{\"start\": 247, \"end\": 258, \"tag\": \"Prid...\n",
       "91   983989988412084225  0     [{\"start\": 248, \"end\": 256, \"tag\": \"swin...\n",
       "92   992421214764220416  0     [{\"start\": 11, \"end\": 17, \"tag\": \"pride\"...\n",
       "\n",
       "[93 rows x 2 columns]"
      ]
     },
     "execution_count": 33,
     "metadata": {},
     "output_type": "execute_result"
    }
   ],
   "source": [
    "#group by user\n",
    "df_IDK1.groupby(by=\"user_id\").sum().reset_index()"
   ]
  },
  {
   "cell_type": "code",
   "execution_count": 34,
   "metadata": {},
   "outputs": [
    {
     "data": {
      "text/plain": [
       "0"
      ]
     },
     "execution_count": 34,
     "metadata": {},
     "output_type": "execute_result"
    }
   ],
   "source": [
    "df_IDK1[\"hashtag\"].isna().sum()"
   ]
  },
  {
   "cell_type": "raw",
   "metadata": {},
   "source": [
    "df_IDK1=df_IDK1.dropna()\n",
    "df_IDK1.reset_index(drop=True, inplace=True)\n",
    "df_IDK1"
   ]
  },
  {
   "cell_type": "markdown",
   "metadata": {},
   "source": [
    "la lista di hahstags usati dall'utente contiene troppi valori nulli (causa=variabile creata da twark)"
   ]
  },
  {
   "cell_type": "raw",
   "metadata": {},
   "source": [
    "df_IDK1.groupby(by=\"id_user\").sum().reset_index(inplace=True)"
   ]
  },
  {
   "cell_type": "code",
   "execution_count": 47,
   "metadata": {},
   "outputs": [
    {
     "ename": "ValueError",
     "evalue": "For argument \"inplace\" expected type bool, received type int.",
     "output_type": "error",
     "traceback": [
      "\u001b[1;31m---------------------------------------------------------------------------\u001b[0m",
      "\u001b[1;31mValueError\u001b[0m                                Traceback (most recent call last)",
      "\u001b[1;32m<ipython-input-47-60de3c629553>\u001b[0m in \u001b[0;36m<module>\u001b[1;34m\u001b[0m\n\u001b[0;32m      1\u001b[0m \u001b[0mrepl\u001b[0m\u001b[1;33m=\u001b[0m\u001b[1;33m[\u001b[0m\u001b[1;34m\"1\"\u001b[0m\u001b[1;33m,\u001b[0m\u001b[1;34m\"2\"\u001b[0m\u001b[1;33m,\u001b[0m\u001b[1;34m\"3\"\u001b[0m\u001b[1;33m,\u001b[0m\u001b[1;34m\"4\"\u001b[0m\u001b[1;33m,\u001b[0m\u001b[1;34m\"5\"\u001b[0m\u001b[1;33m,\u001b[0m\u001b[1;34m\"6\"\u001b[0m\u001b[1;33m,\u001b[0m\u001b[1;34m\"7\"\u001b[0m\u001b[1;33m,\u001b[0m\u001b[1;34m\"8\"\u001b[0m\u001b[1;33m,\u001b[0m\u001b[1;34m\"9\"\u001b[0m\u001b[1;33m,\u001b[0m\u001b[1;34m\"0\"\u001b[0m\u001b[1;33m,\u001b[0m\u001b[1;34m\"start\"\u001b[0m\u001b[1;33m,\u001b[0m\u001b[1;34m\"end\"\u001b[0m\u001b[1;33m,\u001b[0m \u001b[1;34m\"tag\"\u001b[0m\u001b[1;33m,\u001b[0m\u001b[1;34m\"[\"\u001b[0m\u001b[1;33m,\u001b[0m\u001b[1;34m\"{\"\u001b[0m\u001b[1;33m,\u001b[0m\u001b[1;34m\"}\"\u001b[0m\u001b[1;33m,\u001b[0m\u001b[1;34m\"]\"\u001b[0m\u001b[1;33m,\u001b[0m \u001b[1;34m\":\"\u001b[0m\u001b[1;33m,\u001b[0m\u001b[1;34m\",\"\u001b[0m\u001b[1;33m,\u001b[0m\u001b[1;34m\"\\\"\"\u001b[0m\u001b[1;33m]\u001b[0m\u001b[1;33m\u001b[0m\u001b[1;33m\u001b[0m\u001b[0m\n\u001b[0;32m      2\u001b[0m \u001b[1;32mfor\u001b[0m \u001b[0me\u001b[0m \u001b[1;32min\u001b[0m \u001b[0mrepl\u001b[0m \u001b[1;33m:\u001b[0m\u001b[1;33m\u001b[0m\u001b[1;33m\u001b[0m\u001b[0m\n\u001b[1;32m----> 3\u001b[1;33m     \u001b[0mdf_IDK1\u001b[0m\u001b[1;33m[\u001b[0m\u001b[1;34m'hashtag'\u001b[0m\u001b[1;33m]\u001b[0m\u001b[1;33m=\u001b[0m\u001b[0mdf_IDK1\u001b[0m\u001b[1;33m[\u001b[0m\u001b[1;34m'hashtag'\u001b[0m\u001b[1;33m]\u001b[0m\u001b[1;33m.\u001b[0m\u001b[0mstr\u001b[0m\u001b[1;33m.\u001b[0m\u001b[0mreplace\u001b[0m\u001b[1;33m(\u001b[0m\u001b[0me\u001b[0m\u001b[1;33m,\u001b[0m\u001b[1;34m\"\"\u001b[0m\u001b[1;33m)\u001b[0m\u001b[1;33m\u001b[0m\u001b[1;33m\u001b[0m\u001b[0m\n\u001b[0m",
      "\u001b[1;32m~\\anaconda3\\lib\\site-packages\\pandas\\core\\strings\\accessor.py\u001b[0m in \u001b[0;36mwrapper\u001b[1;34m(self, *args, **kwargs)\u001b[0m\n\u001b[0;32m    114\u001b[0m                 )\n\u001b[0;32m    115\u001b[0m                 \u001b[1;32mraise\u001b[0m \u001b[0mTypeError\u001b[0m\u001b[1;33m(\u001b[0m\u001b[0mmsg\u001b[0m\u001b[1;33m)\u001b[0m\u001b[1;33m\u001b[0m\u001b[1;33m\u001b[0m\u001b[0m\n\u001b[1;32m--> 116\u001b[1;33m             \u001b[1;32mreturn\u001b[0m \u001b[0mfunc\u001b[0m\u001b[1;33m(\u001b[0m\u001b[0mself\u001b[0m\u001b[1;33m,\u001b[0m \u001b[1;33m*\u001b[0m\u001b[0margs\u001b[0m\u001b[1;33m,\u001b[0m \u001b[1;33m**\u001b[0m\u001b[0mkwargs\u001b[0m\u001b[1;33m)\u001b[0m\u001b[1;33m\u001b[0m\u001b[1;33m\u001b[0m\u001b[0m\n\u001b[0m\u001b[0;32m    117\u001b[0m \u001b[1;33m\u001b[0m\u001b[0m\n\u001b[0;32m    118\u001b[0m         \u001b[0mwrapper\u001b[0m\u001b[1;33m.\u001b[0m\u001b[0m__name__\u001b[0m \u001b[1;33m=\u001b[0m \u001b[0mfunc_name\u001b[0m\u001b[1;33m\u001b[0m\u001b[1;33m\u001b[0m\u001b[0m\n",
      "\u001b[1;32m~\\anaconda3\\lib\\site-packages\\pandas\\core\\strings\\accessor.py\u001b[0m in \u001b[0;36mreplace\u001b[1;34m(self, pat, repl, n, case, flags, regex)\u001b[0m\n\u001b[0;32m   1399\u001b[0m             \u001b[0mcase\u001b[0m \u001b[1;33m=\u001b[0m \u001b[1;32mTrue\u001b[0m\u001b[1;33m\u001b[0m\u001b[1;33m\u001b[0m\u001b[0m\n\u001b[0;32m   1400\u001b[0m \u001b[1;33m\u001b[0m\u001b[0m\n\u001b[1;32m-> 1401\u001b[1;33m         result = self._data.array._str_replace(\n\u001b[0m\u001b[0;32m   1402\u001b[0m             \u001b[0mpat\u001b[0m\u001b[1;33m,\u001b[0m \u001b[0mrepl\u001b[0m\u001b[1;33m,\u001b[0m \u001b[0mn\u001b[0m\u001b[1;33m=\u001b[0m\u001b[0mn\u001b[0m\u001b[1;33m,\u001b[0m \u001b[0mcase\u001b[0m\u001b[1;33m=\u001b[0m\u001b[0mcase\u001b[0m\u001b[1;33m,\u001b[0m \u001b[0mflags\u001b[0m\u001b[1;33m=\u001b[0m\u001b[0mflags\u001b[0m\u001b[1;33m,\u001b[0m \u001b[0mregex\u001b[0m\u001b[1;33m=\u001b[0m\u001b[0mregex\u001b[0m\u001b[1;33m\u001b[0m\u001b[1;33m\u001b[0m\u001b[0m\n\u001b[0;32m   1403\u001b[0m         )\n",
      "\u001b[1;32m~\\anaconda3\\lib\\site-packages\\pandas\\core\\strings\\object_array.py\u001b[0m in \u001b[0;36m_str_replace\u001b[1;34m(self, pat, repl, n, case, flags, regex)\u001b[0m\n\u001b[0;32m    161\u001b[0m             \u001b[0mf\u001b[0m \u001b[1;33m=\u001b[0m \u001b[1;32mlambda\u001b[0m \u001b[0mx\u001b[0m\u001b[1;33m:\u001b[0m \u001b[0mx\u001b[0m\u001b[1;33m.\u001b[0m\u001b[0mreplace\u001b[0m\u001b[1;33m(\u001b[0m\u001b[0mpat\u001b[0m\u001b[1;33m,\u001b[0m \u001b[0mrepl\u001b[0m\u001b[1;33m,\u001b[0m \u001b[0mn\u001b[0m\u001b[1;33m)\u001b[0m\u001b[1;33m\u001b[0m\u001b[1;33m\u001b[0m\u001b[0m\n\u001b[0;32m    162\u001b[0m \u001b[1;33m\u001b[0m\u001b[0m\n\u001b[1;32m--> 163\u001b[1;33m         \u001b[1;32mreturn\u001b[0m \u001b[0mself\u001b[0m\u001b[1;33m.\u001b[0m\u001b[0m_str_map\u001b[0m\u001b[1;33m(\u001b[0m\u001b[0mf\u001b[0m\u001b[1;33m,\u001b[0m \u001b[0mdtype\u001b[0m\u001b[1;33m=\u001b[0m\u001b[0mstr\u001b[0m\u001b[1;33m)\u001b[0m\u001b[1;33m\u001b[0m\u001b[1;33m\u001b[0m\u001b[0m\n\u001b[0m\u001b[0;32m    164\u001b[0m \u001b[1;33m\u001b[0m\u001b[0m\n\u001b[0;32m    165\u001b[0m     \u001b[1;32mdef\u001b[0m \u001b[0m_str_repeat\u001b[0m\u001b[1;33m(\u001b[0m\u001b[0mself\u001b[0m\u001b[1;33m,\u001b[0m \u001b[0mrepeats\u001b[0m\u001b[1;33m)\u001b[0m\u001b[1;33m:\u001b[0m\u001b[1;33m\u001b[0m\u001b[1;33m\u001b[0m\u001b[0m\n",
      "\u001b[1;32m~\\anaconda3\\lib\\site-packages\\pandas\\core\\strings\\object_array.py\u001b[0m in \u001b[0;36m_str_map\u001b[1;34m(self, f, na_value, dtype, convert)\u001b[0m\n\u001b[0;32m     67\u001b[0m         \u001b[0mmap_convert\u001b[0m \u001b[1;33m=\u001b[0m \u001b[0mconvert\u001b[0m \u001b[1;32mand\u001b[0m \u001b[1;32mnot\u001b[0m \u001b[0mnp\u001b[0m\u001b[1;33m.\u001b[0m\u001b[0mall\u001b[0m\u001b[1;33m(\u001b[0m\u001b[0mmask\u001b[0m\u001b[1;33m)\u001b[0m\u001b[1;33m\u001b[0m\u001b[1;33m\u001b[0m\u001b[0m\n\u001b[0;32m     68\u001b[0m         \u001b[1;32mtry\u001b[0m\u001b[1;33m:\u001b[0m\u001b[1;33m\u001b[0m\u001b[1;33m\u001b[0m\u001b[0m\n\u001b[1;32m---> 69\u001b[1;33m             \u001b[0mresult\u001b[0m \u001b[1;33m=\u001b[0m \u001b[0mlib\u001b[0m\u001b[1;33m.\u001b[0m\u001b[0mmap_infer_mask\u001b[0m\u001b[1;33m(\u001b[0m\u001b[0marr\u001b[0m\u001b[1;33m,\u001b[0m \u001b[0mf\u001b[0m\u001b[1;33m,\u001b[0m \u001b[0mmask\u001b[0m\u001b[1;33m.\u001b[0m\u001b[0mview\u001b[0m\u001b[1;33m(\u001b[0m\u001b[0mnp\u001b[0m\u001b[1;33m.\u001b[0m\u001b[0muint8\u001b[0m\u001b[1;33m)\u001b[0m\u001b[1;33m,\u001b[0m \u001b[0mmap_convert\u001b[0m\u001b[1;33m)\u001b[0m\u001b[1;33m\u001b[0m\u001b[1;33m\u001b[0m\u001b[0m\n\u001b[0m\u001b[0;32m     70\u001b[0m         \u001b[1;32mexcept\u001b[0m \u001b[1;33m(\u001b[0m\u001b[0mTypeError\u001b[0m\u001b[1;33m,\u001b[0m \u001b[0mAttributeError\u001b[0m\u001b[1;33m)\u001b[0m \u001b[1;32mas\u001b[0m \u001b[0me\u001b[0m\u001b[1;33m:\u001b[0m\u001b[1;33m\u001b[0m\u001b[1;33m\u001b[0m\u001b[0m\n\u001b[0;32m     71\u001b[0m             \u001b[1;31m# Reraise the exception if callable `f` got wrong number of args.\u001b[0m\u001b[1;33m\u001b[0m\u001b[1;33m\u001b[0m\u001b[1;33m\u001b[0m\u001b[0m\n",
      "\u001b[1;32m~\\anaconda3\\lib\\site-packages\\pandas\\_libs\\lib.pyx\u001b[0m in \u001b[0;36mpandas._libs.lib.map_infer_mask\u001b[1;34m()\u001b[0m\n",
      "\u001b[1;32m~\\anaconda3\\lib\\site-packages\\pandas\\core\\strings\\object_array.py\u001b[0m in \u001b[0;36m<lambda>\u001b[1;34m(x)\u001b[0m\n\u001b[0;32m    159\u001b[0m             \u001b[0mf\u001b[0m \u001b[1;33m=\u001b[0m \u001b[1;32mlambda\u001b[0m \u001b[0mx\u001b[0m\u001b[1;33m:\u001b[0m \u001b[0mpat\u001b[0m\u001b[1;33m.\u001b[0m\u001b[0msub\u001b[0m\u001b[1;33m(\u001b[0m\u001b[0mrepl\u001b[0m\u001b[1;33m=\u001b[0m\u001b[0mrepl\u001b[0m\u001b[1;33m,\u001b[0m \u001b[0mstring\u001b[0m\u001b[1;33m=\u001b[0m\u001b[0mx\u001b[0m\u001b[1;33m,\u001b[0m \u001b[0mcount\u001b[0m\u001b[1;33m=\u001b[0m\u001b[0mn\u001b[0m\u001b[1;33m)\u001b[0m\u001b[1;33m\u001b[0m\u001b[1;33m\u001b[0m\u001b[0m\n\u001b[0;32m    160\u001b[0m         \u001b[1;32melse\u001b[0m\u001b[1;33m:\u001b[0m\u001b[1;33m\u001b[0m\u001b[1;33m\u001b[0m\u001b[0m\n\u001b[1;32m--> 161\u001b[1;33m             \u001b[0mf\u001b[0m \u001b[1;33m=\u001b[0m \u001b[1;32mlambda\u001b[0m \u001b[0mx\u001b[0m\u001b[1;33m:\u001b[0m \u001b[0mx\u001b[0m\u001b[1;33m.\u001b[0m\u001b[0mreplace\u001b[0m\u001b[1;33m(\u001b[0m\u001b[0mpat\u001b[0m\u001b[1;33m,\u001b[0m \u001b[0mrepl\u001b[0m\u001b[1;33m,\u001b[0m \u001b[0mn\u001b[0m\u001b[1;33m)\u001b[0m\u001b[1;33m\u001b[0m\u001b[1;33m\u001b[0m\u001b[0m\n\u001b[0m\u001b[0;32m    162\u001b[0m \u001b[1;33m\u001b[0m\u001b[0m\n\u001b[0;32m    163\u001b[0m         \u001b[1;32mreturn\u001b[0m \u001b[0mself\u001b[0m\u001b[1;33m.\u001b[0m\u001b[0m_str_map\u001b[0m\u001b[1;33m(\u001b[0m\u001b[0mf\u001b[0m\u001b[1;33m,\u001b[0m \u001b[0mdtype\u001b[0m\u001b[1;33m=\u001b[0m\u001b[0mstr\u001b[0m\u001b[1;33m)\u001b[0m\u001b[1;33m\u001b[0m\u001b[1;33m\u001b[0m\u001b[0m\n",
      "\u001b[1;32m~\\anaconda3\\lib\\site-packages\\pandas\\core\\series.py\u001b[0m in \u001b[0;36mreplace\u001b[1;34m(self, to_replace, value, inplace, limit, regex, method)\u001b[0m\n\u001b[0;32m   4866\u001b[0m         \u001b[0mmethod\u001b[0m\u001b[1;33m=\u001b[0m\u001b[1;34m\"pad\"\u001b[0m\u001b[1;33m,\u001b[0m\u001b[1;33m\u001b[0m\u001b[1;33m\u001b[0m\u001b[0m\n\u001b[0;32m   4867\u001b[0m     ):\n\u001b[1;32m-> 4868\u001b[1;33m         return super().replace(\n\u001b[0m\u001b[0;32m   4869\u001b[0m             \u001b[0mto_replace\u001b[0m\u001b[1;33m=\u001b[0m\u001b[0mto_replace\u001b[0m\u001b[1;33m,\u001b[0m\u001b[1;33m\u001b[0m\u001b[1;33m\u001b[0m\u001b[0m\n\u001b[0;32m   4870\u001b[0m             \u001b[0mvalue\u001b[0m\u001b[1;33m=\u001b[0m\u001b[0mvalue\u001b[0m\u001b[1;33m,\u001b[0m\u001b[1;33m\u001b[0m\u001b[1;33m\u001b[0m\u001b[0m\n",
      "\u001b[1;32m~\\anaconda3\\lib\\site-packages\\pandas\\core\\generic.py\u001b[0m in \u001b[0;36mreplace\u001b[1;34m(self, to_replace, value, inplace, limit, regex, method)\u001b[0m\n\u001b[0;32m   6464\u001b[0m             )\n\u001b[0;32m   6465\u001b[0m \u001b[1;33m\u001b[0m\u001b[0m\n\u001b[1;32m-> 6466\u001b[1;33m         \u001b[0minplace\u001b[0m \u001b[1;33m=\u001b[0m \u001b[0mvalidate_bool_kwarg\u001b[0m\u001b[1;33m(\u001b[0m\u001b[0minplace\u001b[0m\u001b[1;33m,\u001b[0m \u001b[1;34m\"inplace\"\u001b[0m\u001b[1;33m)\u001b[0m\u001b[1;33m\u001b[0m\u001b[1;33m\u001b[0m\u001b[0m\n\u001b[0m\u001b[0;32m   6467\u001b[0m         \u001b[1;32mif\u001b[0m \u001b[1;32mnot\u001b[0m \u001b[0mis_bool\u001b[0m\u001b[1;33m(\u001b[0m\u001b[0mregex\u001b[0m\u001b[1;33m)\u001b[0m \u001b[1;32mand\u001b[0m \u001b[0mto_replace\u001b[0m \u001b[1;32mis\u001b[0m \u001b[1;32mnot\u001b[0m \u001b[1;32mNone\u001b[0m\u001b[1;33m:\u001b[0m\u001b[1;33m\u001b[0m\u001b[1;33m\u001b[0m\u001b[0m\n\u001b[0;32m   6468\u001b[0m             \u001b[1;32mraise\u001b[0m \u001b[0mValueError\u001b[0m\u001b[1;33m(\u001b[0m\u001b[1;34m\"'to_replace' must be 'None' if 'regex' is not a bool\"\u001b[0m\u001b[1;33m)\u001b[0m\u001b[1;33m\u001b[0m\u001b[1;33m\u001b[0m\u001b[0m\n",
      "\u001b[1;32m~\\anaconda3\\lib\\site-packages\\pandas\\util\\_validators.py\u001b[0m in \u001b[0;36mvalidate_bool_kwarg\u001b[1;34m(value, arg_name, none_allowed, int_allowed)\u001b[0m\n\u001b[0;32m    244\u001b[0m \u001b[1;33m\u001b[0m\u001b[0m\n\u001b[0;32m    245\u001b[0m     \u001b[1;32mif\u001b[0m \u001b[1;32mnot\u001b[0m \u001b[0mgood_value\u001b[0m\u001b[1;33m:\u001b[0m\u001b[1;33m\u001b[0m\u001b[1;33m\u001b[0m\u001b[0m\n\u001b[1;32m--> 246\u001b[1;33m         raise ValueError(\n\u001b[0m\u001b[0;32m    247\u001b[0m             \u001b[1;34mf'For argument \"{arg_name}\" expected type bool, received '\u001b[0m\u001b[1;33m\u001b[0m\u001b[1;33m\u001b[0m\u001b[0m\n\u001b[0;32m    248\u001b[0m             \u001b[1;34mf\"type {type(value).__name__}.\"\u001b[0m\u001b[1;33m\u001b[0m\u001b[1;33m\u001b[0m\u001b[0m\n",
      "\u001b[1;31mValueError\u001b[0m: For argument \"inplace\" expected type bool, received type int."
     ]
    }
   ],
   "source": [
    "repl=[\"1\",\"2\",\"3\",\"4\",\"5\",\"6\",\"7\",\"8\",\"9\",\"0\",\"start\",\"end\", \"tag\",\"[\",\"{\",\"}\",\"]\", \":\",\",\",\"\\\"\"]\n",
    "for e in repl:\n",
    "    df_IDK1['hashtag']=df_IDK1['hashtag'].str.replace(e,\"\")"
   ]
  },
  {
   "cell_type": "code",
   "execution_count": 167,
   "metadata": {},
   "outputs": [],
   "source": [
    "df_IDK1['hashtag_user']=df_IDK1['hashtag_user'].apply(str).map(str.lower)\n",
    "df_IDK1['hashtag_user']=df_IDK1['hashtag_user'].apply(str).map(str.strip)\n",
    "df_IDK1['hashtag_user']=df_IDK1['hashtag_user'].apply(str).map(str.split)"
   ]
  },
  {
   "cell_type": "code",
   "execution_count": 168,
   "metadata": {},
   "outputs": [
    {
     "data": {
      "text/html": [
       "<div>\n",
       "<style scoped>\n",
       "    .dataframe tbody tr th:only-of-type {\n",
       "        vertical-align: middle;\n",
       "    }\n",
       "\n",
       "    .dataframe tbody tr th {\n",
       "        vertical-align: top;\n",
       "    }\n",
       "\n",
       "    .dataframe thead th {\n",
       "        text-align: right;\n",
       "    }\n",
       "</style>\n",
       "<table border=\"1\" class=\"dataframe\">\n",
       "  <thead>\n",
       "    <tr style=\"text-align: right;\">\n",
       "      <th></th>\n",
       "      <th>id_user</th>\n",
       "      <th>text</th>\n",
       "      <th>hashtag_user</th>\n",
       "      <th>tweet_id</th>\n",
       "      <th>hashtag_tweet</th>\n",
       "    </tr>\n",
       "  </thead>\n",
       "  <tbody>\n",
       "    <tr>\n",
       "      <th>0</th>\n",
       "      <td>1529344300760190976</td>\n",
       "      <td>Real change happens as a result of actions - n...</td>\n",
       "      <td>[cptsd, pluralgang, neisvoid, furry]</td>\n",
       "      <td>1540107749832290304</td>\n",
       "      <td>[{\"start\": 171, \"end\": 182, \"tag\": \"PrideMonth\"}]</td>\n",
       "    </tr>\n",
       "    <tr>\n",
       "      <th>1</th>\n",
       "      <td>881452504306810880</td>\n",
       "      <td>The last day of our Rainbow Challenge. 🌈  I’ve...</td>\n",
       "      <td>[mhhsbd, smartsocial]</td>\n",
       "      <td>1540107744832798721</td>\n",
       "      <td>[{\"start\": 174, \"end\": 183, \"tag\": \"EarlyBiz\"}...</td>\n",
       "    </tr>\n",
       "    <tr>\n",
       "      <th>2</th>\n",
       "      <td>4590435023</td>\n",
       "      <td>Our limited edition #Pride shirts will only be...</td>\n",
       "      <td>[traintwitter]</td>\n",
       "      <td>1540107437457321984</td>\n",
       "      <td>[{\"start\": 20, \"end\": 26, \"tag\": \"Pride\"}, {\"s...</td>\n",
       "    </tr>\n",
       "    <tr>\n",
       "      <th>3</th>\n",
       "      <td>73695550</td>\n",
       "      <td>🌈In #PrideMonth the 🇺🇳 #LGBTICoreGroup welcome...</td>\n",
       "      <td>[portugal, manchester]</td>\n",
       "      <td>1540107387763294208</td>\n",
       "      <td>[{\"start\": 4, \"end\": 15, \"tag\": \"PrideMonth\"},...</td>\n",
       "    </tr>\n",
       "    <tr>\n",
       "      <th>4</th>\n",
       "      <td>1381470808443252736</td>\n",
       "      <td>Bugs has got your back, so be free to be YOU! ...</td>\n",
       "      <td>[actuallyautistic]</td>\n",
       "      <td>1540107378342801409</td>\n",
       "      <td>[{\"start\": 134, \"end\": 145, \"tag\": \"happypride...</td>\n",
       "    </tr>\n",
       "    <tr>\n",
       "      <th>...</th>\n",
       "      <td>...</td>\n",
       "      <td>...</td>\n",
       "      <td>...</td>\n",
       "      <td>...</td>\n",
       "      <td>...</td>\n",
       "    </tr>\n",
       "    <tr>\n",
       "      <th>65</th>\n",
       "      <td>1322228267726729217</td>\n",
       "      <td>Let’s have a KIKI !!!! \\nEveryone come out to ...</td>\n",
       "      <td>[cmonni]</td>\n",
       "      <td>1540103292700614658</td>\n",
       "      <td>[{\"start\": 180, \"end\": 199, \"tag\": \"ballroomth...</td>\n",
       "    </tr>\n",
       "    <tr>\n",
       "      <th>66</th>\n",
       "      <td>1344072144850972672</td>\n",
       "      <td>@BlackBoxCameraC @sdcinvancouver @bettycjung @...</td>\n",
       "      <td>[transparency, accountability, prevention, ski...</td>\n",
       "      <td>1540103263319724042</td>\n",
       "      <td>[{\"start\": 312, \"end\": 323, \"tag\": \"PrideMonth\"}]</td>\n",
       "    </tr>\n",
       "    <tr>\n",
       "      <th>67</th>\n",
       "      <td>1481318871244193792</td>\n",
       "      <td>Proud of @zzdesign. Love the @jvnhair packagin...</td>\n",
       "      <td>[web, nfts]</td>\n",
       "      <td>1540103230423703553</td>\n",
       "      <td>[{\"start\": 102, \"end\": 113, \"tag\": \"PrideMonth...</td>\n",
       "    </tr>\n",
       "    <tr>\n",
       "      <th>68</th>\n",
       "      <td>857936728165896204</td>\n",
       "      <td>This petition, started by @taylorswift13 has a...</td>\n",
       "      <td>[passsafeact]</td>\n",
       "      <td>1540103223717101570</td>\n",
       "      <td>[{\"start\": 154, \"end\": 166, \"tag\": \"EqualityAc...</td>\n",
       "    </tr>\n",
       "    <tr>\n",
       "      <th>69</th>\n",
       "      <td>1322228267726729217</td>\n",
       "      <td>Let’s have a KIKI !!!! \\nEveryone come out to ...</td>\n",
       "      <td>[cmonni]</td>\n",
       "      <td>1540103216905326592</td>\n",
       "      <td>[{\"start\": 180, \"end\": 199, \"tag\": \"ballroomth...</td>\n",
       "    </tr>\n",
       "  </tbody>\n",
       "</table>\n",
       "<p>70 rows × 5 columns</p>\n",
       "</div>"
      ],
      "text/plain": [
       "                id_user                                               text  \\\n",
       "0   1529344300760190976  Real change happens as a result of actions - n...   \n",
       "1    881452504306810880  The last day of our Rainbow Challenge. 🌈  I’ve...   \n",
       "2            4590435023  Our limited edition #Pride shirts will only be...   \n",
       "3              73695550  🌈In #PrideMonth the 🇺🇳 #LGBTICoreGroup welcome...   \n",
       "4   1381470808443252736  Bugs has got your back, so be free to be YOU! ...   \n",
       "..                  ...                                                ...   \n",
       "65  1322228267726729217  Let’s have a KIKI !!!! \\nEveryone come out to ...   \n",
       "66  1344072144850972672  @BlackBoxCameraC @sdcinvancouver @bettycjung @...   \n",
       "67  1481318871244193792  Proud of @zzdesign. Love the @jvnhair packagin...   \n",
       "68   857936728165896204  This petition, started by @taylorswift13 has a...   \n",
       "69  1322228267726729217  Let’s have a KIKI !!!! \\nEveryone come out to ...   \n",
       "\n",
       "                                         hashtag_user             tweet_id  \\\n",
       "0                [cptsd, pluralgang, neisvoid, furry]  1540107749832290304   \n",
       "1                               [mhhsbd, smartsocial]  1540107744832798721   \n",
       "2                                      [traintwitter]  1540107437457321984   \n",
       "3                              [portugal, manchester]  1540107387763294208   \n",
       "4                                  [actuallyautistic]  1540107378342801409   \n",
       "..                                                ...                  ...   \n",
       "65                                           [cmonni]  1540103292700614658   \n",
       "66  [transparency, accountability, prevention, ski...  1540103263319724042   \n",
       "67                                        [web, nfts]  1540103230423703553   \n",
       "68                                      [passsafeact]  1540103223717101570   \n",
       "69                                           [cmonni]  1540103216905326592   \n",
       "\n",
       "                                        hashtag_tweet  \n",
       "0   [{\"start\": 171, \"end\": 182, \"tag\": \"PrideMonth\"}]  \n",
       "1   [{\"start\": 174, \"end\": 183, \"tag\": \"EarlyBiz\"}...  \n",
       "2   [{\"start\": 20, \"end\": 26, \"tag\": \"Pride\"}, {\"s...  \n",
       "3   [{\"start\": 4, \"end\": 15, \"tag\": \"PrideMonth\"},...  \n",
       "4   [{\"start\": 134, \"end\": 145, \"tag\": \"happypride...  \n",
       "..                                                ...  \n",
       "65  [{\"start\": 180, \"end\": 199, \"tag\": \"ballroomth...  \n",
       "66  [{\"start\": 312, \"end\": 323, \"tag\": \"PrideMonth\"}]  \n",
       "67  [{\"start\": 102, \"end\": 113, \"tag\": \"PrideMonth...  \n",
       "68  [{\"start\": 154, \"end\": 166, \"tag\": \"EqualityAc...  \n",
       "69  [{\"start\": 180, \"end\": 199, \"tag\": \"ballroomth...  \n",
       "\n",
       "[70 rows x 5 columns]"
      ]
     },
     "execution_count": 168,
     "metadata": {},
     "output_type": "execute_result"
    }
   ],
   "source": [
    "df_IDK1"
   ]
  },
  {
   "cell_type": "code",
   "execution_count": 169,
   "metadata": {},
   "outputs": [
    {
     "name": "stdout",
     "output_type": "stream",
     "text": [
      "<class 'list'>\n"
     ]
    }
   ],
   "source": [
    "print(type(df_IDK1['hashtag_user'][16]))"
   ]
  },
  {
   "cell_type": "code",
   "execution_count": 170,
   "metadata": {},
   "outputs": [
    {
     "name": "stdout",
     "output_type": "stream",
     "text": [
      "<class 'set'>\n"
     ]
    }
   ],
   "source": [
    "df_IDK1['hashtag_user']=df_IDK1['hashtag_user'].apply(set)\n",
    "print(type(df_IDK1['hashtag_user'][16]))"
   ]
  },
  {
   "cell_type": "code",
   "execution_count": 171,
   "metadata": {},
   "outputs": [
    {
     "data": {
      "text/plain": [
       "(70, 5)"
      ]
     },
     "execution_count": 171,
     "metadata": {},
     "output_type": "execute_result"
    }
   ],
   "source": [
    "df_IDK1.shape"
   ]
  },
  {
   "cell_type": "code",
   "execution_count": 172,
   "metadata": {},
   "outputs": [
    {
     "name": "stdout",
     "output_type": "stream",
     "text": [
      "4 categoria {'neisvoid', 'furry', 'cptsd', 'pluralgang'}\n",
      "4 categoria {'smartsocial', 'mhhsbd'}\n",
      "4 categoria {'traintwitter'}\n",
      "4 categoria {'manchester', 'portugal'}\n",
      "4 categoria {'actuallyautistic'}\n",
      "4 categoria {'gohabsgo'}\n",
      "4 categoria {'lgbdropt'}\n",
      "4 categoria {'womenofcountry', 'military', 'countryartist', 'cmaawards', 'nashville', 'singersongwriter', 'countrybellesuk', 'country', 'countrymusic'}\n",
      "4 categoria {'cowboys'}\n",
      "4 categoria {'oneyouth', 'sexnotger', 'sexisreal', 'oneactivist'}\n",
      "4 categoria {'vtuber'}\n",
      "4 categoria {'protectroe', 'stopasianhate', 'neveragainisnow', 'blm', 'teampelosi', 'lgbtqmom', 'eranow'}\n",
      "4 categoria {'werewolf'}\n",
      "4 categoria {'madelocal'}\n",
      "4 categoria {'hbomaxsavebatwoman', 'savebatwoman', 'blackandautistic'}\n",
      "4 categoria {'passsafeact'}\n",
      "4 categoria {'eurovision'}\n",
      "4 categoria {'viclibraries', 'librarieschangelives'}\n",
      "4 categoria {'problack'}\n",
      "4 categoria {'pr', 'creditunions', 'communications', 'bizdev'}\n",
      "4 categoria {'carolina'}\n",
      "4 categoria {'ktbspa'}\n",
      "4 categoria {'womenofcountry', 'equalplay'}\n",
      "4 categoria {'blacklivesmatter'}\n",
      "4 categoria {'restorethesnyderverse', 'makethebatfleckmovie'}\n",
      "4 categoria {'guncontrol', 'resistanceunited', 'lgbtq', 'blm', 'voteblue', 'womensrights'}\n",
      "4 categoria {'womensvoices', 'blm', 'standwithukrain'}\n",
      "4 categoria {'homecoming'}\n",
      "4 categoria {'istandwithsashaandnaomi'}\n",
      "4 categoria {'younga', 'skills', 'innovation'}\n",
      "4 categoria {'bokuto'}\n",
      "4 categoria {'kidlit', 'poet', 'writingcommunity', 'horror', 'shortstory', 'farmer'}\n",
      "4 categoria {'johnnygotjustice', 'justiceforkaithehitchhiker', 'justiceformarilynmanson'}\n",
      "4 categoria {'blacklivesmatter'}\n",
      "4 categoria {'payitforward'}\n",
      "4 categoria {'nft', 'sacredgeometry', 'nftart', 'nftartist'}\n",
      "4 categoria {'baddiesection'}\n",
      "4 categoria {'blacklivesmatter'}\n",
      "4 categoria {'denimandrhinestones'}\n",
      "4 categoria {'proveemwrong'}\n",
      "4 categoria {'futurespeechlanguagepathologist', 'teamjesus', 'biblestudyteacher', 'carrieunderwood'}\n",
      "4 categoria {'ladypops', 'redbetty', 'lovecaroline'}\n",
      "4 categoria {'antifa', 'aphasia', 'writing', 'film', 'pwme', 'longcovid', 'videojourno'}\n",
      "4 categoria {'johnnygotjustice', 'justiceforkaithehitchhiker', 'justiceformarilynmanson'}\n",
      "4 categoria {'taxtherich', 'astoria'}\n",
      "4 categoria {'simpforshance'}\n",
      "4 categoria {'prowrestling', 'womenswrestling', 'thehex'}\n",
      "4 categoria {'wonderwoman', 'gay', 'gaybear', 'goldengirls'}\n",
      "4 categoria {'noombas', 'noombart'}\n",
      "4 categoria {'ut', 'txlege'}\n",
      "4 categoria {'blacktranslivesmatter'}\n",
      "4 categoria {'cmonni'}\n",
      "non è la 4 categoria {'istandwithukraine', 'borisismypm', 'womenwontwheesht', 'justiceforjohnnydepp'} {'istandwithukraine'}\n",
      "4 categoria {'ronweasley'}\n",
      "4 categoria {'jft', '\\\\ud\\\\u\\\\ud\\\\udc\\\\u\\\\ud\\\\ud\\\\u\\\\ud\\\\ua\\\\udc\\\\u\\\\ud\\\\ua\\\\ud\\\\ud', 'statueforeppy'}\n",
      "4 categoria {'cmonni'}\n",
      "4 categoria {'danayaazureradio', 'nexxlegacy', 'chicago', 'hflmag', 'csoo'}\n",
      "4 categoria {'followmego', '\\\\u\\\\u\\\\u\\\\u\\\\u\\\\uc\\\\u\\\\ud\\\\uf\\\\u\\\\uf\\\\u\\\\u\\\\u\\\\uf'}\n",
      "non è la 4 categoria {'istandwithukraine', 'borisismypm', 'womenwontwheesht', 'justiceforjohnnydepp'} {'istandwithukraine'}\n",
      "4 categoria {'cmonni'}\n",
      "4 categoria {'vegasborn'}\n",
      "4 categoria {'cmonni'}\n",
      "4 categoria {'cmonni'}\n",
      "4 categoria {'unionstrong'}\n",
      "4 categoria {'xrpl'}\n",
      "4 categoria {'cmonni'}\n",
      "4 categoria {'transparency', 'prevention', 'skininthegame', 'accountability'}\n",
      "4 categoria {'web', 'nfts'}\n",
      "4 categoria {'passsafeact'}\n",
      "4 categoria {'cmonni'}\n",
      "user 4 categoria 68/70\n"
     ]
    }
   ],
   "source": [
    "cat=[\"slavaukraini\",\"istandwithputin\",\"stopwarinukraine\",\"ukraine\",\"istandwithrussia\",\"istandwithukraine\",\"putin\"]\n",
    "cat=set(cat)\n",
    "count4=0\n",
    "count=0\n",
    "index=[]\n",
    "\n",
    "for i, row in enumerate(df_IDK1['hashtag_user']): \n",
    "    if row.intersection(cat)==set():#no intersezione   \n",
    "        # print(\"l'utente {}  appartiene alla 4 categoria\".format(col[1]), row.intersection(cat))\n",
    "        print(\"4 categoria\", row)\n",
    "        count4 += 1\n",
    "        \n",
    "    else: #c'è intersezione\n",
    "        print(\"non è la 4 categoria\",row,row.intersection(cat))\n",
    "        count += 1\n",
    "        index.append(i) #aggiungo alle rige da tgliere\n",
    "        #print(\"l'utente {} non  appartiene alla 4 categoria\".format(col[1]), row.intersection(cat))\n",
    "print(\"user 4 categoria {}/{}\".format(count4,count4+count))"
   ]
  },
  {
   "cell_type": "code",
   "execution_count": 173,
   "metadata": {},
   "outputs": [
    {
     "data": {
      "text/plain": [
       "{'cptsd', 'furry', 'neisvoid', 'pluralgang'}"
      ]
     },
     "execution_count": 173,
     "metadata": {},
     "output_type": "execute_result"
    }
   ],
   "source": [
    "df_IDK1['hashtag_user'][0]"
   ]
  },
  {
   "cell_type": "code",
   "execution_count": 174,
   "metadata": {},
   "outputs": [
    {
     "name": "stdout",
     "output_type": "stream",
     "text": [
      "The number of user to remove are: 2\n"
     ]
    }
   ],
   "source": [
    "print(\"The number of user to remove are:\", len(index))"
   ]
  },
  {
   "cell_type": "code",
   "execution_count": 175,
   "metadata": {},
   "outputs": [
    {
     "data": {
      "text/html": [
       "<div>\n",
       "<style scoped>\n",
       "    .dataframe tbody tr th:only-of-type {\n",
       "        vertical-align: middle;\n",
       "    }\n",
       "\n",
       "    .dataframe tbody tr th {\n",
       "        vertical-align: top;\n",
       "    }\n",
       "\n",
       "    .dataframe thead th {\n",
       "        text-align: right;\n",
       "    }\n",
       "</style>\n",
       "<table border=\"1\" class=\"dataframe\">\n",
       "  <thead>\n",
       "    <tr style=\"text-align: right;\">\n",
       "      <th></th>\n",
       "      <th>id_user</th>\n",
       "      <th>text</th>\n",
       "      <th>hashtag_user</th>\n",
       "      <th>tweet_id</th>\n",
       "      <th>hashtag_tweet</th>\n",
       "    </tr>\n",
       "  </thead>\n",
       "  <tbody>\n",
       "    <tr>\n",
       "      <th>0</th>\n",
       "      <td>1529344300760190976</td>\n",
       "      <td>Real change happens as a result of actions - n...</td>\n",
       "      <td>{neisvoid, furry, cptsd, pluralgang}</td>\n",
       "      <td>1540107749832290304</td>\n",
       "      <td>[{\"start\": 171, \"end\": 182, \"tag\": \"PrideMonth\"}]</td>\n",
       "    </tr>\n",
       "    <tr>\n",
       "      <th>1</th>\n",
       "      <td>881452504306810880</td>\n",
       "      <td>The last day of our Rainbow Challenge. 🌈  I’ve...</td>\n",
       "      <td>{smartsocial, mhhsbd}</td>\n",
       "      <td>1540107744832798721</td>\n",
       "      <td>[{\"start\": 174, \"end\": 183, \"tag\": \"EarlyBiz\"}...</td>\n",
       "    </tr>\n",
       "    <tr>\n",
       "      <th>2</th>\n",
       "      <td>4590435023</td>\n",
       "      <td>Our limited edition #Pride shirts will only be...</td>\n",
       "      <td>{traintwitter}</td>\n",
       "      <td>1540107437457321984</td>\n",
       "      <td>[{\"start\": 20, \"end\": 26, \"tag\": \"Pride\"}, {\"s...</td>\n",
       "    </tr>\n",
       "    <tr>\n",
       "      <th>3</th>\n",
       "      <td>73695550</td>\n",
       "      <td>🌈In #PrideMonth the 🇺🇳 #LGBTICoreGroup welcome...</td>\n",
       "      <td>{manchester, portugal}</td>\n",
       "      <td>1540107387763294208</td>\n",
       "      <td>[{\"start\": 4, \"end\": 15, \"tag\": \"PrideMonth\"},...</td>\n",
       "    </tr>\n",
       "    <tr>\n",
       "      <th>4</th>\n",
       "      <td>1381470808443252736</td>\n",
       "      <td>Bugs has got your back, so be free to be YOU! ...</td>\n",
       "      <td>{actuallyautistic}</td>\n",
       "      <td>1540107378342801409</td>\n",
       "      <td>[{\"start\": 134, \"end\": 145, \"tag\": \"happypride...</td>\n",
       "    </tr>\n",
       "    <tr>\n",
       "      <th>...</th>\n",
       "      <td>...</td>\n",
       "      <td>...</td>\n",
       "      <td>...</td>\n",
       "      <td>...</td>\n",
       "      <td>...</td>\n",
       "    </tr>\n",
       "    <tr>\n",
       "      <th>65</th>\n",
       "      <td>1322228267726729217</td>\n",
       "      <td>Let’s have a KIKI !!!! \\nEveryone come out to ...</td>\n",
       "      <td>{cmonni}</td>\n",
       "      <td>1540103292700614658</td>\n",
       "      <td>[{\"start\": 180, \"end\": 199, \"tag\": \"ballroomth...</td>\n",
       "    </tr>\n",
       "    <tr>\n",
       "      <th>66</th>\n",
       "      <td>1344072144850972672</td>\n",
       "      <td>@BlackBoxCameraC @sdcinvancouver @bettycjung @...</td>\n",
       "      <td>{transparency, prevention, skininthegame, acco...</td>\n",
       "      <td>1540103263319724042</td>\n",
       "      <td>[{\"start\": 312, \"end\": 323, \"tag\": \"PrideMonth\"}]</td>\n",
       "    </tr>\n",
       "    <tr>\n",
       "      <th>67</th>\n",
       "      <td>1481318871244193792</td>\n",
       "      <td>Proud of @zzdesign. Love the @jvnhair packagin...</td>\n",
       "      <td>{web, nfts}</td>\n",
       "      <td>1540103230423703553</td>\n",
       "      <td>[{\"start\": 102, \"end\": 113, \"tag\": \"PrideMonth...</td>\n",
       "    </tr>\n",
       "    <tr>\n",
       "      <th>68</th>\n",
       "      <td>857936728165896204</td>\n",
       "      <td>This petition, started by @taylorswift13 has a...</td>\n",
       "      <td>{passsafeact}</td>\n",
       "      <td>1540103223717101570</td>\n",
       "      <td>[{\"start\": 154, \"end\": 166, \"tag\": \"EqualityAc...</td>\n",
       "    </tr>\n",
       "    <tr>\n",
       "      <th>69</th>\n",
       "      <td>1322228267726729217</td>\n",
       "      <td>Let’s have a KIKI !!!! \\nEveryone come out to ...</td>\n",
       "      <td>{cmonni}</td>\n",
       "      <td>1540103216905326592</td>\n",
       "      <td>[{\"start\": 180, \"end\": 199, \"tag\": \"ballroomth...</td>\n",
       "    </tr>\n",
       "  </tbody>\n",
       "</table>\n",
       "<p>68 rows × 5 columns</p>\n",
       "</div>"
      ],
      "text/plain": [
       "                id_user                                               text  \\\n",
       "0   1529344300760190976  Real change happens as a result of actions - n...   \n",
       "1    881452504306810880  The last day of our Rainbow Challenge. 🌈  I’ve...   \n",
       "2            4590435023  Our limited edition #Pride shirts will only be...   \n",
       "3              73695550  🌈In #PrideMonth the 🇺🇳 #LGBTICoreGroup welcome...   \n",
       "4   1381470808443252736  Bugs has got your back, so be free to be YOU! ...   \n",
       "..                  ...                                                ...   \n",
       "65  1322228267726729217  Let’s have a KIKI !!!! \\nEveryone come out to ...   \n",
       "66  1344072144850972672  @BlackBoxCameraC @sdcinvancouver @bettycjung @...   \n",
       "67  1481318871244193792  Proud of @zzdesign. Love the @jvnhair packagin...   \n",
       "68   857936728165896204  This petition, started by @taylorswift13 has a...   \n",
       "69  1322228267726729217  Let’s have a KIKI !!!! \\nEveryone come out to ...   \n",
       "\n",
       "                                         hashtag_user             tweet_id  \\\n",
       "0                {neisvoid, furry, cptsd, pluralgang}  1540107749832290304   \n",
       "1                               {smartsocial, mhhsbd}  1540107744832798721   \n",
       "2                                      {traintwitter}  1540107437457321984   \n",
       "3                              {manchester, portugal}  1540107387763294208   \n",
       "4                                  {actuallyautistic}  1540107378342801409   \n",
       "..                                                ...                  ...   \n",
       "65                                           {cmonni}  1540103292700614658   \n",
       "66  {transparency, prevention, skininthegame, acco...  1540103263319724042   \n",
       "67                                        {web, nfts}  1540103230423703553   \n",
       "68                                      {passsafeact}  1540103223717101570   \n",
       "69                                           {cmonni}  1540103216905326592   \n",
       "\n",
       "                                        hashtag_tweet  \n",
       "0   [{\"start\": 171, \"end\": 182, \"tag\": \"PrideMonth\"}]  \n",
       "1   [{\"start\": 174, \"end\": 183, \"tag\": \"EarlyBiz\"}...  \n",
       "2   [{\"start\": 20, \"end\": 26, \"tag\": \"Pride\"}, {\"s...  \n",
       "3   [{\"start\": 4, \"end\": 15, \"tag\": \"PrideMonth\"},...  \n",
       "4   [{\"start\": 134, \"end\": 145, \"tag\": \"happypride...  \n",
       "..                                                ...  \n",
       "65  [{\"start\": 180, \"end\": 199, \"tag\": \"ballroomth...  \n",
       "66  [{\"start\": 312, \"end\": 323, \"tag\": \"PrideMonth\"}]  \n",
       "67  [{\"start\": 102, \"end\": 113, \"tag\": \"PrideMonth...  \n",
       "68  [{\"start\": 154, \"end\": 166, \"tag\": \"EqualityAc...  \n",
       "69  [{\"start\": 180, \"end\": 199, \"tag\": \"ballroomth...  \n",
       "\n",
       "[68 rows x 5 columns]"
      ]
     },
     "execution_count": 175,
     "metadata": {},
     "output_type": "execute_result"
    }
   ],
   "source": [
    "#remove users who don't belong to the 4 category from the dataset\n",
    "df_IDK1.drop(index)"
   ]
  },
  {
   "cell_type": "markdown",
   "metadata": {},
   "source": [
    "## METODO 2"
   ]
  },
  {
   "cell_type": "markdown",
   "metadata": {},
   "source": [
    "Per ogni tweet di un utente, vedere gli hashtag usati in quel particolare tweet e se nessuno di questi tweetweet viene categorizzato #proukr, #proruss, #pax, questo utente apparterrà alla 4 categoria:\"I don't care\"."
   ]
  },
  {
   "cell_type": "markdown",
   "metadata": {},
   "source": [
    "Definizione di utente attivo: se count(#eurovision2022)>thresold "
   ]
  },
  {
   "cell_type": "markdown",
   "metadata": {},
   "source": [
    "PROBLEMA: hashtags solo del tweet, non di tutti i tweet dell'utente, difficile capire se è veramente \"IDC\" solo guardando ai tweet di una query.\n",
    "ex. query:#eurovision2022: i tweet e hastags elativi solo ai tweet sul erovision. cosiderati i don't care solo perchè la query cerca tweet sull'eurovision"
   ]
  },
  {
   "cell_type": "code",
   "execution_count": 7,
   "metadata": {},
   "outputs": [
    {
     "data": {
      "text/html": [
       "<div>\n",
       "<style scoped>\n",
       "    .dataframe tbody tr th:only-of-type {\n",
       "        vertical-align: middle;\n",
       "    }\n",
       "\n",
       "    .dataframe tbody tr th {\n",
       "        vertical-align: top;\n",
       "    }\n",
       "\n",
       "    .dataframe thead th {\n",
       "        text-align: right;\n",
       "    }\n",
       "</style>\n",
       "<table border=\"1\" class=\"dataframe\">\n",
       "  <thead>\n",
       "    <tr style=\"text-align: right;\">\n",
       "      <th></th>\n",
       "      <th>id_user</th>\n",
       "      <th>tweet_id</th>\n",
       "      <th>hashtag_tweet</th>\n",
       "    </tr>\n",
       "  </thead>\n",
       "  <tbody>\n",
       "    <tr>\n",
       "      <th>0</th>\n",
       "      <td>958468364</td>\n",
       "      <td>1539573916749922305</td>\n",
       "      <td>[{\"start\": 0, \"end\": 15, \"tag\": \"Eurovision202...</td>\n",
       "    </tr>\n",
       "    <tr>\n",
       "      <th>1</th>\n",
       "      <td>1340151788775813121</td>\n",
       "      <td>1539557373102243842</td>\n",
       "      <td>[{\"start\": 51, \"end\": 62, \"tag\": \"Eurovision\"}...</td>\n",
       "    </tr>\n",
       "    <tr>\n",
       "      <th>2</th>\n",
       "      <td>102761770</td>\n",
       "      <td>1539546803288301568</td>\n",
       "      <td>[{\"start\": 28, \"end\": 36, \"tag\": \"NAM2022\"}, {...</td>\n",
       "    </tr>\n",
       "    <tr>\n",
       "      <th>3</th>\n",
       "      <td>225020883</td>\n",
       "      <td>1539544381513957379</td>\n",
       "      <td>[{\"start\": 28, \"end\": 36, \"tag\": \"NAM2022\"}, {...</td>\n",
       "    </tr>\n",
       "    <tr>\n",
       "      <th>4</th>\n",
       "      <td>1225427349040222209</td>\n",
       "      <td>1539543701743181826</td>\n",
       "      <td>[{\"start\": 32, \"end\": 47, \"tag\": \"eurovision20...</td>\n",
       "    </tr>\n",
       "    <tr>\n",
       "      <th>...</th>\n",
       "      <td>...</td>\n",
       "      <td>...</td>\n",
       "      <td>...</td>\n",
       "    </tr>\n",
       "    <tr>\n",
       "      <th>487</th>\n",
       "      <td>946194111295574016</td>\n",
       "      <td>1534150140629594112</td>\n",
       "      <td>[{\"start\": 20, \"end\": 24, \"tag\": \"NFT\"}, {\"sta...</td>\n",
       "    </tr>\n",
       "    <tr>\n",
       "      <th>488</th>\n",
       "      <td>1428347863503802374</td>\n",
       "      <td>1534149670544588801</td>\n",
       "      <td>[{\"start\": 0, \"end\": 24, \"tag\": \"galer\\u00edad...</td>\n",
       "    </tr>\n",
       "    <tr>\n",
       "      <th>489</th>\n",
       "      <td>1384243560099188737</td>\n",
       "      <td>1534149639494160385</td>\n",
       "      <td>[{\"start\": 0, \"end\": 24, \"tag\": \"galer\\u00edad...</td>\n",
       "    </tr>\n",
       "    <tr>\n",
       "      <th>490</th>\n",
       "      <td>2595085784</td>\n",
       "      <td>1534143450169352192</td>\n",
       "      <td>[{\"start\": 77, \"end\": 92, \"tag\": \"eurovision20...</td>\n",
       "    </tr>\n",
       "    <tr>\n",
       "      <th>491</th>\n",
       "      <td>1533343334294495232</td>\n",
       "      <td>1534143352542748672</td>\n",
       "      <td>[{\"start\": 75, \"end\": 86, \"tag\": \"Subwoolfer\"}...</td>\n",
       "    </tr>\n",
       "  </tbody>\n",
       "</table>\n",
       "<p>492 rows × 3 columns</p>\n",
       "</div>"
      ],
      "text/plain": [
       "                 id_user             tweet_id  \\\n",
       "0              958468364  1539573916749922305   \n",
       "1    1340151788775813121  1539557373102243842   \n",
       "2              102761770  1539546803288301568   \n",
       "3              225020883  1539544381513957379   \n",
       "4    1225427349040222209  1539543701743181826   \n",
       "..                   ...                  ...   \n",
       "487   946194111295574016  1534150140629594112   \n",
       "488  1428347863503802374  1534149670544588801   \n",
       "489  1384243560099188737  1534149639494160385   \n",
       "490           2595085784  1534143450169352192   \n",
       "491  1533343334294495232  1534143352542748672   \n",
       "\n",
       "                                         hashtag_tweet  \n",
       "0    [{\"start\": 0, \"end\": 15, \"tag\": \"Eurovision202...  \n",
       "1    [{\"start\": 51, \"end\": 62, \"tag\": \"Eurovision\"}...  \n",
       "2    [{\"start\": 28, \"end\": 36, \"tag\": \"NAM2022\"}, {...  \n",
       "3    [{\"start\": 28, \"end\": 36, \"tag\": \"NAM2022\"}, {...  \n",
       "4    [{\"start\": 32, \"end\": 47, \"tag\": \"eurovision20...  \n",
       "..                                                 ...  \n",
       "487  [{\"start\": 20, \"end\": 24, \"tag\": \"NFT\"}, {\"sta...  \n",
       "488  [{\"start\": 0, \"end\": 24, \"tag\": \"galer\\u00edad...  \n",
       "489  [{\"start\": 0, \"end\": 24, \"tag\": \"galer\\u00edad...  \n",
       "490  [{\"start\": 77, \"end\": 92, \"tag\": \"eurovision20...  \n",
       "491  [{\"start\": 75, \"end\": 86, \"tag\": \"Subwoolfer\"}...  \n",
       "\n",
       "[492 rows x 3 columns]"
      ]
     },
     "execution_count": 7,
     "metadata": {},
     "output_type": "execute_result"
    }
   ],
   "source": [
    "df_IDK=pd.DataFrame({\"id_user\": user_id,\n",
    "                     \"tweet_id\":tweet_id,\n",
    "                     \"hashtag_tweet\": hashtag_tweet,})\n",
    "df_IDK"
   ]
  },
  {
   "cell_type": "code",
   "execution_count": 15,
   "metadata": {},
   "outputs": [],
   "source": [
    "df=df_IDK.sort_values(by=\"id_user\")"
   ]
  },
  {
   "cell_type": "code",
   "execution_count": 16,
   "metadata": {},
   "outputs": [
    {
     "data": {
      "text/plain": [
       "234801453              17\n",
       "1162817906             14\n",
       "1154811612764758017    12\n",
       "2999483493              9\n",
       "957784397566050304      8\n",
       "                       ..\n",
       "1419573816964141056     1\n",
       "1410626683506413572     1\n",
       "1408803763079368709     1\n",
       "1395713914722308096     1\n",
       "996606948245164032      1\n",
       "Name: id_user, Length: 367, dtype: int64"
      ]
     },
     "execution_count": 16,
     "metadata": {},
     "output_type": "execute_result"
    }
   ],
   "source": [
    "df[\"id_user\"].value_counts()"
   ]
  },
  {
   "cell_type": "code",
   "execution_count": 30,
   "metadata": {},
   "outputs": [
    {
     "data": {
      "text/plain": [
       "'[{\"start\": 40, \"end\": 55, \"tag\": \"Eurovision2022\"}][{\"start\": 40, \"end\": 55, \"tag\": \"Eurovision2022\"}][{\"start\": 40, \"end\": 55, \"tag\": \"Eurovision2022\"}]'"
      ]
     },
     "execution_count": 30,
     "metadata": {},
     "output_type": "execute_result"
    }
   ],
   "source": [
    "df2=df.groupby(by=\"id_user\").sum().reset_index()\n",
    "df2[\"hashtag_tweet\"][362]"
   ]
  },
  {
   "cell_type": "code",
   "execution_count": null,
   "metadata": {},
   "outputs": [],
   "source": []
  },
  {
   "cell_type": "code",
   "execution_count": null,
   "metadata": {},
   "outputs": [],
   "source": [
    "diz={}\n",
    "for a,b,c in df:"
   ]
  },
  {
   "cell_type": "markdown",
   "metadata": {},
   "source": [
    "# Salvare DF come SCV"
   ]
  },
  {
   "cell_type": "code",
   "execution_count": 31,
   "metadata": {},
   "outputs": [],
   "source": [
    "#save as csv\n",
    "df=pd.DataFrame(m.df)\n",
    "df.to_csv(\"slavaukraini\")"
   ]
  },
  {
   "cell_type": "code",
   "execution_count": 3,
   "metadata": {
    "colab": {
     "base_uri": "https://localhost:8080/",
     "height": 187
    },
    "executionInfo": {
     "elapsed": 352,
     "status": "error",
     "timestamp": 1652065659701,
     "user": {
      "displayName": "BLERTA LLESHI",
      "userId": "05237610012886993411"
     },
     "user_tz": -120
    },
    "id": "Qc3Tw3cJU72W",
    "outputId": "419656a0-a652-49c7-881f-c23295f29f5e"
   },
   "outputs": [
    {
     "data": {
      "text/plain": [
       "(490, 75)"
      ]
     },
     "execution_count": 3,
     "metadata": {},
     "output_type": "execute_result"
    }
   ],
   "source": [
    "#open datset created\n",
    "df_pro=pd.read_csv(\"slavaukraini\", low_memory=False)\n",
    "df_pro.shape"
   ]
  },
  {
   "cell_type": "markdown",
   "metadata": {},
   "source": [
    "# Pulizia testo "
   ]
  },
  {
   "cell_type": "markdown",
   "metadata": {},
   "source": [
    "Non più utile in quanto con eval() convertiamo gli hashtags da stringa in dizionario"
   ]
  },
  {
   "cell_type": "code",
   "execution_count": 7,
   "metadata": {},
   "outputs": [
    {
     "data": {
      "text/plain": [
       "array([nan,\n",
       "       '[{\"start\": 15, \"end\": 29, \"tag\": \"CyberSecurity\"}, {\"start\": 31, \"end\": 44, \"tag\": \"CyberDefense\"}, {\"start\": 46, \"end\": 56, \"tag\": \"DevSecOps\"}, {\"start\": 58, \"end\": 63, \"tag\": \"DFIR\"}, {\"start\": 65, \"end\": 75, \"tag\": \"Forensics\"}, {\"start\": 77, \"end\": 94, \"tag\": \"IncidentResponse\"}, {\"start\": 96, \"end\": 104, \"tag\": \"Privacy\"}, {\"start\": 106, \"end\": 117, \"tag\": \"Pentesting\"}, {\"start\": 137, \"end\": 145, \"tag\": \"InfoSec\"}]',\n",
       "       '[{\"start\": 39, \"end\": 53, \"tag\": \"EatTravelLive\"}]',\n",
       "       '[{\"start\": 127, \"end\": 132, \"tag\": \"Tech\"}, {\"start\": 133, \"end\": 140, \"tag\": \"Retail\"}, {\"start\": 141, \"end\": 149, \"tag\": \"Infosec\"}]',\n",
       "       '[{\"start\": 8, \"end\": 16, \"tag\": \"infosec\"}, {\"start\": 19, \"end\": 33, \"tag\": \"cybersecurity\"}]',\n",
       "       '[{\"start\": 0, \"end\": 20, \"tag\": \"JusticeForFelixDahl\"}, {\"start\": 21, \"end\": 31, \"tag\": \"felixdahl\"}, {\"start\": 32, \"end\": 36, \"tag\": \"Goa\"}, {\"start\": 37, \"end\": 45, \"tag\": \"Palolem\"}, {\"start\": 46, \"end\": 52, \"tag\": \"India\"}, {\"start\": 53, \"end\": 65, \"tag\": \"Humanrights\"}, {\"start\": 66, \"end\": 74, \"tag\": \"tourism\"}, {\"start\": 75, \"end\": 83, \"tag\": \"justice\"}, {\"start\": 84, \"end\": 89, \"tag\": \"sisu\"}, {\"start\": 90, \"end\": 110, \"tag\": \"STANDUP4HUMANRIGHTS\"}]',\n",
       "       '[{\"start\": 20, \"end\": 28, \"tag\": \"InfoSec\"}, {\"start\": 29, \"end\": 40, \"tag\": \"Cybercrime\"}, {\"start\": 41, \"end\": 46, \"tag\": \"DDoS\"}, {\"start\": 47, \"end\": 55, \"tag\": \"Malware\"}, {\"start\": 56, \"end\": 64, \"tag\": \"Hackers\"}, {\"start\": 65, \"end\": 70, \"tag\": \"Vuln\"}, {\"start\": 71, \"end\": 78, \"tag\": \"Botnet\"}]',\n",
       "       '[{\"start\": 114, \"end\": 129, \"tag\": \"CyberEducation\"}, {\"start\": 130, \"end\": 144, \"tag\": \"CyberSecurity\"}]',\n",
       "       '[{\"start\": 0, \"end\": 5, \"tag\": \"GDPR\"}, {\"start\": 32, \"end\": 43, \"tag\": \"Compliance\"}, {\"start\": 54, \"end\": 65, \"tag\": \"PenTesting\"}, {\"start\": 114, \"end\": 128, \"tag\": \"cybersecurity\"}]',\n",
       "       '[{\"start\": 17, \"end\": 23, \"tag\": \"osint\"}, {\"start\": 26, \"end\": 40, \"tag\": \"cybersecurity\"}]',\n",
       "       '[{\"start\": 93, \"end\": 107, \"tag\": \"cybersecurity\"}, {\"start\": 108, \"end\": 116, \"tag\": \"infosec\"}, {\"start\": 117, \"end\": 130, \"tag\": \"choosewisely\"}, {\"start\": 131, \"end\": 142, \"tag\": \"beinformed\"}]',\n",
       "       '[{\"start\": 111, \"end\": 123, \"tag\": \"AnimalLover\"}, {\"start\": 125, \"end\": 132, \"tag\": \"RESIST\"}]',\n",
       "       '[{\"start\": 0, \"end\": 14, \"tag\": \"Communication\"}, {\"start\": 27, \"end\": 34, \"tag\": \"Artist\"}, {\"start\": 36, \"end\": 48, \"tag\": \"WomenRights\"}]',\n",
       "       '[{\"start\": 108, \"end\": 135, \"tag\": \"WomensRightsAreHumanRights\"}, {\"start\": 136, \"end\": 152, \"tag\": \"KalushOrchestra\"}]',\n",
       "       '[{\"start\": 0, \"end\": 10, \"tag\": \"Pakistani\"}, {\"start\": 15, \"end\": 24, \"tag\": \"Imranist\"}]',\n",
       "       '[{\"start\": 46, \"end\": 52, \"tag\": \"GETTR\"}, {\"start\": 62, \"end\": 74, \"tag\": \"FreeAssange\"}]',\n",
       "       '[{\"start\": 0, \"end\": 12, \"tag\": \"DemsBigTent\"}, {\"start\": 13, \"end\": 22, \"tag\": \"AdoptDon\"}]',\n",
       "       '[{\"start\": 140, \"end\": 145, \"tag\": \"COYS\"}]',\n",
       "       '[{\"start\": 65, \"end\": 83, \"tag\": \"IStandWithUkraine\"}, {\"start\": 84, \"end\": 97, \"tag\": \"ProDemocracy\"}, {\"start\": 98, \"end\": 115, \"tag\": \"AntiTrumplikkkan\"}, {\"start\": 116, \"end\": 125, \"tag\": \"VoteBlue\"}]',\n",
       "       '[{\"start\": 83, \"end\": 86, \"tag\": \"4T\"}, {\"start\": 87, \"end\": 95, \"tag\": \"AMLOVER\"}]',\n",
       "       '[{\"start\": 16, \"end\": 24, \"tag\": \"Covid19\"}, {\"start\": 25, \"end\": 37, \"tag\": \"GeoPolitics\"}, {\"start\": 38, \"end\": 43, \"tag\": \"Asia\"}, {\"start\": 44, \"end\": 47, \"tag\": \"EU\"}, {\"start\": 48, \"end\": 61, \"tag\": \"GlobalEnergy\"}, {\"start\": 62, \"end\": 80, \"tag\": \"EconomicGeography\"}, {\"start\": 81, \"end\": 102, \"tag\": \"BusinessIntelligence\"}, {\"start\": 103, \"end\": 112, \"tag\": \"Dyslexia\"}]',\n",
       "       '[{\"start\": 0, \"end\": 7, \"tag\": \"Author\"}, {\"start\": 16, \"end\": 31, \"tag\": \"SpiritualTruth\"}, {\"start\": 35, \"end\": 41, \"tag\": \"Guide\"}, {\"start\": 51, \"end\": 57, \"tag\": \"Truth\"}, {\"start\": 117, \"end\": 133, \"tag\": \"ClusterHeadache\"}, {\"start\": 136, \"end\": 141, \"tag\": \"PTSD\"}, {\"start\": 154, \"end\": 159, \"tag\": \"HOPE\"}]',\n",
       "       '[{\"start\": 88, \"end\": 105, \"tag\": \"StandWithUkraine\"}]',\n",
       "       '[{\"start\": 17, \"end\": 22, \"tag\": \"MAGA\"}]',\n",
       "       '[{\"start\": 91, \"end\": 105, \"tag\": \"TheResistance\"}, {\"start\": 106, \"end\": 119, \"tag\": \"ShePersisted\"}, {\"start\": 120, \"end\": 132, \"tag\": \"GoodTrouble\"}, {\"start\": 133, \"end\": 145, \"tag\": \"BidenHarris\"}, {\"start\": 146, \"end\": 150, \"tag\": \"BLM\"}]',\n",
       "       '[{\"start\": 79, \"end\": 95, \"tag\": \"WalkAstralPlane\"}, {\"start\": 96, \"end\": 119, \"tag\": \"MaterializePutinDefeat\"}, {\"start\": 120, \"end\": 137, \"tag\": \"WeCanSaveUkraine\"}]',\n",
       "       '[{\"start\": 78, \"end\": 98, \"tag\": \"Warsawfanshooligans\"}]',\n",
       "       '[{\"start\": 78, \"end\": 89, \"tag\": \"DrSwamy4PM\"}, {\"start\": 90, \"end\": 101, \"tag\": \"DrSwamy4FM\"}, {\"start\": 102, \"end\": 120, \"tag\": \"OneManArmyDrSwamy\"}]',\n",
       "       '[{\"start\": 0, \"end\": 18, \"tag\": \"Constitutionalist\"}, {\"start\": 21, \"end\": 34, \"tag\": \"Conservative\"}, {\"start\": 44, \"end\": 56, \"tag\": \"WeThePeople\"}, {\"start\": 57, \"end\": 73, \"tag\": \"TheAnswerIs1776\"}, {\"start\": 74, \"end\": 88, \"tag\": \"ComeAndTakeIt\"}, {\"start\": 89, \"end\": 102, \"tag\": \"Constitution\"}, {\"start\": 103, \"end\": 106, \"tag\": \"1A\"}, {\"start\": 107, \"end\": 110, \"tag\": \"2A\"}, {\"start\": 111, \"end\": 119, \"tag\": \"Patriot\"}, {\"start\": 120, \"end\": 128, \"tag\": \"Liberty\"}, {\"start\": 129, \"end\": 142, \"tag\": \"IIIPercenter\"}, {\"start\": 143, \"end\": 148, \"tag\": \"MAGA\"}, {\"start\": 149, \"end\": 153, \"tag\": \"KAG\"}, {\"start\": 154, \"end\": 159, \"tag\": \"NoPC\"}]',\n",
       "       '[{\"start\": 58, \"end\": 78, \"tag\": \"ReConstructWithHemp\"}]',\n",
       "       '[{\"start\": 23, \"end\": 41, \"tag\": \"AnimalsHaveRights\"}, {\"start\": 42, \"end\": 51, \"tag\": \"Resister\"}, {\"start\": 52, \"end\": 56, \"tag\": \"BLM\"}, {\"start\": 58, \"end\": 76, \"tag\": \"killthefilibuster\"}, {\"start\": 77, \"end\": 94, \"tag\": \"passvotingrights\"}]',\n",
       "       '[{\"start\": 0, \"end\": 11, \"tag\": \"Philosophy\"}, {\"start\": 12, \"end\": 20, \"tag\": \"Science\"}, {\"start\": 21, \"end\": 38, \"tag\": \"QuantumMechanics\"}, {\"start\": 39, \"end\": 45, \"tag\": \"Linux\"}, {\"start\": 46, \"end\": 57, \"tag\": \"Blockchain\"}, {\"start\": 58, \"end\": 63, \"tag\": \"Arts\"}, {\"start\": 64, \"end\": 69, \"tag\": \"Rock\"}, {\"start\": 70, \"end\": 87, \"tag\": \"StandWithUkraine\"}, {\"start\": 88, \"end\": 96, \"tag\": \"Covid19\"}, {\"start\": 97, \"end\": 106, \"tag\": \"SarsCov2\"}, {\"start\": 107, \"end\": 123, \"tag\": \"COVIDisAirborne\"}, {\"start\": 124, \"end\": 129, \"tag\": \"FFP2\"}, {\"start\": 130, \"end\": 135, \"tag\": \"NATO\"}]',\n",
       "       '[{\"start\": 72, \"end\": 89, \"tag\": \"StrongerTogether\"}, {\"start\": 90, \"end\": 102, \"tag\": \"clicktivist\"}]',\n",
       "       '[{\"start\": 95, \"end\": 107, \"tag\": \"ActionFaith\"}, {\"start\": 108, \"end\": 112, \"tag\": \"BLM\"}]',\n",
       "       '[{\"start\": 129, \"end\": 141, \"tag\": \"TeamTrudeau\"}]',\n",
       "       '[{\"start\": 31, \"end\": 34, \"tag\": \"3D\"}, {\"start\": 35, \"end\": 38, \"tag\": \"VR\"}, {\"start\": 39, \"end\": 45, \"tag\": \"3dArt\"}, {\"start\": 46, \"end\": 57, \"tag\": \"3Dprinting\"}, {\"start\": 58, \"end\": 72, \"tag\": \"illustrations\"}, {\"start\": 73, \"end\": 79, \"tag\": \"Books\"}, {\"start\": 80, \"end\": 88, \"tag\": \"fantasy\"}, {\"start\": 89, \"end\": 95, \"tag\": \"scifi\"}, {\"start\": 96, \"end\": 104, \"tag\": \"Science\"}, {\"start\": 105, \"end\": 111, \"tag\": \"Space\"}, {\"start\": 112, \"end\": 120, \"tag\": \"Animals\"}, {\"start\": 121, \"end\": 135, \"tag\": \"PeteButtigieg\"}, {\"start\": 136, \"end\": 154, \"tag\": \"IStandWithUkraine\"}]',\n",
       "       '[{\"start\": 97, \"end\": 102, \"tag\": \"deer\"}]',\n",
       "       '[{\"start\": 0, \"end\": 14, \"tag\": \"adoptdontshop\"}]',\n",
       "       '[{\"start\": 21, \"end\": 32, \"tag\": \"DemVictory\"}, {\"start\": 33, \"end\": 43, \"tag\": \"WeWillWin\"}]',\n",
       "       '[{\"start\": 2, \"end\": 7, \"tag\": \"FBPE\"}, {\"start\": 8, \"end\": 14, \"tag\": \"ProEU\"}, {\"start\": 15, \"end\": 24, \"tag\": \"RejoinEU\"}, {\"start\": 25, \"end\": 36, \"tag\": \"FollowBack\"}, {\"start\": 37, \"end\": 42, \"tag\": \"GTTO\"}, {\"start\": 43, \"end\": 54, \"tag\": \"JohnsonOut\"}, {\"start\": 55, \"end\": 67, \"tag\": \"SaveUkraine\"}]',\n",
       "       '[{\"start\": 117, \"end\": 121, \"tag\": \"GQP\"}, {\"start\": 122, \"end\": 132, \"tag\": \"FUCKPUTIN\"}]',\n",
       "       '[{\"start\": 39, \"end\": 60, \"tag\": \"LoanForginessIsASCAM\"}]',\n",
       "       '[{\"start\": 145, \"end\": 158, \"tag\": \"SlavaUkraini\"}]',\n",
       "       '[{\"start\": 31, \"end\": 46, \"tag\": \"Semiconductors\"}, {\"start\": 79, \"end\": 84, \"tag\": \"GWOT\"}, {\"start\": 85, \"end\": 93, \"tag\": \"Veteran\"}, {\"start\": 146, \"end\": 156, \"tag\": \"Artillery\"}]',\n",
       "       '[{\"start\": 131, \"end\": 152, \"tag\": \"iosonojessicasonetti\"}]',\n",
       "       '[{\"start\": 83, \"end\": 88, \"tag\": \"MMIW\"}]',\n",
       "       '[{\"start\": 44, \"end\": 57, \"tag\": \"Medicare4All\"}, {\"start\": 58, \"end\": 69, \"tag\": \"LivingWage\"}, {\"start\": 70, \"end\": 74, \"tag\": \"GND\"}, {\"start\": 75, \"end\": 93, \"tag\": \"CancelStudentDebt\"}, {\"start\": 94, \"end\": 104, \"tag\": \"WealthTax\"}, {\"start\": 105, \"end\": 113, \"tag\": \"NotMeUs\"}, {\"start\": 114, \"end\": 123, \"tag\": \"Humanist\"}]',\n",
       "       '[{\"start\": 34, \"end\": 51, \"tag\": \"standwithukraine\"}]',\n",
       "       '[{\"start\": 52, \"end\": 66, \"tag\": \"UkraineStrong\"}]',\n",
       "       '[{\"start\": 106, \"end\": 121, \"tag\": \"PRAYFORUKRAINE\"}]',\n",
       "       '[{\"start\": 41, \"end\": 53, \"tag\": \"politicians\"}, {\"start\": 96, \"end\": 111, \"tag\": \"LiveAndLetLive\"}]',\n",
       "       '[{\"start\": 4, \"end\": 15, \"tag\": \"CorruptGOP\"}, {\"start\": 148, \"end\": 152, \"tag\": \"GOP\"}]'],\n",
       "      dtype=object)"
      ]
     },
     "execution_count": 7,
     "metadata": {},
     "output_type": "execute_result"
    }
   ],
   "source": [
    "df_pro['author.entities.description.hashtags'].unique()"
   ]
  },
  {
   "cell_type": "code",
   "execution_count": 33,
   "metadata": {},
   "outputs": [],
   "source": [
    "df_pro['entities.hashtags']=df_pro['entities.hashtags'].fillna(\"0\")"
   ]
  },
  {
   "cell_type": "code",
   "execution_count": 34,
   "metadata": {},
   "outputs": [],
   "source": [
    "repl=[\"1\",\"2\",\"3\",\"4\",\"5\",\"6\",\"7\",\"8\",\"9\",\"0\",\"start\",\"end\", \"tag\",\"[\",\"{\",\"}\",\"]\", \":\",\",\",\"\\\"\"]\n",
    "for e in repl:\n",
    "    df_pro['entities.hashtags']=df_pro['entities.hashtags'].str.replace(e,\"\",regex=True)"
   ]
  },
  {
   "cell_type": "code",
   "execution_count": 35,
   "metadata": {},
   "outputs": [
    {
     "data": {
      "text/plain": [
       "0           UKRAINE      UKRAINERUSSIAWAR      News  ...\n",
       "1                                                       \n",
       "2                                                   FAKE\n",
       "3                                                   FAKE\n",
       "4                       Iceland      Italian      Russia\n",
       "                             ...                        \n",
       "485                                                     \n",
       "486                                                     \n",
       "487                                                     \n",
       "488                                                     \n",
       "489                                                     \n",
       "Name: entities.hashtags, Length: 490, dtype: object"
      ]
     },
     "execution_count": 35,
     "metadata": {},
     "output_type": "execute_result"
    }
   ],
   "source": [
    "df_pro['entities.hashtags']"
   ]
  },
  {
   "cell_type": "code",
   "execution_count": 36,
   "metadata": {},
   "outputs": [],
   "source": [
    "df_pro['entities.hashtags']=df_pro['entities.hashtags'].apply(str).map(str.lower)"
   ]
  },
  {
   "cell_type": "code",
   "execution_count": 37,
   "metadata": {},
   "outputs": [],
   "source": [
    "df_pro['entities.hashtags']=df_pro['entities.hashtags'].apply(str).map(str.strip)"
   ]
  },
  {
   "cell_type": "code",
   "execution_count": 38,
   "metadata": {},
   "outputs": [],
   "source": [
    "df_pro['entities.hashtags']=df_pro['entities.hashtags'].apply(str).map(str.split) #,args=('\\\"\\\"'))"
   ]
  },
  {
   "cell_type": "code",
   "execution_count": 39,
   "metadata": {},
   "outputs": [
    {
     "data": {
      "text/plain": [
       "0      [ukraine, ukrainerussiawar, news, putin, russi...\n",
       "1                                                     []\n",
       "2                                                 [fake]\n",
       "3                                                 [fake]\n",
       "4                             [iceland, italian, russia]\n",
       "                             ...                        \n",
       "485                                                   []\n",
       "486                                                   []\n",
       "487                                                   []\n",
       "488                                                   []\n",
       "489                                                   []\n",
       "Name: entities.hashtags, Length: 490, dtype: object"
      ]
     },
     "execution_count": 39,
     "metadata": {},
     "output_type": "execute_result"
    }
   ],
   "source": [
    "df_hash=df_pro['entities.hashtags']\n",
    "df_hash"
   ]
  },
  {
   "cell_type": "code",
   "execution_count": 40,
   "metadata": {},
   "outputs": [],
   "source": [
    "hashtag=list()\n",
    "size=len(df_hash)\n",
    "for i in range(0,size):\n",
    "    for e in df_hash[i]:\n",
    "        if len(e)>=4:\n",
    "            hashtag.append(e)"
   ]
  },
  {
   "cell_type": "code",
   "execution_count": 41,
   "metadata": {},
   "outputs": [
    {
     "data": {
      "text/plain": [
       "['ukraine',\n",
       " 'ukrainerussiawar',\n",
       " 'news',\n",
       " 'putin',\n",
       " 'russia',\n",
       " 'azovstal',\n",
       " 'duma',\n",
       " 'prisoner',\n",
       " 'terrorism',\n",
       " 'nazism',\n",
       " 'surrer',\n",
       " 'socialmedia',\n",
       " 'fake',\n",
       " 'fake',\n",
       " 'iceland',\n",
       " 'italian',\n",
       " 'russia',\n",
       " 'hungary',\n",
       " 'prorussia',\n",
       " 'infosecuritymag',\n",
       " 'stupidpeopledoesstupidthings',\n",
       " 'russia',\n",
       " 'stoprussianinsanity',\n",
       " 'fckptn',\n",
       " 'prorussia',\n",
       " 'infosecmag',\n",
       " 'resumodasemana',\n",
       " 'italian',\n",
       " 'eurovision',\n",
       " 'cyberattacks',\n",
       " 'eurovisionsongcontest',\n",
       " 'russia',\n",
       " 'hackers',\n",
       " 'cybercriminals',\n",
       " 'killnet',\n",
       " 'legion',\n",
       " 'eurovison',\n",
       " 'ddos',\n",
       " 'websites',\n",
       " 'cyberthreats',\n",
       " 'cybersecurity',\n",
       " 'networksecurity',\n",
       " 'cyberdefence',\n",
       " 'security',\n",
       " 'cybersecurity',\n",
       " 'cybersecurity',\n",
       " 'cybersecurite',\n",
       " 'news',\n",
       " 'cybersecurity',\n",
       " 'infosec',\n",
       " 'ruzzia',\n",
       " 'orcs',\n",
       " 'warcrimes',\n",
       " 'tiktok',\n",
       " 'leaders',\n",
       " 'tiktok',\n",
       " 'tiktok',\n",
       " 'germany',\n",
       " 'france',\n",
       " 'minsk',\n",
       " 'prorussia',\n",
       " 'peaceplans',\n",
       " 'conflifctofinterest',\n",
       " 'china',\n",
       " 'russia',\n",
       " 'leaders',\n",
       " 'chinese',\n",
       " 'russian',\n",
       " 'autocracies',\n",
       " 'china',\n",
       " 'russia',\n",
       " 'leaders',\n",
       " 'chinese',\n",
       " 'russian',\n",
       " 'autocracies',\n",
       " 'exposecorruption',\n",
       " 'prorussia',\n",
       " 'france',\n",
       " 'gemany',\n",
       " 'ukraine',\n",
       " 'prorussia',\n",
       " 'minsk',\n",
       " 'putin',\n",
       " 'warineurope',\n",
       " 'ukraine',\n",
       " 'democracy',\n",
       " 'ukraine',\n",
       " 'capitulate',\n",
       " 'putin',\n",
       " 'france',\n",
       " 'germany',\n",
       " 'moscow',\n",
       " 'bashar_asad',\n",
       " 'prorussia',\n",
       " 'saudia',\n",
       " 'russia',\n",
       " '\\\\u\\\\u\\\\ue\\\\u\\\\u\\\\u\\\\u__\\\\ud\\\\ua\\\\u\\\\u\\\\ua__\\\\u\\\\u\\\\u\\\\u\\\\u\\\\u\\\\u',\n",
       " 'prorussia',\n",
       " 'pronorthkorea',\n",
       " 'whathappened',\n",
       " 'proputin',\n",
       " 'prorussia',\n",
       " 'proappeasement',\n",
       " 'prousa',\n",
       " 'bashar_asad',\n",
       " 'prorussia',\n",
       " 'saudia',\n",
       " 'russia',\n",
       " '\\\\u\\\\u\\\\ue\\\\u\\\\u\\\\u\\\\u__\\\\ud\\\\ua\\\\u\\\\u\\\\ua__\\\\u\\\\u\\\\u\\\\u\\\\u\\\\u\\\\u',\n",
       " 'prousa',\n",
       " 'bashar_asad',\n",
       " 'prorussia',\n",
       " 'saudia',\n",
       " 'russia',\n",
       " '\\\\u\\\\u\\\\ue\\\\u\\\\u\\\\u\\\\u__\\\\ud\\\\ua\\\\u\\\\u\\\\ua__\\\\u\\\\u\\\\u\\\\u\\\\u\\\\u\\\\u',\n",
       " 'prousa',\n",
       " 'bashar_asad',\n",
       " 'prorussia',\n",
       " 'saudia',\n",
       " 'russia',\n",
       " '\\\\u\\\\u\\\\ue\\\\u\\\\u\\\\u\\\\u__\\\\ud\\\\ua\\\\u\\\\u\\\\ua__\\\\u\\\\u\\\\u\\\\u\\\\u\\\\u\\\\u',\n",
       " 'prousa',\n",
       " 'bashar_asad',\n",
       " 'prorussia',\n",
       " 'saudia',\n",
       " 'russia',\n",
       " '\\\\u\\\\u\\\\ue\\\\u\\\\u\\\\u\\\\u__\\\\ud\\\\ua\\\\u\\\\u\\\\ua__\\\\u\\\\u\\\\u\\\\u\\\\u\\\\u\\\\u',\n",
       " 'prousa',\n",
       " 'bashar_asad',\n",
       " 'prorussia',\n",
       " 'saudia',\n",
       " 'russia',\n",
       " '\\\\u\\\\u\\\\ue\\\\u\\\\u\\\\u\\\\u__\\\\ud\\\\ua\\\\u\\\\u\\\\ua__\\\\u\\\\u\\\\u\\\\u\\\\u\\\\u\\\\u',\n",
       " 'prorussia',\n",
       " 'proeurope',\n",
       " 'prodemocracy',\n",
       " 'prorussia',\n",
       " 'beerhallputsch',\n",
       " 'putinwarcriminal',\n",
       " 'ukraine\\\\ufef',\n",
       " 'tiktok',\n",
       " 'imrankhan',\n",
       " 'propakistani',\n",
       " 'prorussia',\n",
       " 'prousa',\n",
       " 'prorussia',\n",
       " 'russian',\n",
       " 'prorussia',\n",
       " 'democracy',\n",
       " 'ukraine',\n",
       " 'proxywar',\n",
       " 'viktormedvedchuk',\n",
       " 'putin',\n",
       " 'prorussia',\n",
       " 'traitor',\n",
       " 'oligarch',\n",
       " 'ukraine',\n",
       " 'treason',\n",
       " 'presidentialelection',\n",
       " 'vladimirputin',\n",
       " 'medvedchuk',\n",
       " 'moscowmitch',\n",
       " 'mitchmcconnell',\n",
       " 'paulryan',\n",
       " 'trump',\n",
       " 'actnow',\n",
       " 'china',\n",
       " 'russia',\n",
       " 'ukraine',\n",
       " 'china',\n",
       " 'putinwarcriminal',\n",
       " 'heroesofukraine',\n",
       " 'warcrimes',\n",
       " 'stopputinswarnow',\n",
       " 'prorussia',\n",
       " 'proputin',\n",
       " 'tiktok',\n",
       " 'prorussia',\n",
       " 'traitor',\n",
       " 'prorussia',\n",
       " 'corrupt',\n",
       " 'proputin',\n",
       " 'prorussia',\n",
       " 'prodirtymoney',\n",
       " 'ukraine',\n",
       " 'tiktok',\n",
       " 'ricksantorum',\n",
       " 'prorussia',\n",
       " 'nooneworldgov',\n",
       " 'prorussia',\n",
       " 'antinuclear',\n",
       " 'prosoveriagn',\n",
       " 'kremlpropaganda',\n",
       " 'mediarisk',\n",
       " 'theguardian',\n",
       " 'pr_people',\n",
       " 'prorussia',\n",
       " 'tiktok',\n",
       " 'prorussia',\n",
       " 'antiukraine',\n",
       " 'randpaul',\n",
       " 'prorussia',\n",
       " 'bosnia',\n",
       " 'prorussia',\n",
       " 'moldova',\n",
       " 'conflict',\n",
       " 'explosions',\n",
       " 'prorussia',\n",
       " 'transnistria',\n",
       " 'wars',\n",
       " 'rumoursofwars',\n",
       " 'easteurope',\n",
       " 'prophecyinrealtime',\n",
       " 'signsofthetimes',\n",
       " 'matthew',\n",
       " 'loser',\n",
       " 'goputinparty',\n",
       " 'fullofschmitt',\n",
       " 'prorussia',\n",
       " 'proputin',\n",
       " 'insurrectionists',\n",
       " 'antivaxxer',\n",
       " 'antimasker',\n",
       " 'trumpist',\n",
       " 'prorussia',\n",
       " 'proputin',\n",
       " 'prorussia',\n",
       " 'putin',\n",
       " 'wipolitics',\n",
       " 'extremerightwing',\n",
       " 'proputin',\n",
       " 'prorussia',\n",
       " 'zerocred',\n",
       " 'wipolitics',\n",
       " 'prorussia',\n",
       " 'prorussia',\n",
       " 'mali',\n",
       " 'russianlovingdictatorwannabeliar',\n",
       " 'russianchinaasset',\n",
       " 'putinpuppet',\n",
       " 'prorussia',\n",
       " 'antiamerica',\n",
       " 'macron',\n",
       " 'lepen',\n",
       " 'russianwarcrimes',\n",
       " 'ukrainerussiawar',\n",
       " 'serbia',\n",
       " 'vucic',\n",
       " 'prorussia',\n",
       " 'ukraine',\n",
       " 'putinwarcriminal',\n",
       " 'putinsupport',\n",
       " 'proputin',\n",
       " 'russiainvadedukraine',\n",
       " 'weareallukraine',\n",
       " 'russiaembargo',\n",
       " 'russiainvadedukraine',\n",
       " 'weareallukraine',\n",
       " 'russiaembargo',\n",
       " 'bluein',\n",
       " 'iamwithbiden',\n",
       " 'partyofabelinclon',\n",
       " 'prorussia',\n",
       " 'fascismfrily',\n",
       " 'foxnewsairsinrussia',\n",
       " 'rumpfriswithputin',\n",
       " 'unamerican',\n",
       " 'thepercentersarefasciststoo',\n",
       " 'propagamda',\n",
       " 'ferment',\n",
       " 'frzymaszzputinem',\n",
       " 'prorussia',\n",
       " 'donbass',\n",
       " '\\\\u\\\\ue\\\\ud\\\\u\\\\u\\\\u\\\\u',\n",
       " 'donetsk',\n",
       " '\\\\u\\\\ue\\\\ud\\\\u\\\\u\\\\ua',\n",
       " 'lugansk',\n",
       " '\\\\ub\\\\u\\\\u\\\\u\\\\ud\\\\u\\\\ua',\n",
       " 'novorossia',\n",
       " '\\\\ud\\\\ue\\\\u\\\\ue\\\\u\\\\ue\\\\u\\\\u\\\\u\\\\uf',\n",
       " 'falseflag',\n",
       " 'ukrainiannazis',\n",
       " 'nileswilliamson',\n",
       " 'ukrainiangovt',\n",
       " 'fascistthugs',\n",
       " 'prorussia',\n",
       " 'ukraine',\n",
       " 'prorussia',\n",
       " 'prorussia',\n",
       " 'serbs',\n",
       " 'protest',\n",
       " 'belgrade',\n",
       " 'supportrussia',\n",
       " 'nato',\n",
       " 'putin',\n",
       " 'zelenskyy',\n",
       " 'putinwarcriminal',\n",
       " 'putinswarcrimes',\n",
       " 'ukraineunderattack',\n",
       " 'ukrainerussianwar',\n",
       " 'russiaukraine',\n",
       " 'russiaukrainewarupdate',\n",
       " 'sanctionsrussia',\n",
       " 'russiasanctions',\n",
       " 'prorussia',\n",
       " 'russianpropaganda',\n",
       " 'bloggers',\n",
       " 'contentcreators',\n",
       " 'prorussia',\n",
       " 'ukrainerussiawar',\n",
       " 'proukraine',\n",
       " 'istandwithputin',\n",
       " 'prorussia',\n",
       " 'russia',\n",
       " 'genocide',\n",
       " 'slavaukraini',\n",
       " 'labour',\n",
       " 'antisemitic',\n",
       " 'antiuk',\n",
       " 'shanghaicooperationorganisation',\n",
       " 'madness',\n",
       " 'serbia',\n",
       " 'prorussia',\n",
       " 'prorussia',\n",
       " 'prorussia',\n",
       " 'serbs',\n",
       " 'belgrade',\n",
       " 'russia',\n",
       " 'nato',\n",
       " 'russian',\n",
       " 'serbian',\n",
       " 'putin',\n",
       " 'european',\n",
       " 'neutral',\n",
       " 'serbia',\n",
       " 'ukraine',\n",
       " 'ukrainerape',\n",
       " 'prorussia',\n",
       " 'slavaukraini',\n",
       " 'proputin',\n",
       " 'vladimirputin',\n",
       " 'ukrain',\n",
       " 'ukrainwar',\n",
       " 'stopwar',\n",
       " 'bocha',\n",
       " 'russiaukrainewar',\n",
       " 'zelensky',\n",
       " 'bochamassacre',\n",
       " 'ralfstegner',\n",
       " 'putinsupporter',\n",
       " 'prorussia',\n",
       " 'troll',\n",
       " 'covidiot',\n",
       " 'prorussia',\n",
       " 'spam',\n",
       " 'nato',\n",
       " 'prorussia',\n",
       " 'serbia',\n",
       " 'ukraine\\\\ufef',\n",
       " 'russianarmy',\n",
       " 'hallitus',\n",
       " 'russiannavy',\n",
       " 'moskva',\n",
       " 'proukraine',\n",
       " 'prorussia',\n",
       " 'antiputin',\n",
       " 'germany',\n",
       " 'russian',\n",
       " 'russia',\n",
       " 'russians',\n",
       " 'prorussia',\n",
       " 'rally',\n",
       " 'prorussia',\n",
       " 'mariupol',\n",
       " 'geolocation',\n",
       " 'ukrainerussiawar',\n",
       " 'anonymous',\n",
       " 'finland',\n",
       " 'janusputkonen',\n",
       " 'johanbackman',\n",
       " 'prorussia',\n",
       " 'russia',\n",
       " 'tiktok',\n",
       " 'prorussia',\n",
       " 'prorussia',\n",
       " 'prorussia',\n",
       " 'mariuopol',\n",
       " 'kyiv',\n",
       " 'peacetalks',\n",
       " 'ukraine',\n",
       " 'disinformation',\n",
       " 'prorussia',\n",
       " 'ukrainerussianwar',\n",
       " 'ukraine',\n",
       " 'kharkhiv',\n",
       " 'russianarmy',\n",
       " 'prorussia',\n",
       " 'china',\n",
       " 'prorussia',\n",
       " 'sentiment',\n",
       " 'tiktok',\n",
       " 'republican',\n",
       " 'prorussia',\n",
       " 'prorussia',\n",
       " 'racism',\n",
       " 'antiamerica',\n",
       " 'prorussia',\n",
       " 'propaganda',\n",
       " 'seanhannity',\n",
       " 'maga',\n",
       " 'trigger',\n",
       " 'goputinparty',\n",
       " 'retrumplickers',\n",
       " 'prorussia',\n",
       " 'yesmaster',\n",
       " 'prorussia',\n",
       " 'goputinparty',\n",
       " 'retrumplicker',\n",
       " 'trailerparkbarbie',\n",
       " 'hsdropout',\n",
       " 'prorussia',\n",
       " 'germany',\n",
       " 'ukraine',\n",
       " 'nileswilliamson',\n",
       " 'ukrainiangovernment',\n",
       " 'fascistthugs',\n",
       " 'prorussia',\n",
       " 'civilians',\n",
       " 'donetsk',\n",
       " 'russia',\n",
       " 'prorussia',\n",
       " 'stopgenocide',\n",
       " 'prorussia',\n",
       " 'cyprus',\n",
       " 'prorussia',\n",
       " 'russian',\n",
       " 'ukrainerussianwar',\n",
       " 'pfizerdocuments',\n",
       " 'nato',\n",
       " 'russia',\n",
       " 'unvaccinated',\n",
       " 'prorussia',\n",
       " 'ukrainerussiawar',\n",
       " 'covid',\n",
       " 'rightsideofhistory',\n",
       " 'prorussia',\n",
       " 'antiamerica',\n",
       " 'antiamerica',\n",
       " 'prorussia',\n",
       " 'prorussia',\n",
       " 'antiusa',\n",
       " 'fuckputin',\n",
       " 'prorussia',\n",
       " 'breakingnews',\n",
       " 'russia',\n",
       " 'prorussia',\n",
       " 'yesplease',\n",
       " 'russianlies',\n",
       " 'propaganda',\n",
       " 'lavrov',\n",
       " 'peskov',\n",
       " 'putin',\n",
       " 'russiaout',\n",
       " 'ukraine\\\\ufef',\n",
       " 'ucraina',\n",
       " 'standwithukraine',\n",
       " 'tiktok',\n",
       " 'fullofschmitt',\n",
       " 'prorussia',\n",
       " 'prorussia',\n",
       " 'russiawarcrimes',\n",
       " 'prorussia',\n",
       " 'putinisawarcriminal',\n",
       " 'tiktok',\n",
       " 'prorussia',\n",
       " 'slavaukraini',\n",
       " 'proputin',\n",
       " 'vladimirputin',\n",
       " 'ukrain',\n",
       " 'ukrainwar',\n",
       " 'stopwar',\n",
       " 'bocha',\n",
       " 'russiaukrainewar',\n",
       " 'zelensky',\n",
       " 'bochamassacre',\n",
       " 'prorussia',\n",
       " 'slavaukraini',\n",
       " 'proputin',\n",
       " 'vladimirputin',\n",
       " 'ukrain',\n",
       " 'ukrainwar',\n",
       " 'stopwar',\n",
       " 'bocha',\n",
       " 'russiaukrainewar',\n",
       " 'isis',\n",
       " 'syria',\n",
       " 'prorussia',\n",
       " 'slavaukraini',\n",
       " 'proputin',\n",
       " 'vladimirputin',\n",
       " 'ukrain',\n",
       " 'ukrainwar',\n",
       " 'stopwar',\n",
       " 'bocha',\n",
       " 'russiaukrainewar',\n",
       " 'prorussia',\n",
       " 'slavaukraini',\n",
       " 'proputin',\n",
       " 'vladimirputin',\n",
       " 'ukrain',\n",
       " 'ukrainwar',\n",
       " 'stopwar',\n",
       " 'bocha',\n",
       " 'russiaukrainewar',\n",
       " 'prorussia',\n",
       " 'slavaukraini',\n",
       " 'proputin',\n",
       " 'vladimirputin',\n",
       " 'ukrain',\n",
       " 'ukrainwar',\n",
       " 'stopwar',\n",
       " 'bocha',\n",
       " 'abiytoicc',\n",
       " 'republican',\n",
       " 'fascism',\n",
       " 'nazism',\n",
       " 'rwnj',\n",
       " 'dumbassery',\n",
       " 'prorussia',\n",
       " 'proputin',\n",
       " 'antiamerican',\n",
       " 'prorussia',\n",
       " 'propedophile',\n",
       " 'prowhitesupremacy',\n",
       " 'liar',\n",
       " 'prorussia',\n",
       " 'traitor',\n",
       " 'bucha',\n",
       " '\\\\u\\\\u\\\\u\\\\u',\n",
       " '\\\\ud\\\\ufc\\\\uc\\\\uf',\n",
       " 'putinwarcriminal',\n",
       " '\\\\ua\\\\uaf\\\\ue\\\\ua\\\\uca\\\\uc\\\\ue',\n",
       " '\\\\ub\\\\ua\\\\uce\\\\ub\\\\ua\\\\uc',\n",
       " '\\\\ued\\\\ub\\\\ua',\n",
       " '\\\\ue\\\\ud\\\\ue\\\\ua',\n",
       " '\\\\ud\\\\uc\\\\ue\\\\u\\\\ubba',\n",
       " '\\\\ued\\\\ub\\\\ua\\\\ueba',\n",
       " '\\\\ud\\\\uc\\\\ue\\\\uff\\\\uc',\n",
       " '\\\\ubc\\\\uec\\\\uf\\\\ub\\\\uad\\\\ufc\\\\ucf',\n",
       " 'antiamerican',\n",
       " 'prorussia',\n",
       " 'domesticterrorist',\n",
       " 'qanoncult',\n",
       " 'cult',\n",
       " 'qanon',\n",
       " 'liar',\n",
       " 'brainwashed',\n",
       " 'prorussia',\n",
       " 'buchamassacre',\n",
       " 'hypocrisy',\n",
       " 'racist',\n",
       " 'bigots',\n",
       " 'whitesupremacy',\n",
       " 'pedofils',\n",
       " 'traitors',\n",
       " 'antiworker',\n",
       " 'bigbusiness',\n",
       " 'antichoice',\n",
       " 'antilgbtq',\n",
       " 'antiequalrights',\n",
       " 'anticonstitution',\n",
       " 'antichildandfamily',\n",
       " 'antieducation',\n",
       " 'prorussia',\n",
       " 'profacism',\n",
       " 'prorussia',\n",
       " 'motorcade',\n",
       " 'berlin',\n",
       " 'russians',\n",
       " 'germany',\n",
       " 'democracy',\n",
       " 'putin',\n",
       " 'ukraineinvasion',\n",
       " 'prorussia',\n",
       " 'antiamerican',\n",
       " 'buchamasacre',\n",
       " 'prorussia',\n",
       " 'conspiracynut',\n",
       " 'idiots',\n",
       " 'prorussia',\n",
       " 'conspiracynut',\n",
       " 'idiots',\n",
       " 'prorussia',\n",
       " 'idiots',\n",
       " 'conspiracynut',\n",
       " 'braindead',\n",
       " 'conspiracynut',\n",
       " 'idots',\n",
       " 'prorussia',\n",
       " 'prorussia',\n",
       " 'conspiracynut',\n",
       " 'idiots',\n",
       " 'autokorso',\n",
       " 'berlin',\n",
       " 'prorussia',\n",
       " 'putin',\n",
       " 'ukraine',\n",
       " 'prorussia',\n",
       " 'warinukraine',\n",
       " 'india',\n",
       " 'russia',\n",
       " 'ukraine\\\\ufef',\n",
       " 'europe',\n",
       " 'india',\n",
       " 'prorussia',\n",
       " 'india',\n",
       " 'antilowdrugprice',\n",
       " 'antiinfrstructurestre',\n",
       " 'bigot',\n",
       " 'antifreeelections',\n",
       " 'antiukraine',\n",
       " 'antielection',\n",
       " 'prorussia',\n",
       " 'julyfourthrussian',\n",
       " 'kickbackron',\n",
       " 'russia',\n",
       " 'russianarmy',\n",
       " 'prorussia',\n",
       " 'germany',\n",
       " 'stopputinnow',\n",
       " 'slavaukraini',\n",
       " 'prorussia',\n",
       " 'russiaukraineconflict',\n",
       " 'tiktok',\n",
       " 'tiktok',\n",
       " 'tiktok',\n",
       " 'defundbergman',\n",
       " 'tiktok',\n",
       " 'prorussia',\n",
       " 'tiktok',\n",
       " 'putin',\n",
       " 'prorussia',\n",
       " 'banthewordz',\n",
       " 'germany',\n",
       " 'russia',\n",
       " 'putin',\n",
       " 'russiaukraineconflict',\n",
       " 'allowaccesstotigray',\n",
       " 'actnow',\n",
       " 'thegreattranslationmovement',\n",
       " 'china',\n",
       " 'chinese',\n",
       " 'prorussia',\n",
       " 'twitch',\n",
       " 'twitchaffiliate',\n",
       " 'twitchstreamer',\n",
       " 'twitchtv',\n",
       " 'russia',\n",
       " 'prorussia',\n",
       " 'ukraine',\n",
       " 'antifascist',\n",
       " 'profreedom',\n",
       " 'expandyourmind',\n",
       " 'liberalhypocrisy',\n",
       " 'prorussia',\n",
       " 'ukraine',\n",
       " 'zelenskyy',\n",
       " 'prorussia',\n",
       " 'proputin',\n",
       " 'procommunism',\n",
       " 'proautocrat',\n",
       " 'prodictator',\n",
       " 'procoup',\n",
       " 'progoptraitors',\n",
       " 'prorussia',\n",
       " 'proputin',\n",
       " 'procommunism',\n",
       " 'proautocrat',\n",
       " 'prodictator',\n",
       " 'procoup',\n",
       " 'progoptraitors',\n",
       " 'endtigraysiege',\n",
       " 'supporthractnow',\n",
       " 'goppartyoftrump',\n",
       " 'prorussia',\n",
       " 'antiamerica',\n",
       " 'proamerica',\n",
       " 'protrump',\n",
       " 'prorussia',\n",
       " 'dictatorship',\n",
       " 'moscowmitch',\n",
       " 'prochina',\n",
       " 'prodprk',\n",
       " 'prorussia',\n",
       " 'antinato',\n",
       " 'wwiii',\n",
       " 'antiusa',\n",
       " 'cubalove',\n",
       " 'iranlove',\n",
       " 'newworldorder',\n",
       " 'wargames',\n",
       " 'globalconquest',\n",
       " 'utopia',\n",
       " 'intelligencerule',\n",
       " 'enddemocracy',\n",
       " 'worldcrimes',\n",
       " 'judgmentday',\n",
       " 'ukraine',\n",
       " 'ironcurtain',\n",
       " 'prorussia',\n",
       " 'tuckercarlson',\n",
       " 'donestk',\n",
       " 'donbass',\n",
       " 'prorussia',\n",
       " 'russia',\n",
       " 'russian',\n",
       " 'russianinvasion',\n",
       " 'ukrainerussia',\n",
       " 'kiev',\n",
       " 'ukraineunderattack',\n",
       " 'chechen',\n",
       " 'kherson',\n",
       " 'russia',\n",
       " 'russiaukraine',\n",
       " 'ukraineconflict',\n",
       " 'russianlosses',\n",
       " 'slav',\n",
       " 'slavic',\n",
       " 'kyiv',\n",
       " 'vucic',\n",
       " 'orban',\n",
       " 'dodik',\n",
       " 'covic',\n",
       " 'ukraine',\n",
       " 'vucic',\n",
       " 'orban',\n",
       " 'dodik',\n",
       " 'covic',\n",
       " 'ukraine',\n",
       " 'vucic',\n",
       " 'orban',\n",
       " 'dodik',\n",
       " 'covic',\n",
       " 'vucic',\n",
       " 'orban',\n",
       " 'dodik',\n",
       " 'covic',\n",
       " 'prorussia',\n",
       " 'prorussia',\n",
       " 'facists',\n",
       " 'canadian',\n",
       " 'russiainvasion',\n",
       " 'russianpropaganda',\n",
       " 'conspiracytheories',\n",
       " 'rightwing',\n",
       " 'prorussia',\n",
       " 'anna',\n",
       " 'prorussia',\n",
       " 'crimesagainsthumanity',\n",
       " 'syria',\n",
       " 'graffiti',\n",
       " 'ukrainewar',\n",
       " 'prorussia',\n",
       " 'prorussia',\n",
       " 'ukraine',\n",
       " 'ukraine',\n",
       " 'trump',\n",
       " 'impeached',\n",
       " 'ukraine',\n",
       " 'putin',\n",
       " 'nato',\n",
       " 'russia',\n",
       " 'belgrade',\n",
       " 'prorussia',\n",
       " 'yugoslavia',\n",
       " 'prorussia',\n",
       " 'prorussia',\n",
       " 'corruptgop',\n",
       " 'ukraine',\n",
       " 'russia',\n",
       " 'syria',\n",
       " 'syriarussia',\n",
       " 'istandwithrussia',\n",
       " 'istandwithputin',\n",
       " 'standwithrussia',\n",
       " 'standwithputin',\n",
       " 'syrians',\n",
       " 'prorussia',\n",
       " 'proputin',\n",
       " 'prorussia',\n",
       " 'expelmarjorietaylorgreene',\n",
       " 'mtgstandswithputin',\n",
       " 'mtgstandswithrussia',\n",
       " 'goptraitors',\n",
       " 'goptherussianpartyoftraitors',\n",
       " 'goprussianassets']"
      ]
     },
     "execution_count": 41,
     "metadata": {},
     "output_type": "execute_result"
    }
   ],
   "source": [
    "hashtag"
   ]
  },
  {
   "cell_type": "code",
   "execution_count": 42,
   "metadata": {},
   "outputs": [],
   "source": [
    "tag={}\n",
    "for e in hashtag:\n",
    "    tag[e]=hashtag.count(e)"
   ]
  },
  {
   "cell_type": "code",
   "execution_count": 43,
   "metadata": {},
   "outputs": [
    {
     "data": {
      "text/plain": [
       "{'ukraine': 24,\n",
       " 'ukrainerussiawar': 5,\n",
       " 'news': 2,\n",
       " 'putin': 13,\n",
       " 'russia': 28,\n",
       " 'azovstal': 1,\n",
       " 'duma': 1,\n",
       " 'prisoner': 1,\n",
       " 'terrorism': 1,\n",
       " 'nazism': 2,\n",
       " 'surrer': 1,\n",
       " 'socialmedia': 1,\n",
       " 'fake': 2,\n",
       " 'iceland': 1,\n",
       " 'italian': 2,\n",
       " 'hungary': 1,\n",
       " 'prorussia': 129,\n",
       " 'infosecuritymag': 1,\n",
       " 'stupidpeopledoesstupidthings': 1,\n",
       " 'stoprussianinsanity': 1,\n",
       " 'fckptn': 1,\n",
       " 'infosecmag': 1,\n",
       " 'resumodasemana': 1,\n",
       " 'eurovision': 1,\n",
       " 'cyberattacks': 1,\n",
       " 'eurovisionsongcontest': 1,\n",
       " 'hackers': 1,\n",
       " 'cybercriminals': 1,\n",
       " 'killnet': 1,\n",
       " 'legion': 1,\n",
       " 'eurovison': 1,\n",
       " 'ddos': 1,\n",
       " 'websites': 1,\n",
       " 'cyberthreats': 1,\n",
       " 'cybersecurity': 4,\n",
       " 'networksecurity': 1,\n",
       " 'cyberdefence': 1,\n",
       " 'security': 1,\n",
       " 'cybersecurite': 1,\n",
       " 'infosec': 1,\n",
       " 'ruzzia': 1,\n",
       " 'orcs': 1,\n",
       " 'warcrimes': 2,\n",
       " 'tiktok': 16,\n",
       " 'leaders': 3,\n",
       " 'germany': 7,\n",
       " 'france': 3,\n",
       " 'minsk': 2,\n",
       " 'peaceplans': 1,\n",
       " 'conflifctofinterest': 1,\n",
       " 'china': 6,\n",
       " 'chinese': 3,\n",
       " 'russian': 7,\n",
       " 'autocracies': 2,\n",
       " 'exposecorruption': 1,\n",
       " 'gemany': 1,\n",
       " 'warineurope': 1,\n",
       " 'democracy': 3,\n",
       " 'capitulate': 1,\n",
       " 'moscow': 1,\n",
       " 'bashar_asad': 6,\n",
       " 'saudia': 6,\n",
       " '\\\\u\\\\u\\\\ue\\\\u\\\\u\\\\u\\\\u__\\\\ud\\\\ua\\\\u\\\\u\\\\ua__\\\\u\\\\u\\\\u\\\\u\\\\u\\\\u\\\\u': 6,\n",
       " 'pronorthkorea': 1,\n",
       " 'whathappened': 1,\n",
       " 'proputin': 17,\n",
       " 'proappeasement': 1,\n",
       " 'prousa': 6,\n",
       " 'proeurope': 1,\n",
       " 'prodemocracy': 1,\n",
       " 'beerhallputsch': 1,\n",
       " 'putinwarcriminal': 5,\n",
       " 'ukraine\\\\ufef': 4,\n",
       " 'imrankhan': 1,\n",
       " 'propakistani': 1,\n",
       " 'proxywar': 1,\n",
       " 'viktormedvedchuk': 1,\n",
       " 'traitor': 3,\n",
       " 'oligarch': 1,\n",
       " 'treason': 1,\n",
       " 'presidentialelection': 1,\n",
       " 'vladimirputin': 7,\n",
       " 'medvedchuk': 1,\n",
       " 'moscowmitch': 2,\n",
       " 'mitchmcconnell': 1,\n",
       " 'paulryan': 1,\n",
       " 'trump': 2,\n",
       " 'actnow': 2,\n",
       " 'heroesofukraine': 1,\n",
       " 'stopputinswarnow': 1,\n",
       " 'corrupt': 1,\n",
       " 'prodirtymoney': 1,\n",
       " 'ricksantorum': 1,\n",
       " 'nooneworldgov': 1,\n",
       " 'antinuclear': 1,\n",
       " 'prosoveriagn': 1,\n",
       " 'kremlpropaganda': 1,\n",
       " 'mediarisk': 1,\n",
       " 'theguardian': 1,\n",
       " 'pr_people': 1,\n",
       " 'antiukraine': 2,\n",
       " 'randpaul': 1,\n",
       " 'bosnia': 1,\n",
       " 'moldova': 1,\n",
       " 'conflict': 1,\n",
       " 'explosions': 1,\n",
       " 'transnistria': 1,\n",
       " 'wars': 1,\n",
       " 'rumoursofwars': 1,\n",
       " 'easteurope': 1,\n",
       " 'prophecyinrealtime': 1,\n",
       " 'signsofthetimes': 1,\n",
       " 'matthew': 1,\n",
       " 'loser': 1,\n",
       " 'goputinparty': 3,\n",
       " 'fullofschmitt': 2,\n",
       " 'insurrectionists': 1,\n",
       " 'antivaxxer': 1,\n",
       " 'antimasker': 1,\n",
       " 'trumpist': 1,\n",
       " 'wipolitics': 2,\n",
       " 'extremerightwing': 1,\n",
       " 'zerocred': 1,\n",
       " 'mali': 1,\n",
       " 'russianlovingdictatorwannabeliar': 1,\n",
       " 'russianchinaasset': 1,\n",
       " 'putinpuppet': 1,\n",
       " 'antiamerica': 5,\n",
       " 'macron': 1,\n",
       " 'lepen': 1,\n",
       " 'russianwarcrimes': 1,\n",
       " 'serbia': 4,\n",
       " 'vucic': 5,\n",
       " 'putinsupport': 1,\n",
       " 'russiainvadedukraine': 2,\n",
       " 'weareallukraine': 2,\n",
       " 'russiaembargo': 2,\n",
       " 'bluein': 1,\n",
       " 'iamwithbiden': 1,\n",
       " 'partyofabelinclon': 1,\n",
       " 'fascismfrily': 1,\n",
       " 'foxnewsairsinrussia': 1,\n",
       " 'rumpfriswithputin': 1,\n",
       " 'unamerican': 1,\n",
       " 'thepercentersarefasciststoo': 1,\n",
       " 'propagamda': 1,\n",
       " 'ferment': 1,\n",
       " 'frzymaszzputinem': 1,\n",
       " 'donbass': 2,\n",
       " '\\\\u\\\\ue\\\\ud\\\\u\\\\u\\\\u\\\\u': 1,\n",
       " 'donetsk': 2,\n",
       " '\\\\u\\\\ue\\\\ud\\\\u\\\\u\\\\ua': 1,\n",
       " 'lugansk': 1,\n",
       " '\\\\ub\\\\u\\\\u\\\\u\\\\ud\\\\u\\\\ua': 1,\n",
       " 'novorossia': 1,\n",
       " '\\\\ud\\\\ue\\\\u\\\\ue\\\\u\\\\ue\\\\u\\\\u\\\\u\\\\uf': 1,\n",
       " 'falseflag': 1,\n",
       " 'ukrainiannazis': 1,\n",
       " 'nileswilliamson': 2,\n",
       " 'ukrainiangovt': 1,\n",
       " 'fascistthugs': 2,\n",
       " 'serbs': 2,\n",
       " 'protest': 1,\n",
       " 'belgrade': 3,\n",
       " 'supportrussia': 1,\n",
       " 'nato': 5,\n",
       " 'zelenskyy': 2,\n",
       " 'putinswarcrimes': 1,\n",
       " 'ukraineunderattack': 2,\n",
       " 'ukrainerussianwar': 3,\n",
       " 'russiaukraine': 2,\n",
       " 'russiaukrainewarupdate': 1,\n",
       " 'sanctionsrussia': 1,\n",
       " 'russiasanctions': 1,\n",
       " 'russianpropaganda': 2,\n",
       " 'bloggers': 1,\n",
       " 'contentcreators': 1,\n",
       " 'proukraine': 2,\n",
       " 'istandwithputin': 2,\n",
       " 'genocide': 1,\n",
       " 'slavaukraini': 8,\n",
       " 'labour': 1,\n",
       " 'antisemitic': 1,\n",
       " 'antiuk': 1,\n",
       " 'shanghaicooperationorganisation': 1,\n",
       " 'madness': 1,\n",
       " 'serbian': 1,\n",
       " 'european': 1,\n",
       " 'neutral': 1,\n",
       " 'ukrainerape': 1,\n",
       " 'ukrain': 6,\n",
       " 'ukrainwar': 6,\n",
       " 'stopwar': 6,\n",
       " 'bocha': 6,\n",
       " 'russiaukrainewar': 5,\n",
       " 'zelensky': 2,\n",
       " 'bochamassacre': 2,\n",
       " 'ralfstegner': 1,\n",
       " 'putinsupporter': 1,\n",
       " 'troll': 1,\n",
       " 'covidiot': 1,\n",
       " 'spam': 1,\n",
       " 'russianarmy': 3,\n",
       " 'hallitus': 1,\n",
       " 'russiannavy': 1,\n",
       " 'moskva': 1,\n",
       " 'antiputin': 1,\n",
       " 'russians': 2,\n",
       " 'rally': 1,\n",
       " 'mariupol': 1,\n",
       " 'geolocation': 1,\n",
       " 'anonymous': 1,\n",
       " 'finland': 1,\n",
       " 'janusputkonen': 1,\n",
       " 'johanbackman': 1,\n",
       " 'mariuopol': 1,\n",
       " 'kyiv': 2,\n",
       " 'peacetalks': 1,\n",
       " 'disinformation': 1,\n",
       " 'kharkhiv': 1,\n",
       " 'sentiment': 1,\n",
       " 'republican': 2,\n",
       " 'racism': 1,\n",
       " 'propaganda': 2,\n",
       " 'seanhannity': 1,\n",
       " 'maga': 1,\n",
       " 'trigger': 1,\n",
       " 'retrumplickers': 1,\n",
       " 'yesmaster': 1,\n",
       " 'retrumplicker': 1,\n",
       " 'trailerparkbarbie': 1,\n",
       " 'hsdropout': 1,\n",
       " 'ukrainiangovernment': 1,\n",
       " 'civilians': 1,\n",
       " 'stopgenocide': 1,\n",
       " 'cyprus': 1,\n",
       " 'pfizerdocuments': 1,\n",
       " 'unvaccinated': 1,\n",
       " 'covid': 1,\n",
       " 'rightsideofhistory': 1,\n",
       " 'antiusa': 2,\n",
       " 'fuckputin': 1,\n",
       " 'breakingnews': 1,\n",
       " 'yesplease': 1,\n",
       " 'russianlies': 1,\n",
       " 'lavrov': 1,\n",
       " 'peskov': 1,\n",
       " 'russiaout': 1,\n",
       " 'ucraina': 1,\n",
       " 'standwithukraine': 1,\n",
       " 'russiawarcrimes': 1,\n",
       " 'putinisawarcriminal': 1,\n",
       " 'isis': 1,\n",
       " 'syria': 3,\n",
       " 'abiytoicc': 1,\n",
       " 'fascism': 1,\n",
       " 'rwnj': 1,\n",
       " 'dumbassery': 1,\n",
       " 'antiamerican': 3,\n",
       " 'propedophile': 1,\n",
       " 'prowhitesupremacy': 1,\n",
       " 'liar': 2,\n",
       " 'bucha': 1,\n",
       " '\\\\u\\\\u\\\\u\\\\u': 1,\n",
       " '\\\\ud\\\\ufc\\\\uc\\\\uf': 1,\n",
       " '\\\\ua\\\\uaf\\\\ue\\\\ua\\\\uca\\\\uc\\\\ue': 1,\n",
       " '\\\\ub\\\\ua\\\\uce\\\\ub\\\\ua\\\\uc': 1,\n",
       " '\\\\ued\\\\ub\\\\ua': 1,\n",
       " '\\\\ue\\\\ud\\\\ue\\\\ua': 1,\n",
       " '\\\\ud\\\\uc\\\\ue\\\\u\\\\ubba': 1,\n",
       " '\\\\ued\\\\ub\\\\ua\\\\ueba': 1,\n",
       " '\\\\ud\\\\uc\\\\ue\\\\uff\\\\uc': 1,\n",
       " '\\\\ubc\\\\uec\\\\uf\\\\ub\\\\uad\\\\ufc\\\\ucf': 1,\n",
       " 'domesticterrorist': 1,\n",
       " 'qanoncult': 1,\n",
       " 'cult': 1,\n",
       " 'qanon': 1,\n",
       " 'brainwashed': 1,\n",
       " 'buchamassacre': 1,\n",
       " 'hypocrisy': 1,\n",
       " 'racist': 1,\n",
       " 'bigots': 1,\n",
       " 'whitesupremacy': 1,\n",
       " 'pedofils': 1,\n",
       " 'traitors': 1,\n",
       " 'antiworker': 1,\n",
       " 'bigbusiness': 1,\n",
       " 'antichoice': 1,\n",
       " 'antilgbtq': 1,\n",
       " 'antiequalrights': 1,\n",
       " 'anticonstitution': 1,\n",
       " 'antichildandfamily': 1,\n",
       " 'antieducation': 1,\n",
       " 'profacism': 1,\n",
       " 'motorcade': 1,\n",
       " 'berlin': 2,\n",
       " 'ukraineinvasion': 1,\n",
       " 'buchamasacre': 1,\n",
       " 'conspiracynut': 5,\n",
       " 'idiots': 4,\n",
       " 'braindead': 1,\n",
       " 'idots': 1,\n",
       " 'autokorso': 1,\n",
       " 'warinukraine': 1,\n",
       " 'india': 3,\n",
       " 'europe': 1,\n",
       " 'antilowdrugprice': 1,\n",
       " 'antiinfrstructurestre': 1,\n",
       " 'bigot': 1,\n",
       " 'antifreeelections': 1,\n",
       " 'antielection': 1,\n",
       " 'julyfourthrussian': 1,\n",
       " 'kickbackron': 1,\n",
       " 'stopputinnow': 1,\n",
       " 'russiaukraineconflict': 2,\n",
       " 'defundbergman': 1,\n",
       " 'banthewordz': 1,\n",
       " 'allowaccesstotigray': 1,\n",
       " 'thegreattranslationmovement': 1,\n",
       " 'twitch': 1,\n",
       " 'twitchaffiliate': 1,\n",
       " 'twitchstreamer': 1,\n",
       " 'twitchtv': 1,\n",
       " 'antifascist': 1,\n",
       " 'profreedom': 1,\n",
       " 'expandyourmind': 1,\n",
       " 'liberalhypocrisy': 1,\n",
       " 'procommunism': 2,\n",
       " 'proautocrat': 2,\n",
       " 'prodictator': 2,\n",
       " 'procoup': 2,\n",
       " 'progoptraitors': 2,\n",
       " 'endtigraysiege': 1,\n",
       " 'supporthractnow': 1,\n",
       " 'goppartyoftrump': 1,\n",
       " 'proamerica': 1,\n",
       " 'protrump': 1,\n",
       " 'dictatorship': 1,\n",
       " 'prochina': 1,\n",
       " 'prodprk': 1,\n",
       " 'antinato': 1,\n",
       " 'wwiii': 1,\n",
       " 'cubalove': 1,\n",
       " 'iranlove': 1,\n",
       " 'newworldorder': 1,\n",
       " 'wargames': 1,\n",
       " 'globalconquest': 1,\n",
       " 'utopia': 1,\n",
       " 'intelligencerule': 1,\n",
       " 'enddemocracy': 1,\n",
       " 'worldcrimes': 1,\n",
       " 'judgmentday': 1,\n",
       " 'ironcurtain': 1,\n",
       " 'tuckercarlson': 1,\n",
       " 'donestk': 1,\n",
       " 'russianinvasion': 1,\n",
       " 'ukrainerussia': 1,\n",
       " 'kiev': 1,\n",
       " 'chechen': 1,\n",
       " 'kherson': 1,\n",
       " 'ukraineconflict': 1,\n",
       " 'russianlosses': 1,\n",
       " 'slav': 1,\n",
       " 'slavic': 1,\n",
       " 'orban': 4,\n",
       " 'dodik': 4,\n",
       " 'covic': 4,\n",
       " 'facists': 1,\n",
       " 'canadian': 1,\n",
       " 'russiainvasion': 1,\n",
       " 'conspiracytheories': 1,\n",
       " 'rightwing': 1,\n",
       " 'anna': 1,\n",
       " 'crimesagainsthumanity': 1,\n",
       " 'graffiti': 1,\n",
       " 'ukrainewar': 1,\n",
       " 'impeached': 1,\n",
       " 'yugoslavia': 1,\n",
       " 'corruptgop': 1,\n",
       " 'syriarussia': 1,\n",
       " 'istandwithrussia': 1,\n",
       " 'standwithrussia': 1,\n",
       " 'standwithputin': 1,\n",
       " 'syrians': 1,\n",
       " 'expelmarjorietaylorgreene': 1,\n",
       " 'mtgstandswithputin': 1,\n",
       " 'mtgstandswithrussia': 1,\n",
       " 'goptraitors': 1,\n",
       " 'goptherussianpartyoftraitors': 1,\n",
       " 'goprussianassets': 1}"
      ]
     },
     "execution_count": 43,
     "metadata": {},
     "output_type": "execute_result"
    }
   ],
   "source": [
    "tag"
   ]
  },
  {
   "cell_type": "code",
   "execution_count": 44,
   "metadata": {},
   "outputs": [
    {
     "name": "stdout",
     "output_type": "stream",
     "text": [
      "{'prorussia': 129, 'russia': 28, 'ukraine': 24, 'proputin': 17, 'tiktok': 16, 'putin': 13, 'slavaukraini': 8, 'germany': 7, 'russian': 7, 'vladimirputin': 7, '\\\\u\\\\u\\\\ue\\\\u\\\\u\\\\u\\\\u__\\\\ud\\\\ua\\\\u\\\\u\\\\ua__\\\\u\\\\u\\\\u\\\\u\\\\u\\\\u\\\\u': 6, 'bashar_asad': 6, 'bocha': 6, 'china': 6, 'prousa': 6, 'saudia': 6, 'stopwar': 6, 'ukrain': 6, 'ukrainwar': 6, 'antiamerica': 5, 'conspiracynut': 5, 'nato': 5, 'putinwarcriminal': 5, 'russiaukrainewar': 5, 'ukrainerussiawar': 5, 'vucic': 5, 'covic': 4, 'cybersecurity': 4, 'dodik': 4, 'idiots': 4, 'orban': 4, 'serbia': 4, 'ukraine\\\\ufef': 4, 'antiamerican': 3, 'belgrade': 3, 'chinese': 3, 'democracy': 3, 'france': 3, 'goputinparty': 3, 'india': 3, 'leaders': 3, 'russianarmy': 3, 'syria': 3, 'traitor': 3, 'ukrainerussianwar': 3, 'actnow': 2, 'antiukraine': 2, 'antiusa': 2, 'autocracies': 2, 'berlin': 2, 'bochamassacre': 2, 'donbass': 2, 'donetsk': 2, 'fake': 2, 'fascistthugs': 2, 'fullofschmitt': 2, 'istandwithputin': 2, 'italian': 2, 'kyiv': 2, 'liar': 2, 'minsk': 2, 'moscowmitch': 2, 'nazism': 2, 'news': 2, 'nileswilliamson': 2, 'proautocrat': 2, 'procommunism': 2, 'procoup': 2, 'prodictator': 2, 'progoptraitors': 2, 'propaganda': 2, 'proukraine': 2, 'republican': 2, 'russiaembargo': 2, 'russiainvadedukraine': 2, 'russianpropaganda': 2, 'russians': 2, 'russiaukraine': 2, 'russiaukraineconflict': 2, 'serbs': 2, 'trump': 2, 'ukraineunderattack': 2, 'warcrimes': 2, 'weareallukraine': 2, 'wipolitics': 2, 'zelensky': 2, 'zelenskyy': 2, '\\\\u\\\\u\\\\u\\\\u': 1, '\\\\u\\\\ue\\\\ud\\\\u\\\\u\\\\u\\\\u': 1, '\\\\u\\\\ue\\\\ud\\\\u\\\\u\\\\ua': 1, '\\\\ua\\\\uaf\\\\ue\\\\ua\\\\uca\\\\uc\\\\ue': 1, '\\\\ub\\\\u\\\\u\\\\u\\\\ud\\\\u\\\\ua': 1, '\\\\ub\\\\ua\\\\uce\\\\ub\\\\ua\\\\uc': 1, '\\\\ubc\\\\uec\\\\uf\\\\ub\\\\uad\\\\ufc\\\\ucf': 1, '\\\\ud\\\\uc\\\\ue\\\\u\\\\ubba': 1, '\\\\ud\\\\uc\\\\ue\\\\uff\\\\uc': 1, '\\\\ud\\\\ue\\\\u\\\\ue\\\\u\\\\ue\\\\u\\\\u\\\\u\\\\uf': 1, '\\\\ud\\\\ufc\\\\uc\\\\uf': 1, '\\\\ue\\\\ud\\\\ue\\\\ua': 1, '\\\\ued\\\\ub\\\\ua': 1, '\\\\ued\\\\ub\\\\ua\\\\ueba': 1, 'abiytoicc': 1, 'allowaccesstotigray': 1, 'anna': 1, 'anonymous': 1, 'antichildandfamily': 1, 'antichoice': 1, 'anticonstitution': 1, 'antieducation': 1, 'antielection': 1, 'antiequalrights': 1, 'antifascist': 1, 'antifreeelections': 1, 'antiinfrstructurestre': 1, 'antilgbtq': 1, 'antilowdrugprice': 1, 'antimasker': 1, 'antinato': 1, 'antinuclear': 1, 'antiputin': 1, 'antisemitic': 1, 'antiuk': 1, 'antivaxxer': 1, 'antiworker': 1, 'autokorso': 1, 'azovstal': 1, 'banthewordz': 1, 'beerhallputsch': 1, 'bigbusiness': 1, 'bigot': 1, 'bigots': 1, 'bloggers': 1, 'bluein': 1, 'bosnia': 1, 'braindead': 1, 'brainwashed': 1, 'breakingnews': 1, 'bucha': 1, 'buchamasacre': 1, 'buchamassacre': 1, 'canadian': 1, 'capitulate': 1, 'chechen': 1, 'civilians': 1, 'conflict': 1, 'conflifctofinterest': 1, 'conspiracytheories': 1, 'contentcreators': 1, 'corrupt': 1, 'corruptgop': 1, 'covid': 1, 'covidiot': 1, 'crimesagainsthumanity': 1, 'cubalove': 1, 'cult': 1, 'cyberattacks': 1, 'cybercriminals': 1, 'cyberdefence': 1, 'cybersecurite': 1, 'cyberthreats': 1, 'cyprus': 1, 'ddos': 1, 'defundbergman': 1, 'dictatorship': 1, 'disinformation': 1, 'domesticterrorist': 1, 'donestk': 1, 'duma': 1, 'dumbassery': 1, 'easteurope': 1, 'enddemocracy': 1, 'endtigraysiege': 1, 'europe': 1, 'european': 1, 'eurovision': 1, 'eurovisionsongcontest': 1, 'eurovison': 1, 'expandyourmind': 1, 'expelmarjorietaylorgreene': 1, 'explosions': 1, 'exposecorruption': 1, 'extremerightwing': 1, 'facists': 1, 'falseflag': 1, 'fascism': 1, 'fascismfrily': 1, 'fckptn': 1, 'ferment': 1, 'finland': 1, 'foxnewsairsinrussia': 1, 'frzymaszzputinem': 1, 'fuckputin': 1, 'gemany': 1, 'genocide': 1, 'geolocation': 1, 'globalconquest': 1, 'goppartyoftrump': 1, 'goprussianassets': 1, 'goptherussianpartyoftraitors': 1, 'goptraitors': 1, 'graffiti': 1, 'hackers': 1, 'hallitus': 1, 'heroesofukraine': 1, 'hsdropout': 1, 'hungary': 1, 'hypocrisy': 1, 'iamwithbiden': 1, 'iceland': 1, 'idots': 1, 'impeached': 1, 'imrankhan': 1, 'infosec': 1, 'infosecmag': 1, 'infosecuritymag': 1, 'insurrectionists': 1, 'intelligencerule': 1, 'iranlove': 1, 'ironcurtain': 1, 'isis': 1, 'istandwithrussia': 1, 'janusputkonen': 1, 'johanbackman': 1, 'judgmentday': 1, 'julyfourthrussian': 1, 'kharkhiv': 1, 'kherson': 1, 'kickbackron': 1, 'kiev': 1, 'killnet': 1, 'kremlpropaganda': 1, 'labour': 1, 'lavrov': 1, 'legion': 1, 'lepen': 1, 'liberalhypocrisy': 1, 'loser': 1, 'lugansk': 1, 'macron': 1, 'madness': 1, 'maga': 1, 'mali': 1, 'mariuopol': 1, 'mariupol': 1, 'matthew': 1, 'mediarisk': 1, 'medvedchuk': 1, 'mitchmcconnell': 1, 'moldova': 1, 'moscow': 1, 'moskva': 1, 'motorcade': 1, 'mtgstandswithputin': 1, 'mtgstandswithrussia': 1, 'networksecurity': 1, 'neutral': 1, 'newworldorder': 1, 'nooneworldgov': 1, 'novorossia': 1, 'oligarch': 1, 'orcs': 1, 'partyofabelinclon': 1, 'paulryan': 1, 'peaceplans': 1, 'peacetalks': 1, 'pedofils': 1, 'peskov': 1, 'pfizerdocuments': 1, 'pr_people': 1, 'presidentialelection': 1, 'prisoner': 1, 'proamerica': 1, 'proappeasement': 1, 'prochina': 1, 'prodemocracy': 1, 'prodirtymoney': 1, 'prodprk': 1, 'proeurope': 1, 'profacism': 1, 'profreedom': 1, 'pronorthkorea': 1, 'propagamda': 1, 'propakistani': 1, 'propedophile': 1, 'prophecyinrealtime': 1, 'prosoveriagn': 1, 'protest': 1, 'protrump': 1, 'prowhitesupremacy': 1, 'proxywar': 1, 'putinisawarcriminal': 1, 'putinpuppet': 1, 'putinsupport': 1, 'putinsupporter': 1, 'putinswarcrimes': 1, 'qanon': 1, 'qanoncult': 1, 'racism': 1, 'racist': 1, 'ralfstegner': 1, 'rally': 1, 'randpaul': 1, 'resumodasemana': 1, 'retrumplicker': 1, 'retrumplickers': 1, 'ricksantorum': 1, 'rightsideofhistory': 1, 'rightwing': 1, 'rumoursofwars': 1, 'rumpfriswithputin': 1, 'russiainvasion': 1, 'russianchinaasset': 1, 'russianinvasion': 1, 'russianlies': 1, 'russianlosses': 1, 'russianlovingdictatorwannabeliar': 1, 'russiannavy': 1, 'russianwarcrimes': 1, 'russiaout': 1, 'russiasanctions': 1, 'russiaukrainewarupdate': 1, 'russiawarcrimes': 1, 'ruzzia': 1, 'rwnj': 1, 'sanctionsrussia': 1, 'seanhannity': 1, 'security': 1, 'sentiment': 1, 'serbian': 1, 'shanghaicooperationorganisation': 1, 'signsofthetimes': 1, 'slav': 1, 'slavic': 1, 'socialmedia': 1, 'spam': 1, 'standwithputin': 1, 'standwithrussia': 1, 'standwithukraine': 1, 'stopgenocide': 1, 'stopputinnow': 1, 'stopputinswarnow': 1, 'stoprussianinsanity': 1, 'stupidpeopledoesstupidthings': 1, 'supporthractnow': 1, 'supportrussia': 1, 'surrer': 1, 'syrians': 1, 'syriarussia': 1, 'terrorism': 1, 'thegreattranslationmovement': 1, 'theguardian': 1, 'thepercentersarefasciststoo': 1, 'trailerparkbarbie': 1, 'traitors': 1, 'transnistria': 1, 'treason': 1, 'trigger': 1, 'troll': 1, 'trumpist': 1, 'tuckercarlson': 1, 'twitch': 1, 'twitchaffiliate': 1, 'twitchstreamer': 1, 'twitchtv': 1, 'ucraina': 1, 'ukraineconflict': 1, 'ukraineinvasion': 1, 'ukrainerape': 1, 'ukrainerussia': 1, 'ukrainewar': 1, 'ukrainiangovernment': 1, 'ukrainiangovt': 1, 'ukrainiannazis': 1, 'unamerican': 1, 'unvaccinated': 1, 'utopia': 1, 'viktormedvedchuk': 1, 'wargames': 1, 'warineurope': 1, 'warinukraine': 1, 'wars': 1, 'websites': 1, 'whathappened': 1, 'whitesupremacy': 1, 'worldcrimes': 1, 'wwiii': 1, 'yesmaster': 1, 'yesplease': 1, 'yugoslavia': 1, 'zerocred': 1}\n"
     ]
    }
   ],
   "source": [
    "tag_list=sorted((value, key) for (key,value) in tag.items())\n",
    "tag_list=sorted(tag_list,key=lambda x:x[0],reverse=True)\n",
    "tag_sorted=dict([(k,v) for v,k in tag_list ])\n",
    "print(tag_sorted)"
   ]
  },
  {
   "cell_type": "markdown",
   "metadata": {},
   "source": [
    "## ProRussia"
   ]
  },
  {
   "cell_type": "code",
   "execution_count": 5,
   "metadata": {},
   "outputs": [],
   "source": [
    "import twarc"
   ]
  },
  {
   "cell_type": "code",
   "execution_count": 6,
   "metadata": {},
   "outputs": [
    {
     "ename": "AttributeError",
     "evalue": "module 'twarc' has no attribute 'geo'",
     "output_type": "error",
     "traceback": [
      "\u001b[1;31m---------------------------------------------------------------------------\u001b[0m",
      "\u001b[1;31mAttributeError\u001b[0m                            Traceback (most recent call last)",
      "\u001b[1;32m<ipython-input-6-81f592dce55f>\u001b[0m in \u001b[0;36m<module>\u001b[1;34m\u001b[0m\n\u001b[1;32m----> 1\u001b[1;33m \u001b[0mtwarc\u001b[0m\u001b[1;33m.\u001b[0m\u001b[0mgeo\u001b[0m\u001b[1;33m(\u001b[0m\u001b[0mlat\u001b[0m\u001b[1;33m=\u001b[0m\u001b[1;36m55451332\u001b[0m\u001b[1;33m,\u001b[0m \u001b[0mlon\u001b[0m\u001b[1;33m=\u001b[0m\u001b[1;36m37369336\u001b[0m\u001b[1;33m)\u001b[0m\u001b[1;33m\u001b[0m\u001b[1;33m\u001b[0m\u001b[0m\n\u001b[0m",
      "\u001b[1;31mAttributeError\u001b[0m: module 'twarc' has no attribute 'geo'"
     ]
    }
   ],
   "source": [
    "twarc.geo(lat=55451332, lon=37369336)"
   ]
  },
  {
   "cell_type": "code",
   "execution_count": 5,
   "metadata": {},
   "outputs": [
    {
     "data": {
      "application/vnd.jupyter.widget-view+json": {
       "model_id": "2940201d24f44bd9a448f980ad1c7607",
       "version_major": 2,
       "version_minor": 0
      },
      "text/plain": [
       "Output()"
      ]
     },
     "metadata": {},
     "output_type": "display_data"
    },
    {
     "name": "stdout",
     "output_type": "stream",
     "text": [
      "Reading secret from C:\\Users\\david\\Documents\\GitHub\\ds-network-analysis\\data\\my_secrets.yaml…\n"
     ]
    },
    {
     "data": {
      "text/html": [
       "<pre style=\"white-space:pre;overflow-x:auto;line-height:normal;font-family:Menlo,'DejaVu Sans Mono',consolas,'Courier New',monospace\"></pre>\n"
      ],
      "text/plain": []
     },
     "metadata": {},
     "output_type": "display_data"
    },
    {
     "data": {
      "text/html": [
       "<pre style=\"white-space:pre;overflow-x:auto;line-height:normal;font-family:Menlo,'DejaVu Sans Mono',consolas,'Courier New',monospace\">\n",
       "</pre>\n"
      ],
      "text/plain": [
       "\n"
      ]
     },
     "metadata": {},
     "output_type": "display_data"
    }
   ],
   "source": [
    "m = SocialETL(query=\"(#war OR #putin) lang:en\", place=(55451332,37369336), pages=3, recent=False) #-is:retweet "
   ]
  },
  {
   "cell_type": "code",
   "execution_count": 11,
   "metadata": {},
   "outputs": [
    {
     "data": {
      "text/plain": [
       "0      [{\"start\": 76, \"end\": 83, \"tag\": \"Energy\"}, {\"...\n",
       "1      [{\"start\": 97, \"end\": 102, \"tag\": \"NATO\"}, {\"s...\n",
       "2      [{\"start\": 0, \"end\": 6, \"tag\": \"putin\"}, {\"sta...\n",
       "3      [{\"start\": 66, \"end\": 74, \"tag\": \"Ukraine\"}, {...\n",
       "4      [{\"start\": 0, \"end\": 8, \"tag\": \"Ukraine\"}, {\"s...\n",
       "                             ...                        \n",
       "295    [{\"start\": 0, \"end\": 8, \"tag\": \"Ukraine\"}, {\"s...\n",
       "296           [{\"start\": 182, \"end\": 186, \"tag\": \"war\"}]\n",
       "297    [{\"start\": 0, \"end\": 6, \"tag\": \"Putin\"}, {\"sta...\n",
       "298    [{\"start\": 0, \"end\": 10, \"tag\": \"Exclusive\"}, ...\n",
       "299    [{\"start\": 42, \"end\": 45, \"tag\": \"sw\"}, {\"star...\n",
       "Name: entities.hashtags, Length: 300, dtype: object"
      ]
     },
     "execution_count": 11,
     "metadata": {},
     "output_type": "execute_result"
    }
   ],
   "source": [
    "df_pro=m.df['entities.hashtags']\n",
    "df_pro"
   ]
  },
  {
   "cell_type": "code",
   "execution_count": 16,
   "metadata": {},
   "outputs": [],
   "source": [
    "df_pro=df_pro.fillna(\"0\")"
   ]
  },
  {
   "cell_type": "code",
   "execution_count": 19,
   "metadata": {},
   "outputs": [],
   "source": [
    "repl=[\"1\",\"2\",\"3\",\"4\",\"5\",\"6\",\"7\",\"8\",\"9\",\"0\",\"start\",\"end\", \"tag\",\"[\",\"{\",\"}\",\"]\", \":\",\",\",\"\\\"\"]\n",
    "for e in repl:\n",
    "    df_pro=df_pro.replace(e,\"\")"
   ]
  },
  {
   "cell_type": "code",
   "execution_count": 20,
   "metadata": {},
   "outputs": [],
   "source": [
    "df_pro=df_pro.apply(str).map(str.lower)"
   ]
  },
  {
   "cell_type": "code",
   "execution_count": 21,
   "metadata": {},
   "outputs": [],
   "source": [
    "df_pro=df_pro.apply(str).map(str.strip)"
   ]
  },
  {
   "cell_type": "code",
   "execution_count": 22,
   "metadata": {},
   "outputs": [],
   "source": [
    "df_pro=df_pro.apply(str).map(str.split)"
   ]
  },
  {
   "cell_type": "code",
   "execution_count": 23,
   "metadata": {},
   "outputs": [],
   "source": [
    "hashtag=list()\n",
    "size=len(df_pro)\n",
    "for i in range(0,size):\n",
    "    for e in df_pro[i]:\n",
    "        if len(e)>=4:\n",
    "            hashtag.append(e)"
   ]
  },
  {
   "cell_type": "code",
   "execution_count": 24,
   "metadata": {},
   "outputs": [],
   "source": [
    "tag={}\n",
    "for e in hashtag:\n",
    "    tag[e]=hashtag.count(e)"
   ]
  },
  {
   "cell_type": "code",
   "execution_count": 25,
   "metadata": {},
   "outputs": [
    {
     "name": "stdout",
     "output_type": "stream",
     "text": [
      "{}\n"
     ]
    }
   ],
   "source": [
    "print(tag)"
   ]
  },
  {
   "cell_type": "markdown",
   "metadata": {},
   "source": [
    "# encoding"
   ]
  },
  {
   "cell_type": "code",
   "execution_count": 1,
   "metadata": {},
   "outputs": [],
   "source": [
    "import unicodedata"
   ]
  },
  {
   "cell_type": "code",
   "execution_count": 2,
   "metadata": {},
   "outputs": [],
   "source": [
    "def convert(s):\n",
    "    return unicodedata.normalize(\n",
    "        'NFKD', s\n",
    "    ).encode(\n",
    "        'latin-1', 'ignore'\n",
    "    ).decode('latin-1')"
   ]
  },
  {
   "cell_type": "code",
   "execution_count": 3,
   "metadata": {},
   "outputs": [
    {
     "name": "stdout",
     "output_type": "stream",
     "text": [
      "Nadezda\n"
     ]
    }
   ],
   "source": [
    "s = \"Naděžda\"\n",
    "print(convert(s))"
   ]
  },
  {
   "cell_type": "code",
   "execution_count": 5,
   "metadata": {},
   "outputs": [],
   "source": [
    "s = [\"pùtin\", \"ukräine\", \"slavaukraïni\"]"
   ]
  },
  {
   "cell_type": "code",
   "execution_count": 6,
   "metadata": {},
   "outputs": [
    {
     "name": "stdout",
     "output_type": "stream",
     "text": [
      "putin\n",
      "ukraine\n",
      "slavaukraini\n"
     ]
    }
   ],
   "source": [
    "for e in s:\n",
    "    print(convert(e))"
   ]
  },
  {
   "cell_type": "code",
   "execution_count": null,
   "metadata": {},
   "outputs": [],
   "source": []
  }
 ],
 "metadata": {
  "colab": {
   "collapsed_sections": [],
   "name": "starting.ipynb",
   "provenance": []
  },
  "kernelspec": {
   "display_name": "Python 3 (ipykernel)",
   "language": "python",
   "name": "python3"
  },
  "language_info": {
   "codemirror_mode": {
    "name": "ipython",
    "version": 3
   },
   "file_extension": ".py",
   "mimetype": "text/x-python",
   "name": "python",
   "nbconvert_exporter": "python",
   "pygments_lexer": "ipython3",
   "version": "3.10.5"
  }
 },
 "nbformat": 4,
 "nbformat_minor": 1
}
